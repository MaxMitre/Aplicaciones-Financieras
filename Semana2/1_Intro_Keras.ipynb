{
  "nbformat": 4,
  "nbformat_minor": 0,
  "metadata": {
    "colab": {
      "provenance": []
    },
    "kernelspec": {
      "name": "python3",
      "display_name": "Python 3"
    },
    "language_info": {
      "name": "python"
    }
  },
  "cells": [
    {
      "cell_type": "markdown",
      "source": [
        "[![Open In Colab](https://colab.research.google.com/assets/colab-badge.svg)](https://colab.research.google.com/github/MaxMitre/Aplicaciones-Financieras/blob/main/Semana2/1_Intro_Keras.ipynb)"
      ],
      "metadata": {
        "id": "7349NUkNQQWW"
      }
    },
    {
      "cell_type": "markdown",
      "source": [
        "# Problema\n",
        "\n",
        "En esta semana utilizaremos el mismo DataSet para ambas sesiones. Ésta primera sesión será para analizar un problema de fraude de modo sencillo, es decir, con un clasificador binario sencillo (que nos servirá para introducir algunas herramientas).\n",
        "\n",
        "Podemos encontrar la base de datos en https://www.kaggle.com/datasets/mlg-ulb/creditcardfraud\n",
        "\n",
        "Los datos contienen transacciones realizadas mediante trarjeta de crédito en Septiembre del 2013 por titulares de tarjeta en Europa. Ocurrieron en 2 días en los que hubo 492 fraudes de 284,807 transacciones.\n",
        "\n",
        "Solo contiene variables numéricas y ya pasó por un proceso de PCA para solo quedarse con las mejores características.\n",
        "\n",
        "La columna de \"Time\" contiene los segundos ocurridos entre transacciones. \"Amount\" es la cantidad de la transacción y \"Class\" es la variable que tiene 1 en caso de fraude y 0 en caso contrario."
      ],
      "metadata": {
        "id": "uudpvvkIIXwm"
      }
    },
    {
      "cell_type": "code",
      "source": [
        "from google.colab import drive\n",
        "drive.mount('/content/drive')"
      ],
      "metadata": {
        "id": "aYYkRFOwE9HG",
        "colab": {
          "base_uri": "https://localhost:8080/"
        },
        "outputId": "bcd7bd0e-6345-49a1-c373-33c651e7b2c6"
      },
      "execution_count": null,
      "outputs": [
        {
          "output_type": "stream",
          "name": "stdout",
          "text": [
            "Mounted at /content/drive\n"
          ]
        }
      ]
    },
    {
      "cell_type": "markdown",
      "source": [
        "# Leer Datos usando un método distinto al que estamos acostumbrados"
      ],
      "metadata": {
        "id": "Lk9av5KKHYgC"
      }
    },
    {
      "cell_type": "code",
      "execution_count": null,
      "metadata": {
        "id": "EQUuvtmbEqpK",
        "colab": {
          "base_uri": "https://localhost:8080/"
        },
        "outputId": "70e510a8-3735-4c99-9458-7213097a4197"
      },
      "outputs": [
        {
          "output_type": "stream",
          "name": "stdout",
          "text": [
            "HEADER: \"Time\",\"V1\",\"V2\",\"V3\",\"V4\",\"V5\",\"V6\",\"V7\",\"V8\",\"V9\",\"V10\",\"V11\",\"V12\",\"V13\",\"V14\",\"V15\",\"V16\",\"V17\",\"V18\",\"V19\",\"V20\",\"V21\",\"V22\",\"V23\",\"V24\",\"V25\",\"V26\",\"V27\",\"V28\",\"Amount\",\"Class\"\n",
            "EJEMPLO DE CARACTERÍSTICAS: [0.0, -1.3598071336738, -0.0727811733098497, 2.53634673796914, 1.37815522427443, -0.338320769942518, 0.462387777762292, 0.239598554061257, 0.0986979012610507, 0.363786969611213, 0.0907941719789316, -0.551599533260813, -0.617800855762348, -0.991389847235408, -0.311169353699879, 1.46817697209427, -0.470400525259478, 0.207971241929242, 0.0257905801985591, 0.403992960255733, 0.251412098239705, -0.018306777944153, 0.277837575558899, -0.110473910188767, 0.0669280749146731, 0.128539358273528, -0.189114843888824, 0.133558376740387, -0.0210530534538215, 149.62]\n",
            "features.shape: (284807, 30)\n",
            "targets.shape: (284807, 1)\n"
          ]
        }
      ],
      "source": [
        "import numpy as np\n",
        "\n",
        "# Datos disponibles en https://www.kaggle.com/mlg-ulb/creditcardfraud/\n",
        "\n",
        "all_features = []\n",
        "all_targets = []\n",
        "with open('/content/drive/MyDrive/Cruso-ApsFinancieras/semana3/creditcard.csv') as f:\n",
        "    for i, line in enumerate(f):\n",
        "        if i == 0:\n",
        "            print(\"HEADER:\", line.strip())\n",
        "            continue  # Skip header\n",
        "        fields = line.strip().split(\",\")\n",
        "        all_features.append([float(v.replace('\"', \"\")) for v in fields[:-1]])\n",
        "        all_targets.append([int(fields[-1].replace('\"', \"\"))])\n",
        "        if i == 1:\n",
        "            print(\"EJEMPLO DE CARACTERÍSTICAS:\", all_features[-1])\n",
        "\n",
        "features = np.array(all_features, dtype=\"float32\")\n",
        "targets = np.array(all_targets, dtype=\"uint8\")\n",
        "print(\"features.shape:\", features.shape)\n",
        "print(\"targets.shape:\", targets.shape)"
      ]
    },
    {
      "cell_type": "code",
      "source": [
        "features"
      ],
      "metadata": {
        "id": "HVYzBROntrT8",
        "colab": {
          "base_uri": "https://localhost:8080/"
        },
        "outputId": "2f4c3abe-a4c6-4c3c-a813-4189817529c5"
      },
      "execution_count": null,
      "outputs": [
        {
          "output_type": "execute_result",
          "data": {
            "text/plain": [
              "array([[ 0.0000000e+00, -1.3598071e+00, -7.2781175e-02, ...,\n",
              "         1.3355838e-01, -2.1053053e-02,  1.4962000e+02],\n",
              "       [ 0.0000000e+00,  1.1918571e+00,  2.6615071e-01, ...,\n",
              "        -8.9830989e-03,  1.4724169e-02,  2.6900001e+00],\n",
              "       [ 1.0000000e+00, -1.3583541e+00, -1.3401631e+00, ...,\n",
              "        -5.5352796e-02, -5.9751842e-02,  3.7866000e+02],\n",
              "       ...,\n",
              "       [ 1.7278800e+05,  1.9195650e+00, -3.0125386e-01, ...,\n",
              "         4.4547720e-03, -2.6560828e-02,  6.7879997e+01],\n",
              "       [ 1.7278800e+05, -2.4044006e-01,  5.3048253e-01, ...,\n",
              "         1.0882074e-01,  1.0453282e-01,  1.0000000e+01],\n",
              "       [ 1.7279200e+05, -5.3341252e-01, -1.8973334e-01, ...,\n",
              "        -2.4153087e-03,  1.3648914e-02,  2.1700000e+02]], dtype=float32)"
            ]
          },
          "metadata": {},
          "execution_count": 3
        }
      ]
    },
    {
      "cell_type": "code",
      "source": [
        "features.shape"
      ],
      "metadata": {
        "id": "bYrTKILaP4cH",
        "colab": {
          "base_uri": "https://localhost:8080/"
        },
        "outputId": "b97855d8-a4a5-4b4d-a7a2-19dfd5c332fd"
      },
      "execution_count": null,
      "outputs": [
        {
          "output_type": "execute_result",
          "data": {
            "text/plain": [
              "(284807, 30)"
            ]
          },
          "metadata": {},
          "execution_count": 4
        }
      ]
    },
    {
      "cell_type": "code",
      "source": [
        "targets"
      ],
      "metadata": {
        "id": "FZSb7QAenD70",
        "colab": {
          "base_uri": "https://localhost:8080/"
        },
        "outputId": "977551d6-b6bf-4838-e3fa-b00fe2a8206d"
      },
      "execution_count": null,
      "outputs": [
        {
          "output_type": "execute_result",
          "data": {
            "text/plain": [
              "array([[0],\n",
              "       [0],\n",
              "       [0],\n",
              "       ...,\n",
              "       [0],\n",
              "       [0],\n",
              "       [0]], dtype=uint8)"
            ]
          },
          "metadata": {},
          "execution_count": 5
        }
      ]
    },
    {
      "cell_type": "code",
      "source": [
        "targets.shape"
      ],
      "metadata": {
        "id": "D7Yb5YfsP_tC",
        "colab": {
          "base_uri": "https://localhost:8080/"
        },
        "outputId": "b75e8a24-c28a-4cb3-9dd0-3607a57e5ecf"
      },
      "execution_count": null,
      "outputs": [
        {
          "output_type": "execute_result",
          "data": {
            "text/plain": [
              "(284807, 1)"
            ]
          },
          "metadata": {},
          "execution_count": 6
        }
      ]
    },
    {
      "cell_type": "code",
      "source": [
        "import pandas as pd\n",
        "\n",
        "en_dataframe = pd.read_csv('/content/drive/MyDrive/Cruso-ApsFinancieras/semana3/creditcard.csv')"
      ],
      "metadata": {
        "id": "FQ6OYI_RRu7F"
      },
      "execution_count": null,
      "outputs": []
    },
    {
      "cell_type": "code",
      "source": [
        "en_dataframe"
      ],
      "metadata": {
        "id": "hhkH6A1exRcf",
        "colab": {
          "base_uri": "https://localhost:8080/",
          "height": 443
        },
        "outputId": "7a7e5021-45c3-49ab-b8da-204240be4bd2"
      },
      "execution_count": null,
      "outputs": [
        {
          "output_type": "execute_result",
          "data": {
            "text/plain": [
              "            Time         V1         V2        V3        V4        V5  \\\n",
              "0            0.0  -1.359807  -0.072781  2.536347  1.378155 -0.338321   \n",
              "1            0.0   1.191857   0.266151  0.166480  0.448154  0.060018   \n",
              "2            1.0  -1.358354  -1.340163  1.773209  0.379780 -0.503198   \n",
              "3            1.0  -0.966272  -0.185226  1.792993 -0.863291 -0.010309   \n",
              "4            2.0  -1.158233   0.877737  1.548718  0.403034 -0.407193   \n",
              "...          ...        ...        ...       ...       ...       ...   \n",
              "284802  172786.0 -11.881118  10.071785 -9.834783 -2.066656 -5.364473   \n",
              "284803  172787.0  -0.732789  -0.055080  2.035030 -0.738589  0.868229   \n",
              "284804  172788.0   1.919565  -0.301254 -3.249640 -0.557828  2.630515   \n",
              "284805  172788.0  -0.240440   0.530483  0.702510  0.689799 -0.377961   \n",
              "284806  172792.0  -0.533413  -0.189733  0.703337 -0.506271 -0.012546   \n",
              "\n",
              "              V6        V7        V8        V9  ...       V21       V22  \\\n",
              "0       0.462388  0.239599  0.098698  0.363787  ... -0.018307  0.277838   \n",
              "1      -0.082361 -0.078803  0.085102 -0.255425  ... -0.225775 -0.638672   \n",
              "2       1.800499  0.791461  0.247676 -1.514654  ...  0.247998  0.771679   \n",
              "3       1.247203  0.237609  0.377436 -1.387024  ... -0.108300  0.005274   \n",
              "4       0.095921  0.592941 -0.270533  0.817739  ... -0.009431  0.798278   \n",
              "...          ...       ...       ...       ...  ...       ...       ...   \n",
              "284802 -2.606837 -4.918215  7.305334  1.914428  ...  0.213454  0.111864   \n",
              "284803  1.058415  0.024330  0.294869  0.584800  ...  0.214205  0.924384   \n",
              "284804  3.031260 -0.296827  0.708417  0.432454  ...  0.232045  0.578229   \n",
              "284805  0.623708 -0.686180  0.679145  0.392087  ...  0.265245  0.800049   \n",
              "284806 -0.649617  1.577006 -0.414650  0.486180  ...  0.261057  0.643078   \n",
              "\n",
              "             V23       V24       V25       V26       V27       V28  Amount  \\\n",
              "0      -0.110474  0.066928  0.128539 -0.189115  0.133558 -0.021053  149.62   \n",
              "1       0.101288 -0.339846  0.167170  0.125895 -0.008983  0.014724    2.69   \n",
              "2       0.909412 -0.689281 -0.327642 -0.139097 -0.055353 -0.059752  378.66   \n",
              "3      -0.190321 -1.175575  0.647376 -0.221929  0.062723  0.061458  123.50   \n",
              "4      -0.137458  0.141267 -0.206010  0.502292  0.219422  0.215153   69.99   \n",
              "...          ...       ...       ...       ...       ...       ...     ...   \n",
              "284802  1.014480 -0.509348  1.436807  0.250034  0.943651  0.823731    0.77   \n",
              "284803  0.012463 -1.016226 -0.606624 -0.395255  0.068472 -0.053527   24.79   \n",
              "284804 -0.037501  0.640134  0.265745 -0.087371  0.004455 -0.026561   67.88   \n",
              "284805 -0.163298  0.123205 -0.569159  0.546668  0.108821  0.104533   10.00   \n",
              "284806  0.376777  0.008797 -0.473649 -0.818267 -0.002415  0.013649  217.00   \n",
              "\n",
              "        Class  \n",
              "0           0  \n",
              "1           0  \n",
              "2           0  \n",
              "3           0  \n",
              "4           0  \n",
              "...       ...  \n",
              "284802      0  \n",
              "284803      0  \n",
              "284804      0  \n",
              "284805      0  \n",
              "284806      0  \n",
              "\n",
              "[284807 rows x 31 columns]"
            ],
            "text/html": [
              "\n",
              "  <div id=\"df-3d3c86de-5db8-42c1-b9ca-ec53345243cd\" class=\"colab-df-container\">\n",
              "    <div>\n",
              "<style scoped>\n",
              "    .dataframe tbody tr th:only-of-type {\n",
              "        vertical-align: middle;\n",
              "    }\n",
              "\n",
              "    .dataframe tbody tr th {\n",
              "        vertical-align: top;\n",
              "    }\n",
              "\n",
              "    .dataframe thead th {\n",
              "        text-align: right;\n",
              "    }\n",
              "</style>\n",
              "<table border=\"1\" class=\"dataframe\">\n",
              "  <thead>\n",
              "    <tr style=\"text-align: right;\">\n",
              "      <th></th>\n",
              "      <th>Time</th>\n",
              "      <th>V1</th>\n",
              "      <th>V2</th>\n",
              "      <th>V3</th>\n",
              "      <th>V4</th>\n",
              "      <th>V5</th>\n",
              "      <th>V6</th>\n",
              "      <th>V7</th>\n",
              "      <th>V8</th>\n",
              "      <th>V9</th>\n",
              "      <th>...</th>\n",
              "      <th>V21</th>\n",
              "      <th>V22</th>\n",
              "      <th>V23</th>\n",
              "      <th>V24</th>\n",
              "      <th>V25</th>\n",
              "      <th>V26</th>\n",
              "      <th>V27</th>\n",
              "      <th>V28</th>\n",
              "      <th>Amount</th>\n",
              "      <th>Class</th>\n",
              "    </tr>\n",
              "  </thead>\n",
              "  <tbody>\n",
              "    <tr>\n",
              "      <th>0</th>\n",
              "      <td>0.0</td>\n",
              "      <td>-1.359807</td>\n",
              "      <td>-0.072781</td>\n",
              "      <td>2.536347</td>\n",
              "      <td>1.378155</td>\n",
              "      <td>-0.338321</td>\n",
              "      <td>0.462388</td>\n",
              "      <td>0.239599</td>\n",
              "      <td>0.098698</td>\n",
              "      <td>0.363787</td>\n",
              "      <td>...</td>\n",
              "      <td>-0.018307</td>\n",
              "      <td>0.277838</td>\n",
              "      <td>-0.110474</td>\n",
              "      <td>0.066928</td>\n",
              "      <td>0.128539</td>\n",
              "      <td>-0.189115</td>\n",
              "      <td>0.133558</td>\n",
              "      <td>-0.021053</td>\n",
              "      <td>149.62</td>\n",
              "      <td>0</td>\n",
              "    </tr>\n",
              "    <tr>\n",
              "      <th>1</th>\n",
              "      <td>0.0</td>\n",
              "      <td>1.191857</td>\n",
              "      <td>0.266151</td>\n",
              "      <td>0.166480</td>\n",
              "      <td>0.448154</td>\n",
              "      <td>0.060018</td>\n",
              "      <td>-0.082361</td>\n",
              "      <td>-0.078803</td>\n",
              "      <td>0.085102</td>\n",
              "      <td>-0.255425</td>\n",
              "      <td>...</td>\n",
              "      <td>-0.225775</td>\n",
              "      <td>-0.638672</td>\n",
              "      <td>0.101288</td>\n",
              "      <td>-0.339846</td>\n",
              "      <td>0.167170</td>\n",
              "      <td>0.125895</td>\n",
              "      <td>-0.008983</td>\n",
              "      <td>0.014724</td>\n",
              "      <td>2.69</td>\n",
              "      <td>0</td>\n",
              "    </tr>\n",
              "    <tr>\n",
              "      <th>2</th>\n",
              "      <td>1.0</td>\n",
              "      <td>-1.358354</td>\n",
              "      <td>-1.340163</td>\n",
              "      <td>1.773209</td>\n",
              "      <td>0.379780</td>\n",
              "      <td>-0.503198</td>\n",
              "      <td>1.800499</td>\n",
              "      <td>0.791461</td>\n",
              "      <td>0.247676</td>\n",
              "      <td>-1.514654</td>\n",
              "      <td>...</td>\n",
              "      <td>0.247998</td>\n",
              "      <td>0.771679</td>\n",
              "      <td>0.909412</td>\n",
              "      <td>-0.689281</td>\n",
              "      <td>-0.327642</td>\n",
              "      <td>-0.139097</td>\n",
              "      <td>-0.055353</td>\n",
              "      <td>-0.059752</td>\n",
              "      <td>378.66</td>\n",
              "      <td>0</td>\n",
              "    </tr>\n",
              "    <tr>\n",
              "      <th>3</th>\n",
              "      <td>1.0</td>\n",
              "      <td>-0.966272</td>\n",
              "      <td>-0.185226</td>\n",
              "      <td>1.792993</td>\n",
              "      <td>-0.863291</td>\n",
              "      <td>-0.010309</td>\n",
              "      <td>1.247203</td>\n",
              "      <td>0.237609</td>\n",
              "      <td>0.377436</td>\n",
              "      <td>-1.387024</td>\n",
              "      <td>...</td>\n",
              "      <td>-0.108300</td>\n",
              "      <td>0.005274</td>\n",
              "      <td>-0.190321</td>\n",
              "      <td>-1.175575</td>\n",
              "      <td>0.647376</td>\n",
              "      <td>-0.221929</td>\n",
              "      <td>0.062723</td>\n",
              "      <td>0.061458</td>\n",
              "      <td>123.50</td>\n",
              "      <td>0</td>\n",
              "    </tr>\n",
              "    <tr>\n",
              "      <th>4</th>\n",
              "      <td>2.0</td>\n",
              "      <td>-1.158233</td>\n",
              "      <td>0.877737</td>\n",
              "      <td>1.548718</td>\n",
              "      <td>0.403034</td>\n",
              "      <td>-0.407193</td>\n",
              "      <td>0.095921</td>\n",
              "      <td>0.592941</td>\n",
              "      <td>-0.270533</td>\n",
              "      <td>0.817739</td>\n",
              "      <td>...</td>\n",
              "      <td>-0.009431</td>\n",
              "      <td>0.798278</td>\n",
              "      <td>-0.137458</td>\n",
              "      <td>0.141267</td>\n",
              "      <td>-0.206010</td>\n",
              "      <td>0.502292</td>\n",
              "      <td>0.219422</td>\n",
              "      <td>0.215153</td>\n",
              "      <td>69.99</td>\n",
              "      <td>0</td>\n",
              "    </tr>\n",
              "    <tr>\n",
              "      <th>...</th>\n",
              "      <td>...</td>\n",
              "      <td>...</td>\n",
              "      <td>...</td>\n",
              "      <td>...</td>\n",
              "      <td>...</td>\n",
              "      <td>...</td>\n",
              "      <td>...</td>\n",
              "      <td>...</td>\n",
              "      <td>...</td>\n",
              "      <td>...</td>\n",
              "      <td>...</td>\n",
              "      <td>...</td>\n",
              "      <td>...</td>\n",
              "      <td>...</td>\n",
              "      <td>...</td>\n",
              "      <td>...</td>\n",
              "      <td>...</td>\n",
              "      <td>...</td>\n",
              "      <td>...</td>\n",
              "      <td>...</td>\n",
              "      <td>...</td>\n",
              "    </tr>\n",
              "    <tr>\n",
              "      <th>284802</th>\n",
              "      <td>172786.0</td>\n",
              "      <td>-11.881118</td>\n",
              "      <td>10.071785</td>\n",
              "      <td>-9.834783</td>\n",
              "      <td>-2.066656</td>\n",
              "      <td>-5.364473</td>\n",
              "      <td>-2.606837</td>\n",
              "      <td>-4.918215</td>\n",
              "      <td>7.305334</td>\n",
              "      <td>1.914428</td>\n",
              "      <td>...</td>\n",
              "      <td>0.213454</td>\n",
              "      <td>0.111864</td>\n",
              "      <td>1.014480</td>\n",
              "      <td>-0.509348</td>\n",
              "      <td>1.436807</td>\n",
              "      <td>0.250034</td>\n",
              "      <td>0.943651</td>\n",
              "      <td>0.823731</td>\n",
              "      <td>0.77</td>\n",
              "      <td>0</td>\n",
              "    </tr>\n",
              "    <tr>\n",
              "      <th>284803</th>\n",
              "      <td>172787.0</td>\n",
              "      <td>-0.732789</td>\n",
              "      <td>-0.055080</td>\n",
              "      <td>2.035030</td>\n",
              "      <td>-0.738589</td>\n",
              "      <td>0.868229</td>\n",
              "      <td>1.058415</td>\n",
              "      <td>0.024330</td>\n",
              "      <td>0.294869</td>\n",
              "      <td>0.584800</td>\n",
              "      <td>...</td>\n",
              "      <td>0.214205</td>\n",
              "      <td>0.924384</td>\n",
              "      <td>0.012463</td>\n",
              "      <td>-1.016226</td>\n",
              "      <td>-0.606624</td>\n",
              "      <td>-0.395255</td>\n",
              "      <td>0.068472</td>\n",
              "      <td>-0.053527</td>\n",
              "      <td>24.79</td>\n",
              "      <td>0</td>\n",
              "    </tr>\n",
              "    <tr>\n",
              "      <th>284804</th>\n",
              "      <td>172788.0</td>\n",
              "      <td>1.919565</td>\n",
              "      <td>-0.301254</td>\n",
              "      <td>-3.249640</td>\n",
              "      <td>-0.557828</td>\n",
              "      <td>2.630515</td>\n",
              "      <td>3.031260</td>\n",
              "      <td>-0.296827</td>\n",
              "      <td>0.708417</td>\n",
              "      <td>0.432454</td>\n",
              "      <td>...</td>\n",
              "      <td>0.232045</td>\n",
              "      <td>0.578229</td>\n",
              "      <td>-0.037501</td>\n",
              "      <td>0.640134</td>\n",
              "      <td>0.265745</td>\n",
              "      <td>-0.087371</td>\n",
              "      <td>0.004455</td>\n",
              "      <td>-0.026561</td>\n",
              "      <td>67.88</td>\n",
              "      <td>0</td>\n",
              "    </tr>\n",
              "    <tr>\n",
              "      <th>284805</th>\n",
              "      <td>172788.0</td>\n",
              "      <td>-0.240440</td>\n",
              "      <td>0.530483</td>\n",
              "      <td>0.702510</td>\n",
              "      <td>0.689799</td>\n",
              "      <td>-0.377961</td>\n",
              "      <td>0.623708</td>\n",
              "      <td>-0.686180</td>\n",
              "      <td>0.679145</td>\n",
              "      <td>0.392087</td>\n",
              "      <td>...</td>\n",
              "      <td>0.265245</td>\n",
              "      <td>0.800049</td>\n",
              "      <td>-0.163298</td>\n",
              "      <td>0.123205</td>\n",
              "      <td>-0.569159</td>\n",
              "      <td>0.546668</td>\n",
              "      <td>0.108821</td>\n",
              "      <td>0.104533</td>\n",
              "      <td>10.00</td>\n",
              "      <td>0</td>\n",
              "    </tr>\n",
              "    <tr>\n",
              "      <th>284806</th>\n",
              "      <td>172792.0</td>\n",
              "      <td>-0.533413</td>\n",
              "      <td>-0.189733</td>\n",
              "      <td>0.703337</td>\n",
              "      <td>-0.506271</td>\n",
              "      <td>-0.012546</td>\n",
              "      <td>-0.649617</td>\n",
              "      <td>1.577006</td>\n",
              "      <td>-0.414650</td>\n",
              "      <td>0.486180</td>\n",
              "      <td>...</td>\n",
              "      <td>0.261057</td>\n",
              "      <td>0.643078</td>\n",
              "      <td>0.376777</td>\n",
              "      <td>0.008797</td>\n",
              "      <td>-0.473649</td>\n",
              "      <td>-0.818267</td>\n",
              "      <td>-0.002415</td>\n",
              "      <td>0.013649</td>\n",
              "      <td>217.00</td>\n",
              "      <td>0</td>\n",
              "    </tr>\n",
              "  </tbody>\n",
              "</table>\n",
              "<p>284807 rows × 31 columns</p>\n",
              "</div>\n",
              "    <div class=\"colab-df-buttons\">\n",
              "\n",
              "  <div class=\"colab-df-container\">\n",
              "    <button class=\"colab-df-convert\" onclick=\"convertToInteractive('df-3d3c86de-5db8-42c1-b9ca-ec53345243cd')\"\n",
              "            title=\"Convert this dataframe to an interactive table.\"\n",
              "            style=\"display:none;\">\n",
              "\n",
              "  <svg xmlns=\"http://www.w3.org/2000/svg\" height=\"24px\" viewBox=\"0 -960 960 960\">\n",
              "    <path d=\"M120-120v-720h720v720H120Zm60-500h600v-160H180v160Zm220 220h160v-160H400v160Zm0 220h160v-160H400v160ZM180-400h160v-160H180v160Zm440 0h160v-160H620v160ZM180-180h160v-160H180v160Zm440 0h160v-160H620v160Z\"/>\n",
              "  </svg>\n",
              "    </button>\n",
              "\n",
              "  <style>\n",
              "    .colab-df-container {\n",
              "      display:flex;\n",
              "      gap: 12px;\n",
              "    }\n",
              "\n",
              "    .colab-df-convert {\n",
              "      background-color: #E8F0FE;\n",
              "      border: none;\n",
              "      border-radius: 50%;\n",
              "      cursor: pointer;\n",
              "      display: none;\n",
              "      fill: #1967D2;\n",
              "      height: 32px;\n",
              "      padding: 0 0 0 0;\n",
              "      width: 32px;\n",
              "    }\n",
              "\n",
              "    .colab-df-convert:hover {\n",
              "      background-color: #E2EBFA;\n",
              "      box-shadow: 0px 1px 2px rgba(60, 64, 67, 0.3), 0px 1px 3px 1px rgba(60, 64, 67, 0.15);\n",
              "      fill: #174EA6;\n",
              "    }\n",
              "\n",
              "    .colab-df-buttons div {\n",
              "      margin-bottom: 4px;\n",
              "    }\n",
              "\n",
              "    [theme=dark] .colab-df-convert {\n",
              "      background-color: #3B4455;\n",
              "      fill: #D2E3FC;\n",
              "    }\n",
              "\n",
              "    [theme=dark] .colab-df-convert:hover {\n",
              "      background-color: #434B5C;\n",
              "      box-shadow: 0px 1px 3px 1px rgba(0, 0, 0, 0.15);\n",
              "      filter: drop-shadow(0px 1px 2px rgba(0, 0, 0, 0.3));\n",
              "      fill: #FFFFFF;\n",
              "    }\n",
              "  </style>\n",
              "\n",
              "    <script>\n",
              "      const buttonEl =\n",
              "        document.querySelector('#df-3d3c86de-5db8-42c1-b9ca-ec53345243cd button.colab-df-convert');\n",
              "      buttonEl.style.display =\n",
              "        google.colab.kernel.accessAllowed ? 'block' : 'none';\n",
              "\n",
              "      async function convertToInteractive(key) {\n",
              "        const element = document.querySelector('#df-3d3c86de-5db8-42c1-b9ca-ec53345243cd');\n",
              "        const dataTable =\n",
              "          await google.colab.kernel.invokeFunction('convertToInteractive',\n",
              "                                                    [key], {});\n",
              "        if (!dataTable) return;\n",
              "\n",
              "        const docLinkHtml = 'Like what you see? Visit the ' +\n",
              "          '<a target=\"_blank\" href=https://colab.research.google.com/notebooks/data_table.ipynb>data table notebook</a>'\n",
              "          + ' to learn more about interactive tables.';\n",
              "        element.innerHTML = '';\n",
              "        dataTable['output_type'] = 'display_data';\n",
              "        await google.colab.output.renderOutput(dataTable, element);\n",
              "        const docLink = document.createElement('div');\n",
              "        docLink.innerHTML = docLinkHtml;\n",
              "        element.appendChild(docLink);\n",
              "      }\n",
              "    </script>\n",
              "  </div>\n",
              "\n",
              "\n",
              "<div id=\"df-ac80f8a1-670b-43a2-a6da-39d06838dfa1\">\n",
              "  <button class=\"colab-df-quickchart\" onclick=\"quickchart('df-ac80f8a1-670b-43a2-a6da-39d06838dfa1')\"\n",
              "            title=\"Suggest charts\"\n",
              "            style=\"display:none;\">\n",
              "\n",
              "<svg xmlns=\"http://www.w3.org/2000/svg\" height=\"24px\"viewBox=\"0 0 24 24\"\n",
              "     width=\"24px\">\n",
              "    <g>\n",
              "        <path d=\"M19 3H5c-1.1 0-2 .9-2 2v14c0 1.1.9 2 2 2h14c1.1 0 2-.9 2-2V5c0-1.1-.9-2-2-2zM9 17H7v-7h2v7zm4 0h-2V7h2v10zm4 0h-2v-4h2v4z\"/>\n",
              "    </g>\n",
              "</svg>\n",
              "  </button>\n",
              "\n",
              "<style>\n",
              "  .colab-df-quickchart {\n",
              "      --bg-color: #E8F0FE;\n",
              "      --fill-color: #1967D2;\n",
              "      --hover-bg-color: #E2EBFA;\n",
              "      --hover-fill-color: #174EA6;\n",
              "      --disabled-fill-color: #AAA;\n",
              "      --disabled-bg-color: #DDD;\n",
              "  }\n",
              "\n",
              "  [theme=dark] .colab-df-quickchart {\n",
              "      --bg-color: #3B4455;\n",
              "      --fill-color: #D2E3FC;\n",
              "      --hover-bg-color: #434B5C;\n",
              "      --hover-fill-color: #FFFFFF;\n",
              "      --disabled-bg-color: #3B4455;\n",
              "      --disabled-fill-color: #666;\n",
              "  }\n",
              "\n",
              "  .colab-df-quickchart {\n",
              "    background-color: var(--bg-color);\n",
              "    border: none;\n",
              "    border-radius: 50%;\n",
              "    cursor: pointer;\n",
              "    display: none;\n",
              "    fill: var(--fill-color);\n",
              "    height: 32px;\n",
              "    padding: 0;\n",
              "    width: 32px;\n",
              "  }\n",
              "\n",
              "  .colab-df-quickchart:hover {\n",
              "    background-color: var(--hover-bg-color);\n",
              "    box-shadow: 0 1px 2px rgba(60, 64, 67, 0.3), 0 1px 3px 1px rgba(60, 64, 67, 0.15);\n",
              "    fill: var(--button-hover-fill-color);\n",
              "  }\n",
              "\n",
              "  .colab-df-quickchart-complete:disabled,\n",
              "  .colab-df-quickchart-complete:disabled:hover {\n",
              "    background-color: var(--disabled-bg-color);\n",
              "    fill: var(--disabled-fill-color);\n",
              "    box-shadow: none;\n",
              "  }\n",
              "\n",
              "  .colab-df-spinner {\n",
              "    border: 2px solid var(--fill-color);\n",
              "    border-color: transparent;\n",
              "    border-bottom-color: var(--fill-color);\n",
              "    animation:\n",
              "      spin 1s steps(1) infinite;\n",
              "  }\n",
              "\n",
              "  @keyframes spin {\n",
              "    0% {\n",
              "      border-color: transparent;\n",
              "      border-bottom-color: var(--fill-color);\n",
              "      border-left-color: var(--fill-color);\n",
              "    }\n",
              "    20% {\n",
              "      border-color: transparent;\n",
              "      border-left-color: var(--fill-color);\n",
              "      border-top-color: var(--fill-color);\n",
              "    }\n",
              "    30% {\n",
              "      border-color: transparent;\n",
              "      border-left-color: var(--fill-color);\n",
              "      border-top-color: var(--fill-color);\n",
              "      border-right-color: var(--fill-color);\n",
              "    }\n",
              "    40% {\n",
              "      border-color: transparent;\n",
              "      border-right-color: var(--fill-color);\n",
              "      border-top-color: var(--fill-color);\n",
              "    }\n",
              "    60% {\n",
              "      border-color: transparent;\n",
              "      border-right-color: var(--fill-color);\n",
              "    }\n",
              "    80% {\n",
              "      border-color: transparent;\n",
              "      border-right-color: var(--fill-color);\n",
              "      border-bottom-color: var(--fill-color);\n",
              "    }\n",
              "    90% {\n",
              "      border-color: transparent;\n",
              "      border-bottom-color: var(--fill-color);\n",
              "    }\n",
              "  }\n",
              "</style>\n",
              "\n",
              "  <script>\n",
              "    async function quickchart(key) {\n",
              "      const quickchartButtonEl =\n",
              "        document.querySelector('#' + key + ' button');\n",
              "      quickchartButtonEl.disabled = true;  // To prevent multiple clicks.\n",
              "      quickchartButtonEl.classList.add('colab-df-spinner');\n",
              "      try {\n",
              "        const charts = await google.colab.kernel.invokeFunction(\n",
              "            'suggestCharts', [key], {});\n",
              "      } catch (error) {\n",
              "        console.error('Error during call to suggestCharts:', error);\n",
              "      }\n",
              "      quickchartButtonEl.classList.remove('colab-df-spinner');\n",
              "      quickchartButtonEl.classList.add('colab-df-quickchart-complete');\n",
              "    }\n",
              "    (() => {\n",
              "      let quickchartButtonEl =\n",
              "        document.querySelector('#df-ac80f8a1-670b-43a2-a6da-39d06838dfa1 button');\n",
              "      quickchartButtonEl.style.display =\n",
              "        google.colab.kernel.accessAllowed ? 'block' : 'none';\n",
              "    })();\n",
              "  </script>\n",
              "</div>\n",
              "\n",
              "  <div id=\"id_a57beba3-c83f-4bd0-8d4e-9e40b1507c94\">\n",
              "    <style>\n",
              "      .colab-df-generate {\n",
              "        background-color: #E8F0FE;\n",
              "        border: none;\n",
              "        border-radius: 50%;\n",
              "        cursor: pointer;\n",
              "        display: none;\n",
              "        fill: #1967D2;\n",
              "        height: 32px;\n",
              "        padding: 0 0 0 0;\n",
              "        width: 32px;\n",
              "      }\n",
              "\n",
              "      .colab-df-generate:hover {\n",
              "        background-color: #E2EBFA;\n",
              "        box-shadow: 0px 1px 2px rgba(60, 64, 67, 0.3), 0px 1px 3px 1px rgba(60, 64, 67, 0.15);\n",
              "        fill: #174EA6;\n",
              "      }\n",
              "\n",
              "      [theme=dark] .colab-df-generate {\n",
              "        background-color: #3B4455;\n",
              "        fill: #D2E3FC;\n",
              "      }\n",
              "\n",
              "      [theme=dark] .colab-df-generate:hover {\n",
              "        background-color: #434B5C;\n",
              "        box-shadow: 0px 1px 3px 1px rgba(0, 0, 0, 0.15);\n",
              "        filter: drop-shadow(0px 1px 2px rgba(0, 0, 0, 0.3));\n",
              "        fill: #FFFFFF;\n",
              "      }\n",
              "    </style>\n",
              "    <button class=\"colab-df-generate\" onclick=\"generateWithVariable('en_dataframe')\"\n",
              "            title=\"Generate code using this dataframe.\"\n",
              "            style=\"display:none;\">\n",
              "\n",
              "  <svg xmlns=\"http://www.w3.org/2000/svg\" height=\"24px\"viewBox=\"0 0 24 24\"\n",
              "       width=\"24px\">\n",
              "    <path d=\"M7,19H8.4L18.45,9,17,7.55,7,17.6ZM5,21V16.75L18.45,3.32a2,2,0,0,1,2.83,0l1.4,1.43a1.91,1.91,0,0,1,.58,1.4,1.91,1.91,0,0,1-.58,1.4L9.25,21ZM18.45,9,17,7.55Zm-12,3A5.31,5.31,0,0,0,4.9,8.1,5.31,5.31,0,0,0,1,6.5,5.31,5.31,0,0,0,4.9,4.9,5.31,5.31,0,0,0,6.5,1,5.31,5.31,0,0,0,8.1,4.9,5.31,5.31,0,0,0,12,6.5,5.46,5.46,0,0,0,6.5,12Z\"/>\n",
              "  </svg>\n",
              "    </button>\n",
              "    <script>\n",
              "      (() => {\n",
              "      const buttonEl =\n",
              "        document.querySelector('#id_a57beba3-c83f-4bd0-8d4e-9e40b1507c94 button.colab-df-generate');\n",
              "      buttonEl.style.display =\n",
              "        google.colab.kernel.accessAllowed ? 'block' : 'none';\n",
              "\n",
              "      buttonEl.onclick = () => {\n",
              "        google.colab.notebook.generateWithVariable('en_dataframe');\n",
              "      }\n",
              "      })();\n",
              "    </script>\n",
              "  </div>\n",
              "\n",
              "    </div>\n",
              "  </div>\n"
            ],
            "application/vnd.google.colaboratory.intrinsic+json": {
              "type": "dataframe",
              "variable_name": "en_dataframe"
            }
          },
          "metadata": {},
          "execution_count": 8
        }
      ]
    },
    {
      "cell_type": "code",
      "source": [
        "features2 = np.array(en_dataframe.iloc[:, :-1])\n",
        "targets2 = np.array(en_dataframe.iloc[:,-1])"
      ],
      "metadata": {
        "id": "_yDZ1O9PSOGt"
      },
      "execution_count": null,
      "outputs": []
    },
    {
      "cell_type": "code",
      "source": [
        "features2"
      ],
      "metadata": {
        "id": "6D3TlUvZt20X",
        "colab": {
          "base_uri": "https://localhost:8080/"
        },
        "outputId": "be2b1093-9791-43b5-d48f-c49696e0b64a"
      },
      "execution_count": null,
      "outputs": [
        {
          "output_type": "execute_result",
          "data": {
            "text/plain": [
              "array([[ 0.00000000e+00, -1.35980713e+00, -7.27811733e-02, ...,\n",
              "         1.33558377e-01, -2.10530535e-02,  1.49620000e+02],\n",
              "       [ 0.00000000e+00,  1.19185711e+00,  2.66150712e-01, ...,\n",
              "        -8.98309914e-03,  1.47241692e-02,  2.69000000e+00],\n",
              "       [ 1.00000000e+00, -1.35835406e+00, -1.34016307e+00, ...,\n",
              "        -5.53527940e-02, -5.97518406e-02,  3.78660000e+02],\n",
              "       ...,\n",
              "       [ 1.72788000e+05,  1.91956501e+00, -3.01253846e-01, ...,\n",
              "         4.45477214e-03, -2.65608286e-02,  6.78800000e+01],\n",
              "       [ 1.72788000e+05, -2.40440050e-01,  5.30482513e-01, ...,\n",
              "         1.08820735e-01,  1.04532821e-01,  1.00000000e+01],\n",
              "       [ 1.72792000e+05, -5.33412522e-01, -1.89733337e-01, ...,\n",
              "        -2.41530880e-03,  1.36489143e-02,  2.17000000e+02]])"
            ]
          },
          "metadata": {},
          "execution_count": 10
        }
      ]
    },
    {
      "cell_type": "code",
      "source": [
        "np.allclose(features, features2, rtol=0.0000001)"
      ],
      "metadata": {
        "id": "mXJEP3BVS0nK",
        "colab": {
          "base_uri": "https://localhost:8080/"
        },
        "outputId": "83aeea86-75e9-4259-c4ab-a8ebd1a92682"
      },
      "execution_count": null,
      "outputs": [
        {
          "output_type": "execute_result",
          "data": {
            "text/plain": [
              "True"
            ]
          },
          "metadata": {},
          "execution_count": 11
        }
      ]
    },
    {
      "cell_type": "code",
      "source": [
        "targets2.shape"
      ],
      "metadata": {
        "id": "ALdzmdzkQffm",
        "colab": {
          "base_uri": "https://localhost:8080/"
        },
        "outputId": "a78714e3-4b5b-408f-8991-29db68bda520"
      },
      "execution_count": null,
      "outputs": [
        {
          "output_type": "execute_result",
          "data": {
            "text/plain": [
              "(284807,)"
            ]
          },
          "metadata": {},
          "execution_count": 12
        }
      ]
    },
    {
      "cell_type": "code",
      "source": [
        "targets.shape"
      ],
      "metadata": {
        "id": "K-NhrVZuQnEu",
        "colab": {
          "base_uri": "https://localhost:8080/"
        },
        "outputId": "e815aa08-4bca-4451-e0dd-dd7210cfdc21"
      },
      "execution_count": null,
      "outputs": [
        {
          "output_type": "execute_result",
          "data": {
            "text/plain": [
              "(284807, 1)"
            ]
          },
          "metadata": {},
          "execution_count": 13
        }
      ]
    },
    {
      "cell_type": "code",
      "source": [
        "targets"
      ],
      "metadata": {
        "id": "vgrDJ1dPQobP",
        "colab": {
          "base_uri": "https://localhost:8080/"
        },
        "outputId": "53678c67-883f-4989-93c3-d54e1d6e2582"
      },
      "execution_count": null,
      "outputs": [
        {
          "output_type": "execute_result",
          "data": {
            "text/plain": [
              "array([[0],\n",
              "       [0],\n",
              "       [0],\n",
              "       ...,\n",
              "       [0],\n",
              "       [0],\n",
              "       [0]], dtype=uint8)"
            ]
          },
          "metadata": {},
          "execution_count": 14
        }
      ]
    },
    {
      "cell_type": "code",
      "source": [
        "targets2"
      ],
      "metadata": {
        "id": "V6UUCmUDQoTs",
        "colab": {
          "base_uri": "https://localhost:8080/"
        },
        "outputId": "2748a9d7-a98b-4559-ea04-c26da0cc04a2"
      },
      "execution_count": null,
      "outputs": [
        {
          "output_type": "execute_result",
          "data": {
            "text/plain": [
              "array([0, 0, 0, ..., 0, 0, 0])"
            ]
          },
          "metadata": {},
          "execution_count": 15
        }
      ]
    },
    {
      "cell_type": "markdown",
      "source": [
        "## Cuidado con las dimensiones, pueden crear problemas extraños\n",
        "\n",
        "Rompemos la RAM, solo para mostrar cosas que pueden fallar, despues no ejecutaremos esta linea"
      ],
      "metadata": {
        "id": "wDyHjQyiatJh"
      }
    },
    {
      "cell_type": "code",
      "source": [
        "# Si está descomentada, supera nuestra RAM disponible\n",
        "#np.allclose(targets, targets2)"
      ],
      "metadata": {
        "id": "IPL463L8akIu"
      },
      "execution_count": null,
      "outputs": []
    },
    {
      "cell_type": "code",
      "source": [
        "# Esta variable casi llena nuestra RAM, la borraremos abajo\n",
        "aux = (targets[:100000] == targets2[:100000])"
      ],
      "metadata": {
        "id": "1MePrUupTkmq"
      },
      "execution_count": null,
      "outputs": []
    },
    {
      "cell_type": "code",
      "source": [
        "targets"
      ],
      "metadata": {
        "id": "TdOhfYOMuTsf",
        "colab": {
          "base_uri": "https://localhost:8080/"
        },
        "outputId": "add2054e-a4cf-4af6-ae4c-c1be4557cfc9"
      },
      "execution_count": null,
      "outputs": [
        {
          "output_type": "execute_result",
          "data": {
            "text/plain": [
              "array([[0],\n",
              "       [0],\n",
              "       [0],\n",
              "       ...,\n",
              "       [0],\n",
              "       [0],\n",
              "       [0]], dtype=uint8)"
            ]
          },
          "metadata": {},
          "execution_count": 17
        }
      ]
    },
    {
      "cell_type": "code",
      "source": [
        "targets2"
      ],
      "metadata": {
        "id": "0ZSAvIGOua7C",
        "colab": {
          "base_uri": "https://localhost:8080/"
        },
        "outputId": "7e9c79d1-cbb8-459b-8b0b-a131e5be4961"
      },
      "execution_count": null,
      "outputs": [
        {
          "output_type": "execute_result",
          "data": {
            "text/plain": [
              "array([0, 0, 0, ..., 0, 0, 0])"
            ]
          },
          "metadata": {},
          "execution_count": 18
        }
      ]
    },
    {
      "cell_type": "code",
      "source": [
        "aux"
      ],
      "metadata": {
        "id": "YWGdxv4Puhsd",
        "colab": {
          "base_uri": "https://localhost:8080/"
        },
        "outputId": "ea337265-dfd9-45f7-c2c7-58ffa650adba"
      },
      "execution_count": null,
      "outputs": [
        {
          "output_type": "execute_result",
          "data": {
            "text/plain": [
              "array([[ True,  True,  True, ...,  True,  True,  True],\n",
              "       [ True,  True,  True, ...,  True,  True,  True],\n",
              "       [ True,  True,  True, ...,  True,  True,  True],\n",
              "       ...,\n",
              "       [ True,  True,  True, ...,  True,  True,  True],\n",
              "       [ True,  True,  True, ...,  True,  True,  True],\n",
              "       [ True,  True,  True, ...,  True,  True,  True]])"
            ]
          },
          "metadata": {},
          "execution_count": 19
        }
      ]
    },
    {
      "cell_type": "code",
      "source": [
        "aux.shape"
      ],
      "metadata": {
        "id": "arH09wX8agPl",
        "colab": {
          "base_uri": "https://localhost:8080/"
        },
        "outputId": "75f7cf4a-f188-4398-d749-9a5cf1637af4"
      },
      "execution_count": null,
      "outputs": [
        {
          "output_type": "execute_result",
          "data": {
            "text/plain": [
              "(100000, 100000)"
            ]
          },
          "metadata": {},
          "execution_count": 20
        }
      ]
    },
    {
      "cell_type": "code",
      "source": [
        "del aux"
      ],
      "metadata": {
        "id": "Bcg42dsHaWyG"
      },
      "execution_count": null,
      "outputs": []
    },
    {
      "cell_type": "markdown",
      "source": [
        "# Corrección\n",
        "\n",
        "La manera correcta para poder llevar a cabo esta comparación es cuidando las dimensiones de los objetos que estamos comparando"
      ],
      "metadata": {
        "id": "Xx4odlCpi2jS"
      }
    },
    {
      "cell_type": "code",
      "source": [
        "targets.shape"
      ],
      "metadata": {
        "id": "Yy_JLStyymJD",
        "colab": {
          "base_uri": "https://localhost:8080/"
        },
        "outputId": "a73f06e6-6187-461a-ae49-3ba85bafa175"
      },
      "execution_count": null,
      "outputs": [
        {
          "output_type": "execute_result",
          "data": {
            "text/plain": [
              "(284807, 1)"
            ]
          },
          "metadata": {},
          "execution_count": 22
        }
      ]
    },
    {
      "cell_type": "code",
      "source": [
        "targets2.shape"
      ],
      "metadata": {
        "id": "IvDbovUiyn7q",
        "colab": {
          "base_uri": "https://localhost:8080/"
        },
        "outputId": "57f3b0f2-3818-4e73-8e04-520860127823"
      },
      "execution_count": null,
      "outputs": [
        {
          "output_type": "execute_result",
          "data": {
            "text/plain": [
              "(284807,)"
            ]
          },
          "metadata": {},
          "execution_count": 23
        }
      ]
    },
    {
      "cell_type": "code",
      "source": [
        "features2 = np.array(en_dataframe.iloc[:, :-1])\n",
        "targets2 = np.array(en_dataframe.iloc[:,-1]).reshape(-1, 1)  # Cambio aqui"
      ],
      "metadata": {
        "id": "sxV440Coi_gD"
      },
      "execution_count": null,
      "outputs": []
    },
    {
      "cell_type": "code",
      "source": [
        "targets2.shape"
      ],
      "metadata": {
        "id": "khtjXBS3oSGs",
        "colab": {
          "base_uri": "https://localhost:8080/"
        },
        "outputId": "941847db-effe-4ef0-daaf-b7b9259fcf6e"
      },
      "execution_count": null,
      "outputs": [
        {
          "output_type": "execute_result",
          "data": {
            "text/plain": [
              "(284807, 1)"
            ]
          },
          "metadata": {},
          "execution_count": 25
        }
      ]
    },
    {
      "cell_type": "code",
      "source": [
        "np.allclose(targets, targets2, rtol=1e-05)"
      ],
      "metadata": {
        "id": "G9GdBgCmjFt0",
        "colab": {
          "base_uri": "https://localhost:8080/"
        },
        "outputId": "48abe47a-0c16-4d9e-a450-782dc71b8eca"
      },
      "execution_count": null,
      "outputs": [
        {
          "output_type": "execute_result",
          "data": {
            "text/plain": [
              "True"
            ]
          },
          "metadata": {},
          "execution_count": 26
        }
      ]
    },
    {
      "cell_type": "code",
      "source": [
        "print(targets.shape)\n",
        "print(targets2.shape)"
      ],
      "metadata": {
        "id": "zRIEaxKN6_nD",
        "colab": {
          "base_uri": "https://localhost:8080/"
        },
        "outputId": "9cc2a1d1-929d-43b9-b284-b2a5cf4bbce5"
      },
      "execution_count": null,
      "outputs": [
        {
          "output_type": "stream",
          "name": "stdout",
          "text": [
            "(284807, 1)\n",
            "(284807, 1)\n"
          ]
        }
      ]
    },
    {
      "cell_type": "markdown",
      "source": [
        "# Preparar conjunto de validación\n",
        "\n",
        "Lo haremos manual (es decir, no aleatorio)"
      ],
      "metadata": {
        "id": "q9fjnHFwHd-t"
      }
    },
    {
      "cell_type": "code",
      "source": [
        "features, targets"
      ],
      "metadata": {
        "id": "_73byEKLRyCZ",
        "colab": {
          "base_uri": "https://localhost:8080/"
        },
        "outputId": "c91c16d4-e46e-4041-86f0-5f14cdd89523"
      },
      "execution_count": null,
      "outputs": [
        {
          "output_type": "execute_result",
          "data": {
            "text/plain": [
              "(array([[ 0.0000000e+00, -1.3598071e+00, -7.2781175e-02, ...,\n",
              "          1.3355838e-01, -2.1053053e-02,  1.4962000e+02],\n",
              "        [ 0.0000000e+00,  1.1918571e+00,  2.6615071e-01, ...,\n",
              "         -8.9830989e-03,  1.4724169e-02,  2.6900001e+00],\n",
              "        [ 1.0000000e+00, -1.3583541e+00, -1.3401631e+00, ...,\n",
              "         -5.5352796e-02, -5.9751842e-02,  3.7866000e+02],\n",
              "        ...,\n",
              "        [ 1.7278800e+05,  1.9195650e+00, -3.0125386e-01, ...,\n",
              "          4.4547720e-03, -2.6560828e-02,  6.7879997e+01],\n",
              "        [ 1.7278800e+05, -2.4044006e-01,  5.3048253e-01, ...,\n",
              "          1.0882074e-01,  1.0453282e-01,  1.0000000e+01],\n",
              "        [ 1.7279200e+05, -5.3341252e-01, -1.8973334e-01, ...,\n",
              "         -2.4153087e-03,  1.3648914e-02,  2.1700000e+02]], dtype=float32),\n",
              " array([[0],\n",
              "        [0],\n",
              "        [0],\n",
              "        ...,\n",
              "        [0],\n",
              "        [0],\n",
              "        [0]], dtype=uint8))"
            ]
          },
          "metadata": {},
          "execution_count": 28
        }
      ]
    },
    {
      "cell_type": "code",
      "source": [
        "num_val_samples = int(len(features) * 0.2)\n",
        "num_val_samples"
      ],
      "metadata": {
        "id": "Bx8eoOy4vcMH",
        "colab": {
          "base_uri": "https://localhost:8080/"
        },
        "outputId": "45505f0a-918f-4567-977e-2ab04f590c17"
      },
      "execution_count": null,
      "outputs": [
        {
          "output_type": "execute_result",
          "data": {
            "text/plain": [
              "56961"
            ]
          },
          "metadata": {},
          "execution_count": 29
        }
      ]
    },
    {
      "cell_type": "code",
      "source": [
        "num_val_samples = int(len(features) * 0.2)\n",
        "\n",
        "# 80% datos para entrenamiento\n",
        "train_features = features[:-num_val_samples]\n",
        "train_targets = targets[:-num_val_samples]\n",
        "\n",
        "# 20% de datos para test\n",
        "val_features = features[-num_val_samples:]\n",
        "val_targets = targets[-num_val_samples:]\n",
        "\n",
        "print(\"Número de muestras para entrenamiento:\", len(train_features))\n",
        "print(\"Número de muestras para validación:\", len(val_features))"
      ],
      "metadata": {
        "id": "OmgJqltqHS1Q",
        "colab": {
          "base_uri": "https://localhost:8080/"
        },
        "outputId": "f2bf4fe6-acda-41db-b239-86c6ae389bf6"
      },
      "execution_count": null,
      "outputs": [
        {
          "output_type": "stream",
          "name": "stdout",
          "text": [
            "Número de muestras para entrenamiento: 227846\n",
            "Número de muestras para validación: 56961\n"
          ]
        }
      ]
    },
    {
      "cell_type": "code",
      "source": [
        "num_val_samples"
      ],
      "metadata": {
        "id": "IjbLCEs9-Gbq",
        "colab": {
          "base_uri": "https://localhost:8080/"
        },
        "outputId": "47f0a375-f872-4322-b68e-42b905c258d2"
      },
      "execution_count": null,
      "outputs": [
        {
          "output_type": "execute_result",
          "data": {
            "text/plain": [
              "56961"
            ]
          },
          "metadata": {},
          "execution_count": 31
        }
      ]
    },
    {
      "cell_type": "markdown",
      "source": [
        "# Analizar desbalance de los datos"
      ],
      "metadata": {
        "id": "YNybjc6VH4Lh"
      }
    },
    {
      "cell_type": "code",
      "source": [
        "counts = np.bincount(train_targets[:, 0])\n",
        "print(f\"Número de valores 1 en muestra de entrenamiento: {counts[1]} ({100 * float(counts[1]) / len(train_targets):.2f}% of total)\")"
      ],
      "metadata": {
        "id": "Oj6xVYvHHUfs",
        "colab": {
          "base_uri": "https://localhost:8080/"
        },
        "outputId": "afe79b9d-c241-4cc1-bbce-8a61047dd6e1"
      },
      "execution_count": null,
      "outputs": [
        {
          "output_type": "stream",
          "name": "stdout",
          "text": [
            "Número de valores 1 en muestra de entrenamiento: 417 (0.18% of total)\n"
          ]
        }
      ]
    },
    {
      "cell_type": "markdown",
      "source": [
        "Asignaremos pesos de una manera balanceada (es una clase de peso \"balanced\" utilizada en keras). Manualmente se calcula como:"
      ],
      "metadata": {
        "id": "uMNmSSg7RKaN"
      }
    },
    {
      "cell_type": "code",
      "source": [
        "total_counts = np.bincount(train_targets[:, 0])\n",
        "n_samples = len(train_targets)\n",
        "\n",
        "weight_for_0 = n_samples / (total_counts[0]*2)\n",
        "weight_for_1 = n_samples / (total_counts[1]*2)\n",
        "\n",
        "#counts = np.bincount(train_targets[:, 0])\n",
        "\n",
        "#weight_for_0 = 1.0 / counts[0]\n",
        "#weight_for_1 = 1.0 / counts[1]\n",
        "\n",
        "print(f\"{weight_for_0: .6f}\")\n",
        "print(f\"{weight_for_1: .4f}\")"
      ],
      "metadata": {
        "id": "LVxboEzLP0qU",
        "colab": {
          "base_uri": "https://localhost:8080/"
        },
        "outputId": "76bd8471-f782-47e6-c86d-77fbd9affd08"
      },
      "execution_count": null,
      "outputs": [
        {
          "output_type": "stream",
          "name": "stdout",
          "text": [
            " 0.500917\n",
            " 273.1966\n"
          ]
        }
      ]
    },
    {
      "cell_type": "markdown",
      "source": [
        "Podemos ver que los pesos son practicamente una proporción de 500 a 1 aproximadamente"
      ],
      "metadata": {
        "id": "gB61dh8ITMUG"
      }
    },
    {
      "cell_type": "markdown",
      "source": [
        "# Estandarizar los datos"
      ],
      "metadata": {
        "id": "ChgxpOOuIB_V"
      }
    },
    {
      "cell_type": "code",
      "source": [
        "mean = np.mean(train_features, axis=0)\n",
        "train_features -= mean\n",
        "val_features -= mean\n",
        "std = np.std(train_features, axis=0)\n",
        "train_features /= std\n",
        "val_features /= std"
      ],
      "metadata": {
        "id": "_vnuRhp5HUdi"
      },
      "execution_count": null,
      "outputs": []
    },
    {
      "cell_type": "code",
      "source": [
        "df_chiquito = np.array([[1,2,3,4], [4,5,6,7], [7,8,9,10]])\n",
        "df_chiquito"
      ],
      "metadata": {
        "id": "HfByQ9kpUQ59",
        "colab": {
          "base_uri": "https://localhost:8080/"
        },
        "outputId": "7bd423ec-a898-4755-e7cb-24ab56e32695"
      },
      "execution_count": null,
      "outputs": [
        {
          "output_type": "execute_result",
          "data": {
            "text/plain": [
              "array([[ 1,  2,  3,  4],\n",
              "       [ 4,  5,  6,  7],\n",
              "       [ 7,  8,  9, 10]])"
            ]
          },
          "metadata": {},
          "execution_count": 35
        }
      ]
    },
    {
      "cell_type": "code",
      "source": [
        "np.mean(df_chiquito, axis=1)"
      ],
      "metadata": {
        "id": "-sI40ezpULWk",
        "colab": {
          "base_uri": "https://localhost:8080/"
        },
        "outputId": "2e40bea5-2cd5-444f-df60-1bd345bf8c55"
      },
      "execution_count": null,
      "outputs": [
        {
          "output_type": "execute_result",
          "data": {
            "text/plain": [
              "array([2.5, 5.5, 8.5])"
            ]
          },
          "metadata": {},
          "execution_count": 38
        }
      ]
    },
    {
      "cell_type": "markdown",
      "source": [
        "# Modelo de clasificación binaria"
      ],
      "metadata": {
        "id": "BrhhaIPuIGKD"
      }
    },
    {
      "cell_type": "markdown",
      "source": [
        "## Slicing para arrays (parentesis cultural)"
      ],
      "metadata": {
        "id": "xyPAgA0rSagz"
      }
    },
    {
      "cell_type": "code",
      "source": [
        "arreglo = np.array([[1,2,3], [4,5,6], [5,6,7], [7,8,9]])\n",
        "arreglo"
      ],
      "metadata": {
        "id": "D6F5_y8pDY3r",
        "colab": {
          "base_uri": "https://localhost:8080/"
        },
        "outputId": "928b1d5d-9025-4f54-c0e5-d8d3820a0e8d"
      },
      "execution_count": null,
      "outputs": [
        {
          "output_type": "execute_result",
          "data": {
            "text/plain": [
              "array([[1, 2, 3],\n",
              "       [4, 5, 6],\n",
              "       [5, 6, 7],\n",
              "       [7, 8, 9]])"
            ]
          },
          "metadata": {},
          "execution_count": 39
        }
      ]
    },
    {
      "cell_type": "code",
      "source": [
        "arreglo[:, 1:]"
      ],
      "metadata": {
        "id": "X2kSTIvzDHPz",
        "colab": {
          "base_uri": "https://localhost:8080/"
        },
        "outputId": "10ae6a9f-c421-4cc3-fc6d-987acab9e807"
      },
      "execution_count": null,
      "outputs": [
        {
          "output_type": "execute_result",
          "data": {
            "text/plain": [
              "array([[2, 3],\n",
              "       [5, 6],\n",
              "       [6, 7],\n",
              "       [8, 9]])"
            ]
          },
          "metadata": {},
          "execution_count": 40
        }
      ]
    },
    {
      "cell_type": "code",
      "source": [
        "# Removemos la columnas correspondiente a tiempo\n",
        "train_features = train_features[:, 1:]\n",
        "val_features = val_features[:, 1:]"
      ],
      "metadata": {
        "id": "whfjNZTZDpW2"
      },
      "execution_count": null,
      "outputs": []
    },
    {
      "cell_type": "code",
      "source": [
        "train_features.shape"
      ],
      "metadata": {
        "id": "otQUgpD4aHyV",
        "colab": {
          "base_uri": "https://localhost:8080/"
        },
        "outputId": "007f8ce1-b098-431a-9b85-6539de78977d"
      },
      "execution_count": null,
      "outputs": [
        {
          "output_type": "execute_result",
          "data": {
            "text/plain": [
              "(227846, 29)"
            ]
          },
          "metadata": {},
          "execution_count": 42
        }
      ]
    },
    {
      "cell_type": "code",
      "source": [
        "train_features.shape[-1]"
      ],
      "metadata": {
        "id": "CBftGY9gaAFa",
        "colab": {
          "base_uri": "https://localhost:8080/"
        },
        "outputId": "53b0f093-9b87-43b9-cf7d-12e10a94c6cf"
      },
      "execution_count": null,
      "outputs": [
        {
          "output_type": "execute_result",
          "data": {
            "text/plain": [
              "29"
            ]
          },
          "metadata": {},
          "execution_count": 43
        }
      ]
    },
    {
      "cell_type": "markdown",
      "source": [
        "## Fin del parentesis cultural"
      ],
      "metadata": {
        "id": "xiZ8HAbvR4PQ"
      }
    },
    {
      "cell_type": "code",
      "source": [
        "from tensorflow import keras\n",
        "import tensorflow as tf\n",
        "\n",
        "model = keras.Sequential(\n",
        "    [\n",
        "        keras.layers.Dense(256, activation=\"relu\", input_shape=(train_features.shape[-1],)),\n",
        "        keras.layers.Dense(256, activation=\"relu\"),\n",
        "        keras.layers.Dropout(0.3), ###\n",
        "        keras.layers.Dense(256, activation=\"relu\"),\n",
        "        keras.layers.Dropout(0.3), ###\n",
        "        keras.layers.Dense(1, activation=\"sigmoid\")\n",
        "    ]\n",
        ")\n",
        "model.summary()"
      ],
      "metadata": {
        "id": "c7TZxGnwHUbN",
        "colab": {
          "base_uri": "https://localhost:8080/"
        },
        "outputId": "7f32e149-1a20-4cba-8d90-4d5925016148"
      },
      "execution_count": null,
      "outputs": [
        {
          "output_type": "stream",
          "name": "stdout",
          "text": [
            "Model: \"sequential\"\n",
            "_________________________________________________________________\n",
            " Layer (type)                Output Shape              Param #   \n",
            "=================================================================\n",
            " dense (Dense)               (None, 256)               7680      \n",
            "                                                                 \n",
            " dense_1 (Dense)             (None, 256)               65792     \n",
            "                                                                 \n",
            " dropout (Dropout)           (None, 256)               0         \n",
            "                                                                 \n",
            " dense_2 (Dense)             (None, 256)               65792     \n",
            "                                                                 \n",
            " dropout_1 (Dropout)         (None, 256)               0         \n",
            "                                                                 \n",
            " dense_3 (Dense)             (None, 1)                 257       \n",
            "                                                                 \n",
            "=================================================================\n",
            "Total params: 139521 (545.00 KB)\n",
            "Trainable params: 139521 (545.00 KB)\n",
            "Non-trainable params: 0 (0.00 Byte)\n",
            "_________________________________________________________________\n"
          ]
        }
      ]
    },
    {
      "cell_type": "code",
      "source": [
        "tf.__version__"
      ],
      "metadata": {
        "id": "-CUQzqUTrip2",
        "colab": {
          "base_uri": "https://localhost:8080/",
          "height": 36
        },
        "outputId": "d16f01d3-e143-4b85-9d49-d1b5f6b32484"
      },
      "execution_count": null,
      "outputs": [
        {
          "output_type": "execute_result",
          "data": {
            "text/plain": [
              "'2.15.0'"
            ],
            "application/vnd.google.colaboratory.intrinsic+json": {
              "type": "string"
            }
          },
          "metadata": {},
          "execution_count": 48
        }
      ]
    },
    {
      "cell_type": "code",
      "source": [
        "!pip show tensorflow"
      ],
      "metadata": {
        "id": "I58Jv47mrxTl",
        "colab": {
          "base_uri": "https://localhost:8080/"
        },
        "outputId": "5f909f55-f794-450c-f137-4b65a640324a"
      },
      "execution_count": null,
      "outputs": [
        {
          "output_type": "stream",
          "name": "stdout",
          "text": [
            "Name: tensorflow\n",
            "Version: 2.15.0\n",
            "Summary: TensorFlow is an open source machine learning framework for everyone.\n",
            "Home-page: https://www.tensorflow.org/\n",
            "Author: Google Inc.\n",
            "Author-email: packages@tensorflow.org\n",
            "License: Apache 2.0\n",
            "Location: /usr/local/lib/python3.10/dist-packages\n",
            "Requires: absl-py, astunparse, flatbuffers, gast, google-pasta, grpcio, h5py, keras, libclang, ml-dtypes, numpy, opt-einsum, packaging, protobuf, setuptools, six, tensorboard, tensorflow-estimator, tensorflow-io-gcs-filesystem, termcolor, typing-extensions, wrapt\n",
            "Required-by: dopamine-rl, tf_keras\n"
          ]
        }
      ]
    },
    {
      "cell_type": "markdown",
      "source": [
        "# Entrenar modelo tomando en cuenta pesos para los datos\n"
      ],
      "metadata": {
        "id": "8iUdg7wmIIRA"
      }
    },
    {
      "cell_type": "code",
      "source": [
        "metrics = [\n",
        "    keras.metrics.Precision(name=\"precision\"),\n",
        "    keras.metrics.Recall(name=\"recall\"),\n",
        "]\n",
        "\n",
        "model.compile(\n",
        "    optimizer=keras.optimizers.Adam(0.01), loss=\"binary_crossentropy\", metrics=metrics # El 0.01 es llamado \"learning rate\"\n",
        ")\n",
        "\n",
        "# Para poder guardar info del entranamiento\n",
        "callbacks = [keras.callbacks.ModelCheckpoint(\"fraud_model_at_epoch_{epoch}.h5\")]\n",
        "\n",
        "# Utilizada para asignar pesos que \"balanceen\" las clases\n",
        "class_weight = {0: weight_for_0, 1: weight_for_1}\n",
        "\n",
        "history = model.fit(\n",
        "    train_features,\n",
        "    train_targets,\n",
        "    batch_size=2048, # Cantidad de datos que optimizan pesos por cada pasada, \"batch size\"\n",
        "    epochs=30, # Cantidad de pasadas que dan todos los datos, para entrenamiento\n",
        "    verbose=2,\n",
        "    callbacks=callbacks,\n",
        "    validation_data=(val_features, val_targets), # Solo para medir como va avanzando el modelo, no utiliza estos datos para modificar pesos\n",
        "    class_weight=class_weight,\n",
        ")"
      ],
      "metadata": {
        "id": "ohsmPpHnHUZH",
        "colab": {
          "base_uri": "https://localhost:8080/"
        },
        "outputId": "aca8efaf-b0e7-4253-ed9f-07fd375667f7"
      },
      "execution_count": null,
      "outputs": [
        {
          "output_type": "stream",
          "name": "stdout",
          "text": [
            "Epoch 1/30\n",
            "112/112 - 7s - loss: 0.5140 - precision: 0.0213 - recall: 0.8801 - val_loss: 0.4441 - val_precision: 0.0124 - val_recall: 0.9200 - 7s/epoch - 59ms/step\n",
            "Epoch 2/30\n"
          ]
        },
        {
          "output_type": "stream",
          "name": "stderr",
          "text": [
            "/usr/local/lib/python3.10/dist-packages/keras/src/engine/training.py:3103: UserWarning: You are saving your model as an HDF5 file via `model.save()`. This file format is considered legacy. We recommend using instead the native Keras format, e.g. `model.save('my_model.keras')`.\n",
            "  saving_api.save_model(\n"
          ]
        },
        {
          "output_type": "stream",
          "name": "stdout",
          "text": [
            "112/112 - 6s - loss: 0.2042 - precision: 0.0264 - recall: 0.9233 - val_loss: 0.0778 - val_precision: 0.0609 - val_recall: 0.8933 - 6s/epoch - 54ms/step\n",
            "Epoch 3/30\n",
            "112/112 - 7s - loss: 0.2467 - precision: 0.0423 - recall: 0.9113 - val_loss: 0.4492 - val_precision: 0.0080 - val_recall: 0.9600 - 7s/epoch - 63ms/step\n",
            "Epoch 4/30\n",
            "112/112 - 5s - loss: 0.4423 - precision: 0.0261 - recall: 0.9017 - val_loss: 0.0584 - val_precision: 0.1902 - val_recall: 0.8267 - 5s/epoch - 46ms/step\n",
            "Epoch 5/30\n",
            "112/112 - 7s - loss: 0.9156 - precision: 0.0181 - recall: 0.8969 - val_loss: 0.0503 - val_precision: 0.1745 - val_recall: 0.8400 - 7s/epoch - 61ms/step\n",
            "Epoch 6/30\n",
            "112/112 - 5s - loss: 0.2655 - precision: 0.0377 - recall: 0.9065 - val_loss: 0.0536 - val_precision: 0.1720 - val_recall: 0.8667 - 5s/epoch - 46ms/step\n",
            "Epoch 7/30\n",
            "112/112 - 7s - loss: 0.2332 - precision: 0.0553 - recall: 0.9161 - val_loss: 0.0750 - val_precision: 0.0707 - val_recall: 0.8933 - 7s/epoch - 60ms/step\n",
            "Epoch 8/30\n",
            "112/112 - 5s - loss: 0.2998 - precision: 0.0456 - recall: 0.9209 - val_loss: 0.2621 - val_precision: 0.0221 - val_recall: 0.9067 - 5s/epoch - 44ms/step\n",
            "Epoch 9/30\n",
            "112/112 - 5s - loss: 0.1679 - precision: 0.0713 - recall: 0.9329 - val_loss: 0.0377 - val_precision: 0.1458 - val_recall: 0.8533 - 5s/epoch - 49ms/step\n",
            "Epoch 10/30\n",
            "112/112 - 6s - loss: 0.1477 - precision: 0.0627 - recall: 0.9353 - val_loss: 0.0632 - val_precision: 0.0903 - val_recall: 0.8800 - 6s/epoch - 56ms/step\n",
            "Epoch 11/30\n",
            "112/112 - 5s - loss: 0.1629 - precision: 0.0661 - recall: 0.9281 - val_loss: 0.1523 - val_precision: 0.0366 - val_recall: 0.9067 - 5s/epoch - 43ms/step\n",
            "Epoch 12/30\n",
            "112/112 - 6s - loss: 0.4584 - precision: 0.0458 - recall: 0.9305 - val_loss: 0.1497 - val_precision: 0.3135 - val_recall: 0.7733 - 6s/epoch - 58ms/step\n",
            "Epoch 13/30\n",
            "112/112 - 5s - loss: 0.5004 - precision: 0.0566 - recall: 0.8849 - val_loss: 0.1477 - val_precision: 0.0288 - val_recall: 0.8667 - 5s/epoch - 46ms/step\n",
            "Epoch 14/30\n",
            "112/112 - 5s - loss: 0.4174 - precision: 0.0341 - recall: 0.8873 - val_loss: 0.2020 - val_precision: 0.0073 - val_recall: 0.9600 - 5s/epoch - 46ms/step\n",
            "Epoch 15/30\n",
            "112/112 - 6s - loss: 0.2033 - precision: 0.0175 - recall: 0.9424 - val_loss: 0.1657 - val_precision: 0.0113 - val_recall: 0.9467 - 6s/epoch - 55ms/step\n",
            "Epoch 16/30\n",
            "112/112 - 5s - loss: 0.1488 - precision: 0.0231 - recall: 0.9400 - val_loss: 0.0407 - val_precision: 0.0927 - val_recall: 0.8933 - 5s/epoch - 43ms/step\n",
            "Epoch 17/30\n",
            "112/112 - 7s - loss: 0.1945 - precision: 0.0219 - recall: 0.9520 - val_loss: 0.1225 - val_precision: 0.0130 - val_recall: 0.9600 - 7s/epoch - 60ms/step\n",
            "Epoch 18/30\n",
            "112/112 - 5s - loss: 0.8502 - precision: 0.0137 - recall: 0.9353 - val_loss: 0.3123 - val_precision: 0.0072 - val_recall: 1.0000 - 5s/epoch - 43ms/step\n",
            "Epoch 19/30\n",
            "112/112 - 6s - loss: 0.3013 - precision: 0.0181 - recall: 0.9185 - val_loss: 0.1308 - val_precision: 0.0318 - val_recall: 0.8933 - 6s/epoch - 49ms/step\n",
            "Epoch 20/30\n",
            "112/112 - 6s - loss: 0.2001 - precision: 0.0224 - recall: 0.9472 - val_loss: 0.0922 - val_precision: 0.0252 - val_recall: 0.9200 - 6s/epoch - 54ms/step\n",
            "Epoch 21/30\n",
            "112/112 - 5s - loss: 0.1061 - precision: 0.0363 - recall: 0.9592 - val_loss: 0.0526 - val_precision: 0.0428 - val_recall: 0.9067 - 5s/epoch - 47ms/step\n",
            "Epoch 22/30\n",
            "112/112 - 7s - loss: 0.1090 - precision: 0.0305 - recall: 0.9688 - val_loss: 0.0987 - val_precision: 0.0197 - val_recall: 0.9067 - 7s/epoch - 60ms/step\n",
            "Epoch 23/30\n",
            "112/112 - 5s - loss: 0.1529 - precision: 0.0238 - recall: 0.9664 - val_loss: 0.0969 - val_precision: 0.0164 - val_recall: 0.9200 - 5s/epoch - 46ms/step\n",
            "Epoch 24/30\n",
            "112/112 - 6s - loss: 0.1489 - precision: 0.0285 - recall: 0.9664 - val_loss: 0.1138 - val_precision: 0.0163 - val_recall: 0.9333 - 6s/epoch - 50ms/step\n",
            "Epoch 25/30\n",
            "112/112 - 6s - loss: 0.1018 - precision: 0.0389 - recall: 0.9736 - val_loss: 0.0657 - val_precision: 0.0360 - val_recall: 0.8933 - 6s/epoch - 51ms/step\n",
            "Epoch 26/30\n",
            "112/112 - 5s - loss: 0.1314 - precision: 0.0291 - recall: 0.9592 - val_loss: 0.0770 - val_precision: 0.0372 - val_recall: 0.9067 - 5s/epoch - 43ms/step\n",
            "Epoch 27/30\n",
            "112/112 - 6s - loss: 0.2150 - precision: 0.0314 - recall: 0.9520 - val_loss: 0.0496 - val_precision: 0.0406 - val_recall: 0.8933 - 6s/epoch - 57ms/step\n",
            "Epoch 28/30\n",
            "112/112 - 5s - loss: 0.1426 - precision: 0.0372 - recall: 0.9664 - val_loss: 0.0800 - val_precision: 0.0519 - val_recall: 0.9067 - 5s/epoch - 43ms/step\n",
            "Epoch 29/30\n",
            "112/112 - 5s - loss: 0.1330 - precision: 0.0471 - recall: 0.9544 - val_loss: 0.0706 - val_precision: 0.0856 - val_recall: 0.8933 - 5s/epoch - 48ms/step\n",
            "Epoch 30/30\n",
            "112/112 - 6s - loss: 0.0830 - precision: 0.0626 - recall: 0.9544 - val_loss: 0.0625 - val_precision: 0.0300 - val_recall: 0.9333 - 6s/epoch - 53ms/step\n"
          ]
        }
      ]
    },
    {
      "cell_type": "code",
      "source": [
        "import plotly.graph_objects as go\n",
        "import plotly.express as px\n",
        "import plotly.io as pio"
      ],
      "metadata": {
        "id": "voZSEUuseBrn"
      },
      "execution_count": null,
      "outputs": []
    },
    {
      "cell_type": "code",
      "source": [
        "fig = go.Figure()\n",
        "fig.add_trace(go.Scatter(y = history.history['loss'], name = 'loss'))\n",
        "fig.add_trace(go.Scatter(y = history.history['val_loss'], name = 'val_loss'))\n",
        "fig.update_layout(\n",
        "    title = 'Pérdida del modelo (con capas de Dropout)',\n",
        "    xaxis_title = 'Época (epoch)',\n",
        "    yaxis_title = 'Pérdida (MSE)'\n",
        ")\n",
        "fig.show()"
      ],
      "metadata": {
        "id": "-47bedF_dGpF",
        "colab": {
          "base_uri": "https://localhost:8080/",
          "height": 542
        },
        "outputId": "9f83b551-d8bb-4ad2-c20d-b01b5ef85a99"
      },
      "execution_count": null,
      "outputs": [
        {
          "output_type": "display_data",
          "data": {
            "text/html": [
              "<html>\n",
              "<head><meta charset=\"utf-8\" /></head>\n",
              "<body>\n",
              "    <div>            <script src=\"https://cdnjs.cloudflare.com/ajax/libs/mathjax/2.7.5/MathJax.js?config=TeX-AMS-MML_SVG\"></script><script type=\"text/javascript\">if (window.MathJax && window.MathJax.Hub && window.MathJax.Hub.Config) {window.MathJax.Hub.Config({SVG: {font: \"STIX-Web\"}});}</script>                <script type=\"text/javascript\">window.PlotlyConfig = {MathJaxConfig: 'local'};</script>\n",
              "        <script charset=\"utf-8\" src=\"https://cdn.plot.ly/plotly-2.24.1.min.js\"></script>                <div id=\"aac32f7d-7dbe-4d3f-964e-f7f8354a16de\" class=\"plotly-graph-div\" style=\"height:525px; width:100%;\"></div>            <script type=\"text/javascript\">                                    window.PLOTLYENV=window.PLOTLYENV || {};                                    if (document.getElementById(\"aac32f7d-7dbe-4d3f-964e-f7f8354a16de\")) {                    Plotly.newPlot(                        \"aac32f7d-7dbe-4d3f-964e-f7f8354a16de\",                        [{\"name\":\"loss\",\"y\":[0.5139561891555786,0.20422187447547913,0.2466692328453064,0.44226744771003723,0.9156055450439453,0.2654775381088257,0.23317787051200867,0.2998040020465851,0.16790246963500977,0.14768946170806885,0.162858784198761,0.45840948820114136,0.5003948211669922,0.4174055755138397,0.20332086086273193,0.1488235741853714,0.194505512714386,0.8502013087272644,0.3012634515762329,0.20007728040218353,0.10613352805376053,0.10904954373836517,0.15289747714996338,0.14885017275810242,0.10178355127573013,0.13141322135925293,0.2149524688720703,0.14262916147708893,0.1329842060804367,0.08301334828138351],\"type\":\"scatter\"},{\"name\":\"val_loss\",\"y\":[0.44408634305000305,0.0778459757566452,0.449182391166687,0.058409176766872406,0.05029123276472092,0.05363517627120018,0.07498873025178909,0.262116014957428,0.03773133084177971,0.06322716176509857,0.15226218104362488,0.1496599316596985,0.14772699773311615,0.201982319355011,0.16572877764701843,0.04074301943182945,0.12246434390544891,0.3123394846916199,0.13078632950782776,0.09220417588949203,0.05264151841402054,0.09865708649158478,0.09692221134901047,0.11382842063903809,0.06570710241794586,0.07702884078025818,0.04961833357810974,0.0800475925207138,0.07056651264429092,0.06250117719173431],\"type\":\"scatter\"}],                        {\"template\":{\"data\":{\"histogram2dcontour\":[{\"type\":\"histogram2dcontour\",\"colorbar\":{\"outlinewidth\":0,\"ticks\":\"\"},\"colorscale\":[[0.0,\"#0d0887\"],[0.1111111111111111,\"#46039f\"],[0.2222222222222222,\"#7201a8\"],[0.3333333333333333,\"#9c179e\"],[0.4444444444444444,\"#bd3786\"],[0.5555555555555556,\"#d8576b\"],[0.6666666666666666,\"#ed7953\"],[0.7777777777777778,\"#fb9f3a\"],[0.8888888888888888,\"#fdca26\"],[1.0,\"#f0f921\"]]}],\"choropleth\":[{\"type\":\"choropleth\",\"colorbar\":{\"outlinewidth\":0,\"ticks\":\"\"}}],\"histogram2d\":[{\"type\":\"histogram2d\",\"colorbar\":{\"outlinewidth\":0,\"ticks\":\"\"},\"colorscale\":[[0.0,\"#0d0887\"],[0.1111111111111111,\"#46039f\"],[0.2222222222222222,\"#7201a8\"],[0.3333333333333333,\"#9c179e\"],[0.4444444444444444,\"#bd3786\"],[0.5555555555555556,\"#d8576b\"],[0.6666666666666666,\"#ed7953\"],[0.7777777777777778,\"#fb9f3a\"],[0.8888888888888888,\"#fdca26\"],[1.0,\"#f0f921\"]]}],\"heatmap\":[{\"type\":\"heatmap\",\"colorbar\":{\"outlinewidth\":0,\"ticks\":\"\"},\"colorscale\":[[0.0,\"#0d0887\"],[0.1111111111111111,\"#46039f\"],[0.2222222222222222,\"#7201a8\"],[0.3333333333333333,\"#9c179e\"],[0.4444444444444444,\"#bd3786\"],[0.5555555555555556,\"#d8576b\"],[0.6666666666666666,\"#ed7953\"],[0.7777777777777778,\"#fb9f3a\"],[0.8888888888888888,\"#fdca26\"],[1.0,\"#f0f921\"]]}],\"heatmapgl\":[{\"type\":\"heatmapgl\",\"colorbar\":{\"outlinewidth\":0,\"ticks\":\"\"},\"colorscale\":[[0.0,\"#0d0887\"],[0.1111111111111111,\"#46039f\"],[0.2222222222222222,\"#7201a8\"],[0.3333333333333333,\"#9c179e\"],[0.4444444444444444,\"#bd3786\"],[0.5555555555555556,\"#d8576b\"],[0.6666666666666666,\"#ed7953\"],[0.7777777777777778,\"#fb9f3a\"],[0.8888888888888888,\"#fdca26\"],[1.0,\"#f0f921\"]]}],\"contourcarpet\":[{\"type\":\"contourcarpet\",\"colorbar\":{\"outlinewidth\":0,\"ticks\":\"\"}}],\"contour\":[{\"type\":\"contour\",\"colorbar\":{\"outlinewidth\":0,\"ticks\":\"\"},\"colorscale\":[[0.0,\"#0d0887\"],[0.1111111111111111,\"#46039f\"],[0.2222222222222222,\"#7201a8\"],[0.3333333333333333,\"#9c179e\"],[0.4444444444444444,\"#bd3786\"],[0.5555555555555556,\"#d8576b\"],[0.6666666666666666,\"#ed7953\"],[0.7777777777777778,\"#fb9f3a\"],[0.8888888888888888,\"#fdca26\"],[1.0,\"#f0f921\"]]}],\"surface\":[{\"type\":\"surface\",\"colorbar\":{\"outlinewidth\":0,\"ticks\":\"\"},\"colorscale\":[[0.0,\"#0d0887\"],[0.1111111111111111,\"#46039f\"],[0.2222222222222222,\"#7201a8\"],[0.3333333333333333,\"#9c179e\"],[0.4444444444444444,\"#bd3786\"],[0.5555555555555556,\"#d8576b\"],[0.6666666666666666,\"#ed7953\"],[0.7777777777777778,\"#fb9f3a\"],[0.8888888888888888,\"#fdca26\"],[1.0,\"#f0f921\"]]}],\"mesh3d\":[{\"type\":\"mesh3d\",\"colorbar\":{\"outlinewidth\":0,\"ticks\":\"\"}}],\"scatter\":[{\"fillpattern\":{\"fillmode\":\"overlay\",\"size\":10,\"solidity\":0.2},\"type\":\"scatter\"}],\"parcoords\":[{\"type\":\"parcoords\",\"line\":{\"colorbar\":{\"outlinewidth\":0,\"ticks\":\"\"}}}],\"scatterpolargl\":[{\"type\":\"scatterpolargl\",\"marker\":{\"colorbar\":{\"outlinewidth\":0,\"ticks\":\"\"}}}],\"bar\":[{\"error_x\":{\"color\":\"#2a3f5f\"},\"error_y\":{\"color\":\"#2a3f5f\"},\"marker\":{\"line\":{\"color\":\"#E5ECF6\",\"width\":0.5},\"pattern\":{\"fillmode\":\"overlay\",\"size\":10,\"solidity\":0.2}},\"type\":\"bar\"}],\"scattergeo\":[{\"type\":\"scattergeo\",\"marker\":{\"colorbar\":{\"outlinewidth\":0,\"ticks\":\"\"}}}],\"scatterpolar\":[{\"type\":\"scatterpolar\",\"marker\":{\"colorbar\":{\"outlinewidth\":0,\"ticks\":\"\"}}}],\"histogram\":[{\"marker\":{\"pattern\":{\"fillmode\":\"overlay\",\"size\":10,\"solidity\":0.2}},\"type\":\"histogram\"}],\"scattergl\":[{\"type\":\"scattergl\",\"marker\":{\"colorbar\":{\"outlinewidth\":0,\"ticks\":\"\"}}}],\"scatter3d\":[{\"type\":\"scatter3d\",\"line\":{\"colorbar\":{\"outlinewidth\":0,\"ticks\":\"\"}},\"marker\":{\"colorbar\":{\"outlinewidth\":0,\"ticks\":\"\"}}}],\"scattermapbox\":[{\"type\":\"scattermapbox\",\"marker\":{\"colorbar\":{\"outlinewidth\":0,\"ticks\":\"\"}}}],\"scatterternary\":[{\"type\":\"scatterternary\",\"marker\":{\"colorbar\":{\"outlinewidth\":0,\"ticks\":\"\"}}}],\"scattercarpet\":[{\"type\":\"scattercarpet\",\"marker\":{\"colorbar\":{\"outlinewidth\":0,\"ticks\":\"\"}}}],\"carpet\":[{\"aaxis\":{\"endlinecolor\":\"#2a3f5f\",\"gridcolor\":\"white\",\"linecolor\":\"white\",\"minorgridcolor\":\"white\",\"startlinecolor\":\"#2a3f5f\"},\"baxis\":{\"endlinecolor\":\"#2a3f5f\",\"gridcolor\":\"white\",\"linecolor\":\"white\",\"minorgridcolor\":\"white\",\"startlinecolor\":\"#2a3f5f\"},\"type\":\"carpet\"}],\"table\":[{\"cells\":{\"fill\":{\"color\":\"#EBF0F8\"},\"line\":{\"color\":\"white\"}},\"header\":{\"fill\":{\"color\":\"#C8D4E3\"},\"line\":{\"color\":\"white\"}},\"type\":\"table\"}],\"barpolar\":[{\"marker\":{\"line\":{\"color\":\"#E5ECF6\",\"width\":0.5},\"pattern\":{\"fillmode\":\"overlay\",\"size\":10,\"solidity\":0.2}},\"type\":\"barpolar\"}],\"pie\":[{\"automargin\":true,\"type\":\"pie\"}]},\"layout\":{\"autotypenumbers\":\"strict\",\"colorway\":[\"#636efa\",\"#EF553B\",\"#00cc96\",\"#ab63fa\",\"#FFA15A\",\"#19d3f3\",\"#FF6692\",\"#B6E880\",\"#FF97FF\",\"#FECB52\"],\"font\":{\"color\":\"#2a3f5f\"},\"hovermode\":\"closest\",\"hoverlabel\":{\"align\":\"left\"},\"paper_bgcolor\":\"white\",\"plot_bgcolor\":\"#E5ECF6\",\"polar\":{\"bgcolor\":\"#E5ECF6\",\"angularaxis\":{\"gridcolor\":\"white\",\"linecolor\":\"white\",\"ticks\":\"\"},\"radialaxis\":{\"gridcolor\":\"white\",\"linecolor\":\"white\",\"ticks\":\"\"}},\"ternary\":{\"bgcolor\":\"#E5ECF6\",\"aaxis\":{\"gridcolor\":\"white\",\"linecolor\":\"white\",\"ticks\":\"\"},\"baxis\":{\"gridcolor\":\"white\",\"linecolor\":\"white\",\"ticks\":\"\"},\"caxis\":{\"gridcolor\":\"white\",\"linecolor\":\"white\",\"ticks\":\"\"}},\"coloraxis\":{\"colorbar\":{\"outlinewidth\":0,\"ticks\":\"\"}},\"colorscale\":{\"sequential\":[[0.0,\"#0d0887\"],[0.1111111111111111,\"#46039f\"],[0.2222222222222222,\"#7201a8\"],[0.3333333333333333,\"#9c179e\"],[0.4444444444444444,\"#bd3786\"],[0.5555555555555556,\"#d8576b\"],[0.6666666666666666,\"#ed7953\"],[0.7777777777777778,\"#fb9f3a\"],[0.8888888888888888,\"#fdca26\"],[1.0,\"#f0f921\"]],\"sequentialminus\":[[0.0,\"#0d0887\"],[0.1111111111111111,\"#46039f\"],[0.2222222222222222,\"#7201a8\"],[0.3333333333333333,\"#9c179e\"],[0.4444444444444444,\"#bd3786\"],[0.5555555555555556,\"#d8576b\"],[0.6666666666666666,\"#ed7953\"],[0.7777777777777778,\"#fb9f3a\"],[0.8888888888888888,\"#fdca26\"],[1.0,\"#f0f921\"]],\"diverging\":[[0,\"#8e0152\"],[0.1,\"#c51b7d\"],[0.2,\"#de77ae\"],[0.3,\"#f1b6da\"],[0.4,\"#fde0ef\"],[0.5,\"#f7f7f7\"],[0.6,\"#e6f5d0\"],[0.7,\"#b8e186\"],[0.8,\"#7fbc41\"],[0.9,\"#4d9221\"],[1,\"#276419\"]]},\"xaxis\":{\"gridcolor\":\"white\",\"linecolor\":\"white\",\"ticks\":\"\",\"title\":{\"standoff\":15},\"zerolinecolor\":\"white\",\"automargin\":true,\"zerolinewidth\":2},\"yaxis\":{\"gridcolor\":\"white\",\"linecolor\":\"white\",\"ticks\":\"\",\"title\":{\"standoff\":15},\"zerolinecolor\":\"white\",\"automargin\":true,\"zerolinewidth\":2},\"scene\":{\"xaxis\":{\"backgroundcolor\":\"#E5ECF6\",\"gridcolor\":\"white\",\"linecolor\":\"white\",\"showbackground\":true,\"ticks\":\"\",\"zerolinecolor\":\"white\",\"gridwidth\":2},\"yaxis\":{\"backgroundcolor\":\"#E5ECF6\",\"gridcolor\":\"white\",\"linecolor\":\"white\",\"showbackground\":true,\"ticks\":\"\",\"zerolinecolor\":\"white\",\"gridwidth\":2},\"zaxis\":{\"backgroundcolor\":\"#E5ECF6\",\"gridcolor\":\"white\",\"linecolor\":\"white\",\"showbackground\":true,\"ticks\":\"\",\"zerolinecolor\":\"white\",\"gridwidth\":2}},\"shapedefaults\":{\"line\":{\"color\":\"#2a3f5f\"}},\"annotationdefaults\":{\"arrowcolor\":\"#2a3f5f\",\"arrowhead\":0,\"arrowwidth\":1},\"geo\":{\"bgcolor\":\"white\",\"landcolor\":\"#E5ECF6\",\"subunitcolor\":\"white\",\"showland\":true,\"showlakes\":true,\"lakecolor\":\"white\"},\"title\":{\"x\":0.05},\"mapbox\":{\"style\":\"light\"}}},\"title\":{\"text\":\"P\\u00e9rdida del modelo (con capas de Dropout)\"},\"xaxis\":{\"title\":{\"text\":\"\\u00c9poca (epoch)\"}},\"yaxis\":{\"title\":{\"text\":\"P\\u00e9rdida (MSE)\"}}},                        {\"responsive\": true}                    ).then(function(){\n",
              "                            \n",
              "var gd = document.getElementById('aac32f7d-7dbe-4d3f-964e-f7f8354a16de');\n",
              "var x = new MutationObserver(function (mutations, observer) {{\n",
              "        var display = window.getComputedStyle(gd).display;\n",
              "        if (!display || display === 'none') {{\n",
              "            console.log([gd, 'removed!']);\n",
              "            Plotly.purge(gd);\n",
              "            observer.disconnect();\n",
              "        }}\n",
              "}});\n",
              "\n",
              "// Listen for the removal of the full notebook cells\n",
              "var notebookContainer = gd.closest('#notebook-container');\n",
              "if (notebookContainer) {{\n",
              "    x.observe(notebookContainer, {childList: true});\n",
              "}}\n",
              "\n",
              "// Listen for the clearing of the current output cell\n",
              "var outputEl = gd.closest('.output');\n",
              "if (outputEl) {{\n",
              "    x.observe(outputEl, {childList: true});\n",
              "}}\n",
              "\n",
              "                        })                };                            </script>        </div>\n",
              "</body>\n",
              "</html>"
            ]
          },
          "metadata": {}
        }
      ]
    },
    {
      "cell_type": "code",
      "source": [
        "from tensorflow import keras\n",
        "import tensorflow as tf\n",
        "\n",
        "model = keras.Sequential(\n",
        "    [\n",
        "        keras.layers.Dense(256, activation=\"relu\", input_shape=(train_features.shape[-1],)),\n",
        "        keras.layers.Dense(256, activation=\"relu\"),\n",
        "        #keras.layers.Dropout(0.3), ###\n",
        "        keras.layers.Dense(256, activation=\"relu\"),\n",
        "        #keras.layers.Dropout(0.3), ###\n",
        "        keras.layers.Dense(1, activation=\"sigmoid\"),  # softmax y linear\n",
        "    ]\n",
        ")\n",
        "model.summary()"
      ],
      "metadata": {
        "id": "qrVJoo_dH2du",
        "colab": {
          "base_uri": "https://localhost:8080/"
        },
        "outputId": "2c83b413-fcca-4a05-f4a1-e55481338f8e"
      },
      "execution_count": null,
      "outputs": [
        {
          "output_type": "stream",
          "name": "stdout",
          "text": [
            "Model: \"sequential_1\"\n",
            "_________________________________________________________________\n",
            " Layer (type)                Output Shape              Param #   \n",
            "=================================================================\n",
            " dense_4 (Dense)             (None, 256)               7680      \n",
            "                                                                 \n",
            " dense_5 (Dense)             (None, 256)               65792     \n",
            "                                                                 \n",
            " dense_6 (Dense)             (None, 256)               65792     \n",
            "                                                                 \n",
            " dense_7 (Dense)             (None, 1)                 257       \n",
            "                                                                 \n",
            "=================================================================\n",
            "Total params: 139521 (545.00 KB)\n",
            "Trainable params: 139521 (545.00 KB)\n",
            "Non-trainable params: 0 (0.00 Byte)\n",
            "_________________________________________________________________\n"
          ]
        }
      ]
    },
    {
      "cell_type": "code",
      "source": [
        "metrics = [\n",
        "    keras.metrics.FalseNegatives(name=\"fn\"),\n",
        "    keras.metrics.FalsePositives(name=\"fp\"),\n",
        "    keras.metrics.TrueNegatives(name=\"tn\"),\n",
        "    keras.metrics.TruePositives(name=\"tp\"),\n",
        "    keras.metrics.Precision(name=\"precision\"),\n",
        "    keras.metrics.Recall(name=\"recall\"),\n",
        "]\n",
        "\n",
        "model.compile(\n",
        "    optimizer=keras.optimizers.Adam(0.01), loss=\"binary_crossentropy\", metrics=metrics # El 0.01 es llamado \"learning rate\"\n",
        ")\n",
        "\n",
        "# Para poder guardar info del entranamiento\n",
        "callbacks = [keras.callbacks.ModelCheckpoint(\"fraud_model_at_epoch_{epoch}.h5\")]\n",
        "\n",
        "# Utilizada para asignar pesos que \"balanceen\" las clases\n",
        "class_weight = {0: weight_for_0, 1: weight_for_1}\n",
        "\n",
        "history = model.fit(\n",
        "    train_features,\n",
        "    train_targets,\n",
        "    batch_size=2048, # Cantidad de datos que optimizan pesos por cada pasada, \"batch size\"\n",
        "    epochs=30, # Cantidad de pasadas que dan todos los datos, para entrenamiento\n",
        "    verbose=2,\n",
        "    callbacks=callbacks,\n",
        "    validation_data=(val_features, val_targets), # Solo para medir como va avanzando el modelo, no utiliza estos datos para modificar pesos\n",
        "    class_weight=class_weight,\n",
        ")"
      ],
      "metadata": {
        "id": "L3alYb3lH2dv",
        "colab": {
          "base_uri": "https://localhost:8080/"
        },
        "outputId": "69dd6323-4027-48ed-b4bf-5fceb72a520f"
      },
      "execution_count": null,
      "outputs": [
        {
          "output_type": "stream",
          "name": "stdout",
          "text": [
            "Epoch 1/30\n",
            "112/112 - 7s - loss: 0.3064 - fn: 49.0000 - fp: 10706.0000 - tn: 216723.0000 - tp: 368.0000 - precision: 0.0332 - recall: 0.8825 - val_loss: 0.1257 - val_fn: 8.0000 - val_fp: 1922.0000 - val_tn: 54964.0000 - val_tp: 67.0000 - val_precision: 0.0337 - val_recall: 0.8933 - 7s/epoch - 65ms/step\n",
            "Epoch 2/30\n"
          ]
        },
        {
          "output_type": "stream",
          "name": "stderr",
          "text": [
            "/usr/local/lib/python3.10/dist-packages/keras/src/engine/training.py:3103: UserWarning:\n",
            "\n",
            "You are saving your model as an HDF5 file via `model.save()`. This file format is considered legacy. We recommend using instead the native Keras format, e.g. `model.save('my_model.keras')`.\n",
            "\n"
          ]
        },
        {
          "output_type": "stream",
          "name": "stdout",
          "text": [
            "112/112 - 4s - loss: 0.1702 - fn: 31.0000 - fp: 5464.0000 - tn: 221965.0000 - tp: 386.0000 - precision: 0.0660 - recall: 0.9257 - val_loss: 0.2489 - val_fn: 5.0000 - val_fp: 4763.0000 - val_tn: 52123.0000 - val_tp: 70.0000 - val_precision: 0.0145 - val_recall: 0.9333 - 4s/epoch - 34ms/step\n",
            "Epoch 3/30\n",
            "112/112 - 4s - loss: 0.1403 - fn: 27.0000 - fp: 6176.0000 - tn: 221253.0000 - tp: 390.0000 - precision: 0.0594 - recall: 0.9353 - val_loss: 0.1070 - val_fn: 9.0000 - val_fp: 909.0000 - val_tn: 55977.0000 - val_tp: 66.0000 - val_precision: 0.0677 - val_recall: 0.8800 - 4s/epoch - 37ms/step\n",
            "Epoch 4/30\n",
            "112/112 - 6s - loss: 0.1178 - fn: 25.0000 - fp: 6153.0000 - tn: 221276.0000 - tp: 392.0000 - precision: 0.0599 - recall: 0.9400 - val_loss: 0.1402 - val_fn: 75.0000 - val_fp: 1.0000 - val_tn: 56885.0000 - val_tp: 0.0000e+00 - val_precision: 0.0000e+00 - val_recall: 0.0000e+00 - 6s/epoch - 51ms/step\n",
            "Epoch 5/30\n",
            "112/112 - 4s - loss: 0.1906 - fn: 45.0000 - fp: 8845.0000 - tn: 218584.0000 - tp: 372.0000 - precision: 0.0404 - recall: 0.8921 - val_loss: 0.4128 - val_fn: 0.0000e+00 - val_fp: 6572.0000 - val_tn: 50314.0000 - val_tp: 75.0000 - val_precision: 0.0113 - val_recall: 1.0000 - 4s/epoch - 37ms/step\n",
            "Epoch 6/30\n",
            "112/112 - 4s - loss: 0.1220 - fn: 23.0000 - fp: 6894.0000 - tn: 220535.0000 - tp: 394.0000 - precision: 0.0541 - recall: 0.9448 - val_loss: 0.1677 - val_fn: 6.0000 - val_fp: 2083.0000 - val_tn: 54803.0000 - val_tp: 69.0000 - val_precision: 0.0321 - val_recall: 0.9200 - 4s/epoch - 34ms/step\n",
            "Epoch 7/30\n",
            "112/112 - 6s - loss: 0.8157 - fn: 34.0000 - fp: 8650.0000 - tn: 218779.0000 - tp: 383.0000 - precision: 0.0424 - recall: 0.9185 - val_loss: 0.5726 - val_fn: 1.0000 - val_fp: 8260.0000 - val_tn: 48626.0000 - val_tp: 74.0000 - val_precision: 0.0089 - val_recall: 0.9867 - 6s/epoch - 49ms/step\n",
            "Epoch 8/30\n",
            "112/112 - 4s - loss: 3.1159 - fn: 40.0000 - fp: 17363.0000 - tn: 210066.0000 - tp: 377.0000 - precision: 0.0213 - recall: 0.9041 - val_loss: 1.9704 - val_fn: 9.0000 - val_fp: 2998.0000 - val_tn: 53888.0000 - val_tp: 66.0000 - val_precision: 0.0215 - val_recall: 0.8800 - 4s/epoch - 37ms/step\n",
            "Epoch 9/30\n",
            "112/112 - 4s - loss: 4.1050 - fn: 42.0000 - fp: 19889.0000 - tn: 207540.0000 - tp: 375.0000 - precision: 0.0185 - recall: 0.8993 - val_loss: 0.8253 - val_fn: 18.0000 - val_fp: 25.0000 - val_tn: 56861.0000 - val_tp: 57.0000 - val_precision: 0.6951 - val_recall: 0.7600 - 4s/epoch - 37ms/step\n",
            "Epoch 10/30\n",
            "112/112 - 5s - loss: 1.0783 - fn: 11.0000 - fp: 24125.0000 - tn: 203304.0000 - tp: 406.0000 - precision: 0.0166 - recall: 0.9736 - val_loss: 0.2692 - val_fn: 1.0000 - val_fp: 9126.0000 - val_tn: 47760.0000 - val_tp: 74.0000 - val_precision: 0.0080 - val_recall: 0.9867 - 5s/epoch - 49ms/step\n",
            "Epoch 11/30\n",
            "112/112 - 4s - loss: 0.4568 - fn: 10.0000 - fp: 18839.0000 - tn: 208590.0000 - tp: 407.0000 - precision: 0.0211 - recall: 0.9760 - val_loss: 0.1556 - val_fn: 5.0000 - val_fp: 4588.0000 - val_tn: 52298.0000 - val_tp: 70.0000 - val_precision: 0.0150 - val_recall: 0.9333 - 4s/epoch - 37ms/step\n",
            "Epoch 12/30\n",
            "112/112 - 4s - loss: 0.1877 - fn: 11.0000 - fp: 17031.0000 - tn: 210398.0000 - tp: 406.0000 - precision: 0.0233 - recall: 0.9736 - val_loss: 0.1145 - val_fn: 4.0000 - val_fp: 5616.0000 - val_tn: 51270.0000 - val_tp: 71.0000 - val_precision: 0.0125 - val_recall: 0.9467 - 4s/epoch - 37ms/step\n",
            "Epoch 13/30\n",
            "112/112 - 5s - loss: 0.6542 - fn: 8.0000 - fp: 31790.0000 - tn: 195639.0000 - tp: 409.0000 - precision: 0.0127 - recall: 0.9808 - val_loss: 0.2961 - val_fn: 2.0000 - val_fp: 7600.0000 - val_tn: 49286.0000 - val_tp: 73.0000 - val_precision: 0.0095 - val_recall: 0.9733 - 5s/epoch - 49ms/step\n",
            "Epoch 14/30\n",
            "112/112 - 4s - loss: 0.3510 - fn: 7.0000 - fp: 19432.0000 - tn: 207997.0000 - tp: 410.0000 - precision: 0.0207 - recall: 0.9832 - val_loss: 0.1150 - val_fn: 7.0000 - val_fp: 2389.0000 - val_tn: 54497.0000 - val_tp: 68.0000 - val_precision: 0.0277 - val_recall: 0.9067 - 4s/epoch - 35ms/step\n",
            "Epoch 15/30\n",
            "112/112 - 4s - loss: 0.1914 - fn: 12.0000 - fp: 11883.0000 - tn: 215546.0000 - tp: 405.0000 - precision: 0.0330 - recall: 0.9712 - val_loss: 0.0825 - val_fn: 7.0000 - val_fp: 2564.0000 - val_tn: 54322.0000 - val_tp: 68.0000 - val_precision: 0.0258 - val_recall: 0.9067 - 4s/epoch - 38ms/step\n",
            "Epoch 16/30\n",
            "112/112 - 5s - loss: 0.0909 - fn: 8.0000 - fp: 9156.0000 - tn: 218273.0000 - tp: 409.0000 - precision: 0.0428 - recall: 0.9808 - val_loss: 0.0299 - val_fn: 10.0000 - val_fp: 809.0000 - val_tn: 56077.0000 - val_tp: 65.0000 - val_precision: 0.0744 - val_recall: 0.8667 - 5s/epoch - 47ms/step\n",
            "Epoch 17/30\n",
            "112/112 - 4s - loss: 0.0670 - fn: 5.0000 - fp: 7776.0000 - tn: 219653.0000 - tp: 412.0000 - precision: 0.0503 - recall: 0.9880 - val_loss: 0.0879 - val_fn: 6.0000 - val_fp: 3198.0000 - val_tn: 53688.0000 - val_tp: 69.0000 - val_precision: 0.0211 - val_recall: 0.9200 - 4s/epoch - 36ms/step\n",
            "Epoch 18/30\n",
            "112/112 - 4s - loss: 0.0798 - fn: 4.0000 - fp: 11705.0000 - tn: 215724.0000 - tp: 413.0000 - precision: 0.0341 - recall: 0.9904 - val_loss: 0.0736 - val_fn: 8.0000 - val_fp: 2586.0000 - val_tn: 54300.0000 - val_tp: 67.0000 - val_precision: 0.0253 - val_recall: 0.8933 - 4s/epoch - 37ms/step\n",
            "Epoch 19/30\n",
            "112/112 - 5s - loss: 0.1254 - fn: 5.0000 - fp: 22293.0000 - tn: 205136.0000 - tp: 412.0000 - precision: 0.0181 - recall: 0.9880 - val_loss: 0.1175 - val_fn: 5.0000 - val_fp: 4530.0000 - val_tn: 52356.0000 - val_tp: 70.0000 - val_precision: 0.0152 - val_recall: 0.9333 - 5s/epoch - 45ms/step\n",
            "Epoch 20/30\n",
            "112/112 - 5s - loss: 0.1279 - fn: 3.0000 - fp: 25170.0000 - tn: 202259.0000 - tp: 414.0000 - precision: 0.0162 - recall: 0.9928 - val_loss: 0.1295 - val_fn: 3.0000 - val_fp: 5802.0000 - val_tn: 51084.0000 - val_tp: 72.0000 - val_precision: 0.0123 - val_recall: 0.9600 - 5s/epoch - 41ms/step\n",
            "Epoch 21/30\n",
            "112/112 - 4s - loss: 0.1006 - fn: 3.0000 - fp: 16518.0000 - tn: 210911.0000 - tp: 414.0000 - precision: 0.0245 - recall: 0.9928 - val_loss: 0.0881 - val_fn: 3.0000 - val_fp: 3770.0000 - val_tn: 53116.0000 - val_tp: 72.0000 - val_precision: 0.0187 - val_recall: 0.9600 - 4s/epoch - 37ms/step\n",
            "Epoch 22/30\n",
            "112/112 - 5s - loss: 0.0921 - fn: 6.0000 - fp: 15382.0000 - tn: 212047.0000 - tp: 411.0000 - precision: 0.0260 - recall: 0.9856 - val_loss: 0.1257 - val_fn: 4.0000 - val_fp: 5107.0000 - val_tn: 51779.0000 - val_tp: 71.0000 - val_precision: 0.0137 - val_recall: 0.9467 - 5s/epoch - 44ms/step\n",
            "Epoch 23/30\n",
            "112/112 - 4s - loss: 0.0925 - fn: 4.0000 - fp: 17219.0000 - tn: 210210.0000 - tp: 413.0000 - precision: 0.0234 - recall: 0.9904 - val_loss: 0.0896 - val_fn: 6.0000 - val_fp: 3640.0000 - val_tn: 53246.0000 - val_tp: 69.0000 - val_precision: 0.0186 - val_recall: 0.9200 - 4s/epoch - 39ms/step\n",
            "Epoch 24/30\n",
            "112/112 - 4s - loss: 0.0723 - fn: 3.0000 - fp: 11744.0000 - tn: 215685.0000 - tp: 414.0000 - precision: 0.0341 - recall: 0.9928 - val_loss: 0.0972 - val_fn: 5.0000 - val_fp: 3750.0000 - val_tn: 53136.0000 - val_tp: 70.0000 - val_precision: 0.0183 - val_recall: 0.9333 - 4s/epoch - 34ms/step\n",
            "Epoch 25/30\n",
            "112/112 - 4s - loss: 0.0916 - fn: 7.0000 - fp: 14213.0000 - tn: 213216.0000 - tp: 410.0000 - precision: 0.0280 - recall: 0.9832 - val_loss: 0.0967 - val_fn: 7.0000 - val_fp: 3528.0000 - val_tn: 53358.0000 - val_tp: 68.0000 - val_precision: 0.0189 - val_recall: 0.9067 - 4s/epoch - 39ms/step\n",
            "Epoch 26/30\n",
            "112/112 - 5s - loss: 0.0717 - fn: 3.0000 - fp: 10252.0000 - tn: 217177.0000 - tp: 414.0000 - precision: 0.0388 - recall: 0.9928 - val_loss: 0.0566 - val_fn: 8.0000 - val_fp: 1906.0000 - val_tn: 54980.0000 - val_tp: 67.0000 - val_precision: 0.0340 - val_recall: 0.8933 - 5s/epoch - 44ms/step\n",
            "Epoch 27/30\n",
            "112/112 - 4s - loss: 0.0533 - fn: 3.0000 - fp: 5914.0000 - tn: 221515.0000 - tp: 414.0000 - precision: 0.0654 - recall: 0.9928 - val_loss: 0.0592 - val_fn: 7.0000 - val_fp: 1824.0000 - val_tn: 55062.0000 - val_tp: 68.0000 - val_precision: 0.0359 - val_recall: 0.9067 - 4s/epoch - 34ms/step\n",
            "Epoch 28/30\n",
            "112/112 - 4s - loss: 0.0584 - fn: 2.0000 - fp: 9221.0000 - tn: 218208.0000 - tp: 415.0000 - precision: 0.0431 - recall: 0.9952 - val_loss: 0.0534 - val_fn: 7.0000 - val_fp: 1618.0000 - val_tn: 55268.0000 - val_tp: 68.0000 - val_precision: 0.0403 - val_recall: 0.9067 - 4s/epoch - 34ms/step\n",
            "Epoch 29/30\n",
            "112/112 - 6s - loss: 0.0616 - fn: 2.0000 - fp: 9534.0000 - tn: 217895.0000 - tp: 415.0000 - precision: 0.0417 - recall: 0.9952 - val_loss: 0.0327 - val_fn: 8.0000 - val_fp: 922.0000 - val_tn: 55964.0000 - val_tp: 67.0000 - val_precision: 0.0677 - val_recall: 0.8933 - 6s/epoch - 52ms/step\n",
            "Epoch 30/30\n",
            "112/112 - 4s - loss: 0.0602 - fn: 4.0000 - fp: 6735.0000 - tn: 220694.0000 - tp: 413.0000 - precision: 0.0578 - recall: 0.9904 - val_loss: 0.0430 - val_fn: 8.0000 - val_fp: 1182.0000 - val_tn: 55704.0000 - val_tp: 67.0000 - val_precision: 0.0536 - val_recall: 0.8933 - 4s/epoch - 37ms/step\n"
          ]
        }
      ]
    },
    {
      "cell_type": "code",
      "source": [
        "# Esta celda es ejecutada entrenando otra red nueva, en la que no habrá dropout\n",
        "fig = go.Figure()\n",
        "fig.add_trace(go.Scatter(y = history.history['loss'], name = 'loss'))\n",
        "fig.add_trace(go.Scatter(y = history.history['val_loss'], name = 'val_loss'))\n",
        "fig.update_layout(\n",
        "    title = 'Pérdida del modelo (sin capas de Dropout)',\n",
        "    xaxis_title = 'Época (epoch)',\n",
        "    yaxis_title = 'Pérdida (MSE)'\n",
        ")\n",
        "fig.show()"
      ],
      "metadata": {
        "id": "l7njJPPtdRfe",
        "colab": {
          "base_uri": "https://localhost:8080/",
          "height": 542
        },
        "outputId": "c5aa98db-191b-4e63-902c-3670f1882d7e"
      },
      "execution_count": null,
      "outputs": [
        {
          "output_type": "display_data",
          "data": {
            "text/html": [
              "<html>\n",
              "<head><meta charset=\"utf-8\" /></head>\n",
              "<body>\n",
              "    <div>            <script src=\"https://cdnjs.cloudflare.com/ajax/libs/mathjax/2.7.5/MathJax.js?config=TeX-AMS-MML_SVG\"></script><script type=\"text/javascript\">if (window.MathJax && window.MathJax.Hub && window.MathJax.Hub.Config) {window.MathJax.Hub.Config({SVG: {font: \"STIX-Web\"}});}</script>                <script type=\"text/javascript\">window.PlotlyConfig = {MathJaxConfig: 'local'};</script>\n",
              "        <script charset=\"utf-8\" src=\"https://cdn.plot.ly/plotly-2.24.1.min.js\"></script>                <div id=\"fad7842d-8ccb-4fee-983f-9c51301c48fc\" class=\"plotly-graph-div\" style=\"height:525px; width:100%;\"></div>            <script type=\"text/javascript\">                                    window.PLOTLYENV=window.PLOTLYENV || {};                                    if (document.getElementById(\"fad7842d-8ccb-4fee-983f-9c51301c48fc\")) {                    Plotly.newPlot(                        \"fad7842d-8ccb-4fee-983f-9c51301c48fc\",                        [{\"name\":\"loss\",\"y\":[0.3064247965812683,0.1701863557100296,0.14032162725925446,0.11781288683414459,0.19064030051231384,0.12202362716197968,0.815743088722229,3.1159262657165527,4.105025291442871,1.0783212184906006,0.45681193470954895,0.18770663440227509,0.6541986465454102,0.350996732711792,0.19136692583560944,0.09091979265213013,0.06701100617647171,0.07983172684907913,0.12543529272079468,0.12794259190559387,0.10064493864774704,0.09210336208343506,0.09248208999633789,0.07225922495126724,0.09159453958272934,0.07168750464916229,0.05326467752456665,0.058357514441013336,0.06157524138689041,0.060178276151418686],\"type\":\"scatter\"},{\"name\":\"val_loss\",\"y\":[0.12565582990646362,0.24890249967575073,0.10700882226228714,0.14015372097492218,0.41277652978897095,0.16768060624599457,0.5726261138916016,1.9704351425170898,0.8253201246261597,0.2692129909992218,0.15556477010250092,0.11452861875295639,0.2960684299468994,0.11500966548919678,0.08251970261335373,0.029943419620394707,0.08790268748998642,0.07356438785791397,0.1175350770354271,0.1294744461774826,0.08809909969568253,0.1256873607635498,0.08957735449075699,0.09720805287361145,0.09670533239841461,0.05663245543837547,0.05917259305715561,0.05337922275066376,0.03266620635986328,0.04302221164107323],\"type\":\"scatter\"}],                        {\"template\":{\"data\":{\"histogram2dcontour\":[{\"type\":\"histogram2dcontour\",\"colorbar\":{\"outlinewidth\":0,\"ticks\":\"\"},\"colorscale\":[[0.0,\"#0d0887\"],[0.1111111111111111,\"#46039f\"],[0.2222222222222222,\"#7201a8\"],[0.3333333333333333,\"#9c179e\"],[0.4444444444444444,\"#bd3786\"],[0.5555555555555556,\"#d8576b\"],[0.6666666666666666,\"#ed7953\"],[0.7777777777777778,\"#fb9f3a\"],[0.8888888888888888,\"#fdca26\"],[1.0,\"#f0f921\"]]}],\"choropleth\":[{\"type\":\"choropleth\",\"colorbar\":{\"outlinewidth\":0,\"ticks\":\"\"}}],\"histogram2d\":[{\"type\":\"histogram2d\",\"colorbar\":{\"outlinewidth\":0,\"ticks\":\"\"},\"colorscale\":[[0.0,\"#0d0887\"],[0.1111111111111111,\"#46039f\"],[0.2222222222222222,\"#7201a8\"],[0.3333333333333333,\"#9c179e\"],[0.4444444444444444,\"#bd3786\"],[0.5555555555555556,\"#d8576b\"],[0.6666666666666666,\"#ed7953\"],[0.7777777777777778,\"#fb9f3a\"],[0.8888888888888888,\"#fdca26\"],[1.0,\"#f0f921\"]]}],\"heatmap\":[{\"type\":\"heatmap\",\"colorbar\":{\"outlinewidth\":0,\"ticks\":\"\"},\"colorscale\":[[0.0,\"#0d0887\"],[0.1111111111111111,\"#46039f\"],[0.2222222222222222,\"#7201a8\"],[0.3333333333333333,\"#9c179e\"],[0.4444444444444444,\"#bd3786\"],[0.5555555555555556,\"#d8576b\"],[0.6666666666666666,\"#ed7953\"],[0.7777777777777778,\"#fb9f3a\"],[0.8888888888888888,\"#fdca26\"],[1.0,\"#f0f921\"]]}],\"heatmapgl\":[{\"type\":\"heatmapgl\",\"colorbar\":{\"outlinewidth\":0,\"ticks\":\"\"},\"colorscale\":[[0.0,\"#0d0887\"],[0.1111111111111111,\"#46039f\"],[0.2222222222222222,\"#7201a8\"],[0.3333333333333333,\"#9c179e\"],[0.4444444444444444,\"#bd3786\"],[0.5555555555555556,\"#d8576b\"],[0.6666666666666666,\"#ed7953\"],[0.7777777777777778,\"#fb9f3a\"],[0.8888888888888888,\"#fdca26\"],[1.0,\"#f0f921\"]]}],\"contourcarpet\":[{\"type\":\"contourcarpet\",\"colorbar\":{\"outlinewidth\":0,\"ticks\":\"\"}}],\"contour\":[{\"type\":\"contour\",\"colorbar\":{\"outlinewidth\":0,\"ticks\":\"\"},\"colorscale\":[[0.0,\"#0d0887\"],[0.1111111111111111,\"#46039f\"],[0.2222222222222222,\"#7201a8\"],[0.3333333333333333,\"#9c179e\"],[0.4444444444444444,\"#bd3786\"],[0.5555555555555556,\"#d8576b\"],[0.6666666666666666,\"#ed7953\"],[0.7777777777777778,\"#fb9f3a\"],[0.8888888888888888,\"#fdca26\"],[1.0,\"#f0f921\"]]}],\"surface\":[{\"type\":\"surface\",\"colorbar\":{\"outlinewidth\":0,\"ticks\":\"\"},\"colorscale\":[[0.0,\"#0d0887\"],[0.1111111111111111,\"#46039f\"],[0.2222222222222222,\"#7201a8\"],[0.3333333333333333,\"#9c179e\"],[0.4444444444444444,\"#bd3786\"],[0.5555555555555556,\"#d8576b\"],[0.6666666666666666,\"#ed7953\"],[0.7777777777777778,\"#fb9f3a\"],[0.8888888888888888,\"#fdca26\"],[1.0,\"#f0f921\"]]}],\"mesh3d\":[{\"type\":\"mesh3d\",\"colorbar\":{\"outlinewidth\":0,\"ticks\":\"\"}}],\"scatter\":[{\"fillpattern\":{\"fillmode\":\"overlay\",\"size\":10,\"solidity\":0.2},\"type\":\"scatter\"}],\"parcoords\":[{\"type\":\"parcoords\",\"line\":{\"colorbar\":{\"outlinewidth\":0,\"ticks\":\"\"}}}],\"scatterpolargl\":[{\"type\":\"scatterpolargl\",\"marker\":{\"colorbar\":{\"outlinewidth\":0,\"ticks\":\"\"}}}],\"bar\":[{\"error_x\":{\"color\":\"#2a3f5f\"},\"error_y\":{\"color\":\"#2a3f5f\"},\"marker\":{\"line\":{\"color\":\"#E5ECF6\",\"width\":0.5},\"pattern\":{\"fillmode\":\"overlay\",\"size\":10,\"solidity\":0.2}},\"type\":\"bar\"}],\"scattergeo\":[{\"type\":\"scattergeo\",\"marker\":{\"colorbar\":{\"outlinewidth\":0,\"ticks\":\"\"}}}],\"scatterpolar\":[{\"type\":\"scatterpolar\",\"marker\":{\"colorbar\":{\"outlinewidth\":0,\"ticks\":\"\"}}}],\"histogram\":[{\"marker\":{\"pattern\":{\"fillmode\":\"overlay\",\"size\":10,\"solidity\":0.2}},\"type\":\"histogram\"}],\"scattergl\":[{\"type\":\"scattergl\",\"marker\":{\"colorbar\":{\"outlinewidth\":0,\"ticks\":\"\"}}}],\"scatter3d\":[{\"type\":\"scatter3d\",\"line\":{\"colorbar\":{\"outlinewidth\":0,\"ticks\":\"\"}},\"marker\":{\"colorbar\":{\"outlinewidth\":0,\"ticks\":\"\"}}}],\"scattermapbox\":[{\"type\":\"scattermapbox\",\"marker\":{\"colorbar\":{\"outlinewidth\":0,\"ticks\":\"\"}}}],\"scatterternary\":[{\"type\":\"scatterternary\",\"marker\":{\"colorbar\":{\"outlinewidth\":0,\"ticks\":\"\"}}}],\"scattercarpet\":[{\"type\":\"scattercarpet\",\"marker\":{\"colorbar\":{\"outlinewidth\":0,\"ticks\":\"\"}}}],\"carpet\":[{\"aaxis\":{\"endlinecolor\":\"#2a3f5f\",\"gridcolor\":\"white\",\"linecolor\":\"white\",\"minorgridcolor\":\"white\",\"startlinecolor\":\"#2a3f5f\"},\"baxis\":{\"endlinecolor\":\"#2a3f5f\",\"gridcolor\":\"white\",\"linecolor\":\"white\",\"minorgridcolor\":\"white\",\"startlinecolor\":\"#2a3f5f\"},\"type\":\"carpet\"}],\"table\":[{\"cells\":{\"fill\":{\"color\":\"#EBF0F8\"},\"line\":{\"color\":\"white\"}},\"header\":{\"fill\":{\"color\":\"#C8D4E3\"},\"line\":{\"color\":\"white\"}},\"type\":\"table\"}],\"barpolar\":[{\"marker\":{\"line\":{\"color\":\"#E5ECF6\",\"width\":0.5},\"pattern\":{\"fillmode\":\"overlay\",\"size\":10,\"solidity\":0.2}},\"type\":\"barpolar\"}],\"pie\":[{\"automargin\":true,\"type\":\"pie\"}]},\"layout\":{\"autotypenumbers\":\"strict\",\"colorway\":[\"#636efa\",\"#EF553B\",\"#00cc96\",\"#ab63fa\",\"#FFA15A\",\"#19d3f3\",\"#FF6692\",\"#B6E880\",\"#FF97FF\",\"#FECB52\"],\"font\":{\"color\":\"#2a3f5f\"},\"hovermode\":\"closest\",\"hoverlabel\":{\"align\":\"left\"},\"paper_bgcolor\":\"white\",\"plot_bgcolor\":\"#E5ECF6\",\"polar\":{\"bgcolor\":\"#E5ECF6\",\"angularaxis\":{\"gridcolor\":\"white\",\"linecolor\":\"white\",\"ticks\":\"\"},\"radialaxis\":{\"gridcolor\":\"white\",\"linecolor\":\"white\",\"ticks\":\"\"}},\"ternary\":{\"bgcolor\":\"#E5ECF6\",\"aaxis\":{\"gridcolor\":\"white\",\"linecolor\":\"white\",\"ticks\":\"\"},\"baxis\":{\"gridcolor\":\"white\",\"linecolor\":\"white\",\"ticks\":\"\"},\"caxis\":{\"gridcolor\":\"white\",\"linecolor\":\"white\",\"ticks\":\"\"}},\"coloraxis\":{\"colorbar\":{\"outlinewidth\":0,\"ticks\":\"\"}},\"colorscale\":{\"sequential\":[[0.0,\"#0d0887\"],[0.1111111111111111,\"#46039f\"],[0.2222222222222222,\"#7201a8\"],[0.3333333333333333,\"#9c179e\"],[0.4444444444444444,\"#bd3786\"],[0.5555555555555556,\"#d8576b\"],[0.6666666666666666,\"#ed7953\"],[0.7777777777777778,\"#fb9f3a\"],[0.8888888888888888,\"#fdca26\"],[1.0,\"#f0f921\"]],\"sequentialminus\":[[0.0,\"#0d0887\"],[0.1111111111111111,\"#46039f\"],[0.2222222222222222,\"#7201a8\"],[0.3333333333333333,\"#9c179e\"],[0.4444444444444444,\"#bd3786\"],[0.5555555555555556,\"#d8576b\"],[0.6666666666666666,\"#ed7953\"],[0.7777777777777778,\"#fb9f3a\"],[0.8888888888888888,\"#fdca26\"],[1.0,\"#f0f921\"]],\"diverging\":[[0,\"#8e0152\"],[0.1,\"#c51b7d\"],[0.2,\"#de77ae\"],[0.3,\"#f1b6da\"],[0.4,\"#fde0ef\"],[0.5,\"#f7f7f7\"],[0.6,\"#e6f5d0\"],[0.7,\"#b8e186\"],[0.8,\"#7fbc41\"],[0.9,\"#4d9221\"],[1,\"#276419\"]]},\"xaxis\":{\"gridcolor\":\"white\",\"linecolor\":\"white\",\"ticks\":\"\",\"title\":{\"standoff\":15},\"zerolinecolor\":\"white\",\"automargin\":true,\"zerolinewidth\":2},\"yaxis\":{\"gridcolor\":\"white\",\"linecolor\":\"white\",\"ticks\":\"\",\"title\":{\"standoff\":15},\"zerolinecolor\":\"white\",\"automargin\":true,\"zerolinewidth\":2},\"scene\":{\"xaxis\":{\"backgroundcolor\":\"#E5ECF6\",\"gridcolor\":\"white\",\"linecolor\":\"white\",\"showbackground\":true,\"ticks\":\"\",\"zerolinecolor\":\"white\",\"gridwidth\":2},\"yaxis\":{\"backgroundcolor\":\"#E5ECF6\",\"gridcolor\":\"white\",\"linecolor\":\"white\",\"showbackground\":true,\"ticks\":\"\",\"zerolinecolor\":\"white\",\"gridwidth\":2},\"zaxis\":{\"backgroundcolor\":\"#E5ECF6\",\"gridcolor\":\"white\",\"linecolor\":\"white\",\"showbackground\":true,\"ticks\":\"\",\"zerolinecolor\":\"white\",\"gridwidth\":2}},\"shapedefaults\":{\"line\":{\"color\":\"#2a3f5f\"}},\"annotationdefaults\":{\"arrowcolor\":\"#2a3f5f\",\"arrowhead\":0,\"arrowwidth\":1},\"geo\":{\"bgcolor\":\"white\",\"landcolor\":\"#E5ECF6\",\"subunitcolor\":\"white\",\"showland\":true,\"showlakes\":true,\"lakecolor\":\"white\"},\"title\":{\"x\":0.05},\"mapbox\":{\"style\":\"light\"}}},\"title\":{\"text\":\"P\\u00e9rdida del modelo (sin capas de Dropout)\"},\"xaxis\":{\"title\":{\"text\":\"\\u00c9poca (epoch)\"}},\"yaxis\":{\"title\":{\"text\":\"P\\u00e9rdida (MSE)\"}}},                        {\"responsive\": true}                    ).then(function(){\n",
              "                            \n",
              "var gd = document.getElementById('fad7842d-8ccb-4fee-983f-9c51301c48fc');\n",
              "var x = new MutationObserver(function (mutations, observer) {{\n",
              "        var display = window.getComputedStyle(gd).display;\n",
              "        if (!display || display === 'none') {{\n",
              "            console.log([gd, 'removed!']);\n",
              "            Plotly.purge(gd);\n",
              "            observer.disconnect();\n",
              "        }}\n",
              "}});\n",
              "\n",
              "// Listen for the removal of the full notebook cells\n",
              "var notebookContainer = gd.closest('#notebook-container');\n",
              "if (notebookContainer) {{\n",
              "    x.observe(notebookContainer, {childList: true});\n",
              "}}\n",
              "\n",
              "// Listen for the clearing of the current output cell\n",
              "var outputEl = gd.closest('.output');\n",
              "if (outputEl) {{\n",
              "    x.observe(outputEl, {childList: true});\n",
              "}}\n",
              "\n",
              "                        })                };                            </script>        </div>\n",
              "</body>\n",
              "</html>"
            ]
          },
          "metadata": {}
        }
      ]
    },
    {
      "cell_type": "code",
      "source": [
        "tf.keras.utils.plot_model(\n",
        "    model,\n",
        "    #to_file=\"model.png\",\n",
        "    show_shapes=True,\n",
        "    show_dtype=False,\n",
        "    show_layer_names=True,\n",
        "    #dpi=96,\n",
        ")"
      ],
      "metadata": {
        "id": "jb_Am6LkfuqG",
        "colab": {
          "base_uri": "https://localhost:8080/",
          "height": 533
        },
        "outputId": "2732009e-12f1-4b4e-f25e-a3f43435b4da"
      },
      "execution_count": null,
      "outputs": [
        {
          "output_type": "execute_result",
          "data": {
            "image/png": "[encoded data removed]",
            "text/plain": [
              "<IPython.core.display.Image object>"
            ]
          },
          "metadata": {},
          "execution_count": 56
        }
      ]
    },
    {
      "cell_type": "code",
      "source": [
        "# NO SALGA NOTACION CIENTIFICA\n",
        "np.set_printoptions(suppress=True)"
      ],
      "metadata": {
        "id": "BCPjOvodf2WX"
      },
      "execution_count": null,
      "outputs": []
    },
    {
      "cell_type": "code",
      "source": [
        "y_train_pred = model.predict(train_features)\n",
        "y_train_pred"
      ],
      "metadata": {
        "id": "xMSZk-TQ4p5E",
        "colab": {
          "base_uri": "https://localhost:8080/"
        },
        "outputId": "b3f91393-3c96-4a2c-95ab-0bff6e27b78b"
      },
      "execution_count": null,
      "outputs": [
        {
          "output_type": "stream",
          "name": "stdout",
          "text": [
            "7121/7121 [==============================] - 17s 2ms/step\n"
          ]
        },
        {
          "output_type": "execute_result",
          "data": {
            "text/plain": [
              "array([[0.00090664],\n",
              "       [0.00000002],\n",
              "       [0.        ],\n",
              "       ...,\n",
              "       [0.        ],\n",
              "       [0.        ],\n",
              "       [0.        ]], dtype=float32)"
            ]
          },
          "metadata": {},
          "execution_count": 58
        }
      ]
    },
    {
      "cell_type": "code",
      "source": [
        "#y_train_pred = model.predict(train_features)\n",
        "y_train_pred[y_train_pred < 0.5] = 0\n",
        "y_train_pred[y_train_pred >= 0.5] = 1"
      ],
      "metadata": {
        "id": "VpjKDeemyyR5"
      },
      "execution_count": null,
      "outputs": []
    },
    {
      "cell_type": "code",
      "source": [
        "y_test_pred = model.predict(val_features)\n",
        "y_test_pred[y_test_pred < 0.5] = 0\n",
        "y_test_pred[y_test_pred >= 0.5] = 1"
      ],
      "metadata": {
        "id": "N5wnrKyvHUSa",
        "colab": {
          "base_uri": "https://localhost:8080/"
        },
        "outputId": "3bb1183c-66f0-4e3f-d621-763534e8e8b7"
      },
      "execution_count": null,
      "outputs": [
        {
          "output_type": "stream",
          "name": "stdout",
          "text": [
            "1781/1781 [==============================] - 4s 2ms/step\n"
          ]
        }
      ]
    },
    {
      "cell_type": "code",
      "source": [
        "len(y_test_pred[:, 0])"
      ],
      "metadata": {
        "id": "7j-utPCXxdVh",
        "colab": {
          "base_uri": "https://localhost:8080/"
        },
        "outputId": "53cdbeaa-6158-4213-c621-b7040d68d028"
      },
      "execution_count": null,
      "outputs": [
        {
          "output_type": "execute_result",
          "data": {
            "text/plain": [
              "56961"
            ]
          },
          "metadata": {},
          "execution_count": 61
        }
      ]
    },
    {
      "cell_type": "code",
      "source": [
        "y_test_pred[:, 0].sum()"
      ],
      "metadata": {
        "id": "Kyi7Q_VCyXfP",
        "colab": {
          "base_uri": "https://localhost:8080/"
        },
        "outputId": "63886087-4710-4adb-b4b8-90830fc287f8"
      },
      "execution_count": null,
      "outputs": [
        {
          "output_type": "execute_result",
          "data": {
            "text/plain": [
              "1249.0"
            ]
          },
          "metadata": {},
          "execution_count": 62
        }
      ]
    },
    {
      "cell_type": "code",
      "source": [
        "from sklearn.metrics import ConfusionMatrixDisplay\n",
        "import matplotlib.pyplot as plt"
      ],
      "metadata": {
        "id": "YWEa45ewynAx"
      },
      "execution_count": null,
      "outputs": []
    },
    {
      "cell_type": "code",
      "source": [
        "ConfusionMatrixDisplay.from_predictions(train_targets, y_train_pred, cmap=plt.cm.Greens)"
      ],
      "metadata": {
        "id": "A8pnRIIjyqOF",
        "colab": {
          "base_uri": "https://localhost:8080/",
          "height": 466
        },
        "outputId": "0c9dcc2b-601e-471f-e41c-c042f1dbcaac"
      },
      "execution_count": null,
      "outputs": [
        {
          "output_type": "execute_result",
          "data": {
            "text/plain": [
              "<sklearn.metrics._plot.confusion_matrix.ConfusionMatrixDisplay at 0x7ebf208016f0>"
            ]
          },
          "metadata": {},
          "execution_count": 64
        },
        {
          "output_type": "display_data",
          "data": {
            "text/plain": [
              "<Figure size 640x480 with 2 Axes>"
            ],
            "image/png": "[encoded data removed]"
          },
          "metadata": {}
        }
      ]
    },
    {
      "cell_type": "code",
      "source": [
        "# Recuperar \"pesos\" de los coeficientes en la epoca \"X\"\n",
        "# CUIDADO AL CORRER ESTA CELDA\n",
        "\n",
        "#model.load_weights(\"/content/fraud_model_at_epoch_25.h5\")"
      ],
      "metadata": {
        "id": "__GIroXqJvy9"
      },
      "execution_count": null,
      "outputs": []
    },
    {
      "cell_type": "code",
      "source": [
        "ConfusionMatrixDisplay.from_predictions(val_targets, y_test_pred, cmap=plt.cm.Greens)"
      ],
      "metadata": {
        "id": "5hoA_Ryf3LGE",
        "colab": {
          "base_uri": "https://localhost:8080/",
          "height": 466
        },
        "outputId": "f839c24b-9455-42a9-d023-fa71da5370a9"
      },
      "execution_count": null,
      "outputs": [
        {
          "output_type": "execute_result",
          "data": {
            "text/plain": [
              "<sklearn.metrics._plot.confusion_matrix.ConfusionMatrixDisplay at 0x7ebf305a3970>"
            ]
          },
          "metadata": {},
          "execution_count": 65
        },
        {
          "output_type": "display_data",
          "data": {
            "text/plain": [
              "<Figure size 640x480 with 2 Axes>"
            ],
            "image/png": "[encoded data removed]"
          },
          "metadata": {}
        }
      ]
    },
    {
      "cell_type": "code",
      "source": [
        "from sklearn.metrics import average_precision_score"
      ],
      "metadata": {
        "id": "G4FyL0lt1nwo"
      },
      "execution_count": null,
      "outputs": []
    },
    {
      "cell_type": "code",
      "source": [
        "y_test_prob = model.predict(val_features)"
      ],
      "metadata": {
        "id": "uLEe0C-b2y04",
        "colab": {
          "base_uri": "https://localhost:8080/"
        },
        "outputId": "6e1d1fc7-ec0c-4c70-f235-1a4ceca75d7f"
      },
      "execution_count": null,
      "outputs": [
        {
          "output_type": "stream",
          "name": "stdout",
          "text": [
            "1781/1781 [==============================] - 3s 2ms/step\n"
          ]
        }
      ]
    },
    {
      "cell_type": "code",
      "source": [
        "y_test_prob"
      ],
      "metadata": {
        "id": "6rQH2yTel2_L",
        "colab": {
          "base_uri": "https://localhost:8080/"
        },
        "outputId": "705a6578-1d1b-4c66-9b92-9bc01f734ee4"
      },
      "execution_count": null,
      "outputs": [
        {
          "output_type": "execute_result",
          "data": {
            "text/plain": [
              "array([[0.        ],\n",
              "       [0.        ],\n",
              "       [0.        ],\n",
              "       ...,\n",
              "       [0.        ],\n",
              "       [0.        ],\n",
              "       [0.18497552]], dtype=float32)"
            ]
          },
          "metadata": {},
          "execution_count": 68
        }
      ]
    },
    {
      "cell_type": "code",
      "source": [
        "auprc = average_precision_score(val_targets, y_test_prob)\n",
        "auprc"
      ],
      "metadata": {
        "id": "DykriQEB2rpT",
        "colab": {
          "base_uri": "https://localhost:8080/"
        },
        "outputId": "52a9b0bc-e05b-4e5d-b187-c070854104fa"
      },
      "execution_count": null,
      "outputs": [
        {
          "output_type": "execute_result",
          "data": {
            "text/plain": [
              "0.7219490210480347"
            ]
          },
          "metadata": {},
          "execution_count": 69
        }
      ]
    },
    {
      "cell_type": "code",
      "source": [
        "from sklearn.metrics import classification_report"
      ],
      "metadata": {
        "id": "_dqZX_4g5icp"
      },
      "execution_count": null,
      "outputs": []
    },
    {
      "cell_type": "code",
      "source": [
        "print(classification_report(train_targets, y_train_pred))"
      ],
      "metadata": {
        "id": "7P-RIboL6QRL",
        "colab": {
          "base_uri": "https://localhost:8080/"
        },
        "outputId": "560ac850-a7bc-430d-eba0-463c5dfcabdf"
      },
      "execution_count": null,
      "outputs": [
        {
          "output_type": "stream",
          "name": "stdout",
          "text": [
            "              precision    recall  f1-score   support\n",
            "\n",
            "           0       1.00      0.97      0.99    227429\n",
            "           1       0.06      0.99      0.12       417\n",
            "\n",
            "    accuracy                           0.97    227846\n",
            "   macro avg       0.53      0.98      0.55    227846\n",
            "weighted avg       1.00      0.97      0.98    227846\n",
            "\n"
          ]
        }
      ]
    },
    {
      "cell_type": "code",
      "source": [
        "print(classification_report(val_targets, y_test_pred))"
      ],
      "metadata": {
        "id": "dwGZ2E21K8Lj",
        "colab": {
          "base_uri": "https://localhost:8080/"
        },
        "outputId": "5febc8b5-e7c8-4633-bf4c-be4f4b6264b4"
      },
      "execution_count": null,
      "outputs": [
        {
          "output_type": "stream",
          "name": "stdout",
          "text": [
            "              precision    recall  f1-score   support\n",
            "\n",
            "           0       1.00      0.98      0.99     56886\n",
            "           1       0.05      0.89      0.10        75\n",
            "\n",
            "    accuracy                           0.98     56961\n",
            "   macro avg       0.53      0.94      0.55     56961\n",
            "weighted avg       1.00      0.98      0.99     56961\n",
            "\n"
          ]
        }
      ]
    },
    {
      "cell_type": "code",
      "source": [
        "clase_1 = 500\n",
        "clase_2 = 280000"
      ],
      "metadata": {
        "id": "MpDvtQiYJd19"
      },
      "execution_count": null,
      "outputs": []
    },
    {
      "cell_type": "code",
      "source": [
        "clase_2/(clase_2 + clase_1)"
      ],
      "metadata": {
        "id": "YBE_bA53JhID",
        "colab": {
          "base_uri": "https://localhost:8080/"
        },
        "outputId": "7f594c66-664f-4d4b-eb02-03c67d941f03"
      },
      "execution_count": null,
      "outputs": [
        {
          "output_type": "execute_result",
          "data": {
            "text/plain": [
              "0.9982174688057041"
            ]
          },
          "metadata": {},
          "execution_count": 74
        }
      ]
    },
    {
      "cell_type": "markdown",
      "source": [
        "# Ejercicios:\n",
        "\n",
        "* ¿Que sucedería con el modelo si no usamos el parámetro \"class_weight\"?\n",
        "\n",
        "* ¿Podemos recuperar solo la mejor época de nuestro entrenamiento?\n",
        "\n",
        "* ¿Porque la matriz de confusión no parece dar mucha luz sobre lo que ocurre?"
      ],
      "metadata": {
        "id": "oQhYiG1VzGA8"
      }
    },
    {
      "cell_type": "markdown",
      "source": [
        " - Cargar los datos utilizando Pandas\n",
        " - Realizar la división de entrenamiento y prueba usando la función 'train_test_split' de sklearn"
      ],
      "metadata": {
        "id": "IPu2R9xXxXk-"
      }
    },
    {
      "cell_type": "code",
      "source": [
        "# Código de ejercicio, puede crear mas celdas\n",
        "\n"
      ],
      "metadata": {
        "id": "oC8Vlpv_xX7V"
      },
      "execution_count": null,
      "outputs": []
    }
  ]
}