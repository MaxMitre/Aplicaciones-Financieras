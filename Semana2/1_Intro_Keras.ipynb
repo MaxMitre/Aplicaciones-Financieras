{
  "nbformat": 4,
  "nbformat_minor": 0,
  "metadata": {
    "colab": {
      "provenance": []
    },
    "kernelspec": {
      "name": "python3",
      "display_name": "Python 3"
    },
    "language_info": {
      "name": "python"
    }
  },
  "cells": [
    {
      "cell_type": "markdown",
      "source": [
        "[![Open In Colab](https://colab.research.google.com/assets/colab-badge.svg)](https://colab.research.google.com/github/MaxMitre/Aplicaciones-Financieras/blob/main/Semana2/1_Intro_Keras.ipynb)"
      ],
      "metadata": {
        "id": "7349NUkNQQWW"
      }
    },
    {
      "cell_type": "markdown",
      "source": [
        "# Problema\n",
        "\n",
        "Esta semana utilizaremos el mismo DataSet para ambas sesiones. Ésta primera sesión será para analizar un problema de fraude de modo sencillo, es decir, con un clasificador binario sencillo (que nos servirá para introducir algunas herramientas).\n",
        "\n",
        "Podemos encontrar la base de datos en https://www.kaggle.com/datasets/mlg-ulb/creditcardfraud\n",
        "\n",
        "Los datos contienen transacciones realizadas mediante trarjeta de crédito en Septiembre del 2013 por titulares de tarjeta en Europa. Ocurrieron en 2 días en los que hubo 492 fraudes de 284,807 transacciones.\n",
        "\n",
        "Solo contiene variables numéricas y ya pasó por un proceso de PCA para solo quedarse con las mejores características.\n",
        "\n",
        "La columna de \"Time\" contiene los segundos ocurridos entre transacciones. \"Amount\" es la cantidad de la transacción y \"Class\" es la variable que tiene 1 en caso de fraude y 0 en caso contrario."
      ],
      "metadata": {
        "id": "uudpvvkIIXwm"
      }
    },
    {
      "cell_type": "code",
      "source": [
        "from google.colab import drive\n",
        "drive.mount('/content/drive')"
      ],
      "metadata": {
        "id": "aYYkRFOwE9HG",
        "colab": {
          "base_uri": "https://localhost:8080/"
        },
        "outputId": "4d9d2cc6-add1-4586-bfdd-b109a4142aac"
      },
      "execution_count": null,
      "outputs": [
        {
          "output_type": "stream",
          "name": "stdout",
          "text": [
            "Mounted at /content/drive\n"
          ]
        }
      ]
    },
    {
      "cell_type": "markdown",
      "source": [
        "# Leer Datos usando un método distinto al que estamos acostumbrados"
      ],
      "metadata": {
        "id": "Lk9av5KKHYgC"
      }
    },
    {
      "cell_type": "code",
      "execution_count": null,
      "metadata": {
        "id": "EQUuvtmbEqpK",
        "colab": {
          "base_uri": "https://localhost:8080/"
        },
        "outputId": "446c6441-f34d-4dc4-a522-a5be1612b1e0"
      },
      "outputs": [
        {
          "output_type": "stream",
          "name": "stdout",
          "text": [
            "HEADER: \"Time\",\"V1\",\"V2\",\"V3\",\"V4\",\"V5\",\"V6\",\"V7\",\"V8\",\"V9\",\"V10\",\"V11\",\"V12\",\"V13\",\"V14\",\"V15\",\"V16\",\"V17\",\"V18\",\"V19\",\"V20\",\"V21\",\"V22\",\"V23\",\"V24\",\"V25\",\"V26\",\"V27\",\"V28\",\"Amount\",\"Class\"\n",
            "EJEMPLO DE CARACTERÍSTICAS: [0.0, -1.3598071336738, -0.0727811733098497, 2.53634673796914, 1.37815522427443, -0.338320769942518, 0.462387777762292, 0.239598554061257, 0.0986979012610507, 0.363786969611213, 0.0907941719789316, -0.551599533260813, -0.617800855762348, -0.991389847235408, -0.311169353699879, 1.46817697209427, -0.470400525259478, 0.207971241929242, 0.0257905801985591, 0.403992960255733, 0.251412098239705, -0.018306777944153, 0.277837575558899, -0.110473910188767, 0.0669280749146731, 0.128539358273528, -0.189114843888824, 0.133558376740387, -0.0210530534538215, 149.62]\n",
            "features.shape: (284807, 30)\n",
            "targets.shape: (284807, 1)\n"
          ]
        }
      ],
      "source": [
        "import numpy as np\n",
        "\n",
        "# Datos disponibles en https://www.kaggle.com/mlg-ulb/creditcardfraud/\n",
        "\n",
        "all_features = []\n",
        "all_targets = []\n",
        "with open('/content/drive/MyDrive/Cruso-ApsFinancieras/semana3/creditcard.csv') as f:\n",
        "    for i, line in enumerate(f):\n",
        "        if i == 0:\n",
        "            print(\"HEADER:\", line.strip())\n",
        "            continue  # Skip header\n",
        "        fields = line.strip().split(\",\")\n",
        "        all_features.append([float(v.replace('\"', \"\")) for v in fields[:-1]])\n",
        "        all_targets.append([int(fields[-1].replace('\"', \"\"))])\n",
        "        if i == 1:\n",
        "            print(\"EJEMPLO DE CARACTERÍSTICAS:\", all_features[-1])\n",
        "\n",
        "features = np.array(all_features, dtype=\"float32\")\n",
        "targets = np.array(all_targets, dtype=\"uint8\")\n",
        "print(\"features.shape:\", features.shape)\n",
        "print(\"targets.shape:\", targets.shape)"
      ]
    },
    {
      "cell_type": "code",
      "source": [
        "features"
      ],
      "metadata": {
        "colab": {
          "base_uri": "https://localhost:8080/"
        },
        "id": "HVYzBROntrT8",
        "outputId": "f86762e9-a699-42c2-e80b-97762bae8d3e"
      },
      "execution_count": null,
      "outputs": [
        {
          "output_type": "execute_result",
          "data": {
            "text/plain": [
              "array([[ 0.0000000e+00, -1.3598071e+00, -7.2781175e-02, ...,\n",
              "         1.3355838e-01, -2.1053053e-02,  1.4962000e+02],\n",
              "       [ 0.0000000e+00,  1.1918571e+00,  2.6615071e-01, ...,\n",
              "        -8.9830989e-03,  1.4724169e-02,  2.6900001e+00],\n",
              "       [ 1.0000000e+00, -1.3583541e+00, -1.3401631e+00, ...,\n",
              "        -5.5352796e-02, -5.9751842e-02,  3.7866000e+02],\n",
              "       ...,\n",
              "       [ 1.7278800e+05,  1.9195650e+00, -3.0125386e-01, ...,\n",
              "         4.4547720e-03, -2.6560828e-02,  6.7879997e+01],\n",
              "       [ 1.7278800e+05, -2.4044006e-01,  5.3048253e-01, ...,\n",
              "         1.0882074e-01,  1.0453282e-01,  1.0000000e+01],\n",
              "       [ 1.7279200e+05, -5.3341252e-01, -1.8973334e-01, ...,\n",
              "        -2.4153087e-03,  1.3648914e-02,  2.1700000e+02]], dtype=float32)"
            ]
          },
          "metadata": {},
          "execution_count": 4
        }
      ]
    },
    {
      "cell_type": "code",
      "source": [
        "import pandas as pd\n",
        "\n",
        "en_dataframe = pd.read_csv('/content/drive/MyDrive/Cruso-ApsFinancieras/semana3/creditcard.csv')"
      ],
      "metadata": {
        "id": "FQ6OYI_RRu7F"
      },
      "execution_count": null,
      "outputs": []
    },
    {
      "cell_type": "code",
      "source": [
        "en_dataframe"
      ],
      "metadata": {
        "colab": {
          "base_uri": "https://localhost:8080/",
          "height": 487
        },
        "id": "hhkH6A1exRcf",
        "outputId": "324917ad-b4b8-4bd2-ee61-ee6070dc6d06"
      },
      "execution_count": null,
      "outputs": [
        {
          "output_type": "execute_result",
          "data": {
            "text/plain": [
              "            Time         V1         V2        V3        V4        V5  \\\n",
              "0            0.0  -1.359807  -0.072781  2.536347  1.378155 -0.338321   \n",
              "1            0.0   1.191857   0.266151  0.166480  0.448154  0.060018   \n",
              "2            1.0  -1.358354  -1.340163  1.773209  0.379780 -0.503198   \n",
              "3            1.0  -0.966272  -0.185226  1.792993 -0.863291 -0.010309   \n",
              "4            2.0  -1.158233   0.877737  1.548718  0.403034 -0.407193   \n",
              "...          ...        ...        ...       ...       ...       ...   \n",
              "284802  172786.0 -11.881118  10.071785 -9.834783 -2.066656 -5.364473   \n",
              "284803  172787.0  -0.732789  -0.055080  2.035030 -0.738589  0.868229   \n",
              "284804  172788.0   1.919565  -0.301254 -3.249640 -0.557828  2.630515   \n",
              "284805  172788.0  -0.240440   0.530483  0.702510  0.689799 -0.377961   \n",
              "284806  172792.0  -0.533413  -0.189733  0.703337 -0.506271 -0.012546   \n",
              "\n",
              "              V6        V7        V8        V9  ...       V21       V22  \\\n",
              "0       0.462388  0.239599  0.098698  0.363787  ... -0.018307  0.277838   \n",
              "1      -0.082361 -0.078803  0.085102 -0.255425  ... -0.225775 -0.638672   \n",
              "2       1.800499  0.791461  0.247676 -1.514654  ...  0.247998  0.771679   \n",
              "3       1.247203  0.237609  0.377436 -1.387024  ... -0.108300  0.005274   \n",
              "4       0.095921  0.592941 -0.270533  0.817739  ... -0.009431  0.798278   \n",
              "...          ...       ...       ...       ...  ...       ...       ...   \n",
              "284802 -2.606837 -4.918215  7.305334  1.914428  ...  0.213454  0.111864   \n",
              "284803  1.058415  0.024330  0.294869  0.584800  ...  0.214205  0.924384   \n",
              "284804  3.031260 -0.296827  0.708417  0.432454  ...  0.232045  0.578229   \n",
              "284805  0.623708 -0.686180  0.679145  0.392087  ...  0.265245  0.800049   \n",
              "284806 -0.649617  1.577006 -0.414650  0.486180  ...  0.261057  0.643078   \n",
              "\n",
              "             V23       V24       V25       V26       V27       V28  Amount  \\\n",
              "0      -0.110474  0.066928  0.128539 -0.189115  0.133558 -0.021053  149.62   \n",
              "1       0.101288 -0.339846  0.167170  0.125895 -0.008983  0.014724    2.69   \n",
              "2       0.909412 -0.689281 -0.327642 -0.139097 -0.055353 -0.059752  378.66   \n",
              "3      -0.190321 -1.175575  0.647376 -0.221929  0.062723  0.061458  123.50   \n",
              "4      -0.137458  0.141267 -0.206010  0.502292  0.219422  0.215153   69.99   \n",
              "...          ...       ...       ...       ...       ...       ...     ...   \n",
              "284802  1.014480 -0.509348  1.436807  0.250034  0.943651  0.823731    0.77   \n",
              "284803  0.012463 -1.016226 -0.606624 -0.395255  0.068472 -0.053527   24.79   \n",
              "284804 -0.037501  0.640134  0.265745 -0.087371  0.004455 -0.026561   67.88   \n",
              "284805 -0.163298  0.123205 -0.569159  0.546668  0.108821  0.104533   10.00   \n",
              "284806  0.376777  0.008797 -0.473649 -0.818267 -0.002415  0.013649  217.00   \n",
              "\n",
              "        Class  \n",
              "0           0  \n",
              "1           0  \n",
              "2           0  \n",
              "3           0  \n",
              "4           0  \n",
              "...       ...  \n",
              "284802      0  \n",
              "284803      0  \n",
              "284804      0  \n",
              "284805      0  \n",
              "284806      0  \n",
              "\n",
              "[284807 rows x 31 columns]"
            ],
            "text/html": [
              "\n",
              "  <div id=\"df-c04c501d-9818-4f38-95c3-5d1d6eda85c7\">\n",
              "    <div class=\"colab-df-container\">\n",
              "      <div>\n",
              "<style scoped>\n",
              "    .dataframe tbody tr th:only-of-type {\n",
              "        vertical-align: middle;\n",
              "    }\n",
              "\n",
              "    .dataframe tbody tr th {\n",
              "        vertical-align: top;\n",
              "    }\n",
              "\n",
              "    .dataframe thead th {\n",
              "        text-align: right;\n",
              "    }\n",
              "</style>\n",
              "<table border=\"1\" class=\"dataframe\">\n",
              "  <thead>\n",
              "    <tr style=\"text-align: right;\">\n",
              "      <th></th>\n",
              "      <th>Time</th>\n",
              "      <th>V1</th>\n",
              "      <th>V2</th>\n",
              "      <th>V3</th>\n",
              "      <th>V4</th>\n",
              "      <th>V5</th>\n",
              "      <th>V6</th>\n",
              "      <th>V7</th>\n",
              "      <th>V8</th>\n",
              "      <th>V9</th>\n",
              "      <th>...</th>\n",
              "      <th>V21</th>\n",
              "      <th>V22</th>\n",
              "      <th>V23</th>\n",
              "      <th>V24</th>\n",
              "      <th>V25</th>\n",
              "      <th>V26</th>\n",
              "      <th>V27</th>\n",
              "      <th>V28</th>\n",
              "      <th>Amount</th>\n",
              "      <th>Class</th>\n",
              "    </tr>\n",
              "  </thead>\n",
              "  <tbody>\n",
              "    <tr>\n",
              "      <th>0</th>\n",
              "      <td>0.0</td>\n",
              "      <td>-1.359807</td>\n",
              "      <td>-0.072781</td>\n",
              "      <td>2.536347</td>\n",
              "      <td>1.378155</td>\n",
              "      <td>-0.338321</td>\n",
              "      <td>0.462388</td>\n",
              "      <td>0.239599</td>\n",
              "      <td>0.098698</td>\n",
              "      <td>0.363787</td>\n",
              "      <td>...</td>\n",
              "      <td>-0.018307</td>\n",
              "      <td>0.277838</td>\n",
              "      <td>-0.110474</td>\n",
              "      <td>0.066928</td>\n",
              "      <td>0.128539</td>\n",
              "      <td>-0.189115</td>\n",
              "      <td>0.133558</td>\n",
              "      <td>-0.021053</td>\n",
              "      <td>149.62</td>\n",
              "      <td>0</td>\n",
              "    </tr>\n",
              "    <tr>\n",
              "      <th>1</th>\n",
              "      <td>0.0</td>\n",
              "      <td>1.191857</td>\n",
              "      <td>0.266151</td>\n",
              "      <td>0.166480</td>\n",
              "      <td>0.448154</td>\n",
              "      <td>0.060018</td>\n",
              "      <td>-0.082361</td>\n",
              "      <td>-0.078803</td>\n",
              "      <td>0.085102</td>\n",
              "      <td>-0.255425</td>\n",
              "      <td>...</td>\n",
              "      <td>-0.225775</td>\n",
              "      <td>-0.638672</td>\n",
              "      <td>0.101288</td>\n",
              "      <td>-0.339846</td>\n",
              "      <td>0.167170</td>\n",
              "      <td>0.125895</td>\n",
              "      <td>-0.008983</td>\n",
              "      <td>0.014724</td>\n",
              "      <td>2.69</td>\n",
              "      <td>0</td>\n",
              "    </tr>\n",
              "    <tr>\n",
              "      <th>2</th>\n",
              "      <td>1.0</td>\n",
              "      <td>-1.358354</td>\n",
              "      <td>-1.340163</td>\n",
              "      <td>1.773209</td>\n",
              "      <td>0.379780</td>\n",
              "      <td>-0.503198</td>\n",
              "      <td>1.800499</td>\n",
              "      <td>0.791461</td>\n",
              "      <td>0.247676</td>\n",
              "      <td>-1.514654</td>\n",
              "      <td>...</td>\n",
              "      <td>0.247998</td>\n",
              "      <td>0.771679</td>\n",
              "      <td>0.909412</td>\n",
              "      <td>-0.689281</td>\n",
              "      <td>-0.327642</td>\n",
              "      <td>-0.139097</td>\n",
              "      <td>-0.055353</td>\n",
              "      <td>-0.059752</td>\n",
              "      <td>378.66</td>\n",
              "      <td>0</td>\n",
              "    </tr>\n",
              "    <tr>\n",
              "      <th>3</th>\n",
              "      <td>1.0</td>\n",
              "      <td>-0.966272</td>\n",
              "      <td>-0.185226</td>\n",
              "      <td>1.792993</td>\n",
              "      <td>-0.863291</td>\n",
              "      <td>-0.010309</td>\n",
              "      <td>1.247203</td>\n",
              "      <td>0.237609</td>\n",
              "      <td>0.377436</td>\n",
              "      <td>-1.387024</td>\n",
              "      <td>...</td>\n",
              "      <td>-0.108300</td>\n",
              "      <td>0.005274</td>\n",
              "      <td>-0.190321</td>\n",
              "      <td>-1.175575</td>\n",
              "      <td>0.647376</td>\n",
              "      <td>-0.221929</td>\n",
              "      <td>0.062723</td>\n",
              "      <td>0.061458</td>\n",
              "      <td>123.50</td>\n",
              "      <td>0</td>\n",
              "    </tr>\n",
              "    <tr>\n",
              "      <th>4</th>\n",
              "      <td>2.0</td>\n",
              "      <td>-1.158233</td>\n",
              "      <td>0.877737</td>\n",
              "      <td>1.548718</td>\n",
              "      <td>0.403034</td>\n",
              "      <td>-0.407193</td>\n",
              "      <td>0.095921</td>\n",
              "      <td>0.592941</td>\n",
              "      <td>-0.270533</td>\n",
              "      <td>0.817739</td>\n",
              "      <td>...</td>\n",
              "      <td>-0.009431</td>\n",
              "      <td>0.798278</td>\n",
              "      <td>-0.137458</td>\n",
              "      <td>0.141267</td>\n",
              "      <td>-0.206010</td>\n",
              "      <td>0.502292</td>\n",
              "      <td>0.219422</td>\n",
              "      <td>0.215153</td>\n",
              "      <td>69.99</td>\n",
              "      <td>0</td>\n",
              "    </tr>\n",
              "    <tr>\n",
              "      <th>...</th>\n",
              "      <td>...</td>\n",
              "      <td>...</td>\n",
              "      <td>...</td>\n",
              "      <td>...</td>\n",
              "      <td>...</td>\n",
              "      <td>...</td>\n",
              "      <td>...</td>\n",
              "      <td>...</td>\n",
              "      <td>...</td>\n",
              "      <td>...</td>\n",
              "      <td>...</td>\n",
              "      <td>...</td>\n",
              "      <td>...</td>\n",
              "      <td>...</td>\n",
              "      <td>...</td>\n",
              "      <td>...</td>\n",
              "      <td>...</td>\n",
              "      <td>...</td>\n",
              "      <td>...</td>\n",
              "      <td>...</td>\n",
              "      <td>...</td>\n",
              "    </tr>\n",
              "    <tr>\n",
              "      <th>284802</th>\n",
              "      <td>172786.0</td>\n",
              "      <td>-11.881118</td>\n",
              "      <td>10.071785</td>\n",
              "      <td>-9.834783</td>\n",
              "      <td>-2.066656</td>\n",
              "      <td>-5.364473</td>\n",
              "      <td>-2.606837</td>\n",
              "      <td>-4.918215</td>\n",
              "      <td>7.305334</td>\n",
              "      <td>1.914428</td>\n",
              "      <td>...</td>\n",
              "      <td>0.213454</td>\n",
              "      <td>0.111864</td>\n",
              "      <td>1.014480</td>\n",
              "      <td>-0.509348</td>\n",
              "      <td>1.436807</td>\n",
              "      <td>0.250034</td>\n",
              "      <td>0.943651</td>\n",
              "      <td>0.823731</td>\n",
              "      <td>0.77</td>\n",
              "      <td>0</td>\n",
              "    </tr>\n",
              "    <tr>\n",
              "      <th>284803</th>\n",
              "      <td>172787.0</td>\n",
              "      <td>-0.732789</td>\n",
              "      <td>-0.055080</td>\n",
              "      <td>2.035030</td>\n",
              "      <td>-0.738589</td>\n",
              "      <td>0.868229</td>\n",
              "      <td>1.058415</td>\n",
              "      <td>0.024330</td>\n",
              "      <td>0.294869</td>\n",
              "      <td>0.584800</td>\n",
              "      <td>...</td>\n",
              "      <td>0.214205</td>\n",
              "      <td>0.924384</td>\n",
              "      <td>0.012463</td>\n",
              "      <td>-1.016226</td>\n",
              "      <td>-0.606624</td>\n",
              "      <td>-0.395255</td>\n",
              "      <td>0.068472</td>\n",
              "      <td>-0.053527</td>\n",
              "      <td>24.79</td>\n",
              "      <td>0</td>\n",
              "    </tr>\n",
              "    <tr>\n",
              "      <th>284804</th>\n",
              "      <td>172788.0</td>\n",
              "      <td>1.919565</td>\n",
              "      <td>-0.301254</td>\n",
              "      <td>-3.249640</td>\n",
              "      <td>-0.557828</td>\n",
              "      <td>2.630515</td>\n",
              "      <td>3.031260</td>\n",
              "      <td>-0.296827</td>\n",
              "      <td>0.708417</td>\n",
              "      <td>0.432454</td>\n",
              "      <td>...</td>\n",
              "      <td>0.232045</td>\n",
              "      <td>0.578229</td>\n",
              "      <td>-0.037501</td>\n",
              "      <td>0.640134</td>\n",
              "      <td>0.265745</td>\n",
              "      <td>-0.087371</td>\n",
              "      <td>0.004455</td>\n",
              "      <td>-0.026561</td>\n",
              "      <td>67.88</td>\n",
              "      <td>0</td>\n",
              "    </tr>\n",
              "    <tr>\n",
              "      <th>284805</th>\n",
              "      <td>172788.0</td>\n",
              "      <td>-0.240440</td>\n",
              "      <td>0.530483</td>\n",
              "      <td>0.702510</td>\n",
              "      <td>0.689799</td>\n",
              "      <td>-0.377961</td>\n",
              "      <td>0.623708</td>\n",
              "      <td>-0.686180</td>\n",
              "      <td>0.679145</td>\n",
              "      <td>0.392087</td>\n",
              "      <td>...</td>\n",
              "      <td>0.265245</td>\n",
              "      <td>0.800049</td>\n",
              "      <td>-0.163298</td>\n",
              "      <td>0.123205</td>\n",
              "      <td>-0.569159</td>\n",
              "      <td>0.546668</td>\n",
              "      <td>0.108821</td>\n",
              "      <td>0.104533</td>\n",
              "      <td>10.00</td>\n",
              "      <td>0</td>\n",
              "    </tr>\n",
              "    <tr>\n",
              "      <th>284806</th>\n",
              "      <td>172792.0</td>\n",
              "      <td>-0.533413</td>\n",
              "      <td>-0.189733</td>\n",
              "      <td>0.703337</td>\n",
              "      <td>-0.506271</td>\n",
              "      <td>-0.012546</td>\n",
              "      <td>-0.649617</td>\n",
              "      <td>1.577006</td>\n",
              "      <td>-0.414650</td>\n",
              "      <td>0.486180</td>\n",
              "      <td>...</td>\n",
              "      <td>0.261057</td>\n",
              "      <td>0.643078</td>\n",
              "      <td>0.376777</td>\n",
              "      <td>0.008797</td>\n",
              "      <td>-0.473649</td>\n",
              "      <td>-0.818267</td>\n",
              "      <td>-0.002415</td>\n",
              "      <td>0.013649</td>\n",
              "      <td>217.00</td>\n",
              "      <td>0</td>\n",
              "    </tr>\n",
              "  </tbody>\n",
              "</table>\n",
              "<p>284807 rows × 31 columns</p>\n",
              "</div>\n",
              "      <button class=\"colab-df-convert\" onclick=\"convertToInteractive('df-c04c501d-9818-4f38-95c3-5d1d6eda85c7')\"\n",
              "              title=\"Convert this dataframe to an interactive table.\"\n",
              "              style=\"display:none;\">\n",
              "        \n",
              "  <svg xmlns=\"http://www.w3.org/2000/svg\" height=\"24px\"viewBox=\"0 0 24 24\"\n",
              "       width=\"24px\">\n",
              "    <path d=\"M0 0h24v24H0V0z\" fill=\"none\"/>\n",
              "    <path d=\"M18.56 5.44l.94 2.06.94-2.06 2.06-.94-2.06-.94-.94-2.06-.94 2.06-2.06.94zm-11 1L8.5 8.5l.94-2.06 2.06-.94-2.06-.94L8.5 2.5l-.94 2.06-2.06.94zm10 10l.94 2.06.94-2.06 2.06-.94-2.06-.94-.94-2.06-.94 2.06-2.06.94z\"/><path d=\"M17.41 7.96l-1.37-1.37c-.4-.4-.92-.59-1.43-.59-.52 0-1.04.2-1.43.59L10.3 9.45l-7.72 7.72c-.78.78-.78 2.05 0 2.83L4 21.41c.39.39.9.59 1.41.59.51 0 1.02-.2 1.41-.59l7.78-7.78 2.81-2.81c.8-.78.8-2.07 0-2.86zM5.41 20L4 18.59l7.72-7.72 1.47 1.35L5.41 20z\"/>\n",
              "  </svg>\n",
              "      </button>\n",
              "      \n",
              "  <style>\n",
              "    .colab-df-container {\n",
              "      display:flex;\n",
              "      flex-wrap:wrap;\n",
              "      gap: 12px;\n",
              "    }\n",
              "\n",
              "    .colab-df-convert {\n",
              "      background-color: #E8F0FE;\n",
              "      border: none;\n",
              "      border-radius: 50%;\n",
              "      cursor: pointer;\n",
              "      display: none;\n",
              "      fill: #1967D2;\n",
              "      height: 32px;\n",
              "      padding: 0 0 0 0;\n",
              "      width: 32px;\n",
              "    }\n",
              "\n",
              "    .colab-df-convert:hover {\n",
              "      background-color: #E2EBFA;\n",
              "      box-shadow: 0px 1px 2px rgba(60, 64, 67, 0.3), 0px 1px 3px 1px rgba(60, 64, 67, 0.15);\n",
              "      fill: #174EA6;\n",
              "    }\n",
              "\n",
              "    [theme=dark] .colab-df-convert {\n",
              "      background-color: #3B4455;\n",
              "      fill: #D2E3FC;\n",
              "    }\n",
              "\n",
              "    [theme=dark] .colab-df-convert:hover {\n",
              "      background-color: #434B5C;\n",
              "      box-shadow: 0px 1px 3px 1px rgba(0, 0, 0, 0.15);\n",
              "      filter: drop-shadow(0px 1px 2px rgba(0, 0, 0, 0.3));\n",
              "      fill: #FFFFFF;\n",
              "    }\n",
              "  </style>\n",
              "\n",
              "      <script>\n",
              "        const buttonEl =\n",
              "          document.querySelector('#df-c04c501d-9818-4f38-95c3-5d1d6eda85c7 button.colab-df-convert');\n",
              "        buttonEl.style.display =\n",
              "          google.colab.kernel.accessAllowed ? 'block' : 'none';\n",
              "\n",
              "        async function convertToInteractive(key) {\n",
              "          const element = document.querySelector('#df-c04c501d-9818-4f38-95c3-5d1d6eda85c7');\n",
              "          const dataTable =\n",
              "            await google.colab.kernel.invokeFunction('convertToInteractive',\n",
              "                                                     [key], {});\n",
              "          if (!dataTable) return;\n",
              "\n",
              "          const docLinkHtml = 'Like what you see? Visit the ' +\n",
              "            '<a target=\"_blank\" href=https://colab.research.google.com/notebooks/data_table.ipynb>data table notebook</a>'\n",
              "            + ' to learn more about interactive tables.';\n",
              "          element.innerHTML = '';\n",
              "          dataTable['output_type'] = 'display_data';\n",
              "          await google.colab.output.renderOutput(dataTable, element);\n",
              "          const docLink = document.createElement('div');\n",
              "          docLink.innerHTML = docLinkHtml;\n",
              "          element.appendChild(docLink);\n",
              "        }\n",
              "      </script>\n",
              "    </div>\n",
              "  </div>\n",
              "  "
            ]
          },
          "metadata": {},
          "execution_count": 5
        }
      ]
    },
    {
      "cell_type": "code",
      "source": [
        "features2 = np.array(en_dataframe.iloc[:, :-1])\n",
        "targets2 = np.array(en_dataframe.iloc[:,-1])"
      ],
      "metadata": {
        "id": "_yDZ1O9PSOGt"
      },
      "execution_count": null,
      "outputs": []
    },
    {
      "cell_type": "code",
      "source": [
        "features2"
      ],
      "metadata": {
        "colab": {
          "base_uri": "https://localhost:8080/"
        },
        "id": "6D3TlUvZt20X",
        "outputId": "f41cf8d0-9aa7-46d7-8881-4d4bada679c5"
      },
      "execution_count": null,
      "outputs": [
        {
          "output_type": "execute_result",
          "data": {
            "text/plain": [
              "array([[ 0.00000000e+00, -1.35980713e+00, -7.27811733e-02, ...,\n",
              "         1.33558377e-01, -2.10530535e-02,  1.49620000e+02],\n",
              "       [ 0.00000000e+00,  1.19185711e+00,  2.66150712e-01, ...,\n",
              "        -8.98309914e-03,  1.47241692e-02,  2.69000000e+00],\n",
              "       [ 1.00000000e+00, -1.35835406e+00, -1.34016307e+00, ...,\n",
              "        -5.53527940e-02, -5.97518406e-02,  3.78660000e+02],\n",
              "       ...,\n",
              "       [ 1.72788000e+05,  1.91956501e+00, -3.01253846e-01, ...,\n",
              "         4.45477214e-03, -2.65608286e-02,  6.78800000e+01],\n",
              "       [ 1.72788000e+05, -2.40440050e-01,  5.30482513e-01, ...,\n",
              "         1.08820735e-01,  1.04532821e-01,  1.00000000e+01],\n",
              "       [ 1.72792000e+05, -5.33412522e-01, -1.89733337e-01, ...,\n",
              "        -2.41530880e-03,  1.36489143e-02,  2.17000000e+02]])"
            ]
          },
          "metadata": {},
          "execution_count": 7
        }
      ]
    },
    {
      "cell_type": "code",
      "source": [
        "np.allclose(features, features2, rtol=0.0000001)"
      ],
      "metadata": {
        "colab": {
          "base_uri": "https://localhost:8080/"
        },
        "id": "mXJEP3BVS0nK",
        "outputId": "b90165ef-a2e7-4491-d46a-85849b608a68"
      },
      "execution_count": null,
      "outputs": [
        {
          "output_type": "execute_result",
          "data": {
            "text/plain": [
              "True"
            ]
          },
          "metadata": {},
          "execution_count": 8
        }
      ]
    },
    {
      "cell_type": "markdown",
      "source": [
        "## Cuidado con las dimensiones, pueden crear problemas extraños\n",
        "\n",
        "Rompemos la RAM, solo para mostrar cosas que pueden fallar, despues no ejecutaremos esta linea"
      ],
      "metadata": {
        "id": "wDyHjQyiatJh"
      }
    },
    {
      "cell_type": "code",
      "source": [
        "# Si está descomentada, supera nuestra RAM disponible\n",
        "# np.allclose(targets, targets2)"
      ],
      "metadata": {
        "id": "IPL463L8akIu"
      },
      "execution_count": null,
      "outputs": []
    },
    {
      "cell_type": "code",
      "source": [
        "# Esta variable casi llena nuestra RAM, la borraremos abajo\n",
        "aux = (targets[:100000] == targets2[:100000])"
      ],
      "metadata": {
        "id": "1MePrUupTkmq"
      },
      "execution_count": null,
      "outputs": []
    },
    {
      "cell_type": "code",
      "source": [
        "targets"
      ],
      "metadata": {
        "colab": {
          "base_uri": "https://localhost:8080/"
        },
        "id": "TdOhfYOMuTsf",
        "outputId": "064002a2-2aff-4463-95a4-bf60f0c2f28f"
      },
      "execution_count": null,
      "outputs": [
        {
          "output_type": "execute_result",
          "data": {
            "text/plain": [
              "array([[0],\n",
              "       [0],\n",
              "       [0],\n",
              "       ...,\n",
              "       [0],\n",
              "       [0],\n",
              "       [0]], dtype=uint8)"
            ]
          },
          "metadata": {},
          "execution_count": 14
        }
      ]
    },
    {
      "cell_type": "code",
      "source": [
        "targets2"
      ],
      "metadata": {
        "colab": {
          "base_uri": "https://localhost:8080/"
        },
        "id": "0ZSAvIGOua7C",
        "outputId": "640b1ffc-4c01-435b-8a1a-b68b7a4b1749"
      },
      "execution_count": null,
      "outputs": [
        {
          "output_type": "execute_result",
          "data": {
            "text/plain": [
              "array([0, 0, 0, ..., 0, 0, 0])"
            ]
          },
          "metadata": {},
          "execution_count": 15
        }
      ]
    },
    {
      "cell_type": "code",
      "source": [
        "aux"
      ],
      "metadata": {
        "colab": {
          "base_uri": "https://localhost:8080/"
        },
        "id": "YWGdxv4Puhsd",
        "outputId": "46898d2f-c4e5-4d02-d721-b11e93b9ffc2"
      },
      "execution_count": null,
      "outputs": [
        {
          "output_type": "execute_result",
          "data": {
            "text/plain": [
              "array([[ True,  True,  True, ...,  True,  True,  True],\n",
              "       [ True,  True,  True, ...,  True,  True,  True],\n",
              "       [ True,  True,  True, ...,  True,  True,  True],\n",
              "       ...,\n",
              "       [ True,  True,  True, ...,  True,  True,  True],\n",
              "       [ True,  True,  True, ...,  True,  True,  True],\n",
              "       [ True,  True,  True, ...,  True,  True,  True]])"
            ]
          },
          "metadata": {},
          "execution_count": 13
        }
      ]
    },
    {
      "cell_type": "code",
      "source": [
        "aux.shape"
      ],
      "metadata": {
        "colab": {
          "base_uri": "https://localhost:8080/"
        },
        "id": "arH09wX8agPl",
        "outputId": "053029e0-e637-4c30-f1a9-4555cb0f9b97"
      },
      "execution_count": null,
      "outputs": [
        {
          "output_type": "execute_result",
          "data": {
            "text/plain": [
              "(100000, 100000)"
            ]
          },
          "metadata": {},
          "execution_count": 16
        }
      ]
    },
    {
      "cell_type": "code",
      "source": [
        "del aux"
      ],
      "metadata": {
        "id": "Bcg42dsHaWyG"
      },
      "execution_count": null,
      "outputs": []
    },
    {
      "cell_type": "markdown",
      "source": [
        "# Corrección\n",
        "\n",
        "La manera correcta para poder llevar a cabo esta comparación es cuidando las dimensiones de los objetos que estamos comparando"
      ],
      "metadata": {
        "id": "Xx4odlCpi2jS"
      }
    },
    {
      "cell_type": "code",
      "source": [
        "targets.shape"
      ],
      "metadata": {
        "colab": {
          "base_uri": "https://localhost:8080/"
        },
        "id": "Yy_JLStyymJD",
        "outputId": "03b86fef-90ef-4b78-b9b2-6b9aa97d769c"
      },
      "execution_count": null,
      "outputs": [
        {
          "output_type": "execute_result",
          "data": {
            "text/plain": [
              "(284807, 1)"
            ]
          },
          "metadata": {},
          "execution_count": 20
        }
      ]
    },
    {
      "cell_type": "code",
      "source": [
        "targets2.shape"
      ],
      "metadata": {
        "colab": {
          "base_uri": "https://localhost:8080/"
        },
        "id": "IvDbovUiyn7q",
        "outputId": "2cba28a8-a9fc-463d-882f-c12cd8109496"
      },
      "execution_count": null,
      "outputs": [
        {
          "output_type": "execute_result",
          "data": {
            "text/plain": [
              "(284807,)"
            ]
          },
          "metadata": {},
          "execution_count": 21
        }
      ]
    },
    {
      "cell_type": "code",
      "source": [
        "features2 = np.array(en_dataframe.iloc[:, :-1])\n",
        "targets2 = np.array(en_dataframe.iloc[:,-1]).reshape(-1, 1)  # Cambio aqui"
      ],
      "metadata": {
        "id": "sxV440Coi_gD"
      },
      "execution_count": null,
      "outputs": []
    },
    {
      "cell_type": "code",
      "source": [
        "np.allclose(targets, targets2, rtol=1e-05)"
      ],
      "metadata": {
        "colab": {
          "base_uri": "https://localhost:8080/"
        },
        "id": "G9GdBgCmjFt0",
        "outputId": "41f78f91-9065-47e7-a4fb-2d5660bb607e"
      },
      "execution_count": null,
      "outputs": [
        {
          "output_type": "execute_result",
          "data": {
            "text/plain": [
              "True"
            ]
          },
          "metadata": {},
          "execution_count": 20
        }
      ]
    },
    {
      "cell_type": "markdown",
      "source": [
        "# Preparar conjunto de validación\n",
        "\n",
        "Lo haremos manual (es decir, no aleatorio)"
      ],
      "metadata": {
        "id": "q9fjnHFwHd-t"
      }
    },
    {
      "cell_type": "code",
      "source": [
        "num_val_samples = int(len(features) * 0.2)\n",
        "num_val_samples"
      ],
      "metadata": {
        "colab": {
          "base_uri": "https://localhost:8080/"
        },
        "id": "Bx8eoOy4vcMH",
        "outputId": "06eb9def-61fe-4459-d4a0-982635bd71cb"
      },
      "execution_count": null,
      "outputs": [
        {
          "output_type": "execute_result",
          "data": {
            "text/plain": [
              "56961"
            ]
          },
          "metadata": {},
          "execution_count": 22
        }
      ]
    },
    {
      "cell_type": "code",
      "source": [
        "num_val_samples = int(len(features) * 0.2)\n",
        "\n",
        "# 80% datos para entrenamiento\n",
        "train_features = features[:-num_val_samples]\n",
        "train_targets = targets[:-num_val_samples]\n",
        "\n",
        "# 20% de datos para test\n",
        "val_features = features[-num_val_samples:]\n",
        "val_targets = targets[-num_val_samples:]\n",
        "\n",
        "print(\"Número de muestras para entrenamiento:\", len(train_features))\n",
        "print(\"Número de muestras para validación:\", len(val_features))"
      ],
      "metadata": {
        "id": "OmgJqltqHS1Q",
        "colab": {
          "base_uri": "https://localhost:8080/"
        },
        "outputId": "2c840b09-d489-4a55-d0f6-5a03c0c57d64"
      },
      "execution_count": null,
      "outputs": [
        {
          "output_type": "stream",
          "name": "stdout",
          "text": [
            "Número de muestras para entrenamiento: 227846\n",
            "Número de muestras para validación: 56961\n"
          ]
        }
      ]
    },
    {
      "cell_type": "code",
      "source": [
        "num_val_samples"
      ],
      "metadata": {
        "colab": {
          "base_uri": "https://localhost:8080/"
        },
        "id": "IjbLCEs9-Gbq",
        "outputId": "e30ffd7c-b7a3-437e-e258-afd1e178a3b1"
      },
      "execution_count": null,
      "outputs": [
        {
          "output_type": "execute_result",
          "data": {
            "text/plain": [
              "56961"
            ]
          },
          "metadata": {},
          "execution_count": 28
        }
      ]
    },
    {
      "cell_type": "markdown",
      "source": [
        "# Analizar desbalance de los datos"
      ],
      "metadata": {
        "id": "YNybjc6VH4Lh"
      }
    },
    {
      "cell_type": "code",
      "source": [
        "counts = np.bincount(train_targets[:, 0])\n",
        "print(f\"Número de valores 1 en muestra de entrenamiento: {counts[1]} ({100 * float(counts[1]) / len(train_targets):.2f}% of total)\")"
      ],
      "metadata": {
        "id": "Oj6xVYvHHUfs",
        "colab": {
          "base_uri": "https://localhost:8080/"
        },
        "outputId": "e243d5f4-dfd8-4e3c-8bc4-918afad4849e"
      },
      "execution_count": null,
      "outputs": [
        {
          "output_type": "stream",
          "name": "stdout",
          "text": [
            "Número de valores 1 en muestra de entrenamiento: 417 (0.18% of total)\n"
          ]
        }
      ]
    },
    {
      "cell_type": "markdown",
      "source": [
        "Asignaremos pesos de una manera balanceada (es una clase de peso \"balanced\" utilizada en keras). Manualmente se calcula como:"
      ],
      "metadata": {
        "id": "uMNmSSg7RKaN"
      }
    },
    {
      "cell_type": "code",
      "source": [
        "total_counts = np.bincount(train_targets[:, 0])\n",
        "n_samples = len(train_targets)\n",
        "\n",
        "weight_for_0 = n_samples / (total_counts[0]*2)\n",
        "weight_for_1 = n_samples / (total_counts[1]*2)\n",
        "\n",
        "#counts = np.bincount(train_targets[:, 0])\n",
        "\n",
        "#weight_for_0 = 1.0 / counts[0]\n",
        "#weight_for_1 = 1.0 / counts[1]\n",
        "\n",
        "print(f\"{weight_for_0: .6f}\")\n",
        "print(f\"{weight_for_1: .4f}\")"
      ],
      "metadata": {
        "id": "LVxboEzLP0qU",
        "colab": {
          "base_uri": "https://localhost:8080/"
        },
        "outputId": "819bb548-8a42-4a4f-95f6-eb50e5a366f5"
      },
      "execution_count": null,
      "outputs": [
        {
          "output_type": "stream",
          "name": "stdout",
          "text": [
            " 0.500917\n",
            " 273.1966\n"
          ]
        }
      ]
    },
    {
      "cell_type": "markdown",
      "source": [
        "Podemos ver que los pesos son practicamente una proporción de 500 a 1 aproximadamente"
      ],
      "metadata": {
        "id": "gB61dh8ITMUG"
      }
    },
    {
      "cell_type": "markdown",
      "source": [
        "# Estandarizar los datos"
      ],
      "metadata": {
        "id": "ChgxpOOuIB_V"
      }
    },
    {
      "cell_type": "code",
      "source": [
        "mean = np.mean(train_features, axis=0)\n",
        "train_features -= mean\n",
        "val_features -= mean\n",
        "std = np.std(train_features, axis=0)\n",
        "train_features /= std\n",
        "val_features /= std"
      ],
      "metadata": {
        "id": "_vnuRhp5HUdi"
      },
      "execution_count": null,
      "outputs": []
    },
    {
      "cell_type": "markdown",
      "source": [
        "# Modelo de clasificación binaria"
      ],
      "metadata": {
        "id": "BrhhaIPuIGKD"
      }
    },
    {
      "cell_type": "markdown",
      "source": [
        "## Slicing para arrays"
      ],
      "metadata": {
        "id": "xyPAgA0rSagz"
      }
    },
    {
      "cell_type": "code",
      "source": [
        "arreglo = np.array([[1,2,3], [4,5,6]])\n",
        "arreglo"
      ],
      "metadata": {
        "colab": {
          "base_uri": "https://localhost:8080/"
        },
        "id": "D6F5_y8pDY3r",
        "outputId": "bedb7cce-5758-4ce0-dd24-e85860ba6846"
      },
      "execution_count": null,
      "outputs": [
        {
          "output_type": "execute_result",
          "data": {
            "text/plain": [
              "array([[1, 2, 3],\n",
              "       [4, 5, 6]])"
            ]
          },
          "metadata": {},
          "execution_count": 29
        }
      ]
    },
    {
      "cell_type": "code",
      "source": [
        "arreglo[:, 1:]"
      ],
      "metadata": {
        "colab": {
          "base_uri": "https://localhost:8080/"
        },
        "id": "X2kSTIvzDHPz",
        "outputId": "e34297e6-b2d6-4de1-b20a-9014c52f506a"
      },
      "execution_count": null,
      "outputs": [
        {
          "output_type": "execute_result",
          "data": {
            "text/plain": [
              "array([[2, 3],\n",
              "       [5, 6]])"
            ]
          },
          "metadata": {},
          "execution_count": 33
        }
      ]
    },
    {
      "cell_type": "code",
      "source": [
        "# Removemos la columnas correspondiente a tiempo\n",
        "train_features = train_features[:, 1:]\n",
        "val_features = val_features[:, 1:]"
      ],
      "metadata": {
        "id": "whfjNZTZDpW2"
      },
      "execution_count": null,
      "outputs": []
    },
    {
      "cell_type": "code",
      "source": [
        "train_features.shape[-1]"
      ],
      "metadata": {
        "colab": {
          "base_uri": "https://localhost:8080/"
        },
        "id": "otQUgpD4aHyV",
        "outputId": "4e072e9a-3970-43f4-866b-d30c07431e66"
      },
      "execution_count": null,
      "outputs": [
        {
          "output_type": "execute_result",
          "data": {
            "text/plain": [
              "29"
            ]
          },
          "metadata": {},
          "execution_count": 35
        }
      ]
    },
    {
      "cell_type": "code",
      "source": [
        "from tensorflow import keras\n",
        "import tensorflow as tf\n",
        "\n",
        "model = keras.Sequential(\n",
        "    [\n",
        "        keras.layers.Dense(\n",
        "            256, activation=\"relu\", input_shape=(train_features.shape[-1],)\n",
        "        ),\n",
        "        keras.layers.Dense(256, activation=\"relu\"),\n",
        "        keras.layers.Dropout(0.3),\n",
        "        keras.layers.Dense(256, activation=\"relu\"),\n",
        "        keras.layers.Dropout(0.3),\n",
        "        keras.layers.Dense(1, activation=\"sigmoid\"),\n",
        "    ]\n",
        ")\n",
        "model.summary()"
      ],
      "metadata": {
        "id": "c7TZxGnwHUbN",
        "colab": {
          "base_uri": "https://localhost:8080/"
        },
        "outputId": "c9a093bc-a4cd-4beb-b6bf-fb25ce405bc1"
      },
      "execution_count": null,
      "outputs": [
        {
          "output_type": "stream",
          "name": "stdout",
          "text": [
            "Model: \"sequential\"\n",
            "_________________________________________________________________\n",
            " Layer (type)                Output Shape              Param #   \n",
            "=================================================================\n",
            " dense (Dense)               (None, 256)               7680      \n",
            "                                                                 \n",
            " dense_1 (Dense)             (None, 256)               65792     \n",
            "                                                                 \n",
            " dropout (Dropout)           (None, 256)               0         \n",
            "                                                                 \n",
            " dense_2 (Dense)             (None, 256)               65792     \n",
            "                                                                 \n",
            " dropout_1 (Dropout)         (None, 256)               0         \n",
            "                                                                 \n",
            " dense_3 (Dense)             (None, 1)                 257       \n",
            "                                                                 \n",
            "=================================================================\n",
            "Total params: 139,521\n",
            "Trainable params: 139,521\n",
            "Non-trainable params: 0\n",
            "_________________________________________________________________\n"
          ]
        }
      ]
    },
    {
      "cell_type": "markdown",
      "source": [
        "# Entrenar modelo tomando en cuenta pesos para los datos\n"
      ],
      "metadata": {
        "id": "8iUdg7wmIIRA"
      }
    },
    {
      "cell_type": "code",
      "source": [
        "metrics = [\n",
        "    keras.metrics.FalseNegatives(name=\"fn\"),\n",
        "    keras.metrics.FalsePositives(name=\"fp\"),\n",
        "    keras.metrics.TrueNegatives(name=\"tn\"),\n",
        "    keras.metrics.TruePositives(name=\"tp\"),\n",
        "    keras.metrics.Precision(name=\"precision\"),\n",
        "    keras.metrics.Recall(name=\"recall\"),\n",
        "]\n",
        "\n",
        "model.compile(\n",
        "    optimizer=keras.optimizers.Adam(0.01), loss=\"binary_crossentropy\", metrics=metrics # El 0.01 es llamado \"learning rate\"\n",
        ")\n",
        "\n",
        "# Para poder guardar info del entranamiento\n",
        "callbacks = [keras.callbacks.ModelCheckpoint(\"fraud_model_at_epoch_{epoch}.h5\")]\n",
        "\n",
        "# Utilizada para asignar pesos que \"balanceen\" las clases\n",
        "class_weight = {0: weight_for_0, 1: weight_for_1}\n",
        "\n",
        "model.fit(\n",
        "    train_features,\n",
        "    train_targets,\n",
        "    batch_size=2048, # Cantidad de datos que optimizan pesos por cada pasada, \"batch size\"\n",
        "    epochs=30, # Cantidad de pasadas que dan todos los datos, para entrenamiento\n",
        "    verbose=2,\n",
        "    callbacks=callbacks,\n",
        "    validation_data=(val_features, val_targets), # Solo para medir como va avanzando el modelo, no utiliza estos datos para modificar pesos\n",
        "    class_weight=class_weight,\n",
        ")"
      ],
      "metadata": {
        "id": "ohsmPpHnHUZH",
        "colab": {
          "base_uri": "https://localhost:8080/"
        },
        "outputId": "cf223d2f-99b8-4e0f-cea4-210c150e2bbe"
      },
      "execution_count": null,
      "outputs": [
        {
          "output_type": "stream",
          "name": "stdout",
          "text": [
            "Epoch 1/30\n",
            "112/112 - 10s - loss: 0.3884 - fn: 54.0000 - fp: 16941.0000 - tn: 210488.0000 - tp: 363.0000 - precision: 0.0210 - recall: 0.8705 - val_loss: 0.2084 - val_fn: 7.0000 - val_fp: 2861.0000 - val_tn: 54025.0000 - val_tp: 68.0000 - val_precision: 0.0232 - val_recall: 0.9067 - 10s/epoch - 88ms/step\n",
            "Epoch 2/30\n",
            "112/112 - 7s - loss: 0.2547 - fn: 34.0000 - fp: 10566.0000 - tn: 216863.0000 - tp: 383.0000 - precision: 0.0350 - recall: 0.9185 - val_loss: 0.1497 - val_fn: 7.0000 - val_fp: 1757.0000 - val_tn: 55129.0000 - val_tp: 68.0000 - val_precision: 0.0373 - val_recall: 0.9067 - 7s/epoch - 60ms/step\n",
            "Epoch 3/30\n",
            "112/112 - 7s - loss: 0.2077 - fn: 29.0000 - fp: 11061.0000 - tn: 216368.0000 - tp: 388.0000 - precision: 0.0339 - recall: 0.9305 - val_loss: 0.1719 - val_fn: 8.0000 - val_fp: 2141.0000 - val_tn: 54745.0000 - val_tp: 67.0000 - val_precision: 0.0303 - val_recall: 0.8933 - 7s/epoch - 63ms/step\n",
            "Epoch 4/30\n",
            "112/112 - 7s - loss: 0.1666 - fn: 27.0000 - fp: 7217.0000 - tn: 220212.0000 - tp: 390.0000 - precision: 0.0513 - recall: 0.9353 - val_loss: 0.3770 - val_fn: 7.0000 - val_fp: 5997.0000 - val_tn: 50889.0000 - val_tp: 68.0000 - val_precision: 0.0112 - val_recall: 0.9067 - 7s/epoch - 63ms/step\n",
            "Epoch 5/30\n",
            "112/112 - 7s - loss: 0.4858 - fn: 37.0000 - fp: 13425.0000 - tn: 214004.0000 - tp: 380.0000 - precision: 0.0275 - recall: 0.9113 - val_loss: 0.1336 - val_fn: 9.0000 - val_fp: 686.0000 - val_tn: 56200.0000 - val_tp: 66.0000 - val_precision: 0.0878 - val_recall: 0.8800 - 7s/epoch - 60ms/step\n",
            "Epoch 6/30\n",
            "112/112 - 10s - loss: 0.2511 - fn: 43.0000 - fp: 5467.0000 - tn: 221962.0000 - tp: 374.0000 - precision: 0.0640 - recall: 0.8969 - val_loss: 0.0773 - val_fn: 8.0000 - val_fp: 818.0000 - val_tn: 56068.0000 - val_tp: 67.0000 - val_precision: 0.0757 - val_recall: 0.8933 - 10s/epoch - 85ms/step\n",
            "Epoch 7/30\n",
            "112/112 - 8s - loss: 0.4647 - fn: 33.0000 - fp: 12848.0000 - tn: 214581.0000 - tp: 384.0000 - precision: 0.0290 - recall: 0.9209 - val_loss: 0.2075 - val_fn: 7.0000 - val_fp: 4677.0000 - val_tn: 52209.0000 - val_tp: 68.0000 - val_precision: 0.0143 - val_recall: 0.9067 - 8s/epoch - 72ms/step\n",
            "Epoch 8/30\n",
            "112/112 - 6s - loss: 0.3098 - fn: 43.0000 - fp: 8950.0000 - tn: 218479.0000 - tp: 374.0000 - precision: 0.0401 - recall: 0.8969 - val_loss: 0.1673 - val_fn: 8.0000 - val_fp: 683.0000 - val_tn: 56203.0000 - val_tp: 67.0000 - val_precision: 0.0893 - val_recall: 0.8933 - 6s/epoch - 55ms/step\n",
            "Epoch 9/30\n",
            "112/112 - 8s - loss: 0.4826 - fn: 46.0000 - fp: 9392.0000 - tn: 218037.0000 - tp: 371.0000 - precision: 0.0380 - recall: 0.8897 - val_loss: 0.0483 - val_fn: 9.0000 - val_fp: 534.0000 - val_tn: 56352.0000 - val_tp: 66.0000 - val_precision: 0.1100 - val_recall: 0.8800 - 8s/epoch - 69ms/step\n",
            "Epoch 10/30\n",
            "112/112 - 6s - loss: 0.4100 - fn: 37.0000 - fp: 9487.0000 - tn: 217942.0000 - tp: 380.0000 - precision: 0.0385 - recall: 0.9113 - val_loss: 0.2698 - val_fn: 9.0000 - val_fp: 1685.0000 - val_tn: 55201.0000 - val_tp: 66.0000 - val_precision: 0.0377 - val_recall: 0.8800 - 6s/epoch - 57ms/step\n",
            "Epoch 11/30\n",
            "112/112 - 7s - loss: 0.3696 - fn: 52.0000 - fp: 4559.0000 - tn: 222870.0000 - tp: 365.0000 - precision: 0.0741 - recall: 0.8753 - val_loss: 0.1597 - val_fn: 14.0000 - val_fp: 734.0000 - val_tn: 56152.0000 - val_tp: 61.0000 - val_precision: 0.0767 - val_recall: 0.8133 - 7s/epoch - 67ms/step\n",
            "Epoch 12/30\n",
            "112/112 - 7s - loss: 0.1955 - fn: 55.0000 - fp: 3210.0000 - tn: 224219.0000 - tp: 362.0000 - precision: 0.1013 - recall: 0.8681 - val_loss: 0.0629 - val_fn: 12.0000 - val_fp: 183.0000 - val_tn: 56703.0000 - val_tp: 63.0000 - val_precision: 0.2561 - val_recall: 0.8400 - 7s/epoch - 60ms/step\n",
            "Epoch 13/30\n",
            "112/112 - 7s - loss: 0.2398 - fn: 55.0000 - fp: 4277.0000 - tn: 223152.0000 - tp: 362.0000 - precision: 0.0780 - recall: 0.8681 - val_loss: 0.1499 - val_fn: 7.0000 - val_fp: 1170.0000 - val_tn: 55716.0000 - val_tp: 68.0000 - val_precision: 0.0549 - val_recall: 0.9067 - 7s/epoch - 63ms/step\n",
            "Epoch 14/30\n",
            "112/112 - 7s - loss: 0.2640 - fn: 37.0000 - fp: 6233.0000 - tn: 221196.0000 - tp: 380.0000 - precision: 0.0575 - recall: 0.9113 - val_loss: 0.2363 - val_fn: 7.0000 - val_fp: 2910.0000 - val_tn: 53976.0000 - val_tp: 68.0000 - val_precision: 0.0228 - val_recall: 0.9067 - 7s/epoch - 62ms/step\n",
            "Epoch 15/30\n",
            "112/112 - 7s - loss: 0.2063 - fn: 43.0000 - fp: 3433.0000 - tn: 223996.0000 - tp: 374.0000 - precision: 0.0982 - recall: 0.8969 - val_loss: 0.1158 - val_fn: 11.0000 - val_fp: 328.0000 - val_tn: 56558.0000 - val_tp: 64.0000 - val_precision: 0.1633 - val_recall: 0.8533 - 7s/epoch - 60ms/step\n",
            "Epoch 16/30\n",
            "112/112 - 7s - loss: 0.1817 - fn: 43.0000 - fp: 3724.0000 - tn: 223705.0000 - tp: 374.0000 - precision: 0.0913 - recall: 0.8969 - val_loss: 0.1273 - val_fn: 12.0000 - val_fp: 327.0000 - val_tn: 56559.0000 - val_tp: 63.0000 - val_precision: 0.1615 - val_recall: 0.8400 - 7s/epoch - 66ms/step\n",
            "Epoch 17/30\n",
            "112/112 - 7s - loss: 0.2123 - fn: 37.0000 - fp: 3237.0000 - tn: 224192.0000 - tp: 380.0000 - precision: 0.1051 - recall: 0.9113 - val_loss: 0.1076 - val_fn: 15.0000 - val_fp: 75.0000 - val_tn: 56811.0000 - val_tp: 60.0000 - val_precision: 0.4444 - val_recall: 0.8000 - 7s/epoch - 64ms/step\n",
            "Epoch 18/30\n",
            "112/112 - 7s - loss: 0.1477 - fn: 44.0000 - fp: 2586.0000 - tn: 224843.0000 - tp: 373.0000 - precision: 0.1261 - recall: 0.8945 - val_loss: 0.0906 - val_fn: 10.0000 - val_fp: 607.0000 - val_tn: 56279.0000 - val_tp: 65.0000 - val_precision: 0.0967 - val_recall: 0.8667 - 7s/epoch - 67ms/step\n",
            "Epoch 19/30\n",
            "112/112 - 7s - loss: 0.1616 - fn: 36.0000 - fp: 4279.0000 - tn: 223150.0000 - tp: 381.0000 - precision: 0.0818 - recall: 0.9137 - val_loss: 0.1212 - val_fn: 10.0000 - val_fp: 405.0000 - val_tn: 56481.0000 - val_tp: 65.0000 - val_precision: 0.1383 - val_recall: 0.8667 - 7s/epoch - 65ms/step\n",
            "Epoch 20/30\n",
            "112/112 - 9s - loss: 0.1241 - fn: 37.0000 - fp: 1686.0000 - tn: 225743.0000 - tp: 380.0000 - precision: 0.1839 - recall: 0.9113 - val_loss: 0.0701 - val_fn: 10.0000 - val_fp: 341.0000 - val_tn: 56545.0000 - val_tp: 65.0000 - val_precision: 0.1601 - val_recall: 0.8667 - 9s/epoch - 80ms/step\n",
            "Epoch 21/30\n",
            "112/112 - 8s - loss: 0.1110 - fn: 36.0000 - fp: 2294.0000 - tn: 225135.0000 - tp: 381.0000 - precision: 0.1424 - recall: 0.9137 - val_loss: 0.0749 - val_fn: 10.0000 - val_fp: 515.0000 - val_tn: 56371.0000 - val_tp: 65.0000 - val_precision: 0.1121 - val_recall: 0.8667 - 8s/epoch - 72ms/step\n",
            "Epoch 22/30\n",
            "112/112 - 7s - loss: 0.2876 - fn: 36.0000 - fp: 4769.0000 - tn: 222660.0000 - tp: 381.0000 - precision: 0.0740 - recall: 0.9137 - val_loss: 0.1167 - val_fn: 11.0000 - val_fp: 273.0000 - val_tn: 56613.0000 - val_tp: 64.0000 - val_precision: 0.1899 - val_recall: 0.8533 - 7s/epoch - 66ms/step\n",
            "Epoch 23/30\n",
            "112/112 - 9s - loss: 0.1815 - fn: 48.0000 - fp: 2963.0000 - tn: 224466.0000 - tp: 369.0000 - precision: 0.1107 - recall: 0.8849 - val_loss: 0.1941 - val_fn: 11.0000 - val_fp: 722.0000 - val_tn: 56164.0000 - val_tp: 64.0000 - val_precision: 0.0814 - val_recall: 0.8533 - 9s/epoch - 83ms/step\n",
            "Epoch 24/30\n",
            "112/112 - 6s - loss: 0.3165 - fn: 54.0000 - fp: 3600.0000 - tn: 223829.0000 - tp: 363.0000 - precision: 0.0916 - recall: 0.8705 - val_loss: 0.1187 - val_fn: 16.0000 - val_fp: 44.0000 - val_tn: 56842.0000 - val_tp: 59.0000 - val_precision: 0.5728 - val_recall: 0.7867 - 6s/epoch - 56ms/step\n",
            "Epoch 25/30\n",
            "112/112 - 8s - loss: 0.3788 - fn: 69.0000 - fp: 3680.0000 - tn: 223749.0000 - tp: 348.0000 - precision: 0.0864 - recall: 0.8345 - val_loss: 0.1294 - val_fn: 16.0000 - val_fp: 65.0000 - val_tn: 56821.0000 - val_tp: 59.0000 - val_precision: 0.4758 - val_recall: 0.7867 - 8s/epoch - 74ms/step\n",
            "Epoch 26/30\n",
            "112/112 - 6s - loss: 0.2369 - fn: 59.0000 - fp: 1714.0000 - tn: 225715.0000 - tp: 358.0000 - precision: 0.1728 - recall: 0.8585 - val_loss: 0.1730 - val_fn: 11.0000 - val_fp: 407.0000 - val_tn: 56479.0000 - val_tp: 64.0000 - val_precision: 0.1359 - val_recall: 0.8533 - 6s/epoch - 55ms/step\n",
            "Epoch 27/30\n",
            "112/112 - 8s - loss: 0.2277 - fn: 54.0000 - fp: 2428.0000 - tn: 225001.0000 - tp: 363.0000 - precision: 0.1301 - recall: 0.8705 - val_loss: 0.1378 - val_fn: 18.0000 - val_fp: 24.0000 - val_tn: 56862.0000 - val_tp: 57.0000 - val_precision: 0.7037 - val_recall: 0.7600 - 8s/epoch - 74ms/step\n",
            "Epoch 28/30\n",
            "112/112 - 6s - loss: 0.2142 - fn: 70.0000 - fp: 1160.0000 - tn: 226269.0000 - tp: 347.0000 - precision: 0.2303 - recall: 0.8321 - val_loss: 0.1360 - val_fn: 18.0000 - val_fp: 14.0000 - val_tn: 56872.0000 - val_tp: 57.0000 - val_precision: 0.8028 - val_recall: 0.7600 - 6s/epoch - 55ms/step\n",
            "Epoch 29/30\n",
            "112/112 - 8s - loss: 0.2359 - fn: 78.0000 - fp: 1263.0000 - tn: 226166.0000 - tp: 339.0000 - precision: 0.2116 - recall: 0.8129 - val_loss: 0.1417 - val_fn: 21.0000 - val_fp: 6.0000 - val_tn: 56880.0000 - val_tp: 54.0000 - val_precision: 0.9000 - val_recall: 0.7200 - 8s/epoch - 74ms/step\n",
            "Epoch 30/30\n",
            "112/112 - 6s - loss: 0.2858 - fn: 94.0000 - fp: 1368.0000 - tn: 226061.0000 - tp: 323.0000 - precision: 0.1910 - recall: 0.7746 - val_loss: 0.1475 - val_fn: 18.0000 - val_fp: 11.0000 - val_tn: 56875.0000 - val_tp: 57.0000 - val_precision: 0.8382 - val_recall: 0.7600 - 6s/epoch - 55ms/step\n"
          ]
        },
        {
          "output_type": "execute_result",
          "data": {
            "text/plain": [
              "<keras.callbacks.History at 0x7fe5bc2bde20>"
            ]
          },
          "metadata": {},
          "execution_count": 37
        }
      ]
    },
    {
      "cell_type": "code",
      "source": [
        "tf.keras.utils.plot_model(\n",
        "    model,\n",
        "    #to_file=\"model.png\",\n",
        "    show_shapes=True,\n",
        "    show_dtype=False,\n",
        "    show_layer_names=True,\n",
        "    #dpi=96,\n",
        ")"
      ],
      "metadata": {
        "colab": {
          "base_uri": "https://localhost:8080/",
          "height": 754
        },
        "id": "jb_Am6LkfuqG",
        "outputId": "ba5989f4-9970-487e-a815-1baf11d57f74"
      },
      "execution_count": null,
      "outputs": [
        {
          "output_type": "execute_result",
          "data": {
            "image/png": "[encoded data removed]",
            "text/plain": [
              "<IPython.core.display.Image object>"
            ]
          },
          "metadata": {},
          "execution_count": 39
        }
      ]
    },
    {
      "cell_type": "code",
      "source": [
        "y_train_pred = model.predict(train_features)\n",
        "y_train_pred"
      ],
      "metadata": {
        "colab": {
          "base_uri": "https://localhost:8080/"
        },
        "id": "xMSZk-TQ4p5E",
        "outputId": "72a3b8db-6123-4738-c16c-98d431bd5cd6"
      },
      "execution_count": null,
      "outputs": [
        {
          "output_type": "stream",
          "name": "stdout",
          "text": [
            "7121/7121 [==============================] - 16s 2ms/step\n"
          ]
        },
        {
          "output_type": "execute_result",
          "data": {
            "text/plain": [
              "array([[0.01047909],\n",
              "       [0.        ],\n",
              "       [0.        ],\n",
              "       ...,\n",
              "       [0.35334408],\n",
              "       [0.        ],\n",
              "       [0.        ]], dtype=float32)"
            ]
          },
          "metadata": {},
          "execution_count": 38
        }
      ]
    },
    {
      "cell_type": "code",
      "source": [
        "y_train_pred = model.predict(train_features)\n",
        "y_train_pred[y_train_pred < 0.5] = 0\n",
        "y_train_pred[y_train_pred >= 0.5] = 1"
      ],
      "metadata": {
        "id": "VpjKDeemyyR5",
        "colab": {
          "base_uri": "https://localhost:8080/"
        },
        "outputId": "be478e9a-f4d4-4a8c-abb0-8de6f25faa28"
      },
      "execution_count": null,
      "outputs": [
        {
          "output_type": "stream",
          "name": "stdout",
          "text": [
            "7121/7121 [==============================] - 18s 2ms/step\n"
          ]
        }
      ]
    },
    {
      "cell_type": "code",
      "source": [
        "y_test_pred = model.predict(val_features)\n",
        "y_test_pred[y_test_pred < 0.5] = 0\n",
        "y_test_pred[y_test_pred >= 0.5] = 1"
      ],
      "metadata": {
        "id": "N5wnrKyvHUSa",
        "colab": {
          "base_uri": "https://localhost:8080/"
        },
        "outputId": "1694b7ec-d4fd-4073-e786-7f3988b0d537"
      },
      "execution_count": null,
      "outputs": [
        {
          "output_type": "stream",
          "name": "stdout",
          "text": [
            "1781/1781 [==============================] - 4s 2ms/step\n"
          ]
        }
      ]
    },
    {
      "cell_type": "code",
      "source": [
        "len(y_test_pred[:, 0])"
      ],
      "metadata": {
        "id": "7j-utPCXxdVh",
        "colab": {
          "base_uri": "https://localhost:8080/"
        },
        "outputId": "9beb484e-c487-4d92-9c68-6f2d2f0f9f57"
      },
      "execution_count": null,
      "outputs": [
        {
          "output_type": "execute_result",
          "data": {
            "text/plain": [
              "56961"
            ]
          },
          "metadata": {},
          "execution_count": 41
        }
      ]
    },
    {
      "cell_type": "code",
      "source": [
        "y_test_pred[:, 0].sum()"
      ],
      "metadata": {
        "id": "Kyi7Q_VCyXfP",
        "colab": {
          "base_uri": "https://localhost:8080/"
        },
        "outputId": "9753cfd5-26db-4aed-888f-36ebaa2b04c0"
      },
      "execution_count": null,
      "outputs": [
        {
          "output_type": "execute_result",
          "data": {
            "text/plain": [
              "68.0"
            ]
          },
          "metadata": {},
          "execution_count": 42
        }
      ]
    },
    {
      "cell_type": "code",
      "source": [
        "from sklearn.metrics import ConfusionMatrixDisplay\n",
        "import matplotlib.pyplot as plt"
      ],
      "metadata": {
        "id": "YWEa45ewynAx"
      },
      "execution_count": null,
      "outputs": []
    },
    {
      "cell_type": "code",
      "source": [
        "ConfusionMatrixDisplay.from_predictions(train_targets, y_train_pred, cmap=plt.cm.Greens)"
      ],
      "metadata": {
        "id": "A8pnRIIjyqOF",
        "colab": {
          "base_uri": "https://localhost:8080/",
          "height": 466
        },
        "outputId": "8942f842-1a9f-4549-f355-3e01444e5e76"
      },
      "execution_count": null,
      "outputs": [
        {
          "output_type": "execute_result",
          "data": {
            "text/plain": [
              "<sklearn.metrics._plot.confusion_matrix.ConfusionMatrixDisplay at 0x7fe5ac3ea970>"
            ]
          },
          "metadata": {},
          "execution_count": 44
        },
        {
          "output_type": "display_data",
          "data": {
            "text/plain": [
              "<Figure size 640x480 with 2 Axes>"
            ],
            "image/png": "[encoded data removed]"
          },
          "metadata": {}
        }
      ]
    },
    {
      "cell_type": "code",
      "source": [
        "# Recuperar \"pesos\" de los coeficientes en la epoca \"X\"\n",
        "# CUIDADO AL CORRER ESTA CELDA\n",
        "\n",
        "# model.load_weights(\"/content/fraud_model_at_epoch_25.h5\")"
      ],
      "metadata": {
        "id": "__GIroXqJvy9"
      },
      "execution_count": null,
      "outputs": []
    },
    {
      "cell_type": "code",
      "source": [
        "ConfusionMatrixDisplay.from_predictions(val_targets, y_test_pred, cmap=plt.cm.Greens)"
      ],
      "metadata": {
        "id": "5hoA_Ryf3LGE",
        "colab": {
          "base_uri": "https://localhost:8080/",
          "height": 466
        },
        "outputId": "423e6bb2-e75c-4da0-e06a-4ab168c5c8c0"
      },
      "execution_count": null,
      "outputs": [
        {
          "output_type": "execute_result",
          "data": {
            "text/plain": [
              "<sklearn.metrics._plot.confusion_matrix.ConfusionMatrixDisplay at 0x7fe8bc444610>"
            ]
          },
          "metadata": {},
          "execution_count": 45
        },
        {
          "output_type": "display_data",
          "data": {
            "text/plain": [
              "<Figure size 640x480 with 2 Axes>"
            ],
            "image/png": "[encoded data removed]"
          },
          "metadata": {}
        }
      ]
    },
    {
      "cell_type": "code",
      "source": [
        "from sklearn.metrics import average_precision_score"
      ],
      "metadata": {
        "id": "G4FyL0lt1nwo"
      },
      "execution_count": null,
      "outputs": []
    },
    {
      "cell_type": "code",
      "source": [
        "y_test_prob = model.predict(val_features)"
      ],
      "metadata": {
        "id": "uLEe0C-b2y04",
        "colab": {
          "base_uri": "https://localhost:8080/"
        },
        "outputId": "848f2249-01b5-4515-917f-c166007e36c6"
      },
      "execution_count": null,
      "outputs": [
        {
          "output_type": "stream",
          "name": "stdout",
          "text": [
            "1781/1781 [==============================] - 5s 3ms/step\n"
          ]
        }
      ]
    },
    {
      "cell_type": "code",
      "source": [
        "y_test_prob"
      ],
      "metadata": {
        "colab": {
          "base_uri": "https://localhost:8080/"
        },
        "id": "6rQH2yTel2_L",
        "outputId": "841cc458-b966-40ba-8a9d-807668ed77bd"
      },
      "execution_count": null,
      "outputs": [
        {
          "output_type": "execute_result",
          "data": {
            "text/plain": [
              "array([[0.0000000e+00],\n",
              "       [0.0000000e+00],\n",
              "       [0.0000000e+00],\n",
              "       ...,\n",
              "       [0.0000000e+00],\n",
              "       [1.5145877e-20],\n",
              "       [1.4284450e-01]], dtype=float32)"
            ]
          },
          "metadata": {},
          "execution_count": 52
        }
      ]
    },
    {
      "cell_type": "code",
      "source": [
        "auprc = average_precision_score(val_targets, y_test_prob)\n",
        "auprc"
      ],
      "metadata": {
        "id": "DykriQEB2rpT",
        "colab": {
          "base_uri": "https://localhost:8080/"
        },
        "outputId": "445bdb8f-e315-42f9-cd9d-506fa81dc6a4"
      },
      "execution_count": null,
      "outputs": [
        {
          "output_type": "execute_result",
          "data": {
            "text/plain": [
              "0.6765735086114079"
            ]
          },
          "metadata": {},
          "execution_count": 48
        }
      ]
    },
    {
      "cell_type": "code",
      "source": [
        "from sklearn.metrics import classification_report"
      ],
      "metadata": {
        "id": "_dqZX_4g5icp"
      },
      "execution_count": null,
      "outputs": []
    },
    {
      "cell_type": "code",
      "source": [
        "print(classification_report(train_targets, y_train_pred))"
      ],
      "metadata": {
        "id": "7P-RIboL6QRL",
        "colab": {
          "base_uri": "https://localhost:8080/"
        },
        "outputId": "518e3b0a-7c01-4746-8ef7-4273ff519358"
      },
      "execution_count": null,
      "outputs": [
        {
          "output_type": "stream",
          "name": "stdout",
          "text": [
            "              precision    recall  f1-score   support\n",
            "\n",
            "           0       1.00      1.00      1.00    227429\n",
            "           1       0.71      0.83      0.76       417\n",
            "\n",
            "    accuracy                           1.00    227846\n",
            "   macro avg       0.85      0.91      0.88    227846\n",
            "weighted avg       1.00      1.00      1.00    227846\n",
            "\n"
          ]
        }
      ]
    },
    {
      "cell_type": "code",
      "source": [
        "print(classification_report(val_targets, y_test_pred))"
      ],
      "metadata": {
        "id": "dwGZ2E21K8Lj",
        "colab": {
          "base_uri": "https://localhost:8080/"
        },
        "outputId": "7046ecd1-fbdd-4d73-fb0e-810bb555a705"
      },
      "execution_count": null,
      "outputs": [
        {
          "output_type": "stream",
          "name": "stdout",
          "text": [
            "              precision    recall  f1-score   support\n",
            "\n",
            "           0       1.00      1.00      1.00     56886\n",
            "           1       0.84      0.76      0.80        75\n",
            "\n",
            "    accuracy                           1.00     56961\n",
            "   macro avg       0.92      0.88      0.90     56961\n",
            "weighted avg       1.00      1.00      1.00     56961\n",
            "\n"
          ]
        }
      ]
    },
    {
      "cell_type": "markdown",
      "source": [
        "# Ejercicios:\n",
        "\n",
        "* ¿Que sucedería con el modelo si no usamos el parámetro \"class_weight\"?\n",
        "\n",
        "* ¿Podemos recuperar solo la mejor época de nuestro entrenamiento?\n",
        "\n",
        "* ¿Porque la matriz de confusión no parece dar mucha luz sobre lo que ocurre?"
      ],
      "metadata": {
        "id": "oQhYiG1VzGA8"
      }
    },
    {
      "cell_type": "markdown",
      "source": [
        " - Cargar los datos utilizando Pandas\n",
        " - Realizar la división de entrenamiento y prueba usando la función 'train_test_split' de sklearn"
      ],
      "metadata": {
        "id": "IPu2R9xXxXk-"
      }
    },
    {
      "cell_type": "code",
      "source": [
        "# Código de ejercicio, puede crear mas celdas\n",
        "\n"
      ],
      "metadata": {
        "id": "oC8Vlpv_xX7V"
      },
      "execution_count": null,
      "outputs": []
    }
  ]
}