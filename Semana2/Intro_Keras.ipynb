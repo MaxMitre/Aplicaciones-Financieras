{
  "nbformat": 4,
  "nbformat_minor": 0,
  "metadata": {
    "colab": {
      "provenance": [],
      "collapsed_sections": []
    },
    "kernelspec": {
      "name": "python3",
      "display_name": "Python 3"
    },
    "language_info": {
      "name": "python"
    }
  },
  "cells": [
    {
      "cell_type": "markdown",
      "source": [
        "[![Open In Colab](https://colab.research.google.com/assets/colab-badge.svg)](https://colab.research.google.com/github/MaxMitre/Aplicaciones-Financieras/blob/main/Semana2/Intro_Keras.ipynb)"
      ],
      "metadata": {
        "id": "7349NUkNQQWW"
      }
    },
    {
      "cell_type": "markdown",
      "source": [
        "# Problema\n",
        "\n",
        "Esta semana utilizaremos el mismo DataSet para ambas sesiones. Ésta primera sesión será para analizar un problema de fraude de modo sencillo, es decir, con un clasificador binario sencillo (que nos servirá para introducir algunas herramientas).\n",
        "\n",
        "Podemos encontrar la base de datos en https://www.kaggle.com/datasets/mlg-ulb/creditcardfraud\n",
        "\n",
        "Los datos contienen transacciones realizadas mediante trarjeta de crédito en Septiembre del 2013 por titulares de tarjeta en Europa. Ocurrieron en 2 días en los que hubo 492 fraudes de 284,807 transacciones.\n",
        "\n",
        "Solo contiene variables numéricas y ya pasó por un proceso de PCA para solo quedarse con las mejores características.\n",
        "\n",
        "La columna de \"Time\" contiene los segundos ocurridos entre transacciones. \"Amount\" es la cantidad de la transacción y \"Class\" es la variable que tiene 1 en caso de fraude y 0 en caso contrario."
      ],
      "metadata": {
        "id": "uudpvvkIIXwm"
      }
    },
    {
      "cell_type": "code",
      "source": [
        "from google.colab import drive\n",
        "drive.mount('/content/drive')"
      ],
      "metadata": {
        "id": "aYYkRFOwE9HG",
        "colab": {
          "base_uri": "https://localhost:8080/"
        },
        "outputId": "f6c672d9-e46b-4378-e76a-44fefa0cc0ca"
      },
      "execution_count": null,
      "outputs": [
        {
          "output_type": "stream",
          "name": "stdout",
          "text": [
            "Mounted at /content/drive\n"
          ]
        }
      ]
    },
    {
      "cell_type": "code",
      "source": [
        "path = '/content/drive/MyDrive/Cruso-ApsFinancieras/semana3/'"
      ],
      "metadata": {
        "id": "zlHsqcszE9n4"
      },
      "execution_count": null,
      "outputs": []
    },
    {
      "cell_type": "markdown",
      "source": [
        "# Leer Datos usando un método distinto al que estamos acostumbrados"
      ],
      "metadata": {
        "id": "Lk9av5KKHYgC"
      }
    },
    {
      "cell_type": "code",
      "execution_count": null,
      "metadata": {
        "id": "EQUuvtmbEqpK",
        "colab": {
          "base_uri": "https://localhost:8080/"
        },
        "outputId": "f9c3d0b1-f9f6-47f9-8db6-bbc550ccbe4a"
      },
      "outputs": [
        {
          "output_type": "stream",
          "name": "stdout",
          "text": [
            "HEADER: \"Time\",\"V1\",\"V2\",\"V3\",\"V4\",\"V5\",\"V6\",\"V7\",\"V8\",\"V9\",\"V10\",\"V11\",\"V12\",\"V13\",\"V14\",\"V15\",\"V16\",\"V17\",\"V18\",\"V19\",\"V20\",\"V21\",\"V22\",\"V23\",\"V24\",\"V25\",\"V26\",\"V27\",\"V28\",\"Amount\",\"Class\"\n",
            "EJEMPLO DE CARACTERÍSTICAS: [0.0, -1.3598071336738, -0.0727811733098497, 2.53634673796914, 1.37815522427443, -0.338320769942518, 0.462387777762292, 0.239598554061257, 0.0986979012610507, 0.363786969611213, 0.0907941719789316, -0.551599533260813, -0.617800855762348, -0.991389847235408, -0.311169353699879, 1.46817697209427, -0.470400525259478, 0.207971241929242, 0.0257905801985591, 0.403992960255733, 0.251412098239705, -0.018306777944153, 0.277837575558899, -0.110473910188767, 0.0669280749146731, 0.128539358273528, -0.189114843888824, 0.133558376740387, -0.0210530534538215, 149.62]\n",
            "features.shape: (284807, 30)\n",
            "targets.shape: (284807, 1)\n"
          ]
        }
      ],
      "source": [
        "import numpy as np\n",
        "\n",
        "# Datos disponibles en https://www.kaggle.com/mlg-ulb/creditcardfraud/\n",
        "\n",
        "all_features = []\n",
        "all_targets = []\n",
        "with open('/content/drive/MyDrive/Cruso-ApsFinancieras/semana3/creditcard.csv') as f:\n",
        "    for i, line in enumerate(f):\n",
        "        if i == 0:\n",
        "            print(\"HEADER:\", line.strip())\n",
        "            continue  # Skip header\n",
        "        fields = line.strip().split(\",\")\n",
        "        all_features.append([float(v.replace('\"', \"\")) for v in fields[:-1]])\n",
        "        all_targets.append([int(fields[-1].replace('\"', \"\"))])\n",
        "        if i == 1:\n",
        "            print(\"EJEMPLO DE CARACTERÍSTICAS:\", all_features[-1])\n",
        "\n",
        "features = np.array(all_features, dtype=\"float32\")\n",
        "targets = np.array(all_targets, dtype=\"uint8\")\n",
        "print(\"features.shape:\", features.shape)\n",
        "print(\"targets.shape:\", targets.shape)"
      ]
    },
    {
      "cell_type": "markdown",
      "source": [
        "# Preparar conjunto de validación\n",
        "\n",
        "Lo haremos manual (es decir, no aleatorio)"
      ],
      "metadata": {
        "id": "q9fjnHFwHd-t"
      }
    },
    {
      "cell_type": "code",
      "source": [
        "num_val_samples = int(len(features) * 0.2)\n",
        "train_features = features[:-num_val_samples]\n",
        "train_targets = targets[:-num_val_samples]\n",
        "val_features = features[-num_val_samples:]\n",
        "val_targets = targets[-num_val_samples:]\n",
        "\n",
        "print(\"Número de muestras para entrenamiento:\", len(train_features))\n",
        "print(\"Número de muestras para validación:\", len(val_features))"
      ],
      "metadata": {
        "id": "OmgJqltqHS1Q",
        "colab": {
          "base_uri": "https://localhost:8080/"
        },
        "outputId": "d42521d1-a3f1-4504-bccf-581f62fde3e3"
      },
      "execution_count": null,
      "outputs": [
        {
          "output_type": "stream",
          "name": "stdout",
          "text": [
            "Número de muestras para entrenamiento: 227846\n",
            "Número de muestras para validación: 56961\n"
          ]
        }
      ]
    },
    {
      "cell_type": "code",
      "source": [
        "num_val_samples"
      ],
      "metadata": {
        "colab": {
          "base_uri": "https://localhost:8080/"
        },
        "id": "IjbLCEs9-Gbq",
        "outputId": "6f29b089-a3a1-4279-ca5b-39103c3ee55c"
      },
      "execution_count": null,
      "outputs": [
        {
          "output_type": "execute_result",
          "data": {
            "text/plain": [
              "56961"
            ]
          },
          "metadata": {},
          "execution_count": 5
        }
      ]
    },
    {
      "cell_type": "markdown",
      "source": [
        "# Analizar desbalance de los datos"
      ],
      "metadata": {
        "id": "YNybjc6VH4Lh"
      }
    },
    {
      "cell_type": "code",
      "source": [
        "counts = np.bincount(train_targets[:, 0])\n",
        "print(f\"Número de valores 1 en muestra de entrenamiento: {counts[1]} ({100 * float(counts[1]) / len(train_targets):.2f}% of total)\")"
      ],
      "metadata": {
        "id": "Oj6xVYvHHUfs",
        "colab": {
          "base_uri": "https://localhost:8080/"
        },
        "outputId": "db011fee-6181-47a9-bc94-4fe16415ee3f"
      },
      "execution_count": null,
      "outputs": [
        {
          "output_type": "stream",
          "name": "stdout",
          "text": [
            "Número de valores 1 en muestra de entrenamiento: 417 (0.18% of total)\n"
          ]
        }
      ]
    },
    {
      "cell_type": "markdown",
      "source": [
        "Asignaremos pesos de una manera balanceada (es una clase de peso \"balanced\" utilizada en keras). Manualmente se calcula como:"
      ],
      "metadata": {
        "id": "uMNmSSg7RKaN"
      }
    },
    {
      "cell_type": "code",
      "source": [
        "total_counts = np.bincount(train_targets[:, 0])\n",
        "n_samples = len(train_targets)\n",
        "\n",
        "weight_for_0 = n_samples / (total_counts[0]*2)\n",
        "weight_for_1 = n_samples / (total_counts[1]*2)\n",
        "\n",
        "#counts = np.bincount(train_targets[:, 0])\n",
        "\n",
        "#weight_for_0 = 1.0 / counts[0]\n",
        "#weight_for_1 = 1.0 / counts[1]\n",
        "\n",
        "print(f\"{weight_for_0: .6f}\")\n",
        "print(f\"{weight_for_1: .4f}\")"
      ],
      "metadata": {
        "id": "LVxboEzLP0qU",
        "colab": {
          "base_uri": "https://localhost:8080/"
        },
        "outputId": "bd6257d0-d9a7-4a35-d839-c8ccec210d7e"
      },
      "execution_count": null,
      "outputs": [
        {
          "output_type": "stream",
          "name": "stdout",
          "text": [
            " 0.500917\n",
            " 273.1966\n"
          ]
        }
      ]
    },
    {
      "cell_type": "markdown",
      "source": [
        "Podemos ver que los pesos son practicamente una proporción de 500 a 1 aproximadamente"
      ],
      "metadata": {
        "id": "gB61dh8ITMUG"
      }
    },
    {
      "cell_type": "markdown",
      "source": [
        "# Estandarizar los datos"
      ],
      "metadata": {
        "id": "ChgxpOOuIB_V"
      }
    },
    {
      "cell_type": "code",
      "source": [
        "mean = np.mean(train_features, axis=0)\n",
        "train_features -= mean\n",
        "val_features -= mean\n",
        "std = np.std(train_features, axis=0)\n",
        "train_features /= std\n",
        "val_features /= std"
      ],
      "metadata": {
        "id": "_vnuRhp5HUdi"
      },
      "execution_count": null,
      "outputs": []
    },
    {
      "cell_type": "markdown",
      "source": [
        "# Modelo de clasificación binaria"
      ],
      "metadata": {
        "id": "BrhhaIPuIGKD"
      }
    },
    {
      "cell_type": "code",
      "source": [
        "arreglo = np.array([[1,2,3], [4,5,6]])\n",
        "arreglo"
      ],
      "metadata": {
        "colab": {
          "base_uri": "https://localhost:8080/"
        },
        "id": "D6F5_y8pDY3r",
        "outputId": "a1b5ad2b-ba73-4415-d016-7663bec5f8dc"
      },
      "execution_count": null,
      "outputs": [
        {
          "output_type": "execute_result",
          "data": {
            "text/plain": [
              "array([[1, 2, 3],\n",
              "       [4, 5, 6]])"
            ]
          },
          "metadata": {},
          "execution_count": 16
        }
      ]
    },
    {
      "cell_type": "code",
      "source": [
        "arreglo[:, 1:]"
      ],
      "metadata": {
        "colab": {
          "base_uri": "https://localhost:8080/"
        },
        "id": "X2kSTIvzDHPz",
        "outputId": "a0d69267-ad09-411e-a397-77819e13aa23"
      },
      "execution_count": null,
      "outputs": [
        {
          "output_type": "execute_result",
          "data": {
            "text/plain": [
              "array([[2, 3],\n",
              "       [5, 6]])"
            ]
          },
          "metadata": {},
          "execution_count": 17
        }
      ]
    },
    {
      "cell_type": "code",
      "source": [
        "train_features = train_features[:, 1:]\n",
        "val_features = val_features[:, 1:]"
      ],
      "metadata": {
        "id": "whfjNZTZDpW2"
      },
      "execution_count": null,
      "outputs": []
    },
    {
      "cell_type": "code",
      "source": [
        "train_features.shape[-1]"
      ],
      "metadata": {
        "colab": {
          "base_uri": "https://localhost:8080/"
        },
        "id": "otQUgpD4aHyV",
        "outputId": "e2266e25-85e9-4d4c-8d14-32464a276f52"
      },
      "execution_count": null,
      "outputs": [
        {
          "output_type": "execute_result",
          "data": {
            "text/plain": [
              "29"
            ]
          },
          "metadata": {},
          "execution_count": 19
        }
      ]
    },
    {
      "cell_type": "code",
      "source": [
        "from tensorflow import keras\n",
        "\n",
        "model = keras.Sequential(\n",
        "    [\n",
        "        keras.layers.Dense(\n",
        "            256, activation=\"relu\", input_shape=(train_features.shape[-1],)\n",
        "        ),\n",
        "        keras.layers.Dense(256, activation=\"relu\"),\n",
        "        keras.layers.Dropout(0.3),\n",
        "        keras.layers.Dense(256, activation=\"relu\"),\n",
        "        keras.layers.Dropout(0.3),\n",
        "        keras.layers.Dense(1, activation=\"sigmoid\"),\n",
        "    ]\n",
        ")\n",
        "model.summary()"
      ],
      "metadata": {
        "id": "c7TZxGnwHUbN",
        "colab": {
          "base_uri": "https://localhost:8080/"
        },
        "outputId": "e45bfe73-ee24-4867-c0d7-818cd832a1ce"
      },
      "execution_count": null,
      "outputs": [
        {
          "output_type": "stream",
          "name": "stdout",
          "text": [
            "Model: \"sequential_1\"\n",
            "_________________________________________________________________\n",
            " Layer (type)                Output Shape              Param #   \n",
            "=================================================================\n",
            " dense_4 (Dense)             (None, 256)               7680      \n",
            "                                                                 \n",
            " dense_5 (Dense)             (None, 256)               65792     \n",
            "                                                                 \n",
            " dropout_2 (Dropout)         (None, 256)               0         \n",
            "                                                                 \n",
            " dense_6 (Dense)             (None, 256)               65792     \n",
            "                                                                 \n",
            " dropout_3 (Dropout)         (None, 256)               0         \n",
            "                                                                 \n",
            " dense_7 (Dense)             (None, 1)                 257       \n",
            "                                                                 \n",
            "=================================================================\n",
            "Total params: 139,521\n",
            "Trainable params: 139,521\n",
            "Non-trainable params: 0\n",
            "_________________________________________________________________\n"
          ]
        }
      ]
    },
    {
      "cell_type": "markdown",
      "source": [
        "# Entrenar modelo tomando en cuenta pesos para los datos\n"
      ],
      "metadata": {
        "id": "8iUdg7wmIIRA"
      }
    },
    {
      "cell_type": "code",
      "source": [
        "metrics = [\n",
        "    keras.metrics.FalseNegatives(name=\"fn\"),\n",
        "    keras.metrics.FalsePositives(name=\"fp\"),\n",
        "    keras.metrics.TrueNegatives(name=\"tn\"),\n",
        "    keras.metrics.TruePositives(name=\"tp\"),\n",
        "    keras.metrics.Precision(name=\"precision\"),\n",
        "    keras.metrics.Recall(name=\"recall\"),\n",
        "]\n",
        "\n",
        "model.compile(\n",
        "    optimizer=keras.optimizers.Adam(0.01), loss=\"binary_crossentropy\", metrics=metrics # El 0.01 es llamado \"learning rate\"\n",
        ")\n",
        "\n",
        "callbacks = [keras.callbacks.ModelCheckpoint(\"fraud_model_at_epoch_{epoch}.h5\")]\n",
        "class_weight = {0: weight_for_0, 1: weight_for_1}\n",
        "\n",
        "model.fit(\n",
        "    train_features,\n",
        "    train_targets,\n",
        "    batch_size=2048, # Cantidad de datos que optimizan pesos por cada pasada \"batch size\"\n",
        "    epochs=30,\n",
        "    verbose=2,\n",
        "    callbacks=callbacks,\n",
        "    validation_data=(val_features, val_targets),\n",
        "    class_weight=class_weight,\n",
        ")"
      ],
      "metadata": {
        "id": "ohsmPpHnHUZH",
        "colab": {
          "base_uri": "https://localhost:8080/"
        },
        "outputId": "a2f47978-1253-4ede-edc4-02b7f495e154"
      },
      "execution_count": null,
      "outputs": [
        {
          "output_type": "stream",
          "name": "stdout",
          "text": [
            "Epoch 1/30\n",
            "112/112 - 6s - loss: 0.3488 - fn: 51.0000 - fp: 15283.0000 - tn: 212146.0000 - tp: 366.0000 - precision: 0.0234 - recall: 0.8777 - val_loss: 0.1405 - val_fn: 7.0000 - val_fp: 2714.0000 - val_tn: 54172.0000 - val_tp: 68.0000 - val_precision: 0.0244 - val_recall: 0.9067 - 6s/epoch - 49ms/step\n",
            "Epoch 2/30\n",
            "112/112 - 4s - loss: 0.3199 - fn: 40.0000 - fp: 10819.0000 - tn: 216610.0000 - tp: 377.0000 - precision: 0.0337 - recall: 0.9041 - val_loss: 0.1100 - val_fn: 10.0000 - val_fp: 603.0000 - val_tn: 56283.0000 - val_tp: 65.0000 - val_precision: 0.0973 - val_recall: 0.8667 - 4s/epoch - 33ms/step\n",
            "Epoch 3/30\n",
            "112/112 - 4s - loss: 0.5123 - fn: 43.0000 - fp: 12582.0000 - tn: 214847.0000 - tp: 374.0000 - precision: 0.0289 - recall: 0.8969 - val_loss: 0.0602 - val_fn: 16.0000 - val_fp: 208.0000 - val_tn: 56678.0000 - val_tp: 59.0000 - val_precision: 0.2210 - val_recall: 0.7867 - 4s/epoch - 33ms/step\n",
            "Epoch 4/30\n",
            "112/112 - 4s - loss: 1.0634 - fn: 41.0000 - fp: 14225.0000 - tn: 213204.0000 - tp: 376.0000 - precision: 0.0258 - recall: 0.9017 - val_loss: 0.1099 - val_fn: 11.0000 - val_fp: 1129.0000 - val_tn: 55757.0000 - val_tp: 64.0000 - val_precision: 0.0536 - val_recall: 0.8533 - 4s/epoch - 33ms/step\n",
            "Epoch 5/30\n",
            "112/112 - 4s - loss: 0.5219 - fn: 48.0000 - fp: 11206.0000 - tn: 216223.0000 - tp: 369.0000 - precision: 0.0319 - recall: 0.8849 - val_loss: 0.0825 - val_fn: 12.0000 - val_fp: 570.0000 - val_tn: 56316.0000 - val_tp: 63.0000 - val_precision: 0.0995 - val_recall: 0.8400 - 4s/epoch - 33ms/step\n",
            "Epoch 6/30\n",
            "112/112 - 4s - loss: 0.2768 - fn: 45.0000 - fp: 11261.0000 - tn: 216168.0000 - tp: 372.0000 - precision: 0.0320 - recall: 0.8921 - val_loss: 0.1376 - val_fn: 11.0000 - val_fp: 528.0000 - val_tn: 56358.0000 - val_tp: 64.0000 - val_precision: 0.1081 - val_recall: 0.8533 - 4s/epoch - 33ms/step\n",
            "Epoch 7/30\n",
            "112/112 - 4s - loss: 0.2240 - fn: 43.0000 - fp: 6872.0000 - tn: 220557.0000 - tp: 374.0000 - precision: 0.0516 - recall: 0.8969 - val_loss: 0.0685 - val_fn: 8.0000 - val_fp: 1723.0000 - val_tn: 55163.0000 - val_tp: 67.0000 - val_precision: 0.0374 - val_recall: 0.8933 - 4s/epoch - 33ms/step\n",
            "Epoch 8/30\n",
            "112/112 - 4s - loss: 0.2538 - fn: 21.0000 - fp: 13255.0000 - tn: 214174.0000 - tp: 396.0000 - precision: 0.0290 - recall: 0.9496 - val_loss: 0.1129 - val_fn: 11.0000 - val_fp: 564.0000 - val_tn: 56322.0000 - val_tp: 64.0000 - val_precision: 0.1019 - val_recall: 0.8533 - 4s/epoch - 33ms/step\n",
            "Epoch 9/30\n",
            "112/112 - 4s - loss: 0.1632 - fn: 31.0000 - fp: 12170.0000 - tn: 215259.0000 - tp: 386.0000 - precision: 0.0307 - recall: 0.9257 - val_loss: 0.0953 - val_fn: 8.0000 - val_fp: 2549.0000 - val_tn: 54337.0000 - val_tp: 67.0000 - val_precision: 0.0256 - val_recall: 0.8933 - 4s/epoch - 33ms/step\n",
            "Epoch 10/30\n",
            "112/112 - 4s - loss: 0.1517 - fn: 17.0000 - fp: 16128.0000 - tn: 211301.0000 - tp: 400.0000 - precision: 0.0242 - recall: 0.9592 - val_loss: 0.1185 - val_fn: 6.0000 - val_fp: 3765.0000 - val_tn: 53121.0000 - val_tp: 69.0000 - val_precision: 0.0180 - val_recall: 0.9200 - 4s/epoch - 33ms/step\n",
            "Epoch 11/30\n",
            "112/112 - 4s - loss: 0.1863 - fn: 15.0000 - fp: 19154.0000 - tn: 208275.0000 - tp: 402.0000 - precision: 0.0206 - recall: 0.9640 - val_loss: 0.0300 - val_fn: 15.0000 - val_fp: 165.0000 - val_tn: 56721.0000 - val_tp: 60.0000 - val_precision: 0.2667 - val_recall: 0.8000 - 4s/epoch - 34ms/step\n",
            "Epoch 12/30\n",
            "112/112 - 4s - loss: 0.6254 - fn: 25.0000 - fp: 20334.0000 - tn: 207095.0000 - tp: 392.0000 - precision: 0.0189 - recall: 0.9400 - val_loss: 0.3321 - val_fn: 9.0000 - val_fp: 7713.0000 - val_tn: 49173.0000 - val_tp: 66.0000 - val_precision: 0.0085 - val_recall: 0.8800 - 4s/epoch - 33ms/step\n",
            "Epoch 13/30\n",
            "112/112 - 4s - loss: 0.3456 - fn: 16.0000 - fp: 29385.0000 - tn: 198044.0000 - tp: 401.0000 - precision: 0.0135 - recall: 0.9616 - val_loss: 0.1822 - val_fn: 3.0000 - val_fp: 8722.0000 - val_tn: 48164.0000 - val_tp: 72.0000 - val_precision: 0.0082 - val_recall: 0.9600 - 4s/epoch - 34ms/step\n",
            "Epoch 14/30\n",
            "112/112 - 4s - loss: 0.2166 - fn: 23.0000 - fp: 20113.0000 - tn: 207316.0000 - tp: 394.0000 - precision: 0.0192 - recall: 0.9448 - val_loss: 0.1980 - val_fn: 6.0000 - val_fp: 8890.0000 - val_tn: 47996.0000 - val_tp: 69.0000 - val_precision: 0.0077 - val_recall: 0.9200 - 4s/epoch - 34ms/step\n",
            "Epoch 15/30\n",
            "112/112 - 4s - loss: 0.2653 - fn: 26.0000 - fp: 19390.0000 - tn: 208039.0000 - tp: 391.0000 - precision: 0.0198 - recall: 0.9376 - val_loss: 0.1330 - val_fn: 8.0000 - val_fp: 3904.0000 - val_tn: 52982.0000 - val_tp: 67.0000 - val_precision: 0.0169 - val_recall: 0.8933 - 4s/epoch - 33ms/step\n",
            "Epoch 16/30\n",
            "112/112 - 4s - loss: 0.2519 - fn: 24.0000 - fp: 19520.0000 - tn: 207909.0000 - tp: 393.0000 - precision: 0.0197 - recall: 0.9424 - val_loss: 0.1144 - val_fn: 4.0000 - val_fp: 4735.0000 - val_tn: 52151.0000 - val_tp: 71.0000 - val_precision: 0.0148 - val_recall: 0.9467 - 4s/epoch - 33ms/step\n",
            "Epoch 17/30\n",
            "112/112 - 4s - loss: 0.4747 - fn: 20.0000 - fp: 24912.0000 - tn: 202517.0000 - tp: 397.0000 - precision: 0.0157 - recall: 0.9520 - val_loss: 0.1876 - val_fn: 3.0000 - val_fp: 7491.0000 - val_tn: 49395.0000 - val_tp: 72.0000 - val_precision: 0.0095 - val_recall: 0.9600 - 4s/epoch - 33ms/step\n",
            "Epoch 18/30\n",
            "112/112 - 4s - loss: 0.2959 - fn: 10.0000 - fp: 28569.0000 - tn: 198860.0000 - tp: 407.0000 - precision: 0.0140 - recall: 0.9760 - val_loss: 0.2024 - val_fn: 3.0000 - val_fp: 7066.0000 - val_tn: 49820.0000 - val_tp: 72.0000 - val_precision: 0.0101 - val_recall: 0.9600 - 4s/epoch - 33ms/step\n",
            "Epoch 19/30\n",
            "112/112 - 4s - loss: 0.4029 - fn: 14.0000 - fp: 27819.0000 - tn: 199610.0000 - tp: 403.0000 - precision: 0.0143 - recall: 0.9664 - val_loss: 0.1250 - val_fn: 6.0000 - val_fp: 3172.0000 - val_tn: 53714.0000 - val_tp: 69.0000 - val_precision: 0.0213 - val_recall: 0.9200 - 4s/epoch - 33ms/step\n",
            "Epoch 20/30\n",
            "112/112 - 5s - loss: 0.3966 - fn: 11.0000 - fp: 23788.0000 - tn: 203641.0000 - tp: 406.0000 - precision: 0.0168 - recall: 0.9736 - val_loss: 0.1392 - val_fn: 4.0000 - val_fp: 7450.0000 - val_tn: 49436.0000 - val_tp: 71.0000 - val_precision: 0.0094 - val_recall: 0.9467 - 5s/epoch - 41ms/step\n",
            "Epoch 21/30\n",
            "112/112 - 4s - loss: 0.4212 - fn: 28.0000 - fp: 25294.0000 - tn: 202135.0000 - tp: 389.0000 - precision: 0.0151 - recall: 0.9329 - val_loss: 0.1644 - val_fn: 4.0000 - val_fp: 4892.0000 - val_tn: 51994.0000 - val_tp: 71.0000 - val_precision: 0.0143 - val_recall: 0.9467 - 4s/epoch - 33ms/step\n",
            "Epoch 22/30\n",
            "112/112 - 4s - loss: 0.2354 - fn: 18.0000 - fp: 24967.0000 - tn: 202462.0000 - tp: 399.0000 - precision: 0.0157 - recall: 0.9568 - val_loss: 0.2117 - val_fn: 6.0000 - val_fp: 5027.0000 - val_tn: 51859.0000 - val_tp: 69.0000 - val_precision: 0.0135 - val_recall: 0.9200 - 4s/epoch - 33ms/step\n",
            "Epoch 23/30\n",
            "112/112 - 4s - loss: 0.2604 - fn: 16.0000 - fp: 21964.0000 - tn: 205465.0000 - tp: 401.0000 - precision: 0.0179 - recall: 0.9616 - val_loss: 0.1586 - val_fn: 5.0000 - val_fp: 6487.0000 - val_tn: 50399.0000 - val_tp: 70.0000 - val_precision: 0.0107 - val_recall: 0.9333 - 4s/epoch - 33ms/step\n",
            "Epoch 24/30\n",
            "112/112 - 4s - loss: 0.5497 - fn: 14.0000 - fp: 23349.0000 - tn: 204080.0000 - tp: 403.0000 - precision: 0.0170 - recall: 0.9664 - val_loss: 0.1015 - val_fn: 11.0000 - val_fp: 3232.0000 - val_tn: 53654.0000 - val_tp: 64.0000 - val_precision: 0.0194 - val_recall: 0.8533 - 4s/epoch - 33ms/step\n",
            "Epoch 25/30\n",
            "112/112 - 4s - loss: 0.2758 - fn: 9.0000 - fp: 27971.0000 - tn: 199458.0000 - tp: 408.0000 - precision: 0.0144 - recall: 0.9784 - val_loss: 0.0910 - val_fn: 7.0000 - val_fp: 3187.0000 - val_tn: 53699.0000 - val_tp: 68.0000 - val_precision: 0.0209 - val_recall: 0.9067 - 4s/epoch - 33ms/step\n",
            "Epoch 26/30\n",
            "112/112 - 4s - loss: 0.2025 - fn: 13.0000 - fp: 16614.0000 - tn: 210815.0000 - tp: 404.0000 - precision: 0.0237 - recall: 0.9688 - val_loss: 0.0717 - val_fn: 8.0000 - val_fp: 2624.0000 - val_tn: 54262.0000 - val_tp: 67.0000 - val_precision: 0.0249 - val_recall: 0.8933 - 4s/epoch - 33ms/step\n",
            "Epoch 27/30\n",
            "112/112 - 4s - loss: 0.1986 - fn: 14.0000 - fp: 22449.0000 - tn: 204980.0000 - tp: 403.0000 - precision: 0.0176 - recall: 0.9664 - val_loss: 0.0764 - val_fn: 8.0000 - val_fp: 1855.0000 - val_tn: 55031.0000 - val_tp: 67.0000 - val_precision: 0.0349 - val_recall: 0.8933 - 4s/epoch - 33ms/step\n",
            "Epoch 28/30\n",
            "112/112 - 4s - loss: 0.3363 - fn: 32.0000 - fp: 12669.0000 - tn: 214760.0000 - tp: 385.0000 - precision: 0.0295 - recall: 0.9233 - val_loss: 0.0772 - val_fn: 10.0000 - val_fp: 2363.0000 - val_tn: 54523.0000 - val_tp: 65.0000 - val_precision: 0.0268 - val_recall: 0.8667 - 4s/epoch - 33ms/step\n",
            "Epoch 29/30\n",
            "112/112 - 4s - loss: 0.1567 - fn: 17.0000 - fp: 15386.0000 - tn: 212043.0000 - tp: 400.0000 - precision: 0.0253 - recall: 0.9592 - val_loss: 0.3422 - val_fn: 5.0000 - val_fp: 4977.0000 - val_tn: 51909.0000 - val_tp: 70.0000 - val_precision: 0.0139 - val_recall: 0.9333 - 4s/epoch - 33ms/step\n",
            "Epoch 30/30\n",
            "112/112 - 4s - loss: 0.1788 - fn: 17.0000 - fp: 19711.0000 - tn: 207718.0000 - tp: 400.0000 - precision: 0.0199 - recall: 0.9592 - val_loss: 0.1177 - val_fn: 4.0000 - val_fp: 5262.0000 - val_tn: 51624.0000 - val_tp: 71.0000 - val_precision: 0.0133 - val_recall: 0.9467 - 4s/epoch - 33ms/step\n"
          ]
        },
        {
          "output_type": "execute_result",
          "data": {
            "text/plain": [
              "<keras.callbacks.History at 0x7fa4aa168c10>"
            ]
          },
          "metadata": {},
          "execution_count": 22
        }
      ]
    },
    {
      "cell_type": "code",
      "source": [
        "y_train_pred = model.predict(train_features)\n",
        "y_train_pred[y_train_pred < 0.5] = 0\n",
        "y_train_pred[y_train_pred >= 0.5] = 1"
      ],
      "metadata": {
        "id": "VpjKDeemyyR5"
      },
      "execution_count": null,
      "outputs": []
    },
    {
      "cell_type": "code",
      "source": [
        "y_test_pred = model.predict(val_features)\n",
        "y_test_pred[y_test_pred < 0.5] = 0\n",
        "y_test_pred[y_test_pred >= 0.5] = 1"
      ],
      "metadata": {
        "id": "N5wnrKyvHUSa"
      },
      "execution_count": null,
      "outputs": []
    },
    {
      "cell_type": "code",
      "source": [
        "len(y_test_pred[:, 0])"
      ],
      "metadata": {
        "id": "7j-utPCXxdVh",
        "colab": {
          "base_uri": "https://localhost:8080/"
        },
        "outputId": "61ce3158-1afa-4ddc-e697-7e906584e048"
      },
      "execution_count": null,
      "outputs": [
        {
          "output_type": "execute_result",
          "data": {
            "text/plain": [
              "56961"
            ]
          },
          "metadata": {},
          "execution_count": 25
        }
      ]
    },
    {
      "cell_type": "code",
      "source": [
        "y_test_pred[:, 0].sum()"
      ],
      "metadata": {
        "id": "Kyi7Q_VCyXfP",
        "colab": {
          "base_uri": "https://localhost:8080/"
        },
        "outputId": "ee287a5d-e641-4680-89ca-646ba2779128"
      },
      "execution_count": null,
      "outputs": [
        {
          "output_type": "execute_result",
          "data": {
            "text/plain": [
              "5333.0"
            ]
          },
          "metadata": {},
          "execution_count": 26
        }
      ]
    },
    {
      "cell_type": "code",
      "source": [
        "from sklearn.metrics import ConfusionMatrixDisplay\n",
        "import matplotlib.pyplot as plt"
      ],
      "metadata": {
        "id": "YWEa45ewynAx"
      },
      "execution_count": null,
      "outputs": []
    },
    {
      "cell_type": "code",
      "source": [
        "ConfusionMatrixDisplay.from_predictions(train_targets, y_train_pred, cmap=plt.cm.Greens)"
      ],
      "metadata": {
        "id": "A8pnRIIjyqOF",
        "colab": {
          "base_uri": "https://localhost:8080/",
          "height": 296
        },
        "outputId": "834551bc-9da0-4ea0-8cc2-aa27a7b370aa"
      },
      "execution_count": null,
      "outputs": [
        {
          "output_type": "execute_result",
          "data": {
            "text/plain": [
              "<sklearn.metrics._plot.confusion_matrix.ConfusionMatrixDisplay at 0x7fa4a8873750>"
            ]
          },
          "metadata": {},
          "execution_count": 28
        },
        {
          "output_type": "display_data",
          "data": {
            "text/plain": [
              "<Figure size 432x288 with 2 Axes>"
            ],
            "image/png": "[encoded data removed]"
          },
          "metadata": {
            "needs_background": "light"
          }
        }
      ]
    },
    {
      "cell_type": "code",
      "source": [
        "# Recuperar \"pesos\" de los coeficientes en la epoca \"X\"\n",
        "# CUIDADO AL CORRER ESTA CELDA\n",
        "\n",
        "# model.load_weights(\"/content/fraud_model_at_epoch_25.h5\")"
      ],
      "metadata": {
        "id": "__GIroXqJvy9"
      },
      "execution_count": null,
      "outputs": []
    },
    {
      "cell_type": "code",
      "source": [
        "ConfusionMatrixDisplay.from_predictions(val_targets, y_test_pred, cmap=plt.cm.Greens)"
      ],
      "metadata": {
        "id": "5hoA_Ryf3LGE",
        "colab": {
          "base_uri": "https://localhost:8080/",
          "height": 296
        },
        "outputId": "02ceb0ef-0dda-42c0-8ae0-c1c307f33306"
      },
      "execution_count": null,
      "outputs": [
        {
          "output_type": "execute_result",
          "data": {
            "text/plain": [
              "<sklearn.metrics._plot.confusion_matrix.ConfusionMatrixDisplay at 0x7fa4a574db90>"
            ]
          },
          "metadata": {},
          "execution_count": 29
        },
        {
          "output_type": "display_data",
          "data": {
            "text/plain": [
              "<Figure size 432x288 with 2 Axes>"
            ],
            "image/png": "[encoded data removed]"
          },
          "metadata": {
            "needs_background": "light"
          }
        }
      ]
    },
    {
      "cell_type": "code",
      "source": [
        "from sklearn.metrics import average_precision_score"
      ],
      "metadata": {
        "id": "G4FyL0lt1nwo"
      },
      "execution_count": null,
      "outputs": []
    },
    {
      "cell_type": "code",
      "source": [
        "y_test_prob = model.predict(val_features)"
      ],
      "metadata": {
        "id": "uLEe0C-b2y04"
      },
      "execution_count": null,
      "outputs": []
    },
    {
      "cell_type": "code",
      "source": [
        "y_test_prob"
      ],
      "metadata": {
        "colab": {
          "base_uri": "https://localhost:8080/"
        },
        "id": "6rQH2yTel2_L",
        "outputId": "420312c4-2ad8-44cc-c06c-e8512c773c0d"
      },
      "execution_count": null,
      "outputs": [
        {
          "output_type": "execute_result",
          "data": {
            "text/plain": [
              "array([[0.0000000e+00],\n",
              "       [0.0000000e+00],\n",
              "       [0.0000000e+00],\n",
              "       ...,\n",
              "       [1.7846546e-20],\n",
              "       [2.7972164e-24],\n",
              "       [3.8993514e-01]], dtype=float32)"
            ]
          },
          "metadata": {},
          "execution_count": 32
        }
      ]
    },
    {
      "cell_type": "code",
      "source": [
        "auprc = average_precision_score(val_targets, y_test_prob)\n",
        "auprc"
      ],
      "metadata": {
        "id": "DykriQEB2rpT",
        "colab": {
          "base_uri": "https://localhost:8080/"
        },
        "outputId": "17925665-5780-4923-f2c4-218d3aca0a0e"
      },
      "execution_count": null,
      "outputs": [
        {
          "output_type": "execute_result",
          "data": {
            "text/plain": [
              "0.6904053155336514"
            ]
          },
          "metadata": {},
          "execution_count": 33
        }
      ]
    },
    {
      "cell_type": "code",
      "source": [
        "from sklearn.metrics import classification_report"
      ],
      "metadata": {
        "id": "_dqZX_4g5icp"
      },
      "execution_count": null,
      "outputs": []
    },
    {
      "cell_type": "code",
      "source": [
        "print(classification_report(train_targets, y_train_pred))"
      ],
      "metadata": {
        "id": "7P-RIboL6QRL",
        "colab": {
          "base_uri": "https://localhost:8080/"
        },
        "outputId": "bc9f8322-69a3-4d27-e066-a3e5446eacf3"
      },
      "execution_count": null,
      "outputs": [
        {
          "output_type": "stream",
          "name": "stdout",
          "text": [
            "              precision    recall  f1-score   support\n",
            "\n",
            "           0       1.00      0.93      0.97    227429\n",
            "           1       0.03      0.98      0.05       417\n",
            "\n",
            "    accuracy                           0.93    227846\n",
            "   macro avg       0.51      0.96      0.51    227846\n",
            "weighted avg       1.00      0.93      0.96    227846\n",
            "\n"
          ]
        }
      ]
    },
    {
      "cell_type": "code",
      "source": [
        "print(classification_report(val_targets, y_test_pred))"
      ],
      "metadata": {
        "id": "dwGZ2E21K8Lj",
        "colab": {
          "base_uri": "https://localhost:8080/"
        },
        "outputId": "036f88ba-0309-4edc-c573-c743e4f4ed48"
      },
      "execution_count": null,
      "outputs": [
        {
          "output_type": "stream",
          "name": "stdout",
          "text": [
            "              precision    recall  f1-score   support\n",
            "\n",
            "           0       1.00      0.91      0.95     56886\n",
            "           1       0.01      0.95      0.03        75\n",
            "\n",
            "    accuracy                           0.91     56961\n",
            "   macro avg       0.51      0.93      0.49     56961\n",
            "weighted avg       1.00      0.91      0.95     56961\n",
            "\n"
          ]
        }
      ]
    },
    {
      "cell_type": "markdown",
      "source": [
        "# Ejercicios:\n",
        "\n",
        "* ¿Que sucedería con el modelo si no usamos el parámetro \"class_weight\"?\n",
        "\n",
        "* ¿Podemos recuperar solo la mejor época de nuestro entrenamiento?\n",
        "\n",
        "* ¿Porque la matriz de confusión no parece dar mucha luz sobre lo que ocurre?"
      ],
      "metadata": {
        "id": "oQhYiG1VzGA8"
      }
    },
    {
      "cell_type": "markdown",
      "source": [
        " - Cargar los datos utilizando Pandas\n",
        " - Realizar la división de entrenamiento y prueba usando la función 'train_test_split' de sklearn"
      ],
      "metadata": {
        "id": "IPu2R9xXxXk-"
      }
    },
    {
      "cell_type": "code",
      "source": [
        "# Código de ejercicio, puede crear mas celdas"
      ],
      "metadata": {
        "id": "oC8Vlpv_xX7V"
      },
      "execution_count": null,
      "outputs": []
    }
  ]
}