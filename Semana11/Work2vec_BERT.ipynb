{
  "nbformat": 4,
  "nbformat_minor": 0,
  "metadata": {
    "colab": {
      "name": "semana11_Aps_Financieras2_Work2vec_BERT.ipynb",
      "provenance": [],
      "collapsed_sections": []
    },
    "kernelspec": {
      "name": "python3",
      "display_name": "Python 3"
    },
    "language_info": {
      "name": "python"
    },
    "accelerator": "GPU",
    "gpuClass": "standard"
  },
  "cells": [
    {
      "cell_type": "markdown",
      "source": [
        "[![Open In Colab](https://colab.research.google.com/assets/colab-badge.svg)](https://colab.research.google.com/github/MaxMitre/Aplicaciones-Financieras/blob/main/Semana11/Work2vec_BERT.ipynb)"
      ],
      "metadata": {
        "id": "kIIfxI0L2Ny8"
      }
    },
    {
      "cell_type": "markdown",
      "source": [
        "# Introducción:\n",
        "\n",
        "##Comando auxiliares\n",
        "\n",
        "- Para instalación normal\n",
        "\n",
        "  - !pip install [nombre_paquete]\n",
        "\n",
        "- Actualizar\n",
        "\n",
        "  - !pip install [nombre_paquete] --upgrade\n",
        "\n",
        "- Forzar el reinstalado\n",
        "  - !pip install --force-reinstall [nombre_paquete]\n",
        "\n",
        "- Instalar utilizando APT\n",
        "  - !apt install --allow-change-held-packages libcudnn8=8.1.0.77-1+cuda11.2\n",
        "\n"
      ],
      "metadata": {
        "id": "dcFtCIBynepj"
      }
    },
    {
      "cell_type": "code",
      "source": [
        "# !pip install --force-reinstall tensorflow\n",
        "# ==2.8"
      ],
      "metadata": {
        "id": "8t32eDB6Z87D"
      },
      "execution_count": 1,
      "outputs": []
    },
    {
      "cell_type": "code",
      "source": [
        "!pip install tensorflow-text"
      ],
      "metadata": {
        "id": "tWB3Z4xIhjMj",
        "colab": {
          "base_uri": "https://localhost:8080/"
        },
        "outputId": "16d1939c-62be-4b01-eb49-39befef0bf5e"
      },
      "execution_count": 2,
      "outputs": [
        {
          "output_type": "stream",
          "name": "stdout",
          "text": [
            "Looking in indexes: https://pypi.org/simple, https://us-python.pkg.dev/colab-wheels/public/simple/\n",
            "Collecting tensorflow-text\n",
            "  Downloading tensorflow_text-2.9.0-cp37-cp37m-manylinux_2_17_x86_64.manylinux2014_x86_64.whl (4.6 MB)\n",
            "\u001b[K     |████████████████████████████████| 4.6 MB 36.1 MB/s \n",
            "\u001b[?25hRequirement already satisfied: tensorflow-hub>=0.8.0 in /usr/local/lib/python3.7/dist-packages (from tensorflow-text) (0.12.0)\n",
            "Collecting tensorflow<2.10,>=2.9.0\n",
            "  Downloading tensorflow-2.9.1-cp37-cp37m-manylinux_2_17_x86_64.manylinux2014_x86_64.whl (511.7 MB)\n",
            "\u001b[K     |████████████████████████████████| 511.7 MB 5.6 kB/s \n",
            "\u001b[?25hRequirement already satisfied: astunparse>=1.6.0 in /usr/local/lib/python3.7/dist-packages (from tensorflow<2.10,>=2.9.0->tensorflow-text) (1.6.3)\n",
            "Requirement already satisfied: google-pasta>=0.1.1 in /usr/local/lib/python3.7/dist-packages (from tensorflow<2.10,>=2.9.0->tensorflow-text) (0.2.0)\n",
            "Collecting gast<=0.4.0,>=0.2.1\n",
            "  Downloading gast-0.4.0-py3-none-any.whl (9.8 kB)\n",
            "Requirement already satisfied: packaging in /usr/local/lib/python3.7/dist-packages (from tensorflow<2.10,>=2.9.0->tensorflow-text) (21.3)\n",
            "Collecting tensorboard<2.10,>=2.9\n",
            "  Downloading tensorboard-2.9.1-py3-none-any.whl (5.8 MB)\n",
            "\u001b[K     |████████████████████████████████| 5.8 MB 59.2 MB/s \n",
            "\u001b[?25hRequirement already satisfied: grpcio<2.0,>=1.24.3 in /usr/local/lib/python3.7/dist-packages (from tensorflow<2.10,>=2.9.0->tensorflow-text) (1.47.0)\n",
            "Requirement already satisfied: keras-preprocessing>=1.1.1 in /usr/local/lib/python3.7/dist-packages (from tensorflow<2.10,>=2.9.0->tensorflow-text) (1.1.2)\n",
            "Requirement already satisfied: protobuf<3.20,>=3.9.2 in /usr/local/lib/python3.7/dist-packages (from tensorflow<2.10,>=2.9.0->tensorflow-text) (3.17.3)\n",
            "Requirement already satisfied: tensorflow-io-gcs-filesystem>=0.23.1 in /usr/local/lib/python3.7/dist-packages (from tensorflow<2.10,>=2.9.0->tensorflow-text) (0.26.0)\n",
            "Requirement already satisfied: libclang>=13.0.0 in /usr/local/lib/python3.7/dist-packages (from tensorflow<2.10,>=2.9.0->tensorflow-text) (14.0.6)\n",
            "Requirement already satisfied: termcolor>=1.1.0 in /usr/local/lib/python3.7/dist-packages (from tensorflow<2.10,>=2.9.0->tensorflow-text) (1.1.0)\n",
            "Collecting tensorflow-estimator<2.10.0,>=2.9.0rc0\n",
            "  Downloading tensorflow_estimator-2.9.0-py2.py3-none-any.whl (438 kB)\n",
            "\u001b[K     |████████████████████████████████| 438 kB 71.9 MB/s \n",
            "\u001b[?25hRequirement already satisfied: numpy>=1.20 in /usr/local/lib/python3.7/dist-packages (from tensorflow<2.10,>=2.9.0->tensorflow-text) (1.21.6)\n",
            "Requirement already satisfied: opt-einsum>=2.3.2 in /usr/local/lib/python3.7/dist-packages (from tensorflow<2.10,>=2.9.0->tensorflow-text) (3.3.0)\n",
            "Requirement already satisfied: setuptools in /usr/local/lib/python3.7/dist-packages (from tensorflow<2.10,>=2.9.0->tensorflow-text) (57.4.0)\n",
            "Requirement already satisfied: absl-py>=1.0.0 in /usr/local/lib/python3.7/dist-packages (from tensorflow<2.10,>=2.9.0->tensorflow-text) (1.2.0)\n",
            "Requirement already satisfied: h5py>=2.9.0 in /usr/local/lib/python3.7/dist-packages (from tensorflow<2.10,>=2.9.0->tensorflow-text) (3.1.0)\n",
            "Requirement already satisfied: six>=1.12.0 in /usr/local/lib/python3.7/dist-packages (from tensorflow<2.10,>=2.9.0->tensorflow-text) (1.15.0)\n",
            "Requirement already satisfied: wrapt>=1.11.0 in /usr/local/lib/python3.7/dist-packages (from tensorflow<2.10,>=2.9.0->tensorflow-text) (1.14.1)\n",
            "Requirement already satisfied: typing-extensions>=3.6.6 in /usr/local/lib/python3.7/dist-packages (from tensorflow<2.10,>=2.9.0->tensorflow-text) (4.1.1)\n",
            "Collecting flatbuffers<2,>=1.12\n",
            "  Downloading flatbuffers-1.12-py2.py3-none-any.whl (15 kB)\n",
            "Collecting keras<2.10.0,>=2.9.0rc0\n",
            "  Downloading keras-2.9.0-py2.py3-none-any.whl (1.6 MB)\n",
            "\u001b[K     |████████████████████████████████| 1.6 MB 59.7 MB/s \n",
            "\u001b[?25hRequirement already satisfied: wheel<1.0,>=0.23.0 in /usr/local/lib/python3.7/dist-packages (from astunparse>=1.6.0->tensorflow<2.10,>=2.9.0->tensorflow-text) (0.37.1)\n",
            "Requirement already satisfied: cached-property in /usr/local/lib/python3.7/dist-packages (from h5py>=2.9.0->tensorflow<2.10,>=2.9.0->tensorflow-text) (1.5.2)\n",
            "Requirement already satisfied: tensorboard-plugin-wit>=1.6.0 in /usr/local/lib/python3.7/dist-packages (from tensorboard<2.10,>=2.9->tensorflow<2.10,>=2.9.0->tensorflow-text) (1.8.1)\n",
            "Requirement already satisfied: requests<3,>=2.21.0 in /usr/local/lib/python3.7/dist-packages (from tensorboard<2.10,>=2.9->tensorflow<2.10,>=2.9.0->tensorflow-text) (2.23.0)\n",
            "Requirement already satisfied: google-auth<3,>=1.6.3 in /usr/local/lib/python3.7/dist-packages (from tensorboard<2.10,>=2.9->tensorflow<2.10,>=2.9.0->tensorflow-text) (1.35.0)\n",
            "Requirement already satisfied: markdown>=2.6.8 in /usr/local/lib/python3.7/dist-packages (from tensorboard<2.10,>=2.9->tensorflow<2.10,>=2.9.0->tensorflow-text) (3.4.1)\n",
            "Requirement already satisfied: werkzeug>=1.0.1 in /usr/local/lib/python3.7/dist-packages (from tensorboard<2.10,>=2.9->tensorflow<2.10,>=2.9.0->tensorflow-text) (1.0.1)\n",
            "Requirement already satisfied: google-auth-oauthlib<0.5,>=0.4.1 in /usr/local/lib/python3.7/dist-packages (from tensorboard<2.10,>=2.9->tensorflow<2.10,>=2.9.0->tensorflow-text) (0.4.6)\n",
            "Requirement already satisfied: tensorboard-data-server<0.7.0,>=0.6.0 in /usr/local/lib/python3.7/dist-packages (from tensorboard<2.10,>=2.9->tensorflow<2.10,>=2.9.0->tensorflow-text) (0.6.1)\n",
            "Requirement already satisfied: cachetools<5.0,>=2.0.0 in /usr/local/lib/python3.7/dist-packages (from google-auth<3,>=1.6.3->tensorboard<2.10,>=2.9->tensorflow<2.10,>=2.9.0->tensorflow-text) (4.2.4)\n",
            "Requirement already satisfied: rsa<5,>=3.1.4 in /usr/local/lib/python3.7/dist-packages (from google-auth<3,>=1.6.3->tensorboard<2.10,>=2.9->tensorflow<2.10,>=2.9.0->tensorflow-text) (4.9)\n",
            "Requirement already satisfied: pyasn1-modules>=0.2.1 in /usr/local/lib/python3.7/dist-packages (from google-auth<3,>=1.6.3->tensorboard<2.10,>=2.9->tensorflow<2.10,>=2.9.0->tensorflow-text) (0.2.8)\n",
            "Requirement already satisfied: requests-oauthlib>=0.7.0 in /usr/local/lib/python3.7/dist-packages (from google-auth-oauthlib<0.5,>=0.4.1->tensorboard<2.10,>=2.9->tensorflow<2.10,>=2.9.0->tensorflow-text) (1.3.1)\n",
            "Requirement already satisfied: importlib-metadata>=4.4 in /usr/local/lib/python3.7/dist-packages (from markdown>=2.6.8->tensorboard<2.10,>=2.9->tensorflow<2.10,>=2.9.0->tensorflow-text) (4.12.0)\n",
            "Requirement already satisfied: zipp>=0.5 in /usr/local/lib/python3.7/dist-packages (from importlib-metadata>=4.4->markdown>=2.6.8->tensorboard<2.10,>=2.9->tensorflow<2.10,>=2.9.0->tensorflow-text) (3.8.1)\n",
            "Requirement already satisfied: pyasn1<0.5.0,>=0.4.6 in /usr/local/lib/python3.7/dist-packages (from pyasn1-modules>=0.2.1->google-auth<3,>=1.6.3->tensorboard<2.10,>=2.9->tensorflow<2.10,>=2.9.0->tensorflow-text) (0.4.8)\n",
            "Requirement already satisfied: certifi>=2017.4.17 in /usr/local/lib/python3.7/dist-packages (from requests<3,>=2.21.0->tensorboard<2.10,>=2.9->tensorflow<2.10,>=2.9.0->tensorflow-text) (2022.6.15)\n",
            "Requirement already satisfied: chardet<4,>=3.0.2 in /usr/local/lib/python3.7/dist-packages (from requests<3,>=2.21.0->tensorboard<2.10,>=2.9->tensorflow<2.10,>=2.9.0->tensorflow-text) (3.0.4)\n",
            "Requirement already satisfied: idna<3,>=2.5 in /usr/local/lib/python3.7/dist-packages (from requests<3,>=2.21.0->tensorboard<2.10,>=2.9->tensorflow<2.10,>=2.9.0->tensorflow-text) (2.10)\n",
            "Requirement already satisfied: urllib3!=1.25.0,!=1.25.1,<1.26,>=1.21.1 in /usr/local/lib/python3.7/dist-packages (from requests<3,>=2.21.0->tensorboard<2.10,>=2.9->tensorflow<2.10,>=2.9.0->tensorflow-text) (1.24.3)\n",
            "Requirement already satisfied: oauthlib>=3.0.0 in /usr/local/lib/python3.7/dist-packages (from requests-oauthlib>=0.7.0->google-auth-oauthlib<0.5,>=0.4.1->tensorboard<2.10,>=2.9->tensorflow<2.10,>=2.9.0->tensorflow-text) (3.2.0)\n",
            "Requirement already satisfied: pyparsing!=3.0.5,>=2.0.2 in /usr/local/lib/python3.7/dist-packages (from packaging->tensorflow<2.10,>=2.9.0->tensorflow-text) (3.0.9)\n",
            "Installing collected packages: tensorflow-estimator, tensorboard, keras, gast, flatbuffers, tensorflow, tensorflow-text\n",
            "  Attempting uninstall: tensorflow-estimator\n",
            "    Found existing installation: tensorflow-estimator 2.8.0\n",
            "    Uninstalling tensorflow-estimator-2.8.0:\n",
            "      Successfully uninstalled tensorflow-estimator-2.8.0\n",
            "  Attempting uninstall: tensorboard\n",
            "    Found existing installation: tensorboard 2.8.0\n",
            "    Uninstalling tensorboard-2.8.0:\n",
            "      Successfully uninstalled tensorboard-2.8.0\n",
            "  Attempting uninstall: keras\n",
            "    Found existing installation: keras 2.8.0\n",
            "    Uninstalling keras-2.8.0:\n",
            "      Successfully uninstalled keras-2.8.0\n",
            "  Attempting uninstall: gast\n",
            "    Found existing installation: gast 0.5.3\n",
            "    Uninstalling gast-0.5.3:\n",
            "      Successfully uninstalled gast-0.5.3\n",
            "  Attempting uninstall: flatbuffers\n",
            "    Found existing installation: flatbuffers 2.0\n",
            "    Uninstalling flatbuffers-2.0:\n",
            "      Successfully uninstalled flatbuffers-2.0\n",
            "  Attempting uninstall: tensorflow\n",
            "    Found existing installation: tensorflow 2.8.2+zzzcolab20220719082949\n",
            "    Uninstalling tensorflow-2.8.2+zzzcolab20220719082949:\n",
            "      Successfully uninstalled tensorflow-2.8.2+zzzcolab20220719082949\n",
            "Successfully installed flatbuffers-1.12 gast-0.4.0 keras-2.9.0 tensorboard-2.9.1 tensorflow-2.9.1 tensorflow-estimator-2.9.0 tensorflow-text-2.9.0\n"
          ]
        }
      ]
    },
    {
      "cell_type": "code",
      "execution_count": 3,
      "metadata": {
        "id": "mn1NyAOin1Fy",
        "colab": {
          "base_uri": "https://localhost:8080/"
        },
        "outputId": "98fecffd-3f0d-4ff6-db99-ec2d6479e0ca"
      },
      "outputs": [
        {
          "output_type": "stream",
          "name": "stdout",
          "text": [
            "Looking in indexes: https://pypi.org/simple, https://us-python.pkg.dev/colab-wheels/public/simple/\n",
            "Collecting bert-for-tf2\n",
            "  Downloading bert-for-tf2-0.14.9.tar.gz (41 kB)\n",
            "\u001b[K     |████████████████████████████████| 41 kB 154 kB/s \n",
            "\u001b[?25hCollecting py-params>=0.9.6\n",
            "  Downloading py-params-0.10.2.tar.gz (7.4 kB)\n",
            "Collecting params-flow>=0.8.0\n",
            "  Downloading params-flow-0.8.2.tar.gz (22 kB)\n",
            "Requirement already satisfied: numpy in /usr/local/lib/python3.7/dist-packages (from params-flow>=0.8.0->bert-for-tf2) (1.21.6)\n",
            "Requirement already satisfied: tqdm in /usr/local/lib/python3.7/dist-packages (from params-flow>=0.8.0->bert-for-tf2) (4.64.0)\n",
            "Building wheels for collected packages: bert-for-tf2, params-flow, py-params\n",
            "  Building wheel for bert-for-tf2 (setup.py) ... \u001b[?25l\u001b[?25hdone\n",
            "  Created wheel for bert-for-tf2: filename=bert_for_tf2-0.14.9-py3-none-any.whl size=30535 sha256=4e11f4fb7519aba1a679564c669984fed7a91c3dd21c2ce13184fc88c663f7ca\n",
            "  Stored in directory: /root/.cache/pip/wheels/47/b6/e5/8c76ec779f54bc5c2f1b57d2200bb9c77616da83873e8acb53\n",
            "  Building wheel for params-flow (setup.py) ... \u001b[?25l\u001b[?25hdone\n",
            "  Created wheel for params-flow: filename=params_flow-0.8.2-py3-none-any.whl size=19472 sha256=d5df6a5c9c15333c895243f8233e05e5a78fe1dfe62e9de402ee62ec872e1a28\n",
            "  Stored in directory: /root/.cache/pip/wheels/0e/fc/d2/a44fff33af0f233d7def6e7de413006d57c10e10ad736fe8f5\n",
            "  Building wheel for py-params (setup.py) ... \u001b[?25l\u001b[?25hdone\n",
            "  Created wheel for py-params: filename=py_params-0.10.2-py3-none-any.whl size=7911 sha256=0962ab0e2fad0862e5ea0eb1e2b31c58d7dad9d408174f642291b64a89c84111\n",
            "  Stored in directory: /root/.cache/pip/wheels/e1/11/67/33cc51bbee127cb8fb2ba549cd29109b2f22da43ddf9969716\n",
            "Successfully built bert-for-tf2 params-flow py-params\n",
            "Installing collected packages: py-params, params-flow, bert-for-tf2\n",
            "Successfully installed bert-for-tf2-0.14.9 params-flow-0.8.2 py-params-0.10.2\n",
            "Looking in indexes: https://pypi.org/simple, https://us-python.pkg.dev/colab-wheels/public/simple/\n",
            "Collecting sentencepiece\n",
            "  Downloading sentencepiece-0.1.97-cp37-cp37m-manylinux_2_17_x86_64.manylinux2014_x86_64.whl (1.3 MB)\n",
            "\u001b[K     |████████████████████████████████| 1.3 MB 6.6 MB/s \n",
            "\u001b[?25hInstalling collected packages: sentencepiece\n",
            "Successfully installed sentencepiece-0.1.97\n"
          ]
        }
      ],
      "source": [
        "!pip install bert-for-tf2\n",
        "!pip install sentencepiece"
      ]
    },
    {
      "cell_type": "code",
      "source": [
        "!apt install --allow-change-held-packages libcudnn8=8.1.0.77-1+cuda11.2"
      ],
      "metadata": {
        "id": "ZGfU6uhLazyh",
        "colab": {
          "base_uri": "https://localhost:8080/"
        },
        "outputId": "87a872bb-a926-4a86-c3fc-e29e7e76f0d0"
      },
      "execution_count": 4,
      "outputs": [
        {
          "output_type": "stream",
          "name": "stdout",
          "text": [
            "Reading package lists... Done\n",
            "Building dependency tree       \n",
            "Reading state information... Done\n",
            "The following package was automatically installed and is no longer required:\n",
            "  libnvidia-common-460\n",
            "Use 'apt autoremove' to remove it.\n",
            "The following packages will be REMOVED:\n",
            "  libcudnn8-dev\n",
            "The following held packages will be changed:\n",
            "  libcudnn8\n",
            "The following packages will be upgraded:\n",
            "  libcudnn8\n",
            "1 upgraded, 0 newly installed, 1 to remove and 18 not upgraded.\n",
            "Need to get 430 MB of archives.\n",
            "After this operation, 3,139 MB disk space will be freed.\n",
            "Get:1 https://developer.download.nvidia.com/compute/cuda/repos/ubuntu1804/x86_64  libcudnn8 8.1.0.77-1+cuda11.2 [430 MB]\n",
            "Fetched 430 MB in 9s (49.6 MB/s)\n",
            "(Reading database ... 155676 files and directories currently installed.)\n",
            "Removing libcudnn8-dev (8.0.5.39-1+cuda11.1) ...\n",
            "(Reading database ... 155654 files and directories currently installed.)\n",
            "Preparing to unpack .../libcudnn8_8.1.0.77-1+cuda11.2_amd64.deb ...\n",
            "Unpacking libcudnn8 (8.1.0.77-1+cuda11.2) over (8.0.5.39-1+cuda11.1) ...\n",
            "Setting up libcudnn8 (8.1.0.77-1+cuda11.2) ...\n"
          ]
        }
      ]
    },
    {
      "cell_type": "markdown",
      "source": [
        "IMPORTANTE: En caso de que no funcione su colab, probablemente tengan que descomentar el cuadro de código donde se fuerza la reinstalación de twnsorflow (primer cuadro de código, que se encuentra comentado)"
      ],
      "metadata": {
        "id": "HT4Cg3Z3D1ED"
      }
    },
    {
      "cell_type": "markdown",
      "source": [
        "# Dependencias"
      ],
      "metadata": {
        "id": "_cuI0jGXzEOn"
      }
    },
    {
      "cell_type": "code",
      "source": [
        "import pandas as pd\n",
        "import numpy as np\n",
        "np.set_printoptions(suppress=True)\n",
        "\n",
        "import tensorflow as tf\n",
        "import tensorflow_text as text\n",
        "import tensorflow_hub as hub\n",
        "\n",
        "from sklearn.model_selection import train_test_split\n",
        "\n",
        "from tensorflow.keras import layers\n",
        "import bert\n",
        "\n",
        "import re"
      ],
      "metadata": {
        "id": "_cOmOl4lBJAf"
      },
      "execution_count": 5,
      "outputs": []
    },
    {
      "cell_type": "code",
      "source": [
        "from google.colab import drive\n",
        "drive.mount('/content/drive')"
      ],
      "metadata": {
        "id": "UegAV0D5BrbQ",
        "colab": {
          "base_uri": "https://localhost:8080/"
        },
        "outputId": "bc4ece56-4d7f-4b01-d2a4-e2912f92d1fa"
      },
      "execution_count": 6,
      "outputs": [
        {
          "output_type": "stream",
          "name": "stdout",
          "text": [
            "Mounted at /content/drive\n"
          ]
        }
      ]
    },
    {
      "cell_type": "markdown",
      "source": [
        "# Carga y exploración de datos"
      ],
      "metadata": {
        "id": "wJ-A0UphzLhk"
      }
    },
    {
      "cell_type": "code",
      "source": [
        "reviews = pd.read_csv('/content/drive/MyDrive/Cruso-ApsFinancieras/semana11/DataAnalyst.csv', encoding='utf-8')"
      ],
      "metadata": {
        "id": "pSpeJN9DCwQh"
      },
      "execution_count": 7,
      "outputs": []
    },
    {
      "cell_type": "code",
      "source": [
        "reviews"
      ],
      "metadata": {
        "id": "3_DsTpeuCevn",
        "colab": {
          "base_uri": "https://localhost:8080/",
          "height": 919
        },
        "outputId": "6cd1dd4b-ebc7-439d-d524-2bdd12c248e7"
      },
      "execution_count": 8,
      "outputs": [
        {
          "output_type": "execute_result",
          "data": {
            "text/plain": [
              "     Index                                          Job Title  \\\n",
              "0        0  Data Analyst, Center on Immigration and Justic...   \n",
              "1        1                               Quality Data Analyst   \n",
              "2        2  Senior Data Analyst, Insights & Analytics Team...   \n",
              "3        3                                       Data Analyst   \n",
              "4        4                             Reporting Data Analyst   \n",
              "..     ...                                                ...   \n",
              "257    257                                  Data Analyst - QC   \n",
              "258    258                   People Operations & Data Analyst   \n",
              "259    259                        Lead Data Analyst (Product)   \n",
              "260    260                                 Data Analyst - III   \n",
              "261    261                                   SQL Data Analyst   \n",
              "\n",
              "                 Salary Estimate  \\\n",
              "0     $37K-$66K (Glassdoor est.)   \n",
              "1     $37K-$66K (Glassdoor est.)   \n",
              "2     $37K-$66K (Glassdoor est.)   \n",
              "3     $37K-$66K (Glassdoor est.)   \n",
              "4     $37K-$66K (Glassdoor est.)   \n",
              "..                           ...   \n",
              "257  $73K-$127K (Glassdoor est.)   \n",
              "258  $73K-$127K (Glassdoor est.)   \n",
              "259  $73K-$127K (Glassdoor est.)   \n",
              "260  $73K-$127K (Glassdoor est.)   \n",
              "261  $73K-$127K (Glassdoor est.)   \n",
              "\n",
              "                                       Job Description  Rating  \\\n",
              "0    Are you eager to roll up your sleeves and harn...     3.2   \n",
              "1    Overview\\n\\nProvides analytical and technical ...     3.8   \n",
              "2    We’re looking for a Senior Data Analyst who ha...     3.4   \n",
              "3    Requisition NumberRR-0001939\\nRemote:Yes\\nWe c...     4.1   \n",
              "4    ABOUT FANDUEL GROUP\\n\\nFanDuel Group is a worl...     3.9   \n",
              "..                                                 ...     ...   \n",
              "257  Nesco Resource is seeking a Data Analyst for a...     2.9   \n",
              "258  JOB DESCRIPTION:\\n\\nMuseum of Ice Cream is see...     2.3   \n",
              "259  A BIT ABOUT OUR DATA & ANALYTICS TEAM\\n\\nThe K...    -1.0   \n",
              "260  Direct Client Requirement\\nPosition: Data Anal...     4.2   \n",
              "261  Job Title :Senior SQL Data Analyst\\n\\nNo of Op...     3.4   \n",
              "\n",
              "                                Company Name      Location  \\\n",
              "0             Vera Institute of Justice\\n3.2  New York, NY   \n",
              "1    Visiting Nurse Service of New York\\n3.8  New York, NY   \n",
              "2                           Squarespace\\n3.4  New York, NY   \n",
              "3                              Celerity\\n4.1  New York, NY   \n",
              "4                               FanDuel\\n3.9  New York, NY   \n",
              "..                                       ...           ...   \n",
              "257                 Nesco Resource, LLC\\n2.9  New York, NY   \n",
              "258                 Museum of Ice Cream\\n2.3  New York, NY   \n",
              "259                                  Kinship  New York, NY   \n",
              "260                      APN Consulting\\n4.2  New York, NY   \n",
              "261                  Siri InfoSolutions\\n3.4    Summit, NJ   \n",
              "\n",
              "                       Size               Type of ownership  \\\n",
              "0      201 to 500 employees          Nonprofit Organization   \n",
              "1          10000+ employees          Nonprofit Organization   \n",
              "2    1001 to 5000 employees               Company - Private   \n",
              "3      201 to 500 employees  Subsidiary or Business Segment   \n",
              "4     501 to 1000 employees               Company - Private   \n",
              "..                      ...                             ...   \n",
              "257  1001 to 5000 employees               Company - Private   \n",
              "258    201 to 500 employees               Company - Private   \n",
              "259       1 to 50 employees               Company - Private   \n",
              "260       1 to 50 employees               Company - Private   \n",
              "261     51 to 200 employees               Company - Private   \n",
              "\n",
              "                             Industry                            Sector  \\\n",
              "0                   Social Assistance                        Non-Profit   \n",
              "1    Health Care Services & Hospitals                       Health Care   \n",
              "2                            Internet            Information Technology   \n",
              "3                         IT Services            Information Technology   \n",
              "4                 Sports & Recreation  Arts, Entertainment & Recreation   \n",
              "..                                ...                               ...   \n",
              "257            Staffing & Outsourcing                 Business Services   \n",
              "258                                -1                                -1   \n",
              "259           Advertising & Marketing                 Business Services   \n",
              "260           Advertising & Marketing                 Business Services   \n",
              "261                        Consulting                 Business Services   \n",
              "\n",
              "                              Revenue Competitors Easy Apply  \n",
              "0          $100 to $500 million (USD)          -1       TRUE  \n",
              "1              $2 to $5 billion (USD)          -1         -1  \n",
              "2            Unknown / Non-Applicable     GoDaddy         -1  \n",
              "3           $50 to $100 million (USD)          -1         -1  \n",
              "4          $100 to $500 million (USD)  DraftKings       TRUE  \n",
              "..                                ...         ...        ...  \n",
              "257  $500 million to $1 billion (USD)          -1         -1  \n",
              "258          Unknown / Non-Applicable          -1         -1  \n",
              "259          Unknown / Non-Applicable          -1         -1  \n",
              "260            $1 to $5 million (USD)          -1         -1  \n",
              "261          $10 to $25 million (USD)          -1         -1  \n",
              "\n",
              "[262 rows x 14 columns]"
            ],
            "text/html": [
              "\n",
              "  <div id=\"df-b6003043-bdb9-4ce3-88ed-4f5b2a3ae8cb\">\n",
              "    <div class=\"colab-df-container\">\n",
              "      <div>\n",
              "<style scoped>\n",
              "    .dataframe tbody tr th:only-of-type {\n",
              "        vertical-align: middle;\n",
              "    }\n",
              "\n",
              "    .dataframe tbody tr th {\n",
              "        vertical-align: top;\n",
              "    }\n",
              "\n",
              "    .dataframe thead th {\n",
              "        text-align: right;\n",
              "    }\n",
              "</style>\n",
              "<table border=\"1\" class=\"dataframe\">\n",
              "  <thead>\n",
              "    <tr style=\"text-align: right;\">\n",
              "      <th></th>\n",
              "      <th>Index</th>\n",
              "      <th>Job Title</th>\n",
              "      <th>Salary Estimate</th>\n",
              "      <th>Job Description</th>\n",
              "      <th>Rating</th>\n",
              "      <th>Company Name</th>\n",
              "      <th>Location</th>\n",
              "      <th>Size</th>\n",
              "      <th>Type of ownership</th>\n",
              "      <th>Industry</th>\n",
              "      <th>Sector</th>\n",
              "      <th>Revenue</th>\n",
              "      <th>Competitors</th>\n",
              "      <th>Easy Apply</th>\n",
              "    </tr>\n",
              "  </thead>\n",
              "  <tbody>\n",
              "    <tr>\n",
              "      <th>0</th>\n",
              "      <td>0</td>\n",
              "      <td>Data Analyst, Center on Immigration and Justic...</td>\n",
              "      <td>$37K-$66K (Glassdoor est.)</td>\n",
              "      <td>Are you eager to roll up your sleeves and harn...</td>\n",
              "      <td>3.2</td>\n",
              "      <td>Vera Institute of Justice\\n3.2</td>\n",
              "      <td>New York, NY</td>\n",
              "      <td>201 to 500 employees</td>\n",
              "      <td>Nonprofit Organization</td>\n",
              "      <td>Social Assistance</td>\n",
              "      <td>Non-Profit</td>\n",
              "      <td>$100 to $500 million (USD)</td>\n",
              "      <td>-1</td>\n",
              "      <td>TRUE</td>\n",
              "    </tr>\n",
              "    <tr>\n",
              "      <th>1</th>\n",
              "      <td>1</td>\n",
              "      <td>Quality Data Analyst</td>\n",
              "      <td>$37K-$66K (Glassdoor est.)</td>\n",
              "      <td>Overview\\n\\nProvides analytical and technical ...</td>\n",
              "      <td>3.8</td>\n",
              "      <td>Visiting Nurse Service of New York\\n3.8</td>\n",
              "      <td>New York, NY</td>\n",
              "      <td>10000+ employees</td>\n",
              "      <td>Nonprofit Organization</td>\n",
              "      <td>Health Care Services &amp; Hospitals</td>\n",
              "      <td>Health Care</td>\n",
              "      <td>$2 to $5 billion (USD)</td>\n",
              "      <td>-1</td>\n",
              "      <td>-1</td>\n",
              "    </tr>\n",
              "    <tr>\n",
              "      <th>2</th>\n",
              "      <td>2</td>\n",
              "      <td>Senior Data Analyst, Insights &amp; Analytics Team...</td>\n",
              "      <td>$37K-$66K (Glassdoor est.)</td>\n",
              "      <td>We’re looking for a Senior Data Analyst who ha...</td>\n",
              "      <td>3.4</td>\n",
              "      <td>Squarespace\\n3.4</td>\n",
              "      <td>New York, NY</td>\n",
              "      <td>1001 to 5000 employees</td>\n",
              "      <td>Company - Private</td>\n",
              "      <td>Internet</td>\n",
              "      <td>Information Technology</td>\n",
              "      <td>Unknown / Non-Applicable</td>\n",
              "      <td>GoDaddy</td>\n",
              "      <td>-1</td>\n",
              "    </tr>\n",
              "    <tr>\n",
              "      <th>3</th>\n",
              "      <td>3</td>\n",
              "      <td>Data Analyst</td>\n",
              "      <td>$37K-$66K (Glassdoor est.)</td>\n",
              "      <td>Requisition NumberRR-0001939\\nRemote:Yes\\nWe c...</td>\n",
              "      <td>4.1</td>\n",
              "      <td>Celerity\\n4.1</td>\n",
              "      <td>New York, NY</td>\n",
              "      <td>201 to 500 employees</td>\n",
              "      <td>Subsidiary or Business Segment</td>\n",
              "      <td>IT Services</td>\n",
              "      <td>Information Technology</td>\n",
              "      <td>$50 to $100 million (USD)</td>\n",
              "      <td>-1</td>\n",
              "      <td>-1</td>\n",
              "    </tr>\n",
              "    <tr>\n",
              "      <th>4</th>\n",
              "      <td>4</td>\n",
              "      <td>Reporting Data Analyst</td>\n",
              "      <td>$37K-$66K (Glassdoor est.)</td>\n",
              "      <td>ABOUT FANDUEL GROUP\\n\\nFanDuel Group is a worl...</td>\n",
              "      <td>3.9</td>\n",
              "      <td>FanDuel\\n3.9</td>\n",
              "      <td>New York, NY</td>\n",
              "      <td>501 to 1000 employees</td>\n",
              "      <td>Company - Private</td>\n",
              "      <td>Sports &amp; Recreation</td>\n",
              "      <td>Arts, Entertainment &amp; Recreation</td>\n",
              "      <td>$100 to $500 million (USD)</td>\n",
              "      <td>DraftKings</td>\n",
              "      <td>TRUE</td>\n",
              "    </tr>\n",
              "    <tr>\n",
              "      <th>...</th>\n",
              "      <td>...</td>\n",
              "      <td>...</td>\n",
              "      <td>...</td>\n",
              "      <td>...</td>\n",
              "      <td>...</td>\n",
              "      <td>...</td>\n",
              "      <td>...</td>\n",
              "      <td>...</td>\n",
              "      <td>...</td>\n",
              "      <td>...</td>\n",
              "      <td>...</td>\n",
              "      <td>...</td>\n",
              "      <td>...</td>\n",
              "      <td>...</td>\n",
              "    </tr>\n",
              "    <tr>\n",
              "      <th>257</th>\n",
              "      <td>257</td>\n",
              "      <td>Data Analyst - QC</td>\n",
              "      <td>$73K-$127K (Glassdoor est.)</td>\n",
              "      <td>Nesco Resource is seeking a Data Analyst for a...</td>\n",
              "      <td>2.9</td>\n",
              "      <td>Nesco Resource, LLC\\n2.9</td>\n",
              "      <td>New York, NY</td>\n",
              "      <td>1001 to 5000 employees</td>\n",
              "      <td>Company - Private</td>\n",
              "      <td>Staffing &amp; Outsourcing</td>\n",
              "      <td>Business Services</td>\n",
              "      <td>$500 million to $1 billion (USD)</td>\n",
              "      <td>-1</td>\n",
              "      <td>-1</td>\n",
              "    </tr>\n",
              "    <tr>\n",
              "      <th>258</th>\n",
              "      <td>258</td>\n",
              "      <td>People Operations &amp; Data Analyst</td>\n",
              "      <td>$73K-$127K (Glassdoor est.)</td>\n",
              "      <td>JOB DESCRIPTION:\\n\\nMuseum of Ice Cream is see...</td>\n",
              "      <td>2.3</td>\n",
              "      <td>Museum of Ice Cream\\n2.3</td>\n",
              "      <td>New York, NY</td>\n",
              "      <td>201 to 500 employees</td>\n",
              "      <td>Company - Private</td>\n",
              "      <td>-1</td>\n",
              "      <td>-1</td>\n",
              "      <td>Unknown / Non-Applicable</td>\n",
              "      <td>-1</td>\n",
              "      <td>-1</td>\n",
              "    </tr>\n",
              "    <tr>\n",
              "      <th>259</th>\n",
              "      <td>259</td>\n",
              "      <td>Lead Data Analyst (Product)</td>\n",
              "      <td>$73K-$127K (Glassdoor est.)</td>\n",
              "      <td>A BIT ABOUT OUR DATA &amp; ANALYTICS TEAM\\n\\nThe K...</td>\n",
              "      <td>-1.0</td>\n",
              "      <td>Kinship</td>\n",
              "      <td>New York, NY</td>\n",
              "      <td>1 to 50 employees</td>\n",
              "      <td>Company - Private</td>\n",
              "      <td>Advertising &amp; Marketing</td>\n",
              "      <td>Business Services</td>\n",
              "      <td>Unknown / Non-Applicable</td>\n",
              "      <td>-1</td>\n",
              "      <td>-1</td>\n",
              "    </tr>\n",
              "    <tr>\n",
              "      <th>260</th>\n",
              "      <td>260</td>\n",
              "      <td>Data Analyst - III</td>\n",
              "      <td>$73K-$127K (Glassdoor est.)</td>\n",
              "      <td>Direct Client Requirement\\nPosition: Data Anal...</td>\n",
              "      <td>4.2</td>\n",
              "      <td>APN Consulting\\n4.2</td>\n",
              "      <td>New York, NY</td>\n",
              "      <td>1 to 50 employees</td>\n",
              "      <td>Company - Private</td>\n",
              "      <td>Advertising &amp; Marketing</td>\n",
              "      <td>Business Services</td>\n",
              "      <td>$1 to $5 million (USD)</td>\n",
              "      <td>-1</td>\n",
              "      <td>-1</td>\n",
              "    </tr>\n",
              "    <tr>\n",
              "      <th>261</th>\n",
              "      <td>261</td>\n",
              "      <td>SQL Data Analyst</td>\n",
              "      <td>$73K-$127K (Glassdoor est.)</td>\n",
              "      <td>Job Title :Senior SQL Data Analyst\\n\\nNo of Op...</td>\n",
              "      <td>3.4</td>\n",
              "      <td>Siri InfoSolutions\\n3.4</td>\n",
              "      <td>Summit, NJ</td>\n",
              "      <td>51 to 200 employees</td>\n",
              "      <td>Company - Private</td>\n",
              "      <td>Consulting</td>\n",
              "      <td>Business Services</td>\n",
              "      <td>$10 to $25 million (USD)</td>\n",
              "      <td>-1</td>\n",
              "      <td>-1</td>\n",
              "    </tr>\n",
              "  </tbody>\n",
              "</table>\n",
              "<p>262 rows × 14 columns</p>\n",
              "</div>\n",
              "      <button class=\"colab-df-convert\" onclick=\"convertToInteractive('df-b6003043-bdb9-4ce3-88ed-4f5b2a3ae8cb')\"\n",
              "              title=\"Convert this dataframe to an interactive table.\"\n",
              "              style=\"display:none;\">\n",
              "        \n",
              "  <svg xmlns=\"http://www.w3.org/2000/svg\" height=\"24px\"viewBox=\"0 0 24 24\"\n",
              "       width=\"24px\">\n",
              "    <path d=\"M0 0h24v24H0V0z\" fill=\"none\"/>\n",
              "    <path d=\"M18.56 5.44l.94 2.06.94-2.06 2.06-.94-2.06-.94-.94-2.06-.94 2.06-2.06.94zm-11 1L8.5 8.5l.94-2.06 2.06-.94-2.06-.94L8.5 2.5l-.94 2.06-2.06.94zm10 10l.94 2.06.94-2.06 2.06-.94-2.06-.94-.94-2.06-.94 2.06-2.06.94z\"/><path d=\"M17.41 7.96l-1.37-1.37c-.4-.4-.92-.59-1.43-.59-.52 0-1.04.2-1.43.59L10.3 9.45l-7.72 7.72c-.78.78-.78 2.05 0 2.83L4 21.41c.39.39.9.59 1.41.59.51 0 1.02-.2 1.41-.59l7.78-7.78 2.81-2.81c.8-.78.8-2.07 0-2.86zM5.41 20L4 18.59l7.72-7.72 1.47 1.35L5.41 20z\"/>\n",
              "  </svg>\n",
              "      </button>\n",
              "      \n",
              "  <style>\n",
              "    .colab-df-container {\n",
              "      display:flex;\n",
              "      flex-wrap:wrap;\n",
              "      gap: 12px;\n",
              "    }\n",
              "\n",
              "    .colab-df-convert {\n",
              "      background-color: #E8F0FE;\n",
              "      border: none;\n",
              "      border-radius: 50%;\n",
              "      cursor: pointer;\n",
              "      display: none;\n",
              "      fill: #1967D2;\n",
              "      height: 32px;\n",
              "      padding: 0 0 0 0;\n",
              "      width: 32px;\n",
              "    }\n",
              "\n",
              "    .colab-df-convert:hover {\n",
              "      background-color: #E2EBFA;\n",
              "      box-shadow: 0px 1px 2px rgba(60, 64, 67, 0.3), 0px 1px 3px 1px rgba(60, 64, 67, 0.15);\n",
              "      fill: #174EA6;\n",
              "    }\n",
              "\n",
              "    [theme=dark] .colab-df-convert {\n",
              "      background-color: #3B4455;\n",
              "      fill: #D2E3FC;\n",
              "    }\n",
              "\n",
              "    [theme=dark] .colab-df-convert:hover {\n",
              "      background-color: #434B5C;\n",
              "      box-shadow: 0px 1px 3px 1px rgba(0, 0, 0, 0.15);\n",
              "      filter: drop-shadow(0px 1px 2px rgba(0, 0, 0, 0.3));\n",
              "      fill: #FFFFFF;\n",
              "    }\n",
              "  </style>\n",
              "\n",
              "      <script>\n",
              "        const buttonEl =\n",
              "          document.querySelector('#df-b6003043-bdb9-4ce3-88ed-4f5b2a3ae8cb button.colab-df-convert');\n",
              "        buttonEl.style.display =\n",
              "          google.colab.kernel.accessAllowed ? 'block' : 'none';\n",
              "\n",
              "        async function convertToInteractive(key) {\n",
              "          const element = document.querySelector('#df-b6003043-bdb9-4ce3-88ed-4f5b2a3ae8cb');\n",
              "          const dataTable =\n",
              "            await google.colab.kernel.invokeFunction('convertToInteractive',\n",
              "                                                     [key], {});\n",
              "          if (!dataTable) return;\n",
              "\n",
              "          const docLinkHtml = 'Like what you see? Visit the ' +\n",
              "            '<a target=\"_blank\" href=https://colab.research.google.com/notebooks/data_table.ipynb>data table notebook</a>'\n",
              "            + ' to learn more about interactive tables.';\n",
              "          element.innerHTML = '';\n",
              "          dataTable['output_type'] = 'display_data';\n",
              "          await google.colab.output.renderOutput(dataTable, element);\n",
              "          const docLink = document.createElement('div');\n",
              "          docLink.innerHTML = docLinkHtml;\n",
              "          element.appendChild(docLink);\n",
              "        }\n",
              "      </script>\n",
              "    </div>\n",
              "  </div>\n",
              "  "
            ]
          },
          "metadata": {},
          "execution_count": 8
        }
      ]
    },
    {
      "cell_type": "markdown",
      "source": [
        "# Limpieza de datos"
      ],
      "metadata": {
        "id": "_NGir-slzPYi"
      }
    },
    {
      "cell_type": "code",
      "source": [
        "reviews = reviews[['Job Title', 'Job Description', 'Salary Estimate']]"
      ],
      "metadata": {
        "id": "Y4hnqFL5C3OD"
      },
      "execution_count": 9,
      "outputs": []
    },
    {
      "cell_type": "code",
      "source": [
        "reviews['Job Description'] = reviews['Job Description'].apply(lambda x: x.replace('\\n', ', '))"
      ],
      "metadata": {
        "id": "UXeuS0BOG8-s",
        "colab": {
          "base_uri": "https://localhost:8080/"
        },
        "outputId": "e1e6a3b3-0e3d-4e1b-e505-303fbfe84759"
      },
      "execution_count": 10,
      "outputs": [
        {
          "output_type": "stream",
          "name": "stderr",
          "text": [
            "/usr/local/lib/python3.7/dist-packages/ipykernel_launcher.py:1: SettingWithCopyWarning: \n",
            "A value is trying to be set on a copy of a slice from a DataFrame.\n",
            "Try using .loc[row_indexer,col_indexer] = value instead\n",
            "\n",
            "See the caveats in the documentation: https://pandas.pydata.org/pandas-docs/stable/user_guide/indexing.html#returning-a-view-versus-a-copy\n",
            "  \"\"\"Entry point for launching an IPython kernel.\n"
          ]
        }
      ]
    },
    {
      "cell_type": "code",
      "source": [
        "reviews"
      ],
      "metadata": {
        "id": "F5MLeruZ-aaP",
        "colab": {
          "base_uri": "https://localhost:8080/",
          "height": 424
        },
        "outputId": "263576f3-00ff-43a7-ad8c-0d8f5f16d4f4"
      },
      "execution_count": 11,
      "outputs": [
        {
          "output_type": "execute_result",
          "data": {
            "text/plain": [
              "                                             Job Title  \\\n",
              "0    Data Analyst, Center on Immigration and Justic...   \n",
              "1                                 Quality Data Analyst   \n",
              "2    Senior Data Analyst, Insights & Analytics Team...   \n",
              "3                                         Data Analyst   \n",
              "4                               Reporting Data Analyst   \n",
              "..                                                 ...   \n",
              "257                                  Data Analyst - QC   \n",
              "258                   People Operations & Data Analyst   \n",
              "259                        Lead Data Analyst (Product)   \n",
              "260                                 Data Analyst - III   \n",
              "261                                   SQL Data Analyst   \n",
              "\n",
              "                                       Job Description  \\\n",
              "0    Are you eager to roll up your sleeves and harn...   \n",
              "1    Overview, , Provides analytical and technical ...   \n",
              "2    We’re looking for a Senior Data Analyst who ha...   \n",
              "3    Requisition NumberRR-0001939, Remote:Yes, We c...   \n",
              "4    ABOUT FANDUEL GROUP, , FanDuel Group is a worl...   \n",
              "..                                                 ...   \n",
              "257  Nesco Resource is seeking a Data Analyst for a...   \n",
              "258  JOB DESCRIPTION:, , Museum of Ice Cream is see...   \n",
              "259  A BIT ABOUT OUR DATA & ANALYTICS TEAM, , The K...   \n",
              "260  Direct Client Requirement, Position: Data Anal...   \n",
              "261  Job Title :Senior SQL Data Analyst, , No of Op...   \n",
              "\n",
              "                 Salary Estimate  \n",
              "0     $37K-$66K (Glassdoor est.)  \n",
              "1     $37K-$66K (Glassdoor est.)  \n",
              "2     $37K-$66K (Glassdoor est.)  \n",
              "3     $37K-$66K (Glassdoor est.)  \n",
              "4     $37K-$66K (Glassdoor est.)  \n",
              "..                           ...  \n",
              "257  $73K-$127K (Glassdoor est.)  \n",
              "258  $73K-$127K (Glassdoor est.)  \n",
              "259  $73K-$127K (Glassdoor est.)  \n",
              "260  $73K-$127K (Glassdoor est.)  \n",
              "261  $73K-$127K (Glassdoor est.)  \n",
              "\n",
              "[262 rows x 3 columns]"
            ],
            "text/html": [
              "\n",
              "  <div id=\"df-3b8dfac1-b0c4-4237-855d-39f653c486c7\">\n",
              "    <div class=\"colab-df-container\">\n",
              "      <div>\n",
              "<style scoped>\n",
              "    .dataframe tbody tr th:only-of-type {\n",
              "        vertical-align: middle;\n",
              "    }\n",
              "\n",
              "    .dataframe tbody tr th {\n",
              "        vertical-align: top;\n",
              "    }\n",
              "\n",
              "    .dataframe thead th {\n",
              "        text-align: right;\n",
              "    }\n",
              "</style>\n",
              "<table border=\"1\" class=\"dataframe\">\n",
              "  <thead>\n",
              "    <tr style=\"text-align: right;\">\n",
              "      <th></th>\n",
              "      <th>Job Title</th>\n",
              "      <th>Job Description</th>\n",
              "      <th>Salary Estimate</th>\n",
              "    </tr>\n",
              "  </thead>\n",
              "  <tbody>\n",
              "    <tr>\n",
              "      <th>0</th>\n",
              "      <td>Data Analyst, Center on Immigration and Justic...</td>\n",
              "      <td>Are you eager to roll up your sleeves and harn...</td>\n",
              "      <td>$37K-$66K (Glassdoor est.)</td>\n",
              "    </tr>\n",
              "    <tr>\n",
              "      <th>1</th>\n",
              "      <td>Quality Data Analyst</td>\n",
              "      <td>Overview, , Provides analytical and technical ...</td>\n",
              "      <td>$37K-$66K (Glassdoor est.)</td>\n",
              "    </tr>\n",
              "    <tr>\n",
              "      <th>2</th>\n",
              "      <td>Senior Data Analyst, Insights &amp; Analytics Team...</td>\n",
              "      <td>We’re looking for a Senior Data Analyst who ha...</td>\n",
              "      <td>$37K-$66K (Glassdoor est.)</td>\n",
              "    </tr>\n",
              "    <tr>\n",
              "      <th>3</th>\n",
              "      <td>Data Analyst</td>\n",
              "      <td>Requisition NumberRR-0001939, Remote:Yes, We c...</td>\n",
              "      <td>$37K-$66K (Glassdoor est.)</td>\n",
              "    </tr>\n",
              "    <tr>\n",
              "      <th>4</th>\n",
              "      <td>Reporting Data Analyst</td>\n",
              "      <td>ABOUT FANDUEL GROUP, , FanDuel Group is a worl...</td>\n",
              "      <td>$37K-$66K (Glassdoor est.)</td>\n",
              "    </tr>\n",
              "    <tr>\n",
              "      <th>...</th>\n",
              "      <td>...</td>\n",
              "      <td>...</td>\n",
              "      <td>...</td>\n",
              "    </tr>\n",
              "    <tr>\n",
              "      <th>257</th>\n",
              "      <td>Data Analyst - QC</td>\n",
              "      <td>Nesco Resource is seeking a Data Analyst for a...</td>\n",
              "      <td>$73K-$127K (Glassdoor est.)</td>\n",
              "    </tr>\n",
              "    <tr>\n",
              "      <th>258</th>\n",
              "      <td>People Operations &amp; Data Analyst</td>\n",
              "      <td>JOB DESCRIPTION:, , Museum of Ice Cream is see...</td>\n",
              "      <td>$73K-$127K (Glassdoor est.)</td>\n",
              "    </tr>\n",
              "    <tr>\n",
              "      <th>259</th>\n",
              "      <td>Lead Data Analyst (Product)</td>\n",
              "      <td>A BIT ABOUT OUR DATA &amp; ANALYTICS TEAM, , The K...</td>\n",
              "      <td>$73K-$127K (Glassdoor est.)</td>\n",
              "    </tr>\n",
              "    <tr>\n",
              "      <th>260</th>\n",
              "      <td>Data Analyst - III</td>\n",
              "      <td>Direct Client Requirement, Position: Data Anal...</td>\n",
              "      <td>$73K-$127K (Glassdoor est.)</td>\n",
              "    </tr>\n",
              "    <tr>\n",
              "      <th>261</th>\n",
              "      <td>SQL Data Analyst</td>\n",
              "      <td>Job Title :Senior SQL Data Analyst, , No of Op...</td>\n",
              "      <td>$73K-$127K (Glassdoor est.)</td>\n",
              "    </tr>\n",
              "  </tbody>\n",
              "</table>\n",
              "<p>262 rows × 3 columns</p>\n",
              "</div>\n",
              "      <button class=\"colab-df-convert\" onclick=\"convertToInteractive('df-3b8dfac1-b0c4-4237-855d-39f653c486c7')\"\n",
              "              title=\"Convert this dataframe to an interactive table.\"\n",
              "              style=\"display:none;\">\n",
              "        \n",
              "  <svg xmlns=\"http://www.w3.org/2000/svg\" height=\"24px\"viewBox=\"0 0 24 24\"\n",
              "       width=\"24px\">\n",
              "    <path d=\"M0 0h24v24H0V0z\" fill=\"none\"/>\n",
              "    <path d=\"M18.56 5.44l.94 2.06.94-2.06 2.06-.94-2.06-.94-.94-2.06-.94 2.06-2.06.94zm-11 1L8.5 8.5l.94-2.06 2.06-.94-2.06-.94L8.5 2.5l-.94 2.06-2.06.94zm10 10l.94 2.06.94-2.06 2.06-.94-2.06-.94-.94-2.06-.94 2.06-2.06.94z\"/><path d=\"M17.41 7.96l-1.37-1.37c-.4-.4-.92-.59-1.43-.59-.52 0-1.04.2-1.43.59L10.3 9.45l-7.72 7.72c-.78.78-.78 2.05 0 2.83L4 21.41c.39.39.9.59 1.41.59.51 0 1.02-.2 1.41-.59l7.78-7.78 2.81-2.81c.8-.78.8-2.07 0-2.86zM5.41 20L4 18.59l7.72-7.72 1.47 1.35L5.41 20z\"/>\n",
              "  </svg>\n",
              "      </button>\n",
              "      \n",
              "  <style>\n",
              "    .colab-df-container {\n",
              "      display:flex;\n",
              "      flex-wrap:wrap;\n",
              "      gap: 12px;\n",
              "    }\n",
              "\n",
              "    .colab-df-convert {\n",
              "      background-color: #E8F0FE;\n",
              "      border: none;\n",
              "      border-radius: 50%;\n",
              "      cursor: pointer;\n",
              "      display: none;\n",
              "      fill: #1967D2;\n",
              "      height: 32px;\n",
              "      padding: 0 0 0 0;\n",
              "      width: 32px;\n",
              "    }\n",
              "\n",
              "    .colab-df-convert:hover {\n",
              "      background-color: #E2EBFA;\n",
              "      box-shadow: 0px 1px 2px rgba(60, 64, 67, 0.3), 0px 1px 3px 1px rgba(60, 64, 67, 0.15);\n",
              "      fill: #174EA6;\n",
              "    }\n",
              "\n",
              "    [theme=dark] .colab-df-convert {\n",
              "      background-color: #3B4455;\n",
              "      fill: #D2E3FC;\n",
              "    }\n",
              "\n",
              "    [theme=dark] .colab-df-convert:hover {\n",
              "      background-color: #434B5C;\n",
              "      box-shadow: 0px 1px 3px 1px rgba(0, 0, 0, 0.15);\n",
              "      filter: drop-shadow(0px 1px 2px rgba(0, 0, 0, 0.3));\n",
              "      fill: #FFFFFF;\n",
              "    }\n",
              "  </style>\n",
              "\n",
              "      <script>\n",
              "        const buttonEl =\n",
              "          document.querySelector('#df-3b8dfac1-b0c4-4237-855d-39f653c486c7 button.colab-df-convert');\n",
              "        buttonEl.style.display =\n",
              "          google.colab.kernel.accessAllowed ? 'block' : 'none';\n",
              "\n",
              "        async function convertToInteractive(key) {\n",
              "          const element = document.querySelector('#df-3b8dfac1-b0c4-4237-855d-39f653c486c7');\n",
              "          const dataTable =\n",
              "            await google.colab.kernel.invokeFunction('convertToInteractive',\n",
              "                                                     [key], {});\n",
              "          if (!dataTable) return;\n",
              "\n",
              "          const docLinkHtml = 'Like what you see? Visit the ' +\n",
              "            '<a target=\"_blank\" href=https://colab.research.google.com/notebooks/data_table.ipynb>data table notebook</a>'\n",
              "            + ' to learn more about interactive tables.';\n",
              "          element.innerHTML = '';\n",
              "          dataTable['output_type'] = 'display_data';\n",
              "          await google.colab.output.renderOutput(dataTable, element);\n",
              "          const docLink = document.createElement('div');\n",
              "          docLink.innerHTML = docLinkHtml;\n",
              "          element.appendChild(docLink);\n",
              "        }\n",
              "      </script>\n",
              "    </div>\n",
              "  </div>\n",
              "  "
            ]
          },
          "metadata": {},
          "execution_count": 11
        }
      ]
    },
    {
      "cell_type": "markdown",
      "source": [
        "# Obtención del valor numérico de salario (quasi-promedio)"
      ],
      "metadata": {
        "id": "LDwuWfFz3dhQ"
      }
    },
    {
      "cell_type": "code",
      "source": [
        "reviews['Salary Estimate'].value_counts()"
      ],
      "metadata": {
        "id": "cs0s-ay9HM5S",
        "colab": {
          "base_uri": "https://localhost:8080/"
        },
        "outputId": "98d6d56b-eb5e-4c8b-d623-fdba37a9d378"
      },
      "execution_count": 12,
      "outputs": [
        {
          "output_type": "execute_result",
          "data": {
            "text/plain": [
              "$43K-$76K (Glassdoor est.)     31\n",
              "$37K-$66K (Glassdoor est.)     30\n",
              "$46K-$87K (Glassdoor est.)     30\n",
              "$51K-$88K (Glassdoor est.)     30\n",
              "$51K-$87K (Glassdoor est.)     30\n",
              "$59K-$85K (Glassdoor est.)     30\n",
              "$60K-$110K (Glassdoor est.)    30\n",
              "$41K-$78K (Glassdoor est.)     29\n",
              "$45K-$88K (Glassdoor est.)     11\n",
              "$73K-$127K (Glassdoor est.)    11\n",
              "Name: Salary Estimate, dtype: int64"
            ]
          },
          "metadata": {},
          "execution_count": 12
        }
      ]
    },
    {
      "cell_type": "markdown",
      "source": [
        "Función auxiliar para limpieza del texto"
      ],
      "metadata": {
        "id": "LDeqQSwSzcc3"
      }
    },
    {
      "cell_type": "code",
      "source": [
        "def get_salaries(sentence):\n",
        "    salary = re.sub('[^0-9\\-]', '', sentence)\n",
        "    salaries = salary.split('-')\n",
        "    return salaries"
      ],
      "metadata": {
        "id": "F7RMVI_-7NwE"
      },
      "execution_count": 13,
      "outputs": []
    },
    {
      "cell_type": "code",
      "source": [
        "# Ejemplo de uso de la función\n",
        "cadena = get_salaries(reviews.iloc[-1,2])\n",
        "cadena"
      ],
      "metadata": {
        "id": "EnDjO8JV7c-E",
        "colab": {
          "base_uri": "https://localhost:8080/"
        },
        "outputId": "766715ea-142f-4ff6-84ca-c09ea1ca371f"
      },
      "execution_count": 14,
      "outputs": [
        {
          "output_type": "execute_result",
          "data": {
            "text/plain": [
              "['73', '127']"
            ]
          },
          "metadata": {},
          "execution_count": 14
        }
      ]
    },
    {
      "cell_type": "markdown",
      "source": [
        "Calculo de los salarios"
      ],
      "metadata": {
        "id": "wciSGFlZzgju"
      }
    },
    {
      "cell_type": "code",
      "source": [
        "reviews['minSalary'] = reviews['Salary Estimate'].apply(lambda x: int(get_salaries(x)[0]))"
      ],
      "metadata": {
        "id": "4nwYm-xn3giH",
        "colab": {
          "base_uri": "https://localhost:8080/"
        },
        "outputId": "eb01e0ba-4c8f-46c9-abe9-8fb6cbf56e2f"
      },
      "execution_count": 15,
      "outputs": [
        {
          "output_type": "stream",
          "name": "stderr",
          "text": [
            "/usr/local/lib/python3.7/dist-packages/ipykernel_launcher.py:1: SettingWithCopyWarning: \n",
            "A value is trying to be set on a copy of a slice from a DataFrame.\n",
            "Try using .loc[row_indexer,col_indexer] = value instead\n",
            "\n",
            "See the caveats in the documentation: https://pandas.pydata.org/pandas-docs/stable/user_guide/indexing.html#returning-a-view-versus-a-copy\n",
            "  \"\"\"Entry point for launching an IPython kernel.\n"
          ]
        }
      ]
    },
    {
      "cell_type": "code",
      "source": [
        "reviews['maxSalary'] = reviews['Salary Estimate'].apply(lambda x: int(get_salaries(x)[1]))"
      ],
      "metadata": {
        "id": "0FOvZvIO8gD1",
        "colab": {
          "base_uri": "https://localhost:8080/"
        },
        "outputId": "b9e0e86f-0168-409e-ffad-850cb36c1f3b"
      },
      "execution_count": 16,
      "outputs": [
        {
          "output_type": "stream",
          "name": "stderr",
          "text": [
            "/usr/local/lib/python3.7/dist-packages/ipykernel_launcher.py:1: SettingWithCopyWarning: \n",
            "A value is trying to be set on a copy of a slice from a DataFrame.\n",
            "Try using .loc[row_indexer,col_indexer] = value instead\n",
            "\n",
            "See the caveats in the documentation: https://pandas.pydata.org/pandas-docs/stable/user_guide/indexing.html#returning-a-view-versus-a-copy\n",
            "  \"\"\"Entry point for launching an IPython kernel.\n"
          ]
        }
      ]
    },
    {
      "cell_type": "code",
      "source": [
        "reviews"
      ],
      "metadata": {
        "id": "LzNWi6-b-VkL",
        "colab": {
          "base_uri": "https://localhost:8080/",
          "height": 424
        },
        "outputId": "4f9296bf-1689-4d83-e336-5a1d59595f23"
      },
      "execution_count": 17,
      "outputs": [
        {
          "output_type": "execute_result",
          "data": {
            "text/plain": [
              "                                             Job Title  \\\n",
              "0    Data Analyst, Center on Immigration and Justic...   \n",
              "1                                 Quality Data Analyst   \n",
              "2    Senior Data Analyst, Insights & Analytics Team...   \n",
              "3                                         Data Analyst   \n",
              "4                               Reporting Data Analyst   \n",
              "..                                                 ...   \n",
              "257                                  Data Analyst - QC   \n",
              "258                   People Operations & Data Analyst   \n",
              "259                        Lead Data Analyst (Product)   \n",
              "260                                 Data Analyst - III   \n",
              "261                                   SQL Data Analyst   \n",
              "\n",
              "                                       Job Description  \\\n",
              "0    Are you eager to roll up your sleeves and harn...   \n",
              "1    Overview, , Provides analytical and technical ...   \n",
              "2    We’re looking for a Senior Data Analyst who ha...   \n",
              "3    Requisition NumberRR-0001939, Remote:Yes, We c...   \n",
              "4    ABOUT FANDUEL GROUP, , FanDuel Group is a worl...   \n",
              "..                                                 ...   \n",
              "257  Nesco Resource is seeking a Data Analyst for a...   \n",
              "258  JOB DESCRIPTION:, , Museum of Ice Cream is see...   \n",
              "259  A BIT ABOUT OUR DATA & ANALYTICS TEAM, , The K...   \n",
              "260  Direct Client Requirement, Position: Data Anal...   \n",
              "261  Job Title :Senior SQL Data Analyst, , No of Op...   \n",
              "\n",
              "                 Salary Estimate  minSalary  maxSalary  \n",
              "0     $37K-$66K (Glassdoor est.)         37         66  \n",
              "1     $37K-$66K (Glassdoor est.)         37         66  \n",
              "2     $37K-$66K (Glassdoor est.)         37         66  \n",
              "3     $37K-$66K (Glassdoor est.)         37         66  \n",
              "4     $37K-$66K (Glassdoor est.)         37         66  \n",
              "..                           ...        ...        ...  \n",
              "257  $73K-$127K (Glassdoor est.)         73        127  \n",
              "258  $73K-$127K (Glassdoor est.)         73        127  \n",
              "259  $73K-$127K (Glassdoor est.)         73        127  \n",
              "260  $73K-$127K (Glassdoor est.)         73        127  \n",
              "261  $73K-$127K (Glassdoor est.)         73        127  \n",
              "\n",
              "[262 rows x 5 columns]"
            ],
            "text/html": [
              "\n",
              "  <div id=\"df-6e37fdfb-9aa6-4db3-bd3e-7e46b4bc5ebe\">\n",
              "    <div class=\"colab-df-container\">\n",
              "      <div>\n",
              "<style scoped>\n",
              "    .dataframe tbody tr th:only-of-type {\n",
              "        vertical-align: middle;\n",
              "    }\n",
              "\n",
              "    .dataframe tbody tr th {\n",
              "        vertical-align: top;\n",
              "    }\n",
              "\n",
              "    .dataframe thead th {\n",
              "        text-align: right;\n",
              "    }\n",
              "</style>\n",
              "<table border=\"1\" class=\"dataframe\">\n",
              "  <thead>\n",
              "    <tr style=\"text-align: right;\">\n",
              "      <th></th>\n",
              "      <th>Job Title</th>\n",
              "      <th>Job Description</th>\n",
              "      <th>Salary Estimate</th>\n",
              "      <th>minSalary</th>\n",
              "      <th>maxSalary</th>\n",
              "    </tr>\n",
              "  </thead>\n",
              "  <tbody>\n",
              "    <tr>\n",
              "      <th>0</th>\n",
              "      <td>Data Analyst, Center on Immigration and Justic...</td>\n",
              "      <td>Are you eager to roll up your sleeves and harn...</td>\n",
              "      <td>$37K-$66K (Glassdoor est.)</td>\n",
              "      <td>37</td>\n",
              "      <td>66</td>\n",
              "    </tr>\n",
              "    <tr>\n",
              "      <th>1</th>\n",
              "      <td>Quality Data Analyst</td>\n",
              "      <td>Overview, , Provides analytical and technical ...</td>\n",
              "      <td>$37K-$66K (Glassdoor est.)</td>\n",
              "      <td>37</td>\n",
              "      <td>66</td>\n",
              "    </tr>\n",
              "    <tr>\n",
              "      <th>2</th>\n",
              "      <td>Senior Data Analyst, Insights &amp; Analytics Team...</td>\n",
              "      <td>We’re looking for a Senior Data Analyst who ha...</td>\n",
              "      <td>$37K-$66K (Glassdoor est.)</td>\n",
              "      <td>37</td>\n",
              "      <td>66</td>\n",
              "    </tr>\n",
              "    <tr>\n",
              "      <th>3</th>\n",
              "      <td>Data Analyst</td>\n",
              "      <td>Requisition NumberRR-0001939, Remote:Yes, We c...</td>\n",
              "      <td>$37K-$66K (Glassdoor est.)</td>\n",
              "      <td>37</td>\n",
              "      <td>66</td>\n",
              "    </tr>\n",
              "    <tr>\n",
              "      <th>4</th>\n",
              "      <td>Reporting Data Analyst</td>\n",
              "      <td>ABOUT FANDUEL GROUP, , FanDuel Group is a worl...</td>\n",
              "      <td>$37K-$66K (Glassdoor est.)</td>\n",
              "      <td>37</td>\n",
              "      <td>66</td>\n",
              "    </tr>\n",
              "    <tr>\n",
              "      <th>...</th>\n",
              "      <td>...</td>\n",
              "      <td>...</td>\n",
              "      <td>...</td>\n",
              "      <td>...</td>\n",
              "      <td>...</td>\n",
              "    </tr>\n",
              "    <tr>\n",
              "      <th>257</th>\n",
              "      <td>Data Analyst - QC</td>\n",
              "      <td>Nesco Resource is seeking a Data Analyst for a...</td>\n",
              "      <td>$73K-$127K (Glassdoor est.)</td>\n",
              "      <td>73</td>\n",
              "      <td>127</td>\n",
              "    </tr>\n",
              "    <tr>\n",
              "      <th>258</th>\n",
              "      <td>People Operations &amp; Data Analyst</td>\n",
              "      <td>JOB DESCRIPTION:, , Museum of Ice Cream is see...</td>\n",
              "      <td>$73K-$127K (Glassdoor est.)</td>\n",
              "      <td>73</td>\n",
              "      <td>127</td>\n",
              "    </tr>\n",
              "    <tr>\n",
              "      <th>259</th>\n",
              "      <td>Lead Data Analyst (Product)</td>\n",
              "      <td>A BIT ABOUT OUR DATA &amp; ANALYTICS TEAM, , The K...</td>\n",
              "      <td>$73K-$127K (Glassdoor est.)</td>\n",
              "      <td>73</td>\n",
              "      <td>127</td>\n",
              "    </tr>\n",
              "    <tr>\n",
              "      <th>260</th>\n",
              "      <td>Data Analyst - III</td>\n",
              "      <td>Direct Client Requirement, Position: Data Anal...</td>\n",
              "      <td>$73K-$127K (Glassdoor est.)</td>\n",
              "      <td>73</td>\n",
              "      <td>127</td>\n",
              "    </tr>\n",
              "    <tr>\n",
              "      <th>261</th>\n",
              "      <td>SQL Data Analyst</td>\n",
              "      <td>Job Title :Senior SQL Data Analyst, , No of Op...</td>\n",
              "      <td>$73K-$127K (Glassdoor est.)</td>\n",
              "      <td>73</td>\n",
              "      <td>127</td>\n",
              "    </tr>\n",
              "  </tbody>\n",
              "</table>\n",
              "<p>262 rows × 5 columns</p>\n",
              "</div>\n",
              "      <button class=\"colab-df-convert\" onclick=\"convertToInteractive('df-6e37fdfb-9aa6-4db3-bd3e-7e46b4bc5ebe')\"\n",
              "              title=\"Convert this dataframe to an interactive table.\"\n",
              "              style=\"display:none;\">\n",
              "        \n",
              "  <svg xmlns=\"http://www.w3.org/2000/svg\" height=\"24px\"viewBox=\"0 0 24 24\"\n",
              "       width=\"24px\">\n",
              "    <path d=\"M0 0h24v24H0V0z\" fill=\"none\"/>\n",
              "    <path d=\"M18.56 5.44l.94 2.06.94-2.06 2.06-.94-2.06-.94-.94-2.06-.94 2.06-2.06.94zm-11 1L8.5 8.5l.94-2.06 2.06-.94-2.06-.94L8.5 2.5l-.94 2.06-2.06.94zm10 10l.94 2.06.94-2.06 2.06-.94-2.06-.94-.94-2.06-.94 2.06-2.06.94z\"/><path d=\"M17.41 7.96l-1.37-1.37c-.4-.4-.92-.59-1.43-.59-.52 0-1.04.2-1.43.59L10.3 9.45l-7.72 7.72c-.78.78-.78 2.05 0 2.83L4 21.41c.39.39.9.59 1.41.59.51 0 1.02-.2 1.41-.59l7.78-7.78 2.81-2.81c.8-.78.8-2.07 0-2.86zM5.41 20L4 18.59l7.72-7.72 1.47 1.35L5.41 20z\"/>\n",
              "  </svg>\n",
              "      </button>\n",
              "      \n",
              "  <style>\n",
              "    .colab-df-container {\n",
              "      display:flex;\n",
              "      flex-wrap:wrap;\n",
              "      gap: 12px;\n",
              "    }\n",
              "\n",
              "    .colab-df-convert {\n",
              "      background-color: #E8F0FE;\n",
              "      border: none;\n",
              "      border-radius: 50%;\n",
              "      cursor: pointer;\n",
              "      display: none;\n",
              "      fill: #1967D2;\n",
              "      height: 32px;\n",
              "      padding: 0 0 0 0;\n",
              "      width: 32px;\n",
              "    }\n",
              "\n",
              "    .colab-df-convert:hover {\n",
              "      background-color: #E2EBFA;\n",
              "      box-shadow: 0px 1px 2px rgba(60, 64, 67, 0.3), 0px 1px 3px 1px rgba(60, 64, 67, 0.15);\n",
              "      fill: #174EA6;\n",
              "    }\n",
              "\n",
              "    [theme=dark] .colab-df-convert {\n",
              "      background-color: #3B4455;\n",
              "      fill: #D2E3FC;\n",
              "    }\n",
              "\n",
              "    [theme=dark] .colab-df-convert:hover {\n",
              "      background-color: #434B5C;\n",
              "      box-shadow: 0px 1px 3px 1px rgba(0, 0, 0, 0.15);\n",
              "      filter: drop-shadow(0px 1px 2px rgba(0, 0, 0, 0.3));\n",
              "      fill: #FFFFFF;\n",
              "    }\n",
              "  </style>\n",
              "\n",
              "      <script>\n",
              "        const buttonEl =\n",
              "          document.querySelector('#df-6e37fdfb-9aa6-4db3-bd3e-7e46b4bc5ebe button.colab-df-convert');\n",
              "        buttonEl.style.display =\n",
              "          google.colab.kernel.accessAllowed ? 'block' : 'none';\n",
              "\n",
              "        async function convertToInteractive(key) {\n",
              "          const element = document.querySelector('#df-6e37fdfb-9aa6-4db3-bd3e-7e46b4bc5ebe');\n",
              "          const dataTable =\n",
              "            await google.colab.kernel.invokeFunction('convertToInteractive',\n",
              "                                                     [key], {});\n",
              "          if (!dataTable) return;\n",
              "\n",
              "          const docLinkHtml = 'Like what you see? Visit the ' +\n",
              "            '<a target=\"_blank\" href=https://colab.research.google.com/notebooks/data_table.ipynb>data table notebook</a>'\n",
              "            + ' to learn more about interactive tables.';\n",
              "          element.innerHTML = '';\n",
              "          dataTable['output_type'] = 'display_data';\n",
              "          await google.colab.output.renderOutput(dataTable, element);\n",
              "          const docLink = document.createElement('div');\n",
              "          docLink.innerHTML = docLinkHtml;\n",
              "          element.appendChild(docLink);\n",
              "        }\n",
              "      </script>\n",
              "    </div>\n",
              "  </div>\n",
              "  "
            ]
          },
          "metadata": {},
          "execution_count": 17
        }
      ]
    },
    {
      "cell_type": "code",
      "source": [
        "reviews['meanSalary'] = np.round((reviews['minSalary'] + reviews['maxSalary'])/2 + np.random.normal(0, 2, len(reviews)), decimals=0)"
      ],
      "metadata": {
        "id": "9vgI1rDsCt70",
        "colab": {
          "base_uri": "https://localhost:8080/"
        },
        "outputId": "03bdc8f3-2810-4d82-e59b-ecc70d3595a1"
      },
      "execution_count": 18,
      "outputs": [
        {
          "output_type": "stream",
          "name": "stderr",
          "text": [
            "/usr/local/lib/python3.7/dist-packages/ipykernel_launcher.py:1: SettingWithCopyWarning: \n",
            "A value is trying to be set on a copy of a slice from a DataFrame.\n",
            "Try using .loc[row_indexer,col_indexer] = value instead\n",
            "\n",
            "See the caveats in the documentation: https://pandas.pydata.org/pandas-docs/stable/user_guide/indexing.html#returning-a-view-versus-a-copy\n",
            "  \"\"\"Entry point for launching an IPython kernel.\n"
          ]
        }
      ]
    },
    {
      "cell_type": "markdown",
      "source": [
        "Datos listos"
      ],
      "metadata": {
        "id": "nUiAWLzOzl9D"
      }
    },
    {
      "cell_type": "code",
      "source": [
        "reviews"
      ],
      "metadata": {
        "id": "OzpMZhiEEeAE",
        "colab": {
          "base_uri": "https://localhost:8080/",
          "height": 424
        },
        "outputId": "e921e427-5599-491d-e490-b0a57cdb459b"
      },
      "execution_count": 19,
      "outputs": [
        {
          "output_type": "execute_result",
          "data": {
            "text/plain": [
              "                                             Job Title  \\\n",
              "0    Data Analyst, Center on Immigration and Justic...   \n",
              "1                                 Quality Data Analyst   \n",
              "2    Senior Data Analyst, Insights & Analytics Team...   \n",
              "3                                         Data Analyst   \n",
              "4                               Reporting Data Analyst   \n",
              "..                                                 ...   \n",
              "257                                  Data Analyst - QC   \n",
              "258                   People Operations & Data Analyst   \n",
              "259                        Lead Data Analyst (Product)   \n",
              "260                                 Data Analyst - III   \n",
              "261                                   SQL Data Analyst   \n",
              "\n",
              "                                       Job Description  \\\n",
              "0    Are you eager to roll up your sleeves and harn...   \n",
              "1    Overview, , Provides analytical and technical ...   \n",
              "2    We’re looking for a Senior Data Analyst who ha...   \n",
              "3    Requisition NumberRR-0001939, Remote:Yes, We c...   \n",
              "4    ABOUT FANDUEL GROUP, , FanDuel Group is a worl...   \n",
              "..                                                 ...   \n",
              "257  Nesco Resource is seeking a Data Analyst for a...   \n",
              "258  JOB DESCRIPTION:, , Museum of Ice Cream is see...   \n",
              "259  A BIT ABOUT OUR DATA & ANALYTICS TEAM, , The K...   \n",
              "260  Direct Client Requirement, Position: Data Anal...   \n",
              "261  Job Title :Senior SQL Data Analyst, , No of Op...   \n",
              "\n",
              "                 Salary Estimate  minSalary  maxSalary  meanSalary  \n",
              "0     $37K-$66K (Glassdoor est.)         37         66        48.0  \n",
              "1     $37K-$66K (Glassdoor est.)         37         66        52.0  \n",
              "2     $37K-$66K (Glassdoor est.)         37         66        53.0  \n",
              "3     $37K-$66K (Glassdoor est.)         37         66        48.0  \n",
              "4     $37K-$66K (Glassdoor est.)         37         66        52.0  \n",
              "..                           ...        ...        ...         ...  \n",
              "257  $73K-$127K (Glassdoor est.)         73        127        96.0  \n",
              "258  $73K-$127K (Glassdoor est.)         73        127        99.0  \n",
              "259  $73K-$127K (Glassdoor est.)         73        127       102.0  \n",
              "260  $73K-$127K (Glassdoor est.)         73        127       102.0  \n",
              "261  $73K-$127K (Glassdoor est.)         73        127        98.0  \n",
              "\n",
              "[262 rows x 6 columns]"
            ],
            "text/html": [
              "\n",
              "  <div id=\"df-b62bd12e-6d81-4dde-806c-e380cf820196\">\n",
              "    <div class=\"colab-df-container\">\n",
              "      <div>\n",
              "<style scoped>\n",
              "    .dataframe tbody tr th:only-of-type {\n",
              "        vertical-align: middle;\n",
              "    }\n",
              "\n",
              "    .dataframe tbody tr th {\n",
              "        vertical-align: top;\n",
              "    }\n",
              "\n",
              "    .dataframe thead th {\n",
              "        text-align: right;\n",
              "    }\n",
              "</style>\n",
              "<table border=\"1\" class=\"dataframe\">\n",
              "  <thead>\n",
              "    <tr style=\"text-align: right;\">\n",
              "      <th></th>\n",
              "      <th>Job Title</th>\n",
              "      <th>Job Description</th>\n",
              "      <th>Salary Estimate</th>\n",
              "      <th>minSalary</th>\n",
              "      <th>maxSalary</th>\n",
              "      <th>meanSalary</th>\n",
              "    </tr>\n",
              "  </thead>\n",
              "  <tbody>\n",
              "    <tr>\n",
              "      <th>0</th>\n",
              "      <td>Data Analyst, Center on Immigration and Justic...</td>\n",
              "      <td>Are you eager to roll up your sleeves and harn...</td>\n",
              "      <td>$37K-$66K (Glassdoor est.)</td>\n",
              "      <td>37</td>\n",
              "      <td>66</td>\n",
              "      <td>48.0</td>\n",
              "    </tr>\n",
              "    <tr>\n",
              "      <th>1</th>\n",
              "      <td>Quality Data Analyst</td>\n",
              "      <td>Overview, , Provides analytical and technical ...</td>\n",
              "      <td>$37K-$66K (Glassdoor est.)</td>\n",
              "      <td>37</td>\n",
              "      <td>66</td>\n",
              "      <td>52.0</td>\n",
              "    </tr>\n",
              "    <tr>\n",
              "      <th>2</th>\n",
              "      <td>Senior Data Analyst, Insights &amp; Analytics Team...</td>\n",
              "      <td>We’re looking for a Senior Data Analyst who ha...</td>\n",
              "      <td>$37K-$66K (Glassdoor est.)</td>\n",
              "      <td>37</td>\n",
              "      <td>66</td>\n",
              "      <td>53.0</td>\n",
              "    </tr>\n",
              "    <tr>\n",
              "      <th>3</th>\n",
              "      <td>Data Analyst</td>\n",
              "      <td>Requisition NumberRR-0001939, Remote:Yes, We c...</td>\n",
              "      <td>$37K-$66K (Glassdoor est.)</td>\n",
              "      <td>37</td>\n",
              "      <td>66</td>\n",
              "      <td>48.0</td>\n",
              "    </tr>\n",
              "    <tr>\n",
              "      <th>4</th>\n",
              "      <td>Reporting Data Analyst</td>\n",
              "      <td>ABOUT FANDUEL GROUP, , FanDuel Group is a worl...</td>\n",
              "      <td>$37K-$66K (Glassdoor est.)</td>\n",
              "      <td>37</td>\n",
              "      <td>66</td>\n",
              "      <td>52.0</td>\n",
              "    </tr>\n",
              "    <tr>\n",
              "      <th>...</th>\n",
              "      <td>...</td>\n",
              "      <td>...</td>\n",
              "      <td>...</td>\n",
              "      <td>...</td>\n",
              "      <td>...</td>\n",
              "      <td>...</td>\n",
              "    </tr>\n",
              "    <tr>\n",
              "      <th>257</th>\n",
              "      <td>Data Analyst - QC</td>\n",
              "      <td>Nesco Resource is seeking a Data Analyst for a...</td>\n",
              "      <td>$73K-$127K (Glassdoor est.)</td>\n",
              "      <td>73</td>\n",
              "      <td>127</td>\n",
              "      <td>96.0</td>\n",
              "    </tr>\n",
              "    <tr>\n",
              "      <th>258</th>\n",
              "      <td>People Operations &amp; Data Analyst</td>\n",
              "      <td>JOB DESCRIPTION:, , Museum of Ice Cream is see...</td>\n",
              "      <td>$73K-$127K (Glassdoor est.)</td>\n",
              "      <td>73</td>\n",
              "      <td>127</td>\n",
              "      <td>99.0</td>\n",
              "    </tr>\n",
              "    <tr>\n",
              "      <th>259</th>\n",
              "      <td>Lead Data Analyst (Product)</td>\n",
              "      <td>A BIT ABOUT OUR DATA &amp; ANALYTICS TEAM, , The K...</td>\n",
              "      <td>$73K-$127K (Glassdoor est.)</td>\n",
              "      <td>73</td>\n",
              "      <td>127</td>\n",
              "      <td>102.0</td>\n",
              "    </tr>\n",
              "    <tr>\n",
              "      <th>260</th>\n",
              "      <td>Data Analyst - III</td>\n",
              "      <td>Direct Client Requirement, Position: Data Anal...</td>\n",
              "      <td>$73K-$127K (Glassdoor est.)</td>\n",
              "      <td>73</td>\n",
              "      <td>127</td>\n",
              "      <td>102.0</td>\n",
              "    </tr>\n",
              "    <tr>\n",
              "      <th>261</th>\n",
              "      <td>SQL Data Analyst</td>\n",
              "      <td>Job Title :Senior SQL Data Analyst, , No of Op...</td>\n",
              "      <td>$73K-$127K (Glassdoor est.)</td>\n",
              "      <td>73</td>\n",
              "      <td>127</td>\n",
              "      <td>98.0</td>\n",
              "    </tr>\n",
              "  </tbody>\n",
              "</table>\n",
              "<p>262 rows × 6 columns</p>\n",
              "</div>\n",
              "      <button class=\"colab-df-convert\" onclick=\"convertToInteractive('df-b62bd12e-6d81-4dde-806c-e380cf820196')\"\n",
              "              title=\"Convert this dataframe to an interactive table.\"\n",
              "              style=\"display:none;\">\n",
              "        \n",
              "  <svg xmlns=\"http://www.w3.org/2000/svg\" height=\"24px\"viewBox=\"0 0 24 24\"\n",
              "       width=\"24px\">\n",
              "    <path d=\"M0 0h24v24H0V0z\" fill=\"none\"/>\n",
              "    <path d=\"M18.56 5.44l.94 2.06.94-2.06 2.06-.94-2.06-.94-.94-2.06-.94 2.06-2.06.94zm-11 1L8.5 8.5l.94-2.06 2.06-.94-2.06-.94L8.5 2.5l-.94 2.06-2.06.94zm10 10l.94 2.06.94-2.06 2.06-.94-2.06-.94-.94-2.06-.94 2.06-2.06.94z\"/><path d=\"M17.41 7.96l-1.37-1.37c-.4-.4-.92-.59-1.43-.59-.52 0-1.04.2-1.43.59L10.3 9.45l-7.72 7.72c-.78.78-.78 2.05 0 2.83L4 21.41c.39.39.9.59 1.41.59.51 0 1.02-.2 1.41-.59l7.78-7.78 2.81-2.81c.8-.78.8-2.07 0-2.86zM5.41 20L4 18.59l7.72-7.72 1.47 1.35L5.41 20z\"/>\n",
              "  </svg>\n",
              "      </button>\n",
              "      \n",
              "  <style>\n",
              "    .colab-df-container {\n",
              "      display:flex;\n",
              "      flex-wrap:wrap;\n",
              "      gap: 12px;\n",
              "    }\n",
              "\n",
              "    .colab-df-convert {\n",
              "      background-color: #E8F0FE;\n",
              "      border: none;\n",
              "      border-radius: 50%;\n",
              "      cursor: pointer;\n",
              "      display: none;\n",
              "      fill: #1967D2;\n",
              "      height: 32px;\n",
              "      padding: 0 0 0 0;\n",
              "      width: 32px;\n",
              "    }\n",
              "\n",
              "    .colab-df-convert:hover {\n",
              "      background-color: #E2EBFA;\n",
              "      box-shadow: 0px 1px 2px rgba(60, 64, 67, 0.3), 0px 1px 3px 1px rgba(60, 64, 67, 0.15);\n",
              "      fill: #174EA6;\n",
              "    }\n",
              "\n",
              "    [theme=dark] .colab-df-convert {\n",
              "      background-color: #3B4455;\n",
              "      fill: #D2E3FC;\n",
              "    }\n",
              "\n",
              "    [theme=dark] .colab-df-convert:hover {\n",
              "      background-color: #434B5C;\n",
              "      box-shadow: 0px 1px 3px 1px rgba(0, 0, 0, 0.15);\n",
              "      filter: drop-shadow(0px 1px 2px rgba(0, 0, 0, 0.3));\n",
              "      fill: #FFFFFF;\n",
              "    }\n",
              "  </style>\n",
              "\n",
              "      <script>\n",
              "        const buttonEl =\n",
              "          document.querySelector('#df-b62bd12e-6d81-4dde-806c-e380cf820196 button.colab-df-convert');\n",
              "        buttonEl.style.display =\n",
              "          google.colab.kernel.accessAllowed ? 'block' : 'none';\n",
              "\n",
              "        async function convertToInteractive(key) {\n",
              "          const element = document.querySelector('#df-b62bd12e-6d81-4dde-806c-e380cf820196');\n",
              "          const dataTable =\n",
              "            await google.colab.kernel.invokeFunction('convertToInteractive',\n",
              "                                                     [key], {});\n",
              "          if (!dataTable) return;\n",
              "\n",
              "          const docLinkHtml = 'Like what you see? Visit the ' +\n",
              "            '<a target=\"_blank\" href=https://colab.research.google.com/notebooks/data_table.ipynb>data table notebook</a>'\n",
              "            + ' to learn more about interactive tables.';\n",
              "          element.innerHTML = '';\n",
              "          dataTable['output_type'] = 'display_data';\n",
              "          await google.colab.output.renderOutput(dataTable, element);\n",
              "          const docLink = document.createElement('div');\n",
              "          docLink.innerHTML = docLinkHtml;\n",
              "          element.appendChild(docLink);\n",
              "        }\n",
              "      </script>\n",
              "    </div>\n",
              "  </div>\n",
              "  "
            ]
          },
          "metadata": {},
          "execution_count": 19
        }
      ]
    },
    {
      "cell_type": "markdown",
      "source": [
        "# Datos de entrenamiento y prueba"
      ],
      "metadata": {
        "id": "-BsIjlnsGfT0"
      }
    },
    {
      "cell_type": "code",
      "source": [
        "X = reviews['Job Description']"
      ],
      "metadata": {
        "id": "SKaWXE8nGh8s"
      },
      "execution_count": 20,
      "outputs": []
    },
    {
      "cell_type": "code",
      "source": [
        "X"
      ],
      "metadata": {
        "id": "uDNntjs_Gx3t",
        "colab": {
          "base_uri": "https://localhost:8080/"
        },
        "outputId": "a95119ee-2288-48d0-cc33-489a5481b856"
      },
      "execution_count": 21,
      "outputs": [
        {
          "output_type": "execute_result",
          "data": {
            "text/plain": [
              "0      Are you eager to roll up your sleeves and harn...\n",
              "1      Overview, , Provides analytical and technical ...\n",
              "2      We’re looking for a Senior Data Analyst who ha...\n",
              "3      Requisition NumberRR-0001939, Remote:Yes, We c...\n",
              "4      ABOUT FANDUEL GROUP, , FanDuel Group is a worl...\n",
              "                             ...                        \n",
              "257    Nesco Resource is seeking a Data Analyst for a...\n",
              "258    JOB DESCRIPTION:, , Museum of Ice Cream is see...\n",
              "259    A BIT ABOUT OUR DATA & ANALYTICS TEAM, , The K...\n",
              "260    Direct Client Requirement, Position: Data Anal...\n",
              "261    Job Title :Senior SQL Data Analyst, , No of Op...\n",
              "Name: Job Description, Length: 262, dtype: object"
            ]
          },
          "metadata": {},
          "execution_count": 21
        }
      ]
    },
    {
      "cell_type": "code",
      "source": [
        "y = reviews['meanSalary']"
      ],
      "metadata": {
        "id": "P6YlqkGBGsWJ"
      },
      "execution_count": 22,
      "outputs": []
    },
    {
      "cell_type": "code",
      "source": [
        "X_train, X_test, y_train, y_test = train_test_split(X, y, test_size=0.2, random_state=42)"
      ],
      "metadata": {
        "id": "cpz-AvTmIBqK"
      },
      "execution_count": 23,
      "outputs": []
    },
    {
      "cell_type": "markdown",
      "source": [
        "# Convertir en elementos apropiados para alimentar el modelo"
      ],
      "metadata": {
        "id": "ZwnH6qsYLNvC"
      }
    },
    {
      "cell_type": "code",
      "source": [
        "X_train"
      ],
      "metadata": {
        "id": "rw_AAuJiLmrN",
        "colab": {
          "base_uri": "https://localhost:8080/"
        },
        "outputId": "f9042aa1-8380-4b52-b4ad-7eef39b8ff35"
      },
      "execution_count": 24,
      "outputs": [
        {
          "output_type": "execute_result",
          "data": {
            "text/plain": [
              "179    We are looking for an organized, detail-orient...\n",
              "115    About Capgemini, Capgemini is a global leader ...\n",
              "96     Gainful is changing the way people shop for nu...\n",
              "233    Our client, a leading global financial service...\n",
              "60     About Ro, Founded in 2017, Ro is a patient-dri...\n",
              "                             ...                        \n",
              "20     Note: By applying to this position your applic...\n",
              "188    This VP Research Project Analyst role is a qua...\n",
              "71     Impakt Advisors is a brand new (2018), NYC bas...\n",
              "106    60 months experience in SQL/SQL TOAD;, 60 mont...\n",
              "102    Analyst-Data Integrity, , There’s potential ar...\n",
              "Name: Job Description, Length: 209, dtype: object"
            ]
          },
          "metadata": {},
          "execution_count": 24
        }
      ]
    },
    {
      "cell_type": "code",
      "source": [
        "X_train_tensor = tf.convert_to_tensor(list(X_train))"
      ],
      "metadata": {
        "id": "6InjjngoLfex"
      },
      "execution_count": 25,
      "outputs": []
    },
    {
      "cell_type": "code",
      "source": [
        "X_test"
      ],
      "metadata": {
        "id": "oul_ZIoHM-2M",
        "colab": {
          "base_uri": "https://localhost:8080/"
        },
        "outputId": "3040e8d9-7abc-405b-9374-bb70645e58b4"
      },
      "execution_count": 26,
      "outputs": [
        {
          "output_type": "execute_result",
          "data": {
            "text/plain": [
              "248    Requisition no: 507136, Work type: Full Time, ...\n",
              "215    Job Description, , Job ID#:, 2359, , Job Categ...\n",
              "194    Data Analyst Assistant, , Calling data-loving ...\n",
              "168    APCO Insight works with many of the world’s le...\n",
              "66     Data Analyst Contract New York City Job 440 Pr...\n",
              "137    Position: Data Analyst, , Agency: New York Cit...\n",
              "175    WorkforceLogiq is currently hiring for a Data ...\n",
              "260    Direct Client Requirement, Position: Data Anal...\n",
              "9      About Us, , Riskified is the AI platform power...\n",
              "114    We are looking for a contract Data Analyst to ...\n",
              "24     Dash Technologies is an industry leading softw...\n",
              "225    Our Client a Global Japanese Investment Bank i...\n",
              "46     Advertising Data AnalystHearst Television is s...\n",
              "206    Vistrada is looking to hire a Senior Data Anal...\n",
              "192    Summary:, , , Take-Two Interactive, Inc., a le...\n",
              "253    Position: eCommerce Data Analyst, , Client Pro...\n",
              "79     Title: Data analyst with Python, , Job Type: 6...\n",
              "6      Two Sigma is a different kind of investment ma...\n",
              "209    Company Description, , The Center for Alternat...\n",
              "67     Summary:, , The International Equity Group man...\n",
              "140    Title: Look ML Data Analyst, Location: NY, NY,...\n",
              "146    Project Overview, , The Enterprise Data Govern...\n",
              "19     About Us, , At Teachers Pay Teachers (TpT), we...\n",
              "213    Job Requisition Number:81084, , Were Bloomberg...\n",
              "111    Cowen Investment Management is looking for a d...\n",
              "150    NYU Grossman School of Medicine is one of the ...\n",
              "78     Job Description, Mulberry is disrupting a $40B...\n",
              "68     Job Details, , Level, , Experienced, , Job Loc...\n",
              "90     NYU Grossman School of Medicine is one of the ...\n",
              "15     Job Description, Role Description, , Sustainab...\n",
              "30     Our Mission, , Move people., , Our Values, , W...\n",
              "193    Praescient Analytics, LLC (Praescient) is a Ve...\n",
              "230    **This position is located in Irvine, CA. Relo...\n",
              "109    Data Analyst, , Jersey City, NJ, , 12+ months ...\n",
              "33     Who we are, , SoFi is a digital personal finan...\n",
              "185    Praescient Analytics, LLC (Praescient) is a Ve...\n",
              "73     The Data/Information Mgt Analyst is a strategi...\n",
              "238    This is an outstanding 2 year contract opportu...\n",
              "208    Data Analyst Contract New York City, , Job # 4...\n",
              "10     NYU Grossman School of Medicine is one of the ...\n",
              "249    Job Summary:, Comprised of Disneys internation...\n",
              "45     Non-Exempt*, Schedule: Can be 8a.m. – 5p.m. or...\n",
              "117    For more than a decade, Asembia has been worki...\n",
              "75     Org. Setting and Reporting, , The United Natio...\n",
              "25     Data Analyst (Decision Science), , Hearst is a...\n",
              "159    The Child Mind Institute is seeking a Data Ana...\n",
              "232    Business Analyst-Market Data, , Our client, on...\n",
              "18     Company Description, , EDUCATION DEVELOPMENT C...\n",
              "86     This is for Citi., , BA/Data Analyst, , - Must...\n",
              "141    Requisition no: 502862, Work type: Full Time, ...\n",
              "246    Job Summary:, , Responsible for producing repo...\n",
              "170    Hi,, , Â, , Hope you are doing well!!, , Â, , ...\n",
              "113    Purpose, , Looking for a fast paced and high g...\n",
              "Name: Job Description, dtype: object"
            ]
          },
          "metadata": {},
          "execution_count": 26
        }
      ]
    },
    {
      "cell_type": "code",
      "source": [
        "X_test_tensor = tf.convert_to_tensor(list(X_test))"
      ],
      "metadata": {
        "id": "RV5TmrzgMGFL"
      },
      "execution_count": 27,
      "outputs": []
    },
    {
      "cell_type": "markdown",
      "source": [
        "# Definición del modelo"
      ],
      "metadata": {
        "id": "vSIVH1-P1pqO"
      }
    },
    {
      "cell_type": "markdown",
      "source": [
        "<center>\n",
        "  <img src='https://github.com/MaxMitre/Aplicaciones-Financieras/blob/main/Semana11/imgs/bert_con_red.png?raw=true'> \n",
        "</center>\n",
        "\n",
        "Fuente: [*work2vec:Using Language Models to Understand Wage Premia*](https://static1.squarespace.com/static/573f69a2cf80a1adb090ba64/t/6244c76ba67acb4b3e73c1ae/1648674669386/SBANA_JMP.pdf), Sarah H. Bana"
      ],
      "metadata": {
        "id": "8oTP7COZ7NBG"
      }
    },
    {
      "cell_type": "markdown",
      "source": [
        "La celda completamente comentada (CELDA 1) se utiliza en lugar de CELDA 2 cuando querramos utilizar una longitud de tokens a utilizar de 128.\n",
        "\n",
        "En CELDA 2 estaremos utilizando 512 tokens.\n",
        "\n",
        "- Enlaces externos:\n",
        "\n",
        "  - Mas info sobre el preprocesador de textos precargado [aquí](https://tfhub.dev/tensorflow/bert_en_uncased_preprocess/3)\n",
        "\n",
        "  - Mas info sobre el modo en que BERT hace le encaje (embedding) [aquí](https://tfhub.dev/tensorflow/bert_en_uncased_L-12_H-768_A-12/4)"
      ],
      "metadata": {
        "id": "jxI6dEmHzu-f"
      }
    },
    {
      "cell_type": "code",
      "source": [
        "#     CELDA 1\n",
        "\n",
        "## Para documentación de preprocesado y embedding\n",
        "## https://tfhub.dev/tensorflow/bert_en_uncased_L-12_H-768_A-12/4 \n",
        "\n",
        "#text_input = tf.keras.layers.Input(shape=(), dtype=tf.string, name='first')\n",
        "#preprocessor = hub.KerasLayer(\n",
        "#    \"https://tfhub.dev/tensorflow/bert_en_uncased_preprocess/3\")\n",
        "#encoder_inputs = preprocessor(text_input) # aqui estan 'input_type_ids', 'input_mask, 'input_word_ids'\n",
        "\n",
        "#encoder = hub.KerasLayer(\n",
        "#    \"https://tfhub.dev/tensorflow/bert_en_uncased_L-12_H-768_A-12/4\",\n",
        "#    trainable=True)\n",
        "#outputs = encoder(encoder_inputs)\n",
        "#pooled_output = outputs[\"pooled_output\"]      # [batch_size, 768].\n",
        "#sequence_output = outputs[\"sequence_output\"]  # [batch_size, seq_length, 768].   CON 128 default"
      ],
      "metadata": {
        "id": "rko6xzOt1sXC"
      },
      "execution_count": 28,
      "outputs": []
    },
    {
      "cell_type": "code",
      "source": [
        "#     CELDA 2\n",
        "\n",
        "preprocessor = hub.load(\n",
        "    \"https://tfhub.dev/tensorflow/bert_en_uncased_preprocess/3\")\n",
        "\n",
        "text_inputs = [tf.keras.layers.Input((), dtype=tf.string)]\n",
        "tokenize = hub.KerasLayer(preprocessor.tokenize)\n",
        "tokenized_inputs = [tokenize(segment) for segment in text_inputs]\n",
        "\n",
        "seq_length = 512  # Your choice here.\n",
        "bert_pack_inputs = hub.KerasLayer(\n",
        "    preprocessor.bert_pack_inputs,\n",
        "    arguments=dict(seq_length=seq_length))  # Optional argument.\n",
        "encoder_inputs = bert_pack_inputs(tokenized_inputs)\n",
        "\n",
        "encoder = hub.KerasLayer(\n",
        "    \"https://tfhub.dev/tensorflow/bert_en_uncased_L-12_H-768_A-12/4\",\n",
        "    trainable=False)\n",
        "outputs = encoder(encoder_inputs)\n",
        "pooled_output = outputs[\"pooled_output\"]      # [batch_size, 768].\n",
        "sequence_output = outputs[\"sequence_output\"]  # [batch_size, 512, 768]."
      ],
      "metadata": {
        "id": "Ri61v2CE2j2r"
      },
      "execution_count": 29,
      "outputs": []
    },
    {
      "cell_type": "markdown",
      "source": [
        "## Paréntesis cultural: ejemplo de como funciona el tokenizador\n"
      ],
      "metadata": {
        "id": "3N1ROajF0IWB"
      }
    },
    {
      "cell_type": "code",
      "source": [
        "tokens_example = tf.keras.Model(text_inputs, encoder_inputs)"
      ],
      "metadata": {
        "id": "q7IOwKd_t1t1"
      },
      "execution_count": 30,
      "outputs": []
    },
    {
      "cell_type": "code",
      "source": [
        "X_train.iloc[61]"
      ],
      "metadata": {
        "id": "tvONN71gui_p",
        "colab": {
          "base_uri": "https://localhost:8080/",
          "height": 123
        },
        "outputId": "b5fe3549-f46b-4d24-c361-458b34ff3f2f"
      },
      "execution_count": 31,
      "outputs": [
        {
          "output_type": "execute_result",
          "data": {
            "text/plain": [
              "\"Job Description, , General Description, , CUNY Fellowship in the Behavioral Sciences, , , The City University of New York (CUNY) - Office of Institutional Research and Assessment (OIRA) announces a one-year fellowship in the behavioral sciences. Behavioral science is the study of how people make decisions and act within a complex world where details and context matter. It draws from decades of research in the social sciences to create a more realistic framework for understanding the way people form intentions and take actions., , Behavioral science has been used across a variety of fields to realign policies, programs, and products with how we really behave, improving outcomes for millions of people worldwide. OIRA is testing the use of lessons from the behavioral sciences at CUNY through a project called the Student Persistence Initiative (SPI), which is funded by the Mayor’s Office for Economic Opportunity., , CUNY is the nation's leading urban public university serving more than 275,000 students in 25 colleges and institutions in New York City. CUNY-OIRA conducts research and provides data to improve student success and acts as an incubator for new interventions, providing rigorous evidence to identify the most effective, and taking the best to scale at CUNY. SPI is one of these projects., , Under the supervision of the Director for Institutional Research, the fellow will provide quantitative analytic support and data for the implementation and scaling of a set of behavioral interventions over the course of academic year 2020-21. The fellow will work in collaboration with partner CUNY schools and the SPI Project Manager to develop and implement projects that address barriers to student engagement, retention, and success. Planned projects include scaling multi-year interventions through Blackboard, emails, and text messages., , Responsibilities may include but are not limited to:, Conduct student data extraction and analysis (including, but not limited to, academic records, enrollment data, Blackboard analytics, and student experience survey results), Analyze the effectiveness of SPI interventions and their impact on retention and persistence (including, but not limited to, graduation rates and transfer rates), Analyze FAFSA renewal rates of student populations in participating senior colleges and community colleges in FAFSA Renewal campaigns, Use statistical programs such as R, SPSS, and Stata to develop and prepare data for sharing with project partners, Extract, clean, and manage data from multiple sources, Respond to ad hoc requests for information and data, Participate in weekly/biweekly conference calls to discuss project development and implementation, Produce briefings, progress reports, and materials for project evaluation based on data; present materials to CUNY staff, Communicate with project partners and stakeholders, Perform other duties as assigned, , Other Duties, , Qualifications, , , Basic Qualifications:, Bachelor’s Degree with four years’ related experience, Formal training in quantitative research methods, Ability to define research and analytical problems, Experience programming, writing, and/or interpreting syntax in R and SQL, Experience with other programs (SPSS, Stata, etc.) is a plus, Experience designing and building complex datasets and using complex data, Ability to work as both an independent self-starter and as a collaborative member of a team, Strong organizational skills, with the ability to prioritize tasks and outstanding attention to detail, Ability to be flexible and work in a fast-paced environment, Excellent interpersonal and written/verbal communication skills, Equal Opportunity/Affirmative Action/Americans with Disabilities Act Employer\""
            ],
            "application/vnd.google.colaboratory.intrinsic+json": {
              "type": "string"
            }
          },
          "metadata": {},
          "execution_count": 31
        }
      ]
    },
    {
      "cell_type": "code",
      "source": [
        "tokens_example(X_train_tensor)['input_word_ids'][61]"
      ],
      "metadata": {
        "id": "guzQtAbpt7sn",
        "colab": {
          "base_uri": "https://localhost:8080/"
        },
        "outputId": "82bb5aca-44c1-49fb-8ad6-52ec8780cd87"
      },
      "execution_count": 32,
      "outputs": [
        {
          "output_type": "execute_result",
          "data": {
            "text/plain": [
              "<tf.Tensor: shape=(512,), dtype=int32, numpy=\n",
              "array([  101,  3105,  6412,  1010,  1010,  2236,  6412,  1010,  1010,\n",
              "       12731,  4890,  7881,  1999,  1996, 14260,  4163,  1010,  1010,\n",
              "        1010,  1996,  2103,  2118,  1997,  2047,  2259,  1006, 12731,\n",
              "        4890,  1007,  1011,  2436,  1997, 12148,  2470,  1998,  7667,\n",
              "        1006,  1051,  7895,  1007, 17472,  1037,  2028,  1011,  2095,\n",
              "        7881,  1999,  1996, 14260,  4163,  1012, 14260,  2671,  2003,\n",
              "        1996,  2817,  1997,  2129,  2111,  2191,  6567,  1998,  2552,\n",
              "        2306,  1037,  3375,  2088,  2073,  4751,  1998,  6123,  3043,\n",
              "        1012,  2009,  9891,  2013,  5109,  1997,  2470,  1999,  1996,\n",
              "        2591,  4163,  2000,  3443,  1037,  2062, 12689,  7705,  2005,\n",
              "        4824,  1996,  2126,  2111,  2433, 11174,  1998,  2202,  4506,\n",
              "        1012,  1010,  1010, 14260,  2671,  2038,  2042,  2109,  2408,\n",
              "        1037,  3528,  1997,  4249,  2000,  2613, 23773,  6043,  1010,\n",
              "        3454,  1010,  1998,  3688,  2007,  2129,  2057,  2428, 16582,\n",
              "        1010,  9229, 13105,  2005,  8817,  1997,  2111,  4969,  1012,\n",
              "        1051,  7895,  2003,  5604,  1996,  2224,  1997,  8220,  2013,\n",
              "        1996, 14260,  4163,  2012, 12731,  4890,  2083,  1037,  2622,\n",
              "        2170,  1996,  3076, 28297,  6349,  1006, 11867,  2072,  1007,\n",
              "        1010,  2029,  2003,  6787,  2011,  1996,  3664,  1521,  1055,\n",
              "        2436,  2005,  3171,  4495,  1012,  1010,  1010, 12731,  4890,\n",
              "        2003,  1996,  3842,  1005,  1055,  2877,  3923,  2270,  2118,\n",
              "        3529,  2062,  2084, 17528,  1010,  2199,  2493,  1999,  2423,\n",
              "        6667,  1998,  4896,  1999,  2047,  2259,  2103,  1012, 12731,\n",
              "        4890,  1011,  1051,  7895, 17976,  2470,  1998,  3640,  2951,\n",
              "        2000,  5335,  3076,  3112,  1998,  4490,  2004,  2019,  4297,\n",
              "       19761,  4263,  2005,  2047, 19388,  1010,  4346, 20001,  3350,\n",
              "        2000,  6709,  1996,  2087,  4621,  1010,  1998,  2635,  1996,\n",
              "        2190,  2000,  4094,  2012, 12731,  4890,  1012, 11867,  2072,\n",
              "        2003,  2028,  1997,  2122,  3934,  1012,  1010,  1010,  2104,\n",
              "        1996, 10429,  1997,  1996,  2472,  2005, 12148,  2470,  1010,\n",
              "        1996,  3507,  2097,  3073, 20155, 23521,  2490,  1998,  2951,\n",
              "        2005,  1996,  7375,  1998, 25169,  1997,  1037,  2275,  1997,\n",
              "       14260, 19388,  2058,  1996,  2607,  1997,  3834,  2095, 12609,\n",
              "        1011,  2538,  1012,  1996,  3507,  2097,  2147,  1999,  5792,\n",
              "        2007,  4256, 12731,  4890,  2816,  1998,  1996, 11867,  2072,\n",
              "        2622,  3208,  2000,  4503,  1998, 10408,  3934,  2008,  4769,\n",
              "       13500,  2000,  3076,  8147,  1010, 20125,  1010,  1998,  3112,\n",
              "        1012,  3740,  3934,  2421, 25169,  4800,  1011,  2095, 19388,\n",
              "        2083,  2304,  6277,  1010, 22028,  1010,  1998,  3793,  7696,\n",
              "        1012,  1010,  1010, 10198,  2089,  2421,  2021,  2024,  2025,\n",
              "        3132,  2000,  1024,  1010,  6204,  3076,  2951, 14676,  1998,\n",
              "        4106,  1006,  2164,  1010,  2021,  2025,  3132,  2000,  1010,\n",
              "        3834,  2636,  1010, 10316,  2951,  1010,  2304,  6277, 25095,\n",
              "        1010,  1998,  3076,  3325,  5002,  3463,  1007,  1010, 17908,\n",
              "        1996, 12353,  1997, 11867,  2072, 19388,  1998,  2037,  4254,\n",
              "        2006, 20125,  1998, 28297,  1006,  2164,  1010,  2021,  2025,\n",
              "        3132,  2000,  1010,  7665,  6165,  1998,  4651,  6165,  1007,\n",
              "        1010, 17908,  6904, 10343,  2050, 14524,  6165,  1997,  3076,\n",
              "        7080,  1999,  8019,  3026,  6667,  1998,  2451,  6667,  1999,\n",
              "        6904, 10343,  2050, 14524,  8008,  1010,  2224,  7778,  3454,\n",
              "        2107,  2004,  1054,  1010, 11867,  4757,  1010,  1998, 28093,\n",
              "        2050,  2000,  4503,  1998,  7374,  2951,  2005,  6631,  2007,\n",
              "        2622,  5826,  1010, 14817,  1010,  4550,  1010,  1998,  6133,\n",
              "        2951,  2013,  3674,  4216,  1010,  6869,  2000,  4748, 21929,\n",
              "       11186,  2005,  2592,  1998,  2951,  1010,  5589,  1999,  4882,\n",
              "        1013, 12170, 28075,  2135,  3034,  4455,  2000,  6848,  2622,\n",
              "        2458,  1998,  7375,  1010,  3965, 27918,  2015,   102],\n",
              "      dtype=int32)>"
            ]
          },
          "metadata": {},
          "execution_count": 32
        }
      ]
    },
    {
      "cell_type": "markdown",
      "source": [
        "## Encaje (Embedding) de BERT que utilizaremos"
      ],
      "metadata": {
        "id": "TtmR-6W004Jj"
      }
    },
    {
      "cell_type": "markdown",
      "source": [
        "Observen el siguiente modelo, entender su salida será muy importante"
      ],
      "metadata": {
        "id": "npiJDWbW1U2E"
      }
    },
    {
      "cell_type": "code",
      "source": [
        "encaje = tf.keras.Model(text_inputs, sequence_output) "
      ],
      "metadata": {
        "id": "-WAlBmJyVWfM"
      },
      "execution_count": 33,
      "outputs": []
    },
    {
      "cell_type": "code",
      "source": [
        "X_train_encajado = encaje(X_train_tensor)"
      ],
      "metadata": {
        "id": "qijuTx-AVhua"
      },
      "execution_count": 34,
      "outputs": []
    },
    {
      "cell_type": "markdown",
      "source": [
        "## Fin del paréntesis cultural"
      ],
      "metadata": {
        "id": "_rc5y-T_012e"
      }
    },
    {
      "cell_type": "markdown",
      "source": [
        "## Estructuración del modelo"
      ],
      "metadata": {
        "id": "nwXeSnDl1Fhm"
      }
    },
    {
      "cell_type": "markdown",
      "source": [
        " Utilizaremos el encaje de BERT por fuera de la red neuronal, solo para vectorizar nuestros textos. \n",
        " \n",
        " Es posible unirlo como una capa de red neuronal y reentrenar un poco sus parámetros, teniendo así una red neuronal mas robusta."
      ],
      "metadata": {
        "id": "-bXv8lYNFeaE"
      }
    },
    {
      "cell_type": "code",
      "source": [
        "input = tf.keras.layers.Input(shape=(512,768, ), name=\"inputs\")"
      ],
      "metadata": {
        "id": "Q3w7l8CKUfY2"
      },
      "execution_count": 35,
      "outputs": []
    },
    {
      "cell_type": "code",
      "source": [
        "first_conv = tf.keras.layers.Conv1D(64, 4, input_shape=(512, 768))\n",
        "first_conv_out = first_conv(input)"
      ],
      "metadata": {
        "id": "18Hcfd8v4WZ8"
      },
      "execution_count": 36,
      "outputs": []
    },
    {
      "cell_type": "code",
      "source": [
        "#other_conv = tf.keras.layers.Conv1D(64, 4)(first_conv_out)"
      ],
      "metadata": {
        "id": "Cmb2NW_YfHq1"
      },
      "execution_count": 37,
      "outputs": []
    },
    {
      "cell_type": "code",
      "source": [
        "#another_conv = tf.keras.layers.Conv1D(64, 4)(other_conv)"
      ],
      "metadata": {
        "id": "pfnqmLYffHJB"
      },
      "execution_count": 38,
      "outputs": []
    },
    {
      "cell_type": "code",
      "source": [
        "second_conv = tf.keras.layers.MaxPooling1D(64, 509)\n",
        "second_conv_out = second_conv(first_conv_out)"
      ],
      "metadata": {
        "id": "te0BUpY84WPx"
      },
      "execution_count": 39,
      "outputs": []
    },
    {
      "cell_type": "code",
      "source": [
        "flatting = tf.keras.layers.Flatten()\n",
        "flatted = flatting(second_conv_out)"
      ],
      "metadata": {
        "id": "a9raQ2Sf8GBl"
      },
      "execution_count": 40,
      "outputs": []
    },
    {
      "cell_type": "code",
      "source": [
        "only_dense = tf.keras.layers.Dense(1, activation='linear')\n",
        "final_output = only_dense(flatted)"
      ],
      "metadata": {
        "id": "hT-dvlya8ei1"
      },
      "execution_count": 41,
      "outputs": []
    },
    {
      "cell_type": "code",
      "source": [
        "embedding_model = tf.keras.Model(input, final_output)"
      ],
      "metadata": {
        "id": "ZU9X01P63hEG"
      },
      "execution_count": 42,
      "outputs": []
    },
    {
      "cell_type": "markdown",
      "source": [
        "## Auxiliar visual del modelo"
      ],
      "metadata": {
        "id": "WaPDc-ll1Ydn"
      }
    },
    {
      "cell_type": "code",
      "source": [
        "tf.keras.utils.plot_model( \n",
        "    embedding_model,\n",
        "    to_file=\"model.png\",\n",
        "    show_shapes=True,\n",
        "    show_dtype=False,\n",
        "    show_layer_names=True,\n",
        "    rankdir=\"TD\",\n",
        "    dpi=180,\n",
        ")"
      ],
      "metadata": {
        "id": "hDATZjGj0kjQ",
        "colab": {
          "base_uri": "https://localhost:8080/",
          "height": 985
        },
        "outputId": "c427b17d-2675-42c8-935b-3f2dcd2f7976"
      },
      "execution_count": 43,
      "outputs": [
        {
          "output_type": "execute_result",
          "data": {
            "image/png": "[encoded data removed]",
            "text/plain": [
              "<IPython.core.display.Image object>"
            ]
          },
          "metadata": {},
          "execution_count": 43
        }
      ]
    },
    {
      "cell_type": "markdown",
      "source": [
        "## Instrucciones de compilación"
      ],
      "metadata": {
        "id": "tcEI7jvl1b7g"
      }
    },
    {
      "cell_type": "markdown",
      "source": [
        "Estamos en el caso de una sola salida, ¿que pasaría si tomamos un problema de clasificación multiclase donde las clases serán los rangos salariales?"
      ],
      "metadata": {
        "id": "fScEXi8w1fvw"
      }
    },
    {
      "cell_type": "code",
      "source": [
        "embedding_model.compile(loss='mse', optimizer='adam', metrics=['mae'])"
      ],
      "metadata": {
        "id": "o2jglJX0Nn4K"
      },
      "execution_count": 44,
      "outputs": []
    },
    {
      "cell_type": "code",
      "source": [
        "embedding_model.summary()"
      ],
      "metadata": {
        "id": "ret7Aos-QE27",
        "colab": {
          "base_uri": "https://localhost:8080/"
        },
        "outputId": "7d5c6c73-1c44-4990-dea2-afdb2c7ae490"
      },
      "execution_count": 45,
      "outputs": [
        {
          "output_type": "stream",
          "name": "stdout",
          "text": [
            "Model: \"model_2\"\n",
            "_________________________________________________________________\n",
            " Layer (type)                Output Shape              Param #   \n",
            "=================================================================\n",
            " inputs (InputLayer)         [(None, 512, 768)]        0         \n",
            "                                                                 \n",
            " conv1d (Conv1D)             (None, 509, 64)           196672    \n",
            "                                                                 \n",
            " max_pooling1d (MaxPooling1D  (None, 1, 64)            0         \n",
            " )                                                               \n",
            "                                                                 \n",
            " flatten (Flatten)           (None, 64)                0         \n",
            "                                                                 \n",
            " dense (Dense)               (None, 1)                 65        \n",
            "                                                                 \n",
            "=================================================================\n",
            "Total params: 196,737\n",
            "Trainable params: 196,737\n",
            "Non-trainable params: 0\n",
            "_________________________________________________________________\n"
          ]
        }
      ]
    },
    {
      "cell_type": "code",
      "source": [
        "embedding_model.fit(\n",
        "    X_train_encajado, \n",
        "    y_train,\n",
        "    #validation_data=([test_input_ids, test_input_masks, test_segment_ids], test_labels), # Implementarlo a veces ayuda al modelo\n",
        "    epochs=100,\n",
        "    batch_size=53\n",
        ")"
      ],
      "metadata": {
        "id": "BLsLyhf2N3Ig",
        "colab": {
          "base_uri": "https://localhost:8080/"
        },
        "outputId": "4e0e9f57-c758-4e78-bc39-9fe1435b57cd"
      },
      "execution_count": 46,
      "outputs": [
        {
          "output_type": "stream",
          "name": "stdout",
          "text": [
            "Epoch 1/100\n",
            "4/4 [==============================] - 3s 89ms/step - loss: 3439.0957 - mae: 57.1479\n",
            "Epoch 2/100\n",
            "4/4 [==============================] - 0s 46ms/step - loss: 1269.2434 - mae: 33.3515\n",
            "Epoch 3/100\n",
            "4/4 [==============================] - 0s 47ms/step - loss: 292.6693 - mae: 13.3551\n",
            "Epoch 4/100\n",
            "4/4 [==============================] - 0s 46ms/step - loss: 217.3889 - mae: 12.3743\n",
            "Epoch 5/100\n",
            "4/4 [==============================] - 0s 51ms/step - loss: 407.8842 - mae: 17.9723\n",
            "Epoch 6/100\n",
            "4/4 [==============================] - 0s 47ms/step - loss: 373.2520 - mae: 17.1793\n",
            "Epoch 7/100\n",
            "4/4 [==============================] - 0s 45ms/step - loss: 215.4966 - mae: 12.5395\n",
            "Epoch 8/100\n",
            "4/4 [==============================] - 0s 48ms/step - loss: 126.5457 - mae: 8.7478\n",
            "Epoch 9/100\n",
            "4/4 [==============================] - 0s 48ms/step - loss: 143.5933 - mae: 8.9525\n",
            "Epoch 10/100\n",
            "4/4 [==============================] - 0s 49ms/step - loss: 156.8503 - mae: 9.3402\n",
            "Epoch 11/100\n",
            "4/4 [==============================] - 0s 46ms/step - loss: 137.5661 - mae: 8.6891\n",
            "Epoch 12/100\n",
            "4/4 [==============================] - 0s 54ms/step - loss: 110.2617 - mae: 7.8363\n",
            "Epoch 13/100\n",
            "4/4 [==============================] - 0s 50ms/step - loss: 102.4870 - mae: 7.8264\n",
            "Epoch 14/100\n",
            "4/4 [==============================] - 0s 50ms/step - loss: 103.0282 - mae: 8.0195\n",
            "Epoch 15/100\n",
            "4/4 [==============================] - 0s 48ms/step - loss: 98.7873 - mae: 7.8210\n",
            "Epoch 16/100\n",
            "4/4 [==============================] - 0s 47ms/step - loss: 91.7080 - mae: 7.4063\n",
            "Epoch 17/100\n",
            "4/4 [==============================] - 0s 52ms/step - loss: 86.3878 - mae: 7.0678\n",
            "Epoch 18/100\n",
            "4/4 [==============================] - 0s 52ms/step - loss: 83.4174 - mae: 6.8675\n",
            "Epoch 19/100\n",
            "4/4 [==============================] - 0s 50ms/step - loss: 80.3091 - mae: 6.7213\n",
            "Epoch 20/100\n",
            "4/4 [==============================] - 0s 49ms/step - loss: 76.7614 - mae: 6.5992\n",
            "Epoch 21/100\n",
            "4/4 [==============================] - 0s 51ms/step - loss: 73.4754 - mae: 6.5085\n",
            "Epoch 22/100\n",
            "4/4 [==============================] - 0s 54ms/step - loss: 70.9292 - mae: 6.4158\n",
            "Epoch 23/100\n",
            "4/4 [==============================] - 0s 50ms/step - loss: 68.4031 - mae: 6.2872\n",
            "Epoch 24/100\n",
            "4/4 [==============================] - 0s 52ms/step - loss: 65.5448 - mae: 6.1333\n",
            "Epoch 25/100\n",
            "4/4 [==============================] - 0s 53ms/step - loss: 63.1777 - mae: 5.9729\n",
            "Epoch 26/100\n",
            "4/4 [==============================] - 0s 51ms/step - loss: 61.0025 - mae: 5.8560\n",
            "Epoch 27/100\n",
            "4/4 [==============================] - 0s 51ms/step - loss: 58.8067 - mae: 5.7568\n",
            "Epoch 28/100\n",
            "4/4 [==============================] - 0s 55ms/step - loss: 57.0781 - mae: 5.7021\n",
            "Epoch 29/100\n",
            "4/4 [==============================] - 0s 54ms/step - loss: 54.5379 - mae: 5.5816\n",
            "Epoch 30/100\n",
            "4/4 [==============================] - 0s 55ms/step - loss: 52.5372 - mae: 5.4514\n",
            "Epoch 31/100\n",
            "4/4 [==============================] - 0s 55ms/step - loss: 50.8640 - mae: 5.3390\n",
            "Epoch 32/100\n",
            "4/4 [==============================] - 0s 55ms/step - loss: 48.9484 - mae: 5.2302\n",
            "Epoch 33/100\n",
            "4/4 [==============================] - 0s 56ms/step - loss: 47.2598 - mae: 5.1466\n",
            "Epoch 34/100\n",
            "4/4 [==============================] - 0s 60ms/step - loss: 45.4521 - mae: 5.0391\n",
            "Epoch 35/100\n",
            "4/4 [==============================] - 0s 49ms/step - loss: 44.0109 - mae: 4.9529\n",
            "Epoch 36/100\n",
            "4/4 [==============================] - 0s 52ms/step - loss: 42.4527 - mae: 4.8608\n",
            "Epoch 37/100\n",
            "4/4 [==============================] - 0s 53ms/step - loss: 41.0687 - mae: 4.7719\n",
            "Epoch 38/100\n",
            "4/4 [==============================] - 0s 55ms/step - loss: 39.6011 - mae: 4.6753\n",
            "Epoch 39/100\n",
            "4/4 [==============================] - 0s 51ms/step - loss: 38.2598 - mae: 4.5752\n",
            "Epoch 40/100\n",
            "4/4 [==============================] - 0s 54ms/step - loss: 37.0730 - mae: 4.4786\n",
            "Epoch 41/100\n",
            "4/4 [==============================] - 0s 54ms/step - loss: 35.6969 - mae: 4.3901\n",
            "Epoch 42/100\n",
            "4/4 [==============================] - 0s 57ms/step - loss: 34.5897 - mae: 4.3265\n",
            "Epoch 43/100\n",
            "4/4 [==============================] - 0s 53ms/step - loss: 33.3128 - mae: 4.2418\n",
            "Epoch 44/100\n",
            "4/4 [==============================] - 0s 54ms/step - loss: 32.1378 - mae: 4.1473\n",
            "Epoch 45/100\n",
            "4/4 [==============================] - 0s 54ms/step - loss: 31.0402 - mae: 4.0535\n",
            "Epoch 46/100\n",
            "4/4 [==============================] - 0s 53ms/step - loss: 30.1885 - mae: 3.9812\n",
            "Epoch 47/100\n",
            "4/4 [==============================] - 0s 59ms/step - loss: 29.0410 - mae: 3.9049\n",
            "Epoch 48/100\n",
            "4/4 [==============================] - 0s 58ms/step - loss: 28.1141 - mae: 3.8271\n",
            "Epoch 49/100\n",
            "4/4 [==============================] - 0s 54ms/step - loss: 27.1809 - mae: 3.7489\n",
            "Epoch 50/100\n",
            "4/4 [==============================] - 0s 53ms/step - loss: 26.2886 - mae: 3.6732\n",
            "Epoch 51/100\n",
            "4/4 [==============================] - 0s 61ms/step - loss: 25.3973 - mae: 3.5983\n",
            "Epoch 52/100\n",
            "4/4 [==============================] - 0s 51ms/step - loss: 24.5489 - mae: 3.5190\n",
            "Epoch 53/100\n",
            "4/4 [==============================] - 0s 58ms/step - loss: 23.8056 - mae: 3.4463\n",
            "Epoch 54/100\n",
            "4/4 [==============================] - 0s 58ms/step - loss: 23.0757 - mae: 3.3835\n",
            "Epoch 55/100\n",
            "4/4 [==============================] - 0s 56ms/step - loss: 22.2783 - mae: 3.3111\n",
            "Epoch 56/100\n",
            "4/4 [==============================] - 0s 58ms/step - loss: 21.9065 - mae: 3.2496\n",
            "Epoch 57/100\n",
            "4/4 [==============================] - 0s 55ms/step - loss: 21.1646 - mae: 3.2025\n",
            "Epoch 58/100\n",
            "4/4 [==============================] - 0s 56ms/step - loss: 20.3246 - mae: 3.1449\n",
            "Epoch 59/100\n",
            "4/4 [==============================] - 0s 55ms/step - loss: 19.8238 - mae: 3.0568\n",
            "Epoch 60/100\n",
            "4/4 [==============================] - 0s 55ms/step - loss: 19.0990 - mae: 2.9703\n",
            "Epoch 61/100\n",
            "4/4 [==============================] - 0s 56ms/step - loss: 18.4825 - mae: 2.9201\n",
            "Epoch 62/100\n",
            "4/4 [==============================] - 0s 56ms/step - loss: 17.9514 - mae: 2.8600\n",
            "Epoch 63/100\n",
            "4/4 [==============================] - 0s 61ms/step - loss: 17.4121 - mae: 2.8023\n",
            "Epoch 64/100\n",
            "4/4 [==============================] - 0s 56ms/step - loss: 17.0449 - mae: 2.7404\n",
            "Epoch 65/100\n",
            "4/4 [==============================] - 0s 56ms/step - loss: 16.4108 - mae: 2.6721\n",
            "Epoch 66/100\n",
            "4/4 [==============================] - 0s 57ms/step - loss: 15.9555 - mae: 2.6321\n",
            "Epoch 67/100\n",
            "4/4 [==============================] - 0s 56ms/step - loss: 15.5522 - mae: 2.5813\n",
            "Epoch 68/100\n",
            "4/4 [==============================] - 0s 53ms/step - loss: 15.1990 - mae: 2.5293\n",
            "Epoch 69/100\n",
            "4/4 [==============================] - 0s 57ms/step - loss: 14.7377 - mae: 2.4677\n",
            "Epoch 70/100\n",
            "4/4 [==============================] - 0s 56ms/step - loss: 14.4347 - mae: 2.4018\n",
            "Epoch 71/100\n",
            "4/4 [==============================] - 0s 52ms/step - loss: 14.0644 - mae: 2.3533\n",
            "Epoch 72/100\n",
            "4/4 [==============================] - 0s 54ms/step - loss: 13.6259 - mae: 2.3254\n",
            "Epoch 73/100\n",
            "4/4 [==============================] - 0s 53ms/step - loss: 13.3251 - mae: 2.2553\n",
            "Epoch 74/100\n",
            "4/4 [==============================] - 0s 56ms/step - loss: 12.9091 - mae: 2.1873\n",
            "Epoch 75/100\n",
            "4/4 [==============================] - 0s 54ms/step - loss: 12.6510 - mae: 2.1495\n",
            "Epoch 76/100\n",
            "4/4 [==============================] - 0s 57ms/step - loss: 12.3035 - mae: 2.1011\n",
            "Epoch 77/100\n",
            "4/4 [==============================] - 0s 53ms/step - loss: 12.1535 - mae: 2.0869\n",
            "Epoch 78/100\n",
            "4/4 [==============================] - 0s 51ms/step - loss: 11.8448 - mae: 2.0441\n",
            "Epoch 79/100\n",
            "4/4 [==============================] - 0s 55ms/step - loss: 11.6087 - mae: 1.9687\n",
            "Epoch 80/100\n",
            "4/4 [==============================] - 0s 58ms/step - loss: 11.4243 - mae: 1.9338\n",
            "Epoch 81/100\n",
            "4/4 [==============================] - 0s 52ms/step - loss: 11.1285 - mae: 1.8798\n",
            "Epoch 82/100\n",
            "4/4 [==============================] - 0s 54ms/step - loss: 10.9215 - mae: 1.8426\n",
            "Epoch 83/100\n",
            "4/4 [==============================] - 0s 53ms/step - loss: 10.7528 - mae: 1.8524\n",
            "Epoch 84/100\n",
            "4/4 [==============================] - 0s 55ms/step - loss: 10.5156 - mae: 1.7878\n",
            "Epoch 85/100\n",
            "4/4 [==============================] - 0s 55ms/step - loss: 10.2521 - mae: 1.7208\n",
            "Epoch 86/100\n",
            "4/4 [==============================] - 0s 54ms/step - loss: 10.0952 - mae: 1.6833\n",
            "Epoch 87/100\n",
            "4/4 [==============================] - 0s 56ms/step - loss: 9.9691 - mae: 1.6557\n",
            "Epoch 88/100\n",
            "4/4 [==============================] - 0s 56ms/step - loss: 9.7918 - mae: 1.6197\n",
            "Epoch 89/100\n",
            "4/4 [==============================] - 0s 57ms/step - loss: 9.6627 - mae: 1.5833\n",
            "Epoch 90/100\n",
            "4/4 [==============================] - 0s 53ms/step - loss: 9.4600 - mae: 1.5497\n",
            "Epoch 91/100\n",
            "4/4 [==============================] - 0s 51ms/step - loss: 9.3604 - mae: 1.5401\n",
            "Epoch 92/100\n",
            "4/4 [==============================] - 0s 55ms/step - loss: 9.3007 - mae: 1.5060\n",
            "Epoch 93/100\n",
            "4/4 [==============================] - 0s 55ms/step - loss: 9.0835 - mae: 1.4582\n",
            "Epoch 94/100\n",
            "4/4 [==============================] - 0s 54ms/step - loss: 8.9572 - mae: 1.4260\n",
            "Epoch 95/100\n",
            "4/4 [==============================] - 0s 54ms/step - loss: 8.8974 - mae: 1.4039\n",
            "Epoch 96/100\n",
            "4/4 [==============================] - 0s 56ms/step - loss: 8.8235 - mae: 1.3791\n",
            "Epoch 97/100\n",
            "4/4 [==============================] - 0s 55ms/step - loss: 8.7139 - mae: 1.3504\n",
            "Epoch 98/100\n",
            "4/4 [==============================] - 0s 57ms/step - loss: 8.6280 - mae: 1.3639\n",
            "Epoch 99/100\n",
            "4/4 [==============================] - 0s 56ms/step - loss: 8.5299 - mae: 1.3070\n",
            "Epoch 100/100\n",
            "4/4 [==============================] - 0s 52ms/step - loss: 8.4458 - mae: 1.2776\n"
          ]
        },
        {
          "output_type": "execute_result",
          "data": {
            "text/plain": [
              "<keras.callbacks.History at 0x7fa2807590d0>"
            ]
          },
          "metadata": {},
          "execution_count": 46
        }
      ]
    },
    {
      "cell_type": "markdown",
      "source": [
        "## Observación de resultados"
      ],
      "metadata": {
        "id": "AmaJIe0P1r77"
      }
    },
    {
      "cell_type": "code",
      "source": [
        "y_pred = embedding_model.predict(encaje(X_test_tensor))"
      ],
      "metadata": {
        "id": "aA0C2NuLdDq_",
        "colab": {
          "base_uri": "https://localhost:8080/"
        },
        "outputId": "e1651be8-c9fe-4f64-b0b4-9e7840c8a35b"
      },
      "execution_count": 47,
      "outputs": [
        {
          "output_type": "stream",
          "name": "stdout",
          "text": [
            "2/2 [==============================] - 0s 37ms/step\n"
          ]
        }
      ]
    },
    {
      "cell_type": "code",
      "source": [
        "y_train_pred = embedding_model.predict(X_train_encajado)"
      ],
      "metadata": {
        "id": "3OxymRvEeBGU",
        "colab": {
          "base_uri": "https://localhost:8080/"
        },
        "outputId": "b2aef648-2745-4569-8057-b53f0430302e"
      },
      "execution_count": 48,
      "outputs": [
        {
          "output_type": "stream",
          "name": "stdout",
          "text": [
            "7/7 [==============================] - 0s 24ms/step\n"
          ]
        }
      ]
    },
    {
      "cell_type": "markdown",
      "source": [
        "## MSE"
      ],
      "metadata": {
        "id": "0GL-bIfe1vnL"
      }
    },
    {
      "cell_type": "markdown",
      "source": [
        "En datos de entrenamiento"
      ],
      "metadata": {
        "id": "83p-yOPP1yK4"
      }
    },
    {
      "cell_type": "code",
      "source": [
        "((np.array(y_train) - y_train_pred.reshape(1,-1))**2/len(y_pred)).sum()"
      ],
      "metadata": {
        "id": "gheIca4Gd8Rq",
        "colab": {
          "base_uri": "https://localhost:8080/"
        },
        "outputId": "a40dfa80-3db4-4841-aafb-b7dfe1dfed9e"
      },
      "execution_count": 49,
      "outputs": [
        {
          "output_type": "execute_result",
          "data": {
            "text/plain": [
              "32.47121408571273"
            ]
          },
          "metadata": {},
          "execution_count": 49
        }
      ]
    },
    {
      "cell_type": "markdown",
      "source": [
        "En datos de prueba"
      ],
      "metadata": {
        "id": "GCQP-ZbN1zrT"
      }
    },
    {
      "cell_type": "code",
      "source": [
        "((np.array(y_test) - y_pred.reshape(1,-1))**2/len(y_pred)).sum()"
      ],
      "metadata": {
        "id": "0y5Wu4RudTxC",
        "colab": {
          "base_uri": "https://localhost:8080/"
        },
        "outputId": "e780d824-61c7-4bd9-8590-7cf835fc7c0d"
      },
      "execution_count": 50,
      "outputs": [
        {
          "output_type": "execute_result",
          "data": {
            "text/plain": [
              "145.45856611003697"
            ]
          },
          "metadata": {},
          "execution_count": 50
        }
      ]
    },
    {
      "cell_type": "markdown",
      "source": [
        "## Ejemplos de la salida del modelo"
      ],
      "metadata": {
        "id": "fGk_-wEm12v9"
      }
    },
    {
      "cell_type": "code",
      "source": [
        "y_train[:10]"
      ],
      "metadata": {
        "id": "MI7adXihgGU7",
        "colab": {
          "base_uri": "https://localhost:8080/"
        },
        "outputId": "2cd7a181-b44f-41fe-f5f4-f012039fb7b2"
      },
      "execution_count": 51,
      "outputs": [
        {
          "output_type": "execute_result",
          "data": {
            "text/plain": [
              "179    58.0\n",
              "115    72.0\n",
              "96     68.0\n",
              "233    60.0\n",
              "60     72.0\n",
              "16     53.0\n",
              "55     62.0\n",
              "148    70.0\n",
              "196    87.0\n",
              "228    59.0\n",
              "Name: meanSalary, dtype: float64"
            ]
          },
          "metadata": {},
          "execution_count": 51
        }
      ]
    },
    {
      "cell_type": "code",
      "source": [
        "y_train_pred[:10]"
      ],
      "metadata": {
        "id": "QSoyjIFLdPxR",
        "colab": {
          "base_uri": "https://localhost:8080/"
        },
        "outputId": "392bdbab-153e-4091-da48-1c609bc66d7a"
      },
      "execution_count": 52,
      "outputs": [
        {
          "output_type": "execute_result",
          "data": {
            "text/plain": [
              "array([[59.09215 ],\n",
              "       [79.0668  ],\n",
              "       [68.332565],\n",
              "       [60.901463],\n",
              "       [61.28603 ],\n",
              "       [53.23388 ],\n",
              "       [68.02306 ],\n",
              "       [70.06055 ],\n",
              "       [86.98196 ],\n",
              "       [61.56065 ]], dtype=float32)"
            ]
          },
          "metadata": {},
          "execution_count": 52
        }
      ]
    },
    {
      "cell_type": "code",
      "source": [
        "y_test[:10]"
      ],
      "metadata": {
        "id": "F2Hugvi0h_Kc",
        "colab": {
          "base_uri": "https://localhost:8080/"
        },
        "outputId": "2f64dc58-e3b5-48d5-ae9c-3f2f7d421c0b"
      },
      "execution_count": 53,
      "outputs": [
        {
          "output_type": "execute_result",
          "data": {
            "text/plain": [
              "248     67.0\n",
              "215     59.0\n",
              "194     85.0\n",
              "168     59.0\n",
              "66      71.0\n",
              "137     70.0\n",
              "175     59.0\n",
              "260    102.0\n",
              "9       54.0\n",
              "114     66.0\n",
              "Name: meanSalary, dtype: float64"
            ]
          },
          "metadata": {},
          "execution_count": 53
        }
      ]
    },
    {
      "cell_type": "code",
      "source": [
        "y_pred[:10]"
      ],
      "metadata": {
        "id": "kUY54HB_i9VI",
        "colab": {
          "base_uri": "https://localhost:8080/"
        },
        "outputId": "a09bd0b5-224e-4f5f-8eba-07b3c17fb601"
      },
      "execution_count": 54,
      "outputs": [
        {
          "output_type": "execute_result",
          "data": {
            "text/plain": [
              "array([[65.39146 ],\n",
              "       [69.83902 ],\n",
              "       [67.98754 ],\n",
              "       [67.633865],\n",
              "       [64.875145],\n",
              "       [64.209114],\n",
              "       [66.58167 ],\n",
              "       [76.623405],\n",
              "       [60.912495],\n",
              "       [67.92795 ]], dtype=float32)"
            ]
          },
          "metadata": {},
          "execution_count": 54
        }
      ]
    },
    {
      "cell_type": "markdown",
      "source": [
        "# Ejercicio:\n",
        "\n",
        "- Ejecutar el agoritmo pero ahora utilizar la columna de 'Job Title', ¿Qué notan?"
      ],
      "metadata": {
        "id": "OeF_cVgYFJw4"
      }
    },
    {
      "cell_type": "markdown",
      "source": [
        "# Enlaces de interes\n",
        "\n",
        "- Tutorial a BERT: https://colab.research.google.com/drive/1yFphU6PW9Uo6lmDly_ud9a6c4RCYlwdX#scrollTo=Mq2PKplWfbFv"
      ],
      "metadata": {
        "id": "MjowHq2k8ebh"
      }
    }
  ]
}