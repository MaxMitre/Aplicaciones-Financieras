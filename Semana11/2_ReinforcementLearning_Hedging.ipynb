{
  "cells": [
    {
      "cell_type": "markdown",
      "source": [
        "[![Open In Colab](https://colab.research.google.com/assets/colab-badge.svg)](https://colab.research.google.com/github/MaxMitre/Aplicaciones-Financieras/blob/main/Semana11/2_ReinforcementLearning_Hedging.ipynb)\n"
      ],
      "metadata": {
        "id": "bsmNyfaiLGXb"
      }
    },
    {
      "cell_type": "markdown",
      "source": [
        "# Reinforcement Learning (Aprendizaje por refuerzo) - Hedging en opciones"
      ],
      "metadata": {
        "id": "LgzsbunkPt3q"
      }
    },
    {
      "cell_type": "markdown",
      "source": [
        "Se realizarán las simulaciones de 3 millones de trayectorias como posibles movimientos de un activo que serán calculados utilizando la fórmula de Black-Scholes (a veces conocida como Black-Scholes-Merton) y con esto se entrenará un agente de aprendizaje por refuerzo."
      ],
      "metadata": {
        "id": "7VMpFWsMDo9K"
      }
    },
    {
      "cell_type": "markdown",
      "source": [
        "# Dependencias"
      ],
      "metadata": {
        "id": "XjYeio_xaF5n"
      }
    },
    {
      "cell_type": "code",
      "execution_count": null,
      "metadata": {
        "id": "-dsbufATU_5E"
      },
      "outputs": [],
      "source": [
        "import numpy as np\n",
        "from scipy.stats import norm\n",
        "import random\n",
        "import matplotlib.pyplot as plt\n",
        "import pandas as pd\n",
        "\n",
        "from tqdm.notebook import tqdm\n",
        "\n",
        "n = norm.pdf\n",
        "N = norm.cdf"
      ]
    },
    {
      "cell_type": "code",
      "source": [
        "from google.colab import drive\n",
        "drive.mount('/content/drive')"
      ],
      "metadata": {
        "id": "32ZsfrDbcEUE",
        "colab": {
          "base_uri": "https://localhost:8080/"
        },
        "outputId": "224f41bc-36f5-4f08-f5bc-0e0fce4fdaea"
      },
      "execution_count": null,
      "outputs": [
        {
          "output_type": "stream",
          "name": "stdout",
          "text": [
            "Mounted at /content/drive\n"
          ]
        }
      ]
    },
    {
      "cell_type": "code",
      "source": [
        "# Ejemplo de la función auxiliar\n",
        "total = 0\n",
        "for i in tqdm(range(10000000)):\n",
        "  total += 1"
      ],
      "metadata": {
        "colab": {
          "base_uri": "https://localhost:8080/",
          "height": 49,
          "referenced_widgets": [
            "62518041369140fc84f9c36f6e6eb4ca",
            "7fbb65c2a2af4e8abcf866d6d0706aab",
            "ab77444ff6974af09d227a857b24e47f",
            "330d91a8739e4286901d0c7b357469a3",
            "120b0daa15e54c0db002e7a2f18821f8",
            "f6295ca5b262466e91349002db90d65e",
            "6fe2b96414904ca6aa444c974f3b549b",
            "094b60f1d7324463aff4dd2c054782b6",
            "748db880e49548cbabbb53f62cb1f842",
            "9ae1b63fcbfa4c47a045f1fbfc618af3",
            "43ee293a44dd4b33bce8e37a3fafa362"
          ]
        },
        "id": "dU3d65hNJw5s",
        "outputId": "a5a4c2c0-5db1-452c-d851-31b09f9d9071"
      },
      "execution_count": null,
      "outputs": [
        {
          "output_type": "display_data",
          "data": {
            "text/plain": [
              "  0%|          | 0/10000000 [00:00<?, ?it/s]"
            ],
            "application/vnd.jupyter.widget-view+json": {
              "version_major": 2,
              "version_minor": 0,
              "model_id": "62518041369140fc84f9c36f6e6eb4ca"
            }
          },
          "metadata": {}
        }
      ]
    },
    {
      "cell_type": "markdown",
      "source": [
        "# Funciones Auxiliares"
      ],
      "metadata": {
        "id": "kk74pvlkaIyV"
      }
    },
    {
      "cell_type": "code",
      "execution_count": null,
      "metadata": {
        "id": "CNgbEvC0U_5H"
      },
      "outputs": [],
      "source": [
        "# Para la simulación de las trayectorias de la acción utilizando Black-Scholes\n",
        "def brownian_sim(num_path, num_period, mu, std, init_p, dt):\n",
        "    z = np.random.normal(size=(num_path, num_period))\n",
        "\n",
        "    a_price = np.zeros((num_path, num_period))\n",
        "    a_price[:, 0] = init_p\n",
        "\n",
        "    for t in range(num_period - 1):\n",
        "        a_price[:, t+1] = a_price[:, t] * np.exp(\n",
        "            (mu - (std ** 2) / 2) * dt + std * np.sqrt(dt) * z[:, t]\n",
        "        )\n",
        "    return a_price\n",
        "\n",
        "# Función para la valuación de Opciones (Call) y cálculo de Delta usando Black-Scholes\n",
        "# T es el tiempo de madurez anualizado\n",
        "def bs_parameter(v, T, S, K, r, q):\n",
        "    np.seterr(divide='ignore', invalid='ignore')\n",
        "    d1 = (np.log(S / K) + (r - q + v * v / 2) * T) / (v * np.sqrt(T))\n",
        "    d2 = d1 - v * np.sqrt(T)\n",
        "    bs_price = S * np.exp(-q * T) * norm.cdf(d1) - K * np.exp(-r * T) * norm.cdf(d2)\n",
        "    bs_delta = np.exp(-q * T) * norm.cdf(d1)\n",
        "    return bs_price, bs_delta\n"
      ]
    },
    {
      "cell_type": "code",
      "execution_count": null,
      "metadata": {
        "id": "P3cejy7_U_5I"
      },
      "outputs": [],
      "source": [
        "# Define el numero de trayectorias generadas para entrenamiento y prueba\n",
        "TRAINING_SAMPLE = 3000000 # 3,000K \n",
        "TESTING_SAMPLE = 100000 # 100K\n",
        "\n",
        "# Características del activo subyacente\n",
        "# Retorno anual de la acción\n",
        "MU = 0\n",
        "# Volatilidad anual\n",
        "VOL = 0.2\n",
        "# Valor inicial del activo\n",
        "S = 100\n",
        "# Retorno anual ofrecido por un activo con cero riesgo (Risk Free Rate)\n",
        "R = 0\n",
        "# Dividendos anuales\n",
        "DIVIDEND = 0\n",
        "# Días al año para compra-venta (trading)\n",
        "T = 250\n",
        "\n",
        "# Características de la Opción Call\n",
        "# Precio acordado en la Opción (Strike)\n",
        "K = 100\n",
        "# Tiempo de madurez de la opción\n",
        "M = 10\n",
        "# Número de posiciones posibles[de 0 a 10] (estado)\n",
        "N_POSITION = 11\n",
        "# Número de acciones posibles [de -5 a 5]\n",
        "N_ACTION = 11\n",
        "\n",
        "# Costo por 'Trading', medido porcentualmente\n",
        "TRADING_COST = 0\n",
        "\n",
        "# Definición de variables para aprendizaje por refuerzo\n",
        "# Constante para la función de recompensa\n",
        "constant = 1\n",
        "# epsilon mínimo\n",
        "MIN_e = 0.05\n",
        "# epsilon inicial\n",
        "e = 1\n",
        "# Decaimiento temporal\n",
        "DECAY = 0.999999\n",
        "\n",
        "# Parámetros para actualizar Q\n",
        "ALPHA = 0.01\n",
        "\n",
        "# Escoger el número de estados para el precio de la acción. Los precios se redondean al entero mas cercano.\n",
        "# Precios mayores o iguales a 107 son tomados como el mismo estado\n",
        "# Precios menores o iguales a 93 son tomados como el mismo estado\n",
        "STOCK_PRICE_STATE = 15"
      ]
    },
    {
      "cell_type": "code",
      "execution_count": null,
      "metadata": {
        "id": "6NDde-FmU_5J"
      },
      "outputs": [],
      "source": [
        "# Avance de tiempo por día\n",
        "dt = 1/T\n",
        "\n",
        "# Serie para el tiempo de madurez de la opción\n",
        "ttm = np.arange(M,-1, -1)"
      ]
    },
    {
      "cell_type": "code",
      "execution_count": null,
      "metadata": {
        "id": "4qy44wfqU_5K"
      },
      "outputs": [],
      "source": [
        "# Inicializa Q con valores cero para los pares estado-decisión (acción)\n",
        "q = np.zeros((M+1,STOCK_PRICE_STATE,N_POSITION,N_ACTION))"
      ]
    },
    {
      "cell_type": "code",
      "source": [
        "# Las dimensions representan: Madurez, Precio de activo, Estado de Hedge, Acción a tomar\n",
        "q.shape"
      ],
      "metadata": {
        "id": "rNG9L0NWbpoD",
        "colab": {
          "base_uri": "https://localhost:8080/"
        },
        "outputId": "23bdc1b2-883e-4a67-c058-a4a1cce0dfbf"
      },
      "execution_count": null,
      "outputs": [
        {
          "output_type": "execute_result",
          "data": {
            "text/plain": [
              "(11, 15, 11, 11)"
            ]
          },
          "metadata": {},
          "execution_count": 13
        }
      ]
    },
    {
      "cell_type": "code",
      "source": [
        "# Acciones a tomar cuando\n",
        "# El tiempo de madurez llegó a 10, el precio del activo es 100 (la posición del 7) y posee 8 opciones\n",
        "q[10,7,8]"
      ],
      "metadata": {
        "colab": {
          "base_uri": "https://localhost:8080/"
        },
        "id": "P7vWkC1sRarl",
        "outputId": "aec451f3-ee4a-45cb-a82a-9c81e7c8e144"
      },
      "execution_count": null,
      "outputs": [
        {
          "output_type": "execute_result",
          "data": {
            "text/plain": [
              "array([0., 0., 0., 0., 0., 0., 0., 0., 0., 0., 0.])"
            ]
          },
          "metadata": {},
          "execution_count": 14
        }
      ]
    },
    {
      "cell_type": "markdown",
      "source": [
        "# Fase de entrenamiento"
      ],
      "metadata": {
        "id": "fUFvGkYAc18R"
      }
    },
    {
      "cell_type": "code",
      "source": [
        "# Solo para mejorar visualmente\n",
        "np.set_printoptions(suppress=True)"
      ],
      "metadata": {
        "id": "ea8N4D8WeIcR"
      },
      "execution_count": null,
      "outputs": []
    },
    {
      "cell_type": "code",
      "source": [
        "# Simulación de trayectorias y cálculo de parámetros BS para fase de entrenamiento\n",
        "price_table = brownian_sim(TRAINING_SAMPLE,M+1, MU, VOL, S, dt)\n",
        "call_price_table, delta_table = bs_parameter(VOL, ttm / T, price_table, K,R, DIVIDEND)\n",
        "print(\"Simulación de trayectorias de activos y calculo de parámetros BS completados\")"
      ],
      "metadata": {
        "id": "wFI4RVQRdFae",
        "colab": {
          "base_uri": "https://localhost:8080/"
        },
        "outputId": "37180648-89fa-4558-9651-cf27733a81dc"
      },
      "execution_count": null,
      "outputs": [
        {
          "output_type": "stream",
          "name": "stdout",
          "text": [
            "Simulación de trayectorias de activos y calculo de parámetros BS completados\n"
          ]
        }
      ]
    },
    {
      "cell_type": "code",
      "source": [
        "price_table.shape"
      ],
      "metadata": {
        "id": "KeqsZhbBmdJe",
        "outputId": "df481789-8c20-41da-df36-82a7b331ba75",
        "colab": {
          "base_uri": "https://localhost:8080/"
        }
      },
      "execution_count": null,
      "outputs": [
        {
          "output_type": "execute_result",
          "data": {
            "text/plain": [
              "(3000000, 11)"
            ]
          },
          "metadata": {},
          "execution_count": 17
        }
      ]
    },
    {
      "cell_type": "code",
      "source": [
        "# Varios caminos (puede ser uno solo cambiando el rango)\n",
        "for i in range(500):\n",
        "  plt.plot(price_table[i,:])"
      ],
      "metadata": {
        "id": "vMxTeBc8mnHH",
        "outputId": "f5ed9765-14a0-43b5-de4f-8b38bc1cb1b5",
        "colab": {
          "base_uri": "https://localhost:8080/",
          "height": 265
        }
      },
      "execution_count": null,
      "outputs": [
        {
          "output_type": "display_data",
          "data": {
            "text/plain": [
              "<Figure size 432x288 with 1 Axes>"
            ],
            "image/png": "[encoded data removed]"
          },
          "metadata": {
            "needs_background": "light"
          }
        }
      ]
    },
    {
      "cell_type": "code",
      "source": [
        "# Podremos ver el elemento j-ésimo de la tabla de precios, precio del call, etc\n",
        "j=11"
      ],
      "metadata": {
        "id": "Zy8UvzEQd5s5"
      },
      "execution_count": null,
      "outputs": []
    },
    {
      "cell_type": "code",
      "source": [
        "price_table[j]"
      ],
      "metadata": {
        "id": "v8NKWupOdvSj",
        "colab": {
          "base_uri": "https://localhost:8080/"
        },
        "outputId": "61d7e162-5b23-4249-b782-23e9cab9a448"
      },
      "execution_count": null,
      "outputs": [
        {
          "output_type": "execute_result",
          "data": {
            "text/plain": [
              "array([100.        ,  99.75893832,  98.84657002,  98.59279463,\n",
              "        99.03860433,  99.69092483, 100.01251003, 100.06442191,\n",
              "        99.48097011,  98.69561539,  99.4046212 ])"
            ]
          },
          "metadata": {},
          "execution_count": 29
        }
      ]
    },
    {
      "cell_type": "code",
      "source": [
        "call_price_table[j]"
      ],
      "metadata": {
        "id": "VvAlsCskdMeL",
        "colab": {
          "base_uri": "https://localhost:8080/"
        },
        "outputId": "838d2608-3a46-4eeb-ff19-9a363473a8ce"
      },
      "execution_count": null,
      "outputs": [
        {
          "output_type": "execute_result",
          "data": {
            "text/plain": [
              "array([1.59566274, 1.39448998, 0.91622431, 0.7391625 , 0.8086939 ,\n",
              "       0.97880024, 1.01555658, 0.90689144, 0.48217889, 0.09733814,\n",
              "       0.        ])"
            ]
          },
          "metadata": {},
          "execution_count": 30
        }
      ]
    },
    {
      "cell_type": "code",
      "source": [
        "delta_table[j]"
      ],
      "metadata": {
        "id": "t3mU3tspdzGA",
        "colab": {
          "base_uri": "https://localhost:8080/"
        },
        "outputId": "adbbee7e-862f-4735-8b2a-39ffb1925be1"
      },
      "execution_count": null,
      "outputs": [
        {
          "output_type": "execute_result",
          "data": {
            "text/plain": [
              "array([0.50797831, 0.48220177, 0.37965818, 0.3421008 , 0.38350112,\n",
              "       0.46203761, 0.50701856, 0.51609273, 0.38898792, 0.15111418,\n",
              "       0.        ])"
            ]
          },
          "metadata": {},
          "execution_count": 31
        }
      ]
    },
    {
      "cell_type": "code",
      "source": [
        "# Redondeo de los precios de activo y convertirlos a los 15 diferentes estados\n",
        "# [<=93,94,95,96, ... 103,104,105,106, >= 107] - > [0,1,2,3,4,5,....12,13,14,15]\n",
        "price_state_table = np.round(price_table).astype(int)\n",
        "price_state_table = np.where(price_state_table < 93, 93, price_state_table)\n",
        "price_state_table = np.where(price_state_table > 107, 107, price_state_table)\n",
        "price_state_table = price_state_table - 93"
      ],
      "metadata": {
        "id": "cLBU2gg_fM53"
      },
      "execution_count": null,
      "outputs": []
    },
    {
      "cell_type": "code",
      "source": [
        "price_table[1]"
      ],
      "metadata": {
        "colab": {
          "base_uri": "https://localhost:8080/"
        },
        "id": "77-DiKGngBr3",
        "outputId": "adb2ac66-9851-4db5-a180-d8a783fc1283"
      },
      "execution_count": null,
      "outputs": [
        {
          "output_type": "execute_result",
          "data": {
            "text/plain": [
              "array([100.        , 101.79250464, 100.7859197 , 101.03592162,\n",
              "       102.39563811, 102.34395077, 103.17602788, 104.3561921 ,\n",
              "       103.71821864, 102.49594843, 101.60939105])"
            ]
          },
          "metadata": {},
          "execution_count": 34
        }
      ]
    },
    {
      "cell_type": "code",
      "source": [
        "price_state_table[1]"
      ],
      "metadata": {
        "colab": {
          "base_uri": "https://localhost:8080/"
        },
        "id": "ZlHKN0bbTSo3",
        "outputId": "0d893831-1f01-4507-e755-7caf67f7a7d5"
      },
      "execution_count": null,
      "outputs": [
        {
          "output_type": "execute_result",
          "data": {
            "text/plain": [
              "array([ 7,  9,  8,  8,  9,  9, 10, 11, 11,  9,  9])"
            ]
          },
          "metadata": {},
          "execution_count": 33
        }
      ]
    },
    {
      "cell_type": "code",
      "execution_count": null,
      "metadata": {
        "scrolled": true,
        "id": "J7QO1ZM4U_5K",
        "outputId": "49876f61-281a-4a3d-803f-8c9de316e6ab",
        "colab": {
          "base_uri": "https://localhost:8080/",
          "height": 66,
          "referenced_widgets": [
            "bfc5fbec8fa24d788c2d66a261031ae2",
            "0c94135615c64d8199b615932de4e2aa",
            "13ed915607a14684b1ed5157aae8ba81",
            "78d7935dd1904a6abf6ba1eb208da3ea",
            "3b965bb0fee14a628d5be2ec0d95064f",
            "4e2e9bd821bf41bb85dd1a1b5a95f656",
            "88d6268025ea409aabdc25dd67573441",
            "8ee14cacfc2146b7bdc3bb2e791278ff",
            "ac9380c9d0004407b22b8d190a3c55d1",
            "85ba321b9ab4425cb5372c9ee726daec",
            "ea407e317bce4f4599d2f73344f44222"
          ]
        }
      },
      "outputs": [
        {
          "output_type": "stream",
          "name": "stdout",
          "text": [
            "Entrenamiento en proceso:\n"
          ]
        },
        {
          "output_type": "display_data",
          "data": {
            "text/plain": [
              "  0%|          | 0/3000000 [00:00<?, ?it/s]"
            ],
            "application/vnd.jupyter.widget-view+json": {
              "version_major": 2,
              "version_minor": 0,
              "model_id": "bfc5fbec8fa24d788c2d66a261031ae2"
            }
          },
          "metadata": {}
        }
      ],
      "source": [
        "print(\"Entrenamiento en proceso:\")\n",
        "\n",
        "for i in tqdm(range(len(price_table))):\n",
        "\n",
        "    asset_price = price_table[i]\n",
        "    price_state = price_state_table[i]\n",
        "    bscall = call_price_table[i]\n",
        "    position = 0\n",
        "    position_list = np.empty(0, dtype=int)\n",
        "    reward_list = np.empty(0, dtype=int)\n",
        "    action_list = np.empty(0, dtype=int)\n",
        "    total_reward = np.empty(0, dtype=int)\n",
        "    \n",
        "    # El agente ve el estado\n",
        "    # El agente toma una desicion\n",
        "    # Se actualiza la Q\n",
        "    # Se calcula la recompensa\n",
        "    # Se repite el ciclo\n",
        "\n",
        "    for t in range(M):\n",
        "        if np.random.rand() <= e:\n",
        "            # Aplicamos EXPLORACIÓN\n",
        "            # Note que el rango de las acciones está entre vender 5 shares y comprar 5 shares\n",
        "            # Por eso aquí se restan 5 a la acción tomada\n",
        "            action = random.randrange(0,N_ACTION) - 5\n",
        "        else:\n",
        "            # EXPLOTACIÓN\n",
        "            # Asumimos que en el tiempo 0 el agente tiene 0 shares\n",
        "            if t == 0: \n",
        "                lookup_position = 0\n",
        "            \n",
        "            else:\n",
        "                lookup_position = position_list[t-1]\n",
        "            # Si se activa 'explotación', encuentra el mínimo valor no-cero en Q\n",
        "            # Se usa un 'try' porque el agente puede llegar a un estado no visitado antes y ahi todos los valores de Q son ceros\n",
        "            # Si el agente llega a un estado en que nunca ha estado antes, se toma una acción al azar\n",
        "            try:\n",
        "                action = np.where(q[t][price_state[t]][lookup_position]==np.min(q[t][price_state[t]][lookup_position][np.nonzero(q[t][price_state[t]][lookup_position])]))[0][0] - 5 \n",
        "            except:\n",
        "                action = random.randrange(0,N_ACTION) - 5\n",
        "        \n",
        "        # Obligando al agente a que solo tenga entre 0 y 10 shares\n",
        "        if position + action >10:\n",
        "            action = 10 - position\n",
        "            new_position = 10\n",
        "        elif position + action <0:\n",
        "            action = -position\n",
        "            new_position = 0             \n",
        "        else:\n",
        "            new_position = action + position\n",
        "        \n",
        "        # Condicional para calcular el costo por transacción (cuando no es cero) Nota: Cuando se quiere encontrar delta para delta hedging, el costo por transacción es 0\n",
        "        # Si t es un día antes de la fecha de madurez, se cobra un extra por venderlos al final del periodo\n",
        "        if t == M-1:\n",
        "            transaction_cost = (asset_price[t]*abs(new_position - position)*TRADING_COST + new_position*asset_price[t+1]*TRADING_COST)\n",
        "        else:\n",
        "            transaction_cost = (asset_price[t]*abs(new_position - position)*TRADING_COST)\n",
        "        \n",
        "        # La Recompensa se calcula como\n",
        "        # PNL es una formulación en la que el hedge se calcula en cada etapa\n",
        "        # expected hedging cost + constant * variance of total pnl from hedging.\n",
        "        \n",
        "        # Buscando delta, la recompensa es minimizando la varianza de P&L total del caso de hedging\n",
        "        # La constante se toma 1 para el caso de buscar delta.\n",
        "        reward = transaction_cost + constant * (transaction_cost-(asset_price[t+1] - asset_price[t])*new_position+10*(bscall[t+1] - bscall[t]))**2\n",
        "        \n",
        "        position_list= np.append(position_list,new_position)\n",
        "        position = new_position\n",
        "        action_list = np.append(action_list,action)\n",
        "        reward_list = np.append(reward_list,reward)\n",
        "        \n",
        "\n",
        "    position_list = np.append(position_list,0)\n",
        "    action_list = np.append(action_list,0)\n",
        "    total_reward  = np.append(total_reward,sum(reward_list))\n",
        "    \n",
        "    # Convierte la lista de acciones de -5 a 5 en la de 0 a 10, la tabla empieza con el índice 0\n",
        "    # Es decir: índice 0 en la tabla significa acción = -5 e índice 10 en tabla significa acción = 5\n",
        "    action_list = action_list + 5\n",
        "    \n",
        "    # Actualizar Q\n",
        "    for t in range(M):\n",
        "        if t == 0: \n",
        "            lookup_position = 0\n",
        "        else:\n",
        "            lookup_position = position_list[t-1]\n",
        "        qnew = reward_list[t] + q[t+1][price_state[t+1]][position_list[t]][action_list[t+1]]\n",
        "        q[t][price_state[t]][lookup_position][action_list[t]] = q[t][price_state[t]][lookup_position][action_list[t]] + ALPHA * (qnew - q[t][price_state[t]][lookup_position][action_list[t]]) \n",
        "    \n",
        "    # Decae con el tiempo (epsilon) para que el agente se vuela mas propenso a usar EXPLOTACIÓN\n",
        "    if e > MIN_e:\n",
        "        e = e * DECAY\n",
        "\n",
        "# Save Q at the end after training \n",
        "np.save('/content/drive/MyDrive/Cruso-ApsFinancieras/semana10/Q_RL_Hedging',q)"
      ]
    },
    {
      "cell_type": "markdown",
      "source": [
        "# Fase de pruebas\n",
        "\n",
        "Aquí el agente ya no está interesado en aprender, solo en llevar a cabo la mejor decisión posible\n"
      ],
      "metadata": {
        "id": "VIf4fwG9c4rg"
      }
    },
    {
      "cell_type": "code",
      "source": [
        "# Cargar Q de entrenamiento\n",
        "q = np.load('/content/drive/MyDrive/Cruso-ApsFinancieras/semana10/Q_RL_Hedging.npy')  "
      ],
      "metadata": {
        "id": "MHqdGC4OjH96"
      },
      "execution_count": null,
      "outputs": []
    },
    {
      "cell_type": "code",
      "source": [
        "#  Recordando: q = np.zeros((M+1,STOCK_PRICE_STATE,N_POSITION,N_ACTION))\n",
        "q[6,7,8]"
      ],
      "metadata": {
        "colab": {
          "base_uri": "https://localhost:8080/"
        },
        "id": "Zqg3yYm4WJsq",
        "outputId": "41ba1d43-21ea-4bbf-843d-e918f54f6061"
      },
      "execution_count": null,
      "outputs": [
        {
          "output_type": "execute_result",
          "data": {
            "text/plain": [
              "array([40.80862832, 39.24473278, 22.39081942, 33.48699001, 43.84386014,\n",
              "       47.08214959, 54.06652766, 61.16308845,  0.        ,  0.        ,\n",
              "        0.        ])"
            ]
          },
          "metadata": {},
          "execution_count": 45
        }
      ]
    },
    {
      "cell_type": "code",
      "source": [
        "# Simulación de trayectorias y cálculo de parámetros BS para fase de entrenamiento de pruebas\n",
        "price_table = brownian_sim(TESTING_SAMPLE,M+1, MU, VOL, S, dt)\n",
        "call_price_table, delta_table = bs_parameter(VOL, ttm / T, price_table, K,R, DIVIDEND)"
      ],
      "metadata": {
        "id": "DmTY-sGQjK_T"
      },
      "execution_count": null,
      "outputs": []
    },
    {
      "cell_type": "code",
      "source": [
        "# Redondear delta al primer decimal mas cercano\n",
        "rounded_delta = np.round(delta_table*100/10,0).astype(int)\n",
        "print(\"Simulación de trayectorias de activos y calculo de parámetros BS completados\")\n",
        "\n",
        "# Redondeo de los precios de activo y convertirlos a los 15 diferentes estados\n",
        "# [<=93,94,95,96, ... 103,104,105,106, >= 107] - > [0,1,2,3,4,5,....12,13,14,15]\n",
        "price_state_table = np.round(price_table).astype(int)\n",
        "price_state_table = np.where(price_state_table < 93, 93, price_state_table)\n",
        "price_state_table = np.where(price_state_table > 107, 107, price_state_table)\n",
        "price_state_table = price_state_table - 93"
      ],
      "metadata": {
        "id": "IXQtISYpjP3W",
        "colab": {
          "base_uri": "https://localhost:8080/"
        },
        "outputId": "87f88804-e647-4bc4-f7cc-a84dd289e1ea"
      },
      "execution_count": null,
      "outputs": [
        {
          "output_type": "stream",
          "name": "stdout",
          "text": [
            "Simulación de trayectorias de activos y calculo de parámetros BS completados\n"
          ]
        }
      ]
    },
    {
      "cell_type": "code",
      "source": [
        "rounded_delta"
      ],
      "metadata": {
        "id": "mETLiRN0yYBR",
        "colab": {
          "base_uri": "https://localhost:8080/"
        },
        "outputId": "be83ea4e-571d-412d-e903-7795cbc27eaf"
      },
      "execution_count": null,
      "outputs": [
        {
          "output_type": "execute_result",
          "data": {
            "text/plain": [
              "array([[ 5,  5,  5, ...,  7,  9, 10],\n",
              "       [ 5,  6,  7, ..., 10, 10, 10],\n",
              "       [ 5,  6,  6, ...,  6,  2,  0],\n",
              "       ...,\n",
              "       [ 5,  5,  6, ..., 10,  8, 10],\n",
              "       [ 5,  6,  6, ...,  0,  0,  0],\n",
              "       [ 5,  4,  7, ...,  9,  9, 10]])"
            ]
          },
          "metadata": {},
          "execution_count": 41
        }
      ]
    },
    {
      "cell_type": "code",
      "source": [
        "delta_table"
      ],
      "metadata": {
        "id": "TycH3edByb1L",
        "colab": {
          "base_uri": "https://localhost:8080/"
        },
        "outputId": "7550ff47-2428-452d-b2a2-fe0e43fdac1a"
      },
      "execution_count": null,
      "outputs": [
        {
          "output_type": "execute_result",
          "data": {
            "text/plain": [
              "array([[0.50797831, 0.48940611, 0.48574233, ..., 0.74634955, 0.86038218,\n",
              "        1.        ],\n",
              "       [0.50797831, 0.57672958, 0.67505172, ..., 0.99998636, 0.99972125,\n",
              "        1.        ],\n",
              "       [0.50797831, 0.63582475, 0.5905305 , ..., 0.55586301, 0.18277354,\n",
              "        0.        ],\n",
              "       ...,\n",
              "       [0.50797831, 0.48848194, 0.59613828, ..., 0.97419426, 0.80734936,\n",
              "        1.        ],\n",
              "       [0.50797831, 0.6268029 , 0.64033319, ..., 0.02470376, 0.02684331,\n",
              "        0.        ],\n",
              "       [0.50797831, 0.36361328, 0.67940835, ..., 0.92848297, 0.91899807,\n",
              "        1.        ]])"
            ]
          },
          "metadata": {},
          "execution_count": 42
        }
      ]
    },
    {
      "cell_type": "code",
      "execution_count": null,
      "metadata": {
        "id": "vhgPLlF8U_5M",
        "colab": {
          "base_uri": "https://localhost:8080/",
          "height": 292,
          "referenced_widgets": [
            "3cfccf33e15f41249eafa480984a34b4",
            "51c272a58803480c96d80b776d4c8054",
            "9e381892a6e549fdaf26f1a6a66d523d",
            "c66a5266c97b436b94b152ebf4a3c7f0",
            "c5357de9757c4750892c667710b0578c",
            "8ab5c1d798de4cc5aa464a721ba66d38",
            "8e0bc61278dd4e29bcf36efa95b22738",
            "60b24547bd8c47259cd924eb9978534e",
            "c75187a32d80414f83bd307ee4fa5bb2",
            "ae141880c4614a1e9060ec1995787a44",
            "2d18b216151545be9cb52473bf5f73a8"
          ]
        },
        "outputId": "6ad345e1-1ca3-4548-9a4c-cb3c2655dc1a"
      },
      "outputs": [
        {
          "output_type": "stream",
          "name": "stdout",
          "text": [
            "Test is in progress:\n"
          ]
        },
        {
          "output_type": "display_data",
          "data": {
            "text/plain": [
              "  0%|          | 0/100000 [00:00<?, ?it/s]"
            ],
            "application/vnd.jupyter.widget-view+json": {
              "version_major": 2,
              "version_minor": 0,
              "model_id": "3cfccf33e15f41249eafa480984a34b4"
            }
          },
          "metadata": {}
        },
        {
          "output_type": "stream",
          "name": "stdout",
          "text": [
            "\n",
            " Estadísticas de Reinforcement Learning Hedging:\n",
            " RL E(C): -0.0007930113544737348\n",
            " RL var(C): 23.167843180501055\n",
            " RL std(C): 4.8132985758730005\n",
            "\n",
            " Estadísticas de Delta Hedging:\n",
            " Delta E(C): 0.010879503973943943\n",
            " Delta var(C): 18.93618124232253\n",
            " Delta std(C): 4.351572272446194\n",
            "\n",
            " Diferencia en la posición:\n",
            " Diferencia absoluta promedio entre la position de DH y RLH: 0.360587\n"
          ]
        }
      ],
      "source": [
        "total_rl_reward = np.empty(0, dtype=int)\n",
        "total_dh_reward = np.empty(0, dtype=int)\n",
        "all_shares_pnl = np.empty(shape=(TESTING_SAMPLE, len(ttm)-1))\n",
        "all_call_option_pnl = np.empty(shape=(TESTING_SAMPLE, len(ttm)-1))\n",
        "abs_deviation = list()\n",
        "\n",
        "print(\"Test is in progress:\")\n",
        "for i in tqdm(range(len(price_table))):\n",
        "    \n",
        "    rl_position = 0\n",
        "    dh_position = 0\n",
        "    asset_price = price_table[i]\n",
        "    price_state = price_state_table[i]\n",
        "    bscall = call_price_table[i]\n",
        "    bsdelta = rounded_delta[i]\n",
        "    position_list = np.empty(0, dtype=int)\n",
        "    rl_reward_list = np.empty(0, dtype=int)\n",
        "    dh_reward_list = np.empty(0, dtype=int)\n",
        "    action_list = np.empty(0, dtype=int)\n",
        "    shares_pnl = np.empty(0, dtype=int)\n",
        "    call_option_pnl = np.empty(0, dtype=int)\n",
        "    \n",
        "    for t in range(M):\n",
        "        \n",
        "        # Posición a mantener si el agente aplicará Delta Hedging\n",
        "        new_dh_position = bsdelta[t]\n",
        "        \n",
        "        # Asumimos que en el tiempo 0 el agente tiene 0 shares\n",
        "        if t == 0: \n",
        "            lookup_position = 0\n",
        "        else:\n",
        "            lookup_position = position_list[t-1]\n",
        "        \n",
        "        # Escoge acción encontrando el mínimo valor no cero en la tabla Q\n",
        "        # Usar el try porque puede que el agente haya llegado a una posición no antes vista.\n",
        "        # Si eso sucede, el agente no intercambia shares de ninguna manera        \n",
        "        try:\n",
        "            rl_action = np.where(q[t][price_state[t]][lookup_position]==np.min(q[t][price_state[t]][lookup_position][np.nonzero(q[t][price_state[t]][lookup_position])]))[0][0] - 5 \n",
        "        except:\n",
        "            rl_action = 0\n",
        "        \n",
        "        # Obligamos al agente a mantener shares entre 0 y 10\n",
        "        if rl_position + rl_action >10:\n",
        "            rl_action = 10 - rl_position\n",
        "            new_rl_position = 10\n",
        "        elif rl_position + rl_action <0:\n",
        "            rl_action = -rl_position\n",
        "            new_rl_position = 0\n",
        "\n",
        "        else:\n",
        "            new_rl_position = rl_action + rl_position \n",
        "        \n",
        "        # Calculamos el P&L periodo a periodo para ambos casos: Delta Hedge y Renforcement Learning Hedging\n",
        "        if t == M-1:\n",
        "            rl_transaction_cost = (asset_price[t]*abs(new_rl_position - rl_position)*TRADING_COST + new_rl_position*asset_price[t+1]*TRADING_COST)\n",
        "            dh_transaction_cost = (asset_price[t]*abs(new_dh_position - dh_position)*TRADING_COST + new_dh_position*asset_price[t+1]*TRADING_COST)\n",
        "        else:\n",
        "            rl_transaction_cost = (asset_price[t]*abs(new_rl_position - rl_position)*TRADING_COST)\n",
        "            dh_transaction_cost = (asset_price[t]*abs(new_dh_position - dh_position)*TRADING_COST)\n",
        "        \n",
        "        \n",
        "        call_option_pnl = np.append(call_option_pnl,10*(bscall[t+1] - bscall[t]))\n",
        "        shares_pnl = np.append(shares_pnl, (asset_price[t+1] - asset_price[t])*new_rl_position)\n",
        "        rl_reward = rl_transaction_cost - (asset_price[t+1] - asset_price[t])*new_rl_position+10*(bscall[t+1] - bscall[t])\n",
        "        dh_reward = dh_transaction_cost - (asset_price[t+1] - asset_price[t])*new_dh_position+10*(bscall[t+1] - bscall[t])\n",
        "    \n",
        "        \n",
        "        position_list= np.append(position_list,new_rl_position)\n",
        "        action_list = np.append(action_list,rl_action)\n",
        "        rl_position = new_rl_position\n",
        "        dh_position = new_dh_position\n",
        "        rl_reward_list = np.append(rl_reward_list,rl_reward)\n",
        "        dh_reward_list = np.append(dh_reward_list,dh_reward)\n",
        "    \n",
        "    abs_deviation = np.append(abs_deviation,sum(abs(bsdelta[:-1]-position_list))/10)    \n",
        "    position_list = np.append(position_list,0)\n",
        "    action_list = np.append(action_list,0) \n",
        "    total_rl_reward = np.append(total_rl_reward,sum(rl_reward_list))\n",
        "    total_dh_reward = np.append(total_dh_reward,sum(dh_reward_list))\n",
        "    all_shares_pnl[i,:] = shares_pnl\n",
        "    all_call_option_pnl[i,:]  = call_option_pnl\n",
        "    \n",
        "print('\\n Estadísticas de Reinforcement Learning Hedging:')\n",
        "print(' RL E(C):', np.average(total_rl_reward))\n",
        "print(' RL var(C):', np.var(total_rl_reward))\n",
        "print(' RL std(C):', np.std(total_rl_reward))\n",
        "\n",
        "print('\\n Estadísticas de Delta Hedging:')\n",
        "print(' Delta E(C):', np.average(total_dh_reward))\n",
        "print(' Delta var(C):', np.var(total_dh_reward))\n",
        "print(' Delta std(C):', np.std(total_dh_reward))\n",
        "\n",
        "print('\\n Diferencia en la posición:')\n",
        "print(' Diferencia absoluta promedio entre la position de DH y RLH:', np.average(abs_deviation))\n"
      ]
    },
    {
      "cell_type": "code",
      "execution_count": null,
      "metadata": {
        "id": "hcFOhAGnU_5N",
        "colab": {
          "base_uri": "https://localhost:8080/",
          "height": 283
        },
        "outputId": "42f4922c-219d-46dc-8283-711d8d60e3a2"
      },
      "outputs": [
        {
          "output_type": "display_data",
          "data": {
            "text/plain": [
              "<Figure size 432x288 with 1 Axes>"
            ],
            "image/png": "[encoded data removed]"
          },
          "metadata": {
            "needs_background": "light"
          }
        }
      ],
      "source": [
        "# Visualización de P&L para la última trayectoria en datos de prueba (test)\n",
        "\n",
        "df=pd.DataFrame({'Time to Maturity': ttm[1:], 'Call Option pnl': -all_call_option_pnl[-1,:], 'Shares pnl': all_shares_pnl[-1,:], 'RL Holdings': position_list[:-1], 'Delta': bsdelta[:-1]})\n",
        " \n",
        "# Plot de multiples lineas\n",
        "plt.plot( 'Time to Maturity', 'Call Option pnl', data=df, marker='', color='skyblue', linewidth=4)\n",
        "plt.plot( 'Time to Maturity', 'Shares pnl', data=df, marker='', color='olive', linewidth=4)\n",
        "plt.plot( 'Time to Maturity', 'RL Holdings', data=df, marker='', color='green', linewidth=4, linestyle='dashed')\n",
        "plt.plot( 'Time to Maturity', 'Delta', data=df, marker='', color='red', linewidth=4, linestyle='dashed')\n",
        "\n",
        "# Etiquetas\n",
        "plt.legend()\n",
        "plt.legend(['Call Option pnl', 'Shares pnl', 'RL Holdings in previous period', 'Delta in previous period'], loc='upper left')\n",
        "\n",
        "# Límites en los ejes\n",
        "plt.xlim(10,0)\n",
        "plt.ylim(-30,30)\n",
        "plt.xlim(10,0)\n",
        "\n",
        "# Etiqueta de imagen\n",
        "plt.ylabel('PnL / Holdings')\n",
        "plt.xlabel('Tiempo de madurez')\n",
        "\n",
        "plt.show()"
      ]
    },
    {
      "cell_type": "markdown",
      "source": [
        "# Ejercicios"
      ],
      "metadata": {
        "id": "78Js91Eyy4D0"
      }
    },
    {
      "cell_type": "markdown",
      "source": [
        "- ¿Que pasa al modificar la variable TRADING_COST? \n",
        "- ¿Modificarían el DECAY de epsilon de alguna manera?\n"
      ],
      "metadata": {
        "id": "VqIEIQjzvKv_"
      }
    },
    {
      "cell_type": "markdown",
      "source": [
        "# Referencias \n",
        "\n",
        "- http://www-2.rotman.utoronto.ca/~hull/downloadablepublications/RL_Deep_Hedging.pdf"
      ],
      "metadata": {
        "id": "rVi7XxglYpO5"
      }
    }
  ],
  "metadata": {
    "kernelspec": {
      "display_name": "Python 3",
      "language": "python",
      "name": "python3"
    },
    "language_info": {
      "codemirror_mode": {
        "name": "ipython",
        "version": 3
      },
      "file_extension": ".py",
      "mimetype": "text/x-python",
      "name": "python",
      "nbconvert_exporter": "python",
      "pygments_lexer": "ipython3",
      "version": "3.7.6"
    },
    "colab": {
      "provenance": []
    },
    "widgets": {
      "application/vnd.jupyter.widget-state+json": {
        "62518041369140fc84f9c36f6e6eb4ca": {
          "model_module": "@jupyter-widgets/controls",
          "model_name": "HBoxModel",
          "model_module_version": "1.5.0",
          "state": {
            "_dom_classes": [],
            "_model_module": "@jupyter-widgets/controls",
            "_model_module_version": "1.5.0",
            "_model_name": "HBoxModel",
            "_view_count": null,
            "_view_module": "@jupyter-widgets/controls",
            "_view_module_version": "1.5.0",
            "_view_name": "HBoxView",
            "box_style": "",
            "children": [
              "IPY_MODEL_7fbb65c2a2af4e8abcf866d6d0706aab",
              "IPY_MODEL_ab77444ff6974af09d227a857b24e47f",
              "IPY_MODEL_330d91a8739e4286901d0c7b357469a3"
            ],
            "layout": "IPY_MODEL_120b0daa15e54c0db002e7a2f18821f8"
          }
        },
        "7fbb65c2a2af4e8abcf866d6d0706aab": {
          "model_module": "@jupyter-widgets/controls",
          "model_name": "HTMLModel",
          "model_module_version": "1.5.0",
          "state": {
            "_dom_classes": [],
            "_model_module": "@jupyter-widgets/controls",
            "_model_module_version": "1.5.0",
            "_model_name": "HTMLModel",
            "_view_count": null,
            "_view_module": "@jupyter-widgets/controls",
            "_view_module_version": "1.5.0",
            "_view_name": "HTMLView",
            "description": "",
            "description_tooltip": null,
            "layout": "IPY_MODEL_f6295ca5b262466e91349002db90d65e",
            "placeholder": "​",
            "style": "IPY_MODEL_6fe2b96414904ca6aa444c974f3b549b",
            "value": "100%"
          }
        },
        "ab77444ff6974af09d227a857b24e47f": {
          "model_module": "@jupyter-widgets/controls",
          "model_name": "FloatProgressModel",
          "model_module_version": "1.5.0",
          "state": {
            "_dom_classes": [],
            "_model_module": "@jupyter-widgets/controls",
            "_model_module_version": "1.5.0",
            "_model_name": "FloatProgressModel",
            "_view_count": null,
            "_view_module": "@jupyter-widgets/controls",
            "_view_module_version": "1.5.0",
            "_view_name": "ProgressView",
            "bar_style": "success",
            "description": "",
            "description_tooltip": null,
            "layout": "IPY_MODEL_094b60f1d7324463aff4dd2c054782b6",
            "max": 10000000,
            "min": 0,
            "orientation": "horizontal",
            "style": "IPY_MODEL_748db880e49548cbabbb53f62cb1f842",
            "value": 10000000
          }
        },
        "330d91a8739e4286901d0c7b357469a3": {
          "model_module": "@jupyter-widgets/controls",
          "model_name": "HTMLModel",
          "model_module_version": "1.5.0",
          "state": {
            "_dom_classes": [],
            "_model_module": "@jupyter-widgets/controls",
            "_model_module_version": "1.5.0",
            "_model_name": "HTMLModel",
            "_view_count": null,
            "_view_module": "@jupyter-widgets/controls",
            "_view_module_version": "1.5.0",
            "_view_name": "HTMLView",
            "description": "",
            "description_tooltip": null,
            "layout": "IPY_MODEL_9ae1b63fcbfa4c47a045f1fbfc618af3",
            "placeholder": "​",
            "style": "IPY_MODEL_43ee293a44dd4b33bce8e37a3fafa362",
            "value": " 10000000/10000000 [00:03&lt;00:00, 2978845.51it/s]"
          }
        },
        "120b0daa15e54c0db002e7a2f18821f8": {
          "model_module": "@jupyter-widgets/base",
          "model_name": "LayoutModel",
          "model_module_version": "1.2.0",
          "state": {
            "_model_module": "@jupyter-widgets/base",
            "_model_module_version": "1.2.0",
            "_model_name": "LayoutModel",
            "_view_count": null,
            "_view_module": "@jupyter-widgets/base",
            "_view_module_version": "1.2.0",
            "_view_name": "LayoutView",
            "align_content": null,
            "align_items": null,
            "align_self": null,
            "border": null,
            "bottom": null,
            "display": null,
            "flex": null,
            "flex_flow": null,
            "grid_area": null,
            "grid_auto_columns": null,
            "grid_auto_flow": null,
            "grid_auto_rows": null,
            "grid_column": null,
            "grid_gap": null,
            "grid_row": null,
            "grid_template_areas": null,
            "grid_template_columns": null,
            "grid_template_rows": null,
            "height": null,
            "justify_content": null,
            "justify_items": null,
            "left": null,
            "margin": null,
            "max_height": null,
            "max_width": null,
            "min_height": null,
            "min_width": null,
            "object_fit": null,
            "object_position": null,
            "order": null,
            "overflow": null,
            "overflow_x": null,
            "overflow_y": null,
            "padding": null,
            "right": null,
            "top": null,
            "visibility": null,
            "width": null
          }
        },
        "f6295ca5b262466e91349002db90d65e": {
          "model_module": "@jupyter-widgets/base",
          "model_name": "LayoutModel",
          "model_module_version": "1.2.0",
          "state": {
            "_model_module": "@jupyter-widgets/base",
            "_model_module_version": "1.2.0",
            "_model_name": "LayoutModel",
            "_view_count": null,
            "_view_module": "@jupyter-widgets/base",
            "_view_module_version": "1.2.0",
            "_view_name": "LayoutView",
            "align_content": null,
            "align_items": null,
            "align_self": null,
            "border": null,
            "bottom": null,
            "display": null,
            "flex": null,
            "flex_flow": null,
            "grid_area": null,
            "grid_auto_columns": null,
            "grid_auto_flow": null,
            "grid_auto_rows": null,
            "grid_column": null,
            "grid_gap": null,
            "grid_row": null,
            "grid_template_areas": null,
            "grid_template_columns": null,
            "grid_template_rows": null,
            "height": null,
            "justify_content": null,
            "justify_items": null,
            "left": null,
            "margin": null,
            "max_height": null,
            "max_width": null,
            "min_height": null,
            "min_width": null,
            "object_fit": null,
            "object_position": null,
            "order": null,
            "overflow": null,
            "overflow_x": null,
            "overflow_y": null,
            "padding": null,
            "right": null,
            "top": null,
            "visibility": null,
            "width": null
          }
        },
        "6fe2b96414904ca6aa444c974f3b549b": {
          "model_module": "@jupyter-widgets/controls",
          "model_name": "DescriptionStyleModel",
          "model_module_version": "1.5.0",
          "state": {
            "_model_module": "@jupyter-widgets/controls",
            "_model_module_version": "1.5.0",
            "_model_name": "DescriptionStyleModel",
            "_view_count": null,
            "_view_module": "@jupyter-widgets/base",
            "_view_module_version": "1.2.0",
            "_view_name": "StyleView",
            "description_width": ""
          }
        },
        "094b60f1d7324463aff4dd2c054782b6": {
          "model_module": "@jupyter-widgets/base",
          "model_name": "LayoutModel",
          "model_module_version": "1.2.0",
          "state": {
            "_model_module": "@jupyter-widgets/base",
            "_model_module_version": "1.2.0",
            "_model_name": "LayoutModel",
            "_view_count": null,
            "_view_module": "@jupyter-widgets/base",
            "_view_module_version": "1.2.0",
            "_view_name": "LayoutView",
            "align_content": null,
            "align_items": null,
            "align_self": null,
            "border": null,
            "bottom": null,
            "display": null,
            "flex": null,
            "flex_flow": null,
            "grid_area": null,
            "grid_auto_columns": null,
            "grid_auto_flow": null,
            "grid_auto_rows": null,
            "grid_column": null,
            "grid_gap": null,
            "grid_row": null,
            "grid_template_areas": null,
            "grid_template_columns": null,
            "grid_template_rows": null,
            "height": null,
            "justify_content": null,
            "justify_items": null,
            "left": null,
            "margin": null,
            "max_height": null,
            "max_width": null,
            "min_height": null,
            "min_width": null,
            "object_fit": null,
            "object_position": null,
            "order": null,
            "overflow": null,
            "overflow_x": null,
            "overflow_y": null,
            "padding": null,
            "right": null,
            "top": null,
            "visibility": null,
            "width": null
          }
        },
        "748db880e49548cbabbb53f62cb1f842": {
          "model_module": "@jupyter-widgets/controls",
          "model_name": "ProgressStyleModel",
          "model_module_version": "1.5.0",
          "state": {
            "_model_module": "@jupyter-widgets/controls",
            "_model_module_version": "1.5.0",
            "_model_name": "ProgressStyleModel",
            "_view_count": null,
            "_view_module": "@jupyter-widgets/base",
            "_view_module_version": "1.2.0",
            "_view_name": "StyleView",
            "bar_color": null,
            "description_width": ""
          }
        },
        "9ae1b63fcbfa4c47a045f1fbfc618af3": {
          "model_module": "@jupyter-widgets/base",
          "model_name": "LayoutModel",
          "model_module_version": "1.2.0",
          "state": {
            "_model_module": "@jupyter-widgets/base",
            "_model_module_version": "1.2.0",
            "_model_name": "LayoutModel",
            "_view_count": null,
            "_view_module": "@jupyter-widgets/base",
            "_view_module_version": "1.2.0",
            "_view_name": "LayoutView",
            "align_content": null,
            "align_items": null,
            "align_self": null,
            "border": null,
            "bottom": null,
            "display": null,
            "flex": null,
            "flex_flow": null,
            "grid_area": null,
            "grid_auto_columns": null,
            "grid_auto_flow": null,
            "grid_auto_rows": null,
            "grid_column": null,
            "grid_gap": null,
            "grid_row": null,
            "grid_template_areas": null,
            "grid_template_columns": null,
            "grid_template_rows": null,
            "height": null,
            "justify_content": null,
            "justify_items": null,
            "left": null,
            "margin": null,
            "max_height": null,
            "max_width": null,
            "min_height": null,
            "min_width": null,
            "object_fit": null,
            "object_position": null,
            "order": null,
            "overflow": null,
            "overflow_x": null,
            "overflow_y": null,
            "padding": null,
            "right": null,
            "top": null,
            "visibility": null,
            "width": null
          }
        },
        "43ee293a44dd4b33bce8e37a3fafa362": {
          "model_module": "@jupyter-widgets/controls",
          "model_name": "DescriptionStyleModel",
          "model_module_version": "1.5.0",
          "state": {
            "_model_module": "@jupyter-widgets/controls",
            "_model_module_version": "1.5.0",
            "_model_name": "DescriptionStyleModel",
            "_view_count": null,
            "_view_module": "@jupyter-widgets/base",
            "_view_module_version": "1.2.0",
            "_view_name": "StyleView",
            "description_width": ""
          }
        },
        "bfc5fbec8fa24d788c2d66a261031ae2": {
          "model_module": "@jupyter-widgets/controls",
          "model_name": "HBoxModel",
          "model_module_version": "1.5.0",
          "state": {
            "_dom_classes": [],
            "_model_module": "@jupyter-widgets/controls",
            "_model_module_version": "1.5.0",
            "_model_name": "HBoxModel",
            "_view_count": null,
            "_view_module": "@jupyter-widgets/controls",
            "_view_module_version": "1.5.0",
            "_view_name": "HBoxView",
            "box_style": "",
            "children": [
              "IPY_MODEL_0c94135615c64d8199b615932de4e2aa",
              "IPY_MODEL_13ed915607a14684b1ed5157aae8ba81",
              "IPY_MODEL_78d7935dd1904a6abf6ba1eb208da3ea"
            ],
            "layout": "IPY_MODEL_3b965bb0fee14a628d5be2ec0d95064f"
          }
        },
        "0c94135615c64d8199b615932de4e2aa": {
          "model_module": "@jupyter-widgets/controls",
          "model_name": "HTMLModel",
          "model_module_version": "1.5.0",
          "state": {
            "_dom_classes": [],
            "_model_module": "@jupyter-widgets/controls",
            "_model_module_version": "1.5.0",
            "_model_name": "HTMLModel",
            "_view_count": null,
            "_view_module": "@jupyter-widgets/controls",
            "_view_module_version": "1.5.0",
            "_view_name": "HTMLView",
            "description": "",
            "description_tooltip": null,
            "layout": "IPY_MODEL_4e2e9bd821bf41bb85dd1a1b5a95f656",
            "placeholder": "​",
            "style": "IPY_MODEL_88d6268025ea409aabdc25dd67573441",
            "value": "100%"
          }
        },
        "13ed915607a14684b1ed5157aae8ba81": {
          "model_module": "@jupyter-widgets/controls",
          "model_name": "FloatProgressModel",
          "model_module_version": "1.5.0",
          "state": {
            "_dom_classes": [],
            "_model_module": "@jupyter-widgets/controls",
            "_model_module_version": "1.5.0",
            "_model_name": "FloatProgressModel",
            "_view_count": null,
            "_view_module": "@jupyter-widgets/controls",
            "_view_module_version": "1.5.0",
            "_view_name": "ProgressView",
            "bar_style": "success",
            "description": "",
            "description_tooltip": null,
            "layout": "IPY_MODEL_8ee14cacfc2146b7bdc3bb2e791278ff",
            "max": 3000000,
            "min": 0,
            "orientation": "horizontal",
            "style": "IPY_MODEL_ac9380c9d0004407b22b8d190a3c55d1",
            "value": 3000000
          }
        },
        "78d7935dd1904a6abf6ba1eb208da3ea": {
          "model_module": "@jupyter-widgets/controls",
          "model_name": "HTMLModel",
          "model_module_version": "1.5.0",
          "state": {
            "_dom_classes": [],
            "_model_module": "@jupyter-widgets/controls",
            "_model_module_version": "1.5.0",
            "_model_name": "HTMLModel",
            "_view_count": null,
            "_view_module": "@jupyter-widgets/controls",
            "_view_module_version": "1.5.0",
            "_view_name": "HTMLView",
            "description": "",
            "description_tooltip": null,
            "layout": "IPY_MODEL_85ba321b9ab4425cb5372c9ee726daec",
            "placeholder": "​",
            "style": "IPY_MODEL_ea407e317bce4f4599d2f73344f44222",
            "value": " 3000000/3000000 [28:03&lt;00:00, 2065.52it/s]"
          }
        },
        "3b965bb0fee14a628d5be2ec0d95064f": {
          "model_module": "@jupyter-widgets/base",
          "model_name": "LayoutModel",
          "model_module_version": "1.2.0",
          "state": {
            "_model_module": "@jupyter-widgets/base",
            "_model_module_version": "1.2.0",
            "_model_name": "LayoutModel",
            "_view_count": null,
            "_view_module": "@jupyter-widgets/base",
            "_view_module_version": "1.2.0",
            "_view_name": "LayoutView",
            "align_content": null,
            "align_items": null,
            "align_self": null,
            "border": null,
            "bottom": null,
            "display": null,
            "flex": null,
            "flex_flow": null,
            "grid_area": null,
            "grid_auto_columns": null,
            "grid_auto_flow": null,
            "grid_auto_rows": null,
            "grid_column": null,
            "grid_gap": null,
            "grid_row": null,
            "grid_template_areas": null,
            "grid_template_columns": null,
            "grid_template_rows": null,
            "height": null,
            "justify_content": null,
            "justify_items": null,
            "left": null,
            "margin": null,
            "max_height": null,
            "max_width": null,
            "min_height": null,
            "min_width": null,
            "object_fit": null,
            "object_position": null,
            "order": null,
            "overflow": null,
            "overflow_x": null,
            "overflow_y": null,
            "padding": null,
            "right": null,
            "top": null,
            "visibility": null,
            "width": null
          }
        },
        "4e2e9bd821bf41bb85dd1a1b5a95f656": {
          "model_module": "@jupyter-widgets/base",
          "model_name": "LayoutModel",
          "model_module_version": "1.2.0",
          "state": {
            "_model_module": "@jupyter-widgets/base",
            "_model_module_version": "1.2.0",
            "_model_name": "LayoutModel",
            "_view_count": null,
            "_view_module": "@jupyter-widgets/base",
            "_view_module_version": "1.2.0",
            "_view_name": "LayoutView",
            "align_content": null,
            "align_items": null,
            "align_self": null,
            "border": null,
            "bottom": null,
            "display": null,
            "flex": null,
            "flex_flow": null,
            "grid_area": null,
            "grid_auto_columns": null,
            "grid_auto_flow": null,
            "grid_auto_rows": null,
            "grid_column": null,
            "grid_gap": null,
            "grid_row": null,
            "grid_template_areas": null,
            "grid_template_columns": null,
            "grid_template_rows": null,
            "height": null,
            "justify_content": null,
            "justify_items": null,
            "left": null,
            "margin": null,
            "max_height": null,
            "max_width": null,
            "min_height": null,
            "min_width": null,
            "object_fit": null,
            "object_position": null,
            "order": null,
            "overflow": null,
            "overflow_x": null,
            "overflow_y": null,
            "padding": null,
            "right": null,
            "top": null,
            "visibility": null,
            "width": null
          }
        },
        "88d6268025ea409aabdc25dd67573441": {
          "model_module": "@jupyter-widgets/controls",
          "model_name": "DescriptionStyleModel",
          "model_module_version": "1.5.0",
          "state": {
            "_model_module": "@jupyter-widgets/controls",
            "_model_module_version": "1.5.0",
            "_model_name": "DescriptionStyleModel",
            "_view_count": null,
            "_view_module": "@jupyter-widgets/base",
            "_view_module_version": "1.2.0",
            "_view_name": "StyleView",
            "description_width": ""
          }
        },
        "8ee14cacfc2146b7bdc3bb2e791278ff": {
          "model_module": "@jupyter-widgets/base",
          "model_name": "LayoutModel",
          "model_module_version": "1.2.0",
          "state": {
            "_model_module": "@jupyter-widgets/base",
            "_model_module_version": "1.2.0",
            "_model_name": "LayoutModel",
            "_view_count": null,
            "_view_module": "@jupyter-widgets/base",
            "_view_module_version": "1.2.0",
            "_view_name": "LayoutView",
            "align_content": null,
            "align_items": null,
            "align_self": null,
            "border": null,
            "bottom": null,
            "display": null,
            "flex": null,
            "flex_flow": null,
            "grid_area": null,
            "grid_auto_columns": null,
            "grid_auto_flow": null,
            "grid_auto_rows": null,
            "grid_column": null,
            "grid_gap": null,
            "grid_row": null,
            "grid_template_areas": null,
            "grid_template_columns": null,
            "grid_template_rows": null,
            "height": null,
            "justify_content": null,
            "justify_items": null,
            "left": null,
            "margin": null,
            "max_height": null,
            "max_width": null,
            "min_height": null,
            "min_width": null,
            "object_fit": null,
            "object_position": null,
            "order": null,
            "overflow": null,
            "overflow_x": null,
            "overflow_y": null,
            "padding": null,
            "right": null,
            "top": null,
            "visibility": null,
            "width": null
          }
        },
        "ac9380c9d0004407b22b8d190a3c55d1": {
          "model_module": "@jupyter-widgets/controls",
          "model_name": "ProgressStyleModel",
          "model_module_version": "1.5.0",
          "state": {
            "_model_module": "@jupyter-widgets/controls",
            "_model_module_version": "1.5.0",
            "_model_name": "ProgressStyleModel",
            "_view_count": null,
            "_view_module": "@jupyter-widgets/base",
            "_view_module_version": "1.2.0",
            "_view_name": "StyleView",
            "bar_color": null,
            "description_width": ""
          }
        },
        "85ba321b9ab4425cb5372c9ee726daec": {
          "model_module": "@jupyter-widgets/base",
          "model_name": "LayoutModel",
          "model_module_version": "1.2.0",
          "state": {
            "_model_module": "@jupyter-widgets/base",
            "_model_module_version": "1.2.0",
            "_model_name": "LayoutModel",
            "_view_count": null,
            "_view_module": "@jupyter-widgets/base",
            "_view_module_version": "1.2.0",
            "_view_name": "LayoutView",
            "align_content": null,
            "align_items": null,
            "align_self": null,
            "border": null,
            "bottom": null,
            "display": null,
            "flex": null,
            "flex_flow": null,
            "grid_area": null,
            "grid_auto_columns": null,
            "grid_auto_flow": null,
            "grid_auto_rows": null,
            "grid_column": null,
            "grid_gap": null,
            "grid_row": null,
            "grid_template_areas": null,
            "grid_template_columns": null,
            "grid_template_rows": null,
            "height": null,
            "justify_content": null,
            "justify_items": null,
            "left": null,
            "margin": null,
            "max_height": null,
            "max_width": null,
            "min_height": null,
            "min_width": null,
            "object_fit": null,
            "object_position": null,
            "order": null,
            "overflow": null,
            "overflow_x": null,
            "overflow_y": null,
            "padding": null,
            "right": null,
            "top": null,
            "visibility": null,
            "width": null
          }
        },
        "ea407e317bce4f4599d2f73344f44222": {
          "model_module": "@jupyter-widgets/controls",
          "model_name": "DescriptionStyleModel",
          "model_module_version": "1.5.0",
          "state": {
            "_model_module": "@jupyter-widgets/controls",
            "_model_module_version": "1.5.0",
            "_model_name": "DescriptionStyleModel",
            "_view_count": null,
            "_view_module": "@jupyter-widgets/base",
            "_view_module_version": "1.2.0",
            "_view_name": "StyleView",
            "description_width": ""
          }
        },
        "3cfccf33e15f41249eafa480984a34b4": {
          "model_module": "@jupyter-widgets/controls",
          "model_name": "HBoxModel",
          "model_module_version": "1.5.0",
          "state": {
            "_dom_classes": [],
            "_model_module": "@jupyter-widgets/controls",
            "_model_module_version": "1.5.0",
            "_model_name": "HBoxModel",
            "_view_count": null,
            "_view_module": "@jupyter-widgets/controls",
            "_view_module_version": "1.5.0",
            "_view_name": "HBoxView",
            "box_style": "",
            "children": [
              "IPY_MODEL_51c272a58803480c96d80b776d4c8054",
              "IPY_MODEL_9e381892a6e549fdaf26f1a6a66d523d",
              "IPY_MODEL_c66a5266c97b436b94b152ebf4a3c7f0"
            ],
            "layout": "IPY_MODEL_c5357de9757c4750892c667710b0578c"
          }
        },
        "51c272a58803480c96d80b776d4c8054": {
          "model_module": "@jupyter-widgets/controls",
          "model_name": "HTMLModel",
          "model_module_version": "1.5.0",
          "state": {
            "_dom_classes": [],
            "_model_module": "@jupyter-widgets/controls",
            "_model_module_version": "1.5.0",
            "_model_name": "HTMLModel",
            "_view_count": null,
            "_view_module": "@jupyter-widgets/controls",
            "_view_module_version": "1.5.0",
            "_view_name": "HTMLView",
            "description": "",
            "description_tooltip": null,
            "layout": "IPY_MODEL_8ab5c1d798de4cc5aa464a721ba66d38",
            "placeholder": "​",
            "style": "IPY_MODEL_8e0bc61278dd4e29bcf36efa95b22738",
            "value": "100%"
          }
        },
        "9e381892a6e549fdaf26f1a6a66d523d": {
          "model_module": "@jupyter-widgets/controls",
          "model_name": "FloatProgressModel",
          "model_module_version": "1.5.0",
          "state": {
            "_dom_classes": [],
            "_model_module": "@jupyter-widgets/controls",
            "_model_module_version": "1.5.0",
            "_model_name": "FloatProgressModel",
            "_view_count": null,
            "_view_module": "@jupyter-widgets/controls",
            "_view_module_version": "1.5.0",
            "_view_name": "ProgressView",
            "bar_style": "success",
            "description": "",
            "description_tooltip": null,
            "layout": "IPY_MODEL_60b24547bd8c47259cd924eb9978534e",
            "max": 100000,
            "min": 0,
            "orientation": "horizontal",
            "style": "IPY_MODEL_c75187a32d80414f83bd307ee4fa5bb2",
            "value": 100000
          }
        },
        "c66a5266c97b436b94b152ebf4a3c7f0": {
          "model_module": "@jupyter-widgets/controls",
          "model_name": "HTMLModel",
          "model_module_version": "1.5.0",
          "state": {
            "_dom_classes": [],
            "_model_module": "@jupyter-widgets/controls",
            "_model_module_version": "1.5.0",
            "_model_name": "HTMLModel",
            "_view_count": null,
            "_view_module": "@jupyter-widgets/controls",
            "_view_module_version": "1.5.0",
            "_view_name": "HTMLView",
            "description": "",
            "description_tooltip": null,
            "layout": "IPY_MODEL_ae141880c4614a1e9060ec1995787a44",
            "placeholder": "​",
            "style": "IPY_MODEL_2d18b216151545be9cb52473bf5f73a8",
            "value": " 100000/100000 [01:29&lt;00:00, 724.19it/s]"
          }
        },
        "c5357de9757c4750892c667710b0578c": {
          "model_module": "@jupyter-widgets/base",
          "model_name": "LayoutModel",
          "model_module_version": "1.2.0",
          "state": {
            "_model_module": "@jupyter-widgets/base",
            "_model_module_version": "1.2.0",
            "_model_name": "LayoutModel",
            "_view_count": null,
            "_view_module": "@jupyter-widgets/base",
            "_view_module_version": "1.2.0",
            "_view_name": "LayoutView",
            "align_content": null,
            "align_items": null,
            "align_self": null,
            "border": null,
            "bottom": null,
            "display": null,
            "flex": null,
            "flex_flow": null,
            "grid_area": null,
            "grid_auto_columns": null,
            "grid_auto_flow": null,
            "grid_auto_rows": null,
            "grid_column": null,
            "grid_gap": null,
            "grid_row": null,
            "grid_template_areas": null,
            "grid_template_columns": null,
            "grid_template_rows": null,
            "height": null,
            "justify_content": null,
            "justify_items": null,
            "left": null,
            "margin": null,
            "max_height": null,
            "max_width": null,
            "min_height": null,
            "min_width": null,
            "object_fit": null,
            "object_position": null,
            "order": null,
            "overflow": null,
            "overflow_x": null,
            "overflow_y": null,
            "padding": null,
            "right": null,
            "top": null,
            "visibility": null,
            "width": null
          }
        },
        "8ab5c1d798de4cc5aa464a721ba66d38": {
          "model_module": "@jupyter-widgets/base",
          "model_name": "LayoutModel",
          "model_module_version": "1.2.0",
          "state": {
            "_model_module": "@jupyter-widgets/base",
            "_model_module_version": "1.2.0",
            "_model_name": "LayoutModel",
            "_view_count": null,
            "_view_module": "@jupyter-widgets/base",
            "_view_module_version": "1.2.0",
            "_view_name": "LayoutView",
            "align_content": null,
            "align_items": null,
            "align_self": null,
            "border": null,
            "bottom": null,
            "display": null,
            "flex": null,
            "flex_flow": null,
            "grid_area": null,
            "grid_auto_columns": null,
            "grid_auto_flow": null,
            "grid_auto_rows": null,
            "grid_column": null,
            "grid_gap": null,
            "grid_row": null,
            "grid_template_areas": null,
            "grid_template_columns": null,
            "grid_template_rows": null,
            "height": null,
            "justify_content": null,
            "justify_items": null,
            "left": null,
            "margin": null,
            "max_height": null,
            "max_width": null,
            "min_height": null,
            "min_width": null,
            "object_fit": null,
            "object_position": null,
            "order": null,
            "overflow": null,
            "overflow_x": null,
            "overflow_y": null,
            "padding": null,
            "right": null,
            "top": null,
            "visibility": null,
            "width": null
          }
        },
        "8e0bc61278dd4e29bcf36efa95b22738": {
          "model_module": "@jupyter-widgets/controls",
          "model_name": "DescriptionStyleModel",
          "model_module_version": "1.5.0",
          "state": {
            "_model_module": "@jupyter-widgets/controls",
            "_model_module_version": "1.5.0",
            "_model_name": "DescriptionStyleModel",
            "_view_count": null,
            "_view_module": "@jupyter-widgets/base",
            "_view_module_version": "1.2.0",
            "_view_name": "StyleView",
            "description_width": ""
          }
        },
        "60b24547bd8c47259cd924eb9978534e": {
          "model_module": "@jupyter-widgets/base",
          "model_name": "LayoutModel",
          "model_module_version": "1.2.0",
          "state": {
            "_model_module": "@jupyter-widgets/base",
            "_model_module_version": "1.2.0",
            "_model_name": "LayoutModel",
            "_view_count": null,
            "_view_module": "@jupyter-widgets/base",
            "_view_module_version": "1.2.0",
            "_view_name": "LayoutView",
            "align_content": null,
            "align_items": null,
            "align_self": null,
            "border": null,
            "bottom": null,
            "display": null,
            "flex": null,
            "flex_flow": null,
            "grid_area": null,
            "grid_auto_columns": null,
            "grid_auto_flow": null,
            "grid_auto_rows": null,
            "grid_column": null,
            "grid_gap": null,
            "grid_row": null,
            "grid_template_areas": null,
            "grid_template_columns": null,
            "grid_template_rows": null,
            "height": null,
            "justify_content": null,
            "justify_items": null,
            "left": null,
            "margin": null,
            "max_height": null,
            "max_width": null,
            "min_height": null,
            "min_width": null,
            "object_fit": null,
            "object_position": null,
            "order": null,
            "overflow": null,
            "overflow_x": null,
            "overflow_y": null,
            "padding": null,
            "right": null,
            "top": null,
            "visibility": null,
            "width": null
          }
        },
        "c75187a32d80414f83bd307ee4fa5bb2": {
          "model_module": "@jupyter-widgets/controls",
          "model_name": "ProgressStyleModel",
          "model_module_version": "1.5.0",
          "state": {
            "_model_module": "@jupyter-widgets/controls",
            "_model_module_version": "1.5.0",
            "_model_name": "ProgressStyleModel",
            "_view_count": null,
            "_view_module": "@jupyter-widgets/base",
            "_view_module_version": "1.2.0",
            "_view_name": "StyleView",
            "bar_color": null,
            "description_width": ""
          }
        },
        "ae141880c4614a1e9060ec1995787a44": {
          "model_module": "@jupyter-widgets/base",
          "model_name": "LayoutModel",
          "model_module_version": "1.2.0",
          "state": {
            "_model_module": "@jupyter-widgets/base",
            "_model_module_version": "1.2.0",
            "_model_name": "LayoutModel",
            "_view_count": null,
            "_view_module": "@jupyter-widgets/base",
            "_view_module_version": "1.2.0",
            "_view_name": "LayoutView",
            "align_content": null,
            "align_items": null,
            "align_self": null,
            "border": null,
            "bottom": null,
            "display": null,
            "flex": null,
            "flex_flow": null,
            "grid_area": null,
            "grid_auto_columns": null,
            "grid_auto_flow": null,
            "grid_auto_rows": null,
            "grid_column": null,
            "grid_gap": null,
            "grid_row": null,
            "grid_template_areas": null,
            "grid_template_columns": null,
            "grid_template_rows": null,
            "height": null,
            "justify_content": null,
            "justify_items": null,
            "left": null,
            "margin": null,
            "max_height": null,
            "max_width": null,
            "min_height": null,
            "min_width": null,
            "object_fit": null,
            "object_position": null,
            "order": null,
            "overflow": null,
            "overflow_x": null,
            "overflow_y": null,
            "padding": null,
            "right": null,
            "top": null,
            "visibility": null,
            "width": null
          }
        },
        "2d18b216151545be9cb52473bf5f73a8": {
          "model_module": "@jupyter-widgets/controls",
          "model_name": "DescriptionStyleModel",
          "model_module_version": "1.5.0",
          "state": {
            "_model_module": "@jupyter-widgets/controls",
            "_model_module_version": "1.5.0",
            "_model_name": "DescriptionStyleModel",
            "_view_count": null,
            "_view_module": "@jupyter-widgets/base",
            "_view_module_version": "1.2.0",
            "_view_name": "StyleView",
            "description_width": ""
          }
        }
      }
    },
    "accelerator": "GPU",
    "gpuClass": "standard"
  },
  "nbformat": 4,
  "nbformat_minor": 0
}