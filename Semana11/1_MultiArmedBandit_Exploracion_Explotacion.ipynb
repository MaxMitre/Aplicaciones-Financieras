{
  "nbformat": 4,
  "nbformat_minor": 0,
  "metadata": {
    "colab": {
      "provenance": []
    },
    "kernelspec": {
      "name": "python3",
      "display_name": "Python 3"
    },
    "language_info": {
      "name": "python"
    }
  },
  "cells": [
    {
      "cell_type": "markdown",
      "source": [
        "[![Open In Colab](https://colab.research.google.com/assets/colab-badge.svg)](https://colab.research.google.com/github/MaxMitre/Aplicaciones-Financieras/blob/main/Semana11/1_MultiArmedBandit_Exploracion_Explotacion.ipynb)"
      ],
      "metadata": {
        "id": "OFf-wZIBO1KY"
      }
    },
    {
      "cell_type": "markdown",
      "source": [
        "# Multi-Armed Bandit\n"
      ],
      "metadata": {
        "id": "UtAb0mGq-3df"
      }
    },
    {
      "cell_type": "markdown",
      "metadata": {
        "id": "k9ADAbH73rfS"
      },
      "source": [
        "#Bibliotecas y Funciones\n"
      ]
    },
    {
      "cell_type": "code",
      "metadata": {
        "id": "TJ0Ts9FIHEmu"
      },
      "source": [
        "import numpy as np\n",
        "import matplotlib.pyplot as plt"
      ],
      "execution_count": null,
      "outputs": []
    },
    {
      "cell_type": "code",
      "metadata": {
        "id": "wTvgN0tvHi3A"
      },
      "source": [
        "def entorno_multi_armed_bandit(maquinas):\n",
        "    '''\n",
        "    Creamos el entorno para el problema \"multi_armed_bandit\" generando aleatoriamente\n",
        "    la distribución de probabilidad de los premios que otorga cada máquina\n",
        "    '''\n",
        "    medias = np.random.uniform(-5, 5, size=maquinas)\n",
        "    std_ = np.random.uniform(0, 5, size=maquinas)\n",
        "    return medias, std_"
      ],
      "execution_count": null,
      "outputs": []
    },
    {
      "cell_type": "code",
      "metadata": {
        "id": "srAAbKjhKM_E"
      },
      "source": [
        "def init_Q(maquinas):\n",
        "  '''Inicializa el vector Q en ceros, el vector Q representa el valor esperado\n",
        "   de recompensa de cada máquina'''\n",
        "  Q =np.zeros(shape =(1, maquinas))\n",
        "  return Q"
      ],
      "execution_count": null,
      "outputs": []
    },
    {
      "cell_type": "markdown",
      "source": [
        "## Estrategias para escoger máquinas"
      ],
      "metadata": {
        "id": "4ARwIvKcAE6s"
      }
    },
    {
      "cell_type": "code",
      "metadata": {
        "id": "N2yLnkZKLUlp"
      },
      "source": [
        "def selecciona_maquina(maquinas):\n",
        "    '''selecciona una máquina aleatoriamente con distribución unifome'''\n",
        "    selec = np.random.choice(range(maquinas))\n",
        "    return selec"
      ],
      "execution_count": null,
      "outputs": []
    },
    {
      "cell_type": "code",
      "metadata": {
        "id": "QoF4BrM1gfA-"
      },
      "source": [
        "def selecciona_maquina_expl(Q):\n",
        "    '''selecciona la maquina con el maximo valor de la ganancia esperada'''\n",
        "    selec = np.argmax(Q[0])\n",
        "    return selec"
      ],
      "execution_count": null,
      "outputs": []
    },
    {
      "cell_type": "code",
      "metadata": {
        "id": "Y9atc3BHgU2d"
      },
      "source": [
        "def selecciona_maquina_egd(maquinas, epsilon):\n",
        "    '''selecciona una con la estrategia epsilon decreasing greedy'''\n",
        "    p = np.random.uniform(0,1)\n",
        "\n",
        "    # cuándo epsilon es pequeño, se escoge la maquina con mayor ganancia\n",
        "    if p < (1 - epsilon):\n",
        "        selec = np.argmax(Q[0])\n",
        "        return selec  \n",
        "\n",
        "    # caso contrario, se escoge una al azar\n",
        "    else: \n",
        "        selec = np.random.choice(range(maquinas))\n",
        "        return selec"
      ],
      "execution_count": null,
      "outputs": []
    },
    {
      "cell_type": "code",
      "metadata": {
        "id": "HUv7oB7VId1t"
      },
      "source": [
        "def calcula_recompensa(selec):\n",
        "  '''calcula la recompensa de jugar en una determinada máquina'''\n",
        "  r = int(np.random.normal(medias[selec], std_[selec], 1))\n",
        "  return r"
      ],
      "execution_count": null,
      "outputs": []
    },
    {
      "cell_type": "code",
      "metadata": {
        "id": "QHfwiInqOkBX"
      },
      "source": [
        "def actualiza_Q (Q, selec, r, veces_maq):\n",
        "    '''actualiza el valor esperados de recompensa de la máquina seleccionada'''\n",
        "    Q[0, selec] = Q[0, selec] + (r - Q[0, selec])/(veces_maq[selec])\n",
        "    return Q"
      ],
      "execution_count": null,
      "outputs": []
    },
    {
      "cell_type": "markdown",
      "metadata": {
        "id": "VzVeNtKjpHrT"
      },
      "source": [
        "# Introducción"
      ]
    },
    {
      "cell_type": "markdown",
      "metadata": {
        "id": "TKA6ZoIgr9wq"
      },
      "source": [
        "## Definimos nuestro entorno"
      ]
    },
    {
      "cell_type": "code",
      "metadata": {
        "id": "8FJ8WPRopBiH"
      },
      "source": [
        "# Creamos el entorno definiendo el comportamiento de cada máquina\n",
        "\n",
        "premio_medio  = np.array([0,  1,  5, -10])\n",
        "desv_estandar = np.array([5, 0.1, 1,  1])"
      ],
      "execution_count": null,
      "outputs": []
    },
    {
      "cell_type": "code",
      "source": [
        "# Veamos como se comportarian las máquinas tomando muestreos con dichas mediasy  desviaciones estándar\n",
        "for maquina in range(4):\n",
        "\n",
        "  s = np.random.normal(premio_medio[maquina], desv_estandar[maquina],10000)\n",
        "  plt.xlim(-12,8)\n",
        "  plt.ylim(0,5)\n",
        "  plt.hist( s, bins=30,  density=True)\n",
        "  plt.show()"
      ],
      "metadata": {
        "id": "JEnrsD3ZyZI0",
        "colab": {
          "base_uri": "https://localhost:8080/",
          "height": 1000
        },
        "outputId": "e75e4f51-0b96-41a5-9f72-b8a4aeb87bb7"
      },
      "execution_count": null,
      "outputs": [
        {
          "output_type": "display_data",
          "data": {
            "text/plain": [
              "<Figure size 432x288 with 1 Axes>"
            ],
            "image/png": "[encoded data removed]"
          },
          "metadata": {
            "needs_background": "light"
          }
        },
        {
          "output_type": "display_data",
          "data": {
            "text/plain": [
              "<Figure size 432x288 with 1 Axes>"
            ],
            "image/png": "[encoded data removed]"
          },
          "metadata": {
            "needs_background": "light"
          }
        },
        {
          "output_type": "display_data",
          "data": {
            "text/plain": [
              "<Figure size 432x288 with 1 Axes>"
            ],
            "image/png": "[encoded data removed]"
          },
          "metadata": {
            "needs_background": "light"
          }
        },
        {
          "output_type": "display_data",
          "data": {
            "text/plain": [
              "<Figure size 432x288 with 1 Axes>"
            ],
            "image/png": "[encoded data removed]"
          },
          "metadata": {
            "needs_background": "light"
          }
        }
      ]
    },
    {
      "cell_type": "markdown",
      "source": [
        "## ¿Que hace un jugador en el casino?"
      ],
      "metadata": {
        "id": "b-FpFTSl1UF0"
      }
    },
    {
      "cell_type": "markdown",
      "metadata": {
        "id": "djXUF3Prrubk"
      },
      "source": [
        "* inicializamos en cero la variable que guardará los premios o perdidas acumuladas "
      ]
    },
    {
      "cell_type": "code",
      "metadata": {
        "id": "A5Zlrmeum_3q"
      },
      "source": [
        "ganado = 0"
      ],
      "execution_count": null,
      "outputs": []
    },
    {
      "cell_type": "markdown",
      "metadata": {
        "id": "nMOjxNywtLLw"
      },
      "source": [
        "* seleccionamos una de las maquinas, se juega en ella y se obtiene la recompensa"
      ]
    },
    {
      "cell_type": "code",
      "metadata": {
        "id": "dGjez-pgtLLz",
        "colab": {
          "base_uri": "https://localhost:8080/"
        },
        "outputId": "0fbac18c-cea2-4b0a-e6e1-fac847200143"
      },
      "source": [
        "selec = 2\n",
        "r = int(np.random.normal(premio_medio[selec], desv_estandar[selec], 1))\n",
        "ganado += r\n",
        "print('recompensa(r):', r)\n",
        "print('ganado:', ganado)"
      ],
      "execution_count": null,
      "outputs": [
        {
          "output_type": "stream",
          "name": "stdout",
          "text": [
            "recompensa(r): 5\n",
            "ganado: 50\n"
          ]
        }
      ]
    },
    {
      "cell_type": "markdown",
      "metadata": {
        "id": "3fOSdzrXvkOE"
      },
      "source": [
        "##  ¿Cómo guardamos la información de los premios obtenidos de cada máquina?"
      ]
    },
    {
      "cell_type": "code",
      "metadata": {
        "id": "dnPBUn3qnYn2",
        "colab": {
          "base_uri": "https://localhost:8080/"
        },
        "outputId": "fe7ff766-e1d5-45ef-999d-7f40eb394129"
      },
      "source": [
        "# Inicializa el vector Q en ceros, donde guardaremos la información\n",
        "n_maquinas = 4 \n",
        "Q = np.zeros(shape =(1, n_maquinas))\n",
        "Q"
      ],
      "execution_count": null,
      "outputs": [
        {
          "output_type": "execute_result",
          "data": {
            "text/plain": [
              "array([[0., 0., 0., 0.]])"
            ]
          },
          "metadata": {},
          "execution_count": 36
        }
      ]
    },
    {
      "cell_type": "code",
      "metadata": {
        "id": "PCwiS-nR0_7D",
        "colab": {
          "base_uri": "https://localhost:8080/"
        },
        "outputId": "d17c4758-90ac-49a7-e108-e184e796ec23"
      },
      "source": [
        "# Vamos a jugar cierto número de veces (episodios)\n",
        "episodios = 7\n",
        "n_maquinas = 4\n",
        "Q =np.zeros(shape =(1, n_maquinas))\n",
        "ganado = 0\n",
        "\n",
        "veces_maq = np.zeros(n_maquinas)      # guardaremos las veces que se ha jugado por máquina\n",
        "for ep in range(1, episodios+1):\n",
        "  selec = np.random.choice([0,1,2,3]) # selección aleatoria -> exploración\n",
        "  veces_maq[selec] += 1               # actualizamos las veces que se ha jugado x máquina\n",
        "  r = int(np.random.normal(premio_medio[selec], desv_estandar[selec], 1))\n",
        "  Q[0, selec] = Q[0, selec] + 1/(veces_maq[selec])*(r - Q[0, selec])\n",
        "  ganado += r\n",
        "  print('Episodio_{}, Máquina {}, Premio = {}, Premio_acum = {}, Q:{} \\n'.format(ep,\n",
        "                                                                   selec,\n",
        "                                                                   r, \n",
        "                                                                   ganado,\n",
        "                                                                   Q.round(2)))\n"
      ],
      "execution_count": null,
      "outputs": [
        {
          "output_type": "stream",
          "name": "stdout",
          "text": [
            "Episodio_1, Máquina 3, Premio = -8, Premio_acum = -8, Q:[[ 0.  0.  0. -8.]] \n",
            "\n",
            "Episodio_2, Máquina 1, Premio = 1, Premio_acum = -7, Q:[[ 0.  1.  0. -8.]] \n",
            "\n",
            "Episodio_3, Máquina 0, Premio = -7, Premio_acum = -14, Q:[[-7.  1.  0. -8.]] \n",
            "\n",
            "Episodio_4, Máquina 1, Premio = 0, Premio_acum = -14, Q:[[-7.   0.5  0.  -8. ]] \n",
            "\n",
            "Episodio_5, Máquina 2, Premio = 4, Premio_acum = -10, Q:[[-7.   0.5  4.  -8. ]] \n",
            "\n",
            "Episodio_6, Máquina 1, Premio = 1, Premio_acum = -9, Q:[[-7.    0.67  4.   -8.  ]] \n",
            "\n",
            "Episodio_7, Máquina 1, Premio = 1, Premio_acum = -8, Q:[[-7.    0.75  4.   -8.  ]] \n",
            "\n"
          ]
        }
      ]
    },
    {
      "cell_type": "markdown",
      "metadata": {
        "id": "mVXPXUUw38V5"
      },
      "source": [
        "¿Sería correcto si, en lugar de escojer la máquina de forma aleatoria, escojemos la que más rendimientos ha dado?"
      ]
    },
    {
      "cell_type": "code",
      "source": [
        "Q[0]"
      ],
      "metadata": {
        "id": "hzGRQEpALn7u",
        "colab": {
          "base_uri": "https://localhost:8080/"
        },
        "outputId": "a41266e2-0434-4bfe-8a14-4e1a2ad25387"
      },
      "execution_count": null,
      "outputs": [
        {
          "output_type": "execute_result",
          "data": {
            "text/plain": [
              "array([-7.  ,  0.75,  4.  , -8.  ])"
            ]
          },
          "metadata": {},
          "execution_count": 40
        }
      ]
    },
    {
      "cell_type": "code",
      "metadata": {
        "id": "ulLG8yCP0xLy",
        "colab": {
          "base_uri": "https://localhost:8080/"
        },
        "outputId": "46249654-ce70-46e3-eb1c-5ded2548efc3"
      },
      "source": [
        "selec = np.argmax(Q[0])  # selección usando la estrategia de explotación\n",
        "selec"
      ],
      "execution_count": null,
      "outputs": [
        {
          "output_type": "execute_result",
          "data": {
            "text/plain": [
              "2"
            ]
          },
          "metadata": {},
          "execution_count": 41
        }
      ]
    },
    {
      "cell_type": "markdown",
      "metadata": {
        "id": "xX6_4S3c8JWN"
      },
      "source": [
        "¿Podemos pensar en una estrategia combinada?"
      ]
    },
    {
      "cell_type": "code",
      "metadata": {
        "id": "2R-1PKtw8lMb",
        "colab": {
          "base_uri": "https://localhost:8080/"
        },
        "outputId": "00d4b269-722d-4c3e-a62a-2ff7a6f4ac3a"
      },
      "source": [
        "p = np.random.uniform(0, 1)  # escojemos un valor entre 0 y 1\n",
        "ε = .3 # valor que disminuye desde 1 hasta 0 según avance el aprendizaje\n",
        "print(f'p = {p}, ε = {ε}')\n",
        "print('¿p es menor que 1 - ε?', p < (1 - ε))\n",
        "if p < (1 - ε):\n",
        "    # Explotación\n",
        "    print('explotación')\n",
        "    selec = np.argmax(Q[0])\n",
        "else: \n",
        "    # Exploración\n",
        "    print('exploración')\n",
        "    selec = np.random.choice(range(n_maquinas))\n",
        "selec"
      ],
      "execution_count": null,
      "outputs": [
        {
          "output_type": "stream",
          "name": "stdout",
          "text": [
            "p = 0.8048130529906304, ε = 0.3\n",
            "¿p es menor que 1 - ε? False\n",
            "exploración\n"
          ]
        },
        {
          "output_type": "execute_result",
          "data": {
            "text/plain": [
              "3"
            ]
          },
          "metadata": {},
          "execution_count": 54
        }
      ]
    },
    {
      "cell_type": "markdown",
      "metadata": {
        "id": "Gmve4Vj7CJAf"
      },
      "source": [
        "Vamos a calcular  ε en función de los episodios, de manera decreciente\n"
      ]
    },
    {
      "cell_type": "code",
      "metadata": {
        "id": "9V2gOQ1xCHLx",
        "colab": {
          "base_uri": "https://localhost:8080/"
        },
        "outputId": "c3f29857-5672-421d-89f8-3b89627e0ae4"
      },
      "source": [
        "episodios = 100\n",
        "ε = np.exp(-5 * np.linspace(0, 1, episodios))\n",
        "ε"
      ],
      "execution_count": null,
      "outputs": [
        {
          "output_type": "execute_result",
          "data": {
            "text/plain": [
              "array([1.        , 0.95074913, 0.9039239 , 0.85940486, 0.81707842,\n",
              "       0.7768366 , 0.73857671, 0.70220117, 0.66761715, 0.63473642,\n",
              "       0.6034751 , 0.57375342, 0.54549556, 0.51862943, 0.49308648,\n",
              "       0.46880154, 0.44571265, 0.42376092, 0.40289032, 0.38304762,\n",
              "       0.36418219, 0.3462459 , 0.32919299, 0.31297995, 0.29756541,\n",
              "       0.28291005, 0.26897649, 0.25572916, 0.24313428, 0.2311597 ,\n",
              "       0.21977488, 0.20895078, 0.19865977, 0.1888756 , 0.17957331,\n",
              "       0.17072917, 0.16232061, 0.15432618, 0.14672548, 0.13949912,\n",
              "       0.13262867, 0.12609659, 0.11988622, 0.11398172, 0.10836802,\n",
              "       0.1030308 , 0.09795645, 0.09313201, 0.08854517, 0.08418425,\n",
              "       0.0800381 , 0.07609615, 0.07234835, 0.06878513, 0.0653974 ,\n",
              "       0.06217652, 0.05911428, 0.05620285, 0.05343481, 0.0508031 ,\n",
              "       0.048301  , 0.04592213, 0.04366043, 0.04151011, 0.0394657 ,\n",
              "       0.03752198, 0.03567399, 0.03391702, 0.03224658, 0.0306584 ,\n",
              "       0.02914845, 0.02771286, 0.02634798, 0.02505032, 0.02381657,\n",
              "       0.02264358, 0.02152837, 0.02046808, 0.01946001, 0.01850158,\n",
              "       0.01759036, 0.01672402, 0.01590035, 0.01511724, 0.01437271,\n",
              "       0.01366484, 0.01299183, 0.01235197, 0.01174363, 0.01116524,\n",
              "       0.01061535, 0.01009253, 0.00959547, 0.00912288, 0.00867357,\n",
              "       0.00824639, 0.00784025, 0.00745411, 0.00708699, 0.00673795])"
            ]
          },
          "metadata": {},
          "execution_count": 55
        }
      ]
    },
    {
      "cell_type": "code",
      "metadata": {
        "id": "UuxbAT2X-ian",
        "colab": {
          "base_uri": "https://localhost:8080/",
          "height": 313
        },
        "outputId": "995e32a2-16e3-4171-8294-99a0f08eec5b"
      },
      "source": [
        "fig =plt.figure()\n",
        "plt.plot(ε)\n",
        "plt.xlabel('episodio', fontsize=16)\n",
        "plt.ylabel('ε', fontsize=16)\n",
        "fig.suptitle('ε decreciente con el numero de episodios', fontsize=18)\n",
        "\n",
        "plt.show()"
      ],
      "execution_count": null,
      "outputs": [
        {
          "output_type": "display_data",
          "data": {
            "text/plain": [
              "<Figure size 432x288 with 1 Axes>"
            ],
            "image/png": "[encoded data removed]"
          },
          "metadata": {
            "needs_background": "light"
          }
        }
      ]
    },
    {
      "cell_type": "markdown",
      "metadata": {
        "id": "lHGYfGfVtZhW"
      },
      "source": [
        "# Aprendizaje con distintas estrategias"
      ]
    },
    {
      "cell_type": "code",
      "metadata": {
        "id": "0QF9KYgctZ9P"
      },
      "source": [
        "### Definimos el número de máquinas o brazos del problema\n",
        "n_maquinas = 3\n",
        "\n",
        "### Creamos el entorno\n",
        "np.random.seed(4)\n",
        "medias, std_ = entorno_multi_armed_bandit(n_maquinas)  # inicializa la distribución de probabilidad de cada máquina"
      ],
      "execution_count": null,
      "outputs": []
    },
    {
      "cell_type": "code",
      "metadata": {
        "id": "j-3477k0izn_"
      },
      "source": [
        "### Definimos el número de episodios (juegos)\n",
        "episodios = 1000"
      ],
      "execution_count": null,
      "outputs": []
    },
    {
      "cell_type": "code",
      "source": [
        "medias"
      ],
      "metadata": {
        "id": "G25N0TSnNat1",
        "colab": {
          "base_uri": "https://localhost:8080/"
        },
        "outputId": "81e288f7-ec85-4bae-af56-344f564113c6"
      },
      "execution_count": null,
      "outputs": [
        {
          "output_type": "execute_result",
          "data": {
            "text/plain": [
              "array([4.67029839, 0.47232249, 4.7268436 ])"
            ]
          },
          "metadata": {},
          "execution_count": 59
        }
      ]
    },
    {
      "cell_type": "code",
      "source": [
        "std_"
      ],
      "metadata": {
        "id": "lQWX4_8ENcAr",
        "colab": {
          "base_uri": "https://localhost:8080/"
        },
        "outputId": "7c31eea0-edd9-4cd8-8112-b03ddb9ce18d"
      },
      "execution_count": null,
      "outputs": [
        {
          "output_type": "execute_result",
          "data": {
            "text/plain": [
              "array([3.57407997, 3.48864412, 1.08044748])"
            ]
          },
          "metadata": {},
          "execution_count": 60
        }
      ]
    },
    {
      "cell_type": "markdown",
      "metadata": {
        "id": "SBOk8P63f7Hn"
      },
      "source": [
        "## Exploración"
      ]
    },
    {
      "cell_type": "code",
      "metadata": {
        "id": "XGdvub9qSwmJ",
        "colab": {
          "base_uri": "https://localhost:8080/"
        },
        "outputId": "dfa5f5e6-509e-4e49-8489-df08cbda1d52"
      },
      "source": [
        "### Inicializamos el vector Q  \n",
        "Q = init_Q(n_maquinas)  \n",
        "ganado = 0\n",
        "veces_maq = np.zeros(n_maquinas)      # guardaremos las veces que se ha jugado por máquina\n",
        "\n",
        "for i in range(n_maquinas):  # creamos un ciclo para jugar en cada máquina\n",
        "    veces_maq[i] += 1               # actualizamos las veces que se ha jugado x máquina\n",
        "    r = calcula_recompensa(i)\n",
        "    Q = actualiza_Q(Q, i, r, veces_maq)\n",
        "    ganado += r\n",
        "    print(Q)\n",
        "\n",
        "\n",
        "for episodio in range(n_maquinas+1,episodios+1):\n",
        "    selec = selecciona_maquina(n_maquinas)\n",
        "    veces_maq[selec] += 1               # actualizamos las veces que se ha jugado x máquina\n",
        "    # Calcula el premio de esa acción\n",
        "    r = calcula_recompensa(selec)\n",
        "    # Actualiza la información de lo ganado por cada máquina\n",
        "    Q = actualiza_Q(Q, selec, r, veces_maq)\n",
        "  \n",
        "    ganado += r\n",
        "  \n",
        "print(\"La ganancia total es de: \", ganado)"
      ],
      "execution_count": null,
      "outputs": [
        {
          "output_type": "stream",
          "name": "stdout",
          "text": [
            "[[2. 0. 0.]]\n",
            "[[2. 1. 0.]]\n",
            "[[2. 1. 5.]]\n",
            "La ganancia total es de:  3012\n"
          ]
        }
      ]
    },
    {
      "cell_type": "code",
      "source": [
        "veces_maq"
      ],
      "metadata": {
        "id": "z5Q-bqGBLMm6",
        "colab": {
          "base_uri": "https://localhost:8080/"
        },
        "outputId": "59b12ea6-9a07-4bd5-801e-4758c71390c3"
      },
      "execution_count": null,
      "outputs": [
        {
          "output_type": "execute_result",
          "data": {
            "text/plain": [
              "array([327., 308., 365.])"
            ]
          },
          "metadata": {},
          "execution_count": 85
        }
      ]
    },
    {
      "cell_type": "code",
      "source": [
        "# Medias reales\n",
        "medias"
      ],
      "metadata": {
        "id": "xT_cLdg0Kn1G",
        "colab": {
          "base_uri": "https://localhost:8080/"
        },
        "outputId": "1fed9f92-ddd8-4ce3-a9d8-061ad87a6abb"
      },
      "execution_count": null,
      "outputs": [
        {
          "output_type": "execute_result",
          "data": {
            "text/plain": [
              "array([4.67029839, 0.47232249, 4.7268436 ])"
            ]
          },
          "metadata": {},
          "execution_count": 86
        }
      ]
    },
    {
      "cell_type": "code",
      "source": [
        "# Medias observadas\n",
        "Q"
      ],
      "metadata": {
        "id": "L3Wa0O0iKkG0",
        "colab": {
          "base_uri": "https://localhost:8080/"
        },
        "outputId": "a085924e-bd5d-487a-c3cb-0c8681cdd3fe"
      },
      "execution_count": null,
      "outputs": [
        {
          "output_type": "execute_result",
          "data": {
            "text/plain": [
              "array([[4.32110092, 0.27272727, 4.15068493]])"
            ]
          },
          "metadata": {},
          "execution_count": 87
        }
      ]
    },
    {
      "cell_type": "markdown",
      "metadata": {
        "id": "OIDUtGQYnZCL"
      },
      "source": [
        "## Explotación"
      ]
    },
    {
      "cell_type": "code",
      "metadata": {
        "id": "SMTfsHDUnfH4",
        "colab": {
          "base_uri": "https://localhost:8080/"
        },
        "outputId": "223a929f-e942-490d-cb25-179e4d47cda7"
      },
      "source": [
        "### Inicializamos el vector Q  \n",
        "Q = init_Q(n_maquinas)  \n",
        "ganado = 0\n",
        "veces_maq = np.zeros(n_maquinas)      # guardaremos las veces que se ha jugado por máquina\n",
        "for i in range(n_maquinas):  # creamos un ciclo para jugar en cada máquina\n",
        "    veces_maq[i] += 1               # actualizamos las veces que se ha jugado x máquina\n",
        "    r = calcula_recompensa(i)\n",
        "    Q = actualiza_Q(Q, i, r, veces_maq)\n",
        "    ganado += r\n",
        "    print(Q)\n",
        "for episodio in range(n_maquinas+1 ,episodios+1): # el resto de los episodios los jugamos con una estrategia codiciosa\n",
        "    selec = selecciona_maquina_expl(Q)\n",
        "    veces_maq[selec] += 1               # actualizamos las veces que se ha jugado x máquina\n",
        "    r = calcula_recompensa(selec)\n",
        "    Q = actualiza_Q(Q, selec, r, veces_maq)\n",
        "    ganado += r\n",
        "    if episodio <15:\n",
        "      print(Q)\n",
        "print(\"La ganancia total es de: \", ganado)"
      ],
      "execution_count": null,
      "outputs": [
        {
          "output_type": "stream",
          "name": "stdout",
          "text": [
            "[[5. 0. 0.]]\n",
            "[[5. 2. 0.]]\n",
            "[[5. 2. 6.]]\n",
            "[[5.  2.  5.5]]\n",
            "[[5.         2.         4.66666667]]\n",
            "[[1.5        2.         4.66666667]]\n",
            "[[1.5 2.  4.5]]\n",
            "[[1.5 2.  4.2]]\n",
            "[[1.5        2.         4.33333333]]\n",
            "[[1.5        2.         4.14285714]]\n",
            "[[1.5   2.    3.875]]\n",
            "[[1.5 2.  4. ]]\n",
            "[[1.5 2.  3.9]]\n",
            "[[1.5        2.         3.90909091]]\n",
            "La ganancia total es de:  4166\n"
          ]
        }
      ]
    },
    {
      "cell_type": "code",
      "source": [
        "veces_maq"
      ],
      "metadata": {
        "id": "NiNOwlSAN282",
        "colab": {
          "base_uri": "https://localhost:8080/"
        },
        "outputId": "6d7d8852-4026-431e-fdd1-461cf580b798"
      },
      "execution_count": null,
      "outputs": [
        {
          "output_type": "execute_result",
          "data": {
            "text/plain": [
              "array([  2.,   1., 997.])"
            ]
          },
          "metadata": {},
          "execution_count": 91
        }
      ]
    },
    {
      "cell_type": "code",
      "source": [
        "medias"
      ],
      "metadata": {
        "id": "ytF7Vei0LEwt",
        "colab": {
          "base_uri": "https://localhost:8080/"
        },
        "outputId": "0f1ade31-2705-4592-b329-372a170f75ee"
      },
      "execution_count": null,
      "outputs": [
        {
          "output_type": "execute_result",
          "data": {
            "text/plain": [
              "array([4.67029839, 0.47232249, 4.7268436 ])"
            ]
          },
          "metadata": {},
          "execution_count": 92
        }
      ]
    },
    {
      "cell_type": "code",
      "source": [
        "Q"
      ],
      "metadata": {
        "id": "5Sn6K9XuLEj9",
        "colab": {
          "base_uri": "https://localhost:8080/"
        },
        "outputId": "d825a90d-425d-4b20-acb4-fc8cd5d78931"
      },
      "execution_count": null,
      "outputs": [
        {
          "output_type": "execute_result",
          "data": {
            "text/plain": [
              "array([[1.5       , 2.        , 4.17352056]])"
            ]
          },
          "metadata": {},
          "execution_count": 93
        }
      ]
    },
    {
      "cell_type": "markdown",
      "metadata": {
        "id": "7gXk8RpAf_S5"
      },
      "source": [
        "## Epsilon decreasing greedy"
      ]
    },
    {
      "cell_type": "code",
      "source": [
        "# Comando para ver mejor números sin notación científica\n",
        "np.set_printoptions(suppress=True)\n",
        "\n",
        "epsilon = 0.1  # Si el \"epsilon\" definido abajo se comenta, queda el epsilon fijo"
      ],
      "metadata": {
        "id": "6orTHV3v6XUc"
      },
      "execution_count": null,
      "outputs": []
    },
    {
      "cell_type": "code",
      "metadata": {
        "id": "Wwluzms4f_S7",
        "colab": {
          "base_uri": "https://localhost:8080/"
        },
        "outputId": "a0a6e74f-4431-4c7f-cf1b-d4198b60b8b6"
      },
      "source": [
        "### Inicializamos el vector Q  \n",
        "Q = init_Q(n_maquinas)  \n",
        "epsilon = np.exp(-5 * np.linspace(0, 1, episodios))  # creamos el vector con un epsilon para cada episodio (No afecta al ser modificado eb linea 16)\n",
        "ganado = 0\n",
        "veces_maq = np.zeros(n_maquinas)      # guardaremos las veces que se ha jugado por máquina\n",
        "\n",
        "for i in range(n_maquinas):  # creamos un ciclo para jugar en cada máquina\n",
        "    veces_maq[i] += 1               # actualizamos las veces que se ha jugado x máquina\n",
        "    r = calcula_recompensa(i)\n",
        "    Q = actualiza_Q(Q, i, r, veces_maq)\n",
        "    ganado += r\n",
        "\n",
        "for episodio in range(n_maquinas+1 ,episodios+1):\n",
        "    # ADVERTENCIA: si comentan linea 15, se utilizara epsilon fijo igual a 0.1, si comentan la linea 17 se utilizará epsilon greedy\n",
        "    eps = epsilon[episodio-1]  #epsilon decreciente\n",
        "\n",
        "    #eps=0.1  # epsilon fijo\n",
        "\n",
        "    selec = selecciona_maquina_egd(n_maquinas, eps)\n",
        "\n",
        "    veces_maq[selec] += 1               # actualizamos las veces que se ha jugado x máquina\n",
        "    r = calcula_recompensa(selec)\n",
        "    Q = actualiza_Q(Q, selec, r, veces_maq)\n",
        "    ganado += r\n",
        "\n",
        "print(\"La ganancia total es de: \", ganado)"
      ],
      "execution_count": null,
      "outputs": [
        {
          "output_type": "stream",
          "name": "stdout",
          "text": [
            "La ganancia total es de:  4230\n"
          ]
        }
      ]
    },
    {
      "cell_type": "code",
      "source": [
        "veces_maq"
      ],
      "metadata": {
        "id": "TRmYWVCS7U_u",
        "colab": {
          "base_uri": "https://localhost:8080/"
        },
        "outputId": "b72d35fd-e49e-4a64-85f5-7c0d0a626b99"
      },
      "execution_count": null,
      "outputs": [
        {
          "output_type": "execute_result",
          "data": {
            "text/plain": [
              "array([880.,  44.,  76.])"
            ]
          },
          "metadata": {},
          "execution_count": 106
        }
      ]
    },
    {
      "cell_type": "code",
      "source": [
        "medias"
      ],
      "metadata": {
        "id": "vZNuuj_CNkLo",
        "colab": {
          "base_uri": "https://localhost:8080/"
        },
        "outputId": "fa5789a9-8697-471e-d1cc-7782f6d0ce51"
      },
      "execution_count": null,
      "outputs": [
        {
          "output_type": "execute_result",
          "data": {
            "text/plain": [
              "array([4.67029839, 0.47232249, 4.7268436 ])"
            ]
          },
          "metadata": {},
          "execution_count": 107
        }
      ]
    },
    {
      "cell_type": "code",
      "source": [
        "Q"
      ],
      "metadata": {
        "id": "FeM-txQiNkEL",
        "colab": {
          "base_uri": "https://localhost:8080/"
        },
        "outputId": "c0dfec58-a9f0-4f11-ed9a-d1c6beb1df09"
      },
      "execution_count": null,
      "outputs": [
        {
          "output_type": "execute_result",
          "data": {
            "text/plain": [
              "array([[4.40568182, 0.84090909, 4.15789474]])"
            ]
          },
          "metadata": {},
          "execution_count": 108
        }
      ]
    },
    {
      "cell_type": "markdown",
      "source": [
        "# Ejercicio\n"
      ],
      "metadata": {
        "id": "KPHDL9xDZNwq"
      }
    },
    {
      "cell_type": "code",
      "source": [
        "import numpy as np"
      ],
      "metadata": {
        "id": "WSS_tYHTZa45"
      },
      "execution_count": null,
      "outputs": []
    },
    {
      "cell_type": "code",
      "source": [
        "# Hay una función para muestreo\n",
        "np.random.choice([-1,9,99,999], size=1, replace=True, p=[0.8, 0.14, 0.05, 0.01])\n",
        "\n",
        "# El primer parámetro es la lista de donde se obtendrán muestras\n",
        "# size: Tamaño de la muestra\n",
        "# replace: si se hace com reemplazo (pueden repetirse de los escogidos) o sin reemplazo\n",
        "# p: probabilidades asignadas a cada uno de los elementos de la lista"
      ],
      "metadata": {
        "id": "YLibpHGpZPNv",
        "colab": {
          "base_uri": "https://localhost:8080/"
        },
        "outputId": "48e46734-989e-4f76-f5a5-907a048ff91a"
      },
      "execution_count": null,
      "outputs": [
        {
          "output_type": "execute_result",
          "data": {
            "text/plain": [
              "array([-1])"
            ]
          },
          "metadata": {},
          "execution_count": 138
        }
      ]
    },
    {
      "cell_type": "markdown",
      "source": [
        "Con la función anterior, cree el ambiente de las máquinas, ahora en lugar de una distribución normal, será una distribución discreta personalizada\n",
        "\n",
        "En la lista que ingresan (la que arriba es [0, 10, 100, 1000]) pongan los valores de los premios que dará la máquina y en \"p\" pongan la probabilidad de que se gane el premio de la lista."
      ],
      "metadata": {
        "id": "7lVy37d8Z_u3"
      }
    },
    {
      "cell_type": "markdown",
      "metadata": {
        "id": "U9EM0mu3mB99"
      },
      "source": [
        "# Referencias:\n",
        "\n",
        "[1]A. Aristizabal, «Understanding Reinforcement Learning Hands-On: Multi-Armed Bandits», Medium, oct. 19, 2020. https://towardsdatascience.com/understanding-reinforcement-learning-hands-on-part-2-multi-armed-bandits-526592072bdc (accedido jul. 30, 2021).\n",
        "\n"
      ]
    }
  ]
}