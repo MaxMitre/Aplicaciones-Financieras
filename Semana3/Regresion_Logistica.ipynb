{
  "nbformat": 4,
  "nbformat_minor": 0,
  "metadata": {
    "colab": {
      "provenance": [],
      "collapsed_sections": []
    },
    "kernelspec": {
      "name": "python3",
      "display_name": "Python 3"
    },
    "language_info": {
      "name": "python"
    },
    "accelerator": "GPU"
  },
  "cells": [
    {
      "cell_type": "markdown",
      "source": [
        "[![Open In Colab](https://colab.research.google.com/assets/colab-badge.svg)](https://colab.research.google.com/github/MaxMitre/Aplicaciones-Financieras/blob/main/Semana3/Regresion_Logistica.ipynb) "
      ],
      "metadata": {
        "id": "bkUeov5T9Hfv"
      }
    },
    {
      "cell_type": "markdown",
      "source": [
        "# Descripción del problema"
      ],
      "metadata": {
        "id": "6DuKgmeStDUT"
      }
    },
    {
      "cell_type": "markdown",
      "source": [
        "Datos originales: https://challengedata.ens.fr/participants/challenges/31/\n",
        "\n",
        "El problema trata de buscar un algoritmo de clasificación que ayude a crear estrategias de inversión en criptomonedas, basado en el \"sentimiento\" extraído de noticias y redes sociales.\n",
        "\n",
        "Por cada hora de trading se contabilizó la ocurrencia de algunos terminos, tales como 'adoption' y 'hack', en un selecto numero de cuentas influyentes de twitter y en algunos foros como 'Bitcointalk'.\n",
        "\n",
        "Se han creado 10 temas diferentes, algunos positivos y otros negativos y se han contabilizado las palabras antes mencionadas, antes de una normalización.\n",
        "\n",
        "Dado un tema, hemos visto los conteos de las últimas 48 horas y se estandarizaron esos conteos. El resultado se multiplicó por el conteo promedio por hora y se dividió por el conteo promedio por hora de todo el entrenamiento\n",
        "\n",
        "Para un tiempo T en el periodo de tiempo i, con lag k ($k\\in[\\![0;47]\\!]$) el valor F ode la característica será:\n",
        "\n",
        "$$\n",
        "F_{i,k}=\\frac{T_{i,k}-\\overline{T_{i}}}{\\sqrt{\\frac{1}{47}\\sum\\limits_{j=0}^{47}{(T_{i,j}-\\overline{T_{i}})^{2}}}}*\\frac{\\overline{T_i}}{\\overline{T}} \n",
        "$$\n",
        "\n",
        "\n",
        "Se agregaron 5 características correspondientes a los precios finales en periodos de 1 hr, 6 hrs, 12 hrs, 24 hrs y 48 hrs\n",
        "El objetivo es predecir si el precio del Bitcoin tendrá un retorno (en la próxima hora) que sea de mas del 0.2%, entre -0.2% y 0.2% o menos al -0.2%.\n",
        "\n",
        "La métrica utilizada para la perdida es la perdida logistica, definita como el negativo de la log-verosimilitud de las etiquetas verdaderas comparadas con las probabilidades predichas por el clasificador.\n",
        "\n",
        "Las verdaderas etiquetas están codificadas como una matríz de 3 columnas, donde hay unos o ceros dependiendo si el elemento pertenece a la categoría de una columna u otra.\n",
        " \n",
        "Dada una matriz P de probabilidades $p_{i,k}=Pr(t_{i,k}=1)'$ , la función de perdida se define como\n",
        "\n",
        "$$\n",
        "L_{log}(Y,P)=-log{Pr(Y|P)}=-\\frac{1}{N} \\sum_{i=1}^{N} \\sum_{k=1}^3{y_{i,k}log(p_{i,k})}\n",
        "$$\n",
        "\n",
        "Entre más bajo el score de ésta medida, mejor.\n",
        "\n"
      ],
      "metadata": {
        "id": "E454T2Z7s_Tb"
      }
    },
    {
      "cell_type": "markdown",
      "source": [
        "# Dependencias"
      ],
      "metadata": {
        "id": "I1za57pz8Mkz"
      }
    },
    {
      "cell_type": "code",
      "source": [
        "# !pip install -U plotly"
      ],
      "metadata": {
        "id": "tIthEMHkPBww"
      },
      "execution_count": null,
      "outputs": []
    },
    {
      "cell_type": "code",
      "metadata": {
        "id": "b9Ifan8XrfuZ"
      },
      "source": [
        "import pandas as pd\n",
        "import numpy as np\n",
        "\n",
        "from sklearn.model_selection import train_test_split\n",
        "\n",
        "import tensorflow as tf\n",
        "from tensorflow import keras\n",
        "from keras import layers\n",
        "\n",
        "import plotly.graph_objects as go"
      ],
      "execution_count": null,
      "outputs": []
    },
    {
      "cell_type": "code",
      "source": [
        "from google.colab import drive\n",
        "drive.mount('/content/drive')"
      ],
      "metadata": {
        "colab": {
          "base_uri": "https://localhost:8080/"
        },
        "id": "HV21Dtfz0SF-",
        "outputId": "1a2bffe4-8804-479c-c859-5c3c9847132b"
      },
      "execution_count": null,
      "outputs": [
        {
          "output_type": "stream",
          "name": "stdout",
          "text": [
            "Mounted at /content/drive\n"
          ]
        }
      ]
    },
    {
      "cell_type": "markdown",
      "source": [
        "# Funciones"
      ],
      "metadata": {
        "id": "sqFcegOL8N7w"
      }
    },
    {
      "cell_type": "code",
      "source": [
        "def evaluate_model(estimator, train, val, test):\n",
        "    print('train cross_entropy = ', estimator.evaluate(train[0], train[1], verbose = False))\n",
        "    print('  val cross_entropy = ', estimator.evaluate(val[0], val[1], verbose = False))\n",
        "    print(' test cross_entropy = ', estimator.evaluate(test[0], test[1], verbose = False))"
      ],
      "metadata": {
        "id": "Mv_00PdK2Wnx"
      },
      "execution_count": null,
      "outputs": []
    },
    {
      "cell_type": "code",
      "source": [
        "# TODO: Modificar para seleccionar características cambiando n_features, no sólo las primeras n_features\n",
        "# TODO: Revisar los resultados generados cuando se seleccionan distintos parámetros\n",
        "# NOTE: Asuma que el dataframe tiene 5 X, y 48 columnas para cada una de las 10 I ordenadas de reciente a antigua\n",
        "def transform_dataframe(df, len_prices = 5, n_features = 10, len_features = 48):\n",
        "    if type(len_prices) != int or type(n_features) != int or type(len_features) != int:\n",
        "        raise ValueError(f'Los parámetros len_prices, n_features y len_features deben ser de tipo int. Recibibo {type(len_prices)},{type(n_features)} y {type(len_features)}')\n",
        "\n",
        "    assert 0 < len_prices <= 5, 'len_prices debe estar entre 1 y 5'\n",
        "    assert 0 < n_features <= 10, 'n_features debe estar entre 1 y 10'\n",
        "    assert 0 < len_features <= 48, 'len_features debe estar entre 1 y 48'\n",
        "\n",
        "    df.reset_index(inplace = True, drop = True)\n",
        "    \n",
        "    # Los nombres de las columnas están al reves para tener primer la observación más antigua\n",
        "    prices_cols = ['X5', 'X4', 'X3', 'X2', 'X1']\n",
        "\n",
        "    prices = np.zeros((len(df), len_prices, 1))\n",
        "    features = np.zeros((len(df), len_features, n_features))\n",
        "\n",
        "    for i in range(len(df)):\n",
        "        # Se transforman la forma de los precios\n",
        "        prices[i] = df.loc[i, prices_cols[-len_prices:]].values.reshape((len_prices, 1))\n",
        "        # Para cada característica\n",
        "        for j in range(n_features):\n",
        "            # Se obtiene los 48 rezagos y se voltea el arreglo para tener el más antiguo primero\n",
        "            # Aquí se aplica el supuesto de que el dataframe tiene 5 columnas de 5\n",
        "            features[i, :, j] = np.flip(df.iloc[i, 5+48*j:5+len_features + 48*j].values)\n",
        "    return prices, features"
      ],
      "metadata": {
        "id": "pZ-N7rf_9HJk"
      },
      "execution_count": null,
      "outputs": []
    },
    {
      "cell_type": "markdown",
      "source": [
        "> The Input data contains 10 time series of 48 trading hours representing complementary features based on sentiment analysis from news extracted from twitter or forums like Bitcointalk on Bitcoin, and 5 time series based on the variation of Bitcoin price during the past 1, 6, 12, 24 and 48 hours normalised by volatility during the period. Input data, for training and testing, will be given by a .csv file, whose first line contains the header. Then each line corresponds to a sample, each column to a feature. The features are the following:\n",
        "\n",
        ">- ***ID***: Id of the sample which is linked to the ID of the output file;\n",
        "- ***I_1_lag(k)*** to ***I_10_lag(k)***: Values of Indicators *I_1* to *I_10* for each k lag ($k\\in[\\![0;47]\\!]$) representing the normalized value of Indicators *I_1* to *I_10* each hour of the past 48 trading hours;\n",
        "- ***X_1*** to ***X_5***: Values of 5 normalised indicators representing price variation of Bitcoin on the last 1, 6, 12, 24 and 48 hours.\n",
        "\n",
        "> There will be 14 000 samples for the train set and 5 000 for the test set. For a given sample, the time series (for the 10 sentiment indicators) are given over the same 48 trading hours.\n",
        "\n",
        ">The training outputs are given in a .csv file. Each line corresponds to a sample:\n",
        "\n",
        ">- ***ID***: Id of the sample;\n",
        "- ***Target_-1***: classification of the return of Bitcoin in the next hour. -1 signifies a down move of less than -0.2%;\n",
        "- ***Target_0***: classification of the return of Bitcoin in the next hour. 0 signifies a move between -0.2% and 0.2%;\n",
        "- ***Target_1***: classification of the return of Bitcoin in the next hour. 1 signifies a up move of more than 0.2%.\n",
        "\n"
      ],
      "metadata": {
        "id": "XT_-69IHrvk1"
      }
    },
    {
      "cell_type": "code",
      "source": [
        "X_raw = pd.read_csv('/content/drive/MyDrive/Cruso-ApsFinancieras/semana7/input_training_IrTAw7w.csv').set_index('ID')\n",
        "X_raw"
      ],
      "metadata": {
        "id": "x20PPm-uf29p",
        "colab": {
          "base_uri": "https://localhost:8080/",
          "height": 519
        },
        "outputId": "9cdec4e3-8a0f-4dfa-daa7-76486b2dcacd"
      },
      "execution_count": null,
      "outputs": [
        {
          "output_type": "execute_result",
          "data": {
            "text/plain": [
              "             X1        X2        X3        X4         X5   I1_lag0   I1_lag1  \\\n",
              "ID                                                                             \n",
              "0      0.460020  0.620360 -0.972192  2.745197   4.177783  2.325865  2.060138   \n",
              "1     -0.347872 -2.199925 -0.222026  3.741888   8.608291 -4.091293 -3.502499   \n",
              "2     -2.152963 -0.432461  1.619057 -0.003912   3.870262 -0.598858 -0.412391   \n",
              "3     -1.827669 -1.881770 -4.214322  0.178225   0.992362  0.383757  2.512478   \n",
              "4      0.748761  1.799939  1.561006  5.204120   2.161637 -1.275226 -1.544131   \n",
              "...         ...       ...       ...       ...        ...       ...       ...   \n",
              "13995 -0.074522 -0.472044 -2.860659 -1.266230 -10.229167  0.583145 -0.051301   \n",
              "13996  1.730118  3.177408  0.816198  1.136877  -1.588960  1.011735 -0.185748   \n",
              "13997  2.093028  4.108092  1.056253  8.163642   8.916299  2.338713  2.554397   \n",
              "13998  1.483381 -1.602078 -2.851078 -2.639386  -4.805661 -2.252937  2.370613   \n",
              "13999 -1.305992  1.129081 -0.223061  0.248722   1.326936 -0.496556  1.432433   \n",
              "\n",
              "        I1_lag2   I1_lag3   I1_lag4  ...  I10_lag38  I10_lag39  I10_lag40  \\\n",
              "ID                                   ...                                    \n",
              "0      0.071162  2.360597 -0.611526  ...  -0.342912  -0.194165   0.122331   \n",
              "1     -1.463631  0.383153 -3.669962  ...   1.261341  -0.082428  -1.035813   \n",
              "2     -0.765354 -0.998152 -0.938755  ...   2.245204   3.002347   2.674186   \n",
              "3     -0.383434 -0.208506 -1.104289  ...   1.383203  -1.338892   0.298076   \n",
              "4     -1.802590 -1.128526 -0.469835  ...  -0.477313   0.742923  -0.273225   \n",
              "...         ...       ...       ...  ...        ...        ...        ...   \n",
              "13995 -0.584659  1.458945  2.004759  ...  -1.634290  -1.527111  -1.008016   \n",
              "13996 -0.522647  2.316802  1.219339  ...  -0.409750   0.840944  -1.804313   \n",
              "13997  1.665492  3.719985 -0.278893  ...  -0.531223  -1.249847  -1.288419   \n",
              "13998  4.450028  0.947600  2.364395  ...  -1.451115  -4.188150  -2.397168   \n",
              "13999 -0.012964  1.571311  0.053566  ...   0.488547  -0.480647   0.498861   \n",
              "\n",
              "       I10_lag41  I10_lag42  I10_lag43  I10_lag44  I10_lag45  I10_lag46  \\\n",
              "ID                                                                        \n",
              "0       0.028682  -0.093626  -0.559840   0.562584  -0.557868   1.424906   \n",
              "1      -0.249607  -0.971215  -0.058408   1.460632  -0.653394  -1.743487   \n",
              "2       2.656251   1.062974  -0.484619  -0.044594   1.579731   0.962836   \n",
              "3       1.808275   2.837975   2.054112   0.741138   1.701911   0.110082   \n",
              "4       1.311015   0.744330   2.914322   1.030602   0.480722  -0.492838   \n",
              "...          ...        ...        ...        ...        ...        ...   \n",
              "13995  -0.500519   1.277636   1.257714   0.502732   1.751844   0.150679   \n",
              "13996   0.357944  -1.058557  -0.196874  -2.507582   0.125756   1.532976   \n",
              "13997  -0.897649  -0.199824  -0.033545   0.240647   2.188396   0.039340   \n",
              "13998  -1.126340  -0.841850  -4.231824  -2.640152  -4.048115  -4.629418   \n",
              "13999   1.053732   2.121583   2.547515   2.029551   0.592872  -0.079870   \n",
              "\n",
              "       I10_lag47  \n",
              "ID                \n",
              "0      -0.016294  \n",
              "1       4.065305  \n",
              "2       1.146983  \n",
              "3       0.114980  \n",
              "4       1.377958  \n",
              "...          ...  \n",
              "13995  -0.533808  \n",
              "13996  -1.087343  \n",
              "13997   0.756515  \n",
              "13998  -3.566115  \n",
              "13999   0.142056  \n",
              "\n",
              "[14000 rows x 485 columns]"
            ],
            "text/html": [
              "\n",
              "  <div id=\"df-cfcafe64-7ed3-4586-8927-6e05676c9c6e\">\n",
              "    <div class=\"colab-df-container\">\n",
              "      <div>\n",
              "<style scoped>\n",
              "    .dataframe tbody tr th:only-of-type {\n",
              "        vertical-align: middle;\n",
              "    }\n",
              "\n",
              "    .dataframe tbody tr th {\n",
              "        vertical-align: top;\n",
              "    }\n",
              "\n",
              "    .dataframe thead th {\n",
              "        text-align: right;\n",
              "    }\n",
              "</style>\n",
              "<table border=\"1\" class=\"dataframe\">\n",
              "  <thead>\n",
              "    <tr style=\"text-align: right;\">\n",
              "      <th></th>\n",
              "      <th>X1</th>\n",
              "      <th>X2</th>\n",
              "      <th>X3</th>\n",
              "      <th>X4</th>\n",
              "      <th>X5</th>\n",
              "      <th>I1_lag0</th>\n",
              "      <th>I1_lag1</th>\n",
              "      <th>I1_lag2</th>\n",
              "      <th>I1_lag3</th>\n",
              "      <th>I1_lag4</th>\n",
              "      <th>...</th>\n",
              "      <th>I10_lag38</th>\n",
              "      <th>I10_lag39</th>\n",
              "      <th>I10_lag40</th>\n",
              "      <th>I10_lag41</th>\n",
              "      <th>I10_lag42</th>\n",
              "      <th>I10_lag43</th>\n",
              "      <th>I10_lag44</th>\n",
              "      <th>I10_lag45</th>\n",
              "      <th>I10_lag46</th>\n",
              "      <th>I10_lag47</th>\n",
              "    </tr>\n",
              "    <tr>\n",
              "      <th>ID</th>\n",
              "      <th></th>\n",
              "      <th></th>\n",
              "      <th></th>\n",
              "      <th></th>\n",
              "      <th></th>\n",
              "      <th></th>\n",
              "      <th></th>\n",
              "      <th></th>\n",
              "      <th></th>\n",
              "      <th></th>\n",
              "      <th></th>\n",
              "      <th></th>\n",
              "      <th></th>\n",
              "      <th></th>\n",
              "      <th></th>\n",
              "      <th></th>\n",
              "      <th></th>\n",
              "      <th></th>\n",
              "      <th></th>\n",
              "      <th></th>\n",
              "      <th></th>\n",
              "    </tr>\n",
              "  </thead>\n",
              "  <tbody>\n",
              "    <tr>\n",
              "      <th>0</th>\n",
              "      <td>0.460020</td>\n",
              "      <td>0.620360</td>\n",
              "      <td>-0.972192</td>\n",
              "      <td>2.745197</td>\n",
              "      <td>4.177783</td>\n",
              "      <td>2.325865</td>\n",
              "      <td>2.060138</td>\n",
              "      <td>0.071162</td>\n",
              "      <td>2.360597</td>\n",
              "      <td>-0.611526</td>\n",
              "      <td>...</td>\n",
              "      <td>-0.342912</td>\n",
              "      <td>-0.194165</td>\n",
              "      <td>0.122331</td>\n",
              "      <td>0.028682</td>\n",
              "      <td>-0.093626</td>\n",
              "      <td>-0.559840</td>\n",
              "      <td>0.562584</td>\n",
              "      <td>-0.557868</td>\n",
              "      <td>1.424906</td>\n",
              "      <td>-0.016294</td>\n",
              "    </tr>\n",
              "    <tr>\n",
              "      <th>1</th>\n",
              "      <td>-0.347872</td>\n",
              "      <td>-2.199925</td>\n",
              "      <td>-0.222026</td>\n",
              "      <td>3.741888</td>\n",
              "      <td>8.608291</td>\n",
              "      <td>-4.091293</td>\n",
              "      <td>-3.502499</td>\n",
              "      <td>-1.463631</td>\n",
              "      <td>0.383153</td>\n",
              "      <td>-3.669962</td>\n",
              "      <td>...</td>\n",
              "      <td>1.261341</td>\n",
              "      <td>-0.082428</td>\n",
              "      <td>-1.035813</td>\n",
              "      <td>-0.249607</td>\n",
              "      <td>-0.971215</td>\n",
              "      <td>-0.058408</td>\n",
              "      <td>1.460632</td>\n",
              "      <td>-0.653394</td>\n",
              "      <td>-1.743487</td>\n",
              "      <td>4.065305</td>\n",
              "    </tr>\n",
              "    <tr>\n",
              "      <th>2</th>\n",
              "      <td>-2.152963</td>\n",
              "      <td>-0.432461</td>\n",
              "      <td>1.619057</td>\n",
              "      <td>-0.003912</td>\n",
              "      <td>3.870262</td>\n",
              "      <td>-0.598858</td>\n",
              "      <td>-0.412391</td>\n",
              "      <td>-0.765354</td>\n",
              "      <td>-0.998152</td>\n",
              "      <td>-0.938755</td>\n",
              "      <td>...</td>\n",
              "      <td>2.245204</td>\n",
              "      <td>3.002347</td>\n",
              "      <td>2.674186</td>\n",
              "      <td>2.656251</td>\n",
              "      <td>1.062974</td>\n",
              "      <td>-0.484619</td>\n",
              "      <td>-0.044594</td>\n",
              "      <td>1.579731</td>\n",
              "      <td>0.962836</td>\n",
              "      <td>1.146983</td>\n",
              "    </tr>\n",
              "    <tr>\n",
              "      <th>3</th>\n",
              "      <td>-1.827669</td>\n",
              "      <td>-1.881770</td>\n",
              "      <td>-4.214322</td>\n",
              "      <td>0.178225</td>\n",
              "      <td>0.992362</td>\n",
              "      <td>0.383757</td>\n",
              "      <td>2.512478</td>\n",
              "      <td>-0.383434</td>\n",
              "      <td>-0.208506</td>\n",
              "      <td>-1.104289</td>\n",
              "      <td>...</td>\n",
              "      <td>1.383203</td>\n",
              "      <td>-1.338892</td>\n",
              "      <td>0.298076</td>\n",
              "      <td>1.808275</td>\n",
              "      <td>2.837975</td>\n",
              "      <td>2.054112</td>\n",
              "      <td>0.741138</td>\n",
              "      <td>1.701911</td>\n",
              "      <td>0.110082</td>\n",
              "      <td>0.114980</td>\n",
              "    </tr>\n",
              "    <tr>\n",
              "      <th>4</th>\n",
              "      <td>0.748761</td>\n",
              "      <td>1.799939</td>\n",
              "      <td>1.561006</td>\n",
              "      <td>5.204120</td>\n",
              "      <td>2.161637</td>\n",
              "      <td>-1.275226</td>\n",
              "      <td>-1.544131</td>\n",
              "      <td>-1.802590</td>\n",
              "      <td>-1.128526</td>\n",
              "      <td>-0.469835</td>\n",
              "      <td>...</td>\n",
              "      <td>-0.477313</td>\n",
              "      <td>0.742923</td>\n",
              "      <td>-0.273225</td>\n",
              "      <td>1.311015</td>\n",
              "      <td>0.744330</td>\n",
              "      <td>2.914322</td>\n",
              "      <td>1.030602</td>\n",
              "      <td>0.480722</td>\n",
              "      <td>-0.492838</td>\n",
              "      <td>1.377958</td>\n",
              "    </tr>\n",
              "    <tr>\n",
              "      <th>...</th>\n",
              "      <td>...</td>\n",
              "      <td>...</td>\n",
              "      <td>...</td>\n",
              "      <td>...</td>\n",
              "      <td>...</td>\n",
              "      <td>...</td>\n",
              "      <td>...</td>\n",
              "      <td>...</td>\n",
              "      <td>...</td>\n",
              "      <td>...</td>\n",
              "      <td>...</td>\n",
              "      <td>...</td>\n",
              "      <td>...</td>\n",
              "      <td>...</td>\n",
              "      <td>...</td>\n",
              "      <td>...</td>\n",
              "      <td>...</td>\n",
              "      <td>...</td>\n",
              "      <td>...</td>\n",
              "      <td>...</td>\n",
              "      <td>...</td>\n",
              "    </tr>\n",
              "    <tr>\n",
              "      <th>13995</th>\n",
              "      <td>-0.074522</td>\n",
              "      <td>-0.472044</td>\n",
              "      <td>-2.860659</td>\n",
              "      <td>-1.266230</td>\n",
              "      <td>-10.229167</td>\n",
              "      <td>0.583145</td>\n",
              "      <td>-0.051301</td>\n",
              "      <td>-0.584659</td>\n",
              "      <td>1.458945</td>\n",
              "      <td>2.004759</td>\n",
              "      <td>...</td>\n",
              "      <td>-1.634290</td>\n",
              "      <td>-1.527111</td>\n",
              "      <td>-1.008016</td>\n",
              "      <td>-0.500519</td>\n",
              "      <td>1.277636</td>\n",
              "      <td>1.257714</td>\n",
              "      <td>0.502732</td>\n",
              "      <td>1.751844</td>\n",
              "      <td>0.150679</td>\n",
              "      <td>-0.533808</td>\n",
              "    </tr>\n",
              "    <tr>\n",
              "      <th>13996</th>\n",
              "      <td>1.730118</td>\n",
              "      <td>3.177408</td>\n",
              "      <td>0.816198</td>\n",
              "      <td>1.136877</td>\n",
              "      <td>-1.588960</td>\n",
              "      <td>1.011735</td>\n",
              "      <td>-0.185748</td>\n",
              "      <td>-0.522647</td>\n",
              "      <td>2.316802</td>\n",
              "      <td>1.219339</td>\n",
              "      <td>...</td>\n",
              "      <td>-0.409750</td>\n",
              "      <td>0.840944</td>\n",
              "      <td>-1.804313</td>\n",
              "      <td>0.357944</td>\n",
              "      <td>-1.058557</td>\n",
              "      <td>-0.196874</td>\n",
              "      <td>-2.507582</td>\n",
              "      <td>0.125756</td>\n",
              "      <td>1.532976</td>\n",
              "      <td>-1.087343</td>\n",
              "    </tr>\n",
              "    <tr>\n",
              "      <th>13997</th>\n",
              "      <td>2.093028</td>\n",
              "      <td>4.108092</td>\n",
              "      <td>1.056253</td>\n",
              "      <td>8.163642</td>\n",
              "      <td>8.916299</td>\n",
              "      <td>2.338713</td>\n",
              "      <td>2.554397</td>\n",
              "      <td>1.665492</td>\n",
              "      <td>3.719985</td>\n",
              "      <td>-0.278893</td>\n",
              "      <td>...</td>\n",
              "      <td>-0.531223</td>\n",
              "      <td>-1.249847</td>\n",
              "      <td>-1.288419</td>\n",
              "      <td>-0.897649</td>\n",
              "      <td>-0.199824</td>\n",
              "      <td>-0.033545</td>\n",
              "      <td>0.240647</td>\n",
              "      <td>2.188396</td>\n",
              "      <td>0.039340</td>\n",
              "      <td>0.756515</td>\n",
              "    </tr>\n",
              "    <tr>\n",
              "      <th>13998</th>\n",
              "      <td>1.483381</td>\n",
              "      <td>-1.602078</td>\n",
              "      <td>-2.851078</td>\n",
              "      <td>-2.639386</td>\n",
              "      <td>-4.805661</td>\n",
              "      <td>-2.252937</td>\n",
              "      <td>2.370613</td>\n",
              "      <td>4.450028</td>\n",
              "      <td>0.947600</td>\n",
              "      <td>2.364395</td>\n",
              "      <td>...</td>\n",
              "      <td>-1.451115</td>\n",
              "      <td>-4.188150</td>\n",
              "      <td>-2.397168</td>\n",
              "      <td>-1.126340</td>\n",
              "      <td>-0.841850</td>\n",
              "      <td>-4.231824</td>\n",
              "      <td>-2.640152</td>\n",
              "      <td>-4.048115</td>\n",
              "      <td>-4.629418</td>\n",
              "      <td>-3.566115</td>\n",
              "    </tr>\n",
              "    <tr>\n",
              "      <th>13999</th>\n",
              "      <td>-1.305992</td>\n",
              "      <td>1.129081</td>\n",
              "      <td>-0.223061</td>\n",
              "      <td>0.248722</td>\n",
              "      <td>1.326936</td>\n",
              "      <td>-0.496556</td>\n",
              "      <td>1.432433</td>\n",
              "      <td>-0.012964</td>\n",
              "      <td>1.571311</td>\n",
              "      <td>0.053566</td>\n",
              "      <td>...</td>\n",
              "      <td>0.488547</td>\n",
              "      <td>-0.480647</td>\n",
              "      <td>0.498861</td>\n",
              "      <td>1.053732</td>\n",
              "      <td>2.121583</td>\n",
              "      <td>2.547515</td>\n",
              "      <td>2.029551</td>\n",
              "      <td>0.592872</td>\n",
              "      <td>-0.079870</td>\n",
              "      <td>0.142056</td>\n",
              "    </tr>\n",
              "  </tbody>\n",
              "</table>\n",
              "<p>14000 rows × 485 columns</p>\n",
              "</div>\n",
              "      <button class=\"colab-df-convert\" onclick=\"convertToInteractive('df-cfcafe64-7ed3-4586-8927-6e05676c9c6e')\"\n",
              "              title=\"Convert this dataframe to an interactive table.\"\n",
              "              style=\"display:none;\">\n",
              "        \n",
              "  <svg xmlns=\"http://www.w3.org/2000/svg\" height=\"24px\"viewBox=\"0 0 24 24\"\n",
              "       width=\"24px\">\n",
              "    <path d=\"M0 0h24v24H0V0z\" fill=\"none\"/>\n",
              "    <path d=\"M18.56 5.44l.94 2.06.94-2.06 2.06-.94-2.06-.94-.94-2.06-.94 2.06-2.06.94zm-11 1L8.5 8.5l.94-2.06 2.06-.94-2.06-.94L8.5 2.5l-.94 2.06-2.06.94zm10 10l.94 2.06.94-2.06 2.06-.94-2.06-.94-.94-2.06-.94 2.06-2.06.94z\"/><path d=\"M17.41 7.96l-1.37-1.37c-.4-.4-.92-.59-1.43-.59-.52 0-1.04.2-1.43.59L10.3 9.45l-7.72 7.72c-.78.78-.78 2.05 0 2.83L4 21.41c.39.39.9.59 1.41.59.51 0 1.02-.2 1.41-.59l7.78-7.78 2.81-2.81c.8-.78.8-2.07 0-2.86zM5.41 20L4 18.59l7.72-7.72 1.47 1.35L5.41 20z\"/>\n",
              "  </svg>\n",
              "      </button>\n",
              "      \n",
              "  <style>\n",
              "    .colab-df-container {\n",
              "      display:flex;\n",
              "      flex-wrap:wrap;\n",
              "      gap: 12px;\n",
              "    }\n",
              "\n",
              "    .colab-df-convert {\n",
              "      background-color: #E8F0FE;\n",
              "      border: none;\n",
              "      border-radius: 50%;\n",
              "      cursor: pointer;\n",
              "      display: none;\n",
              "      fill: #1967D2;\n",
              "      height: 32px;\n",
              "      padding: 0 0 0 0;\n",
              "      width: 32px;\n",
              "    }\n",
              "\n",
              "    .colab-df-convert:hover {\n",
              "      background-color: #E2EBFA;\n",
              "      box-shadow: 0px 1px 2px rgba(60, 64, 67, 0.3), 0px 1px 3px 1px rgba(60, 64, 67, 0.15);\n",
              "      fill: #174EA6;\n",
              "    }\n",
              "\n",
              "    [theme=dark] .colab-df-convert {\n",
              "      background-color: #3B4455;\n",
              "      fill: #D2E3FC;\n",
              "    }\n",
              "\n",
              "    [theme=dark] .colab-df-convert:hover {\n",
              "      background-color: #434B5C;\n",
              "      box-shadow: 0px 1px 3px 1px rgba(0, 0, 0, 0.15);\n",
              "      filter: drop-shadow(0px 1px 2px rgba(0, 0, 0, 0.3));\n",
              "      fill: #FFFFFF;\n",
              "    }\n",
              "  </style>\n",
              "\n",
              "      <script>\n",
              "        const buttonEl =\n",
              "          document.querySelector('#df-cfcafe64-7ed3-4586-8927-6e05676c9c6e button.colab-df-convert');\n",
              "        buttonEl.style.display =\n",
              "          google.colab.kernel.accessAllowed ? 'block' : 'none';\n",
              "\n",
              "        async function convertToInteractive(key) {\n",
              "          const element = document.querySelector('#df-cfcafe64-7ed3-4586-8927-6e05676c9c6e');\n",
              "          const dataTable =\n",
              "            await google.colab.kernel.invokeFunction('convertToInteractive',\n",
              "                                                     [key], {});\n",
              "          if (!dataTable) return;\n",
              "\n",
              "          const docLinkHtml = 'Like what you see? Visit the ' +\n",
              "            '<a target=\"_blank\" href=https://colab.research.google.com/notebooks/data_table.ipynb>data table notebook</a>'\n",
              "            + ' to learn more about interactive tables.';\n",
              "          element.innerHTML = '';\n",
              "          dataTable['output_type'] = 'display_data';\n",
              "          await google.colab.output.renderOutput(dataTable, element);\n",
              "          const docLink = document.createElement('div');\n",
              "          docLink.innerHTML = docLinkHtml;\n",
              "          element.appendChild(docLink);\n",
              "        }\n",
              "      </script>\n",
              "    </div>\n",
              "  </div>\n",
              "  "
            ]
          },
          "metadata": {},
          "execution_count": 6
        }
      ]
    },
    {
      "cell_type": "code",
      "source": [
        "y_raw = pd.read_csv('/content/drive/MyDrive/Cruso-ApsFinancieras/semana7/output_training_F2dZW38.csv').set_index('ID')\n",
        "y_raw"
      ],
      "metadata": {
        "id": "29-SdvrDk-lz",
        "colab": {
          "base_uri": "https://localhost:8080/",
          "height": 455
        },
        "outputId": "3fd5ec95-cde8-429a-eb3d-c5334a65a5a8"
      },
      "execution_count": null,
      "outputs": [
        {
          "output_type": "execute_result",
          "data": {
            "text/plain": [
              "       Target -1  Target 0  Target 1\n",
              "ID                                  \n",
              "0              0         0         1\n",
              "1              1         0         0\n",
              "2              0         0         1\n",
              "3              1         0         0\n",
              "4              0         1         0\n",
              "...          ...       ...       ...\n",
              "13995          0         0         1\n",
              "13996          0         1         0\n",
              "13997          0         1         0\n",
              "13998          0         0         1\n",
              "13999          0         1         0\n",
              "\n",
              "[14000 rows x 3 columns]"
            ],
            "text/html": [
              "\n",
              "  <div id=\"df-cf62298f-b259-4eee-a646-cd26fdad1869\">\n",
              "    <div class=\"colab-df-container\">\n",
              "      <div>\n",
              "<style scoped>\n",
              "    .dataframe tbody tr th:only-of-type {\n",
              "        vertical-align: middle;\n",
              "    }\n",
              "\n",
              "    .dataframe tbody tr th {\n",
              "        vertical-align: top;\n",
              "    }\n",
              "\n",
              "    .dataframe thead th {\n",
              "        text-align: right;\n",
              "    }\n",
              "</style>\n",
              "<table border=\"1\" class=\"dataframe\">\n",
              "  <thead>\n",
              "    <tr style=\"text-align: right;\">\n",
              "      <th></th>\n",
              "      <th>Target -1</th>\n",
              "      <th>Target 0</th>\n",
              "      <th>Target 1</th>\n",
              "    </tr>\n",
              "    <tr>\n",
              "      <th>ID</th>\n",
              "      <th></th>\n",
              "      <th></th>\n",
              "      <th></th>\n",
              "    </tr>\n",
              "  </thead>\n",
              "  <tbody>\n",
              "    <tr>\n",
              "      <th>0</th>\n",
              "      <td>0</td>\n",
              "      <td>0</td>\n",
              "      <td>1</td>\n",
              "    </tr>\n",
              "    <tr>\n",
              "      <th>1</th>\n",
              "      <td>1</td>\n",
              "      <td>0</td>\n",
              "      <td>0</td>\n",
              "    </tr>\n",
              "    <tr>\n",
              "      <th>2</th>\n",
              "      <td>0</td>\n",
              "      <td>0</td>\n",
              "      <td>1</td>\n",
              "    </tr>\n",
              "    <tr>\n",
              "      <th>3</th>\n",
              "      <td>1</td>\n",
              "      <td>0</td>\n",
              "      <td>0</td>\n",
              "    </tr>\n",
              "    <tr>\n",
              "      <th>4</th>\n",
              "      <td>0</td>\n",
              "      <td>1</td>\n",
              "      <td>0</td>\n",
              "    </tr>\n",
              "    <tr>\n",
              "      <th>...</th>\n",
              "      <td>...</td>\n",
              "      <td>...</td>\n",
              "      <td>...</td>\n",
              "    </tr>\n",
              "    <tr>\n",
              "      <th>13995</th>\n",
              "      <td>0</td>\n",
              "      <td>0</td>\n",
              "      <td>1</td>\n",
              "    </tr>\n",
              "    <tr>\n",
              "      <th>13996</th>\n",
              "      <td>0</td>\n",
              "      <td>1</td>\n",
              "      <td>0</td>\n",
              "    </tr>\n",
              "    <tr>\n",
              "      <th>13997</th>\n",
              "      <td>0</td>\n",
              "      <td>1</td>\n",
              "      <td>0</td>\n",
              "    </tr>\n",
              "    <tr>\n",
              "      <th>13998</th>\n",
              "      <td>0</td>\n",
              "      <td>0</td>\n",
              "      <td>1</td>\n",
              "    </tr>\n",
              "    <tr>\n",
              "      <th>13999</th>\n",
              "      <td>0</td>\n",
              "      <td>1</td>\n",
              "      <td>0</td>\n",
              "    </tr>\n",
              "  </tbody>\n",
              "</table>\n",
              "<p>14000 rows × 3 columns</p>\n",
              "</div>\n",
              "      <button class=\"colab-df-convert\" onclick=\"convertToInteractive('df-cf62298f-b259-4eee-a646-cd26fdad1869')\"\n",
              "              title=\"Convert this dataframe to an interactive table.\"\n",
              "              style=\"display:none;\">\n",
              "        \n",
              "  <svg xmlns=\"http://www.w3.org/2000/svg\" height=\"24px\"viewBox=\"0 0 24 24\"\n",
              "       width=\"24px\">\n",
              "    <path d=\"M0 0h24v24H0V0z\" fill=\"none\"/>\n",
              "    <path d=\"M18.56 5.44l.94 2.06.94-2.06 2.06-.94-2.06-.94-.94-2.06-.94 2.06-2.06.94zm-11 1L8.5 8.5l.94-2.06 2.06-.94-2.06-.94L8.5 2.5l-.94 2.06-2.06.94zm10 10l.94 2.06.94-2.06 2.06-.94-2.06-.94-.94-2.06-.94 2.06-2.06.94z\"/><path d=\"M17.41 7.96l-1.37-1.37c-.4-.4-.92-.59-1.43-.59-.52 0-1.04.2-1.43.59L10.3 9.45l-7.72 7.72c-.78.78-.78 2.05 0 2.83L4 21.41c.39.39.9.59 1.41.59.51 0 1.02-.2 1.41-.59l7.78-7.78 2.81-2.81c.8-.78.8-2.07 0-2.86zM5.41 20L4 18.59l7.72-7.72 1.47 1.35L5.41 20z\"/>\n",
              "  </svg>\n",
              "      </button>\n",
              "      \n",
              "  <style>\n",
              "    .colab-df-container {\n",
              "      display:flex;\n",
              "      flex-wrap:wrap;\n",
              "      gap: 12px;\n",
              "    }\n",
              "\n",
              "    .colab-df-convert {\n",
              "      background-color: #E8F0FE;\n",
              "      border: none;\n",
              "      border-radius: 50%;\n",
              "      cursor: pointer;\n",
              "      display: none;\n",
              "      fill: #1967D2;\n",
              "      height: 32px;\n",
              "      padding: 0 0 0 0;\n",
              "      width: 32px;\n",
              "    }\n",
              "\n",
              "    .colab-df-convert:hover {\n",
              "      background-color: #E2EBFA;\n",
              "      box-shadow: 0px 1px 2px rgba(60, 64, 67, 0.3), 0px 1px 3px 1px rgba(60, 64, 67, 0.15);\n",
              "      fill: #174EA6;\n",
              "    }\n",
              "\n",
              "    [theme=dark] .colab-df-convert {\n",
              "      background-color: #3B4455;\n",
              "      fill: #D2E3FC;\n",
              "    }\n",
              "\n",
              "    [theme=dark] .colab-df-convert:hover {\n",
              "      background-color: #434B5C;\n",
              "      box-shadow: 0px 1px 3px 1px rgba(0, 0, 0, 0.15);\n",
              "      filter: drop-shadow(0px 1px 2px rgba(0, 0, 0, 0.3));\n",
              "      fill: #FFFFFF;\n",
              "    }\n",
              "  </style>\n",
              "\n",
              "      <script>\n",
              "        const buttonEl =\n",
              "          document.querySelector('#df-cf62298f-b259-4eee-a646-cd26fdad1869 button.colab-df-convert');\n",
              "        buttonEl.style.display =\n",
              "          google.colab.kernel.accessAllowed ? 'block' : 'none';\n",
              "\n",
              "        async function convertToInteractive(key) {\n",
              "          const element = document.querySelector('#df-cf62298f-b259-4eee-a646-cd26fdad1869');\n",
              "          const dataTable =\n",
              "            await google.colab.kernel.invokeFunction('convertToInteractive',\n",
              "                                                     [key], {});\n",
              "          if (!dataTable) return;\n",
              "\n",
              "          const docLinkHtml = 'Like what you see? Visit the ' +\n",
              "            '<a target=\"_blank\" href=https://colab.research.google.com/notebooks/data_table.ipynb>data table notebook</a>'\n",
              "            + ' to learn more about interactive tables.';\n",
              "          element.innerHTML = '';\n",
              "          dataTable['output_type'] = 'display_data';\n",
              "          await google.colab.output.renderOutput(dataTable, element);\n",
              "          const docLink = document.createElement('div');\n",
              "          docLink.innerHTML = docLinkHtml;\n",
              "          element.appendChild(docLink);\n",
              "        }\n",
              "      </script>\n",
              "    </div>\n",
              "  </div>\n",
              "  "
            ]
          },
          "metadata": {},
          "execution_count": 7
        }
      ]
    },
    {
      "cell_type": "markdown",
      "source": [
        "## División: Entrenamiento, Validación y Prueba"
      ],
      "metadata": {
        "id": "4fqHIttJ8RTL"
      }
    },
    {
      "cell_type": "code",
      "source": [
        "# Division para entrenamiento de red LSTM\n",
        "X_train, X_test, y_train, y_test = train_test_split(X_raw, y_raw, train_size = .8, random_state = 10, shuffle = False)\n",
        "X_train, X_val, y_train, y_val = train_test_split(X_train, y_train, train_size = .75, random_state = 10, shuffle = False)\n",
        "\n",
        "print('     Train shape', X_train.shape)\n",
        "print('Validation shape', X_val.shape)\n",
        "print('      Test shape', X_test.shape)"
      ],
      "metadata": {
        "colab": {
          "base_uri": "https://localhost:8080/"
        },
        "id": "1X0rE_Qj1Ys0",
        "outputId": "f28cc9d9-2518-428c-8f78-39fc08a866f3"
      },
      "execution_count": null,
      "outputs": [
        {
          "output_type": "stream",
          "name": "stdout",
          "text": [
            "     Train shape (8400, 485)\n",
            "Validation shape (2800, 485)\n",
            "      Test shape (2800, 485)\n"
          ]
        }
      ]
    },
    {
      "cell_type": "markdown",
      "source": [
        "## Transformaciones"
      ],
      "metadata": {
        "id": "LV5EgGdD8WAm"
      }
    },
    {
      "cell_type": "code",
      "source": [
        "len_prices = 5\n",
        "n_features = 10\n",
        "len_features = 48\n",
        "\n",
        "train_prices, train_features = transform_dataframe(X_train, len_prices, n_features, len_features)\n",
        "val_prices, val_features     = transform_dataframe(X_val,   len_prices, n_features, len_features)\n",
        "test_prices, test_features   = transform_dataframe(X_test,  len_prices, n_features, len_features)"
      ],
      "metadata": {
        "id": "E9kHbyBf-hUh"
      },
      "execution_count": null,
      "outputs": []
    },
    {
      "cell_type": "code",
      "source": [
        "print('        Labels: (samples, sequence length, features)')\n",
        "print('  Train prices:', train_prices.shape)\n",
        "print('Train features:', train_features.shape)"
      ],
      "metadata": {
        "colab": {
          "base_uri": "https://localhost:8080/"
        },
        "id": "D9vHnzXOGlJi",
        "outputId": "6428d1c9-1856-4a13-f031-06d852268ca6"
      },
      "execution_count": null,
      "outputs": [
        {
          "output_type": "stream",
          "name": "stdout",
          "text": [
            "        Labels: (samples, sequence length, features)\n",
            "  Train prices: (8400, 5, 1)\n",
            "Train features: (8400, 48, 10)\n"
          ]
        }
      ]
    },
    {
      "cell_type": "markdown",
      "source": [
        "# Algoritmos-Modelos"
      ],
      "metadata": {
        "id": "Z8wnN8eN8fbZ"
      }
    },
    {
      "cell_type": "markdown",
      "source": [
        "## Regresión logística"
      ],
      "metadata": {
        "id": "NfcAiYGc994C"
      }
    },
    {
      "cell_type": "markdown",
      "source": [
        "El punto de referencia de los propietarios de los datos es una regresión logística tomando como características X1, $\\dots$, X5."
      ],
      "metadata": {
        "id": "0B2PDjT2-_n-"
      }
    },
    {
      "cell_type": "code",
      "source": [
        "from sklearn.linear_model import LogisticRegression"
      ],
      "metadata": {
        "id": "XxRMOiQR2d3H"
      },
      "execution_count": null,
      "outputs": []
    },
    {
      "cell_type": "code",
      "source": [
        "# Impresion bonita de los números, sin notación científica\n",
        "np.set_printoptions(suppress=True)\n",
        "train_prices"
      ],
      "metadata": {
        "colab": {
          "base_uri": "https://localhost:8080/"
        },
        "id": "hi_GmUvP3InB",
        "outputId": "9294728e-5e8c-4c82-9d1a-2994d985c708"
      },
      "execution_count": null,
      "outputs": [
        {
          "output_type": "execute_result",
          "data": {
            "text/plain": [
              "array([[[ 4.17778324],\n",
              "        [ 2.74519725],\n",
              "        [-0.97219231],\n",
              "        [ 0.62035968],\n",
              "        [ 0.46002033]],\n",
              "\n",
              "       [[ 8.60829058],\n",
              "        [ 3.74188805],\n",
              "        [-0.22202592],\n",
              "        [-2.19992478],\n",
              "        [-0.34787206]],\n",
              "\n",
              "       [[ 3.87026224],\n",
              "        [-0.00391238],\n",
              "        [ 1.61905739],\n",
              "        [-0.43246086],\n",
              "        [-2.15296262]],\n",
              "\n",
              "       ...,\n",
              "\n",
              "       [[-8.01161549],\n",
              "        [-3.25267826],\n",
              "        [-3.23511161],\n",
              "        [-4.42009744],\n",
              "        [-1.64528608]],\n",
              "\n",
              "       [[-5.7431553 ],\n",
              "        [-4.55756999],\n",
              "        [-4.1314012 ],\n",
              "        [-4.21510083],\n",
              "        [ 0.26622901]],\n",
              "\n",
              "       [[ 3.53645002],\n",
              "        [ 6.40746335],\n",
              "        [ 0.75612526],\n",
              "        [ 1.8952313 ],\n",
              "        [ 1.59236659]]])"
            ]
          },
          "metadata": {},
          "execution_count": 14
        }
      ]
    },
    {
      "cell_type": "code",
      "source": [
        "X_train_0, X_test_0, y_train_0, y_test_0 = train_test_split(X_raw, y_raw, train_size = .8, random_state = 10, shuffle = False)"
      ],
      "metadata": {
        "id": "-gaJ6tl43i7w"
      },
      "execution_count": null,
      "outputs": []
    },
    {
      "cell_type": "code",
      "source": [
        "X_train_0 = X_train_0[['X1', 'X2', 'X3', 'X4', 'X5']]\n",
        "X_train_0"
      ],
      "metadata": {
        "colab": {
          "base_uri": "https://localhost:8080/",
          "height": 455
        },
        "id": "ZF4hOjid3tza",
        "outputId": "49f263b2-ccc1-4d23-deef-5ad82e84cf58"
      },
      "execution_count": null,
      "outputs": [
        {
          "output_type": "execute_result",
          "data": {
            "text/plain": [
              "             X1        X2        X3        X4         X5\n",
              "ID                                                      \n",
              "0      0.460020  0.620360 -0.972192  2.745197   4.177783\n",
              "1     -0.347872 -2.199925 -0.222026  3.741888   8.608291\n",
              "2     -2.152963 -0.432461  1.619057 -0.003912   3.870262\n",
              "3     -1.827669 -1.881770 -4.214322  0.178225   0.992362\n",
              "4      0.748761  1.799939  1.561006  5.204120   2.161637\n",
              "...         ...       ...       ...       ...        ...\n",
              "11195 -0.197817 -0.503618 -5.999348 -7.625040  -2.796258\n",
              "11196  0.511663  1.874224  0.079970  2.570751   7.507616\n",
              "11197  3.405716  4.082560  5.426551  4.861720  10.263339\n",
              "11198  0.476242  2.696333  3.123024  5.921784  -2.697430\n",
              "11199 -0.114793  2.307844  2.853960  5.231252  -2.617616\n",
              "\n",
              "[11200 rows x 5 columns]"
            ],
            "text/html": [
              "\n",
              "  <div id=\"df-f9d3a4ad-c35a-4e8d-8443-d27b4b639eea\">\n",
              "    <div class=\"colab-df-container\">\n",
              "      <div>\n",
              "<style scoped>\n",
              "    .dataframe tbody tr th:only-of-type {\n",
              "        vertical-align: middle;\n",
              "    }\n",
              "\n",
              "    .dataframe tbody tr th {\n",
              "        vertical-align: top;\n",
              "    }\n",
              "\n",
              "    .dataframe thead th {\n",
              "        text-align: right;\n",
              "    }\n",
              "</style>\n",
              "<table border=\"1\" class=\"dataframe\">\n",
              "  <thead>\n",
              "    <tr style=\"text-align: right;\">\n",
              "      <th></th>\n",
              "      <th>X1</th>\n",
              "      <th>X2</th>\n",
              "      <th>X3</th>\n",
              "      <th>X4</th>\n",
              "      <th>X5</th>\n",
              "    </tr>\n",
              "    <tr>\n",
              "      <th>ID</th>\n",
              "      <th></th>\n",
              "      <th></th>\n",
              "      <th></th>\n",
              "      <th></th>\n",
              "      <th></th>\n",
              "    </tr>\n",
              "  </thead>\n",
              "  <tbody>\n",
              "    <tr>\n",
              "      <th>0</th>\n",
              "      <td>0.460020</td>\n",
              "      <td>0.620360</td>\n",
              "      <td>-0.972192</td>\n",
              "      <td>2.745197</td>\n",
              "      <td>4.177783</td>\n",
              "    </tr>\n",
              "    <tr>\n",
              "      <th>1</th>\n",
              "      <td>-0.347872</td>\n",
              "      <td>-2.199925</td>\n",
              "      <td>-0.222026</td>\n",
              "      <td>3.741888</td>\n",
              "      <td>8.608291</td>\n",
              "    </tr>\n",
              "    <tr>\n",
              "      <th>2</th>\n",
              "      <td>-2.152963</td>\n",
              "      <td>-0.432461</td>\n",
              "      <td>1.619057</td>\n",
              "      <td>-0.003912</td>\n",
              "      <td>3.870262</td>\n",
              "    </tr>\n",
              "    <tr>\n",
              "      <th>3</th>\n",
              "      <td>-1.827669</td>\n",
              "      <td>-1.881770</td>\n",
              "      <td>-4.214322</td>\n",
              "      <td>0.178225</td>\n",
              "      <td>0.992362</td>\n",
              "    </tr>\n",
              "    <tr>\n",
              "      <th>4</th>\n",
              "      <td>0.748761</td>\n",
              "      <td>1.799939</td>\n",
              "      <td>1.561006</td>\n",
              "      <td>5.204120</td>\n",
              "      <td>2.161637</td>\n",
              "    </tr>\n",
              "    <tr>\n",
              "      <th>...</th>\n",
              "      <td>...</td>\n",
              "      <td>...</td>\n",
              "      <td>...</td>\n",
              "      <td>...</td>\n",
              "      <td>...</td>\n",
              "    </tr>\n",
              "    <tr>\n",
              "      <th>11195</th>\n",
              "      <td>-0.197817</td>\n",
              "      <td>-0.503618</td>\n",
              "      <td>-5.999348</td>\n",
              "      <td>-7.625040</td>\n",
              "      <td>-2.796258</td>\n",
              "    </tr>\n",
              "    <tr>\n",
              "      <th>11196</th>\n",
              "      <td>0.511663</td>\n",
              "      <td>1.874224</td>\n",
              "      <td>0.079970</td>\n",
              "      <td>2.570751</td>\n",
              "      <td>7.507616</td>\n",
              "    </tr>\n",
              "    <tr>\n",
              "      <th>11197</th>\n",
              "      <td>3.405716</td>\n",
              "      <td>4.082560</td>\n",
              "      <td>5.426551</td>\n",
              "      <td>4.861720</td>\n",
              "      <td>10.263339</td>\n",
              "    </tr>\n",
              "    <tr>\n",
              "      <th>11198</th>\n",
              "      <td>0.476242</td>\n",
              "      <td>2.696333</td>\n",
              "      <td>3.123024</td>\n",
              "      <td>5.921784</td>\n",
              "      <td>-2.697430</td>\n",
              "    </tr>\n",
              "    <tr>\n",
              "      <th>11199</th>\n",
              "      <td>-0.114793</td>\n",
              "      <td>2.307844</td>\n",
              "      <td>2.853960</td>\n",
              "      <td>5.231252</td>\n",
              "      <td>-2.617616</td>\n",
              "    </tr>\n",
              "  </tbody>\n",
              "</table>\n",
              "<p>11200 rows × 5 columns</p>\n",
              "</div>\n",
              "      <button class=\"colab-df-convert\" onclick=\"convertToInteractive('df-f9d3a4ad-c35a-4e8d-8443-d27b4b639eea')\"\n",
              "              title=\"Convert this dataframe to an interactive table.\"\n",
              "              style=\"display:none;\">\n",
              "        \n",
              "  <svg xmlns=\"http://www.w3.org/2000/svg\" height=\"24px\"viewBox=\"0 0 24 24\"\n",
              "       width=\"24px\">\n",
              "    <path d=\"M0 0h24v24H0V0z\" fill=\"none\"/>\n",
              "    <path d=\"M18.56 5.44l.94 2.06.94-2.06 2.06-.94-2.06-.94-.94-2.06-.94 2.06-2.06.94zm-11 1L8.5 8.5l.94-2.06 2.06-.94-2.06-.94L8.5 2.5l-.94 2.06-2.06.94zm10 10l.94 2.06.94-2.06 2.06-.94-2.06-.94-.94-2.06-.94 2.06-2.06.94z\"/><path d=\"M17.41 7.96l-1.37-1.37c-.4-.4-.92-.59-1.43-.59-.52 0-1.04.2-1.43.59L10.3 9.45l-7.72 7.72c-.78.78-.78 2.05 0 2.83L4 21.41c.39.39.9.59 1.41.59.51 0 1.02-.2 1.41-.59l7.78-7.78 2.81-2.81c.8-.78.8-2.07 0-2.86zM5.41 20L4 18.59l7.72-7.72 1.47 1.35L5.41 20z\"/>\n",
              "  </svg>\n",
              "      </button>\n",
              "      \n",
              "  <style>\n",
              "    .colab-df-container {\n",
              "      display:flex;\n",
              "      flex-wrap:wrap;\n",
              "      gap: 12px;\n",
              "    }\n",
              "\n",
              "    .colab-df-convert {\n",
              "      background-color: #E8F0FE;\n",
              "      border: none;\n",
              "      border-radius: 50%;\n",
              "      cursor: pointer;\n",
              "      display: none;\n",
              "      fill: #1967D2;\n",
              "      height: 32px;\n",
              "      padding: 0 0 0 0;\n",
              "      width: 32px;\n",
              "    }\n",
              "\n",
              "    .colab-df-convert:hover {\n",
              "      background-color: #E2EBFA;\n",
              "      box-shadow: 0px 1px 2px rgba(60, 64, 67, 0.3), 0px 1px 3px 1px rgba(60, 64, 67, 0.15);\n",
              "      fill: #174EA6;\n",
              "    }\n",
              "\n",
              "    [theme=dark] .colab-df-convert {\n",
              "      background-color: #3B4455;\n",
              "      fill: #D2E3FC;\n",
              "    }\n",
              "\n",
              "    [theme=dark] .colab-df-convert:hover {\n",
              "      background-color: #434B5C;\n",
              "      box-shadow: 0px 1px 3px 1px rgba(0, 0, 0, 0.15);\n",
              "      filter: drop-shadow(0px 1px 2px rgba(0, 0, 0, 0.3));\n",
              "      fill: #FFFFFF;\n",
              "    }\n",
              "  </style>\n",
              "\n",
              "      <script>\n",
              "        const buttonEl =\n",
              "          document.querySelector('#df-f9d3a4ad-c35a-4e8d-8443-d27b4b639eea button.colab-df-convert');\n",
              "        buttonEl.style.display =\n",
              "          google.colab.kernel.accessAllowed ? 'block' : 'none';\n",
              "\n",
              "        async function convertToInteractive(key) {\n",
              "          const element = document.querySelector('#df-f9d3a4ad-c35a-4e8d-8443-d27b4b639eea');\n",
              "          const dataTable =\n",
              "            await google.colab.kernel.invokeFunction('convertToInteractive',\n",
              "                                                     [key], {});\n",
              "          if (!dataTable) return;\n",
              "\n",
              "          const docLinkHtml = 'Like what you see? Visit the ' +\n",
              "            '<a target=\"_blank\" href=https://colab.research.google.com/notebooks/data_table.ipynb>data table notebook</a>'\n",
              "            + ' to learn more about interactive tables.';\n",
              "          element.innerHTML = '';\n",
              "          dataTable['output_type'] = 'display_data';\n",
              "          await google.colab.output.renderOutput(dataTable, element);\n",
              "          const docLink = document.createElement('div');\n",
              "          docLink.innerHTML = docLinkHtml;\n",
              "          element.appendChild(docLink);\n",
              "        }\n",
              "      </script>\n",
              "    </div>\n",
              "  </div>\n",
              "  "
            ]
          },
          "metadata": {},
          "execution_count": 16
        }
      ]
    },
    {
      "cell_type": "code",
      "source": [
        "X_test_0 = X_test_0[['X1', 'X2', 'X3', 'X4', 'X5']]\n",
        "X_test_0"
      ],
      "metadata": {
        "colab": {
          "base_uri": "https://localhost:8080/",
          "height": 455
        },
        "id": "dJZBRMLB4ueT",
        "outputId": "c82e546e-f3d3-4b2d-fe5d-da82cfa385ca"
      },
      "execution_count": null,
      "outputs": [
        {
          "output_type": "execute_result",
          "data": {
            "text/plain": [
              "             X1        X2        X3        X4         X5\n",
              "ID                                                      \n",
              "11200 -0.214679  3.356129  4.749172  5.709250   1.351358\n",
              "11201 -1.192837  0.957475 -0.430136 -2.751596   6.960146\n",
              "11202  0.450306 -0.061307  0.284349  2.194250  -3.470744\n",
              "11203  0.169981  0.180298  5.055600  3.872075   7.453231\n",
              "11204  0.223090 -0.213792  4.367535  4.579829   6.908846\n",
              "...         ...       ...       ...       ...        ...\n",
              "13995 -0.074522 -0.472044 -2.860659 -1.266230 -10.229167\n",
              "13996  1.730118  3.177408  0.816198  1.136877  -1.588960\n",
              "13997  2.093028  4.108092  1.056253  8.163642   8.916299\n",
              "13998  1.483381 -1.602078 -2.851078 -2.639386  -4.805661\n",
              "13999 -1.305992  1.129081 -0.223061  0.248722   1.326936\n",
              "\n",
              "[2800 rows x 5 columns]"
            ],
            "text/html": [
              "\n",
              "  <div id=\"df-253b6e1a-8f10-4384-9409-1b95d2e9301c\">\n",
              "    <div class=\"colab-df-container\">\n",
              "      <div>\n",
              "<style scoped>\n",
              "    .dataframe tbody tr th:only-of-type {\n",
              "        vertical-align: middle;\n",
              "    }\n",
              "\n",
              "    .dataframe tbody tr th {\n",
              "        vertical-align: top;\n",
              "    }\n",
              "\n",
              "    .dataframe thead th {\n",
              "        text-align: right;\n",
              "    }\n",
              "</style>\n",
              "<table border=\"1\" class=\"dataframe\">\n",
              "  <thead>\n",
              "    <tr style=\"text-align: right;\">\n",
              "      <th></th>\n",
              "      <th>X1</th>\n",
              "      <th>X2</th>\n",
              "      <th>X3</th>\n",
              "      <th>X4</th>\n",
              "      <th>X5</th>\n",
              "    </tr>\n",
              "    <tr>\n",
              "      <th>ID</th>\n",
              "      <th></th>\n",
              "      <th></th>\n",
              "      <th></th>\n",
              "      <th></th>\n",
              "      <th></th>\n",
              "    </tr>\n",
              "  </thead>\n",
              "  <tbody>\n",
              "    <tr>\n",
              "      <th>11200</th>\n",
              "      <td>-0.214679</td>\n",
              "      <td>3.356129</td>\n",
              "      <td>4.749172</td>\n",
              "      <td>5.709250</td>\n",
              "      <td>1.351358</td>\n",
              "    </tr>\n",
              "    <tr>\n",
              "      <th>11201</th>\n",
              "      <td>-1.192837</td>\n",
              "      <td>0.957475</td>\n",
              "      <td>-0.430136</td>\n",
              "      <td>-2.751596</td>\n",
              "      <td>6.960146</td>\n",
              "    </tr>\n",
              "    <tr>\n",
              "      <th>11202</th>\n",
              "      <td>0.450306</td>\n",
              "      <td>-0.061307</td>\n",
              "      <td>0.284349</td>\n",
              "      <td>2.194250</td>\n",
              "      <td>-3.470744</td>\n",
              "    </tr>\n",
              "    <tr>\n",
              "      <th>11203</th>\n",
              "      <td>0.169981</td>\n",
              "      <td>0.180298</td>\n",
              "      <td>5.055600</td>\n",
              "      <td>3.872075</td>\n",
              "      <td>7.453231</td>\n",
              "    </tr>\n",
              "    <tr>\n",
              "      <th>11204</th>\n",
              "      <td>0.223090</td>\n",
              "      <td>-0.213792</td>\n",
              "      <td>4.367535</td>\n",
              "      <td>4.579829</td>\n",
              "      <td>6.908846</td>\n",
              "    </tr>\n",
              "    <tr>\n",
              "      <th>...</th>\n",
              "      <td>...</td>\n",
              "      <td>...</td>\n",
              "      <td>...</td>\n",
              "      <td>...</td>\n",
              "      <td>...</td>\n",
              "    </tr>\n",
              "    <tr>\n",
              "      <th>13995</th>\n",
              "      <td>-0.074522</td>\n",
              "      <td>-0.472044</td>\n",
              "      <td>-2.860659</td>\n",
              "      <td>-1.266230</td>\n",
              "      <td>-10.229167</td>\n",
              "    </tr>\n",
              "    <tr>\n",
              "      <th>13996</th>\n",
              "      <td>1.730118</td>\n",
              "      <td>3.177408</td>\n",
              "      <td>0.816198</td>\n",
              "      <td>1.136877</td>\n",
              "      <td>-1.588960</td>\n",
              "    </tr>\n",
              "    <tr>\n",
              "      <th>13997</th>\n",
              "      <td>2.093028</td>\n",
              "      <td>4.108092</td>\n",
              "      <td>1.056253</td>\n",
              "      <td>8.163642</td>\n",
              "      <td>8.916299</td>\n",
              "    </tr>\n",
              "    <tr>\n",
              "      <th>13998</th>\n",
              "      <td>1.483381</td>\n",
              "      <td>-1.602078</td>\n",
              "      <td>-2.851078</td>\n",
              "      <td>-2.639386</td>\n",
              "      <td>-4.805661</td>\n",
              "    </tr>\n",
              "    <tr>\n",
              "      <th>13999</th>\n",
              "      <td>-1.305992</td>\n",
              "      <td>1.129081</td>\n",
              "      <td>-0.223061</td>\n",
              "      <td>0.248722</td>\n",
              "      <td>1.326936</td>\n",
              "    </tr>\n",
              "  </tbody>\n",
              "</table>\n",
              "<p>2800 rows × 5 columns</p>\n",
              "</div>\n",
              "      <button class=\"colab-df-convert\" onclick=\"convertToInteractive('df-253b6e1a-8f10-4384-9409-1b95d2e9301c')\"\n",
              "              title=\"Convert this dataframe to an interactive table.\"\n",
              "              style=\"display:none;\">\n",
              "        \n",
              "  <svg xmlns=\"http://www.w3.org/2000/svg\" height=\"24px\"viewBox=\"0 0 24 24\"\n",
              "       width=\"24px\">\n",
              "    <path d=\"M0 0h24v24H0V0z\" fill=\"none\"/>\n",
              "    <path d=\"M18.56 5.44l.94 2.06.94-2.06 2.06-.94-2.06-.94-.94-2.06-.94 2.06-2.06.94zm-11 1L8.5 8.5l.94-2.06 2.06-.94-2.06-.94L8.5 2.5l-.94 2.06-2.06.94zm10 10l.94 2.06.94-2.06 2.06-.94-2.06-.94-.94-2.06-.94 2.06-2.06.94z\"/><path d=\"M17.41 7.96l-1.37-1.37c-.4-.4-.92-.59-1.43-.59-.52 0-1.04.2-1.43.59L10.3 9.45l-7.72 7.72c-.78.78-.78 2.05 0 2.83L4 21.41c.39.39.9.59 1.41.59.51 0 1.02-.2 1.41-.59l7.78-7.78 2.81-2.81c.8-.78.8-2.07 0-2.86zM5.41 20L4 18.59l7.72-7.72 1.47 1.35L5.41 20z\"/>\n",
              "  </svg>\n",
              "      </button>\n",
              "      \n",
              "  <style>\n",
              "    .colab-df-container {\n",
              "      display:flex;\n",
              "      flex-wrap:wrap;\n",
              "      gap: 12px;\n",
              "    }\n",
              "\n",
              "    .colab-df-convert {\n",
              "      background-color: #E8F0FE;\n",
              "      border: none;\n",
              "      border-radius: 50%;\n",
              "      cursor: pointer;\n",
              "      display: none;\n",
              "      fill: #1967D2;\n",
              "      height: 32px;\n",
              "      padding: 0 0 0 0;\n",
              "      width: 32px;\n",
              "    }\n",
              "\n",
              "    .colab-df-convert:hover {\n",
              "      background-color: #E2EBFA;\n",
              "      box-shadow: 0px 1px 2px rgba(60, 64, 67, 0.3), 0px 1px 3px 1px rgba(60, 64, 67, 0.15);\n",
              "      fill: #174EA6;\n",
              "    }\n",
              "\n",
              "    [theme=dark] .colab-df-convert {\n",
              "      background-color: #3B4455;\n",
              "      fill: #D2E3FC;\n",
              "    }\n",
              "\n",
              "    [theme=dark] .colab-df-convert:hover {\n",
              "      background-color: #434B5C;\n",
              "      box-shadow: 0px 1px 3px 1px rgba(0, 0, 0, 0.15);\n",
              "      filter: drop-shadow(0px 1px 2px rgba(0, 0, 0, 0.3));\n",
              "      fill: #FFFFFF;\n",
              "    }\n",
              "  </style>\n",
              "\n",
              "      <script>\n",
              "        const buttonEl =\n",
              "          document.querySelector('#df-253b6e1a-8f10-4384-9409-1b95d2e9301c button.colab-df-convert');\n",
              "        buttonEl.style.display =\n",
              "          google.colab.kernel.accessAllowed ? 'block' : 'none';\n",
              "\n",
              "        async function convertToInteractive(key) {\n",
              "          const element = document.querySelector('#df-253b6e1a-8f10-4384-9409-1b95d2e9301c');\n",
              "          const dataTable =\n",
              "            await google.colab.kernel.invokeFunction('convertToInteractive',\n",
              "                                                     [key], {});\n",
              "          if (!dataTable) return;\n",
              "\n",
              "          const docLinkHtml = 'Like what you see? Visit the ' +\n",
              "            '<a target=\"_blank\" href=https://colab.research.google.com/notebooks/data_table.ipynb>data table notebook</a>'\n",
              "            + ' to learn more about interactive tables.';\n",
              "          element.innerHTML = '';\n",
              "          dataTable['output_type'] = 'display_data';\n",
              "          await google.colab.output.renderOutput(dataTable, element);\n",
              "          const docLink = document.createElement('div');\n",
              "          docLink.innerHTML = docLinkHtml;\n",
              "          element.appendChild(docLink);\n",
              "        }\n",
              "      </script>\n",
              "    </div>\n",
              "  </div>\n",
              "  "
            ]
          },
          "metadata": {},
          "execution_count": 17
        }
      ]
    },
    {
      "cell_type": "code",
      "source": [
        "y_train_0"
      ],
      "metadata": {
        "colab": {
          "base_uri": "https://localhost:8080/",
          "height": 455
        },
        "id": "o_7JNo-aII09",
        "outputId": "7687ad37-335f-4fec-c03d-26e4c1d01b25"
      },
      "execution_count": null,
      "outputs": [
        {
          "output_type": "execute_result",
          "data": {
            "text/plain": [
              "       Target -1  Target 0  Target 1\n",
              "ID                                  \n",
              "0              0         0         1\n",
              "1              1         0         0\n",
              "2              0         0         1\n",
              "3              1         0         0\n",
              "4              0         1         0\n",
              "...          ...       ...       ...\n",
              "11195          1         0         0\n",
              "11196          1         0         0\n",
              "11197          0         1         0\n",
              "11198          1         0         0\n",
              "11199          0         0         1\n",
              "\n",
              "[11200 rows x 3 columns]"
            ],
            "text/html": [
              "\n",
              "  <div id=\"df-1e3b0826-a1b7-4169-88ec-fcd887b4fb6e\">\n",
              "    <div class=\"colab-df-container\">\n",
              "      <div>\n",
              "<style scoped>\n",
              "    .dataframe tbody tr th:only-of-type {\n",
              "        vertical-align: middle;\n",
              "    }\n",
              "\n",
              "    .dataframe tbody tr th {\n",
              "        vertical-align: top;\n",
              "    }\n",
              "\n",
              "    .dataframe thead th {\n",
              "        text-align: right;\n",
              "    }\n",
              "</style>\n",
              "<table border=\"1\" class=\"dataframe\">\n",
              "  <thead>\n",
              "    <tr style=\"text-align: right;\">\n",
              "      <th></th>\n",
              "      <th>Target -1</th>\n",
              "      <th>Target 0</th>\n",
              "      <th>Target 1</th>\n",
              "    </tr>\n",
              "    <tr>\n",
              "      <th>ID</th>\n",
              "      <th></th>\n",
              "      <th></th>\n",
              "      <th></th>\n",
              "    </tr>\n",
              "  </thead>\n",
              "  <tbody>\n",
              "    <tr>\n",
              "      <th>0</th>\n",
              "      <td>0</td>\n",
              "      <td>0</td>\n",
              "      <td>1</td>\n",
              "    </tr>\n",
              "    <tr>\n",
              "      <th>1</th>\n",
              "      <td>1</td>\n",
              "      <td>0</td>\n",
              "      <td>0</td>\n",
              "    </tr>\n",
              "    <tr>\n",
              "      <th>2</th>\n",
              "      <td>0</td>\n",
              "      <td>0</td>\n",
              "      <td>1</td>\n",
              "    </tr>\n",
              "    <tr>\n",
              "      <th>3</th>\n",
              "      <td>1</td>\n",
              "      <td>0</td>\n",
              "      <td>0</td>\n",
              "    </tr>\n",
              "    <tr>\n",
              "      <th>4</th>\n",
              "      <td>0</td>\n",
              "      <td>1</td>\n",
              "      <td>0</td>\n",
              "    </tr>\n",
              "    <tr>\n",
              "      <th>...</th>\n",
              "      <td>...</td>\n",
              "      <td>...</td>\n",
              "      <td>...</td>\n",
              "    </tr>\n",
              "    <tr>\n",
              "      <th>11195</th>\n",
              "      <td>1</td>\n",
              "      <td>0</td>\n",
              "      <td>0</td>\n",
              "    </tr>\n",
              "    <tr>\n",
              "      <th>11196</th>\n",
              "      <td>1</td>\n",
              "      <td>0</td>\n",
              "      <td>0</td>\n",
              "    </tr>\n",
              "    <tr>\n",
              "      <th>11197</th>\n",
              "      <td>0</td>\n",
              "      <td>1</td>\n",
              "      <td>0</td>\n",
              "    </tr>\n",
              "    <tr>\n",
              "      <th>11198</th>\n",
              "      <td>1</td>\n",
              "      <td>0</td>\n",
              "      <td>0</td>\n",
              "    </tr>\n",
              "    <tr>\n",
              "      <th>11199</th>\n",
              "      <td>0</td>\n",
              "      <td>0</td>\n",
              "      <td>1</td>\n",
              "    </tr>\n",
              "  </tbody>\n",
              "</table>\n",
              "<p>11200 rows × 3 columns</p>\n",
              "</div>\n",
              "      <button class=\"colab-df-convert\" onclick=\"convertToInteractive('df-1e3b0826-a1b7-4169-88ec-fcd887b4fb6e')\"\n",
              "              title=\"Convert this dataframe to an interactive table.\"\n",
              "              style=\"display:none;\">\n",
              "        \n",
              "  <svg xmlns=\"http://www.w3.org/2000/svg\" height=\"24px\"viewBox=\"0 0 24 24\"\n",
              "       width=\"24px\">\n",
              "    <path d=\"M0 0h24v24H0V0z\" fill=\"none\"/>\n",
              "    <path d=\"M18.56 5.44l.94 2.06.94-2.06 2.06-.94-2.06-.94-.94-2.06-.94 2.06-2.06.94zm-11 1L8.5 8.5l.94-2.06 2.06-.94-2.06-.94L8.5 2.5l-.94 2.06-2.06.94zm10 10l.94 2.06.94-2.06 2.06-.94-2.06-.94-.94-2.06-.94 2.06-2.06.94z\"/><path d=\"M17.41 7.96l-1.37-1.37c-.4-.4-.92-.59-1.43-.59-.52 0-1.04.2-1.43.59L10.3 9.45l-7.72 7.72c-.78.78-.78 2.05 0 2.83L4 21.41c.39.39.9.59 1.41.59.51 0 1.02-.2 1.41-.59l7.78-7.78 2.81-2.81c.8-.78.8-2.07 0-2.86zM5.41 20L4 18.59l7.72-7.72 1.47 1.35L5.41 20z\"/>\n",
              "  </svg>\n",
              "      </button>\n",
              "      \n",
              "  <style>\n",
              "    .colab-df-container {\n",
              "      display:flex;\n",
              "      flex-wrap:wrap;\n",
              "      gap: 12px;\n",
              "    }\n",
              "\n",
              "    .colab-df-convert {\n",
              "      background-color: #E8F0FE;\n",
              "      border: none;\n",
              "      border-radius: 50%;\n",
              "      cursor: pointer;\n",
              "      display: none;\n",
              "      fill: #1967D2;\n",
              "      height: 32px;\n",
              "      padding: 0 0 0 0;\n",
              "      width: 32px;\n",
              "    }\n",
              "\n",
              "    .colab-df-convert:hover {\n",
              "      background-color: #E2EBFA;\n",
              "      box-shadow: 0px 1px 2px rgba(60, 64, 67, 0.3), 0px 1px 3px 1px rgba(60, 64, 67, 0.15);\n",
              "      fill: #174EA6;\n",
              "    }\n",
              "\n",
              "    [theme=dark] .colab-df-convert {\n",
              "      background-color: #3B4455;\n",
              "      fill: #D2E3FC;\n",
              "    }\n",
              "\n",
              "    [theme=dark] .colab-df-convert:hover {\n",
              "      background-color: #434B5C;\n",
              "      box-shadow: 0px 1px 3px 1px rgba(0, 0, 0, 0.15);\n",
              "      filter: drop-shadow(0px 1px 2px rgba(0, 0, 0, 0.3));\n",
              "      fill: #FFFFFF;\n",
              "    }\n",
              "  </style>\n",
              "\n",
              "      <script>\n",
              "        const buttonEl =\n",
              "          document.querySelector('#df-1e3b0826-a1b7-4169-88ec-fcd887b4fb6e button.colab-df-convert');\n",
              "        buttonEl.style.display =\n",
              "          google.colab.kernel.accessAllowed ? 'block' : 'none';\n",
              "\n",
              "        async function convertToInteractive(key) {\n",
              "          const element = document.querySelector('#df-1e3b0826-a1b7-4169-88ec-fcd887b4fb6e');\n",
              "          const dataTable =\n",
              "            await google.colab.kernel.invokeFunction('convertToInteractive',\n",
              "                                                     [key], {});\n",
              "          if (!dataTable) return;\n",
              "\n",
              "          const docLinkHtml = 'Like what you see? Visit the ' +\n",
              "            '<a target=\"_blank\" href=https://colab.research.google.com/notebooks/data_table.ipynb>data table notebook</a>'\n",
              "            + ' to learn more about interactive tables.';\n",
              "          element.innerHTML = '';\n",
              "          dataTable['output_type'] = 'display_data';\n",
              "          await google.colab.output.renderOutput(dataTable, element);\n",
              "          const docLink = document.createElement('div');\n",
              "          docLink.innerHTML = docLinkHtml;\n",
              "          element.appendChild(docLink);\n",
              "        }\n",
              "      </script>\n",
              "    </div>\n",
              "  </div>\n",
              "  "
            ]
          },
          "metadata": {},
          "execution_count": 18
        }
      ]
    },
    {
      "cell_type": "code",
      "source": [
        "y_train_0 = y_train_0.idxmax(axis=1)\n",
        "y_train_0"
      ],
      "metadata": {
        "colab": {
          "base_uri": "https://localhost:8080/"
        },
        "id": "0AOe0xet4bSg",
        "outputId": "07be1e91-6e84-45b7-fd8e-045d114ae4cb"
      },
      "execution_count": null,
      "outputs": [
        {
          "output_type": "execute_result",
          "data": {
            "text/plain": [
              "ID\n",
              "0         Target 1\n",
              "1        Target -1\n",
              "2         Target 1\n",
              "3        Target -1\n",
              "4         Target 0\n",
              "           ...    \n",
              "11195    Target -1\n",
              "11196    Target -1\n",
              "11197     Target 0\n",
              "11198    Target -1\n",
              "11199     Target 1\n",
              "Length: 11200, dtype: object"
            ]
          },
          "metadata": {},
          "execution_count": 19
        }
      ]
    },
    {
      "cell_type": "code",
      "source": [
        "y_test_0 = y_test_0.idxmax(axis=1)\n",
        "y_test_0"
      ],
      "metadata": {
        "colab": {
          "base_uri": "https://localhost:8080/"
        },
        "id": "baOggV1r42-s",
        "outputId": "0d0c3677-4c6f-451f-8cd7-8745886468fa"
      },
      "execution_count": null,
      "outputs": [
        {
          "output_type": "execute_result",
          "data": {
            "text/plain": [
              "ID\n",
              "11200    Target 1\n",
              "11201    Target 1\n",
              "11202    Target 0\n",
              "11203    Target 0\n",
              "11204    Target 0\n",
              "           ...   \n",
              "13995    Target 1\n",
              "13996    Target 0\n",
              "13997    Target 0\n",
              "13998    Target 1\n",
              "13999    Target 0\n",
              "Length: 2800, dtype: object"
            ]
          },
          "metadata": {},
          "execution_count": 20
        }
      ]
    },
    {
      "cell_type": "code",
      "source": [
        "model_0 = LogisticRegression(multi_class='multinomial', random_state=1)"
      ],
      "metadata": {
        "id": "RCCmUlbR1yPx"
      },
      "execution_count": null,
      "outputs": []
    },
    {
      "cell_type": "code",
      "source": [
        "model_0"
      ],
      "metadata": {
        "colab": {
          "base_uri": "https://localhost:8080/"
        },
        "id": "AX6I3YOnOA1E",
        "outputId": "a883d20c-40e5-4937-ac43-7ce4d5392255"
      },
      "execution_count": null,
      "outputs": [
        {
          "output_type": "execute_result",
          "data": {
            "text/plain": [
              "LogisticRegression(multi_class='multinomial', random_state=1)"
            ]
          },
          "metadata": {},
          "execution_count": 22
        }
      ]
    },
    {
      "cell_type": "code",
      "source": [
        "model_0.fit(X_train_0, y_train_0)"
      ],
      "metadata": {
        "colab": {
          "base_uri": "https://localhost:8080/"
        },
        "id": "AHrjeE4N1yNd",
        "outputId": "c1af970c-331f-4976-9d94-a018da173fd8"
      },
      "execution_count": null,
      "outputs": [
        {
          "output_type": "execute_result",
          "data": {
            "text/plain": [
              "LogisticRegression(multi_class='multinomial', random_state=1)"
            ]
          },
          "metadata": {},
          "execution_count": 23
        }
      ]
    },
    {
      "cell_type": "code",
      "source": [
        "model_0.coef_"
      ],
      "metadata": {
        "colab": {
          "base_uri": "https://localhost:8080/"
        },
        "id": "3wY8xH3fimrn",
        "outputId": "1f35cf54-748d-4fb8-8a38-b359a3e463a9"
      },
      "execution_count": null,
      "outputs": [
        {
          "output_type": "execute_result",
          "data": {
            "text/plain": [
              "array([[ 0.05645319,  0.03479517,  0.00151598, -0.01326596, -0.00142158],\n",
              "       [ 0.02201247,  0.00354643,  0.01033971,  0.00019174, -0.00648346],\n",
              "       [-0.07846565, -0.0383416 , -0.01185569,  0.01307421,  0.00790504]])"
            ]
          },
          "metadata": {},
          "execution_count": 24
        }
      ]
    },
    {
      "cell_type": "code",
      "source": [
        "model_0.intercept_"
      ],
      "metadata": {
        "colab": {
          "base_uri": "https://localhost:8080/"
        },
        "id": "ZLaghB4eJUoE",
        "outputId": "2ba373ca-b230-4b70-80db-9a479de2eea6"
      },
      "execution_count": null,
      "outputs": [
        {
          "output_type": "execute_result",
          "data": {
            "text/plain": [
              "array([-0.02628687,  0.03538381, -0.00909694])"
            ]
          },
          "metadata": {},
          "execution_count": 25
        }
      ]
    },
    {
      "cell_type": "code",
      "source": [
        "y_pred_0 = model_0.predict(X_test_0)"
      ],
      "metadata": {
        "id": "O4q32k1J1yLJ"
      },
      "execution_count": null,
      "outputs": []
    },
    {
      "cell_type": "code",
      "source": [
        "y_pred_0"
      ],
      "metadata": {
        "colab": {
          "base_uri": "https://localhost:8080/"
        },
        "id": "xhOOBIvtjZnh",
        "outputId": "aeae0852-7aa1-4171-c4d3-564532f797fc"
      },
      "execution_count": null,
      "outputs": [
        {
          "output_type": "execute_result",
          "data": {
            "text/plain": [
              "array(['Target 0', 'Target 1', 'Target 0', ..., 'Target -1', 'Target 0',\n",
              "       'Target 1'], dtype=object)"
            ]
          },
          "metadata": {},
          "execution_count": 27
        }
      ]
    },
    {
      "cell_type": "code",
      "source": [
        "y_probas = model_0.predict_proba(X_test_0)\n",
        "y_probas "
      ],
      "metadata": {
        "colab": {
          "base_uri": "https://localhost:8080/"
        },
        "id": "Qn5Nyshojw3m",
        "outputId": "408cef42-af51-4a6a-f35f-100b37e75e2b"
      },
      "execution_count": null,
      "outputs": [
        {
          "output_type": "execute_result",
          "data": {
            "text/plain": [
              "array([[0.33511418, 0.36160748, 0.30327834],\n",
              "       [0.32165475, 0.32061938, 0.35772587],\n",
              "       [0.32411655, 0.35737579, 0.31850767],\n",
              "       ...,\n",
              "       [0.37148466, 0.34819785, 0.28031748],\n",
              "       [0.3457555 , 0.35425792, 0.29998658],\n",
              "       [0.31150756, 0.33277062, 0.35572182]])"
            ]
          },
          "metadata": {},
          "execution_count": 28
        }
      ]
    },
    {
      "cell_type": "code",
      "source": [
        "y_probas.min(axis=0)"
      ],
      "metadata": {
        "colab": {
          "base_uri": "https://localhost:8080/"
        },
        "id": "f9DQEE_7kUGL",
        "outputId": "f6dc4029-391a-4535-86fe-8793f815317a"
      },
      "execution_count": null,
      "outputs": [
        {
          "output_type": "execute_result",
          "data": {
            "text/plain": [
              "array([0.21911896, 0.28306814, 0.19562817])"
            ]
          },
          "metadata": {},
          "execution_count": 29
        }
      ]
    },
    {
      "cell_type": "code",
      "source": [
        "(y_pred_0 == y_test_0).sum() / len(y_pred_0)"
      ],
      "metadata": {
        "colab": {
          "base_uri": "https://localhost:8080/"
        },
        "id": "dpulvfSw1yIu",
        "outputId": "4887223d-7beb-49f6-e4d8-82e405e25ca9"
      },
      "execution_count": null,
      "outputs": [
        {
          "output_type": "execute_result",
          "data": {
            "text/plain": [
              "0.3914285714285714"
            ]
          },
          "metadata": {},
          "execution_count": 30
        }
      ]
    },
    {
      "cell_type": "code",
      "source": [
        "from sklearn.metrics import classification_report\n",
        "print(classification_report(y_test_0, y_pred_0))"
      ],
      "metadata": {
        "colab": {
          "base_uri": "https://localhost:8080/"
        },
        "id": "tlJD5hYd1yGU",
        "outputId": "ec4208a0-e26f-445e-ac39-b2c29657e5f9"
      },
      "execution_count": null,
      "outputs": [
        {
          "output_type": "stream",
          "name": "stdout",
          "text": [
            "              precision    recall  f1-score   support\n",
            "\n",
            "   Target -1       0.40      0.26      0.32       869\n",
            "    Target 0       0.39      0.44      0.41       985\n",
            "    Target 1       0.39      0.46      0.42       946\n",
            "\n",
            "    accuracy                           0.39      2800\n",
            "   macro avg       0.39      0.39      0.38      2800\n",
            "weighted avg       0.39      0.39      0.39      2800\n",
            "\n"
          ]
        }
      ]
    },
    {
      "cell_type": "code",
      "source": [
        "from sklearn.metrics import ConfusionMatrixDisplay"
      ],
      "metadata": {
        "id": "1pOr7LWI1yDk"
      },
      "execution_count": null,
      "outputs": []
    },
    {
      "cell_type": "code",
      "source": [
        "ConfusionMatrixDisplay.from_predictions(y_test_0, y_pred_0)"
      ],
      "metadata": {
        "colab": {
          "base_uri": "https://localhost:8080/",
          "height": 297
        },
        "id": "ZCFn_Ufu1x7m",
        "outputId": "ee9c1627-652a-4bdc-ede2-7d3ebfaf8a0b"
      },
      "execution_count": null,
      "outputs": [
        {
          "output_type": "execute_result",
          "data": {
            "text/plain": [
              "<sklearn.metrics._plot.confusion_matrix.ConfusionMatrixDisplay at 0x7f56367a13d0>"
            ]
          },
          "metadata": {},
          "execution_count": 33
        },
        {
          "output_type": "display_data",
          "data": {
            "text/plain": [
              "<Figure size 432x288 with 2 Axes>"
            ],
            "image/png": "[encoded data removed]"
          },
          "metadata": {
            "needs_background": "light"
          }
        }
      ]
    },
    {
      "cell_type": "code",
      "source": [
        "from sklearn.metrics import log_loss"
      ],
      "metadata": {
        "id": "vFAcWW8vJxse"
      },
      "execution_count": null,
      "outputs": []
    },
    {
      "cell_type": "code",
      "source": [
        "# Otra salida útil del modelo\n",
        "model_0.predict_proba(X_test_0)"
      ],
      "metadata": {
        "colab": {
          "base_uri": "https://localhost:8080/"
        },
        "id": "IyKzDrQ5Kh4D",
        "outputId": "be7d2e38-6407-41af-a0da-a117b80166b6"
      },
      "execution_count": null,
      "outputs": [
        {
          "output_type": "execute_result",
          "data": {
            "text/plain": [
              "array([[0.33511418, 0.36160748, 0.30327834],\n",
              "       [0.32165475, 0.32061938, 0.35772587],\n",
              "       [0.32411655, 0.35737579, 0.31850767],\n",
              "       ...,\n",
              "       [0.37148466, 0.34819785, 0.28031748],\n",
              "       [0.3457555 , 0.35425792, 0.29998658],\n",
              "       [0.31150756, 0.33277062, 0.35572182]])"
            ]
          },
          "metadata": {},
          "execution_count": 35
        }
      ]
    },
    {
      "cell_type": "code",
      "source": [
        "y_test_0"
      ],
      "metadata": {
        "colab": {
          "base_uri": "https://localhost:8080/"
        },
        "id": "Q3iszsDTPFTr",
        "outputId": "27f81f73-48f9-4abe-9845-8380488a6007"
      },
      "execution_count": null,
      "outputs": [
        {
          "output_type": "execute_result",
          "data": {
            "text/plain": [
              "ID\n",
              "11200    Target 1\n",
              "11201    Target 1\n",
              "11202    Target 0\n",
              "11203    Target 0\n",
              "11204    Target 0\n",
              "           ...   \n",
              "13995    Target 1\n",
              "13996    Target 0\n",
              "13997    Target 0\n",
              "13998    Target 1\n",
              "13999    Target 0\n",
              "Length: 2800, dtype: object"
            ]
          },
          "metadata": {},
          "execution_count": 36
        }
      ]
    },
    {
      "cell_type": "code",
      "source": [
        "# Valor de la función de perdida\n",
        "log_loss(y_test_0, model_0.predict_proba(X_test_0))"
      ],
      "metadata": {
        "colab": {
          "base_uri": "https://localhost:8080/"
        },
        "id": "LaZDE91CJ1Yp",
        "outputId": "b1ea962a-8867-4488-f55b-93984931dfca"
      },
      "execution_count": null,
      "outputs": [
        {
          "output_type": "execute_result",
          "data": {
            "text/plain": [
              "1.0933753077377304"
            ]
          },
          "metadata": {},
          "execution_count": 37
        }
      ]
    },
    {
      "cell_type": "markdown",
      "source": [
        "\n",
        "- ¿Que tan buenos son los resultados basados en la matriz de confusión?\n",
        "\n",
        "- ¿Qué podríamos hacer para mejorar el modelo?\n",
        "\n"
      ],
      "metadata": {
        "id": "9SB6tb6xLKiZ"
      }
    },
    {
      "cell_type": "markdown",
      "source": [
        "# Ejercicio:\n",
        "\n",
        "Ejecutar el algoritmo de regresión logística para los datos de TRAIN que tenemos (se evaluó en datos de TEST pero no de TRAIN)\n",
        "\n",
        "- Clasification report\n",
        "- Matriz de confusión\n",
        "- Valor de la función de perdida"
      ],
      "metadata": {
        "id": "oSjHGSaLmSqn"
      }
    },
    {
      "cell_type": "code",
      "source": [
        "# Espacio para ejercicio"
      ],
      "metadata": {
        "id": "srUh6cmsNgs1"
      },
      "execution_count": null,
      "outputs": []
    }
  ]
}