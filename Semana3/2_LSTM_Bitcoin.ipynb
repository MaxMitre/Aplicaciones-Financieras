{
  "nbformat": 4,
  "nbformat_minor": 0,
  "metadata": {
    "colab": {
      "provenance": []
    },
    "kernelspec": {
      "name": "python3",
      "display_name": "Python 3"
    },
    "language_info": {
      "name": "python"
    },
    "accelerator": "GPU",
    "gpuClass": "standard"
  },
  "cells": [
    {
      "cell_type": "markdown",
      "source": [
        "[![Open In Colab](https://colab.research.google.com/assets/colab-badge.svg)](https://colab.research.google.com/github/MaxMitre/Aplicaciones-Financieras/blob/main/Semana3/2_LSTM_Bitcoin.ipynb)\n",
        "\n"
      ],
      "metadata": {
        "id": "bkUeov5T9Hfv"
      }
    },
    {
      "cell_type": "markdown",
      "source": [
        "# Descripción del problema"
      ],
      "metadata": {
        "id": "6DuKgmeStDUT"
      }
    },
    {
      "cell_type": "markdown",
      "source": [
        "Datos originales: https://challengedata.ens.fr/participants/challenges/31/\n",
        "\n",
        "El problema trata de buscar un algoritmo de clasificación que ayude a crear estrategias de inversión en criptomonedas, basado en el \"sentimiento\" extraído de noticias y redes sociales.\n",
        "\n",
        "Por cada hora de trading se contabilizó la ocurrencia de algunos terminos, tales como 'adoption' y 'hack', en un selecto numero de cuentas influyentes de twitter y en algunos foros como 'Bitcointalk'.\n",
        "\n",
        "Se han creado 10 temas diferentes, algunos positivos y otros negativos y se han contabilizado las palabras antes mencionadas, antes de una normalización.\n",
        "\n",
        "Dado un tema y un tema, hemos visto los conteos de las últimas 48 horas y se estandarizaron esos conteos. El resultado se multiplicó por el conteo promedio por hora y se dividió por el conteo promedio por hora de todo el entrenamiento\n",
        "\n",
        "Para un tiempo T en el periodo de tiempo i, con lag k ($k\\in[\\![0;47]\\!]$) el valor F ode la característica será:\n",
        "\n",
        "$$\n",
        "F_{i,k}=\\frac{T_{i,k}-\\overline{T_{i}}}{\\sqrt{\\frac{1}{47}\\sum\\limits_{j=0}^{47}{(T_{i,j}-\\overline{T_{i}})^{2}}}}*\\frac{\\overline{T_i}}{\\overline{T}} \n",
        "$$\n",
        "\n",
        "\n",
        "Se agregaron 5 características correspondientes a los precios finales en periodos de 1 hr, 6 hrs, 12 hrs, 24 hrs y 48 hrs\n",
        "El objetivo es predecir si el precio del Bitcoin tendrá un retorno (en la próxima hora) que sea de mas del 0.2%, entre -0.2% y 0.2% o menos al -0.2%.\n",
        "\n",
        "La métrica utilizada para la perdida es la perdida logistica, definita como el negativo de la log-verosimilitud de las etiquetas verdaderas comparadas con las probabilidades predichas por el clasificador.\n",
        "\n",
        "Las verdaderas etiquetas están codificadas como una matríz de 3 columnas, donde hay unos o ceros dependiendo si el elemento pertenece a la categoría de una columna u otra.\n",
        " \n",
        "Dada una matriz P de probabilidades $p_{i,k}=Pr(t_{i,k}=1)'$ , la función de perdida se define como\n",
        "\n",
        "$$\n",
        "L_{log}(Y,P)=-log{Pr(Y|P)}=-\\frac{1}{N} \\sum_{i=1}^{N} \\sum_{k=1}^3{y_{i,k}log(p_{i,k})}\n",
        "$$\n",
        "\n",
        "Entre más bajo el score de ésta medida, mejor.\n",
        "\n"
      ],
      "metadata": {
        "id": "E454T2Z7s_Tb"
      }
    },
    {
      "cell_type": "markdown",
      "source": [
        "# Dependencias"
      ],
      "metadata": {
        "id": "I1za57pz8Mkz"
      }
    },
    {
      "cell_type": "code",
      "source": [
        "# !pip install -U plotly"
      ],
      "metadata": {
        "id": "tIthEMHkPBww"
      },
      "execution_count": null,
      "outputs": []
    },
    {
      "cell_type": "code",
      "metadata": {
        "id": "b9Ifan8XrfuZ"
      },
      "source": [
        "import pandas as pd\n",
        "import numpy as np\n",
        "\n",
        "from sklearn.model_selection import train_test_split\n",
        "\n",
        "import tensorflow as tf\n",
        "from tensorflow import keras\n",
        "from keras import layers\n",
        "\n",
        "import plotly.graph_objects as go"
      ],
      "execution_count": null,
      "outputs": []
    },
    {
      "cell_type": "code",
      "source": [
        "from google.colab import drive\n",
        "drive.mount('/content/drive')"
      ],
      "metadata": {
        "id": "HV21Dtfz0SF-",
        "colab": {
          "base_uri": "https://localhost:8080/"
        },
        "outputId": "3b79ae81-8db8-4709-f47d-4534245e82e3"
      },
      "execution_count": null,
      "outputs": [
        {
          "output_type": "stream",
          "name": "stdout",
          "text": [
            "Mounted at /content/drive\n"
          ]
        }
      ]
    },
    {
      "cell_type": "markdown",
      "source": [
        "# Funciones"
      ],
      "metadata": {
        "id": "sqFcegOL8N7w"
      }
    },
    {
      "cell_type": "code",
      "source": [
        "def evaluate_model(estimator, train, val, test):\n",
        "    print('train cross_entropy = ', estimator.evaluate(train[0], train[1], verbose = False))\n",
        "    print('  val cross_entropy = ', estimator.evaluate(val[0], val[1], verbose = False))\n",
        "    print(' test cross_entropy = ', estimator.evaluate(test[0], test[1], verbose = False))"
      ],
      "metadata": {
        "id": "Mv_00PdK2Wnx"
      },
      "execution_count": null,
      "outputs": []
    },
    {
      "cell_type": "code",
      "source": [
        "# TODO: Modificar para seleccionar características cambiando n_features, no sólo las primeras n_features\n",
        "# TODO: Revisar los resultados generados cuando se seleccionan distintos parámetros\n",
        "# NOTE: Asuma que el dataframe tiene 5 X, y 48 columnas para cada una de las 10 I ordenadas de reciente a antigua\n",
        "def transform_dataframe(df, len_prices = 5, n_features = 10, len_features = 48):\n",
        "    if type(len_prices) != int or type(n_features) != int or type(len_features) != int:\n",
        "        raise ValueError(f'Los parámetros len_prices, n_features y len_features deben ser de tipo int. Recibibo {type(len_prices)},{type(n_features)} y {type(len_features)}')\n",
        "\n",
        "    assert 0 < len_prices <= 5, 'len_prices debe estar entre 1 y 5'\n",
        "    assert 0 < n_features <= 10, 'n_features debe estar entre 1 y 10'\n",
        "    assert 0 < len_features <= 48, 'len_features debe estar entre 1 y 48'\n",
        "\n",
        "    df.reset_index(inplace = True, drop = True)\n",
        "    \n",
        "    # Los nombres de las columnas están al reves para tener primer la observación más antigua\n",
        "    prices_cols = ['X5', 'X4', 'X3', 'X2', 'X1']\n",
        "\n",
        "    prices = np.zeros((len(df), len_prices, 1))\n",
        "    features = np.zeros((len(df), len_features, n_features))\n",
        "\n",
        "    for i in range(len(df)):\n",
        "        # Se transforman la forma de los precios\n",
        "        prices[i] = df.loc[i, prices_cols[-len_prices:]].values.reshape((len_prices, 1))\n",
        "        # Para cada característica\n",
        "        for j in range(n_features):\n",
        "            # Se obtiene los 48 rezagos y se voltea el arreglo para tener el más antiguo primero\n",
        "            # Aquí se aplica el supuesto de que el dataframe tiene 5 columnas de 5\n",
        "            features[i, :, j] = np.flip(df.iloc[i, 5+48*j:5+len_features + 48*j].values)\n",
        "    return prices, features"
      ],
      "metadata": {
        "id": "pZ-N7rf_9HJk"
      },
      "execution_count": null,
      "outputs": []
    },
    {
      "cell_type": "markdown",
      "source": [
        "> The Input data contains 10 time series of 48 trading hours representing complementary features based on sentiment analysis from news extracted from twitter or forums like Bitcointalk on Bitcoin, and 5 time series based on the variation of Bitcoin price during the past 1, 6, 12, 24 and 48 hours normalised by volatility during the period. Input data, for training and testing, will be given by a .csv file, whose first line contains the header. Then each line corresponds to a sample, each column to a feature. The features are the following:\n",
        "\n",
        ">- ***ID***: Id of the sample which is linked to the ID of the output file;\n",
        "- ***I_1_lag(k)*** to ***I_10_lag(k)***: Values of Indicators *I_1* to *I_10* for each k lag ($k\\in[\\![0;47]\\!]$) representing the normalized value of Indicators *I_1* to *I_10* each hour of the past 48 trading hours;\n",
        "- ***X_1*** to ***X_5***: Values of 5 normalised indicators representing price variation of Bitcoin on the last 1, 6, 12, 24 and 48 hours.\n",
        "\n",
        "> There will be 14 000 samples for the train set and 5 000 for the test set. For a given sample, the time series (for the 10 sentiment indicators) are given over the same 48 trading hours.\n",
        "\n",
        ">The training outputs are given in a .csv file. Each line corresponds to a sample:\n",
        "\n",
        ">- ***ID***: Id of the sample;\n",
        "- ***Target_-1***: classification of the return of Bitcoin in the next hour. -1 signifies a down move of less than -0.2%;\n",
        "- ***Target_0***: classification of the return of Bitcoin in the next hour. 0 signifies a move between -0.2% and 0.2%;\n",
        "- ***Target_1***: classification of the return of Bitcoin in the next hour. 1 signifies a up move of more than 0.2%.\n",
        "\n"
      ],
      "metadata": {
        "id": "XT_-69IHrvk1"
      }
    },
    {
      "cell_type": "code",
      "source": [
        "X_raw = pd.read_csv('/content/drive/MyDrive/Cruso-ApsFinancieras/semana7/input_training_IrTAw7w.csv').set_index('ID')\n",
        "X_raw"
      ],
      "metadata": {
        "id": "x20PPm-uf29p",
        "colab": {
          "base_uri": "https://localhost:8080/",
          "height": 519
        },
        "outputId": "c84a039d-9161-44f9-cf8c-cf8b05622890"
      },
      "execution_count": null,
      "outputs": [
        {
          "output_type": "execute_result",
          "data": {
            "text/plain": [
              "             X1        X2        X3        X4         X5   I1_lag0   I1_lag1  \\\n",
              "ID                                                                             \n",
              "0      0.460020  0.620360 -0.972192  2.745197   4.177783  2.325865  2.060138   \n",
              "1     -0.347872 -2.199925 -0.222026  3.741888   8.608291 -4.091293 -3.502499   \n",
              "2     -2.152963 -0.432461  1.619057 -0.003912   3.870262 -0.598858 -0.412391   \n",
              "3     -1.827669 -1.881770 -4.214322  0.178225   0.992362  0.383757  2.512478   \n",
              "4      0.748761  1.799939  1.561006  5.204120   2.161637 -1.275226 -1.544131   \n",
              "...         ...       ...       ...       ...        ...       ...       ...   \n",
              "13995 -0.074522 -0.472044 -2.860659 -1.266230 -10.229167  0.583145 -0.051301   \n",
              "13996  1.730118  3.177408  0.816198  1.136877  -1.588960  1.011735 -0.185748   \n",
              "13997  2.093028  4.108092  1.056253  8.163642   8.916299  2.338713  2.554397   \n",
              "13998  1.483381 -1.602078 -2.851078 -2.639386  -4.805661 -2.252937  2.370613   \n",
              "13999 -1.305992  1.129081 -0.223061  0.248722   1.326936 -0.496556  1.432433   \n",
              "\n",
              "        I1_lag2   I1_lag3   I1_lag4  ...  I10_lag38  I10_lag39  I10_lag40  \\\n",
              "ID                                   ...                                    \n",
              "0      0.071162  2.360597 -0.611526  ...  -0.342912  -0.194165   0.122331   \n",
              "1     -1.463631  0.383153 -3.669962  ...   1.261341  -0.082428  -1.035813   \n",
              "2     -0.765354 -0.998152 -0.938755  ...   2.245204   3.002347   2.674186   \n",
              "3     -0.383434 -0.208506 -1.104289  ...   1.383203  -1.338892   0.298076   \n",
              "4     -1.802590 -1.128526 -0.469835  ...  -0.477313   0.742923  -0.273225   \n",
              "...         ...       ...       ...  ...        ...        ...        ...   \n",
              "13995 -0.584659  1.458945  2.004759  ...  -1.634290  -1.527111  -1.008016   \n",
              "13996 -0.522647  2.316802  1.219339  ...  -0.409750   0.840944  -1.804313   \n",
              "13997  1.665492  3.719985 -0.278893  ...  -0.531223  -1.249847  -1.288419   \n",
              "13998  4.450028  0.947600  2.364395  ...  -1.451115  -4.188150  -2.397168   \n",
              "13999 -0.012964  1.571311  0.053566  ...   0.488547  -0.480647   0.498861   \n",
              "\n",
              "       I10_lag41  I10_lag42  I10_lag43  I10_lag44  I10_lag45  I10_lag46  \\\n",
              "ID                                                                        \n",
              "0       0.028682  -0.093626  -0.559840   0.562584  -0.557868   1.424906   \n",
              "1      -0.249607  -0.971215  -0.058408   1.460632  -0.653394  -1.743487   \n",
              "2       2.656251   1.062974  -0.484619  -0.044594   1.579731   0.962836   \n",
              "3       1.808275   2.837975   2.054112   0.741138   1.701911   0.110082   \n",
              "4       1.311015   0.744330   2.914322   1.030602   0.480722  -0.492838   \n",
              "...          ...        ...        ...        ...        ...        ...   \n",
              "13995  -0.500519   1.277636   1.257714   0.502732   1.751844   0.150679   \n",
              "13996   0.357944  -1.058557  -0.196874  -2.507582   0.125756   1.532976   \n",
              "13997  -0.897649  -0.199824  -0.033545   0.240647   2.188396   0.039340   \n",
              "13998  -1.126340  -0.841850  -4.231824  -2.640152  -4.048115  -4.629418   \n",
              "13999   1.053732   2.121583   2.547515   2.029551   0.592872  -0.079870   \n",
              "\n",
              "       I10_lag47  \n",
              "ID                \n",
              "0      -0.016294  \n",
              "1       4.065305  \n",
              "2       1.146983  \n",
              "3       0.114980  \n",
              "4       1.377958  \n",
              "...          ...  \n",
              "13995  -0.533808  \n",
              "13996  -1.087343  \n",
              "13997   0.756515  \n",
              "13998  -3.566115  \n",
              "13999   0.142056  \n",
              "\n",
              "[14000 rows x 485 columns]"
            ],
            "text/html": [
              "\n",
              "  <div id=\"df-b7f91180-f3ac-404b-bcbb-daa45d6e46c4\">\n",
              "    <div class=\"colab-df-container\">\n",
              "      <div>\n",
              "<style scoped>\n",
              "    .dataframe tbody tr th:only-of-type {\n",
              "        vertical-align: middle;\n",
              "    }\n",
              "\n",
              "    .dataframe tbody tr th {\n",
              "        vertical-align: top;\n",
              "    }\n",
              "\n",
              "    .dataframe thead th {\n",
              "        text-align: right;\n",
              "    }\n",
              "</style>\n",
              "<table border=\"1\" class=\"dataframe\">\n",
              "  <thead>\n",
              "    <tr style=\"text-align: right;\">\n",
              "      <th></th>\n",
              "      <th>X1</th>\n",
              "      <th>X2</th>\n",
              "      <th>X3</th>\n",
              "      <th>X4</th>\n",
              "      <th>X5</th>\n",
              "      <th>I1_lag0</th>\n",
              "      <th>I1_lag1</th>\n",
              "      <th>I1_lag2</th>\n",
              "      <th>I1_lag3</th>\n",
              "      <th>I1_lag4</th>\n",
              "      <th>...</th>\n",
              "      <th>I10_lag38</th>\n",
              "      <th>I10_lag39</th>\n",
              "      <th>I10_lag40</th>\n",
              "      <th>I10_lag41</th>\n",
              "      <th>I10_lag42</th>\n",
              "      <th>I10_lag43</th>\n",
              "      <th>I10_lag44</th>\n",
              "      <th>I10_lag45</th>\n",
              "      <th>I10_lag46</th>\n",
              "      <th>I10_lag47</th>\n",
              "    </tr>\n",
              "    <tr>\n",
              "      <th>ID</th>\n",
              "      <th></th>\n",
              "      <th></th>\n",
              "      <th></th>\n",
              "      <th></th>\n",
              "      <th></th>\n",
              "      <th></th>\n",
              "      <th></th>\n",
              "      <th></th>\n",
              "      <th></th>\n",
              "      <th></th>\n",
              "      <th></th>\n",
              "      <th></th>\n",
              "      <th></th>\n",
              "      <th></th>\n",
              "      <th></th>\n",
              "      <th></th>\n",
              "      <th></th>\n",
              "      <th></th>\n",
              "      <th></th>\n",
              "      <th></th>\n",
              "      <th></th>\n",
              "    </tr>\n",
              "  </thead>\n",
              "  <tbody>\n",
              "    <tr>\n",
              "      <th>0</th>\n",
              "      <td>0.460020</td>\n",
              "      <td>0.620360</td>\n",
              "      <td>-0.972192</td>\n",
              "      <td>2.745197</td>\n",
              "      <td>4.177783</td>\n",
              "      <td>2.325865</td>\n",
              "      <td>2.060138</td>\n",
              "      <td>0.071162</td>\n",
              "      <td>2.360597</td>\n",
              "      <td>-0.611526</td>\n",
              "      <td>...</td>\n",
              "      <td>-0.342912</td>\n",
              "      <td>-0.194165</td>\n",
              "      <td>0.122331</td>\n",
              "      <td>0.028682</td>\n",
              "      <td>-0.093626</td>\n",
              "      <td>-0.559840</td>\n",
              "      <td>0.562584</td>\n",
              "      <td>-0.557868</td>\n",
              "      <td>1.424906</td>\n",
              "      <td>-0.016294</td>\n",
              "    </tr>\n",
              "    <tr>\n",
              "      <th>1</th>\n",
              "      <td>-0.347872</td>\n",
              "      <td>-2.199925</td>\n",
              "      <td>-0.222026</td>\n",
              "      <td>3.741888</td>\n",
              "      <td>8.608291</td>\n",
              "      <td>-4.091293</td>\n",
              "      <td>-3.502499</td>\n",
              "      <td>-1.463631</td>\n",
              "      <td>0.383153</td>\n",
              "      <td>-3.669962</td>\n",
              "      <td>...</td>\n",
              "      <td>1.261341</td>\n",
              "      <td>-0.082428</td>\n",
              "      <td>-1.035813</td>\n",
              "      <td>-0.249607</td>\n",
              "      <td>-0.971215</td>\n",
              "      <td>-0.058408</td>\n",
              "      <td>1.460632</td>\n",
              "      <td>-0.653394</td>\n",
              "      <td>-1.743487</td>\n",
              "      <td>4.065305</td>\n",
              "    </tr>\n",
              "    <tr>\n",
              "      <th>2</th>\n",
              "      <td>-2.152963</td>\n",
              "      <td>-0.432461</td>\n",
              "      <td>1.619057</td>\n",
              "      <td>-0.003912</td>\n",
              "      <td>3.870262</td>\n",
              "      <td>-0.598858</td>\n",
              "      <td>-0.412391</td>\n",
              "      <td>-0.765354</td>\n",
              "      <td>-0.998152</td>\n",
              "      <td>-0.938755</td>\n",
              "      <td>...</td>\n",
              "      <td>2.245204</td>\n",
              "      <td>3.002347</td>\n",
              "      <td>2.674186</td>\n",
              "      <td>2.656251</td>\n",
              "      <td>1.062974</td>\n",
              "      <td>-0.484619</td>\n",
              "      <td>-0.044594</td>\n",
              "      <td>1.579731</td>\n",
              "      <td>0.962836</td>\n",
              "      <td>1.146983</td>\n",
              "    </tr>\n",
              "    <tr>\n",
              "      <th>3</th>\n",
              "      <td>-1.827669</td>\n",
              "      <td>-1.881770</td>\n",
              "      <td>-4.214322</td>\n",
              "      <td>0.178225</td>\n",
              "      <td>0.992362</td>\n",
              "      <td>0.383757</td>\n",
              "      <td>2.512478</td>\n",
              "      <td>-0.383434</td>\n",
              "      <td>-0.208506</td>\n",
              "      <td>-1.104289</td>\n",
              "      <td>...</td>\n",
              "      <td>1.383203</td>\n",
              "      <td>-1.338892</td>\n",
              "      <td>0.298076</td>\n",
              "      <td>1.808275</td>\n",
              "      <td>2.837975</td>\n",
              "      <td>2.054112</td>\n",
              "      <td>0.741138</td>\n",
              "      <td>1.701911</td>\n",
              "      <td>0.110082</td>\n",
              "      <td>0.114980</td>\n",
              "    </tr>\n",
              "    <tr>\n",
              "      <th>4</th>\n",
              "      <td>0.748761</td>\n",
              "      <td>1.799939</td>\n",
              "      <td>1.561006</td>\n",
              "      <td>5.204120</td>\n",
              "      <td>2.161637</td>\n",
              "      <td>-1.275226</td>\n",
              "      <td>-1.544131</td>\n",
              "      <td>-1.802590</td>\n",
              "      <td>-1.128526</td>\n",
              "      <td>-0.469835</td>\n",
              "      <td>...</td>\n",
              "      <td>-0.477313</td>\n",
              "      <td>0.742923</td>\n",
              "      <td>-0.273225</td>\n",
              "      <td>1.311015</td>\n",
              "      <td>0.744330</td>\n",
              "      <td>2.914322</td>\n",
              "      <td>1.030602</td>\n",
              "      <td>0.480722</td>\n",
              "      <td>-0.492838</td>\n",
              "      <td>1.377958</td>\n",
              "    </tr>\n",
              "    <tr>\n",
              "      <th>...</th>\n",
              "      <td>...</td>\n",
              "      <td>...</td>\n",
              "      <td>...</td>\n",
              "      <td>...</td>\n",
              "      <td>...</td>\n",
              "      <td>...</td>\n",
              "      <td>...</td>\n",
              "      <td>...</td>\n",
              "      <td>...</td>\n",
              "      <td>...</td>\n",
              "      <td>...</td>\n",
              "      <td>...</td>\n",
              "      <td>...</td>\n",
              "      <td>...</td>\n",
              "      <td>...</td>\n",
              "      <td>...</td>\n",
              "      <td>...</td>\n",
              "      <td>...</td>\n",
              "      <td>...</td>\n",
              "      <td>...</td>\n",
              "      <td>...</td>\n",
              "    </tr>\n",
              "    <tr>\n",
              "      <th>13995</th>\n",
              "      <td>-0.074522</td>\n",
              "      <td>-0.472044</td>\n",
              "      <td>-2.860659</td>\n",
              "      <td>-1.266230</td>\n",
              "      <td>-10.229167</td>\n",
              "      <td>0.583145</td>\n",
              "      <td>-0.051301</td>\n",
              "      <td>-0.584659</td>\n",
              "      <td>1.458945</td>\n",
              "      <td>2.004759</td>\n",
              "      <td>...</td>\n",
              "      <td>-1.634290</td>\n",
              "      <td>-1.527111</td>\n",
              "      <td>-1.008016</td>\n",
              "      <td>-0.500519</td>\n",
              "      <td>1.277636</td>\n",
              "      <td>1.257714</td>\n",
              "      <td>0.502732</td>\n",
              "      <td>1.751844</td>\n",
              "      <td>0.150679</td>\n",
              "      <td>-0.533808</td>\n",
              "    </tr>\n",
              "    <tr>\n",
              "      <th>13996</th>\n",
              "      <td>1.730118</td>\n",
              "      <td>3.177408</td>\n",
              "      <td>0.816198</td>\n",
              "      <td>1.136877</td>\n",
              "      <td>-1.588960</td>\n",
              "      <td>1.011735</td>\n",
              "      <td>-0.185748</td>\n",
              "      <td>-0.522647</td>\n",
              "      <td>2.316802</td>\n",
              "      <td>1.219339</td>\n",
              "      <td>...</td>\n",
              "      <td>-0.409750</td>\n",
              "      <td>0.840944</td>\n",
              "      <td>-1.804313</td>\n",
              "      <td>0.357944</td>\n",
              "      <td>-1.058557</td>\n",
              "      <td>-0.196874</td>\n",
              "      <td>-2.507582</td>\n",
              "      <td>0.125756</td>\n",
              "      <td>1.532976</td>\n",
              "      <td>-1.087343</td>\n",
              "    </tr>\n",
              "    <tr>\n",
              "      <th>13997</th>\n",
              "      <td>2.093028</td>\n",
              "      <td>4.108092</td>\n",
              "      <td>1.056253</td>\n",
              "      <td>8.163642</td>\n",
              "      <td>8.916299</td>\n",
              "      <td>2.338713</td>\n",
              "      <td>2.554397</td>\n",
              "      <td>1.665492</td>\n",
              "      <td>3.719985</td>\n",
              "      <td>-0.278893</td>\n",
              "      <td>...</td>\n",
              "      <td>-0.531223</td>\n",
              "      <td>-1.249847</td>\n",
              "      <td>-1.288419</td>\n",
              "      <td>-0.897649</td>\n",
              "      <td>-0.199824</td>\n",
              "      <td>-0.033545</td>\n",
              "      <td>0.240647</td>\n",
              "      <td>2.188396</td>\n",
              "      <td>0.039340</td>\n",
              "      <td>0.756515</td>\n",
              "    </tr>\n",
              "    <tr>\n",
              "      <th>13998</th>\n",
              "      <td>1.483381</td>\n",
              "      <td>-1.602078</td>\n",
              "      <td>-2.851078</td>\n",
              "      <td>-2.639386</td>\n",
              "      <td>-4.805661</td>\n",
              "      <td>-2.252937</td>\n",
              "      <td>2.370613</td>\n",
              "      <td>4.450028</td>\n",
              "      <td>0.947600</td>\n",
              "      <td>2.364395</td>\n",
              "      <td>...</td>\n",
              "      <td>-1.451115</td>\n",
              "      <td>-4.188150</td>\n",
              "      <td>-2.397168</td>\n",
              "      <td>-1.126340</td>\n",
              "      <td>-0.841850</td>\n",
              "      <td>-4.231824</td>\n",
              "      <td>-2.640152</td>\n",
              "      <td>-4.048115</td>\n",
              "      <td>-4.629418</td>\n",
              "      <td>-3.566115</td>\n",
              "    </tr>\n",
              "    <tr>\n",
              "      <th>13999</th>\n",
              "      <td>-1.305992</td>\n",
              "      <td>1.129081</td>\n",
              "      <td>-0.223061</td>\n",
              "      <td>0.248722</td>\n",
              "      <td>1.326936</td>\n",
              "      <td>-0.496556</td>\n",
              "      <td>1.432433</td>\n",
              "      <td>-0.012964</td>\n",
              "      <td>1.571311</td>\n",
              "      <td>0.053566</td>\n",
              "      <td>...</td>\n",
              "      <td>0.488547</td>\n",
              "      <td>-0.480647</td>\n",
              "      <td>0.498861</td>\n",
              "      <td>1.053732</td>\n",
              "      <td>2.121583</td>\n",
              "      <td>2.547515</td>\n",
              "      <td>2.029551</td>\n",
              "      <td>0.592872</td>\n",
              "      <td>-0.079870</td>\n",
              "      <td>0.142056</td>\n",
              "    </tr>\n",
              "  </tbody>\n",
              "</table>\n",
              "<p>14000 rows × 485 columns</p>\n",
              "</div>\n",
              "      <button class=\"colab-df-convert\" onclick=\"convertToInteractive('df-b7f91180-f3ac-404b-bcbb-daa45d6e46c4')\"\n",
              "              title=\"Convert this dataframe to an interactive table.\"\n",
              "              style=\"display:none;\">\n",
              "        \n",
              "  <svg xmlns=\"http://www.w3.org/2000/svg\" height=\"24px\"viewBox=\"0 0 24 24\"\n",
              "       width=\"24px\">\n",
              "    <path d=\"M0 0h24v24H0V0z\" fill=\"none\"/>\n",
              "    <path d=\"M18.56 5.44l.94 2.06.94-2.06 2.06-.94-2.06-.94-.94-2.06-.94 2.06-2.06.94zm-11 1L8.5 8.5l.94-2.06 2.06-.94-2.06-.94L8.5 2.5l-.94 2.06-2.06.94zm10 10l.94 2.06.94-2.06 2.06-.94-2.06-.94-.94-2.06-.94 2.06-2.06.94z\"/><path d=\"M17.41 7.96l-1.37-1.37c-.4-.4-.92-.59-1.43-.59-.52 0-1.04.2-1.43.59L10.3 9.45l-7.72 7.72c-.78.78-.78 2.05 0 2.83L4 21.41c.39.39.9.59 1.41.59.51 0 1.02-.2 1.41-.59l7.78-7.78 2.81-2.81c.8-.78.8-2.07 0-2.86zM5.41 20L4 18.59l7.72-7.72 1.47 1.35L5.41 20z\"/>\n",
              "  </svg>\n",
              "      </button>\n",
              "      \n",
              "  <style>\n",
              "    .colab-df-container {\n",
              "      display:flex;\n",
              "      flex-wrap:wrap;\n",
              "      gap: 12px;\n",
              "    }\n",
              "\n",
              "    .colab-df-convert {\n",
              "      background-color: #E8F0FE;\n",
              "      border: none;\n",
              "      border-radius: 50%;\n",
              "      cursor: pointer;\n",
              "      display: none;\n",
              "      fill: #1967D2;\n",
              "      height: 32px;\n",
              "      padding: 0 0 0 0;\n",
              "      width: 32px;\n",
              "    }\n",
              "\n",
              "    .colab-df-convert:hover {\n",
              "      background-color: #E2EBFA;\n",
              "      box-shadow: 0px 1px 2px rgba(60, 64, 67, 0.3), 0px 1px 3px 1px rgba(60, 64, 67, 0.15);\n",
              "      fill: #174EA6;\n",
              "    }\n",
              "\n",
              "    [theme=dark] .colab-df-convert {\n",
              "      background-color: #3B4455;\n",
              "      fill: #D2E3FC;\n",
              "    }\n",
              "\n",
              "    [theme=dark] .colab-df-convert:hover {\n",
              "      background-color: #434B5C;\n",
              "      box-shadow: 0px 1px 3px 1px rgba(0, 0, 0, 0.15);\n",
              "      filter: drop-shadow(0px 1px 2px rgba(0, 0, 0, 0.3));\n",
              "      fill: #FFFFFF;\n",
              "    }\n",
              "  </style>\n",
              "\n",
              "      <script>\n",
              "        const buttonEl =\n",
              "          document.querySelector('#df-b7f91180-f3ac-404b-bcbb-daa45d6e46c4 button.colab-df-convert');\n",
              "        buttonEl.style.display =\n",
              "          google.colab.kernel.accessAllowed ? 'block' : 'none';\n",
              "\n",
              "        async function convertToInteractive(key) {\n",
              "          const element = document.querySelector('#df-b7f91180-f3ac-404b-bcbb-daa45d6e46c4');\n",
              "          const dataTable =\n",
              "            await google.colab.kernel.invokeFunction('convertToInteractive',\n",
              "                                                     [key], {});\n",
              "          if (!dataTable) return;\n",
              "\n",
              "          const docLinkHtml = 'Like what you see? Visit the ' +\n",
              "            '<a target=\"_blank\" href=https://colab.research.google.com/notebooks/data_table.ipynb>data table notebook</a>'\n",
              "            + ' to learn more about interactive tables.';\n",
              "          element.innerHTML = '';\n",
              "          dataTable['output_type'] = 'display_data';\n",
              "          await google.colab.output.renderOutput(dataTable, element);\n",
              "          const docLink = document.createElement('div');\n",
              "          docLink.innerHTML = docLinkHtml;\n",
              "          element.appendChild(docLink);\n",
              "        }\n",
              "      </script>\n",
              "    </div>\n",
              "  </div>\n",
              "  "
            ]
          },
          "metadata": {},
          "execution_count": 5
        }
      ]
    },
    {
      "cell_type": "code",
      "source": [
        "X_raw.loc[:,'I1_lag0':'I1_lag47']"
      ],
      "metadata": {
        "id": "dIjFLbzS_dJT",
        "colab": {
          "base_uri": "https://localhost:8080/",
          "height": 519
        },
        "outputId": "0a6dc212-aa1a-40e0-e4e0-bfe293836e3b"
      },
      "execution_count": null,
      "outputs": [
        {
          "output_type": "execute_result",
          "data": {
            "text/plain": [
              "        I1_lag0   I1_lag1   I1_lag2   I1_lag3   I1_lag4   I1_lag5   I1_lag6  \\\n",
              "ID                                                                            \n",
              "0      2.325865  2.060138  0.071162  2.360597 -0.611526 -0.474029  1.380300   \n",
              "1     -4.091293 -3.502499 -1.463631  0.383153 -3.669962 -2.118337 -0.933734   \n",
              "2     -0.598858 -0.412391 -0.765354 -0.998152 -0.938755 -0.890084 -0.435971   \n",
              "3      0.383757  2.512478 -0.383434 -0.208506 -1.104289 -1.055666 -1.792361   \n",
              "4     -1.275226 -1.544131 -1.802590 -1.128526 -0.469835 -1.033174 -1.132530   \n",
              "...         ...       ...       ...       ...       ...       ...       ...   \n",
              "13995  0.583145 -0.051301 -0.584659  1.458945  2.004759 -0.188567 -1.174885   \n",
              "13996  1.011735 -0.185748 -0.522647  2.316802  1.219339 -0.112632  4.439025   \n",
              "13997  2.338713  2.554397  1.665492  3.719985 -0.278893 -0.313868  1.106249   \n",
              "13998 -2.252937  2.370613  4.450028  0.947600  2.364395  0.248679  2.388132   \n",
              "13999 -0.496556  1.432433 -0.012964  1.571311  0.053566 -1.182997 -1.145032   \n",
              "\n",
              "        I1_lag7   I1_lag8   I1_lag9  ...  I1_lag38  I1_lag39  I1_lag40  \\\n",
              "ID                                   ...                                 \n",
              "0      0.160847  1.101279 -1.064275  ... -0.785555 -1.098086 -0.958669   \n",
              "1      0.279289 -2.170922 -0.578250  ...  2.282263  5.016641  2.104728   \n",
              "2     -0.589324 -1.261406 -1.702031  ...  0.536822  0.715479  1.589677   \n",
              "3     -1.313026 -1.183724 -2.461788  ... -0.498264 -2.369554 -1.817159   \n",
              "4      0.673757 -0.899913 -0.816432  ...  2.109324  1.729324 -0.340226   \n",
              "...         ...       ...       ...  ...       ...       ...       ...   \n",
              "13995 -0.524965  0.918840 -0.832003  ... -1.943652 -0.782297  0.123417   \n",
              "13996  3.193461  1.082060  0.664259  ... -1.066735 -2.032352 -1.797870   \n",
              "13997  0.659270 -0.838686 -2.130881  ... -1.332451  1.324859  1.210238   \n",
              "13998  2.379845 -0.102890  1.788702  ... -3.346451 -5.533723 -5.158261   \n",
              "13999 -0.239909  0.125602 -0.903235  ... -0.690970 -0.286905 -0.550206   \n",
              "\n",
              "       I1_lag41  I1_lag42  I1_lag43  I1_lag44  I1_lag45  I1_lag46  I1_lag47  \n",
              "ID                                                                           \n",
              "0     -0.718184 -0.614667 -0.438390  2.786918 -0.510293 -0.807482  0.123301  \n",
              "1      0.163865 -1.294264 -0.933024  2.169507 -1.596210  1.111491  1.389198  \n",
              "2      1.278546  1.678936  0.758068  0.783552  0.789617  1.355588  1.560763  \n",
              "3      0.813002 -0.645045  3.332806 -0.737482  3.840992  0.214112  0.766485  \n",
              "4      0.508742  1.909086  1.259342  9.463993 -0.684622 -0.358928  2.419920  \n",
              "...         ...       ...       ...       ...       ...       ...       ...  \n",
              "13995 -1.385554  1.179859  1.596327  3.081927  1.616732 -0.439906  1.212270  \n",
              "13996 -1.732067 -0.104588 -1.871567 -1.317764 -0.837187 -0.500197  0.627397  \n",
              "13997  1.003666 -2.557547 -1.720577 -0.418486 -0.354826 -1.154290 -0.430326  \n",
              "13998 -3.182459 -3.498661 -3.874965 -3.250402 -2.489943 -2.857822 -3.826979  \n",
              "13999 -0.164405  2.044198  1.509676  1.497415  3.527036 -0.403290  1.107247  \n",
              "\n",
              "[14000 rows x 48 columns]"
            ],
            "text/html": [
              "\n",
              "  <div id=\"df-926bf893-506e-4dda-b226-23ef282f4db7\">\n",
              "    <div class=\"colab-df-container\">\n",
              "      <div>\n",
              "<style scoped>\n",
              "    .dataframe tbody tr th:only-of-type {\n",
              "        vertical-align: middle;\n",
              "    }\n",
              "\n",
              "    .dataframe tbody tr th {\n",
              "        vertical-align: top;\n",
              "    }\n",
              "\n",
              "    .dataframe thead th {\n",
              "        text-align: right;\n",
              "    }\n",
              "</style>\n",
              "<table border=\"1\" class=\"dataframe\">\n",
              "  <thead>\n",
              "    <tr style=\"text-align: right;\">\n",
              "      <th></th>\n",
              "      <th>I1_lag0</th>\n",
              "      <th>I1_lag1</th>\n",
              "      <th>I1_lag2</th>\n",
              "      <th>I1_lag3</th>\n",
              "      <th>I1_lag4</th>\n",
              "      <th>I1_lag5</th>\n",
              "      <th>I1_lag6</th>\n",
              "      <th>I1_lag7</th>\n",
              "      <th>I1_lag8</th>\n",
              "      <th>I1_lag9</th>\n",
              "      <th>...</th>\n",
              "      <th>I1_lag38</th>\n",
              "      <th>I1_lag39</th>\n",
              "      <th>I1_lag40</th>\n",
              "      <th>I1_lag41</th>\n",
              "      <th>I1_lag42</th>\n",
              "      <th>I1_lag43</th>\n",
              "      <th>I1_lag44</th>\n",
              "      <th>I1_lag45</th>\n",
              "      <th>I1_lag46</th>\n",
              "      <th>I1_lag47</th>\n",
              "    </tr>\n",
              "    <tr>\n",
              "      <th>ID</th>\n",
              "      <th></th>\n",
              "      <th></th>\n",
              "      <th></th>\n",
              "      <th></th>\n",
              "      <th></th>\n",
              "      <th></th>\n",
              "      <th></th>\n",
              "      <th></th>\n",
              "      <th></th>\n",
              "      <th></th>\n",
              "      <th></th>\n",
              "      <th></th>\n",
              "      <th></th>\n",
              "      <th></th>\n",
              "      <th></th>\n",
              "      <th></th>\n",
              "      <th></th>\n",
              "      <th></th>\n",
              "      <th></th>\n",
              "      <th></th>\n",
              "      <th></th>\n",
              "    </tr>\n",
              "  </thead>\n",
              "  <tbody>\n",
              "    <tr>\n",
              "      <th>0</th>\n",
              "      <td>2.325865</td>\n",
              "      <td>2.060138</td>\n",
              "      <td>0.071162</td>\n",
              "      <td>2.360597</td>\n",
              "      <td>-0.611526</td>\n",
              "      <td>-0.474029</td>\n",
              "      <td>1.380300</td>\n",
              "      <td>0.160847</td>\n",
              "      <td>1.101279</td>\n",
              "      <td>-1.064275</td>\n",
              "      <td>...</td>\n",
              "      <td>-0.785555</td>\n",
              "      <td>-1.098086</td>\n",
              "      <td>-0.958669</td>\n",
              "      <td>-0.718184</td>\n",
              "      <td>-0.614667</td>\n",
              "      <td>-0.438390</td>\n",
              "      <td>2.786918</td>\n",
              "      <td>-0.510293</td>\n",
              "      <td>-0.807482</td>\n",
              "      <td>0.123301</td>\n",
              "    </tr>\n",
              "    <tr>\n",
              "      <th>1</th>\n",
              "      <td>-4.091293</td>\n",
              "      <td>-3.502499</td>\n",
              "      <td>-1.463631</td>\n",
              "      <td>0.383153</td>\n",
              "      <td>-3.669962</td>\n",
              "      <td>-2.118337</td>\n",
              "      <td>-0.933734</td>\n",
              "      <td>0.279289</td>\n",
              "      <td>-2.170922</td>\n",
              "      <td>-0.578250</td>\n",
              "      <td>...</td>\n",
              "      <td>2.282263</td>\n",
              "      <td>5.016641</td>\n",
              "      <td>2.104728</td>\n",
              "      <td>0.163865</td>\n",
              "      <td>-1.294264</td>\n",
              "      <td>-0.933024</td>\n",
              "      <td>2.169507</td>\n",
              "      <td>-1.596210</td>\n",
              "      <td>1.111491</td>\n",
              "      <td>1.389198</td>\n",
              "    </tr>\n",
              "    <tr>\n",
              "      <th>2</th>\n",
              "      <td>-0.598858</td>\n",
              "      <td>-0.412391</td>\n",
              "      <td>-0.765354</td>\n",
              "      <td>-0.998152</td>\n",
              "      <td>-0.938755</td>\n",
              "      <td>-0.890084</td>\n",
              "      <td>-0.435971</td>\n",
              "      <td>-0.589324</td>\n",
              "      <td>-1.261406</td>\n",
              "      <td>-1.702031</td>\n",
              "      <td>...</td>\n",
              "      <td>0.536822</td>\n",
              "      <td>0.715479</td>\n",
              "      <td>1.589677</td>\n",
              "      <td>1.278546</td>\n",
              "      <td>1.678936</td>\n",
              "      <td>0.758068</td>\n",
              "      <td>0.783552</td>\n",
              "      <td>0.789617</td>\n",
              "      <td>1.355588</td>\n",
              "      <td>1.560763</td>\n",
              "    </tr>\n",
              "    <tr>\n",
              "      <th>3</th>\n",
              "      <td>0.383757</td>\n",
              "      <td>2.512478</td>\n",
              "      <td>-0.383434</td>\n",
              "      <td>-0.208506</td>\n",
              "      <td>-1.104289</td>\n",
              "      <td>-1.055666</td>\n",
              "      <td>-1.792361</td>\n",
              "      <td>-1.313026</td>\n",
              "      <td>-1.183724</td>\n",
              "      <td>-2.461788</td>\n",
              "      <td>...</td>\n",
              "      <td>-0.498264</td>\n",
              "      <td>-2.369554</td>\n",
              "      <td>-1.817159</td>\n",
              "      <td>0.813002</td>\n",
              "      <td>-0.645045</td>\n",
              "      <td>3.332806</td>\n",
              "      <td>-0.737482</td>\n",
              "      <td>3.840992</td>\n",
              "      <td>0.214112</td>\n",
              "      <td>0.766485</td>\n",
              "    </tr>\n",
              "    <tr>\n",
              "      <th>4</th>\n",
              "      <td>-1.275226</td>\n",
              "      <td>-1.544131</td>\n",
              "      <td>-1.802590</td>\n",
              "      <td>-1.128526</td>\n",
              "      <td>-0.469835</td>\n",
              "      <td>-1.033174</td>\n",
              "      <td>-1.132530</td>\n",
              "      <td>0.673757</td>\n",
              "      <td>-0.899913</td>\n",
              "      <td>-0.816432</td>\n",
              "      <td>...</td>\n",
              "      <td>2.109324</td>\n",
              "      <td>1.729324</td>\n",
              "      <td>-0.340226</td>\n",
              "      <td>0.508742</td>\n",
              "      <td>1.909086</td>\n",
              "      <td>1.259342</td>\n",
              "      <td>9.463993</td>\n",
              "      <td>-0.684622</td>\n",
              "      <td>-0.358928</td>\n",
              "      <td>2.419920</td>\n",
              "    </tr>\n",
              "    <tr>\n",
              "      <th>...</th>\n",
              "      <td>...</td>\n",
              "      <td>...</td>\n",
              "      <td>...</td>\n",
              "      <td>...</td>\n",
              "      <td>...</td>\n",
              "      <td>...</td>\n",
              "      <td>...</td>\n",
              "      <td>...</td>\n",
              "      <td>...</td>\n",
              "      <td>...</td>\n",
              "      <td>...</td>\n",
              "      <td>...</td>\n",
              "      <td>...</td>\n",
              "      <td>...</td>\n",
              "      <td>...</td>\n",
              "      <td>...</td>\n",
              "      <td>...</td>\n",
              "      <td>...</td>\n",
              "      <td>...</td>\n",
              "      <td>...</td>\n",
              "      <td>...</td>\n",
              "    </tr>\n",
              "    <tr>\n",
              "      <th>13995</th>\n",
              "      <td>0.583145</td>\n",
              "      <td>-0.051301</td>\n",
              "      <td>-0.584659</td>\n",
              "      <td>1.458945</td>\n",
              "      <td>2.004759</td>\n",
              "      <td>-0.188567</td>\n",
              "      <td>-1.174885</td>\n",
              "      <td>-0.524965</td>\n",
              "      <td>0.918840</td>\n",
              "      <td>-0.832003</td>\n",
              "      <td>...</td>\n",
              "      <td>-1.943652</td>\n",
              "      <td>-0.782297</td>\n",
              "      <td>0.123417</td>\n",
              "      <td>-1.385554</td>\n",
              "      <td>1.179859</td>\n",
              "      <td>1.596327</td>\n",
              "      <td>3.081927</td>\n",
              "      <td>1.616732</td>\n",
              "      <td>-0.439906</td>\n",
              "      <td>1.212270</td>\n",
              "    </tr>\n",
              "    <tr>\n",
              "      <th>13996</th>\n",
              "      <td>1.011735</td>\n",
              "      <td>-0.185748</td>\n",
              "      <td>-0.522647</td>\n",
              "      <td>2.316802</td>\n",
              "      <td>1.219339</td>\n",
              "      <td>-0.112632</td>\n",
              "      <td>4.439025</td>\n",
              "      <td>3.193461</td>\n",
              "      <td>1.082060</td>\n",
              "      <td>0.664259</td>\n",
              "      <td>...</td>\n",
              "      <td>-1.066735</td>\n",
              "      <td>-2.032352</td>\n",
              "      <td>-1.797870</td>\n",
              "      <td>-1.732067</td>\n",
              "      <td>-0.104588</td>\n",
              "      <td>-1.871567</td>\n",
              "      <td>-1.317764</td>\n",
              "      <td>-0.837187</td>\n",
              "      <td>-0.500197</td>\n",
              "      <td>0.627397</td>\n",
              "    </tr>\n",
              "    <tr>\n",
              "      <th>13997</th>\n",
              "      <td>2.338713</td>\n",
              "      <td>2.554397</td>\n",
              "      <td>1.665492</td>\n",
              "      <td>3.719985</td>\n",
              "      <td>-0.278893</td>\n",
              "      <td>-0.313868</td>\n",
              "      <td>1.106249</td>\n",
              "      <td>0.659270</td>\n",
              "      <td>-0.838686</td>\n",
              "      <td>-2.130881</td>\n",
              "      <td>...</td>\n",
              "      <td>-1.332451</td>\n",
              "      <td>1.324859</td>\n",
              "      <td>1.210238</td>\n",
              "      <td>1.003666</td>\n",
              "      <td>-2.557547</td>\n",
              "      <td>-1.720577</td>\n",
              "      <td>-0.418486</td>\n",
              "      <td>-0.354826</td>\n",
              "      <td>-1.154290</td>\n",
              "      <td>-0.430326</td>\n",
              "    </tr>\n",
              "    <tr>\n",
              "      <th>13998</th>\n",
              "      <td>-2.252937</td>\n",
              "      <td>2.370613</td>\n",
              "      <td>4.450028</td>\n",
              "      <td>0.947600</td>\n",
              "      <td>2.364395</td>\n",
              "      <td>0.248679</td>\n",
              "      <td>2.388132</td>\n",
              "      <td>2.379845</td>\n",
              "      <td>-0.102890</td>\n",
              "      <td>1.788702</td>\n",
              "      <td>...</td>\n",
              "      <td>-3.346451</td>\n",
              "      <td>-5.533723</td>\n",
              "      <td>-5.158261</td>\n",
              "      <td>-3.182459</td>\n",
              "      <td>-3.498661</td>\n",
              "      <td>-3.874965</td>\n",
              "      <td>-3.250402</td>\n",
              "      <td>-2.489943</td>\n",
              "      <td>-2.857822</td>\n",
              "      <td>-3.826979</td>\n",
              "    </tr>\n",
              "    <tr>\n",
              "      <th>13999</th>\n",
              "      <td>-0.496556</td>\n",
              "      <td>1.432433</td>\n",
              "      <td>-0.012964</td>\n",
              "      <td>1.571311</td>\n",
              "      <td>0.053566</td>\n",
              "      <td>-1.182997</td>\n",
              "      <td>-1.145032</td>\n",
              "      <td>-0.239909</td>\n",
              "      <td>0.125602</td>\n",
              "      <td>-0.903235</td>\n",
              "      <td>...</td>\n",
              "      <td>-0.690970</td>\n",
              "      <td>-0.286905</td>\n",
              "      <td>-0.550206</td>\n",
              "      <td>-0.164405</td>\n",
              "      <td>2.044198</td>\n",
              "      <td>1.509676</td>\n",
              "      <td>1.497415</td>\n",
              "      <td>3.527036</td>\n",
              "      <td>-0.403290</td>\n",
              "      <td>1.107247</td>\n",
              "    </tr>\n",
              "  </tbody>\n",
              "</table>\n",
              "<p>14000 rows × 48 columns</p>\n",
              "</div>\n",
              "      <button class=\"colab-df-convert\" onclick=\"convertToInteractive('df-926bf893-506e-4dda-b226-23ef282f4db7')\"\n",
              "              title=\"Convert this dataframe to an interactive table.\"\n",
              "              style=\"display:none;\">\n",
              "        \n",
              "  <svg xmlns=\"http://www.w3.org/2000/svg\" height=\"24px\"viewBox=\"0 0 24 24\"\n",
              "       width=\"24px\">\n",
              "    <path d=\"M0 0h24v24H0V0z\" fill=\"none\"/>\n",
              "    <path d=\"M18.56 5.44l.94 2.06.94-2.06 2.06-.94-2.06-.94-.94-2.06-.94 2.06-2.06.94zm-11 1L8.5 8.5l.94-2.06 2.06-.94-2.06-.94L8.5 2.5l-.94 2.06-2.06.94zm10 10l.94 2.06.94-2.06 2.06-.94-2.06-.94-.94-2.06-.94 2.06-2.06.94z\"/><path d=\"M17.41 7.96l-1.37-1.37c-.4-.4-.92-.59-1.43-.59-.52 0-1.04.2-1.43.59L10.3 9.45l-7.72 7.72c-.78.78-.78 2.05 0 2.83L4 21.41c.39.39.9.59 1.41.59.51 0 1.02-.2 1.41-.59l7.78-7.78 2.81-2.81c.8-.78.8-2.07 0-2.86zM5.41 20L4 18.59l7.72-7.72 1.47 1.35L5.41 20z\"/>\n",
              "  </svg>\n",
              "      </button>\n",
              "      \n",
              "  <style>\n",
              "    .colab-df-container {\n",
              "      display:flex;\n",
              "      flex-wrap:wrap;\n",
              "      gap: 12px;\n",
              "    }\n",
              "\n",
              "    .colab-df-convert {\n",
              "      background-color: #E8F0FE;\n",
              "      border: none;\n",
              "      border-radius: 50%;\n",
              "      cursor: pointer;\n",
              "      display: none;\n",
              "      fill: #1967D2;\n",
              "      height: 32px;\n",
              "      padding: 0 0 0 0;\n",
              "      width: 32px;\n",
              "    }\n",
              "\n",
              "    .colab-df-convert:hover {\n",
              "      background-color: #E2EBFA;\n",
              "      box-shadow: 0px 1px 2px rgba(60, 64, 67, 0.3), 0px 1px 3px 1px rgba(60, 64, 67, 0.15);\n",
              "      fill: #174EA6;\n",
              "    }\n",
              "\n",
              "    [theme=dark] .colab-df-convert {\n",
              "      background-color: #3B4455;\n",
              "      fill: #D2E3FC;\n",
              "    }\n",
              "\n",
              "    [theme=dark] .colab-df-convert:hover {\n",
              "      background-color: #434B5C;\n",
              "      box-shadow: 0px 1px 3px 1px rgba(0, 0, 0, 0.15);\n",
              "      filter: drop-shadow(0px 1px 2px rgba(0, 0, 0, 0.3));\n",
              "      fill: #FFFFFF;\n",
              "    }\n",
              "  </style>\n",
              "\n",
              "      <script>\n",
              "        const buttonEl =\n",
              "          document.querySelector('#df-926bf893-506e-4dda-b226-23ef282f4db7 button.colab-df-convert');\n",
              "        buttonEl.style.display =\n",
              "          google.colab.kernel.accessAllowed ? 'block' : 'none';\n",
              "\n",
              "        async function convertToInteractive(key) {\n",
              "          const element = document.querySelector('#df-926bf893-506e-4dda-b226-23ef282f4db7');\n",
              "          const dataTable =\n",
              "            await google.colab.kernel.invokeFunction('convertToInteractive',\n",
              "                                                     [key], {});\n",
              "          if (!dataTable) return;\n",
              "\n",
              "          const docLinkHtml = 'Like what you see? Visit the ' +\n",
              "            '<a target=\"_blank\" href=https://colab.research.google.com/notebooks/data_table.ipynb>data table notebook</a>'\n",
              "            + ' to learn more about interactive tables.';\n",
              "          element.innerHTML = '';\n",
              "          dataTable['output_type'] = 'display_data';\n",
              "          await google.colab.output.renderOutput(dataTable, element);\n",
              "          const docLink = document.createElement('div');\n",
              "          docLink.innerHTML = docLinkHtml;\n",
              "          element.appendChild(docLink);\n",
              "        }\n",
              "      </script>\n",
              "    </div>\n",
              "  </div>\n",
              "  "
            ]
          },
          "metadata": {},
          "execution_count": 6
        }
      ]
    },
    {
      "cell_type": "code",
      "source": [
        "y_raw = pd.read_csv('/content/drive/MyDrive/Cruso-ApsFinancieras/semana7/output_training_F2dZW38.csv').set_index('ID')\n",
        "y_raw"
      ],
      "metadata": {
        "id": "29-SdvrDk-lz",
        "colab": {
          "base_uri": "https://localhost:8080/",
          "height": 455
        },
        "outputId": "179c5f37-a9a8-4738-c7ec-f26a3c5cc6d1"
      },
      "execution_count": null,
      "outputs": [
        {
          "output_type": "execute_result",
          "data": {
            "text/plain": [
              "       Target -1  Target 0  Target 1\n",
              "ID                                  \n",
              "0              0         0         1\n",
              "1              1         0         0\n",
              "2              0         0         1\n",
              "3              1         0         0\n",
              "4              0         1         0\n",
              "...          ...       ...       ...\n",
              "13995          0         0         1\n",
              "13996          0         1         0\n",
              "13997          0         1         0\n",
              "13998          0         0         1\n",
              "13999          0         1         0\n",
              "\n",
              "[14000 rows x 3 columns]"
            ],
            "text/html": [
              "\n",
              "  <div id=\"df-1e530105-9304-41b0-a0ad-a30c799d5d77\">\n",
              "    <div class=\"colab-df-container\">\n",
              "      <div>\n",
              "<style scoped>\n",
              "    .dataframe tbody tr th:only-of-type {\n",
              "        vertical-align: middle;\n",
              "    }\n",
              "\n",
              "    .dataframe tbody tr th {\n",
              "        vertical-align: top;\n",
              "    }\n",
              "\n",
              "    .dataframe thead th {\n",
              "        text-align: right;\n",
              "    }\n",
              "</style>\n",
              "<table border=\"1\" class=\"dataframe\">\n",
              "  <thead>\n",
              "    <tr style=\"text-align: right;\">\n",
              "      <th></th>\n",
              "      <th>Target -1</th>\n",
              "      <th>Target 0</th>\n",
              "      <th>Target 1</th>\n",
              "    </tr>\n",
              "    <tr>\n",
              "      <th>ID</th>\n",
              "      <th></th>\n",
              "      <th></th>\n",
              "      <th></th>\n",
              "    </tr>\n",
              "  </thead>\n",
              "  <tbody>\n",
              "    <tr>\n",
              "      <th>0</th>\n",
              "      <td>0</td>\n",
              "      <td>0</td>\n",
              "      <td>1</td>\n",
              "    </tr>\n",
              "    <tr>\n",
              "      <th>1</th>\n",
              "      <td>1</td>\n",
              "      <td>0</td>\n",
              "      <td>0</td>\n",
              "    </tr>\n",
              "    <tr>\n",
              "      <th>2</th>\n",
              "      <td>0</td>\n",
              "      <td>0</td>\n",
              "      <td>1</td>\n",
              "    </tr>\n",
              "    <tr>\n",
              "      <th>3</th>\n",
              "      <td>1</td>\n",
              "      <td>0</td>\n",
              "      <td>0</td>\n",
              "    </tr>\n",
              "    <tr>\n",
              "      <th>4</th>\n",
              "      <td>0</td>\n",
              "      <td>1</td>\n",
              "      <td>0</td>\n",
              "    </tr>\n",
              "    <tr>\n",
              "      <th>...</th>\n",
              "      <td>...</td>\n",
              "      <td>...</td>\n",
              "      <td>...</td>\n",
              "    </tr>\n",
              "    <tr>\n",
              "      <th>13995</th>\n",
              "      <td>0</td>\n",
              "      <td>0</td>\n",
              "      <td>1</td>\n",
              "    </tr>\n",
              "    <tr>\n",
              "      <th>13996</th>\n",
              "      <td>0</td>\n",
              "      <td>1</td>\n",
              "      <td>0</td>\n",
              "    </tr>\n",
              "    <tr>\n",
              "      <th>13997</th>\n",
              "      <td>0</td>\n",
              "      <td>1</td>\n",
              "      <td>0</td>\n",
              "    </tr>\n",
              "    <tr>\n",
              "      <th>13998</th>\n",
              "      <td>0</td>\n",
              "      <td>0</td>\n",
              "      <td>1</td>\n",
              "    </tr>\n",
              "    <tr>\n",
              "      <th>13999</th>\n",
              "      <td>0</td>\n",
              "      <td>1</td>\n",
              "      <td>0</td>\n",
              "    </tr>\n",
              "  </tbody>\n",
              "</table>\n",
              "<p>14000 rows × 3 columns</p>\n",
              "</div>\n",
              "      <button class=\"colab-df-convert\" onclick=\"convertToInteractive('df-1e530105-9304-41b0-a0ad-a30c799d5d77')\"\n",
              "              title=\"Convert this dataframe to an interactive table.\"\n",
              "              style=\"display:none;\">\n",
              "        \n",
              "  <svg xmlns=\"http://www.w3.org/2000/svg\" height=\"24px\"viewBox=\"0 0 24 24\"\n",
              "       width=\"24px\">\n",
              "    <path d=\"M0 0h24v24H0V0z\" fill=\"none\"/>\n",
              "    <path d=\"M18.56 5.44l.94 2.06.94-2.06 2.06-.94-2.06-.94-.94-2.06-.94 2.06-2.06.94zm-11 1L8.5 8.5l.94-2.06 2.06-.94-2.06-.94L8.5 2.5l-.94 2.06-2.06.94zm10 10l.94 2.06.94-2.06 2.06-.94-2.06-.94-.94-2.06-.94 2.06-2.06.94z\"/><path d=\"M17.41 7.96l-1.37-1.37c-.4-.4-.92-.59-1.43-.59-.52 0-1.04.2-1.43.59L10.3 9.45l-7.72 7.72c-.78.78-.78 2.05 0 2.83L4 21.41c.39.39.9.59 1.41.59.51 0 1.02-.2 1.41-.59l7.78-7.78 2.81-2.81c.8-.78.8-2.07 0-2.86zM5.41 20L4 18.59l7.72-7.72 1.47 1.35L5.41 20z\"/>\n",
              "  </svg>\n",
              "      </button>\n",
              "      \n",
              "  <style>\n",
              "    .colab-df-container {\n",
              "      display:flex;\n",
              "      flex-wrap:wrap;\n",
              "      gap: 12px;\n",
              "    }\n",
              "\n",
              "    .colab-df-convert {\n",
              "      background-color: #E8F0FE;\n",
              "      border: none;\n",
              "      border-radius: 50%;\n",
              "      cursor: pointer;\n",
              "      display: none;\n",
              "      fill: #1967D2;\n",
              "      height: 32px;\n",
              "      padding: 0 0 0 0;\n",
              "      width: 32px;\n",
              "    }\n",
              "\n",
              "    .colab-df-convert:hover {\n",
              "      background-color: #E2EBFA;\n",
              "      box-shadow: 0px 1px 2px rgba(60, 64, 67, 0.3), 0px 1px 3px 1px rgba(60, 64, 67, 0.15);\n",
              "      fill: #174EA6;\n",
              "    }\n",
              "\n",
              "    [theme=dark] .colab-df-convert {\n",
              "      background-color: #3B4455;\n",
              "      fill: #D2E3FC;\n",
              "    }\n",
              "\n",
              "    [theme=dark] .colab-df-convert:hover {\n",
              "      background-color: #434B5C;\n",
              "      box-shadow: 0px 1px 3px 1px rgba(0, 0, 0, 0.15);\n",
              "      filter: drop-shadow(0px 1px 2px rgba(0, 0, 0, 0.3));\n",
              "      fill: #FFFFFF;\n",
              "    }\n",
              "  </style>\n",
              "\n",
              "      <script>\n",
              "        const buttonEl =\n",
              "          document.querySelector('#df-1e530105-9304-41b0-a0ad-a30c799d5d77 button.colab-df-convert');\n",
              "        buttonEl.style.display =\n",
              "          google.colab.kernel.accessAllowed ? 'block' : 'none';\n",
              "\n",
              "        async function convertToInteractive(key) {\n",
              "          const element = document.querySelector('#df-1e530105-9304-41b0-a0ad-a30c799d5d77');\n",
              "          const dataTable =\n",
              "            await google.colab.kernel.invokeFunction('convertToInteractive',\n",
              "                                                     [key], {});\n",
              "          if (!dataTable) return;\n",
              "\n",
              "          const docLinkHtml = 'Like what you see? Visit the ' +\n",
              "            '<a target=\"_blank\" href=https://colab.research.google.com/notebooks/data_table.ipynb>data table notebook</a>'\n",
              "            + ' to learn more about interactive tables.';\n",
              "          element.innerHTML = '';\n",
              "          dataTable['output_type'] = 'display_data';\n",
              "          await google.colab.output.renderOutput(dataTable, element);\n",
              "          const docLink = document.createElement('div');\n",
              "          docLink.innerHTML = docLinkHtml;\n",
              "          element.appendChild(docLink);\n",
              "        }\n",
              "      </script>\n",
              "    </div>\n",
              "  </div>\n",
              "  "
            ]
          },
          "metadata": {},
          "execution_count": 7
        }
      ]
    },
    {
      "cell_type": "markdown",
      "source": [
        "## División: Entrenamiento, Validación y Prueba"
      ],
      "metadata": {
        "id": "4fqHIttJ8RTL"
      }
    },
    {
      "cell_type": "code",
      "source": [
        "# Division para entrenamiento de red LSTM\n",
        "X_train, X_test, y_train, y_test = train_test_split(X_raw, y_raw, train_size = .8, random_state = 10, shuffle = False)\n",
        "X_train, X_val, y_train, y_val = train_test_split(X_train, y_train, train_size = .75, random_state = 10, shuffle = False)\n",
        "\n",
        "print('     Train shape', X_train.shape)\n",
        "print('Validation shape', X_val.shape)\n",
        "print('      Test shape', X_test.shape)"
      ],
      "metadata": {
        "id": "1X0rE_Qj1Ys0",
        "colab": {
          "base_uri": "https://localhost:8080/"
        },
        "outputId": "f323ba3b-50bd-4cfe-9332-798faf4c3101"
      },
      "execution_count": null,
      "outputs": [
        {
          "output_type": "stream",
          "name": "stdout",
          "text": [
            "     Train shape (8400, 485)\n",
            "Validation shape (2800, 485)\n",
            "      Test shape (2800, 485)\n"
          ]
        }
      ]
    },
    {
      "cell_type": "markdown",
      "source": [
        "## Transformaciones"
      ],
      "metadata": {
        "id": "LV5EgGdD8WAm"
      }
    },
    {
      "cell_type": "code",
      "source": [
        "# Longitud de la serie de tiempo de variaciones de los precios del Bitcoin X_i\n",
        "len_prices = 5\n",
        "\n",
        "# Cantidad de temas vistos\n",
        "n_features = 10\n",
        "# Cantidad de tiempos que vemos hacia atras en las variables de sentimiento\n",
        "len_features = 48\n",
        "\n",
        "train_prices, train_features = transform_dataframe(X_train, len_prices, n_features, len_features)\n",
        "val_prices, val_features     = transform_dataframe(X_val,   len_prices, n_features, len_features)\n",
        "test_prices, test_features   = transform_dataframe(X_test,  len_prices, n_features, len_features)"
      ],
      "metadata": {
        "id": "E9kHbyBf-hUh"
      },
      "execution_count": null,
      "outputs": []
    },
    {
      "cell_type": "code",
      "source": [
        "train_prices[0]"
      ],
      "metadata": {
        "id": "IVAOnEUuSvuw",
        "colab": {
          "base_uri": "https://localhost:8080/"
        },
        "outputId": "f9cfa709-43e9-44a5-f302-92cc5696e142"
      },
      "execution_count": null,
      "outputs": [
        {
          "output_type": "execute_result",
          "data": {
            "text/plain": [
              "array([[ 4.17778324],\n",
              "       [ 2.74519725],\n",
              "       [-0.97219231],\n",
              "       [ 0.62035968],\n",
              "       [ 0.46002033]])"
            ]
          },
          "metadata": {},
          "execution_count": 10
        }
      ]
    },
    {
      "cell_type": "code",
      "source": [
        "train_prices.shape"
      ],
      "metadata": {
        "id": "K2QzZtVH3FZv",
        "colab": {
          "base_uri": "https://localhost:8080/"
        },
        "outputId": "59a54f59-028e-47b7-ddb4-ee6a9f66441e"
      },
      "execution_count": null,
      "outputs": [
        {
          "output_type": "execute_result",
          "data": {
            "text/plain": [
              "(8400, 5, 1)"
            ]
          },
          "metadata": {},
          "execution_count": 11
        }
      ]
    },
    {
      "cell_type": "code",
      "source": [
        "train_features[0][:, 0]"
      ],
      "metadata": {
        "id": "upcIoCRrTx9c",
        "colab": {
          "base_uri": "https://localhost:8080/"
        },
        "outputId": "229415d6-4d6f-4f0f-df98-c79501c42291"
      },
      "execution_count": null,
      "outputs": [
        {
          "output_type": "execute_result",
          "data": {
            "text/plain": [
              "array([ 0.12330096, -0.80748226, -0.51029275,  2.78691821, -0.4383897 ,\n",
              "       -0.61466708, -0.71818432, -0.95866944, -1.09808579, -0.78555544,\n",
              "       -1.22302101, -0.88165666, -1.09750822, -0.84122588,  0.25120809,\n",
              "        0.90708829, -1.08424554, -1.07812114, -0.70310434, -0.37712057,\n",
              "        1.55133108,  1.05576805,  0.209699  ,  1.76036892, -0.30387588,\n",
              "        0.07121708,  0.97642094,  0.07843654, -0.35526931,  0.22145519,\n",
              "        0.06140576, -0.07898419, -0.73271442, -1.22189031, -0.62196393,\n",
              "        0.49002681, -1.57032042,  0.24734582, -1.06427504,  1.10127919,\n",
              "        0.16084683,  1.3802998 , -0.47402934, -0.6115262 ,  2.36059748,\n",
              "        0.07116183,  2.06013838,  2.3258649 ])"
            ]
          },
          "metadata": {},
          "execution_count": 12
        }
      ]
    },
    {
      "cell_type": "code",
      "source": [
        "X_raw.loc[:,'I1_lag0':'I1_lag47']"
      ],
      "metadata": {
        "id": "zG_vcD88TGvN",
        "colab": {
          "base_uri": "https://localhost:8080/",
          "height": 519
        },
        "outputId": "b0bad58b-f7d4-4cb4-be61-55c9be2cebac"
      },
      "execution_count": null,
      "outputs": [
        {
          "output_type": "execute_result",
          "data": {
            "text/plain": [
              "        I1_lag0   I1_lag1   I1_lag2   I1_lag3   I1_lag4   I1_lag5   I1_lag6  \\\n",
              "ID                                                                            \n",
              "0      2.325865  2.060138  0.071162  2.360597 -0.611526 -0.474029  1.380300   \n",
              "1     -4.091293 -3.502499 -1.463631  0.383153 -3.669962 -2.118337 -0.933734   \n",
              "2     -0.598858 -0.412391 -0.765354 -0.998152 -0.938755 -0.890084 -0.435971   \n",
              "3      0.383757  2.512478 -0.383434 -0.208506 -1.104289 -1.055666 -1.792361   \n",
              "4     -1.275226 -1.544131 -1.802590 -1.128526 -0.469835 -1.033174 -1.132530   \n",
              "...         ...       ...       ...       ...       ...       ...       ...   \n",
              "13995  0.583145 -0.051301 -0.584659  1.458945  2.004759 -0.188567 -1.174885   \n",
              "13996  1.011735 -0.185748 -0.522647  2.316802  1.219339 -0.112632  4.439025   \n",
              "13997  2.338713  2.554397  1.665492  3.719985 -0.278893 -0.313868  1.106249   \n",
              "13998 -2.252937  2.370613  4.450028  0.947600  2.364395  0.248679  2.388132   \n",
              "13999 -0.496556  1.432433 -0.012964  1.571311  0.053566 -1.182997 -1.145032   \n",
              "\n",
              "        I1_lag7   I1_lag8   I1_lag9  ...  I1_lag38  I1_lag39  I1_lag40  \\\n",
              "ID                                   ...                                 \n",
              "0      0.160847  1.101279 -1.064275  ... -0.785555 -1.098086 -0.958669   \n",
              "1      0.279289 -2.170922 -0.578250  ...  2.282263  5.016641  2.104728   \n",
              "2     -0.589324 -1.261406 -1.702031  ...  0.536822  0.715479  1.589677   \n",
              "3     -1.313026 -1.183724 -2.461788  ... -0.498264 -2.369554 -1.817159   \n",
              "4      0.673757 -0.899913 -0.816432  ...  2.109324  1.729324 -0.340226   \n",
              "...         ...       ...       ...  ...       ...       ...       ...   \n",
              "13995 -0.524965  0.918840 -0.832003  ... -1.943652 -0.782297  0.123417   \n",
              "13996  3.193461  1.082060  0.664259  ... -1.066735 -2.032352 -1.797870   \n",
              "13997  0.659270 -0.838686 -2.130881  ... -1.332451  1.324859  1.210238   \n",
              "13998  2.379845 -0.102890  1.788702  ... -3.346451 -5.533723 -5.158261   \n",
              "13999 -0.239909  0.125602 -0.903235  ... -0.690970 -0.286905 -0.550206   \n",
              "\n",
              "       I1_lag41  I1_lag42  I1_lag43  I1_lag44  I1_lag45  I1_lag46  I1_lag47  \n",
              "ID                                                                           \n",
              "0     -0.718184 -0.614667 -0.438390  2.786918 -0.510293 -0.807482  0.123301  \n",
              "1      0.163865 -1.294264 -0.933024  2.169507 -1.596210  1.111491  1.389198  \n",
              "2      1.278546  1.678936  0.758068  0.783552  0.789617  1.355588  1.560763  \n",
              "3      0.813002 -0.645045  3.332806 -0.737482  3.840992  0.214112  0.766485  \n",
              "4      0.508742  1.909086  1.259342  9.463993 -0.684622 -0.358928  2.419920  \n",
              "...         ...       ...       ...       ...       ...       ...       ...  \n",
              "13995 -1.385554  1.179859  1.596327  3.081927  1.616732 -0.439906  1.212270  \n",
              "13996 -1.732067 -0.104588 -1.871567 -1.317764 -0.837187 -0.500197  0.627397  \n",
              "13997  1.003666 -2.557547 -1.720577 -0.418486 -0.354826 -1.154290 -0.430326  \n",
              "13998 -3.182459 -3.498661 -3.874965 -3.250402 -2.489943 -2.857822 -3.826979  \n",
              "13999 -0.164405  2.044198  1.509676  1.497415  3.527036 -0.403290  1.107247  \n",
              "\n",
              "[14000 rows x 48 columns]"
            ],
            "text/html": [
              "\n",
              "  <div id=\"df-923e968a-0e73-4339-81ee-17402ac04276\">\n",
              "    <div class=\"colab-df-container\">\n",
              "      <div>\n",
              "<style scoped>\n",
              "    .dataframe tbody tr th:only-of-type {\n",
              "        vertical-align: middle;\n",
              "    }\n",
              "\n",
              "    .dataframe tbody tr th {\n",
              "        vertical-align: top;\n",
              "    }\n",
              "\n",
              "    .dataframe thead th {\n",
              "        text-align: right;\n",
              "    }\n",
              "</style>\n",
              "<table border=\"1\" class=\"dataframe\">\n",
              "  <thead>\n",
              "    <tr style=\"text-align: right;\">\n",
              "      <th></th>\n",
              "      <th>I1_lag0</th>\n",
              "      <th>I1_lag1</th>\n",
              "      <th>I1_lag2</th>\n",
              "      <th>I1_lag3</th>\n",
              "      <th>I1_lag4</th>\n",
              "      <th>I1_lag5</th>\n",
              "      <th>I1_lag6</th>\n",
              "      <th>I1_lag7</th>\n",
              "      <th>I1_lag8</th>\n",
              "      <th>I1_lag9</th>\n",
              "      <th>...</th>\n",
              "      <th>I1_lag38</th>\n",
              "      <th>I1_lag39</th>\n",
              "      <th>I1_lag40</th>\n",
              "      <th>I1_lag41</th>\n",
              "      <th>I1_lag42</th>\n",
              "      <th>I1_lag43</th>\n",
              "      <th>I1_lag44</th>\n",
              "      <th>I1_lag45</th>\n",
              "      <th>I1_lag46</th>\n",
              "      <th>I1_lag47</th>\n",
              "    </tr>\n",
              "    <tr>\n",
              "      <th>ID</th>\n",
              "      <th></th>\n",
              "      <th></th>\n",
              "      <th></th>\n",
              "      <th></th>\n",
              "      <th></th>\n",
              "      <th></th>\n",
              "      <th></th>\n",
              "      <th></th>\n",
              "      <th></th>\n",
              "      <th></th>\n",
              "      <th></th>\n",
              "      <th></th>\n",
              "      <th></th>\n",
              "      <th></th>\n",
              "      <th></th>\n",
              "      <th></th>\n",
              "      <th></th>\n",
              "      <th></th>\n",
              "      <th></th>\n",
              "      <th></th>\n",
              "      <th></th>\n",
              "    </tr>\n",
              "  </thead>\n",
              "  <tbody>\n",
              "    <tr>\n",
              "      <th>0</th>\n",
              "      <td>2.325865</td>\n",
              "      <td>2.060138</td>\n",
              "      <td>0.071162</td>\n",
              "      <td>2.360597</td>\n",
              "      <td>-0.611526</td>\n",
              "      <td>-0.474029</td>\n",
              "      <td>1.380300</td>\n",
              "      <td>0.160847</td>\n",
              "      <td>1.101279</td>\n",
              "      <td>-1.064275</td>\n",
              "      <td>...</td>\n",
              "      <td>-0.785555</td>\n",
              "      <td>-1.098086</td>\n",
              "      <td>-0.958669</td>\n",
              "      <td>-0.718184</td>\n",
              "      <td>-0.614667</td>\n",
              "      <td>-0.438390</td>\n",
              "      <td>2.786918</td>\n",
              "      <td>-0.510293</td>\n",
              "      <td>-0.807482</td>\n",
              "      <td>0.123301</td>\n",
              "    </tr>\n",
              "    <tr>\n",
              "      <th>1</th>\n",
              "      <td>-4.091293</td>\n",
              "      <td>-3.502499</td>\n",
              "      <td>-1.463631</td>\n",
              "      <td>0.383153</td>\n",
              "      <td>-3.669962</td>\n",
              "      <td>-2.118337</td>\n",
              "      <td>-0.933734</td>\n",
              "      <td>0.279289</td>\n",
              "      <td>-2.170922</td>\n",
              "      <td>-0.578250</td>\n",
              "      <td>...</td>\n",
              "      <td>2.282263</td>\n",
              "      <td>5.016641</td>\n",
              "      <td>2.104728</td>\n",
              "      <td>0.163865</td>\n",
              "      <td>-1.294264</td>\n",
              "      <td>-0.933024</td>\n",
              "      <td>2.169507</td>\n",
              "      <td>-1.596210</td>\n",
              "      <td>1.111491</td>\n",
              "      <td>1.389198</td>\n",
              "    </tr>\n",
              "    <tr>\n",
              "      <th>2</th>\n",
              "      <td>-0.598858</td>\n",
              "      <td>-0.412391</td>\n",
              "      <td>-0.765354</td>\n",
              "      <td>-0.998152</td>\n",
              "      <td>-0.938755</td>\n",
              "      <td>-0.890084</td>\n",
              "      <td>-0.435971</td>\n",
              "      <td>-0.589324</td>\n",
              "      <td>-1.261406</td>\n",
              "      <td>-1.702031</td>\n",
              "      <td>...</td>\n",
              "      <td>0.536822</td>\n",
              "      <td>0.715479</td>\n",
              "      <td>1.589677</td>\n",
              "      <td>1.278546</td>\n",
              "      <td>1.678936</td>\n",
              "      <td>0.758068</td>\n",
              "      <td>0.783552</td>\n",
              "      <td>0.789617</td>\n",
              "      <td>1.355588</td>\n",
              "      <td>1.560763</td>\n",
              "    </tr>\n",
              "    <tr>\n",
              "      <th>3</th>\n",
              "      <td>0.383757</td>\n",
              "      <td>2.512478</td>\n",
              "      <td>-0.383434</td>\n",
              "      <td>-0.208506</td>\n",
              "      <td>-1.104289</td>\n",
              "      <td>-1.055666</td>\n",
              "      <td>-1.792361</td>\n",
              "      <td>-1.313026</td>\n",
              "      <td>-1.183724</td>\n",
              "      <td>-2.461788</td>\n",
              "      <td>...</td>\n",
              "      <td>-0.498264</td>\n",
              "      <td>-2.369554</td>\n",
              "      <td>-1.817159</td>\n",
              "      <td>0.813002</td>\n",
              "      <td>-0.645045</td>\n",
              "      <td>3.332806</td>\n",
              "      <td>-0.737482</td>\n",
              "      <td>3.840992</td>\n",
              "      <td>0.214112</td>\n",
              "      <td>0.766485</td>\n",
              "    </tr>\n",
              "    <tr>\n",
              "      <th>4</th>\n",
              "      <td>-1.275226</td>\n",
              "      <td>-1.544131</td>\n",
              "      <td>-1.802590</td>\n",
              "      <td>-1.128526</td>\n",
              "      <td>-0.469835</td>\n",
              "      <td>-1.033174</td>\n",
              "      <td>-1.132530</td>\n",
              "      <td>0.673757</td>\n",
              "      <td>-0.899913</td>\n",
              "      <td>-0.816432</td>\n",
              "      <td>...</td>\n",
              "      <td>2.109324</td>\n",
              "      <td>1.729324</td>\n",
              "      <td>-0.340226</td>\n",
              "      <td>0.508742</td>\n",
              "      <td>1.909086</td>\n",
              "      <td>1.259342</td>\n",
              "      <td>9.463993</td>\n",
              "      <td>-0.684622</td>\n",
              "      <td>-0.358928</td>\n",
              "      <td>2.419920</td>\n",
              "    </tr>\n",
              "    <tr>\n",
              "      <th>...</th>\n",
              "      <td>...</td>\n",
              "      <td>...</td>\n",
              "      <td>...</td>\n",
              "      <td>...</td>\n",
              "      <td>...</td>\n",
              "      <td>...</td>\n",
              "      <td>...</td>\n",
              "      <td>...</td>\n",
              "      <td>...</td>\n",
              "      <td>...</td>\n",
              "      <td>...</td>\n",
              "      <td>...</td>\n",
              "      <td>...</td>\n",
              "      <td>...</td>\n",
              "      <td>...</td>\n",
              "      <td>...</td>\n",
              "      <td>...</td>\n",
              "      <td>...</td>\n",
              "      <td>...</td>\n",
              "      <td>...</td>\n",
              "      <td>...</td>\n",
              "    </tr>\n",
              "    <tr>\n",
              "      <th>13995</th>\n",
              "      <td>0.583145</td>\n",
              "      <td>-0.051301</td>\n",
              "      <td>-0.584659</td>\n",
              "      <td>1.458945</td>\n",
              "      <td>2.004759</td>\n",
              "      <td>-0.188567</td>\n",
              "      <td>-1.174885</td>\n",
              "      <td>-0.524965</td>\n",
              "      <td>0.918840</td>\n",
              "      <td>-0.832003</td>\n",
              "      <td>...</td>\n",
              "      <td>-1.943652</td>\n",
              "      <td>-0.782297</td>\n",
              "      <td>0.123417</td>\n",
              "      <td>-1.385554</td>\n",
              "      <td>1.179859</td>\n",
              "      <td>1.596327</td>\n",
              "      <td>3.081927</td>\n",
              "      <td>1.616732</td>\n",
              "      <td>-0.439906</td>\n",
              "      <td>1.212270</td>\n",
              "    </tr>\n",
              "    <tr>\n",
              "      <th>13996</th>\n",
              "      <td>1.011735</td>\n",
              "      <td>-0.185748</td>\n",
              "      <td>-0.522647</td>\n",
              "      <td>2.316802</td>\n",
              "      <td>1.219339</td>\n",
              "      <td>-0.112632</td>\n",
              "      <td>4.439025</td>\n",
              "      <td>3.193461</td>\n",
              "      <td>1.082060</td>\n",
              "      <td>0.664259</td>\n",
              "      <td>...</td>\n",
              "      <td>-1.066735</td>\n",
              "      <td>-2.032352</td>\n",
              "      <td>-1.797870</td>\n",
              "      <td>-1.732067</td>\n",
              "      <td>-0.104588</td>\n",
              "      <td>-1.871567</td>\n",
              "      <td>-1.317764</td>\n",
              "      <td>-0.837187</td>\n",
              "      <td>-0.500197</td>\n",
              "      <td>0.627397</td>\n",
              "    </tr>\n",
              "    <tr>\n",
              "      <th>13997</th>\n",
              "      <td>2.338713</td>\n",
              "      <td>2.554397</td>\n",
              "      <td>1.665492</td>\n",
              "      <td>3.719985</td>\n",
              "      <td>-0.278893</td>\n",
              "      <td>-0.313868</td>\n",
              "      <td>1.106249</td>\n",
              "      <td>0.659270</td>\n",
              "      <td>-0.838686</td>\n",
              "      <td>-2.130881</td>\n",
              "      <td>...</td>\n",
              "      <td>-1.332451</td>\n",
              "      <td>1.324859</td>\n",
              "      <td>1.210238</td>\n",
              "      <td>1.003666</td>\n",
              "      <td>-2.557547</td>\n",
              "      <td>-1.720577</td>\n",
              "      <td>-0.418486</td>\n",
              "      <td>-0.354826</td>\n",
              "      <td>-1.154290</td>\n",
              "      <td>-0.430326</td>\n",
              "    </tr>\n",
              "    <tr>\n",
              "      <th>13998</th>\n",
              "      <td>-2.252937</td>\n",
              "      <td>2.370613</td>\n",
              "      <td>4.450028</td>\n",
              "      <td>0.947600</td>\n",
              "      <td>2.364395</td>\n",
              "      <td>0.248679</td>\n",
              "      <td>2.388132</td>\n",
              "      <td>2.379845</td>\n",
              "      <td>-0.102890</td>\n",
              "      <td>1.788702</td>\n",
              "      <td>...</td>\n",
              "      <td>-3.346451</td>\n",
              "      <td>-5.533723</td>\n",
              "      <td>-5.158261</td>\n",
              "      <td>-3.182459</td>\n",
              "      <td>-3.498661</td>\n",
              "      <td>-3.874965</td>\n",
              "      <td>-3.250402</td>\n",
              "      <td>-2.489943</td>\n",
              "      <td>-2.857822</td>\n",
              "      <td>-3.826979</td>\n",
              "    </tr>\n",
              "    <tr>\n",
              "      <th>13999</th>\n",
              "      <td>-0.496556</td>\n",
              "      <td>1.432433</td>\n",
              "      <td>-0.012964</td>\n",
              "      <td>1.571311</td>\n",
              "      <td>0.053566</td>\n",
              "      <td>-1.182997</td>\n",
              "      <td>-1.145032</td>\n",
              "      <td>-0.239909</td>\n",
              "      <td>0.125602</td>\n",
              "      <td>-0.903235</td>\n",
              "      <td>...</td>\n",
              "      <td>-0.690970</td>\n",
              "      <td>-0.286905</td>\n",
              "      <td>-0.550206</td>\n",
              "      <td>-0.164405</td>\n",
              "      <td>2.044198</td>\n",
              "      <td>1.509676</td>\n",
              "      <td>1.497415</td>\n",
              "      <td>3.527036</td>\n",
              "      <td>-0.403290</td>\n",
              "      <td>1.107247</td>\n",
              "    </tr>\n",
              "  </tbody>\n",
              "</table>\n",
              "<p>14000 rows × 48 columns</p>\n",
              "</div>\n",
              "      <button class=\"colab-df-convert\" onclick=\"convertToInteractive('df-923e968a-0e73-4339-81ee-17402ac04276')\"\n",
              "              title=\"Convert this dataframe to an interactive table.\"\n",
              "              style=\"display:none;\">\n",
              "        \n",
              "  <svg xmlns=\"http://www.w3.org/2000/svg\" height=\"24px\"viewBox=\"0 0 24 24\"\n",
              "       width=\"24px\">\n",
              "    <path d=\"M0 0h24v24H0V0z\" fill=\"none\"/>\n",
              "    <path d=\"M18.56 5.44l.94 2.06.94-2.06 2.06-.94-2.06-.94-.94-2.06-.94 2.06-2.06.94zm-11 1L8.5 8.5l.94-2.06 2.06-.94-2.06-.94L8.5 2.5l-.94 2.06-2.06.94zm10 10l.94 2.06.94-2.06 2.06-.94-2.06-.94-.94-2.06-.94 2.06-2.06.94z\"/><path d=\"M17.41 7.96l-1.37-1.37c-.4-.4-.92-.59-1.43-.59-.52 0-1.04.2-1.43.59L10.3 9.45l-7.72 7.72c-.78.78-.78 2.05 0 2.83L4 21.41c.39.39.9.59 1.41.59.51 0 1.02-.2 1.41-.59l7.78-7.78 2.81-2.81c.8-.78.8-2.07 0-2.86zM5.41 20L4 18.59l7.72-7.72 1.47 1.35L5.41 20z\"/>\n",
              "  </svg>\n",
              "      </button>\n",
              "      \n",
              "  <style>\n",
              "    .colab-df-container {\n",
              "      display:flex;\n",
              "      flex-wrap:wrap;\n",
              "      gap: 12px;\n",
              "    }\n",
              "\n",
              "    .colab-df-convert {\n",
              "      background-color: #E8F0FE;\n",
              "      border: none;\n",
              "      border-radius: 50%;\n",
              "      cursor: pointer;\n",
              "      display: none;\n",
              "      fill: #1967D2;\n",
              "      height: 32px;\n",
              "      padding: 0 0 0 0;\n",
              "      width: 32px;\n",
              "    }\n",
              "\n",
              "    .colab-df-convert:hover {\n",
              "      background-color: #E2EBFA;\n",
              "      box-shadow: 0px 1px 2px rgba(60, 64, 67, 0.3), 0px 1px 3px 1px rgba(60, 64, 67, 0.15);\n",
              "      fill: #174EA6;\n",
              "    }\n",
              "\n",
              "    [theme=dark] .colab-df-convert {\n",
              "      background-color: #3B4455;\n",
              "      fill: #D2E3FC;\n",
              "    }\n",
              "\n",
              "    [theme=dark] .colab-df-convert:hover {\n",
              "      background-color: #434B5C;\n",
              "      box-shadow: 0px 1px 3px 1px rgba(0, 0, 0, 0.15);\n",
              "      filter: drop-shadow(0px 1px 2px rgba(0, 0, 0, 0.3));\n",
              "      fill: #FFFFFF;\n",
              "    }\n",
              "  </style>\n",
              "\n",
              "      <script>\n",
              "        const buttonEl =\n",
              "          document.querySelector('#df-923e968a-0e73-4339-81ee-17402ac04276 button.colab-df-convert');\n",
              "        buttonEl.style.display =\n",
              "          google.colab.kernel.accessAllowed ? 'block' : 'none';\n",
              "\n",
              "        async function convertToInteractive(key) {\n",
              "          const element = document.querySelector('#df-923e968a-0e73-4339-81ee-17402ac04276');\n",
              "          const dataTable =\n",
              "            await google.colab.kernel.invokeFunction('convertToInteractive',\n",
              "                                                     [key], {});\n",
              "          if (!dataTable) return;\n",
              "\n",
              "          const docLinkHtml = 'Like what you see? Visit the ' +\n",
              "            '<a target=\"_blank\" href=https://colab.research.google.com/notebooks/data_table.ipynb>data table notebook</a>'\n",
              "            + ' to learn more about interactive tables.';\n",
              "          element.innerHTML = '';\n",
              "          dataTable['output_type'] = 'display_data';\n",
              "          await google.colab.output.renderOutput(dataTable, element);\n",
              "          const docLink = document.createElement('div');\n",
              "          docLink.innerHTML = docLinkHtml;\n",
              "          element.appendChild(docLink);\n",
              "        }\n",
              "      </script>\n",
              "    </div>\n",
              "  </div>\n",
              "  "
            ]
          },
          "metadata": {},
          "execution_count": 13
        }
      ]
    },
    {
      "cell_type": "code",
      "source": [
        "train_features.shape"
      ],
      "metadata": {
        "id": "11OHHU132d-C",
        "colab": {
          "base_uri": "https://localhost:8080/"
        },
        "outputId": "6cc6641b-466b-4584-dd14-20a7080469fb"
      },
      "execution_count": null,
      "outputs": [
        {
          "output_type": "execute_result",
          "data": {
            "text/plain": [
              "(8400, 48, 10)"
            ]
          },
          "metadata": {},
          "execution_count": 14
        }
      ]
    },
    {
      "cell_type": "code",
      "source": [
        "print('        Labels: (samples, sequence length, features)')\n",
        "print('  Train prices:', train_prices.shape)\n",
        "print('Train features:', train_features.shape)"
      ],
      "metadata": {
        "id": "D9vHnzXOGlJi",
        "colab": {
          "base_uri": "https://localhost:8080/"
        },
        "outputId": "518a6ee8-d961-42d7-cc5b-fa59608d3945"
      },
      "execution_count": null,
      "outputs": [
        {
          "output_type": "stream",
          "name": "stdout",
          "text": [
            "        Labels: (samples, sequence length, features)\n",
            "  Train prices: (8400, 5, 1)\n",
            "Train features: (8400, 48, 10)\n"
          ]
        }
      ]
    },
    {
      "cell_type": "markdown",
      "source": [
        "# Algoritmos-Modelos"
      ],
      "metadata": {
        "id": "Z8wnN8eN8fbZ"
      }
    },
    {
      "cell_type": "markdown",
      "source": [
        "## Regresión logística"
      ],
      "metadata": {
        "id": "NfcAiYGc994C"
      }
    },
    {
      "cell_type": "markdown",
      "source": [
        "El punto de referencia de los propietarios de los datos es una regresión logística tomando como características X1, $\\dots$, X5."
      ],
      "metadata": {
        "id": "0B2PDjT2-_n-"
      }
    },
    {
      "cell_type": "code",
      "source": [
        "from sklearn.linear_model import LogisticRegression"
      ],
      "metadata": {
        "id": "XxRMOiQR2d3H"
      },
      "execution_count": null,
      "outputs": []
    },
    {
      "cell_type": "code",
      "source": [
        "np.set_printoptions(suppress=True)\n",
        "train_prices"
      ],
      "metadata": {
        "id": "hi_GmUvP3InB",
        "colab": {
          "base_uri": "https://localhost:8080/"
        },
        "outputId": "ad457d81-1987-4c73-ea9f-689f32d6003d"
      },
      "execution_count": null,
      "outputs": [
        {
          "output_type": "execute_result",
          "data": {
            "text/plain": [
              "array([[[ 4.17778324],\n",
              "        [ 2.74519725],\n",
              "        [-0.97219231],\n",
              "        [ 0.62035968],\n",
              "        [ 0.46002033]],\n",
              "\n",
              "       [[ 8.60829058],\n",
              "        [ 3.74188805],\n",
              "        [-0.22202592],\n",
              "        [-2.19992478],\n",
              "        [-0.34787206]],\n",
              "\n",
              "       [[ 3.87026224],\n",
              "        [-0.00391238],\n",
              "        [ 1.61905739],\n",
              "        [-0.43246086],\n",
              "        [-2.15296262]],\n",
              "\n",
              "       ...,\n",
              "\n",
              "       [[-8.01161549],\n",
              "        [-3.25267826],\n",
              "        [-3.23511161],\n",
              "        [-4.42009744],\n",
              "        [-1.64528608]],\n",
              "\n",
              "       [[-5.7431553 ],\n",
              "        [-4.55756999],\n",
              "        [-4.1314012 ],\n",
              "        [-4.21510083],\n",
              "        [ 0.26622901]],\n",
              "\n",
              "       [[ 3.53645002],\n",
              "        [ 6.40746335],\n",
              "        [ 0.75612526],\n",
              "        [ 1.8952313 ],\n",
              "        [ 1.59236659]]])"
            ]
          },
          "metadata": {},
          "execution_count": 17
        }
      ]
    },
    {
      "cell_type": "code",
      "source": [
        "X_train_0, X_test_0, y_train_0, y_test_0 = train_test_split(X_raw, y_raw, train_size = .8, random_state = 10, shuffle = False)"
      ],
      "metadata": {
        "id": "-gaJ6tl43i7w"
      },
      "execution_count": null,
      "outputs": []
    },
    {
      "cell_type": "code",
      "source": [
        "X_train_0 = X_train_0[['X1', 'X2', 'X3', 'X4', 'X5']]\n",
        "X_train_0"
      ],
      "metadata": {
        "id": "ZF4hOjid3tza",
        "colab": {
          "base_uri": "https://localhost:8080/",
          "height": 455
        },
        "outputId": "fe5ac1dc-039d-4873-fb20-fb9977dca7a1"
      },
      "execution_count": null,
      "outputs": [
        {
          "output_type": "execute_result",
          "data": {
            "text/plain": [
              "             X1        X2        X3        X4         X5\n",
              "ID                                                      \n",
              "0      0.460020  0.620360 -0.972192  2.745197   4.177783\n",
              "1     -0.347872 -2.199925 -0.222026  3.741888   8.608291\n",
              "2     -2.152963 -0.432461  1.619057 -0.003912   3.870262\n",
              "3     -1.827669 -1.881770 -4.214322  0.178225   0.992362\n",
              "4      0.748761  1.799939  1.561006  5.204120   2.161637\n",
              "...         ...       ...       ...       ...        ...\n",
              "11195 -0.197817 -0.503618 -5.999348 -7.625040  -2.796258\n",
              "11196  0.511663  1.874224  0.079970  2.570751   7.507616\n",
              "11197  3.405716  4.082560  5.426551  4.861720  10.263339\n",
              "11198  0.476242  2.696333  3.123024  5.921784  -2.697430\n",
              "11199 -0.114793  2.307844  2.853960  5.231252  -2.617616\n",
              "\n",
              "[11200 rows x 5 columns]"
            ],
            "text/html": [
              "\n",
              "  <div id=\"df-885c06f9-9963-47b0-a7d2-f6ecb88fcfac\">\n",
              "    <div class=\"colab-df-container\">\n",
              "      <div>\n",
              "<style scoped>\n",
              "    .dataframe tbody tr th:only-of-type {\n",
              "        vertical-align: middle;\n",
              "    }\n",
              "\n",
              "    .dataframe tbody tr th {\n",
              "        vertical-align: top;\n",
              "    }\n",
              "\n",
              "    .dataframe thead th {\n",
              "        text-align: right;\n",
              "    }\n",
              "</style>\n",
              "<table border=\"1\" class=\"dataframe\">\n",
              "  <thead>\n",
              "    <tr style=\"text-align: right;\">\n",
              "      <th></th>\n",
              "      <th>X1</th>\n",
              "      <th>X2</th>\n",
              "      <th>X3</th>\n",
              "      <th>X4</th>\n",
              "      <th>X5</th>\n",
              "    </tr>\n",
              "    <tr>\n",
              "      <th>ID</th>\n",
              "      <th></th>\n",
              "      <th></th>\n",
              "      <th></th>\n",
              "      <th></th>\n",
              "      <th></th>\n",
              "    </tr>\n",
              "  </thead>\n",
              "  <tbody>\n",
              "    <tr>\n",
              "      <th>0</th>\n",
              "      <td>0.460020</td>\n",
              "      <td>0.620360</td>\n",
              "      <td>-0.972192</td>\n",
              "      <td>2.745197</td>\n",
              "      <td>4.177783</td>\n",
              "    </tr>\n",
              "    <tr>\n",
              "      <th>1</th>\n",
              "      <td>-0.347872</td>\n",
              "      <td>-2.199925</td>\n",
              "      <td>-0.222026</td>\n",
              "      <td>3.741888</td>\n",
              "      <td>8.608291</td>\n",
              "    </tr>\n",
              "    <tr>\n",
              "      <th>2</th>\n",
              "      <td>-2.152963</td>\n",
              "      <td>-0.432461</td>\n",
              "      <td>1.619057</td>\n",
              "      <td>-0.003912</td>\n",
              "      <td>3.870262</td>\n",
              "    </tr>\n",
              "    <tr>\n",
              "      <th>3</th>\n",
              "      <td>-1.827669</td>\n",
              "      <td>-1.881770</td>\n",
              "      <td>-4.214322</td>\n",
              "      <td>0.178225</td>\n",
              "      <td>0.992362</td>\n",
              "    </tr>\n",
              "    <tr>\n",
              "      <th>4</th>\n",
              "      <td>0.748761</td>\n",
              "      <td>1.799939</td>\n",
              "      <td>1.561006</td>\n",
              "      <td>5.204120</td>\n",
              "      <td>2.161637</td>\n",
              "    </tr>\n",
              "    <tr>\n",
              "      <th>...</th>\n",
              "      <td>...</td>\n",
              "      <td>...</td>\n",
              "      <td>...</td>\n",
              "      <td>...</td>\n",
              "      <td>...</td>\n",
              "    </tr>\n",
              "    <tr>\n",
              "      <th>11195</th>\n",
              "      <td>-0.197817</td>\n",
              "      <td>-0.503618</td>\n",
              "      <td>-5.999348</td>\n",
              "      <td>-7.625040</td>\n",
              "      <td>-2.796258</td>\n",
              "    </tr>\n",
              "    <tr>\n",
              "      <th>11196</th>\n",
              "      <td>0.511663</td>\n",
              "      <td>1.874224</td>\n",
              "      <td>0.079970</td>\n",
              "      <td>2.570751</td>\n",
              "      <td>7.507616</td>\n",
              "    </tr>\n",
              "    <tr>\n",
              "      <th>11197</th>\n",
              "      <td>3.405716</td>\n",
              "      <td>4.082560</td>\n",
              "      <td>5.426551</td>\n",
              "      <td>4.861720</td>\n",
              "      <td>10.263339</td>\n",
              "    </tr>\n",
              "    <tr>\n",
              "      <th>11198</th>\n",
              "      <td>0.476242</td>\n",
              "      <td>2.696333</td>\n",
              "      <td>3.123024</td>\n",
              "      <td>5.921784</td>\n",
              "      <td>-2.697430</td>\n",
              "    </tr>\n",
              "    <tr>\n",
              "      <th>11199</th>\n",
              "      <td>-0.114793</td>\n",
              "      <td>2.307844</td>\n",
              "      <td>2.853960</td>\n",
              "      <td>5.231252</td>\n",
              "      <td>-2.617616</td>\n",
              "    </tr>\n",
              "  </tbody>\n",
              "</table>\n",
              "<p>11200 rows × 5 columns</p>\n",
              "</div>\n",
              "      <button class=\"colab-df-convert\" onclick=\"convertToInteractive('df-885c06f9-9963-47b0-a7d2-f6ecb88fcfac')\"\n",
              "              title=\"Convert this dataframe to an interactive table.\"\n",
              "              style=\"display:none;\">\n",
              "        \n",
              "  <svg xmlns=\"http://www.w3.org/2000/svg\" height=\"24px\"viewBox=\"0 0 24 24\"\n",
              "       width=\"24px\">\n",
              "    <path d=\"M0 0h24v24H0V0z\" fill=\"none\"/>\n",
              "    <path d=\"M18.56 5.44l.94 2.06.94-2.06 2.06-.94-2.06-.94-.94-2.06-.94 2.06-2.06.94zm-11 1L8.5 8.5l.94-2.06 2.06-.94-2.06-.94L8.5 2.5l-.94 2.06-2.06.94zm10 10l.94 2.06.94-2.06 2.06-.94-2.06-.94-.94-2.06-.94 2.06-2.06.94z\"/><path d=\"M17.41 7.96l-1.37-1.37c-.4-.4-.92-.59-1.43-.59-.52 0-1.04.2-1.43.59L10.3 9.45l-7.72 7.72c-.78.78-.78 2.05 0 2.83L4 21.41c.39.39.9.59 1.41.59.51 0 1.02-.2 1.41-.59l7.78-7.78 2.81-2.81c.8-.78.8-2.07 0-2.86zM5.41 20L4 18.59l7.72-7.72 1.47 1.35L5.41 20z\"/>\n",
              "  </svg>\n",
              "      </button>\n",
              "      \n",
              "  <style>\n",
              "    .colab-df-container {\n",
              "      display:flex;\n",
              "      flex-wrap:wrap;\n",
              "      gap: 12px;\n",
              "    }\n",
              "\n",
              "    .colab-df-convert {\n",
              "      background-color: #E8F0FE;\n",
              "      border: none;\n",
              "      border-radius: 50%;\n",
              "      cursor: pointer;\n",
              "      display: none;\n",
              "      fill: #1967D2;\n",
              "      height: 32px;\n",
              "      padding: 0 0 0 0;\n",
              "      width: 32px;\n",
              "    }\n",
              "\n",
              "    .colab-df-convert:hover {\n",
              "      background-color: #E2EBFA;\n",
              "      box-shadow: 0px 1px 2px rgba(60, 64, 67, 0.3), 0px 1px 3px 1px rgba(60, 64, 67, 0.15);\n",
              "      fill: #174EA6;\n",
              "    }\n",
              "\n",
              "    [theme=dark] .colab-df-convert {\n",
              "      background-color: #3B4455;\n",
              "      fill: #D2E3FC;\n",
              "    }\n",
              "\n",
              "    [theme=dark] .colab-df-convert:hover {\n",
              "      background-color: #434B5C;\n",
              "      box-shadow: 0px 1px 3px 1px rgba(0, 0, 0, 0.15);\n",
              "      filter: drop-shadow(0px 1px 2px rgba(0, 0, 0, 0.3));\n",
              "      fill: #FFFFFF;\n",
              "    }\n",
              "  </style>\n",
              "\n",
              "      <script>\n",
              "        const buttonEl =\n",
              "          document.querySelector('#df-885c06f9-9963-47b0-a7d2-f6ecb88fcfac button.colab-df-convert');\n",
              "        buttonEl.style.display =\n",
              "          google.colab.kernel.accessAllowed ? 'block' : 'none';\n",
              "\n",
              "        async function convertToInteractive(key) {\n",
              "          const element = document.querySelector('#df-885c06f9-9963-47b0-a7d2-f6ecb88fcfac');\n",
              "          const dataTable =\n",
              "            await google.colab.kernel.invokeFunction('convertToInteractive',\n",
              "                                                     [key], {});\n",
              "          if (!dataTable) return;\n",
              "\n",
              "          const docLinkHtml = 'Like what you see? Visit the ' +\n",
              "            '<a target=\"_blank\" href=https://colab.research.google.com/notebooks/data_table.ipynb>data table notebook</a>'\n",
              "            + ' to learn more about interactive tables.';\n",
              "          element.innerHTML = '';\n",
              "          dataTable['output_type'] = 'display_data';\n",
              "          await google.colab.output.renderOutput(dataTable, element);\n",
              "          const docLink = document.createElement('div');\n",
              "          docLink.innerHTML = docLinkHtml;\n",
              "          element.appendChild(docLink);\n",
              "        }\n",
              "      </script>\n",
              "    </div>\n",
              "  </div>\n",
              "  "
            ]
          },
          "metadata": {},
          "execution_count": 19
        }
      ]
    },
    {
      "cell_type": "code",
      "source": [
        "X_test_0 = X_test_0[['X1', 'X2', 'X3', 'X4', 'X5']]\n",
        "X_test_0"
      ],
      "metadata": {
        "id": "dJZBRMLB4ueT",
        "colab": {
          "base_uri": "https://localhost:8080/",
          "height": 455
        },
        "outputId": "6cc17047-8293-47e3-db07-eac144377b45"
      },
      "execution_count": null,
      "outputs": [
        {
          "output_type": "execute_result",
          "data": {
            "text/plain": [
              "             X1        X2        X3        X4         X5\n",
              "ID                                                      \n",
              "11200 -0.214679  3.356129  4.749172  5.709250   1.351358\n",
              "11201 -1.192837  0.957475 -0.430136 -2.751596   6.960146\n",
              "11202  0.450306 -0.061307  0.284349  2.194250  -3.470744\n",
              "11203  0.169981  0.180298  5.055600  3.872075   7.453231\n",
              "11204  0.223090 -0.213792  4.367535  4.579829   6.908846\n",
              "...         ...       ...       ...       ...        ...\n",
              "13995 -0.074522 -0.472044 -2.860659 -1.266230 -10.229167\n",
              "13996  1.730118  3.177408  0.816198  1.136877  -1.588960\n",
              "13997  2.093028  4.108092  1.056253  8.163642   8.916299\n",
              "13998  1.483381 -1.602078 -2.851078 -2.639386  -4.805661\n",
              "13999 -1.305992  1.129081 -0.223061  0.248722   1.326936\n",
              "\n",
              "[2800 rows x 5 columns]"
            ],
            "text/html": [
              "\n",
              "  <div id=\"df-d35282ce-b438-46e2-bae5-291a15ca690d\">\n",
              "    <div class=\"colab-df-container\">\n",
              "      <div>\n",
              "<style scoped>\n",
              "    .dataframe tbody tr th:only-of-type {\n",
              "        vertical-align: middle;\n",
              "    }\n",
              "\n",
              "    .dataframe tbody tr th {\n",
              "        vertical-align: top;\n",
              "    }\n",
              "\n",
              "    .dataframe thead th {\n",
              "        text-align: right;\n",
              "    }\n",
              "</style>\n",
              "<table border=\"1\" class=\"dataframe\">\n",
              "  <thead>\n",
              "    <tr style=\"text-align: right;\">\n",
              "      <th></th>\n",
              "      <th>X1</th>\n",
              "      <th>X2</th>\n",
              "      <th>X3</th>\n",
              "      <th>X4</th>\n",
              "      <th>X5</th>\n",
              "    </tr>\n",
              "    <tr>\n",
              "      <th>ID</th>\n",
              "      <th></th>\n",
              "      <th></th>\n",
              "      <th></th>\n",
              "      <th></th>\n",
              "      <th></th>\n",
              "    </tr>\n",
              "  </thead>\n",
              "  <tbody>\n",
              "    <tr>\n",
              "      <th>11200</th>\n",
              "      <td>-0.214679</td>\n",
              "      <td>3.356129</td>\n",
              "      <td>4.749172</td>\n",
              "      <td>5.709250</td>\n",
              "      <td>1.351358</td>\n",
              "    </tr>\n",
              "    <tr>\n",
              "      <th>11201</th>\n",
              "      <td>-1.192837</td>\n",
              "      <td>0.957475</td>\n",
              "      <td>-0.430136</td>\n",
              "      <td>-2.751596</td>\n",
              "      <td>6.960146</td>\n",
              "    </tr>\n",
              "    <tr>\n",
              "      <th>11202</th>\n",
              "      <td>0.450306</td>\n",
              "      <td>-0.061307</td>\n",
              "      <td>0.284349</td>\n",
              "      <td>2.194250</td>\n",
              "      <td>-3.470744</td>\n",
              "    </tr>\n",
              "    <tr>\n",
              "      <th>11203</th>\n",
              "      <td>0.169981</td>\n",
              "      <td>0.180298</td>\n",
              "      <td>5.055600</td>\n",
              "      <td>3.872075</td>\n",
              "      <td>7.453231</td>\n",
              "    </tr>\n",
              "    <tr>\n",
              "      <th>11204</th>\n",
              "      <td>0.223090</td>\n",
              "      <td>-0.213792</td>\n",
              "      <td>4.367535</td>\n",
              "      <td>4.579829</td>\n",
              "      <td>6.908846</td>\n",
              "    </tr>\n",
              "    <tr>\n",
              "      <th>...</th>\n",
              "      <td>...</td>\n",
              "      <td>...</td>\n",
              "      <td>...</td>\n",
              "      <td>...</td>\n",
              "      <td>...</td>\n",
              "    </tr>\n",
              "    <tr>\n",
              "      <th>13995</th>\n",
              "      <td>-0.074522</td>\n",
              "      <td>-0.472044</td>\n",
              "      <td>-2.860659</td>\n",
              "      <td>-1.266230</td>\n",
              "      <td>-10.229167</td>\n",
              "    </tr>\n",
              "    <tr>\n",
              "      <th>13996</th>\n",
              "      <td>1.730118</td>\n",
              "      <td>3.177408</td>\n",
              "      <td>0.816198</td>\n",
              "      <td>1.136877</td>\n",
              "      <td>-1.588960</td>\n",
              "    </tr>\n",
              "    <tr>\n",
              "      <th>13997</th>\n",
              "      <td>2.093028</td>\n",
              "      <td>4.108092</td>\n",
              "      <td>1.056253</td>\n",
              "      <td>8.163642</td>\n",
              "      <td>8.916299</td>\n",
              "    </tr>\n",
              "    <tr>\n",
              "      <th>13998</th>\n",
              "      <td>1.483381</td>\n",
              "      <td>-1.602078</td>\n",
              "      <td>-2.851078</td>\n",
              "      <td>-2.639386</td>\n",
              "      <td>-4.805661</td>\n",
              "    </tr>\n",
              "    <tr>\n",
              "      <th>13999</th>\n",
              "      <td>-1.305992</td>\n",
              "      <td>1.129081</td>\n",
              "      <td>-0.223061</td>\n",
              "      <td>0.248722</td>\n",
              "      <td>1.326936</td>\n",
              "    </tr>\n",
              "  </tbody>\n",
              "</table>\n",
              "<p>2800 rows × 5 columns</p>\n",
              "</div>\n",
              "      <button class=\"colab-df-convert\" onclick=\"convertToInteractive('df-d35282ce-b438-46e2-bae5-291a15ca690d')\"\n",
              "              title=\"Convert this dataframe to an interactive table.\"\n",
              "              style=\"display:none;\">\n",
              "        \n",
              "  <svg xmlns=\"http://www.w3.org/2000/svg\" height=\"24px\"viewBox=\"0 0 24 24\"\n",
              "       width=\"24px\">\n",
              "    <path d=\"M0 0h24v24H0V0z\" fill=\"none\"/>\n",
              "    <path d=\"M18.56 5.44l.94 2.06.94-2.06 2.06-.94-2.06-.94-.94-2.06-.94 2.06-2.06.94zm-11 1L8.5 8.5l.94-2.06 2.06-.94-2.06-.94L8.5 2.5l-.94 2.06-2.06.94zm10 10l.94 2.06.94-2.06 2.06-.94-2.06-.94-.94-2.06-.94 2.06-2.06.94z\"/><path d=\"M17.41 7.96l-1.37-1.37c-.4-.4-.92-.59-1.43-.59-.52 0-1.04.2-1.43.59L10.3 9.45l-7.72 7.72c-.78.78-.78 2.05 0 2.83L4 21.41c.39.39.9.59 1.41.59.51 0 1.02-.2 1.41-.59l7.78-7.78 2.81-2.81c.8-.78.8-2.07 0-2.86zM5.41 20L4 18.59l7.72-7.72 1.47 1.35L5.41 20z\"/>\n",
              "  </svg>\n",
              "      </button>\n",
              "      \n",
              "  <style>\n",
              "    .colab-df-container {\n",
              "      display:flex;\n",
              "      flex-wrap:wrap;\n",
              "      gap: 12px;\n",
              "    }\n",
              "\n",
              "    .colab-df-convert {\n",
              "      background-color: #E8F0FE;\n",
              "      border: none;\n",
              "      border-radius: 50%;\n",
              "      cursor: pointer;\n",
              "      display: none;\n",
              "      fill: #1967D2;\n",
              "      height: 32px;\n",
              "      padding: 0 0 0 0;\n",
              "      width: 32px;\n",
              "    }\n",
              "\n",
              "    .colab-df-convert:hover {\n",
              "      background-color: #E2EBFA;\n",
              "      box-shadow: 0px 1px 2px rgba(60, 64, 67, 0.3), 0px 1px 3px 1px rgba(60, 64, 67, 0.15);\n",
              "      fill: #174EA6;\n",
              "    }\n",
              "\n",
              "    [theme=dark] .colab-df-convert {\n",
              "      background-color: #3B4455;\n",
              "      fill: #D2E3FC;\n",
              "    }\n",
              "\n",
              "    [theme=dark] .colab-df-convert:hover {\n",
              "      background-color: #434B5C;\n",
              "      box-shadow: 0px 1px 3px 1px rgba(0, 0, 0, 0.15);\n",
              "      filter: drop-shadow(0px 1px 2px rgba(0, 0, 0, 0.3));\n",
              "      fill: #FFFFFF;\n",
              "    }\n",
              "  </style>\n",
              "\n",
              "      <script>\n",
              "        const buttonEl =\n",
              "          document.querySelector('#df-d35282ce-b438-46e2-bae5-291a15ca690d button.colab-df-convert');\n",
              "        buttonEl.style.display =\n",
              "          google.colab.kernel.accessAllowed ? 'block' : 'none';\n",
              "\n",
              "        async function convertToInteractive(key) {\n",
              "          const element = document.querySelector('#df-d35282ce-b438-46e2-bae5-291a15ca690d');\n",
              "          const dataTable =\n",
              "            await google.colab.kernel.invokeFunction('convertToInteractive',\n",
              "                                                     [key], {});\n",
              "          if (!dataTable) return;\n",
              "\n",
              "          const docLinkHtml = 'Like what you see? Visit the ' +\n",
              "            '<a target=\"_blank\" href=https://colab.research.google.com/notebooks/data_table.ipynb>data table notebook</a>'\n",
              "            + ' to learn more about interactive tables.';\n",
              "          element.innerHTML = '';\n",
              "          dataTable['output_type'] = 'display_data';\n",
              "          await google.colab.output.renderOutput(dataTable, element);\n",
              "          const docLink = document.createElement('div');\n",
              "          docLink.innerHTML = docLinkHtml;\n",
              "          element.appendChild(docLink);\n",
              "        }\n",
              "      </script>\n",
              "    </div>\n",
              "  </div>\n",
              "  "
            ]
          },
          "metadata": {},
          "execution_count": 20
        }
      ]
    },
    {
      "cell_type": "code",
      "source": [
        "y_train_0"
      ],
      "metadata": {
        "id": "o_7JNo-aII09",
        "colab": {
          "base_uri": "https://localhost:8080/",
          "height": 455
        },
        "outputId": "ab55bd96-d757-4486-dd1c-c25381fc0667"
      },
      "execution_count": null,
      "outputs": [
        {
          "output_type": "execute_result",
          "data": {
            "text/plain": [
              "       Target -1  Target 0  Target 1\n",
              "ID                                  \n",
              "0              0         0         1\n",
              "1              1         0         0\n",
              "2              0         0         1\n",
              "3              1         0         0\n",
              "4              0         1         0\n",
              "...          ...       ...       ...\n",
              "11195          1         0         0\n",
              "11196          1         0         0\n",
              "11197          0         1         0\n",
              "11198          1         0         0\n",
              "11199          0         0         1\n",
              "\n",
              "[11200 rows x 3 columns]"
            ],
            "text/html": [
              "\n",
              "  <div id=\"df-416dac0b-273c-4629-bb9b-a2955e5d9678\">\n",
              "    <div class=\"colab-df-container\">\n",
              "      <div>\n",
              "<style scoped>\n",
              "    .dataframe tbody tr th:only-of-type {\n",
              "        vertical-align: middle;\n",
              "    }\n",
              "\n",
              "    .dataframe tbody tr th {\n",
              "        vertical-align: top;\n",
              "    }\n",
              "\n",
              "    .dataframe thead th {\n",
              "        text-align: right;\n",
              "    }\n",
              "</style>\n",
              "<table border=\"1\" class=\"dataframe\">\n",
              "  <thead>\n",
              "    <tr style=\"text-align: right;\">\n",
              "      <th></th>\n",
              "      <th>Target -1</th>\n",
              "      <th>Target 0</th>\n",
              "      <th>Target 1</th>\n",
              "    </tr>\n",
              "    <tr>\n",
              "      <th>ID</th>\n",
              "      <th></th>\n",
              "      <th></th>\n",
              "      <th></th>\n",
              "    </tr>\n",
              "  </thead>\n",
              "  <tbody>\n",
              "    <tr>\n",
              "      <th>0</th>\n",
              "      <td>0</td>\n",
              "      <td>0</td>\n",
              "      <td>1</td>\n",
              "    </tr>\n",
              "    <tr>\n",
              "      <th>1</th>\n",
              "      <td>1</td>\n",
              "      <td>0</td>\n",
              "      <td>0</td>\n",
              "    </tr>\n",
              "    <tr>\n",
              "      <th>2</th>\n",
              "      <td>0</td>\n",
              "      <td>0</td>\n",
              "      <td>1</td>\n",
              "    </tr>\n",
              "    <tr>\n",
              "      <th>3</th>\n",
              "      <td>1</td>\n",
              "      <td>0</td>\n",
              "      <td>0</td>\n",
              "    </tr>\n",
              "    <tr>\n",
              "      <th>4</th>\n",
              "      <td>0</td>\n",
              "      <td>1</td>\n",
              "      <td>0</td>\n",
              "    </tr>\n",
              "    <tr>\n",
              "      <th>...</th>\n",
              "      <td>...</td>\n",
              "      <td>...</td>\n",
              "      <td>...</td>\n",
              "    </tr>\n",
              "    <tr>\n",
              "      <th>11195</th>\n",
              "      <td>1</td>\n",
              "      <td>0</td>\n",
              "      <td>0</td>\n",
              "    </tr>\n",
              "    <tr>\n",
              "      <th>11196</th>\n",
              "      <td>1</td>\n",
              "      <td>0</td>\n",
              "      <td>0</td>\n",
              "    </tr>\n",
              "    <tr>\n",
              "      <th>11197</th>\n",
              "      <td>0</td>\n",
              "      <td>1</td>\n",
              "      <td>0</td>\n",
              "    </tr>\n",
              "    <tr>\n",
              "      <th>11198</th>\n",
              "      <td>1</td>\n",
              "      <td>0</td>\n",
              "      <td>0</td>\n",
              "    </tr>\n",
              "    <tr>\n",
              "      <th>11199</th>\n",
              "      <td>0</td>\n",
              "      <td>0</td>\n",
              "      <td>1</td>\n",
              "    </tr>\n",
              "  </tbody>\n",
              "</table>\n",
              "<p>11200 rows × 3 columns</p>\n",
              "</div>\n",
              "      <button class=\"colab-df-convert\" onclick=\"convertToInteractive('df-416dac0b-273c-4629-bb9b-a2955e5d9678')\"\n",
              "              title=\"Convert this dataframe to an interactive table.\"\n",
              "              style=\"display:none;\">\n",
              "        \n",
              "  <svg xmlns=\"http://www.w3.org/2000/svg\" height=\"24px\"viewBox=\"0 0 24 24\"\n",
              "       width=\"24px\">\n",
              "    <path d=\"M0 0h24v24H0V0z\" fill=\"none\"/>\n",
              "    <path d=\"M18.56 5.44l.94 2.06.94-2.06 2.06-.94-2.06-.94-.94-2.06-.94 2.06-2.06.94zm-11 1L8.5 8.5l.94-2.06 2.06-.94-2.06-.94L8.5 2.5l-.94 2.06-2.06.94zm10 10l.94 2.06.94-2.06 2.06-.94-2.06-.94-.94-2.06-.94 2.06-2.06.94z\"/><path d=\"M17.41 7.96l-1.37-1.37c-.4-.4-.92-.59-1.43-.59-.52 0-1.04.2-1.43.59L10.3 9.45l-7.72 7.72c-.78.78-.78 2.05 0 2.83L4 21.41c.39.39.9.59 1.41.59.51 0 1.02-.2 1.41-.59l7.78-7.78 2.81-2.81c.8-.78.8-2.07 0-2.86zM5.41 20L4 18.59l7.72-7.72 1.47 1.35L5.41 20z\"/>\n",
              "  </svg>\n",
              "      </button>\n",
              "      \n",
              "  <style>\n",
              "    .colab-df-container {\n",
              "      display:flex;\n",
              "      flex-wrap:wrap;\n",
              "      gap: 12px;\n",
              "    }\n",
              "\n",
              "    .colab-df-convert {\n",
              "      background-color: #E8F0FE;\n",
              "      border: none;\n",
              "      border-radius: 50%;\n",
              "      cursor: pointer;\n",
              "      display: none;\n",
              "      fill: #1967D2;\n",
              "      height: 32px;\n",
              "      padding: 0 0 0 0;\n",
              "      width: 32px;\n",
              "    }\n",
              "\n",
              "    .colab-df-convert:hover {\n",
              "      background-color: #E2EBFA;\n",
              "      box-shadow: 0px 1px 2px rgba(60, 64, 67, 0.3), 0px 1px 3px 1px rgba(60, 64, 67, 0.15);\n",
              "      fill: #174EA6;\n",
              "    }\n",
              "\n",
              "    [theme=dark] .colab-df-convert {\n",
              "      background-color: #3B4455;\n",
              "      fill: #D2E3FC;\n",
              "    }\n",
              "\n",
              "    [theme=dark] .colab-df-convert:hover {\n",
              "      background-color: #434B5C;\n",
              "      box-shadow: 0px 1px 3px 1px rgba(0, 0, 0, 0.15);\n",
              "      filter: drop-shadow(0px 1px 2px rgba(0, 0, 0, 0.3));\n",
              "      fill: #FFFFFF;\n",
              "    }\n",
              "  </style>\n",
              "\n",
              "      <script>\n",
              "        const buttonEl =\n",
              "          document.querySelector('#df-416dac0b-273c-4629-bb9b-a2955e5d9678 button.colab-df-convert');\n",
              "        buttonEl.style.display =\n",
              "          google.colab.kernel.accessAllowed ? 'block' : 'none';\n",
              "\n",
              "        async function convertToInteractive(key) {\n",
              "          const element = document.querySelector('#df-416dac0b-273c-4629-bb9b-a2955e5d9678');\n",
              "          const dataTable =\n",
              "            await google.colab.kernel.invokeFunction('convertToInteractive',\n",
              "                                                     [key], {});\n",
              "          if (!dataTable) return;\n",
              "\n",
              "          const docLinkHtml = 'Like what you see? Visit the ' +\n",
              "            '<a target=\"_blank\" href=https://colab.research.google.com/notebooks/data_table.ipynb>data table notebook</a>'\n",
              "            + ' to learn more about interactive tables.';\n",
              "          element.innerHTML = '';\n",
              "          dataTable['output_type'] = 'display_data';\n",
              "          await google.colab.output.renderOutput(dataTable, element);\n",
              "          const docLink = document.createElement('div');\n",
              "          docLink.innerHTML = docLinkHtml;\n",
              "          element.appendChild(docLink);\n",
              "        }\n",
              "      </script>\n",
              "    </div>\n",
              "  </div>\n",
              "  "
            ]
          },
          "metadata": {},
          "execution_count": 21
        }
      ]
    },
    {
      "cell_type": "code",
      "source": [
        "y_train_0 = y_train_0.idxmax(axis=1)\n",
        "y_train_0"
      ],
      "metadata": {
        "id": "0AOe0xet4bSg",
        "colab": {
          "base_uri": "https://localhost:8080/"
        },
        "outputId": "65cd5175-2440-44f4-fe08-4d9c063db1bc"
      },
      "execution_count": null,
      "outputs": [
        {
          "output_type": "execute_result",
          "data": {
            "text/plain": [
              "ID\n",
              "0         Target 1\n",
              "1        Target -1\n",
              "2         Target 1\n",
              "3        Target -1\n",
              "4         Target 0\n",
              "           ...    \n",
              "11195    Target -1\n",
              "11196    Target -1\n",
              "11197     Target 0\n",
              "11198    Target -1\n",
              "11199     Target 1\n",
              "Length: 11200, dtype: object"
            ]
          },
          "metadata": {},
          "execution_count": 22
        }
      ]
    },
    {
      "cell_type": "code",
      "source": [
        "y_test_0 = y_test_0.idxmax(axis=1)\n",
        "y_test_0"
      ],
      "metadata": {
        "id": "baOggV1r42-s",
        "colab": {
          "base_uri": "https://localhost:8080/"
        },
        "outputId": "4648aad4-fcb5-498f-b343-ea2df86a0c16"
      },
      "execution_count": null,
      "outputs": [
        {
          "output_type": "execute_result",
          "data": {
            "text/plain": [
              "ID\n",
              "11200    Target 1\n",
              "11201    Target 1\n",
              "11202    Target 0\n",
              "11203    Target 0\n",
              "11204    Target 0\n",
              "           ...   \n",
              "13995    Target 1\n",
              "13996    Target 0\n",
              "13997    Target 0\n",
              "13998    Target 1\n",
              "13999    Target 0\n",
              "Length: 2800, dtype: object"
            ]
          },
          "metadata": {},
          "execution_count": 23
        }
      ]
    },
    {
      "cell_type": "code",
      "source": [
        "model_0 = LogisticRegression(multi_class='multinomial', random_state=1)"
      ],
      "metadata": {
        "id": "RCCmUlbR1yPx"
      },
      "execution_count": null,
      "outputs": []
    },
    {
      "cell_type": "code",
      "source": [
        "model_0"
      ],
      "metadata": {
        "id": "AX6I3YOnOA1E",
        "colab": {
          "base_uri": "https://localhost:8080/"
        },
        "outputId": "57362294-e969-4834-f455-76afc2aa747a"
      },
      "execution_count": null,
      "outputs": [
        {
          "output_type": "execute_result",
          "data": {
            "text/plain": [
              "LogisticRegression(multi_class='multinomial', random_state=1)"
            ]
          },
          "metadata": {},
          "execution_count": 25
        }
      ]
    },
    {
      "cell_type": "code",
      "source": [
        "model_0.fit(X_train_0, y_train_0 )"
      ],
      "metadata": {
        "id": "AHrjeE4N1yNd",
        "colab": {
          "base_uri": "https://localhost:8080/"
        },
        "outputId": "93c9fe5a-14db-4e0b-bd43-97e34643023e"
      },
      "execution_count": null,
      "outputs": [
        {
          "output_type": "execute_result",
          "data": {
            "text/plain": [
              "LogisticRegression(multi_class='multinomial', random_state=1)"
            ]
          },
          "metadata": {},
          "execution_count": 26
        }
      ]
    },
    {
      "cell_type": "code",
      "source": [
        "y_pred_0 = model_0.predict(X_test_0)"
      ],
      "metadata": {
        "id": "O4q32k1J1yLJ"
      },
      "execution_count": null,
      "outputs": []
    },
    {
      "cell_type": "code",
      "source": [
        "(y_pred_0 == y_test_0).sum() / len(y_pred_0)"
      ],
      "metadata": {
        "id": "dpulvfSw1yIu",
        "colab": {
          "base_uri": "https://localhost:8080/"
        },
        "outputId": "e5fb2e88-6435-4278-9a0f-d52758baa2c6"
      },
      "execution_count": null,
      "outputs": [
        {
          "output_type": "execute_result",
          "data": {
            "text/plain": [
              "0.3914285714285714"
            ]
          },
          "metadata": {},
          "execution_count": 28
        }
      ]
    },
    {
      "cell_type": "code",
      "source": [
        "from sklearn.metrics import classification_report\n",
        "print(classification_report(y_test_0, y_pred_0))"
      ],
      "metadata": {
        "id": "tlJD5hYd1yGU",
        "colab": {
          "base_uri": "https://localhost:8080/"
        },
        "outputId": "bfdc0446-86ed-4793-dc90-94c6cbf9cf64"
      },
      "execution_count": null,
      "outputs": [
        {
          "output_type": "stream",
          "name": "stdout",
          "text": [
            "              precision    recall  f1-score   support\n",
            "\n",
            "   Target -1       0.40      0.26      0.32       869\n",
            "    Target 0       0.39      0.44      0.41       985\n",
            "    Target 1       0.39      0.46      0.42       946\n",
            "\n",
            "    accuracy                           0.39      2800\n",
            "   macro avg       0.39      0.39      0.38      2800\n",
            "weighted avg       0.39      0.39      0.39      2800\n",
            "\n"
          ]
        }
      ]
    },
    {
      "cell_type": "code",
      "source": [
        "from sklearn.metrics import ConfusionMatrixDisplay"
      ],
      "metadata": {
        "id": "1pOr7LWI1yDk"
      },
      "execution_count": null,
      "outputs": []
    },
    {
      "cell_type": "code",
      "source": [
        "ConfusionMatrixDisplay.from_predictions(y_test_0, y_pred_0)"
      ],
      "metadata": {
        "id": "ZCFn_Ufu1x7m",
        "colab": {
          "base_uri": "https://localhost:8080/",
          "height": 296
        },
        "outputId": "c5635860-d49b-48ea-a045-c17dc89179a7"
      },
      "execution_count": null,
      "outputs": [
        {
          "output_type": "execute_result",
          "data": {
            "text/plain": [
              "<sklearn.metrics._plot.confusion_matrix.ConfusionMatrixDisplay at 0x7f2765411310>"
            ]
          },
          "metadata": {},
          "execution_count": 31
        },
        {
          "output_type": "display_data",
          "data": {
            "text/plain": [
              "<Figure size 432x288 with 2 Axes>"
            ],
            "image/png": "[encoded data removed]"
          },
          "metadata": {
            "needs_background": "light"
          }
        }
      ]
    },
    {
      "cell_type": "code",
      "source": [
        "from sklearn.metrics import log_loss"
      ],
      "metadata": {
        "id": "vFAcWW8vJxse"
      },
      "execution_count": null,
      "outputs": []
    },
    {
      "cell_type": "code",
      "source": [
        "# Otra salida útil del modelo\n",
        "model_0.predict_proba(X_test_0)"
      ],
      "metadata": {
        "id": "IyKzDrQ5Kh4D",
        "colab": {
          "base_uri": "https://localhost:8080/"
        },
        "outputId": "17393f93-0c04-47f5-bbe1-56c3132f2d35"
      },
      "execution_count": null,
      "outputs": [
        {
          "output_type": "execute_result",
          "data": {
            "text/plain": [
              "array([[0.33511418, 0.36160748, 0.30327834],\n",
              "       [0.32165475, 0.32061938, 0.35772587],\n",
              "       [0.32411655, 0.35737579, 0.31850767],\n",
              "       ...,\n",
              "       [0.37148466, 0.34819785, 0.28031748],\n",
              "       [0.3457555 , 0.35425792, 0.29998658],\n",
              "       [0.31150756, 0.33277062, 0.35572182]])"
            ]
          },
          "metadata": {},
          "execution_count": 33
        }
      ]
    },
    {
      "cell_type": "code",
      "source": [
        "y_test_0"
      ],
      "metadata": {
        "id": "Q3iszsDTPFTr",
        "colab": {
          "base_uri": "https://localhost:8080/"
        },
        "outputId": "3333a3fa-43d9-45c5-e5d6-1f4ce105ea58"
      },
      "execution_count": null,
      "outputs": [
        {
          "output_type": "execute_result",
          "data": {
            "text/plain": [
              "ID\n",
              "11200    Target 1\n",
              "11201    Target 1\n",
              "11202    Target 0\n",
              "11203    Target 0\n",
              "11204    Target 0\n",
              "           ...   \n",
              "13995    Target 1\n",
              "13996    Target 0\n",
              "13997    Target 0\n",
              "13998    Target 1\n",
              "13999    Target 0\n",
              "Length: 2800, dtype: object"
            ]
          },
          "metadata": {},
          "execution_count": 34
        }
      ]
    },
    {
      "cell_type": "code",
      "source": [
        "log_loss(y_test_0, model_0.predict_proba(X_test_0))"
      ],
      "metadata": {
        "id": "LaZDE91CJ1Yp",
        "colab": {
          "base_uri": "https://localhost:8080/"
        },
        "outputId": "3300b439-5c91-40e0-ebf8-eef8e76ec2bb"
      },
      "execution_count": null,
      "outputs": [
        {
          "output_type": "execute_result",
          "data": {
            "text/plain": [
              "1.0933753077377295"
            ]
          },
          "metadata": {},
          "execution_count": 35
        }
      ]
    },
    {
      "cell_type": "markdown",
      "source": [
        "## Redes Neuronales"
      ],
      "metadata": {
        "id": "HtIZY1aI8il-"
      }
    },
    {
      "cell_type": "markdown",
      "source": [
        "#### Callbacks"
      ],
      "metadata": {
        "id": "uOph68NN8xcn"
      }
    },
    {
      "cell_type": "code",
      "source": [
        "# Los guarda en GoogleDrive, si no se quiere hacer la conexión, entonces cambiar la ruta o quitar el callback\n",
        "# checkpoint_cb = keras.callbacks.ModelCheckpoint(\n",
        "#     filepath = 'checkpoints', \n",
        "#     save_best_only = True\n",
        "# )\n",
        "\n",
        "earlystop_cb = keras.callbacks.EarlyStopping(\n",
        "    patience = 25, \n",
        "    restore_best_weights = True\n",
        ")"
      ],
      "metadata": {
        "id": "y43mqM-dMTXm"
      },
      "execution_count": null,
      "outputs": []
    },
    {
      "cell_type": "markdown",
      "source": [
        "### Primera Aquitectura (Solo utilizando Caracteristicas de Bitcoin)"
      ],
      "metadata": {
        "id": "iSTqABok8o6W"
      }
    },
    {
      "cell_type": "markdown",
      "source": [
        "#### Aquitectura"
      ],
      "metadata": {
        "id": "qVpiKL0s84gj"
      }
    },
    {
      "cell_type": "code",
      "source": [
        "# Definicion de las capas\n",
        "price_input = layers.Input(shape = (len_prices, 1), name = 'price_input')\n",
        "price_normalization = layers.Normalization(name = 'price_normalization', axis = 1)\n",
        "price_lstm = layers.LSTM(32, name = 'price', \n",
        "                        # kernel_regularizer=keras.regularizers.l1_l2(l1 = 1e-1, l2 = 1e-1),\n",
        "                         return_sequences=True, \n",
        "                         )\n",
        "\n",
        "price_lstm2 = layers.LSTM(16, name='price2')\n",
        "\n",
        "# Como se conectan las capas definidas arriba\n",
        "price_normalized = price_normalization(price_input)\n",
        "price_output = price_lstm(price_normalized)\n",
        "price_output2 = price_lstm2(price_output)\n",
        "\n",
        "# Como se conecta lo posterior\n",
        "prediction_layer = keras.models.Sequential(\n",
        "    [\n",
        "     layers.Dense(32, activation = 'relu'), \n",
        "     layers.Dense(32, activation = 'relu'), \n",
        "     layers.Dense(32, activation = 'relu'), \n",
        "     layers.Dense(3, activation = 'softmax')\n",
        "    ], \n",
        "    name = 'prediction'\n",
        ")\n",
        "prediction_output = prediction_layer(price_output2) \n"
      ],
      "metadata": {
        "id": "RoNA7N2J2kZo"
      },
      "execution_count": null,
      "outputs": []
    },
    {
      "cell_type": "markdown",
      "source": [
        "#### Modelo"
      ],
      "metadata": {
        "id": "uSxbBiV09FId"
      }
    },
    {
      "cell_type": "code",
      "source": [
        "# Instanciación del objeto modelo\n",
        "model = keras.Model(price_input, prediction_output)\n",
        "\n",
        "model.compile(\n",
        "    loss = 'categorical_crossentropy'\n",
        ")\n",
        "\n",
        "model.summary()"
      ],
      "metadata": {
        "id": "sZwINhfBLOrp",
        "colab": {
          "base_uri": "https://localhost:8080/"
        },
        "outputId": "37b05d5b-4865-45f4-8206-e95e4104fb81"
      },
      "execution_count": null,
      "outputs": [
        {
          "output_type": "stream",
          "name": "stdout",
          "text": [
            "Model: \"model\"\n",
            "_________________________________________________________________\n",
            " Layer (type)                Output Shape              Param #   \n",
            "=================================================================\n",
            " price_input (InputLayer)    [(None, 5, 1)]            0         \n",
            "                                                                 \n",
            " price_normalization (Normal  (None, 5, 1)             11        \n",
            " ization)                                                        \n",
            "                                                                 \n",
            " price (LSTM)                (None, 5, 32)             4352      \n",
            "                                                                 \n",
            " price2 (LSTM)               (None, 16)                3136      \n",
            "                                                                 \n",
            " prediction (Sequential)     (None, 3)                 2755      \n",
            "                                                                 \n",
            "=================================================================\n",
            "Total params: 10,254\n",
            "Trainable params: 10,243\n",
            "Non-trainable params: 11\n",
            "_________________________________________________________________\n"
          ]
        }
      ]
    },
    {
      "cell_type": "markdown",
      "source": [
        "##### Visualización"
      ],
      "metadata": {
        "id": "TZOU1FjI9G4E"
      }
    },
    {
      "cell_type": "code",
      "source": [
        "# Visualización del modelo\n",
        "keras.utils.plot_model( \n",
        "    model,\n",
        "    to_file=\"model.png\",\n",
        "    show_shapes=True,\n",
        "    show_dtype=False,\n",
        "    show_layer_names=True,\n",
        "    rankdir=\"TD\",\n",
        "    dpi=100,\n",
        ")"
      ],
      "metadata": {
        "id": "sJ-Ge0skLY0a",
        "colab": {
          "base_uri": "https://localhost:8080/",
          "height": 555
        },
        "outputId": "152a4769-1d11-4861-b35c-2380bd073801"
      },
      "execution_count": null,
      "outputs": [
        {
          "output_type": "execute_result",
          "data": {
            "image/png": "[encoded data removed]",
            "text/plain": [
              "<IPython.core.display.Image object>"
            ]
          },
          "metadata": {},
          "execution_count": 39
        }
      ]
    },
    {
      "cell_type": "markdown",
      "source": [
        "#### Entrenamiento"
      ],
      "metadata": {
        "id": "Op_r0jcC9J24"
      }
    },
    {
      "cell_type": "code",
      "source": [
        "history = model.fit(\n",
        "    train_prices, y_train,\n",
        "    batch_size = 128,\n",
        "    epochs = 1000,  # Valor real de 1000 \n",
        "    callbacks = [earlystop_cb], \n",
        "    validation_data = [val_prices, y_val]\n",
        ").history"
      ],
      "metadata": {
        "id": "jkOOKs_pLosa",
        "colab": {
          "base_uri": "https://localhost:8080/"
        },
        "outputId": "4a811724-2d81-4bc8-b263-1c0a2774f366"
      },
      "execution_count": null,
      "outputs": [
        {
          "output_type": "stream",
          "name": "stdout",
          "text": [
            "Epoch 1/1000\n",
            "66/66 [==============================] - 9s 21ms/step - loss: 1.0966 - val_loss: 1.0926\n",
            "Epoch 2/1000\n",
            "66/66 [==============================] - 0s 7ms/step - loss: 1.0923 - val_loss: 1.0923\n",
            "Epoch 3/1000\n",
            "66/66 [==============================] - 1s 8ms/step - loss: 1.0907 - val_loss: 1.0867\n",
            "Epoch 4/1000\n",
            "66/66 [==============================] - 0s 7ms/step - loss: 1.0895 - val_loss: 1.0872\n",
            "Epoch 5/1000\n",
            "66/66 [==============================] - 1s 8ms/step - loss: 1.0892 - val_loss: 1.0844\n",
            "Epoch 6/1000\n",
            "66/66 [==============================] - 0s 7ms/step - loss: 1.0890 - val_loss: 1.0842\n",
            "Epoch 7/1000\n",
            "66/66 [==============================] - 0s 7ms/step - loss: 1.0876 - val_loss: 1.0890\n",
            "Epoch 8/1000\n",
            "66/66 [==============================] - 0s 7ms/step - loss: 1.0880 - val_loss: 1.0829\n",
            "Epoch 9/1000\n",
            "66/66 [==============================] - 0s 7ms/step - loss: 1.0873 - val_loss: 1.0824\n",
            "Epoch 10/1000\n",
            "66/66 [==============================] - 0s 7ms/step - loss: 1.0869 - val_loss: 1.0854\n",
            "Epoch 11/1000\n",
            "66/66 [==============================] - 1s 9ms/step - loss: 1.0865 - val_loss: 1.0843\n",
            "Epoch 12/1000\n",
            "66/66 [==============================] - 1s 8ms/step - loss: 1.0859 - val_loss: 1.0845\n",
            "Epoch 13/1000\n",
            "66/66 [==============================] - 1s 8ms/step - loss: 1.0858 - val_loss: 1.0836\n",
            "Epoch 14/1000\n",
            "66/66 [==============================] - 1s 8ms/step - loss: 1.0853 - val_loss: 1.0856\n",
            "Epoch 15/1000\n",
            "66/66 [==============================] - 0s 7ms/step - loss: 1.0853 - val_loss: 1.0845\n",
            "Epoch 16/1000\n",
            "66/66 [==============================] - 0s 7ms/step - loss: 1.0849 - val_loss: 1.0838\n",
            "Epoch 17/1000\n",
            "66/66 [==============================] - 0s 7ms/step - loss: 1.0841 - val_loss: 1.0879\n",
            "Epoch 18/1000\n",
            "66/66 [==============================] - 0s 7ms/step - loss: 1.0849 - val_loss: 1.0862\n",
            "Epoch 19/1000\n",
            "66/66 [==============================] - 1s 9ms/step - loss: 1.0835 - val_loss: 1.0829\n",
            "Epoch 20/1000\n",
            "66/66 [==============================] - 1s 8ms/step - loss: 1.0839 - val_loss: 1.0848\n",
            "Epoch 21/1000\n",
            "66/66 [==============================] - 0s 7ms/step - loss: 1.0834 - val_loss: 1.0838\n",
            "Epoch 22/1000\n",
            "66/66 [==============================] - 0s 8ms/step - loss: 1.0831 - val_loss: 1.0842\n",
            "Epoch 23/1000\n",
            "66/66 [==============================] - 1s 8ms/step - loss: 1.0828 - val_loss: 1.0838\n",
            "Epoch 24/1000\n",
            "66/66 [==============================] - 1s 8ms/step - loss: 1.0824 - val_loss: 1.0836\n",
            "Epoch 25/1000\n",
            "66/66 [==============================] - 1s 8ms/step - loss: 1.0824 - val_loss: 1.0857\n",
            "Epoch 26/1000\n",
            "66/66 [==============================] - 1s 10ms/step - loss: 1.0820 - val_loss: 1.0853\n",
            "Epoch 27/1000\n",
            "66/66 [==============================] - 1s 10ms/step - loss: 1.0813 - val_loss: 1.0870\n",
            "Epoch 28/1000\n",
            "66/66 [==============================] - 1s 10ms/step - loss: 1.0816 - val_loss: 1.0845\n",
            "Epoch 29/1000\n",
            "66/66 [==============================] - 1s 9ms/step - loss: 1.0810 - val_loss: 1.0864\n",
            "Epoch 30/1000\n",
            "66/66 [==============================] - 1s 10ms/step - loss: 1.0803 - val_loss: 1.0881\n",
            "Epoch 31/1000\n",
            "66/66 [==============================] - 1s 8ms/step - loss: 1.0804 - val_loss: 1.0859\n",
            "Epoch 32/1000\n",
            "66/66 [==============================] - 1s 8ms/step - loss: 1.0801 - val_loss: 1.0857\n",
            "Epoch 33/1000\n",
            "66/66 [==============================] - 0s 7ms/step - loss: 1.0797 - val_loss: 1.0842\n",
            "Epoch 34/1000\n",
            "66/66 [==============================] - 0s 8ms/step - loss: 1.0786 - val_loss: 1.0850\n"
          ]
        }
      ]
    },
    {
      "cell_type": "markdown",
      "source": [
        "##### Visualización"
      ],
      "metadata": {
        "id": "1MMSErL09Lde"
      }
    },
    {
      "cell_type": "code",
      "source": [
        "x = list(range(len(history['loss'])))\n",
        "\n",
        "fig = go.Figure()\n",
        "\n",
        "fig.add_trace(go.Scatter(x = x, y = history['loss'])) \\\n",
        "   .add_trace(go.Scatter(x = x, y = history['val_loss']))\n",
        "\n",
        "fig.show()"
      ],
      "metadata": {
        "id": "U0VeDdOhTAPd",
        "colab": {
          "base_uri": "https://localhost:8080/",
          "height": 542
        },
        "outputId": "eef203eb-7bf0-4e15-f9ed-46e0f53d6c93"
      },
      "execution_count": null,
      "outputs": [
        {
          "output_type": "display_data",
          "data": {
            "text/html": [
              "<html>\n",
              "<head><meta charset=\"utf-8\" /></head>\n",
              "<body>\n",
              "    <div>            <script src=\"https://cdnjs.cloudflare.com/ajax/libs/mathjax/2.7.5/MathJax.js?config=TeX-AMS-MML_SVG\"></script><script type=\"text/javascript\">if (window.MathJax) {MathJax.Hub.Config({SVG: {font: \"STIX-Web\"}});}</script>                <script type=\"text/javascript\">window.PlotlyConfig = {MathJaxConfig: 'local'};</script>\n",
              "        <script src=\"https://cdn.plot.ly/plotly-2.8.3.min.js\"></script>                <div id=\"b75e2712-8890-4588-9f45-c388b3370372\" class=\"plotly-graph-div\" style=\"height:525px; width:100%;\"></div>            <script type=\"text/javascript\">                                    window.PLOTLYENV=window.PLOTLYENV || {};                                    if (document.getElementById(\"b75e2712-8890-4588-9f45-c388b3370372\")) {                    Plotly.newPlot(                        \"b75e2712-8890-4588-9f45-c388b3370372\",                        [{\"x\":[0,1,2,3,4,5,6,7,8,9,10,11,12,13,14,15,16,17,18,19,20,21,22,23,24,25,26,27,28,29,30,31,32,33],\"y\":[1.0965774059295654,1.0922937393188477,1.090728521347046,1.089465856552124,1.089248538017273,1.0889946222305298,1.0876063108444214,1.0879896879196167,1.0873082876205444,1.0869163274765015,1.0864568948745728,1.085893154144287,1.0858397483825684,1.0853462219238281,1.0852586030960083,1.0849272012710571,1.0841166973114014,1.0848761796951294,1.0834956169128418,1.0838655233383179,1.0833830833435059,1.083145260810852,1.082821011543274,1.0823711156845093,1.0823686122894287,1.0819871425628662,1.0813122987747192,1.0816233158111572,1.080958604812622,1.0802967548370361,1.0804299116134644,1.0800539255142212,1.0796661376953125,1.0785672664642334],\"type\":\"scatter\"},{\"x\":[0,1,2,3,4,5,6,7,8,9,10,11,12,13,14,15,16,17,18,19,20,21,22,23,24,25,26,27,28,29,30,31,32,33],\"y\":[1.0926052331924438,1.092344045639038,1.0867249965667725,1.087174415588379,1.0844404697418213,1.0841760635375977,1.0890071392059326,1.082854986190796,1.0824486017227173,1.0854098796844482,1.0842669010162354,1.084468126296997,1.0835992097854614,1.085586428642273,1.0844980478286743,1.0838322639465332,1.0878926515579224,1.0862469673156738,1.0829222202301025,1.0847759246826172,1.0838102102279663,1.0842173099517822,1.0838241577148438,1.0836151838302612,1.085741639137268,1.085300326347351,1.0870221853256226,1.0845364332199097,1.086377739906311,1.0880563259124756,1.085925817489624,1.0857394933700562,1.0842440128326416,1.0849661827087402],\"type\":\"scatter\"}],                        {\"template\":{\"data\":{\"bar\":[{\"error_x\":{\"color\":\"#2a3f5f\"},\"error_y\":{\"color\":\"#2a3f5f\"},\"marker\":{\"line\":{\"color\":\"#E5ECF6\",\"width\":0.5},\"pattern\":{\"fillmode\":\"overlay\",\"size\":10,\"solidity\":0.2}},\"type\":\"bar\"}],\"barpolar\":[{\"marker\":{\"line\":{\"color\":\"#E5ECF6\",\"width\":0.5},\"pattern\":{\"fillmode\":\"overlay\",\"size\":10,\"solidity\":0.2}},\"type\":\"barpolar\"}],\"carpet\":[{\"aaxis\":{\"endlinecolor\":\"#2a3f5f\",\"gridcolor\":\"white\",\"linecolor\":\"white\",\"minorgridcolor\":\"white\",\"startlinecolor\":\"#2a3f5f\"},\"baxis\":{\"endlinecolor\":\"#2a3f5f\",\"gridcolor\":\"white\",\"linecolor\":\"white\",\"minorgridcolor\":\"white\",\"startlinecolor\":\"#2a3f5f\"},\"type\":\"carpet\"}],\"choropleth\":[{\"colorbar\":{\"outlinewidth\":0,\"ticks\":\"\"},\"type\":\"choropleth\"}],\"contour\":[{\"colorbar\":{\"outlinewidth\":0,\"ticks\":\"\"},\"colorscale\":[[0.0,\"#0d0887\"],[0.1111111111111111,\"#46039f\"],[0.2222222222222222,\"#7201a8\"],[0.3333333333333333,\"#9c179e\"],[0.4444444444444444,\"#bd3786\"],[0.5555555555555556,\"#d8576b\"],[0.6666666666666666,\"#ed7953\"],[0.7777777777777778,\"#fb9f3a\"],[0.8888888888888888,\"#fdca26\"],[1.0,\"#f0f921\"]],\"type\":\"contour\"}],\"contourcarpet\":[{\"colorbar\":{\"outlinewidth\":0,\"ticks\":\"\"},\"type\":\"contourcarpet\"}],\"heatmap\":[{\"colorbar\":{\"outlinewidth\":0,\"ticks\":\"\"},\"colorscale\":[[0.0,\"#0d0887\"],[0.1111111111111111,\"#46039f\"],[0.2222222222222222,\"#7201a8\"],[0.3333333333333333,\"#9c179e\"],[0.4444444444444444,\"#bd3786\"],[0.5555555555555556,\"#d8576b\"],[0.6666666666666666,\"#ed7953\"],[0.7777777777777778,\"#fb9f3a\"],[0.8888888888888888,\"#fdca26\"],[1.0,\"#f0f921\"]],\"type\":\"heatmap\"}],\"heatmapgl\":[{\"colorbar\":{\"outlinewidth\":0,\"ticks\":\"\"},\"colorscale\":[[0.0,\"#0d0887\"],[0.1111111111111111,\"#46039f\"],[0.2222222222222222,\"#7201a8\"],[0.3333333333333333,\"#9c179e\"],[0.4444444444444444,\"#bd3786\"],[0.5555555555555556,\"#d8576b\"],[0.6666666666666666,\"#ed7953\"],[0.7777777777777778,\"#fb9f3a\"],[0.8888888888888888,\"#fdca26\"],[1.0,\"#f0f921\"]],\"type\":\"heatmapgl\"}],\"histogram\":[{\"marker\":{\"pattern\":{\"fillmode\":\"overlay\",\"size\":10,\"solidity\":0.2}},\"type\":\"histogram\"}],\"histogram2d\":[{\"colorbar\":{\"outlinewidth\":0,\"ticks\":\"\"},\"colorscale\":[[0.0,\"#0d0887\"],[0.1111111111111111,\"#46039f\"],[0.2222222222222222,\"#7201a8\"],[0.3333333333333333,\"#9c179e\"],[0.4444444444444444,\"#bd3786\"],[0.5555555555555556,\"#d8576b\"],[0.6666666666666666,\"#ed7953\"],[0.7777777777777778,\"#fb9f3a\"],[0.8888888888888888,\"#fdca26\"],[1.0,\"#f0f921\"]],\"type\":\"histogram2d\"}],\"histogram2dcontour\":[{\"colorbar\":{\"outlinewidth\":0,\"ticks\":\"\"},\"colorscale\":[[0.0,\"#0d0887\"],[0.1111111111111111,\"#46039f\"],[0.2222222222222222,\"#7201a8\"],[0.3333333333333333,\"#9c179e\"],[0.4444444444444444,\"#bd3786\"],[0.5555555555555556,\"#d8576b\"],[0.6666666666666666,\"#ed7953\"],[0.7777777777777778,\"#fb9f3a\"],[0.8888888888888888,\"#fdca26\"],[1.0,\"#f0f921\"]],\"type\":\"histogram2dcontour\"}],\"mesh3d\":[{\"colorbar\":{\"outlinewidth\":0,\"ticks\":\"\"},\"type\":\"mesh3d\"}],\"parcoords\":[{\"line\":{\"colorbar\":{\"outlinewidth\":0,\"ticks\":\"\"}},\"type\":\"parcoords\"}],\"pie\":[{\"automargin\":true,\"type\":\"pie\"}],\"scatter\":[{\"marker\":{\"colorbar\":{\"outlinewidth\":0,\"ticks\":\"\"}},\"type\":\"scatter\"}],\"scatter3d\":[{\"line\":{\"colorbar\":{\"outlinewidth\":0,\"ticks\":\"\"}},\"marker\":{\"colorbar\":{\"outlinewidth\":0,\"ticks\":\"\"}},\"type\":\"scatter3d\"}],\"scattercarpet\":[{\"marker\":{\"colorbar\":{\"outlinewidth\":0,\"ticks\":\"\"}},\"type\":\"scattercarpet\"}],\"scattergeo\":[{\"marker\":{\"colorbar\":{\"outlinewidth\":0,\"ticks\":\"\"}},\"type\":\"scattergeo\"}],\"scattergl\":[{\"marker\":{\"colorbar\":{\"outlinewidth\":0,\"ticks\":\"\"}},\"type\":\"scattergl\"}],\"scattermapbox\":[{\"marker\":{\"colorbar\":{\"outlinewidth\":0,\"ticks\":\"\"}},\"type\":\"scattermapbox\"}],\"scatterpolar\":[{\"marker\":{\"colorbar\":{\"outlinewidth\":0,\"ticks\":\"\"}},\"type\":\"scatterpolar\"}],\"scatterpolargl\":[{\"marker\":{\"colorbar\":{\"outlinewidth\":0,\"ticks\":\"\"}},\"type\":\"scatterpolargl\"}],\"scatterternary\":[{\"marker\":{\"colorbar\":{\"outlinewidth\":0,\"ticks\":\"\"}},\"type\":\"scatterternary\"}],\"surface\":[{\"colorbar\":{\"outlinewidth\":0,\"ticks\":\"\"},\"colorscale\":[[0.0,\"#0d0887\"],[0.1111111111111111,\"#46039f\"],[0.2222222222222222,\"#7201a8\"],[0.3333333333333333,\"#9c179e\"],[0.4444444444444444,\"#bd3786\"],[0.5555555555555556,\"#d8576b\"],[0.6666666666666666,\"#ed7953\"],[0.7777777777777778,\"#fb9f3a\"],[0.8888888888888888,\"#fdca26\"],[1.0,\"#f0f921\"]],\"type\":\"surface\"}],\"table\":[{\"cells\":{\"fill\":{\"color\":\"#EBF0F8\"},\"line\":{\"color\":\"white\"}},\"header\":{\"fill\":{\"color\":\"#C8D4E3\"},\"line\":{\"color\":\"white\"}},\"type\":\"table\"}]},\"layout\":{\"annotationdefaults\":{\"arrowcolor\":\"#2a3f5f\",\"arrowhead\":0,\"arrowwidth\":1},\"autotypenumbers\":\"strict\",\"coloraxis\":{\"colorbar\":{\"outlinewidth\":0,\"ticks\":\"\"}},\"colorscale\":{\"diverging\":[[0,\"#8e0152\"],[0.1,\"#c51b7d\"],[0.2,\"#de77ae\"],[0.3,\"#f1b6da\"],[0.4,\"#fde0ef\"],[0.5,\"#f7f7f7\"],[0.6,\"#e6f5d0\"],[0.7,\"#b8e186\"],[0.8,\"#7fbc41\"],[0.9,\"#4d9221\"],[1,\"#276419\"]],\"sequential\":[[0.0,\"#0d0887\"],[0.1111111111111111,\"#46039f\"],[0.2222222222222222,\"#7201a8\"],[0.3333333333333333,\"#9c179e\"],[0.4444444444444444,\"#bd3786\"],[0.5555555555555556,\"#d8576b\"],[0.6666666666666666,\"#ed7953\"],[0.7777777777777778,\"#fb9f3a\"],[0.8888888888888888,\"#fdca26\"],[1.0,\"#f0f921\"]],\"sequentialminus\":[[0.0,\"#0d0887\"],[0.1111111111111111,\"#46039f\"],[0.2222222222222222,\"#7201a8\"],[0.3333333333333333,\"#9c179e\"],[0.4444444444444444,\"#bd3786\"],[0.5555555555555556,\"#d8576b\"],[0.6666666666666666,\"#ed7953\"],[0.7777777777777778,\"#fb9f3a\"],[0.8888888888888888,\"#fdca26\"],[1.0,\"#f0f921\"]]},\"colorway\":[\"#636efa\",\"#EF553B\",\"#00cc96\",\"#ab63fa\",\"#FFA15A\",\"#19d3f3\",\"#FF6692\",\"#B6E880\",\"#FF97FF\",\"#FECB52\"],\"font\":{\"color\":\"#2a3f5f\"},\"geo\":{\"bgcolor\":\"white\",\"lakecolor\":\"white\",\"landcolor\":\"#E5ECF6\",\"showlakes\":true,\"showland\":true,\"subunitcolor\":\"white\"},\"hoverlabel\":{\"align\":\"left\"},\"hovermode\":\"closest\",\"mapbox\":{\"style\":\"light\"},\"paper_bgcolor\":\"white\",\"plot_bgcolor\":\"#E5ECF6\",\"polar\":{\"angularaxis\":{\"gridcolor\":\"white\",\"linecolor\":\"white\",\"ticks\":\"\"},\"bgcolor\":\"#E5ECF6\",\"radialaxis\":{\"gridcolor\":\"white\",\"linecolor\":\"white\",\"ticks\":\"\"}},\"scene\":{\"xaxis\":{\"backgroundcolor\":\"#E5ECF6\",\"gridcolor\":\"white\",\"gridwidth\":2,\"linecolor\":\"white\",\"showbackground\":true,\"ticks\":\"\",\"zerolinecolor\":\"white\"},\"yaxis\":{\"backgroundcolor\":\"#E5ECF6\",\"gridcolor\":\"white\",\"gridwidth\":2,\"linecolor\":\"white\",\"showbackground\":true,\"ticks\":\"\",\"zerolinecolor\":\"white\"},\"zaxis\":{\"backgroundcolor\":\"#E5ECF6\",\"gridcolor\":\"white\",\"gridwidth\":2,\"linecolor\":\"white\",\"showbackground\":true,\"ticks\":\"\",\"zerolinecolor\":\"white\"}},\"shapedefaults\":{\"line\":{\"color\":\"#2a3f5f\"}},\"ternary\":{\"aaxis\":{\"gridcolor\":\"white\",\"linecolor\":\"white\",\"ticks\":\"\"},\"baxis\":{\"gridcolor\":\"white\",\"linecolor\":\"white\",\"ticks\":\"\"},\"bgcolor\":\"#E5ECF6\",\"caxis\":{\"gridcolor\":\"white\",\"linecolor\":\"white\",\"ticks\":\"\"}},\"title\":{\"x\":0.05},\"xaxis\":{\"automargin\":true,\"gridcolor\":\"white\",\"linecolor\":\"white\",\"ticks\":\"\",\"title\":{\"standoff\":15},\"zerolinecolor\":\"white\",\"zerolinewidth\":2},\"yaxis\":{\"automargin\":true,\"gridcolor\":\"white\",\"linecolor\":\"white\",\"ticks\":\"\",\"title\":{\"standoff\":15},\"zerolinecolor\":\"white\",\"zerolinewidth\":2}}}},                        {\"responsive\": true}                    ).then(function(){\n",
              "                            \n",
              "var gd = document.getElementById('b75e2712-8890-4588-9f45-c388b3370372');\n",
              "var x = new MutationObserver(function (mutations, observer) {{\n",
              "        var display = window.getComputedStyle(gd).display;\n",
              "        if (!display || display === 'none') {{\n",
              "            console.log([gd, 'removed!']);\n",
              "            Plotly.purge(gd);\n",
              "            observer.disconnect();\n",
              "        }}\n",
              "}});\n",
              "\n",
              "// Listen for the removal of the full notebook cells\n",
              "var notebookContainer = gd.closest('#notebook-container');\n",
              "if (notebookContainer) {{\n",
              "    x.observe(notebookContainer, {childList: true});\n",
              "}}\n",
              "\n",
              "// Listen for the clearing of the current output cell\n",
              "var outputEl = gd.closest('.output');\n",
              "if (outputEl) {{\n",
              "    x.observe(outputEl, {childList: true});\n",
              "}}\n",
              "\n",
              "                        })                };                            </script>        </div>\n",
              "</body>\n",
              "</html>"
            ]
          },
          "metadata": {}
        }
      ]
    },
    {
      "cell_type": "markdown",
      "source": [
        "#### Métricas"
      ],
      "metadata": {
        "id": "pZN1xAdq9Plc"
      }
    },
    {
      "cell_type": "code",
      "source": [
        "evaluate_model(model, [train_prices, y_train], [val_prices, y_val], [test_prices, y_test])"
      ],
      "metadata": {
        "id": "nSHaBMRB3BFN",
        "colab": {
          "base_uri": "https://localhost:8080/"
        },
        "outputId": "861016b3-7a05-438c-d386-91813b3fc0aa"
      },
      "execution_count": null,
      "outputs": [
        {
          "output_type": "stream",
          "name": "stdout",
          "text": [
            "train cross_entropy =  1.084877371788025\n",
            "  val cross_entropy =  1.0824486017227173\n",
            " test cross_entropy =  1.084473967552185\n"
          ]
        }
      ]
    },
    {
      "cell_type": "code",
      "source": [
        "y_pred_prob = model.predict(test_prices)"
      ],
      "metadata": {
        "id": "WelnycacezHM",
        "colab": {
          "base_uri": "https://localhost:8080/"
        },
        "outputId": "f47dc720-4d06-4a6c-89bb-98b39b333259"
      },
      "execution_count": null,
      "outputs": [
        {
          "output_type": "stream",
          "name": "stdout",
          "text": [
            "88/88 [==============================] - 1s 2ms/step\n"
          ]
        }
      ]
    },
    {
      "cell_type": "code",
      "source": [
        "y_pred_prob"
      ],
      "metadata": {
        "id": "gAhkRyVOe_mi",
        "colab": {
          "base_uri": "https://localhost:8080/"
        },
        "outputId": "0c980577-275d-4942-e764-a72411a78ab4"
      },
      "execution_count": null,
      "outputs": [
        {
          "output_type": "execute_result",
          "data": {
            "text/plain": [
              "array([[0.33357474, 0.3786665 , 0.28775877],\n",
              "       [0.29394418, 0.3178653 , 0.38819054],\n",
              "       [0.3017893 , 0.40751785, 0.29069287],\n",
              "       ...,\n",
              "       [0.35595405, 0.28901786, 0.35502806],\n",
              "       [0.34771928, 0.31903353, 0.33324724],\n",
              "       [0.29503003, 0.4180266 , 0.28694338]], dtype=float32)"
            ]
          },
          "metadata": {},
          "execution_count": 44
        }
      ]
    },
    {
      "cell_type": "code",
      "source": [
        "y_pred = y_pred_prob.argmax(axis=1)\n",
        "y_pred"
      ],
      "metadata": {
        "id": "M8j0dK2_fIqA",
        "colab": {
          "base_uri": "https://localhost:8080/"
        },
        "outputId": "dd33b329-1753-4ff8-a89f-b763ca982aa4"
      },
      "execution_count": null,
      "outputs": [
        {
          "output_type": "execute_result",
          "data": {
            "text/plain": [
              "array([1, 2, 1, ..., 0, 0, 1])"
            ]
          },
          "metadata": {},
          "execution_count": 45
        }
      ]
    },
    {
      "cell_type": "code",
      "source": [
        "y_test_f = y_test.idxmax(axis=1).map({'Target -1': 0, 'Target 0': 1, 'Target 1': 2})"
      ],
      "metadata": {
        "id": "PtkfoJNkhvBN"
      },
      "execution_count": null,
      "outputs": []
    },
    {
      "cell_type": "code",
      "source": [
        "ConfusionMatrixDisplay.from_predictions(y_test_f, y_pred)"
      ],
      "metadata": {
        "id": "sO8yw1p6e56-",
        "colab": {
          "base_uri": "https://localhost:8080/",
          "height": 296
        },
        "outputId": "afe1eee3-e984-41e4-f3b9-c6aa2e56f881"
      },
      "execution_count": null,
      "outputs": [
        {
          "output_type": "execute_result",
          "data": {
            "text/plain": [
              "<sklearn.metrics._plot.confusion_matrix.ConfusionMatrixDisplay at 0x7f2750a15b50>"
            ]
          },
          "metadata": {},
          "execution_count": 47
        },
        {
          "output_type": "display_data",
          "data": {
            "text/plain": [
              "<Figure size 432x288 with 2 Axes>"
            ],
            "image/png": "[encoded data removed]"
          },
          "metadata": {
            "needs_background": "light"
          }
        }
      ]
    },
    {
      "cell_type": "code",
      "source": [
        "ConfusionMatrixDisplay.from_predictions(y_test_0, y_pred_0)"
      ],
      "metadata": {
        "id": "m9SlkWqOiuxs",
        "colab": {
          "base_uri": "https://localhost:8080/",
          "height": 296
        },
        "outputId": "9937cc59-8e21-4c71-a1bd-a2caa8c22403"
      },
      "execution_count": null,
      "outputs": [
        {
          "output_type": "execute_result",
          "data": {
            "text/plain": [
              "<sklearn.metrics._plot.confusion_matrix.ConfusionMatrixDisplay at 0x7f2750b59d30>"
            ]
          },
          "metadata": {},
          "execution_count": 48
        },
        {
          "output_type": "display_data",
          "data": {
            "text/plain": [
              "<Figure size 432x288 with 2 Axes>"
            ],
            "image/png": "[encoded data removed]"
          },
          "metadata": {
            "needs_background": "light"
          }
        }
      ]
    },
    {
      "cell_type": "code",
      "source": [
        "from sklearn.metrics import classification_report\n",
        "print(classification_report(y_test_f, y_pred))"
      ],
      "metadata": {
        "id": "N-VlC-mhi4Bt",
        "colab": {
          "base_uri": "https://localhost:8080/"
        },
        "outputId": "55858597-928a-449a-beac-4e9cc6963924"
      },
      "execution_count": null,
      "outputs": [
        {
          "output_type": "stream",
          "name": "stdout",
          "text": [
            "              precision    recall  f1-score   support\n",
            "\n",
            "           0       0.38      0.16      0.23       869\n",
            "           1       0.41      0.59      0.48       985\n",
            "           2       0.41      0.43      0.42       946\n",
            "\n",
            "    accuracy                           0.40      2800\n",
            "   macro avg       0.40      0.39      0.37      2800\n",
            "weighted avg       0.40      0.40      0.38      2800\n",
            "\n"
          ]
        }
      ]
    },
    {
      "cell_type": "markdown",
      "source": [
        "### Segunda Arquitectura"
      ],
      "metadata": {
        "id": "EinK3G6r9kAD"
      }
    },
    {
      "cell_type": "markdown",
      "source": [
        "#### Arquitectura"
      ],
      "metadata": {
        "id": "tSKt3k3d9mle"
      }
    },
    {
      "cell_type": "code",
      "source": [
        "fusion_dim = 8\n",
        "\n",
        "price_input = layers.Input(shape = (len_prices,), name = 'price_input')\n",
        "\n",
        "price_layer = keras.models.Sequential(\n",
        "    [\n",
        "     layers.Normalization(name = 'price_normalization'), \n",
        "     layers.Dense(8, activation = 'tanh'), \n",
        "     layers.Dense(8, activation = 'relu'),\n",
        "     layers.Dense(8, activation = 'tanh'), \n",
        "     layers.Dense(fusion_dim, activation = 'relu'),\n",
        "    ], \n",
        "    name = 'price'\n",
        ")\n",
        "\n",
        "price_output = price_layer(price_input)\n",
        "\n",
        "sentiment_input = layers.Input(shape = (len_features, n_features), name = 'sentiment_input')\n",
        "sentiment_normalization = layers.Normalization(name = 'sentiment_normalization', axis = 1)\n",
        "sentiment_lstm = layers.LSTM(fusion_dim, name = 'sentiment')\n",
        "\n",
        "sentiment_normalized = sentiment_normalization(sentiment_input)\n",
        "sentiment_output = sentiment_lstm(sentiment_normalized)\n",
        "\n",
        "fusion = layers.Multiply(name = 'hadamard_product')([sentiment_output, price_output])\n",
        "\n",
        "prediction_layer = keras.models.Sequential(\n",
        "    [\n",
        "     layers.Dense(8, activation = 'tanh'), \n",
        "     layers.Dense(8, activation = 'relu'), \n",
        "     layers.Dense(8, activation = 'sigmoid'), \n",
        "     layers.Dense(3, activation = 'softmax')\n",
        "    ], \n",
        "    name = 'prediction'\n",
        ")\n",
        "prediction_output = prediction_layer(fusion)"
      ],
      "metadata": {
        "id": "4s3tIf0m2p2r"
      },
      "execution_count": null,
      "outputs": []
    },
    {
      "cell_type": "markdown",
      "source": [
        "#### Modelo"
      ],
      "metadata": {
        "id": "HhmCFsf89phq"
      }
    },
    {
      "cell_type": "code",
      "source": [
        "model_2 = keras.Model([price_input, sentiment_input], prediction_output)\n",
        "\n",
        "model_2.compile(\n",
        "    loss = 'categorical_crossentropy'\n",
        ")\n",
        "\n",
        "model_2.summary()"
      ],
      "metadata": {
        "id": "DmQXsGd63SfN",
        "colab": {
          "base_uri": "https://localhost:8080/"
        },
        "outputId": "9225d4d1-689b-4851-c2d0-28da4b9bcaa3"
      },
      "execution_count": null,
      "outputs": [
        {
          "output_type": "stream",
          "name": "stdout",
          "text": [
            "Model: \"model_1\"\n",
            "__________________________________________________________________________________________________\n",
            " Layer (type)                   Output Shape         Param #     Connected to                     \n",
            "==================================================================================================\n",
            " sentiment_input (InputLayer)   [(None, 48, 10)]     0           []                               \n",
            "                                                                                                  \n",
            " sentiment_normalization (Norma  (None, 48, 10)      97          ['sentiment_input[0][0]']        \n",
            " lization)                                                                                        \n",
            "                                                                                                  \n",
            " price_input (InputLayer)       [(None, 5)]          0           []                               \n",
            "                                                                                                  \n",
            " sentiment (LSTM)               (None, 8)            608         ['sentiment_normalization[0][0]']\n",
            "                                                                                                  \n",
            " price (Sequential)             (None, 8)            275         ['price_input[0][0]']            \n",
            "                                                                                                  \n",
            " hadamard_product (Multiply)    (None, 8)            0           ['sentiment[0][0]',              \n",
            "                                                                  'price[0][0]']                  \n",
            "                                                                                                  \n",
            " prediction (Sequential)        (None, 3)            243         ['hadamard_product[0][0]']       \n",
            "                                                                                                  \n",
            "==================================================================================================\n",
            "Total params: 1,223\n",
            "Trainable params: 1,115\n",
            "Non-trainable params: 108\n",
            "__________________________________________________________________________________________________\n"
          ]
        }
      ]
    },
    {
      "cell_type": "markdown",
      "source": [
        "##### Visualización"
      ],
      "metadata": {
        "id": "ct6SNKKd9rS9"
      }
    },
    {
      "cell_type": "code",
      "source": [
        "keras.utils.plot_model( \n",
        "    model_2,\n",
        "    to_file=\"model.png\",\n",
        "    show_shapes=True,\n",
        "    show_dtype=False,\n",
        "    show_layer_names=True,\n",
        "    rankdir=\"TD\",\n",
        "    dpi=90,\n",
        ")"
      ],
      "metadata": {
        "id": "-Kr3cOHZ3WVc",
        "colab": {
          "base_uri": "https://localhost:8080/",
          "height": 501
        },
        "outputId": "f74f6056-30df-4311-c7c7-465222eaecb9"
      },
      "execution_count": null,
      "outputs": [
        {
          "output_type": "execute_result",
          "data": {
            "image/png": "[encoded data removed]",
            "text/plain": [
              "<IPython.core.display.Image object>"
            ]
          },
          "metadata": {},
          "execution_count": 54
        }
      ]
    },
    {
      "cell_type": "markdown",
      "source": [
        "#### Entrenamiento"
      ],
      "metadata": {
        "id": "BpHIwaTI9tVn"
      }
    },
    {
      "cell_type": "code",
      "source": [
        "history = model_2.fit(\n",
        "    [train_prices, train_features], y_train, \n",
        "    epochs = 30, # Original, 1000 épocas\n",
        "    callbacks = [earlystop_cb], \n",
        "    validation_data = [[val_prices, val_features], y_val]\n",
        ").history"
      ],
      "metadata": {
        "id": "2uSf0H5r3Yc7",
        "colab": {
          "base_uri": "https://localhost:8080/"
        },
        "outputId": "95d6c934-d36e-4c23-a2c4-b3f65a1486f4"
      },
      "execution_count": null,
      "outputs": [
        {
          "output_type": "stream",
          "name": "stdout",
          "text": [
            "Epoch 1/30\n",
            "263/263 [==============================] - 5s 11ms/step - loss: 1.1083 - val_loss: 1.0927\n",
            "Epoch 2/30\n",
            "263/263 [==============================] - 2s 9ms/step - loss: 1.0874 - val_loss: 1.0812\n",
            "Epoch 3/30\n",
            "263/263 [==============================] - 2s 9ms/step - loss: 1.0724 - val_loss: 1.0680\n",
            "Epoch 4/30\n",
            "263/263 [==============================] - 2s 9ms/step - loss: 1.0585 - val_loss: 1.0570\n",
            "Epoch 5/30\n",
            "263/263 [==============================] - 2s 9ms/step - loss: 1.0499 - val_loss: 1.0532\n",
            "Epoch 6/30\n",
            "263/263 [==============================] - 2s 9ms/step - loss: 1.0443 - val_loss: 1.0503\n",
            "Epoch 7/30\n",
            "263/263 [==============================] - 2s 9ms/step - loss: 1.0402 - val_loss: 1.0485\n",
            "Epoch 8/30\n",
            "263/263 [==============================] - 2s 9ms/step - loss: 1.0364 - val_loss: 1.0484\n",
            "Epoch 9/30\n",
            "263/263 [==============================] - 2s 9ms/step - loss: 1.0335 - val_loss: 1.0491\n",
            "Epoch 10/30\n",
            "263/263 [==============================] - 2s 9ms/step - loss: 1.0314 - val_loss: 1.0477\n",
            "Epoch 11/30\n",
            "263/263 [==============================] - 2s 9ms/step - loss: 1.0291 - val_loss: 1.0472\n",
            "Epoch 12/30\n",
            "263/263 [==============================] - 2s 9ms/step - loss: 1.0258 - val_loss: 1.0472\n",
            "Epoch 13/30\n",
            "263/263 [==============================] - 2s 9ms/step - loss: 1.0238 - val_loss: 1.0480\n",
            "Epoch 14/30\n",
            "263/263 [==============================] - 2s 9ms/step - loss: 1.0223 - val_loss: 1.0468\n",
            "Epoch 15/30\n",
            "263/263 [==============================] - 2s 9ms/step - loss: 1.0212 - val_loss: 1.0468\n",
            "Epoch 16/30\n",
            "263/263 [==============================] - 2s 9ms/step - loss: 1.0201 - val_loss: 1.0487\n",
            "Epoch 17/30\n",
            "263/263 [==============================] - 2s 9ms/step - loss: 1.0182 - val_loss: 1.0511\n",
            "Epoch 18/30\n",
            "263/263 [==============================] - 2s 9ms/step - loss: 1.0168 - val_loss: 1.0469\n",
            "Epoch 19/30\n",
            "263/263 [==============================] - 2s 9ms/step - loss: 1.0155 - val_loss: 1.0475\n",
            "Epoch 20/30\n",
            "263/263 [==============================] - 2s 9ms/step - loss: 1.0139 - val_loss: 1.0472\n",
            "Epoch 21/30\n",
            "263/263 [==============================] - 2s 9ms/step - loss: 1.0126 - val_loss: 1.0476\n",
            "Epoch 22/30\n",
            "263/263 [==============================] - 2s 9ms/step - loss: 1.0122 - val_loss: 1.0456\n",
            "Epoch 23/30\n",
            "263/263 [==============================] - 2s 9ms/step - loss: 1.0108 - val_loss: 1.0457\n",
            "Epoch 24/30\n",
            "263/263 [==============================] - 2s 9ms/step - loss: 1.0093 - val_loss: 1.0527\n",
            "Epoch 25/30\n",
            "263/263 [==============================] - 2s 9ms/step - loss: 1.0092 - val_loss: 1.0466\n",
            "Epoch 26/30\n",
            "263/263 [==============================] - 2s 9ms/step - loss: 1.0080 - val_loss: 1.0458\n",
            "Epoch 27/30\n",
            "263/263 [==============================] - 2s 9ms/step - loss: 1.0067 - val_loss: 1.0456\n",
            "Epoch 28/30\n",
            "263/263 [==============================] - 2s 9ms/step - loss: 1.0067 - val_loss: 1.0427\n",
            "Epoch 29/30\n",
            "263/263 [==============================] - 2s 9ms/step - loss: 1.0060 - val_loss: 1.0425\n",
            "Epoch 30/30\n",
            "263/263 [==============================] - 2s 9ms/step - loss: 1.0050 - val_loss: 1.0488\n"
          ]
        }
      ]
    },
    {
      "cell_type": "markdown",
      "source": [
        "##### Visualización"
      ],
      "metadata": {
        "id": "DarEX0pr9wQz"
      }
    },
    {
      "cell_type": "code",
      "source": [
        "x = list(range(len(history['loss'])))\n",
        "\n",
        "fig = go.Figure()\n",
        "\n",
        "fig.add_trace(go.Scatter(x = x, y = history['loss'])) \\\n",
        "   .add_trace(go.Scatter(x = x, y = history['val_loss'])) \\\n",
        "   .update_layout(hovermode = 'x')\n",
        "\n",
        "fig.show()"
      ],
      "metadata": {
        "id": "0iC6uX4J3s24",
        "colab": {
          "base_uri": "https://localhost:8080/",
          "height": 542
        },
        "outputId": "ea054571-7a8c-4564-8709-3fd49c7d78c4"
      },
      "execution_count": null,
      "outputs": [
        {
          "output_type": "display_data",
          "data": {
            "text/html": [
              "<html>\n",
              "<head><meta charset=\"utf-8\" /></head>\n",
              "<body>\n",
              "    <div>            <script src=\"https://cdnjs.cloudflare.com/ajax/libs/mathjax/2.7.5/MathJax.js?config=TeX-AMS-MML_SVG\"></script><script type=\"text/javascript\">if (window.MathJax) {MathJax.Hub.Config({SVG: {font: \"STIX-Web\"}});}</script>                <script type=\"text/javascript\">window.PlotlyConfig = {MathJaxConfig: 'local'};</script>\n",
              "        <script src=\"https://cdn.plot.ly/plotly-2.8.3.min.js\"></script>                <div id=\"46abaf5a-9890-4b48-b8de-a6744009aae3\" class=\"plotly-graph-div\" style=\"height:525px; width:100%;\"></div>            <script type=\"text/javascript\">                                    window.PLOTLYENV=window.PLOTLYENV || {};                                    if (document.getElementById(\"46abaf5a-9890-4b48-b8de-a6744009aae3\")) {                    Plotly.newPlot(                        \"46abaf5a-9890-4b48-b8de-a6744009aae3\",                        [{\"x\":[0,1,2,3,4,5,6,7,8,9,10,11,12,13,14,15,16,17,18,19,20,21,22,23,24,25,26,27,28,29],\"y\":[1.1083450317382812,1.0874022245407104,1.0724494457244873,1.0585018396377563,1.0499188899993896,1.0442897081375122,1.0401817560195923,1.036382794380188,1.0335142612457275,1.031360387802124,1.029070496559143,1.0257952213287354,1.0237609148025513,1.022276520729065,1.0212090015411377,1.0200728178024292,1.0181986093521118,1.016839861869812,1.0155236721038818,1.013862133026123,1.0126161575317383,1.0122475624084473,1.010764718055725,1.0092830657958984,1.0091904401779175,1.0079821348190308,1.0066509246826172,1.0067064762115479,1.005982756614685,1.0049761533737183],\"type\":\"scatter\"},{\"x\":[0,1,2,3,4,5,6,7,8,9,10,11,12,13,14,15,16,17,18,19,20,21,22,23,24,25,26,27,28,29],\"y\":[1.0926798582077026,1.0811806917190552,1.067966103553772,1.0570266246795654,1.0532070398330688,1.0502554178237915,1.0484594106674194,1.0483874082565308,1.0490537881851196,1.047672152519226,1.0471504926681519,1.0472291707992554,1.0480421781539917,1.0467896461486816,1.046797275543213,1.0486834049224854,1.0511298179626465,1.0468958616256714,1.0475260019302368,1.0471731424331665,1.047646403312683,1.045607089996338,1.0457252264022827,1.0527352094650269,1.0466402769088745,1.0458341836929321,1.045608401298523,1.0427309274673462,1.0424832105636597,1.0487550497055054],\"type\":\"scatter\"}],                        {\"template\":{\"data\":{\"bar\":[{\"error_x\":{\"color\":\"#2a3f5f\"},\"error_y\":{\"color\":\"#2a3f5f\"},\"marker\":{\"line\":{\"color\":\"#E5ECF6\",\"width\":0.5},\"pattern\":{\"fillmode\":\"overlay\",\"size\":10,\"solidity\":0.2}},\"type\":\"bar\"}],\"barpolar\":[{\"marker\":{\"line\":{\"color\":\"#E5ECF6\",\"width\":0.5},\"pattern\":{\"fillmode\":\"overlay\",\"size\":10,\"solidity\":0.2}},\"type\":\"barpolar\"}],\"carpet\":[{\"aaxis\":{\"endlinecolor\":\"#2a3f5f\",\"gridcolor\":\"white\",\"linecolor\":\"white\",\"minorgridcolor\":\"white\",\"startlinecolor\":\"#2a3f5f\"},\"baxis\":{\"endlinecolor\":\"#2a3f5f\",\"gridcolor\":\"white\",\"linecolor\":\"white\",\"minorgridcolor\":\"white\",\"startlinecolor\":\"#2a3f5f\"},\"type\":\"carpet\"}],\"choropleth\":[{\"colorbar\":{\"outlinewidth\":0,\"ticks\":\"\"},\"type\":\"choropleth\"}],\"contour\":[{\"colorbar\":{\"outlinewidth\":0,\"ticks\":\"\"},\"colorscale\":[[0.0,\"#0d0887\"],[0.1111111111111111,\"#46039f\"],[0.2222222222222222,\"#7201a8\"],[0.3333333333333333,\"#9c179e\"],[0.4444444444444444,\"#bd3786\"],[0.5555555555555556,\"#d8576b\"],[0.6666666666666666,\"#ed7953\"],[0.7777777777777778,\"#fb9f3a\"],[0.8888888888888888,\"#fdca26\"],[1.0,\"#f0f921\"]],\"type\":\"contour\"}],\"contourcarpet\":[{\"colorbar\":{\"outlinewidth\":0,\"ticks\":\"\"},\"type\":\"contourcarpet\"}],\"heatmap\":[{\"colorbar\":{\"outlinewidth\":0,\"ticks\":\"\"},\"colorscale\":[[0.0,\"#0d0887\"],[0.1111111111111111,\"#46039f\"],[0.2222222222222222,\"#7201a8\"],[0.3333333333333333,\"#9c179e\"],[0.4444444444444444,\"#bd3786\"],[0.5555555555555556,\"#d8576b\"],[0.6666666666666666,\"#ed7953\"],[0.7777777777777778,\"#fb9f3a\"],[0.8888888888888888,\"#fdca26\"],[1.0,\"#f0f921\"]],\"type\":\"heatmap\"}],\"heatmapgl\":[{\"colorbar\":{\"outlinewidth\":0,\"ticks\":\"\"},\"colorscale\":[[0.0,\"#0d0887\"],[0.1111111111111111,\"#46039f\"],[0.2222222222222222,\"#7201a8\"],[0.3333333333333333,\"#9c179e\"],[0.4444444444444444,\"#bd3786\"],[0.5555555555555556,\"#d8576b\"],[0.6666666666666666,\"#ed7953\"],[0.7777777777777778,\"#fb9f3a\"],[0.8888888888888888,\"#fdca26\"],[1.0,\"#f0f921\"]],\"type\":\"heatmapgl\"}],\"histogram\":[{\"marker\":{\"pattern\":{\"fillmode\":\"overlay\",\"size\":10,\"solidity\":0.2}},\"type\":\"histogram\"}],\"histogram2d\":[{\"colorbar\":{\"outlinewidth\":0,\"ticks\":\"\"},\"colorscale\":[[0.0,\"#0d0887\"],[0.1111111111111111,\"#46039f\"],[0.2222222222222222,\"#7201a8\"],[0.3333333333333333,\"#9c179e\"],[0.4444444444444444,\"#bd3786\"],[0.5555555555555556,\"#d8576b\"],[0.6666666666666666,\"#ed7953\"],[0.7777777777777778,\"#fb9f3a\"],[0.8888888888888888,\"#fdca26\"],[1.0,\"#f0f921\"]],\"type\":\"histogram2d\"}],\"histogram2dcontour\":[{\"colorbar\":{\"outlinewidth\":0,\"ticks\":\"\"},\"colorscale\":[[0.0,\"#0d0887\"],[0.1111111111111111,\"#46039f\"],[0.2222222222222222,\"#7201a8\"],[0.3333333333333333,\"#9c179e\"],[0.4444444444444444,\"#bd3786\"],[0.5555555555555556,\"#d8576b\"],[0.6666666666666666,\"#ed7953\"],[0.7777777777777778,\"#fb9f3a\"],[0.8888888888888888,\"#fdca26\"],[1.0,\"#f0f921\"]],\"type\":\"histogram2dcontour\"}],\"mesh3d\":[{\"colorbar\":{\"outlinewidth\":0,\"ticks\":\"\"},\"type\":\"mesh3d\"}],\"parcoords\":[{\"line\":{\"colorbar\":{\"outlinewidth\":0,\"ticks\":\"\"}},\"type\":\"parcoords\"}],\"pie\":[{\"automargin\":true,\"type\":\"pie\"}],\"scatter\":[{\"marker\":{\"colorbar\":{\"outlinewidth\":0,\"ticks\":\"\"}},\"type\":\"scatter\"}],\"scatter3d\":[{\"line\":{\"colorbar\":{\"outlinewidth\":0,\"ticks\":\"\"}},\"marker\":{\"colorbar\":{\"outlinewidth\":0,\"ticks\":\"\"}},\"type\":\"scatter3d\"}],\"scattercarpet\":[{\"marker\":{\"colorbar\":{\"outlinewidth\":0,\"ticks\":\"\"}},\"type\":\"scattercarpet\"}],\"scattergeo\":[{\"marker\":{\"colorbar\":{\"outlinewidth\":0,\"ticks\":\"\"}},\"type\":\"scattergeo\"}],\"scattergl\":[{\"marker\":{\"colorbar\":{\"outlinewidth\":0,\"ticks\":\"\"}},\"type\":\"scattergl\"}],\"scattermapbox\":[{\"marker\":{\"colorbar\":{\"outlinewidth\":0,\"ticks\":\"\"}},\"type\":\"scattermapbox\"}],\"scatterpolar\":[{\"marker\":{\"colorbar\":{\"outlinewidth\":0,\"ticks\":\"\"}},\"type\":\"scatterpolar\"}],\"scatterpolargl\":[{\"marker\":{\"colorbar\":{\"outlinewidth\":0,\"ticks\":\"\"}},\"type\":\"scatterpolargl\"}],\"scatterternary\":[{\"marker\":{\"colorbar\":{\"outlinewidth\":0,\"ticks\":\"\"}},\"type\":\"scatterternary\"}],\"surface\":[{\"colorbar\":{\"outlinewidth\":0,\"ticks\":\"\"},\"colorscale\":[[0.0,\"#0d0887\"],[0.1111111111111111,\"#46039f\"],[0.2222222222222222,\"#7201a8\"],[0.3333333333333333,\"#9c179e\"],[0.4444444444444444,\"#bd3786\"],[0.5555555555555556,\"#d8576b\"],[0.6666666666666666,\"#ed7953\"],[0.7777777777777778,\"#fb9f3a\"],[0.8888888888888888,\"#fdca26\"],[1.0,\"#f0f921\"]],\"type\":\"surface\"}],\"table\":[{\"cells\":{\"fill\":{\"color\":\"#EBF0F8\"},\"line\":{\"color\":\"white\"}},\"header\":{\"fill\":{\"color\":\"#C8D4E3\"},\"line\":{\"color\":\"white\"}},\"type\":\"table\"}]},\"layout\":{\"annotationdefaults\":{\"arrowcolor\":\"#2a3f5f\",\"arrowhead\":0,\"arrowwidth\":1},\"autotypenumbers\":\"strict\",\"coloraxis\":{\"colorbar\":{\"outlinewidth\":0,\"ticks\":\"\"}},\"colorscale\":{\"diverging\":[[0,\"#8e0152\"],[0.1,\"#c51b7d\"],[0.2,\"#de77ae\"],[0.3,\"#f1b6da\"],[0.4,\"#fde0ef\"],[0.5,\"#f7f7f7\"],[0.6,\"#e6f5d0\"],[0.7,\"#b8e186\"],[0.8,\"#7fbc41\"],[0.9,\"#4d9221\"],[1,\"#276419\"]],\"sequential\":[[0.0,\"#0d0887\"],[0.1111111111111111,\"#46039f\"],[0.2222222222222222,\"#7201a8\"],[0.3333333333333333,\"#9c179e\"],[0.4444444444444444,\"#bd3786\"],[0.5555555555555556,\"#d8576b\"],[0.6666666666666666,\"#ed7953\"],[0.7777777777777778,\"#fb9f3a\"],[0.8888888888888888,\"#fdca26\"],[1.0,\"#f0f921\"]],\"sequentialminus\":[[0.0,\"#0d0887\"],[0.1111111111111111,\"#46039f\"],[0.2222222222222222,\"#7201a8\"],[0.3333333333333333,\"#9c179e\"],[0.4444444444444444,\"#bd3786\"],[0.5555555555555556,\"#d8576b\"],[0.6666666666666666,\"#ed7953\"],[0.7777777777777778,\"#fb9f3a\"],[0.8888888888888888,\"#fdca26\"],[1.0,\"#f0f921\"]]},\"colorway\":[\"#636efa\",\"#EF553B\",\"#00cc96\",\"#ab63fa\",\"#FFA15A\",\"#19d3f3\",\"#FF6692\",\"#B6E880\",\"#FF97FF\",\"#FECB52\"],\"font\":{\"color\":\"#2a3f5f\"},\"geo\":{\"bgcolor\":\"white\",\"lakecolor\":\"white\",\"landcolor\":\"#E5ECF6\",\"showlakes\":true,\"showland\":true,\"subunitcolor\":\"white\"},\"hoverlabel\":{\"align\":\"left\"},\"hovermode\":\"closest\",\"mapbox\":{\"style\":\"light\"},\"paper_bgcolor\":\"white\",\"plot_bgcolor\":\"#E5ECF6\",\"polar\":{\"angularaxis\":{\"gridcolor\":\"white\",\"linecolor\":\"white\",\"ticks\":\"\"},\"bgcolor\":\"#E5ECF6\",\"radialaxis\":{\"gridcolor\":\"white\",\"linecolor\":\"white\",\"ticks\":\"\"}},\"scene\":{\"xaxis\":{\"backgroundcolor\":\"#E5ECF6\",\"gridcolor\":\"white\",\"gridwidth\":2,\"linecolor\":\"white\",\"showbackground\":true,\"ticks\":\"\",\"zerolinecolor\":\"white\"},\"yaxis\":{\"backgroundcolor\":\"#E5ECF6\",\"gridcolor\":\"white\",\"gridwidth\":2,\"linecolor\":\"white\",\"showbackground\":true,\"ticks\":\"\",\"zerolinecolor\":\"white\"},\"zaxis\":{\"backgroundcolor\":\"#E5ECF6\",\"gridcolor\":\"white\",\"gridwidth\":2,\"linecolor\":\"white\",\"showbackground\":true,\"ticks\":\"\",\"zerolinecolor\":\"white\"}},\"shapedefaults\":{\"line\":{\"color\":\"#2a3f5f\"}},\"ternary\":{\"aaxis\":{\"gridcolor\":\"white\",\"linecolor\":\"white\",\"ticks\":\"\"},\"baxis\":{\"gridcolor\":\"white\",\"linecolor\":\"white\",\"ticks\":\"\"},\"bgcolor\":\"#E5ECF6\",\"caxis\":{\"gridcolor\":\"white\",\"linecolor\":\"white\",\"ticks\":\"\"}},\"title\":{\"x\":0.05},\"xaxis\":{\"automargin\":true,\"gridcolor\":\"white\",\"linecolor\":\"white\",\"ticks\":\"\",\"title\":{\"standoff\":15},\"zerolinecolor\":\"white\",\"zerolinewidth\":2},\"yaxis\":{\"automargin\":true,\"gridcolor\":\"white\",\"linecolor\":\"white\",\"ticks\":\"\",\"title\":{\"standoff\":15},\"zerolinecolor\":\"white\",\"zerolinewidth\":2}}},\"hovermode\":\"x\"},                        {\"responsive\": true}                    ).then(function(){\n",
              "                            \n",
              "var gd = document.getElementById('46abaf5a-9890-4b48-b8de-a6744009aae3');\n",
              "var x = new MutationObserver(function (mutations, observer) {{\n",
              "        var display = window.getComputedStyle(gd).display;\n",
              "        if (!display || display === 'none') {{\n",
              "            console.log([gd, 'removed!']);\n",
              "            Plotly.purge(gd);\n",
              "            observer.disconnect();\n",
              "        }}\n",
              "}});\n",
              "\n",
              "// Listen for the removal of the full notebook cells\n",
              "var notebookContainer = gd.closest('#notebook-container');\n",
              "if (notebookContainer) {{\n",
              "    x.observe(notebookContainer, {childList: true});\n",
              "}}\n",
              "\n",
              "// Listen for the clearing of the current output cell\n",
              "var outputEl = gd.closest('.output');\n",
              "if (outputEl) {{\n",
              "    x.observe(outputEl, {childList: true});\n",
              "}}\n",
              "\n",
              "                        })                };                            </script>        </div>\n",
              "</body>\n",
              "</html>"
            ]
          },
          "metadata": {}
        }
      ]
    },
    {
      "cell_type": "markdown",
      "source": [
        "#### Métricas"
      ],
      "metadata": {
        "id": "5DJZSDuM9zbv"
      }
    },
    {
      "cell_type": "code",
      "source": [
        "evaluate_model(model_2, [[train_prices, train_features], y_train], [[val_prices, val_features], y_val], [[test_prices, test_features], y_test])"
      ],
      "metadata": {
        "id": "FGkJ3j0k3vqp",
        "colab": {
          "base_uri": "https://localhost:8080/"
        },
        "outputId": "20ca04d8-52a3-48f2-f3cc-a5f78d3670a3"
      },
      "execution_count": null,
      "outputs": [
        {
          "output_type": "stream",
          "name": "stdout",
          "text": [
            "train cross_entropy =  1.0018469095230103\n",
            "  val cross_entropy =  1.0487550497055054\n",
            " test cross_entropy =  1.0557115077972412\n"
          ]
        }
      ]
    },
    {
      "cell_type": "markdown",
      "source": [
        "## Guardando el mejor modelo"
      ],
      "metadata": {
        "id": "Bkzl6Rl3MpjA"
      }
    },
    {
      "cell_type": "code",
      "source": [
        "model_2.save('best_model.h5')"
      ],
      "metadata": {
        "id": "mt-RDfH5Mr-t"
      },
      "execution_count": null,
      "outputs": []
    },
    {
      "cell_type": "markdown",
      "source": [
        "# Cargar el modelo guardado"
      ],
      "metadata": {
        "id": "NPGWlldUNYWg"
      }
    },
    {
      "cell_type": "code",
      "source": [
        "best_model = keras.models.load_model('best_model.h5')\n",
        "best_model.summary()"
      ],
      "metadata": {
        "id": "_yc7PIa7NahC",
        "colab": {
          "base_uri": "https://localhost:8080/"
        },
        "outputId": "da7a8993-8ea2-46b6-be92-cb37f94b6200"
      },
      "execution_count": null,
      "outputs": [
        {
          "output_type": "stream",
          "name": "stdout",
          "text": [
            "Model: \"model_1\"\n",
            "__________________________________________________________________________________________________\n",
            " Layer (type)                   Output Shape         Param #     Connected to                     \n",
            "==================================================================================================\n",
            " sentiment_input (InputLayer)   [(None, 48, 10)]     0           []                               \n",
            "                                                                                                  \n",
            " sentiment_normalization (Norma  (None, 48, 10)      97          ['sentiment_input[0][0]']        \n",
            " lization)                                                                                        \n",
            "                                                                                                  \n",
            " price_input (InputLayer)       [(None, 5)]          0           []                               \n",
            "                                                                                                  \n",
            " sentiment (LSTM)               (None, 8)            608         ['sentiment_normalization[0][0]']\n",
            "                                                                                                  \n",
            " price (Sequential)             (None, 8)            275         ['price_input[0][0]']            \n",
            "                                                                                                  \n",
            " hadamard_product (Multiply)    (None, 8)            0           ['sentiment[0][0]',              \n",
            "                                                                  'price[0][0]']                  \n",
            "                                                                                                  \n",
            " prediction (Sequential)        (None, 3)            243         ['hadamard_product[0][0]']       \n",
            "                                                                                                  \n",
            "==================================================================================================\n",
            "Total params: 1,223\n",
            "Trainable params: 1,115\n",
            "Non-trainable params: 108\n",
            "__________________________________________________________________________________________________\n"
          ]
        }
      ]
    },
    {
      "cell_type": "code",
      "source": [
        "evaluate_model(best_model, [[train_prices, train_features], y_train], [[val_prices, val_features], y_val], [[test_prices, test_features], y_test])"
      ],
      "metadata": {
        "id": "FcNI6n5gNjPt",
        "colab": {
          "base_uri": "https://localhost:8080/"
        },
        "outputId": "a10854f4-de11-420c-9899-aeebdc798edb"
      },
      "execution_count": null,
      "outputs": [
        {
          "output_type": "stream",
          "name": "stdout",
          "text": [
            "train cross_entropy =  1.0018469095230103\n",
            "  val cross_entropy =  1.0487550497055054\n",
            " test cross_entropy =  1.0557115077972412\n"
          ]
        }
      ]
    },
    {
      "cell_type": "markdown",
      "source": [
        "# Resumen\n",
        "\n",
        "Respecto a la segunda arquitectura:\n",
        "\n",
        "1. Fue la que tuvo mejores resultados con entropía cruzada de $0.9843$, $1.0256$ y $1.0329$ para los conjuntos de entrenamiento, validación y prueba, respectivamente.\n",
        "2. Tardó menos épocas en entrenar\n",
        "\n"
      ],
      "metadata": {
        "id": "WIJI7v2IBK7t"
      }
    },
    {
      "cell_type": "markdown",
      "source": [
        "# Ejercicios"
      ],
      "metadata": {
        "id": "8mHRbHGAKjxO"
      }
    },
    {
      "cell_type": "markdown",
      "source": [
        "1. Crear un nuevo modelo ya sea haciendo modificaciones a alguna de las arquitecturas presentes, o comenzando desde cero. Escriba sus observaciones comparando el resultado con el mejor la Segunda Arquitectura. Como sugerencia, puede probar cambiando los datos de entrada, las capas de las redes secuenciales, la fusión de los datos, agregando regularización o dropout, callbacks, etc. \n",
        "2. ¿Cómo haría la predicción para nuevos valores?\n",
        "\n",
        "3. Cree las matrices de confusión para la última red neuronal, así como el classification report.\n"
      ],
      "metadata": {
        "id": "5Y73It2dKmdF"
      }
    }
  ]
}