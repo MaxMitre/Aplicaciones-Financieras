{
  "nbformat": 4,
  "nbformat_minor": 0,
  "metadata": {
    "colab": {
      "provenance": []
    },
    "kernelspec": {
      "name": "python3",
      "display_name": "Python 3"
    },
    "language_info": {
      "name": "python"
    }
  },
  "cells": [
    {
      "cell_type": "markdown",
      "source": [
        "[![Open In Colab](https://colab.research.google.com/assets/colab-badge.svg)](https://colab.research.google.com/github/MaxMitre/Aplicaciones-Financieras/blob/main/Semana1/1_PythonBasico_Numpy.ipynb)"
      ],
      "metadata": {
        "id": "JJHcPvqIk-OR"
      }
    },
    {
      "cell_type": "markdown",
      "source": [
        "Esta sesión servirá para introducir a los estudiantes a Python (de modo breve), así como a las librerias de NumPy y Matplotlib, que serán de las mas utilizadas todo el curso."
      ],
      "metadata": {
        "id": "u20ZY7ykkjts"
      }
    },
    {
      "cell_type": "markdown",
      "source": [
        "# Básico de Python"
      ],
      "metadata": {
        "id": "kvc3M2nAkzkA"
      }
    },
    {
      "cell_type": "markdown",
      "source": [
        "## Variables"
      ],
      "metadata": {
        "id": "iN-PCU9jpUzf"
      }
    },
    {
      "cell_type": "code",
      "metadata": {
        "id": "iH6GvJ97zA5A"
      },
      "source": [
        "# Creación de variables y tipos\n",
        "texto = 'Hola mundo'\n",
        "enteros = 2\n",
        "flotantes = 1.34\n",
        "booleanos = True"
      ],
      "execution_count": null,
      "outputs": []
    },
    {
      "cell_type": "code",
      "metadata": {
        "id": "DA2zzjkHzFLD",
        "colab": {
          "base_uri": "https://localhost:8080/"
        },
        "outputId": "7b0a24f2-a5b4-481c-d2c2-99791a178858"
      },
      "source": [
        "print(texto)\n",
        "print(enteros)\n",
        "print(flotantes)\n",
        "print(booleanos)"
      ],
      "execution_count": null,
      "outputs": [
        {
          "output_type": "stream",
          "name": "stdout",
          "text": [
            "Hola mundo\n",
            "2\n",
            "1.34\n",
            "True\n"
          ]
        }
      ]
    },
    {
      "cell_type": "code",
      "source": [
        "type(texto)"
      ],
      "metadata": {
        "colab": {
          "base_uri": "https://localhost:8080/"
        },
        "id": "8HliA2Sy7n58",
        "outputId": "0822e547-7cfd-4bb0-cc8f-07dc9bd891c8"
      },
      "execution_count": null,
      "outputs": [
        {
          "output_type": "execute_result",
          "data": {
            "text/plain": [
              "str"
            ]
          },
          "metadata": {},
          "execution_count": 3
        }
      ]
    },
    {
      "cell_type": "markdown",
      "source": [
        "**Importante:** Los nombres de las variables son sensibles a mayúsuculas, deben comenzar con una letra de la A a la Z o guión bajo (_) y no pueden ser llamadas igual a las palabras reservadas."
      ],
      "metadata": {
        "id": "HoSeyFIAvr64"
      }
    },
    {
      "cell_type": "code",
      "source": [
        "# Ejemplos de sensibilidad a las mayúsculas\n",
        "Texto = 'Esta variable inicia con una mayúscula'\n",
        "texto = 'Esta variable no'\n",
        "TexTO = 'Esta variable tiene mayúsculas al final'\n",
        "\n",
        "print(Texto)"
      ],
      "metadata": {
        "id": "g2Zsor5mv7AI",
        "colab": {
          "base_uri": "https://localhost:8080/"
        },
        "outputId": "a947903c-0f7f-424a-f122-a97f2969fd2c"
      },
      "execution_count": null,
      "outputs": [
        {
          "output_type": "stream",
          "name": "stdout",
          "text": [
            "Esta variable inicia con una mayúscula\n"
          ]
        }
      ]
    },
    {
      "cell_type": "code",
      "execution_count": null,
      "metadata": {
        "id": "s5u7YmikzwFJ",
        "colab": {
          "base_uri": "https://localhost:8080/"
        },
        "outputId": "be12eee7-9b15-4605-87f9-51d91a6f53c0"
      },
      "outputs": [
        {
          "output_type": "stream",
          "name": "stdout",
          "text": [
            "False, None, True, and, as, assert, async, await, break, class, continue, def, del, elif, else, except, finally, for, from, global, if, import, in, is, lambda, nonlocal, not, or, pass, raise, return, try, while, with, yield\n"
          ]
        }
      ],
      "source": [
        "# Palabras reservadas (no pueden utilizarse para creación de variables)\n",
        "import keyword\n",
        "\n",
        "print(', '.join(keyword.kwlist))"
      ]
    },
    {
      "cell_type": "markdown",
      "source": [
        "Algunos errores que podemos encontrar"
      ],
      "metadata": {
        "id": "TpvMMU81wEkq"
      }
    },
    {
      "cell_type": "code",
      "source": [
        "# Ejemplos de nombres inválidos\n",
        "# No inician con letras o guion bajo\n",
        "3var = 3 \n",
        ".var = 3"
      ],
      "metadata": {
        "id": "apr7Wa7klpi7",
        "colab": {
          "base_uri": "https://localhost:8080/",
          "height": 131
        },
        "outputId": "c192205f-ff2f-4c36-be5e-40af65cc7ab7"
      },
      "execution_count": null,
      "outputs": [
        {
          "output_type": "error",
          "ename": "SyntaxError",
          "evalue": "ignored",
          "traceback": [
            "\u001b[0;36m  File \u001b[0;32m\"<ipython-input-6-f2c5d0e08da3>\"\u001b[0;36m, line \u001b[0;32m3\u001b[0m\n\u001b[0;31m    3var = 3\u001b[0m\n\u001b[0m     ^\u001b[0m\n\u001b[0;31mSyntaxError\u001b[0m\u001b[0;31m:\u001b[0m invalid syntax\n"
          ]
        }
      ]
    },
    {
      "cell_type": "code",
      "source": [
        "# No pueden usarse palabras reservadas\n",
        "async = 3"
      ],
      "metadata": {
        "id": "I6mELTDxwCqa",
        "colab": {
          "base_uri": "https://localhost:8080/",
          "height": 131
        },
        "outputId": "11a94338-b55f-433f-99ce-007730ea8e95"
      },
      "execution_count": null,
      "outputs": [
        {
          "output_type": "error",
          "ename": "SyntaxError",
          "evalue": "ignored",
          "traceback": [
            "\u001b[0;36m  File \u001b[0;32m\"<ipython-input-7-f1d27d382cc6>\"\u001b[0;36m, line \u001b[0;32m2\u001b[0m\n\u001b[0;31m    async = 3\u001b[0m\n\u001b[0m          ^\u001b[0m\n\u001b[0;31mSyntaxError\u001b[0m\u001b[0;31m:\u001b[0m invalid syntax\n"
          ]
        }
      ]
    },
    {
      "cell_type": "code",
      "source": [
        "texto_mayus = 'hola'\n",
        "texto_mayus"
      ],
      "metadata": {
        "colab": {
          "base_uri": "https://localhost:8080/",
          "height": 35
        },
        "id": "7EC73sZ8um6E",
        "outputId": "51a0644d-1654-4ea9-fc13-d3d2dca0e620"
      },
      "execution_count": null,
      "outputs": [
        {
          "output_type": "execute_result",
          "data": {
            "text/plain": [
              "'hola'"
            ],
            "application/vnd.google.colaboratory.intrinsic+json": {
              "type": "string"
            }
          },
          "metadata": {},
          "execution_count": 10
        }
      ]
    },
    {
      "cell_type": "markdown",
      "source": [
        "# Cadenas"
      ],
      "metadata": {
        "id": "HTh2fXj0zR5M"
      }
    },
    {
      "cell_type": "markdown",
      "source": [
        "¿Comillas dobles o sencillas para crear cadenas? Ambas"
      ],
      "metadata": {
        "id": "SYaVfYsWytU0"
      }
    },
    {
      "cell_type": "code",
      "source": [
        "cadena1 = 'algo'\n",
        "cadena2 = \"algo\""
      ],
      "metadata": {
        "id": "9kD__A0Ny0Jb"
      },
      "execution_count": null,
      "outputs": []
    },
    {
      "cell_type": "code",
      "source": [
        "print(cadena1)\n",
        "print(cadena2)"
      ],
      "metadata": {
        "id": "Dz18C16-y5kH",
        "colab": {
          "base_uri": "https://localhost:8080/"
        },
        "outputId": "55061b64-e0c6-419f-f28b-018ecd45cd80"
      },
      "execution_count": null,
      "outputs": [
        {
          "output_type": "stream",
          "name": "stdout",
          "text": [
            "algo\n",
            "algo\n"
          ]
        }
      ]
    },
    {
      "cell_type": "markdown",
      "source": [
        "Podemos sumar y multiplicar cadenas"
      ],
      "metadata": {
        "id": "UtDNumKqzV9a"
      }
    },
    {
      "cell_type": "code",
      "source": [
        "cadena3 = \"alguna cosa\"\n",
        "print(cadena1 + cadena3)\n",
        "print(cadena3*3)"
      ],
      "metadata": {
        "id": "I-GBFxh6zYF5",
        "colab": {
          "base_uri": "https://localhost:8080/"
        },
        "outputId": "8089f14f-22e7-4f20-e129-003c519374f9"
      },
      "execution_count": null,
      "outputs": [
        {
          "output_type": "stream",
          "name": "stdout",
          "text": [
            "algoalguna cosa\n",
            "alguna cosaalguna cosaalguna cosa\n"
          ]
        }
      ]
    },
    {
      "cell_type": "markdown",
      "source": [
        "Cambios para cadenas de caracteres"
      ],
      "metadata": {
        "id": "vBGtbD5uwRXT"
      }
    },
    {
      "cell_type": "code",
      "source": [
        "texto"
      ],
      "metadata": {
        "colab": {
          "base_uri": "https://localhost:8080/",
          "height": 35
        },
        "id": "QBob9Lhqv_de",
        "outputId": "8b61b5aa-99a9-4cda-dc30-5101155a5903"
      },
      "execution_count": null,
      "outputs": [
        {
          "output_type": "execute_result",
          "data": {
            "text/plain": [
              "'Esta variable no'"
            ],
            "application/vnd.google.colaboratory.intrinsic+json": {
              "type": "string"
            }
          },
          "metadata": {},
          "execution_count": 15
        }
      ]
    },
    {
      "cell_type": "code",
      "source": [
        "texto.lower()"
      ],
      "metadata": {
        "id": "RdGMtt3BmPQA",
        "colab": {
          "base_uri": "https://localhost:8080/",
          "height": 35
        },
        "outputId": "29d7c7dd-cca7-458a-e504-5a29407ab826"
      },
      "execution_count": null,
      "outputs": [
        {
          "output_type": "execute_result",
          "data": {
            "text/plain": [
              "'esta variable no'"
            ],
            "application/vnd.google.colaboratory.intrinsic+json": {
              "type": "string"
            }
          },
          "metadata": {},
          "execution_count": 14
        }
      ]
    },
    {
      "cell_type": "code",
      "source": [
        "texto.upper()"
      ],
      "metadata": {
        "id": "rUt85aMFmQC1",
        "colab": {
          "base_uri": "https://localhost:8080/",
          "height": 35
        },
        "outputId": "20824f8d-a355-4d67-a0ad-3ac717e6bbbf"
      },
      "execution_count": null,
      "outputs": [
        {
          "output_type": "execute_result",
          "data": {
            "text/plain": [
              "'ESTA VARIABLE NO'"
            ],
            "application/vnd.google.colaboratory.intrinsic+json": {
              "type": "string"
            }
          },
          "metadata": {},
          "execution_count": 16
        }
      ]
    },
    {
      "cell_type": "code",
      "source": [
        "texto.title()"
      ],
      "metadata": {
        "id": "kkLQWHudmQAf",
        "colab": {
          "base_uri": "https://localhost:8080/",
          "height": 35
        },
        "outputId": "a6a35531-37a1-48bc-b2bd-344df6afd632"
      },
      "execution_count": null,
      "outputs": [
        {
          "output_type": "execute_result",
          "data": {
            "text/plain": [
              "'Esta Variable No'"
            ],
            "application/vnd.google.colaboratory.intrinsic+json": {
              "type": "string"
            }
          },
          "metadata": {},
          "execution_count": 17
        }
      ]
    },
    {
      "cell_type": "markdown",
      "source": [
        "Podemos separar nuestra cadena dado un patrón"
      ],
      "metadata": {
        "id": "tp5-rHdTzGHj"
      }
    },
    {
      "cell_type": "code",
      "source": [
        "texto = 'Esta, cadena, la, separaré, por, comas'\n",
        "texto.split(', ')"
      ],
      "metadata": {
        "id": "uszJtSZmzFZN",
        "colab": {
          "base_uri": "https://localhost:8080/"
        },
        "outputId": "aac601ce-6ca8-4902-e1a6-600017e6c581"
      },
      "execution_count": null,
      "outputs": [
        {
          "output_type": "execute_result",
          "data": {
            "text/plain": [
              "['Esta', 'cadena', 'la', 'separaré', 'por', 'comas']"
            ]
          },
          "metadata": {},
          "execution_count": 20
        }
      ]
    },
    {
      "cell_type": "code",
      "source": [
        "print(texto)\n",
        "# Método muy importante\n",
        "print(texto.replace('a', 'Z'))"
      ],
      "metadata": {
        "id": "eJaz8yy_l9qn",
        "colab": {
          "base_uri": "https://localhost:8080/"
        },
        "outputId": "195a4d88-df3d-48bf-95fb-70eb08864f33"
      },
      "execution_count": null,
      "outputs": [
        {
          "output_type": "stream",
          "name": "stdout",
          "text": [
            "Esta, cadena, la, separaré, por, comas\n",
            "EstZ, cZdenZ, lZ, sepZrZré, por, comZs\n"
          ]
        }
      ]
    },
    {
      "cell_type": "code",
      "source": [
        "texto"
      ],
      "metadata": {
        "colab": {
          "base_uri": "https://localhost:8080/",
          "height": 35
        },
        "id": "RyQID6inwjvw",
        "outputId": "69b76617-fb83-4ba2-d47e-4a01ac8690ea"
      },
      "execution_count": null,
      "outputs": [
        {
          "output_type": "execute_result",
          "data": {
            "text/plain": [
              "'Esta, cadena, la, separaré, por, comas'"
            ],
            "application/vnd.google.colaboratory.intrinsic+json": {
              "type": "string"
            }
          },
          "metadata": {},
          "execution_count": 22
        }
      ]
    },
    {
      "cell_type": "markdown",
      "source": [
        "## Operaciones con variables numéricas\n"
      ],
      "metadata": {
        "id": "WLJGXCAqwlNs"
      }
    },
    {
      "cell_type": "code",
      "source": [
        "# Defino mis variables\n",
        "a = 5\n",
        "b = 2"
      ],
      "metadata": {
        "id": "ZGdPaHXvwxIZ"
      },
      "execution_count": null,
      "outputs": []
    },
    {
      "cell_type": "code",
      "source": [
        "# Suma\n",
        "print(f'Suma: {a + b}')\n",
        "# Resta\n",
        "print(f'Resta: {a - b}')\n",
        "#Multiplicación\n",
        "print(f'Multiplicación: {a * b}')\n",
        "# División\n",
        "print(f'División: {a / b}')\n",
        "# Parte entera de la división\n",
        "print(f'Parte entera de división: {a // b}')\n",
        "# División modular\n",
        "print(f'Residuo: {a % b}')"
      ],
      "metadata": {
        "id": "_bJdHiPkwZYk",
        "colab": {
          "base_uri": "https://localhost:8080/"
        },
        "outputId": "147f5af7-6678-45e1-cef3-f256a8c3cd9c"
      },
      "execution_count": null,
      "outputs": [
        {
          "output_type": "stream",
          "name": "stdout",
          "text": [
            "Suma: 7\n",
            "Resta: 3\n",
            "Multiplicación: 10\n",
            "División: 2.5\n",
            "Parte entera de división: 2\n",
            "Residuo: 1\n"
          ]
        }
      ]
    },
    {
      "cell_type": "code",
      "source": [
        "print('Suma: ' + str(a+b))\n",
        "print('Suma: {}'.format(a+b))"
      ],
      "metadata": {
        "colab": {
          "base_uri": "https://localhost:8080/"
        },
        "id": "eDQ2Cs77w9TE",
        "outputId": "5e22a641-7747-4676-aa51-eec3c5084c45"
      },
      "execution_count": null,
      "outputs": [
        {
          "output_type": "stream",
          "name": "stdout",
          "text": [
            "Suma: 7\n",
            "algo 7\n"
          ]
        }
      ]
    },
    {
      "cell_type": "code",
      "source": [
        "# Potencias\n",
        "2**3"
      ],
      "metadata": {
        "colab": {
          "base_uri": "https://localhost:8080/"
        },
        "id": "XD9y3hIQ_XuK",
        "outputId": "b7efccb5-cb37-4a07-968e-77bda0bc67e7"
      },
      "execution_count": null,
      "outputs": [
        {
          "output_type": "execute_result",
          "data": {
            "text/plain": [
              "8"
            ]
          },
          "metadata": {},
          "execution_count": 28
        }
      ]
    },
    {
      "cell_type": "markdown",
      "source": [
        "## Listas"
      ],
      "metadata": {
        "id": "xUPPCFZtpXua"
      }
    },
    {
      "cell_type": "code",
      "source": [
        "lista_vacia = []\n",
        "lista_vacia"
      ],
      "metadata": {
        "colab": {
          "base_uri": "https://localhost:8080/"
        },
        "id": "DCHpQBuZx4bK",
        "outputId": "88fa228f-5831-4093-ff6f-3ce9822021e0"
      },
      "execution_count": null,
      "outputs": [
        {
          "output_type": "execute_result",
          "data": {
            "text/plain": [
              "[]"
            ]
          },
          "metadata": {},
          "execution_count": 30
        }
      ]
    },
    {
      "cell_type": "code",
      "metadata": {
        "id": "Qyf1RnKV9W9n",
        "colab": {
          "base_uri": "https://localhost:8080/"
        },
        "outputId": "9677edb8-4a46-4357-bd15-c6e86a9ebc06"
      },
      "source": [
        "tiempos_traslado = [3, 34, 23, 12, 3, 4]\n",
        "tiempos_traslado"
      ],
      "execution_count": null,
      "outputs": [
        {
          "output_type": "execute_result",
          "data": {
            "text/plain": [
              "[3, 34, 23, 12, 3, 4]"
            ]
          },
          "metadata": {},
          "execution_count": 31
        }
      ]
    },
    {
      "cell_type": "code",
      "metadata": {
        "id": "KuallMho9mTR",
        "colab": {
          "base_uri": "https://localhost:8080/"
        },
        "outputId": "c1247335-e132-4944-b900-fb6364a516c0"
      },
      "source": [
        "lista_mixta = [\"Juan\", 23, 54.2, 23, False, 'Avión']\n",
        "lista_mixta"
      ],
      "execution_count": null,
      "outputs": [
        {
          "output_type": "execute_result",
          "data": {
            "text/plain": [
              "['Juan', 23, 54.2, 23, False, 'Avión']"
            ]
          },
          "metadata": {},
          "execution_count": 32
        }
      ]
    },
    {
      "cell_type": "code",
      "source": [
        "# Crear rangos (podemos iterar sobre ellos)\n",
        "range(10)"
      ],
      "metadata": {
        "id": "vBaHUK8lF5QP",
        "colab": {
          "base_uri": "https://localhost:8080/"
        },
        "outputId": "84ca9231-e263-44a6-dbe6-e681f8948293"
      },
      "execution_count": null,
      "outputs": [
        {
          "output_type": "execute_result",
          "data": {
            "text/plain": [
              "range(0, 10)"
            ]
          },
          "metadata": {},
          "execution_count": 33
        }
      ]
    },
    {
      "cell_type": "code",
      "metadata": {
        "id": "ttKHZlpoADh7",
        "colab": {
          "base_uri": "https://localhost:8080/"
        },
        "outputId": "983b7504-537b-40af-e20c-0f4ee778bcd8"
      },
      "source": [
        "sucesion = list(range(10))\n",
        "sucesion"
      ],
      "execution_count": null,
      "outputs": [
        {
          "output_type": "execute_result",
          "data": {
            "text/plain": [
              "[0, 1, 2, 3, 4, 5, 6, 7, 8, 9]"
            ]
          },
          "metadata": {},
          "execution_count": 34
        }
      ]
    },
    {
      "cell_type": "markdown",
      "source": [
        "Podemos localizar elementos de las listas con sus índices (Slicing)"
      ],
      "metadata": {
        "id": "8Y4B2D4DzsvM"
      }
    },
    {
      "cell_type": "code",
      "source": [
        "# Busqueda de elemento de adelante hacia atras\n",
        "lista_mixta[3]"
      ],
      "metadata": {
        "id": "K00VQeIrzshM",
        "colab": {
          "base_uri": "https://localhost:8080/"
        },
        "outputId": "6aa32260-ef94-48d4-ccf2-e10bb758fd9a"
      },
      "execution_count": null,
      "outputs": [
        {
          "output_type": "execute_result",
          "data": {
            "text/plain": [
              "23"
            ]
          },
          "metadata": {},
          "execution_count": 35
        }
      ]
    },
    {
      "cell_type": "code",
      "metadata": {
        "id": "2Gd3BjKi-xJi",
        "colab": {
          "base_uri": "https://localhost:8080/",
          "height": 35
        },
        "outputId": "797de980-771b-4861-d358-9d372e0a906d"
      },
      "source": [
        "# Busqueda de elemento de atras hacia adelante\n",
        "lista_mixta[-1]"
      ],
      "execution_count": null,
      "outputs": [
        {
          "output_type": "execute_result",
          "data": {
            "text/plain": [
              "'Avión'"
            ],
            "application/vnd.google.colaboratory.intrinsic+json": {
              "type": "string"
            }
          },
          "metadata": {},
          "execution_count": 36
        }
      ]
    },
    {
      "cell_type": "code",
      "metadata": {
        "id": "zz-TWPwg_-Lv",
        "colab": {
          "base_uri": "https://localhost:8080/"
        },
        "outputId": "1f5f4984-bf9a-433e-c2fd-6c82ae01e1e1"
      },
      "source": [
        "sucesion[1:5]"
      ],
      "execution_count": null,
      "outputs": [
        {
          "output_type": "execute_result",
          "data": {
            "text/plain": [
              "[1, 2, 3, 4]"
            ]
          },
          "metadata": {},
          "execution_count": 37
        }
      ]
    },
    {
      "cell_type": "code",
      "metadata": {
        "id": "-BKP0pAZBK1B",
        "colab": {
          "base_uri": "https://localhost:8080/"
        },
        "outputId": "90cb367d-da14-4115-9f92-0dc8456074e4"
      },
      "source": [
        "# Todos los pares considerando al cero\n",
        "sucesion[2:8:2]"
      ],
      "execution_count": null,
      "outputs": [
        {
          "output_type": "execute_result",
          "data": {
            "text/plain": [
              "[2, 4, 6]"
            ]
          },
          "metadata": {},
          "execution_count": 40
        }
      ]
    },
    {
      "cell_type": "code",
      "metadata": {
        "id": "VuR87ndTCn0e",
        "colab": {
          "base_uri": "https://localhost:8080/"
        },
        "outputId": "a275b98d-6b3b-4bbe-a9dc-c17d19af2202"
      },
      "source": [
        "print(lista_mixta)\n",
        "lista_mixta.index(23)"
      ],
      "execution_count": null,
      "outputs": [
        {
          "output_type": "stream",
          "name": "stdout",
          "text": [
            "['Juan', 23, 54.2, 23, False, 'Avión']\n"
          ]
        },
        {
          "output_type": "execute_result",
          "data": {
            "text/plain": [
              "1"
            ]
          },
          "metadata": {},
          "execution_count": 44
        }
      ]
    },
    {
      "cell_type": "markdown",
      "source": [
        "Concatenar listas\n"
      ],
      "metadata": {
        "id": "M_lAao_G3En2"
      }
    },
    {
      "cell_type": "code",
      "source": [
        "a = [1, 2, 3]\n",
        "b = [4, 5, 6]\n",
        "\n",
        "a + b"
      ],
      "metadata": {
        "id": "MljHEQIA3Ddm",
        "colab": {
          "base_uri": "https://localhost:8080/"
        },
        "outputId": "c791d838-22e1-4498-c2a1-ba527cbb6773"
      },
      "execution_count": null,
      "outputs": [
        {
          "output_type": "execute_result",
          "data": {
            "text/plain": [
              "[1, 2, 3, 4, 5, 6]"
            ]
          },
          "metadata": {},
          "execution_count": 45
        }
      ]
    },
    {
      "cell_type": "markdown",
      "source": [
        "Agregar (apendizar) elementos a una lista"
      ],
      "metadata": {
        "id": "pCwiQgzc_-Ds"
      }
    },
    {
      "cell_type": "code",
      "source": [
        "listita = [1, 4, 5, 8]\n",
        "listita.append(9)\n",
        "listita"
      ],
      "metadata": {
        "id": "xpAMW_3g_9gC",
        "colab": {
          "base_uri": "https://localhost:8080/"
        },
        "outputId": "2d3acd1a-2872-465a-bc9e-03b194be71af"
      },
      "execution_count": null,
      "outputs": [
        {
          "output_type": "execute_result",
          "data": {
            "text/plain": [
              "[1, 4, 5, 8, 9]"
            ]
          },
          "metadata": {},
          "execution_count": 46
        }
      ]
    },
    {
      "cell_type": "markdown",
      "source": [
        "Ordenar listas"
      ],
      "metadata": {
        "id": "hhKbrhFL37XP"
      }
    },
    {
      "cell_type": "code",
      "source": [
        "lista = [4,2,5,7,3,8]\n",
        "lista.sort()\n",
        "lista"
      ],
      "metadata": {
        "id": "uJWLdbDW383h",
        "colab": {
          "base_uri": "https://localhost:8080/"
        },
        "outputId": "4e62bf2d-a54d-4db8-eb79-2e48daf3ed68"
      },
      "execution_count": null,
      "outputs": [
        {
          "output_type": "execute_result",
          "data": {
            "text/plain": [
              "[2, 3, 4, 5, 7, 8]"
            ]
          },
          "metadata": {},
          "execution_count": 47
        }
      ]
    },
    {
      "cell_type": "code",
      "source": [
        "lista = [4,2,5,7,3,8]\n",
        "lista.sort(reverse = True)\n",
        "lista"
      ],
      "metadata": {
        "id": "LDCnRR5b3-Vd",
        "colab": {
          "base_uri": "https://localhost:8080/"
        },
        "outputId": "395f48ca-8e9e-4a91-ae22-074f598834ef"
      },
      "execution_count": null,
      "outputs": [
        {
          "output_type": "execute_result",
          "data": {
            "text/plain": [
              "[8, 7, 5, 4, 3, 2]"
            ]
          },
          "metadata": {},
          "execution_count": 48
        }
      ]
    },
    {
      "cell_type": "markdown",
      "source": [
        "## Texto como lista de caracteres"
      ],
      "metadata": {
        "id": "7itW4Eb_4EcR"
      }
    },
    {
      "cell_type": "code",
      "source": [
        "print(texto)\n",
        "texto[2]"
      ],
      "metadata": {
        "id": "RY2a0HGJ4GiC",
        "colab": {
          "base_uri": "https://localhost:8080/",
          "height": 53
        },
        "outputId": "2ecef14c-c4ce-4a5e-da4a-6d7d9d5295f9"
      },
      "execution_count": null,
      "outputs": [
        {
          "output_type": "stream",
          "name": "stdout",
          "text": [
            "Esta, cadena, la, separaré, por, comas\n"
          ]
        },
        {
          "output_type": "execute_result",
          "data": {
            "text/plain": [
              "'t'"
            ],
            "application/vnd.google.colaboratory.intrinsic+json": {
              "type": "string"
            }
          },
          "metadata": {},
          "execution_count": 49
        }
      ]
    },
    {
      "cell_type": "markdown",
      "source": [
        "## Conjuntos"
      ],
      "metadata": {
        "id": "syLfL9ThpZ5e"
      }
    },
    {
      "cell_type": "code",
      "metadata": {
        "id": "FQ-HR16SMsEz",
        "colab": {
          "base_uri": "https://localhost:8080/"
        },
        "outputId": "13763de2-bef3-4a29-f278-dd23960deffa"
      },
      "source": [
        "{1, 2, 2, 3, 4}"
      ],
      "execution_count": null,
      "outputs": [
        {
          "output_type": "execute_result",
          "data": {
            "text/plain": [
              "{1, 2, 3, 4}"
            ]
          },
          "metadata": {},
          "execution_count": 50
        }
      ]
    },
    {
      "cell_type": "code",
      "metadata": {
        "id": "T_eS8bWGWzq4",
        "colab": {
          "base_uri": "https://localhost:8080/"
        },
        "outputId": "a7ab48cc-eff5-46c3-b064-675f96abf207"
      },
      "source": [
        "set(['a', 'b', 't', 'c', 't'])"
      ],
      "execution_count": null,
      "outputs": [
        {
          "output_type": "execute_result",
          "data": {
            "text/plain": [
              "{'a', 'b', 'c', 't'}"
            ]
          },
          "metadata": {},
          "execution_count": 51
        }
      ]
    },
    {
      "cell_type": "markdown",
      "source": [
        "Funciones de transformacion"
      ],
      "metadata": {
        "id": "siwzkGhdIuFO"
      }
    },
    {
      "cell_type": "code",
      "source": [
        "list()\n",
        "set()\n",
        "int()\n",
        "float()\n",
        "str()\n",
        "bool()"
      ],
      "metadata": {
        "id": "7J0g45u7Itzr"
      },
      "execution_count": null,
      "outputs": []
    },
    {
      "cell_type": "markdown",
      "source": [
        "String vs Entero"
      ],
      "metadata": {
        "id": "VhA5pTk4ekLh"
      }
    },
    {
      "cell_type": "code",
      "source": [
        "'6' + '6'"
      ],
      "metadata": {
        "colab": {
          "base_uri": "https://localhost:8080/",
          "height": 35
        },
        "id": "QJ6Q_cg5C76Z",
        "outputId": "fcda9351-9628-4876-d6e5-1c23aec0866a"
      },
      "execution_count": null,
      "outputs": [
        {
          "output_type": "execute_result",
          "data": {
            "text/plain": [
              "'66'"
            ],
            "application/vnd.google.colaboratory.intrinsic+json": {
              "type": "string"
            }
          },
          "metadata": {},
          "execution_count": 52
        }
      ]
    },
    {
      "cell_type": "code",
      "source": [
        "int('6') + int('6')"
      ],
      "metadata": {
        "colab": {
          "base_uri": "https://localhost:8080/"
        },
        "id": "bhuh-sVTC13g",
        "outputId": "631c028f-efaf-4a25-b89e-7c339e8d16dc"
      },
      "execution_count": null,
      "outputs": [
        {
          "output_type": "execute_result",
          "data": {
            "text/plain": [
              "12"
            ]
          },
          "metadata": {},
          "execution_count": 55
        }
      ]
    },
    {
      "cell_type": "markdown",
      "source": [
        "## Diccionarios (de los elementos mas importantes)"
      ],
      "metadata": {
        "id": "K6yOHLV4pbv_"
      }
    },
    {
      "cell_type": "code",
      "metadata": {
        "id": "2eRmGzV2ELuq",
        "colab": {
          "base_uri": "https://localhost:8080/"
        },
        "outputId": "e08178e0-f1f0-4247-8a3e-4a9b9fcfcd99"
      },
      "source": [
        "datos = {\n",
        "    \"nombre\": \"Manuel Pérez\", \n",
        "    \"carrera\": 'Veterinaria', \n",
        "    \"sueldo\": 30000, \n",
        "    \"es_casado\": False, \n",
        "    \"hijos\": [\n",
        "              {\"nombre\": \"Juan Pérez\", \"edad\": 5}, \n",
        "              {\"nombre\": \"María Pérez\", \"edad\": 3}\n",
        "              ]\n",
        "}\n",
        "\n",
        "\n",
        "datos"
      ],
      "execution_count": null,
      "outputs": [
        {
          "output_type": "execute_result",
          "data": {
            "text/plain": [
              "{'nombre': 'Manuel Pérez',\n",
              " 'carrera': 'Veterinaria',\n",
              " 'sueldo': 30000,\n",
              " 'es_casado': False,\n",
              " 'hijos': [{'nombre': 'Juan Pérez', 'edad': 5},\n",
              "  {'nombre': 'María Pérez', 'edad': 3}]}"
            ]
          },
          "metadata": {},
          "execution_count": 56
        }
      ]
    },
    {
      "cell_type": "code",
      "metadata": {
        "id": "W_W_2y2nEhbt",
        "colab": {
          "base_uri": "https://localhost:8080/"
        },
        "outputId": "8a2f5494-160e-4f67-f9f8-b5d1beee475d"
      },
      "source": [
        "# Acceder a datis dentro de un diccionario\n",
        "datos['hijos']"
      ],
      "execution_count": null,
      "outputs": [
        {
          "output_type": "execute_result",
          "data": {
            "text/plain": [
              "[{'nombre': 'Juan Pérez', 'edad': 5}, {'nombre': 'María Pérez', 'edad': 3}]"
            ]
          },
          "metadata": {},
          "execution_count": 59
        }
      ]
    },
    {
      "cell_type": "code",
      "metadata": {
        "id": "J3_OGktpE26I",
        "colab": {
          "base_uri": "https://localhost:8080/",
          "height": 35
        },
        "outputId": "a503fffc-6003-491b-9ecc-db49b6469c21"
      },
      "source": [
        "# Primer paso, acceder a la lista que contiene los hijos\n",
        "# segundo paso, acceder al segundo elemento de esa lista (posicion 1)\n",
        "# tercer paso, acceder al valor del nombre del hijo\n",
        "datos['hijos']\n",
        "datos['hijos'][1]\n",
        "datos['hijos'][1]['nombre']"
      ],
      "execution_count": null,
      "outputs": [
        {
          "output_type": "execute_result",
          "data": {
            "text/plain": [
              "'María Pérez'"
            ],
            "application/vnd.google.colaboratory.intrinsic+json": {
              "type": "string"
            }
          },
          "metadata": {},
          "execution_count": 62
        }
      ]
    },
    {
      "cell_type": "code",
      "metadata": {
        "id": "mwAq0j6dFQg1",
        "colab": {
          "base_uri": "https://localhost:8080/"
        },
        "outputId": "0fd54f57-085a-47ee-f980-e6a4ab47cfec"
      },
      "source": [
        "# ¿Cuántos hijos tiene?\n",
        "print(type(datos['hijos']))\n",
        "len(datos['hijos'])"
      ],
      "execution_count": null,
      "outputs": [
        {
          "output_type": "stream",
          "name": "stdout",
          "text": [
            "<class 'list'>\n"
          ]
        },
        {
          "output_type": "execute_result",
          "data": {
            "text/plain": [
              "2"
            ]
          },
          "metadata": {},
          "execution_count": 63
        }
      ]
    },
    {
      "cell_type": "code",
      "metadata": {
        "id": "AnDuQg1-GK4O",
        "colab": {
          "base_uri": "https://localhost:8080/"
        },
        "outputId": "8c051602-962d-4d5b-d292-7334911f3d44"
      },
      "source": [
        "datos.keys()"
      ],
      "execution_count": null,
      "outputs": [
        {
          "output_type": "execute_result",
          "data": {
            "text/plain": [
              "dict_keys(['nombre', 'carrera', 'sueldo', 'es_casado', 'hijos'])"
            ]
          },
          "metadata": {},
          "execution_count": 64
        }
      ]
    },
    {
      "cell_type": "code",
      "metadata": {
        "id": "vL_0mQ1sYAgp",
        "colab": {
          "base_uri": "https://localhost:8080/"
        },
        "outputId": "71141299-1ee8-4502-f269-754dcf801263"
      },
      "source": [
        "datos.values()"
      ],
      "execution_count": null,
      "outputs": [
        {
          "output_type": "execute_result",
          "data": {
            "text/plain": [
              "dict_values(['Manuel Pérez', 'Veterinaria', 30000, False, [{'nombre': 'Juan Pérez', 'edad': 5}, {'nombre': 'María Pérez', 'edad': 3}]])"
            ]
          },
          "metadata": {},
          "execution_count": 65
        }
      ]
    },
    {
      "cell_type": "code",
      "source": [
        "contactos = [\n",
        "             {\n",
        "                 \"nombre\": \"A\", \n",
        "                \"telefono\": 2121\n",
        "             }, {\n",
        "                 \"nombre\": \"B\", \n",
        "                 \"email\": 'email@asdf.c'\n",
        "             }\n",
        "]"
      ],
      "metadata": {
        "id": "PETRToBM4yCS"
      },
      "execution_count": null,
      "outputs": []
    },
    {
      "cell_type": "code",
      "source": [
        "len(contactos)"
      ],
      "metadata": {
        "id": "yztxu-Rl4ykW",
        "colab": {
          "base_uri": "https://localhost:8080/"
        },
        "outputId": "919ea0cf-2298-4e5f-f900-9c2eb1524e23"
      },
      "execution_count": null,
      "outputs": [
        {
          "output_type": "execute_result",
          "data": {
            "text/plain": [
              "2"
            ]
          },
          "metadata": {},
          "execution_count": 68
        }
      ]
    },
    {
      "cell_type": "code",
      "source": [
        "# Funcion para ver el tipo de dato\n",
        "type(contactos)"
      ],
      "metadata": {
        "id": "wvoHc5DpYMNT",
        "colab": {
          "base_uri": "https://localhost:8080/"
        },
        "outputId": "c2f20f92-6bcf-453a-b257-354497f2c26b"
      },
      "execution_count": null,
      "outputs": [
        {
          "output_type": "execute_result",
          "data": {
            "text/plain": [
              "list"
            ]
          },
          "metadata": {},
          "execution_count": 69
        }
      ]
    },
    {
      "cell_type": "code",
      "source": [
        "dictio = {\n",
        "                 \"nombre\": \"A\", \n",
        "                \"telefono\": 2121\n",
        "             }"
      ],
      "metadata": {
        "id": "-iT-xDwA25kb"
      },
      "execution_count": null,
      "outputs": []
    },
    {
      "cell_type": "code",
      "source": [
        "dictio['edad'] = 23"
      ],
      "metadata": {
        "id": "CqdvsBiT2_iL"
      },
      "execution_count": null,
      "outputs": []
    },
    {
      "cell_type": "code",
      "source": [
        "dictio"
      ],
      "metadata": {
        "colab": {
          "base_uri": "https://localhost:8080/"
        },
        "id": "21wC0XO53DdC",
        "outputId": "9833887e-4d49-4cec-9f31-6e1265e58f4d"
      },
      "execution_count": null,
      "outputs": [
        {
          "output_type": "execute_result",
          "data": {
            "text/plain": [
              "{'nombre': 'A', 'telefono': 2121, 'edad': 23}"
            ]
          },
          "metadata": {},
          "execution_count": 74
        }
      ]
    },
    {
      "cell_type": "code",
      "source": [
        "dictio['edad'] = [23,24,25,26,27]"
      ],
      "metadata": {
        "id": "WM9fpY4a3JKq"
      },
      "execution_count": null,
      "outputs": []
    },
    {
      "cell_type": "code",
      "source": [
        "dictio"
      ],
      "metadata": {
        "colab": {
          "base_uri": "https://localhost:8080/"
        },
        "id": "fMlQLWuv3LAT",
        "outputId": "09a3ee19-f5a2-4d46-e8e3-faa33d536880"
      },
      "execution_count": null,
      "outputs": [
        {
          "output_type": "execute_result",
          "data": {
            "text/plain": [
              "{'nombre': 'A', 'telefono': 2121, 'edad': [23, 24, 25, 26, 27]}"
            ]
          },
          "metadata": {},
          "execution_count": 78
        }
      ]
    },
    {
      "cell_type": "markdown",
      "source": [
        "## Booleanos (Verdadero o Falso, para verificaciones)"
      ],
      "metadata": {
        "id": "Fh0GGVQGpplT"
      }
    },
    {
      "cell_type": "code",
      "metadata": {
        "id": "gy-eRLjiaL3n",
        "colab": {
          "base_uri": "https://localhost:8080/"
        },
        "outputId": "60146f21-0725-4a57-9970-786c141f8148"
      },
      "source": [
        "mi_primer_booleano = False\n",
        "mi_primer_booleano"
      ],
      "execution_count": null,
      "outputs": [
        {
          "output_type": "execute_result",
          "data": {
            "text/plain": [
              "False"
            ]
          },
          "metadata": {},
          "execution_count": 79
        }
      ]
    },
    {
      "cell_type": "code",
      "metadata": {
        "id": "pp3Z3Zf9KJwK",
        "colab": {
          "base_uri": "https://localhost:8080/"
        },
        "outputId": "cc5648b1-fa68-4273-90a2-435bc426d4ef"
      },
      "source": [
        "# Revisar si valores son iguales\n",
        "3 == 4"
      ],
      "execution_count": null,
      "outputs": [
        {
          "output_type": "execute_result",
          "data": {
            "text/plain": [
              "False"
            ]
          },
          "metadata": {},
          "execution_count": 80
        }
      ]
    },
    {
      "cell_type": "code",
      "metadata": {
        "id": "ZyfnK7F9K4T1",
        "colab": {
          "base_uri": "https://localhost:8080/"
        },
        "outputId": "33230a2a-a6e3-4353-abe1-4cfc5747e75b"
      },
      "source": [
        "cadena = 'El cazo'\n",
        "cadena == 'sarten'"
      ],
      "execution_count": null,
      "outputs": [
        {
          "output_type": "execute_result",
          "data": {
            "text/plain": [
              "False"
            ]
          },
          "metadata": {},
          "execution_count": 81
        }
      ]
    },
    {
      "cell_type": "code",
      "metadata": {
        "id": "BDmiwCiVK9u3",
        "colab": {
          "base_uri": "https://localhost:8080/"
        },
        "outputId": "aed93a93-859a-43e9-e071-6246155b08ee"
      },
      "source": [
        "cadena == 'El cazo'"
      ],
      "execution_count": null,
      "outputs": [
        {
          "output_type": "execute_result",
          "data": {
            "text/plain": [
              "True"
            ]
          },
          "metadata": {},
          "execution_count": 82
        }
      ]
    },
    {
      "cell_type": "code",
      "metadata": {
        "id": "ovPfx1PGaeDv",
        "colab": {
          "base_uri": "https://localhost:8080/"
        },
        "outputId": "1bd6167b-ea66-47b8-a144-30341f328d89"
      },
      "source": [
        "cadena == 'el cazo'"
      ],
      "execution_count": null,
      "outputs": [
        {
          "output_type": "execute_result",
          "data": {
            "text/plain": [
              "False"
            ]
          },
          "metadata": {},
          "execution_count": 83
        }
      ]
    },
    {
      "cell_type": "code",
      "source": [
        "n = 3"
      ],
      "metadata": {
        "id": "8rkGw72vLEXk"
      },
      "execution_count": null,
      "outputs": []
    },
    {
      "cell_type": "code",
      "source": [
        "print(n)"
      ],
      "metadata": {
        "id": "8kiHFBzu6L1i",
        "colab": {
          "base_uri": "https://localhost:8080/"
        },
        "outputId": "a83ef69e-18a6-426e-a1f5-24032bd827b7"
      },
      "execution_count": null,
      "outputs": [
        {
          "output_type": "stream",
          "name": "stdout",
          "text": [
            "3\n"
          ]
        }
      ]
    },
    {
      "cell_type": "code",
      "metadata": {
        "id": "zDzcHGQ9KeXX",
        "colab": {
          "base_uri": "https://localhost:8080/"
        },
        "outputId": "7b8da79d-c924-40e3-c538-d6a529f8b186"
      },
      "source": [
        "# Un número es mayor a otros\n",
        "print(n > 3)\n",
        "print(n <= 3)\n",
        "print(n == 3) \n",
        "print(n != 3)"
      ],
      "execution_count": null,
      "outputs": [
        {
          "output_type": "stream",
          "name": "stdout",
          "text": [
            "False\n",
            "True\n",
            "True\n",
            "False\n"
          ]
        }
      ]
    },
    {
      "cell_type": "code",
      "source": [
        "type('asdfas') is str"
      ],
      "metadata": {
        "id": "Y2H0aqZM6U2R",
        "colab": {
          "base_uri": "https://localhost:8080/"
        },
        "outputId": "e45e653c-a1c5-4b45-8dc3-a517e617f9e6"
      },
      "execution_count": null,
      "outputs": [
        {
          "output_type": "execute_result",
          "data": {
            "text/plain": [
              "False"
            ]
          },
          "metadata": {},
          "execution_count": 88
        }
      ]
    },
    {
      "cell_type": "code",
      "source": [
        "not 3 > 3"
      ],
      "metadata": {
        "id": "3nCCNOh-6VXB",
        "colab": {
          "base_uri": "https://localhost:8080/"
        },
        "outputId": "1c0d5608-e943-4479-bd78-590300776dba"
      },
      "execution_count": null,
      "outputs": [
        {
          "output_type": "execute_result",
          "data": {
            "text/plain": [
              "True"
            ]
          },
          "metadata": {},
          "execution_count": 89
        }
      ]
    },
    {
      "cell_type": "code",
      "metadata": {
        "id": "UXb4n-mOL9RG",
        "colab": {
          "base_uri": "https://localhost:8080/"
        },
        "outputId": "f817d13d-6dd5-4b26-aa17-be1e40e6df18"
      },
      "source": [
        "# Revisa si un elemento no está en la lista\n",
        "10 not in sucesion"
      ],
      "execution_count": null,
      "outputs": [
        {
          "output_type": "execute_result",
          "data": {
            "text/plain": [
              "False"
            ]
          },
          "metadata": {},
          "execution_count": 91
        }
      ]
    },
    {
      "cell_type": "markdown",
      "source": [
        "Comparando **float** con **int**:"
      ],
      "metadata": {
        "id": "_d9xgVQW45d2"
      }
    },
    {
      "cell_type": "code",
      "source": [
        "m = 2\n",
        "n = 2.00000000000000000000000000000001\n",
        "\n",
        "print(type(m))\n",
        "print(type(n))"
      ],
      "metadata": {
        "id": "soequlcu45BA",
        "colab": {
          "base_uri": "https://localhost:8080/"
        },
        "outputId": "f98938cb-ae76-47cc-df5e-d38f810d9ddf"
      },
      "execution_count": null,
      "outputs": [
        {
          "output_type": "stream",
          "name": "stdout",
          "text": [
            "<class 'int'>\n",
            "<class 'float'>\n"
          ]
        }
      ]
    },
    {
      "cell_type": "code",
      "source": [
        "# ¿Cual será el valor de esta comparación?\n",
        "m == n"
      ],
      "metadata": {
        "id": "gyqlsHjg5MyJ",
        "colab": {
          "base_uri": "https://localhost:8080/"
        },
        "outputId": "fb447110-e40e-4ffd-a1f1-95c33ddc9bc9"
      },
      "execution_count": null,
      "outputs": [
        {
          "output_type": "execute_result",
          "data": {
            "text/plain": [
              "True"
            ]
          },
          "metadata": {},
          "execution_count": 93
        }
      ]
    },
    {
      "cell_type": "markdown",
      "source": [
        "¿Y con comillas y dobles comillas?"
      ],
      "metadata": {
        "id": "pp3l0CqF5TDb"
      }
    },
    {
      "cell_type": "code",
      "source": [
        "'algo' == \"algo\""
      ],
      "metadata": {
        "id": "3w1BtB-k5Wwv",
        "colab": {
          "base_uri": "https://localhost:8080/"
        },
        "outputId": "c158b095-4186-4d02-acf0-ff069b0db3b7"
      },
      "execution_count": null,
      "outputs": [
        {
          "output_type": "execute_result",
          "data": {
            "text/plain": [
              "True"
            ]
          },
          "metadata": {},
          "execution_count": 94
        }
      ]
    },
    {
      "cell_type": "markdown",
      "source": [
        "# Estructuras de control"
      ],
      "metadata": {
        "id": "AtHmXkhk6cX0"
      }
    },
    {
      "cell_type": "markdown",
      "source": [
        "## Condicionales \"If\", \"Elif\" y \"Else\""
      ],
      "metadata": {
        "id": "D-UDURPNpuYl"
      }
    },
    {
      "cell_type": "code",
      "metadata": {
        "id": "BE3HMCArTxJ8",
        "colab": {
          "base_uri": "https://localhost:8080/"
        },
        "outputId": "87c6d58e-88d2-4a1d-f526-3549555eb43b"
      },
      "source": [
        "n = 'algo'\n",
        "if type(n) is int:\n",
        "  print('n es un entero')\n",
        "  print('Esta otra linea')\n",
        "  print('Una más')\n",
        "else:\n",
        "    print('n no es entero')"
      ],
      "execution_count": null,
      "outputs": [
        {
          "output_type": "stream",
          "name": "stdout",
          "text": [
            "n no es entero\n"
          ]
        }
      ]
    },
    {
      "cell_type": "code",
      "metadata": {
        "id": "MWFC_tFtNvxr",
        "colab": {
          "base_uri": "https://localhost:8080/"
        },
        "outputId": "cc97ec67-6e9e-4bd5-f4fa-4197d0e27490"
      },
      "source": [
        "n = 7\n",
        "if n == 7:\n",
        "    print(\"n es 7\")\n",
        "elif n > 90:\n",
        "    print('n es mayor a 90')\n",
        "elif n < 2:\n",
        "    print(\"n es menor a 2\")\n",
        "else:\n",
        "    print('ninguna de las condiciones anteriores se cumplió')"
      ],
      "execution_count": null,
      "outputs": [
        {
          "output_type": "stream",
          "name": "stdout",
          "text": [
            "n es mayor a 90\n"
          ]
        }
      ]
    },
    {
      "cell_type": "markdown",
      "metadata": {
        "id": "CEy9LsVbVPd-"
      },
      "source": [
        "### While\n",
        "\n",
        "El while se ejecuta hasta que se cumple una condición.\n",
        "\n",
        "Es importante notar que el ciclo **puede ejecutarse infinitamente** si la condición nunca se cumple."
      ]
    },
    {
      "cell_type": "code",
      "metadata": {
        "id": "5ASu7fKhUqKL",
        "colab": {
          "base_uri": "https://localhost:8080/"
        },
        "outputId": "064602f1-65cd-4ab5-d6d9-470b5618d913"
      },
      "source": [
        "i = 0\n",
        "while i < 10:\n",
        "    i += 1 # i = i + 1\n",
        "    print(i)"
      ],
      "execution_count": null,
      "outputs": [
        {
          "output_type": "stream",
          "name": "stdout",
          "text": [
            "1\n",
            "2\n",
            "3\n",
            "4\n",
            "5\n",
            "6\n",
            "7\n",
            "8\n",
            "9\n",
            "10\n"
          ]
        }
      ]
    },
    {
      "cell_type": "code",
      "metadata": {
        "id": "0kkhkXIIX5Do",
        "colab": {
          "base_uri": "https://localhost:8080/"
        },
        "outputId": "8f47ca91-4ea5-46a7-cf99-b2ac552b4dca"
      },
      "source": [
        "# Secuencia de fibonacci\n",
        "a, b = 0, 1          \n",
        "\n",
        "secuencia = []\n",
        "\n",
        "while a < 1000:\n",
        "  secuencia.append(a)\n",
        "  a, b = b, a + b\n",
        "\n",
        "secuencia"
      ],
      "execution_count": null,
      "outputs": [
        {
          "output_type": "execute_result",
          "data": {
            "text/plain": [
              "[0, 1, 1, 2, 3, 5, 8, 13, 21, 34, 55, 89, 144, 233, 377, 610, 987]"
            ]
          },
          "metadata": {},
          "execution_count": 104
        }
      ]
    },
    {
      "cell_type": "markdown",
      "metadata": {
        "id": "UMgBjqnpVMCe"
      },
      "source": [
        "### For\n",
        "\n",
        "Ejecuta el ciclo para cada elemento en un iterable\n",
        "\n"
      ]
    },
    {
      "cell_type": "code",
      "metadata": {
        "id": "1fqubTdSVmpc",
        "colab": {
          "base_uri": "https://localhost:8080/"
        },
        "outputId": "d7fe39f7-1173-408c-c208-a6ee0deedfa5"
      },
      "source": [
        "for i in range(10):\n",
        "    print(i + 2)"
      ],
      "execution_count": null,
      "outputs": [
        {
          "output_type": "stream",
          "name": "stdout",
          "text": [
            "2\n",
            "3\n",
            "4\n",
            "5\n",
            "6\n",
            "7\n",
            "8\n",
            "9\n",
            "10\n",
            "11\n"
          ]
        }
      ]
    },
    {
      "cell_type": "code",
      "source": [
        "lista = ['Juan', 'María', 'Max', 'Alfonso']"
      ],
      "metadata": {
        "id": "qfx61qfFqCon"
      },
      "execution_count": null,
      "outputs": []
    },
    {
      "cell_type": "code",
      "source": [
        "for persona in lista:\n",
        "  print(persona + ' está comiendo')"
      ],
      "metadata": {
        "id": "C4jlts1kcd8u",
        "colab": {
          "base_uri": "https://localhost:8080/"
        },
        "outputId": "8911323d-b29e-4a16-987e-05b05aecf11a"
      },
      "execution_count": null,
      "outputs": [
        {
          "output_type": "stream",
          "name": "stdout",
          "text": [
            "Juan está comiendo\n",
            "María está comiendo\n",
            "Max está comiendo\n",
            "Alfonso está comiendo\n"
          ]
        }
      ]
    },
    {
      "cell_type": "code",
      "source": [
        "texto = 'algo escrito'\n",
        "\n",
        "for i in texto:\n",
        "  print(i)"
      ],
      "metadata": {
        "colab": {
          "base_uri": "https://localhost:8080/"
        },
        "id": "hwD9-GmU7L1K",
        "outputId": "cddb5909-86d6-4cbd-bbef-b4e3990f4eca"
      },
      "execution_count": null,
      "outputs": [
        {
          "output_type": "stream",
          "name": "stdout",
          "text": [
            "a\n",
            "l\n",
            "g\n",
            "o\n",
            " \n",
            "e\n",
            "s\n",
            "c\n",
            "r\n",
            "i\n",
            "t\n",
            "o\n"
          ]
        }
      ]
    },
    {
      "cell_type": "markdown",
      "source": [
        "## Listas por comprension"
      ],
      "metadata": {
        "id": "ntcpdPktNmyw"
      }
    },
    {
      "cell_type": "code",
      "metadata": {
        "id": "HyoFNtBlY2ht",
        "colab": {
          "base_uri": "https://localhost:8080/"
        },
        "outputId": "07369693-255d-45b6-ced4-25776736dd8e"
      },
      "source": [
        "print(lista)\n",
        "\n",
        "# crea sólo una copia de la lista\n",
        "nueva_lista = [persona + ' comió algo' for persona in lista]\n",
        "nueva_lista"
      ],
      "execution_count": null,
      "outputs": [
        {
          "output_type": "stream",
          "name": "stdout",
          "text": [
            "['Juan', 'María', 'Max', 'Alfonso']\n"
          ]
        },
        {
          "output_type": "execute_result",
          "data": {
            "text/plain": [
              "['Juan comió algo', 'María comió algo', 'Max comió algo', 'Alfonso comió algo']"
            ]
          },
          "metadata": {},
          "execution_count": 109
        }
      ]
    },
    {
      "cell_type": "code",
      "source": [
        "import math"
      ],
      "metadata": {
        "id": "Skw17NGPqOXK"
      },
      "execution_count": null,
      "outputs": []
    },
    {
      "cell_type": "code",
      "metadata": {
        "id": "_Ykc9ApgZqZ2",
        "colab": {
          "base_uri": "https://localhost:8080/"
        },
        "outputId": "dfc9319f-d69f-424c-c3ff-76ae314e13d1"
      },
      "source": [
        "promedios = [5.9, 6.7, 8.2, 10, 3, 0]\n",
        "[math.ceil(calificacion) if calificacion > 6 and calificacion % 1 > .3 else math.floor(calificacion) for calificacion in promedios]"
      ],
      "execution_count": null,
      "outputs": [
        {
          "output_type": "execute_result",
          "data": {
            "text/plain": [
              "[5, 7, 8, 10, 3, 0]"
            ]
          },
          "metadata": {},
          "execution_count": 111
        }
      ]
    },
    {
      "cell_type": "code",
      "metadata": {
        "id": "bF-ZTlYiaWXo"
      },
      "source": [
        "# El código anterior equivale a lo siguiente\n",
        "nuevos_promedios = []\n",
        "for x in promedios:\n",
        "    if x > 6 and x % 1 > .3:\n",
        "        nuevos_promedios.append(math.ceil(x))\n",
        "    else:\n",
        "        nuevos_promedios.append(math.floor(x))\n",
        "nuevos_promedios"
      ],
      "execution_count": null,
      "outputs": []
    },
    {
      "cell_type": "markdown",
      "source": [
        "## Control de ciclos"
      ],
      "metadata": {
        "id": "6apPDu-gqcSJ"
      }
    },
    {
      "cell_type": "code",
      "metadata": {
        "id": "i6fVlS7VWg7w",
        "colab": {
          "base_uri": "https://localhost:8080/"
        },
        "outputId": "b1aeede2-82dc-4988-ce12-677bd999db75"
      },
      "source": [
        "# BREAK\n",
        "j = 1\n",
        "while True:\n",
        "    j *= 10 # j = j*10\n",
        "    print(j)\n",
        "    if j > 1000:\n",
        "        break"
      ],
      "execution_count": null,
      "outputs": [
        {
          "output_type": "stream",
          "name": "stdout",
          "text": [
            "10\n",
            "100\n",
            "1000\n",
            "10000\n"
          ]
        }
      ]
    },
    {
      "cell_type": "code",
      "metadata": {
        "id": "4b3Q2qhuWsKQ",
        "colab": {
          "base_uri": "https://localhost:8080/"
        },
        "outputId": "a0ab2247-f093-4b6d-f865-44ad739bbcbe"
      },
      "source": [
        "# CONTINUE\n",
        "for j in range(10):\n",
        "    if 4 < j < 7:\n",
        "        print(f'omitiendo')\n",
        "        continue\n",
        "    print(j)"
      ],
      "execution_count": null,
      "outputs": [
        {
          "output_type": "stream",
          "name": "stdout",
          "text": [
            "0\n",
            "1\n",
            "2\n",
            "3\n",
            "4\n",
            "omitiendo\n",
            "omitiendo\n",
            "7\n",
            "8\n",
            "9\n"
          ]
        }
      ]
    },
    {
      "cell_type": "markdown",
      "source": [
        "# NumPy (libreria para operaciones matemáticas)"
      ],
      "metadata": {
        "id": "2CzFg3OhrlDJ"
      }
    },
    {
      "cell_type": "markdown",
      "source": [
        "## Creación de Arrays (arreglos)"
      ],
      "metadata": {
        "id": "Jq-l_MzMs35-"
      }
    },
    {
      "cell_type": "markdown",
      "source": [
        "Modos de hacer importacion (no ejecutar)"
      ],
      "metadata": {
        "id": "3B09LGas9UuS"
      }
    },
    {
      "cell_type": "code",
      "source": [
        "# NO EJECUTAR\n",
        "\n",
        "from numpy import sum    # sum()\n",
        "\n",
        "import numpy     # numpy.sum()\n",
        "\n",
        "import numpy as np     # np.sum()\n",
        "\n",
        "from numpy import *      # sum(), mean()"
      ],
      "metadata": {
        "id": "0-Nkhdgn8yuN"
      },
      "execution_count": null,
      "outputs": []
    },
    {
      "cell_type": "code",
      "source": [
        "import numpy as np"
      ],
      "metadata": {
        "id": "gTwyufvMr-ML"
      },
      "execution_count": null,
      "outputs": []
    },
    {
      "cell_type": "code",
      "metadata": {
        "id": "Hv1EQ2OBjUBK",
        "colab": {
          "base_uri": "https://localhost:8080/"
        },
        "outputId": "9bb084c5-85a9-48a8-ef1e-e2ba76ae52e5"
      },
      "source": [
        "arr = np.array(range(10))\n",
        "arr"
      ],
      "execution_count": null,
      "outputs": [
        {
          "output_type": "execute_result",
          "data": {
            "text/plain": [
              "array([0, 1, 2, 3, 4, 5, 6, 7, 8, 9])"
            ]
          },
          "metadata": {},
          "execution_count": 128
        }
      ]
    },
    {
      "cell_type": "code",
      "metadata": {
        "id": "9Cd1UAM-mnBB",
        "colab": {
          "base_uri": "https://localhost:8080/"
        },
        "outputId": "17430818-51a1-468b-82c8-a03d61b8fa22"
      },
      "source": [
        "vista = arr[:3]\n",
        "vista"
      ],
      "execution_count": null,
      "outputs": [
        {
          "output_type": "execute_result",
          "data": {
            "text/plain": [
              "array([0, 1, 2])"
            ]
          },
          "metadata": {},
          "execution_count": 129
        }
      ]
    },
    {
      "cell_type": "code",
      "metadata": {
        "id": "WIBt95GEmnHx",
        "colab": {
          "base_uri": "https://localhost:8080/"
        },
        "outputId": "f074f013-67fd-403a-a73b-cb36713e02c4"
      },
      "source": [
        "vista[:] = 0\n",
        "vista"
      ],
      "execution_count": null,
      "outputs": [
        {
          "output_type": "execute_result",
          "data": {
            "text/plain": [
              "array([0, 0, 0])"
            ]
          },
          "metadata": {},
          "execution_count": 130
        }
      ]
    },
    {
      "cell_type": "code",
      "source": [
        "arr"
      ],
      "metadata": {
        "id": "sCyoR1mJnPOa",
        "colab": {
          "base_uri": "https://localhost:8080/"
        },
        "outputId": "8beeb3f4-74e8-455f-fecd-009b6428d5aa"
      },
      "execution_count": null,
      "outputs": [
        {
          "output_type": "execute_result",
          "data": {
            "text/plain": [
              "array([0, 0, 0, 3, 4, 5, 6, 7, 8, 9])"
            ]
          },
          "metadata": {},
          "execution_count": 131
        }
      ]
    },
    {
      "cell_type": "code",
      "metadata": {
        "id": "jvBriznumxZL",
        "colab": {
          "base_uri": "https://localhost:8080/"
        },
        "outputId": "d07f6834-3ea8-42b1-e664-c929afd71c5b"
      },
      "source": [
        "copia = arr[:5].copy()\n",
        "copia"
      ],
      "execution_count": null,
      "outputs": [
        {
          "output_type": "execute_result",
          "data": {
            "text/plain": [
              "array([0, 0, 0, 3, 4])"
            ]
          },
          "metadata": {},
          "execution_count": 132
        }
      ]
    },
    {
      "cell_type": "code",
      "source": [
        "x = np.array([1,3,2,2,5,5,5])"
      ],
      "metadata": {
        "id": "kFnqR1JTsI9W"
      },
      "execution_count": null,
      "outputs": []
    },
    {
      "cell_type": "code",
      "metadata": {
        "id": "ouU2I4BVVWOG",
        "colab": {
          "base_uri": "https://localhost:8080/"
        },
        "outputId": "90e04164-1e32-40b1-9385-31ffaf861c87"
      },
      "source": [
        "# Suma de los elementos de x\n",
        "np.sum(x)"
      ],
      "execution_count": null,
      "outputs": [
        {
          "output_type": "execute_result",
          "data": {
            "text/plain": [
              "23"
            ]
          },
          "metadata": {},
          "execution_count": 134
        }
      ]
    },
    {
      "cell_type": "code",
      "metadata": {
        "id": "fTevdVdcVQAG",
        "colab": {
          "base_uri": "https://localhost:8080/"
        },
        "outputId": "a1a49bce-e0f7-4cce-df14-e54397b15f78"
      },
      "source": [
        "# Media\n",
        "np.mean(x)"
      ],
      "execution_count": null,
      "outputs": [
        {
          "output_type": "execute_result",
          "data": {
            "text/plain": [
              "3.2857142857142856"
            ]
          },
          "metadata": {},
          "execution_count": 135
        }
      ]
    },
    {
      "cell_type": "code",
      "metadata": {
        "id": "MU13en5QVUFd",
        "colab": {
          "base_uri": "https://localhost:8080/"
        },
        "outputId": "9d51f2ef-e663-4ca1-d09a-fc56bcf18149"
      },
      "source": [
        "# Mediana\n",
        "np.median(x)"
      ],
      "execution_count": null,
      "outputs": [
        {
          "output_type": "execute_result",
          "data": {
            "text/plain": [
              "3.0"
            ]
          },
          "metadata": {},
          "execution_count": 136
        }
      ]
    },
    {
      "cell_type": "code",
      "metadata": {
        "id": "SVdHMWFHVclb",
        "colab": {
          "base_uri": "https://localhost:8080/"
        },
        "outputId": "80670351-47c6-4246-fcc9-f683796d66f2"
      },
      "source": [
        "# Varianza\n",
        "np.var(x)"
      ],
      "execution_count": null,
      "outputs": [
        {
          "output_type": "execute_result",
          "data": {
            "text/plain": [
              "2.4897959183673466"
            ]
          },
          "metadata": {},
          "execution_count": 137
        }
      ]
    },
    {
      "cell_type": "code",
      "metadata": {
        "id": "A5TvuUKDVeoB",
        "colab": {
          "base_uri": "https://localhost:8080/"
        },
        "outputId": "5166af80-c170-40f3-a99e-5d9343f7c2fe"
      },
      "source": [
        "# Desviación estándar\n",
        "np.std(x)"
      ],
      "execution_count": null,
      "outputs": [
        {
          "output_type": "execute_result",
          "data": {
            "text/plain": [
              "1.577908716741037"
            ]
          },
          "metadata": {},
          "execution_count": 138
        }
      ]
    },
    {
      "cell_type": "code",
      "metadata": {
        "id": "bQIrkFMDVxoy"
      },
      "source": [
        "my_array = np.array([1, 3, 4])"
      ],
      "execution_count": null,
      "outputs": []
    },
    {
      "cell_type": "code",
      "source": [
        "my_array"
      ],
      "metadata": {
        "id": "0AruNfu1P7GN",
        "colab": {
          "base_uri": "https://localhost:8080/"
        },
        "outputId": "240f078f-5a60-4a1e-ab19-81ffbe05c3e5"
      },
      "execution_count": null,
      "outputs": [
        {
          "output_type": "execute_result",
          "data": {
            "text/plain": [
              "array([1, 3, 4])"
            ]
          },
          "metadata": {},
          "execution_count": 140
        }
      ]
    },
    {
      "cell_type": "code",
      "source": [
        "my_array + my_array"
      ],
      "metadata": {
        "id": "yYCM9I7yP8Ib",
        "colab": {
          "base_uri": "https://localhost:8080/"
        },
        "outputId": "b7500a06-dc30-41e4-d0b6-55032edf790b"
      },
      "execution_count": null,
      "outputs": [
        {
          "output_type": "execute_result",
          "data": {
            "text/plain": [
              "array([2, 6, 8])"
            ]
          },
          "metadata": {},
          "execution_count": 141
        }
      ]
    },
    {
      "cell_type": "code",
      "source": [
        "my_array*3"
      ],
      "metadata": {
        "id": "KfEjqxB6ns6m",
        "colab": {
          "base_uri": "https://localhost:8080/"
        },
        "outputId": "5c459e41-873b-4d9a-8151-e92f8d516f30"
      },
      "execution_count": null,
      "outputs": [
        {
          "output_type": "execute_result",
          "data": {
            "text/plain": [
              "array([ 3,  9, 12])"
            ]
          },
          "metadata": {},
          "execution_count": 142
        }
      ]
    },
    {
      "cell_type": "code",
      "source": [
        "np.dot(my_array,my_array)"
      ],
      "metadata": {
        "id": "kyhz8ob9n17q",
        "colab": {
          "base_uri": "https://localhost:8080/"
        },
        "outputId": "a8d9016a-83ad-433c-c5d8-ee38b17b75c8"
      },
      "execution_count": null,
      "outputs": [
        {
          "output_type": "execute_result",
          "data": {
            "text/plain": [
              "26"
            ]
          },
          "metadata": {},
          "execution_count": 143
        }
      ]
    },
    {
      "cell_type": "markdown",
      "source": [
        "## Arreglos 2-dimensionales (matrices)"
      ],
      "metadata": {
        "id": "I_mBUtbLs8jV"
      }
    },
    {
      "cell_type": "code",
      "metadata": {
        "id": "YMOTuyckiGJi",
        "colab": {
          "base_uri": "https://localhost:8080/"
        },
        "outputId": "5bcdf539-867e-439b-e469-4b8fc5e68c2e"
      },
      "source": [
        "my_matrix = np.array([[1, 2, 3], [3, 4, 5], [6, 7, 8], [9, 10, 11]])\n",
        "my_matrix"
      ],
      "execution_count": null,
      "outputs": [
        {
          "output_type": "execute_result",
          "data": {
            "text/plain": [
              "array([[ 1,  2,  3],\n",
              "       [ 3,  4,  5],\n",
              "       [ 6,  7,  8],\n",
              "       [ 9, 10, 11]])"
            ]
          },
          "metadata": {},
          "execution_count": 144
        }
      ]
    },
    {
      "cell_type": "code",
      "metadata": {
        "id": "E7IP8m5QiCCN",
        "colab": {
          "base_uri": "https://localhost:8080/"
        },
        "outputId": "cb51b034-30fe-47d3-faa5-4d3452753023"
      },
      "source": [
        "my_array[1]"
      ],
      "execution_count": null,
      "outputs": [
        {
          "output_type": "execute_result",
          "data": {
            "text/plain": [
              "3"
            ]
          },
          "metadata": {},
          "execution_count": 145
        }
      ]
    },
    {
      "cell_type": "code",
      "metadata": {
        "id": "A4yOZoraiyv7",
        "colab": {
          "base_uri": "https://localhost:8080/"
        },
        "outputId": "167103d1-bfb1-40b4-dd54-b9805fd33a94"
      },
      "source": [
        "my_matrix.reshape((2, 6))"
      ],
      "execution_count": null,
      "outputs": [
        {
          "output_type": "execute_result",
          "data": {
            "text/plain": [
              "array([[ 1,  2,  3,  3,  4,  5],\n",
              "       [ 6,  7,  8,  9, 10, 11]])"
            ]
          },
          "metadata": {},
          "execution_count": 146
        }
      ]
    },
    {
      "cell_type": "code",
      "metadata": {
        "id": "0k6OuxR5iQZ2",
        "colab": {
          "base_uri": "https://localhost:8080/"
        },
        "outputId": "554aec1a-67ac-4998-8ac3-377d348dfdb8"
      },
      "source": [
        "my_matrix.shape"
      ],
      "execution_count": null,
      "outputs": [
        {
          "output_type": "execute_result",
          "data": {
            "text/plain": [
              "(4, 3)"
            ]
          },
          "metadata": {},
          "execution_count": 147
        }
      ]
    },
    {
      "cell_type": "code",
      "metadata": {
        "id": "LDPA_8kzjPwo",
        "colab": {
          "base_uri": "https://localhost:8080/"
        },
        "outputId": "3ca87054-9ed6-41ab-cefd-78ea3bacbb84"
      },
      "source": [
        "# Crear arreglos de ceros\n",
        "np.zeros((10, 10))"
      ],
      "execution_count": null,
      "outputs": [
        {
          "output_type": "execute_result",
          "data": {
            "text/plain": [
              "array([[0., 0., 0., 0., 0., 0., 0., 0., 0., 0.],\n",
              "       [0., 0., 0., 0., 0., 0., 0., 0., 0., 0.],\n",
              "       [0., 0., 0., 0., 0., 0., 0., 0., 0., 0.],\n",
              "       [0., 0., 0., 0., 0., 0., 0., 0., 0., 0.],\n",
              "       [0., 0., 0., 0., 0., 0., 0., 0., 0., 0.],\n",
              "       [0., 0., 0., 0., 0., 0., 0., 0., 0., 0.],\n",
              "       [0., 0., 0., 0., 0., 0., 0., 0., 0., 0.],\n",
              "       [0., 0., 0., 0., 0., 0., 0., 0., 0., 0.],\n",
              "       [0., 0., 0., 0., 0., 0., 0., 0., 0., 0.],\n",
              "       [0., 0., 0., 0., 0., 0., 0., 0., 0., 0.]])"
            ]
          },
          "metadata": {},
          "execution_count": 148
        }
      ]
    },
    {
      "cell_type": "code",
      "source": [
        "img_ex = np.zeros((3, 5, 5))\n",
        "print(type(img_ex))\n",
        "img_ex"
      ],
      "metadata": {
        "id": "qp5cSJa3tRPU"
      },
      "execution_count": null,
      "outputs": []
    },
    {
      "cell_type": "code",
      "source": [
        "# Creación de números aleatorios\n",
        "np.random.randint(0, 100, (5, 5))"
      ],
      "metadata": {
        "id": "60Lm3QZetWss"
      },
      "execution_count": null,
      "outputs": []
    },
    {
      "cell_type": "code",
      "source": [
        "np.random.seed(10)"
      ],
      "metadata": {
        "id": "ckB4GjPMtcKo"
      },
      "execution_count": null,
      "outputs": []
    },
    {
      "cell_type": "code",
      "source": [
        "np.random.randint(0,10)"
      ],
      "metadata": {
        "id": "2yZdj_ohpcnx"
      },
      "execution_count": null,
      "outputs": []
    },
    {
      "cell_type": "code",
      "source": [
        "A = np.random.randint(0, 100, (5, 5))\n",
        "A"
      ],
      "metadata": {
        "id": "9jChKM6ztvI9"
      },
      "execution_count": null,
      "outputs": []
    },
    {
      "cell_type": "code",
      "source": [
        "# producto punto\n",
        "x = np.array([1, 2, 3])\n",
        "y = np.array([4, 5, 6])\n",
        "\n",
        "np.dot(x, y)"
      ],
      "metadata": {
        "id": "ZJh9ni-9t_Gg"
      },
      "execution_count": null,
      "outputs": []
    },
    {
      "cell_type": "code",
      "source": [
        "# Producto de matrices\n",
        "A = np.random.randint(0, 2, (3, 2))\n",
        "B = np.random.randint(0, 2, (2, 3))\n"
      ],
      "metadata": {
        "id": "xT9iLTTN713P"
      },
      "execution_count": null,
      "outputs": []
    },
    {
      "cell_type": "code",
      "source": [
        "print(A)\n",
        "print(B)"
      ],
      "metadata": {
        "id": "1gt__A4Z78yg"
      },
      "execution_count": null,
      "outputs": []
    },
    {
      "cell_type": "code",
      "source": [
        "Multiplicacion = np.dot(A,B)\n",
        "Multiplicacion"
      ],
      "metadata": {
        "id": "1S4oBeCW8ANJ"
      },
      "execution_count": null,
      "outputs": []
    },
    {
      "cell_type": "code",
      "source": [
        "otra = np.dot(B,A)\n",
        "otra"
      ],
      "metadata": {
        "id": "egWQqXFk8PJn"
      },
      "execution_count": null,
      "outputs": []
    },
    {
      "cell_type": "code",
      "source": [
        "# invertir matriz\n",
        "C = np.array([[2,1],[1,0]])\n",
        "\n",
        "Ainv = np.linalg.inv(C)\n",
        "Ainv"
      ],
      "metadata": {
        "id": "ODc-fj_h8YSP"
      },
      "execution_count": null,
      "outputs": []
    },
    {
      "cell_type": "markdown",
      "metadata": {
        "id": "2G-MheOorJeg"
      },
      "source": [
        "# Funciones\n",
        "\n",
        "Para definir las funciones seguimos la sintaxis\n",
        "\n",
        "```python\n",
        "def <nombre de la funcion>((parametros)):\n",
        "    <bloque de codigo>\n",
        "    (opcional) return <valor a regresar>\n",
        "```\n",
        "\n",
        "El nombre de la función sigue las mismas reglas que el nombre de las variables.\n",
        "\n",
        "Para regresar un valor de nuestra función existen dos palabras reservada ```return``` y ```yield```. La primera termina la ejecución de la función cuando la encuentra y puede estar en cualquier parte de esta, incluso puede haber varios returns en distintas partes de la función. La segunda, ```yield``` convierte a la función en un iterable. A grandes rasgos, lo que hace es pausar la ejecución de la función hasta que se le pida el siguiente valor."
      ]
    },
    {
      "cell_type": "code",
      "metadata": {
        "id": "B4udBniAsG5-"
      },
      "source": [
        "def hola(nombre):\n",
        "    print(f'Hola {nombre}')"
      ],
      "execution_count": null,
      "outputs": []
    },
    {
      "cell_type": "code",
      "metadata": {
        "id": "ZZvHvjQ5spST",
        "colab": {
          "base_uri": "https://localhost:8080/"
        },
        "outputId": "978a17b8-7bb7-43b4-f63c-e13c11931793"
      },
      "source": [
        "hola('Max')"
      ],
      "execution_count": null,
      "outputs": [
        {
          "output_type": "stream",
          "name": "stdout",
          "text": [
            "Hola Max\n"
          ]
        }
      ]
    },
    {
      "cell_type": "code",
      "metadata": {
        "id": "jCRsF7ljsviW"
      },
      "source": [
        "def hola(nombre, param):\n",
        "    print(nombre*param)"
      ],
      "execution_count": null,
      "outputs": []
    },
    {
      "cell_type": "code",
      "metadata": {
        "id": "cFjBPHWFs2lK",
        "colab": {
          "base_uri": "https://localhost:8080/"
        },
        "outputId": "9f04cb20-4630-491a-82b2-821f8c6c930a"
      },
      "source": [
        "hola('Javier', 3)"
      ],
      "execution_count": null,
      "outputs": [
        {
          "output_type": "stream",
          "name": "stdout",
          "text": [
            "JavierJavierJavier\n"
          ]
        }
      ]
    },
    {
      "cell_type": "code",
      "metadata": {
        "id": "OGLrt7IKtAKL"
      },
      "source": [
        "def hola2(nombre, saludo = 'Hola'):\n",
        "    print(f'{saludo} {nombre}')"
      ],
      "execution_count": null,
      "outputs": []
    },
    {
      "cell_type": "code",
      "metadata": {
        "id": "wvteMLb2tJUa",
        "colab": {
          "base_uri": "https://localhost:8080/"
        },
        "outputId": "9815ea1a-4f02-475f-9c27-6b0ca8b9f010"
      },
      "source": [
        "hola2('Javier')"
      ],
      "execution_count": null,
      "outputs": [
        {
          "output_type": "stream",
          "name": "stdout",
          "text": [
            "Hola Javier\n"
          ]
        }
      ]
    },
    {
      "cell_type": "code",
      "metadata": {
        "id": "9dRt2pZutQuR"
      },
      "source": [
        "def imprime_numeros(n = 10, para = None):\n",
        "    for i in range(n):\n",
        "        if i == para:\n",
        "            return 'nos detuvimos'\n",
        "        print(i)\n",
        "    \n",
        "    return 'terminamos'\n"
      ],
      "execution_count": null,
      "outputs": []
    },
    {
      "cell_type": "code",
      "metadata": {
        "id": "QrRuBq8itlIi",
        "colab": {
          "base_uri": "https://localhost:8080/"
        },
        "outputId": "49f6565b-83f8-4c91-ff58-cb6147251fc5"
      },
      "source": [
        "algo = imprime_numeros()"
      ],
      "execution_count": null,
      "outputs": [
        {
          "output_type": "stream",
          "name": "stdout",
          "text": [
            "0\n",
            "1\n",
            "2\n",
            "3\n",
            "4\n",
            "5\n",
            "6\n",
            "7\n",
            "8\n",
            "9\n"
          ]
        }
      ]
    },
    {
      "cell_type": "code",
      "source": [
        "algo"
      ],
      "metadata": {
        "colab": {
          "base_uri": "https://localhost:8080/",
          "height": 35
        },
        "id": "mXIb2KUz_jpQ",
        "outputId": "0a881f2b-c402-4f97-d8f2-400287445396"
      },
      "execution_count": null,
      "outputs": [
        {
          "output_type": "execute_result",
          "data": {
            "text/plain": [
              "'terminamos'"
            ],
            "application/vnd.google.colaboratory.intrinsic+json": {
              "type": "string"
            }
          },
          "metadata": {},
          "execution_count": 163
        }
      ]
    },
    {
      "cell_type": "code",
      "metadata": {
        "id": "nQb90UQJ27u6"
      },
      "source": [
        "# Recursividad\n",
        "def factorial(n):\n",
        "    if n == 0:\n",
        "        return 1\n",
        "    return n*factorial(n-1)"
      ],
      "execution_count": null,
      "outputs": []
    },
    {
      "cell_type": "code",
      "metadata": {
        "id": "CZ2R26jW3N_k"
      },
      "source": [
        "valor_obtenido = factorial(4)"
      ],
      "execution_count": null,
      "outputs": []
    },
    {
      "cell_type": "code",
      "source": [
        "valor_obtenido"
      ],
      "metadata": {
        "colab": {
          "base_uri": "https://localhost:8080/"
        },
        "id": "OjA4-unkJ0o-",
        "outputId": "968d60c2-b680-4cc1-e2e6-79657e1531d4"
      },
      "execution_count": null,
      "outputs": [
        {
          "output_type": "execute_result",
          "data": {
            "text/plain": [
              "24"
            ]
          },
          "metadata": {},
          "execution_count": 168
        }
      ]
    },
    {
      "cell_type": "code",
      "source": [
        "def suma_rara(valor1, valor2=2):\n",
        "  valor = valor1 + 2*valor2\n",
        "  return valor, valor-1"
      ],
      "metadata": {
        "id": "0kZ3p3jpJ-Gr"
      },
      "execution_count": null,
      "outputs": []
    },
    {
      "cell_type": "code",
      "source": [
        "valores, valores_1 = suma_rara(3)"
      ],
      "metadata": {
        "id": "GSuJM1OdKJRD"
      },
      "execution_count": null,
      "outputs": []
    },
    {
      "cell_type": "code",
      "source": [
        "valores"
      ],
      "metadata": {
        "colab": {
          "base_uri": "https://localhost:8080/"
        },
        "id": "45GYGI12KRf1",
        "outputId": "0f49d99e-ffb5-4d46-c126-53ce327e4e63"
      },
      "execution_count": null,
      "outputs": [
        {
          "output_type": "execute_result",
          "data": {
            "text/plain": [
              "7"
            ]
          },
          "metadata": {},
          "execution_count": 175
        }
      ]
    },
    {
      "cell_type": "code",
      "source": [
        "valores_1"
      ],
      "metadata": {
        "colab": {
          "base_uri": "https://localhost:8080/"
        },
        "id": "GAfZPLX0KTTq",
        "outputId": "ee4b7e42-aadd-45a1-d0be-ec2a5d0126cc"
      },
      "execution_count": null,
      "outputs": [
        {
          "output_type": "execute_result",
          "data": {
            "text/plain": [
              "6"
            ]
          },
          "metadata": {},
          "execution_count": 176
        }
      ]
    },
    {
      "cell_type": "markdown",
      "metadata": {
        "id": "XcqN0ngeqt7J"
      },
      "source": [
        "## Visualización de datos"
      ]
    },
    {
      "cell_type": "markdown",
      "metadata": {
        "id": "3HjDN79frW2w"
      },
      "source": [
        "Para visualizar datos podemos ocupar el módulo ```matplotlib```. Cabe notar que no es el único módulo para gráficar, pero sí el más fácil de usar. Otro módulo muy usado es [```plotly```](https://plotly.com/python/) que puede crear gráficos interactivos"
      ]
    },
    {
      "cell_type": "code",
      "metadata": {
        "id": "ASnrXzTTvOdj"
      },
      "source": [
        "import matplotlib.pyplot as plt\n",
        "np.random.seed(15)"
      ],
      "execution_count": null,
      "outputs": []
    },
    {
      "cell_type": "markdown",
      "metadata": {
        "id": "GvYXIS96v4Yt"
      },
      "source": [
        "## Histograma"
      ]
    },
    {
      "cell_type": "code",
      "metadata": {
        "id": "LycaCB62vNuK",
        "colab": {
          "base_uri": "https://localhost:8080/"
        },
        "outputId": "688e114d-1f40-4a6f-9c24-e07920bf2ab3"
      },
      "source": [
        "datos = np.random.normal(size = 400)\n",
        "datos"
      ],
      "execution_count": null,
      "outputs": [
        {
          "output_type": "execute_result",
          "data": {
            "text/plain": [
              "array([-3.12328482e-01,  3.39284706e-01, -1.55908534e-01, -5.01789673e-01,\n",
              "        2.35568892e-01, -1.76360526e+00, -1.09586204e+00, -1.08776574e+00,\n",
              "       -3.05170052e-01, -4.73748372e-01, -2.00594539e-01,  3.55196773e-01,\n",
              "        6.89517723e-01,  4.10589675e-01, -5.64978437e-01,  5.99390690e-01,\n",
              "       -1.62936305e-01,  1.60021450e+00,  6.81627204e-01,  1.48801013e-02,\n",
              "       -8.77796322e-02, -9.82117840e-01,  1.21690479e-01, -1.13743729e+00,\n",
              "        3.49002578e-01, -1.85851316e+00, -1.16718189e+00,  1.42489683e+00,\n",
              "        1.49656536e+00,  1.28993206e+00, -1.81174527e+00, -1.49830721e+00,\n",
              "       -1.45014322e+00, -1.69390696e+00,  2.27264028e-01, -4.89734711e-01,\n",
              "       -5.28506514e-04, -4.90252617e-01, -7.93209422e-01,  2.04889876e+00,\n",
              "        6.03185439e-01, -9.98202078e-01,  1.21504155e+00, -6.67516491e-01,\n",
              "       -2.72505777e-01,  1.41677448e+00, -7.82608958e-01, -2.50320697e-01,\n",
              "       -3.08314461e-01,  1.72968803e+00,  1.97827237e+00,  2.19688032e-01,\n",
              "        1.89481985e+00, -1.36809944e+00, -1.91305386e-01,  1.28725753e+00,\n",
              "       -2.46883944e-01,  3.42551082e-01,  2.22717042e-01,  6.81593706e-01,\n",
              "        2.51448885e-01, -1.48184894e+00, -3.86821775e-01, -7.33680711e-01,\n",
              "        5.85978205e-01, -1.73578876e+00, -8.26695212e-01,  1.18383423e+00,\n",
              "        3.55046044e-01,  2.44284991e+00, -3.69254685e-02, -2.71171405e+00,\n",
              "        9.91489633e-01,  1.92242770e-01, -3.52792626e-01, -1.33952283e+00,\n",
              "       -1.88672586e-01,  5.96586647e-01,  3.40454482e-01,  8.34253440e-02,\n",
              "        6.05992122e-01,  1.68937215e-01, -1.03889125e+00,  2.85238084e-01,\n",
              "        5.02391385e-01,  1.93387498e+00,  4.83248779e-02, -1.05176869e+00,\n",
              "        1.16658239e+00,  7.35467175e-01, -5.63129933e-01, -1.21300819e+00,\n",
              "        1.54812816e+00, -1.69787534e+00, -6.31792956e-01,  2.86366603e-01,\n",
              "       -1.04797207e+00, -1.86450226e-01,  4.97554889e-01, -4.04502199e-01,\n",
              "       -1.28410466e+00, -6.14257102e-01, -1.07869380e-01,  1.13362321e+00,\n",
              "       -1.03624629e+00,  1.51135743e+00, -8.68273787e-01,  1.39223060e+00,\n",
              "        2.17509315e+00,  1.29902121e+00, -1.88081362e-01,  1.66902327e+00,\n",
              "        1.15457421e+00,  4.81802396e-01, -1.78037186e-01, -3.86183134e-01,\n",
              "       -1.30074289e-01,  2.35962357e+00,  5.16999712e-01,  4.41354670e-01,\n",
              "       -4.75724547e-01,  3.28382994e-01, -2.82805534e-01, -7.20218945e-01,\n",
              "        8.84588675e-02, -4.72515661e-01,  1.29971965e-01, -1.06833786e-01,\n",
              "       -7.04302805e-01,  5.17177497e-01,  5.80846212e-01, -2.82179205e+00,\n",
              "       -2.49617418e-01, -1.77093757e-01, -2.56335832e-01,  1.27151467e+00,\n",
              "        8.09784028e-02, -4.17940714e-01, -7.66949543e-01,  6.31566106e-01,\n",
              "       -1.62644675e+00, -3.14025273e-01, -6.15472121e-01, -3.98984268e-01,\n",
              "       -3.18563954e-01, -1.18083045e+00, -1.17284370e+00, -5.23205813e-02,\n",
              "       -8.46183890e-01,  1.41449195e+00,  3.35853514e-01, -1.11286049e+00,\n",
              "        5.13106147e-01, -2.28318764e-01,  2.33787366e-01,  1.54159367e+00,\n",
              "        9.18674296e-01, -9.13569124e-01,  5.02448117e-01, -4.28064087e-01,\n",
              "        1.02301209e+00, -3.22204871e-02, -1.59430184e+00, -3.46625972e+00,\n",
              "       -6.77860689e-01, -8.28270940e-01, -7.89141838e-01,  2.17363077e+00,\n",
              "        1.16913480e-01,  8.69209877e-01, -9.51972452e-01,  6.55838623e-01,\n",
              "       -5.54024847e-01, -1.57161544e+00, -3.24940018e-01, -5.43115976e-02,\n",
              "       -1.08560129e+00,  1.42994238e+00,  5.06833958e-02, -1.54651858e+00,\n",
              "       -2.45475861e+00,  7.61347313e-01,  7.91155576e-01,  6.38751797e-01,\n",
              "       -9.22685382e-01, -9.01962048e-01,  5.87375533e-01, -4.11402172e-01,\n",
              "        5.06873874e-03,  6.80073835e-01,  1.12290280e+00, -7.67417183e-01,\n",
              "       -1.51305463e-01,  2.68818087e-01, -6.05659140e-01,  9.81575954e-01,\n",
              "       -1.03729344e+00,  4.73742512e-01, -4.19226173e-01,  1.29051387e+00,\n",
              "        1.45191840e-01, -6.23051612e-01, -2.69255715e-01, -1.24513511e+00,\n",
              "        7.27388647e-01, -1.38485916e-01, -2.07172028e-01,  4.70944360e-01,\n",
              "        5.57052446e-01, -3.74770679e-01, -1.12788246e+00,  1.17112385e+00,\n",
              "        4.52248649e-01,  1.74116531e-01,  8.80931591e-01, -2.41426597e-01,\n",
              "        1.60441582e+00, -1.61384881e-01, -2.04782353e-01,  1.84031574e-01,\n",
              "       -3.03423172e-01, -1.11442766e-01,  1.77008250e-01, -6.51433907e-01,\n",
              "        4.78908774e-01,  9.56847853e-02,  1.98117750e+00, -2.69872307e-01,\n",
              "       -7.15540561e-01, -8.46867429e-01,  4.51804357e-01,  3.28499584e-01,\n",
              "       -8.96613315e-01,  8.83265178e-01, -1.57793062e+00, -8.94427573e-01,\n",
              "       -4.30373815e-01, -2.84448104e-02, -8.47429455e-01,  1.40732819e+00,\n",
              "        1.16421582e+00,  1.70619778e-01,  1.54418283e-01,  9.56198149e-03,\n",
              "        8.55923054e-02,  8.05420519e-01,  8.82914963e-01,  5.23790549e-01,\n",
              "       -3.21153349e-01, -1.45463775e+00, -1.65555653e+00,  2.48738512e-01,\n",
              "       -1.39627125e+00, -5.30414082e-01,  1.13944002e+00,  3.88412621e-01,\n",
              "        1.05311188e-01,  1.60014203e-01,  6.82572393e-01,  6.81193421e-01,\n",
              "       -9.18334329e-01, -1.14637584e+00, -8.36161599e-01, -8.37278805e-02,\n",
              "        2.18955970e+00,  1.89807073e-01,  8.03553697e-02,  1.04510442e+00,\n",
              "        9.21814892e-01, -7.19418761e-01, -2.13849727e+00,  2.59330997e+00,\n",
              "       -4.02176154e-01, -5.54288556e-01,  1.19443515e+00, -1.05083253e+00,\n",
              "       -3.70339350e-01, -1.51160633e+00,  9.17658433e-01, -7.78423602e-01,\n",
              "        4.55627346e-02,  7.56033116e-01, -2.41958437e-01,  2.27398764e+00,\n",
              "       -1.85205981e-01, -1.68299157e+00,  7.39227306e-01,  7.98269322e-01,\n",
              "        8.54735659e-01, -8.13024609e-01, -6.26649593e-01, -1.99881134e-01,\n",
              "        8.03737174e-01, -2.59304156e-01,  1.19964312e+00,  6.87752691e-01,\n",
              "        5.05657864e-01, -9.42888571e-01, -2.05270649e+00, -4.28597483e-03,\n",
              "        1.24996363e+00,  7.59761834e-01, -1.03583219e+00,  6.10614833e-01,\n",
              "       -8.48716028e-02,  3.95389845e-01, -1.34293696e+00, -1.13880190e+00,\n",
              "       -3.53575693e-01,  1.05640215e+00, -4.76943655e-01, -1.55566599e-02,\n",
              "        1.21959898e+00, -6.11289570e-01, -5.86190286e-01, -7.65630111e-01,\n",
              "        1.10829077e+00, -5.85745374e-01, -1.46821813e+00, -7.39171298e-01,\n",
              "        1.68487391e-01,  9.34814456e-02,  5.02783440e-01,  1.14640309e+00,\n",
              "        2.12301248e-01, -5.59704168e-01, -1.98392087e+00,  1.65328710e-01,\n",
              "        7.05072699e-01,  4.24757562e-01,  5.06070094e-01, -7.23604444e-01,\n",
              "        5.33213229e-01, -1.83036927e+00, -1.52840499e+00, -1.86949348e+00,\n",
              "        7.81879879e-01,  6.46062655e-01,  6.38684564e-01,  1.69878718e+00,\n",
              "       -1.24706616e+00,  2.57464725e-01, -4.10707858e-01, -7.18842784e-01,\n",
              "        7.70557068e-01, -4.01575469e-01, -1.09640949e+00,  7.27909470e-01,\n",
              "       -4.98431240e-01, -1.41303925e-01,  8.25853351e-01, -3.27747145e-01,\n",
              "       -3.79066920e-01,  3.73144054e-01,  1.61165248e+00, -1.63808870e+00,\n",
              "        1.64838597e+00,  9.85603101e-01,  4.42198545e-01,  5.80467287e-01,\n",
              "       -1.22873400e+00,  3.81003994e-01,  1.08076183e+00,  1.16765206e-01,\n",
              "       -1.56948555e+00, -3.19835512e-01, -1.42546408e+00, -1.27528006e+00,\n",
              "       -1.12229590e+00,  7.94460946e-01,  1.52788009e+00, -2.00371541e-01,\n",
              "        1.07772890e+00, -5.97182078e-01, -4.35254316e-01,  1.21800532e+00,\n",
              "        2.16365306e+00,  1.23592114e+00, -2.53478242e+00, -4.51652396e-01,\n",
              "        1.76614453e-01,  1.72604030e-01, -1.00176506e+00,  2.67147758e+00,\n",
              "       -1.98712012e+00, -9.20552611e-02, -1.00732405e+00, -4.18640409e-01,\n",
              "       -7.79749960e-02, -7.79220767e-01,  7.04264343e-02, -1.76497698e+00,\n",
              "       -1.09820719e+00,  2.54699898e-01, -1.41801990e+00,  3.08483119e-01,\n",
              "       -6.95547976e-01, -1.30541217e+00, -6.60078776e-02, -8.27229420e-01])"
            ]
          },
          "metadata": {},
          "execution_count": 179
        }
      ]
    },
    {
      "cell_type": "code",
      "metadata": {
        "id": "-nfEHvjqvaAV",
        "colab": {
          "base_uri": "https://localhost:8080/",
          "height": 352
        },
        "outputId": "e0fbab07-9867-498e-b3b6-98d6a5e36a97"
      },
      "source": [
        "plt.hist(datos)"
      ],
      "execution_count": null,
      "outputs": [
        {
          "output_type": "execute_result",
          "data": {
            "text/plain": [
              "(array([ 1.,  4., 17., 46., 78., 99., 85., 44., 17.,  9.]),\n",
              " array([-3.46625972, -2.85248599, -2.23871226, -1.62493853, -1.0111648 ,\n",
              "        -0.39739107,  0.21638266,  0.83015639,  1.44393012,  2.05770385,\n",
              "         2.67147758]),\n",
              " <a list of 10 Patch objects>)"
            ]
          },
          "metadata": {},
          "execution_count": 180
        },
        {
          "output_type": "display_data",
          "data": {
            "text/plain": [
              "<Figure size 432x288 with 1 Axes>"
            ],
            "image/png": "[encoded data removed]"
          },
          "metadata": {
            "needs_background": "light"
          }
        }
      ]
    },
    {
      "cell_type": "markdown",
      "metadata": {
        "id": "lg7qTugmv7B5"
      },
      "source": [
        "## Gráfica de dispersión"
      ]
    },
    {
      "cell_type": "code",
      "metadata": {
        "id": "kENqQWTCv1MZ",
        "colab": {
          "base_uri": "https://localhost:8080/",
          "height": 282
        },
        "outputId": "b49f4da4-45df-4cdd-9623-54055361299a"
      },
      "source": [
        "# Generamos 200 números aleatorios de 0 a 1, los escalamos para que lleguen de 0 a 10 y luego los trasladamos para que queden entre -5 y 5\n",
        "x = np.random.rand(200) * 10 - 5\n",
        "# Hacemos que y igual a x al cubo y agregamos algo de ruido blanco gaussiano\n",
        "y = x**3 + np.random.normal(0, 20, 200)\n",
        "\n",
        "plt.scatter(x, y)"
      ],
      "execution_count": null,
      "outputs": [
        {
          "output_type": "execute_result",
          "data": {
            "text/plain": [
              "<matplotlib.collections.PathCollection at 0x7fd043394880>"
            ]
          },
          "metadata": {},
          "execution_count": 181
        },
        {
          "output_type": "display_data",
          "data": {
            "text/plain": [
              "<Figure size 432x288 with 1 Axes>"
            ],
            "image/png": "[encoded data removed]"
          },
          "metadata": {
            "needs_background": "light"
          }
        }
      ]
    },
    {
      "cell_type": "code",
      "metadata": {
        "id": "T21ElJLiv8UB",
        "colab": {
          "base_uri": "https://localhost:8080/"
        },
        "outputId": "7acdc62b-a7eb-4b92-a1e9-362d4db8ab84"
      },
      "source": [
        "x"
      ],
      "execution_count": null,
      "outputs": [
        {
          "output_type": "execute_result",
          "data": {
            "text/plain": [
              "array([ 5.91880332e-02,  2.45028750e+00, -1.06923767e+00,  1.76494346e+00,\n",
              "        3.78829870e+00,  3.80940687e+00, -1.90459801e-01,  3.75617492e+00,\n",
              "       -2.65391968e+00,  3.12290910e+00,  1.08455575e+00,  5.93661132e-01,\n",
              "       -2.57986207e+00, -2.25715230e+00, -4.90620578e+00, -3.97203441e+00,\n",
              "       -4.51957371e+00, -3.82545497e+00, -6.02216169e-01,  1.04073641e+00,\n",
              "       -4.11707519e+00, -1.32839523e+00, -7.10897761e-01, -2.24986413e+00,\n",
              "        2.93945470e+00, -4.89675626e+00, -1.25772921e+00, -1.17813958e-01,\n",
              "        1.51446763e-01,  3.82260839e+00, -1.47671806e-02, -7.74398446e-01,\n",
              "       -5.42476226e-01,  1.09089739e+00,  2.51863064e+00,  2.43630758e-02,\n",
              "        3.39457783e-01, -6.78900786e-01,  7.40999403e-01,  9.24720178e-01,\n",
              "        1.39397281e+00, -2.46916171e+00,  2.74288358e+00, -4.15038263e-01,\n",
              "       -1.27147601e+00,  3.20911758e+00, -3.94126517e+00, -3.36578891e-01,\n",
              "       -2.88562596e+00, -3.63537170e+00, -4.87821220e+00, -3.37685861e-01,\n",
              "        1.41616093e-01, -4.17774283e+00, -8.60844940e-01, -4.58840418e+00,\n",
              "        2.21362553e+00, -1.41882085e+00,  1.72018576e+00,  1.79649311e+00,\n",
              "        6.09253217e-01, -3.56589627e+00,  8.50078929e-02, -4.82507200e+00,\n",
              "        3.45633678e+00,  2.03295925e+00,  2.28610860e+00, -1.65364435e+00,\n",
              "        1.58976143e+00,  1.73387704e+00,  1.25593355e+00, -4.22250005e+00,\n",
              "       -4.32753698e+00,  3.77387825e-03, -4.59063155e+00, -3.41120622e+00,\n",
              "       -3.48964130e-01, -4.13443064e+00, -1.81469494e+00, -1.35367721e+00,\n",
              "       -1.47035564e+00, -4.66159615e+00, -3.27286045e+00, -4.30647147e+00,\n",
              "        1.92625862e+00,  1.03106109e+00,  5.94958707e-01, -3.17663101e+00,\n",
              "       -3.00922298e+00,  1.74422500e+00,  5.14555987e-01, -4.74501870e+00,\n",
              "        3.97547458e+00, -1.67659834e+00, -3.72718018e+00, -3.97385913e+00,\n",
              "        7.49694715e-01,  6.37650722e-01, -4.32454102e+00, -1.95561228e+00,\n",
              "       -9.47426364e-01,  3.76530956e+00,  4.31439913e+00, -5.00435672e-01,\n",
              "        2.00009028e+00, -1.20627580e+00,  3.18517848e+00, -3.46839194e+00,\n",
              "        1.81677215e+00, -4.03286353e+00, -1.60970133e+00, -7.55113916e-01,\n",
              "       -4.04270414e+00,  3.76018579e+00,  2.40997567e+00, -3.50066014e+00,\n",
              "        7.64802277e-01, -2.34037416e+00, -4.44373622e-01,  2.37739171e+00,\n",
              "       -1.57905130e+00,  3.88986561e+00, -9.38478843e-01,  3.80780671e+00,\n",
              "       -3.75004984e+00, -4.13384633e+00, -3.09444937e-01, -1.31785992e+00,\n",
              "       -4.42512827e-01,  3.34628099e+00,  1.36402312e+00, -3.98510405e+00,\n",
              "        1.06539589e+00, -9.28617532e-01,  1.63510461e+00, -3.23666436e+00,\n",
              "       -3.75712456e+00,  2.87881731e+00,  1.48339735e-01, -3.25200305e+00,\n",
              "       -3.85904100e+00, -3.15886676e+00, -4.31310002e-03, -1.99109868e+00,\n",
              "       -1.74966411e+00, -4.64117195e+00, -4.38885713e+00, -4.01673301e-01,\n",
              "        6.10544797e-01, -2.98367928e+00, -1.77205454e+00, -2.16112286e+00,\n",
              "        3.50936051e+00, -4.94034533e+00,  2.49308302e+00, -4.37634273e-02,\n",
              "        3.17435551e+00,  1.62013439e+00, -3.09797977e+00, -3.62717519e+00,\n",
              "        2.41037641e+00,  3.98336402e+00,  4.11228880e+00,  2.32636797e+00,\n",
              "       -5.34487705e-01, -4.82961954e+00, -9.00501201e-01,  4.91904243e+00,\n",
              "        2.56270604e+00, -1.45858833e-02,  2.42563619e+00,  4.62827803e+00,\n",
              "        3.13394580e+00, -3.86892630e+00,  2.56110052e+00,  2.59222459e+00,\n",
              "       -1.84194317e+00,  8.21292339e-01, -4.33885264e+00, -2.26050360e+00,\n",
              "       -3.54275418e+00,  4.01080636e+00,  1.80612135e+00,  4.96701440e+00,\n",
              "        3.95599919e+00, -2.81951896e+00,  3.68633852e+00, -3.95711750e+00,\n",
              "       -4.49634112e+00, -4.74055984e+00,  1.48228022e+00,  3.82192960e+00,\n",
              "       -2.22252721e+00, -3.95215370e+00, -2.17479466e+00,  4.95647279e+00,\n",
              "       -1.02779358e+00, -1.72767603e+00, -1.44085415e-02,  3.26508433e+00])"
            ]
          },
          "metadata": {},
          "execution_count": 182
        }
      ]
    },
    {
      "cell_type": "code",
      "metadata": {
        "id": "efXA_XZNxFCB",
        "colab": {
          "base_uri": "https://localhost:8080/",
          "height": 282
        },
        "outputId": "f205a9f6-4220-4b0a-d3e5-6456cc8e18db"
      },
      "source": [
        "# Se ocupa la variable y para asignale color a los datos\n",
        "plt.scatter(x, y, c = y)"
      ],
      "execution_count": null,
      "outputs": [
        {
          "output_type": "execute_result",
          "data": {
            "text/plain": [
              "<matplotlib.collections.PathCollection at 0x7fd043374e20>"
            ]
          },
          "metadata": {},
          "execution_count": 183
        },
        {
          "output_type": "display_data",
          "data": {
            "text/plain": [
              "<Figure size 432x288 with 1 Axes>"
            ],
            "image/png": "[encoded data removed]"
          },
          "metadata": {
            "needs_background": "light"
          }
        }
      ]
    },
    {
      "cell_type": "code",
      "metadata": {
        "id": "ZrGUBk8ixNvq",
        "colab": {
          "base_uri": "https://localhost:8080/",
          "height": 282
        },
        "outputId": "446b5a8d-eb08-4735-a504-9cf8f030ac2c"
      },
      "source": [
        "# Se elige otra paleta de colores\n",
        "plt.scatter(x, y, c = y, cmap = 'plasma')"
      ],
      "execution_count": null,
      "outputs": [
        {
          "output_type": "execute_result",
          "data": {
            "text/plain": [
              "<matplotlib.collections.PathCollection at 0x7fd0432d49d0>"
            ]
          },
          "metadata": {},
          "execution_count": 184
        },
        {
          "output_type": "display_data",
          "data": {
            "text/plain": [
              "<Figure size 432x288 with 1 Axes>"
            ],
            "image/png": "[encoded data removed]"
          },
          "metadata": {
            "needs_background": "light"
          }
        }
      ]
    },
    {
      "cell_type": "markdown",
      "metadata": {
        "id": "POig-3gn0z40"
      },
      "source": [
        "## Lineas"
      ]
    },
    {
      "cell_type": "code",
      "metadata": {
        "id": "DtVFSCOh0zSl",
        "colab": {
          "base_uri": "https://localhost:8080/",
          "height": 367
        },
        "outputId": "90c95c13-c412-4410-b537-d02d124bb8f1"
      },
      "source": [
        "# Generamos datos\n",
        "x = np.linspace(0, 10, 100)\n",
        "y = x + 1/3*np.sin(x * 2) - np.cos(x) - 1/7 * np.sin(np.sqrt(x)) + np.random.normal(0, 2, 100)\n",
        "\n",
        "plt.figure(figsize=(10, 5))\n",
        "plt.plot(x, y)\n",
        "plt.title('Gráfica con datos simulados')\n",
        "plt.xlabel('Tiempo')\n",
        "plt.ylabel('Precio')\n"
      ],
      "execution_count": null,
      "outputs": [
        {
          "output_type": "execute_result",
          "data": {
            "text/plain": [
              "Text(0, 0.5, 'Precio')"
            ]
          },
          "metadata": {},
          "execution_count": 187
        },
        {
          "output_type": "display_data",
          "data": {
            "text/plain": [
              "<Figure size 720x360 with 1 Axes>"
            ],
            "image/png": "[encoded data removed]"
          },
          "metadata": {
            "needs_background": "light"
          }
        }
      ]
    },
    {
      "cell_type": "code",
      "metadata": {
        "id": "BsA55Cn9yUhq"
      },
      "source": [
        "y"
      ],
      "execution_count": null,
      "outputs": []
    },
    {
      "cell_type": "markdown",
      "metadata": {
        "id": "xy9fyqzfO1f_"
      },
      "source": [
        "# Ejercicios"
      ]
    },
    {
      "cell_type": "markdown",
      "metadata": {
        "id": "VrjKsthQO5j6"
      },
      "source": [
        "## 1. Crear un condicional que imprima si un número es par o impar\n",
        "\n",
        "Definir una variable con un número antes del if\n",
        "\n",
        "**Pista**: un número es par si módulo 2 es igual a cero"
      ]
    },
    {
      "cell_type": "code",
      "metadata": {
        "id": "YzwesUwWSZAd"
      },
      "source": [
        "print(3 % 2)\n",
        "4 % 2"
      ],
      "execution_count": null,
      "outputs": []
    },
    {
      "cell_type": "markdown",
      "metadata": {
        "id": "Bu9NtDbuPE19"
      },
      "source": [
        "## 2. Crear un ciclo que imprima todos los números de 1 a n\n",
        "\n",
        "definir n como variable y utilizarla para el ciclo"
      ]
    },
    {
      "cell_type": "markdown",
      "metadata": {
        "id": "C-JOwlJ3POP7"
      },
      "source": [
        "## 3. Crear un ciclo que imprima todos los números pares del uno al n"
      ]
    },
    {
      "cell_type": "markdown",
      "metadata": {
        "id": "kPmzm_gVPTeW"
      },
      "source": [
        "## 4. Crear un ciclo que imprima todos los números impares de 5 a n para n > 5\n",
        "\n",
        "Revisar que n sea mayor a 5 antes de entrar al ciclo, si no lo es, imprimir \"n debe ser mayor a 5\""
      ]
    },
    {
      "cell_type": "markdown",
      "metadata": {
        "id": "DkSEEWQ5Pfqo"
      },
      "source": [
        "## 5. Con un ciclo, crear la siguiente lista: 1, 4, 9, 16, 25, 36 con el método \".append()\""
      ]
    },
    {
      "cell_type": "markdown",
      "metadata": {
        "id": "S3O8b805Pfh2"
      },
      "source": [
        "## 6. Hacer el ejercicio anterior con list comprehension"
      ]
    },
    {
      "cell_type": "markdown",
      "metadata": {
        "id": "sOJ6fC_9PfSl"
      },
      "source": [
        "## 7. Imprimir, linea por linea, el siguiente patrón 3 veces con un ciclo y el operador módulo\n",
        "\n",
        "a \\\\\n",
        "aa \\\\\n",
        "aaa \\\\\n",
        "aaaa \\\\\n",
        "a \\\\\n",
        "aa \\\\\n",
        "aaa \\\\\n",
        "aaaa \\\\\n",
        "\n",
        "\n",
        "**Pista**: Ocupar la siguiente propiedad de las cadenas"
      ]
    },
    {
      "cell_type": "code",
      "metadata": {
        "id": "8H6bty3MR8kC"
      },
      "source": [
        "\"a\" * 5 "
      ],
      "execution_count": null,
      "outputs": []
    },
    {
      "cell_type": "markdown",
      "metadata": {
        "id": "SMDVgmUdS9lz"
      },
      "source": [
        "## 8. Crear una lista sólo con los elementos mayores a n de la siguiente lista.\n",
        "\n",
        "1, 34, 2, 4, 6, 8, 5, 7, 345, 23\n",
        "\n",
        "Con n una variable\n",
        "\n",
        "```python\n",
        "n = 23\n",
        "\n",
        "<bloque del codigo>\n",
        "```"
      ]
    },
    {
      "cell_type": "markdown",
      "metadata": {
        "id": "sEWXKlYVFCu6"
      },
      "source": [
        "## 9. Crear un ciclo que imprima todos los múltiplos de m hasta n\n",
        "\n",
        "E.g. para m = 2 y n = 6 la salida debería ser\n",
        "\n",
        "2 \\\\\n",
        "4 \\\\\n",
        "6 \\\\\n",
        "8 \\\\\n",
        "10 \\\\\n",
        "12"
      ]
    },
    {
      "cell_type": "markdown",
      "metadata": {
        "id": "levMdXnVSW-1"
      },
      "source": [
        "## 10. Ejercicios un poco más complicados\n",
        "\n",
        "- https://www.codechef.com/problems/EID\n",
        "\n",
        "[1, 2, 4, 56, 6, 5, 4, 56, 6]\n",
        "\n",
        "la diferencia minima entre dos elementos distintos de la lista\n",
        "\n",
        "\n",
        "- https://www.codechef.com/problems/CHEGLOVE\n",
        "\n",
        "```python\n",
        "listaA = [7, 2, 3] # Mano\n",
        "listaB = [4, 5, 6] # Guante\n",
        "\n",
        "len(listaA) == len(listaB) # True\n",
        "\n",
        "# Si los elementos de a son menores a los elementos de b element-wise, entonces imprimir\n",
        "print('Queda bien')\n",
        "# Si no, \"voltear el guante\" y hacer la misma verificacion\n",
        "print('Se volteo y todo bien')\n",
        "\n",
        "# Si aun no queda bien\n",
        "print('NO le quedo el guante')\n",
        "\n",
        "```\n",
        "- https://www.codechef.com/problems/SEGM01\n",
        "\n",
        "```python\n",
        "cadena = '000011100111'\n",
        "# Si todos los 1's forman un bloque\n",
        "print(True)\n",
        "# Si no, i.e. hay un cero en medio\n",
        "print(False)\n",
        "\n",
        "```\n",
        "\n",
        "- https://www.codechef.com/problems/HOWMANY\n",
        "\n",
        "```python\n",
        "n = 5454\n",
        "\n",
        "<bloque de código>\n",
        ">> 4\n",
        "```\n",
        "\n",
        "```python\n",
        "str(n) #5454\n",
        "```\n",
        "- https://www.codechef.com/problems/SINS\n",
        "\n",
        "```python\n",
        "m = 11\n",
        "b = 5\n",
        "\n",
        "m, b\n",
        "11, 5\n",
        "6, 5\n",
        "1, 5\n",
        "1, 4\n",
        "1, 3\n",
        "1, 2\n",
        "1, 1\n",
        "\n",
        "# La salida del programa\n",
        "print(m + b)\n",
        "```"
      ]
    },
    {
      "cell_type": "markdown",
      "source": [
        "# 11. Creación de las siguientes funciones"
      ],
      "metadata": {
        "id": "tJH4NVud_G8O"
      }
    },
    {
      "cell_type": "markdown",
      "metadata": {
        "id": "syB6-ykE2sji"
      },
      "source": [
        " - Crear una función para calcular la media (promedio) de una lista\n",
        "\n",
        "\n"
      ]
    },
    {
      "cell_type": "markdown",
      "metadata": {
        "id": "0tpnnSyV2xSg"
      },
      "source": [
        "- Otra para la varianza"
      ]
    },
    {
      "cell_type": "markdown",
      "metadata": {
        "id": "8auj_5pT208G"
      },
      "source": [
        "Los ejercicios 1, 2, 3, 7, 8, 9, convertirlos en funciones"
      ]
    },
    {
      "cell_type": "markdown",
      "metadata": {
        "id": "8YI5H3AWONHW"
      },
      "source": [
        "# Ligas últiles"
      ]
    },
    {
      "cell_type": "markdown",
      "metadata": {
        "id": "sFVNgYduOQNg"
      },
      "source": [
        "- [operadores](https://www.w3schools.com/python/python_operators.asp)\n",
        "- [list comprehension](https://www.w3schools.com/python/python_lists_comprehension.asp)"
      ]
    },
    {
      "cell_type": "markdown",
      "source": [
        "Extra: Comparativos no mencionados atras"
      ],
      "metadata": {
        "id": "Vr53sRkHBgNu"
      }
    },
    {
      "cell_type": "code",
      "source": [
        "True or False"
      ],
      "metadata": {
        "colab": {
          "base_uri": "https://localhost:8080/"
        },
        "id": "O2SKdRbVBElh",
        "outputId": "701e8475-01fe-4d3c-fb6c-d1fb6741ccac"
      },
      "execution_count": null,
      "outputs": [
        {
          "output_type": "execute_result",
          "data": {
            "text/plain": [
              "True"
            ]
          },
          "metadata": {},
          "execution_count": 188
        }
      ]
    },
    {
      "cell_type": "code",
      "source": [
        "False or False"
      ],
      "metadata": {
        "colab": {
          "base_uri": "https://localhost:8080/"
        },
        "id": "0dkTeDHnBG-s",
        "outputId": "ef9938de-b449-42ef-966e-ac98436d33d1"
      },
      "execution_count": null,
      "outputs": [
        {
          "output_type": "execute_result",
          "data": {
            "text/plain": [
              "False"
            ]
          },
          "metadata": {},
          "execution_count": 189
        }
      ]
    },
    {
      "cell_type": "code",
      "source": [
        "True and False"
      ],
      "metadata": {
        "colab": {
          "base_uri": "https://localhost:8080/"
        },
        "id": "PsIpmxigBJ9F",
        "outputId": "72f1b499-7f9f-43af-e081-ec625f0f04aa"
      },
      "execution_count": null,
      "outputs": [
        {
          "output_type": "execute_result",
          "data": {
            "text/plain": [
              "False"
            ]
          },
          "metadata": {},
          "execution_count": 190
        }
      ]
    },
    {
      "cell_type": "code",
      "source": [
        "(True | False) & True"
      ],
      "metadata": {
        "colab": {
          "base_uri": "https://localhost:8080/"
        },
        "id": "6KByTG71BMC7",
        "outputId": "7ac9b65c-5fcf-4d22-9d6d-aca4f64daf79"
      },
      "execution_count": null,
      "outputs": [
        {
          "output_type": "execute_result",
          "data": {
            "text/plain": [
              "True"
            ]
          },
          "metadata": {},
          "execution_count": 194
        }
      ]
    },
    {
      "cell_type": "code",
      "source": [
        "True & True"
      ],
      "metadata": {
        "colab": {
          "base_uri": "https://localhost:8080/"
        },
        "id": "wI9u5yn_BOp0",
        "outputId": "ee27bb4d-d9e7-474e-fdd9-f134283655ec"
      },
      "execution_count": null,
      "outputs": [
        {
          "output_type": "execute_result",
          "data": {
            "text/plain": [
              "True"
            ]
          },
          "metadata": {},
          "execution_count": 193
        }
      ]
    },
    {
      "cell_type": "code",
      "source": [
        "try:\n",
        "  print(algo2)\n",
        "except:\n",
        "  print('no existe la variable')"
      ],
      "metadata": {
        "colab": {
          "base_uri": "https://localhost:8080/"
        },
        "id": "BZYUPfGhCDR6",
        "outputId": "b2ba0cd0-6644-4441-a668-32f2e66a7723"
      },
      "execution_count": null,
      "outputs": [
        {
          "output_type": "stream",
          "name": "stdout",
          "text": [
            "no existe la variable\n"
          ]
        }
      ]
    },
    {
      "cell_type": "code",
      "source": [
        "print(algo2)"
      ],
      "metadata": {
        "id": "7NbR_Hh-Ceoy",
        "outputId": "3f3143e7-f1f7-44c4-aca5-309a33d5e3e2",
        "colab": {
          "base_uri": "https://localhost:8080/",
          "height": 165
        }
      },
      "execution_count": null,
      "outputs": [
        {
          "output_type": "error",
          "ename": "NameError",
          "evalue": "ignored",
          "traceback": [
            "\u001b[0;31m---------------------------------------------------------------------------\u001b[0m",
            "\u001b[0;31mNameError\u001b[0m                                 Traceback (most recent call last)",
            "\u001b[0;32m<ipython-input-197-1e944f86adae>\u001b[0m in \u001b[0;36m<module>\u001b[0;34m\u001b[0m\n\u001b[0;32m----> 1\u001b[0;31m \u001b[0mprint\u001b[0m\u001b[0;34m(\u001b[0m\u001b[0malgo2\u001b[0m\u001b[0;34m)\u001b[0m\u001b[0;34m\u001b[0m\u001b[0;34m\u001b[0m\u001b[0m\n\u001b[0m",
            "\u001b[0;31mNameError\u001b[0m: name 'algo2' is not defined"
          ]
        }
      ]
    }
  ]
}