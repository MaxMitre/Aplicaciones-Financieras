{
  "nbformat": 4,
  "nbformat_minor": 0,
  "metadata": {
    "colab": {
      "provenance": [],
      "collapsed_sections": []
    },
    "kernelspec": {
      "name": "python3",
      "display_name": "Python 3"
    },
    "language_info": {
      "name": "python"
    }
  },
  "cells": [
    {
      "cell_type": "markdown",
      "source": [
        "[![Open In Colab](https://colab.research.google.com/assets/colab-badge.svg)](https://colab.research.google.com/github/MaxMitre/Aplicaciones-Financieras/blob/main/Semana1/Python_Basico_Numpy.ipynb\n",
        ")"
      ],
      "metadata": {
        "id": "JJHcPvqIk-OR"
      }
    },
    {
      "cell_type": "markdown",
      "source": [
        "Esta sesión servirá para introducir a los estudiantes a Python (de modo breve), así como a las librerias de NumPy y Matplotlib, que serán de las mas utilizadas todo el curso."
      ],
      "metadata": {
        "id": "u20ZY7ykkjts"
      }
    },
    {
      "cell_type": "markdown",
      "source": [
        "# Básico de Python"
      ],
      "metadata": {
        "id": "kvc3M2nAkzkA"
      }
    },
    {
      "cell_type": "markdown",
      "source": [
        "## Variables"
      ],
      "metadata": {
        "id": "iN-PCU9jpUzf"
      }
    },
    {
      "cell_type": "code",
      "metadata": {
        "id": "iH6GvJ97zA5A"
      },
      "source": [
        "# Creación de variables y tipos\n",
        "texto = 'Hola mundo'\n",
        "enteros = 2\n",
        "flotantes = 1.34\n",
        "booleanos = True"
      ],
      "execution_count": null,
      "outputs": []
    },
    {
      "cell_type": "code",
      "metadata": {
        "id": "DA2zzjkHzFLD",
        "colab": {
          "base_uri": "https://localhost:8080/"
        },
        "outputId": "247a869d-cac1-486e-eaf9-92053463dac4"
      },
      "source": [
        "print(texto)\n",
        "print(enteros)\n",
        "print(flotantes)\n",
        "print(booleanos)"
      ],
      "execution_count": null,
      "outputs": [
        {
          "output_type": "stream",
          "name": "stdout",
          "text": [
            "Hola mundo\n",
            "2\n",
            "1.34\n",
            "True\n"
          ]
        }
      ]
    },
    {
      "cell_type": "code",
      "source": [
        "type(texto)"
      ],
      "metadata": {
        "colab": {
          "base_uri": "https://localhost:8080/"
        },
        "id": "8HliA2Sy7n58",
        "outputId": "d0b24483-350b-404b-cf16-63f5dd2f7a9c"
      },
      "execution_count": null,
      "outputs": [
        {
          "output_type": "execute_result",
          "data": {
            "text/plain": [
              "str"
            ]
          },
          "metadata": {},
          "execution_count": 3
        }
      ]
    },
    {
      "cell_type": "markdown",
      "source": [
        "**Importante:** Los nombres de las variables son sensibles a mayúsuculas, deben comenzar con una letra de la A a la Z o guión bajo (_) y no pueden ser llamadas igual a las palabras reservadas."
      ],
      "metadata": {
        "id": "HoSeyFIAvr64"
      }
    },
    {
      "cell_type": "code",
      "source": [
        "# Ejemplos de sensibilidad a las mayúsculas\n",
        "Texto = 'Esta variable inicia con una mayúscula'\n",
        "texto = 'Esta variable no'\n",
        "TexTO = 'Esta variable tiene mayúsculas al final'\n",
        "\n",
        "print(Texto)"
      ],
      "metadata": {
        "id": "g2Zsor5mv7AI",
        "colab": {
          "base_uri": "https://localhost:8080/"
        },
        "outputId": "fe77a025-2488-41a1-f949-e53ccb510d0e"
      },
      "execution_count": null,
      "outputs": [
        {
          "output_type": "stream",
          "name": "stdout",
          "text": [
            "Esta variable inicia con una mayúscula\n"
          ]
        }
      ]
    },
    {
      "cell_type": "code",
      "execution_count": null,
      "metadata": {
        "id": "s5u7YmikzwFJ",
        "colab": {
          "base_uri": "https://localhost:8080/"
        },
        "outputId": "ba312e96-77c8-4c2b-cd3d-19e89bd738cf"
      },
      "outputs": [
        {
          "output_type": "stream",
          "name": "stdout",
          "text": [
            "False, None, True, and, as, assert, async, await, break, class, continue, def, del, elif, else, except, finally, for, from, global, if, import, in, is, lambda, nonlocal, not, or, pass, raise, return, try, while, with, yield\n"
          ]
        }
      ],
      "source": [
        "# Palabras reservadas (no pueden utilizarse para creación de variables)\n",
        "import keyword\n",
        "\n",
        "print(', '.join(keyword.kwlist))"
      ]
    },
    {
      "cell_type": "markdown",
      "source": [
        "Algunos errores que podemos encontrar"
      ],
      "metadata": {
        "id": "TpvMMU81wEkq"
      }
    },
    {
      "cell_type": "code",
      "source": [
        "# Ejemplos de nombres inválidos\n",
        "# No inician con letras o guion bajo\n",
        "3var = 3 \n",
        ".var = 3"
      ],
      "metadata": {
        "id": "apr7Wa7klpi7",
        "colab": {
          "base_uri": "https://localhost:8080/",
          "height": 131
        },
        "outputId": "ca4144fc-368d-4b71-9048-8ccd1f07ce12"
      },
      "execution_count": null,
      "outputs": [
        {
          "output_type": "error",
          "ename": "SyntaxError",
          "evalue": "ignored",
          "traceback": [
            "\u001b[0;36m  File \u001b[0;32m\"<ipython-input-7-f2c5d0e08da3>\"\u001b[0;36m, line \u001b[0;32m3\u001b[0m\n\u001b[0;31m    3var = 3\u001b[0m\n\u001b[0m       ^\u001b[0m\n\u001b[0;31mSyntaxError\u001b[0m\u001b[0;31m:\u001b[0m invalid syntax\n"
          ]
        }
      ]
    },
    {
      "cell_type": "code",
      "source": [
        "# No pueden usarse palabras reservadas\n",
        "async = 3"
      ],
      "metadata": {
        "id": "I6mELTDxwCqa",
        "colab": {
          "base_uri": "https://localhost:8080/",
          "height": 131
        },
        "outputId": "a24a2565-53c9-46b0-a0e0-d686c226beb8"
      },
      "execution_count": null,
      "outputs": [
        {
          "output_type": "error",
          "ename": "SyntaxError",
          "evalue": "ignored",
          "traceback": [
            "\u001b[0;36m  File \u001b[0;32m\"<ipython-input-8-f1d27d382cc6>\"\u001b[0;36m, line \u001b[0;32m2\u001b[0m\n\u001b[0;31m    async = 3\u001b[0m\n\u001b[0m          ^\u001b[0m\n\u001b[0;31mSyntaxError\u001b[0m\u001b[0;31m:\u001b[0m invalid syntax\n"
          ]
        }
      ]
    },
    {
      "cell_type": "markdown",
      "source": [
        "# Cadenas"
      ],
      "metadata": {
        "id": "HTh2fXj0zR5M"
      }
    },
    {
      "cell_type": "markdown",
      "source": [
        "¿Comillas dobles o sencillas para crear cadenas? Ambas"
      ],
      "metadata": {
        "id": "SYaVfYsWytU0"
      }
    },
    {
      "cell_type": "code",
      "source": [
        "cadena1 = 'algo'\n",
        "cadena2 = \"algo\""
      ],
      "metadata": {
        "id": "9kD__A0Ny0Jb"
      },
      "execution_count": null,
      "outputs": []
    },
    {
      "cell_type": "code",
      "source": [
        "print(cadena1)\n",
        "print(cadena2)"
      ],
      "metadata": {
        "id": "Dz18C16-y5kH",
        "colab": {
          "base_uri": "https://localhost:8080/"
        },
        "outputId": "bcb7ee58-9c90-485e-f7e5-475b38ae5a53"
      },
      "execution_count": null,
      "outputs": [
        {
          "output_type": "stream",
          "name": "stdout",
          "text": [
            "algo\n",
            "algo\n"
          ]
        }
      ]
    },
    {
      "cell_type": "markdown",
      "source": [
        "Podemos sumar y multiplicar cadenas"
      ],
      "metadata": {
        "id": "UtDNumKqzV9a"
      }
    },
    {
      "cell_type": "code",
      "source": [
        "cadena3 = \"alguna cosa\"\n",
        "print(cadena1 + cadena3)\n",
        "print(cadena3*3)"
      ],
      "metadata": {
        "id": "I-GBFxh6zYF5",
        "colab": {
          "base_uri": "https://localhost:8080/"
        },
        "outputId": "f96d0691-0bfb-459c-9e0c-52a5347c3d51"
      },
      "execution_count": null,
      "outputs": [
        {
          "output_type": "stream",
          "name": "stdout",
          "text": [
            "algoalguna cosa\n",
            "alguna cosaalguna cosaalguna cosa\n"
          ]
        }
      ]
    },
    {
      "cell_type": "markdown",
      "source": [
        "Cambios para cadenas de caracteres"
      ],
      "metadata": {
        "id": "vBGtbD5uwRXT"
      }
    },
    {
      "cell_type": "code",
      "source": [
        "texto.lower()"
      ],
      "metadata": {
        "id": "RdGMtt3BmPQA",
        "colab": {
          "base_uri": "https://localhost:8080/",
          "height": 35
        },
        "outputId": "3658490d-a473-44d6-b2ae-47a0f5cab952"
      },
      "execution_count": null,
      "outputs": [
        {
          "output_type": "execute_result",
          "data": {
            "text/plain": [
              "'esta variable no'"
            ],
            "application/vnd.google.colaboratory.intrinsic+json": {
              "type": "string"
            }
          },
          "metadata": {},
          "execution_count": 16
        }
      ]
    },
    {
      "cell_type": "code",
      "source": [
        "texto.upper()"
      ],
      "metadata": {
        "id": "rUt85aMFmQC1",
        "colab": {
          "base_uri": "https://localhost:8080/",
          "height": 35
        },
        "outputId": "39eab776-deae-440a-b2ba-796ca795ffa3"
      },
      "execution_count": null,
      "outputs": [
        {
          "output_type": "execute_result",
          "data": {
            "text/plain": [
              "'ESTA VARIABLE NO'"
            ],
            "application/vnd.google.colaboratory.intrinsic+json": {
              "type": "string"
            }
          },
          "metadata": {},
          "execution_count": 17
        }
      ]
    },
    {
      "cell_type": "code",
      "source": [
        "texto.title()"
      ],
      "metadata": {
        "id": "kkLQWHudmQAf",
        "colab": {
          "base_uri": "https://localhost:8080/",
          "height": 35
        },
        "outputId": "2a6bb315-1a27-4058-a900-059b91cb373a"
      },
      "execution_count": null,
      "outputs": [
        {
          "output_type": "execute_result",
          "data": {
            "text/plain": [
              "'Esta Variable No'"
            ],
            "application/vnd.google.colaboratory.intrinsic+json": {
              "type": "string"
            }
          },
          "metadata": {},
          "execution_count": 18
        }
      ]
    },
    {
      "cell_type": "markdown",
      "source": [
        "Podemos separar nuestra cadena dado un patrón"
      ],
      "metadata": {
        "id": "tp5-rHdTzGHj"
      }
    },
    {
      "cell_type": "code",
      "source": [
        "texto = 'Esta, cadena, la, separaré, por, comas'\n",
        "texto.split(', ')"
      ],
      "metadata": {
        "id": "uszJtSZmzFZN",
        "colab": {
          "base_uri": "https://localhost:8080/"
        },
        "outputId": "a0cd613c-2279-4ffc-abb1-5b60de8c82e8"
      },
      "execution_count": null,
      "outputs": [
        {
          "output_type": "execute_result",
          "data": {
            "text/plain": [
              "['Esta', 'cadena', 'la', 'separaré', 'por', 'comas']"
            ]
          },
          "metadata": {},
          "execution_count": 21
        }
      ]
    },
    {
      "cell_type": "code",
      "source": [
        "print(texto)\n",
        "# Funcion muy importante\n",
        "print(texto.replace('a', 'Z'))"
      ],
      "metadata": {
        "id": "eJaz8yy_l9qn",
        "colab": {
          "base_uri": "https://localhost:8080/"
        },
        "outputId": "687acbe6-d305-4509-ba01-f62f382a6673"
      },
      "execution_count": null,
      "outputs": [
        {
          "output_type": "stream",
          "name": "stdout",
          "text": [
            "Esta, cadena, la, separaré, por, comas\n",
            "EstZ, cZdenZ, lZ, sepZrZré, por, comZs\n"
          ]
        }
      ]
    },
    {
      "cell_type": "markdown",
      "source": [
        "## Operaciones con variables numéricas\n"
      ],
      "metadata": {
        "id": "WLJGXCAqwlNs"
      }
    },
    {
      "cell_type": "code",
      "source": [
        "# Defino mis variables\n",
        "a = 5\n",
        "b = 2"
      ],
      "metadata": {
        "id": "ZGdPaHXvwxIZ"
      },
      "execution_count": null,
      "outputs": []
    },
    {
      "cell_type": "code",
      "source": [
        "# Suma\n",
        "print(f'Suma: {a + b}')\n",
        "# Resta\n",
        "print(f'Resta: {a - b}')\n",
        "#Multiplicación\n",
        "print(f'Multiplicación: {a * b}')\n",
        "# División\n",
        "print(f'División: {a / b}')\n",
        "# Parte entera de la división\n",
        "print(f'Parte entera de división: {a // b}')\n",
        "# División modular\n",
        "print(f'Residuo: {a % b}')"
      ],
      "metadata": {
        "id": "_bJdHiPkwZYk",
        "colab": {
          "base_uri": "https://localhost:8080/"
        },
        "outputId": "d967d7a7-a77c-416f-e330-9216e5f8ce21"
      },
      "execution_count": null,
      "outputs": [
        {
          "output_type": "stream",
          "name": "stdout",
          "text": [
            "Suma: 7\n",
            "Resta: 3\n",
            "Multiplicación: 10\n",
            "División: 2.5\n",
            "Parte entera de división: 2\n",
            "Residuo: 1\n"
          ]
        }
      ]
    },
    {
      "cell_type": "code",
      "source": [
        "# Potencias\n",
        "2**3"
      ],
      "metadata": {
        "colab": {
          "base_uri": "https://localhost:8080/"
        },
        "id": "XD9y3hIQ_XuK",
        "outputId": "bafd621d-c95c-4f34-db27-515977dfe40d"
      },
      "execution_count": null,
      "outputs": [
        {
          "output_type": "execute_result",
          "data": {
            "text/plain": [
              "8"
            ]
          },
          "metadata": {},
          "execution_count": 30
        }
      ]
    },
    {
      "cell_type": "markdown",
      "source": [
        "## Listas"
      ],
      "metadata": {
        "id": "xUPPCFZtpXua"
      }
    },
    {
      "cell_type": "code",
      "metadata": {
        "id": "Qyf1RnKV9W9n",
        "colab": {
          "base_uri": "https://localhost:8080/"
        },
        "outputId": "01c80d82-e393-49ca-cde8-a3c957b4e15b"
      },
      "source": [
        "tiempos_traslado = [3, 34, 23, 12, 3, 4]\n",
        "tiempos_traslado"
      ],
      "execution_count": null,
      "outputs": [
        {
          "output_type": "execute_result",
          "data": {
            "text/plain": [
              "[3, 34, 23, 12, 3, 4]"
            ]
          },
          "metadata": {},
          "execution_count": 31
        }
      ]
    },
    {
      "cell_type": "code",
      "metadata": {
        "id": "KuallMho9mTR",
        "colab": {
          "base_uri": "https://localhost:8080/"
        },
        "outputId": "36fc33f9-8d52-4a3c-86bf-55dc0decf086"
      },
      "source": [
        "lista_mixta = [\"Juan\", 23, 54.2, 23, False, 'Avión']\n",
        "lista_mixta"
      ],
      "execution_count": null,
      "outputs": [
        {
          "output_type": "execute_result",
          "data": {
            "text/plain": [
              "['Juan', 23, 54.2, 23, False, 'Avión']"
            ]
          },
          "metadata": {},
          "execution_count": 32
        }
      ]
    },
    {
      "cell_type": "code",
      "source": [
        "# Crear rangos (podemos iterar sobre ellos)\n",
        "range(10)"
      ],
      "metadata": {
        "id": "vBaHUK8lF5QP",
        "colab": {
          "base_uri": "https://localhost:8080/"
        },
        "outputId": "63aa863f-cc9c-412a-fb19-edefa53f67c8"
      },
      "execution_count": null,
      "outputs": [
        {
          "output_type": "execute_result",
          "data": {
            "text/plain": [
              "range(0, 10)"
            ]
          },
          "metadata": {},
          "execution_count": 35
        }
      ]
    },
    {
      "cell_type": "code",
      "metadata": {
        "id": "ttKHZlpoADh7",
        "colab": {
          "base_uri": "https://localhost:8080/"
        },
        "outputId": "2f256698-1fae-4322-a017-bc5f0795a242"
      },
      "source": [
        "sucesion = list(range(10))\n",
        "sucesion"
      ],
      "execution_count": null,
      "outputs": [
        {
          "output_type": "execute_result",
          "data": {
            "text/plain": [
              "[0, 1, 2, 3, 4, 5, 6, 7, 8, 9]"
            ]
          },
          "metadata": {},
          "execution_count": 36
        }
      ]
    },
    {
      "cell_type": "markdown",
      "source": [
        "Podemos localizar elementos de las listas con sus índices (Slicing)"
      ],
      "metadata": {
        "id": "8Y4B2D4DzsvM"
      }
    },
    {
      "cell_type": "code",
      "source": [
        "# Busqueda de elemento de adelante hacia atras\n",
        "lista_mixta[3]"
      ],
      "metadata": {
        "id": "K00VQeIrzshM",
        "colab": {
          "base_uri": "https://localhost:8080/"
        },
        "outputId": "234415c3-cc89-4f3c-8d5f-df6fe7f06bbf"
      },
      "execution_count": null,
      "outputs": [
        {
          "output_type": "execute_result",
          "data": {
            "text/plain": [
              "23"
            ]
          },
          "metadata": {},
          "execution_count": 37
        }
      ]
    },
    {
      "cell_type": "code",
      "metadata": {
        "id": "2Gd3BjKi-xJi",
        "colab": {
          "base_uri": "https://localhost:8080/",
          "height": 35
        },
        "outputId": "681dea8d-71b6-42ca-af4b-c91114a269f2"
      },
      "source": [
        "# Busqueda de elemento de atras hacia adelante\n",
        "lista_mixta[-1]"
      ],
      "execution_count": null,
      "outputs": [
        {
          "output_type": "execute_result",
          "data": {
            "text/plain": [
              "'Avión'"
            ],
            "application/vnd.google.colaboratory.intrinsic+json": {
              "type": "string"
            }
          },
          "metadata": {},
          "execution_count": 40
        }
      ]
    },
    {
      "cell_type": "code",
      "metadata": {
        "id": "zz-TWPwg_-Lv",
        "colab": {
          "base_uri": "https://localhost:8080/"
        },
        "outputId": "21e834be-ba81-4593-8162-37a5bf669a92"
      },
      "source": [
        "sucesion[1:5]"
      ],
      "execution_count": null,
      "outputs": [
        {
          "output_type": "execute_result",
          "data": {
            "text/plain": [
              "[1, 2, 3, 4]"
            ]
          },
          "metadata": {},
          "execution_count": 45
        }
      ]
    },
    {
      "cell_type": "code",
      "metadata": {
        "id": "-BKP0pAZBK1B",
        "colab": {
          "base_uri": "https://localhost:8080/"
        },
        "outputId": "41f21c4c-0089-4547-e083-86ad21921e22"
      },
      "source": [
        "# Todos los pares considerando al cero\n",
        "sucesion[::2]"
      ],
      "execution_count": null,
      "outputs": [
        {
          "output_type": "execute_result",
          "data": {
            "text/plain": [
              "[0, 2, 4, 6, 8]"
            ]
          },
          "metadata": {},
          "execution_count": 46
        }
      ]
    },
    {
      "cell_type": "code",
      "metadata": {
        "id": "VuR87ndTCn0e",
        "colab": {
          "base_uri": "https://localhost:8080/"
        },
        "outputId": "5d2cfe3f-98e4-4b04-b253-189d3af22b5f"
      },
      "source": [
        "print(lista_mixta)\n",
        "lista_mixta.index('Avión')"
      ],
      "execution_count": null,
      "outputs": [
        {
          "output_type": "stream",
          "name": "stdout",
          "text": [
            "['Juan', 23, 54.2, 23, False, 'Avión']\n"
          ]
        },
        {
          "output_type": "execute_result",
          "data": {
            "text/plain": [
              "5"
            ]
          },
          "metadata": {},
          "execution_count": 49
        }
      ]
    },
    {
      "cell_type": "markdown",
      "source": [
        "Concatenar listas\n"
      ],
      "metadata": {
        "id": "M_lAao_G3En2"
      }
    },
    {
      "cell_type": "code",
      "source": [
        "a = [1, 2, 3]\n",
        "b = [4, 5, 6]\n",
        "\n",
        "a + b"
      ],
      "metadata": {
        "id": "MljHEQIA3Ddm",
        "colab": {
          "base_uri": "https://localhost:8080/"
        },
        "outputId": "c25a0428-e842-495b-fadd-9d87891cccf5"
      },
      "execution_count": null,
      "outputs": [
        {
          "output_type": "execute_result",
          "data": {
            "text/plain": [
              "[1, 2, 3, 4, 5, 6]"
            ]
          },
          "metadata": {},
          "execution_count": 50
        }
      ]
    },
    {
      "cell_type": "markdown",
      "source": [
        "Agregar (apendizar) elementos a una lista"
      ],
      "metadata": {
        "id": "pCwiQgzc_-Ds"
      }
    },
    {
      "cell_type": "code",
      "source": [
        "listita = [1, 4, 5, 8]\n",
        "listita.append(9)\n",
        "listita"
      ],
      "metadata": {
        "id": "xpAMW_3g_9gC",
        "colab": {
          "base_uri": "https://localhost:8080/"
        },
        "outputId": "06b9a32c-611a-45c3-d06a-9cc49026bf4a"
      },
      "execution_count": null,
      "outputs": [
        {
          "output_type": "execute_result",
          "data": {
            "text/plain": [
              "[1, 4, 5, 8, 9]"
            ]
          },
          "metadata": {},
          "execution_count": 51
        }
      ]
    },
    {
      "cell_type": "markdown",
      "source": [
        "Ordenar listas"
      ],
      "metadata": {
        "id": "hhKbrhFL37XP"
      }
    },
    {
      "cell_type": "code",
      "source": [
        "lista = [4,2,5,7,3,8]\n",
        "lista.sort()\n",
        "lista"
      ],
      "metadata": {
        "id": "uJWLdbDW383h",
        "colab": {
          "base_uri": "https://localhost:8080/"
        },
        "outputId": "b92de5de-ccfb-4d5f-acbd-5d45a5c4dd57"
      },
      "execution_count": null,
      "outputs": [
        {
          "output_type": "execute_result",
          "data": {
            "text/plain": [
              "[2, 3, 4, 5, 7, 8]"
            ]
          },
          "metadata": {},
          "execution_count": 52
        }
      ]
    },
    {
      "cell_type": "code",
      "source": [
        "lista = [4,2,5,7,3,8]\n",
        "lista.sort(reverse = True)\n",
        "lista"
      ],
      "metadata": {
        "id": "LDCnRR5b3-Vd",
        "colab": {
          "base_uri": "https://localhost:8080/"
        },
        "outputId": "b086edbc-d5a0-48e0-b2e7-5988ecc52df8"
      },
      "execution_count": null,
      "outputs": [
        {
          "output_type": "execute_result",
          "data": {
            "text/plain": [
              "[8, 7, 5, 4, 3, 2]"
            ]
          },
          "metadata": {},
          "execution_count": 53
        }
      ]
    },
    {
      "cell_type": "markdown",
      "source": [
        "## Texto como lista de caracteres"
      ],
      "metadata": {
        "id": "7itW4Eb_4EcR"
      }
    },
    {
      "cell_type": "code",
      "source": [
        "print(texto)\n",
        "texto[2]"
      ],
      "metadata": {
        "id": "RY2a0HGJ4GiC",
        "colab": {
          "base_uri": "https://localhost:8080/",
          "height": 53
        },
        "outputId": "eaf394a6-061b-4b9a-c684-0bc999250626"
      },
      "execution_count": null,
      "outputs": [
        {
          "output_type": "stream",
          "name": "stdout",
          "text": [
            "Esta, cadena, la, separaré, por, comas\n"
          ]
        },
        {
          "output_type": "execute_result",
          "data": {
            "text/plain": [
              "'t'"
            ],
            "application/vnd.google.colaboratory.intrinsic+json": {
              "type": "string"
            }
          },
          "metadata": {},
          "execution_count": 54
        }
      ]
    },
    {
      "cell_type": "markdown",
      "source": [
        "## Conjuntos"
      ],
      "metadata": {
        "id": "syLfL9ThpZ5e"
      }
    },
    {
      "cell_type": "code",
      "metadata": {
        "id": "FQ-HR16SMsEz",
        "colab": {
          "base_uri": "https://localhost:8080/"
        },
        "outputId": "396652f1-29c2-441b-fcd2-a659d31b87ac"
      },
      "source": [
        "{1, 2, 2, 3, 4}"
      ],
      "execution_count": null,
      "outputs": [
        {
          "output_type": "execute_result",
          "data": {
            "text/plain": [
              "{1, 2, 3, 4}"
            ]
          },
          "metadata": {},
          "execution_count": 55
        }
      ]
    },
    {
      "cell_type": "code",
      "metadata": {
        "id": "T_eS8bWGWzq4",
        "colab": {
          "base_uri": "https://localhost:8080/"
        },
        "outputId": "6fd7b0be-d580-4d38-88be-9a762aa99f37"
      },
      "source": [
        "set(['a', 'b', 't', 'c', 't'])"
      ],
      "execution_count": null,
      "outputs": [
        {
          "output_type": "execute_result",
          "data": {
            "text/plain": [
              "{'a', 'b', 'c', 't'}"
            ]
          },
          "metadata": {},
          "execution_count": 56
        }
      ]
    },
    {
      "cell_type": "markdown",
      "source": [
        "Funciones de transformacion"
      ],
      "metadata": {
        "id": "siwzkGhdIuFO"
      }
    },
    {
      "cell_type": "code",
      "source": [
        "list()\n",
        "set()\n",
        "int()\n",
        "float()\n",
        "str()\n",
        "bool()"
      ],
      "metadata": {
        "id": "7J0g45u7Itzr",
        "colab": {
          "base_uri": "https://localhost:8080/"
        },
        "outputId": "0baaf6f5-d825-4d67-d4f9-33858b243ffe"
      },
      "execution_count": null,
      "outputs": [
        {
          "output_type": "execute_result",
          "data": {
            "text/plain": [
              "False"
            ]
          },
          "metadata": {},
          "execution_count": 57
        }
      ]
    },
    {
      "cell_type": "code",
      "source": [
        "'6' + '6'"
      ],
      "metadata": {
        "colab": {
          "base_uri": "https://localhost:8080/",
          "height": 35
        },
        "id": "QJ6Q_cg5C76Z",
        "outputId": "684b199e-b8b2-43c5-b2fc-d9469aaff134"
      },
      "execution_count": null,
      "outputs": [
        {
          "output_type": "execute_result",
          "data": {
            "text/plain": [
              "'66'"
            ],
            "application/vnd.google.colaboratory.intrinsic+json": {
              "type": "string"
            }
          },
          "metadata": {},
          "execution_count": 60
        }
      ]
    },
    {
      "cell_type": "code",
      "source": [
        "int('6') + int('6')"
      ],
      "metadata": {
        "colab": {
          "base_uri": "https://localhost:8080/"
        },
        "id": "bhuh-sVTC13g",
        "outputId": "7ea7453d-c2c2-4d86-f3fc-8f90a5575bc9"
      },
      "execution_count": null,
      "outputs": [
        {
          "output_type": "execute_result",
          "data": {
            "text/plain": [
              "12"
            ]
          },
          "metadata": {},
          "execution_count": 61
        }
      ]
    },
    {
      "cell_type": "markdown",
      "source": [
        "## Diccionarios (de los elementos mas importantes, posiblemente los utilicen mucho)"
      ],
      "metadata": {
        "id": "K6yOHLV4pbv_"
      }
    },
    {
      "cell_type": "code",
      "metadata": {
        "id": "2eRmGzV2ELuq",
        "colab": {
          "base_uri": "https://localhost:8080/"
        },
        "outputId": "82b0db65-c07c-4a4c-c966-388181c8bd60"
      },
      "source": [
        "datos = {\n",
        "    \"nombre\": \"Manuel Pérez\", \n",
        "    \"carrera\": 'Veterinaria', \n",
        "    \"sueldo\": 30000, \n",
        "    \"es_casado\": False, \n",
        "    \"hijos\": [\n",
        "              {\"nombre\": \"Juan Pérez\", \"edad\": 5}, \n",
        "              {\"nombre\": \"María Pérez\", \"edad\": 3}\n",
        "              ]\n",
        "}\n",
        "\n",
        "\n",
        "datos"
      ],
      "execution_count": null,
      "outputs": [
        {
          "output_type": "execute_result",
          "data": {
            "text/plain": [
              "{'nombre': 'Manuel Pérez',\n",
              " 'carrera': 'Veterinaria',\n",
              " 'sueldo': 30000,\n",
              " 'es_casado': False,\n",
              " 'hijos': [{'nombre': 'Juan Pérez', 'edad': 5},\n",
              "  {'nombre': 'María Pérez', 'edad': 3}]}"
            ]
          },
          "metadata": {},
          "execution_count": 62
        }
      ]
    },
    {
      "cell_type": "code",
      "metadata": {
        "id": "W_W_2y2nEhbt",
        "colab": {
          "base_uri": "https://localhost:8080/"
        },
        "outputId": "483e30ed-0c09-4724-976b-ef0e3e07cccf"
      },
      "source": [
        "# Acceder a datis dentro de un diccionario\n",
        "datos['hijos']"
      ],
      "execution_count": null,
      "outputs": [
        {
          "output_type": "execute_result",
          "data": {
            "text/plain": [
              "[{'nombre': 'Juan Pérez', 'edad': 5}, {'nombre': 'María Pérez', 'edad': 3}]"
            ]
          },
          "metadata": {},
          "execution_count": 73
        }
      ]
    },
    {
      "cell_type": "code",
      "metadata": {
        "id": "J3_OGktpE26I",
        "colab": {
          "base_uri": "https://localhost:8080/",
          "height": 35
        },
        "outputId": "fa23c042-9540-4916-bcca-1cefc3f05d3f"
      },
      "source": [
        "# Primer paso, acceder a la lista que contiene los hijos\n",
        "# segundo paso, acceder al segundo elemento de esa lista (posicion 1)\n",
        "# tercer paso, acceder al valor del nombre del hijo\n",
        "datos['hijos']\n",
        "datos['hijos'][1]\n",
        "datos['hijos'][1]['nombre']"
      ],
      "execution_count": null,
      "outputs": [
        {
          "output_type": "execute_result",
          "data": {
            "text/plain": [
              "'María Pérez'"
            ],
            "application/vnd.google.colaboratory.intrinsic+json": {
              "type": "string"
            }
          },
          "metadata": {},
          "execution_count": 74
        }
      ]
    },
    {
      "cell_type": "code",
      "metadata": {
        "id": "mwAq0j6dFQg1",
        "colab": {
          "base_uri": "https://localhost:8080/"
        },
        "outputId": "fda817d6-d445-461e-fe3d-e0a6f5bd13e3"
      },
      "source": [
        "# ¿Cuántos hijos tiene?\n",
        "print(type(datos['hijos']))\n",
        "len(datos['hijos'])"
      ],
      "execution_count": null,
      "outputs": [
        {
          "output_type": "stream",
          "name": "stdout",
          "text": [
            "<class 'list'>\n"
          ]
        },
        {
          "output_type": "execute_result",
          "data": {
            "text/plain": [
              "2"
            ]
          },
          "metadata": {},
          "execution_count": 75
        }
      ]
    },
    {
      "cell_type": "code",
      "metadata": {
        "id": "AnDuQg1-GK4O",
        "colab": {
          "base_uri": "https://localhost:8080/"
        },
        "outputId": "125de34c-a68a-4bc1-aee6-566a8e12472c"
      },
      "source": [
        "datos.keys()"
      ],
      "execution_count": null,
      "outputs": [
        {
          "output_type": "execute_result",
          "data": {
            "text/plain": [
              "dict_keys(['nombre', 'carrera', 'sueldo', 'es_casado', 'hijos'])"
            ]
          },
          "metadata": {},
          "execution_count": 76
        }
      ]
    },
    {
      "cell_type": "code",
      "metadata": {
        "id": "vL_0mQ1sYAgp",
        "colab": {
          "base_uri": "https://localhost:8080/"
        },
        "outputId": "0b68da2c-8236-4b3e-bef5-4a9d4a8b5fa8"
      },
      "source": [
        "datos.values()"
      ],
      "execution_count": null,
      "outputs": [
        {
          "output_type": "execute_result",
          "data": {
            "text/plain": [
              "dict_values(['Manuel Pérez', 'Veterinaria', 30000, False, [{'nombre': 'Juan Pérez', 'edad': 5}, {'nombre': 'María Pérez', 'edad': 3}]])"
            ]
          },
          "metadata": {},
          "execution_count": 77
        }
      ]
    },
    {
      "cell_type": "code",
      "source": [
        "contactos = [\n",
        "             {\n",
        "                 \"nombre\": \"A\", \n",
        "                \"telefono\": 2121\n",
        "             }, {\n",
        "                 \"nombre\": \"B\", \n",
        "                 \"email\": 'email@asdf.c'\n",
        "             }\n",
        "]"
      ],
      "metadata": {
        "id": "PETRToBM4yCS"
      },
      "execution_count": null,
      "outputs": []
    },
    {
      "cell_type": "code",
      "source": [
        "len(contactos)"
      ],
      "metadata": {
        "id": "yztxu-Rl4ykW",
        "colab": {
          "base_uri": "https://localhost:8080/"
        },
        "outputId": "cce7140b-f990-423a-e563-9be78e2a8ad5"
      },
      "execution_count": null,
      "outputs": [
        {
          "output_type": "execute_result",
          "data": {
            "text/plain": [
              "2"
            ]
          },
          "metadata": {},
          "execution_count": 79
        }
      ]
    },
    {
      "cell_type": "code",
      "source": [
        "# Funcion para ver el tipo de dato\n",
        "type()"
      ],
      "metadata": {
        "id": "wvoHc5DpYMNT"
      },
      "execution_count": null,
      "outputs": []
    },
    {
      "cell_type": "markdown",
      "source": [
        "## Booleanos (Verdadero o Falso, para verificaciones)"
      ],
      "metadata": {
        "id": "Fh0GGVQGpplT"
      }
    },
    {
      "cell_type": "code",
      "metadata": {
        "id": "gy-eRLjiaL3n",
        "colab": {
          "base_uri": "https://localhost:8080/"
        },
        "outputId": "2fb0e226-093a-4c3d-d144-d7f8f4b3ea0c"
      },
      "source": [
        "mi_primer_booleano = False\n",
        "mi_primer_booleano"
      ],
      "execution_count": null,
      "outputs": [
        {
          "output_type": "execute_result",
          "data": {
            "text/plain": [
              "False"
            ]
          },
          "metadata": {},
          "execution_count": 80
        }
      ]
    },
    {
      "cell_type": "code",
      "metadata": {
        "id": "pp3Z3Zf9KJwK",
        "colab": {
          "base_uri": "https://localhost:8080/"
        },
        "outputId": "b993f1e7-27c3-44cc-b8f1-413e7e4dc2b3"
      },
      "source": [
        "# Revisar si valores son iguales\n",
        "3 == 4"
      ],
      "execution_count": null,
      "outputs": [
        {
          "output_type": "execute_result",
          "data": {
            "text/plain": [
              "False"
            ]
          },
          "metadata": {},
          "execution_count": 81
        }
      ]
    },
    {
      "cell_type": "code",
      "metadata": {
        "id": "ZyfnK7F9K4T1",
        "colab": {
          "base_uri": "https://localhost:8080/"
        },
        "outputId": "db2fed3b-de30-4730-c5de-e04cbbd0f5dd"
      },
      "source": [
        "cadena = 'El cazo'\n",
        "cadena == 'sarten'"
      ],
      "execution_count": null,
      "outputs": [
        {
          "output_type": "execute_result",
          "data": {
            "text/plain": [
              "False"
            ]
          },
          "metadata": {},
          "execution_count": 82
        }
      ]
    },
    {
      "cell_type": "code",
      "metadata": {
        "id": "BDmiwCiVK9u3",
        "colab": {
          "base_uri": "https://localhost:8080/"
        },
        "outputId": "a87c7058-6f62-4bb5-c058-4764ce9bf5dc"
      },
      "source": [
        "cadena == 'El cazo'"
      ],
      "execution_count": null,
      "outputs": [
        {
          "output_type": "execute_result",
          "data": {
            "text/plain": [
              "True"
            ]
          },
          "metadata": {},
          "execution_count": 83
        }
      ]
    },
    {
      "cell_type": "code",
      "metadata": {
        "id": "ovPfx1PGaeDv",
        "colab": {
          "base_uri": "https://localhost:8080/"
        },
        "outputId": "891edfb6-c19b-4d1d-96f7-856de43c1432"
      },
      "source": [
        "cadena == 'el cazo'"
      ],
      "execution_count": null,
      "outputs": [
        {
          "output_type": "execute_result",
          "data": {
            "text/plain": [
              "False"
            ]
          },
          "metadata": {},
          "execution_count": 84
        }
      ]
    },
    {
      "cell_type": "code",
      "source": [
        "n = 3"
      ],
      "metadata": {
        "id": "8rkGw72vLEXk"
      },
      "execution_count": null,
      "outputs": []
    },
    {
      "cell_type": "code",
      "source": [
        "print(n)"
      ],
      "metadata": {
        "id": "8kiHFBzu6L1i",
        "colab": {
          "base_uri": "https://localhost:8080/"
        },
        "outputId": "1f09cf85-c293-42cc-ff3e-292bcfb3ed9b"
      },
      "execution_count": null,
      "outputs": [
        {
          "output_type": "stream",
          "name": "stdout",
          "text": [
            "3\n"
          ]
        }
      ]
    },
    {
      "cell_type": "code",
      "metadata": {
        "id": "zDzcHGQ9KeXX",
        "colab": {
          "base_uri": "https://localhost:8080/"
        },
        "outputId": "ed5a8ee9-6fa8-4d7b-ec90-b28fea2bde32"
      },
      "source": [
        "# Un número es mayor a otros\n",
        "print(n > 3)\n",
        "print(n <= 3)\n",
        "print(n == 3) \n",
        "print(n != 3)"
      ],
      "execution_count": null,
      "outputs": [
        {
          "output_type": "stream",
          "name": "stdout",
          "text": [
            "False\n",
            "True\n",
            "True\n",
            "False\n"
          ]
        }
      ]
    },
    {
      "cell_type": "code",
      "source": [
        "type('asdfas') is str"
      ],
      "metadata": {
        "id": "Y2H0aqZM6U2R",
        "colab": {
          "base_uri": "https://localhost:8080/"
        },
        "outputId": "c36e2d77-f6fd-4364-ef89-8763e799933a"
      },
      "execution_count": null,
      "outputs": [
        {
          "output_type": "execute_result",
          "data": {
            "text/plain": [
              "True"
            ]
          },
          "metadata": {},
          "execution_count": 88
        }
      ]
    },
    {
      "cell_type": "code",
      "source": [
        "not 3 > 3"
      ],
      "metadata": {
        "id": "3nCCNOh-6VXB",
        "colab": {
          "base_uri": "https://localhost:8080/"
        },
        "outputId": "37f6a1e9-7d39-467f-992d-817a8bd58fa5"
      },
      "execution_count": null,
      "outputs": [
        {
          "output_type": "execute_result",
          "data": {
            "text/plain": [
              "True"
            ]
          },
          "metadata": {},
          "execution_count": 89
        }
      ]
    },
    {
      "cell_type": "code",
      "metadata": {
        "id": "UXb4n-mOL9RG",
        "colab": {
          "base_uri": "https://localhost:8080/"
        },
        "outputId": "04758df2-8016-40e5-b1eb-8c8c0ca142c4"
      },
      "source": [
        "# Revisa si un elemento no está en la lista\n",
        "10 not in sucesion"
      ],
      "execution_count": null,
      "outputs": [
        {
          "output_type": "execute_result",
          "data": {
            "text/plain": [
              "True"
            ]
          },
          "metadata": {},
          "execution_count": 90
        }
      ]
    },
    {
      "cell_type": "markdown",
      "source": [
        "Comparando **float** con **int**:"
      ],
      "metadata": {
        "id": "_d9xgVQW45d2"
      }
    },
    {
      "cell_type": "code",
      "source": [
        "m = 2\n",
        "n = 2.00000000000000000000000000000001\n",
        "\n",
        "print(type(m))\n",
        "print(type(n))"
      ],
      "metadata": {
        "id": "soequlcu45BA",
        "colab": {
          "base_uri": "https://localhost:8080/"
        },
        "outputId": "250de736-7331-4836-9c44-795d351381f1"
      },
      "execution_count": null,
      "outputs": [
        {
          "output_type": "stream",
          "name": "stdout",
          "text": [
            "<class 'int'>\n",
            "<class 'float'>\n"
          ]
        }
      ]
    },
    {
      "cell_type": "code",
      "source": [
        "# ¿Cual será el valor de esta comparación?\n",
        "m == n"
      ],
      "metadata": {
        "id": "gyqlsHjg5MyJ",
        "colab": {
          "base_uri": "https://localhost:8080/"
        },
        "outputId": "b925aee8-3b3c-43f9-ace2-d939feefbb57"
      },
      "execution_count": null,
      "outputs": [
        {
          "output_type": "execute_result",
          "data": {
            "text/plain": [
              "True"
            ]
          },
          "metadata": {},
          "execution_count": 92
        }
      ]
    },
    {
      "cell_type": "markdown",
      "source": [
        "¿Y con comillas y dobles comillas?"
      ],
      "metadata": {
        "id": "pp3l0CqF5TDb"
      }
    },
    {
      "cell_type": "code",
      "source": [
        "'algo' == \"algo\""
      ],
      "metadata": {
        "id": "3w1BtB-k5Wwv",
        "colab": {
          "base_uri": "https://localhost:8080/"
        },
        "outputId": "f5e4f9d2-de55-405a-fb64-cccefb26cf54"
      },
      "execution_count": null,
      "outputs": [
        {
          "output_type": "execute_result",
          "data": {
            "text/plain": [
              "True"
            ]
          },
          "metadata": {},
          "execution_count": 93
        }
      ]
    },
    {
      "cell_type": "markdown",
      "source": [
        "# Estructuras de control"
      ],
      "metadata": {
        "id": "AtHmXkhk6cX0"
      }
    },
    {
      "cell_type": "markdown",
      "source": [
        "## Condicionales \"If\", \"Elif\" y \"Else\""
      ],
      "metadata": {
        "id": "D-UDURPNpuYl"
      }
    },
    {
      "cell_type": "code",
      "metadata": {
        "id": "BE3HMCArTxJ8"
      },
      "source": [
        "n = 'algo'\n",
        "if type(n) is int:\n",
        "    print('n es un entero')\n",
        "    print('Esta otra linea')\n",
        "    print('Una más')\n",
        "else:\n",
        "    print('n no es entero')"
      ],
      "execution_count": null,
      "outputs": []
    },
    {
      "cell_type": "code",
      "metadata": {
        "id": "MWFC_tFtNvxr"
      },
      "source": [
        "n = 7\n",
        "if n == 7:\n",
        "    print(\"n es 7\")\n",
        "elif n > 90:\n",
        "    print('n es mayor a 90')\n",
        "elif n < 2:\n",
        "    print(\"n es menor a 2\")\n",
        "else:\n",
        "    print('ninguna de las condiciones anteriores se cumplió')"
      ],
      "execution_count": null,
      "outputs": []
    },
    {
      "cell_type": "markdown",
      "metadata": {
        "id": "CEy9LsVbVPd-"
      },
      "source": [
        "### While\n",
        "\n",
        "El while se ejecuta hasta que se cumple una condición.\n",
        "\n",
        "Es importante notar que el ciclo **puede ejecutarse infinitamente** si la condición nunca se cumple."
      ]
    },
    {
      "cell_type": "code",
      "metadata": {
        "id": "5ASu7fKhUqKL",
        "colab": {
          "base_uri": "https://localhost:8080/"
        },
        "outputId": "a9ded00c-8b22-43da-cca6-4a15a24c2922"
      },
      "source": [
        "i = 0\n",
        "while i < 10:\n",
        "    i += 1 # i = i + 1\n",
        "    print(i)"
      ],
      "execution_count": null,
      "outputs": [
        {
          "output_type": "stream",
          "name": "stdout",
          "text": [
            "1\n",
            "2\n",
            "3\n",
            "4\n",
            "5\n",
            "6\n",
            "7\n",
            "8\n",
            "9\n",
            "10\n"
          ]
        }
      ]
    },
    {
      "cell_type": "code",
      "metadata": {
        "id": "0kkhkXIIX5Do",
        "colab": {
          "base_uri": "https://localhost:8080/"
        },
        "outputId": "64414507-42a3-4f75-c946-0108e03d43af"
      },
      "source": [
        "# Secuencia de fibonacci\n",
        "a, b = 0, 1          \n",
        "\n",
        "secuencia = []\n",
        "\n",
        "while a < 1000:\n",
        "  secuencia.append(a)\n",
        "  a, b = b, a + b\n",
        "\n",
        "secuencia"
      ],
      "execution_count": null,
      "outputs": [
        {
          "output_type": "execute_result",
          "data": {
            "text/plain": [
              "[0, 1, 1, 2, 3, 5, 8, 13, 21, 34, 55, 89, 144, 233, 377, 610, 987]"
            ]
          },
          "metadata": {},
          "execution_count": 98
        }
      ]
    },
    {
      "cell_type": "markdown",
      "metadata": {
        "id": "UMgBjqnpVMCe"
      },
      "source": [
        "### For\n",
        "\n",
        "Ejecuta el ciclo para cada elemento en un iterable\n",
        "\n"
      ]
    },
    {
      "cell_type": "code",
      "metadata": {
        "id": "1fqubTdSVmpc",
        "colab": {
          "base_uri": "https://localhost:8080/"
        },
        "outputId": "d79cb7cf-b62d-446a-da19-65afe29735d0"
      },
      "source": [
        "for i in range(10):\n",
        "    print(i + 2)"
      ],
      "execution_count": null,
      "outputs": [
        {
          "output_type": "stream",
          "name": "stdout",
          "text": [
            "2\n",
            "3\n",
            "4\n",
            "5\n",
            "6\n",
            "7\n",
            "8\n",
            "9\n",
            "10\n",
            "11\n"
          ]
        }
      ]
    },
    {
      "cell_type": "code",
      "source": [
        "lista = ['Juan', 'María', 'Max', 'Alfonso']"
      ],
      "metadata": {
        "id": "qfx61qfFqCon"
      },
      "execution_count": null,
      "outputs": []
    },
    {
      "cell_type": "code",
      "source": [
        "for persona in lista:\n",
        "  print(persona + ' está comiendo')"
      ],
      "metadata": {
        "id": "C4jlts1kcd8u",
        "colab": {
          "base_uri": "https://localhost:8080/"
        },
        "outputId": "21fb5887-10e2-4205-bf4f-71fd167030b2"
      },
      "execution_count": null,
      "outputs": [
        {
          "output_type": "stream",
          "name": "stdout",
          "text": [
            "Juan está comiendo\n",
            "María está comiendo\n",
            "Max está comiendo\n",
            "Alfonso está comiendo\n"
          ]
        }
      ]
    },
    {
      "cell_type": "markdown",
      "source": [
        "## Listas por comprension"
      ],
      "metadata": {
        "id": "ntcpdPktNmyw"
      }
    },
    {
      "cell_type": "code",
      "metadata": {
        "id": "HyoFNtBlY2ht",
        "colab": {
          "base_uri": "https://localhost:8080/"
        },
        "outputId": "879e6633-8c06-4e0c-924a-989174b7b4f1"
      },
      "source": [
        "print(lista)\n",
        "\n",
        "# crea sólo una copia de la lista\n",
        "nueva_lista = [persona + ' comió algo' for persona in lista]\n",
        "nueva_lista"
      ],
      "execution_count": null,
      "outputs": [
        {
          "output_type": "stream",
          "name": "stdout",
          "text": [
            "['Juan', 'María', 'Max', 'Alfonso']\n"
          ]
        },
        {
          "output_type": "execute_result",
          "data": {
            "text/plain": [
              "['Juan comió algo', 'María comió algo', 'Max comió algo', 'Alfonso comió algo']"
            ]
          },
          "metadata": {},
          "execution_count": 103
        }
      ]
    },
    {
      "cell_type": "code",
      "source": [
        "import math"
      ],
      "metadata": {
        "id": "Skw17NGPqOXK"
      },
      "execution_count": null,
      "outputs": []
    },
    {
      "cell_type": "code",
      "metadata": {
        "id": "_Ykc9ApgZqZ2",
        "colab": {
          "base_uri": "https://localhost:8080/"
        },
        "outputId": "ba8fee21-0c5e-432f-b62c-41338134061f"
      },
      "source": [
        "promedios = [5.9, 6.7, 8.2, 10, 3, 0]\n",
        "[math.ceil(calificacion) if calificacion > 6 and calificacion % 1 > .3 else math.floor(calificacion) for calificacion in promedios]"
      ],
      "execution_count": null,
      "outputs": [
        {
          "output_type": "execute_result",
          "data": {
            "text/plain": [
              "[5, 7, 8, 10, 3, 0]"
            ]
          },
          "metadata": {},
          "execution_count": 105
        }
      ]
    },
    {
      "cell_type": "code",
      "metadata": {
        "id": "bF-ZTlYiaWXo",
        "colab": {
          "base_uri": "https://localhost:8080/"
        },
        "outputId": "7bc7fc17-6210-4ad3-be27-94d19a5ee464"
      },
      "source": [
        "# El código anterior equivale a lo siguiente\n",
        "nuevos_promedios = []\n",
        "for x in promedios:\n",
        "    if x > 6 and x % 1 > .3:\n",
        "        nuevos_promedios.append(math.ceil(x))\n",
        "    else:\n",
        "        nuevos_promedios.append(math.floor(x))\n",
        "nuevos_promedios"
      ],
      "execution_count": null,
      "outputs": [
        {
          "output_type": "execute_result",
          "data": {
            "text/plain": [
              "[5, 7, 8, 10, 3, 0]"
            ]
          },
          "metadata": {},
          "execution_count": 106
        }
      ]
    },
    {
      "cell_type": "markdown",
      "source": [
        "## Control de ciclos"
      ],
      "metadata": {
        "id": "6apPDu-gqcSJ"
      }
    },
    {
      "cell_type": "code",
      "metadata": {
        "id": "i6fVlS7VWg7w",
        "colab": {
          "base_uri": "https://localhost:8080/"
        },
        "outputId": "4c3b8baf-ae19-4061-833e-129253b9ff7b"
      },
      "source": [
        "# BREAK\n",
        "j = 1\n",
        "while True:\n",
        "    j *= 10 # j = j*10\n",
        "    print(j)\n",
        "    if j > 1000:\n",
        "        break"
      ],
      "execution_count": null,
      "outputs": [
        {
          "output_type": "stream",
          "name": "stdout",
          "text": [
            "10\n",
            "100\n",
            "1000\n",
            "10000\n"
          ]
        }
      ]
    },
    {
      "cell_type": "code",
      "metadata": {
        "id": "4b3Q2qhuWsKQ",
        "colab": {
          "base_uri": "https://localhost:8080/"
        },
        "outputId": "4d6dbda0-97bc-40f1-ba1f-14f49f35ac0a"
      },
      "source": [
        "# CONTINUE\n",
        "for j in range(10):\n",
        "    if 4 < j < 7:\n",
        "        print(f'omitiendo')\n",
        "        continue\n",
        "    print(j)"
      ],
      "execution_count": null,
      "outputs": [
        {
          "output_type": "stream",
          "name": "stdout",
          "text": [
            "0\n",
            "1\n",
            "2\n",
            "3\n",
            "4\n",
            "omitiendo\n",
            "omitiendo\n",
            "7\n",
            "8\n",
            "9\n"
          ]
        }
      ]
    },
    {
      "cell_type": "markdown",
      "source": [
        "## List Comprehension (Creando listas por comprensión)"
      ],
      "metadata": {
        "id": "DPah2Q5Z6p29"
      }
    },
    {
      "cell_type": "code",
      "source": [
        "print(lista)"
      ],
      "metadata": {
        "id": "tGcOozR16xOI",
        "colab": {
          "base_uri": "https://localhost:8080/"
        },
        "outputId": "f17da01b-19a3-46d1-96f7-4b7e0ea8ffbc"
      },
      "execution_count": null,
      "outputs": [
        {
          "output_type": "stream",
          "name": "stdout",
          "text": [
            "['Juan', 'María', 'Max', 'Alfonso']\n"
          ]
        }
      ]
    },
    {
      "cell_type": "code",
      "source": [
        "# crea sólo una copia de la lista\n",
        "nueva_lista = [x + str(5) for x in lista]\n",
        "nueva_lista"
      ],
      "metadata": {
        "id": "AyMO6Nmc6uK5",
        "colab": {
          "base_uri": "https://localhost:8080/"
        },
        "outputId": "54ba6a5d-49c9-4b33-b539-4cfc1fd38341"
      },
      "execution_count": null,
      "outputs": [
        {
          "output_type": "execute_result",
          "data": {
            "text/plain": [
              "['Juan5', 'María5', 'Max5', 'Alfonso5']"
            ]
          },
          "metadata": {},
          "execution_count": 110
        }
      ]
    },
    {
      "cell_type": "markdown",
      "source": [
        "# NumPy (libreria para operaciones matemáticas)"
      ],
      "metadata": {
        "id": "2CzFg3OhrlDJ"
      }
    },
    {
      "cell_type": "markdown",
      "source": [
        "## Creación de Arrays (arreglos)"
      ],
      "metadata": {
        "id": "Jq-l_MzMs35-"
      }
    },
    {
      "cell_type": "code",
      "source": [
        "import numpy as np"
      ],
      "metadata": {
        "id": "gTwyufvMr-ML"
      },
      "execution_count": null,
      "outputs": []
    },
    {
      "cell_type": "code",
      "metadata": {
        "id": "Hv1EQ2OBjUBK",
        "colab": {
          "base_uri": "https://localhost:8080/"
        },
        "outputId": "069f1d61-1ccc-46db-92eb-3af1018e79c0"
      },
      "source": [
        "arr = np.array(range(10))\n",
        "arr"
      ],
      "execution_count": null,
      "outputs": [
        {
          "output_type": "execute_result",
          "data": {
            "text/plain": [
              "array([0, 1, 2, 3, 4, 5, 6, 7, 8, 9])"
            ]
          },
          "metadata": {},
          "execution_count": 112
        }
      ]
    },
    {
      "cell_type": "code",
      "metadata": {
        "id": "9Cd1UAM-mnBB",
        "colab": {
          "base_uri": "https://localhost:8080/"
        },
        "outputId": "8977e2f5-58fc-4f45-8019-de4e363a820e"
      },
      "source": [
        "vista = arr[:3]\n",
        "vista"
      ],
      "execution_count": null,
      "outputs": [
        {
          "output_type": "execute_result",
          "data": {
            "text/plain": [
              "array([0, 1, 2])"
            ]
          },
          "metadata": {},
          "execution_count": 140
        }
      ]
    },
    {
      "cell_type": "code",
      "metadata": {
        "id": "WIBt95GEmnHx",
        "colab": {
          "base_uri": "https://localhost:8080/"
        },
        "outputId": "1c0f46ba-9473-4440-e157-490e05fff70d"
      },
      "source": [
        "vista[:] = 0\n",
        "vista"
      ],
      "execution_count": null,
      "outputs": [
        {
          "output_type": "execute_result",
          "data": {
            "text/plain": [
              "array([0, 0, 0])"
            ]
          },
          "metadata": {},
          "execution_count": 141
        }
      ]
    },
    {
      "cell_type": "code",
      "source": [
        "arr"
      ],
      "metadata": {
        "id": "sCyoR1mJnPOa",
        "colab": {
          "base_uri": "https://localhost:8080/"
        },
        "outputId": "6672475b-7878-4fec-82e2-912f387b4949"
      },
      "execution_count": null,
      "outputs": [
        {
          "output_type": "execute_result",
          "data": {
            "text/plain": [
              "array([0, 0, 0, 3, 4, 5, 6, 7, 8, 9])"
            ]
          },
          "metadata": {},
          "execution_count": 142
        }
      ]
    },
    {
      "cell_type": "code",
      "metadata": {
        "id": "jvBriznumxZL",
        "colab": {
          "base_uri": "https://localhost:8080/"
        },
        "outputId": "ddb7a41b-1552-41ac-b8c3-200cc5b84856"
      },
      "source": [
        "copia = arr[:5].copy()\n",
        "copia"
      ],
      "execution_count": null,
      "outputs": [
        {
          "output_type": "execute_result",
          "data": {
            "text/plain": [
              "array([0, 0, 0, 3, 4])"
            ]
          },
          "metadata": {},
          "execution_count": 143
        }
      ]
    },
    {
      "cell_type": "code",
      "source": [
        "x = np.array([1,3,2,2,5,5,5])"
      ],
      "metadata": {
        "id": "kFnqR1JTsI9W"
      },
      "execution_count": null,
      "outputs": []
    },
    {
      "cell_type": "code",
      "metadata": {
        "id": "ouU2I4BVVWOG",
        "colab": {
          "base_uri": "https://localhost:8080/"
        },
        "outputId": "c37d7503-fec3-4a7e-8920-2bb514ede3c4"
      },
      "source": [
        "# Suma de los elementos de x\n",
        "np.sum(x)"
      ],
      "execution_count": null,
      "outputs": [
        {
          "output_type": "execute_result",
          "data": {
            "text/plain": [
              "23"
            ]
          },
          "metadata": {},
          "execution_count": 145
        }
      ]
    },
    {
      "cell_type": "code",
      "metadata": {
        "id": "fTevdVdcVQAG",
        "colab": {
          "base_uri": "https://localhost:8080/"
        },
        "outputId": "d72c7e81-2a6c-4c79-88e2-c6949f0ef2d2"
      },
      "source": [
        "# Media\n",
        "np.mean(x)"
      ],
      "execution_count": null,
      "outputs": [
        {
          "output_type": "execute_result",
          "data": {
            "text/plain": [
              "3.2857142857142856"
            ]
          },
          "metadata": {},
          "execution_count": 146
        }
      ]
    },
    {
      "cell_type": "code",
      "metadata": {
        "id": "MU13en5QVUFd",
        "colab": {
          "base_uri": "https://localhost:8080/"
        },
        "outputId": "3432f47e-0081-4ed6-a0c0-aea3df0a2edd"
      },
      "source": [
        "# Mediana\n",
        "np.median(x)"
      ],
      "execution_count": null,
      "outputs": [
        {
          "output_type": "execute_result",
          "data": {
            "text/plain": [
              "3.0"
            ]
          },
          "metadata": {},
          "execution_count": 147
        }
      ]
    },
    {
      "cell_type": "code",
      "metadata": {
        "id": "SVdHMWFHVclb",
        "colab": {
          "base_uri": "https://localhost:8080/"
        },
        "outputId": "0a7e228c-58db-4c17-d373-b0e6de16c53f"
      },
      "source": [
        "# Varianza\n",
        "np.var(x)"
      ],
      "execution_count": null,
      "outputs": [
        {
          "output_type": "execute_result",
          "data": {
            "text/plain": [
              "2.4897959183673466"
            ]
          },
          "metadata": {},
          "execution_count": 148
        }
      ]
    },
    {
      "cell_type": "code",
      "metadata": {
        "id": "A5TvuUKDVeoB",
        "colab": {
          "base_uri": "https://localhost:8080/"
        },
        "outputId": "7807ce17-d3fa-4832-ea8c-114528482aaf"
      },
      "source": [
        "# Desviación estándar\n",
        "np.std(x)"
      ],
      "execution_count": null,
      "outputs": [
        {
          "output_type": "execute_result",
          "data": {
            "text/plain": [
              "1.577908716741037"
            ]
          },
          "metadata": {},
          "execution_count": 149
        }
      ]
    },
    {
      "cell_type": "code",
      "metadata": {
        "id": "bQIrkFMDVxoy"
      },
      "source": [
        "my_array = np.array([1, 3, 4])"
      ],
      "execution_count": null,
      "outputs": []
    },
    {
      "cell_type": "code",
      "source": [
        "my_array"
      ],
      "metadata": {
        "id": "0AruNfu1P7GN",
        "colab": {
          "base_uri": "https://localhost:8080/"
        },
        "outputId": "8e7122c8-ef0e-4cdb-80d8-af668f282ece"
      },
      "execution_count": null,
      "outputs": [
        {
          "output_type": "execute_result",
          "data": {
            "text/plain": [
              "array([1, 3, 4])"
            ]
          },
          "metadata": {},
          "execution_count": 151
        }
      ]
    },
    {
      "cell_type": "code",
      "source": [
        "my_array + my_array"
      ],
      "metadata": {
        "id": "yYCM9I7yP8Ib",
        "colab": {
          "base_uri": "https://localhost:8080/"
        },
        "outputId": "7c0ec0bb-4c1e-4509-b262-e0a25c8b916d"
      },
      "execution_count": null,
      "outputs": [
        {
          "output_type": "execute_result",
          "data": {
            "text/plain": [
              "array([2, 6, 8])"
            ]
          },
          "metadata": {},
          "execution_count": 152
        }
      ]
    },
    {
      "cell_type": "code",
      "source": [
        "my_array*3"
      ],
      "metadata": {
        "id": "KfEjqxB6ns6m",
        "colab": {
          "base_uri": "https://localhost:8080/"
        },
        "outputId": "2c2c7c8d-670d-4bcd-d427-24a66314e45e"
      },
      "execution_count": null,
      "outputs": [
        {
          "output_type": "execute_result",
          "data": {
            "text/plain": [
              "array([ 3,  9, 12])"
            ]
          },
          "metadata": {},
          "execution_count": 153
        }
      ]
    },
    {
      "cell_type": "code",
      "source": [
        "np.dot(my_array,my_array)"
      ],
      "metadata": {
        "id": "kyhz8ob9n17q",
        "colab": {
          "base_uri": "https://localhost:8080/"
        },
        "outputId": "c8d3c700-3eae-415d-9c95-8323eb29c5d1"
      },
      "execution_count": null,
      "outputs": [
        {
          "output_type": "execute_result",
          "data": {
            "text/plain": [
              "26"
            ]
          },
          "metadata": {},
          "execution_count": 154
        }
      ]
    },
    {
      "cell_type": "markdown",
      "source": [
        "## Arreglos 2-dimensionales (matrices)"
      ],
      "metadata": {
        "id": "I_mBUtbLs8jV"
      }
    },
    {
      "cell_type": "code",
      "metadata": {
        "id": "YMOTuyckiGJi",
        "colab": {
          "base_uri": "https://localhost:8080/"
        },
        "outputId": "c76a4b52-0778-4061-885c-27789c4eec8e"
      },
      "source": [
        "my_matrix = np.array([[1, 2, 3], [3, 4, 5], [6, 7, 8], [9, 10, 11]])\n",
        "my_matrix"
      ],
      "execution_count": null,
      "outputs": [
        {
          "output_type": "execute_result",
          "data": {
            "text/plain": [
              "array([[ 1,  2,  3],\n",
              "       [ 3,  4,  5],\n",
              "       [ 6,  7,  8],\n",
              "       [ 9, 10, 11]])"
            ]
          },
          "metadata": {},
          "execution_count": 114
        }
      ]
    },
    {
      "cell_type": "code",
      "metadata": {
        "id": "E7IP8m5QiCCN",
        "colab": {
          "base_uri": "https://localhost:8080/"
        },
        "outputId": "d9344714-4091-469c-d050-8335fcfd5589"
      },
      "source": [
        "my_array[1]"
      ],
      "execution_count": null,
      "outputs": [
        {
          "output_type": "execute_result",
          "data": {
            "text/plain": [
              "3"
            ]
          },
          "metadata": {},
          "execution_count": 155
        }
      ]
    },
    {
      "cell_type": "code",
      "metadata": {
        "id": "A4yOZoraiyv7",
        "colab": {
          "base_uri": "https://localhost:8080/"
        },
        "outputId": "93e349f3-2cdc-4bad-a54a-58dd18cb357c"
      },
      "source": [
        "my_matrix.reshape((2, 6))"
      ],
      "execution_count": null,
      "outputs": [
        {
          "output_type": "execute_result",
          "data": {
            "text/plain": [
              "array([[ 1,  2,  3,  3,  4,  5],\n",
              "       [ 6,  7,  8,  9, 10, 11]])"
            ]
          },
          "metadata": {},
          "execution_count": 156
        }
      ]
    },
    {
      "cell_type": "code",
      "metadata": {
        "id": "0k6OuxR5iQZ2",
        "colab": {
          "base_uri": "https://localhost:8080/"
        },
        "outputId": "4ef92747-0d7c-4043-8930-c14beae9ff95"
      },
      "source": [
        "my_matrix.shape"
      ],
      "execution_count": null,
      "outputs": [
        {
          "output_type": "execute_result",
          "data": {
            "text/plain": [
              "(4, 3)"
            ]
          },
          "metadata": {},
          "execution_count": 157
        }
      ]
    },
    {
      "cell_type": "code",
      "metadata": {
        "id": "LDPA_8kzjPwo",
        "colab": {
          "base_uri": "https://localhost:8080/"
        },
        "outputId": "a0ed4635-d9a4-4c43-a6f1-8157ab11cac8"
      },
      "source": [
        "# Crear arreglos de ceros\n",
        "np.zeros((10, 10))"
      ],
      "execution_count": null,
      "outputs": [
        {
          "output_type": "execute_result",
          "data": {
            "text/plain": [
              "array([[0., 0., 0., 0., 0., 0., 0., 0., 0., 0.],\n",
              "       [0., 0., 0., 0., 0., 0., 0., 0., 0., 0.],\n",
              "       [0., 0., 0., 0., 0., 0., 0., 0., 0., 0.],\n",
              "       [0., 0., 0., 0., 0., 0., 0., 0., 0., 0.],\n",
              "       [0., 0., 0., 0., 0., 0., 0., 0., 0., 0.],\n",
              "       [0., 0., 0., 0., 0., 0., 0., 0., 0., 0.],\n",
              "       [0., 0., 0., 0., 0., 0., 0., 0., 0., 0.],\n",
              "       [0., 0., 0., 0., 0., 0., 0., 0., 0., 0.],\n",
              "       [0., 0., 0., 0., 0., 0., 0., 0., 0., 0.],\n",
              "       [0., 0., 0., 0., 0., 0., 0., 0., 0., 0.]])"
            ]
          },
          "metadata": {},
          "execution_count": 158
        }
      ]
    },
    {
      "cell_type": "code",
      "source": [
        "img_ex = np.zeros((3, 5, 5))\n",
        "print(type(img_ex))\n",
        "img_ex"
      ],
      "metadata": {
        "id": "qp5cSJa3tRPU",
        "colab": {
          "base_uri": "https://localhost:8080/"
        },
        "outputId": "19b9d753-7192-4d0a-f988-311165f6ab87"
      },
      "execution_count": null,
      "outputs": [
        {
          "output_type": "stream",
          "name": "stdout",
          "text": [
            "<class 'numpy.ndarray'>\n"
          ]
        },
        {
          "output_type": "execute_result",
          "data": {
            "text/plain": [
              "array([[[0., 0., 0., 0., 0.],\n",
              "        [0., 0., 0., 0., 0.],\n",
              "        [0., 0., 0., 0., 0.],\n",
              "        [0., 0., 0., 0., 0.],\n",
              "        [0., 0., 0., 0., 0.]],\n",
              "\n",
              "       [[0., 0., 0., 0., 0.],\n",
              "        [0., 0., 0., 0., 0.],\n",
              "        [0., 0., 0., 0., 0.],\n",
              "        [0., 0., 0., 0., 0.],\n",
              "        [0., 0., 0., 0., 0.]],\n",
              "\n",
              "       [[0., 0., 0., 0., 0.],\n",
              "        [0., 0., 0., 0., 0.],\n",
              "        [0., 0., 0., 0., 0.],\n",
              "        [0., 0., 0., 0., 0.],\n",
              "        [0., 0., 0., 0., 0.]]])"
            ]
          },
          "metadata": {},
          "execution_count": 159
        }
      ]
    },
    {
      "cell_type": "code",
      "source": [
        "# Creación de números aleatorios\n",
        "np.random.randint(0, 100, (5, 5))"
      ],
      "metadata": {
        "id": "60Lm3QZetWss",
        "colab": {
          "base_uri": "https://localhost:8080/"
        },
        "outputId": "d4f692c1-851b-4871-cfda-b382b0ceded7"
      },
      "execution_count": null,
      "outputs": [
        {
          "output_type": "execute_result",
          "data": {
            "text/plain": [
              "array([[43, 61, 16, 70,  3],\n",
              "       [93, 68, 80, 19,  3],\n",
              "       [78, 76, 95, 79,  7],\n",
              "       [56, 91, 58, 60, 11],\n",
              "       [60, 48, 62,  5, 23]])"
            ]
          },
          "metadata": {},
          "execution_count": 160
        }
      ]
    },
    {
      "cell_type": "code",
      "source": [
        "np.random.seed(10)"
      ],
      "metadata": {
        "id": "ckB4GjPMtcKo"
      },
      "execution_count": null,
      "outputs": []
    },
    {
      "cell_type": "code",
      "source": [
        "np.random.randint(0,10)"
      ],
      "metadata": {
        "id": "2yZdj_ohpcnx",
        "colab": {
          "base_uri": "https://localhost:8080/"
        },
        "outputId": "86b6ff1e-8c46-40ac-a155-dc0e60098b7c"
      },
      "execution_count": null,
      "outputs": [
        {
          "output_type": "execute_result",
          "data": {
            "text/plain": [
              "9"
            ]
          },
          "metadata": {},
          "execution_count": 162
        }
      ]
    },
    {
      "cell_type": "code",
      "source": [
        "A = np.random.randint(0, 100, (5, 5))\n",
        "A"
      ],
      "metadata": {
        "id": "9jChKM6ztvI9",
        "colab": {
          "base_uri": "https://localhost:8080/"
        },
        "outputId": "828ac0cb-e94b-45f6-b98a-e762d56b88a3"
      },
      "execution_count": null,
      "outputs": [
        {
          "output_type": "execute_result",
          "data": {
            "text/plain": [
              "array([[15, 64, 28, 89, 93],\n",
              "       [29,  8, 73,  0, 40],\n",
              "       [36, 16, 11, 54, 88],\n",
              "       [62, 33, 72, 78, 49],\n",
              "       [51, 54, 77, 69, 13]])"
            ]
          },
          "metadata": {},
          "execution_count": 163
        }
      ]
    },
    {
      "cell_type": "code",
      "source": [
        "# producto punto\n",
        "x = np.array([1, 2, 3])\n",
        "y = np.array([4, 5, 6])\n",
        "\n",
        "np.dot(x, y)"
      ],
      "metadata": {
        "id": "ZJh9ni-9t_Gg",
        "colab": {
          "base_uri": "https://localhost:8080/"
        },
        "outputId": "3820463c-da00-4a57-d87f-c539339d62c8"
      },
      "execution_count": null,
      "outputs": [
        {
          "output_type": "execute_result",
          "data": {
            "text/plain": [
              "32"
            ]
          },
          "metadata": {},
          "execution_count": 164
        }
      ]
    },
    {
      "cell_type": "code",
      "source": [
        "# Producto de matrices\n",
        "A = np.random.randint(0, 2, (3, 2))\n",
        "B = np.random.randint(0, 2, (2, 3))\n"
      ],
      "metadata": {
        "id": "xT9iLTTN713P"
      },
      "execution_count": null,
      "outputs": []
    },
    {
      "cell_type": "code",
      "source": [
        "print(A)\n",
        "print(B)"
      ],
      "metadata": {
        "id": "1gt__A4Z78yg",
        "colab": {
          "base_uri": "https://localhost:8080/"
        },
        "outputId": "2c87bd26-12c7-4a86-b11c-a4cf30fcdb88"
      },
      "execution_count": null,
      "outputs": [
        {
          "output_type": "stream",
          "name": "stdout",
          "text": [
            "[[1 1]\n",
            " [0 1]\n",
            " [0 0]]\n",
            "[[0 0 1]\n",
            " [0 1 1]]\n"
          ]
        }
      ]
    },
    {
      "cell_type": "code",
      "source": [
        "Multiplicacion = np.dot(A,B)\n",
        "Multiplicacion"
      ],
      "metadata": {
        "id": "1S4oBeCW8ANJ",
        "colab": {
          "base_uri": "https://localhost:8080/"
        },
        "outputId": "53e8f329-d893-48b0-f3cd-925f1fe95397"
      },
      "execution_count": null,
      "outputs": [
        {
          "output_type": "execute_result",
          "data": {
            "text/plain": [
              "array([[0, 1, 2],\n",
              "       [0, 1, 1],\n",
              "       [0, 0, 0]])"
            ]
          },
          "metadata": {},
          "execution_count": 167
        }
      ]
    },
    {
      "cell_type": "code",
      "source": [
        "otra = np.dot(B,A)\n",
        "otra"
      ],
      "metadata": {
        "id": "egWQqXFk8PJn",
        "colab": {
          "base_uri": "https://localhost:8080/"
        },
        "outputId": "0a3b88ed-69ef-4b06-e62f-cafc0d59b6bd"
      },
      "execution_count": null,
      "outputs": [
        {
          "output_type": "execute_result",
          "data": {
            "text/plain": [
              "array([[0, 0],\n",
              "       [0, 1]])"
            ]
          },
          "metadata": {},
          "execution_count": 168
        }
      ]
    },
    {
      "cell_type": "code",
      "source": [
        "# invertir matriz\n",
        "C = np.array([[2,1],[1,0]])\n",
        "\n",
        "Ainv = np.linalg.inv(C)\n",
        "Ainv"
      ],
      "metadata": {
        "id": "ODc-fj_h8YSP",
        "colab": {
          "base_uri": "https://localhost:8080/"
        },
        "outputId": "f406c79d-74a6-4814-d5f4-7ff8d7e392f3"
      },
      "execution_count": null,
      "outputs": [
        {
          "output_type": "execute_result",
          "data": {
            "text/plain": [
              "array([[ 0.,  1.],\n",
              "       [ 1., -2.]])"
            ]
          },
          "metadata": {},
          "execution_count": 169
        }
      ]
    },
    {
      "cell_type": "markdown",
      "metadata": {
        "id": "2G-MheOorJeg"
      },
      "source": [
        "# Funciones\n",
        "\n",
        "Para definir las funciones seguimos la sintaxis\n",
        "\n",
        "```python\n",
        "def <nombre de la funcion>((parametros)):\n",
        "    <bloque de codigo>\n",
        "    (opcional) return <valor a regresar>\n",
        "```\n",
        "\n",
        "El nombre de la función sigue las mismas reglas que el nombre de las variables.\n",
        "\n",
        "Para regresar un valor de nuestra función existen dos palabras reservada ```return``` y ```yield```. La primera termina la ejecución de la función cuando la encuentra y puede estar en cualquier parte de esta, incluso puede haber varios returns en distintas partes de la función. La segunda, ```yield``` convierte a la función en un iterable. A grandes rasgos, lo que hace es pausar la ejecución de la función hasta que se le pida el siguiente valor."
      ]
    },
    {
      "cell_type": "code",
      "metadata": {
        "id": "B4udBniAsG5-"
      },
      "source": [
        "def hola(nombre):\n",
        "    print(f'Hola {nombre}')"
      ],
      "execution_count": null,
      "outputs": []
    },
    {
      "cell_type": "code",
      "metadata": {
        "id": "ZZvHvjQ5spST",
        "colab": {
          "base_uri": "https://localhost:8080/"
        },
        "outputId": "df49b44e-0dd8-4724-e0a8-5ed08eff02d9"
      },
      "source": [
        "hola(34)"
      ],
      "execution_count": null,
      "outputs": [
        {
          "output_type": "stream",
          "name": "stdout",
          "text": [
            "Hola 34\n"
          ]
        }
      ]
    },
    {
      "cell_type": "code",
      "metadata": {
        "id": "jCRsF7ljsviW"
      },
      "source": [
        "# No existe el polimorfismo\n",
        "def hola(nombre, param):\n",
        "    print(nombre*param)"
      ],
      "execution_count": null,
      "outputs": []
    },
    {
      "cell_type": "code",
      "metadata": {
        "id": "cFjBPHWFs2lK",
        "colab": {
          "base_uri": "https://localhost:8080/"
        },
        "outputId": "21c48c86-ebd1-4823-88e6-782434198a40"
      },
      "source": [
        "hola('Javier', 3)"
      ],
      "execution_count": null,
      "outputs": [
        {
          "output_type": "stream",
          "name": "stdout",
          "text": [
            "JavierJavierJavier\n"
          ]
        }
      ]
    },
    {
      "cell_type": "code",
      "metadata": {
        "id": "OGLrt7IKtAKL"
      },
      "source": [
        "def hola2(nombre, saludo =  'Hola'):\n",
        "    print(f'{saludo} {nombre}')"
      ],
      "execution_count": null,
      "outputs": []
    },
    {
      "cell_type": "code",
      "metadata": {
        "id": "wvteMLb2tJUa",
        "colab": {
          "base_uri": "https://localhost:8080/"
        },
        "outputId": "06e6bc76-1084-46be-e378-0df2dab387c1"
      },
      "source": [
        "hola2('Javier')"
      ],
      "execution_count": null,
      "outputs": [
        {
          "output_type": "stream",
          "name": "stdout",
          "text": [
            "Hola Javier\n"
          ]
        }
      ]
    },
    {
      "cell_type": "code",
      "metadata": {
        "id": "9dRt2pZutQuR"
      },
      "source": [
        "def imprime_numeros(n = 10, para = None):\n",
        "    for i in range(n):\n",
        "        if i == para:\n",
        "            return 'nos detuvimos'\n",
        "        print(i)\n",
        "    \n",
        "    return 'terminamos'\n"
      ],
      "execution_count": null,
      "outputs": []
    },
    {
      "cell_type": "code",
      "metadata": {
        "id": "QrRuBq8itlIi",
        "colab": {
          "base_uri": "https://localhost:8080/",
          "height": 209
        },
        "outputId": "e4f436e6-3159-4f49-a6fa-2d86517f1356"
      },
      "source": [
        "imprime_numeros()"
      ],
      "execution_count": null,
      "outputs": [
        {
          "output_type": "stream",
          "name": "stdout",
          "text": [
            "0\n",
            "1\n",
            "2\n",
            "3\n",
            "4\n",
            "5\n",
            "6\n",
            "7\n",
            "8\n",
            "9\n"
          ]
        },
        {
          "output_type": "execute_result",
          "data": {
            "text/plain": [
              "'terminamos'"
            ],
            "application/vnd.google.colaboratory.intrinsic+json": {
              "type": "string"
            }
          },
          "metadata": {},
          "execution_count": 123
        }
      ]
    },
    {
      "cell_type": "code",
      "metadata": {
        "id": "nQb90UQJ27u6"
      },
      "source": [
        "# Recursividad\n",
        "def factorial(n):\n",
        "    if n == 0:\n",
        "        return 1\n",
        "    return n*factorial(n-1)"
      ],
      "execution_count": null,
      "outputs": []
    },
    {
      "cell_type": "code",
      "metadata": {
        "id": "CZ2R26jW3N_k"
      },
      "source": [
        "valor_obtenido = factorial(3)"
      ],
      "execution_count": null,
      "outputs": []
    },
    {
      "cell_type": "code",
      "source": [
        "valor_obtenido"
      ],
      "metadata": {
        "colab": {
          "base_uri": "https://localhost:8080/"
        },
        "id": "OjA4-unkJ0o-",
        "outputId": "b229c713-09b6-4664-b744-3a45b6dae78d"
      },
      "execution_count": null,
      "outputs": [
        {
          "output_type": "execute_result",
          "data": {
            "text/plain": [
              "6"
            ]
          },
          "metadata": {},
          "execution_count": 126
        }
      ]
    },
    {
      "cell_type": "code",
      "source": [
        "def suma_rara(valor1, valor2=2):\n",
        "  valor = valor1 + 2*valor2\n",
        "  return valor, valor-1"
      ],
      "metadata": {
        "id": "0kZ3p3jpJ-Gr"
      },
      "execution_count": null,
      "outputs": []
    },
    {
      "cell_type": "code",
      "source": [
        "valores, valores_1 = suma_rara(3)"
      ],
      "metadata": {
        "id": "GSuJM1OdKJRD"
      },
      "execution_count": null,
      "outputs": []
    },
    {
      "cell_type": "code",
      "source": [
        "valores"
      ],
      "metadata": {
        "colab": {
          "base_uri": "https://localhost:8080/"
        },
        "id": "45GYGI12KRf1",
        "outputId": "1b09b142-827f-4b18-a9c4-5c110329042c"
      },
      "execution_count": null,
      "outputs": [
        {
          "output_type": "execute_result",
          "data": {
            "text/plain": [
              "7"
            ]
          },
          "metadata": {},
          "execution_count": 138
        }
      ]
    },
    {
      "cell_type": "code",
      "source": [
        "valores_1"
      ],
      "metadata": {
        "colab": {
          "base_uri": "https://localhost:8080/"
        },
        "id": "GAfZPLX0KTTq",
        "outputId": "6a941b2f-32eb-478f-9ebe-80fdb5b887ce"
      },
      "execution_count": null,
      "outputs": [
        {
          "output_type": "execute_result",
          "data": {
            "text/plain": [
              "6"
            ]
          },
          "metadata": {},
          "execution_count": 139
        }
      ]
    },
    {
      "cell_type": "markdown",
      "metadata": {
        "id": "XcqN0ngeqt7J"
      },
      "source": [
        "## Visualización de datos"
      ]
    },
    {
      "cell_type": "markdown",
      "metadata": {
        "id": "3HjDN79frW2w"
      },
      "source": [
        "Para visualizar datos podemos ocupar el módulo ```matplotlib```. Cabe notar que no es el único módulo para gráficar, pero sí el más fácil de usar. Otro módulo muy usado es [```plotly```](https://plotly.com/python/) que puede crear gráficos interactivos"
      ]
    },
    {
      "cell_type": "code",
      "metadata": {
        "id": "ASnrXzTTvOdj"
      },
      "source": [
        "import matplotlib.pyplot as plt\n",
        "np.random.seed(15)"
      ],
      "execution_count": null,
      "outputs": []
    },
    {
      "cell_type": "markdown",
      "metadata": {
        "id": "GvYXIS96v4Yt"
      },
      "source": [
        "## Histograma"
      ]
    },
    {
      "cell_type": "code",
      "metadata": {
        "id": "LycaCB62vNuK",
        "colab": {
          "base_uri": "https://localhost:8080/"
        },
        "outputId": "c58a5a4c-5e9e-4178-c9e2-62efa0417169"
      },
      "source": [
        "datos = np.random.normal(size = 400)\n",
        "datos"
      ],
      "execution_count": null,
      "outputs": [
        {
          "output_type": "execute_result",
          "data": {
            "text/plain": [
              "array([-3.12328482e-01,  3.39284706e-01, -1.55908534e-01, -5.01789673e-01,\n",
              "        2.35568892e-01, -1.76360526e+00, -1.09586204e+00, -1.08776574e+00,\n",
              "       -3.05170052e-01, -4.73748372e-01, -2.00594539e-01,  3.55196773e-01,\n",
              "        6.89517723e-01,  4.10589675e-01, -5.64978437e-01,  5.99390690e-01,\n",
              "       -1.62936305e-01,  1.60021450e+00,  6.81627204e-01,  1.48801013e-02,\n",
              "       -8.77796322e-02, -9.82117840e-01,  1.21690479e-01, -1.13743729e+00,\n",
              "        3.49002578e-01, -1.85851316e+00, -1.16718189e+00,  1.42489683e+00,\n",
              "        1.49656536e+00,  1.28993206e+00, -1.81174527e+00, -1.49830721e+00,\n",
              "       -1.45014322e+00, -1.69390696e+00,  2.27264028e-01, -4.89734711e-01,\n",
              "       -5.28506514e-04, -4.90252617e-01, -7.93209422e-01,  2.04889876e+00,\n",
              "        6.03185439e-01, -9.98202078e-01,  1.21504155e+00, -6.67516491e-01,\n",
              "       -2.72505777e-01,  1.41677448e+00, -7.82608958e-01, -2.50320697e-01,\n",
              "       -3.08314461e-01,  1.72968803e+00,  1.97827237e+00,  2.19688032e-01,\n",
              "        1.89481985e+00, -1.36809944e+00, -1.91305386e-01,  1.28725753e+00,\n",
              "       -2.46883944e-01,  3.42551082e-01,  2.22717042e-01,  6.81593706e-01,\n",
              "        2.51448885e-01, -1.48184894e+00, -3.86821775e-01, -7.33680711e-01,\n",
              "        5.85978205e-01, -1.73578876e+00, -8.26695212e-01,  1.18383423e+00,\n",
              "        3.55046044e-01,  2.44284991e+00, -3.69254685e-02, -2.71171405e+00,\n",
              "        9.91489633e-01,  1.92242770e-01, -3.52792626e-01, -1.33952283e+00,\n",
              "       -1.88672586e-01,  5.96586647e-01,  3.40454482e-01,  8.34253440e-02,\n",
              "        6.05992122e-01,  1.68937215e-01, -1.03889125e+00,  2.85238084e-01,\n",
              "        5.02391385e-01,  1.93387498e+00,  4.83248779e-02, -1.05176869e+00,\n",
              "        1.16658239e+00,  7.35467175e-01, -5.63129933e-01, -1.21300819e+00,\n",
              "        1.54812816e+00, -1.69787534e+00, -6.31792956e-01,  2.86366603e-01,\n",
              "       -1.04797207e+00, -1.86450226e-01,  4.97554889e-01, -4.04502199e-01,\n",
              "       -1.28410466e+00, -6.14257102e-01, -1.07869380e-01,  1.13362321e+00,\n",
              "       -1.03624629e+00,  1.51135743e+00, -8.68273787e-01,  1.39223060e+00,\n",
              "        2.17509315e+00,  1.29902121e+00, -1.88081362e-01,  1.66902327e+00,\n",
              "        1.15457421e+00,  4.81802396e-01, -1.78037186e-01, -3.86183134e-01,\n",
              "       -1.30074289e-01,  2.35962357e+00,  5.16999712e-01,  4.41354670e-01,\n",
              "       -4.75724547e-01,  3.28382994e-01, -2.82805534e-01, -7.20218945e-01,\n",
              "        8.84588675e-02, -4.72515661e-01,  1.29971965e-01, -1.06833786e-01,\n",
              "       -7.04302805e-01,  5.17177497e-01,  5.80846212e-01, -2.82179205e+00,\n",
              "       -2.49617418e-01, -1.77093757e-01, -2.56335832e-01,  1.27151467e+00,\n",
              "        8.09784028e-02, -4.17940714e-01, -7.66949543e-01,  6.31566106e-01,\n",
              "       -1.62644675e+00, -3.14025273e-01, -6.15472121e-01, -3.98984268e-01,\n",
              "       -3.18563954e-01, -1.18083045e+00, -1.17284370e+00, -5.23205813e-02,\n",
              "       -8.46183890e-01,  1.41449195e+00,  3.35853514e-01, -1.11286049e+00,\n",
              "        5.13106147e-01, -2.28318764e-01,  2.33787366e-01,  1.54159367e+00,\n",
              "        9.18674296e-01, -9.13569124e-01,  5.02448117e-01, -4.28064087e-01,\n",
              "        1.02301209e+00, -3.22204871e-02, -1.59430184e+00, -3.46625972e+00,\n",
              "       -6.77860689e-01, -8.28270940e-01, -7.89141838e-01,  2.17363077e+00,\n",
              "        1.16913480e-01,  8.69209877e-01, -9.51972452e-01,  6.55838623e-01,\n",
              "       -5.54024847e-01, -1.57161544e+00, -3.24940018e-01, -5.43115976e-02,\n",
              "       -1.08560129e+00,  1.42994238e+00,  5.06833958e-02, -1.54651858e+00,\n",
              "       -2.45475861e+00,  7.61347313e-01,  7.91155576e-01,  6.38751797e-01,\n",
              "       -9.22685382e-01, -9.01962048e-01,  5.87375533e-01, -4.11402172e-01,\n",
              "        5.06873874e-03,  6.80073835e-01,  1.12290280e+00, -7.67417183e-01,\n",
              "       -1.51305463e-01,  2.68818087e-01, -6.05659140e-01,  9.81575954e-01,\n",
              "       -1.03729344e+00,  4.73742512e-01, -4.19226173e-01,  1.29051387e+00,\n",
              "        1.45191840e-01, -6.23051612e-01, -2.69255715e-01, -1.24513511e+00,\n",
              "        7.27388647e-01, -1.38485916e-01, -2.07172028e-01,  4.70944360e-01,\n",
              "        5.57052446e-01, -3.74770679e-01, -1.12788246e+00,  1.17112385e+00,\n",
              "        4.52248649e-01,  1.74116531e-01,  8.80931591e-01, -2.41426597e-01,\n",
              "        1.60441582e+00, -1.61384881e-01, -2.04782353e-01,  1.84031574e-01,\n",
              "       -3.03423172e-01, -1.11442766e-01,  1.77008250e-01, -6.51433907e-01,\n",
              "        4.78908774e-01,  9.56847853e-02,  1.98117750e+00, -2.69872307e-01,\n",
              "       -7.15540561e-01, -8.46867429e-01,  4.51804357e-01,  3.28499584e-01,\n",
              "       -8.96613315e-01,  8.83265178e-01, -1.57793062e+00, -8.94427573e-01,\n",
              "       -4.30373815e-01, -2.84448104e-02, -8.47429455e-01,  1.40732819e+00,\n",
              "        1.16421582e+00,  1.70619778e-01,  1.54418283e-01,  9.56198149e-03,\n",
              "        8.55923054e-02,  8.05420519e-01,  8.82914963e-01,  5.23790549e-01,\n",
              "       -3.21153349e-01, -1.45463775e+00, -1.65555653e+00,  2.48738512e-01,\n",
              "       -1.39627125e+00, -5.30414082e-01,  1.13944002e+00,  3.88412621e-01,\n",
              "        1.05311188e-01,  1.60014203e-01,  6.82572393e-01,  6.81193421e-01,\n",
              "       -9.18334329e-01, -1.14637584e+00, -8.36161599e-01, -8.37278805e-02,\n",
              "        2.18955970e+00,  1.89807073e-01,  8.03553697e-02,  1.04510442e+00,\n",
              "        9.21814892e-01, -7.19418761e-01, -2.13849727e+00,  2.59330997e+00,\n",
              "       -4.02176154e-01, -5.54288556e-01,  1.19443515e+00, -1.05083253e+00,\n",
              "       -3.70339350e-01, -1.51160633e+00,  9.17658433e-01, -7.78423602e-01,\n",
              "        4.55627346e-02,  7.56033116e-01, -2.41958437e-01,  2.27398764e+00,\n",
              "       -1.85205981e-01, -1.68299157e+00,  7.39227306e-01,  7.98269322e-01,\n",
              "        8.54735659e-01, -8.13024609e-01, -6.26649593e-01, -1.99881134e-01,\n",
              "        8.03737174e-01, -2.59304156e-01,  1.19964312e+00,  6.87752691e-01,\n",
              "        5.05657864e-01, -9.42888571e-01, -2.05270649e+00, -4.28597483e-03,\n",
              "        1.24996363e+00,  7.59761834e-01, -1.03583219e+00,  6.10614833e-01,\n",
              "       -8.48716028e-02,  3.95389845e-01, -1.34293696e+00, -1.13880190e+00,\n",
              "       -3.53575693e-01,  1.05640215e+00, -4.76943655e-01, -1.55566599e-02,\n",
              "        1.21959898e+00, -6.11289570e-01, -5.86190286e-01, -7.65630111e-01,\n",
              "        1.10829077e+00, -5.85745374e-01, -1.46821813e+00, -7.39171298e-01,\n",
              "        1.68487391e-01,  9.34814456e-02,  5.02783440e-01,  1.14640309e+00,\n",
              "        2.12301248e-01, -5.59704168e-01, -1.98392087e+00,  1.65328710e-01,\n",
              "        7.05072699e-01,  4.24757562e-01,  5.06070094e-01, -7.23604444e-01,\n",
              "        5.33213229e-01, -1.83036927e+00, -1.52840499e+00, -1.86949348e+00,\n",
              "        7.81879879e-01,  6.46062655e-01,  6.38684564e-01,  1.69878718e+00,\n",
              "       -1.24706616e+00,  2.57464725e-01, -4.10707858e-01, -7.18842784e-01,\n",
              "        7.70557068e-01, -4.01575469e-01, -1.09640949e+00,  7.27909470e-01,\n",
              "       -4.98431240e-01, -1.41303925e-01,  8.25853351e-01, -3.27747145e-01,\n",
              "       -3.79066920e-01,  3.73144054e-01,  1.61165248e+00, -1.63808870e+00,\n",
              "        1.64838597e+00,  9.85603101e-01,  4.42198545e-01,  5.80467287e-01,\n",
              "       -1.22873400e+00,  3.81003994e-01,  1.08076183e+00,  1.16765206e-01,\n",
              "       -1.56948555e+00, -3.19835512e-01, -1.42546408e+00, -1.27528006e+00,\n",
              "       -1.12229590e+00,  7.94460946e-01,  1.52788009e+00, -2.00371541e-01,\n",
              "        1.07772890e+00, -5.97182078e-01, -4.35254316e-01,  1.21800532e+00,\n",
              "        2.16365306e+00,  1.23592114e+00, -2.53478242e+00, -4.51652396e-01,\n",
              "        1.76614453e-01,  1.72604030e-01, -1.00176506e+00,  2.67147758e+00,\n",
              "       -1.98712012e+00, -9.20552611e-02, -1.00732405e+00, -4.18640409e-01,\n",
              "       -7.79749960e-02, -7.79220767e-01,  7.04264343e-02, -1.76497698e+00,\n",
              "       -1.09820719e+00,  2.54699898e-01, -1.41801990e+00,  3.08483119e-01,\n",
              "       -6.95547976e-01, -1.30541217e+00, -6.60078776e-02, -8.27229420e-01])"
            ]
          },
          "metadata": {},
          "execution_count": 171
        }
      ]
    },
    {
      "cell_type": "code",
      "metadata": {
        "id": "-nfEHvjqvaAV",
        "colab": {
          "base_uri": "https://localhost:8080/",
          "height": 352
        },
        "outputId": "fe1613fd-7a9f-4bd5-9221-fcdfe6292e63"
      },
      "source": [
        "plt.hist(datos)"
      ],
      "execution_count": null,
      "outputs": [
        {
          "output_type": "execute_result",
          "data": {
            "text/plain": [
              "(array([ 1.,  4., 17., 46., 78., 99., 85., 44., 17.,  9.]),\n",
              " array([-3.46625972, -2.85248599, -2.23871226, -1.62493853, -1.0111648 ,\n",
              "        -0.39739107,  0.21638266,  0.83015639,  1.44393012,  2.05770385,\n",
              "         2.67147758]),\n",
              " <a list of 10 Patch objects>)"
            ]
          },
          "metadata": {},
          "execution_count": 172
        },
        {
          "output_type": "display_data",
          "data": {
            "text/plain": [
              "<Figure size 432x288 with 1 Axes>"
            ],
            "image/png": "[encoded data removed]"
          },
          "metadata": {
            "needs_background": "light"
          }
        }
      ]
    },
    {
      "cell_type": "markdown",
      "metadata": {
        "id": "lg7qTugmv7B5"
      },
      "source": [
        "## Gráfica de dispersión"
      ]
    },
    {
      "cell_type": "code",
      "metadata": {
        "id": "kENqQWTCv1MZ",
        "colab": {
          "base_uri": "https://localhost:8080/",
          "height": 282
        },
        "outputId": "88fa5c17-c1cf-4bdd-e242-a41393c20fd8"
      },
      "source": [
        "# Generamos 200 números aleatorios de 0 a 1, los escalamos para que lleguen de 0 a 10 y luego los trasladamos para que queden entre -5 y 5\n",
        "x = np.random.rand(200) * 10 - 5\n",
        "# Hacemos que y igual a x al cubo y agregamos algo de ruido blanco gaussiano\n",
        "y = x**3 + np.random.normal(0, 20, 200)\n",
        "\n",
        "plt.scatter(x, y)"
      ],
      "execution_count": null,
      "outputs": [
        {
          "output_type": "execute_result",
          "data": {
            "text/plain": [
              "<matplotlib.collections.PathCollection at 0x7f466b65bb50>"
            ]
          },
          "metadata": {},
          "execution_count": 173
        },
        {
          "output_type": "display_data",
          "data": {
            "text/plain": [
              "<Figure size 432x288 with 1 Axes>"
            ],
            "image/png": "[encoded data removed]"
          },
          "metadata": {
            "needs_background": "light"
          }
        }
      ]
    },
    {
      "cell_type": "code",
      "metadata": {
        "id": "T21ElJLiv8UB",
        "colab": {
          "base_uri": "https://localhost:8080/"
        },
        "outputId": "61956b25-e8fe-4011-fb7d-085a7d8dfb9d"
      },
      "source": [
        "x"
      ],
      "execution_count": null,
      "outputs": [
        {
          "output_type": "execute_result",
          "data": {
            "text/plain": [
              "array([ 5.91880332e-02,  2.45028750e+00, -1.06923767e+00,  1.76494346e+00,\n",
              "        3.78829870e+00,  3.80940687e+00, -1.90459801e-01,  3.75617492e+00,\n",
              "       -2.65391968e+00,  3.12290910e+00,  1.08455575e+00,  5.93661132e-01,\n",
              "       -2.57986207e+00, -2.25715230e+00, -4.90620578e+00, -3.97203441e+00,\n",
              "       -4.51957371e+00, -3.82545497e+00, -6.02216169e-01,  1.04073641e+00,\n",
              "       -4.11707519e+00, -1.32839523e+00, -7.10897761e-01, -2.24986413e+00,\n",
              "        2.93945470e+00, -4.89675626e+00, -1.25772921e+00, -1.17813958e-01,\n",
              "        1.51446763e-01,  3.82260839e+00, -1.47671806e-02, -7.74398446e-01,\n",
              "       -5.42476226e-01,  1.09089739e+00,  2.51863064e+00,  2.43630758e-02,\n",
              "        3.39457783e-01, -6.78900786e-01,  7.40999403e-01,  9.24720178e-01,\n",
              "        1.39397281e+00, -2.46916171e+00,  2.74288358e+00, -4.15038263e-01,\n",
              "       -1.27147601e+00,  3.20911758e+00, -3.94126517e+00, -3.36578891e-01,\n",
              "       -2.88562596e+00, -3.63537170e+00, -4.87821220e+00, -3.37685861e-01,\n",
              "        1.41616093e-01, -4.17774283e+00, -8.60844940e-01, -4.58840418e+00,\n",
              "        2.21362553e+00, -1.41882085e+00,  1.72018576e+00,  1.79649311e+00,\n",
              "        6.09253217e-01, -3.56589627e+00,  8.50078929e-02, -4.82507200e+00,\n",
              "        3.45633678e+00,  2.03295925e+00,  2.28610860e+00, -1.65364435e+00,\n",
              "        1.58976143e+00,  1.73387704e+00,  1.25593355e+00, -4.22250005e+00,\n",
              "       -4.32753698e+00,  3.77387825e-03, -4.59063155e+00, -3.41120622e+00,\n",
              "       -3.48964130e-01, -4.13443064e+00, -1.81469494e+00, -1.35367721e+00,\n",
              "       -1.47035564e+00, -4.66159615e+00, -3.27286045e+00, -4.30647147e+00,\n",
              "        1.92625862e+00,  1.03106109e+00,  5.94958707e-01, -3.17663101e+00,\n",
              "       -3.00922298e+00,  1.74422500e+00,  5.14555987e-01, -4.74501870e+00,\n",
              "        3.97547458e+00, -1.67659834e+00, -3.72718018e+00, -3.97385913e+00,\n",
              "        7.49694715e-01,  6.37650722e-01, -4.32454102e+00, -1.95561228e+00,\n",
              "       -9.47426364e-01,  3.76530956e+00,  4.31439913e+00, -5.00435672e-01,\n",
              "        2.00009028e+00, -1.20627580e+00,  3.18517848e+00, -3.46839194e+00,\n",
              "        1.81677215e+00, -4.03286353e+00, -1.60970133e+00, -7.55113916e-01,\n",
              "       -4.04270414e+00,  3.76018579e+00,  2.40997567e+00, -3.50066014e+00,\n",
              "        7.64802277e-01, -2.34037416e+00, -4.44373622e-01,  2.37739171e+00,\n",
              "       -1.57905130e+00,  3.88986561e+00, -9.38478843e-01,  3.80780671e+00,\n",
              "       -3.75004984e+00, -4.13384633e+00, -3.09444937e-01, -1.31785992e+00,\n",
              "       -4.42512827e-01,  3.34628099e+00,  1.36402312e+00, -3.98510405e+00,\n",
              "        1.06539589e+00, -9.28617532e-01,  1.63510461e+00, -3.23666436e+00,\n",
              "       -3.75712456e+00,  2.87881731e+00,  1.48339735e-01, -3.25200305e+00,\n",
              "       -3.85904100e+00, -3.15886676e+00, -4.31310002e-03, -1.99109868e+00,\n",
              "       -1.74966411e+00, -4.64117195e+00, -4.38885713e+00, -4.01673301e-01,\n",
              "        6.10544797e-01, -2.98367928e+00, -1.77205454e+00, -2.16112286e+00,\n",
              "        3.50936051e+00, -4.94034533e+00,  2.49308302e+00, -4.37634273e-02,\n",
              "        3.17435551e+00,  1.62013439e+00, -3.09797977e+00, -3.62717519e+00,\n",
              "        2.41037641e+00,  3.98336402e+00,  4.11228880e+00,  2.32636797e+00,\n",
              "       -5.34487705e-01, -4.82961954e+00, -9.00501201e-01,  4.91904243e+00,\n",
              "        2.56270604e+00, -1.45858833e-02,  2.42563619e+00,  4.62827803e+00,\n",
              "        3.13394580e+00, -3.86892630e+00,  2.56110052e+00,  2.59222459e+00,\n",
              "       -1.84194317e+00,  8.21292339e-01, -4.33885264e+00, -2.26050360e+00,\n",
              "       -3.54275418e+00,  4.01080636e+00,  1.80612135e+00,  4.96701440e+00,\n",
              "        3.95599919e+00, -2.81951896e+00,  3.68633852e+00, -3.95711750e+00,\n",
              "       -4.49634112e+00, -4.74055984e+00,  1.48228022e+00,  3.82192960e+00,\n",
              "       -2.22252721e+00, -3.95215370e+00, -2.17479466e+00,  4.95647279e+00,\n",
              "       -1.02779358e+00, -1.72767603e+00, -1.44085415e-02,  3.26508433e+00])"
            ]
          },
          "metadata": {},
          "execution_count": 174
        }
      ]
    },
    {
      "cell_type": "code",
      "metadata": {
        "id": "efXA_XZNxFCB",
        "colab": {
          "base_uri": "https://localhost:8080/",
          "height": 282
        },
        "outputId": "efb35924-4c1c-4e3b-baa6-0ba775f70077"
      },
      "source": [
        "# Se ocupa la variable y para asignale color a los datos\n",
        "plt.scatter(x, y, c = y)"
      ],
      "execution_count": null,
      "outputs": [
        {
          "output_type": "execute_result",
          "data": {
            "text/plain": [
              "<matplotlib.collections.PathCollection at 0x7f466b5d68d0>"
            ]
          },
          "metadata": {},
          "execution_count": 175
        },
        {
          "output_type": "display_data",
          "data": {
            "text/plain": [
              "<Figure size 432x288 with 1 Axes>"
            ],
            "image/png": "[encoded data removed]"
          },
          "metadata": {
            "needs_background": "light"
          }
        }
      ]
    },
    {
      "cell_type": "code",
      "metadata": {
        "id": "ZrGUBk8ixNvq",
        "colab": {
          "base_uri": "https://localhost:8080/",
          "height": 282
        },
        "outputId": "1e9039c1-cad6-4220-bbec-2034253921b7"
      },
      "source": [
        "# Se elige otra paleta de colores\n",
        "plt.scatter(x, y, c = y, cmap = 'plasma')"
      ],
      "execution_count": null,
      "outputs": [
        {
          "output_type": "execute_result",
          "data": {
            "text/plain": [
              "<matplotlib.collections.PathCollection at 0x7f466b549b10>"
            ]
          },
          "metadata": {},
          "execution_count": 176
        },
        {
          "output_type": "display_data",
          "data": {
            "text/plain": [
              "<Figure size 432x288 with 1 Axes>"
            ],
            "image/png": "[encoded data removed]"
          },
          "metadata": {
            "needs_background": "light"
          }
        }
      ]
    },
    {
      "cell_type": "markdown",
      "metadata": {
        "id": "POig-3gn0z40"
      },
      "source": [
        "## Lineas"
      ]
    },
    {
      "cell_type": "code",
      "metadata": {
        "id": "DtVFSCOh0zSl",
        "colab": {
          "base_uri": "https://localhost:8080/",
          "height": 367
        },
        "outputId": "17322674-9720-4c79-f91d-4aacb1fdc669"
      },
      "source": [
        "# Generamos datos\n",
        "x = np.linspace(0, 10, 100)\n",
        "y = x + 1/3*np.sin(x * 2) - np.cos(x) - 1/7 * np.sin(np.sqrt(x)) + np.random.normal(0, 2, 100)\n",
        "\n",
        "plt.figure(figsize=(10, 5))\n",
        "plt.plot(x, y)\n",
        "plt.title('Gráfica con datos simulados')\n",
        "plt.xlabel('Tiempo')\n",
        "plt.ylabel('Precio')\n"
      ],
      "execution_count": null,
      "outputs": [
        {
          "output_type": "execute_result",
          "data": {
            "text/plain": [
              "Text(0, 0.5, 'Precio')"
            ]
          },
          "metadata": {},
          "execution_count": 177
        },
        {
          "output_type": "display_data",
          "data": {
            "text/plain": [
              "<Figure size 720x360 with 1 Axes>"
            ],
            "image/png": "[encoded data removed]"
          },
          "metadata": {
            "needs_background": "light"
          }
        }
      ]
    },
    {
      "cell_type": "code",
      "metadata": {
        "id": "BsA55Cn9yUhq",
        "colab": {
          "base_uri": "https://localhost:8080/"
        },
        "outputId": "f8e0bf54-07e9-4d1b-a59d-254cbd840eeb"
      },
      "source": [
        "y"
      ],
      "execution_count": null,
      "outputs": [
        {
          "output_type": "execute_result",
          "data": {
            "text/plain": [
              "array([-4.26536218, -3.83398284,  1.27973529, -3.14147998,  2.3834961 ,\n",
              "        3.4583029 , -1.20651833,  0.41491951,  1.64852763, -0.41401768,\n",
              "        2.30149262, -0.88383662, -0.6122763 ,  4.28764381,  3.35008816,\n",
              "        0.27344835,  0.1383008 ,  2.14597949,  3.32447144,  3.08923914,\n",
              "        3.69615414,  1.30778361,  2.4131603 ,  2.50314412,  6.14196616,\n",
              "        5.04142811,  1.73578611,  3.44195146,  4.79621933,  4.03019809,\n",
              "        3.61155913,  5.28066787,  4.04911117,  3.97728306,  7.55000311,\n",
              "        2.93015018,  6.00678457,  4.85938935,  4.50944787,  4.13081918,\n",
              "        5.85660097,  7.06881412,  3.99790286,  4.99143068,  5.78357991,\n",
              "        3.99134446,  2.89785499,  4.31315918,  7.72247758,  1.42295318,\n",
              "        3.44498727,  2.66675127,  4.28622707,  1.65231762,  4.9461529 ,\n",
              "        0.47800259,  7.04475411,  3.63727187,  7.02850858,  3.00090494,\n",
              "        3.64995514,  5.19131607,  5.4968747 ,  4.30685952,  7.70875531,\n",
              "        4.86690008,  4.96912915,  5.19266485,  4.64972517,  9.86477816,\n",
              "        6.69042355,  7.7391356 ,  4.81009967,  5.06722483,  6.18976763,\n",
              "        5.26722378,  8.29937292,  8.57235748,  9.52500741,  5.10112419,\n",
              "       12.17424374,  9.30675233,  9.22660101,  9.89809489,  9.30132009,\n",
              "        8.97767006,  8.75054201, 11.29163182,  6.72669303,  3.57549758,\n",
              "        6.82292832,  7.8342235 ,  9.15365467, 12.008192  ,  9.60281587,\n",
              "        8.7634678 , 14.50485702, 12.74474131, 12.50291141, 10.03024778])"
            ]
          },
          "metadata": {},
          "execution_count": 178
        }
      ]
    },
    {
      "cell_type": "markdown",
      "metadata": {
        "id": "xy9fyqzfO1f_"
      },
      "source": [
        "# Ejercicios"
      ]
    },
    {
      "cell_type": "markdown",
      "metadata": {
        "id": "VrjKsthQO5j6"
      },
      "source": [
        "## 1. Crear un condicional que imprima si un número es par o impar\n",
        "\n",
        "Definir una variable con un número antes del if\n",
        "\n",
        "**Pista**: un número es par si módulo 2 es igual a cero"
      ]
    },
    {
      "cell_type": "code",
      "metadata": {
        "id": "YzwesUwWSZAd"
      },
      "source": [
        "print(3 % 2)\n",
        "4 % 2"
      ],
      "execution_count": null,
      "outputs": []
    },
    {
      "cell_type": "markdown",
      "metadata": {
        "id": "Bu9NtDbuPE19"
      },
      "source": [
        "## 2. Crear un ciclo que imprima todos los números de 1 a n\n",
        "\n",
        "definir n como variable y utilizarla para el ciclo"
      ]
    },
    {
      "cell_type": "markdown",
      "metadata": {
        "id": "C-JOwlJ3POP7"
      },
      "source": [
        "## 3. Crear un ciclo que imprima todos los números pares del uno al n"
      ]
    },
    {
      "cell_type": "markdown",
      "metadata": {
        "id": "kPmzm_gVPTeW"
      },
      "source": [
        "## 4. Crear un ciclo que imprima todos los números impares de 5 a n para n > 5\n",
        "\n",
        "Revisar que n sea mayor a 5 antes de entrar al ciclo, si no lo es, imprimir \"n debe ser mayor a 5\""
      ]
    },
    {
      "cell_type": "markdown",
      "metadata": {
        "id": "DkSEEWQ5Pfqo"
      },
      "source": [
        "## 5. Con un ciclo, crear la siguiente lista: 1, 4, 9, 16, 25, 36 con el método \".append()\""
      ]
    },
    {
      "cell_type": "markdown",
      "metadata": {
        "id": "S3O8b805Pfh2"
      },
      "source": [
        "## 6. Hacer el ejercicio anterior con list comprehension"
      ]
    },
    {
      "cell_type": "markdown",
      "metadata": {
        "id": "sOJ6fC_9PfSl"
      },
      "source": [
        "## 7. Imprimir, linea por linea, el siguiente patrón 3 veces con un ciclo y el operador módulo\n",
        "\n",
        "a \\\\\n",
        "aa \\\\\n",
        "aaa \\\\\n",
        "aaaa \\\\\n",
        "a \\\\\n",
        "aa \\\\\n",
        "aaa \\\\\n",
        "aaaa \\\\\n",
        "\n",
        "\n",
        "**Pista**: Ocupar la siguiente propiedad de las cadenas"
      ]
    },
    {
      "cell_type": "code",
      "metadata": {
        "id": "8H6bty3MR8kC"
      },
      "source": [
        "\"a\" * 5 "
      ],
      "execution_count": null,
      "outputs": []
    },
    {
      "cell_type": "markdown",
      "metadata": {
        "id": "SMDVgmUdS9lz"
      },
      "source": [
        "## 8. Crear una lista sólo con los elementos mayores a n de la siguiente lista.\n",
        "\n",
        "1, 34, 2, 4, 6, 8, 5, 7, 345, 23\n",
        "\n",
        "Con n una variable\n",
        "\n",
        "```python\n",
        "n = 23\n",
        "\n",
        "<bloque del codigo>\n",
        "```"
      ]
    },
    {
      "cell_type": "markdown",
      "metadata": {
        "id": "sEWXKlYVFCu6"
      },
      "source": [
        "## 9. Crear un ciclo que imprima todos los múltiplos de m hasta n\n",
        "\n",
        "E.g. para m = 2 y n = 6 la salida debería ser\n",
        "\n",
        "2 \\\\\n",
        "4 \\\\\n",
        "6 \\\\\n",
        "8 \\\\\n",
        "10 \\\\\n",
        "12"
      ]
    },
    {
      "cell_type": "markdown",
      "metadata": {
        "id": "levMdXnVSW-1"
      },
      "source": [
        "## 10. Ejercicios un poco más complicados\n",
        "\n",
        "- https://www.codechef.com/problems/EID\n",
        "\n",
        "[1, 2, 4, 56, 6, 5, 4, 56, 6]\n",
        "\n",
        "la diferencia minima entre dos elementos distintos de la lista\n",
        "\n",
        "\n",
        "- https://www.codechef.com/problems/CHEGLOVE\n",
        "\n",
        "```python\n",
        "listaA = [7, 2, 3] # Mano\n",
        "listaB = [4, 5, 6] # Guante\n",
        "\n",
        "len(listaA) == len(listaB) # True\n",
        "\n",
        "# Si los elementos de a son menores a los elementos de b element-wise, entonces imprimir\n",
        "print('Queda bien')\n",
        "# Si no, \"voltear el guante\" y hacer la misma verificacion\n",
        "print('Se volteo y todo bien')\n",
        "\n",
        "# Si aun no queda bien\n",
        "print('NO le quedo el guante')\n",
        "\n",
        "```\n",
        "- https://www.codechef.com/problems/SEGM01\n",
        "\n",
        "```python\n",
        "cadena = '000011100111'\n",
        "# Si todos los 1's forman un bloque\n",
        "print(True)\n",
        "# Si no, i.e. hay un cero en medio\n",
        "print(False)\n",
        "\n",
        "```\n",
        "\n",
        "- https://www.codechef.com/problems/HOWMANY\n",
        "\n",
        "```python\n",
        "n = 5454\n",
        "\n",
        "<bloque de código>\n",
        ">> 4\n",
        "```\n",
        "\n",
        "```python\n",
        "str(n) #5454\n",
        "```\n",
        "- https://www.codechef.com/problems/SINS\n",
        "\n",
        "```python\n",
        "m = 11\n",
        "b = 5\n",
        "\n",
        "m, b\n",
        "11, 5\n",
        "6, 5\n",
        "1, 5\n",
        "1, 4\n",
        "1, 3\n",
        "1, 2\n",
        "1, 1\n",
        "\n",
        "# La salida del programa\n",
        "print(m + b)\n",
        "```"
      ]
    },
    {
      "cell_type": "markdown",
      "source": [
        "# 11. Creación de las siguientes funciones"
      ],
      "metadata": {
        "id": "tJH4NVud_G8O"
      }
    },
    {
      "cell_type": "markdown",
      "metadata": {
        "id": "syB6-ykE2sji"
      },
      "source": [
        " - Crear una función para calcular la media (promedio) de una lista\n",
        "\n",
        "\n"
      ]
    },
    {
      "cell_type": "markdown",
      "metadata": {
        "id": "0tpnnSyV2xSg"
      },
      "source": [
        "- Otra para la varianza"
      ]
    },
    {
      "cell_type": "markdown",
      "metadata": {
        "id": "8auj_5pT208G"
      },
      "source": [
        "Los ejercicios 1, 2, 3, 7, 8, 9, convertirlos en funciones"
      ]
    },
    {
      "cell_type": "markdown",
      "metadata": {
        "id": "8YI5H3AWONHW"
      },
      "source": [
        "# Ligas últiles"
      ]
    },
    {
      "cell_type": "markdown",
      "metadata": {
        "id": "sFVNgYduOQNg"
      },
      "source": [
        "- [operadores](https://www.w3schools.com/python/python_operators.asp)\n",
        "- [list comprehension](https://www.w3schools.com/python/python_lists_comprehension.asp)"
      ]
    }
  ]
}