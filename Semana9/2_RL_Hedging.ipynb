{
  "cells": [
    {
      "cell_type": "markdown",
      "source": [
        "[![Open In Colab](https://colab.research.google.com/assets/colab-badge.svg)](https://colab.research.google.com/github/MaxMitre/Aplicaciones-Financieras/blob/main/Semana9/2_RL_Hedging.ipynb)\n"
      ],
      "metadata": {
        "id": "bsmNyfaiLGXb"
      }
    },
    {
      "cell_type": "markdown",
      "source": [
        "# Reinforcement Learning (Aprendizaje por refuerzo) - Hedging en opciones"
      ],
      "metadata": {
        "id": "LgzsbunkPt3q"
      }
    },
    {
      "cell_type": "markdown",
      "source": [
        "Se realizarán las simulaciones de 3 millones de trayectorias como posibles movimientos de un activo que serán calculados utilizando la fórmula de Black-Scholes (a veces conocida como Black-Scholes-Merton) y con esto se entrenará un agente de aprendizaje por refuerzo."
      ],
      "metadata": {
        "id": "7VMpFWsMDo9K"
      }
    },
    {
      "cell_type": "markdown",
      "source": [
        "# Dependencias"
      ],
      "metadata": {
        "id": "XjYeio_xaF5n"
      }
    },
    {
      "cell_type": "code",
      "execution_count": null,
      "metadata": {
        "id": "-dsbufATU_5E"
      },
      "outputs": [],
      "source": [
        "import numpy as np\n",
        "from scipy.stats import norm\n",
        "import random\n",
        "import matplotlib.pyplot as plt\n",
        "import pandas as pd\n",
        "\n",
        "from tqdm.notebook import tqdm\n",
        "\n",
        "n = norm.pdf\n",
        "N = norm.cdf"
      ]
    },
    {
      "cell_type": "code",
      "source": [
        "from google.colab import drive\n",
        "drive.mount('/content/drive')"
      ],
      "metadata": {
        "id": "32ZsfrDbcEUE",
        "colab": {
          "base_uri": "https://localhost:8080/"
        },
        "outputId": "7a23ab19-3455-4d3f-d535-892e1835e030"
      },
      "execution_count": null,
      "outputs": [
        {
          "output_type": "stream",
          "name": "stdout",
          "text": [
            "Mounted at /content/drive\n"
          ]
        }
      ]
    },
    {
      "cell_type": "code",
      "source": [
        "# Ejemplo de la función auxiliar\n",
        "total = 0\n",
        "for i in tqdm(range(10000000)):\n",
        "  total += 1"
      ],
      "metadata": {
        "id": "dU3d65hNJw5s",
        "colab": {
          "base_uri": "https://localhost:8080/",
          "height": 49,
          "referenced_widgets": [
            "f17f0c83f31e40d1b4a72e0dc6f3f036",
            "b0be9c046aed45d7a77e9e0666ed4bef",
            "df3bfad38b484dd691bf15c4fea92594",
            "a124b97d6f544a63979e931f0272b910",
            "9dfa0fe0ca924aaea9c8fc16582d49a6",
            "dd3ae1947b604abeae4fdfbcc538310e",
            "3b2a3df2e6544a329ddbaf681163a609",
            "6f6091b534f64230ac323eac76780b52",
            "6228342b7bb544ae9c2a6336754123ac",
            "b746bac7477c421faf5c51101866a704",
            "2b386e6f04cb4da49997f8165772ced5"
          ]
        },
        "outputId": "48078f9f-4b16-4f08-f3e8-00ef764f1efb"
      },
      "execution_count": null,
      "outputs": [
        {
          "output_type": "display_data",
          "data": {
            "text/plain": [
              "  0%|          | 0/10000000 [00:00<?, ?it/s]"
            ],
            "application/vnd.jupyter.widget-view+json": {
              "version_major": 2,
              "version_minor": 0,
              "model_id": "f17f0c83f31e40d1b4a72e0dc6f3f036"
            }
          },
          "metadata": {}
        }
      ]
    },
    {
      "cell_type": "markdown",
      "source": [
        "# Funciones Auxiliares"
      ],
      "metadata": {
        "id": "kk74pvlkaIyV"
      }
    },
    {
      "cell_type": "code",
      "execution_count": null,
      "metadata": {
        "id": "CNgbEvC0U_5H"
      },
      "outputs": [],
      "source": [
        "# Para la simulación de las trayectorias de la acción utilizando Black-Scholes\n",
        "def brownian_sim(num_path, num_period, mu, std, init_p, dt):\n",
        "    z = np.random.normal(size=(num_path, num_period))\n",
        "\n",
        "    a_price = np.zeros((num_path, num_period))\n",
        "    a_price[:, 0] = init_p\n",
        "\n",
        "    for t in range(num_period - 1):\n",
        "        a_price[:, t+1] = a_price[:, t] * np.exp(\n",
        "            (mu - (std ** 2) / 2) * dt + std * np.sqrt(dt) * z[:, t]\n",
        "        )\n",
        "    return a_price\n",
        "\n",
        "# Función para la valuación de Opciones (Call) y cálculo de Delta usando Black-Scholes\n",
        "# T es el tiempo de madurez anualizado\n",
        "def bs_parameter(v, T, S, K, r, q):\n",
        "    np.seterr(divide='ignore', invalid='ignore')\n",
        "    d1 = (np.log(S / K) + (r - q + v * v / 2) * T) / (v * np.sqrt(T))\n",
        "    d2 = d1 - v * np.sqrt(T)\n",
        "    bs_price = S * np.exp(-q * T) * norm.cdf(d1) - K * np.exp(-r * T) * norm.cdf(d2)\n",
        "    bs_delta = np.exp(-q * T) * norm.cdf(d1)\n",
        "    return bs_price, bs_delta\n"
      ]
    },
    {
      "cell_type": "code",
      "execution_count": null,
      "metadata": {
        "id": "P3cejy7_U_5I"
      },
      "outputs": [],
      "source": [
        "# Define el numero de trayectorias generadas para entrenamiento y prueba\n",
        "TRAINING_SAMPLE = 3000000 # 3,000K\n",
        "TESTING_SAMPLE = 100000 # 100K\n",
        "\n",
        "# Características del activo subyacente\n",
        "# Retorno anual de la acción\n",
        "MU = 0\n",
        "# Volatilidad anual\n",
        "VOL = 0.2\n",
        "# Valor inicial del activo\n",
        "S = 100\n",
        "# Retorno anual ofrecido por un activo con cero riesgo (Risk Free Rate)\n",
        "R = 0.05\n",
        "# Dividendos anuales\n",
        "DIVIDEND = 0\n",
        "# Días al año para compra-venta (trading)\n",
        "T = 250\n",
        "\n",
        "# Características de la Opción Call\n",
        "# Precio acordado en la Opción (Strike)\n",
        "K = 100\n",
        "# Tiempo de madurez de la opción\n",
        "M = 10\n",
        "# Número de posiciones posibles[de 0 a 10] (estado)\n",
        "N_POSITION = 11\n",
        "# Número de acciones posibles [de -5 a 5]\n",
        "N_ACTION = 11\n",
        "\n",
        "# Costo por 'Trading', medido porcentualmente\n",
        "TRADING_COST = 0.01\n",
        "\n",
        "# Definición de variables para aprendizaje por refuerzo\n",
        "# Constante para la función de recompensa\n",
        "constant = 1\n",
        "# epsilon mínimo\n",
        "MIN_e = 0.05\n",
        "# epsilon inicial\n",
        "e = 1\n",
        "# Decaimiento temporal\n",
        "DECAY = 0.999999\n",
        "\n",
        "# Parámetros para actualizar Q\n",
        "ALPHA = 0.5\n",
        "\n",
        "# Escoger el número de estados para el precio de la acción. Los precios se redondean al entero mas cercano.\n",
        "# Precios mayores o iguales a 107 son tomados como el mismo estado\n",
        "# Precios menores o iguales a 93 son tomados como el mismo estado\n",
        "STOCK_PRICE_STATE = 15"
      ]
    },
    {
      "cell_type": "code",
      "execution_count": null,
      "metadata": {
        "id": "6NDde-FmU_5J"
      },
      "outputs": [],
      "source": [
        "# Avance de tiempo por día\n",
        "dt = 1/T\n",
        "\n",
        "# Serie para el tiempo de madurez de la opción\n",
        "ttm = np.arange(M,-1, -1)"
      ]
    },
    {
      "cell_type": "code",
      "execution_count": null,
      "metadata": {
        "id": "4qy44wfqU_5K"
      },
      "outputs": [],
      "source": [
        "# Inicializa Q con valores cero para los pares estado-decisión (acción)\n",
        "q = np.zeros((M+1,STOCK_PRICE_STATE,N_POSITION,N_ACTION))"
      ]
    },
    {
      "cell_type": "code",
      "source": [
        "# Las dimensions representan: Madurez, Precio de activo, Estado de Hedge, Acción a tomar\n",
        "q.shape"
      ],
      "metadata": {
        "id": "rNG9L0NWbpoD",
        "colab": {
          "base_uri": "https://localhost:8080/"
        },
        "outputId": "1747d7c8-83db-40d7-d0ad-10d763b83da0"
      },
      "execution_count": null,
      "outputs": [
        {
          "output_type": "execute_result",
          "data": {
            "text/plain": [
              "(11, 15, 11, 11)"
            ]
          },
          "metadata": {},
          "execution_count": 10
        }
      ]
    },
    {
      "cell_type": "code",
      "source": [
        "# Acciones a tomar cuando\n",
        "# El tiempo de madurez llegó a 10, el precio del activo es 100 (la posición del 7) y posee 8 opciones\n",
        "q[10,7,8]"
      ],
      "metadata": {
        "id": "P7vWkC1sRarl",
        "colab": {
          "base_uri": "https://localhost:8080/"
        },
        "outputId": "798408fb-900b-477f-b258-e2ef1406419e"
      },
      "execution_count": null,
      "outputs": [
        {
          "output_type": "execute_result",
          "data": {
            "text/plain": [
              "array([0., 0., 0., 0., 0., 0., 0., 0., 0., 0., 0.])"
            ]
          },
          "metadata": {},
          "execution_count": 11
        }
      ]
    },
    {
      "cell_type": "markdown",
      "source": [
        "# Fase de entrenamiento"
      ],
      "metadata": {
        "id": "fUFvGkYAc18R"
      }
    },
    {
      "cell_type": "code",
      "source": [
        "# Solo para mejorar visualmente\n",
        "np.set_printoptions(suppress=True)"
      ],
      "metadata": {
        "id": "ea8N4D8WeIcR"
      },
      "execution_count": null,
      "outputs": []
    },
    {
      "cell_type": "code",
      "source": [
        "# Simulación de trayectorias y cálculo de parámetros BS para fase de entrenamiento\n",
        "price_table = brownian_sim(TRAINING_SAMPLE,M+1, MU, VOL, S, dt)\n",
        "call_price_table, delta_table = bs_parameter(VOL, ttm / T, price_table, K,R, DIVIDEND)\n",
        "print(\"Simulación de trayectorias de activos y calculo de parámetros BS completados\")"
      ],
      "metadata": {
        "id": "wFI4RVQRdFae",
        "colab": {
          "base_uri": "https://localhost:8080/"
        },
        "outputId": "60c28f7f-1430-43f7-bf88-ad603c290590"
      },
      "execution_count": null,
      "outputs": [
        {
          "output_type": "stream",
          "name": "stdout",
          "text": [
            "Simulación de trayectorias de activos y calculo de parámetros BS completados\n"
          ]
        }
      ]
    },
    {
      "cell_type": "code",
      "source": [
        "price_table.shape"
      ],
      "metadata": {
        "id": "KeqsZhbBmdJe",
        "colab": {
          "base_uri": "https://localhost:8080/"
        },
        "outputId": "853d0634-2d2f-48f5-800e-291bb2211cf1"
      },
      "execution_count": null,
      "outputs": [
        {
          "output_type": "execute_result",
          "data": {
            "text/plain": [
              "(3000000, 11)"
            ]
          },
          "metadata": {},
          "execution_count": 14
        }
      ]
    },
    {
      "cell_type": "code",
      "source": [
        "# Varios caminos (puede ser uno solo cambiando el rango)\n",
        "for i in range(50):\n",
        "  plt.plot(price_table[i,:])"
      ],
      "metadata": {
        "id": "vMxTeBc8mnHH",
        "colab": {
          "base_uri": "https://localhost:8080/",
          "height": 430
        },
        "outputId": "ca7fed5d-fd10-4370-c1b5-1b769b7ecb11"
      },
      "execution_count": null,
      "outputs": [
        {
          "output_type": "display_data",
          "data": {
            "text/plain": [
              "<Figure size 640x480 with 1 Axes>"
            ],
            "image/png": "[encoded data removed]"
          },
          "metadata": {}
        }
      ]
    },
    {
      "cell_type": "code",
      "source": [
        "# Podremos ver el elemento j-ésimo de la tabla de precios, precio del call, etc\n",
        "j=4"
      ],
      "metadata": {
        "id": "Zy8UvzEQd5s5"
      },
      "execution_count": null,
      "outputs": []
    },
    {
      "cell_type": "code",
      "source": [
        "price_table[j]"
      ],
      "metadata": {
        "id": "v8NKWupOdvSj",
        "colab": {
          "base_uri": "https://localhost:8080/"
        },
        "outputId": "5e78f72a-813d-424a-fe12-de41bf3d049f"
      },
      "execution_count": null,
      "outputs": [
        {
          "output_type": "execute_result",
          "data": {
            "text/plain": [
              "array([100.        ,  98.52622401,  96.95171462,  97.01272334,\n",
              "       100.01447367, 100.93882475,  99.75663176,  98.83241698,\n",
              "       100.12941817, 102.57295578, 103.14373608])"
            ]
          },
          "metadata": {},
          "execution_count": 17
        }
      ]
    },
    {
      "cell_type": "code",
      "source": [
        "call_price_table[j]"
      ],
      "metadata": {
        "id": "VvAlsCskdMeL",
        "colab": {
          "base_uri": "https://localhost:8080/"
        },
        "outputId": "986cc409-0cad-4eae-879f-36ebd3bdda3a"
      },
      "execution_count": null,
      "outputs": [
        {
          "output_type": "execute_result",
          "data": {
            "text/plain": [
              "array([1.69596065, 0.94216717, 0.40796842, 0.35293812, 1.30374036,\n",
              "       1.72740205, 0.9280021 , 0.42487127, 0.80186062, 2.60314495,\n",
              "       3.14373608])"
            ]
          },
          "metadata": {},
          "execution_count": 18
        }
      ]
    },
    {
      "cell_type": "code",
      "source": [
        "delta_table[j]"
      ],
      "metadata": {
        "id": "t3mU3tspdzGA",
        "colab": {
          "base_uri": "https://localhost:8080/"
        },
        "outputId": "5cdf469d-4ce2-4242-c537-22c29dc68086"
      },
      "execution_count": null,
      "outputs": [
        {
          "output_type": "execute_result",
          "data": {
            "text/plain": [
              "array([0.52790317, 0.37264482, 0.21108336, 0.19831436, 0.52348125,\n",
              "       0.64798043, 0.47924638, 0.30934024, 0.54125864, 0.97884755,\n",
              "       1.        ])"
            ]
          },
          "metadata": {},
          "execution_count": 19
        }
      ]
    },
    {
      "cell_type": "code",
      "source": [
        "# Redondeo de los precios de activo y convertirlos a los 15 diferentes estados\n",
        "# [<=93,94,95,96, ... 103,104,105,106, >= 107] - > [0,1,2,3,4,5,....12,13,14,15]\n",
        "price_state_table = np.round(price_table).astype(int)\n",
        "price_state_table = np.where(price_state_table < 93, 93, price_state_table)\n",
        "price_state_table = np.where(price_state_table > 107, 107, price_state_table)\n",
        "price_state_table = price_state_table - 93"
      ],
      "metadata": {
        "id": "cLBU2gg_fM53"
      },
      "execution_count": null,
      "outputs": []
    },
    {
      "cell_type": "code",
      "source": [
        "price_table[4]"
      ],
      "metadata": {
        "id": "77-DiKGngBr3",
        "colab": {
          "base_uri": "https://localhost:8080/"
        },
        "outputId": "1917a73e-fde7-4cfa-ad28-57f57d90b79d"
      },
      "execution_count": null,
      "outputs": [
        {
          "output_type": "execute_result",
          "data": {
            "text/plain": [
              "array([100.        ,  98.52622401,  96.95171462,  97.01272334,\n",
              "       100.01447367, 100.93882475,  99.75663176,  98.83241698,\n",
              "       100.12941817, 102.57295578, 103.14373608])"
            ]
          },
          "metadata": {},
          "execution_count": 21
        }
      ]
    },
    {
      "cell_type": "code",
      "source": [
        "price_state_table[4]"
      ],
      "metadata": {
        "id": "ZlHKN0bbTSo3",
        "colab": {
          "base_uri": "https://localhost:8080/"
        },
        "outputId": "ceff0f91-4d4b-46a0-a549-9a574225d669"
      },
      "execution_count": null,
      "outputs": [
        {
          "output_type": "execute_result",
          "data": {
            "text/plain": [
              "array([ 7,  6,  4,  4,  7,  8,  7,  6,  7, 10, 10])"
            ]
          },
          "metadata": {},
          "execution_count": 22
        }
      ]
    },
    {
      "cell_type": "code",
      "execution_count": null,
      "metadata": {
        "scrolled": true,
        "id": "J7QO1ZM4U_5K",
        "colab": {
          "base_uri": "https://localhost:8080/",
          "height": 66,
          "referenced_widgets": [
            "c35ff220895d49879925135fddd803c9",
            "b3f4caa5ce0f42d4a40d8c3df7419a82",
            "51da38086d204431b3d1b7d9a1870baf",
            "95a4e5602401467caae56d193c80f226",
            "3be8063da8794ee1b9d7845cea043661",
            "b627acad908f42cd84536c91492a69f6",
            "4a83e52788bb4505b74e3fe1546be5d7",
            "6ad1873b2edd41d68427d8dbb6fd391a",
            "bf37afc40abe4fe5ac93328806f504db",
            "42aad5a032ac4ae7b94a75c98d15beb6",
            "9cad577c58754ea38c17ffa09480fa08"
          ]
        },
        "outputId": "598f97b2-3ab4-49db-c5ef-e32d2b563781"
      },
      "outputs": [
        {
          "output_type": "stream",
          "name": "stdout",
          "text": [
            "Entrenamiento en proceso:\n"
          ]
        },
        {
          "output_type": "display_data",
          "data": {
            "text/plain": [
              "  0%|          | 0/3000000 [00:00<?, ?it/s]"
            ],
            "application/vnd.jupyter.widget-view+json": {
              "version_major": 2,
              "version_minor": 0,
              "model_id": "c35ff220895d49879925135fddd803c9"
            }
          },
          "metadata": {}
        }
      ],
      "source": [
        "print(\"Entrenamiento en proceso:\")\n",
        "\n",
        "for i in tqdm(range(len(price_table))):\n",
        "\n",
        "    asset_price = price_table[i]\n",
        "    price_state = price_state_table[i]\n",
        "    bscall = call_price_table[i]\n",
        "    position = 0\n",
        "    position_list = np.empty(0, dtype=int)\n",
        "    reward_list = np.empty(0, dtype=int)\n",
        "    action_list = np.empty(0, dtype=int)\n",
        "    total_reward = np.empty(0, dtype=int)\n",
        "\n",
        "    # El agente ve el estado\n",
        "    # El agente toma una desicion (ésta desición modifica el estado en el que está)\n",
        "    # Se actualiza la Q\n",
        "    # Se calcula la recompensa\n",
        "    # Se repite el ciclo\n",
        "\n",
        "    for t in range(M):\n",
        "        if np.random.rand() <= e:\n",
        "            # Aplicamos EXPLORACIÓN\n",
        "            # Note que el rango de las acciones está entre vender 5 shares y comprar 5 shares\n",
        "            # Por eso aquí se restan 5 a la acción tomada\n",
        "            action = random.randrange(0,N_ACTION) - 5\n",
        "        else:\n",
        "            # EXPLOTACIÓN\n",
        "            # Asumimos que en el tiempo 0 el agente tiene 0 shares\n",
        "            if t == 0:\n",
        "                lookup_position = 0\n",
        "\n",
        "            else:\n",
        "                lookup_position = position_list[t-1]\n",
        "            # Si se activa 'explotación', encuentra el mínimo valor no-cero en Q\n",
        "            # Se usa un 'try' porque el agente puede llegar a un estado no visitado antes y ahi todos los valores de Q son ceros\n",
        "            # Si el agente llega a un estado en que nunca ha estado antes, se toma una acción al azar\n",
        "            try:\n",
        "                action = np.where(q[t][price_state[t]][lookup_position]==np.min(q[t][price_state[t]][lookup_position][np.nonzero(q[t][price_state[t]][lookup_position])]))[0][0] - 5\n",
        "            except:\n",
        "                action = random.randrange(0,N_ACTION) - 5\n",
        "\n",
        "        # Obligando al agente a que solo tenga entre 0 y 10 shares\n",
        "        if position + action >10:\n",
        "            action = 10 - position\n",
        "            new_position = 10\n",
        "        elif position + action <0:\n",
        "            action = -position\n",
        "            new_position = 0\n",
        "        else:\n",
        "            new_position = action + position\n",
        "\n",
        "        # Condicional para calcular el costo por transacción (cuando no es cero) Nota: Cuando se quiere encontrar delta para delta hedging, el costo por transacción es 0\n",
        "        # Si t es un día antes de la fecha de madurez, se cobra un extra por venderlos al final del periodo\n",
        "        if t == M-1:\n",
        "            transaction_cost = (asset_price[t]*abs(new_position - position)*TRADING_COST + new_position*asset_price[t+1]*TRADING_COST)\n",
        "        else:\n",
        "            transaction_cost = (asset_price[t]*abs(new_position - position)*TRADING_COST)\n",
        "\n",
        "        # La Recompensa se calcula como\n",
        "        # PNL es una formulación en la que el hedge se calcula en cada etapa\n",
        "        # expected hedging cost + constant * variance of total pnl from hedging.\n",
        "\n",
        "        # Buscando delta, la recompensa es minimizando la varianza de P&L total del caso de hedging\n",
        "        # La constante se toma 1 para el caso de buscar delta.\n",
        "        reward = transaction_cost + constant * (transaction_cost-(asset_price[t+1] - asset_price[t])*new_position+10*(bscall[t+1] - bscall[t]))**2\n",
        "\n",
        "        position_list= np.append(position_list,new_position)\n",
        "        position = new_position\n",
        "        action_list = np.append(action_list,action)\n",
        "        reward_list = np.append(reward_list,reward)\n",
        "\n",
        "\n",
        "    position_list = np.append(position_list,0)\n",
        "    action_list = np.append(action_list,0)\n",
        "    total_reward  = np.append(total_reward,sum(reward_list))\n",
        "\n",
        "    # Convierte la lista de acciones de -5 a 5 en la de 0 a 10, la tabla empieza con el índice 0\n",
        "    # Es decir: índice 0 en la tabla significa acción = -5 e índice 10 en tabla significa acción = 5\n",
        "    action_list = action_list + 5\n",
        "\n",
        "    # Actualizar Q\n",
        "    for t in range(M):\n",
        "        if t == 0:\n",
        "            lookup_position = 0\n",
        "        else:\n",
        "            lookup_position = position_list[t-1]\n",
        "        qnew = reward_list[t] + q[t+1][price_state[t+1]][position_list[t]][action_list[t+1]]\n",
        "        q[t][price_state[t]][lookup_position][action_list[t]] = q[t][price_state[t]][lookup_position][action_list[t]] + ALPHA * (qnew - q[t][price_state[t]][lookup_position][action_list[t]])\n",
        "\n",
        "    # Decae con el tiempo (epsilon) para que el agente se vuela mas propenso a usar EXPLOTACIÓN\n",
        "    if e > MIN_e:\n",
        "        e = e * DECAY\n",
        "\n",
        "# Save Q at the end after training\n",
        "np.save('/content/drive/MyDrive/Cruso-ApsFinancieras/semana10/Q_RL_Hedging',q)"
      ]
    },
    {
      "cell_type": "markdown",
      "source": [
        "Estamos en el estado $S_t$, el agente ve esto y toma una acción $a_t$ y esto nos lleva a un nuevo estado $S_{t+1}$"
      ],
      "metadata": {
        "id": "5KRa5fnme1dQ"
      }
    },
    {
      "cell_type": "markdown",
      "source": [
        "# Fase de pruebas\n",
        "\n",
        "Aquí el agente ya no está interesado en aprender, solo en llevar a cabo la mejor decisión posible\n"
      ],
      "metadata": {
        "id": "VIf4fwG9c4rg"
      }
    },
    {
      "cell_type": "code",
      "source": [
        "# Cargar Q de entrenamiento\n",
        "q = np.load('/content/drive/MyDrive/Cruso-ApsFinancieras/semana10/Q_RL_Hedging.npy')"
      ],
      "metadata": {
        "id": "MHqdGC4OjH96"
      },
      "execution_count": null,
      "outputs": []
    },
    {
      "cell_type": "code",
      "source": [
        "q.shape"
      ],
      "metadata": {
        "id": "W9cPAk5upvl-",
        "colab": {
          "base_uri": "https://localhost:8080/"
        },
        "outputId": "eab40cd2-eec8-4076-b8d0-dfcf1cde8d77"
      },
      "execution_count": null,
      "outputs": [
        {
          "output_type": "execute_result",
          "data": {
            "text/plain": [
              "(11, 15, 11, 11)"
            ]
          },
          "metadata": {},
          "execution_count": 25
        }
      ]
    },
    {
      "cell_type": "code",
      "source": [
        "[0,  1, 2, 3, 4, 5, 6,  7,  8,  9, 10, 11, 12, 13,  14,  15]\n",
        "\n",
        "[93,94,95,96,97,98,99,100,101,102,103,104,105,106, 107, 108]"
      ],
      "metadata": {
        "id": "I2CvabgyFfrk",
        "colab": {
          "base_uri": "https://localhost:8080/"
        },
        "outputId": "659583ba-a869-486c-f162-dee5c21fc471"
      },
      "execution_count": null,
      "outputs": [
        {
          "output_type": "execute_result",
          "data": {
            "text/plain": [
              "[93, 94, 95, 96, 97, 98, 99, 100, 101, 102, 103, 104, 105, 106, 107, 108]"
            ]
          },
          "metadata": {},
          "execution_count": 26
        }
      ]
    },
    {
      "cell_type": "code",
      "source": [
        "#  Recordando: q = np.zeros((M+1,STOCK_PRICE_STATE,N_POSITION,N_ACTION))\n",
        "q[     6,    0,        10]"
      ],
      "metadata": {
        "id": "Zqg3yYm4WJsq",
        "colab": {
          "base_uri": "https://localhost:8080/"
        },
        "outputId": "a0ea2a06-2058-43cb-8925-2d3b159cb803"
      },
      "execution_count": null,
      "outputs": [
        {
          "output_type": "execute_result",
          "data": {
            "text/plain": [
              "array([ 86.32787193,  87.54014988,  87.57458716,  89.24310366,\n",
              "        93.32943902, 284.535778  ,   0.        ,   0.        ,\n",
              "         0.        ,   0.        ,   0.        ])"
            ]
          },
          "metadata": {},
          "execution_count": 27
        }
      ]
    },
    {
      "cell_type": "code",
      "source": [
        "# Simulación de trayectorias y cálculo de parámetros BS para fase de entrenamiento de pruebas\n",
        "price_table = brownian_sim(TESTING_SAMPLE,M+1, MU, VOL, S, dt)\n",
        "call_price_table, delta_table = bs_parameter(VOL, ttm / T, price_table, K,R, DIVIDEND)"
      ],
      "metadata": {
        "id": "DmTY-sGQjK_T"
      },
      "execution_count": null,
      "outputs": []
    },
    {
      "cell_type": "code",
      "source": [
        "delta_table"
      ],
      "metadata": {
        "id": "A-2qoPGYKzFO",
        "colab": {
          "base_uri": "https://localhost:8080/"
        },
        "outputId": "58904c3a-56fd-40be-fac0-87811f28fd39"
      },
      "execution_count": null,
      "outputs": [
        {
          "output_type": "execute_result",
          "data": {
            "text/plain": [
              "array([[0.52790317, 0.41422641, 0.40989642, ..., 0.58475268, 0.10675773,\n",
              "        0.        ],\n",
              "       [0.52790317, 0.34215071, 0.09784677, ..., 0.93085311, 0.75105205,\n",
              "        0.        ],\n",
              "       [0.52790317, 0.39759672, 0.26088908, ..., 0.00000166, 0.        ,\n",
              "        0.        ],\n",
              "       ...,\n",
              "       [0.52790317, 0.49591921, 0.59585778, ..., 0.25539277, 0.79339145,\n",
              "        1.        ],\n",
              "       [0.52790317, 0.59180817, 0.62520466, ..., 0.31746351, 0.03215476,\n",
              "        0.        ],\n",
              "       [0.52790317, 0.49290856, 0.62258046, ..., 0.99999999, 1.        ,\n",
              "        1.        ]])"
            ]
          },
          "metadata": {},
          "execution_count": 29
        }
      ]
    },
    {
      "cell_type": "code",
      "source": [
        "# Redondear delta al primer decimal mas cercano\n",
        "rounded_delta = np.round(delta_table*100/10,0).astype(int)/10\n",
        "print(\"Simulación de trayectorias de activos y calculo de parámetros BS completados\")\n",
        "\n",
        "# Redondeo de los precios de activo y convertirlos a los 15 diferentes estados\n",
        "# [<=93,94,95,96, ... 103,104,105,106, >= 107] - > [0,1,2,3,4,5,....12,13,14,15]\n",
        "price_state_table = np.round(price_table).astype(int)\n",
        "price_state_table = np.where(price_state_table < 93, 93, price_state_table)\n",
        "price_state_table = np.where(price_state_table > 107, 107, price_state_table)\n",
        "price_state_table = price_state_table - 93"
      ],
      "metadata": {
        "id": "IXQtISYpjP3W",
        "colab": {
          "base_uri": "https://localhost:8080/"
        },
        "outputId": "960eaf9f-1f35-40e3-a322-4035f2692c5c"
      },
      "execution_count": null,
      "outputs": [
        {
          "output_type": "stream",
          "name": "stdout",
          "text": [
            "Simulación de trayectorias de activos y calculo de parámetros BS completados\n"
          ]
        }
      ]
    },
    {
      "cell_type": "code",
      "source": [
        "rounded_delta"
      ],
      "metadata": {
        "id": "mETLiRN0yYBR",
        "colab": {
          "base_uri": "https://localhost:8080/"
        },
        "outputId": "a251d89e-ffe9-4b0e-e1a5-5f8fc50f88e1"
      },
      "execution_count": null,
      "outputs": [
        {
          "output_type": "execute_result",
          "data": {
            "text/plain": [
              "array([[0.5, 0.4, 0.4, ..., 0.6, 0.1, 0. ],\n",
              "       [0.5, 0.3, 0.1, ..., 0.9, 0.8, 0. ],\n",
              "       [0.5, 0.4, 0.3, ..., 0. , 0. , 0. ],\n",
              "       ...,\n",
              "       [0.5, 0.5, 0.6, ..., 0.3, 0.8, 1. ],\n",
              "       [0.5, 0.6, 0.6, ..., 0.3, 0. , 0. ],\n",
              "       [0.5, 0.5, 0.6, ..., 1. , 1. , 1. ]])"
            ]
          },
          "metadata": {},
          "execution_count": 31
        }
      ]
    },
    {
      "cell_type": "code",
      "source": [
        "delta_table"
      ],
      "metadata": {
        "id": "TycH3edByb1L",
        "colab": {
          "base_uri": "https://localhost:8080/"
        },
        "outputId": "799c2fe6-b2ce-4af6-f715-b914b969d673"
      },
      "execution_count": null,
      "outputs": [
        {
          "output_type": "execute_result",
          "data": {
            "text/plain": [
              "array([[0.52790317, 0.41422641, 0.40989642, ..., 0.58475268, 0.10675773,\n",
              "        0.        ],\n",
              "       [0.52790317, 0.34215071, 0.09784677, ..., 0.93085311, 0.75105205,\n",
              "        0.        ],\n",
              "       [0.52790317, 0.39759672, 0.26088908, ..., 0.00000166, 0.        ,\n",
              "        0.        ],\n",
              "       ...,\n",
              "       [0.52790317, 0.49591921, 0.59585778, ..., 0.25539277, 0.79339145,\n",
              "        1.        ],\n",
              "       [0.52790317, 0.59180817, 0.62520466, ..., 0.31746351, 0.03215476,\n",
              "        0.        ],\n",
              "       [0.52790317, 0.49290856, 0.62258046, ..., 0.99999999, 1.        ,\n",
              "        1.        ]])"
            ]
          },
          "metadata": {},
          "execution_count": 32
        }
      ]
    },
    {
      "cell_type": "code",
      "execution_count": null,
      "metadata": {
        "id": "vhgPLlF8U_5M",
        "colab": {
          "base_uri": "https://localhost:8080/",
          "height": 292,
          "referenced_widgets": [
            "b91206f794774cdc8577ce8444703c30",
            "e2b2c1abde84408ab0a9d9b0291663ca",
            "ce9e9c86e94c4264b17573ff02b8b168",
            "0aead5e951e84a8cbf6172ead57aae9c",
            "96915856926848baa7a2ef9d135ddf89",
            "fb0ad0f75df84348b11c3fd9bfc5f395",
            "ccba5db61e9a4003a9e2798d57c9d81c",
            "99be590bf7f44721b1dc094d0652e6ab",
            "fc06a88d2cdb4ba18bf9d490116a3e7a",
            "870487787a224a238c64eabf78ac65f3",
            "1ab1254a43894524bb6c13b8bd0a1f47"
          ]
        },
        "outputId": "3ea46373-aac1-4d90-aa03-7166743f73a4"
      },
      "outputs": [
        {
          "output_type": "stream",
          "name": "stdout",
          "text": [
            "Test is in progress:\n"
          ]
        },
        {
          "output_type": "display_data",
          "data": {
            "text/plain": [
              "  0%|          | 0/100000 [00:00<?, ?it/s]"
            ],
            "application/vnd.jupyter.widget-view+json": {
              "version_major": 2,
              "version_minor": 0,
              "model_id": "b91206f794774cdc8577ce8444703c30"
            }
          },
          "metadata": {}
        },
        {
          "output_type": "stream",
          "name": "stdout",
          "text": [
            "\n",
            " Estadísticas de Reinforcement Learning Hedging:\n",
            " RL E(C): 14.317822355419917\n",
            " RL var(C): 65.4242212733462\n",
            " RL std(C): 8.088524047893175\n",
            "\n",
            " Estadísticas de Delta Hedging:\n",
            " Delta E(C): 0.9936048649846838\n",
            " Delta var(C): 484.5105753247725\n",
            " Delta std(C): 22.01160092598384\n",
            "\n",
            " Diferencia en la posición:\n",
            " Diferencia absoluta promedio entre la position de DH y RLH: 4.2267041999999995\n"
          ]
        }
      ],
      "source": [
        "total_rl_reward = np.empty(0, dtype=int)\n",
        "total_dh_reward = np.empty(0, dtype=int)\n",
        "all_shares_pnl = np.empty(shape=(TESTING_SAMPLE, len(ttm)-1))\n",
        "all_call_option_pnl = np.empty(shape=(TESTING_SAMPLE, len(ttm)-1))\n",
        "abs_deviation = list()\n",
        "\n",
        "print(\"Test is in progress:\")\n",
        "for i in tqdm(range(len(price_table))):\n",
        "\n",
        "    rl_position = 0\n",
        "    dh_position = 0\n",
        "    asset_price = price_table[i]\n",
        "    price_state = price_state_table[i]\n",
        "    bscall = call_price_table[i]\n",
        "    bsdelta = rounded_delta[i]\n",
        "    position_list = np.empty(0, dtype=int)\n",
        "    rl_reward_list = np.empty(0, dtype=int)\n",
        "    dh_reward_list = np.empty(0, dtype=int)\n",
        "    action_list = np.empty(0, dtype=int)\n",
        "    shares_pnl = np.empty(0, dtype=int)\n",
        "    call_option_pnl = np.empty(0, dtype=int)\n",
        "\n",
        "    for t in range(M):\n",
        "\n",
        "        # Posición a mantener si el agente aplicará Delta Hedging\n",
        "        new_dh_position = bsdelta[t]\n",
        "\n",
        "        # Asumimos que en el tiempo 0 el agente tiene 0 shares\n",
        "        if t == 0:\n",
        "            lookup_position = 0\n",
        "        else:\n",
        "            lookup_position = position_list[t-1]\n",
        "\n",
        "        # Escoge acción encontrando el mínimo valor no cero en la tabla Q\n",
        "        # Usar el try porque puede que el agente haya llegado a una posición no antes vista.\n",
        "        # Si eso sucede, el agente no intercambia shares de ninguna manera\n",
        "        try:\n",
        "            rl_action = np.where(q[t][price_state[t]][lookup_position]==np.min(q[t][price_state[t]][lookup_position][np.nonzero(q[t][price_state[t]][lookup_position])]))[0][0] - 5\n",
        "        except:\n",
        "            rl_action = 0\n",
        "\n",
        "        # Obligamos al agente a mantener shares entre 0 y 10\n",
        "        if rl_position + rl_action >10:\n",
        "            rl_action = 10 - rl_position\n",
        "            new_rl_position = 10\n",
        "        elif rl_position + rl_action <0:\n",
        "            rl_action = -rl_position\n",
        "            new_rl_position = 0\n",
        "        else:\n",
        "            new_rl_position = rl_action + rl_position\n",
        "\n",
        "        # Calculamos el P&L periodo a periodo para ambos casos: Delta Hedge y Renforcement Learning Hedging\n",
        "        if t == M-1:\n",
        "            rl_transaction_cost = (asset_price[t]*abs(new_rl_position - rl_position)*TRADING_COST + new_rl_position*asset_price[t+1]*TRADING_COST)\n",
        "            dh_transaction_cost = (asset_price[t]*abs(new_dh_position - dh_position)*TRADING_COST + new_dh_position*asset_price[t+1]*TRADING_COST)\n",
        "        else:\n",
        "            rl_transaction_cost = (asset_price[t]*abs(new_rl_position - rl_position)*TRADING_COST)\n",
        "            dh_transaction_cost = (asset_price[t]*abs(new_dh_position - dh_position)*TRADING_COST)\n",
        "\n",
        "\n",
        "        call_option_pnl = np.append(call_option_pnl,10*(bscall[t+1] - bscall[t]))\n",
        "        shares_pnl = np.append(shares_pnl, (asset_price[t+1] - asset_price[t])*new_rl_position)\n",
        "        rl_reward = rl_transaction_cost - (asset_price[t+1] - asset_price[t])*new_rl_position+10*(bscall[t+1] - bscall[t])\n",
        "        dh_reward = dh_transaction_cost - (asset_price[t+1] - asset_price[t])*new_dh_position+10*(bscall[t+1] - bscall[t])\n",
        "\n",
        "\n",
        "        position_list= np.append(position_list,new_rl_position)\n",
        "        action_list = np.append(action_list,rl_action)\n",
        "        rl_position = new_rl_position\n",
        "        dh_position = new_dh_position\n",
        "        rl_reward_list = np.append(rl_reward_list,rl_reward)\n",
        "        dh_reward_list = np.append(dh_reward_list,dh_reward)\n",
        "\n",
        "    abs_deviation = np.append(abs_deviation,sum(abs(bsdelta[:-1]-position_list))/10)\n",
        "    position_list = np.append(position_list,0)\n",
        "    action_list = np.append(action_list,0)\n",
        "    total_rl_reward = np.append(total_rl_reward,sum(rl_reward_list))\n",
        "    total_dh_reward = np.append(total_dh_reward,sum(dh_reward_list))\n",
        "    all_shares_pnl[i,:] = shares_pnl\n",
        "    all_call_option_pnl[i,:]  = call_option_pnl\n",
        "\n",
        "print('\\n Estadísticas de Reinforcement Learning Hedging:')\n",
        "print(' RL E(C):', np.average(total_rl_reward))\n",
        "print(' RL var(C):', np.var(total_rl_reward))\n",
        "print(' RL std(C):', np.std(total_rl_reward))\n",
        "\n",
        "print('\\n Estadísticas de Delta Hedging:')\n",
        "print(' Delta E(C):', np.average(total_dh_reward))\n",
        "print(' Delta var(C):', np.var(total_dh_reward))\n",
        "print(' Delta std(C):', np.std(total_dh_reward))\n",
        "\n",
        "print('\\n Diferencia en la posición:')\n",
        "print(' Diferencia absoluta promedio entre la position de DH y RLH:', np.average(abs_deviation))\n"
      ]
    },
    {
      "cell_type": "code",
      "source": [
        "q[9,7,8]"
      ],
      "metadata": {
        "id": "N5lt9KuUz4iE",
        "colab": {
          "base_uri": "https://localhost:8080/"
        },
        "outputId": "a2a3983a-e335-4e2f-b12c-9fc6d5181027"
      },
      "execution_count": null,
      "outputs": [
        {
          "output_type": "execute_result",
          "data": {
            "text/plain": [
              "array([103.17646855,  94.93492497,  98.01856183,  97.00765914,\n",
              "        99.65208954, 110.82361994, 138.44940148, 223.85363704,\n",
              "         0.        ,   0.        ,   0.        ])"
            ]
          },
          "metadata": {},
          "execution_count": 37
        }
      ]
    },
    {
      "cell_type": "markdown",
      "source": [
        "# Ejercicios"
      ],
      "metadata": {
        "id": "78Js91Eyy4D0"
      }
    },
    {
      "cell_type": "markdown",
      "source": [
        "- ¿Que pasa al volver 0 la variable TRADING_COST?\n",
        "- ¿Modificarían el DECAY de epsilon de alguna manera?\n"
      ],
      "metadata": {
        "id": "VqIEIQjzvKv_"
      }
    },
    {
      "cell_type": "markdown",
      "source": [
        "# Referencias\n",
        "\n",
        "- http://www-2.rotman.utoronto.ca/~hull/downloadablepublications/RL_Deep_Hedging.pdf"
      ],
      "metadata": {
        "id": "rVi7XxglYpO5"
      }
    }
  ],
  "metadata": {
    "kernelspec": {
      "display_name": "Python 3",
      "language": "python",
      "name": "python3"
    },
    "language_info": {
      "codemirror_mode": {
        "name": "ipython",
        "version": 3
      },
      "file_extension": ".py",
      "mimetype": "text/x-python",
      "name": "python",
      "nbconvert_exporter": "python",
      "pygments_lexer": "ipython3",
      "version": "3.7.6"
    },
    "colab": {
      "provenance": []
    },
    "accelerator": "GPU",
    "gpuClass": "standard",
    "widgets": {
      "application/vnd.jupyter.widget-state+json": {
        "f17f0c83f31e40d1b4a72e0dc6f3f036": {
          "model_module": "@jupyter-widgets/controls",
          "model_name": "HBoxModel",
          "model_module_version": "1.5.0",
          "state": {
            "_dom_classes": [],
            "_model_module": "@jupyter-widgets/controls",
            "_model_module_version": "1.5.0",
            "_model_name": "HBoxModel",
            "_view_count": null,
            "_view_module": "@jupyter-widgets/controls",
            "_view_module_version": "1.5.0",
            "_view_name": "HBoxView",
            "box_style": "",
            "children": [
              "IPY_MODEL_b0be9c046aed45d7a77e9e0666ed4bef",
              "IPY_MODEL_df3bfad38b484dd691bf15c4fea92594",
              "IPY_MODEL_a124b97d6f544a63979e931f0272b910"
            ],
            "layout": "IPY_MODEL_9dfa0fe0ca924aaea9c8fc16582d49a6"
          }
        },
        "b0be9c046aed45d7a77e9e0666ed4bef": {
          "model_module": "@jupyter-widgets/controls",
          "model_name": "HTMLModel",
          "model_module_version": "1.5.0",
          "state": {
            "_dom_classes": [],
            "_model_module": "@jupyter-widgets/controls",
            "_model_module_version": "1.5.0",
            "_model_name": "HTMLModel",
            "_view_count": null,
            "_view_module": "@jupyter-widgets/controls",
            "_view_module_version": "1.5.0",
            "_view_name": "HTMLView",
            "description": "",
            "description_tooltip": null,
            "layout": "IPY_MODEL_dd3ae1947b604abeae4fdfbcc538310e",
            "placeholder": "​",
            "style": "IPY_MODEL_3b2a3df2e6544a329ddbaf681163a609",
            "value": "100%"
          }
        },
        "df3bfad38b484dd691bf15c4fea92594": {
          "model_module": "@jupyter-widgets/controls",
          "model_name": "FloatProgressModel",
          "model_module_version": "1.5.0",
          "state": {
            "_dom_classes": [],
            "_model_module": "@jupyter-widgets/controls",
            "_model_module_version": "1.5.0",
            "_model_name": "FloatProgressModel",
            "_view_count": null,
            "_view_module": "@jupyter-widgets/controls",
            "_view_module_version": "1.5.0",
            "_view_name": "ProgressView",
            "bar_style": "success",
            "description": "",
            "description_tooltip": null,
            "layout": "IPY_MODEL_6f6091b534f64230ac323eac76780b52",
            "max": 10000000,
            "min": 0,
            "orientation": "horizontal",
            "style": "IPY_MODEL_6228342b7bb544ae9c2a6336754123ac",
            "value": 10000000
          }
        },
        "a124b97d6f544a63979e931f0272b910": {
          "model_module": "@jupyter-widgets/controls",
          "model_name": "HTMLModel",
          "model_module_version": "1.5.0",
          "state": {
            "_dom_classes": [],
            "_model_module": "@jupyter-widgets/controls",
            "_model_module_version": "1.5.0",
            "_model_name": "HTMLModel",
            "_view_count": null,
            "_view_module": "@jupyter-widgets/controls",
            "_view_module_version": "1.5.0",
            "_view_name": "HTMLView",
            "description": "",
            "description_tooltip": null,
            "layout": "IPY_MODEL_b746bac7477c421faf5c51101866a704",
            "placeholder": "​",
            "style": "IPY_MODEL_2b386e6f04cb4da49997f8165772ced5",
            "value": " 10000000/10000000 [00:03&lt;00:00, 3366081.27it/s]"
          }
        },
        "9dfa0fe0ca924aaea9c8fc16582d49a6": {
          "model_module": "@jupyter-widgets/base",
          "model_name": "LayoutModel",
          "model_module_version": "1.2.0",
          "state": {
            "_model_module": "@jupyter-widgets/base",
            "_model_module_version": "1.2.0",
            "_model_name": "LayoutModel",
            "_view_count": null,
            "_view_module": "@jupyter-widgets/base",
            "_view_module_version": "1.2.0",
            "_view_name": "LayoutView",
            "align_content": null,
            "align_items": null,
            "align_self": null,
            "border": null,
            "bottom": null,
            "display": null,
            "flex": null,
            "flex_flow": null,
            "grid_area": null,
            "grid_auto_columns": null,
            "grid_auto_flow": null,
            "grid_auto_rows": null,
            "grid_column": null,
            "grid_gap": null,
            "grid_row": null,
            "grid_template_areas": null,
            "grid_template_columns": null,
            "grid_template_rows": null,
            "height": null,
            "justify_content": null,
            "justify_items": null,
            "left": null,
            "margin": null,
            "max_height": null,
            "max_width": null,
            "min_height": null,
            "min_width": null,
            "object_fit": null,
            "object_position": null,
            "order": null,
            "overflow": null,
            "overflow_x": null,
            "overflow_y": null,
            "padding": null,
            "right": null,
            "top": null,
            "visibility": null,
            "width": null
          }
        },
        "dd3ae1947b604abeae4fdfbcc538310e": {
          "model_module": "@jupyter-widgets/base",
          "model_name": "LayoutModel",
          "model_module_version": "1.2.0",
          "state": {
            "_model_module": "@jupyter-widgets/base",
            "_model_module_version": "1.2.0",
            "_model_name": "LayoutModel",
            "_view_count": null,
            "_view_module": "@jupyter-widgets/base",
            "_view_module_version": "1.2.0",
            "_view_name": "LayoutView",
            "align_content": null,
            "align_items": null,
            "align_self": null,
            "border": null,
            "bottom": null,
            "display": null,
            "flex": null,
            "flex_flow": null,
            "grid_area": null,
            "grid_auto_columns": null,
            "grid_auto_flow": null,
            "grid_auto_rows": null,
            "grid_column": null,
            "grid_gap": null,
            "grid_row": null,
            "grid_template_areas": null,
            "grid_template_columns": null,
            "grid_template_rows": null,
            "height": null,
            "justify_content": null,
            "justify_items": null,
            "left": null,
            "margin": null,
            "max_height": null,
            "max_width": null,
            "min_height": null,
            "min_width": null,
            "object_fit": null,
            "object_position": null,
            "order": null,
            "overflow": null,
            "overflow_x": null,
            "overflow_y": null,
            "padding": null,
            "right": null,
            "top": null,
            "visibility": null,
            "width": null
          }
        },
        "3b2a3df2e6544a329ddbaf681163a609": {
          "model_module": "@jupyter-widgets/controls",
          "model_name": "DescriptionStyleModel",
          "model_module_version": "1.5.0",
          "state": {
            "_model_module": "@jupyter-widgets/controls",
            "_model_module_version": "1.5.0",
            "_model_name": "DescriptionStyleModel",
            "_view_count": null,
            "_view_module": "@jupyter-widgets/base",
            "_view_module_version": "1.2.0",
            "_view_name": "StyleView",
            "description_width": ""
          }
        },
        "6f6091b534f64230ac323eac76780b52": {
          "model_module": "@jupyter-widgets/base",
          "model_name": "LayoutModel",
          "model_module_version": "1.2.0",
          "state": {
            "_model_module": "@jupyter-widgets/base",
            "_model_module_version": "1.2.0",
            "_model_name": "LayoutModel",
            "_view_count": null,
            "_view_module": "@jupyter-widgets/base",
            "_view_module_version": "1.2.0",
            "_view_name": "LayoutView",
            "align_content": null,
            "align_items": null,
            "align_self": null,
            "border": null,
            "bottom": null,
            "display": null,
            "flex": null,
            "flex_flow": null,
            "grid_area": null,
            "grid_auto_columns": null,
            "grid_auto_flow": null,
            "grid_auto_rows": null,
            "grid_column": null,
            "grid_gap": null,
            "grid_row": null,
            "grid_template_areas": null,
            "grid_template_columns": null,
            "grid_template_rows": null,
            "height": null,
            "justify_content": null,
            "justify_items": null,
            "left": null,
            "margin": null,
            "max_height": null,
            "max_width": null,
            "min_height": null,
            "min_width": null,
            "object_fit": null,
            "object_position": null,
            "order": null,
            "overflow": null,
            "overflow_x": null,
            "overflow_y": null,
            "padding": null,
            "right": null,
            "top": null,
            "visibility": null,
            "width": null
          }
        },
        "6228342b7bb544ae9c2a6336754123ac": {
          "model_module": "@jupyter-widgets/controls",
          "model_name": "ProgressStyleModel",
          "model_module_version": "1.5.0",
          "state": {
            "_model_module": "@jupyter-widgets/controls",
            "_model_module_version": "1.5.0",
            "_model_name": "ProgressStyleModel",
            "_view_count": null,
            "_view_module": "@jupyter-widgets/base",
            "_view_module_version": "1.2.0",
            "_view_name": "StyleView",
            "bar_color": null,
            "description_width": ""
          }
        },
        "b746bac7477c421faf5c51101866a704": {
          "model_module": "@jupyter-widgets/base",
          "model_name": "LayoutModel",
          "model_module_version": "1.2.0",
          "state": {
            "_model_module": "@jupyter-widgets/base",
            "_model_module_version": "1.2.0",
            "_model_name": "LayoutModel",
            "_view_count": null,
            "_view_module": "@jupyter-widgets/base",
            "_view_module_version": "1.2.0",
            "_view_name": "LayoutView",
            "align_content": null,
            "align_items": null,
            "align_self": null,
            "border": null,
            "bottom": null,
            "display": null,
            "flex": null,
            "flex_flow": null,
            "grid_area": null,
            "grid_auto_columns": null,
            "grid_auto_flow": null,
            "grid_auto_rows": null,
            "grid_column": null,
            "grid_gap": null,
            "grid_row": null,
            "grid_template_areas": null,
            "grid_template_columns": null,
            "grid_template_rows": null,
            "height": null,
            "justify_content": null,
            "justify_items": null,
            "left": null,
            "margin": null,
            "max_height": null,
            "max_width": null,
            "min_height": null,
            "min_width": null,
            "object_fit": null,
            "object_position": null,
            "order": null,
            "overflow": null,
            "overflow_x": null,
            "overflow_y": null,
            "padding": null,
            "right": null,
            "top": null,
            "visibility": null,
            "width": null
          }
        },
        "2b386e6f04cb4da49997f8165772ced5": {
          "model_module": "@jupyter-widgets/controls",
          "model_name": "DescriptionStyleModel",
          "model_module_version": "1.5.0",
          "state": {
            "_model_module": "@jupyter-widgets/controls",
            "_model_module_version": "1.5.0",
            "_model_name": "DescriptionStyleModel",
            "_view_count": null,
            "_view_module": "@jupyter-widgets/base",
            "_view_module_version": "1.2.0",
            "_view_name": "StyleView",
            "description_width": ""
          }
        },
        "c35ff220895d49879925135fddd803c9": {
          "model_module": "@jupyter-widgets/controls",
          "model_name": "HBoxModel",
          "model_module_version": "1.5.0",
          "state": {
            "_dom_classes": [],
            "_model_module": "@jupyter-widgets/controls",
            "_model_module_version": "1.5.0",
            "_model_name": "HBoxModel",
            "_view_count": null,
            "_view_module": "@jupyter-widgets/controls",
            "_view_module_version": "1.5.0",
            "_view_name": "HBoxView",
            "box_style": "",
            "children": [
              "IPY_MODEL_b3f4caa5ce0f42d4a40d8c3df7419a82",
              "IPY_MODEL_51da38086d204431b3d1b7d9a1870baf",
              "IPY_MODEL_95a4e5602401467caae56d193c80f226"
            ],
            "layout": "IPY_MODEL_3be8063da8794ee1b9d7845cea043661"
          }
        },
        "b3f4caa5ce0f42d4a40d8c3df7419a82": {
          "model_module": "@jupyter-widgets/controls",
          "model_name": "HTMLModel",
          "model_module_version": "1.5.0",
          "state": {
            "_dom_classes": [],
            "_model_module": "@jupyter-widgets/controls",
            "_model_module_version": "1.5.0",
            "_model_name": "HTMLModel",
            "_view_count": null,
            "_view_module": "@jupyter-widgets/controls",
            "_view_module_version": "1.5.0",
            "_view_name": "HTMLView",
            "description": "",
            "description_tooltip": null,
            "layout": "IPY_MODEL_b627acad908f42cd84536c91492a69f6",
            "placeholder": "​",
            "style": "IPY_MODEL_4a83e52788bb4505b74e3fe1546be5d7",
            "value": "100%"
          }
        },
        "51da38086d204431b3d1b7d9a1870baf": {
          "model_module": "@jupyter-widgets/controls",
          "model_name": "FloatProgressModel",
          "model_module_version": "1.5.0",
          "state": {
            "_dom_classes": [],
            "_model_module": "@jupyter-widgets/controls",
            "_model_module_version": "1.5.0",
            "_model_name": "FloatProgressModel",
            "_view_count": null,
            "_view_module": "@jupyter-widgets/controls",
            "_view_module_version": "1.5.0",
            "_view_name": "ProgressView",
            "bar_style": "success",
            "description": "",
            "description_tooltip": null,
            "layout": "IPY_MODEL_6ad1873b2edd41d68427d8dbb6fd391a",
            "max": 3000000,
            "min": 0,
            "orientation": "horizontal",
            "style": "IPY_MODEL_bf37afc40abe4fe5ac93328806f504db",
            "value": 3000000
          }
        },
        "95a4e5602401467caae56d193c80f226": {
          "model_module": "@jupyter-widgets/controls",
          "model_name": "HTMLModel",
          "model_module_version": "1.5.0",
          "state": {
            "_dom_classes": [],
            "_model_module": "@jupyter-widgets/controls",
            "_model_module_version": "1.5.0",
            "_model_name": "HTMLModel",
            "_view_count": null,
            "_view_module": "@jupyter-widgets/controls",
            "_view_module_version": "1.5.0",
            "_view_name": "HTMLView",
            "description": "",
            "description_tooltip": null,
            "layout": "IPY_MODEL_42aad5a032ac4ae7b94a75c98d15beb6",
            "placeholder": "​",
            "style": "IPY_MODEL_9cad577c58754ea38c17ffa09480fa08",
            "value": " 3000000/3000000 [19:32&lt;00:00, 1775.31it/s]"
          }
        },
        "3be8063da8794ee1b9d7845cea043661": {
          "model_module": "@jupyter-widgets/base",
          "model_name": "LayoutModel",
          "model_module_version": "1.2.0",
          "state": {
            "_model_module": "@jupyter-widgets/base",
            "_model_module_version": "1.2.0",
            "_model_name": "LayoutModel",
            "_view_count": null,
            "_view_module": "@jupyter-widgets/base",
            "_view_module_version": "1.2.0",
            "_view_name": "LayoutView",
            "align_content": null,
            "align_items": null,
            "align_self": null,
            "border": null,
            "bottom": null,
            "display": null,
            "flex": null,
            "flex_flow": null,
            "grid_area": null,
            "grid_auto_columns": null,
            "grid_auto_flow": null,
            "grid_auto_rows": null,
            "grid_column": null,
            "grid_gap": null,
            "grid_row": null,
            "grid_template_areas": null,
            "grid_template_columns": null,
            "grid_template_rows": null,
            "height": null,
            "justify_content": null,
            "justify_items": null,
            "left": null,
            "margin": null,
            "max_height": null,
            "max_width": null,
            "min_height": null,
            "min_width": null,
            "object_fit": null,
            "object_position": null,
            "order": null,
            "overflow": null,
            "overflow_x": null,
            "overflow_y": null,
            "padding": null,
            "right": null,
            "top": null,
            "visibility": null,
            "width": null
          }
        },
        "b627acad908f42cd84536c91492a69f6": {
          "model_module": "@jupyter-widgets/base",
          "model_name": "LayoutModel",
          "model_module_version": "1.2.0",
          "state": {
            "_model_module": "@jupyter-widgets/base",
            "_model_module_version": "1.2.0",
            "_model_name": "LayoutModel",
            "_view_count": null,
            "_view_module": "@jupyter-widgets/base",
            "_view_module_version": "1.2.0",
            "_view_name": "LayoutView",
            "align_content": null,
            "align_items": null,
            "align_self": null,
            "border": null,
            "bottom": null,
            "display": null,
            "flex": null,
            "flex_flow": null,
            "grid_area": null,
            "grid_auto_columns": null,
            "grid_auto_flow": null,
            "grid_auto_rows": null,
            "grid_column": null,
            "grid_gap": null,
            "grid_row": null,
            "grid_template_areas": null,
            "grid_template_columns": null,
            "grid_template_rows": null,
            "height": null,
            "justify_content": null,
            "justify_items": null,
            "left": null,
            "margin": null,
            "max_height": null,
            "max_width": null,
            "min_height": null,
            "min_width": null,
            "object_fit": null,
            "object_position": null,
            "order": null,
            "overflow": null,
            "overflow_x": null,
            "overflow_y": null,
            "padding": null,
            "right": null,
            "top": null,
            "visibility": null,
            "width": null
          }
        },
        "4a83e52788bb4505b74e3fe1546be5d7": {
          "model_module": "@jupyter-widgets/controls",
          "model_name": "DescriptionStyleModel",
          "model_module_version": "1.5.0",
          "state": {
            "_model_module": "@jupyter-widgets/controls",
            "_model_module_version": "1.5.0",
            "_model_name": "DescriptionStyleModel",
            "_view_count": null,
            "_view_module": "@jupyter-widgets/base",
            "_view_module_version": "1.2.0",
            "_view_name": "StyleView",
            "description_width": ""
          }
        },
        "6ad1873b2edd41d68427d8dbb6fd391a": {
          "model_module": "@jupyter-widgets/base",
          "model_name": "LayoutModel",
          "model_module_version": "1.2.0",
          "state": {
            "_model_module": "@jupyter-widgets/base",
            "_model_module_version": "1.2.0",
            "_model_name": "LayoutModel",
            "_view_count": null,
            "_view_module": "@jupyter-widgets/base",
            "_view_module_version": "1.2.0",
            "_view_name": "LayoutView",
            "align_content": null,
            "align_items": null,
            "align_self": null,
            "border": null,
            "bottom": null,
            "display": null,
            "flex": null,
            "flex_flow": null,
            "grid_area": null,
            "grid_auto_columns": null,
            "grid_auto_flow": null,
            "grid_auto_rows": null,
            "grid_column": null,
            "grid_gap": null,
            "grid_row": null,
            "grid_template_areas": null,
            "grid_template_columns": null,
            "grid_template_rows": null,
            "height": null,
            "justify_content": null,
            "justify_items": null,
            "left": null,
            "margin": null,
            "max_height": null,
            "max_width": null,
            "min_height": null,
            "min_width": null,
            "object_fit": null,
            "object_position": null,
            "order": null,
            "overflow": null,
            "overflow_x": null,
            "overflow_y": null,
            "padding": null,
            "right": null,
            "top": null,
            "visibility": null,
            "width": null
          }
        },
        "bf37afc40abe4fe5ac93328806f504db": {
          "model_module": "@jupyter-widgets/controls",
          "model_name": "ProgressStyleModel",
          "model_module_version": "1.5.0",
          "state": {
            "_model_module": "@jupyter-widgets/controls",
            "_model_module_version": "1.5.0",
            "_model_name": "ProgressStyleModel",
            "_view_count": null,
            "_view_module": "@jupyter-widgets/base",
            "_view_module_version": "1.2.0",
            "_view_name": "StyleView",
            "bar_color": null,
            "description_width": ""
          }
        },
        "42aad5a032ac4ae7b94a75c98d15beb6": {
          "model_module": "@jupyter-widgets/base",
          "model_name": "LayoutModel",
          "model_module_version": "1.2.0",
          "state": {
            "_model_module": "@jupyter-widgets/base",
            "_model_module_version": "1.2.0",
            "_model_name": "LayoutModel",
            "_view_count": null,
            "_view_module": "@jupyter-widgets/base",
            "_view_module_version": "1.2.0",
            "_view_name": "LayoutView",
            "align_content": null,
            "align_items": null,
            "align_self": null,
            "border": null,
            "bottom": null,
            "display": null,
            "flex": null,
            "flex_flow": null,
            "grid_area": null,
            "grid_auto_columns": null,
            "grid_auto_flow": null,
            "grid_auto_rows": null,
            "grid_column": null,
            "grid_gap": null,
            "grid_row": null,
            "grid_template_areas": null,
            "grid_template_columns": null,
            "grid_template_rows": null,
            "height": null,
            "justify_content": null,
            "justify_items": null,
            "left": null,
            "margin": null,
            "max_height": null,
            "max_width": null,
            "min_height": null,
            "min_width": null,
            "object_fit": null,
            "object_position": null,
            "order": null,
            "overflow": null,
            "overflow_x": null,
            "overflow_y": null,
            "padding": null,
            "right": null,
            "top": null,
            "visibility": null,
            "width": null
          }
        },
        "9cad577c58754ea38c17ffa09480fa08": {
          "model_module": "@jupyter-widgets/controls",
          "model_name": "DescriptionStyleModel",
          "model_module_version": "1.5.0",
          "state": {
            "_model_module": "@jupyter-widgets/controls",
            "_model_module_version": "1.5.0",
            "_model_name": "DescriptionStyleModel",
            "_view_count": null,
            "_view_module": "@jupyter-widgets/base",
            "_view_module_version": "1.2.0",
            "_view_name": "StyleView",
            "description_width": ""
          }
        },
        "b91206f794774cdc8577ce8444703c30": {
          "model_module": "@jupyter-widgets/controls",
          "model_name": "HBoxModel",
          "model_module_version": "1.5.0",
          "state": {
            "_dom_classes": [],
            "_model_module": "@jupyter-widgets/controls",
            "_model_module_version": "1.5.0",
            "_model_name": "HBoxModel",
            "_view_count": null,
            "_view_module": "@jupyter-widgets/controls",
            "_view_module_version": "1.5.0",
            "_view_name": "HBoxView",
            "box_style": "",
            "children": [
              "IPY_MODEL_e2b2c1abde84408ab0a9d9b0291663ca",
              "IPY_MODEL_ce9e9c86e94c4264b17573ff02b8b168",
              "IPY_MODEL_0aead5e951e84a8cbf6172ead57aae9c"
            ],
            "layout": "IPY_MODEL_96915856926848baa7a2ef9d135ddf89"
          }
        },
        "e2b2c1abde84408ab0a9d9b0291663ca": {
          "model_module": "@jupyter-widgets/controls",
          "model_name": "HTMLModel",
          "model_module_version": "1.5.0",
          "state": {
            "_dom_classes": [],
            "_model_module": "@jupyter-widgets/controls",
            "_model_module_version": "1.5.0",
            "_model_name": "HTMLModel",
            "_view_count": null,
            "_view_module": "@jupyter-widgets/controls",
            "_view_module_version": "1.5.0",
            "_view_name": "HTMLView",
            "description": "",
            "description_tooltip": null,
            "layout": "IPY_MODEL_fb0ad0f75df84348b11c3fd9bfc5f395",
            "placeholder": "​",
            "style": "IPY_MODEL_ccba5db61e9a4003a9e2798d57c9d81c",
            "value": "100%"
          }
        },
        "ce9e9c86e94c4264b17573ff02b8b168": {
          "model_module": "@jupyter-widgets/controls",
          "model_name": "FloatProgressModel",
          "model_module_version": "1.5.0",
          "state": {
            "_dom_classes": [],
            "_model_module": "@jupyter-widgets/controls",
            "_model_module_version": "1.5.0",
            "_model_name": "FloatProgressModel",
            "_view_count": null,
            "_view_module": "@jupyter-widgets/controls",
            "_view_module_version": "1.5.0",
            "_view_name": "ProgressView",
            "bar_style": "success",
            "description": "",
            "description_tooltip": null,
            "layout": "IPY_MODEL_99be590bf7f44721b1dc094d0652e6ab",
            "max": 100000,
            "min": 0,
            "orientation": "horizontal",
            "style": "IPY_MODEL_fc06a88d2cdb4ba18bf9d490116a3e7a",
            "value": 100000
          }
        },
        "0aead5e951e84a8cbf6172ead57aae9c": {
          "model_module": "@jupyter-widgets/controls",
          "model_name": "HTMLModel",
          "model_module_version": "1.5.0",
          "state": {
            "_dom_classes": [],
            "_model_module": "@jupyter-widgets/controls",
            "_model_module_version": "1.5.0",
            "_model_name": "HTMLModel",
            "_view_count": null,
            "_view_module": "@jupyter-widgets/controls",
            "_view_module_version": "1.5.0",
            "_view_name": "HTMLView",
            "description": "",
            "description_tooltip": null,
            "layout": "IPY_MODEL_870487787a224a238c64eabf78ac65f3",
            "placeholder": "​",
            "style": "IPY_MODEL_1ab1254a43894524bb6c13b8bd0a1f47",
            "value": " 100000/100000 [01:04&lt;00:00, 995.44it/s]"
          }
        },
        "96915856926848baa7a2ef9d135ddf89": {
          "model_module": "@jupyter-widgets/base",
          "model_name": "LayoutModel",
          "model_module_version": "1.2.0",
          "state": {
            "_model_module": "@jupyter-widgets/base",
            "_model_module_version": "1.2.0",
            "_model_name": "LayoutModel",
            "_view_count": null,
            "_view_module": "@jupyter-widgets/base",
            "_view_module_version": "1.2.0",
            "_view_name": "LayoutView",
            "align_content": null,
            "align_items": null,
            "align_self": null,
            "border": null,
            "bottom": null,
            "display": null,
            "flex": null,
            "flex_flow": null,
            "grid_area": null,
            "grid_auto_columns": null,
            "grid_auto_flow": null,
            "grid_auto_rows": null,
            "grid_column": null,
            "grid_gap": null,
            "grid_row": null,
            "grid_template_areas": null,
            "grid_template_columns": null,
            "grid_template_rows": null,
            "height": null,
            "justify_content": null,
            "justify_items": null,
            "left": null,
            "margin": null,
            "max_height": null,
            "max_width": null,
            "min_height": null,
            "min_width": null,
            "object_fit": null,
            "object_position": null,
            "order": null,
            "overflow": null,
            "overflow_x": null,
            "overflow_y": null,
            "padding": null,
            "right": null,
            "top": null,
            "visibility": null,
            "width": null
          }
        },
        "fb0ad0f75df84348b11c3fd9bfc5f395": {
          "model_module": "@jupyter-widgets/base",
          "model_name": "LayoutModel",
          "model_module_version": "1.2.0",
          "state": {
            "_model_module": "@jupyter-widgets/base",
            "_model_module_version": "1.2.0",
            "_model_name": "LayoutModel",
            "_view_count": null,
            "_view_module": "@jupyter-widgets/base",
            "_view_module_version": "1.2.0",
            "_view_name": "LayoutView",
            "align_content": null,
            "align_items": null,
            "align_self": null,
            "border": null,
            "bottom": null,
            "display": null,
            "flex": null,
            "flex_flow": null,
            "grid_area": null,
            "grid_auto_columns": null,
            "grid_auto_flow": null,
            "grid_auto_rows": null,
            "grid_column": null,
            "grid_gap": null,
            "grid_row": null,
            "grid_template_areas": null,
            "grid_template_columns": null,
            "grid_template_rows": null,
            "height": null,
            "justify_content": null,
            "justify_items": null,
            "left": null,
            "margin": null,
            "max_height": null,
            "max_width": null,
            "min_height": null,
            "min_width": null,
            "object_fit": null,
            "object_position": null,
            "order": null,
            "overflow": null,
            "overflow_x": null,
            "overflow_y": null,
            "padding": null,
            "right": null,
            "top": null,
            "visibility": null,
            "width": null
          }
        },
        "ccba5db61e9a4003a9e2798d57c9d81c": {
          "model_module": "@jupyter-widgets/controls",
          "model_name": "DescriptionStyleModel",
          "model_module_version": "1.5.0",
          "state": {
            "_model_module": "@jupyter-widgets/controls",
            "_model_module_version": "1.5.0",
            "_model_name": "DescriptionStyleModel",
            "_view_count": null,
            "_view_module": "@jupyter-widgets/base",
            "_view_module_version": "1.2.0",
            "_view_name": "StyleView",
            "description_width": ""
          }
        },
        "99be590bf7f44721b1dc094d0652e6ab": {
          "model_module": "@jupyter-widgets/base",
          "model_name": "LayoutModel",
          "model_module_version": "1.2.0",
          "state": {
            "_model_module": "@jupyter-widgets/base",
            "_model_module_version": "1.2.0",
            "_model_name": "LayoutModel",
            "_view_count": null,
            "_view_module": "@jupyter-widgets/base",
            "_view_module_version": "1.2.0",
            "_view_name": "LayoutView",
            "align_content": null,
            "align_items": null,
            "align_self": null,
            "border": null,
            "bottom": null,
            "display": null,
            "flex": null,
            "flex_flow": null,
            "grid_area": null,
            "grid_auto_columns": null,
            "grid_auto_flow": null,
            "grid_auto_rows": null,
            "grid_column": null,
            "grid_gap": null,
            "grid_row": null,
            "grid_template_areas": null,
            "grid_template_columns": null,
            "grid_template_rows": null,
            "height": null,
            "justify_content": null,
            "justify_items": null,
            "left": null,
            "margin": null,
            "max_height": null,
            "max_width": null,
            "min_height": null,
            "min_width": null,
            "object_fit": null,
            "object_position": null,
            "order": null,
            "overflow": null,
            "overflow_x": null,
            "overflow_y": null,
            "padding": null,
            "right": null,
            "top": null,
            "visibility": null,
            "width": null
          }
        },
        "fc06a88d2cdb4ba18bf9d490116a3e7a": {
          "model_module": "@jupyter-widgets/controls",
          "model_name": "ProgressStyleModel",
          "model_module_version": "1.5.0",
          "state": {
            "_model_module": "@jupyter-widgets/controls",
            "_model_module_version": "1.5.0",
            "_model_name": "ProgressStyleModel",
            "_view_count": null,
            "_view_module": "@jupyter-widgets/base",
            "_view_module_version": "1.2.0",
            "_view_name": "StyleView",
            "bar_color": null,
            "description_width": ""
          }
        },
        "870487787a224a238c64eabf78ac65f3": {
          "model_module": "@jupyter-widgets/base",
          "model_name": "LayoutModel",
          "model_module_version": "1.2.0",
          "state": {
            "_model_module": "@jupyter-widgets/base",
            "_model_module_version": "1.2.0",
            "_model_name": "LayoutModel",
            "_view_count": null,
            "_view_module": "@jupyter-widgets/base",
            "_view_module_version": "1.2.0",
            "_view_name": "LayoutView",
            "align_content": null,
            "align_items": null,
            "align_self": null,
            "border": null,
            "bottom": null,
            "display": null,
            "flex": null,
            "flex_flow": null,
            "grid_area": null,
            "grid_auto_columns": null,
            "grid_auto_flow": null,
            "grid_auto_rows": null,
            "grid_column": null,
            "grid_gap": null,
            "grid_row": null,
            "grid_template_areas": null,
            "grid_template_columns": null,
            "grid_template_rows": null,
            "height": null,
            "justify_content": null,
            "justify_items": null,
            "left": null,
            "margin": null,
            "max_height": null,
            "max_width": null,
            "min_height": null,
            "min_width": null,
            "object_fit": null,
            "object_position": null,
            "order": null,
            "overflow": null,
            "overflow_x": null,
            "overflow_y": null,
            "padding": null,
            "right": null,
            "top": null,
            "visibility": null,
            "width": null
          }
        },
        "1ab1254a43894524bb6c13b8bd0a1f47": {
          "model_module": "@jupyter-widgets/controls",
          "model_name": "DescriptionStyleModel",
          "model_module_version": "1.5.0",
          "state": {
            "_model_module": "@jupyter-widgets/controls",
            "_model_module_version": "1.5.0",
            "_model_name": "DescriptionStyleModel",
            "_view_count": null,
            "_view_module": "@jupyter-widgets/base",
            "_view_module_version": "1.2.0",
            "_view_name": "StyleView",
            "description_width": ""
          }
        }
      }
    }
  },
  "nbformat": 4,
  "nbformat_minor": 0
}