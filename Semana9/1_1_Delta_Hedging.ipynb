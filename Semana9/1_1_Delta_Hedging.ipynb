{
  "nbformat": 4,
  "nbformat_minor": 0,
  "metadata": {
    "colab": {
      "provenance": []
    },
    "kernelspec": {
      "name": "python3",
      "display_name": "Python 3"
    },
    "language_info": {
      "name": "python"
    }
  },
  "cells": [
    {
      "cell_type": "markdown",
      "source": [
        "[![Open In Colab](https://colab.research.google.com/assets/colab-badge.svg)](https://colab.research.google.com/github/MaxMitre/Aplicaciones-Financieras/blob/main/Semana9/1_1_Delta_Hedging.ipynb)"
      ],
      "metadata": {
        "id": "b9hnn5UI-dsF"
      }
    },
    {
      "cell_type": "markdown",
      "source": [
        "# Introducción\n",
        "\n",
        "Esta clase veremos que se puede hacer para reducir riesgos desde un puntos de vista distinto.\n",
        "\n",
        "Tomaremos 3 activos, despues veremos 2 \"Griegos\" que son medidas utilizadas para ver tendencias y movimientos del activo (son derivadas del proceso de Black-Scholes que modela el precio de la opción de un activo financiero)"
      ],
      "metadata": {
        "id": "8TzUxAF_DK6X"
      }
    },
    {
      "cell_type": "markdown",
      "source": [
        "Hay varios Griegos, hoy hablamos de Delta, pero hay otros que son utiles para diferentes cosas, vean mas en el siguiente [enlace](https://en.wikipedia.org/wiki/Black%E2%80%93Scholes_model#The_Options_Greeks)\n",
        "\n"
      ],
      "metadata": {
        "id": "fQRIguTjXLae"
      }
    },
    {
      "cell_type": "markdown",
      "source": [
        "Utilizaremos los griegos que son:\n",
        "\n",
        "- Delta\n",
        "- Gamma\n",
        "\n",
        "Ambos son derivadas del precio de la opción con respecto al cambio de precio del activo subyacente, una de primer orden y otra de segundo orden."
      ],
      "metadata": {
        "id": "LNRyIL34ItQU"
      }
    },
    {
      "cell_type": "markdown",
      "source": [
        "# Variables principales\n",
        "\n",
        "Estas variables deben ser actualizadas diariamente si se quiere una buena predicción"
      ],
      "metadata": {
        "id": "XKV_cGMHI7Uq"
      }
    },
    {
      "cell_type": "code",
      "execution_count": null,
      "metadata": {
        "id": "bUlvBet0Trq_"
      },
      "outputs": [],
      "source": [
        "# asset_price : precio del activo subyacente\n",
        "# sigma       : volatilidad implicita para insertar en el modelo BS\n",
        "# dt          : tiempo de expiración\n",
        "# rf          : tasa libre de riesgo (bonos del tesoro o cetes, depende el país)\n",
        "# nContract1  : número de contratos\n",
        "# K1          : precio de strike de opción 1\n",
        "# K2          : precio de strike de opción 2\n",
        "# K3          : precio de strike de opción 3\n",
        "\n",
        "# El subyacente\n",
        "asset_price = 543\n",
        "\n",
        "# input de Black-Scholes\n",
        "sigma = 0.53\n",
        "dt = 30/365\n",
        "rf = .015\n",
        "\n",
        "# opción 1\n",
        "nContract1 = -1000\n",
        "K1 = 545\n",
        "\n",
        "# opción 2\n",
        "K2 = 550\n",
        "\n",
        "# opción 3\n",
        "K3 = 555"
      ]
    },
    {
      "cell_type": "markdown",
      "source": [
        "# Dependencias"
      ],
      "metadata": {
        "id": "UIrfd57OJJzU"
      }
    },
    {
      "cell_type": "code",
      "source": [
        "import math\n",
        "from scipy.stats import norm\n",
        "import numpy as np"
      ],
      "metadata": {
        "id": "jXx29wdR2DMe"
      },
      "execution_count": null,
      "outputs": []
    },
    {
      "cell_type": "markdown",
      "source": [
        "# Ejercicio 1:\n",
        "\n",
        "¿Porque importar \"norm\" de \"scipy\"?"
      ],
      "metadata": {
        "id": "EDgINHo1KHRX"
      }
    },
    {
      "cell_type": "markdown",
      "source": [
        "Recordemos todo lo necesario para calcular las opciones en el siguiente [enlace](https://en.wikipedia.org/wiki/Black%E2%80%93Scholes_model#Black%E2%80%93Scholes_formula)"
      ],
      "metadata": {
        "id": "3eziCrBXJ8dT"
      }
    },
    {
      "cell_type": "code",
      "source": [
        "# Define una opción de tipo Call Europeo\n",
        "class EuropeanCall:\n",
        "    # Call delta\n",
        "    def call_delta(\n",
        "            self, asset_price, asset_volatility, strike_price,\n",
        "            time_to_expiration, risk_free_rate\n",
        "    ):\n",
        "        b = math.exp(-risk_free_rate * time_to_expiration)\n",
        "        x1 = math.log(asset_price / (b * strike_price)) + .5 * (\n",
        "                asset_volatility * asset_volatility) * time_to_expiration\n",
        "        x1 = x1 / (asset_volatility * (time_to_expiration ** .5))\n",
        "        z1 = norm.cdf(x1)\n",
        "        return z1\n",
        "\n",
        "    # Call gamma\n",
        "    def call_gamma(\n",
        "        self, asset_price, asset_volatility, strike_price,\n",
        "        time_to_expiration, risk_free_rate\n",
        "    ):\n",
        "        b = math.exp(-risk_free_rate * time_to_expiration)\n",
        "        x1 = math.log(asset_price / (b * strike_price)) + .5 * (\n",
        "                asset_volatility * asset_volatility) * time_to_expiration\n",
        "        x1 = x1 / (asset_volatility * (time_to_expiration ** .5))\n",
        "        z1 = norm.cdf(x1)\n",
        "        z2 = z1 / (asset_price * asset_volatility * math.sqrt(time_to_expiration))\n",
        "        return z2\n",
        "\n",
        "    def call_price(\n",
        "            self, asset_price, asset_volatility, strike_price,\n",
        "            time_to_expiration, risk_free_rate\n",
        "    ):\n",
        "        b = math.exp(-risk_free_rate * time_to_expiration)\n",
        "        x1 = math.log(asset_price / (b * strike_price)) + .5 * (\n",
        "                    asset_volatility * asset_volatility) * time_to_expiration\n",
        "        x1 = x1 / (asset_volatility * (time_to_expiration ** .5))\n",
        "        z1 = norm.cdf(x1)\n",
        "        z1 = z1 * asset_price\n",
        "        x2 = math.log(asset_price / (b * strike_price)) - .5 * (\n",
        "                    asset_volatility * asset_volatility) * time_to_expiration\n",
        "        x2 = x2 / (asset_volatility * (time_to_expiration ** .5))\n",
        "        z2 = norm.cdf(x2)\n",
        "        z2 = b * strike_price * z2\n",
        "        return z1 - z2\n",
        "\n",
        "    def __init__(\n",
        "            self, asset_price, asset_volatility, strike_price,\n",
        "            time_to_expiration, risk_free_rate\n",
        "    ):\n",
        "        self.asset_price = asset_price\n",
        "        self.asset_volatility = asset_volatility\n",
        "        self.strike_price = strike_price\n",
        "        self.time_to_expiration = time_to_expiration\n",
        "        self.risk_free_rate = risk_free_rate\n",
        "        self.price = self.call_price(asset_price, asset_volatility, strike_price, time_to_expiration, risk_free_rate)\n",
        "        self.delta = self.call_delta(asset_price, asset_volatility, strike_price, time_to_expiration, risk_free_rate)\n",
        "        self.gamma = self.call_gamma(asset_price, asset_volatility, strike_price, time_to_expiration, risk_free_rate)"
      ],
      "metadata": {
        "id": "jS_GZOy12Gx5"
      },
      "execution_count": null,
      "outputs": []
    },
    {
      "cell_type": "code",
      "source": [
        "# Define una opción de tipo Put Europeo\n",
        "class EuropeanPut:\n",
        "    # Put delta\n",
        "    def put_delta(\n",
        "            self, asset_price, asset_volatility, strike_price,\n",
        "            time_to_expiration, risk_free_rate\n",
        "    ):\n",
        "        b = math.exp(-risk_free_rate * time_to_expiration)\n",
        "        x1 = math.log(asset_price / (b * strike_price)) + .5 * (\n",
        "                    asset_volatility * asset_volatility) * time_to_expiration\n",
        "        x1 = x1 / (asset_volatility * (time_to_expiration ** .5))\n",
        "        z1 = norm.cdf(x1)\n",
        "        return z1 - 1\n",
        "\n",
        "    # Put gamma\n",
        "    def put_gamma(\n",
        "        self, asset_price, asset_volatility, strike_price,\n",
        "        time_to_expiration, risk_free_rate\n",
        "    ):\n",
        "        b = math.exp(-risk_free_rate * time_to_expiration)\n",
        "        x1 = math.log(asset_price / (b * strike_price)) + .5 * (\n",
        "                asset_volatility * asset_volatility) * time_to_expiration\n",
        "        x1 = x1 / (asset_volatility * (time_to_expiration ** .5))\n",
        "        z1 = norm.cdf(x1)\n",
        "        z2 = z1 / (asset_price * asset_volatility * math.sqrt(time_to_expiration))\n",
        "        return z2\n",
        "\n",
        "    def put_price(\n",
        "            self, asset_price, asset_volatility, strike_price,\n",
        "            time_to_expiration, risk_free_rate\n",
        "    ):\n",
        "        b = math.exp(-risk_free_rate * time_to_expiration)\n",
        "        x1 = math.log((b * strike_price) / asset_price) + .5 * (\n",
        "                    asset_volatility * asset_volatility) * time_to_expiration\n",
        "        x1 = x1 / (asset_volatility * (time_to_expiration ** .5))\n",
        "        z1 = norm.cdf(x1)\n",
        "        z1 = b * strike_price * z1\n",
        "        x2 = math.log((b * strike_price) / asset_price) - .5 * (\n",
        "                    asset_volatility * asset_volatility) * time_to_expiration\n",
        "        x2 = x2 / (asset_volatility * (time_to_expiration ** .5))\n",
        "        z2 = norm.cdf(x2)\n",
        "        z2 = asset_price * z2\n",
        "        return z1 - z2\n",
        "\n",
        "    def __init__(\n",
        "            self, asset_price, asset_volatility, strike_price,\n",
        "            time_to_expiration, risk_free_rate\n",
        "    ):\n",
        "        self.asset_price = asset_price\n",
        "        self.asset_volatility = asset_volatility\n",
        "        self.strike_price = strike_price\n",
        "        self.time_to_expiration = time_to_expiration\n",
        "        self.risk_free_rate = risk_free_rate\n",
        "        self.price = self.put_price(asset_price, asset_volatility, strike_price, time_to_expiration, risk_free_rate)\n",
        "        self.delta = self.call_delta(asset_price, asset_volatility, strike_price, time_to_expiration, risk_free_rate)\n",
        "        self.gamma = self.put_gamma(asset_price, asset_volatility, strike_price, time_to_expiration, risk_free_rate)"
      ],
      "metadata": {
        "id": "koyFvZHL2NGD"
      },
      "execution_count": null,
      "outputs": []
    },
    {
      "cell_type": "code",
      "source": [
        "# Posición con una opción\n",
        "option1 = EuropeanCall(asset_price=asset_price, asset_volatility=sigma, strike_price=K1, time_to_expiration=dt,risk_free_rate=rf)\n",
        "\n",
        "# Valor teorico de la posición:\n",
        "print('Theoretical Initial Portfolio value: ', str(option1.price * abs(nContract1)))\n",
        "\n",
        "# greeks\n",
        "print('Initial Portfolio Greeks:\\n '\n",
        "      'Delta: {}\\n '\n",
        "      'Gamma: {}'.format(option1.delta * nContract1, option1.gamma * nContract1))\n",
        "\n"
      ],
      "metadata": {
        "colab": {
          "base_uri": "https://localhost:8080/"
        },
        "id": "yoSKDrabUNLH",
        "outputId": "b7c26100-59e8-4336-d762-ff8f83005b2e"
      },
      "execution_count": null,
      "outputs": [
        {
          "output_type": "stream",
          "name": "stdout",
          "text": [
            "Theoretical Initial Portfolio value:  32264.05329034736\n",
            "Initial Portfolio Greeks:\n",
            " Delta: -523.8788365375873\n",
            " Gamma: -6.3495209433350475\n"
          ]
        }
      ]
    },
    {
      "cell_type": "markdown",
      "source": [
        "# Calcular call y griegos de las otras 2 opciones"
      ],
      "metadata": {
        "id": "zvAEIM59KRez"
      }
    },
    {
      "cell_type": "code",
      "source": [
        "# Precio de option2, option3 y los griegos de estos\n",
        "option2 = EuropeanCall(asset_price=asset_price, asset_volatility=sigma, strike_price=K2, time_to_expiration=dt, risk_free_rate=rf)\n",
        "\n",
        "option3 = EuropeanCall(asset_price=asset_price, asset_volatility=sigma, strike_price=K3, time_to_expiration=dt, risk_free_rate=rf)"
      ],
      "metadata": {
        "id": "CDEt_Z6y75KI"
      },
      "execution_count": null,
      "outputs": []
    },
    {
      "cell_type": "markdown",
      "source": [
        "# Neutralización de ambos griegos"
      ],
      "metadata": {
        "id": "mK_KTDe3PsRv"
      }
    },
    {
      "cell_type": "markdown",
      "source": [
        "Explicación matemática de lo que sucederá adelante"
      ],
      "metadata": {
        "id": "589QHfb0Kzhr"
      }
    },
    {
      "cell_type": "code",
      "source": [
        "portfolio_greeks = [[option1.gamma * abs(nContract1)], [option1.delta * abs(nContract1)]]\n",
        "portfolio_greeks"
      ],
      "metadata": {
        "colab": {
          "base_uri": "https://localhost:8080/"
        },
        "id": "2E4059MfP3Hg",
        "outputId": "5f06b36c-3ca0-4688-ac80-4ed755fc352a"
      },
      "execution_count": null,
      "outputs": [
        {
          "output_type": "execute_result",
          "data": {
            "text/plain": [
              "[[6.3495209433350475], [523.8788365375873]]"
            ]
          },
          "metadata": {},
          "execution_count": 7
        }
      ]
    },
    {
      "cell_type": "markdown",
      "source": [
        "Valores de los griegos de la opción 1 (lo que está en nuestro portafolio hasta el momento)\n",
        "\n",
        "$ \\begin{bmatrix} gamma \\\\ delta \\end{bmatrix} = \\begin{bmatrix} -6.3495... \\\\ -523.8788 \\end{bmatrix} $"
      ],
      "metadata": {
        "id": "Qbm-b4dHPfOH"
      }
    },
    {
      "cell_type": "code",
      "source": [
        "greeks = np.array([[option2.gamma, option3.gamma], [option2.delta, option3.delta]])\n",
        "greeks"
      ],
      "metadata": {
        "colab": {
          "base_uri": "https://localhost:8080/"
        },
        "id": "d-H3u35wPwRt",
        "outputId": "9f179fd9-e9f3-4dbc-bfde-cd092e46c96a"
      },
      "execution_count": null,
      "outputs": [
        {
          "output_type": "execute_result",
          "data": {
            "text/plain": [
              "array([[0.00605908, 0.00577126],\n",
              "       [0.49991534, 0.47616875]])"
            ]
          },
          "metadata": {},
          "execution_count": 8
        }
      ]
    },
    {
      "cell_type": "code",
      "source": [
        "print(f'Gamma de opción 2: {np.round(option2.gamma,4)}\\n'\n",
        "      f'Delta de opción 2: {np.round(option2.delta,4)}\\n'\n",
        "      f'Gamma de opción 3: {np.round(option3.gamma,4)}\\n'\n",
        "      f'Delta de opción 3: {np.round(option3.delta,4)}')"
      ],
      "metadata": {
        "colab": {
          "base_uri": "https://localhost:8080/"
        },
        "id": "95KkciqMRJ5k",
        "outputId": "f6b6a21e-6e81-4388-dba4-2cc7d2433d57"
      },
      "execution_count": null,
      "outputs": [
        {
          "output_type": "stream",
          "name": "stdout",
          "text": [
            "Gamma de opción 2: 0.0061\n",
            "Delta de opción 2: 0.4999\n",
            "Gamma de opción 3: 0.0058\n",
            "Delta de opción 3: 0.4762\n"
          ]
        }
      ]
    },
    {
      "cell_type": "markdown",
      "source": [
        "Queremos encontrar la posicion que tendríamos respecto a las opciones 2 y 3, dados su griegos.\n",
        "\n",
        "$\\begin{bmatrix} 0.00605 & 0.00577 \\\\ 0.49991 & 0.47616 \\end{bmatrix} \\begin{bmatrix} w_2 \\\\ w_3 \\end{bmatrix} = \\begin{bmatrix} 6.35 \\\\ 523.88 \\end{bmatrix}$\n"
      ],
      "metadata": {
        "id": "9XR63h5UM5Jn"
      }
    },
    {
      "cell_type": "markdown",
      "source": [
        "# Ejercicio 2:\n",
        "¿Qué podemos hacer para resolverlo?"
      ],
      "metadata": {
        "id": "5Cj2Uu8LR4g-"
      }
    },
    {
      "cell_type": "code",
      "source": [
        "# Neutralización de griegos -- delta y gamma\n",
        "inv = np.linalg.inv(np.round(greeks, 2))  # Es recomendable hacer el redondeo para evitar problemas con la inversión de matrices\n",
        "\n",
        "# Posiciones en las opciones 2 y 3 para neutralizar delta y gamma\n",
        "w = np.dot(inv, portfolio_greeks)"
      ],
      "metadata": {
        "id": "lsbAi1aYCObW"
      },
      "execution_count": null,
      "outputs": []
    },
    {
      "cell_type": "markdown",
      "source": [
        "Posiciones que se deben tomar respecto a las opciones 2 y 3"
      ],
      "metadata": {
        "id": "S4Qg7JDuKsFY"
      }
    },
    {
      "cell_type": "code",
      "source": [
        "w"
      ],
      "metadata": {
        "colab": {
          "base_uri": "https://localhost:8080/"
        },
        "id": "RrdXyNB6COZB",
        "outputId": "91146572-eaf9-4673-feec-d65c4b095cbd"
      },
      "execution_count": null,
      "outputs": [
        {
          "output_type": "execute_result",
          "data": {
            "text/plain": [
              "array([[ 10955.09156288],\n",
              "       [-10320.13946854]])"
            ]
          },
          "metadata": {},
          "execution_count": 11
        }
      ]
    },
    {
      "cell_type": "code",
      "source": [
        "print(f'Posiciones Finales: \\n'\n",
        "        f'Opción 1: {nContract1} \\n'\n",
        "        f'Opción 2: {w[0][0]} \\n'\n",
        "        f'Opción 3: {w[1][0]}')"
      ],
      "metadata": {
        "colab": {
          "base_uri": "https://localhost:8080/"
        },
        "id": "FUdSNXmLCOW0",
        "outputId": "d99961c2-0005-4ba1-b034-d7c3e0911df8"
      },
      "execution_count": null,
      "outputs": [
        {
          "output_type": "stream",
          "name": "stdout",
          "text": [
            "Posiciones Finales: \n",
            "Opción 1: -1000 \n",
            "Opción 2: 10955.091562875225 \n",
            "Opción 3: -10320.13946854172\n"
          ]
        }
      ]
    },
    {
      "cell_type": "markdown",
      "source": [
        "# Ejercicio 3:\n",
        "\n",
        "Para algún grupo de 3 activos de yahoo finance, apliquen el algoritmo.\n",
        "\n",
        "Tickers sugeridos:\n",
        "- GOOGL - Google\n",
        "- APPL - Apple\n",
        "- NVDA - Nvidia\n",
        "- IBM\n",
        "- INTC - Intel corporation\n",
        "- SHEL - Petrolera\n",
        "- NUE - Nucor Corporation (acerera estadounidense)\n",
        "\n",
        "Tasa libre de riesgo:\n",
        "- ^IRX - Bonos del tesoro a 3 meses (recuerden que hay que divirilo entre 100, hoy esta alrededor del 5%)\n"
      ],
      "metadata": {
        "id": "LQRL3HQ1R_nr"
      }
    },
    {
      "cell_type": "code",
      "source": [
        "# Espacio para ejercicio"
      ],
      "metadata": {
        "id": "7JQBkCb5R9UA"
      },
      "execution_count": null,
      "outputs": []
    }
  ]
}