{
  "nbformat": 4,
  "nbformat_minor": 0,
  "metadata": {
    "colab": {
      "name": "semana6.2_Aps_Financieras2_Pricing_con_Monte_Carlo.ipynb",
      "provenance": [],
      "collapsed_sections": []
    },
    "kernelspec": {
      "name": "python3",
      "display_name": "Python 3"
    },
    "language_info": {
      "name": "python"
    }
  },
  "cells": [
    {
      "cell_type": "markdown",
      "source": [
        "[![Open In Colab](https://colab.research.google.com/assets/colab-badge.svg)](https://colab.research.google.com/github/MaxMitre/Aplicaciones-Financieras/blob/main/Semana6/2_Pricing_con_Monte_Carlo.ipynb)\n"
      ],
      "metadata": {
        "id": "XOk5Q_a6Ju1m"
      }
    },
    {
      "cell_type": "markdown",
      "source": [
        "# Método de Montecarlo para valuación de opciones\n",
        "\n",
        "Se buscará estimar el precio de una opción Europea de tipo call (European Call Option) \n",
        "\n",
        "En resumen, una opción es un contrato entre 2 entes, el precio de este contrato depende, entre otras cosas, del precio subyacente del activo. En especial, una opción Europea es en la que el comprador tiene el derecho, mas no obligación, de ejercer la compra de los valores."
      ],
      "metadata": {
        "id": "vkpxWC_41xRO"
      }
    },
    {
      "cell_type": "markdown",
      "source": [
        "# Resumen de Método MC (Montecarlo)\n",
        "\n",
        "Es un método no detérminista para aproximar expresiones matemáticas complejas que son muy costosas de evaluar con exactitud.\n",
        "\n",
        "Consiste en simular, con variables aleatorias que tengan cierta información de nuestro problema, muchas salidas de nuestro problema, asi como sus correspondientes probabilidades para aproximarnos a la solución real de un problema.\n",
        "\n",
        "Entre mas casos se simulen el resultado será mejor, a cambio de costo computacional\n"
      ],
      "metadata": {
        "id": "tK3cu4bsdmnX"
      }
    },
    {
      "cell_type": "markdown",
      "source": [
        "# Dependencias"
      ],
      "metadata": {
        "id": "7XFEzwUcfK3F"
      }
    },
    {
      "cell_type": "code",
      "source": [
        "import numpy as np\n",
        "import matplotlib.pyplot as plt"
      ],
      "metadata": {
        "id": "NlWSp_89Osp2"
      },
      "execution_count": null,
      "outputs": []
    },
    {
      "cell_type": "markdown",
      "source": [
        "# Clase Configuration:\n",
        "\n",
        "Encargada de:\n",
        "- Almacenará la configuración básica de nuestro modelo.\n"
      ],
      "metadata": {
        "id": "jhM6IuwGf2Uf"
      }
    },
    {
      "cell_type": "code",
      "source": [
        "class Configuration:\n",
        "     def __init__(self, NumberOfScenarios, NumberOfTimesteps):\n",
        "         self.NumberOfScenarios = NumberOfScenarios \n",
        "         self.NumberOfTimesteps = NumberOfTimesteps"
      ],
      "metadata": {
        "id": "K3VtTBD-OtES"
      },
      "execution_count": null,
      "outputs": []
    },
    {
      "cell_type": "markdown",
      "source": [
        "# Clase OptionTrade\n",
        "\n",
        "Almacenará información detallada sobre la opción. La utilizaremos, junto a un Movimiento Brwoniano Geométrico simulado, para calcular el precio del contrato tipo call."
      ],
      "metadata": {
        "id": "GTv1b3Mdg4aM"
      }
    },
    {
      "cell_type": "code",
      "source": [
        "class OptionTrade:\n",
        "  def __init__(self, stock_price, strike_price, risk_free_rate, volatility, time_to_maturity):\n",
        "        self.stock_price=stock_price\n",
        "        self.strike_price=strike_price\n",
        "        self.risk_free_rate=risk_free_rate\n",
        "        self.volatility=volatility\n",
        "        self.time_to_maturity = time_to_maturity"
      ],
      "metadata": {
        "id": "bMutrIXqOtCE"
      },
      "execution_count": null,
      "outputs": []
    },
    {
      "cell_type": "markdown",
      "source": [
        "# Clase GBMModel\n",
        "\n",
        "Crea un simulador de Movimiento Browniano Geométrico"
      ],
      "metadata": {
        "id": "zyOa0B3OkElR"
      }
    },
    {
      "cell_type": "markdown",
      "source": [
        "$$ \n",
        "S_T = S_0 \\exp \\left[ \\left( \\mu - \\dfrac{\\sigma^2}{2} \\right) T + \\sigma\\epsilon\\sqrt{T}  \\right]\n",
        "$$\n",
        "\n",
        "Ésta ecuación es la que nos dará la simulación del precio del call al llevar a cabo simulaciones de variables aleatorias normales. Solucionar esta ecuación es bastante complejo, pero se puede hacer con una herramienta llamada ecuación de Black-Scholes."
      ],
      "metadata": {
        "id": "RRsrm8VQnoYe"
      }
    },
    {
      "cell_type": "code",
      "source": [
        "class GBMModel:\n",
        "    def __init__(self, Configuration):\n",
        "        self.Configuration = Configuration\n",
        "        \n",
        "    #simula factores de riesgo utilizando un GBM (Geometric Brownian Motion), una escuación diferencial estocástica\n",
        "    def SimulateRiskFactor(self, trade):\n",
        "        prices = []\n",
        "        # En este ejemplo, solo nos importa un tiempo por ser una opción Europea\n",
        "        timestep = 1\n",
        "        for scenarioNumber in range(self.Configuration.NumberOfScenarios):\n",
        "            normal_random_number = np.random.normal(0, 1)           \n",
        "            drift = (trade.risk_free_rate-0.5*(trade.volatility**2)) *timestep\n",
        "            \n",
        "            uncertainty =trade.volatility*np.sqrt(timestep)*normal_random_number\n",
        "\n",
        "            price = trade.stock_price * np.exp(drift+uncertainty)\n",
        "            prices.append(price)    \n",
        "        return prices"
      ],
      "metadata": {
        "id": "OlpR0tfyOs_a"
      },
      "execution_count": null,
      "outputs": []
    },
    {
      "cell_type": "markdown",
      "source": [
        "# Clase OptionTradePayoffPricer\n",
        "\n",
        "Nos dará un precio estimado al promediar con el total de escenarios vistos"
      ],
      "metadata": {
        "id": "-zA9lqFDonx9"
      }
    },
    {
      "cell_type": "code",
      "source": [
        "class OptionTradePayoffPricer:\n",
        "    def CalculatePrice(self, trade, prices_per_scenario):\n",
        "        pay_offs = 0\n",
        "        total_scenarios = len(prices_per_scenario)\n",
        "        for i in range(total_scenarios):\n",
        "            price = prices_per_scenario[i]\n",
        "            pay_off = price - trade.strike_price\n",
        "            if(pay_off>0): \n",
        "                pay_offs=pay_offs+pay_off\n",
        "        \n",
        "        discounted_price = (np.exp(-1.0*trade.risk_free_rate * trade.time_to_maturity)*pay_offs)\n",
        "        result = discounted_price/total_scenarios\n",
        "        return result"
      ],
      "metadata": {
        "id": "n-AhdBi0Os9i"
      },
      "execution_count": null,
      "outputs": []
    },
    {
      "cell_type": "markdown",
      "source": [
        "# Visualización"
      ],
      "metadata": {
        "id": "2zadYefiogTe"
      }
    },
    {
      "cell_type": "code",
      "source": [
        "def plot_scenario_paths(prices_per_scenario, trade):\n",
        "    x=[]\n",
        "    y=[]\n",
        "    for i in prices_per_scenario:\n",
        "            y.append(i)\n",
        "            y.append(trade.stock_price)\n",
        "            x.append(1)            \n",
        "            x.append(0)            \n",
        "            plt.plot(x, y)            \n",
        "       \n",
        "    plt.ylabel('Stock Value')\n",
        "    plt.xlabel('Timestep')\n",
        "    plt.show()"
      ],
      "metadata": {
        "id": "2lQB9_jLOs8e"
      },
      "execution_count": null,
      "outputs": []
    },
    {
      "cell_type": "markdown",
      "source": [
        "# clase MonteCarloEngineSimulator\n",
        "\n",
        "Condensa las clases mencionadas anteriormente para entregarnos el precio esperado y las gráficas"
      ],
      "metadata": {
        "id": "B05iWCjOoyl5"
      }
    },
    {
      "cell_type": "code",
      "source": [
        "class MonteCarloEngineSimulator:\n",
        "    # Inicializado con Configuration y Model\n",
        "    def __init__(self, configuration, model):\n",
        "        self.configuration = configuration\n",
        "        self.model = model\n",
        "        \n",
        "    #Simula trades y calcula precios\n",
        "    def Simulate(self, trade, tradePricer):\n",
        "        prices_per_scenario = self.model.SimulateRiskFactor(trade)\n",
        "        #Grafica escenarios\n",
        "        plot_scenario_paths(prices_per_scenario, trade)\n",
        "        price = tradePricer.CalculatePrice(trade, prices_per_scenario)\n",
        "        \n",
        "        return price"
      ],
      "metadata": {
        "id": "dxItd3puO3r7"
      },
      "execution_count": null,
      "outputs": []
    },
    {
      "cell_type": "markdown",
      "source": [
        "# Cantidad pequeña de simulaciones"
      ],
      "metadata": {
        "id": "h6WCXEm4p9ni"
      }
    },
    {
      "cell_type": "code",
      "source": [
        "# Prepara los datos\n",
        "configuration = Configuration(30, 1) # config\n",
        "trade = OptionTrade(200, 200, 0.15, 0.1,1) # trade\n",
        "model = GBMModel(configuration)\n",
        "tradePricer = OptionTradePayoffPricer()\n",
        "simulator = MonteCarloEngineSimulator(configuration, model)\n",
        "    \n",
        "# Simula precio\n",
        "price = simulator.Simulate(trade, tradePricer)\n",
        "print(price)"
      ],
      "metadata": {
        "id": "-5jkPGPvO3pX",
        "colab": {
          "base_uri": "https://localhost:8080/",
          "height": 296
        },
        "outputId": "b4369368-073e-4563-ae5f-92cde89e3b1d"
      },
      "execution_count": null,
      "outputs": [
        {
          "output_type": "display_data",
          "data": {
            "text/plain": [
              "<Figure size 432x288 with 1 Axes>"
            ],
            "image/png": "[encoded data removed]"
          },
          "metadata": {
            "needs_background": "light"
          }
        },
        {
          "output_type": "stream",
          "name": "stdout",
          "text": [
            "15.66433311690568\n"
          ]
        }
      ]
    },
    {
      "cell_type": "code",
      "source": [
        "simulated_prices = simulator.model.SimulateRiskFactor(trade) # Precios simulados"
      ],
      "metadata": {
        "id": "Fy68v87_pZgM"
      },
      "execution_count": null,
      "outputs": []
    },
    {
      "cell_type": "code",
      "source": [
        "plt.hist(simulated_prices)"
      ],
      "metadata": {
        "colab": {
          "base_uri": "https://localhost:8080/",
          "height": 352
        },
        "id": "FwrVocy1pjCn",
        "outputId": "ebb5639a-f8ba-4752-f8f8-96a97c396c0a"
      },
      "execution_count": null,
      "outputs": [
        {
          "output_type": "execute_result",
          "data": {
            "text/plain": [
              "(array([2., 0., 0., 0., 3., 3., 0., 0., 1., 1.]),\n",
              " array([195.17919136, 203.98737267, 212.79555399, 221.6037353 ,\n",
              "        230.41191661, 239.22009793, 248.02827924, 256.83646056,\n",
              "        265.64464187, 274.45282319, 283.2610045 ]),\n",
              " <a list of 10 Patch objects>)"
            ]
          },
          "metadata": {},
          "execution_count": 16
        },
        {
          "output_type": "display_data",
          "data": {
            "text/plain": [
              "<Figure size 432x288 with 1 Axes>"
            ],
            "image/png": "[encoded data removed]"
          },
          "metadata": {
            "needs_background": "light"
          }
        }
      ]
    },
    {
      "cell_type": "markdown",
      "source": [
        "# Más Simulaciones"
      ],
      "metadata": {
        "id": "32RqBF-CqAvy"
      }
    },
    {
      "cell_type": "code",
      "source": [
        "# Prepara los datos\n",
        "configuration = Configuration(1000, 1) # config\n",
        "trade = OptionTrade(200, 200, 0.15, 0.1,1) # trade\n",
        "model = GBMModel(configuration)\n",
        "tradePricer = OptionTradePayoffPricer()\n",
        "simulator = MonteCarloEngineSimulator(configuration, model)\n",
        "\n",
        "# Simula precio\n",
        "price = simulator.Simulate(trade, tradePricer)\n",
        "print(price)"
      ],
      "metadata": {
        "colab": {
          "base_uri": "https://localhost:8080/",
          "height": 299
        },
        "id": "CZJ3S3PxO3nA",
        "outputId": "1e05df4d-79c4-470f-ec6e-f5647615fef9"
      },
      "execution_count": null,
      "outputs": [
        {
          "output_type": "display_data",
          "data": {
            "text/plain": [
              "<Figure size 432x288 with 1 Axes>"
            ],
            "image/png": "[encoded data removed]"
          },
          "metadata": {
            "needs_background": "light"
          }
        },
        {
          "output_type": "stream",
          "name": "stdout",
          "text": [
            "28.402862038750698\n"
          ]
        }
      ]
    },
    {
      "cell_type": "code",
      "source": [
        "simulated_prices = simulator.model.SimulateRiskFactor(trade) # Precios simulados"
      ],
      "metadata": {
        "id": "ybjHHxUCpoqC"
      },
      "execution_count": null,
      "outputs": []
    },
    {
      "cell_type": "code",
      "source": [
        "plt.hist(simulated_prices)"
      ],
      "metadata": {
        "outputId": "701b7749-b938-4777-cd40-bc8fb20b32ca",
        "colab": {
          "base_uri": "https://localhost:8080/",
          "height": 352
        },
        "id": "n8jmFixbpoqD"
      },
      "execution_count": null,
      "outputs": [
        {
          "output_type": "execute_result",
          "data": {
            "text/plain": [
              "(array([  9.,  29., 101., 175., 254., 194., 144.,  58.,  27.,   9.]),\n",
              " array([166.2617206 , 180.21904894, 194.17637728, 208.13370562,\n",
              "        222.09103396, 236.0483623 , 250.00569064, 263.96301898,\n",
              "        277.92034732, 291.87767566, 305.83500401]),\n",
              " <a list of 10 Patch objects>)"
            ]
          },
          "metadata": {},
          "execution_count": 19
        },
        {
          "output_type": "display_data",
          "data": {
            "text/plain": [
              "<Figure size 432x288 with 1 Axes>"
            ],
            "image/png": "[encoded data removed]"
          },
          "metadata": {
            "needs_background": "light"
          }
        }
      ]
    }
  ]
}