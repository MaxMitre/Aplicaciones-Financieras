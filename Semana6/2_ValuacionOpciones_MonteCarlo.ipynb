{
  "nbformat": 4,
  "nbformat_minor": 0,
  "metadata": {
    "colab": {
      "provenance": []
    },
    "kernelspec": {
      "name": "python3",
      "display_name": "Python 3"
    },
    "language_info": {
      "name": "python"
    }
  },
  "cells": [
    {
      "cell_type": "markdown",
      "source": [
        "[![Open In Colab](https://colab.research.google.com/assets/colab-badge.svg)](https://colab.research.google.com/github/MaxMitre/Aplicaciones-Financieras/blob/main/Semana6/2_ValuacionOpciones_MonteCarlo.ipynb)"
      ],
      "metadata": {
        "id": "_1P5yLi6bk4h"
      }
    },
    {
      "cell_type": "markdown",
      "source": [
        "# Simulación Monte Carlo para valuación de Opciones\n",
        "\n",
        "En esta clase veremos como utilizar el método de muestre MonteCarlo para dar un precio a nuestras opciones de tipo Call Europeo."
      ],
      "metadata": {
        "id": "6zTy3-PCavsk"
      }
    },
    {
      "cell_type": "code",
      "source": [
        "!pip install yfinance"
      ],
      "metadata": {
        "colab": {
          "base_uri": "https://localhost:8080/"
        },
        "id": "ARAT_cBvsUHL",
        "outputId": "f3e6dc49-42c4-4730-8f61-6714153968f7"
      },
      "execution_count": null,
      "outputs": [
        {
          "output_type": "stream",
          "name": "stdout",
          "text": [
            "Looking in indexes: https://pypi.org/simple, https://us-python.pkg.dev/colab-wheels/public/simple/\n",
            "Requirement already satisfied: yfinance in /usr/local/lib/python3.8/dist-packages (0.2.4)\n",
            "Requirement already satisfied: appdirs>=1.4.4 in /usr/local/lib/python3.8/dist-packages (from yfinance) (1.4.4)\n",
            "Requirement already satisfied: html5lib>=1.1 in /usr/local/lib/python3.8/dist-packages (from yfinance) (1.1)\n",
            "Requirement already satisfied: numpy>=1.16.5 in /usr/local/lib/python3.8/dist-packages (from yfinance) (1.21.6)\n",
            "Requirement already satisfied: pandas>=1.3.0 in /usr/local/lib/python3.8/dist-packages (from yfinance) (1.3.5)\n",
            "Requirement already satisfied: multitasking>=0.0.7 in /usr/local/lib/python3.8/dist-packages (from yfinance) (0.0.11)\n",
            "Requirement already satisfied: beautifulsoup4>=4.11.1 in /usr/local/lib/python3.8/dist-packages (from yfinance) (4.11.1)\n",
            "Requirement already satisfied: lxml>=4.9.1 in /usr/local/lib/python3.8/dist-packages (from yfinance) (4.9.2)\n",
            "Requirement already satisfied: requests>=2.26 in /usr/local/lib/python3.8/dist-packages (from yfinance) (2.28.2)\n",
            "Requirement already satisfied: pytz>=2022.5 in /usr/local/lib/python3.8/dist-packages (from yfinance) (2022.7)\n",
            "Requirement already satisfied: cryptography>=3.3.2 in /usr/local/lib/python3.8/dist-packages (from yfinance) (39.0.0)\n",
            "Requirement already satisfied: frozendict>=2.3.4 in /usr/local/lib/python3.8/dist-packages (from yfinance) (2.3.4)\n",
            "Requirement already satisfied: soupsieve>1.2 in /usr/local/lib/python3.8/dist-packages (from beautifulsoup4>=4.11.1->yfinance) (2.3.2.post1)\n",
            "Requirement already satisfied: cffi>=1.12 in /usr/local/lib/python3.8/dist-packages (from cryptography>=3.3.2->yfinance) (1.15.1)\n",
            "Requirement already satisfied: webencodings in /usr/local/lib/python3.8/dist-packages (from html5lib>=1.1->yfinance) (0.5.1)\n",
            "Requirement already satisfied: six>=1.9 in /usr/local/lib/python3.8/dist-packages (from html5lib>=1.1->yfinance) (1.15.0)\n",
            "Requirement already satisfied: python-dateutil>=2.7.3 in /usr/local/lib/python3.8/dist-packages (from pandas>=1.3.0->yfinance) (2.8.2)\n",
            "Requirement already satisfied: certifi>=2017.4.17 in /usr/local/lib/python3.8/dist-packages (from requests>=2.26->yfinance) (2022.12.7)\n",
            "Requirement already satisfied: idna<4,>=2.5 in /usr/local/lib/python3.8/dist-packages (from requests>=2.26->yfinance) (2.10)\n",
            "Requirement already satisfied: urllib3<1.27,>=1.21.1 in /usr/local/lib/python3.8/dist-packages (from requests>=2.26->yfinance) (1.24.3)\n",
            "Requirement already satisfied: charset-normalizer<4,>=2 in /usr/local/lib/python3.8/dist-packages (from requests>=2.26->yfinance) (2.1.1)\n",
            "Requirement already satisfied: pycparser in /usr/local/lib/python3.8/dist-packages (from cffi>=1.12->cryptography>=3.3.2->yfinance) (2.21)\n"
          ]
        }
      ]
    },
    {
      "cell_type": "code",
      "source": [
        "import matplotlib.pyplot as plt\n",
        "import numpy as np\n",
        "import math\n",
        "\n",
        "import yfinance as yf\n",
        "import pandas as pd"
      ],
      "metadata": {
        "id": "lb4bK6YnnBNC"
      },
      "execution_count": null,
      "outputs": []
    },
    {
      "cell_type": "markdown",
      "source": [
        "# Simulación por caminos (datos sintéticos)"
      ],
      "metadata": {
        "id": "0Tvtt6T9Tkyf"
      }
    },
    {
      "cell_type": "markdown",
      "source": [
        "La ecuación diferencial estocástica que define el camino seguido por un activo es:\n",
        "\n",
        "$$ dS_t = \\mu \\, dt + \\gamma \\, dW_t, $$\n",
        "\n",
        "donde $S_t$ representa el precio del activo al tiempo t, $\\mu$ es el retorno anual esperado, $\\gamma$ representa la *volatilidad implicita* del mercado."
      ],
      "metadata": {
        "id": "kptDTrG_cNMA"
      }
    },
    {
      "cell_type": "code",
      "source": [
        "class European_Call_Payoff:\n",
        "\n",
        "    def __init__(self, strike):\n",
        "        self.strike = strike\n",
        "\n",
        "    def get_payoff(self, stock_price):\n",
        "        if stock_price > self.strike:\n",
        "            return stock_price - self.strike\n",
        "        else:\n",
        "            return 0"
      ],
      "metadata": {
        "id": "pzlmdYT3teGp"
      },
      "execution_count": null,
      "outputs": []
    },
    {
      "cell_type": "code",
      "execution_count": null,
      "metadata": {
        "id": "KLkNbEbVkf8y"
      },
      "outputs": [],
      "source": [
        "class GeometricBrownianMotion:\n",
        "\n",
        "    def simulate_paths(self):\n",
        "        while(self.T - self.dt > 0):\n",
        "            dWt = np.random.normal(0, math.sqrt(self.dt))  # Movimiento Browniano\n",
        "            dYt = self.drift*self.dt + self.volatility*dWt  # Cambio/Delta del precio\n",
        "            self.current_price += dYt  # Agregar el cambio al precio actual\n",
        "            self.prices.append(self.current_price)  # Agregar nuevo precio a la serie de tiempo\n",
        "            self.T -= self.dt  # Tomar en cuenta el cambio del tiempo\n",
        "\n",
        "    def __init__(self, initial_price, drift, volatility, dt, T):\n",
        "        self.current_price = initial_price\n",
        "        self.initial_price = initial_price\n",
        "        self.drift = drift\n",
        "        self.volatility = volatility\n",
        "        self.dt = dt\n",
        "        self.T = T\n",
        "        self.prices = []\n",
        "        self.simulate_paths()"
      ]
    },
    {
      "cell_type": "markdown",
      "source": [
        "# Paréntesis Culturas: POO (si es necesario)"
      ],
      "metadata": {
        "id": "exGg9V9LCrex"
      }
    },
    {
      "cell_type": "code",
      "source": [
        "class ObjetoBasico:\n",
        "  def __init__(self, una_caracteristica):\n",
        "    self.caracteristica = una_caracteristica"
      ],
      "metadata": {
        "id": "xW-Xx2iECwqo"
      },
      "execution_count": null,
      "outputs": []
    },
    {
      "cell_type": "code",
      "source": [
        "a = ObjetoBasico(6)"
      ],
      "metadata": {
        "id": "CDh7tWVUZHjy"
      },
      "execution_count": null,
      "outputs": []
    },
    {
      "cell_type": "code",
      "source": [
        "a.caracteristica"
      ],
      "metadata": {
        "colab": {
          "base_uri": "https://localhost:8080/"
        },
        "id": "eQMEj9A-ZLNa",
        "outputId": "1f83eb4a-9f02-4028-8618-106e888a6452"
      },
      "execution_count": null,
      "outputs": [
        {
          "output_type": "execute_result",
          "data": {
            "text/plain": [
              "6"
            ]
          },
          "metadata": {},
          "execution_count": 61
        }
      ]
    },
    {
      "cell_type": "markdown",
      "source": [
        "## Parámetros artificiales"
      ],
      "metadata": {
        "id": "akNEhdzwdf9A"
      }
    },
    {
      "cell_type": "code",
      "source": [
        "paths = 5\n",
        "initial_price = 100\n",
        "drift = .5\n",
        "volatility = .01\n",
        "dt = 1/360\n",
        "T = 30/360\n",
        "price_paths = []"
      ],
      "metadata": {
        "id": "OqgyxBpPnDhd"
      },
      "execution_count": null,
      "outputs": []
    },
    {
      "cell_type": "code",
      "source": [
        "# Generar un conjunto de caminos\n",
        "for i in range(0, paths):\n",
        "    price_paths.append(GeometricBrownianMotion(initial_price, drift, volatility, dt, T).prices)"
      ],
      "metadata": {
        "id": "_7S9iswSnFQ8"
      },
      "execution_count": null,
      "outputs": []
    },
    {
      "cell_type": "code",
      "source": [
        "call_payoffs = []\n",
        "ec = European_Call_Payoff(100) # Le pasamos el precio acordado en el contrato (STRIKE)\n",
        "risk_free_rate = .01\n",
        "for price_path in price_paths:\n",
        "    call_payoffs.append(ec.get_payoff(price_path[-1])/(1 + risk_free_rate))  \n",
        "    # Vemos el último precio simulado y comparamos con el precio del contrato para saber si ganamos algo o es un cero."
      ],
      "metadata": {
        "id": "zLYOGvr3tmyf"
      },
      "execution_count": null,
      "outputs": []
    },
    {
      "cell_type": "code",
      "source": [
        "# Visualicación de los caminos\n",
        "for price_path in price_paths:\n",
        "    plt.plot(price_path)\n",
        "plt.show()"
      ],
      "metadata": {
        "colab": {
          "base_uri": "https://localhost:8080/",
          "height": 265
        },
        "id": "jCyPeAUrnGMr",
        "outputId": "7b7566c6-e95d-4f78-b160-e6b4fc4fec69"
      },
      "execution_count": null,
      "outputs": [
        {
          "output_type": "display_data",
          "data": {
            "text/plain": [
              "<Figure size 432x288 with 1 Axes>"
            ],
            "image/png": "[encoded data removed]"
          },
          "metadata": {
            "needs_background": "light"
          }
        }
      ]
    },
    {
      "cell_type": "code",
      "source": [
        "print(np.average(call_payoffs))  # Comentar sobre como se venden las opciones en el mercado, por bloques"
      ],
      "metadata": {
        "colab": {
          "base_uri": "https://localhost:8080/"
        },
        "id": "5rDCx6JRtslO",
        "outputId": "ab90c912-668b-46c2-f927-f2034af961bd"
      },
      "execution_count": null,
      "outputs": [
        {
          "output_type": "stream",
          "name": "stdout",
          "text": [
            "0.014986070706597484\n"
          ]
        }
      ]
    },
    {
      "cell_type": "markdown",
      "source": [
        "## Ésta solución tiene un pequeño inconveniente, que necesita la \"volatilidad implicita.\""
      ],
      "metadata": {
        "id": "_2cxV5IVa7S6"
      }
    },
    {
      "cell_type": "markdown",
      "source": [
        "# Simulación Monte Carlo"
      ],
      "metadata": {
        "id": "ZYuZyBhnTpaj"
      }
    },
    {
      "cell_type": "code",
      "source": [
        "data = yf.download(\n",
        "        # Lista de tickers o puede ser un string\n",
        "        tickers = \"GOOGL ^IRX\",\n",
        "\n",
        "        # Parámetro \"period\", tambien se puede utilizar start/end\n",
        "        # periodos válidos: 1d,5d,1mo,3mo,6mo,1y,2y,5y,10y,ytd,max\n",
        "        # (opcional, default es '1mo')\n",
        "        period = \"1y\",\n",
        "\n",
        "        # Peidr datos por intervalo (incluye intradía si es menor a 60 days)\n",
        "        # intervalos válidos: 1m,2m,5m,15m,30m,60m,90m,1h,1d,5d,1wk,1mo,3mo\n",
        "        # (opcional, default es '1d')\n",
        "        interval = \"1d\",\n",
        "\n",
        "        # group by ticker (to access via data['SPY'])\n",
        "        # (opcional, default es 'column')\n",
        "        # group_by = 'ticker',\n",
        "    ).loc[:, 'Adj Close']\n",
        "data"
      ],
      "metadata": {
        "colab": {
          "base_uri": "https://localhost:8080/",
          "height": 472
        },
        "id": "gEM4ltGDsOHP",
        "outputId": "379e540e-949c-4133-f665-0f839408bd8f"
      },
      "execution_count": null,
      "outputs": [
        {
          "output_type": "stream",
          "name": "stdout",
          "text": [
            "[*********************100%***********************]  2 of 2 completed\n"
          ]
        },
        {
          "output_type": "execute_result",
          "data": {
            "text/plain": [
              "                                GOOGL   ^IRX\n",
              "Date                                        \n",
              "2022-01-19 00:00:00-05:00         NaN  0.165\n",
              "2022-01-20 00:00:00-05:00  133.307495  0.168\n",
              "2022-01-21 00:00:00-05:00  130.351501  0.158\n",
              "2022-01-24 00:00:00-05:00  130.804001  0.155\n",
              "2022-01-25 00:00:00-05:00  126.934998  0.185\n",
              "...                               ...    ...\n",
              "2023-01-12 00:00:00-05:00   91.129997  4.475\n",
              "2023-01-13 00:00:00-05:00   92.120003  4.488\n",
              "2023-01-17 00:00:00-05:00   91.290001  4.493\n",
              "2023-01-18 00:00:00-05:00   91.120003  4.530\n",
              "2023-01-19 00:00:00-05:00   93.050003  4.525\n",
              "\n",
              "[252 rows x 2 columns]"
            ],
            "text/html": [
              "\n",
              "  <div id=\"df-af6141c4-b9de-40d4-90cb-86ec57b04052\">\n",
              "    <div class=\"colab-df-container\">\n",
              "      <div>\n",
              "<style scoped>\n",
              "    .dataframe tbody tr th:only-of-type {\n",
              "        vertical-align: middle;\n",
              "    }\n",
              "\n",
              "    .dataframe tbody tr th {\n",
              "        vertical-align: top;\n",
              "    }\n",
              "\n",
              "    .dataframe thead th {\n",
              "        text-align: right;\n",
              "    }\n",
              "</style>\n",
              "<table border=\"1\" class=\"dataframe\">\n",
              "  <thead>\n",
              "    <tr style=\"text-align: right;\">\n",
              "      <th></th>\n",
              "      <th>GOOGL</th>\n",
              "      <th>^IRX</th>\n",
              "    </tr>\n",
              "    <tr>\n",
              "      <th>Date</th>\n",
              "      <th></th>\n",
              "      <th></th>\n",
              "    </tr>\n",
              "  </thead>\n",
              "  <tbody>\n",
              "    <tr>\n",
              "      <th>2022-01-19 00:00:00-05:00</th>\n",
              "      <td>NaN</td>\n",
              "      <td>0.165</td>\n",
              "    </tr>\n",
              "    <tr>\n",
              "      <th>2022-01-20 00:00:00-05:00</th>\n",
              "      <td>133.307495</td>\n",
              "      <td>0.168</td>\n",
              "    </tr>\n",
              "    <tr>\n",
              "      <th>2022-01-21 00:00:00-05:00</th>\n",
              "      <td>130.351501</td>\n",
              "      <td>0.158</td>\n",
              "    </tr>\n",
              "    <tr>\n",
              "      <th>2022-01-24 00:00:00-05:00</th>\n",
              "      <td>130.804001</td>\n",
              "      <td>0.155</td>\n",
              "    </tr>\n",
              "    <tr>\n",
              "      <th>2022-01-25 00:00:00-05:00</th>\n",
              "      <td>126.934998</td>\n",
              "      <td>0.185</td>\n",
              "    </tr>\n",
              "    <tr>\n",
              "      <th>...</th>\n",
              "      <td>...</td>\n",
              "      <td>...</td>\n",
              "    </tr>\n",
              "    <tr>\n",
              "      <th>2023-01-12 00:00:00-05:00</th>\n",
              "      <td>91.129997</td>\n",
              "      <td>4.475</td>\n",
              "    </tr>\n",
              "    <tr>\n",
              "      <th>2023-01-13 00:00:00-05:00</th>\n",
              "      <td>92.120003</td>\n",
              "      <td>4.488</td>\n",
              "    </tr>\n",
              "    <tr>\n",
              "      <th>2023-01-17 00:00:00-05:00</th>\n",
              "      <td>91.290001</td>\n",
              "      <td>4.493</td>\n",
              "    </tr>\n",
              "    <tr>\n",
              "      <th>2023-01-18 00:00:00-05:00</th>\n",
              "      <td>91.120003</td>\n",
              "      <td>4.530</td>\n",
              "    </tr>\n",
              "    <tr>\n",
              "      <th>2023-01-19 00:00:00-05:00</th>\n",
              "      <td>93.050003</td>\n",
              "      <td>4.525</td>\n",
              "    </tr>\n",
              "  </tbody>\n",
              "</table>\n",
              "<p>252 rows × 2 columns</p>\n",
              "</div>\n",
              "      <button class=\"colab-df-convert\" onclick=\"convertToInteractive('df-af6141c4-b9de-40d4-90cb-86ec57b04052')\"\n",
              "              title=\"Convert this dataframe to an interactive table.\"\n",
              "              style=\"display:none;\">\n",
              "        \n",
              "  <svg xmlns=\"http://www.w3.org/2000/svg\" height=\"24px\"viewBox=\"0 0 24 24\"\n",
              "       width=\"24px\">\n",
              "    <path d=\"M0 0h24v24H0V0z\" fill=\"none\"/>\n",
              "    <path d=\"M18.56 5.44l.94 2.06.94-2.06 2.06-.94-2.06-.94-.94-2.06-.94 2.06-2.06.94zm-11 1L8.5 8.5l.94-2.06 2.06-.94-2.06-.94L8.5 2.5l-.94 2.06-2.06.94zm10 10l.94 2.06.94-2.06 2.06-.94-2.06-.94-.94-2.06-.94 2.06-2.06.94z\"/><path d=\"M17.41 7.96l-1.37-1.37c-.4-.4-.92-.59-1.43-.59-.52 0-1.04.2-1.43.59L10.3 9.45l-7.72 7.72c-.78.78-.78 2.05 0 2.83L4 21.41c.39.39.9.59 1.41.59.51 0 1.02-.2 1.41-.59l7.78-7.78 2.81-2.81c.8-.78.8-2.07 0-2.86zM5.41 20L4 18.59l7.72-7.72 1.47 1.35L5.41 20z\"/>\n",
              "  </svg>\n",
              "      </button>\n",
              "      \n",
              "  <style>\n",
              "    .colab-df-container {\n",
              "      display:flex;\n",
              "      flex-wrap:wrap;\n",
              "      gap: 12px;\n",
              "    }\n",
              "\n",
              "    .colab-df-convert {\n",
              "      background-color: #E8F0FE;\n",
              "      border: none;\n",
              "      border-radius: 50%;\n",
              "      cursor: pointer;\n",
              "      display: none;\n",
              "      fill: #1967D2;\n",
              "      height: 32px;\n",
              "      padding: 0 0 0 0;\n",
              "      width: 32px;\n",
              "    }\n",
              "\n",
              "    .colab-df-convert:hover {\n",
              "      background-color: #E2EBFA;\n",
              "      box-shadow: 0px 1px 2px rgba(60, 64, 67, 0.3), 0px 1px 3px 1px rgba(60, 64, 67, 0.15);\n",
              "      fill: #174EA6;\n",
              "    }\n",
              "\n",
              "    [theme=dark] .colab-df-convert {\n",
              "      background-color: #3B4455;\n",
              "      fill: #D2E3FC;\n",
              "    }\n",
              "\n",
              "    [theme=dark] .colab-df-convert:hover {\n",
              "      background-color: #434B5C;\n",
              "      box-shadow: 0px 1px 3px 1px rgba(0, 0, 0, 0.15);\n",
              "      filter: drop-shadow(0px 1px 2px rgba(0, 0, 0, 0.3));\n",
              "      fill: #FFFFFF;\n",
              "    }\n",
              "  </style>\n",
              "\n",
              "      <script>\n",
              "        const buttonEl =\n",
              "          document.querySelector('#df-af6141c4-b9de-40d4-90cb-86ec57b04052 button.colab-df-convert');\n",
              "        buttonEl.style.display =\n",
              "          google.colab.kernel.accessAllowed ? 'block' : 'none';\n",
              "\n",
              "        async function convertToInteractive(key) {\n",
              "          const element = document.querySelector('#df-af6141c4-b9de-40d4-90cb-86ec57b04052');\n",
              "          const dataTable =\n",
              "            await google.colab.kernel.invokeFunction('convertToInteractive',\n",
              "                                                     [key], {});\n",
              "          if (!dataTable) return;\n",
              "\n",
              "          const docLinkHtml = 'Like what you see? Visit the ' +\n",
              "            '<a target=\"_blank\" href=https://colab.research.google.com/notebooks/data_table.ipynb>data table notebook</a>'\n",
              "            + ' to learn more about interactive tables.';\n",
              "          element.innerHTML = '';\n",
              "          dataTable['output_type'] = 'display_data';\n",
              "          await google.colab.output.renderOutput(dataTable, element);\n",
              "          const docLink = document.createElement('div');\n",
              "          docLink.innerHTML = docLinkHtml;\n",
              "          element.appendChild(docLink);\n",
              "        }\n",
              "      </script>\n",
              "    </div>\n",
              "  </div>\n",
              "  "
            ]
          },
          "metadata": {},
          "execution_count": 90
        }
      ]
    },
    {
      "cell_type": "markdown",
      "source": [
        "Crea un simulador de Movimiento Browniano Geométrico.\n",
        "\n",
        "$$ \n",
        "S_T = S_0 \\exp \\left[ \\left( r - \\dfrac{\\sigma^2}{2} \\right) T + \\sigma\\epsilon\\sqrt{T}  \\right],\n",
        "$$\n",
        "donde $\\epsilon$ es una simulación de una Normal estándar.\n",
        "\n",
        "Ésta ecuación es la que nos dará la simulación del precio del del activo en el futuro al llevar a cabo simulaciones de variables aleatorias normales. Esto nos ayudará e encontrar el precio de la opción. \n",
        "\n",
        "Como extra, solucionar esta ecuación es bastante complejo, pero se puede hacer con una herramienta llamada ecuación de Black-Scholes."
      ],
      "metadata": {
        "id": "lX7c6REtTsML"
      }
    },
    {
      "cell_type": "code",
      "source": [
        "data"
      ],
      "metadata": {
        "colab": {
          "base_uri": "https://localhost:8080/",
          "height": 455
        },
        "id": "KxyWuHBSVOLJ",
        "outputId": "42446e65-22b3-441d-bcee-b7a78fb3bed3"
      },
      "execution_count": null,
      "outputs": [
        {
          "output_type": "execute_result",
          "data": {
            "text/plain": [
              "                                GOOGL   ^IRX\n",
              "Date                                        \n",
              "2022-01-19 00:00:00-05:00         NaN  0.165\n",
              "2022-01-20 00:00:00-05:00  133.307495  0.168\n",
              "2022-01-21 00:00:00-05:00  130.351501  0.158\n",
              "2022-01-24 00:00:00-05:00  130.804001  0.155\n",
              "2022-01-25 00:00:00-05:00  126.934998  0.185\n",
              "...                               ...    ...\n",
              "2023-01-12 00:00:00-05:00   91.129997  4.475\n",
              "2023-01-13 00:00:00-05:00   92.120003  4.488\n",
              "2023-01-17 00:00:00-05:00   91.290001  4.493\n",
              "2023-01-18 00:00:00-05:00   91.120003  4.530\n",
              "2023-01-19 00:00:00-05:00   93.050003  4.525\n",
              "\n",
              "[252 rows x 2 columns]"
            ],
            "text/html": [
              "\n",
              "  <div id=\"df-3f9c32cb-9e2f-459c-b8f0-e86dc1c5f418\">\n",
              "    <div class=\"colab-df-container\">\n",
              "      <div>\n",
              "<style scoped>\n",
              "    .dataframe tbody tr th:only-of-type {\n",
              "        vertical-align: middle;\n",
              "    }\n",
              "\n",
              "    .dataframe tbody tr th {\n",
              "        vertical-align: top;\n",
              "    }\n",
              "\n",
              "    .dataframe thead th {\n",
              "        text-align: right;\n",
              "    }\n",
              "</style>\n",
              "<table border=\"1\" class=\"dataframe\">\n",
              "  <thead>\n",
              "    <tr style=\"text-align: right;\">\n",
              "      <th></th>\n",
              "      <th>GOOGL</th>\n",
              "      <th>^IRX</th>\n",
              "    </tr>\n",
              "    <tr>\n",
              "      <th>Date</th>\n",
              "      <th></th>\n",
              "      <th></th>\n",
              "    </tr>\n",
              "  </thead>\n",
              "  <tbody>\n",
              "    <tr>\n",
              "      <th>2022-01-19 00:00:00-05:00</th>\n",
              "      <td>NaN</td>\n",
              "      <td>0.165</td>\n",
              "    </tr>\n",
              "    <tr>\n",
              "      <th>2022-01-20 00:00:00-05:00</th>\n",
              "      <td>133.307495</td>\n",
              "      <td>0.168</td>\n",
              "    </tr>\n",
              "    <tr>\n",
              "      <th>2022-01-21 00:00:00-05:00</th>\n",
              "      <td>130.351501</td>\n",
              "      <td>0.158</td>\n",
              "    </tr>\n",
              "    <tr>\n",
              "      <th>2022-01-24 00:00:00-05:00</th>\n",
              "      <td>130.804001</td>\n",
              "      <td>0.155</td>\n",
              "    </tr>\n",
              "    <tr>\n",
              "      <th>2022-01-25 00:00:00-05:00</th>\n",
              "      <td>126.934998</td>\n",
              "      <td>0.185</td>\n",
              "    </tr>\n",
              "    <tr>\n",
              "      <th>...</th>\n",
              "      <td>...</td>\n",
              "      <td>...</td>\n",
              "    </tr>\n",
              "    <tr>\n",
              "      <th>2023-01-12 00:00:00-05:00</th>\n",
              "      <td>91.129997</td>\n",
              "      <td>4.475</td>\n",
              "    </tr>\n",
              "    <tr>\n",
              "      <th>2023-01-13 00:00:00-05:00</th>\n",
              "      <td>92.120003</td>\n",
              "      <td>4.488</td>\n",
              "    </tr>\n",
              "    <tr>\n",
              "      <th>2023-01-17 00:00:00-05:00</th>\n",
              "      <td>91.290001</td>\n",
              "      <td>4.493</td>\n",
              "    </tr>\n",
              "    <tr>\n",
              "      <th>2023-01-18 00:00:00-05:00</th>\n",
              "      <td>91.120003</td>\n",
              "      <td>4.530</td>\n",
              "    </tr>\n",
              "    <tr>\n",
              "      <th>2023-01-19 00:00:00-05:00</th>\n",
              "      <td>93.050003</td>\n",
              "      <td>4.525</td>\n",
              "    </tr>\n",
              "  </tbody>\n",
              "</table>\n",
              "<p>252 rows × 2 columns</p>\n",
              "</div>\n",
              "      <button class=\"colab-df-convert\" onclick=\"convertToInteractive('df-3f9c32cb-9e2f-459c-b8f0-e86dc1c5f418')\"\n",
              "              title=\"Convert this dataframe to an interactive table.\"\n",
              "              style=\"display:none;\">\n",
              "        \n",
              "  <svg xmlns=\"http://www.w3.org/2000/svg\" height=\"24px\"viewBox=\"0 0 24 24\"\n",
              "       width=\"24px\">\n",
              "    <path d=\"M0 0h24v24H0V0z\" fill=\"none\"/>\n",
              "    <path d=\"M18.56 5.44l.94 2.06.94-2.06 2.06-.94-2.06-.94-.94-2.06-.94 2.06-2.06.94zm-11 1L8.5 8.5l.94-2.06 2.06-.94-2.06-.94L8.5 2.5l-.94 2.06-2.06.94zm10 10l.94 2.06.94-2.06 2.06-.94-2.06-.94-.94-2.06-.94 2.06-2.06.94z\"/><path d=\"M17.41 7.96l-1.37-1.37c-.4-.4-.92-.59-1.43-.59-.52 0-1.04.2-1.43.59L10.3 9.45l-7.72 7.72c-.78.78-.78 2.05 0 2.83L4 21.41c.39.39.9.59 1.41.59.51 0 1.02-.2 1.41-.59l7.78-7.78 2.81-2.81c.8-.78.8-2.07 0-2.86zM5.41 20L4 18.59l7.72-7.72 1.47 1.35L5.41 20z\"/>\n",
              "  </svg>\n",
              "      </button>\n",
              "      \n",
              "  <style>\n",
              "    .colab-df-container {\n",
              "      display:flex;\n",
              "      flex-wrap:wrap;\n",
              "      gap: 12px;\n",
              "    }\n",
              "\n",
              "    .colab-df-convert {\n",
              "      background-color: #E8F0FE;\n",
              "      border: none;\n",
              "      border-radius: 50%;\n",
              "      cursor: pointer;\n",
              "      display: none;\n",
              "      fill: #1967D2;\n",
              "      height: 32px;\n",
              "      padding: 0 0 0 0;\n",
              "      width: 32px;\n",
              "    }\n",
              "\n",
              "    .colab-df-convert:hover {\n",
              "      background-color: #E2EBFA;\n",
              "      box-shadow: 0px 1px 2px rgba(60, 64, 67, 0.3), 0px 1px 3px 1px rgba(60, 64, 67, 0.15);\n",
              "      fill: #174EA6;\n",
              "    }\n",
              "\n",
              "    [theme=dark] .colab-df-convert {\n",
              "      background-color: #3B4455;\n",
              "      fill: #D2E3FC;\n",
              "    }\n",
              "\n",
              "    [theme=dark] .colab-df-convert:hover {\n",
              "      background-color: #434B5C;\n",
              "      box-shadow: 0px 1px 3px 1px rgba(0, 0, 0, 0.15);\n",
              "      filter: drop-shadow(0px 1px 2px rgba(0, 0, 0, 0.3));\n",
              "      fill: #FFFFFF;\n",
              "    }\n",
              "  </style>\n",
              "\n",
              "      <script>\n",
              "        const buttonEl =\n",
              "          document.querySelector('#df-3f9c32cb-9e2f-459c-b8f0-e86dc1c5f418 button.colab-df-convert');\n",
              "        buttonEl.style.display =\n",
              "          google.colab.kernel.accessAllowed ? 'block' : 'none';\n",
              "\n",
              "        async function convertToInteractive(key) {\n",
              "          const element = document.querySelector('#df-3f9c32cb-9e2f-459c-b8f0-e86dc1c5f418');\n",
              "          const dataTable =\n",
              "            await google.colab.kernel.invokeFunction('convertToInteractive',\n",
              "                                                     [key], {});\n",
              "          if (!dataTable) return;\n",
              "\n",
              "          const docLinkHtml = 'Like what you see? Visit the ' +\n",
              "            '<a target=\"_blank\" href=https://colab.research.google.com/notebooks/data_table.ipynb>data table notebook</a>'\n",
              "            + ' to learn more about interactive tables.';\n",
              "          element.innerHTML = '';\n",
              "          dataTable['output_type'] = 'display_data';\n",
              "          await google.colab.output.renderOutput(dataTable, element);\n",
              "          const docLink = document.createElement('div');\n",
              "          docLink.innerHTML = docLinkHtml;\n",
              "          element.appendChild(docLink);\n",
              "        }\n",
              "      </script>\n",
              "    </div>\n",
              "  </div>\n",
              "  "
            ]
          },
          "metadata": {},
          "execution_count": 91
        }
      ]
    },
    {
      "cell_type": "code",
      "source": [
        "# Renombrar columna\n",
        "data.rename(columns={'^IRX':'IRX'}, inplace=True)\n",
        "\n",
        "# Convertir un porcentaje a número\n",
        "data['IRX'] = data['IRX']/100\n",
        "\n",
        "# Calculo de log-retornos\n",
        "data['Vol. GOOGL'] = np.nan\n",
        "data['log_ret'] = np.log(data['GOOGL']) - np.log(data['GOOGL'].shift(1))\n",
        "\n",
        "# Calculando la volatilidad de las acciones de GOOGLE\n",
        "fechas_vol = data.index\n",
        "for cada_fecha in fechas_vol[125:]:\n",
        "    data_for_vol = fechas_vol[(cada_fecha - fechas_vol < pd.Timedelta(days=180)) & (cada_fecha - fechas_vol >= pd.Timedelta(days=0))] # 120 dias para 6 meses\n",
        "    data.loc[cada_fecha, 'Vol. GOOGL'] = np.std(data['log_ret'][data_for_vol].values, ddof=1)*np.sqrt(252)\n"
      ],
      "metadata": {
        "id": "rXSFi0wVVOIl"
      },
      "execution_count": null,
      "outputs": []
    },
    {
      "cell_type": "code",
      "source": [
        "data"
      ],
      "metadata": {
        "colab": {
          "base_uri": "https://localhost:8080/",
          "height": 455
        },
        "id": "VS74N441VOGW",
        "outputId": "8225c1c5-cc31-42b7-dba1-7ca9d1fc0bb3"
      },
      "execution_count": null,
      "outputs": [
        {
          "output_type": "execute_result",
          "data": {
            "text/plain": [
              "                                GOOGL      IRX  Vol. GOOGL   log_ret\n",
              "Date                                                                \n",
              "2022-01-19 00:00:00-05:00         NaN  0.00165         NaN       NaN\n",
              "2022-01-20 00:00:00-05:00  133.307495  0.00168         NaN       NaN\n",
              "2022-01-21 00:00:00-05:00  130.351501  0.00158         NaN -0.022424\n",
              "2022-01-24 00:00:00-05:00  130.804001  0.00155         NaN  0.003465\n",
              "2022-01-25 00:00:00-05:00  126.934998  0.00185         NaN -0.030025\n",
              "...                               ...      ...         ...       ...\n",
              "2023-01-12 00:00:00-05:00   91.129997  0.04475    0.388766 -0.004270\n",
              "2023-01-13 00:00:00-05:00   92.120003  0.04488    0.387607  0.010805\n",
              "2023-01-17 00:00:00-05:00   91.290001  0.04493    0.385682 -0.009051\n",
              "2023-01-18 00:00:00-05:00   91.120003  0.04530    0.377078 -0.001864\n",
              "2023-01-19 00:00:00-05:00   93.050003  0.04525    0.376889  0.020960\n",
              "\n",
              "[252 rows x 4 columns]"
            ],
            "text/html": [
              "\n",
              "  <div id=\"df-e36df742-3b34-45a0-ae47-7652e7c86943\">\n",
              "    <div class=\"colab-df-container\">\n",
              "      <div>\n",
              "<style scoped>\n",
              "    .dataframe tbody tr th:only-of-type {\n",
              "        vertical-align: middle;\n",
              "    }\n",
              "\n",
              "    .dataframe tbody tr th {\n",
              "        vertical-align: top;\n",
              "    }\n",
              "\n",
              "    .dataframe thead th {\n",
              "        text-align: right;\n",
              "    }\n",
              "</style>\n",
              "<table border=\"1\" class=\"dataframe\">\n",
              "  <thead>\n",
              "    <tr style=\"text-align: right;\">\n",
              "      <th></th>\n",
              "      <th>GOOGL</th>\n",
              "      <th>IRX</th>\n",
              "      <th>Vol. GOOGL</th>\n",
              "      <th>log_ret</th>\n",
              "    </tr>\n",
              "    <tr>\n",
              "      <th>Date</th>\n",
              "      <th></th>\n",
              "      <th></th>\n",
              "      <th></th>\n",
              "      <th></th>\n",
              "    </tr>\n",
              "  </thead>\n",
              "  <tbody>\n",
              "    <tr>\n",
              "      <th>2022-01-19 00:00:00-05:00</th>\n",
              "      <td>NaN</td>\n",
              "      <td>0.00165</td>\n",
              "      <td>NaN</td>\n",
              "      <td>NaN</td>\n",
              "    </tr>\n",
              "    <tr>\n",
              "      <th>2022-01-20 00:00:00-05:00</th>\n",
              "      <td>133.307495</td>\n",
              "      <td>0.00168</td>\n",
              "      <td>NaN</td>\n",
              "      <td>NaN</td>\n",
              "    </tr>\n",
              "    <tr>\n",
              "      <th>2022-01-21 00:00:00-05:00</th>\n",
              "      <td>130.351501</td>\n",
              "      <td>0.00158</td>\n",
              "      <td>NaN</td>\n",
              "      <td>-0.022424</td>\n",
              "    </tr>\n",
              "    <tr>\n",
              "      <th>2022-01-24 00:00:00-05:00</th>\n",
              "      <td>130.804001</td>\n",
              "      <td>0.00155</td>\n",
              "      <td>NaN</td>\n",
              "      <td>0.003465</td>\n",
              "    </tr>\n",
              "    <tr>\n",
              "      <th>2022-01-25 00:00:00-05:00</th>\n",
              "      <td>126.934998</td>\n",
              "      <td>0.00185</td>\n",
              "      <td>NaN</td>\n",
              "      <td>-0.030025</td>\n",
              "    </tr>\n",
              "    <tr>\n",
              "      <th>...</th>\n",
              "      <td>...</td>\n",
              "      <td>...</td>\n",
              "      <td>...</td>\n",
              "      <td>...</td>\n",
              "    </tr>\n",
              "    <tr>\n",
              "      <th>2023-01-12 00:00:00-05:00</th>\n",
              "      <td>91.129997</td>\n",
              "      <td>0.04475</td>\n",
              "      <td>0.388766</td>\n",
              "      <td>-0.004270</td>\n",
              "    </tr>\n",
              "    <tr>\n",
              "      <th>2023-01-13 00:00:00-05:00</th>\n",
              "      <td>92.120003</td>\n",
              "      <td>0.04488</td>\n",
              "      <td>0.387607</td>\n",
              "      <td>0.010805</td>\n",
              "    </tr>\n",
              "    <tr>\n",
              "      <th>2023-01-17 00:00:00-05:00</th>\n",
              "      <td>91.290001</td>\n",
              "      <td>0.04493</td>\n",
              "      <td>0.385682</td>\n",
              "      <td>-0.009051</td>\n",
              "    </tr>\n",
              "    <tr>\n",
              "      <th>2023-01-18 00:00:00-05:00</th>\n",
              "      <td>91.120003</td>\n",
              "      <td>0.04530</td>\n",
              "      <td>0.377078</td>\n",
              "      <td>-0.001864</td>\n",
              "    </tr>\n",
              "    <tr>\n",
              "      <th>2023-01-19 00:00:00-05:00</th>\n",
              "      <td>93.050003</td>\n",
              "      <td>0.04525</td>\n",
              "      <td>0.376889</td>\n",
              "      <td>0.020960</td>\n",
              "    </tr>\n",
              "  </tbody>\n",
              "</table>\n",
              "<p>252 rows × 4 columns</p>\n",
              "</div>\n",
              "      <button class=\"colab-df-convert\" onclick=\"convertToInteractive('df-e36df742-3b34-45a0-ae47-7652e7c86943')\"\n",
              "              title=\"Convert this dataframe to an interactive table.\"\n",
              "              style=\"display:none;\">\n",
              "        \n",
              "  <svg xmlns=\"http://www.w3.org/2000/svg\" height=\"24px\"viewBox=\"0 0 24 24\"\n",
              "       width=\"24px\">\n",
              "    <path d=\"M0 0h24v24H0V0z\" fill=\"none\"/>\n",
              "    <path d=\"M18.56 5.44l.94 2.06.94-2.06 2.06-.94-2.06-.94-.94-2.06-.94 2.06-2.06.94zm-11 1L8.5 8.5l.94-2.06 2.06-.94-2.06-.94L8.5 2.5l-.94 2.06-2.06.94zm10 10l.94 2.06.94-2.06 2.06-.94-2.06-.94-.94-2.06-.94 2.06-2.06.94z\"/><path d=\"M17.41 7.96l-1.37-1.37c-.4-.4-.92-.59-1.43-.59-.52 0-1.04.2-1.43.59L10.3 9.45l-7.72 7.72c-.78.78-.78 2.05 0 2.83L4 21.41c.39.39.9.59 1.41.59.51 0 1.02-.2 1.41-.59l7.78-7.78 2.81-2.81c.8-.78.8-2.07 0-2.86zM5.41 20L4 18.59l7.72-7.72 1.47 1.35L5.41 20z\"/>\n",
              "  </svg>\n",
              "      </button>\n",
              "      \n",
              "  <style>\n",
              "    .colab-df-container {\n",
              "      display:flex;\n",
              "      flex-wrap:wrap;\n",
              "      gap: 12px;\n",
              "    }\n",
              "\n",
              "    .colab-df-convert {\n",
              "      background-color: #E8F0FE;\n",
              "      border: none;\n",
              "      border-radius: 50%;\n",
              "      cursor: pointer;\n",
              "      display: none;\n",
              "      fill: #1967D2;\n",
              "      height: 32px;\n",
              "      padding: 0 0 0 0;\n",
              "      width: 32px;\n",
              "    }\n",
              "\n",
              "    .colab-df-convert:hover {\n",
              "      background-color: #E2EBFA;\n",
              "      box-shadow: 0px 1px 2px rgba(60, 64, 67, 0.3), 0px 1px 3px 1px rgba(60, 64, 67, 0.15);\n",
              "      fill: #174EA6;\n",
              "    }\n",
              "\n",
              "    [theme=dark] .colab-df-convert {\n",
              "      background-color: #3B4455;\n",
              "      fill: #D2E3FC;\n",
              "    }\n",
              "\n",
              "    [theme=dark] .colab-df-convert:hover {\n",
              "      background-color: #434B5C;\n",
              "      box-shadow: 0px 1px 3px 1px rgba(0, 0, 0, 0.15);\n",
              "      filter: drop-shadow(0px 1px 2px rgba(0, 0, 0, 0.3));\n",
              "      fill: #FFFFFF;\n",
              "    }\n",
              "  </style>\n",
              "\n",
              "      <script>\n",
              "        const buttonEl =\n",
              "          document.querySelector('#df-e36df742-3b34-45a0-ae47-7652e7c86943 button.colab-df-convert');\n",
              "        buttonEl.style.display =\n",
              "          google.colab.kernel.accessAllowed ? 'block' : 'none';\n",
              "\n",
              "        async function convertToInteractive(key) {\n",
              "          const element = document.querySelector('#df-e36df742-3b34-45a0-ae47-7652e7c86943');\n",
              "          const dataTable =\n",
              "            await google.colab.kernel.invokeFunction('convertToInteractive',\n",
              "                                                     [key], {});\n",
              "          if (!dataTable) return;\n",
              "\n",
              "          const docLinkHtml = 'Like what you see? Visit the ' +\n",
              "            '<a target=\"_blank\" href=https://colab.research.google.com/notebooks/data_table.ipynb>data table notebook</a>'\n",
              "            + ' to learn more about interactive tables.';\n",
              "          element.innerHTML = '';\n",
              "          dataTable['output_type'] = 'display_data';\n",
              "          await google.colab.output.renderOutput(dataTable, element);\n",
              "          const docLink = document.createElement('div');\n",
              "          docLink.innerHTML = docLinkHtml;\n",
              "          element.appendChild(docLink);\n",
              "        }\n",
              "      </script>\n",
              "    </div>\n",
              "  </div>\n",
              "  "
            ]
          },
          "metadata": {},
          "execution_count": 97
        }
      ]
    },
    {
      "cell_type": "code",
      "source": [
        "un_dato = data.iloc[-3,:].copy()\n",
        "un_dato"
      ],
      "metadata": {
        "colab": {
          "base_uri": "https://localhost:8080/"
        },
        "id": "frUgT1fmX8cO",
        "outputId": "f630b1a2-8834-4861-c84c-93b7cdecd09e"
      },
      "execution_count": null,
      "outputs": [
        {
          "output_type": "execute_result",
          "data": {
            "text/plain": [
              "GOOGL         91.290001\n",
              "IRX            0.044930\n",
              "Vol. GOOGL     0.385682\n",
              "log_ret       -0.009051\n",
              "Name: 2023-01-17 00:00:00-05:00, dtype: float64"
            ]
          },
          "metadata": {},
          "execution_count": 98
        }
      ]
    },
    {
      "cell_type": "markdown",
      "source": [
        "Recordemos la fórmula:\n",
        "$$ \n",
        "S_T = S_0 \\exp \\left[ \\left( r - \\dfrac{\\sigma^2}{2} \\right) T + \\sigma\\epsilon\\sqrt{T}  \\right],\n",
        "$$\n"
      ],
      "metadata": {
        "id": "mz5EGn6se2Je"
      }
    },
    {
      "cell_type": "code",
      "source": [
        "valores = np.array([])\n",
        "\n",
        "for i in range(10000):\n",
        "\n",
        "  K = un_dato.GOOGL - 10\n",
        "  normal = np.random.standard_normal(1)\n",
        "\n",
        "  St = un_dato.GOOGL*np.exp((un_dato.IRX - 0.5*un_dato['Vol. GOOGL']**2)*30/360 + un_dato['Vol. GOOGL']*normal*np.sqrt(30/360))\n",
        "\n",
        "  valores = np.append(valores, max(St - K,0))"
      ],
      "metadata": {
        "id": "ITYHoNcQVOD_"
      },
      "execution_count": null,
      "outputs": []
    },
    {
      "cell_type": "code",
      "source": [
        "np.set_printoptions(suppress=True)"
      ],
      "metadata": {
        "id": "IIJZAvk2fW-B"
      },
      "execution_count": null,
      "outputs": []
    },
    {
      "cell_type": "code",
      "source": [
        "valores"
      ],
      "metadata": {
        "id": "wa1_X9o6fUTQ"
      },
      "execution_count": null,
      "outputs": []
    },
    {
      "cell_type": "code",
      "source": [
        "valores.mean()"
      ],
      "metadata": {
        "colab": {
          "base_uri": "https://localhost:8080/"
        },
        "id": "9ZgSNFDbVOBx",
        "outputId": "99a59818-398a-47cf-8c7a-ae29990cde8c"
      },
      "execution_count": null,
      "outputs": [
        {
          "output_type": "execute_result",
          "data": {
            "text/plain": [
              "10.98006573617211"
            ]
          },
          "metadata": {},
          "execution_count": 113
        }
      ]
    },
    {
      "cell_type": "markdown",
      "source": [
        "# Ejercicio 1\n",
        "\n",
        "Adaptar el código para que a cada entrada del DataFrame le calculen el valor de la opción, como en la clase pasada"
      ],
      "metadata": {
        "id": "S9Ka0ZfUZyg-"
      }
    },
    {
      "cell_type": "code",
      "source": [
        "from tqdm import tqdm"
      ],
      "metadata": {
        "id": "HaXdH6kUhVWH"
      },
      "execution_count": null,
      "outputs": []
    },
    {
      "cell_type": "code",
      "source": [
        "# Espacio para el ejercicio\n",
        "\n",
        "data_cop = data[data['Vol. GOOGL'].notnull()].copy()\n",
        "data_cop['precio_call'] = np.nan\n",
        "\n",
        "for index in tqdm(data_cop.index):\n",
        "  valores = np.array([])\n",
        "  un_dato = data_cop.loc[index, :]\n",
        "  \n",
        "  for i in range(10000):\n",
        "\n",
        "    K = un_dato.GOOGL + 10\n",
        "    normal = np.random.standard_normal(1)\n",
        "\n",
        "    St = un_dato.GOOGL*np.exp((un_dato.IRX - 0.5*un_dato['Vol. GOOGL']**2)*30/360 + un_dato['Vol. GOOGL']*normal*np.sqrt(30/360))\n",
        "\n",
        "    valores = np.append(valores, max(St - K,0))\n",
        "\n",
        "  data_cop.loc[index ,'precio_call'] = valores.mean()\n",
        "\n",
        "\n"
      ],
      "metadata": {
        "colab": {
          "base_uri": "https://localhost:8080/"
        },
        "id": "-jtKrtwjVN-2",
        "outputId": "3ad30352-1a0e-4a66-8e9e-0d0928e4fbaf"
      },
      "execution_count": null,
      "outputs": [
        {
          "output_type": "stream",
          "name": "stderr",
          "text": [
            "100%|██████████| 127/127 [01:14<00:00,  1.71it/s]\n"
          ]
        }
      ]
    },
    {
      "cell_type": "code",
      "source": [
        "data_cop"
      ],
      "metadata": {
        "colab": {
          "base_uri": "https://localhost:8080/",
          "height": 455
        },
        "id": "iMKCENMRkUgn",
        "outputId": "36147652-bea5-4eb0-b207-f19713529462"
      },
      "execution_count": null,
      "outputs": [
        {
          "output_type": "execute_result",
          "data": {
            "text/plain": [
              "                                GOOGL      IRX  Vol. GOOGL   log_ret  \\\n",
              "Date                                                                   \n",
              "2022-07-20 00:00:00-04:00  113.900002  0.02378    0.392286  0.000791   \n",
              "2022-07-21 00:00:00-04:00  114.339996  0.02360    0.391170  0.003856   \n",
              "2022-07-22 00:00:00-04:00  107.900002  0.02355    0.397882 -0.057972   \n",
              "2022-07-25 00:00:00-04:00  107.510002  0.02393    0.397344 -0.003621   \n",
              "2022-07-26 00:00:00-04:00  105.019997  0.02475    0.397609 -0.023433   \n",
              "...                               ...      ...         ...       ...   \n",
              "2023-01-12 00:00:00-05:00   91.129997  0.04475    0.388766 -0.004270   \n",
              "2023-01-13 00:00:00-05:00   92.120003  0.04488    0.387607  0.010805   \n",
              "2023-01-17 00:00:00-05:00   91.290001  0.04493    0.385682 -0.009051   \n",
              "2023-01-18 00:00:00-05:00   91.120003  0.04530    0.377078 -0.001864   \n",
              "2023-01-19 00:00:00-05:00   93.050003  0.04525    0.376889  0.020960   \n",
              "\n",
              "                           precio_call  \n",
              "Date                                    \n",
              "2022-07-20 00:00:00-04:00     1.834312  \n",
              "2022-07-21 00:00:00-04:00     1.849748  \n",
              "2022-07-22 00:00:00-04:00     1.695338  \n",
              "2022-07-25 00:00:00-04:00     1.620809  \n",
              "2022-07-26 00:00:00-04:00     1.563408  \n",
              "...                                ...  \n",
              "2023-01-12 00:00:00-05:00     1.033294  \n",
              "2023-01-13 00:00:00-05:00     1.132204  \n",
              "2023-01-17 00:00:00-05:00     1.074824  \n",
              "2023-01-18 00:00:00-05:00     1.062361  \n",
              "2023-01-19 00:00:00-05:00     1.063048  \n",
              "\n",
              "[127 rows x 5 columns]"
            ],
            "text/html": [
              "\n",
              "  <div id=\"df-85b5ed34-c526-4d2e-a9bb-6603a5ade327\">\n",
              "    <div class=\"colab-df-container\">\n",
              "      <div>\n",
              "<style scoped>\n",
              "    .dataframe tbody tr th:only-of-type {\n",
              "        vertical-align: middle;\n",
              "    }\n",
              "\n",
              "    .dataframe tbody tr th {\n",
              "        vertical-align: top;\n",
              "    }\n",
              "\n",
              "    .dataframe thead th {\n",
              "        text-align: right;\n",
              "    }\n",
              "</style>\n",
              "<table border=\"1\" class=\"dataframe\">\n",
              "  <thead>\n",
              "    <tr style=\"text-align: right;\">\n",
              "      <th></th>\n",
              "      <th>GOOGL</th>\n",
              "      <th>IRX</th>\n",
              "      <th>Vol. GOOGL</th>\n",
              "      <th>log_ret</th>\n",
              "      <th>precio_call</th>\n",
              "    </tr>\n",
              "    <tr>\n",
              "      <th>Date</th>\n",
              "      <th></th>\n",
              "      <th></th>\n",
              "      <th></th>\n",
              "      <th></th>\n",
              "      <th></th>\n",
              "    </tr>\n",
              "  </thead>\n",
              "  <tbody>\n",
              "    <tr>\n",
              "      <th>2022-07-20 00:00:00-04:00</th>\n",
              "      <td>113.900002</td>\n",
              "      <td>0.02378</td>\n",
              "      <td>0.392286</td>\n",
              "      <td>0.000791</td>\n",
              "      <td>1.834312</td>\n",
              "    </tr>\n",
              "    <tr>\n",
              "      <th>2022-07-21 00:00:00-04:00</th>\n",
              "      <td>114.339996</td>\n",
              "      <td>0.02360</td>\n",
              "      <td>0.391170</td>\n",
              "      <td>0.003856</td>\n",
              "      <td>1.849748</td>\n",
              "    </tr>\n",
              "    <tr>\n",
              "      <th>2022-07-22 00:00:00-04:00</th>\n",
              "      <td>107.900002</td>\n",
              "      <td>0.02355</td>\n",
              "      <td>0.397882</td>\n",
              "      <td>-0.057972</td>\n",
              "      <td>1.695338</td>\n",
              "    </tr>\n",
              "    <tr>\n",
              "      <th>2022-07-25 00:00:00-04:00</th>\n",
              "      <td>107.510002</td>\n",
              "      <td>0.02393</td>\n",
              "      <td>0.397344</td>\n",
              "      <td>-0.003621</td>\n",
              "      <td>1.620809</td>\n",
              "    </tr>\n",
              "    <tr>\n",
              "      <th>2022-07-26 00:00:00-04:00</th>\n",
              "      <td>105.019997</td>\n",
              "      <td>0.02475</td>\n",
              "      <td>0.397609</td>\n",
              "      <td>-0.023433</td>\n",
              "      <td>1.563408</td>\n",
              "    </tr>\n",
              "    <tr>\n",
              "      <th>...</th>\n",
              "      <td>...</td>\n",
              "      <td>...</td>\n",
              "      <td>...</td>\n",
              "      <td>...</td>\n",
              "      <td>...</td>\n",
              "    </tr>\n",
              "    <tr>\n",
              "      <th>2023-01-12 00:00:00-05:00</th>\n",
              "      <td>91.129997</td>\n",
              "      <td>0.04475</td>\n",
              "      <td>0.388766</td>\n",
              "      <td>-0.004270</td>\n",
              "      <td>1.033294</td>\n",
              "    </tr>\n",
              "    <tr>\n",
              "      <th>2023-01-13 00:00:00-05:00</th>\n",
              "      <td>92.120003</td>\n",
              "      <td>0.04488</td>\n",
              "      <td>0.387607</td>\n",
              "      <td>0.010805</td>\n",
              "      <td>1.132204</td>\n",
              "    </tr>\n",
              "    <tr>\n",
              "      <th>2023-01-17 00:00:00-05:00</th>\n",
              "      <td>91.290001</td>\n",
              "      <td>0.04493</td>\n",
              "      <td>0.385682</td>\n",
              "      <td>-0.009051</td>\n",
              "      <td>1.074824</td>\n",
              "    </tr>\n",
              "    <tr>\n",
              "      <th>2023-01-18 00:00:00-05:00</th>\n",
              "      <td>91.120003</td>\n",
              "      <td>0.04530</td>\n",
              "      <td>0.377078</td>\n",
              "      <td>-0.001864</td>\n",
              "      <td>1.062361</td>\n",
              "    </tr>\n",
              "    <tr>\n",
              "      <th>2023-01-19 00:00:00-05:00</th>\n",
              "      <td>93.050003</td>\n",
              "      <td>0.04525</td>\n",
              "      <td>0.376889</td>\n",
              "      <td>0.020960</td>\n",
              "      <td>1.063048</td>\n",
              "    </tr>\n",
              "  </tbody>\n",
              "</table>\n",
              "<p>127 rows × 5 columns</p>\n",
              "</div>\n",
              "      <button class=\"colab-df-convert\" onclick=\"convertToInteractive('df-85b5ed34-c526-4d2e-a9bb-6603a5ade327')\"\n",
              "              title=\"Convert this dataframe to an interactive table.\"\n",
              "              style=\"display:none;\">\n",
              "        \n",
              "  <svg xmlns=\"http://www.w3.org/2000/svg\" height=\"24px\"viewBox=\"0 0 24 24\"\n",
              "       width=\"24px\">\n",
              "    <path d=\"M0 0h24v24H0V0z\" fill=\"none\"/>\n",
              "    <path d=\"M18.56 5.44l.94 2.06.94-2.06 2.06-.94-2.06-.94-.94-2.06-.94 2.06-2.06.94zm-11 1L8.5 8.5l.94-2.06 2.06-.94-2.06-.94L8.5 2.5l-.94 2.06-2.06.94zm10 10l.94 2.06.94-2.06 2.06-.94-2.06-.94-.94-2.06-.94 2.06-2.06.94z\"/><path d=\"M17.41 7.96l-1.37-1.37c-.4-.4-.92-.59-1.43-.59-.52 0-1.04.2-1.43.59L10.3 9.45l-7.72 7.72c-.78.78-.78 2.05 0 2.83L4 21.41c.39.39.9.59 1.41.59.51 0 1.02-.2 1.41-.59l7.78-7.78 2.81-2.81c.8-.78.8-2.07 0-2.86zM5.41 20L4 18.59l7.72-7.72 1.47 1.35L5.41 20z\"/>\n",
              "  </svg>\n",
              "      </button>\n",
              "      \n",
              "  <style>\n",
              "    .colab-df-container {\n",
              "      display:flex;\n",
              "      flex-wrap:wrap;\n",
              "      gap: 12px;\n",
              "    }\n",
              "\n",
              "    .colab-df-convert {\n",
              "      background-color: #E8F0FE;\n",
              "      border: none;\n",
              "      border-radius: 50%;\n",
              "      cursor: pointer;\n",
              "      display: none;\n",
              "      fill: #1967D2;\n",
              "      height: 32px;\n",
              "      padding: 0 0 0 0;\n",
              "      width: 32px;\n",
              "    }\n",
              "\n",
              "    .colab-df-convert:hover {\n",
              "      background-color: #E2EBFA;\n",
              "      box-shadow: 0px 1px 2px rgba(60, 64, 67, 0.3), 0px 1px 3px 1px rgba(60, 64, 67, 0.15);\n",
              "      fill: #174EA6;\n",
              "    }\n",
              "\n",
              "    [theme=dark] .colab-df-convert {\n",
              "      background-color: #3B4455;\n",
              "      fill: #D2E3FC;\n",
              "    }\n",
              "\n",
              "    [theme=dark] .colab-df-convert:hover {\n",
              "      background-color: #434B5C;\n",
              "      box-shadow: 0px 1px 3px 1px rgba(0, 0, 0, 0.15);\n",
              "      filter: drop-shadow(0px 1px 2px rgba(0, 0, 0, 0.3));\n",
              "      fill: #FFFFFF;\n",
              "    }\n",
              "  </style>\n",
              "\n",
              "      <script>\n",
              "        const buttonEl =\n",
              "          document.querySelector('#df-85b5ed34-c526-4d2e-a9bb-6603a5ade327 button.colab-df-convert');\n",
              "        buttonEl.style.display =\n",
              "          google.colab.kernel.accessAllowed ? 'block' : 'none';\n",
              "\n",
              "        async function convertToInteractive(key) {\n",
              "          const element = document.querySelector('#df-85b5ed34-c526-4d2e-a9bb-6603a5ade327');\n",
              "          const dataTable =\n",
              "            await google.colab.kernel.invokeFunction('convertToInteractive',\n",
              "                                                     [key], {});\n",
              "          if (!dataTable) return;\n",
              "\n",
              "          const docLinkHtml = 'Like what you see? Visit the ' +\n",
              "            '<a target=\"_blank\" href=https://colab.research.google.com/notebooks/data_table.ipynb>data table notebook</a>'\n",
              "            + ' to learn more about interactive tables.';\n",
              "          element.innerHTML = '';\n",
              "          dataTable['output_type'] = 'display_data';\n",
              "          await google.colab.output.renderOutput(dataTable, element);\n",
              "          const docLink = document.createElement('div');\n",
              "          docLink.innerHTML = docLinkHtml;\n",
              "          element.appendChild(docLink);\n",
              "        }\n",
              "      </script>\n",
              "    </div>\n",
              "  </div>\n",
              "  "
            ]
          },
          "metadata": {},
          "execution_count": 128
        }
      ]
    },
    {
      "cell_type": "code",
      "source": [
        "# Espacio para el ejercicio\n",
        "def calcular(valor):\n",
        "  valores = np.array([])\n",
        "  for i in range(10000):\n",
        "    K = valor.GOOGL + 10\n",
        "    normal = np.random.standard_normal(1)\n",
        "\n",
        "    St = valor.GOOGL*np.exp((valor.IRX - 0.5*valor['Vol. GOOGL']**2)*30/360 + valor['Vol. GOOGL']*normal*np.sqrt(30/360))\n",
        "\n",
        "    valores = np.append(valores, max(St - K,0))\n",
        "  return valores.mean()\n",
        "\n",
        "ejercicio = data[data['Vol. GOOGL'].notnull()].copy()\n",
        "ejercicio.loc[:, 'columna_extra'] = ejercicio.apply(lambda x: calcular(x), axis=1)\n",
        "ejercicio"
      ],
      "metadata": {
        "colab": {
          "base_uri": "https://localhost:8080/",
          "height": 236
        },
        "id": "ZyGE8o3Vjugq",
        "outputId": "a6799894-740e-45ba-a181-3941a810e4c5"
      },
      "execution_count": null,
      "outputs": [
        {
          "output_type": "error",
          "ename": "NameError",
          "evalue": "ignored",
          "traceback": [
            "\u001b[0;31m---------------------------------------------------------------------------\u001b[0m",
            "\u001b[0;31mNameError\u001b[0m                                 Traceback (most recent call last)",
            "\u001b[0;32m<ipython-input-1-9be75cabdde4>\u001b[0m in \u001b[0;36m<module>\u001b[0;34m\u001b[0m\n\u001b[1;32m     11\u001b[0m   \u001b[0;32mreturn\u001b[0m \u001b[0mvalores\u001b[0m\u001b[0;34m.\u001b[0m\u001b[0mmean\u001b[0m\u001b[0;34m(\u001b[0m\u001b[0;34m)\u001b[0m\u001b[0;34m\u001b[0m\u001b[0;34m\u001b[0m\u001b[0m\n\u001b[1;32m     12\u001b[0m \u001b[0;34m\u001b[0m\u001b[0m\n\u001b[0;32m---> 13\u001b[0;31m \u001b[0mejercicio\u001b[0m \u001b[0;34m=\u001b[0m \u001b[0mdata\u001b[0m\u001b[0;34m[\u001b[0m\u001b[0mdata\u001b[0m\u001b[0;34m[\u001b[0m\u001b[0;34m'Vol. GOOGL'\u001b[0m\u001b[0;34m]\u001b[0m\u001b[0;34m.\u001b[0m\u001b[0mnotnull\u001b[0m\u001b[0;34m(\u001b[0m\u001b[0;34m)\u001b[0m\u001b[0;34m]\u001b[0m\u001b[0;34m.\u001b[0m\u001b[0mcopy\u001b[0m\u001b[0;34m(\u001b[0m\u001b[0;34m)\u001b[0m\u001b[0;34m\u001b[0m\u001b[0;34m\u001b[0m\u001b[0m\n\u001b[0m\u001b[1;32m     14\u001b[0m \u001b[0mejercicio\u001b[0m\u001b[0;34m.\u001b[0m\u001b[0mloc\u001b[0m\u001b[0;34m[\u001b[0m\u001b[0;34m:\u001b[0m\u001b[0;34m,\u001b[0m \u001b[0;34m'columna_extra'\u001b[0m\u001b[0;34m]\u001b[0m \u001b[0;34m=\u001b[0m \u001b[0mejercicio\u001b[0m\u001b[0;34m.\u001b[0m\u001b[0mapply\u001b[0m\u001b[0;34m(\u001b[0m\u001b[0;32mlambda\u001b[0m \u001b[0mx\u001b[0m\u001b[0;34m:\u001b[0m \u001b[0mcalcular\u001b[0m\u001b[0;34m(\u001b[0m\u001b[0mx\u001b[0m\u001b[0;34m)\u001b[0m\u001b[0;34m,\u001b[0m \u001b[0maxis\u001b[0m\u001b[0;34m=\u001b[0m\u001b[0;36m1\u001b[0m\u001b[0;34m)\u001b[0m\u001b[0;34m\u001b[0m\u001b[0;34m\u001b[0m\u001b[0m\n\u001b[1;32m     15\u001b[0m \u001b[0mejercicio\u001b[0m\u001b[0;34m\u001b[0m\u001b[0;34m\u001b[0m\u001b[0m\n",
            "\u001b[0;31mNameError\u001b[0m: name 'data' is not defined"
          ]
        }
      ]
    }
  ]
}