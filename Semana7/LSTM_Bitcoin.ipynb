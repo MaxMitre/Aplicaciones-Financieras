{
  "nbformat": 4,
  "nbformat_minor": 0,
  "metadata": {
    "colab": {
      "name": "semana7.1_Aps_Financieras_LSTM_Bitcoin.ipynb",
      "provenance": [],
      "collapsed_sections": []
    },
    "kernelspec": {
      "name": "python3",
      "display_name": "Python 3"
    },
    "language_info": {
      "name": "python"
    },
    "accelerator": "GPU"
  },
  "cells": [
    {
      "cell_type": "markdown",
      "source": [
        "[![Open In Colab](https://colab.research.google.com/assets/colab-badge.svg)](https://colab.research.google.com/github/MaxMitre/Aplicaciones-Financieras/blob/main/Semana7/LSTM_Bitcoin.ipynb)"
      ],
      "metadata": {
        "id": "bkUeov5T9Hfv"
      }
    },
    {
      "cell_type": "markdown",
      "source": [
        "# Descripción del problema"
      ],
      "metadata": {
        "id": "6DuKgmeStDUT"
      }
    },
    {
      "cell_type": "markdown",
      "source": [
        "Datos originales: https://challengedata.ens.fr/participants/challenges/31/\n",
        "\n",
        "El problema trata de buscar un algoritmo de clasificación que ayude a crear estrategias de inversión en criptomonedas, basado en el \"sentimiento\" extraído de noticias y redes sociales.\n",
        "\n",
        "Por cada hora de trading se contabilizó la ocurrencia de algunos terminos, tales como 'adoption' y 'hack', en un selecto numero de cuentas influyentes de twitter y en algunos foros como 'Bitcointalk'.\n",
        "\n",
        "Se han creado 10 temas diferentes, algunos positivos y otros negativos y se han contabilizado las palabras antes mencionadas, antes de una normalización.\n",
        "\n",
        "Dado un tema y un tema, hemos visto los conteos de las últimas 48 horas y se estandarizaron esos conteos. El resultado se multiplicó por el conteo promedio por hora y se dividió por el conteo promedio por hora de todo el entrenamiento\n",
        "\n",
        "Para un tiempo T en el periodo de tiempo i, con lag k ($k\\in[\\![0;47]\\!]$) el valor F ode la característica será:\n",
        "\n",
        "$$\n",
        "F_{i,k}=\\frac{T_{i,k}-\\overline{T_{i}}}{\\sqrt{\\frac{1}{47}\\sum\\limits_{j=0}^{47}{(T_{i,j}-\\overline{T_{i}})^{2}}}}*\\frac{\\overline{T_i}}{\\overline{T}} \n",
        "$$\n",
        "\n",
        "\n",
        "Se agregaron 5 características correspondientes a los precios finales en periodos de 1 hr, 6 hrs, 12 hrs, 24 hrs y 48 hrs\n",
        "El objetivo es predecir si el precio del Bitcoin tendrá un retorno (en la próxima hora) que sea de mas del 0.2%, entre -0.2% y 0.2% o menos al -0.2%.\n",
        "\n",
        "La métrica utilizada para la perdida es la perdida logistica, definita como el negativo de la log-verosimilitud de las etiquetas verdaderas comparadas con las probabilidades predichas por el clasificador.\n",
        "\n",
        "Las verdaderas etiquetas están codificadas como una matríz de 3 columnas, donde hay unos o ceros dependiendo si el elemento pertenece a la categoría de una columna u otra.\n",
        " \n",
        "Dada una matriz P de probabilidades $p_{i,k}=Pr(t_{i,k}=1)'$ , la función de perdida se define como\n",
        "\n",
        "$$\n",
        "L_{log}(Y,P)=-log{Pr(Y|P)}=-\\frac{1}{N} \\sum_{i=1}^{N} \\sum_{k=1}^3{y_{i,k}log(p_{i,k})}\n",
        "$$\n",
        "\n",
        "Entre más bajo el score de ésta medida, mejor.\n",
        "\n"
      ],
      "metadata": {
        "id": "E454T2Z7s_Tb"
      }
    },
    {
      "cell_type": "markdown",
      "source": [
        "# Dependencias"
      ],
      "metadata": {
        "id": "I1za57pz8Mkz"
      }
    },
    {
      "cell_type": "code",
      "source": [
        "# !pip install -U plotly"
      ],
      "metadata": {
        "id": "tIthEMHkPBww"
      },
      "execution_count": null,
      "outputs": []
    },
    {
      "cell_type": "code",
      "metadata": {
        "id": "b9Ifan8XrfuZ"
      },
      "source": [
        "import pandas as pd\n",
        "import numpy as np\n",
        "\n",
        "from sklearn.model_selection import train_test_split\n",
        "\n",
        "import tensorflow as tf\n",
        "from tensorflow import keras\n",
        "from keras import layers\n",
        "\n",
        "import plotly.graph_objects as go"
      ],
      "execution_count": null,
      "outputs": []
    },
    {
      "cell_type": "code",
      "source": [
        "from google.colab import drive\n",
        "drive.mount('/content/drive')"
      ],
      "metadata": {
        "colab": {
          "base_uri": "https://localhost:8080/"
        },
        "id": "HV21Dtfz0SF-",
        "outputId": "e98fd23f-d532-46d7-cd92-bf4b713857ce"
      },
      "execution_count": null,
      "outputs": [
        {
          "output_type": "stream",
          "name": "stdout",
          "text": [
            "Mounted at /content/drive\n"
          ]
        }
      ]
    },
    {
      "cell_type": "markdown",
      "source": [
        "# Funciones"
      ],
      "metadata": {
        "id": "sqFcegOL8N7w"
      }
    },
    {
      "cell_type": "code",
      "source": [
        "def evaluate_model(estimator, train, val, test):\n",
        "    print('train cross_entropy = ', estimator.evaluate(train[0], train[1], verbose = False))\n",
        "    print('  val cross_entropy = ', estimator.evaluate(val[0], val[1], verbose = False))\n",
        "    print(' test cross_entropy = ', estimator.evaluate(test[0], test[1], verbose = False))"
      ],
      "metadata": {
        "id": "Mv_00PdK2Wnx"
      },
      "execution_count": null,
      "outputs": []
    },
    {
      "cell_type": "code",
      "source": [
        "# TODO: Modificar para seleccionar características cambiando n_features, no sólo las primeras n_features\n",
        "# TODO: Revisar los resultados generados cuando se seleccionan distintos parámetros\n",
        "# NOTE: Asuma que el dataframe tiene 5 X, y 48 columnas para cada una de las 10 I ordenadas de reciente a antigua\n",
        "def transform_dataframe(df, len_prices = 5, n_features = 10, len_features = 48):\n",
        "    if type(len_prices) != int or type(n_features) != int or type(len_features) != int:\n",
        "        raise ValueError(f'Los parámetros len_prices, n_features y len_features deben ser de tipo int. Recibibo {type(len_prices)},{type(n_features)} y {type(len_features)}')\n",
        "\n",
        "    assert 0 < len_prices <= 5, 'len_prices debe estar entre 1 y 5'\n",
        "    assert 0 < n_features <= 10, 'n_features debe estar entre 1 y 10'\n",
        "    assert 0 < len_features <= 48, 'len_features debe estar entre 1 y 48'\n",
        "\n",
        "    df.reset_index(inplace = True, drop = True)\n",
        "    \n",
        "    # Los nombres de las columnas están al reves para tener primer la observación más antigua\n",
        "    prices_cols = ['X5', 'X4', 'X3', 'X2', 'X1']\n",
        "\n",
        "    prices = np.zeros((len(df), len_prices, 1))\n",
        "    features = np.zeros((len(df), len_features, n_features))\n",
        "\n",
        "    for i in range(len(df)):\n",
        "        # Se transforman la forma de los precios\n",
        "        prices[i] = df.loc[i, prices_cols[-len_prices:]].values.reshape((len_prices, 1))\n",
        "        # Para cada característica\n",
        "        for j in range(n_features):\n",
        "            # Se obtiene los 48 rezagos y se voltea el arreglo para tener el más antiguo primero\n",
        "            # Aquí se aplica el supuesto de que el dataframe tiene 5 columnas de 5\n",
        "            features[i, :, j] = np.flip(df.iloc[i, 5+48*j:5+len_features + 48*j].values)\n",
        "    return prices, features"
      ],
      "metadata": {
        "id": "pZ-N7rf_9HJk"
      },
      "execution_count": null,
      "outputs": []
    },
    {
      "cell_type": "markdown",
      "source": [
        "> The Input data contains 10 time series of 48 trading hours representing complementary features based on sentiment analysis from news extracted from twitter or forums like Bitcointalk on Bitcoin, and 5 time series based on the variation of Bitcoin price during the past 1, 6, 12, 24 and 48 hours normalised by volatility during the period. Input data, for training and testing, will be given by a .csv file, whose first line contains the header. Then each line corresponds to a sample, each column to a feature. The features are the following:\n",
        "\n",
        ">- ***ID***: Id of the sample which is linked to the ID of the output file;\n",
        "- ***I_1_lag(k)*** to ***I_10_lag(k)***: Values of Indicators *I_1* to *I_10* for each k lag ($k\\in[\\![0;47]\\!]$) representing the normalized value of Indicators *I_1* to *I_10* each hour of the past 48 trading hours;\n",
        "- ***X_1*** to ***X_5***: Values of 5 normalised indicators representing price variation of Bitcoin on the last 1, 6, 12, 24 and 48 hours.\n",
        "\n",
        "> There will be 14 000 samples for the train set and 5 000 for the test set. For a given sample, the time series (for the 10 sentiment indicators) are given over the same 48 trading hours.\n",
        "\n",
        ">The training outputs are given in a .csv file. Each line corresponds to a sample:\n",
        "\n",
        ">- ***ID***: Id of the sample;\n",
        "- ***Target_-1***: classification of the return of Bitcoin in the next hour. -1 signifies a down move of less than -0.2%;\n",
        "- ***Target_0***: classification of the return of Bitcoin in the next hour. 0 signifies a move between -0.2% and 0.2%;\n",
        "- ***Target_1***: classification of the return of Bitcoin in the next hour. 1 signifies a up move of more than 0.2%.\n",
        "\n"
      ],
      "metadata": {
        "id": "XT_-69IHrvk1"
      }
    },
    {
      "cell_type": "code",
      "source": [
        "X_raw = pd.read_csv('/content/drive/MyDrive/Cruso-ApsFinancieras/semana7/input_training_IrTAw7w.csv').set_index('ID')\n",
        "X_raw"
      ],
      "metadata": {
        "id": "x20PPm-uf29p",
        "colab": {
          "base_uri": "https://localhost:8080/",
          "height": 519
        },
        "outputId": "f54bdb8f-8c7c-4db4-99f9-39bd5269a989"
      },
      "execution_count": null,
      "outputs": [
        {
          "output_type": "execute_result",
          "data": {
            "text/plain": [
              "             X1        X2        X3        X4         X5   I1_lag0   I1_lag1  \\\n",
              "ID                                                                             \n",
              "0      0.460020  0.620360 -0.972192  2.745197   4.177783  2.325865  2.060138   \n",
              "1     -0.347872 -2.199925 -0.222026  3.741888   8.608291 -4.091293 -3.502499   \n",
              "2     -2.152963 -0.432461  1.619057 -0.003912   3.870262 -0.598858 -0.412391   \n",
              "3     -1.827669 -1.881770 -4.214322  0.178225   0.992362  0.383757  2.512478   \n",
              "4      0.748761  1.799939  1.561006  5.204120   2.161637 -1.275226 -1.544131   \n",
              "...         ...       ...       ...       ...        ...       ...       ...   \n",
              "13995 -0.074522 -0.472044 -2.860659 -1.266230 -10.229167  0.583145 -0.051301   \n",
              "13996  1.730118  3.177408  0.816198  1.136877  -1.588960  1.011735 -0.185748   \n",
              "13997  2.093028  4.108092  1.056253  8.163642   8.916299  2.338713  2.554397   \n",
              "13998  1.483381 -1.602078 -2.851078 -2.639386  -4.805661 -2.252937  2.370613   \n",
              "13999 -1.305992  1.129081 -0.223061  0.248722   1.326936 -0.496556  1.432433   \n",
              "\n",
              "        I1_lag2   I1_lag3   I1_lag4  ...  I10_lag38  I10_lag39  I10_lag40  \\\n",
              "ID                                   ...                                    \n",
              "0      0.071162  2.360597 -0.611526  ...  -0.342912  -0.194165   0.122331   \n",
              "1     -1.463631  0.383153 -3.669962  ...   1.261341  -0.082428  -1.035813   \n",
              "2     -0.765354 -0.998152 -0.938755  ...   2.245204   3.002347   2.674186   \n",
              "3     -0.383434 -0.208506 -1.104289  ...   1.383203  -1.338892   0.298076   \n",
              "4     -1.802590 -1.128526 -0.469835  ...  -0.477313   0.742923  -0.273225   \n",
              "...         ...       ...       ...  ...        ...        ...        ...   \n",
              "13995 -0.584659  1.458945  2.004759  ...  -1.634290  -1.527111  -1.008016   \n",
              "13996 -0.522647  2.316802  1.219339  ...  -0.409750   0.840944  -1.804313   \n",
              "13997  1.665492  3.719985 -0.278893  ...  -0.531223  -1.249847  -1.288419   \n",
              "13998  4.450028  0.947600  2.364395  ...  -1.451115  -4.188150  -2.397168   \n",
              "13999 -0.012964  1.571311  0.053566  ...   0.488547  -0.480647   0.498861   \n",
              "\n",
              "       I10_lag41  I10_lag42  I10_lag43  I10_lag44  I10_lag45  I10_lag46  \\\n",
              "ID                                                                        \n",
              "0       0.028682  -0.093626  -0.559840   0.562584  -0.557868   1.424906   \n",
              "1      -0.249607  -0.971215  -0.058408   1.460632  -0.653394  -1.743487   \n",
              "2       2.656251   1.062974  -0.484619  -0.044594   1.579731   0.962836   \n",
              "3       1.808275   2.837975   2.054112   0.741138   1.701911   0.110082   \n",
              "4       1.311015   0.744330   2.914322   1.030602   0.480722  -0.492838   \n",
              "...          ...        ...        ...        ...        ...        ...   \n",
              "13995  -0.500519   1.277636   1.257714   0.502732   1.751844   0.150679   \n",
              "13996   0.357944  -1.058557  -0.196874  -2.507582   0.125756   1.532976   \n",
              "13997  -0.897649  -0.199824  -0.033545   0.240647   2.188396   0.039340   \n",
              "13998  -1.126340  -0.841850  -4.231824  -2.640152  -4.048115  -4.629418   \n",
              "13999   1.053732   2.121583   2.547515   2.029551   0.592872  -0.079870   \n",
              "\n",
              "       I10_lag47  \n",
              "ID                \n",
              "0      -0.016294  \n",
              "1       4.065305  \n",
              "2       1.146983  \n",
              "3       0.114980  \n",
              "4       1.377958  \n",
              "...          ...  \n",
              "13995  -0.533808  \n",
              "13996  -1.087343  \n",
              "13997   0.756515  \n",
              "13998  -3.566115  \n",
              "13999   0.142056  \n",
              "\n",
              "[14000 rows x 485 columns]"
            ],
            "text/html": [
              "\n",
              "  <div id=\"df-f66e3b57-6d59-4996-8121-e1f7099b1db7\">\n",
              "    <div class=\"colab-df-container\">\n",
              "      <div>\n",
              "<style scoped>\n",
              "    .dataframe tbody tr th:only-of-type {\n",
              "        vertical-align: middle;\n",
              "    }\n",
              "\n",
              "    .dataframe tbody tr th {\n",
              "        vertical-align: top;\n",
              "    }\n",
              "\n",
              "    .dataframe thead th {\n",
              "        text-align: right;\n",
              "    }\n",
              "</style>\n",
              "<table border=\"1\" class=\"dataframe\">\n",
              "  <thead>\n",
              "    <tr style=\"text-align: right;\">\n",
              "      <th></th>\n",
              "      <th>X1</th>\n",
              "      <th>X2</th>\n",
              "      <th>X3</th>\n",
              "      <th>X4</th>\n",
              "      <th>X5</th>\n",
              "      <th>I1_lag0</th>\n",
              "      <th>I1_lag1</th>\n",
              "      <th>I1_lag2</th>\n",
              "      <th>I1_lag3</th>\n",
              "      <th>I1_lag4</th>\n",
              "      <th>...</th>\n",
              "      <th>I10_lag38</th>\n",
              "      <th>I10_lag39</th>\n",
              "      <th>I10_lag40</th>\n",
              "      <th>I10_lag41</th>\n",
              "      <th>I10_lag42</th>\n",
              "      <th>I10_lag43</th>\n",
              "      <th>I10_lag44</th>\n",
              "      <th>I10_lag45</th>\n",
              "      <th>I10_lag46</th>\n",
              "      <th>I10_lag47</th>\n",
              "    </tr>\n",
              "    <tr>\n",
              "      <th>ID</th>\n",
              "      <th></th>\n",
              "      <th></th>\n",
              "      <th></th>\n",
              "      <th></th>\n",
              "      <th></th>\n",
              "      <th></th>\n",
              "      <th></th>\n",
              "      <th></th>\n",
              "      <th></th>\n",
              "      <th></th>\n",
              "      <th></th>\n",
              "      <th></th>\n",
              "      <th></th>\n",
              "      <th></th>\n",
              "      <th></th>\n",
              "      <th></th>\n",
              "      <th></th>\n",
              "      <th></th>\n",
              "      <th></th>\n",
              "      <th></th>\n",
              "      <th></th>\n",
              "    </tr>\n",
              "  </thead>\n",
              "  <tbody>\n",
              "    <tr>\n",
              "      <th>0</th>\n",
              "      <td>0.460020</td>\n",
              "      <td>0.620360</td>\n",
              "      <td>-0.972192</td>\n",
              "      <td>2.745197</td>\n",
              "      <td>4.177783</td>\n",
              "      <td>2.325865</td>\n",
              "      <td>2.060138</td>\n",
              "      <td>0.071162</td>\n",
              "      <td>2.360597</td>\n",
              "      <td>-0.611526</td>\n",
              "      <td>...</td>\n",
              "      <td>-0.342912</td>\n",
              "      <td>-0.194165</td>\n",
              "      <td>0.122331</td>\n",
              "      <td>0.028682</td>\n",
              "      <td>-0.093626</td>\n",
              "      <td>-0.559840</td>\n",
              "      <td>0.562584</td>\n",
              "      <td>-0.557868</td>\n",
              "      <td>1.424906</td>\n",
              "      <td>-0.016294</td>\n",
              "    </tr>\n",
              "    <tr>\n",
              "      <th>1</th>\n",
              "      <td>-0.347872</td>\n",
              "      <td>-2.199925</td>\n",
              "      <td>-0.222026</td>\n",
              "      <td>3.741888</td>\n",
              "      <td>8.608291</td>\n",
              "      <td>-4.091293</td>\n",
              "      <td>-3.502499</td>\n",
              "      <td>-1.463631</td>\n",
              "      <td>0.383153</td>\n",
              "      <td>-3.669962</td>\n",
              "      <td>...</td>\n",
              "      <td>1.261341</td>\n",
              "      <td>-0.082428</td>\n",
              "      <td>-1.035813</td>\n",
              "      <td>-0.249607</td>\n",
              "      <td>-0.971215</td>\n",
              "      <td>-0.058408</td>\n",
              "      <td>1.460632</td>\n",
              "      <td>-0.653394</td>\n",
              "      <td>-1.743487</td>\n",
              "      <td>4.065305</td>\n",
              "    </tr>\n",
              "    <tr>\n",
              "      <th>2</th>\n",
              "      <td>-2.152963</td>\n",
              "      <td>-0.432461</td>\n",
              "      <td>1.619057</td>\n",
              "      <td>-0.003912</td>\n",
              "      <td>3.870262</td>\n",
              "      <td>-0.598858</td>\n",
              "      <td>-0.412391</td>\n",
              "      <td>-0.765354</td>\n",
              "      <td>-0.998152</td>\n",
              "      <td>-0.938755</td>\n",
              "      <td>...</td>\n",
              "      <td>2.245204</td>\n",
              "      <td>3.002347</td>\n",
              "      <td>2.674186</td>\n",
              "      <td>2.656251</td>\n",
              "      <td>1.062974</td>\n",
              "      <td>-0.484619</td>\n",
              "      <td>-0.044594</td>\n",
              "      <td>1.579731</td>\n",
              "      <td>0.962836</td>\n",
              "      <td>1.146983</td>\n",
              "    </tr>\n",
              "    <tr>\n",
              "      <th>3</th>\n",
              "      <td>-1.827669</td>\n",
              "      <td>-1.881770</td>\n",
              "      <td>-4.214322</td>\n",
              "      <td>0.178225</td>\n",
              "      <td>0.992362</td>\n",
              "      <td>0.383757</td>\n",
              "      <td>2.512478</td>\n",
              "      <td>-0.383434</td>\n",
              "      <td>-0.208506</td>\n",
              "      <td>-1.104289</td>\n",
              "      <td>...</td>\n",
              "      <td>1.383203</td>\n",
              "      <td>-1.338892</td>\n",
              "      <td>0.298076</td>\n",
              "      <td>1.808275</td>\n",
              "      <td>2.837975</td>\n",
              "      <td>2.054112</td>\n",
              "      <td>0.741138</td>\n",
              "      <td>1.701911</td>\n",
              "      <td>0.110082</td>\n",
              "      <td>0.114980</td>\n",
              "    </tr>\n",
              "    <tr>\n",
              "      <th>4</th>\n",
              "      <td>0.748761</td>\n",
              "      <td>1.799939</td>\n",
              "      <td>1.561006</td>\n",
              "      <td>5.204120</td>\n",
              "      <td>2.161637</td>\n",
              "      <td>-1.275226</td>\n",
              "      <td>-1.544131</td>\n",
              "      <td>-1.802590</td>\n",
              "      <td>-1.128526</td>\n",
              "      <td>-0.469835</td>\n",
              "      <td>...</td>\n",
              "      <td>-0.477313</td>\n",
              "      <td>0.742923</td>\n",
              "      <td>-0.273225</td>\n",
              "      <td>1.311015</td>\n",
              "      <td>0.744330</td>\n",
              "      <td>2.914322</td>\n",
              "      <td>1.030602</td>\n",
              "      <td>0.480722</td>\n",
              "      <td>-0.492838</td>\n",
              "      <td>1.377958</td>\n",
              "    </tr>\n",
              "    <tr>\n",
              "      <th>...</th>\n",
              "      <td>...</td>\n",
              "      <td>...</td>\n",
              "      <td>...</td>\n",
              "      <td>...</td>\n",
              "      <td>...</td>\n",
              "      <td>...</td>\n",
              "      <td>...</td>\n",
              "      <td>...</td>\n",
              "      <td>...</td>\n",
              "      <td>...</td>\n",
              "      <td>...</td>\n",
              "      <td>...</td>\n",
              "      <td>...</td>\n",
              "      <td>...</td>\n",
              "      <td>...</td>\n",
              "      <td>...</td>\n",
              "      <td>...</td>\n",
              "      <td>...</td>\n",
              "      <td>...</td>\n",
              "      <td>...</td>\n",
              "      <td>...</td>\n",
              "    </tr>\n",
              "    <tr>\n",
              "      <th>13995</th>\n",
              "      <td>-0.074522</td>\n",
              "      <td>-0.472044</td>\n",
              "      <td>-2.860659</td>\n",
              "      <td>-1.266230</td>\n",
              "      <td>-10.229167</td>\n",
              "      <td>0.583145</td>\n",
              "      <td>-0.051301</td>\n",
              "      <td>-0.584659</td>\n",
              "      <td>1.458945</td>\n",
              "      <td>2.004759</td>\n",
              "      <td>...</td>\n",
              "      <td>-1.634290</td>\n",
              "      <td>-1.527111</td>\n",
              "      <td>-1.008016</td>\n",
              "      <td>-0.500519</td>\n",
              "      <td>1.277636</td>\n",
              "      <td>1.257714</td>\n",
              "      <td>0.502732</td>\n",
              "      <td>1.751844</td>\n",
              "      <td>0.150679</td>\n",
              "      <td>-0.533808</td>\n",
              "    </tr>\n",
              "    <tr>\n",
              "      <th>13996</th>\n",
              "      <td>1.730118</td>\n",
              "      <td>3.177408</td>\n",
              "      <td>0.816198</td>\n",
              "      <td>1.136877</td>\n",
              "      <td>-1.588960</td>\n",
              "      <td>1.011735</td>\n",
              "      <td>-0.185748</td>\n",
              "      <td>-0.522647</td>\n",
              "      <td>2.316802</td>\n",
              "      <td>1.219339</td>\n",
              "      <td>...</td>\n",
              "      <td>-0.409750</td>\n",
              "      <td>0.840944</td>\n",
              "      <td>-1.804313</td>\n",
              "      <td>0.357944</td>\n",
              "      <td>-1.058557</td>\n",
              "      <td>-0.196874</td>\n",
              "      <td>-2.507582</td>\n",
              "      <td>0.125756</td>\n",
              "      <td>1.532976</td>\n",
              "      <td>-1.087343</td>\n",
              "    </tr>\n",
              "    <tr>\n",
              "      <th>13997</th>\n",
              "      <td>2.093028</td>\n",
              "      <td>4.108092</td>\n",
              "      <td>1.056253</td>\n",
              "      <td>8.163642</td>\n",
              "      <td>8.916299</td>\n",
              "      <td>2.338713</td>\n",
              "      <td>2.554397</td>\n",
              "      <td>1.665492</td>\n",
              "      <td>3.719985</td>\n",
              "      <td>-0.278893</td>\n",
              "      <td>...</td>\n",
              "      <td>-0.531223</td>\n",
              "      <td>-1.249847</td>\n",
              "      <td>-1.288419</td>\n",
              "      <td>-0.897649</td>\n",
              "      <td>-0.199824</td>\n",
              "      <td>-0.033545</td>\n",
              "      <td>0.240647</td>\n",
              "      <td>2.188396</td>\n",
              "      <td>0.039340</td>\n",
              "      <td>0.756515</td>\n",
              "    </tr>\n",
              "    <tr>\n",
              "      <th>13998</th>\n",
              "      <td>1.483381</td>\n",
              "      <td>-1.602078</td>\n",
              "      <td>-2.851078</td>\n",
              "      <td>-2.639386</td>\n",
              "      <td>-4.805661</td>\n",
              "      <td>-2.252937</td>\n",
              "      <td>2.370613</td>\n",
              "      <td>4.450028</td>\n",
              "      <td>0.947600</td>\n",
              "      <td>2.364395</td>\n",
              "      <td>...</td>\n",
              "      <td>-1.451115</td>\n",
              "      <td>-4.188150</td>\n",
              "      <td>-2.397168</td>\n",
              "      <td>-1.126340</td>\n",
              "      <td>-0.841850</td>\n",
              "      <td>-4.231824</td>\n",
              "      <td>-2.640152</td>\n",
              "      <td>-4.048115</td>\n",
              "      <td>-4.629418</td>\n",
              "      <td>-3.566115</td>\n",
              "    </tr>\n",
              "    <tr>\n",
              "      <th>13999</th>\n",
              "      <td>-1.305992</td>\n",
              "      <td>1.129081</td>\n",
              "      <td>-0.223061</td>\n",
              "      <td>0.248722</td>\n",
              "      <td>1.326936</td>\n",
              "      <td>-0.496556</td>\n",
              "      <td>1.432433</td>\n",
              "      <td>-0.012964</td>\n",
              "      <td>1.571311</td>\n",
              "      <td>0.053566</td>\n",
              "      <td>...</td>\n",
              "      <td>0.488547</td>\n",
              "      <td>-0.480647</td>\n",
              "      <td>0.498861</td>\n",
              "      <td>1.053732</td>\n",
              "      <td>2.121583</td>\n",
              "      <td>2.547515</td>\n",
              "      <td>2.029551</td>\n",
              "      <td>0.592872</td>\n",
              "      <td>-0.079870</td>\n",
              "      <td>0.142056</td>\n",
              "    </tr>\n",
              "  </tbody>\n",
              "</table>\n",
              "<p>14000 rows × 485 columns</p>\n",
              "</div>\n",
              "      <button class=\"colab-df-convert\" onclick=\"convertToInteractive('df-f66e3b57-6d59-4996-8121-e1f7099b1db7')\"\n",
              "              title=\"Convert this dataframe to an interactive table.\"\n",
              "              style=\"display:none;\">\n",
              "        \n",
              "  <svg xmlns=\"http://www.w3.org/2000/svg\" height=\"24px\"viewBox=\"0 0 24 24\"\n",
              "       width=\"24px\">\n",
              "    <path d=\"M0 0h24v24H0V0z\" fill=\"none\"/>\n",
              "    <path d=\"M18.56 5.44l.94 2.06.94-2.06 2.06-.94-2.06-.94-.94-2.06-.94 2.06-2.06.94zm-11 1L8.5 8.5l.94-2.06 2.06-.94-2.06-.94L8.5 2.5l-.94 2.06-2.06.94zm10 10l.94 2.06.94-2.06 2.06-.94-2.06-.94-.94-2.06-.94 2.06-2.06.94z\"/><path d=\"M17.41 7.96l-1.37-1.37c-.4-.4-.92-.59-1.43-.59-.52 0-1.04.2-1.43.59L10.3 9.45l-7.72 7.72c-.78.78-.78 2.05 0 2.83L4 21.41c.39.39.9.59 1.41.59.51 0 1.02-.2 1.41-.59l7.78-7.78 2.81-2.81c.8-.78.8-2.07 0-2.86zM5.41 20L4 18.59l7.72-7.72 1.47 1.35L5.41 20z\"/>\n",
              "  </svg>\n",
              "      </button>\n",
              "      \n",
              "  <style>\n",
              "    .colab-df-container {\n",
              "      display:flex;\n",
              "      flex-wrap:wrap;\n",
              "      gap: 12px;\n",
              "    }\n",
              "\n",
              "    .colab-df-convert {\n",
              "      background-color: #E8F0FE;\n",
              "      border: none;\n",
              "      border-radius: 50%;\n",
              "      cursor: pointer;\n",
              "      display: none;\n",
              "      fill: #1967D2;\n",
              "      height: 32px;\n",
              "      padding: 0 0 0 0;\n",
              "      width: 32px;\n",
              "    }\n",
              "\n",
              "    .colab-df-convert:hover {\n",
              "      background-color: #E2EBFA;\n",
              "      box-shadow: 0px 1px 2px rgba(60, 64, 67, 0.3), 0px 1px 3px 1px rgba(60, 64, 67, 0.15);\n",
              "      fill: #174EA6;\n",
              "    }\n",
              "\n",
              "    [theme=dark] .colab-df-convert {\n",
              "      background-color: #3B4455;\n",
              "      fill: #D2E3FC;\n",
              "    }\n",
              "\n",
              "    [theme=dark] .colab-df-convert:hover {\n",
              "      background-color: #434B5C;\n",
              "      box-shadow: 0px 1px 3px 1px rgba(0, 0, 0, 0.15);\n",
              "      filter: drop-shadow(0px 1px 2px rgba(0, 0, 0, 0.3));\n",
              "      fill: #FFFFFF;\n",
              "    }\n",
              "  </style>\n",
              "\n",
              "      <script>\n",
              "        const buttonEl =\n",
              "          document.querySelector('#df-f66e3b57-6d59-4996-8121-e1f7099b1db7 button.colab-df-convert');\n",
              "        buttonEl.style.display =\n",
              "          google.colab.kernel.accessAllowed ? 'block' : 'none';\n",
              "\n",
              "        async function convertToInteractive(key) {\n",
              "          const element = document.querySelector('#df-f66e3b57-6d59-4996-8121-e1f7099b1db7');\n",
              "          const dataTable =\n",
              "            await google.colab.kernel.invokeFunction('convertToInteractive',\n",
              "                                                     [key], {});\n",
              "          if (!dataTable) return;\n",
              "\n",
              "          const docLinkHtml = 'Like what you see? Visit the ' +\n",
              "            '<a target=\"_blank\" href=https://colab.research.google.com/notebooks/data_table.ipynb>data table notebook</a>'\n",
              "            + ' to learn more about interactive tables.';\n",
              "          element.innerHTML = '';\n",
              "          dataTable['output_type'] = 'display_data';\n",
              "          await google.colab.output.renderOutput(dataTable, element);\n",
              "          const docLink = document.createElement('div');\n",
              "          docLink.innerHTML = docLinkHtml;\n",
              "          element.appendChild(docLink);\n",
              "        }\n",
              "      </script>\n",
              "    </div>\n",
              "  </div>\n",
              "  "
            ]
          },
          "metadata": {},
          "execution_count": 7
        }
      ]
    },
    {
      "cell_type": "code",
      "source": [
        "y_raw = pd.read_csv('/content/drive/MyDrive/Cruso-ApsFinancieras/semana7/output_training_F2dZW38.csv').set_index('ID')\n",
        "y_raw"
      ],
      "metadata": {
        "id": "29-SdvrDk-lz",
        "colab": {
          "base_uri": "https://localhost:8080/",
          "height": 455
        },
        "outputId": "03704a11-2001-4c6c-bdc1-96b1361e199a"
      },
      "execution_count": null,
      "outputs": [
        {
          "output_type": "execute_result",
          "data": {
            "text/plain": [
              "       Target -1  Target 0  Target 1\n",
              "ID                                  \n",
              "0              0         0         1\n",
              "1              1         0         0\n",
              "2              0         0         1\n",
              "3              1         0         0\n",
              "4              0         1         0\n",
              "...          ...       ...       ...\n",
              "13995          0         0         1\n",
              "13996          0         1         0\n",
              "13997          0         1         0\n",
              "13998          0         0         1\n",
              "13999          0         1         0\n",
              "\n",
              "[14000 rows x 3 columns]"
            ],
            "text/html": [
              "\n",
              "  <div id=\"df-869de19f-e472-4e15-9305-ac22225f81b7\">\n",
              "    <div class=\"colab-df-container\">\n",
              "      <div>\n",
              "<style scoped>\n",
              "    .dataframe tbody tr th:only-of-type {\n",
              "        vertical-align: middle;\n",
              "    }\n",
              "\n",
              "    .dataframe tbody tr th {\n",
              "        vertical-align: top;\n",
              "    }\n",
              "\n",
              "    .dataframe thead th {\n",
              "        text-align: right;\n",
              "    }\n",
              "</style>\n",
              "<table border=\"1\" class=\"dataframe\">\n",
              "  <thead>\n",
              "    <tr style=\"text-align: right;\">\n",
              "      <th></th>\n",
              "      <th>Target -1</th>\n",
              "      <th>Target 0</th>\n",
              "      <th>Target 1</th>\n",
              "    </tr>\n",
              "    <tr>\n",
              "      <th>ID</th>\n",
              "      <th></th>\n",
              "      <th></th>\n",
              "      <th></th>\n",
              "    </tr>\n",
              "  </thead>\n",
              "  <tbody>\n",
              "    <tr>\n",
              "      <th>0</th>\n",
              "      <td>0</td>\n",
              "      <td>0</td>\n",
              "      <td>1</td>\n",
              "    </tr>\n",
              "    <tr>\n",
              "      <th>1</th>\n",
              "      <td>1</td>\n",
              "      <td>0</td>\n",
              "      <td>0</td>\n",
              "    </tr>\n",
              "    <tr>\n",
              "      <th>2</th>\n",
              "      <td>0</td>\n",
              "      <td>0</td>\n",
              "      <td>1</td>\n",
              "    </tr>\n",
              "    <tr>\n",
              "      <th>3</th>\n",
              "      <td>1</td>\n",
              "      <td>0</td>\n",
              "      <td>0</td>\n",
              "    </tr>\n",
              "    <tr>\n",
              "      <th>4</th>\n",
              "      <td>0</td>\n",
              "      <td>1</td>\n",
              "      <td>0</td>\n",
              "    </tr>\n",
              "    <tr>\n",
              "      <th>...</th>\n",
              "      <td>...</td>\n",
              "      <td>...</td>\n",
              "      <td>...</td>\n",
              "    </tr>\n",
              "    <tr>\n",
              "      <th>13995</th>\n",
              "      <td>0</td>\n",
              "      <td>0</td>\n",
              "      <td>1</td>\n",
              "    </tr>\n",
              "    <tr>\n",
              "      <th>13996</th>\n",
              "      <td>0</td>\n",
              "      <td>1</td>\n",
              "      <td>0</td>\n",
              "    </tr>\n",
              "    <tr>\n",
              "      <th>13997</th>\n",
              "      <td>0</td>\n",
              "      <td>1</td>\n",
              "      <td>0</td>\n",
              "    </tr>\n",
              "    <tr>\n",
              "      <th>13998</th>\n",
              "      <td>0</td>\n",
              "      <td>0</td>\n",
              "      <td>1</td>\n",
              "    </tr>\n",
              "    <tr>\n",
              "      <th>13999</th>\n",
              "      <td>0</td>\n",
              "      <td>1</td>\n",
              "      <td>0</td>\n",
              "    </tr>\n",
              "  </tbody>\n",
              "</table>\n",
              "<p>14000 rows × 3 columns</p>\n",
              "</div>\n",
              "      <button class=\"colab-df-convert\" onclick=\"convertToInteractive('df-869de19f-e472-4e15-9305-ac22225f81b7')\"\n",
              "              title=\"Convert this dataframe to an interactive table.\"\n",
              "              style=\"display:none;\">\n",
              "        \n",
              "  <svg xmlns=\"http://www.w3.org/2000/svg\" height=\"24px\"viewBox=\"0 0 24 24\"\n",
              "       width=\"24px\">\n",
              "    <path d=\"M0 0h24v24H0V0z\" fill=\"none\"/>\n",
              "    <path d=\"M18.56 5.44l.94 2.06.94-2.06 2.06-.94-2.06-.94-.94-2.06-.94 2.06-2.06.94zm-11 1L8.5 8.5l.94-2.06 2.06-.94-2.06-.94L8.5 2.5l-.94 2.06-2.06.94zm10 10l.94 2.06.94-2.06 2.06-.94-2.06-.94-.94-2.06-.94 2.06-2.06.94z\"/><path d=\"M17.41 7.96l-1.37-1.37c-.4-.4-.92-.59-1.43-.59-.52 0-1.04.2-1.43.59L10.3 9.45l-7.72 7.72c-.78.78-.78 2.05 0 2.83L4 21.41c.39.39.9.59 1.41.59.51 0 1.02-.2 1.41-.59l7.78-7.78 2.81-2.81c.8-.78.8-2.07 0-2.86zM5.41 20L4 18.59l7.72-7.72 1.47 1.35L5.41 20z\"/>\n",
              "  </svg>\n",
              "      </button>\n",
              "      \n",
              "  <style>\n",
              "    .colab-df-container {\n",
              "      display:flex;\n",
              "      flex-wrap:wrap;\n",
              "      gap: 12px;\n",
              "    }\n",
              "\n",
              "    .colab-df-convert {\n",
              "      background-color: #E8F0FE;\n",
              "      border: none;\n",
              "      border-radius: 50%;\n",
              "      cursor: pointer;\n",
              "      display: none;\n",
              "      fill: #1967D2;\n",
              "      height: 32px;\n",
              "      padding: 0 0 0 0;\n",
              "      width: 32px;\n",
              "    }\n",
              "\n",
              "    .colab-df-convert:hover {\n",
              "      background-color: #E2EBFA;\n",
              "      box-shadow: 0px 1px 2px rgba(60, 64, 67, 0.3), 0px 1px 3px 1px rgba(60, 64, 67, 0.15);\n",
              "      fill: #174EA6;\n",
              "    }\n",
              "\n",
              "    [theme=dark] .colab-df-convert {\n",
              "      background-color: #3B4455;\n",
              "      fill: #D2E3FC;\n",
              "    }\n",
              "\n",
              "    [theme=dark] .colab-df-convert:hover {\n",
              "      background-color: #434B5C;\n",
              "      box-shadow: 0px 1px 3px 1px rgba(0, 0, 0, 0.15);\n",
              "      filter: drop-shadow(0px 1px 2px rgba(0, 0, 0, 0.3));\n",
              "      fill: #FFFFFF;\n",
              "    }\n",
              "  </style>\n",
              "\n",
              "      <script>\n",
              "        const buttonEl =\n",
              "          document.querySelector('#df-869de19f-e472-4e15-9305-ac22225f81b7 button.colab-df-convert');\n",
              "        buttonEl.style.display =\n",
              "          google.colab.kernel.accessAllowed ? 'block' : 'none';\n",
              "\n",
              "        async function convertToInteractive(key) {\n",
              "          const element = document.querySelector('#df-869de19f-e472-4e15-9305-ac22225f81b7');\n",
              "          const dataTable =\n",
              "            await google.colab.kernel.invokeFunction('convertToInteractive',\n",
              "                                                     [key], {});\n",
              "          if (!dataTable) return;\n",
              "\n",
              "          const docLinkHtml = 'Like what you see? Visit the ' +\n",
              "            '<a target=\"_blank\" href=https://colab.research.google.com/notebooks/data_table.ipynb>data table notebook</a>'\n",
              "            + ' to learn more about interactive tables.';\n",
              "          element.innerHTML = '';\n",
              "          dataTable['output_type'] = 'display_data';\n",
              "          await google.colab.output.renderOutput(dataTable, element);\n",
              "          const docLink = document.createElement('div');\n",
              "          docLink.innerHTML = docLinkHtml;\n",
              "          element.appendChild(docLink);\n",
              "        }\n",
              "      </script>\n",
              "    </div>\n",
              "  </div>\n",
              "  "
            ]
          },
          "metadata": {},
          "execution_count": 8
        }
      ]
    },
    {
      "cell_type": "markdown",
      "source": [
        "## División: Entrenamiento, Validación y Prueba"
      ],
      "metadata": {
        "id": "4fqHIttJ8RTL"
      }
    },
    {
      "cell_type": "code",
      "source": [
        "# Division para entrenamiento de red LSTM\n",
        "X_train, X_test, y_train, y_test = train_test_split(X_raw, y_raw, train_size = .8, random_state = 10, shuffle = False)\n",
        "X_train, X_val, y_train, y_val = train_test_split(X_train, y_train, train_size = .75, random_state = 10, shuffle = False)\n",
        "\n",
        "print('     Train shape', X_train.shape)\n",
        "print('Validation shape', X_val.shape)\n",
        "print('      Test shape', X_test.shape)"
      ],
      "metadata": {
        "colab": {
          "base_uri": "https://localhost:8080/"
        },
        "id": "1X0rE_Qj1Ys0",
        "outputId": "48e8deca-3fc3-4483-d9c9-610e8e2f314c"
      },
      "execution_count": null,
      "outputs": [
        {
          "output_type": "stream",
          "name": "stdout",
          "text": [
            "     Train shape (8400, 485)\n",
            "Validation shape (2800, 485)\n",
            "      Test shape (2800, 485)\n"
          ]
        }
      ]
    },
    {
      "cell_type": "markdown",
      "source": [
        "## Transformaciones"
      ],
      "metadata": {
        "id": "LV5EgGdD8WAm"
      }
    },
    {
      "cell_type": "code",
      "source": [
        "len_prices = 5\n",
        "n_features = 10\n",
        "len_features = 48\n",
        "\n",
        "train_prices, train_features = transform_dataframe(X_train, len_prices, n_features, len_features)\n",
        "val_prices, val_features     = transform_dataframe(X_val,   len_prices, n_features, len_features)\n",
        "test_prices, test_features   = transform_dataframe(X_test,  len_prices, n_features, len_features)"
      ],
      "metadata": {
        "id": "E9kHbyBf-hUh"
      },
      "execution_count": null,
      "outputs": []
    },
    {
      "cell_type": "code",
      "source": [
        "print('        Labels: (samples, sequence length, features)')\n",
        "print('  Train prices:', train_prices.shape)\n",
        "print('Train features:', train_features.shape)"
      ],
      "metadata": {
        "colab": {
          "base_uri": "https://localhost:8080/"
        },
        "id": "D9vHnzXOGlJi",
        "outputId": "6d0214ec-2534-484c-9f8a-f9191b160ab0"
      },
      "execution_count": null,
      "outputs": [
        {
          "output_type": "stream",
          "name": "stdout",
          "text": [
            "        Labels: (samples, sequence length, features)\n",
            "  Train prices: (8400, 5, 1)\n",
            "Train features: (8400, 48, 10)\n"
          ]
        }
      ]
    },
    {
      "cell_type": "markdown",
      "source": [
        "# Algoritmos-Modelos"
      ],
      "metadata": {
        "id": "Z8wnN8eN8fbZ"
      }
    },
    {
      "cell_type": "markdown",
      "source": [
        "## Regresión logística"
      ],
      "metadata": {
        "id": "NfcAiYGc994C"
      }
    },
    {
      "cell_type": "markdown",
      "source": [
        "El punto de referencia de los propietarios de los datos es una regresión logística tomando como características X1, $\\dots$, X5."
      ],
      "metadata": {
        "id": "0B2PDjT2-_n-"
      }
    },
    {
      "cell_type": "code",
      "source": [
        "from sklearn.linear_model import LogisticRegression"
      ],
      "metadata": {
        "id": "XxRMOiQR2d3H"
      },
      "execution_count": null,
      "outputs": []
    },
    {
      "cell_type": "code",
      "source": [
        "np.set_printoptions(suppress=True)\n",
        "train_prices"
      ],
      "metadata": {
        "colab": {
          "base_uri": "https://localhost:8080/"
        },
        "id": "hi_GmUvP3InB",
        "outputId": "05418046-bc9d-44f3-c798-b5edb10b0284"
      },
      "execution_count": null,
      "outputs": [
        {
          "output_type": "execute_result",
          "data": {
            "text/plain": [
              "array([[[ 4.17778324],\n",
              "        [ 2.74519725],\n",
              "        [-0.97219231],\n",
              "        [ 0.62035968],\n",
              "        [ 0.46002033]],\n",
              "\n",
              "       [[ 8.60829058],\n",
              "        [ 3.74188805],\n",
              "        [-0.22202592],\n",
              "        [-2.19992478],\n",
              "        [-0.34787206]],\n",
              "\n",
              "       [[ 3.87026224],\n",
              "        [-0.00391238],\n",
              "        [ 1.61905739],\n",
              "        [-0.43246086],\n",
              "        [-2.15296262]],\n",
              "\n",
              "       ...,\n",
              "\n",
              "       [[-8.01161549],\n",
              "        [-3.25267826],\n",
              "        [-3.23511161],\n",
              "        [-4.42009744],\n",
              "        [-1.64528608]],\n",
              "\n",
              "       [[-5.7431553 ],\n",
              "        [-4.55756999],\n",
              "        [-4.1314012 ],\n",
              "        [-4.21510083],\n",
              "        [ 0.26622901]],\n",
              "\n",
              "       [[ 3.53645002],\n",
              "        [ 6.40746335],\n",
              "        [ 0.75612526],\n",
              "        [ 1.8952313 ],\n",
              "        [ 1.59236659]]])"
            ]
          },
          "metadata": {},
          "execution_count": 12
        }
      ]
    },
    {
      "cell_type": "code",
      "source": [
        "X_train_0, X_test_0, y_train_0, y_test_0 = train_test_split(X_raw, y_raw, train_size = .8, random_state = 10, shuffle = False)"
      ],
      "metadata": {
        "id": "-gaJ6tl43i7w"
      },
      "execution_count": null,
      "outputs": []
    },
    {
      "cell_type": "code",
      "source": [
        "X_train_0 = X_train_0[['X1', 'X2', 'X3', 'X4', 'X5']]\n",
        "X_train_0"
      ],
      "metadata": {
        "colab": {
          "base_uri": "https://localhost:8080/",
          "height": 455
        },
        "id": "ZF4hOjid3tza",
        "outputId": "c3d30214-c165-40b7-d0a0-7c7a2fdf4e6e"
      },
      "execution_count": null,
      "outputs": [
        {
          "output_type": "execute_result",
          "data": {
            "text/plain": [
              "             X1        X2        X3        X4         X5\n",
              "ID                                                      \n",
              "0      0.460020  0.620360 -0.972192  2.745197   4.177783\n",
              "1     -0.347872 -2.199925 -0.222026  3.741888   8.608291\n",
              "2     -2.152963 -0.432461  1.619057 -0.003912   3.870262\n",
              "3     -1.827669 -1.881770 -4.214322  0.178225   0.992362\n",
              "4      0.748761  1.799939  1.561006  5.204120   2.161637\n",
              "...         ...       ...       ...       ...        ...\n",
              "11195 -0.197817 -0.503618 -5.999348 -7.625040  -2.796258\n",
              "11196  0.511663  1.874224  0.079970  2.570751   7.507616\n",
              "11197  3.405716  4.082560  5.426551  4.861720  10.263339\n",
              "11198  0.476242  2.696333  3.123024  5.921784  -2.697430\n",
              "11199 -0.114793  2.307844  2.853960  5.231252  -2.617616\n",
              "\n",
              "[11200 rows x 5 columns]"
            ],
            "text/html": [
              "\n",
              "  <div id=\"df-5d41f771-20b8-4dbb-b981-29b098659979\">\n",
              "    <div class=\"colab-df-container\">\n",
              "      <div>\n",
              "<style scoped>\n",
              "    .dataframe tbody tr th:only-of-type {\n",
              "        vertical-align: middle;\n",
              "    }\n",
              "\n",
              "    .dataframe tbody tr th {\n",
              "        vertical-align: top;\n",
              "    }\n",
              "\n",
              "    .dataframe thead th {\n",
              "        text-align: right;\n",
              "    }\n",
              "</style>\n",
              "<table border=\"1\" class=\"dataframe\">\n",
              "  <thead>\n",
              "    <tr style=\"text-align: right;\">\n",
              "      <th></th>\n",
              "      <th>X1</th>\n",
              "      <th>X2</th>\n",
              "      <th>X3</th>\n",
              "      <th>X4</th>\n",
              "      <th>X5</th>\n",
              "    </tr>\n",
              "    <tr>\n",
              "      <th>ID</th>\n",
              "      <th></th>\n",
              "      <th></th>\n",
              "      <th></th>\n",
              "      <th></th>\n",
              "      <th></th>\n",
              "    </tr>\n",
              "  </thead>\n",
              "  <tbody>\n",
              "    <tr>\n",
              "      <th>0</th>\n",
              "      <td>0.460020</td>\n",
              "      <td>0.620360</td>\n",
              "      <td>-0.972192</td>\n",
              "      <td>2.745197</td>\n",
              "      <td>4.177783</td>\n",
              "    </tr>\n",
              "    <tr>\n",
              "      <th>1</th>\n",
              "      <td>-0.347872</td>\n",
              "      <td>-2.199925</td>\n",
              "      <td>-0.222026</td>\n",
              "      <td>3.741888</td>\n",
              "      <td>8.608291</td>\n",
              "    </tr>\n",
              "    <tr>\n",
              "      <th>2</th>\n",
              "      <td>-2.152963</td>\n",
              "      <td>-0.432461</td>\n",
              "      <td>1.619057</td>\n",
              "      <td>-0.003912</td>\n",
              "      <td>3.870262</td>\n",
              "    </tr>\n",
              "    <tr>\n",
              "      <th>3</th>\n",
              "      <td>-1.827669</td>\n",
              "      <td>-1.881770</td>\n",
              "      <td>-4.214322</td>\n",
              "      <td>0.178225</td>\n",
              "      <td>0.992362</td>\n",
              "    </tr>\n",
              "    <tr>\n",
              "      <th>4</th>\n",
              "      <td>0.748761</td>\n",
              "      <td>1.799939</td>\n",
              "      <td>1.561006</td>\n",
              "      <td>5.204120</td>\n",
              "      <td>2.161637</td>\n",
              "    </tr>\n",
              "    <tr>\n",
              "      <th>...</th>\n",
              "      <td>...</td>\n",
              "      <td>...</td>\n",
              "      <td>...</td>\n",
              "      <td>...</td>\n",
              "      <td>...</td>\n",
              "    </tr>\n",
              "    <tr>\n",
              "      <th>11195</th>\n",
              "      <td>-0.197817</td>\n",
              "      <td>-0.503618</td>\n",
              "      <td>-5.999348</td>\n",
              "      <td>-7.625040</td>\n",
              "      <td>-2.796258</td>\n",
              "    </tr>\n",
              "    <tr>\n",
              "      <th>11196</th>\n",
              "      <td>0.511663</td>\n",
              "      <td>1.874224</td>\n",
              "      <td>0.079970</td>\n",
              "      <td>2.570751</td>\n",
              "      <td>7.507616</td>\n",
              "    </tr>\n",
              "    <tr>\n",
              "      <th>11197</th>\n",
              "      <td>3.405716</td>\n",
              "      <td>4.082560</td>\n",
              "      <td>5.426551</td>\n",
              "      <td>4.861720</td>\n",
              "      <td>10.263339</td>\n",
              "    </tr>\n",
              "    <tr>\n",
              "      <th>11198</th>\n",
              "      <td>0.476242</td>\n",
              "      <td>2.696333</td>\n",
              "      <td>3.123024</td>\n",
              "      <td>5.921784</td>\n",
              "      <td>-2.697430</td>\n",
              "    </tr>\n",
              "    <tr>\n",
              "      <th>11199</th>\n",
              "      <td>-0.114793</td>\n",
              "      <td>2.307844</td>\n",
              "      <td>2.853960</td>\n",
              "      <td>5.231252</td>\n",
              "      <td>-2.617616</td>\n",
              "    </tr>\n",
              "  </tbody>\n",
              "</table>\n",
              "<p>11200 rows × 5 columns</p>\n",
              "</div>\n",
              "      <button class=\"colab-df-convert\" onclick=\"convertToInteractive('df-5d41f771-20b8-4dbb-b981-29b098659979')\"\n",
              "              title=\"Convert this dataframe to an interactive table.\"\n",
              "              style=\"display:none;\">\n",
              "        \n",
              "  <svg xmlns=\"http://www.w3.org/2000/svg\" height=\"24px\"viewBox=\"0 0 24 24\"\n",
              "       width=\"24px\">\n",
              "    <path d=\"M0 0h24v24H0V0z\" fill=\"none\"/>\n",
              "    <path d=\"M18.56 5.44l.94 2.06.94-2.06 2.06-.94-2.06-.94-.94-2.06-.94 2.06-2.06.94zm-11 1L8.5 8.5l.94-2.06 2.06-.94-2.06-.94L8.5 2.5l-.94 2.06-2.06.94zm10 10l.94 2.06.94-2.06 2.06-.94-2.06-.94-.94-2.06-.94 2.06-2.06.94z\"/><path d=\"M17.41 7.96l-1.37-1.37c-.4-.4-.92-.59-1.43-.59-.52 0-1.04.2-1.43.59L10.3 9.45l-7.72 7.72c-.78.78-.78 2.05 0 2.83L4 21.41c.39.39.9.59 1.41.59.51 0 1.02-.2 1.41-.59l7.78-7.78 2.81-2.81c.8-.78.8-2.07 0-2.86zM5.41 20L4 18.59l7.72-7.72 1.47 1.35L5.41 20z\"/>\n",
              "  </svg>\n",
              "      </button>\n",
              "      \n",
              "  <style>\n",
              "    .colab-df-container {\n",
              "      display:flex;\n",
              "      flex-wrap:wrap;\n",
              "      gap: 12px;\n",
              "    }\n",
              "\n",
              "    .colab-df-convert {\n",
              "      background-color: #E8F0FE;\n",
              "      border: none;\n",
              "      border-radius: 50%;\n",
              "      cursor: pointer;\n",
              "      display: none;\n",
              "      fill: #1967D2;\n",
              "      height: 32px;\n",
              "      padding: 0 0 0 0;\n",
              "      width: 32px;\n",
              "    }\n",
              "\n",
              "    .colab-df-convert:hover {\n",
              "      background-color: #E2EBFA;\n",
              "      box-shadow: 0px 1px 2px rgba(60, 64, 67, 0.3), 0px 1px 3px 1px rgba(60, 64, 67, 0.15);\n",
              "      fill: #174EA6;\n",
              "    }\n",
              "\n",
              "    [theme=dark] .colab-df-convert {\n",
              "      background-color: #3B4455;\n",
              "      fill: #D2E3FC;\n",
              "    }\n",
              "\n",
              "    [theme=dark] .colab-df-convert:hover {\n",
              "      background-color: #434B5C;\n",
              "      box-shadow: 0px 1px 3px 1px rgba(0, 0, 0, 0.15);\n",
              "      filter: drop-shadow(0px 1px 2px rgba(0, 0, 0, 0.3));\n",
              "      fill: #FFFFFF;\n",
              "    }\n",
              "  </style>\n",
              "\n",
              "      <script>\n",
              "        const buttonEl =\n",
              "          document.querySelector('#df-5d41f771-20b8-4dbb-b981-29b098659979 button.colab-df-convert');\n",
              "        buttonEl.style.display =\n",
              "          google.colab.kernel.accessAllowed ? 'block' : 'none';\n",
              "\n",
              "        async function convertToInteractive(key) {\n",
              "          const element = document.querySelector('#df-5d41f771-20b8-4dbb-b981-29b098659979');\n",
              "          const dataTable =\n",
              "            await google.colab.kernel.invokeFunction('convertToInteractive',\n",
              "                                                     [key], {});\n",
              "          if (!dataTable) return;\n",
              "\n",
              "          const docLinkHtml = 'Like what you see? Visit the ' +\n",
              "            '<a target=\"_blank\" href=https://colab.research.google.com/notebooks/data_table.ipynb>data table notebook</a>'\n",
              "            + ' to learn more about interactive tables.';\n",
              "          element.innerHTML = '';\n",
              "          dataTable['output_type'] = 'display_data';\n",
              "          await google.colab.output.renderOutput(dataTable, element);\n",
              "          const docLink = document.createElement('div');\n",
              "          docLink.innerHTML = docLinkHtml;\n",
              "          element.appendChild(docLink);\n",
              "        }\n",
              "      </script>\n",
              "    </div>\n",
              "  </div>\n",
              "  "
            ]
          },
          "metadata": {},
          "execution_count": 14
        }
      ]
    },
    {
      "cell_type": "code",
      "source": [
        "X_test_0 = X_test_0[['X1', 'X2', 'X3', 'X4', 'X5']]\n",
        "X_test_0"
      ],
      "metadata": {
        "colab": {
          "base_uri": "https://localhost:8080/",
          "height": 455
        },
        "id": "dJZBRMLB4ueT",
        "outputId": "ab928318-4b20-4fdc-b23c-b29e4ee16788"
      },
      "execution_count": null,
      "outputs": [
        {
          "output_type": "execute_result",
          "data": {
            "text/plain": [
              "             X1        X2        X3        X4         X5\n",
              "ID                                                      \n",
              "11200 -0.214679  3.356129  4.749172  5.709250   1.351358\n",
              "11201 -1.192837  0.957475 -0.430136 -2.751596   6.960146\n",
              "11202  0.450306 -0.061307  0.284349  2.194250  -3.470744\n",
              "11203  0.169981  0.180298  5.055600  3.872075   7.453231\n",
              "11204  0.223090 -0.213792  4.367535  4.579829   6.908846\n",
              "...         ...       ...       ...       ...        ...\n",
              "13995 -0.074522 -0.472044 -2.860659 -1.266230 -10.229167\n",
              "13996  1.730118  3.177408  0.816198  1.136877  -1.588960\n",
              "13997  2.093028  4.108092  1.056253  8.163642   8.916299\n",
              "13998  1.483381 -1.602078 -2.851078 -2.639386  -4.805661\n",
              "13999 -1.305992  1.129081 -0.223061  0.248722   1.326936\n",
              "\n",
              "[2800 rows x 5 columns]"
            ],
            "text/html": [
              "\n",
              "  <div id=\"df-8a07c7f3-fd0e-4013-bd94-799cca730737\">\n",
              "    <div class=\"colab-df-container\">\n",
              "      <div>\n",
              "<style scoped>\n",
              "    .dataframe tbody tr th:only-of-type {\n",
              "        vertical-align: middle;\n",
              "    }\n",
              "\n",
              "    .dataframe tbody tr th {\n",
              "        vertical-align: top;\n",
              "    }\n",
              "\n",
              "    .dataframe thead th {\n",
              "        text-align: right;\n",
              "    }\n",
              "</style>\n",
              "<table border=\"1\" class=\"dataframe\">\n",
              "  <thead>\n",
              "    <tr style=\"text-align: right;\">\n",
              "      <th></th>\n",
              "      <th>X1</th>\n",
              "      <th>X2</th>\n",
              "      <th>X3</th>\n",
              "      <th>X4</th>\n",
              "      <th>X5</th>\n",
              "    </tr>\n",
              "    <tr>\n",
              "      <th>ID</th>\n",
              "      <th></th>\n",
              "      <th></th>\n",
              "      <th></th>\n",
              "      <th></th>\n",
              "      <th></th>\n",
              "    </tr>\n",
              "  </thead>\n",
              "  <tbody>\n",
              "    <tr>\n",
              "      <th>11200</th>\n",
              "      <td>-0.214679</td>\n",
              "      <td>3.356129</td>\n",
              "      <td>4.749172</td>\n",
              "      <td>5.709250</td>\n",
              "      <td>1.351358</td>\n",
              "    </tr>\n",
              "    <tr>\n",
              "      <th>11201</th>\n",
              "      <td>-1.192837</td>\n",
              "      <td>0.957475</td>\n",
              "      <td>-0.430136</td>\n",
              "      <td>-2.751596</td>\n",
              "      <td>6.960146</td>\n",
              "    </tr>\n",
              "    <tr>\n",
              "      <th>11202</th>\n",
              "      <td>0.450306</td>\n",
              "      <td>-0.061307</td>\n",
              "      <td>0.284349</td>\n",
              "      <td>2.194250</td>\n",
              "      <td>-3.470744</td>\n",
              "    </tr>\n",
              "    <tr>\n",
              "      <th>11203</th>\n",
              "      <td>0.169981</td>\n",
              "      <td>0.180298</td>\n",
              "      <td>5.055600</td>\n",
              "      <td>3.872075</td>\n",
              "      <td>7.453231</td>\n",
              "    </tr>\n",
              "    <tr>\n",
              "      <th>11204</th>\n",
              "      <td>0.223090</td>\n",
              "      <td>-0.213792</td>\n",
              "      <td>4.367535</td>\n",
              "      <td>4.579829</td>\n",
              "      <td>6.908846</td>\n",
              "    </tr>\n",
              "    <tr>\n",
              "      <th>...</th>\n",
              "      <td>...</td>\n",
              "      <td>...</td>\n",
              "      <td>...</td>\n",
              "      <td>...</td>\n",
              "      <td>...</td>\n",
              "    </tr>\n",
              "    <tr>\n",
              "      <th>13995</th>\n",
              "      <td>-0.074522</td>\n",
              "      <td>-0.472044</td>\n",
              "      <td>-2.860659</td>\n",
              "      <td>-1.266230</td>\n",
              "      <td>-10.229167</td>\n",
              "    </tr>\n",
              "    <tr>\n",
              "      <th>13996</th>\n",
              "      <td>1.730118</td>\n",
              "      <td>3.177408</td>\n",
              "      <td>0.816198</td>\n",
              "      <td>1.136877</td>\n",
              "      <td>-1.588960</td>\n",
              "    </tr>\n",
              "    <tr>\n",
              "      <th>13997</th>\n",
              "      <td>2.093028</td>\n",
              "      <td>4.108092</td>\n",
              "      <td>1.056253</td>\n",
              "      <td>8.163642</td>\n",
              "      <td>8.916299</td>\n",
              "    </tr>\n",
              "    <tr>\n",
              "      <th>13998</th>\n",
              "      <td>1.483381</td>\n",
              "      <td>-1.602078</td>\n",
              "      <td>-2.851078</td>\n",
              "      <td>-2.639386</td>\n",
              "      <td>-4.805661</td>\n",
              "    </tr>\n",
              "    <tr>\n",
              "      <th>13999</th>\n",
              "      <td>-1.305992</td>\n",
              "      <td>1.129081</td>\n",
              "      <td>-0.223061</td>\n",
              "      <td>0.248722</td>\n",
              "      <td>1.326936</td>\n",
              "    </tr>\n",
              "  </tbody>\n",
              "</table>\n",
              "<p>2800 rows × 5 columns</p>\n",
              "</div>\n",
              "      <button class=\"colab-df-convert\" onclick=\"convertToInteractive('df-8a07c7f3-fd0e-4013-bd94-799cca730737')\"\n",
              "              title=\"Convert this dataframe to an interactive table.\"\n",
              "              style=\"display:none;\">\n",
              "        \n",
              "  <svg xmlns=\"http://www.w3.org/2000/svg\" height=\"24px\"viewBox=\"0 0 24 24\"\n",
              "       width=\"24px\">\n",
              "    <path d=\"M0 0h24v24H0V0z\" fill=\"none\"/>\n",
              "    <path d=\"M18.56 5.44l.94 2.06.94-2.06 2.06-.94-2.06-.94-.94-2.06-.94 2.06-2.06.94zm-11 1L8.5 8.5l.94-2.06 2.06-.94-2.06-.94L8.5 2.5l-.94 2.06-2.06.94zm10 10l.94 2.06.94-2.06 2.06-.94-2.06-.94-.94-2.06-.94 2.06-2.06.94z\"/><path d=\"M17.41 7.96l-1.37-1.37c-.4-.4-.92-.59-1.43-.59-.52 0-1.04.2-1.43.59L10.3 9.45l-7.72 7.72c-.78.78-.78 2.05 0 2.83L4 21.41c.39.39.9.59 1.41.59.51 0 1.02-.2 1.41-.59l7.78-7.78 2.81-2.81c.8-.78.8-2.07 0-2.86zM5.41 20L4 18.59l7.72-7.72 1.47 1.35L5.41 20z\"/>\n",
              "  </svg>\n",
              "      </button>\n",
              "      \n",
              "  <style>\n",
              "    .colab-df-container {\n",
              "      display:flex;\n",
              "      flex-wrap:wrap;\n",
              "      gap: 12px;\n",
              "    }\n",
              "\n",
              "    .colab-df-convert {\n",
              "      background-color: #E8F0FE;\n",
              "      border: none;\n",
              "      border-radius: 50%;\n",
              "      cursor: pointer;\n",
              "      display: none;\n",
              "      fill: #1967D2;\n",
              "      height: 32px;\n",
              "      padding: 0 0 0 0;\n",
              "      width: 32px;\n",
              "    }\n",
              "\n",
              "    .colab-df-convert:hover {\n",
              "      background-color: #E2EBFA;\n",
              "      box-shadow: 0px 1px 2px rgba(60, 64, 67, 0.3), 0px 1px 3px 1px rgba(60, 64, 67, 0.15);\n",
              "      fill: #174EA6;\n",
              "    }\n",
              "\n",
              "    [theme=dark] .colab-df-convert {\n",
              "      background-color: #3B4455;\n",
              "      fill: #D2E3FC;\n",
              "    }\n",
              "\n",
              "    [theme=dark] .colab-df-convert:hover {\n",
              "      background-color: #434B5C;\n",
              "      box-shadow: 0px 1px 3px 1px rgba(0, 0, 0, 0.15);\n",
              "      filter: drop-shadow(0px 1px 2px rgba(0, 0, 0, 0.3));\n",
              "      fill: #FFFFFF;\n",
              "    }\n",
              "  </style>\n",
              "\n",
              "      <script>\n",
              "        const buttonEl =\n",
              "          document.querySelector('#df-8a07c7f3-fd0e-4013-bd94-799cca730737 button.colab-df-convert');\n",
              "        buttonEl.style.display =\n",
              "          google.colab.kernel.accessAllowed ? 'block' : 'none';\n",
              "\n",
              "        async function convertToInteractive(key) {\n",
              "          const element = document.querySelector('#df-8a07c7f3-fd0e-4013-bd94-799cca730737');\n",
              "          const dataTable =\n",
              "            await google.colab.kernel.invokeFunction('convertToInteractive',\n",
              "                                                     [key], {});\n",
              "          if (!dataTable) return;\n",
              "\n",
              "          const docLinkHtml = 'Like what you see? Visit the ' +\n",
              "            '<a target=\"_blank\" href=https://colab.research.google.com/notebooks/data_table.ipynb>data table notebook</a>'\n",
              "            + ' to learn more about interactive tables.';\n",
              "          element.innerHTML = '';\n",
              "          dataTable['output_type'] = 'display_data';\n",
              "          await google.colab.output.renderOutput(dataTable, element);\n",
              "          const docLink = document.createElement('div');\n",
              "          docLink.innerHTML = docLinkHtml;\n",
              "          element.appendChild(docLink);\n",
              "        }\n",
              "      </script>\n",
              "    </div>\n",
              "  </div>\n",
              "  "
            ]
          },
          "metadata": {},
          "execution_count": 15
        }
      ]
    },
    {
      "cell_type": "code",
      "source": [
        "y_train_0"
      ],
      "metadata": {
        "colab": {
          "base_uri": "https://localhost:8080/",
          "height": 455
        },
        "id": "o_7JNo-aII09",
        "outputId": "d6f1d98d-e086-4231-c9db-1220eb476d03"
      },
      "execution_count": null,
      "outputs": [
        {
          "output_type": "execute_result",
          "data": {
            "text/plain": [
              "       Target -1  Target 0  Target 1\n",
              "ID                                  \n",
              "0              0         0         1\n",
              "1              1         0         0\n",
              "2              0         0         1\n",
              "3              1         0         0\n",
              "4              0         1         0\n",
              "...          ...       ...       ...\n",
              "11195          1         0         0\n",
              "11196          1         0         0\n",
              "11197          0         1         0\n",
              "11198          1         0         0\n",
              "11199          0         0         1\n",
              "\n",
              "[11200 rows x 3 columns]"
            ],
            "text/html": [
              "\n",
              "  <div id=\"df-02cbd922-704d-4b5d-af65-81eea300eb71\">\n",
              "    <div class=\"colab-df-container\">\n",
              "      <div>\n",
              "<style scoped>\n",
              "    .dataframe tbody tr th:only-of-type {\n",
              "        vertical-align: middle;\n",
              "    }\n",
              "\n",
              "    .dataframe tbody tr th {\n",
              "        vertical-align: top;\n",
              "    }\n",
              "\n",
              "    .dataframe thead th {\n",
              "        text-align: right;\n",
              "    }\n",
              "</style>\n",
              "<table border=\"1\" class=\"dataframe\">\n",
              "  <thead>\n",
              "    <tr style=\"text-align: right;\">\n",
              "      <th></th>\n",
              "      <th>Target -1</th>\n",
              "      <th>Target 0</th>\n",
              "      <th>Target 1</th>\n",
              "    </tr>\n",
              "    <tr>\n",
              "      <th>ID</th>\n",
              "      <th></th>\n",
              "      <th></th>\n",
              "      <th></th>\n",
              "    </tr>\n",
              "  </thead>\n",
              "  <tbody>\n",
              "    <tr>\n",
              "      <th>0</th>\n",
              "      <td>0</td>\n",
              "      <td>0</td>\n",
              "      <td>1</td>\n",
              "    </tr>\n",
              "    <tr>\n",
              "      <th>1</th>\n",
              "      <td>1</td>\n",
              "      <td>0</td>\n",
              "      <td>0</td>\n",
              "    </tr>\n",
              "    <tr>\n",
              "      <th>2</th>\n",
              "      <td>0</td>\n",
              "      <td>0</td>\n",
              "      <td>1</td>\n",
              "    </tr>\n",
              "    <tr>\n",
              "      <th>3</th>\n",
              "      <td>1</td>\n",
              "      <td>0</td>\n",
              "      <td>0</td>\n",
              "    </tr>\n",
              "    <tr>\n",
              "      <th>4</th>\n",
              "      <td>0</td>\n",
              "      <td>1</td>\n",
              "      <td>0</td>\n",
              "    </tr>\n",
              "    <tr>\n",
              "      <th>...</th>\n",
              "      <td>...</td>\n",
              "      <td>...</td>\n",
              "      <td>...</td>\n",
              "    </tr>\n",
              "    <tr>\n",
              "      <th>11195</th>\n",
              "      <td>1</td>\n",
              "      <td>0</td>\n",
              "      <td>0</td>\n",
              "    </tr>\n",
              "    <tr>\n",
              "      <th>11196</th>\n",
              "      <td>1</td>\n",
              "      <td>0</td>\n",
              "      <td>0</td>\n",
              "    </tr>\n",
              "    <tr>\n",
              "      <th>11197</th>\n",
              "      <td>0</td>\n",
              "      <td>1</td>\n",
              "      <td>0</td>\n",
              "    </tr>\n",
              "    <tr>\n",
              "      <th>11198</th>\n",
              "      <td>1</td>\n",
              "      <td>0</td>\n",
              "      <td>0</td>\n",
              "    </tr>\n",
              "    <tr>\n",
              "      <th>11199</th>\n",
              "      <td>0</td>\n",
              "      <td>0</td>\n",
              "      <td>1</td>\n",
              "    </tr>\n",
              "  </tbody>\n",
              "</table>\n",
              "<p>11200 rows × 3 columns</p>\n",
              "</div>\n",
              "      <button class=\"colab-df-convert\" onclick=\"convertToInteractive('df-02cbd922-704d-4b5d-af65-81eea300eb71')\"\n",
              "              title=\"Convert this dataframe to an interactive table.\"\n",
              "              style=\"display:none;\">\n",
              "        \n",
              "  <svg xmlns=\"http://www.w3.org/2000/svg\" height=\"24px\"viewBox=\"0 0 24 24\"\n",
              "       width=\"24px\">\n",
              "    <path d=\"M0 0h24v24H0V0z\" fill=\"none\"/>\n",
              "    <path d=\"M18.56 5.44l.94 2.06.94-2.06 2.06-.94-2.06-.94-.94-2.06-.94 2.06-2.06.94zm-11 1L8.5 8.5l.94-2.06 2.06-.94-2.06-.94L8.5 2.5l-.94 2.06-2.06.94zm10 10l.94 2.06.94-2.06 2.06-.94-2.06-.94-.94-2.06-.94 2.06-2.06.94z\"/><path d=\"M17.41 7.96l-1.37-1.37c-.4-.4-.92-.59-1.43-.59-.52 0-1.04.2-1.43.59L10.3 9.45l-7.72 7.72c-.78.78-.78 2.05 0 2.83L4 21.41c.39.39.9.59 1.41.59.51 0 1.02-.2 1.41-.59l7.78-7.78 2.81-2.81c.8-.78.8-2.07 0-2.86zM5.41 20L4 18.59l7.72-7.72 1.47 1.35L5.41 20z\"/>\n",
              "  </svg>\n",
              "      </button>\n",
              "      \n",
              "  <style>\n",
              "    .colab-df-container {\n",
              "      display:flex;\n",
              "      flex-wrap:wrap;\n",
              "      gap: 12px;\n",
              "    }\n",
              "\n",
              "    .colab-df-convert {\n",
              "      background-color: #E8F0FE;\n",
              "      border: none;\n",
              "      border-radius: 50%;\n",
              "      cursor: pointer;\n",
              "      display: none;\n",
              "      fill: #1967D2;\n",
              "      height: 32px;\n",
              "      padding: 0 0 0 0;\n",
              "      width: 32px;\n",
              "    }\n",
              "\n",
              "    .colab-df-convert:hover {\n",
              "      background-color: #E2EBFA;\n",
              "      box-shadow: 0px 1px 2px rgba(60, 64, 67, 0.3), 0px 1px 3px 1px rgba(60, 64, 67, 0.15);\n",
              "      fill: #174EA6;\n",
              "    }\n",
              "\n",
              "    [theme=dark] .colab-df-convert {\n",
              "      background-color: #3B4455;\n",
              "      fill: #D2E3FC;\n",
              "    }\n",
              "\n",
              "    [theme=dark] .colab-df-convert:hover {\n",
              "      background-color: #434B5C;\n",
              "      box-shadow: 0px 1px 3px 1px rgba(0, 0, 0, 0.15);\n",
              "      filter: drop-shadow(0px 1px 2px rgba(0, 0, 0, 0.3));\n",
              "      fill: #FFFFFF;\n",
              "    }\n",
              "  </style>\n",
              "\n",
              "      <script>\n",
              "        const buttonEl =\n",
              "          document.querySelector('#df-02cbd922-704d-4b5d-af65-81eea300eb71 button.colab-df-convert');\n",
              "        buttonEl.style.display =\n",
              "          google.colab.kernel.accessAllowed ? 'block' : 'none';\n",
              "\n",
              "        async function convertToInteractive(key) {\n",
              "          const element = document.querySelector('#df-02cbd922-704d-4b5d-af65-81eea300eb71');\n",
              "          const dataTable =\n",
              "            await google.colab.kernel.invokeFunction('convertToInteractive',\n",
              "                                                     [key], {});\n",
              "          if (!dataTable) return;\n",
              "\n",
              "          const docLinkHtml = 'Like what you see? Visit the ' +\n",
              "            '<a target=\"_blank\" href=https://colab.research.google.com/notebooks/data_table.ipynb>data table notebook</a>'\n",
              "            + ' to learn more about interactive tables.';\n",
              "          element.innerHTML = '';\n",
              "          dataTable['output_type'] = 'display_data';\n",
              "          await google.colab.output.renderOutput(dataTable, element);\n",
              "          const docLink = document.createElement('div');\n",
              "          docLink.innerHTML = docLinkHtml;\n",
              "          element.appendChild(docLink);\n",
              "        }\n",
              "      </script>\n",
              "    </div>\n",
              "  </div>\n",
              "  "
            ]
          },
          "metadata": {},
          "execution_count": 16
        }
      ]
    },
    {
      "cell_type": "code",
      "source": [
        "y_train_0 = y_train_0.idxmax(axis=1)\n",
        "y_train_0"
      ],
      "metadata": {
        "colab": {
          "base_uri": "https://localhost:8080/"
        },
        "id": "0AOe0xet4bSg",
        "outputId": "9e68d217-753c-4aaf-a444-7d537ac28967"
      },
      "execution_count": null,
      "outputs": [
        {
          "output_type": "execute_result",
          "data": {
            "text/plain": [
              "ID\n",
              "0         Target 1\n",
              "1        Target -1\n",
              "2         Target 1\n",
              "3        Target -1\n",
              "4         Target 0\n",
              "           ...    \n",
              "11195    Target -1\n",
              "11196    Target -1\n",
              "11197     Target 0\n",
              "11198    Target -1\n",
              "11199     Target 1\n",
              "Length: 11200, dtype: object"
            ]
          },
          "metadata": {},
          "execution_count": 17
        }
      ]
    },
    {
      "cell_type": "code",
      "source": [
        "y_test_0 = y_test_0.idxmax(axis=1)\n",
        "y_test_0"
      ],
      "metadata": {
        "colab": {
          "base_uri": "https://localhost:8080/"
        },
        "id": "baOggV1r42-s",
        "outputId": "5e648584-fa23-4c73-d52d-b6b19c24a228"
      },
      "execution_count": null,
      "outputs": [
        {
          "output_type": "execute_result",
          "data": {
            "text/plain": [
              "ID\n",
              "11200    Target 1\n",
              "11201    Target 1\n",
              "11202    Target 0\n",
              "11203    Target 0\n",
              "11204    Target 0\n",
              "           ...   \n",
              "13995    Target 1\n",
              "13996    Target 0\n",
              "13997    Target 0\n",
              "13998    Target 1\n",
              "13999    Target 0\n",
              "Length: 2800, dtype: object"
            ]
          },
          "metadata": {},
          "execution_count": 18
        }
      ]
    },
    {
      "cell_type": "code",
      "source": [
        "model_0 = LogisticRegression(multi_class='multinomial', random_state=1)"
      ],
      "metadata": {
        "id": "RCCmUlbR1yPx"
      },
      "execution_count": null,
      "outputs": []
    },
    {
      "cell_type": "code",
      "source": [
        "model_0"
      ],
      "metadata": {
        "colab": {
          "base_uri": "https://localhost:8080/"
        },
        "id": "AX6I3YOnOA1E",
        "outputId": "76bfde37-4f37-46b1-c114-969e89069e0e"
      },
      "execution_count": null,
      "outputs": [
        {
          "output_type": "execute_result",
          "data": {
            "text/plain": [
              "LogisticRegression(multi_class='multinomial', random_state=1)"
            ]
          },
          "metadata": {},
          "execution_count": 20
        }
      ]
    },
    {
      "cell_type": "code",
      "source": [
        "model_0.fit(X_train_0, y_train_0 )"
      ],
      "metadata": {
        "colab": {
          "base_uri": "https://localhost:8080/"
        },
        "id": "AHrjeE4N1yNd",
        "outputId": "e26f802b-131f-4eec-9034-2a89eb19c3d3"
      },
      "execution_count": null,
      "outputs": [
        {
          "output_type": "execute_result",
          "data": {
            "text/plain": [
              "LogisticRegression(multi_class='multinomial', random_state=1)"
            ]
          },
          "metadata": {},
          "execution_count": 21
        }
      ]
    },
    {
      "cell_type": "code",
      "source": [
        "y_pred_0 = model_0.predict(X_test_0)"
      ],
      "metadata": {
        "id": "O4q32k1J1yLJ"
      },
      "execution_count": null,
      "outputs": []
    },
    {
      "cell_type": "code",
      "source": [
        "(y_pred_0 == y_test_0).sum() / len(y_pred_0)"
      ],
      "metadata": {
        "colab": {
          "base_uri": "https://localhost:8080/"
        },
        "id": "dpulvfSw1yIu",
        "outputId": "e7339f0c-e94a-40c6-f4f5-fbed401c95d0"
      },
      "execution_count": null,
      "outputs": [
        {
          "output_type": "execute_result",
          "data": {
            "text/plain": [
              "0.3914285714285714"
            ]
          },
          "metadata": {},
          "execution_count": 23
        }
      ]
    },
    {
      "cell_type": "code",
      "source": [
        "from sklearn.metrics import classification_report\n",
        "print(classification_report(y_test_0, y_pred_0))"
      ],
      "metadata": {
        "colab": {
          "base_uri": "https://localhost:8080/"
        },
        "id": "tlJD5hYd1yGU",
        "outputId": "de2531bf-05ac-407b-a9fc-85464204d718"
      },
      "execution_count": null,
      "outputs": [
        {
          "output_type": "stream",
          "name": "stdout",
          "text": [
            "              precision    recall  f1-score   support\n",
            "\n",
            "   Target -1       0.40      0.26      0.32       869\n",
            "    Target 0       0.39      0.44      0.41       985\n",
            "    Target 1       0.39      0.46      0.42       946\n",
            "\n",
            "    accuracy                           0.39      2800\n",
            "   macro avg       0.39      0.39      0.38      2800\n",
            "weighted avg       0.39      0.39      0.39      2800\n",
            "\n"
          ]
        }
      ]
    },
    {
      "cell_type": "code",
      "source": [
        "from sklearn.metrics import ConfusionMatrixDisplay"
      ],
      "metadata": {
        "id": "1pOr7LWI1yDk"
      },
      "execution_count": null,
      "outputs": []
    },
    {
      "cell_type": "code",
      "source": [
        "ConfusionMatrixDisplay.from_predictions(y_test_0, y_pred_0)"
      ],
      "metadata": {
        "colab": {
          "base_uri": "https://localhost:8080/",
          "height": 296
        },
        "id": "ZCFn_Ufu1x7m",
        "outputId": "4668276f-1dc7-4d85-efaf-df01a96bf9a4"
      },
      "execution_count": null,
      "outputs": [
        {
          "output_type": "execute_result",
          "data": {
            "text/plain": [
              "<sklearn.metrics._plot.confusion_matrix.ConfusionMatrixDisplay at 0x7fa932cbb510>"
            ]
          },
          "metadata": {},
          "execution_count": 26
        },
        {
          "output_type": "display_data",
          "data": {
            "text/plain": [
              "<Figure size 432x288 with 2 Axes>"
            ],
            "image/png": "[encoded data removed]"
          },
          "metadata": {
            "needs_background": "light"
          }
        }
      ]
    },
    {
      "cell_type": "code",
      "source": [
        "from sklearn.metrics import log_loss"
      ],
      "metadata": {
        "id": "vFAcWW8vJxse"
      },
      "execution_count": null,
      "outputs": []
    },
    {
      "cell_type": "code",
      "source": [
        "# Otra salida útil del modelo\n",
        "model_0.predict_proba(X_test_0)"
      ],
      "metadata": {
        "colab": {
          "base_uri": "https://localhost:8080/"
        },
        "id": "IyKzDrQ5Kh4D",
        "outputId": "7eef5853-5905-46ec-82ad-be0153b385e1"
      },
      "execution_count": null,
      "outputs": [
        {
          "output_type": "execute_result",
          "data": {
            "text/plain": [
              "array([[0.33511418, 0.36160748, 0.30327834],\n",
              "       [0.32165475, 0.32061938, 0.35772587],\n",
              "       [0.32411655, 0.35737579, 0.31850767],\n",
              "       ...,\n",
              "       [0.37148466, 0.34819785, 0.28031748],\n",
              "       [0.3457555 , 0.35425792, 0.29998658],\n",
              "       [0.31150756, 0.33277062, 0.35572182]])"
            ]
          },
          "metadata": {},
          "execution_count": 28
        }
      ]
    },
    {
      "cell_type": "code",
      "source": [
        "y_test_0"
      ],
      "metadata": {
        "colab": {
          "base_uri": "https://localhost:8080/"
        },
        "id": "Q3iszsDTPFTr",
        "outputId": "0fee9dbc-cce7-489b-d6e4-5a8f35a92f72"
      },
      "execution_count": null,
      "outputs": [
        {
          "output_type": "execute_result",
          "data": {
            "text/plain": [
              "ID\n",
              "11200    Target 1\n",
              "11201    Target 1\n",
              "11202    Target 0\n",
              "11203    Target 0\n",
              "11204    Target 0\n",
              "           ...   \n",
              "13995    Target 1\n",
              "13996    Target 0\n",
              "13997    Target 0\n",
              "13998    Target 1\n",
              "13999    Target 0\n",
              "Length: 2800, dtype: object"
            ]
          },
          "metadata": {},
          "execution_count": 29
        }
      ]
    },
    {
      "cell_type": "code",
      "source": [
        "log_loss(y_test_0, model_0.predict_proba(X_test_0))"
      ],
      "metadata": {
        "colab": {
          "base_uri": "https://localhost:8080/"
        },
        "id": "LaZDE91CJ1Yp",
        "outputId": "e16a9173-8dc1-42b6-fbd2-88c8ad977ddd"
      },
      "execution_count": null,
      "outputs": [
        {
          "output_type": "execute_result",
          "data": {
            "text/plain": [
              "1.0933753077377295"
            ]
          },
          "metadata": {},
          "execution_count": 31
        }
      ]
    },
    {
      "cell_type": "markdown",
      "source": [
        "## Redes Neuronales"
      ],
      "metadata": {
        "id": "HtIZY1aI8il-"
      }
    },
    {
      "cell_type": "markdown",
      "source": [
        "### Callbacks"
      ],
      "metadata": {
        "id": "uOph68NN8xcn"
      }
    },
    {
      "cell_type": "code",
      "source": [
        "# Los guarda en GoogleDrive, si no se quiere hacer la conexión, entonces cambiar la ruta o quitar el callback\n",
        "# checkpoint_cb = keras.callbacks.ModelCheckpoint(\n",
        "#     filepath = 'checkpoints', \n",
        "#     save_best_only = True\n",
        "# )\n",
        "\n",
        "earlystop_cb = keras.callbacks.EarlyStopping(\n",
        "    patience = 25, \n",
        "    restore_best_weights = True\n",
        ")"
      ],
      "metadata": {
        "id": "y43mqM-dMTXm"
      },
      "execution_count": null,
      "outputs": []
    },
    {
      "cell_type": "markdown",
      "source": [
        "### Primera Aquitectura"
      ],
      "metadata": {
        "id": "iSTqABok8o6W"
      }
    },
    {
      "cell_type": "markdown",
      "source": [
        "#### Aquitectura"
      ],
      "metadata": {
        "id": "qVpiKL0s84gj"
      }
    },
    {
      "cell_type": "code",
      "source": [
        "price_input = layers.Input(shape = (len_prices, 1), name = 'price_input')\n",
        "price_normalization = layers.Normalization(name = 'price_normalization', axis = 1)\n",
        "price_lstm = layers.LSTM(16, name = 'price', \n",
        "                         kernel_regularizer=keras.regularizers.l1_l2(l1 = 1e-5, l2 = 1e-4),\n",
        "                         return_state=True, \n",
        "                         )\n",
        "\n",
        "price_normalized = price_normalization(price_input)\n",
        "price_output, price_h, price_c = price_lstm(price_normalized)\n",
        "\n",
        "sentiment_input = layers.Input(shape = (len_features, n_features), name = 'sentiment_input')\n",
        "sentiment_normalization = layers.Normalization(name = 'sentiment_normalization', axis = 1)\n",
        "sentiment_lstm = layers.LSTM(16, \n",
        "                             name = 'sentiment', \n",
        "                             kernel_regularizer=keras.regularizers.l1_l2(l1 = 1e-5, l2 = 1e-3), \n",
        "                             dropout = .3\n",
        "                             )\n",
        "\n",
        "sentiment_normalized = sentiment_normalization(sentiment_input)\n",
        "sentiment_output = sentiment_lstm(sentiment_normalized, initial_state = [price_h, price_c])\n",
        "\n",
        "fusion = layers.Concatenate(name = 'fusion')([sentiment_output, price_output])\n",
        "\n",
        "\n",
        "prediction_layer = keras.models.Sequential(\n",
        "    [\n",
        "     layers.Dense(32, activation = 'sigmoid'), \n",
        "     layers.Dense(32, activation = 'sigmoid'), \n",
        "     layers.Dense(32, activation = 'sigmoid'), \n",
        "     layers.Dense(3, activation = 'softmax')\n",
        "    ], \n",
        "    name = 'prediction'\n",
        ")\n",
        "prediction_output = prediction_layer(fusion)\n"
      ],
      "metadata": {
        "id": "RoNA7N2J2kZo"
      },
      "execution_count": null,
      "outputs": []
    },
    {
      "cell_type": "markdown",
      "source": [
        "#### Modelo"
      ],
      "metadata": {
        "id": "uSxbBiV09FId"
      }
    },
    {
      "cell_type": "code",
      "source": [
        "\n",
        "model = keras.Model([price_input, sentiment_input], prediction_output)\n",
        "\n",
        "model.compile(\n",
        "    loss = 'categorical_crossentropy'\n",
        ")\n",
        "\n",
        "model.summary()"
      ],
      "metadata": {
        "colab": {
          "base_uri": "https://localhost:8080/"
        },
        "id": "sZwINhfBLOrp",
        "outputId": "35046ba4-5f70-4a23-ca67-73b1eca3217d"
      },
      "execution_count": null,
      "outputs": [
        {
          "output_type": "stream",
          "name": "stdout",
          "text": [
            "Model: \"model\"\n",
            "__________________________________________________________________________________________________\n",
            " Layer (type)                   Output Shape         Param #     Connected to                     \n",
            "==================================================================================================\n",
            " price_input (InputLayer)       [(None, 5, 1)]       0           []                               \n",
            "                                                                                                  \n",
            " sentiment_input (InputLayer)   [(None, 48, 10)]     0           []                               \n",
            "                                                                                                  \n",
            " price_normalization (Normaliza  (None, 5, 1)        11          ['price_input[0][0]']            \n",
            " tion)                                                                                            \n",
            "                                                                                                  \n",
            " sentiment_normalization (Norma  (None, 48, 10)      97          ['sentiment_input[0][0]']        \n",
            " lization)                                                                                        \n",
            "                                                                                                  \n",
            " price (LSTM)                   [(None, 16),         1152        ['price_normalization[0][0]']    \n",
            "                                 (None, 16),                                                      \n",
            "                                 (None, 16)]                                                      \n",
            "                                                                                                  \n",
            " sentiment (LSTM)               (None, 16)           1728        ['sentiment_normalization[0][0]',\n",
            "                                                                  'price[0][1]',                  \n",
            "                                                                  'price[0][2]']                  \n",
            "                                                                                                  \n",
            " fusion (Concatenate)           (None, 32)           0           ['sentiment[0][0]',              \n",
            "                                                                  'price[0][0]']                  \n",
            "                                                                                                  \n",
            " prediction (Sequential)        (None, 3)            3267        ['fusion[0][0]']                 \n",
            "                                                                                                  \n",
            "==================================================================================================\n",
            "Total params: 6,255\n",
            "Trainable params: 6,147\n",
            "Non-trainable params: 108\n",
            "__________________________________________________________________________________________________\n"
          ]
        }
      ]
    },
    {
      "cell_type": "markdown",
      "source": [
        "##### Visualización"
      ],
      "metadata": {
        "id": "TZOU1FjI9G4E"
      }
    },
    {
      "cell_type": "code",
      "source": [
        "keras.utils.plot_model( \n",
        "    model,\n",
        "    to_file=\"model.png\",\n",
        "    show_shapes=True,\n",
        "    show_dtype=False,\n",
        "    show_layer_names=True,\n",
        "    rankdir=\"TD\",\n",
        "    dpi=180,\n",
        ")"
      ],
      "metadata": {
        "colab": {
          "base_uri": "https://localhost:8080/",
          "height": 448
        },
        "id": "sJ-Ge0skLY0a",
        "outputId": "e189cec0-2495-4f05-d4dd-f175b216f3b9"
      },
      "execution_count": null,
      "outputs": [
        {
          "output_type": "execute_result",
          "data": {
            "text/plain": [
              "<IPython.core.display.Image object>"
            ],
            "image/png": "[encoded data removed]"
          },
          "metadata": {},
          "execution_count": 24
        }
      ]
    },
    {
      "cell_type": "markdown",
      "source": [
        "#### Entrenamiento"
      ],
      "metadata": {
        "id": "Op_r0jcC9J24"
      }
    },
    {
      "cell_type": "code",
      "source": [
        "history = model.fit(\n",
        "    [train_prices, train_features], y_train, \n",
        "    epochs = 30,  # Valor real de 1000 \n",
        "    callbacks = [earlystop_cb], \n",
        "    validation_data = [[val_prices, val_features], y_val]\n",
        ").history"
      ],
      "metadata": {
        "colab": {
          "base_uri": "https://localhost:8080/"
        },
        "id": "jkOOKs_pLosa",
        "outputId": "1eb92027-ad37-491b-87f5-9c6ca0cdf3d5"
      },
      "execution_count": null,
      "outputs": [
        {
          "output_type": "stream",
          "name": "stdout",
          "text": [
            "Epoch 1/30\n",
            "263/263 [==============================] - 6s 21ms/step - loss: 1.0210 - val_loss: 1.0242\n",
            "Epoch 2/30\n",
            "263/263 [==============================] - 5s 20ms/step - loss: 1.0224 - val_loss: 1.0256\n",
            "Epoch 3/30\n",
            "263/263 [==============================] - 5s 20ms/step - loss: 1.0213 - val_loss: 1.0243\n",
            "Epoch 4/30\n",
            "263/263 [==============================] - 6s 21ms/step - loss: 1.0205 - val_loss: 1.0236\n",
            "Epoch 5/30\n",
            "263/263 [==============================] - 5s 21ms/step - loss: 1.0194 - val_loss: 1.0256\n",
            "Epoch 6/30\n",
            "263/263 [==============================] - 5s 20ms/step - loss: 1.0182 - val_loss: 1.0245\n",
            "Epoch 7/30\n",
            "263/263 [==============================] - 5s 21ms/step - loss: 1.0190 - val_loss: 1.0270\n",
            "Epoch 8/30\n",
            "263/263 [==============================] - 6s 21ms/step - loss: 1.0164 - val_loss: 1.0239\n",
            "Epoch 9/30\n",
            "263/263 [==============================] - 6s 21ms/step - loss: 1.0193 - val_loss: 1.0401\n",
            "Epoch 10/30\n",
            "263/263 [==============================] - 5s 19ms/step - loss: 1.0176 - val_loss: 1.0355\n",
            "Epoch 11/30\n",
            "263/263 [==============================] - 4s 17ms/step - loss: 1.0172 - val_loss: 1.0263\n",
            "Epoch 12/30\n",
            "263/263 [==============================] - 4s 17ms/step - loss: 1.0151 - val_loss: 1.0300\n",
            "Epoch 13/30\n",
            "263/263 [==============================] - 5s 17ms/step - loss: 1.0126 - val_loss: 1.0325\n",
            "Epoch 14/30\n",
            "263/263 [==============================] - 5s 17ms/step - loss: 1.0163 - val_loss: 1.0259\n",
            "Epoch 15/30\n",
            "263/263 [==============================] - 5s 17ms/step - loss: 1.0154 - val_loss: 1.0257\n",
            "Epoch 16/30\n",
            "263/263 [==============================] - 4s 17ms/step - loss: 1.0134 - val_loss: 1.0276\n",
            "Epoch 17/30\n",
            "263/263 [==============================] - 5s 17ms/step - loss: 1.0119 - val_loss: 1.0357\n",
            "Epoch 18/30\n",
            "263/263 [==============================] - 4s 17ms/step - loss: 1.0126 - val_loss: 1.0322\n",
            "Epoch 19/30\n",
            "263/263 [==============================] - 4s 17ms/step - loss: 1.0155 - val_loss: 1.0294\n",
            "Epoch 20/30\n",
            "263/263 [==============================] - 4s 17ms/step - loss: 1.0102 - val_loss: 1.0325\n",
            "Epoch 21/30\n",
            "263/263 [==============================] - 4s 17ms/step - loss: 1.0111 - val_loss: 1.0407\n",
            "Epoch 22/30\n",
            "263/263 [==============================] - 5s 18ms/step - loss: 1.0104 - val_loss: 1.0495\n",
            "Epoch 23/30\n",
            "263/263 [==============================] - 4s 17ms/step - loss: 1.0127 - val_loss: 1.0341\n",
            "Epoch 24/30\n",
            "263/263 [==============================] - 4s 17ms/step - loss: 1.0123 - val_loss: 1.0540\n",
            "Epoch 25/30\n",
            "263/263 [==============================] - 4s 17ms/step - loss: 1.0090 - val_loss: 1.0456\n",
            "Epoch 26/30\n",
            "263/263 [==============================] - 5s 19ms/step - loss: 1.0097 - val_loss: 1.0350\n",
            "Epoch 27/30\n",
            "263/263 [==============================] - 5s 19ms/step - loss: 1.0071 - val_loss: 1.0344\n",
            "Epoch 28/30\n",
            "263/263 [==============================] - 4s 17ms/step - loss: 1.0068 - val_loss: 1.0387\n",
            "Epoch 29/30\n",
            "263/263 [==============================] - 5s 17ms/step - loss: 1.0092 - val_loss: 1.0375\n"
          ]
        }
      ]
    },
    {
      "cell_type": "markdown",
      "source": [
        "##### Visualización"
      ],
      "metadata": {
        "id": "1MMSErL09Lde"
      }
    },
    {
      "cell_type": "code",
      "source": [
        "x = list(range(len(history['loss'])))\n",
        "\n",
        "fig = go.Figure()\n",
        "\n",
        "fig.add_trace(go.Scatter(x = x, y = history['loss'])) \\\n",
        "   .add_trace(go.Scatter(x = x, y = history['val_loss']))\n",
        "\n",
        "fig.show()"
      ],
      "metadata": {
        "colab": {
          "base_uri": "https://localhost:8080/",
          "height": 542
        },
        "id": "U0VeDdOhTAPd",
        "outputId": "852b953e-1025-412c-ea77-dfde52ef029d"
      },
      "execution_count": null,
      "outputs": [
        {
          "output_type": "display_data",
          "data": {
            "text/html": [
              "<html>\n",
              "<head><meta charset=\"utf-8\" /></head>\n",
              "<body>\n",
              "    <div>            <script src=\"https://cdnjs.cloudflare.com/ajax/libs/mathjax/2.7.5/MathJax.js?config=TeX-AMS-MML_SVG\"></script><script type=\"text/javascript\">if (window.MathJax) {MathJax.Hub.Config({SVG: {font: \"STIX-Web\"}});}</script>                <script type=\"text/javascript\">window.PlotlyConfig = {MathJaxConfig: 'local'};</script>\n",
              "        <script src=\"https://cdn.plot.ly/plotly-2.8.3.min.js\"></script>                <div id=\"a3a107b8-68cd-4a16-9423-ed2f3587c20d\" class=\"plotly-graph-div\" style=\"height:525px; width:100%;\"></div>            <script type=\"text/javascript\">                                    window.PLOTLYENV=window.PLOTLYENV || {};                                    if (document.getElementById(\"a3a107b8-68cd-4a16-9423-ed2f3587c20d\")) {                    Plotly.newPlot(                        \"a3a107b8-68cd-4a16-9423-ed2f3587c20d\",                        [{\"x\":[0,1,2,3,4,5,6,7,8,9,10,11,12,13,14,15,16,17,18,19,20,21,22,23,24,25,26,27,28],\"y\":[1.021038293838501,1.022416353225708,1.0213145017623901,1.0204914808273315,1.0194406509399414,1.0182430744171143,1.018995761871338,1.0164463520050049,1.019304633140564,1.0175591707229614,1.0172154903411865,1.015067458152771,1.0126084089279175,1.0162771940231323,1.015352725982666,1.013405442237854,1.011898398399353,1.0126323699951172,1.0154591798782349,1.0101642608642578,1.011113166809082,1.010398507118225,1.012676477432251,1.0123153924942017,1.0090092420578003,1.0097414255142212,1.0071496963500977,1.006794810295105,1.0092447996139526],\"type\":\"scatter\"},{\"x\":[0,1,2,3,4,5,6,7,8,9,10,11,12,13,14,15,16,17,18,19,20,21,22,23,24,25,26,27,28],\"y\":[1.0241931676864624,1.0256454944610596,1.0243414640426636,1.0235815048217773,1.025619387626648,1.0245451927185059,1.0269845724105835,1.0238869190216064,1.0401252508163452,1.0355112552642822,1.0262796878814697,1.0299502611160278,1.0324822664260864,1.025949239730835,1.0256633758544922,1.0276098251342773,1.0357418060302734,1.032222867012024,1.0293564796447754,1.032485842704773,1.0406863689422607,1.0494529008865356,1.034101128578186,1.0539661645889282,1.0456411838531494,1.03496253490448,1.034362554550171,1.0387331247329712,1.037466049194336],\"type\":\"scatter\"}],                        {\"template\":{\"data\":{\"bar\":[{\"error_x\":{\"color\":\"#2a3f5f\"},\"error_y\":{\"color\":\"#2a3f5f\"},\"marker\":{\"line\":{\"color\":\"#E5ECF6\",\"width\":0.5},\"pattern\":{\"fillmode\":\"overlay\",\"size\":10,\"solidity\":0.2}},\"type\":\"bar\"}],\"barpolar\":[{\"marker\":{\"line\":{\"color\":\"#E5ECF6\",\"width\":0.5},\"pattern\":{\"fillmode\":\"overlay\",\"size\":10,\"solidity\":0.2}},\"type\":\"barpolar\"}],\"carpet\":[{\"aaxis\":{\"endlinecolor\":\"#2a3f5f\",\"gridcolor\":\"white\",\"linecolor\":\"white\",\"minorgridcolor\":\"white\",\"startlinecolor\":\"#2a3f5f\"},\"baxis\":{\"endlinecolor\":\"#2a3f5f\",\"gridcolor\":\"white\",\"linecolor\":\"white\",\"minorgridcolor\":\"white\",\"startlinecolor\":\"#2a3f5f\"},\"type\":\"carpet\"}],\"choropleth\":[{\"colorbar\":{\"outlinewidth\":0,\"ticks\":\"\"},\"type\":\"choropleth\"}],\"contour\":[{\"colorbar\":{\"outlinewidth\":0,\"ticks\":\"\"},\"colorscale\":[[0.0,\"#0d0887\"],[0.1111111111111111,\"#46039f\"],[0.2222222222222222,\"#7201a8\"],[0.3333333333333333,\"#9c179e\"],[0.4444444444444444,\"#bd3786\"],[0.5555555555555556,\"#d8576b\"],[0.6666666666666666,\"#ed7953\"],[0.7777777777777778,\"#fb9f3a\"],[0.8888888888888888,\"#fdca26\"],[1.0,\"#f0f921\"]],\"type\":\"contour\"}],\"contourcarpet\":[{\"colorbar\":{\"outlinewidth\":0,\"ticks\":\"\"},\"type\":\"contourcarpet\"}],\"heatmap\":[{\"colorbar\":{\"outlinewidth\":0,\"ticks\":\"\"},\"colorscale\":[[0.0,\"#0d0887\"],[0.1111111111111111,\"#46039f\"],[0.2222222222222222,\"#7201a8\"],[0.3333333333333333,\"#9c179e\"],[0.4444444444444444,\"#bd3786\"],[0.5555555555555556,\"#d8576b\"],[0.6666666666666666,\"#ed7953\"],[0.7777777777777778,\"#fb9f3a\"],[0.8888888888888888,\"#fdca26\"],[1.0,\"#f0f921\"]],\"type\":\"heatmap\"}],\"heatmapgl\":[{\"colorbar\":{\"outlinewidth\":0,\"ticks\":\"\"},\"colorscale\":[[0.0,\"#0d0887\"],[0.1111111111111111,\"#46039f\"],[0.2222222222222222,\"#7201a8\"],[0.3333333333333333,\"#9c179e\"],[0.4444444444444444,\"#bd3786\"],[0.5555555555555556,\"#d8576b\"],[0.6666666666666666,\"#ed7953\"],[0.7777777777777778,\"#fb9f3a\"],[0.8888888888888888,\"#fdca26\"],[1.0,\"#f0f921\"]],\"type\":\"heatmapgl\"}],\"histogram\":[{\"marker\":{\"pattern\":{\"fillmode\":\"overlay\",\"size\":10,\"solidity\":0.2}},\"type\":\"histogram\"}],\"histogram2d\":[{\"colorbar\":{\"outlinewidth\":0,\"ticks\":\"\"},\"colorscale\":[[0.0,\"#0d0887\"],[0.1111111111111111,\"#46039f\"],[0.2222222222222222,\"#7201a8\"],[0.3333333333333333,\"#9c179e\"],[0.4444444444444444,\"#bd3786\"],[0.5555555555555556,\"#d8576b\"],[0.6666666666666666,\"#ed7953\"],[0.7777777777777778,\"#fb9f3a\"],[0.8888888888888888,\"#fdca26\"],[1.0,\"#f0f921\"]],\"type\":\"histogram2d\"}],\"histogram2dcontour\":[{\"colorbar\":{\"outlinewidth\":0,\"ticks\":\"\"},\"colorscale\":[[0.0,\"#0d0887\"],[0.1111111111111111,\"#46039f\"],[0.2222222222222222,\"#7201a8\"],[0.3333333333333333,\"#9c179e\"],[0.4444444444444444,\"#bd3786\"],[0.5555555555555556,\"#d8576b\"],[0.6666666666666666,\"#ed7953\"],[0.7777777777777778,\"#fb9f3a\"],[0.8888888888888888,\"#fdca26\"],[1.0,\"#f0f921\"]],\"type\":\"histogram2dcontour\"}],\"mesh3d\":[{\"colorbar\":{\"outlinewidth\":0,\"ticks\":\"\"},\"type\":\"mesh3d\"}],\"parcoords\":[{\"line\":{\"colorbar\":{\"outlinewidth\":0,\"ticks\":\"\"}},\"type\":\"parcoords\"}],\"pie\":[{\"automargin\":true,\"type\":\"pie\"}],\"scatter\":[{\"marker\":{\"colorbar\":{\"outlinewidth\":0,\"ticks\":\"\"}},\"type\":\"scatter\"}],\"scatter3d\":[{\"line\":{\"colorbar\":{\"outlinewidth\":0,\"ticks\":\"\"}},\"marker\":{\"colorbar\":{\"outlinewidth\":0,\"ticks\":\"\"}},\"type\":\"scatter3d\"}],\"scattercarpet\":[{\"marker\":{\"colorbar\":{\"outlinewidth\":0,\"ticks\":\"\"}},\"type\":\"scattercarpet\"}],\"scattergeo\":[{\"marker\":{\"colorbar\":{\"outlinewidth\":0,\"ticks\":\"\"}},\"type\":\"scattergeo\"}],\"scattergl\":[{\"marker\":{\"colorbar\":{\"outlinewidth\":0,\"ticks\":\"\"}},\"type\":\"scattergl\"}],\"scattermapbox\":[{\"marker\":{\"colorbar\":{\"outlinewidth\":0,\"ticks\":\"\"}},\"type\":\"scattermapbox\"}],\"scatterpolar\":[{\"marker\":{\"colorbar\":{\"outlinewidth\":0,\"ticks\":\"\"}},\"type\":\"scatterpolar\"}],\"scatterpolargl\":[{\"marker\":{\"colorbar\":{\"outlinewidth\":0,\"ticks\":\"\"}},\"type\":\"scatterpolargl\"}],\"scatterternary\":[{\"marker\":{\"colorbar\":{\"outlinewidth\":0,\"ticks\":\"\"}},\"type\":\"scatterternary\"}],\"surface\":[{\"colorbar\":{\"outlinewidth\":0,\"ticks\":\"\"},\"colorscale\":[[0.0,\"#0d0887\"],[0.1111111111111111,\"#46039f\"],[0.2222222222222222,\"#7201a8\"],[0.3333333333333333,\"#9c179e\"],[0.4444444444444444,\"#bd3786\"],[0.5555555555555556,\"#d8576b\"],[0.6666666666666666,\"#ed7953\"],[0.7777777777777778,\"#fb9f3a\"],[0.8888888888888888,\"#fdca26\"],[1.0,\"#f0f921\"]],\"type\":\"surface\"}],\"table\":[{\"cells\":{\"fill\":{\"color\":\"#EBF0F8\"},\"line\":{\"color\":\"white\"}},\"header\":{\"fill\":{\"color\":\"#C8D4E3\"},\"line\":{\"color\":\"white\"}},\"type\":\"table\"}]},\"layout\":{\"annotationdefaults\":{\"arrowcolor\":\"#2a3f5f\",\"arrowhead\":0,\"arrowwidth\":1},\"autotypenumbers\":\"strict\",\"coloraxis\":{\"colorbar\":{\"outlinewidth\":0,\"ticks\":\"\"}},\"colorscale\":{\"diverging\":[[0,\"#8e0152\"],[0.1,\"#c51b7d\"],[0.2,\"#de77ae\"],[0.3,\"#f1b6da\"],[0.4,\"#fde0ef\"],[0.5,\"#f7f7f7\"],[0.6,\"#e6f5d0\"],[0.7,\"#b8e186\"],[0.8,\"#7fbc41\"],[0.9,\"#4d9221\"],[1,\"#276419\"]],\"sequential\":[[0.0,\"#0d0887\"],[0.1111111111111111,\"#46039f\"],[0.2222222222222222,\"#7201a8\"],[0.3333333333333333,\"#9c179e\"],[0.4444444444444444,\"#bd3786\"],[0.5555555555555556,\"#d8576b\"],[0.6666666666666666,\"#ed7953\"],[0.7777777777777778,\"#fb9f3a\"],[0.8888888888888888,\"#fdca26\"],[1.0,\"#f0f921\"]],\"sequentialminus\":[[0.0,\"#0d0887\"],[0.1111111111111111,\"#46039f\"],[0.2222222222222222,\"#7201a8\"],[0.3333333333333333,\"#9c179e\"],[0.4444444444444444,\"#bd3786\"],[0.5555555555555556,\"#d8576b\"],[0.6666666666666666,\"#ed7953\"],[0.7777777777777778,\"#fb9f3a\"],[0.8888888888888888,\"#fdca26\"],[1.0,\"#f0f921\"]]},\"colorway\":[\"#636efa\",\"#EF553B\",\"#00cc96\",\"#ab63fa\",\"#FFA15A\",\"#19d3f3\",\"#FF6692\",\"#B6E880\",\"#FF97FF\",\"#FECB52\"],\"font\":{\"color\":\"#2a3f5f\"},\"geo\":{\"bgcolor\":\"white\",\"lakecolor\":\"white\",\"landcolor\":\"#E5ECF6\",\"showlakes\":true,\"showland\":true,\"subunitcolor\":\"white\"},\"hoverlabel\":{\"align\":\"left\"},\"hovermode\":\"closest\",\"mapbox\":{\"style\":\"light\"},\"paper_bgcolor\":\"white\",\"plot_bgcolor\":\"#E5ECF6\",\"polar\":{\"angularaxis\":{\"gridcolor\":\"white\",\"linecolor\":\"white\",\"ticks\":\"\"},\"bgcolor\":\"#E5ECF6\",\"radialaxis\":{\"gridcolor\":\"white\",\"linecolor\":\"white\",\"ticks\":\"\"}},\"scene\":{\"xaxis\":{\"backgroundcolor\":\"#E5ECF6\",\"gridcolor\":\"white\",\"gridwidth\":2,\"linecolor\":\"white\",\"showbackground\":true,\"ticks\":\"\",\"zerolinecolor\":\"white\"},\"yaxis\":{\"backgroundcolor\":\"#E5ECF6\",\"gridcolor\":\"white\",\"gridwidth\":2,\"linecolor\":\"white\",\"showbackground\":true,\"ticks\":\"\",\"zerolinecolor\":\"white\"},\"zaxis\":{\"backgroundcolor\":\"#E5ECF6\",\"gridcolor\":\"white\",\"gridwidth\":2,\"linecolor\":\"white\",\"showbackground\":true,\"ticks\":\"\",\"zerolinecolor\":\"white\"}},\"shapedefaults\":{\"line\":{\"color\":\"#2a3f5f\"}},\"ternary\":{\"aaxis\":{\"gridcolor\":\"white\",\"linecolor\":\"white\",\"ticks\":\"\"},\"baxis\":{\"gridcolor\":\"white\",\"linecolor\":\"white\",\"ticks\":\"\"},\"bgcolor\":\"#E5ECF6\",\"caxis\":{\"gridcolor\":\"white\",\"linecolor\":\"white\",\"ticks\":\"\"}},\"title\":{\"x\":0.05},\"xaxis\":{\"automargin\":true,\"gridcolor\":\"white\",\"linecolor\":\"white\",\"ticks\":\"\",\"title\":{\"standoff\":15},\"zerolinecolor\":\"white\",\"zerolinewidth\":2},\"yaxis\":{\"automargin\":true,\"gridcolor\":\"white\",\"linecolor\":\"white\",\"ticks\":\"\",\"title\":{\"standoff\":15},\"zerolinecolor\":\"white\",\"zerolinewidth\":2}}}},                        {\"responsive\": true}                    ).then(function(){\n",
              "                            \n",
              "var gd = document.getElementById('a3a107b8-68cd-4a16-9423-ed2f3587c20d');\n",
              "var x = new MutationObserver(function (mutations, observer) {{\n",
              "        var display = window.getComputedStyle(gd).display;\n",
              "        if (!display || display === 'none') {{\n",
              "            console.log([gd, 'removed!']);\n",
              "            Plotly.purge(gd);\n",
              "            observer.disconnect();\n",
              "        }}\n",
              "}});\n",
              "\n",
              "// Listen for the removal of the full notebook cells\n",
              "var notebookContainer = gd.closest('#notebook-container');\n",
              "if (notebookContainer) {{\n",
              "    x.observe(notebookContainer, {childList: true});\n",
              "}}\n",
              "\n",
              "// Listen for the clearing of the current output cell\n",
              "var outputEl = gd.closest('.output');\n",
              "if (outputEl) {{\n",
              "    x.observe(outputEl, {childList: true});\n",
              "}}\n",
              "\n",
              "                        })                };                            </script>        </div>\n",
              "</body>\n",
              "</html>"
            ]
          },
          "metadata": {}
        }
      ]
    },
    {
      "cell_type": "markdown",
      "source": [
        "#### Métricas"
      ],
      "metadata": {
        "id": "pZN1xAdq9Plc"
      }
    },
    {
      "cell_type": "code",
      "source": [
        "evaluate_model(model, [[train_prices, train_features], y_train], [[val_prices, val_features], y_val], [[test_prices, test_features], y_test])"
      ],
      "metadata": {
        "colab": {
          "base_uri": "https://localhost:8080/"
        },
        "id": "nSHaBMRB3BFN",
        "outputId": "3118795d-0c71-4199-b276-301ac9d02474"
      },
      "execution_count": null,
      "outputs": [
        {
          "output_type": "stream",
          "name": "stdout",
          "text": [
            "train cross_entropy =  1.0049641132354736\n",
            "  val cross_entropy =  1.0235815048217773\n",
            " test cross_entropy =  1.0303229093551636\n"
          ]
        }
      ]
    },
    {
      "cell_type": "markdown",
      "source": [
        "### Segunda Arquitectura"
      ],
      "metadata": {
        "id": "UtWcBtZJ9RqR"
      }
    },
    {
      "cell_type": "markdown",
      "source": [
        "#### Arquitectura"
      ],
      "metadata": {
        "id": "fmY6GcR29UfK"
      }
    },
    {
      "cell_type": "code",
      "source": [
        "price_input = layers.Input(shape = (len_prices,), name = 'price_input')\n",
        "\n",
        "price_layer = keras.models.Sequential(\n",
        "    [\n",
        "     layers.Normalization(name = 'price_normalization'), \n",
        "     layers.Dense(16, activation = 'tanh'), \n",
        "     layers.Dense(16, activation = 'relu'),\n",
        "    ], \n",
        "    name = 'price'\n",
        ")\n",
        "\n",
        "price_output = price_layer(price_input)\n",
        "\n",
        "sentiment_input = layers.Input(shape = (len_features, n_features), name = 'sentiment_input')\n",
        "sentiment_normalization = layers.Normalization(name = 'sentiment_normalization', axis = 1)\n",
        "sentiment_lstm = layers.LSTM(16, name = 'sentiment')\n",
        "\n",
        "sentiment_normalized = sentiment_normalization(sentiment_input)\n",
        "sentiment_output = sentiment_lstm(sentiment_normalized)\n",
        "\n",
        "fusion = layers.Concatenate(name = 'fusion')([sentiment_output, price_output])\n",
        "\n",
        "\n",
        "prediction_layer = keras.models.Sequential(\n",
        "    [\n",
        "     layers.Dense(32, activation = 'sigmoid'), \n",
        "     layers.Dense(32, activation = 'sigmoid'), \n",
        "     layers.Dense(32, activation = 'sigmoid'), \n",
        "     layers.Dense(3, activation = 'softmax')\n",
        "    ], \n",
        "    name = 'prediction'\n",
        ")\n",
        "prediction_output = prediction_layer(fusion)"
      ],
      "metadata": {
        "id": "K1ayfgTRUMED"
      },
      "execution_count": null,
      "outputs": []
    },
    {
      "cell_type": "markdown",
      "source": [
        "#### Modelo"
      ],
      "metadata": {
        "id": "mltSNy_G9WDl"
      }
    },
    {
      "cell_type": "code",
      "source": [
        "model_2 = keras.Model([price_input, sentiment_input], prediction_output)\n",
        "\n",
        "model_2.compile(\n",
        "    loss = 'categorical_crossentropy'\n",
        ")\n",
        "\n",
        "model_2.summary()"
      ],
      "metadata": {
        "colab": {
          "base_uri": "https://localhost:8080/"
        },
        "id": "QqSSQMLlwRUA",
        "outputId": "d58e90c5-d39d-458d-dea0-e0d5e6448fbf"
      },
      "execution_count": null,
      "outputs": [
        {
          "output_type": "stream",
          "name": "stdout",
          "text": [
            "Model: \"model_1\"\n",
            "__________________________________________________________________________________________________\n",
            " Layer (type)                   Output Shape         Param #     Connected to                     \n",
            "==================================================================================================\n",
            " sentiment_input (InputLayer)   [(None, 48, 10)]     0           []                               \n",
            "                                                                                                  \n",
            " sentiment_normalization (Norma  (None, 48, 10)      97          ['sentiment_input[0][0]']        \n",
            " lization)                                                                                        \n",
            "                                                                                                  \n",
            " price_input (InputLayer)       [(None, 5)]          0           []                               \n",
            "                                                                                                  \n",
            " sentiment (LSTM)               (None, 16)           1728        ['sentiment_normalization[0][0]']\n",
            "                                                                                                  \n",
            " price (Sequential)             (None, 16)           379         ['price_input[0][0]']            \n",
            "                                                                                                  \n",
            " fusion (Concatenate)           (None, 32)           0           ['sentiment[0][0]',              \n",
            "                                                                  'price[0][0]']                  \n",
            "                                                                                                  \n",
            " prediction (Sequential)        (None, 3)            3267        ['fusion[0][0]']                 \n",
            "                                                                                                  \n",
            "==================================================================================================\n",
            "Total params: 5,471\n",
            "Trainable params: 5,363\n",
            "Non-trainable params: 108\n",
            "__________________________________________________________________________________________________\n"
          ]
        }
      ]
    },
    {
      "cell_type": "markdown",
      "source": [
        "##### Visualización"
      ],
      "metadata": {
        "id": "ZQKNGc9q9Xoy"
      }
    },
    {
      "cell_type": "code",
      "source": [
        "keras.utils.plot_model( \n",
        "    model_2,\n",
        "    to_file=\"model.png\",\n",
        "    show_shapes=True,\n",
        "    show_dtype=False,\n",
        "    show_layer_names=True,\n",
        "    rankdir=\"TD\",\n",
        "    dpi=180,\n",
        ")"
      ],
      "metadata": {
        "colab": {
          "base_uri": "https://localhost:8080/",
          "height": 434
        },
        "id": "klHRw8D6wqfh",
        "outputId": "e5d671f1-e880-4c4b-9a51-30000a9c4f49"
      },
      "execution_count": null,
      "outputs": [
        {
          "output_type": "execute_result",
          "data": {
            "text/plain": [
              "<IPython.core.display.Image object>"
            ],
            "image/png": "[encoded data removed]"
          },
          "metadata": {},
          "execution_count": 33
        }
      ]
    },
    {
      "cell_type": "markdown",
      "source": [
        "#### Entrenamiento"
      ],
      "metadata": {
        "id": "CtP1GJd19fnA"
      }
    },
    {
      "cell_type": "code",
      "source": [
        "history = model_2.fit(\n",
        "    [train_prices, train_features], y_train, \n",
        "    epochs = 30, # Original es 1000, aprox 1hr\n",
        "    callbacks = [earlystop_cb], \n",
        "    validation_data = [[val_prices, val_features], y_val]\n",
        ").history"
      ],
      "metadata": {
        "colab": {
          "base_uri": "https://localhost:8080/"
        },
        "id": "ZUz3sLWZwvve",
        "outputId": "385c4b95-5201-4224-b12b-61237f54b16e"
      },
      "execution_count": null,
      "outputs": [
        {
          "output_type": "stream",
          "name": "stdout",
          "text": [
            "Epoch 1/30\n",
            "263/263 [==============================] - 6s 23ms/step - loss: 1.1075 - val_loss: 1.0914\n",
            "Epoch 2/30\n",
            "263/263 [==============================] - 5s 19ms/step - loss: 1.0747 - val_loss: 1.0605\n",
            "Epoch 3/30\n",
            "263/263 [==============================] - 5s 19ms/step - loss: 1.0551 - val_loss: 1.0629\n",
            "Epoch 4/30\n",
            "263/263 [==============================] - 5s 17ms/step - loss: 1.0483 - val_loss: 1.0564\n",
            "Epoch 5/30\n",
            "263/263 [==============================] - 4s 17ms/step - loss: 1.0410 - val_loss: 1.0498\n",
            "Epoch 6/30\n",
            "263/263 [==============================] - 4s 17ms/step - loss: 1.0360 - val_loss: 1.0489\n",
            "Epoch 7/30\n",
            "263/263 [==============================] - 4s 17ms/step - loss: 1.0315 - val_loss: 1.0394\n",
            "Epoch 8/30\n",
            "263/263 [==============================] - 4s 16ms/step - loss: 1.0257 - val_loss: 1.0396\n",
            "Epoch 9/30\n",
            "263/263 [==============================] - 5s 18ms/step - loss: 1.0213 - val_loss: 1.0344\n",
            "Epoch 10/30\n",
            "263/263 [==============================] - 4s 16ms/step - loss: 1.0190 - val_loss: 1.0447\n",
            "Epoch 11/30\n",
            "263/263 [==============================] - 4s 16ms/step - loss: 1.0152 - val_loss: 1.0391\n",
            "Epoch 12/30\n",
            "263/263 [==============================] - 4s 17ms/step - loss: 1.0138 - val_loss: 1.0318\n",
            "Epoch 13/30\n",
            "263/263 [==============================] - 4s 17ms/step - loss: 1.0115 - val_loss: 1.0316\n",
            "Epoch 14/30\n",
            "263/263 [==============================] - 4s 17ms/step - loss: 1.0100 - val_loss: 1.0400\n",
            "Epoch 15/30\n",
            "263/263 [==============================] - 5s 17ms/step - loss: 1.0074 - val_loss: 1.0324\n",
            "Epoch 16/30\n",
            "263/263 [==============================] - 4s 17ms/step - loss: 1.0055 - val_loss: 1.0443\n",
            "Epoch 17/30\n",
            "263/263 [==============================] - 4s 16ms/step - loss: 1.0040 - val_loss: 1.0458\n",
            "Epoch 18/30\n",
            "263/263 [==============================] - 4s 17ms/step - loss: 1.0007 - val_loss: 1.0362\n",
            "Epoch 19/30\n",
            "263/263 [==============================] - 4s 17ms/step - loss: 1.0011 - val_loss: 1.0577\n",
            "Epoch 20/30\n",
            "263/263 [==============================] - 4s 16ms/step - loss: 0.9968 - val_loss: 1.0322\n",
            "Epoch 21/30\n",
            "263/263 [==============================] - 4s 16ms/step - loss: 0.9968 - val_loss: 1.0325\n",
            "Epoch 22/30\n",
            "263/263 [==============================] - 4s 16ms/step - loss: 0.9938 - val_loss: 1.0379\n",
            "Epoch 23/30\n",
            "263/263 [==============================] - 4s 17ms/step - loss: 0.9932 - val_loss: 1.0317\n",
            "Epoch 24/30\n",
            "263/263 [==============================] - 5s 17ms/step - loss: 0.9912 - val_loss: 1.0319\n",
            "Epoch 25/30\n",
            "263/263 [==============================] - 4s 15ms/step - loss: 0.9911 - val_loss: 1.0367\n",
            "Epoch 26/30\n",
            "263/263 [==============================] - 3s 13ms/step - loss: 0.9881 - val_loss: 1.0368\n",
            "Epoch 27/30\n",
            "263/263 [==============================] - 3s 13ms/step - loss: 0.9880 - val_loss: 1.0351\n",
            "Epoch 28/30\n",
            "263/263 [==============================] - 3s 13ms/step - loss: 0.9870 - val_loss: 1.0362\n",
            "Epoch 29/30\n",
            "263/263 [==============================] - 3s 13ms/step - loss: 0.9855 - val_loss: 1.0404\n",
            "Epoch 30/30\n",
            "263/263 [==============================] - 3s 13ms/step - loss: 0.9849 - val_loss: 1.0380\n"
          ]
        }
      ]
    },
    {
      "cell_type": "markdown",
      "source": [
        "##### Visualización"
      ],
      "metadata": {
        "id": "MPA5njKp9hSD"
      }
    },
    {
      "cell_type": "code",
      "source": [
        "x = list(range(len(history['loss'])))\n",
        "\n",
        "fig = go.Figure()\n",
        "\n",
        "fig.add_trace(go.Scatter(x = x, y = history['loss'])) \\\n",
        "   .add_trace(go.Scatter(x = x, y = history['val_loss'])) \\\n",
        "   .update_layout(hovermode = 'x')\n",
        "\n",
        "fig.show()"
      ],
      "metadata": {
        "colab": {
          "base_uri": "https://localhost:8080/",
          "height": 542
        },
        "id": "PKH6BN1wxFnm",
        "outputId": "762ae0d4-2e65-4253-f950-585bbd097746"
      },
      "execution_count": null,
      "outputs": [
        {
          "output_type": "display_data",
          "data": {
            "text/html": [
              "<html>\n",
              "<head><meta charset=\"utf-8\" /></head>\n",
              "<body>\n",
              "    <div>            <script src=\"https://cdnjs.cloudflare.com/ajax/libs/mathjax/2.7.5/MathJax.js?config=TeX-AMS-MML_SVG\"></script><script type=\"text/javascript\">if (window.MathJax) {MathJax.Hub.Config({SVG: {font: \"STIX-Web\"}});}</script>                <script type=\"text/javascript\">window.PlotlyConfig = {MathJaxConfig: 'local'};</script>\n",
              "        <script src=\"https://cdn.plot.ly/plotly-2.8.3.min.js\"></script>                <div id=\"f933b437-81c8-4330-86be-867f99314854\" class=\"plotly-graph-div\" style=\"height:525px; width:100%;\"></div>            <script type=\"text/javascript\">                                    window.PLOTLYENV=window.PLOTLYENV || {};                                    if (document.getElementById(\"f933b437-81c8-4330-86be-867f99314854\")) {                    Plotly.newPlot(                        \"f933b437-81c8-4330-86be-867f99314854\",                        [{\"x\":[0,1,2,3,4,5,6,7,8,9,10,11,12,13,14,15,16,17,18,19,20,21,22,23,24,25,26,27,28,29],\"y\":[1.1074784994125366,1.0746549367904663,1.055141568183899,1.0482587814331055,1.0409632921218872,1.0360119342803955,1.0315099954605103,1.0256767272949219,1.021256685256958,1.018991231918335,1.0151726007461548,1.0137970447540283,1.0114679336547852,1.0100114345550537,1.0073899030685425,1.0054513216018677,1.003976821899414,1.0007435083389282,1.0011147260665894,0.996840238571167,0.9967851042747498,0.9937512874603271,0.9932101964950562,0.9911999106407166,0.9911467432975769,0.9880971908569336,0.9880280494689941,0.9870123267173767,0.9855450391769409,0.9848772287368774],\"type\":\"scatter\"},{\"x\":[0,1,2,3,4,5,6,7,8,9,10,11,12,13,14,15,16,17,18,19,20,21,22,23,24,25,26,27,28,29],\"y\":[1.0913890600204468,1.0604974031448364,1.0628819465637207,1.0563963651657104,1.0498417615890503,1.0489000082015991,1.0394272804260254,1.039649248123169,1.0343992710113525,1.0447468757629395,1.0390827655792236,1.0318431854248047,1.0315611362457275,1.0399811267852783,1.0323854684829712,1.044269323348999,1.0457948446273804,1.0361695289611816,1.057668685913086,1.03220534324646,1.0325195789337158,1.0379289388656616,1.031724452972412,1.0319101810455322,1.036692500114441,1.0368363857269287,1.0350898504257202,1.0361905097961426,1.0404486656188965,1.0380232334136963],\"type\":\"scatter\"}],                        {\"template\":{\"data\":{\"bar\":[{\"error_x\":{\"color\":\"#2a3f5f\"},\"error_y\":{\"color\":\"#2a3f5f\"},\"marker\":{\"line\":{\"color\":\"#E5ECF6\",\"width\":0.5},\"pattern\":{\"fillmode\":\"overlay\",\"size\":10,\"solidity\":0.2}},\"type\":\"bar\"}],\"barpolar\":[{\"marker\":{\"line\":{\"color\":\"#E5ECF6\",\"width\":0.5},\"pattern\":{\"fillmode\":\"overlay\",\"size\":10,\"solidity\":0.2}},\"type\":\"barpolar\"}],\"carpet\":[{\"aaxis\":{\"endlinecolor\":\"#2a3f5f\",\"gridcolor\":\"white\",\"linecolor\":\"white\",\"minorgridcolor\":\"white\",\"startlinecolor\":\"#2a3f5f\"},\"baxis\":{\"endlinecolor\":\"#2a3f5f\",\"gridcolor\":\"white\",\"linecolor\":\"white\",\"minorgridcolor\":\"white\",\"startlinecolor\":\"#2a3f5f\"},\"type\":\"carpet\"}],\"choropleth\":[{\"colorbar\":{\"outlinewidth\":0,\"ticks\":\"\"},\"type\":\"choropleth\"}],\"contour\":[{\"colorbar\":{\"outlinewidth\":0,\"ticks\":\"\"},\"colorscale\":[[0.0,\"#0d0887\"],[0.1111111111111111,\"#46039f\"],[0.2222222222222222,\"#7201a8\"],[0.3333333333333333,\"#9c179e\"],[0.4444444444444444,\"#bd3786\"],[0.5555555555555556,\"#d8576b\"],[0.6666666666666666,\"#ed7953\"],[0.7777777777777778,\"#fb9f3a\"],[0.8888888888888888,\"#fdca26\"],[1.0,\"#f0f921\"]],\"type\":\"contour\"}],\"contourcarpet\":[{\"colorbar\":{\"outlinewidth\":0,\"ticks\":\"\"},\"type\":\"contourcarpet\"}],\"heatmap\":[{\"colorbar\":{\"outlinewidth\":0,\"ticks\":\"\"},\"colorscale\":[[0.0,\"#0d0887\"],[0.1111111111111111,\"#46039f\"],[0.2222222222222222,\"#7201a8\"],[0.3333333333333333,\"#9c179e\"],[0.4444444444444444,\"#bd3786\"],[0.5555555555555556,\"#d8576b\"],[0.6666666666666666,\"#ed7953\"],[0.7777777777777778,\"#fb9f3a\"],[0.8888888888888888,\"#fdca26\"],[1.0,\"#f0f921\"]],\"type\":\"heatmap\"}],\"heatmapgl\":[{\"colorbar\":{\"outlinewidth\":0,\"ticks\":\"\"},\"colorscale\":[[0.0,\"#0d0887\"],[0.1111111111111111,\"#46039f\"],[0.2222222222222222,\"#7201a8\"],[0.3333333333333333,\"#9c179e\"],[0.4444444444444444,\"#bd3786\"],[0.5555555555555556,\"#d8576b\"],[0.6666666666666666,\"#ed7953\"],[0.7777777777777778,\"#fb9f3a\"],[0.8888888888888888,\"#fdca26\"],[1.0,\"#f0f921\"]],\"type\":\"heatmapgl\"}],\"histogram\":[{\"marker\":{\"pattern\":{\"fillmode\":\"overlay\",\"size\":10,\"solidity\":0.2}},\"type\":\"histogram\"}],\"histogram2d\":[{\"colorbar\":{\"outlinewidth\":0,\"ticks\":\"\"},\"colorscale\":[[0.0,\"#0d0887\"],[0.1111111111111111,\"#46039f\"],[0.2222222222222222,\"#7201a8\"],[0.3333333333333333,\"#9c179e\"],[0.4444444444444444,\"#bd3786\"],[0.5555555555555556,\"#d8576b\"],[0.6666666666666666,\"#ed7953\"],[0.7777777777777778,\"#fb9f3a\"],[0.8888888888888888,\"#fdca26\"],[1.0,\"#f0f921\"]],\"type\":\"histogram2d\"}],\"histogram2dcontour\":[{\"colorbar\":{\"outlinewidth\":0,\"ticks\":\"\"},\"colorscale\":[[0.0,\"#0d0887\"],[0.1111111111111111,\"#46039f\"],[0.2222222222222222,\"#7201a8\"],[0.3333333333333333,\"#9c179e\"],[0.4444444444444444,\"#bd3786\"],[0.5555555555555556,\"#d8576b\"],[0.6666666666666666,\"#ed7953\"],[0.7777777777777778,\"#fb9f3a\"],[0.8888888888888888,\"#fdca26\"],[1.0,\"#f0f921\"]],\"type\":\"histogram2dcontour\"}],\"mesh3d\":[{\"colorbar\":{\"outlinewidth\":0,\"ticks\":\"\"},\"type\":\"mesh3d\"}],\"parcoords\":[{\"line\":{\"colorbar\":{\"outlinewidth\":0,\"ticks\":\"\"}},\"type\":\"parcoords\"}],\"pie\":[{\"automargin\":true,\"type\":\"pie\"}],\"scatter\":[{\"marker\":{\"colorbar\":{\"outlinewidth\":0,\"ticks\":\"\"}},\"type\":\"scatter\"}],\"scatter3d\":[{\"line\":{\"colorbar\":{\"outlinewidth\":0,\"ticks\":\"\"}},\"marker\":{\"colorbar\":{\"outlinewidth\":0,\"ticks\":\"\"}},\"type\":\"scatter3d\"}],\"scattercarpet\":[{\"marker\":{\"colorbar\":{\"outlinewidth\":0,\"ticks\":\"\"}},\"type\":\"scattercarpet\"}],\"scattergeo\":[{\"marker\":{\"colorbar\":{\"outlinewidth\":0,\"ticks\":\"\"}},\"type\":\"scattergeo\"}],\"scattergl\":[{\"marker\":{\"colorbar\":{\"outlinewidth\":0,\"ticks\":\"\"}},\"type\":\"scattergl\"}],\"scattermapbox\":[{\"marker\":{\"colorbar\":{\"outlinewidth\":0,\"ticks\":\"\"}},\"type\":\"scattermapbox\"}],\"scatterpolar\":[{\"marker\":{\"colorbar\":{\"outlinewidth\":0,\"ticks\":\"\"}},\"type\":\"scatterpolar\"}],\"scatterpolargl\":[{\"marker\":{\"colorbar\":{\"outlinewidth\":0,\"ticks\":\"\"}},\"type\":\"scatterpolargl\"}],\"scatterternary\":[{\"marker\":{\"colorbar\":{\"outlinewidth\":0,\"ticks\":\"\"}},\"type\":\"scatterternary\"}],\"surface\":[{\"colorbar\":{\"outlinewidth\":0,\"ticks\":\"\"},\"colorscale\":[[0.0,\"#0d0887\"],[0.1111111111111111,\"#46039f\"],[0.2222222222222222,\"#7201a8\"],[0.3333333333333333,\"#9c179e\"],[0.4444444444444444,\"#bd3786\"],[0.5555555555555556,\"#d8576b\"],[0.6666666666666666,\"#ed7953\"],[0.7777777777777778,\"#fb9f3a\"],[0.8888888888888888,\"#fdca26\"],[1.0,\"#f0f921\"]],\"type\":\"surface\"}],\"table\":[{\"cells\":{\"fill\":{\"color\":\"#EBF0F8\"},\"line\":{\"color\":\"white\"}},\"header\":{\"fill\":{\"color\":\"#C8D4E3\"},\"line\":{\"color\":\"white\"}},\"type\":\"table\"}]},\"layout\":{\"annotationdefaults\":{\"arrowcolor\":\"#2a3f5f\",\"arrowhead\":0,\"arrowwidth\":1},\"autotypenumbers\":\"strict\",\"coloraxis\":{\"colorbar\":{\"outlinewidth\":0,\"ticks\":\"\"}},\"colorscale\":{\"diverging\":[[0,\"#8e0152\"],[0.1,\"#c51b7d\"],[0.2,\"#de77ae\"],[0.3,\"#f1b6da\"],[0.4,\"#fde0ef\"],[0.5,\"#f7f7f7\"],[0.6,\"#e6f5d0\"],[0.7,\"#b8e186\"],[0.8,\"#7fbc41\"],[0.9,\"#4d9221\"],[1,\"#276419\"]],\"sequential\":[[0.0,\"#0d0887\"],[0.1111111111111111,\"#46039f\"],[0.2222222222222222,\"#7201a8\"],[0.3333333333333333,\"#9c179e\"],[0.4444444444444444,\"#bd3786\"],[0.5555555555555556,\"#d8576b\"],[0.6666666666666666,\"#ed7953\"],[0.7777777777777778,\"#fb9f3a\"],[0.8888888888888888,\"#fdca26\"],[1.0,\"#f0f921\"]],\"sequentialminus\":[[0.0,\"#0d0887\"],[0.1111111111111111,\"#46039f\"],[0.2222222222222222,\"#7201a8\"],[0.3333333333333333,\"#9c179e\"],[0.4444444444444444,\"#bd3786\"],[0.5555555555555556,\"#d8576b\"],[0.6666666666666666,\"#ed7953\"],[0.7777777777777778,\"#fb9f3a\"],[0.8888888888888888,\"#fdca26\"],[1.0,\"#f0f921\"]]},\"colorway\":[\"#636efa\",\"#EF553B\",\"#00cc96\",\"#ab63fa\",\"#FFA15A\",\"#19d3f3\",\"#FF6692\",\"#B6E880\",\"#FF97FF\",\"#FECB52\"],\"font\":{\"color\":\"#2a3f5f\"},\"geo\":{\"bgcolor\":\"white\",\"lakecolor\":\"white\",\"landcolor\":\"#E5ECF6\",\"showlakes\":true,\"showland\":true,\"subunitcolor\":\"white\"},\"hoverlabel\":{\"align\":\"left\"},\"hovermode\":\"closest\",\"mapbox\":{\"style\":\"light\"},\"paper_bgcolor\":\"white\",\"plot_bgcolor\":\"#E5ECF6\",\"polar\":{\"angularaxis\":{\"gridcolor\":\"white\",\"linecolor\":\"white\",\"ticks\":\"\"},\"bgcolor\":\"#E5ECF6\",\"radialaxis\":{\"gridcolor\":\"white\",\"linecolor\":\"white\",\"ticks\":\"\"}},\"scene\":{\"xaxis\":{\"backgroundcolor\":\"#E5ECF6\",\"gridcolor\":\"white\",\"gridwidth\":2,\"linecolor\":\"white\",\"showbackground\":true,\"ticks\":\"\",\"zerolinecolor\":\"white\"},\"yaxis\":{\"backgroundcolor\":\"#E5ECF6\",\"gridcolor\":\"white\",\"gridwidth\":2,\"linecolor\":\"white\",\"showbackground\":true,\"ticks\":\"\",\"zerolinecolor\":\"white\"},\"zaxis\":{\"backgroundcolor\":\"#E5ECF6\",\"gridcolor\":\"white\",\"gridwidth\":2,\"linecolor\":\"white\",\"showbackground\":true,\"ticks\":\"\",\"zerolinecolor\":\"white\"}},\"shapedefaults\":{\"line\":{\"color\":\"#2a3f5f\"}},\"ternary\":{\"aaxis\":{\"gridcolor\":\"white\",\"linecolor\":\"white\",\"ticks\":\"\"},\"baxis\":{\"gridcolor\":\"white\",\"linecolor\":\"white\",\"ticks\":\"\"},\"bgcolor\":\"#E5ECF6\",\"caxis\":{\"gridcolor\":\"white\",\"linecolor\":\"white\",\"ticks\":\"\"}},\"title\":{\"x\":0.05},\"xaxis\":{\"automargin\":true,\"gridcolor\":\"white\",\"linecolor\":\"white\",\"ticks\":\"\",\"title\":{\"standoff\":15},\"zerolinecolor\":\"white\",\"zerolinewidth\":2},\"yaxis\":{\"automargin\":true,\"gridcolor\":\"white\",\"linecolor\":\"white\",\"ticks\":\"\",\"title\":{\"standoff\":15},\"zerolinecolor\":\"white\",\"zerolinewidth\":2}}},\"hovermode\":\"x\"},                        {\"responsive\": true}                    ).then(function(){\n",
              "                            \n",
              "var gd = document.getElementById('f933b437-81c8-4330-86be-867f99314854');\n",
              "var x = new MutationObserver(function (mutations, observer) {{\n",
              "        var display = window.getComputedStyle(gd).display;\n",
              "        if (!display || display === 'none') {{\n",
              "            console.log([gd, 'removed!']);\n",
              "            Plotly.purge(gd);\n",
              "            observer.disconnect();\n",
              "        }}\n",
              "}});\n",
              "\n",
              "// Listen for the removal of the full notebook cells\n",
              "var notebookContainer = gd.closest('#notebook-container');\n",
              "if (notebookContainer) {{\n",
              "    x.observe(notebookContainer, {childList: true});\n",
              "}}\n",
              "\n",
              "// Listen for the clearing of the current output cell\n",
              "var outputEl = gd.closest('.output');\n",
              "if (outputEl) {{\n",
              "    x.observe(outputEl, {childList: true});\n",
              "}}\n",
              "\n",
              "                        })                };                            </script>        </div>\n",
              "</body>\n",
              "</html>"
            ]
          },
          "metadata": {}
        }
      ]
    },
    {
      "cell_type": "markdown",
      "source": [
        "#### Métricas"
      ],
      "metadata": {
        "id": "6-HU-waK9i8W"
      }
    },
    {
      "cell_type": "code",
      "source": [
        "evaluate_model(model_2, [[train_prices, train_features], y_train], [[val_prices, val_features], y_val], [[test_prices, test_features], y_test])"
      ],
      "metadata": {
        "colab": {
          "base_uri": "https://localhost:8080/"
        },
        "id": "JoxILpLy0d_n",
        "outputId": "3847cf11-5170-489d-b1d3-18eed33ccda0"
      },
      "execution_count": null,
      "outputs": [
        {
          "output_type": "stream",
          "name": "stdout",
          "text": [
            "train cross_entropy =  0.980525016784668\n",
            "  val cross_entropy =  1.0380232334136963\n",
            " test cross_entropy =  1.0454236268997192\n"
          ]
        }
      ]
    },
    {
      "cell_type": "markdown",
      "source": [
        "### Tercera Arquitectura"
      ],
      "metadata": {
        "id": "EinK3G6r9kAD"
      }
    },
    {
      "cell_type": "markdown",
      "source": [
        "#### Arquitectura"
      ],
      "metadata": {
        "id": "tSKt3k3d9mle"
      }
    },
    {
      "cell_type": "code",
      "source": [
        "fusion_dim = 8\n",
        "\n",
        "price_input = layers.Input(shape = (len_prices,), name = 'price_input')\n",
        "\n",
        "price_layer = keras.models.Sequential(\n",
        "    [\n",
        "     layers.Normalization(name = 'price_normalization'), \n",
        "     layers.Dense(8, activation = 'tanh'), \n",
        "     layers.Dense(8, activation = 'relu'),\n",
        "     layers.Dense(8, activation = 'tanh'), \n",
        "     layers.Dense(fusion_dim, activation = 'relu'),\n",
        "    ], \n",
        "    name = 'price'\n",
        ")\n",
        "\n",
        "price_output = price_layer(price_input)\n",
        "\n",
        "sentiment_input = layers.Input(shape = (len_features, n_features), name = 'sentiment_input')\n",
        "sentiment_normalization = layers.Normalization(name = 'sentiment_normalization', axis = 1)\n",
        "sentiment_lstm = layers.LSTM(fusion_dim, name = 'sentiment')\n",
        "\n",
        "sentiment_normalized = sentiment_normalization(sentiment_input)\n",
        "sentiment_output = sentiment_lstm(sentiment_normalized)\n",
        "\n",
        "fusion = layers.Multiply(name = 'hadamard_product')([sentiment_output, price_output])\n",
        "\n",
        "prediction_layer = keras.models.Sequential(\n",
        "    [\n",
        "     layers.Dense(8, activation = 'tanh'), \n",
        "     layers.Dense(8, activation = 'relu'), \n",
        "     layers.Dense(8, activation = 'sigmoid'), \n",
        "     layers.Dense(3, activation = 'softmax')\n",
        "    ], \n",
        "    name = 'prediction'\n",
        ")\n",
        "prediction_output = prediction_layer(fusion)"
      ],
      "metadata": {
        "id": "4s3tIf0m2p2r"
      },
      "execution_count": null,
      "outputs": []
    },
    {
      "cell_type": "markdown",
      "source": [
        "#### Modelo"
      ],
      "metadata": {
        "id": "HhmCFsf89phq"
      }
    },
    {
      "cell_type": "code",
      "source": [
        "model_3 = keras.Model([price_input, sentiment_input], prediction_output)\n",
        "\n",
        "model_3.compile(\n",
        "    loss = 'categorical_crossentropy'\n",
        ")\n",
        "\n",
        "model_3.summary()"
      ],
      "metadata": {
        "colab": {
          "base_uri": "https://localhost:8080/"
        },
        "id": "DmQXsGd63SfN",
        "outputId": "5e12137b-3057-457e-c81a-4330c7ed8b1f"
      },
      "execution_count": null,
      "outputs": [
        {
          "output_type": "stream",
          "name": "stdout",
          "text": [
            "Model: \"model_2\"\n",
            "__________________________________________________________________________________________________\n",
            " Layer (type)                   Output Shape         Param #     Connected to                     \n",
            "==================================================================================================\n",
            " sentiment_input (InputLayer)   [(None, 48, 10)]     0           []                               \n",
            "                                                                                                  \n",
            " sentiment_normalization (Norma  (None, 48, 10)      97          ['sentiment_input[0][0]']        \n",
            " lization)                                                                                        \n",
            "                                                                                                  \n",
            " price_input (InputLayer)       [(None, 5)]          0           []                               \n",
            "                                                                                                  \n",
            " sentiment (LSTM)               (None, 8)            608         ['sentiment_normalization[0][0]']\n",
            "                                                                                                  \n",
            " price (Sequential)             (None, 8)            275         ['price_input[0][0]']            \n",
            "                                                                                                  \n",
            " hadamard_product (Multiply)    (None, 8)            0           ['sentiment[0][0]',              \n",
            "                                                                  'price[0][0]']                  \n",
            "                                                                                                  \n",
            " prediction (Sequential)        (None, 3)            243         ['hadamard_product[0][0]']       \n",
            "                                                                                                  \n",
            "==================================================================================================\n",
            "Total params: 1,223\n",
            "Trainable params: 1,115\n",
            "Non-trainable params: 108\n",
            "__________________________________________________________________________________________________\n"
          ]
        }
      ]
    },
    {
      "cell_type": "markdown",
      "source": [
        "##### Visualización"
      ],
      "metadata": {
        "id": "ct6SNKKd9rS9"
      }
    },
    {
      "cell_type": "code",
      "source": [
        "keras.utils.plot_model( \n",
        "    model_3,\n",
        "    to_file=\"model.png\",\n",
        "    show_shapes=True,\n",
        "    show_dtype=False,\n",
        "    show_layer_names=True,\n",
        "    rankdir=\"TD\",\n",
        "    dpi=180,\n",
        ")"
      ],
      "metadata": {
        "colab": {
          "base_uri": "https://localhost:8080/",
          "height": 434
        },
        "id": "-Kr3cOHZ3WVc",
        "outputId": "32cf5832-20e6-484c-8189-17e98c1a131a"
      },
      "execution_count": null,
      "outputs": [
        {
          "output_type": "execute_result",
          "data": {
            "text/plain": [
              "<IPython.core.display.Image object>"
            ],
            "image/png": "[encoded data removed]"
          },
          "metadata": {},
          "execution_count": 40
        }
      ]
    },
    {
      "cell_type": "markdown",
      "source": [
        "#### Entrenamiento"
      ],
      "metadata": {
        "id": "BpHIwaTI9tVn"
      }
    },
    {
      "cell_type": "code",
      "source": [
        "history = model_3.fit(\n",
        "    [train_prices, train_features], y_train, \n",
        "    epochs = 30, # Original, 1000 épocas\n",
        "    callbacks = [earlystop_cb], \n",
        "    validation_data = [[val_prices, val_features], y_val]\n",
        ").history"
      ],
      "metadata": {
        "colab": {
          "base_uri": "https://localhost:8080/"
        },
        "id": "2uSf0H5r3Yc7",
        "outputId": "960c4218-6004-47c7-f985-ec748d231baa"
      },
      "execution_count": null,
      "outputs": [
        {
          "output_type": "stream",
          "name": "stdout",
          "text": [
            "Epoch 1/30\n",
            "263/263 [==============================] - 12s 23ms/step - loss: 1.1431 - val_loss: 1.0946\n",
            "Epoch 2/30\n",
            "263/263 [==============================] - 5s 18ms/step - loss: 1.0832 - val_loss: 1.0696\n",
            "Epoch 3/30\n",
            "263/263 [==============================] - 4s 17ms/step - loss: 1.0651 - val_loss: 1.0632\n",
            "Epoch 4/30\n",
            "263/263 [==============================] - 5s 17ms/step - loss: 1.0579 - val_loss: 1.0579\n",
            "Epoch 5/30\n",
            "263/263 [==============================] - 5s 17ms/step - loss: 1.0523 - val_loss: 1.0519\n",
            "Epoch 6/30\n",
            "263/263 [==============================] - 4s 17ms/step - loss: 1.0464 - val_loss: 1.0511\n",
            "Epoch 7/30\n",
            "263/263 [==============================] - 5s 18ms/step - loss: 1.0450 - val_loss: 1.0494\n",
            "Epoch 8/30\n",
            "263/263 [==============================] - 5s 17ms/step - loss: 1.0432 - val_loss: 1.0506\n",
            "Epoch 9/30\n",
            "263/263 [==============================] - 5s 17ms/step - loss: 1.0405 - val_loss: 1.0487\n",
            "Epoch 10/30\n",
            "263/263 [==============================] - 5s 18ms/step - loss: 1.0382 - val_loss: 1.0481\n",
            "Epoch 11/30\n",
            "263/263 [==============================] - 5s 17ms/step - loss: 1.0368 - val_loss: 1.0470\n",
            "Epoch 12/30\n",
            "263/263 [==============================] - 5s 20ms/step - loss: 1.0342 - val_loss: 1.0503\n",
            "Epoch 13/30\n",
            "263/263 [==============================] - 5s 19ms/step - loss: 1.0307 - val_loss: 1.0520\n",
            "Epoch 14/30\n",
            "263/263 [==============================] - 4s 15ms/step - loss: 1.0294 - val_loss: 1.0472\n",
            "Epoch 15/30\n",
            "263/263 [==============================] - 4s 14ms/step - loss: 1.0274 - val_loss: 1.0465\n",
            "Epoch 16/30\n",
            "263/263 [==============================] - 4s 14ms/step - loss: 1.0251 - val_loss: 1.0502\n",
            "Epoch 17/30\n",
            "263/263 [==============================] - 4s 14ms/step - loss: 1.0237 - val_loss: 1.0425\n",
            "Epoch 18/30\n",
            "263/263 [==============================] - 4s 14ms/step - loss: 1.0211 - val_loss: 1.0466\n",
            "Epoch 19/30\n",
            "263/263 [==============================] - 4s 13ms/step - loss: 1.0204 - val_loss: 1.0419\n",
            "Epoch 20/30\n",
            "263/263 [==============================] - 4s 13ms/step - loss: 1.0175 - val_loss: 1.0487\n",
            "Epoch 21/30\n",
            "263/263 [==============================] - 4s 14ms/step - loss: 1.0168 - val_loss: 1.0421\n",
            "Epoch 22/30\n",
            "263/263 [==============================] - 4s 13ms/step - loss: 1.0153 - val_loss: 1.0494\n",
            "Epoch 23/30\n",
            "263/263 [==============================] - 4s 14ms/step - loss: 1.0140 - val_loss: 1.0481\n",
            "Epoch 24/30\n",
            "263/263 [==============================] - 4s 14ms/step - loss: 1.0130 - val_loss: 1.0438\n",
            "Epoch 25/30\n",
            "263/263 [==============================] - 4s 14ms/step - loss: 1.0112 - val_loss: 1.0426\n",
            "Epoch 26/30\n",
            "263/263 [==============================] - 4s 14ms/step - loss: 1.0103 - val_loss: 1.0500\n",
            "Epoch 27/30\n",
            "263/263 [==============================] - 4s 14ms/step - loss: 1.0095 - val_loss: 1.0431\n",
            "Epoch 28/30\n",
            "263/263 [==============================] - 4s 14ms/step - loss: 1.0080 - val_loss: 1.0474\n",
            "Epoch 29/30\n",
            "263/263 [==============================] - 4s 14ms/step - loss: 1.0076 - val_loss: 1.0421\n",
            "Epoch 30/30\n",
            "263/263 [==============================] - 4s 14ms/step - loss: 1.0056 - val_loss: 1.0409\n"
          ]
        }
      ]
    },
    {
      "cell_type": "markdown",
      "source": [
        "##### Visualización"
      ],
      "metadata": {
        "id": "DarEX0pr9wQz"
      }
    },
    {
      "cell_type": "code",
      "source": [
        "x = list(range(len(history['loss'])))\n",
        "\n",
        "fig = go.Figure()\n",
        "\n",
        "fig.add_trace(go.Scatter(x = x, y = history['loss'])) \\\n",
        "   .add_trace(go.Scatter(x = x, y = history['val_loss'])) \\\n",
        "   .update_layout(hovermode = 'x')\n",
        "\n",
        "fig.show()"
      ],
      "metadata": {
        "colab": {
          "base_uri": "https://localhost:8080/",
          "height": 542
        },
        "id": "0iC6uX4J3s24",
        "outputId": "9372c548-360d-465e-af2f-723d6878d07b"
      },
      "execution_count": null,
      "outputs": [
        {
          "output_type": "display_data",
          "data": {
            "text/html": [
              "<html>\n",
              "<head><meta charset=\"utf-8\" /></head>\n",
              "<body>\n",
              "    <div>            <script src=\"https://cdnjs.cloudflare.com/ajax/libs/mathjax/2.7.5/MathJax.js?config=TeX-AMS-MML_SVG\"></script><script type=\"text/javascript\">if (window.MathJax) {MathJax.Hub.Config({SVG: {font: \"STIX-Web\"}});}</script>                <script type=\"text/javascript\">window.PlotlyConfig = {MathJaxConfig: 'local'};</script>\n",
              "        <script src=\"https://cdn.plot.ly/plotly-2.8.3.min.js\"></script>                <div id=\"7f150cc5-9b1b-4fcc-a94a-37c7ebe56190\" class=\"plotly-graph-div\" style=\"height:525px; width:100%;\"></div>            <script type=\"text/javascript\">                                    window.PLOTLYENV=window.PLOTLYENV || {};                                    if (document.getElementById(\"7f150cc5-9b1b-4fcc-a94a-37c7ebe56190\")) {                    Plotly.newPlot(                        \"7f150cc5-9b1b-4fcc-a94a-37c7ebe56190\",                        [{\"x\":[0,1,2,3,4,5,6,7,8,9,10,11,12,13,14,15,16,17,18,19,20,21,22,23,24,25,26,27,28,29],\"y\":[1.1431403160095215,1.0832338333129883,1.065122365951538,1.0579464435577393,1.0522841215133667,1.046411395072937,1.0450345277786255,1.043159008026123,1.0404947996139526,1.0381953716278076,1.036767840385437,1.0342183113098145,1.030721664428711,1.0293864011764526,1.027434229850769,1.0251407623291016,1.0237473249435425,1.021101951599121,1.0203858613967896,1.0175150632858276,1.0168230533599854,1.0153188705444336,1.0140055418014526,1.0129588842391968,1.0112287998199463,1.0103024244308472,1.0094709396362305,1.0080260038375854,1.0076351165771484,1.0056263208389282],\"type\":\"scatter\"},{\"x\":[0,1,2,3,4,5,6,7,8,9,10,11,12,13,14,15,16,17,18,19,20,21,22,23,24,25,26,27,28,29],\"y\":[1.0946121215820312,1.0696178674697876,1.0632487535476685,1.0578842163085938,1.0519005060195923,1.05110764503479,1.04940664768219,1.050551176071167,1.0486522912979126,1.0481244325637817,1.0469640493392944,1.050308346748352,1.0520046949386597,1.0471712350845337,1.0464967489242554,1.0501526594161987,1.0425328016281128,1.0465567111968994,1.041902780532837,1.0487337112426758,1.0421236753463745,1.0494091510772705,1.0481364727020264,1.0437713861465454,1.0426322221755981,1.049981713294983,1.0431419610977173,1.0474376678466797,1.04213547706604,1.0409232378005981],\"type\":\"scatter\"}],                        {\"template\":{\"data\":{\"bar\":[{\"error_x\":{\"color\":\"#2a3f5f\"},\"error_y\":{\"color\":\"#2a3f5f\"},\"marker\":{\"line\":{\"color\":\"#E5ECF6\",\"width\":0.5},\"pattern\":{\"fillmode\":\"overlay\",\"size\":10,\"solidity\":0.2}},\"type\":\"bar\"}],\"barpolar\":[{\"marker\":{\"line\":{\"color\":\"#E5ECF6\",\"width\":0.5},\"pattern\":{\"fillmode\":\"overlay\",\"size\":10,\"solidity\":0.2}},\"type\":\"barpolar\"}],\"carpet\":[{\"aaxis\":{\"endlinecolor\":\"#2a3f5f\",\"gridcolor\":\"white\",\"linecolor\":\"white\",\"minorgridcolor\":\"white\",\"startlinecolor\":\"#2a3f5f\"},\"baxis\":{\"endlinecolor\":\"#2a3f5f\",\"gridcolor\":\"white\",\"linecolor\":\"white\",\"minorgridcolor\":\"white\",\"startlinecolor\":\"#2a3f5f\"},\"type\":\"carpet\"}],\"choropleth\":[{\"colorbar\":{\"outlinewidth\":0,\"ticks\":\"\"},\"type\":\"choropleth\"}],\"contour\":[{\"colorbar\":{\"outlinewidth\":0,\"ticks\":\"\"},\"colorscale\":[[0.0,\"#0d0887\"],[0.1111111111111111,\"#46039f\"],[0.2222222222222222,\"#7201a8\"],[0.3333333333333333,\"#9c179e\"],[0.4444444444444444,\"#bd3786\"],[0.5555555555555556,\"#d8576b\"],[0.6666666666666666,\"#ed7953\"],[0.7777777777777778,\"#fb9f3a\"],[0.8888888888888888,\"#fdca26\"],[1.0,\"#f0f921\"]],\"type\":\"contour\"}],\"contourcarpet\":[{\"colorbar\":{\"outlinewidth\":0,\"ticks\":\"\"},\"type\":\"contourcarpet\"}],\"heatmap\":[{\"colorbar\":{\"outlinewidth\":0,\"ticks\":\"\"},\"colorscale\":[[0.0,\"#0d0887\"],[0.1111111111111111,\"#46039f\"],[0.2222222222222222,\"#7201a8\"],[0.3333333333333333,\"#9c179e\"],[0.4444444444444444,\"#bd3786\"],[0.5555555555555556,\"#d8576b\"],[0.6666666666666666,\"#ed7953\"],[0.7777777777777778,\"#fb9f3a\"],[0.8888888888888888,\"#fdca26\"],[1.0,\"#f0f921\"]],\"type\":\"heatmap\"}],\"heatmapgl\":[{\"colorbar\":{\"outlinewidth\":0,\"ticks\":\"\"},\"colorscale\":[[0.0,\"#0d0887\"],[0.1111111111111111,\"#46039f\"],[0.2222222222222222,\"#7201a8\"],[0.3333333333333333,\"#9c179e\"],[0.4444444444444444,\"#bd3786\"],[0.5555555555555556,\"#d8576b\"],[0.6666666666666666,\"#ed7953\"],[0.7777777777777778,\"#fb9f3a\"],[0.8888888888888888,\"#fdca26\"],[1.0,\"#f0f921\"]],\"type\":\"heatmapgl\"}],\"histogram\":[{\"marker\":{\"pattern\":{\"fillmode\":\"overlay\",\"size\":10,\"solidity\":0.2}},\"type\":\"histogram\"}],\"histogram2d\":[{\"colorbar\":{\"outlinewidth\":0,\"ticks\":\"\"},\"colorscale\":[[0.0,\"#0d0887\"],[0.1111111111111111,\"#46039f\"],[0.2222222222222222,\"#7201a8\"],[0.3333333333333333,\"#9c179e\"],[0.4444444444444444,\"#bd3786\"],[0.5555555555555556,\"#d8576b\"],[0.6666666666666666,\"#ed7953\"],[0.7777777777777778,\"#fb9f3a\"],[0.8888888888888888,\"#fdca26\"],[1.0,\"#f0f921\"]],\"type\":\"histogram2d\"}],\"histogram2dcontour\":[{\"colorbar\":{\"outlinewidth\":0,\"ticks\":\"\"},\"colorscale\":[[0.0,\"#0d0887\"],[0.1111111111111111,\"#46039f\"],[0.2222222222222222,\"#7201a8\"],[0.3333333333333333,\"#9c179e\"],[0.4444444444444444,\"#bd3786\"],[0.5555555555555556,\"#d8576b\"],[0.6666666666666666,\"#ed7953\"],[0.7777777777777778,\"#fb9f3a\"],[0.8888888888888888,\"#fdca26\"],[1.0,\"#f0f921\"]],\"type\":\"histogram2dcontour\"}],\"mesh3d\":[{\"colorbar\":{\"outlinewidth\":0,\"ticks\":\"\"},\"type\":\"mesh3d\"}],\"parcoords\":[{\"line\":{\"colorbar\":{\"outlinewidth\":0,\"ticks\":\"\"}},\"type\":\"parcoords\"}],\"pie\":[{\"automargin\":true,\"type\":\"pie\"}],\"scatter\":[{\"marker\":{\"colorbar\":{\"outlinewidth\":0,\"ticks\":\"\"}},\"type\":\"scatter\"}],\"scatter3d\":[{\"line\":{\"colorbar\":{\"outlinewidth\":0,\"ticks\":\"\"}},\"marker\":{\"colorbar\":{\"outlinewidth\":0,\"ticks\":\"\"}},\"type\":\"scatter3d\"}],\"scattercarpet\":[{\"marker\":{\"colorbar\":{\"outlinewidth\":0,\"ticks\":\"\"}},\"type\":\"scattercarpet\"}],\"scattergeo\":[{\"marker\":{\"colorbar\":{\"outlinewidth\":0,\"ticks\":\"\"}},\"type\":\"scattergeo\"}],\"scattergl\":[{\"marker\":{\"colorbar\":{\"outlinewidth\":0,\"ticks\":\"\"}},\"type\":\"scattergl\"}],\"scattermapbox\":[{\"marker\":{\"colorbar\":{\"outlinewidth\":0,\"ticks\":\"\"}},\"type\":\"scattermapbox\"}],\"scatterpolar\":[{\"marker\":{\"colorbar\":{\"outlinewidth\":0,\"ticks\":\"\"}},\"type\":\"scatterpolar\"}],\"scatterpolargl\":[{\"marker\":{\"colorbar\":{\"outlinewidth\":0,\"ticks\":\"\"}},\"type\":\"scatterpolargl\"}],\"scatterternary\":[{\"marker\":{\"colorbar\":{\"outlinewidth\":0,\"ticks\":\"\"}},\"type\":\"scatterternary\"}],\"surface\":[{\"colorbar\":{\"outlinewidth\":0,\"ticks\":\"\"},\"colorscale\":[[0.0,\"#0d0887\"],[0.1111111111111111,\"#46039f\"],[0.2222222222222222,\"#7201a8\"],[0.3333333333333333,\"#9c179e\"],[0.4444444444444444,\"#bd3786\"],[0.5555555555555556,\"#d8576b\"],[0.6666666666666666,\"#ed7953\"],[0.7777777777777778,\"#fb9f3a\"],[0.8888888888888888,\"#fdca26\"],[1.0,\"#f0f921\"]],\"type\":\"surface\"}],\"table\":[{\"cells\":{\"fill\":{\"color\":\"#EBF0F8\"},\"line\":{\"color\":\"white\"}},\"header\":{\"fill\":{\"color\":\"#C8D4E3\"},\"line\":{\"color\":\"white\"}},\"type\":\"table\"}]},\"layout\":{\"annotationdefaults\":{\"arrowcolor\":\"#2a3f5f\",\"arrowhead\":0,\"arrowwidth\":1},\"autotypenumbers\":\"strict\",\"coloraxis\":{\"colorbar\":{\"outlinewidth\":0,\"ticks\":\"\"}},\"colorscale\":{\"diverging\":[[0,\"#8e0152\"],[0.1,\"#c51b7d\"],[0.2,\"#de77ae\"],[0.3,\"#f1b6da\"],[0.4,\"#fde0ef\"],[0.5,\"#f7f7f7\"],[0.6,\"#e6f5d0\"],[0.7,\"#b8e186\"],[0.8,\"#7fbc41\"],[0.9,\"#4d9221\"],[1,\"#276419\"]],\"sequential\":[[0.0,\"#0d0887\"],[0.1111111111111111,\"#46039f\"],[0.2222222222222222,\"#7201a8\"],[0.3333333333333333,\"#9c179e\"],[0.4444444444444444,\"#bd3786\"],[0.5555555555555556,\"#d8576b\"],[0.6666666666666666,\"#ed7953\"],[0.7777777777777778,\"#fb9f3a\"],[0.8888888888888888,\"#fdca26\"],[1.0,\"#f0f921\"]],\"sequentialminus\":[[0.0,\"#0d0887\"],[0.1111111111111111,\"#46039f\"],[0.2222222222222222,\"#7201a8\"],[0.3333333333333333,\"#9c179e\"],[0.4444444444444444,\"#bd3786\"],[0.5555555555555556,\"#d8576b\"],[0.6666666666666666,\"#ed7953\"],[0.7777777777777778,\"#fb9f3a\"],[0.8888888888888888,\"#fdca26\"],[1.0,\"#f0f921\"]]},\"colorway\":[\"#636efa\",\"#EF553B\",\"#00cc96\",\"#ab63fa\",\"#FFA15A\",\"#19d3f3\",\"#FF6692\",\"#B6E880\",\"#FF97FF\",\"#FECB52\"],\"font\":{\"color\":\"#2a3f5f\"},\"geo\":{\"bgcolor\":\"white\",\"lakecolor\":\"white\",\"landcolor\":\"#E5ECF6\",\"showlakes\":true,\"showland\":true,\"subunitcolor\":\"white\"},\"hoverlabel\":{\"align\":\"left\"},\"hovermode\":\"closest\",\"mapbox\":{\"style\":\"light\"},\"paper_bgcolor\":\"white\",\"plot_bgcolor\":\"#E5ECF6\",\"polar\":{\"angularaxis\":{\"gridcolor\":\"white\",\"linecolor\":\"white\",\"ticks\":\"\"},\"bgcolor\":\"#E5ECF6\",\"radialaxis\":{\"gridcolor\":\"white\",\"linecolor\":\"white\",\"ticks\":\"\"}},\"scene\":{\"xaxis\":{\"backgroundcolor\":\"#E5ECF6\",\"gridcolor\":\"white\",\"gridwidth\":2,\"linecolor\":\"white\",\"showbackground\":true,\"ticks\":\"\",\"zerolinecolor\":\"white\"},\"yaxis\":{\"backgroundcolor\":\"#E5ECF6\",\"gridcolor\":\"white\",\"gridwidth\":2,\"linecolor\":\"white\",\"showbackground\":true,\"ticks\":\"\",\"zerolinecolor\":\"white\"},\"zaxis\":{\"backgroundcolor\":\"#E5ECF6\",\"gridcolor\":\"white\",\"gridwidth\":2,\"linecolor\":\"white\",\"showbackground\":true,\"ticks\":\"\",\"zerolinecolor\":\"white\"}},\"shapedefaults\":{\"line\":{\"color\":\"#2a3f5f\"}},\"ternary\":{\"aaxis\":{\"gridcolor\":\"white\",\"linecolor\":\"white\",\"ticks\":\"\"},\"baxis\":{\"gridcolor\":\"white\",\"linecolor\":\"white\",\"ticks\":\"\"},\"bgcolor\":\"#E5ECF6\",\"caxis\":{\"gridcolor\":\"white\",\"linecolor\":\"white\",\"ticks\":\"\"}},\"title\":{\"x\":0.05},\"xaxis\":{\"automargin\":true,\"gridcolor\":\"white\",\"linecolor\":\"white\",\"ticks\":\"\",\"title\":{\"standoff\":15},\"zerolinecolor\":\"white\",\"zerolinewidth\":2},\"yaxis\":{\"automargin\":true,\"gridcolor\":\"white\",\"linecolor\":\"white\",\"ticks\":\"\",\"title\":{\"standoff\":15},\"zerolinecolor\":\"white\",\"zerolinewidth\":2}}},\"hovermode\":\"x\"},                        {\"responsive\": true}                    ).then(function(){\n",
              "                            \n",
              "var gd = document.getElementById('7f150cc5-9b1b-4fcc-a94a-37c7ebe56190');\n",
              "var x = new MutationObserver(function (mutations, observer) {{\n",
              "        var display = window.getComputedStyle(gd).display;\n",
              "        if (!display || display === 'none') {{\n",
              "            console.log([gd, 'removed!']);\n",
              "            Plotly.purge(gd);\n",
              "            observer.disconnect();\n",
              "        }}\n",
              "}});\n",
              "\n",
              "// Listen for the removal of the full notebook cells\n",
              "var notebookContainer = gd.closest('#notebook-container');\n",
              "if (notebookContainer) {{\n",
              "    x.observe(notebookContainer, {childList: true});\n",
              "}}\n",
              "\n",
              "// Listen for the clearing of the current output cell\n",
              "var outputEl = gd.closest('.output');\n",
              "if (outputEl) {{\n",
              "    x.observe(outputEl, {childList: true});\n",
              "}}\n",
              "\n",
              "                        })                };                            </script>        </div>\n",
              "</body>\n",
              "</html>"
            ]
          },
          "metadata": {}
        }
      ]
    },
    {
      "cell_type": "markdown",
      "source": [
        "#### Métricas"
      ],
      "metadata": {
        "id": "5DJZSDuM9zbv"
      }
    },
    {
      "cell_type": "code",
      "source": [
        "evaluate_model(model_3, [[train_prices, train_features], y_train], [[val_prices, val_features], y_val], [[test_prices, test_features], y_test])"
      ],
      "metadata": {
        "colab": {
          "base_uri": "https://localhost:8080/"
        },
        "id": "FGkJ3j0k3vqp",
        "outputId": "252059f9-9cb6-4362-8ea6-c7f0bbc53b4d"
      },
      "execution_count": null,
      "outputs": [
        {
          "output_type": "stream",
          "name": "stdout",
          "text": [
            "train cross_entropy =  1.000159502029419\n",
            "  val cross_entropy =  1.0409232378005981\n",
            " test cross_entropy =  1.0472431182861328\n"
          ]
        }
      ]
    },
    {
      "cell_type": "markdown",
      "source": [
        "## Guardando el mejor modelo"
      ],
      "metadata": {
        "id": "Bkzl6Rl3MpjA"
      }
    },
    {
      "cell_type": "code",
      "source": [
        "# model_2.save('best_model.h5')"
      ],
      "metadata": {
        "id": "mt-RDfH5Mr-t"
      },
      "execution_count": null,
      "outputs": []
    },
    {
      "cell_type": "markdown",
      "source": [
        "# Cargar el modelo guardado"
      ],
      "metadata": {
        "id": "NPGWlldUNYWg"
      }
    },
    {
      "cell_type": "code",
      "source": [
        "best_model = keras.models.load_model('best_model.h5')\n",
        "best_model.summary()"
      ],
      "metadata": {
        "colab": {
          "base_uri": "https://localhost:8080/"
        },
        "id": "_yc7PIa7NahC",
        "outputId": "f38a1c53-9cff-4ad2-b43f-bed9ca9367ab"
      },
      "execution_count": null,
      "outputs": [
        {
          "output_type": "stream",
          "name": "stdout",
          "text": [
            "Model: \"model_1\"\n",
            "__________________________________________________________________________________________________\n",
            " Layer (type)                   Output Shape         Param #     Connected to                     \n",
            "==================================================================================================\n",
            " sentiment_input (InputLayer)   [(None, 48, 10)]     0           []                               \n",
            "                                                                                                  \n",
            " sentiment_normalization (Norma  (None, 48, 10)      97          ['sentiment_input[0][0]']        \n",
            " lization)                                                                                        \n",
            "                                                                                                  \n",
            " price_input (InputLayer)       [(None, 5)]          0           []                               \n",
            "                                                                                                  \n",
            " sentiment (LSTM)               (None, 16)           1728        ['sentiment_normalization[0][0]']\n",
            "                                                                                                  \n",
            " price (Sequential)             (None, 16)           379         ['price_input[0][0]']            \n",
            "                                                                                                  \n",
            " fusion (Concatenate)           (None, 32)           0           ['sentiment[0][0]',              \n",
            "                                                                  'price[0][0]']                  \n",
            "                                                                                                  \n",
            " prediction (Sequential)        (None, 3)            3267        ['fusion[0][0]']                 \n",
            "                                                                                                  \n",
            "==================================================================================================\n",
            "Total params: 5,471\n",
            "Trainable params: 5,363\n",
            "Non-trainable params: 108\n",
            "__________________________________________________________________________________________________\n"
          ]
        }
      ]
    },
    {
      "cell_type": "code",
      "source": [
        "evaluate_model(best_model, [[train_prices, train_features], y_train], [[val_prices, val_features], y_val], [[test_prices, test_features], y_test])"
      ],
      "metadata": {
        "colab": {
          "base_uri": "https://localhost:8080/"
        },
        "id": "FcNI6n5gNjPt",
        "outputId": "15f2774e-e662-4080-94d3-8dfa9e39fd33"
      },
      "execution_count": null,
      "outputs": [
        {
          "output_type": "stream",
          "name": "stdout",
          "text": [
            "train cross_entropy =  0.980525016784668\n",
            "  val cross_entropy =  1.0380232334136963\n",
            " test cross_entropy =  1.0454236268997192\n"
          ]
        }
      ]
    },
    {
      "cell_type": "markdown",
      "source": [
        "# Resumen\n",
        "\n",
        "Respecto a la segunda arquitectura:\n",
        "\n",
        "1. Fue la que tuvo mejores resultados con entropía cruzada de $0.9843$, $1.0256$ y $1.0329$ para los conjuntos de entrenamiento, validación y prueba, respectivamente.\n",
        "2. Tardó menos épocas en entrenar\n",
        "\n"
      ],
      "metadata": {
        "id": "WIJI7v2IBK7t"
      }
    },
    {
      "cell_type": "markdown",
      "source": [
        "# Ejercicios"
      ],
      "metadata": {
        "id": "8mHRbHGAKjxO"
      }
    },
    {
      "cell_type": "markdown",
      "source": [
        "1. Crear un nuevo modelo ya sea haciendo modificaciones a alguna de las arquitecturas presentes, o comenzando desde cero. Escriba sus observaciones comparando el resultado con el mejor la Segunda Arquitectura. Como sugerencia, puede probar cambiando los datos de entrada, las capas de las redes secuenciales, la fusión de los datos, agregando regularización o dropout, callbacks, etc. \n",
        "2. ¿Cómo predeciría nuevos valores?\n"
      ],
      "metadata": {
        "id": "5Y73It2dKmdF"
      }
    }
  ]
}