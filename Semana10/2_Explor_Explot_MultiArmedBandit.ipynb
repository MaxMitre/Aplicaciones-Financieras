{
  "nbformat": 4,
  "nbformat_minor": 0,
  "metadata": {
    "colab": {
      "name": "semana10.1_Aps_Financieras2_Explor_Explot_MultiArmedBandit.ipynb",
      "provenance": [],
      "collapsed_sections": []
    },
    "kernelspec": {
      "name": "python3",
      "display_name": "Python 3"
    },
    "language_info": {
      "name": "python"
    }
  },
  "cells": [
    {
      "cell_type": "markdown",
      "source": [
        "[![Open In Colab](https://colab.research.google.com/assets/colab-badge.svg)](https://colab.research.google.com/github/MaxMitre/Aplicaciones-Financieras/blob/main/Semana10/2_Explor_Explot_MultiArmedBandit.ipynb)"
      ],
      "metadata": {
        "id": "OFf-wZIBO1KY"
      }
    },
    {
      "cell_type": "markdown",
      "source": [
        "# Multi-Armed Bandit\n"
      ],
      "metadata": {
        "id": "UtAb0mGq-3df"
      }
    },
    {
      "cell_type": "markdown",
      "metadata": {
        "id": "k9ADAbH73rfS"
      },
      "source": [
        "#Bibliotecas y Funciones\n"
      ]
    },
    {
      "cell_type": "code",
      "metadata": {
        "id": "TJ0Ts9FIHEmu"
      },
      "source": [
        "import numpy as np\n",
        "import matplotlib.pyplot as plt"
      ],
      "execution_count": null,
      "outputs": []
    },
    {
      "cell_type": "code",
      "metadata": {
        "id": "wTvgN0tvHi3A"
      },
      "source": [
        "def entorno_multi_armed_bandit(maquinas):\n",
        "    '''\n",
        "    Creamos el entorno para el problema \"multi_armed_bandit\" generando aleatoriamente\n",
        "    la distribución de probabilidad de los premios que otorga cada máquina\n",
        "    '''\n",
        "    medias = np.random.uniform(-5, 5, size=maquinas)\n",
        "    std_ = np.random.uniform(0, 5, size=maquinas)\n",
        "    return medias, std_"
      ],
      "execution_count": null,
      "outputs": []
    },
    {
      "cell_type": "code",
      "metadata": {
        "id": "srAAbKjhKM_E"
      },
      "source": [
        "def init_Q(maquinas):\n",
        "  '''Inicializa el vector Q en ceros, el vector Q representa el valor esperado\n",
        "   de recompensa de cada máquina'''\n",
        "  Q =np.zeros(shape =(1, maquinas))\n",
        "  return Q"
      ],
      "execution_count": null,
      "outputs": []
    },
    {
      "cell_type": "markdown",
      "source": [
        "## Estrategias para escoger máquinas"
      ],
      "metadata": {
        "id": "4ARwIvKcAE6s"
      }
    },
    {
      "cell_type": "code",
      "metadata": {
        "id": "N2yLnkZKLUlp"
      },
      "source": [
        "def selecciona_maquina(maquinas):\n",
        "    '''selecciona una máquina aleatoriamente con distribución unifome'''\n",
        "    selec = np.random.choice(range(maquinas))\n",
        "    return selec"
      ],
      "execution_count": null,
      "outputs": []
    },
    {
      "cell_type": "code",
      "metadata": {
        "id": "QoF4BrM1gfA-"
      },
      "source": [
        "def selecciona_maquina_expl(Q):\n",
        "    '''selecciona la maquina con el maximo valor de la ganancia esperada'''\n",
        "    selec = np.argmax(Q[0])\n",
        "    return selec"
      ],
      "execution_count": null,
      "outputs": []
    },
    {
      "cell_type": "code",
      "metadata": {
        "id": "Y9atc3BHgU2d"
      },
      "source": [
        "def selecciona_maquina_egd(maquinas, epsilon):\n",
        "    '''selecciona una con la estrategia epsilon decreasing greedy'''\n",
        "    p = np.random.uniform(0,1)\n",
        "\n",
        "    # cuándo epsilon es pequeño, se escoge la maquina con mayor ganancia\n",
        "    if p < (1 - epsilon):\n",
        "        selec = np.argmax(Q[0])\n",
        "        return selec  \n",
        "\n",
        "    # caso contrario, se escoge una al azar\n",
        "    else: \n",
        "        selec = np.random.choice(range(maquinas))\n",
        "        return selec"
      ],
      "execution_count": null,
      "outputs": []
    },
    {
      "cell_type": "code",
      "metadata": {
        "id": "HUv7oB7VId1t"
      },
      "source": [
        "def calcula_recompensa(selec):\n",
        "  '''calcula la recompensa de jugar en una determinada máquina'''\n",
        "  r = int(np.random.normal(medias[selec], std_[selec], 1))\n",
        "  return r"
      ],
      "execution_count": null,
      "outputs": []
    },
    {
      "cell_type": "code",
      "metadata": {
        "id": "QHfwiInqOkBX"
      },
      "source": [
        "def actualiza_Q (Q, selec, r, veces_maq):\n",
        "    '''actualiza el valor esperados de recompensa de la máquina seleccionada'''\n",
        "    Q[0, selec] = Q[0, selec] + (r - Q[0, selec])/(veces_maq[selec])\n",
        "    return Q"
      ],
      "execution_count": null,
      "outputs": []
    },
    {
      "cell_type": "markdown",
      "metadata": {
        "id": "VzVeNtKjpHrT"
      },
      "source": [
        "# Introducción"
      ]
    },
    {
      "cell_type": "markdown",
      "metadata": {
        "id": "TKA6ZoIgr9wq"
      },
      "source": [
        "## Definimos nuestro entorno"
      ]
    },
    {
      "cell_type": "code",
      "metadata": {
        "id": "8FJ8WPRopBiH"
      },
      "source": [
        "# Creamos el entorno definiendo el comportamiento de cada máquina\n",
        "\n",
        "premio_medio  = np.array([0,  1,  5, -10])\n",
        "desv_estandar = np.array([5, 0.1, 1,  1])"
      ],
      "execution_count": null,
      "outputs": []
    },
    {
      "cell_type": "code",
      "source": [
        "# Veamos como se comportarian las máquinas tomando muestreos con dichas mediasy  desviaciones estándar\n",
        "for maquina in range(4):\n",
        "\n",
        "  s = np.random.normal(premio_medio[maquina], desv_estandar[maquina],10000)\n",
        "  plt.xlim(-12,8)\n",
        "  plt.ylim(0,5)\n",
        "  plt.hist( s, bins=30,  density=True)\n",
        "  plt.show()"
      ],
      "metadata": {
        "id": "JEnrsD3ZyZI0",
        "colab": {
          "base_uri": "https://localhost:8080/",
          "height": 1000
        },
        "outputId": "3c10794f-5e0f-47ea-9ff5-1fb99f1d824a"
      },
      "execution_count": null,
      "outputs": [
        {
          "output_type": "display_data",
          "data": {
            "text/plain": [
              "<Figure size 432x288 with 1 Axes>"
            ],
            "image/png": "[encoded data removed]"
          },
          "metadata": {
            "needs_background": "light"
          }
        },
        {
          "output_type": "display_data",
          "data": {
            "text/plain": [
              "<Figure size 432x288 with 1 Axes>"
            ],
            "image/png": "[encoded data removed]"
          },
          "metadata": {
            "needs_background": "light"
          }
        },
        {
          "output_type": "display_data",
          "data": {
            "text/plain": [
              "<Figure size 432x288 with 1 Axes>"
            ],
            "image/png": "[encoded data removed]"
          },
          "metadata": {
            "needs_background": "light"
          }
        },
        {
          "output_type": "display_data",
          "data": {
            "text/plain": [
              "<Figure size 432x288 with 1 Axes>"
            ],
            "image/png": "[encoded data removed]"
          },
          "metadata": {
            "needs_background": "light"
          }
        }
      ]
    },
    {
      "cell_type": "markdown",
      "source": [
        "## ¿Que hace un jugador en el casino?"
      ],
      "metadata": {
        "id": "b-FpFTSl1UF0"
      }
    },
    {
      "cell_type": "markdown",
      "metadata": {
        "id": "djXUF3Prrubk"
      },
      "source": [
        "* inicializamos en cero la variable que guardará los premios o perdidas acumuladas "
      ]
    },
    {
      "cell_type": "code",
      "metadata": {
        "id": "A5Zlrmeum_3q"
      },
      "source": [
        "ganado = 0"
      ],
      "execution_count": null,
      "outputs": []
    },
    {
      "cell_type": "markdown",
      "metadata": {
        "id": "nMOjxNywtLLw"
      },
      "source": [
        "* seleccionamos una de las maquinas, se juega en ella y se obtiene la recompensa"
      ]
    },
    {
      "cell_type": "code",
      "metadata": {
        "id": "dGjez-pgtLLz",
        "colab": {
          "base_uri": "https://localhost:8080/"
        },
        "outputId": "aaa67ae7-c018-4d7e-e16e-5c149b81e32a"
      },
      "source": [
        "selec = 2\n",
        "r = int(np.random.normal(premio_medio[selec], desv_estandar[selec], 1))\n",
        "ganado += r\n",
        "print('recompensa(r):', r)\n",
        "print('ganado:', ganado)"
      ],
      "execution_count": null,
      "outputs": [
        {
          "output_type": "stream",
          "name": "stdout",
          "text": [
            "recompensa(r): 5\n",
            "ganado: 5\n"
          ]
        }
      ]
    },
    {
      "cell_type": "markdown",
      "metadata": {
        "id": "3fOSdzrXvkOE"
      },
      "source": [
        "##  ¿Cómo guardamos la información de los premios obtenidos de cada máquina?"
      ]
    },
    {
      "cell_type": "code",
      "metadata": {
        "id": "dnPBUn3qnYn2",
        "colab": {
          "base_uri": "https://localhost:8080/"
        },
        "outputId": "529dc611-a531-4db9-84b4-6a20e0fc8872"
      },
      "source": [
        "# Inicializa el vector Q en ceros, donde guardaremos la información\n",
        "n_maquinas = 4 \n",
        "Q = np.zeros(shape =(1, n_maquinas))\n",
        "Q"
      ],
      "execution_count": null,
      "outputs": [
        {
          "output_type": "execute_result",
          "data": {
            "text/plain": [
              "array([[0., 0., 0., 0.]])"
            ]
          },
          "metadata": {},
          "execution_count": 85
        }
      ]
    },
    {
      "cell_type": "code",
      "metadata": {
        "id": "PCwiS-nR0_7D",
        "colab": {
          "base_uri": "https://localhost:8080/"
        },
        "outputId": "71750d8e-4884-473f-bb9a-b7c9edf15b3e"
      },
      "source": [
        "# Vamos a jugar cierto número de veces (episodios)\n",
        "episodios = 7\n",
        "n_maquinas = 4\n",
        "Q =np.zeros(shape =(1, n_maquinas))\n",
        "ganado = 0\n",
        "\n",
        "veces_maq = np.zeros(n_maquinas)      # guardaremos las veces que se ha jugado por máquina\n",
        "for ep in range(1, episodios+1):\n",
        "  selec = np.random.choice([0,1,2,3]) # selección aleatoria -> exploración\n",
        "  veces_maq[selec] += 1               # actualizamos las veces que se ha jugado x máquina\n",
        "  r = int(np.random.normal(premio_medio[selec], desv_estandar[selec], 1))\n",
        "  Q[0, selec] = Q[0, selec] + 1/(veces_maq[selec])*(r - Q[0, selec])\n",
        "  ganado += r\n",
        "  print('Episodio_{}, Máquina {}, Premio = {}, Premio_acum = {}, Q:{} \\n'.format(ep,\n",
        "                                                                   selec,\n",
        "                                                                   r, \n",
        "                                                                   ganado,\n",
        "                                                                   Q.round(2)))\n"
      ],
      "execution_count": null,
      "outputs": [
        {
          "output_type": "stream",
          "name": "stdout",
          "text": [
            "Episodio_1, Máquina 1, Premio = 1, Premio_acum = 1, Q:[[0. 1. 0. 0.]] \n",
            "\n",
            "Episodio_2, Máquina 2, Premio = 7, Premio_acum = 8, Q:[[0. 1. 7. 0.]] \n",
            "\n",
            "Episodio_3, Máquina 3, Premio = -10, Premio_acum = -2, Q:[[  0.   1.   7. -10.]] \n",
            "\n",
            "Episodio_4, Máquina 0, Premio = 1, Premio_acum = -1, Q:[[  1.   1.   7. -10.]] \n",
            "\n",
            "Episodio_5, Máquina 0, Premio = 2, Premio_acum = 1, Q:[[  1.5   1.    7.  -10. ]] \n",
            "\n",
            "Episodio_6, Máquina 1, Premio = 1, Premio_acum = 2, Q:[[  1.5   1.    7.  -10. ]] \n",
            "\n",
            "Episodio_7, Máquina 0, Premio = -8, Premio_acum = -6, Q:[[ -1.67   1.     7.   -10.  ]] \n",
            "\n"
          ]
        }
      ]
    },
    {
      "cell_type": "markdown",
      "metadata": {
        "id": "mVXPXUUw38V5"
      },
      "source": [
        "¿Sería correcto si, en lugar de escojer la máquina de forma aleatoria, escojemos la que más rendimientos ha dado?"
      ]
    },
    {
      "cell_type": "code",
      "source": [
        "Q[0]"
      ],
      "metadata": {
        "id": "hzGRQEpALn7u",
        "colab": {
          "base_uri": "https://localhost:8080/"
        },
        "outputId": "71e7c3fc-d869-4be1-bb46-bde3f793d429"
      },
      "execution_count": null,
      "outputs": [
        {
          "output_type": "execute_result",
          "data": {
            "text/plain": [
              "array([ -1.66666667,   1.        ,   7.        , -10.        ])"
            ]
          },
          "metadata": {},
          "execution_count": 87
        }
      ]
    },
    {
      "cell_type": "code",
      "metadata": {
        "id": "ulLG8yCP0xLy",
        "colab": {
          "base_uri": "https://localhost:8080/"
        },
        "outputId": "50ab9a29-02ce-470f-f81f-0c0fccaf7553"
      },
      "source": [
        "selec = np.argmax(Q[0])  # selección usando la estrategia de explotación\n",
        "selec"
      ],
      "execution_count": null,
      "outputs": [
        {
          "output_type": "execute_result",
          "data": {
            "text/plain": [
              "2"
            ]
          },
          "metadata": {},
          "execution_count": 88
        }
      ]
    },
    {
      "cell_type": "markdown",
      "metadata": {
        "id": "xX6_4S3c8JWN"
      },
      "source": [
        "¿Podemos pensar en una estrategia combinada?"
      ]
    },
    {
      "cell_type": "code",
      "metadata": {
        "id": "2R-1PKtw8lMb",
        "colab": {
          "base_uri": "https://localhost:8080/"
        },
        "outputId": "bf2ae9dc-e8ac-43b4-a27c-e9d34aa68cd6"
      },
      "source": [
        "p = np.random.uniform(0, 1)  # escojemos un valor entre 0 y 1\n",
        "ε = .1 # valor que disminuye desde 1 hasta 0 según avance el aprendizaje\n",
        "print(f'p = {p}, ε = {ε}')\n",
        "print('¿p es menor que 1 - ε?', p < (1 - ε))\n",
        "if p < (1 - ε):\n",
        "    # Explotación\n",
        "    print('explotación')\n",
        "    selec = np.argmax(Q[0])\n",
        "else: \n",
        "    # Exploración\n",
        "    print('exploración')\n",
        "    selec = np.random.choice(range(n_maquinas))\n",
        "selec"
      ],
      "execution_count": null,
      "outputs": [
        {
          "output_type": "stream",
          "name": "stdout",
          "text": [
            "p = 0.5325006117935024, ε = 0.1\n",
            "¿p es menor que 1 - ε? True\n",
            "explotación\n"
          ]
        },
        {
          "output_type": "execute_result",
          "data": {
            "text/plain": [
              "2"
            ]
          },
          "metadata": {},
          "execution_count": 89
        }
      ]
    },
    {
      "cell_type": "markdown",
      "metadata": {
        "id": "Gmve4Vj7CJAf"
      },
      "source": [
        "Vamos a calcular  ε en función de los episodios, de manera decreciente\n"
      ]
    },
    {
      "cell_type": "code",
      "metadata": {
        "id": "9V2gOQ1xCHLx",
        "colab": {
          "base_uri": "https://localhost:8080/"
        },
        "outputId": "8fb04104-20c8-4103-99e1-2be6df1254be"
      },
      "source": [
        "episodios = 100\n",
        "ε = np.exp(-5 * np.linspace(0, 1, episodios))\n",
        "ε"
      ],
      "execution_count": null,
      "outputs": [
        {
          "output_type": "execute_result",
          "data": {
            "text/plain": [
              "array([1.        , 0.95074913, 0.9039239 , 0.85940486, 0.81707842,\n",
              "       0.7768366 , 0.73857671, 0.70220117, 0.66761715, 0.63473642,\n",
              "       0.6034751 , 0.57375342, 0.54549556, 0.51862943, 0.49308648,\n",
              "       0.46880154, 0.44571265, 0.42376092, 0.40289032, 0.38304762,\n",
              "       0.36418219, 0.3462459 , 0.32919299, 0.31297995, 0.29756541,\n",
              "       0.28291005, 0.26897649, 0.25572916, 0.24313428, 0.2311597 ,\n",
              "       0.21977488, 0.20895078, 0.19865977, 0.1888756 , 0.17957331,\n",
              "       0.17072917, 0.16232061, 0.15432618, 0.14672548, 0.13949912,\n",
              "       0.13262867, 0.12609659, 0.11988622, 0.11398172, 0.10836802,\n",
              "       0.1030308 , 0.09795645, 0.09313201, 0.08854517, 0.08418425,\n",
              "       0.0800381 , 0.07609615, 0.07234835, 0.06878513, 0.0653974 ,\n",
              "       0.06217652, 0.05911428, 0.05620285, 0.05343481, 0.0508031 ,\n",
              "       0.048301  , 0.04592213, 0.04366043, 0.04151011, 0.0394657 ,\n",
              "       0.03752198, 0.03567399, 0.03391702, 0.03224658, 0.0306584 ,\n",
              "       0.02914845, 0.02771286, 0.02634798, 0.02505032, 0.02381657,\n",
              "       0.02264358, 0.02152837, 0.02046808, 0.01946001, 0.01850158,\n",
              "       0.01759036, 0.01672402, 0.01590035, 0.01511724, 0.01437271,\n",
              "       0.01366484, 0.01299183, 0.01235197, 0.01174363, 0.01116524,\n",
              "       0.01061535, 0.01009253, 0.00959547, 0.00912288, 0.00867357,\n",
              "       0.00824639, 0.00784025, 0.00745411, 0.00708699, 0.00673795])"
            ]
          },
          "metadata": {},
          "execution_count": 90
        }
      ]
    },
    {
      "cell_type": "code",
      "metadata": {
        "id": "UuxbAT2X-ian",
        "colab": {
          "base_uri": "https://localhost:8080/",
          "height": 313
        },
        "outputId": "87ec6466-f4ec-40f6-c48c-758bc1b2da20"
      },
      "source": [
        "fig =plt.figure()\n",
        "plt.plot(ε)\n",
        "plt.xlabel('episodio', fontsize=16)\n",
        "plt.ylabel('ε', fontsize=16)\n",
        "fig.suptitle('ε decreciente con el numero de episodios', fontsize=18)\n",
        "\n",
        "plt.show()"
      ],
      "execution_count": null,
      "outputs": [
        {
          "output_type": "display_data",
          "data": {
            "text/plain": [
              "<Figure size 432x288 with 1 Axes>"
            ],
            "image/png": "[encoded data removed]"
          },
          "metadata": {
            "needs_background": "light"
          }
        }
      ]
    },
    {
      "cell_type": "markdown",
      "metadata": {
        "id": "lHGYfGfVtZhW"
      },
      "source": [
        "# Aprendizaje con distintas estrategias"
      ]
    },
    {
      "cell_type": "code",
      "metadata": {
        "id": "0QF9KYgctZ9P"
      },
      "source": [
        "### Definimos el número de máquinas o brazos del problema\n",
        "n_maquinas = 3\n",
        "\n",
        "### Creamos el entorno\n",
        "np.random.seed(4)\n",
        "medias, std_ = entorno_multi_armed_bandit(n_maquinas)  # inicializa la distribución de probabilidad de cada máquina"
      ],
      "execution_count": null,
      "outputs": []
    },
    {
      "cell_type": "code",
      "metadata": {
        "id": "j-3477k0izn_"
      },
      "source": [
        "### Definimos el número de episodios (juegos)\n",
        "episodios = 1000"
      ],
      "execution_count": null,
      "outputs": []
    },
    {
      "cell_type": "code",
      "source": [
        "medias"
      ],
      "metadata": {
        "id": "G25N0TSnNat1",
        "colab": {
          "base_uri": "https://localhost:8080/"
        },
        "outputId": "fbc29146-77bf-4772-f6c2-d46320415d35"
      },
      "execution_count": null,
      "outputs": [
        {
          "output_type": "execute_result",
          "data": {
            "text/plain": [
              "array([4.67029839, 0.47232249, 4.7268436 ])"
            ]
          },
          "metadata": {},
          "execution_count": 94
        }
      ]
    },
    {
      "cell_type": "code",
      "source": [
        "std_"
      ],
      "metadata": {
        "id": "lQWX4_8ENcAr",
        "colab": {
          "base_uri": "https://localhost:8080/"
        },
        "outputId": "2ca63d39-acab-4ad2-a826-9591caddda1f"
      },
      "execution_count": null,
      "outputs": [
        {
          "output_type": "execute_result",
          "data": {
            "text/plain": [
              "array([3.57407997, 3.48864412, 1.08044748])"
            ]
          },
          "metadata": {},
          "execution_count": 95
        }
      ]
    },
    {
      "cell_type": "markdown",
      "metadata": {
        "id": "SBOk8P63f7Hn"
      },
      "source": [
        "## Exploración"
      ]
    },
    {
      "cell_type": "code",
      "metadata": {
        "id": "XGdvub9qSwmJ",
        "colab": {
          "base_uri": "https://localhost:8080/"
        },
        "outputId": "9c2bfaa6-1e04-4147-aa5b-0b8773d7e091"
      },
      "source": [
        "### Inicializamos el vector Q  \n",
        "Q = init_Q(n_maquinas)  \n",
        "ganado = 0\n",
        "veces_maq = np.zeros(n_maquinas)      # guardaremos las veces que se ha jugado por máquina\n",
        "\n",
        "for i in range(n_maquinas):  # creamos un ciclo para jugar en cada máquina\n",
        "    veces_maq[i] += 1               # actualizamos las veces que se ha jugado x máquina\n",
        "    r = calcula_recompensa(i)\n",
        "    Q = actualiza_Q(Q, i, r, veces_maq)\n",
        "    ganado += r\n",
        "    print(Q)\n",
        "\n",
        "\n",
        "for episodio in range(n_maquinas+1,episodios+1):\n",
        "    selec = selecciona_maquina(n_maquinas)\n",
        "    veces_maq[selec] += 1               # actualizamos las veces que se ha jugado x máquina\n",
        "    # Calcula el premio de esa acción\n",
        "    r = calcula_recompensa(selec)\n",
        "    # Actualiza la información de lo ganado por cada máquina\n",
        "    Q = actualiza_Q(Q, selec, r, veces_maq)\n",
        "  \n",
        "    ganado += r\n",
        "  \n",
        "print(\"La ganancia total es de: \", ganado)"
      ],
      "execution_count": null,
      "outputs": [
        {
          "output_type": "stream",
          "name": "stdout",
          "text": [
            "[[3. 0. 0.]]\n",
            "[[ 3. -5.  0.]]\n",
            "[[ 3. -5.  4.]]\n",
            "La ganancia total es de:  3122\n"
          ]
        }
      ]
    },
    {
      "cell_type": "code",
      "source": [
        "veces_maq"
      ],
      "metadata": {
        "id": "z5Q-bqGBLMm6",
        "colab": {
          "base_uri": "https://localhost:8080/"
        },
        "outputId": "fd754686-4ab3-43ff-f98d-af2a2ce2b712"
      },
      "execution_count": null,
      "outputs": [
        {
          "output_type": "execute_result",
          "data": {
            "text/plain": [
              "array([340., 314., 346.])"
            ]
          },
          "metadata": {},
          "execution_count": 97
        }
      ]
    },
    {
      "cell_type": "code",
      "source": [
        "# Medias reales\n",
        "medias"
      ],
      "metadata": {
        "colab": {
          "base_uri": "https://localhost:8080/"
        },
        "id": "xT_cLdg0Kn1G",
        "outputId": "eab15852-1020-40b9-ba68-419076669b38"
      },
      "execution_count": null,
      "outputs": [
        {
          "output_type": "execute_result",
          "data": {
            "text/plain": [
              "array([4.67029839, 0.47232249, 4.7268436 ])"
            ]
          },
          "metadata": {},
          "execution_count": 99
        }
      ]
    },
    {
      "cell_type": "code",
      "source": [
        "# Medias observadas\n",
        "Q"
      ],
      "metadata": {
        "colab": {
          "base_uri": "https://localhost:8080/"
        },
        "id": "L3Wa0O0iKkG0",
        "outputId": "f2f11898-7891-4302-e93f-a40926182eb5"
      },
      "execution_count": null,
      "outputs": [
        {
          "output_type": "execute_result",
          "data": {
            "text/plain": [
              "array([[4.21764706, 0.56687898, 4.36416185]])"
            ]
          },
          "metadata": {},
          "execution_count": 98
        }
      ]
    },
    {
      "cell_type": "markdown",
      "metadata": {
        "id": "OIDUtGQYnZCL"
      },
      "source": [
        "## Explotación"
      ]
    },
    {
      "cell_type": "code",
      "metadata": {
        "id": "SMTfsHDUnfH4",
        "colab": {
          "base_uri": "https://localhost:8080/"
        },
        "outputId": "e3e4a468-6ebe-454a-a34b-e1bcb129a5ed"
      },
      "source": [
        "### Inicializamos el vector Q  \n",
        "Q = init_Q(n_maquinas)  \n",
        "ganado = 0\n",
        "veces_maq = np.zeros(n_maquinas)      # guardaremos las veces que se ha jugado por máquina\n",
        "for i in range(n_maquinas):  # creamos un ciclo para jugar en cada máquina\n",
        "    veces_maq[i] += 1               # actualizamos las veces que se ha jugado x máquina\n",
        "    r = calcula_recompensa(i)\n",
        "    Q = actualiza_Q(Q, i, r, veces_maq)\n",
        "    ganado += r\n",
        "    print(Q)\n",
        "for episodio in range(n_maquinas+1 ,episodios+1): # el resto de los episodios los jugamos con una estrategia codiciosa\n",
        "    selec = selecciona_maquina_expl(Q)\n",
        "    veces_maq[selec] += 1               # actualizamos las veces que se ha jugado x máquina\n",
        "    r = calcula_recompensa(selec)\n",
        "    Q = actualiza_Q(Q, selec, r, veces_maq)\n",
        "    ganado += r\n",
        "print(\"La ganancia total es de: \", ganado)"
      ],
      "execution_count": null,
      "outputs": [
        {
          "output_type": "stream",
          "name": "stdout",
          "text": [
            "[[5. 0. 0.]]\n",
            "[[5. 0. 0.]]\n",
            "[[5. 0. 6.]]\n",
            "La ganancia total es de:  4208\n"
          ]
        }
      ]
    },
    {
      "cell_type": "code",
      "source": [
        "veces_maq"
      ],
      "metadata": {
        "id": "NiNOwlSAN282",
        "colab": {
          "base_uri": "https://localhost:8080/"
        },
        "outputId": "8ad70f84-402e-403e-ef67-95bbdb5ccdce"
      },
      "execution_count": null,
      "outputs": [
        {
          "output_type": "execute_result",
          "data": {
            "text/plain": [
              "array([  2.,   1., 997.])"
            ]
          },
          "metadata": {},
          "execution_count": 111
        }
      ]
    },
    {
      "cell_type": "code",
      "source": [
        "medias"
      ],
      "metadata": {
        "colab": {
          "base_uri": "https://localhost:8080/"
        },
        "id": "ytF7Vei0LEwt",
        "outputId": "a246dde9-452a-4269-b531-6fc8b1d34842"
      },
      "execution_count": null,
      "outputs": [
        {
          "output_type": "execute_result",
          "data": {
            "text/plain": [
              "array([4.67029839, 0.47232249, 4.7268436 ])"
            ]
          },
          "metadata": {},
          "execution_count": 112
        }
      ]
    },
    {
      "cell_type": "code",
      "source": [
        "Q"
      ],
      "metadata": {
        "colab": {
          "base_uri": "https://localhost:8080/"
        },
        "id": "5Sn6K9XuLEj9",
        "outputId": "a5e862fb-b1a0-46be-ec8f-686f24a8beec"
      },
      "execution_count": null,
      "outputs": [
        {
          "output_type": "execute_result",
          "data": {
            "text/plain": [
              "array([[3.5       , 0.        , 4.21364092]])"
            ]
          },
          "metadata": {},
          "execution_count": 113
        }
      ]
    },
    {
      "cell_type": "markdown",
      "metadata": {
        "id": "7gXk8RpAf_S5"
      },
      "source": [
        "## Epsilon decreasing greedy"
      ]
    },
    {
      "cell_type": "code",
      "source": [
        "# Comando para ver mejor números sin notación científica\n",
        "np.set_printoptions(suppress=True)\n",
        "\n",
        "epsilon = 0.1  # Si el \"epsilon\" definido abajo se comenta, queda el epsilon fijo"
      ],
      "metadata": {
        "id": "6orTHV3v6XUc"
      },
      "execution_count": null,
      "outputs": []
    },
    {
      "cell_type": "code",
      "metadata": {
        "id": "Wwluzms4f_S7",
        "colab": {
          "base_uri": "https://localhost:8080/"
        },
        "outputId": "d5ace460-f890-4a38-ce6c-f6393d68f4a1"
      },
      "source": [
        "### Inicializamos el vector Q  \n",
        "Q = init_Q(n_maquinas)  \n",
        "epsilon = np.exp(-5 * np.linspace(0, 1, episodios))  # creamos el vector con un epsilon para cada episodio (No afecta al ser modificado eb linea 16)\n",
        "ganado = 0\n",
        "veces_maq = np.zeros(n_maquinas)      # guardaremos las veces que se ha jugado por máquina\n",
        "\n",
        "for i in range(n_maquinas):  # creamos un ciclo para jugar en cada máquina\n",
        "    veces_maq[i] += 1               # actualizamos las veces que se ha jugado x máquina\n",
        "    r = calcula_recompensa(i)\n",
        "    Q = actualiza_Q(Q, i, r, veces_maq)\n",
        "    ganado += r\n",
        "\n",
        "for episodio in range(n_maquinas+1 ,episodios+1):\n",
        "    # ADVERTENCIA: si comentan linea 15, se utilizara epsilon fijo igual a 0.1, si comentan la linea 17 se utilizará epsilon greedy\n",
        "    eps = epsilon[episodio-1]  #epsilon decreciente\n",
        "\n",
        "    #eps=0.1  # epsilon fijo\n",
        "\n",
        "    selec = selecciona_maquina_egd(n_maquinas, eps)\n",
        "\n",
        "    veces_maq[selec] += 1               # actualizamos las veces que se ha jugado x máquina\n",
        "    r = calcula_recompensa(selec)\n",
        "    Q = actualiza_Q(Q, selec, r, veces_maq)\n",
        "    ganado += r\n",
        "\n",
        "print(\"La ganancia total es de: \", ganado)"
      ],
      "execution_count": null,
      "outputs": [
        {
          "output_type": "stream",
          "name": "stdout",
          "text": [
            "La ganancia total es de:  3963\n"
          ]
        }
      ]
    },
    {
      "cell_type": "code",
      "source": [
        "veces_maq"
      ],
      "metadata": {
        "id": "TRmYWVCS7U_u",
        "colab": {
          "base_uri": "https://localhost:8080/"
        },
        "outputId": "52bac986-9904-41c9-e57c-06ab8f2b9fe0"
      },
      "execution_count": null,
      "outputs": [
        {
          "output_type": "execute_result",
          "data": {
            "text/plain": [
              "array([138.,  69., 793.])"
            ]
          },
          "metadata": {},
          "execution_count": 120
        }
      ]
    },
    {
      "cell_type": "code",
      "source": [
        "medias"
      ],
      "metadata": {
        "colab": {
          "base_uri": "https://localhost:8080/"
        },
        "id": "vZNuuj_CNkLo",
        "outputId": "f74b65c8-58eb-4171-ee9b-86c9534ebf04"
      },
      "execution_count": null,
      "outputs": [
        {
          "output_type": "execute_result",
          "data": {
            "text/plain": [
              "array([4.67029839, 0.47232249, 4.7268436 ])"
            ]
          },
          "metadata": {},
          "execution_count": 122
        }
      ]
    },
    {
      "cell_type": "code",
      "source": [
        "Q"
      ],
      "metadata": {
        "colab": {
          "base_uri": "https://localhost:8080/"
        },
        "id": "FeM-txQiNkEL",
        "outputId": "ba653b2d-d4d3-451f-bab9-1a28a186cfd4"
      },
      "execution_count": null,
      "outputs": [
        {
          "output_type": "execute_result",
          "data": {
            "text/plain": [
              "array([[4.13043478, 0.65217391, 4.22194199]])"
            ]
          },
          "metadata": {},
          "execution_count": 121
        }
      ]
    },
    {
      "cell_type": "markdown",
      "metadata": {
        "id": "U9EM0mu3mB99"
      },
      "source": [
        "# Referencias:\n",
        "\n",
        "[1]A. Aristizabal, «Understanding Reinforcement Learning Hands-On: Multi-Armed Bandits», Medium, oct. 19, 2020. https://towardsdatascience.com/understanding-reinforcement-learning-hands-on-part-2-multi-armed-bandits-526592072bdc (accedido jul. 30, 2021).\n",
        "\n"
      ]
    }
  ]
}
