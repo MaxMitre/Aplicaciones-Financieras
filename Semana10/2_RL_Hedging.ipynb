{
  "cells": [
    {
      "cell_type": "markdown",
      "source": [
        "[![Open In Colab](https://colab.research.google.com/assets/colab-badge.svg)](https://colab.research.google.com/github/MaxMitre/Aplicaciones-Financieras/blob/main/Semana10/2_RL_Hedging.ipynb)\n"
      ],
      "metadata": {
        "id": "bsmNyfaiLGXb"
      }
    },
    {
      "cell_type": "markdown",
      "source": [
        "# Reinforcement Learning (Aprendizaje por refuerzo) - Hedging en opciones"
      ],
      "metadata": {
        "id": "LgzsbunkPt3q"
      }
    },
    {
      "cell_type": "markdown",
      "source": [
        "Se realizarán las simulaciones de 3 millones de trayectorias como posibles movimientos de un activo que serán calculados utilizando la fórmula de Black-Scholes (a veces conocida como Black-Scholes-Merton) y con esto se entrenará un agente de aprendizaje por refuerzo."
      ],
      "metadata": {
        "id": "7VMpFWsMDo9K"
      }
    },
    {
      "cell_type": "markdown",
      "source": [
        "# Dependencias"
      ],
      "metadata": {
        "id": "XjYeio_xaF5n"
      }
    },
    {
      "cell_type": "code",
      "execution_count": null,
      "metadata": {
        "id": "-dsbufATU_5E"
      },
      "outputs": [],
      "source": [
        "import numpy as np\n",
        "from scipy.stats import norm\n",
        "import random\n",
        "import matplotlib.pyplot as plt\n",
        "import pandas as pd\n",
        "\n",
        "from tqdm.notebook import tqdm\n",
        "n = norm.pdf\n",
        "N = norm.cdf"
      ]
    },
    {
      "cell_type": "code",
      "source": [
        "from google.colab import drive\n",
        "drive.mount('/content/drive')"
      ],
      "metadata": {
        "id": "32ZsfrDbcEUE",
        "colab": {
          "base_uri": "https://localhost:8080/"
        },
        "outputId": "2bab1f88-4203-489f-a9f3-99daa1d33b1a"
      },
      "execution_count": null,
      "outputs": [
        {
          "output_type": "stream",
          "name": "stdout",
          "text": [
            "Drive already mounted at /content/drive; to attempt to forcibly remount, call drive.mount(\"/content/drive\", force_remount=True).\n"
          ]
        }
      ]
    },
    {
      "cell_type": "code",
      "source": [
        "# Ejemplo del decorador\n",
        "total = 0\n",
        "for i in tqdm(range(1000000)):\n",
        "  total += 1"
      ],
      "metadata": {
        "colab": {
          "base_uri": "https://localhost:8080/",
          "height": 49,
          "referenced_widgets": [
            "7e33ad0aab7e4f2485554f603c8bd60b",
            "585fc80342a348788e4518d3253d444c",
            "202efcd7da4f4def859804d66294bea7",
            "5d85591b1052467da184484653e0a858",
            "6c431a4321b944d69836e05d794b69c8",
            "dda4386618a04aaf895bcf17e1e1f67a",
            "86a569a77523405090a9d7dc51489e6c",
            "e87acf4cdb0b4c2f9c84bf712d75618f",
            "97ae21fca6864191b7f1107df7778125",
            "ff26bd3193b34cd29b79d0cae874548c",
            "fce243dfe7cc46d688dcb4f8569b9c5e"
          ]
        },
        "id": "dU3d65hNJw5s",
        "outputId": "85130128-bd8f-4590-8f88-fdaa8b2dc95f"
      },
      "execution_count": null,
      "outputs": [
        {
          "output_type": "display_data",
          "data": {
            "text/plain": [
              "  0%|          | 0/1000000 [00:00<?, ?it/s]"
            ],
            "application/vnd.jupyter.widget-view+json": {
              "version_major": 2,
              "version_minor": 0,
              "model_id": "7e33ad0aab7e4f2485554f603c8bd60b"
            }
          },
          "metadata": {}
        }
      ]
    },
    {
      "cell_type": "markdown",
      "source": [
        "# Funciones Auxiliares"
      ],
      "metadata": {
        "id": "kk74pvlkaIyV"
      }
    },
    {
      "cell_type": "code",
      "execution_count": null,
      "metadata": {
        "id": "CNgbEvC0U_5H"
      },
      "outputs": [],
      "source": [
        "# Para la simulación de las trayectorias de la acción utilizando Black-Scholes\n",
        "def brownian_sim(num_path, num_period, mu, std, init_p, dt):\n",
        "    z = np.random.normal(size=(num_path, num_period))\n",
        "\n",
        "    a_price = np.zeros((num_path, num_period))\n",
        "    a_price[:, 0] = init_p\n",
        "\n",
        "    for t in range(num_period - 1):\n",
        "        a_price[:, t+1] = a_price[:, t] * np.exp(\n",
        "            (mu - (std ** 2) / 2) * dt + std * np.sqrt(dt) * z[:, t]\n",
        "        )\n",
        "    return a_price\n",
        "\n",
        "# Función para la valuación de Opciones (Call) y cálculo de Delta usando Black-Scholes\n",
        "# T es el tiempo de madurez anualizado\n",
        "def bs_parameter(v, T, S, K, r, q):\n",
        "    np.seterr(divide='ignore', invalid='ignore')\n",
        "    d1 = (np.log(S / K) + (r - q + v * v / 2) * T) / (v * np.sqrt(T))\n",
        "    d2 = d1 - v * np.sqrt(T)\n",
        "    bs_price = S * np.exp(-q * T) * norm.cdf(d1) - K * np.exp(-r * T) * norm.cdf(d2)\n",
        "    bs_delta = np.exp(-q * T) * norm.cdf(d1)\n",
        "    return bs_price, bs_delta\n"
      ]
    },
    {
      "cell_type": "code",
      "execution_count": null,
      "metadata": {
        "id": "P3cejy7_U_5I"
      },
      "outputs": [],
      "source": [
        "# Define el numero de trayectorias generadas para entrenamiento y prueba\n",
        "TRAINING_SAMPLE = 3000000 # 3,000K \n",
        "TESTING_SAMPLE = 100000 # 100K\n",
        "\n",
        "# Características subyacentes del proceso para las acciones\n",
        "# Retorno anual de la acción\n",
        "MU = 0\n",
        "# Volatilidad anual\n",
        "VOL = 0.2\n",
        "# Valor inicial del activo\n",
        "S = 100\n",
        "# Retorno anual ofrecido por un activo con cero riesgo (Risk Free Rate)\n",
        "R = 0\n",
        "# Dividendos anuales\n",
        "DIVIDEND = 0\n",
        "# Días al año para compra-venta (trading)\n",
        "T = 250\n",
        "\n",
        "# Características de la Opción Call\n",
        "# Precio acordado en la Opción (Strike)\n",
        "K = 100\n",
        "# Tiempo de madurez de la opción\n",
        "M = 10\n",
        "# Número de posiciones posibles[de 0 a 10] (estado)\n",
        "N_POSITION = 11\n",
        "# Número de acciones posibles [de -5 a 5]\n",
        "N_ACTION = 11\n",
        "\n",
        "# Costo por 'Trading', medido porcentualmente\n",
        "TRADING_COST = 0\n",
        "\n",
        "# Definición de variables para aprendizaje por refuerzo\n",
        "# Constante para la función de recompensa\n",
        "constant = 1\n",
        "# epsilon mínimo\n",
        "MIN_e = 0.05\n",
        "# epsilon inicial\n",
        "e = 1\n",
        "# Decaimiento temporal\n",
        "DECAY = 0.999999\n",
        "\n",
        "# Parámetros para actualizar Q\n",
        "ALPHA = 0.01\n",
        "\n",
        "# Escoger el número de estados para el precio de la acción. Los precios se redondean al entero mas cercano.\n",
        "# Precios mayores o iguales a 107 son tomados como el mismo estado\n",
        "# Precios menores o iguales a 93 son tomados como el mismo estado\n",
        "STOCK_PRICE_STATE = 15"
      ]
    },
    {
      "cell_type": "code",
      "execution_count": null,
      "metadata": {
        "id": "6NDde-FmU_5J"
      },
      "outputs": [],
      "source": [
        "# Avance de tiempo por día\n",
        "dt = 1/T\n",
        "\n",
        "# Serie para el tiempo de madurez de la opción\n",
        "ttm = np.arange(M,-1, -1)"
      ]
    },
    {
      "cell_type": "code",
      "execution_count": null,
      "metadata": {
        "id": "4qy44wfqU_5K"
      },
      "outputs": [],
      "source": [
        "# Inicializa Q con valores cero para los pares estado-decisión (acción)\n",
        "q = np.zeros((M+1,STOCK_PRICE_STATE,N_POSITION,N_ACTION))"
      ]
    },
    {
      "cell_type": "code",
      "source": [
        "# Las dimensions representan: Madurez, Precio de activo, Estado de Hedge, Acción a tomar\n",
        "q.shape"
      ],
      "metadata": {
        "id": "rNG9L0NWbpoD",
        "colab": {
          "base_uri": "https://localhost:8080/"
        },
        "outputId": "fb0c9d18-fdeb-41b8-fbd6-376f9b84add1"
      },
      "execution_count": null,
      "outputs": [
        {
          "output_type": "execute_result",
          "data": {
            "text/plain": [
              "(11, 15, 11, 11)"
            ]
          },
          "metadata": {},
          "execution_count": 8
        }
      ]
    },
    {
      "cell_type": "code",
      "source": [
        "# Acciones a tomar cuando\n",
        "# El tiempo de madurez llegó a 10, el precio del activo es 100 (la posición del 7) y posee 8 shares de activos\n",
        "q[10,7,8]"
      ],
      "metadata": {
        "colab": {
          "base_uri": "https://localhost:8080/"
        },
        "id": "P7vWkC1sRarl",
        "outputId": "60161023-1c9c-49b6-ee81-73d6a593d272"
      },
      "execution_count": null,
      "outputs": [
        {
          "output_type": "execute_result",
          "data": {
            "text/plain": [
              "array([0., 0., 0., 0., 0., 0., 0., 0., 0., 0., 0.])"
            ]
          },
          "metadata": {},
          "execution_count": 9
        }
      ]
    },
    {
      "cell_type": "markdown",
      "source": [
        "# Fase de entrenamiento"
      ],
      "metadata": {
        "id": "fUFvGkYAc18R"
      }
    },
    {
      "cell_type": "code",
      "source": [
        "np.set_printoptions(suppress=True)"
      ],
      "metadata": {
        "id": "ea8N4D8WeIcR"
      },
      "execution_count": null,
      "outputs": []
    },
    {
      "cell_type": "code",
      "source": [
        "# Simulación de trayectorias y cálculo de parámetros BS para fase de entrenamiento\n",
        "price_table = brownian_sim(TRAINING_SAMPLE,M+1, MU, VOL, S, dt)\n",
        "call_price_table, delta_table = bs_parameter(VOL, ttm / T, price_table, K,R, DIVIDEND)\n",
        "print(\"Simulación de trayectorias de activos y calculo de parámetros BS completados\")"
      ],
      "metadata": {
        "id": "wFI4RVQRdFae",
        "colab": {
          "base_uri": "https://localhost:8080/"
        },
        "outputId": "b8b8bd39-48de-444d-f714-f5328b111ff6"
      },
      "execution_count": null,
      "outputs": [
        {
          "output_type": "stream",
          "name": "stdout",
          "text": [
            "Simulación de trayectorias de activos y calculo de parámetros BS completados\n"
          ]
        }
      ]
    },
    {
      "cell_type": "code",
      "source": [
        "j=10"
      ],
      "metadata": {
        "id": "Zy8UvzEQd5s5"
      },
      "execution_count": null,
      "outputs": []
    },
    {
      "cell_type": "code",
      "source": [
        "price_table[1]"
      ],
      "metadata": {
        "id": "v8NKWupOdvSj",
        "colab": {
          "base_uri": "https://localhost:8080/"
        },
        "outputId": "ac1a9a12-e196-4f46-8451-f49002dc433b"
      },
      "execution_count": null,
      "outputs": [
        {
          "output_type": "execute_result",
          "data": {
            "text/plain": [
              "array([100.        ,  99.31939639, 100.3169619 ,  99.10410415,\n",
              "       100.12760193, 101.40834547, 101.24927304, 101.63260327,\n",
              "        99.71951471,  97.65584041,  96.9904121 ])"
            ]
          },
          "metadata": {},
          "execution_count": 13
        }
      ]
    },
    {
      "cell_type": "code",
      "source": [
        "call_price_table[j]"
      ],
      "metadata": {
        "id": "VvAlsCskdMeL",
        "colab": {
          "base_uri": "https://localhost:8080/"
        },
        "outputId": "a9b4731e-82a3-44d1-f7dd-8aa54579dec9"
      },
      "execution_count": null,
      "outputs": [
        {
          "output_type": "execute_result",
          "data": {
            "text/plain": [
              "array([1.59566274, 0.89241975, 0.89080238, 0.92003976, 1.03382042,\n",
              "       0.20236345, 0.20712045, 0.31267587, 0.59560608, 0.09875383,\n",
              "       1.09884313])"
            ]
          },
          "metadata": {},
          "execution_count": 14
        }
      ]
    },
    {
      "cell_type": "code",
      "source": [
        "delta_table[j]"
      ],
      "metadata": {
        "id": "t3mU3tspdzGA",
        "colab": {
          "base_uri": "https://localhost:8080/"
        },
        "outputId": "1b35ab88-ff24-45e9-9b97-c157ba1b413d"
      },
      "execution_count": null,
      "outputs": [
        {
          "output_type": "execute_result",
          "data": {
            "text/plain": [
              "array([0.50797831, 0.35850582, 0.37240044, 0.39787304, 0.45182728,\n",
              "       0.14528265, 0.161125  , 0.24661088, 0.44833471, 0.152869  ,\n",
              "       1.        ])"
            ]
          },
          "metadata": {},
          "execution_count": 15
        }
      ]
    },
    {
      "cell_type": "code",
      "source": [
        "# Redondeo de los precios de activo y convertirlos a los 15 diferentes estados\n",
        "# [<=93,94,95,96, ... 103,104,105,106, >= 107] - > [0,1,2,3,4,5,....12,13,14,15]\n",
        "price_state_table = np.round(price_table).astype(int)\n",
        "price_state_table = np.where(price_state_table < 93, 93, price_state_table)\n",
        "price_state_table = np.where(price_state_table > 107, 107, price_state_table)\n",
        "price_state_table = price_state_table - 93"
      ],
      "metadata": {
        "id": "cLBU2gg_fM53"
      },
      "execution_count": null,
      "outputs": []
    },
    {
      "cell_type": "code",
      "source": [
        "price_state_table[1]"
      ],
      "metadata": {
        "colab": {
          "base_uri": "https://localhost:8080/"
        },
        "id": "ZlHKN0bbTSo3",
        "outputId": "baf97e9b-9a02-46e2-ff14-314f7ff568ee"
      },
      "execution_count": null,
      "outputs": [
        {
          "output_type": "execute_result",
          "data": {
            "text/plain": [
              "array([7, 6, 7, 6, 7, 8, 8, 9, 7, 5, 4])"
            ]
          },
          "metadata": {},
          "execution_count": 17
        }
      ]
    },
    {
      "cell_type": "code",
      "execution_count": null,
      "metadata": {
        "scrolled": true,
        "id": "J7QO1ZM4U_5K"
      },
      "outputs": [],
      "source": [
        "print(\"Entrenamiento en proceso:\")\n",
        "\n",
        "for i in tqdm(range(len(price_table))):\n",
        "\n",
        "    asset_price = price_table[i]\n",
        "    price_state = price_state_table[i]\n",
        "    bscall = call_price_table[i]\n",
        "    position = 0\n",
        "    position_list = np.empty(0, dtype=int)\n",
        "    reward_list = np.empty(0, dtype=int)\n",
        "    action_list = np.empty(0, dtype=int)\n",
        "    total_reward = np.empty(0, dtype=int)\n",
        "    \n",
        "    for t in range(M):\n",
        "        if np.random.rand() <= e:\n",
        "            # Aplicamos EXPLORACIÓN\n",
        "            # Note que el rango de las acciones está entre vender 5 shares y comprar 5 shares\n",
        "            # Por eso aquí se restan 5 a la acción tomada\n",
        "            action = random.randrange(0,N_ACTION) - 5\n",
        "        else:\n",
        "            # EXPLOTACIÓN\n",
        "            # Asumimos que en el tiempo 0 el agente tiene 0 shares\n",
        "            if t == 0: \n",
        "                lookup_position = 0\n",
        "            \n",
        "            else:\n",
        "                lookup_position = position_list[t-1]\n",
        "            # Si se activa 'explotación', encuentra el mínimo valor no-cero en Q\n",
        "            # Se usa un 'try' porque el agente puede llegar a un estado no visitado antes y ahi todos los valores de Q son ceros\n",
        "            # Si el agente llega a un estado en que nunca ha estado antes, se toma una acción al azar\n",
        "            try:\n",
        "                action = np.where(q[t][price_state[t]][lookup_position]==np.min(q[t][price_state[t]][lookup_position][np.nonzero(q[t][price_state[t]][lookup_position])]))[0][0] - 5 \n",
        "            except:\n",
        "                action = random.randrange(0,N_ACTION) - 5\n",
        "        \n",
        "        # Obligando al agente a que solo tenga entre 0 y 10 shares\n",
        "        if position + action >10:\n",
        "            action = 10 - position\n",
        "            new_position = 10\n",
        "        elif position + action <0:\n",
        "            action = -position\n",
        "            new_position = 0             \n",
        "        else:\n",
        "            new_position = action + position\n",
        "        \n",
        "        # Condicional para calcular el costo por transacción (cuando no es cero) Nota: Cuando se quiere encontrar delta para delta hedging, el costo por transacción es 0\n",
        "        # Si t es un día antes de la fecha de madurez, se cobra un extra por venderlos al final del periodo\n",
        "        if t == M-1:\n",
        "            transaction_cost = (asset_price[t]*abs(new_position - position)*TRADING_COST + new_position*asset_price[t+1]*TRADING_COST)\n",
        "        else:\n",
        "            transaction_cost = (asset_price[t]*abs(new_position - position)*TRADING_COST)\n",
        "        \n",
        "        # La Recompensa se calcula como\n",
        "        # PNL es una formulación en la que el hedge se calcula en cada etapa\n",
        "        # expected hedging cost + constant * variance of total pnl from hedging.\n",
        "        \n",
        "        # Buscando delta, la recompensa es minimizando la varianza de P&L total del caso de hedging\n",
        "        # La constante se toma 1 para el caso de buscar delta.\n",
        "        reward = transaction_cost + constant * (transaction_cost-(asset_price[t+1] - asset_price[t])*new_position+10*(bscall[t+1] - bscall[t]))**2\n",
        "        \n",
        "        position_list= np.append(position_list,new_position)\n",
        "        position = new_position\n",
        "        action_list = np.append(action_list,action)\n",
        "        reward_list = np.append(reward_list,reward)\n",
        "        \n",
        "\n",
        "    position_list = np.append(position_list,0)\n",
        "    action_list = np.append(action_list,0)\n",
        "    total_reward  = np.append(total_reward,sum(reward_list))\n",
        "    \n",
        "    # Convierte la lista de acciones de -5 a 5 en la de 0 a 10, la tabla empieza con el índice 0\n",
        "    # Es decir: índice 0 en la tabla significa acción = -5 e índice 10 en tabla significa acción = 5\n",
        "    action_list = action_list + 5\n",
        "    \n",
        "    # Actualizar Q\n",
        "    for t in range(M):\n",
        "        if t == 0: \n",
        "            lookup_position = 0\n",
        "        else:\n",
        "            lookup_position = position_list[t-1]\n",
        "        qnew = reward_list[t] + q[t+1][price_state[t+1]][position_list[t]][action_list[t+1]]\n",
        "        q[t][price_state[t]][lookup_position][action_list[t]] = q[t][price_state[t]][lookup_position][action_list[t]] + ALPHA * (qnew - q[t][price_state[t]][lookup_position][action_list[t]]) \n",
        "    \n",
        "    # Decae con el tiempo (epsilon) para que el agente se vuela mas propenso a usar EXPLOTACIÓN\n",
        "    if e > MIN_e:\n",
        "        e = e * DECAY\n",
        "\n",
        "# Save Q at the end after training \n",
        "np.save('/content/drive/MyDrive/Cruso-ApsFinancieras/semana10/Q_RL_Hedging',q)     "
      ]
    },
    {
      "cell_type": "markdown",
      "source": [
        "# Fase de pruebas\n",
        "\n",
        "Aquí el agente ya no está interesado en aprender, solo en llevar a cabo la mejor decisión posible\n"
      ],
      "metadata": {
        "id": "VIf4fwG9c4rg"
      }
    },
    {
      "cell_type": "code",
      "source": [
        "# Cargar Q de entrenamiento\n",
        "q = np.load('/content/drive/MyDrive/Cruso-ApsFinancieras/semana10/Q_RL_Hedging.npy')  "
      ],
      "metadata": {
        "id": "MHqdGC4OjH96"
      },
      "execution_count": null,
      "outputs": []
    },
    {
      "cell_type": "code",
      "source": [
        "q[6,7,8]"
      ],
      "metadata": {
        "colab": {
          "base_uri": "https://localhost:8080/"
        },
        "id": "Zqg3yYm4WJsq",
        "outputId": "eed0cdbd-8f08-4ca4-d7fd-ce1fa6ff6439"
      },
      "execution_count": null,
      "outputs": [
        {
          "output_type": "execute_result",
          "data": {
            "text/plain": [
              "array([37.8014903 , 36.99398929, 23.51592473, 35.56369662, 34.09858222,\n",
              "       53.7151978 , 58.79775478, 66.37136488,  0.        ,  0.        ,\n",
              "        0.        ])"
            ]
          },
          "metadata": {},
          "execution_count": 20
        }
      ]
    },
    {
      "cell_type": "code",
      "source": [
        "# Simulación de trayectorias y cálculo de parámetros BS para fase de entrenamiento de pruebas\n",
        "price_table = brownian_sim(TESTING_SAMPLE,M+1, MU, VOL, S, dt)\n",
        "call_price_table, delta_table = bs_parameter(VOL, ttm / T, price_table, K,R, DIVIDEND)"
      ],
      "metadata": {
        "id": "DmTY-sGQjK_T"
      },
      "execution_count": null,
      "outputs": []
    },
    {
      "cell_type": "code",
      "source": [
        "# Redondear delta al primer decimal mas cercano\n",
        "rounded_delta = np.round(delta_table*100/10,0).astype(int)\n",
        "print(\"Simulación de trayectorias de activos y calculo de parámetros BS completados\")\n",
        "\n",
        "# Redondeo de los precios de activo y convertirlos a los 15 diferentes estados\n",
        "# [<=93,94,95,96, ... 103,104,105,106, >= 107] - > [0,1,2,3,4,5,....12,13,14,15]\n",
        "price_state_table = np.round(price_table).astype(int)\n",
        "price_state_table = np.where(price_state_table < 93, 93, price_state_table)\n",
        "price_state_table = np.where(price_state_table > 107, 107, price_state_table)\n",
        "price_state_table = price_state_table - 93"
      ],
      "metadata": {
        "id": "IXQtISYpjP3W",
        "colab": {
          "base_uri": "https://localhost:8080/"
        },
        "outputId": "06987c75-25ad-45f5-9bd7-8087965fe316"
      },
      "execution_count": null,
      "outputs": [
        {
          "output_type": "stream",
          "name": "stdout",
          "text": [
            "Simulación de trayectorias de activos y calculo de parámetros BS completados\n"
          ]
        }
      ]
    },
    {
      "cell_type": "code",
      "source": [
        "rounded_delta"
      ],
      "metadata": {
        "id": "mETLiRN0yYBR",
        "colab": {
          "base_uri": "https://localhost:8080/"
        },
        "outputId": "7a275daa-7ae1-4915-e267-56cab5fb41bf"
      },
      "execution_count": null,
      "outputs": [
        {
          "output_type": "execute_result",
          "data": {
            "text/plain": [
              "array([[ 5,  6,  7, ...,  7,  4,  0],\n",
              "       [ 5,  4,  3, ...,  4,  4, 10],\n",
              "       [ 5,  5,  5, ...,  8, 10, 10],\n",
              "       ...,\n",
              "       [ 5,  5,  6, ..., 10, 10, 10],\n",
              "       [ 5,  5,  7, ...,  0,  0,  0],\n",
              "       [ 5,  4,  5, ...,  9, 10, 10]])"
            ]
          },
          "metadata": {},
          "execution_count": 23
        }
      ]
    },
    {
      "cell_type": "code",
      "source": [
        "delta_table"
      ],
      "metadata": {
        "id": "TycH3edByb1L",
        "colab": {
          "base_uri": "https://localhost:8080/"
        },
        "outputId": "8bffe0ee-7483-4943-cc86-203d7ffe62fe"
      },
      "execution_count": null,
      "outputs": [
        {
          "output_type": "execute_result",
          "data": {
            "text/plain": [
              "array([[0.50797831, 0.5605575 , 0.67803959, ..., 0.70833436, 0.35086437,\n",
              "        0.        ],\n",
              "       [0.50797831, 0.38952631, 0.34438916, ..., 0.41146989, 0.40442099,\n",
              "        1.        ],\n",
              "       [0.50797831, 0.45380049, 0.54416738, ..., 0.75617493, 0.95226379,\n",
              "        1.        ],\n",
              "       ...,\n",
              "       [0.50797831, 0.49601529, 0.63156664, ..., 0.99999921, 1.        ,\n",
              "        1.        ],\n",
              "       [0.50797831, 0.540152  , 0.69279329, ..., 0.0000139 , 0.00000002,\n",
              "        0.        ],\n",
              "       [0.50797831, 0.44142752, 0.46828715, ..., 0.86903246, 0.99762047,\n",
              "        1.        ]])"
            ]
          },
          "metadata": {},
          "execution_count": 24
        }
      ]
    },
    {
      "cell_type": "code",
      "execution_count": null,
      "metadata": {
        "id": "vhgPLlF8U_5M",
        "colab": {
          "base_uri": "https://localhost:8080/",
          "height": 292,
          "referenced_widgets": [
            "fad06adcd13541ccb255d25319048c30",
            "f05c558ac0e74301800d19cacd8639a7",
            "c347d59ac0e34b2fa80380cc7861b1ff",
            "76f5ce542b1b4a039784eb813191003d",
            "216cfca5a07e49a3a631ff276b43c3db",
            "0cf30e0634b545eba0c0a17b9382dbc5",
            "c9d1dc3dabc04a149cca3f9edf60dc2e",
            "e1c8120fd0f842abad0b6f83ba6136f5",
            "ac693a685548404b895cfd91198211bc",
            "1d6cf05bf8d14e1f864d5f7ac68f08b4",
            "8b68bf03e3ef4372a8e59a032cecb91c"
          ]
        },
        "outputId": "a1bd8a63-55e9-4e84-cb57-0bc3092be328"
      },
      "outputs": [
        {
          "output_type": "stream",
          "name": "stdout",
          "text": [
            "Test is in progress:\n"
          ]
        },
        {
          "output_type": "display_data",
          "data": {
            "text/plain": [
              "  0%|          | 0/100000 [00:00<?, ?it/s]"
            ],
            "application/vnd.jupyter.widget-view+json": {
              "version_major": 2,
              "version_minor": 0,
              "model_id": "fad06adcd13541ccb255d25319048c30"
            }
          },
          "metadata": {}
        },
        {
          "output_type": "stream",
          "name": "stdout",
          "text": [
            "\n",
            " Estadísticas de Reinforcement Learning Hedging:\n",
            " RL E(C): -0.014520023836898563\n",
            " RL var(C): 22.604537393787556\n",
            " RL std(C): 4.754422929629584\n",
            "\n",
            " Estadísticas de Delta Hedging:\n",
            " Delta E(C): -0.0066727009227978695\n",
            " Delta var(C): 19.066853180118585\n",
            " Delta std(C): 4.366560795422249\n",
            "\n",
            " Diferencia en la posición:\n",
            " Diferencia absoluta promedio entre la position de DH y RLH: 0.318126\n"
          ]
        }
      ],
      "source": [
        "total_rl_reward = np.empty(0, dtype=int)\n",
        "total_dh_reward = np.empty(0, dtype=int)\n",
        "all_shares_pnl = np.empty(shape=(TESTING_SAMPLE, len(ttm)-1))\n",
        "all_call_option_pnl = np.empty(shape=(TESTING_SAMPLE, len(ttm)-1))\n",
        "abs_deviation = list()\n",
        "\n",
        "print(\"Test is in progress:\")\n",
        "for i in tqdm(range(len(price_table))):\n",
        "    \n",
        "    rl_position = 0\n",
        "    dh_position = 0\n",
        "    asset_price = price_table[i]\n",
        "    price_state = price_state_table[i]\n",
        "    bscall = call_price_table[i]\n",
        "    bsdelta = rounded_delta[i]\n",
        "    position_list = np.empty(0, dtype=int)\n",
        "    rl_reward_list = np.empty(0, dtype=int)\n",
        "    dh_reward_list = np.empty(0, dtype=int)\n",
        "    action_list = np.empty(0, dtype=int)\n",
        "    shares_pnl = np.empty(0, dtype=int)\n",
        "    call_option_pnl = np.empty(0, dtype=int)\n",
        "    \n",
        "    for t in range(M):\n",
        "        \n",
        "        # Posición a mantener si el agente aplicará Delta Hedging\n",
        "        new_dh_position = bsdelta[t]\n",
        "        \n",
        "        # Asumimos que en el tiempo 0 el agente tiene 0 shares\n",
        "        if t == 0: \n",
        "            lookup_position = 0\n",
        "        else:\n",
        "            lookup_position = position_list[t-1]\n",
        "        \n",
        "        # Escoge acción encontrando el mínimo valor no cero en la tabla Q\n",
        "        # Usar el try porque puede que el agente haya llegado a una posición no antes vista.\n",
        "        # Si eso sucede, el agente no intercambia shares de ninguna manera        \n",
        "        try:\n",
        "            rl_action = np.where(q[t][price_state[t]][lookup_position]==np.min(q[t][price_state[t]][lookup_position][np.nonzero(q[t][price_state[t]][lookup_position])]))[0][0] - 5 \n",
        "        except:\n",
        "            rl_action = 0\n",
        "        \n",
        "        # Obligamos al agente a mantener shares entre 0 y 10\n",
        "        if rl_position + rl_action >10:\n",
        "            rl_action = 10 - rl_position\n",
        "            new_rl_position = 10\n",
        "        elif rl_position + rl_action <0:\n",
        "            rl_action = -rl_position\n",
        "            new_rl_position = 0\n",
        "\n",
        "        else:\n",
        "            new_rl_position = rl_action + rl_position \n",
        "        \n",
        "        # Calculamos el P&L periodo a periodo para ambos casos: Delta Hedge y Renforcement Learning Hedging\n",
        "        if t == M-1:\n",
        "            rl_transaction_cost = (asset_price[t]*abs(new_rl_position - rl_position)*TRADING_COST + new_rl_position*asset_price[t+1]*TRADING_COST)\n",
        "            dh_transaction_cost = (asset_price[t]*abs(new_dh_position - dh_position)*TRADING_COST + new_dh_position*asset_price[t+1]*TRADING_COST)\n",
        "        else:\n",
        "            rl_transaction_cost = (asset_price[t]*abs(new_rl_position - rl_position)*TRADING_COST)\n",
        "            dh_transaction_cost = (asset_price[t]*abs(new_dh_position - dh_position)*TRADING_COST)\n",
        "        \n",
        "        \n",
        "        call_option_pnl = np.append(call_option_pnl,10*(bscall[t+1] - bscall[t]))\n",
        "        shares_pnl = np.append(shares_pnl, (asset_price[t+1] - asset_price[t])*new_rl_position)\n",
        "        rl_reward = rl_transaction_cost - (asset_price[t+1] - asset_price[t])*new_rl_position+10*(bscall[t+1] - bscall[t])\n",
        "        dh_reward = dh_transaction_cost - (asset_price[t+1] - asset_price[t])*new_dh_position+10*(bscall[t+1] - bscall[t])\n",
        "    \n",
        "        \n",
        "        position_list= np.append(position_list,new_rl_position)\n",
        "        action_list = np.append(action_list,rl_action)\n",
        "        rl_position = new_rl_position\n",
        "        dh_position = new_dh_position\n",
        "        rl_reward_list = np.append(rl_reward_list,rl_reward)\n",
        "        dh_reward_list = np.append(dh_reward_list,dh_reward)\n",
        "    \n",
        "    abs_deviation = np.append(abs_deviation,sum(abs(bsdelta[:-1]-position_list))/10)    \n",
        "    position_list = np.append(position_list,0)\n",
        "    action_list = np.append(action_list,0) \n",
        "    total_rl_reward = np.append(total_rl_reward,sum(rl_reward_list))\n",
        "    total_dh_reward = np.append(total_dh_reward,sum(dh_reward_list))\n",
        "    all_shares_pnl[i,:] = shares_pnl\n",
        "    all_call_option_pnl[i,:]  = call_option_pnl\n",
        "    \n",
        "print('\\n Estadísticas de Reinforcement Learning Hedging:')\n",
        "print(' RL E(C):', np.average(total_rl_reward))\n",
        "print(' RL var(C):', np.var(total_rl_reward))\n",
        "print(' RL std(C):', np.std(total_rl_reward))\n",
        "\n",
        "print('\\n Estadísticas de Delta Hedging:')\n",
        "print(' Delta E(C):', np.average(total_dh_reward))\n",
        "print(' Delta var(C):', np.var(total_dh_reward))\n",
        "print(' Delta std(C):', np.std(total_dh_reward))\n",
        "\n",
        "print('\\n Diferencia en la posición:')\n",
        "print(' Diferencia absoluta promedio entre la position de DH y RLH:', np.average(abs_deviation))\n"
      ]
    },
    {
      "cell_type": "code",
      "execution_count": null,
      "metadata": {
        "id": "hcFOhAGnU_5N",
        "colab": {
          "base_uri": "https://localhost:8080/",
          "height": 283
        },
        "outputId": "ffff7d21-296b-4ac4-ad65-9777f66145ae"
      },
      "outputs": [
        {
          "output_type": "display_data",
          "data": {
            "text/plain": [
              "<Figure size 432x288 with 1 Axes>"
            ],
            "image/png": "[encoded data removed]"
          },
          "metadata": {
            "needs_background": "light"
          }
        }
      ],
      "source": [
        "# Visualización de P&L para la última trayectoria en datos de prueba (test)\n",
        "\n",
        "df=pd.DataFrame({'Time to Maturity': ttm[1:], 'Call Option pnl': -all_call_option_pnl[-1,:], 'Shares pnl': all_shares_pnl[-1,:], 'RL Holdings': position_list[:-1], 'Delta': bsdelta[:-1]})\n",
        " \n",
        "# Plot de multiples lineas\n",
        "plt.plot( 'Time to Maturity', 'Call Option pnl', data=df, marker='', color='skyblue', linewidth=4)\n",
        "plt.plot( 'Time to Maturity', 'Shares pnl', data=df, marker='', color='olive', linewidth=4)\n",
        "plt.plot( 'Time to Maturity', 'RL Holdings', data=df, marker='', color='green', linewidth=4, linestyle='dashed')\n",
        "plt.plot( 'Time to Maturity', 'Delta', data=df, marker='', color='red', linewidth=4, linestyle='dashed')\n",
        "\n",
        "# Etiquetas\n",
        "plt.legend()\n",
        "plt.legend(['Call Option pnl', 'Shares pnl', 'RL Holdings in previous period', 'Delta in previous period'], loc='upper left')\n",
        "\n",
        "# Límites en los ejes\n",
        "plt.xlim(10,0)\n",
        "plt.ylim(-30,30)\n",
        "plt.xlim(10,0)\n",
        "\n",
        "# Etiqueta de imagen\n",
        "plt.ylabel('PnL / Holdings')\n",
        "plt.xlabel('Tiempo de madurez')\n",
        "\n",
        "plt.show()"
      ]
    },
    {
      "cell_type": "markdown",
      "source": [
        "# Ejercicios"
      ],
      "metadata": {
        "id": "78Js91Eyy4D0"
      }
    },
    {
      "cell_type": "markdown",
      "source": [
        "- ¿Que pasa al modificar la variable TRADING_COST? \n",
        "- ¿Modificarían el DECAY de epsilon de alguna manera? ¿Como se hizo la clase pasada?\n",
        "- "
      ],
      "metadata": {
        "id": "VqIEIQjzvKv_"
      }
    },
    {
      "cell_type": "markdown",
      "source": [
        "# Referencias \n",
        "\n",
        "- http://www-2.rotman.utoronto.ca/~hull/downloadablepublications/RL_Deep_Hedging.pdf"
      ],
      "metadata": {
        "id": "rVi7XxglYpO5"
      }
    }
  ],
  "metadata": {
    "kernelspec": {
      "display_name": "Python 3",
      "language": "python",
      "name": "python3"
    },
    "language_info": {
      "codemirror_mode": {
        "name": "ipython",
        "version": 3
      },
      "file_extension": ".py",
      "mimetype": "text/x-python",
      "name": "python",
      "nbconvert_exporter": "python",
      "pygments_lexer": "ipython3",
      "version": "3.7.6"
    },
    "colab": {
      "name": "semana10.2_Aps_Financieras2_RL_Hedging.ipynb",
      "provenance": [],
      "collapsed_sections": []
    },
    "widgets": {
      "application/vnd.jupyter.widget-state+json": {
        "7e33ad0aab7e4f2485554f603c8bd60b": {
          "model_module": "@jupyter-widgets/controls",
          "model_name": "HBoxModel",
          "model_module_version": "1.5.0",
          "state": {
            "_dom_classes": [],
            "_model_module": "@jupyter-widgets/controls",
            "_model_module_version": "1.5.0",
            "_model_name": "HBoxModel",
            "_view_count": null,
            "_view_module": "@jupyter-widgets/controls",
            "_view_module_version": "1.5.0",
            "_view_name": "HBoxView",
            "box_style": "",
            "children": [
              "IPY_MODEL_585fc80342a348788e4518d3253d444c",
              "IPY_MODEL_202efcd7da4f4def859804d66294bea7",
              "IPY_MODEL_5d85591b1052467da184484653e0a858"
            ],
            "layout": "IPY_MODEL_6c431a4321b944d69836e05d794b69c8"
          }
        },
        "585fc80342a348788e4518d3253d444c": {
          "model_module": "@jupyter-widgets/controls",
          "model_name": "HTMLModel",
          "model_module_version": "1.5.0",
          "state": {
            "_dom_classes": [],
            "_model_module": "@jupyter-widgets/controls",
            "_model_module_version": "1.5.0",
            "_model_name": "HTMLModel",
            "_view_count": null,
            "_view_module": "@jupyter-widgets/controls",
            "_view_module_version": "1.5.0",
            "_view_name": "HTMLView",
            "description": "",
            "description_tooltip": null,
            "layout": "IPY_MODEL_dda4386618a04aaf895bcf17e1e1f67a",
            "placeholder": "​",
            "style": "IPY_MODEL_86a569a77523405090a9d7dc51489e6c",
            "value": "100%"
          }
        },
        "202efcd7da4f4def859804d66294bea7": {
          "model_module": "@jupyter-widgets/controls",
          "model_name": "FloatProgressModel",
          "model_module_version": "1.5.0",
          "state": {
            "_dom_classes": [],
            "_model_module": "@jupyter-widgets/controls",
            "_model_module_version": "1.5.0",
            "_model_name": "FloatProgressModel",
            "_view_count": null,
            "_view_module": "@jupyter-widgets/controls",
            "_view_module_version": "1.5.0",
            "_view_name": "ProgressView",
            "bar_style": "success",
            "description": "",
            "description_tooltip": null,
            "layout": "IPY_MODEL_e87acf4cdb0b4c2f9c84bf712d75618f",
            "max": 1000000,
            "min": 0,
            "orientation": "horizontal",
            "style": "IPY_MODEL_97ae21fca6864191b7f1107df7778125",
            "value": 1000000
          }
        },
        "5d85591b1052467da184484653e0a858": {
          "model_module": "@jupyter-widgets/controls",
          "model_name": "HTMLModel",
          "model_module_version": "1.5.0",
          "state": {
            "_dom_classes": [],
            "_model_module": "@jupyter-widgets/controls",
            "_model_module_version": "1.5.0",
            "_model_name": "HTMLModel",
            "_view_count": null,
            "_view_module": "@jupyter-widgets/controls",
            "_view_module_version": "1.5.0",
            "_view_name": "HTMLView",
            "description": "",
            "description_tooltip": null,
            "layout": "IPY_MODEL_ff26bd3193b34cd29b79d0cae874548c",
            "placeholder": "​",
            "style": "IPY_MODEL_fce243dfe7cc46d688dcb4f8569b9c5e",
            "value": " 1000000/1000000 [00:01&lt;00:00, 816468.52it/s]"
          }
        },
        "6c431a4321b944d69836e05d794b69c8": {
          "model_module": "@jupyter-widgets/base",
          "model_name": "LayoutModel",
          "model_module_version": "1.2.0",
          "state": {
            "_model_module": "@jupyter-widgets/base",
            "_model_module_version": "1.2.0",
            "_model_name": "LayoutModel",
            "_view_count": null,
            "_view_module": "@jupyter-widgets/base",
            "_view_module_version": "1.2.0",
            "_view_name": "LayoutView",
            "align_content": null,
            "align_items": null,
            "align_self": null,
            "border": null,
            "bottom": null,
            "display": null,
            "flex": null,
            "flex_flow": null,
            "grid_area": null,
            "grid_auto_columns": null,
            "grid_auto_flow": null,
            "grid_auto_rows": null,
            "grid_column": null,
            "grid_gap": null,
            "grid_row": null,
            "grid_template_areas": null,
            "grid_template_columns": null,
            "grid_template_rows": null,
            "height": null,
            "justify_content": null,
            "justify_items": null,
            "left": null,
            "margin": null,
            "max_height": null,
            "max_width": null,
            "min_height": null,
            "min_width": null,
            "object_fit": null,
            "object_position": null,
            "order": null,
            "overflow": null,
            "overflow_x": null,
            "overflow_y": null,
            "padding": null,
            "right": null,
            "top": null,
            "visibility": null,
            "width": null
          }
        },
        "dda4386618a04aaf895bcf17e1e1f67a": {
          "model_module": "@jupyter-widgets/base",
          "model_name": "LayoutModel",
          "model_module_version": "1.2.0",
          "state": {
            "_model_module": "@jupyter-widgets/base",
            "_model_module_version": "1.2.0",
            "_model_name": "LayoutModel",
            "_view_count": null,
            "_view_module": "@jupyter-widgets/base",
            "_view_module_version": "1.2.0",
            "_view_name": "LayoutView",
            "align_content": null,
            "align_items": null,
            "align_self": null,
            "border": null,
            "bottom": null,
            "display": null,
            "flex": null,
            "flex_flow": null,
            "grid_area": null,
            "grid_auto_columns": null,
            "grid_auto_flow": null,
            "grid_auto_rows": null,
            "grid_column": null,
            "grid_gap": null,
            "grid_row": null,
            "grid_template_areas": null,
            "grid_template_columns": null,
            "grid_template_rows": null,
            "height": null,
            "justify_content": null,
            "justify_items": null,
            "left": null,
            "margin": null,
            "max_height": null,
            "max_width": null,
            "min_height": null,
            "min_width": null,
            "object_fit": null,
            "object_position": null,
            "order": null,
            "overflow": null,
            "overflow_x": null,
            "overflow_y": null,
            "padding": null,
            "right": null,
            "top": null,
            "visibility": null,
            "width": null
          }
        },
        "86a569a77523405090a9d7dc51489e6c": {
          "model_module": "@jupyter-widgets/controls",
          "model_name": "DescriptionStyleModel",
          "model_module_version": "1.5.0",
          "state": {
            "_model_module": "@jupyter-widgets/controls",
            "_model_module_version": "1.5.0",
            "_model_name": "DescriptionStyleModel",
            "_view_count": null,
            "_view_module": "@jupyter-widgets/base",
            "_view_module_version": "1.2.0",
            "_view_name": "StyleView",
            "description_width": ""
          }
        },
        "e87acf4cdb0b4c2f9c84bf712d75618f": {
          "model_module": "@jupyter-widgets/base",
          "model_name": "LayoutModel",
          "model_module_version": "1.2.0",
          "state": {
            "_model_module": "@jupyter-widgets/base",
            "_model_module_version": "1.2.0",
            "_model_name": "LayoutModel",
            "_view_count": null,
            "_view_module": "@jupyter-widgets/base",
            "_view_module_version": "1.2.0",
            "_view_name": "LayoutView",
            "align_content": null,
            "align_items": null,
            "align_self": null,
            "border": null,
            "bottom": null,
            "display": null,
            "flex": null,
            "flex_flow": null,
            "grid_area": null,
            "grid_auto_columns": null,
            "grid_auto_flow": null,
            "grid_auto_rows": null,
            "grid_column": null,
            "grid_gap": null,
            "grid_row": null,
            "grid_template_areas": null,
            "grid_template_columns": null,
            "grid_template_rows": null,
            "height": null,
            "justify_content": null,
            "justify_items": null,
            "left": null,
            "margin": null,
            "max_height": null,
            "max_width": null,
            "min_height": null,
            "min_width": null,
            "object_fit": null,
            "object_position": null,
            "order": null,
            "overflow": null,
            "overflow_x": null,
            "overflow_y": null,
            "padding": null,
            "right": null,
            "top": null,
            "visibility": null,
            "width": null
          }
        },
        "97ae21fca6864191b7f1107df7778125": {
          "model_module": "@jupyter-widgets/controls",
          "model_name": "ProgressStyleModel",
          "model_module_version": "1.5.0",
          "state": {
            "_model_module": "@jupyter-widgets/controls",
            "_model_module_version": "1.5.0",
            "_model_name": "ProgressStyleModel",
            "_view_count": null,
            "_view_module": "@jupyter-widgets/base",
            "_view_module_version": "1.2.0",
            "_view_name": "StyleView",
            "bar_color": null,
            "description_width": ""
          }
        },
        "ff26bd3193b34cd29b79d0cae874548c": {
          "model_module": "@jupyter-widgets/base",
          "model_name": "LayoutModel",
          "model_module_version": "1.2.0",
          "state": {
            "_model_module": "@jupyter-widgets/base",
            "_model_module_version": "1.2.0",
            "_model_name": "LayoutModel",
            "_view_count": null,
            "_view_module": "@jupyter-widgets/base",
            "_view_module_version": "1.2.0",
            "_view_name": "LayoutView",
            "align_content": null,
            "align_items": null,
            "align_self": null,
            "border": null,
            "bottom": null,
            "display": null,
            "flex": null,
            "flex_flow": null,
            "grid_area": null,
            "grid_auto_columns": null,
            "grid_auto_flow": null,
            "grid_auto_rows": null,
            "grid_column": null,
            "grid_gap": null,
            "grid_row": null,
            "grid_template_areas": null,
            "grid_template_columns": null,
            "grid_template_rows": null,
            "height": null,
            "justify_content": null,
            "justify_items": null,
            "left": null,
            "margin": null,
            "max_height": null,
            "max_width": null,
            "min_height": null,
            "min_width": null,
            "object_fit": null,
            "object_position": null,
            "order": null,
            "overflow": null,
            "overflow_x": null,
            "overflow_y": null,
            "padding": null,
            "right": null,
            "top": null,
            "visibility": null,
            "width": null
          }
        },
        "fce243dfe7cc46d688dcb4f8569b9c5e": {
          "model_module": "@jupyter-widgets/controls",
          "model_name": "DescriptionStyleModel",
          "model_module_version": "1.5.0",
          "state": {
            "_model_module": "@jupyter-widgets/controls",
            "_model_module_version": "1.5.0",
            "_model_name": "DescriptionStyleModel",
            "_view_count": null,
            "_view_module": "@jupyter-widgets/base",
            "_view_module_version": "1.2.0",
            "_view_name": "StyleView",
            "description_width": ""
          }
        },
        "fad06adcd13541ccb255d25319048c30": {
          "model_module": "@jupyter-widgets/controls",
          "model_name": "HBoxModel",
          "model_module_version": "1.5.0",
          "state": {
            "_dom_classes": [],
            "_model_module": "@jupyter-widgets/controls",
            "_model_module_version": "1.5.0",
            "_model_name": "HBoxModel",
            "_view_count": null,
            "_view_module": "@jupyter-widgets/controls",
            "_view_module_version": "1.5.0",
            "_view_name": "HBoxView",
            "box_style": "",
            "children": [
              "IPY_MODEL_f05c558ac0e74301800d19cacd8639a7",
              "IPY_MODEL_c347d59ac0e34b2fa80380cc7861b1ff",
              "IPY_MODEL_76f5ce542b1b4a039784eb813191003d"
            ],
            "layout": "IPY_MODEL_216cfca5a07e49a3a631ff276b43c3db"
          }
        },
        "f05c558ac0e74301800d19cacd8639a7": {
          "model_module": "@jupyter-widgets/controls",
          "model_name": "HTMLModel",
          "model_module_version": "1.5.0",
          "state": {
            "_dom_classes": [],
            "_model_module": "@jupyter-widgets/controls",
            "_model_module_version": "1.5.0",
            "_model_name": "HTMLModel",
            "_view_count": null,
            "_view_module": "@jupyter-widgets/controls",
            "_view_module_version": "1.5.0",
            "_view_name": "HTMLView",
            "description": "",
            "description_tooltip": null,
            "layout": "IPY_MODEL_0cf30e0634b545eba0c0a17b9382dbc5",
            "placeholder": "​",
            "style": "IPY_MODEL_c9d1dc3dabc04a149cca3f9edf60dc2e",
            "value": "100%"
          }
        },
        "c347d59ac0e34b2fa80380cc7861b1ff": {
          "model_module": "@jupyter-widgets/controls",
          "model_name": "FloatProgressModel",
          "model_module_version": "1.5.0",
          "state": {
            "_dom_classes": [],
            "_model_module": "@jupyter-widgets/controls",
            "_model_module_version": "1.5.0",
            "_model_name": "FloatProgressModel",
            "_view_count": null,
            "_view_module": "@jupyter-widgets/controls",
            "_view_module_version": "1.5.0",
            "_view_name": "ProgressView",
            "bar_style": "success",
            "description": "",
            "description_tooltip": null,
            "layout": "IPY_MODEL_e1c8120fd0f842abad0b6f83ba6136f5",
            "max": 100000,
            "min": 0,
            "orientation": "horizontal",
            "style": "IPY_MODEL_ac693a685548404b895cfd91198211bc",
            "value": 100000
          }
        },
        "76f5ce542b1b4a039784eb813191003d": {
          "model_module": "@jupyter-widgets/controls",
          "model_name": "HTMLModel",
          "model_module_version": "1.5.0",
          "state": {
            "_dom_classes": [],
            "_model_module": "@jupyter-widgets/controls",
            "_model_module_version": "1.5.0",
            "_model_name": "HTMLModel",
            "_view_count": null,
            "_view_module": "@jupyter-widgets/controls",
            "_view_module_version": "1.5.0",
            "_view_name": "HTMLView",
            "description": "",
            "description_tooltip": null,
            "layout": "IPY_MODEL_1d6cf05bf8d14e1f864d5f7ac68f08b4",
            "placeholder": "​",
            "style": "IPY_MODEL_8b68bf03e3ef4372a8e59a032cecb91c",
            "value": " 100000/100000 [01:54&lt;00:00, 627.53it/s]"
          }
        },
        "216cfca5a07e49a3a631ff276b43c3db": {
          "model_module": "@jupyter-widgets/base",
          "model_name": "LayoutModel",
          "model_module_version": "1.2.0",
          "state": {
            "_model_module": "@jupyter-widgets/base",
            "_model_module_version": "1.2.0",
            "_model_name": "LayoutModel",
            "_view_count": null,
            "_view_module": "@jupyter-widgets/base",
            "_view_module_version": "1.2.0",
            "_view_name": "LayoutView",
            "align_content": null,
            "align_items": null,
            "align_self": null,
            "border": null,
            "bottom": null,
            "display": null,
            "flex": null,
            "flex_flow": null,
            "grid_area": null,
            "grid_auto_columns": null,
            "grid_auto_flow": null,
            "grid_auto_rows": null,
            "grid_column": null,
            "grid_gap": null,
            "grid_row": null,
            "grid_template_areas": null,
            "grid_template_columns": null,
            "grid_template_rows": null,
            "height": null,
            "justify_content": null,
            "justify_items": null,
            "left": null,
            "margin": null,
            "max_height": null,
            "max_width": null,
            "min_height": null,
            "min_width": null,
            "object_fit": null,
            "object_position": null,
            "order": null,
            "overflow": null,
            "overflow_x": null,
            "overflow_y": null,
            "padding": null,
            "right": null,
            "top": null,
            "visibility": null,
            "width": null
          }
        },
        "0cf30e0634b545eba0c0a17b9382dbc5": {
          "model_module": "@jupyter-widgets/base",
          "model_name": "LayoutModel",
          "model_module_version": "1.2.0",
          "state": {
            "_model_module": "@jupyter-widgets/base",
            "_model_module_version": "1.2.0",
            "_model_name": "LayoutModel",
            "_view_count": null,
            "_view_module": "@jupyter-widgets/base",
            "_view_module_version": "1.2.0",
            "_view_name": "LayoutView",
            "align_content": null,
            "align_items": null,
            "align_self": null,
            "border": null,
            "bottom": null,
            "display": null,
            "flex": null,
            "flex_flow": null,
            "grid_area": null,
            "grid_auto_columns": null,
            "grid_auto_flow": null,
            "grid_auto_rows": null,
            "grid_column": null,
            "grid_gap": null,
            "grid_row": null,
            "grid_template_areas": null,
            "grid_template_columns": null,
            "grid_template_rows": null,
            "height": null,
            "justify_content": null,
            "justify_items": null,
            "left": null,
            "margin": null,
            "max_height": null,
            "max_width": null,
            "min_height": null,
            "min_width": null,
            "object_fit": null,
            "object_position": null,
            "order": null,
            "overflow": null,
            "overflow_x": null,
            "overflow_y": null,
            "padding": null,
            "right": null,
            "top": null,
            "visibility": null,
            "width": null
          }
        },
        "c9d1dc3dabc04a149cca3f9edf60dc2e": {
          "model_module": "@jupyter-widgets/controls",
          "model_name": "DescriptionStyleModel",
          "model_module_version": "1.5.0",
          "state": {
            "_model_module": "@jupyter-widgets/controls",
            "_model_module_version": "1.5.0",
            "_model_name": "DescriptionStyleModel",
            "_view_count": null,
            "_view_module": "@jupyter-widgets/base",
            "_view_module_version": "1.2.0",
            "_view_name": "StyleView",
            "description_width": ""
          }
        },
        "e1c8120fd0f842abad0b6f83ba6136f5": {
          "model_module": "@jupyter-widgets/base",
          "model_name": "LayoutModel",
          "model_module_version": "1.2.0",
          "state": {
            "_model_module": "@jupyter-widgets/base",
            "_model_module_version": "1.2.0",
            "_model_name": "LayoutModel",
            "_view_count": null,
            "_view_module": "@jupyter-widgets/base",
            "_view_module_version": "1.2.0",
            "_view_name": "LayoutView",
            "align_content": null,
            "align_items": null,
            "align_self": null,
            "border": null,
            "bottom": null,
            "display": null,
            "flex": null,
            "flex_flow": null,
            "grid_area": null,
            "grid_auto_columns": null,
            "grid_auto_flow": null,
            "grid_auto_rows": null,
            "grid_column": null,
            "grid_gap": null,
            "grid_row": null,
            "grid_template_areas": null,
            "grid_template_columns": null,
            "grid_template_rows": null,
            "height": null,
            "justify_content": null,
            "justify_items": null,
            "left": null,
            "margin": null,
            "max_height": null,
            "max_width": null,
            "min_height": null,
            "min_width": null,
            "object_fit": null,
            "object_position": null,
            "order": null,
            "overflow": null,
            "overflow_x": null,
            "overflow_y": null,
            "padding": null,
            "right": null,
            "top": null,
            "visibility": null,
            "width": null
          }
        },
        "ac693a685548404b895cfd91198211bc": {
          "model_module": "@jupyter-widgets/controls",
          "model_name": "ProgressStyleModel",
          "model_module_version": "1.5.0",
          "state": {
            "_model_module": "@jupyter-widgets/controls",
            "_model_module_version": "1.5.0",
            "_model_name": "ProgressStyleModel",
            "_view_count": null,
            "_view_module": "@jupyter-widgets/base",
            "_view_module_version": "1.2.0",
            "_view_name": "StyleView",
            "bar_color": null,
            "description_width": ""
          }
        },
        "1d6cf05bf8d14e1f864d5f7ac68f08b4": {
          "model_module": "@jupyter-widgets/base",
          "model_name": "LayoutModel",
          "model_module_version": "1.2.0",
          "state": {
            "_model_module": "@jupyter-widgets/base",
            "_model_module_version": "1.2.0",
            "_model_name": "LayoutModel",
            "_view_count": null,
            "_view_module": "@jupyter-widgets/base",
            "_view_module_version": "1.2.0",
            "_view_name": "LayoutView",
            "align_content": null,
            "align_items": null,
            "align_self": null,
            "border": null,
            "bottom": null,
            "display": null,
            "flex": null,
            "flex_flow": null,
            "grid_area": null,
            "grid_auto_columns": null,
            "grid_auto_flow": null,
            "grid_auto_rows": null,
            "grid_column": null,
            "grid_gap": null,
            "grid_row": null,
            "grid_template_areas": null,
            "grid_template_columns": null,
            "grid_template_rows": null,
            "height": null,
            "justify_content": null,
            "justify_items": null,
            "left": null,
            "margin": null,
            "max_height": null,
            "max_width": null,
            "min_height": null,
            "min_width": null,
            "object_fit": null,
            "object_position": null,
            "order": null,
            "overflow": null,
            "overflow_x": null,
            "overflow_y": null,
            "padding": null,
            "right": null,
            "top": null,
            "visibility": null,
            "width": null
          }
        },
        "8b68bf03e3ef4372a8e59a032cecb91c": {
          "model_module": "@jupyter-widgets/controls",
          "model_name": "DescriptionStyleModel",
          "model_module_version": "1.5.0",
          "state": {
            "_model_module": "@jupyter-widgets/controls",
            "_model_module_version": "1.5.0",
            "_model_name": "DescriptionStyleModel",
            "_view_count": null,
            "_view_module": "@jupyter-widgets/base",
            "_view_module_version": "1.2.0",
            "_view_name": "StyleView",
            "description_width": ""
          }
        }
      }
    }
  },
  "nbformat": 4,
  "nbformat_minor": 0
}