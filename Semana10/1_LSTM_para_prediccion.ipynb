{
  "nbformat": 4,
  "nbformat_minor": 0,
  "metadata": {
    "colab": {
      "provenance": []
    },
    "kernelspec": {
      "name": "python3",
      "display_name": "Python 3"
    },
    "language_info": {
      "name": "python"
    },
    "accelerator": "GPU",
    "gpuClass": "standard"
  },
  "cells": [
    {
      "cell_type": "markdown",
      "source": [
        "[![Open In Colab](https://colab.research.google.com/assets/colab-badge.svg)](https://colab.research.google.com/github/MaxMitre/Aplicaciones-Financieras/blob/main/Semana10/1_LSTM_para_prediccion.ipynb)"
      ],
      "metadata": {
        "id": "eWXuipCRJdIM"
      }
    },
    {
      "cell_type": "markdown",
      "source": [
        "IMPORTANTE: Antes de iniciar es recomendable cambiar el entorno de ejecución a GPU"
      ],
      "metadata": {
        "id": "oiCtKvCjXT43"
      }
    },
    {
      "cell_type": "markdown",
      "source": [
        "# Introducción\n",
        "\n",
        "En esta clase utilizaremos una red neuronal recurrente para tratar de predecir el siguiente valor en una serie de tiempo. En clases pasadas utilizamos capas LSTM para un algoritmo de clasificación, mientras que en este caso será para predicción.\n",
        "\n",
        "Utilizaremos una herramienta auxiliar conocida, el API de yahoo finance, para obtener series de tiempo para las predicciones."
      ],
      "metadata": {
        "id": "0aN3F9cB6PGy"
      }
    },
    {
      "cell_type": "markdown",
      "source": [
        "# Dependencias e instalaciones"
      ],
      "metadata": {
        "id": "dhWU0FAUDit1"
      }
    },
    {
      "cell_type": "code",
      "source": [
        "!pip install yfinance"
      ],
      "metadata": {
        "id": "JI2glKhCaUx7",
        "colab": {
          "base_uri": "https://localhost:8080/"
        },
        "outputId": "dbef2fe1-37a5-45de-c36f-17de85679e6e"
      },
      "execution_count": null,
      "outputs": [
        {
          "output_type": "stream",
          "name": "stdout",
          "text": [
            "Looking in indexes: https://pypi.org/simple, https://us-python.pkg.dev/colab-wheels/public/simple/\n",
            "Collecting yfinance\n",
            "  Downloading yfinance-0.2.11-py2.py3-none-any.whl (59 kB)\n",
            "\u001b[2K     \u001b[90m━━━━━━━━━━━━━━━━━━━━━━━━━━━━━━━━━━━━━━━━\u001b[0m \u001b[32m59.2/59.2 KB\u001b[0m \u001b[31m1.7 MB/s\u001b[0m eta \u001b[36m0:00:00\u001b[0m\n",
            "\u001b[?25hRequirement already satisfied: pandas>=1.3.0 in /usr/local/lib/python3.8/dist-packages (from yfinance) (1.3.5)\n",
            "Requirement already satisfied: lxml>=4.9.1 in /usr/local/lib/python3.8/dist-packages (from yfinance) (4.9.2)\n",
            "Requirement already satisfied: multitasking>=0.0.7 in /usr/local/lib/python3.8/dist-packages (from yfinance) (0.0.11)\n",
            "Requirement already satisfied: numpy>=1.16.5 in /usr/local/lib/python3.8/dist-packages (from yfinance) (1.21.6)\n",
            "Collecting requests>=2.26\n",
            "  Downloading requests-2.28.2-py3-none-any.whl (62 kB)\n",
            "\u001b[2K     \u001b[90m━━━━━━━━━━━━━━━━━━━━━━━━━━━━━━━━━━━━━━━━\u001b[0m \u001b[32m62.8/62.8 KB\u001b[0m \u001b[31m1.0 MB/s\u001b[0m eta \u001b[36m0:00:00\u001b[0m\n",
            "\u001b[?25hCollecting beautifulsoup4>=4.11.1\n",
            "  Downloading beautifulsoup4-4.11.2-py3-none-any.whl (129 kB)\n",
            "\u001b[2K     \u001b[90m━━━━━━━━━━━━━━━━━━━━━━━━━━━━━━━━━━━━━━━\u001b[0m \u001b[32m129.4/129.4 KB\u001b[0m \u001b[31m4.4 MB/s\u001b[0m eta \u001b[36m0:00:00\u001b[0m\n",
            "\u001b[?25hCollecting cryptography>=3.3.2\n",
            "  Downloading cryptography-39.0.1-cp36-abi3-manylinux_2_28_x86_64.whl (4.2 MB)\n",
            "\u001b[2K     \u001b[90m━━━━━━━━━━━━━━━━━━━━━━━━━━━━━━━━━━━━━━━━\u001b[0m \u001b[32m4.2/4.2 MB\u001b[0m \u001b[31m33.3 MB/s\u001b[0m eta \u001b[36m0:00:00\u001b[0m\n",
            "\u001b[?25hCollecting html5lib>=1.1\n",
            "  Downloading html5lib-1.1-py2.py3-none-any.whl (112 kB)\n",
            "\u001b[2K     \u001b[90m━━━━━━━━━━━━━━━━━━━━━━━━━━━━━━━━━━━━━━━\u001b[0m \u001b[32m112.2/112.2 KB\u001b[0m \u001b[31m4.4 MB/s\u001b[0m eta \u001b[36m0:00:00\u001b[0m\n",
            "\u001b[?25hCollecting frozendict>=2.3.4\n",
            "  Downloading frozendict-2.3.4-cp38-cp38-manylinux_2_17_x86_64.manylinux2014_x86_64.whl (110 kB)\n",
            "\u001b[2K     \u001b[90m━━━━━━━━━━━━━━━━━━━━━━━━━━━━━━━━━━━━━━━\u001b[0m \u001b[32m111.0/111.0 KB\u001b[0m \u001b[31m8.7 MB/s\u001b[0m eta \u001b[36m0:00:00\u001b[0m\n",
            "\u001b[?25hRequirement already satisfied: pytz>=2022.5 in /usr/local/lib/python3.8/dist-packages (from yfinance) (2022.7.1)\n",
            "Requirement already satisfied: appdirs>=1.4.4 in /usr/local/lib/python3.8/dist-packages (from yfinance) (1.4.4)\n",
            "Collecting soupsieve>1.2\n",
            "  Downloading soupsieve-2.4-py3-none-any.whl (37 kB)\n",
            "Requirement already satisfied: cffi>=1.12 in /usr/local/lib/python3.8/dist-packages (from cryptography>=3.3.2->yfinance) (1.15.1)\n",
            "Requirement already satisfied: webencodings in /usr/local/lib/python3.8/dist-packages (from html5lib>=1.1->yfinance) (0.5.1)\n",
            "Requirement already satisfied: six>=1.9 in /usr/local/lib/python3.8/dist-packages (from html5lib>=1.1->yfinance) (1.15.0)\n",
            "Requirement already satisfied: python-dateutil>=2.7.3 in /usr/local/lib/python3.8/dist-packages (from pandas>=1.3.0->yfinance) (2.8.2)\n",
            "Requirement already satisfied: certifi>=2017.4.17 in /usr/local/lib/python3.8/dist-packages (from requests>=2.26->yfinance) (2022.12.7)\n",
            "Requirement already satisfied: charset-normalizer<4,>=2 in /usr/local/lib/python3.8/dist-packages (from requests>=2.26->yfinance) (2.1.1)\n",
            "Requirement already satisfied: idna<4,>=2.5 in /usr/local/lib/python3.8/dist-packages (from requests>=2.26->yfinance) (2.10)\n",
            "Requirement already satisfied: urllib3<1.27,>=1.21.1 in /usr/local/lib/python3.8/dist-packages (from requests>=2.26->yfinance) (1.24.3)\n",
            "Requirement already satisfied: pycparser in /usr/local/lib/python3.8/dist-packages (from cffi>=1.12->cryptography>=3.3.2->yfinance) (2.21)\n",
            "Installing collected packages: soupsieve, requests, html5lib, frozendict, cryptography, beautifulsoup4, yfinance\n",
            "  Attempting uninstall: requests\n",
            "    Found existing installation: requests 2.25.1\n",
            "    Uninstalling requests-2.25.1:\n",
            "      Successfully uninstalled requests-2.25.1\n",
            "  Attempting uninstall: html5lib\n",
            "    Found existing installation: html5lib 1.0.1\n",
            "    Uninstalling html5lib-1.0.1:\n",
            "      Successfully uninstalled html5lib-1.0.1\n",
            "  Attempting uninstall: beautifulsoup4\n",
            "    Found existing installation: beautifulsoup4 4.6.3\n",
            "    Uninstalling beautifulsoup4-4.6.3:\n",
            "      Successfully uninstalled beautifulsoup4-4.6.3\n",
            "Successfully installed beautifulsoup4-4.11.2 cryptography-39.0.1 frozendict-2.3.4 html5lib-1.1 requests-2.28.2 soupsieve-2.4 yfinance-0.2.11\n"
          ]
        }
      ]
    },
    {
      "cell_type": "code",
      "source": [
        "import numpy as np\n",
        "import pandas as pd\n",
        "import matplotlib.pyplot as plt\n",
        "\n",
        "import tensorflow as tf\n",
        "\n",
        "from sklearn.preprocessing import MinMaxScaler\n",
        "from sklearn.metrics import mean_squared_error\n",
        "from sklearn.model_selection import train_test_split\n",
        "\n",
        "from tensorflow.keras.models import Sequential\n",
        "from tensorflow.keras.layers import LSTM # Long Short Term Memory\n",
        "from tensorflow.keras.layers import Dropout\n",
        "from tensorflow.keras.layers import Dense\n",
        "\n",
        "import yfinance as yf"
      ],
      "metadata": {
        "id": "bLYYXJ0BaARw"
      },
      "execution_count": null,
      "outputs": []
    },
    {
      "cell_type": "code",
      "source": [
        "data_raw = yf.download(  # or pdr.get_data_yahoo(...\n",
        "        # tickers list or string as well\n",
        "        tickers = \"GOOG AAPL\",\n",
        "\n",
        "        # use \"period\" instead of start/end\n",
        "        # valid periods: 1d,5d,1mo,3mo,6mo,1y,2y,5y,10y,ytd,max\n",
        "        # (optional, default is '1mo')\n",
        "        period = \"10y\",\n",
        "\n",
        "        # fetch data by interval (including intraday if period < 60 days)\n",
        "        # valid intervals: 1m,2m,5m,15m,30m,60m,90m,1h,1d,5d,1wk,1mo,3mo\n",
        "        # (optional, default is '1d')\n",
        "        interval = \"1d\",\n",
        "\n",
        "        # group by ticker (to access via data['SPY'])\n",
        "        # (optional, default is 'column')\n",
        "        # group_by = 'ticker',\n",
        "    ).loc[:, 'Adj Close']\n",
        "data_raw"
      ],
      "metadata": {
        "id": "eUkDz9hhaF_O",
        "colab": {
          "base_uri": "https://localhost:8080/",
          "height": 472
        },
        "outputId": "884a862e-d082-491c-9064-5a6494743873"
      },
      "execution_count": null,
      "outputs": [
        {
          "output_type": "stream",
          "name": "stdout",
          "text": [
            "[*********************100%***********************]  2 of 2 completed\n"
          ]
        },
        {
          "output_type": "execute_result",
          "data": {
            "text/plain": [
              "                  AAPL        GOOG\n",
              "Date                              \n",
              "2013-02-15   14.193984   19.748228\n",
              "2013-02-19   14.188739   20.095926\n",
              "2013-02-20   13.845118   19.737518\n",
              "2013-02-21   13.759058   19.813982\n",
              "2013-02-22   13.905575   19.918093\n",
              "...                ...         ...\n",
              "2023-02-08  151.688400  100.000000\n",
              "2023-02-09  150.639999   95.459999\n",
              "2023-02-10  151.009995   94.860001\n",
              "2023-02-13  153.850006   95.000000\n",
              "2023-02-14  153.199997   94.949997\n",
              "\n",
              "[2517 rows x 2 columns]"
            ],
            "text/html": [
              "\n",
              "  <div id=\"df-8fc23400-60c3-4a63-b7e5-542efcfb46ab\">\n",
              "    <div class=\"colab-df-container\">\n",
              "      <div>\n",
              "<style scoped>\n",
              "    .dataframe tbody tr th:only-of-type {\n",
              "        vertical-align: middle;\n",
              "    }\n",
              "\n",
              "    .dataframe tbody tr th {\n",
              "        vertical-align: top;\n",
              "    }\n",
              "\n",
              "    .dataframe thead th {\n",
              "        text-align: right;\n",
              "    }\n",
              "</style>\n",
              "<table border=\"1\" class=\"dataframe\">\n",
              "  <thead>\n",
              "    <tr style=\"text-align: right;\">\n",
              "      <th></th>\n",
              "      <th>AAPL</th>\n",
              "      <th>GOOG</th>\n",
              "    </tr>\n",
              "    <tr>\n",
              "      <th>Date</th>\n",
              "      <th></th>\n",
              "      <th></th>\n",
              "    </tr>\n",
              "  </thead>\n",
              "  <tbody>\n",
              "    <tr>\n",
              "      <th>2013-02-15</th>\n",
              "      <td>14.193984</td>\n",
              "      <td>19.748228</td>\n",
              "    </tr>\n",
              "    <tr>\n",
              "      <th>2013-02-19</th>\n",
              "      <td>14.188739</td>\n",
              "      <td>20.095926</td>\n",
              "    </tr>\n",
              "    <tr>\n",
              "      <th>2013-02-20</th>\n",
              "      <td>13.845118</td>\n",
              "      <td>19.737518</td>\n",
              "    </tr>\n",
              "    <tr>\n",
              "      <th>2013-02-21</th>\n",
              "      <td>13.759058</td>\n",
              "      <td>19.813982</td>\n",
              "    </tr>\n",
              "    <tr>\n",
              "      <th>2013-02-22</th>\n",
              "      <td>13.905575</td>\n",
              "      <td>19.918093</td>\n",
              "    </tr>\n",
              "    <tr>\n",
              "      <th>...</th>\n",
              "      <td>...</td>\n",
              "      <td>...</td>\n",
              "    </tr>\n",
              "    <tr>\n",
              "      <th>2023-02-08</th>\n",
              "      <td>151.688400</td>\n",
              "      <td>100.000000</td>\n",
              "    </tr>\n",
              "    <tr>\n",
              "      <th>2023-02-09</th>\n",
              "      <td>150.639999</td>\n",
              "      <td>95.459999</td>\n",
              "    </tr>\n",
              "    <tr>\n",
              "      <th>2023-02-10</th>\n",
              "      <td>151.009995</td>\n",
              "      <td>94.860001</td>\n",
              "    </tr>\n",
              "    <tr>\n",
              "      <th>2023-02-13</th>\n",
              "      <td>153.850006</td>\n",
              "      <td>95.000000</td>\n",
              "    </tr>\n",
              "    <tr>\n",
              "      <th>2023-02-14</th>\n",
              "      <td>153.199997</td>\n",
              "      <td>94.949997</td>\n",
              "    </tr>\n",
              "  </tbody>\n",
              "</table>\n",
              "<p>2517 rows × 2 columns</p>\n",
              "</div>\n",
              "      <button class=\"colab-df-convert\" onclick=\"convertToInteractive('df-8fc23400-60c3-4a63-b7e5-542efcfb46ab')\"\n",
              "              title=\"Convert this dataframe to an interactive table.\"\n",
              "              style=\"display:none;\">\n",
              "        \n",
              "  <svg xmlns=\"http://www.w3.org/2000/svg\" height=\"24px\"viewBox=\"0 0 24 24\"\n",
              "       width=\"24px\">\n",
              "    <path d=\"M0 0h24v24H0V0z\" fill=\"none\"/>\n",
              "    <path d=\"M18.56 5.44l.94 2.06.94-2.06 2.06-.94-2.06-.94-.94-2.06-.94 2.06-2.06.94zm-11 1L8.5 8.5l.94-2.06 2.06-.94-2.06-.94L8.5 2.5l-.94 2.06-2.06.94zm10 10l.94 2.06.94-2.06 2.06-.94-2.06-.94-.94-2.06-.94 2.06-2.06.94z\"/><path d=\"M17.41 7.96l-1.37-1.37c-.4-.4-.92-.59-1.43-.59-.52 0-1.04.2-1.43.59L10.3 9.45l-7.72 7.72c-.78.78-.78 2.05 0 2.83L4 21.41c.39.39.9.59 1.41.59.51 0 1.02-.2 1.41-.59l7.78-7.78 2.81-2.81c.8-.78.8-2.07 0-2.86zM5.41 20L4 18.59l7.72-7.72 1.47 1.35L5.41 20z\"/>\n",
              "  </svg>\n",
              "      </button>\n",
              "      \n",
              "  <style>\n",
              "    .colab-df-container {\n",
              "      display:flex;\n",
              "      flex-wrap:wrap;\n",
              "      gap: 12px;\n",
              "    }\n",
              "\n",
              "    .colab-df-convert {\n",
              "      background-color: #E8F0FE;\n",
              "      border: none;\n",
              "      border-radius: 50%;\n",
              "      cursor: pointer;\n",
              "      display: none;\n",
              "      fill: #1967D2;\n",
              "      height: 32px;\n",
              "      padding: 0 0 0 0;\n",
              "      width: 32px;\n",
              "    }\n",
              "\n",
              "    .colab-df-convert:hover {\n",
              "      background-color: #E2EBFA;\n",
              "      box-shadow: 0px 1px 2px rgba(60, 64, 67, 0.3), 0px 1px 3px 1px rgba(60, 64, 67, 0.15);\n",
              "      fill: #174EA6;\n",
              "    }\n",
              "\n",
              "    [theme=dark] .colab-df-convert {\n",
              "      background-color: #3B4455;\n",
              "      fill: #D2E3FC;\n",
              "    }\n",
              "\n",
              "    [theme=dark] .colab-df-convert:hover {\n",
              "      background-color: #434B5C;\n",
              "      box-shadow: 0px 1px 3px 1px rgba(0, 0, 0, 0.15);\n",
              "      filter: drop-shadow(0px 1px 2px rgba(0, 0, 0, 0.3));\n",
              "      fill: #FFFFFF;\n",
              "    }\n",
              "  </style>\n",
              "\n",
              "      <script>\n",
              "        const buttonEl =\n",
              "          document.querySelector('#df-8fc23400-60c3-4a63-b7e5-542efcfb46ab button.colab-df-convert');\n",
              "        buttonEl.style.display =\n",
              "          google.colab.kernel.accessAllowed ? 'block' : 'none';\n",
              "\n",
              "        async function convertToInteractive(key) {\n",
              "          const element = document.querySelector('#df-8fc23400-60c3-4a63-b7e5-542efcfb46ab');\n",
              "          const dataTable =\n",
              "            await google.colab.kernel.invokeFunction('convertToInteractive',\n",
              "                                                     [key], {});\n",
              "          if (!dataTable) return;\n",
              "\n",
              "          const docLinkHtml = 'Like what you see? Visit the ' +\n",
              "            '<a target=\"_blank\" href=https://colab.research.google.com/notebooks/data_table.ipynb>data table notebook</a>'\n",
              "            + ' to learn more about interactive tables.';\n",
              "          element.innerHTML = '';\n",
              "          dataTable['output_type'] = 'display_data';\n",
              "          await google.colab.output.renderOutput(dataTable, element);\n",
              "          const docLink = document.createElement('div');\n",
              "          docLink.innerHTML = docLinkHtml;\n",
              "          element.appendChild(docLink);\n",
              "        }\n",
              "      </script>\n",
              "    </div>\n",
              "  </div>\n",
              "  "
            ]
          },
          "metadata": {},
          "execution_count": 3
        }
      ]
    },
    {
      "cell_type": "code",
      "source": [
        "df_aux = data_raw[['GOOG']].copy()\n",
        "df_aux"
      ],
      "metadata": {
        "id": "fIUPEKGi4onf",
        "colab": {
          "base_uri": "https://localhost:8080/",
          "height": 455
        },
        "outputId": "d526716a-0934-4e8e-f265-97810e7a3c34"
      },
      "execution_count": null,
      "outputs": [
        {
          "output_type": "execute_result",
          "data": {
            "text/plain": [
              "                  GOOG\n",
              "Date                  \n",
              "2013-02-15   19.748228\n",
              "2013-02-19   20.095926\n",
              "2013-02-20   19.737518\n",
              "2013-02-21   19.813982\n",
              "2013-02-22   19.918093\n",
              "...                ...\n",
              "2023-02-08  100.000000\n",
              "2023-02-09   95.459999\n",
              "2023-02-10   94.860001\n",
              "2023-02-13   95.000000\n",
              "2023-02-14   94.949997\n",
              "\n",
              "[2517 rows x 1 columns]"
            ],
            "text/html": [
              "\n",
              "  <div id=\"df-b090a656-73c9-478c-975a-28d5fa724059\">\n",
              "    <div class=\"colab-df-container\">\n",
              "      <div>\n",
              "<style scoped>\n",
              "    .dataframe tbody tr th:only-of-type {\n",
              "        vertical-align: middle;\n",
              "    }\n",
              "\n",
              "    .dataframe tbody tr th {\n",
              "        vertical-align: top;\n",
              "    }\n",
              "\n",
              "    .dataframe thead th {\n",
              "        text-align: right;\n",
              "    }\n",
              "</style>\n",
              "<table border=\"1\" class=\"dataframe\">\n",
              "  <thead>\n",
              "    <tr style=\"text-align: right;\">\n",
              "      <th></th>\n",
              "      <th>GOOG</th>\n",
              "    </tr>\n",
              "    <tr>\n",
              "      <th>Date</th>\n",
              "      <th></th>\n",
              "    </tr>\n",
              "  </thead>\n",
              "  <tbody>\n",
              "    <tr>\n",
              "      <th>2013-02-15</th>\n",
              "      <td>19.748228</td>\n",
              "    </tr>\n",
              "    <tr>\n",
              "      <th>2013-02-19</th>\n",
              "      <td>20.095926</td>\n",
              "    </tr>\n",
              "    <tr>\n",
              "      <th>2013-02-20</th>\n",
              "      <td>19.737518</td>\n",
              "    </tr>\n",
              "    <tr>\n",
              "      <th>2013-02-21</th>\n",
              "      <td>19.813982</td>\n",
              "    </tr>\n",
              "    <tr>\n",
              "      <th>2013-02-22</th>\n",
              "      <td>19.918093</td>\n",
              "    </tr>\n",
              "    <tr>\n",
              "      <th>...</th>\n",
              "      <td>...</td>\n",
              "    </tr>\n",
              "    <tr>\n",
              "      <th>2023-02-08</th>\n",
              "      <td>100.000000</td>\n",
              "    </tr>\n",
              "    <tr>\n",
              "      <th>2023-02-09</th>\n",
              "      <td>95.459999</td>\n",
              "    </tr>\n",
              "    <tr>\n",
              "      <th>2023-02-10</th>\n",
              "      <td>94.860001</td>\n",
              "    </tr>\n",
              "    <tr>\n",
              "      <th>2023-02-13</th>\n",
              "      <td>95.000000</td>\n",
              "    </tr>\n",
              "    <tr>\n",
              "      <th>2023-02-14</th>\n",
              "      <td>94.949997</td>\n",
              "    </tr>\n",
              "  </tbody>\n",
              "</table>\n",
              "<p>2517 rows × 1 columns</p>\n",
              "</div>\n",
              "      <button class=\"colab-df-convert\" onclick=\"convertToInteractive('df-b090a656-73c9-478c-975a-28d5fa724059')\"\n",
              "              title=\"Convert this dataframe to an interactive table.\"\n",
              "              style=\"display:none;\">\n",
              "        \n",
              "  <svg xmlns=\"http://www.w3.org/2000/svg\" height=\"24px\"viewBox=\"0 0 24 24\"\n",
              "       width=\"24px\">\n",
              "    <path d=\"M0 0h24v24H0V0z\" fill=\"none\"/>\n",
              "    <path d=\"M18.56 5.44l.94 2.06.94-2.06 2.06-.94-2.06-.94-.94-2.06-.94 2.06-2.06.94zm-11 1L8.5 8.5l.94-2.06 2.06-.94-2.06-.94L8.5 2.5l-.94 2.06-2.06.94zm10 10l.94 2.06.94-2.06 2.06-.94-2.06-.94-.94-2.06-.94 2.06-2.06.94z\"/><path d=\"M17.41 7.96l-1.37-1.37c-.4-.4-.92-.59-1.43-.59-.52 0-1.04.2-1.43.59L10.3 9.45l-7.72 7.72c-.78.78-.78 2.05 0 2.83L4 21.41c.39.39.9.59 1.41.59.51 0 1.02-.2 1.41-.59l7.78-7.78 2.81-2.81c.8-.78.8-2.07 0-2.86zM5.41 20L4 18.59l7.72-7.72 1.47 1.35L5.41 20z\"/>\n",
              "  </svg>\n",
              "      </button>\n",
              "      \n",
              "  <style>\n",
              "    .colab-df-container {\n",
              "      display:flex;\n",
              "      flex-wrap:wrap;\n",
              "      gap: 12px;\n",
              "    }\n",
              "\n",
              "    .colab-df-convert {\n",
              "      background-color: #E8F0FE;\n",
              "      border: none;\n",
              "      border-radius: 50%;\n",
              "      cursor: pointer;\n",
              "      display: none;\n",
              "      fill: #1967D2;\n",
              "      height: 32px;\n",
              "      padding: 0 0 0 0;\n",
              "      width: 32px;\n",
              "    }\n",
              "\n",
              "    .colab-df-convert:hover {\n",
              "      background-color: #E2EBFA;\n",
              "      box-shadow: 0px 1px 2px rgba(60, 64, 67, 0.3), 0px 1px 3px 1px rgba(60, 64, 67, 0.15);\n",
              "      fill: #174EA6;\n",
              "    }\n",
              "\n",
              "    [theme=dark] .colab-df-convert {\n",
              "      background-color: #3B4455;\n",
              "      fill: #D2E3FC;\n",
              "    }\n",
              "\n",
              "    [theme=dark] .colab-df-convert:hover {\n",
              "      background-color: #434B5C;\n",
              "      box-shadow: 0px 1px 3px 1px rgba(0, 0, 0, 0.15);\n",
              "      filter: drop-shadow(0px 1px 2px rgba(0, 0, 0, 0.3));\n",
              "      fill: #FFFFFF;\n",
              "    }\n",
              "  </style>\n",
              "\n",
              "      <script>\n",
              "        const buttonEl =\n",
              "          document.querySelector('#df-b090a656-73c9-478c-975a-28d5fa724059 button.colab-df-convert');\n",
              "        buttonEl.style.display =\n",
              "          google.colab.kernel.accessAllowed ? 'block' : 'none';\n",
              "\n",
              "        async function convertToInteractive(key) {\n",
              "          const element = document.querySelector('#df-b090a656-73c9-478c-975a-28d5fa724059');\n",
              "          const dataTable =\n",
              "            await google.colab.kernel.invokeFunction('convertToInteractive',\n",
              "                                                     [key], {});\n",
              "          if (!dataTable) return;\n",
              "\n",
              "          const docLinkHtml = 'Like what you see? Visit the ' +\n",
              "            '<a target=\"_blank\" href=https://colab.research.google.com/notebooks/data_table.ipynb>data table notebook</a>'\n",
              "            + ' to learn more about interactive tables.';\n",
              "          element.innerHTML = '';\n",
              "          dataTable['output_type'] = 'display_data';\n",
              "          await google.colab.output.renderOutput(dataTable, element);\n",
              "          const docLink = document.createElement('div');\n",
              "          docLink.innerHTML = docLinkHtml;\n",
              "          element.appendChild(docLink);\n",
              "        }\n",
              "      </script>\n",
              "    </div>\n",
              "  </div>\n",
              "  "
            ]
          },
          "metadata": {},
          "execution_count": 8
        }
      ]
    },
    {
      "cell_type": "code",
      "source": [
        "df_aux.info()"
      ],
      "metadata": {
        "id": "R38Rzg_86YUM",
        "colab": {
          "base_uri": "https://localhost:8080/"
        },
        "outputId": "88d5b2c6-9271-4ab9-e4a5-bbc7c720d62a"
      },
      "execution_count": null,
      "outputs": [
        {
          "output_type": "stream",
          "name": "stdout",
          "text": [
            "<class 'pandas.core.frame.DataFrame'>\n",
            "DatetimeIndex: 2517 entries, 2013-02-15 to 2023-02-14\n",
            "Data columns (total 1 columns):\n",
            " #   Column  Non-Null Count  Dtype  \n",
            "---  ------  --------------  -----  \n",
            " 0   GOOG    2517 non-null   float64\n",
            "dtypes: float64(1)\n",
            "memory usage: 39.3 KB\n"
          ]
        }
      ]
    },
    {
      "cell_type": "code",
      "source": [
        "data = df_aux.copy()"
      ],
      "metadata": {
        "id": "rkhHCmWVbBp4"
      },
      "execution_count": null,
      "outputs": []
    },
    {
      "cell_type": "markdown",
      "source": [
        "# Paréntesis cultural: Fechas"
      ],
      "metadata": {
        "id": "EKr2oHqAPBhq"
      }
    },
    {
      "cell_type": "code",
      "source": [
        "# Convertir string a tipo datetime\n",
        "pd.to_datetime('2021-12-31')"
      ],
      "metadata": {
        "colab": {
          "base_uri": "https://localhost:8080/"
        },
        "id": "fJgqBdhVP2cE",
        "outputId": "1e0a1d71-1d48-4b33-c2ab-ae11eb6b3d69"
      },
      "execution_count": null,
      "outputs": [
        {
          "output_type": "execute_result",
          "data": {
            "text/plain": [
              "Timestamp('2021-12-31 00:00:00')"
            ]
          },
          "metadata": {},
          "execution_count": 23
        }
      ]
    },
    {
      "cell_type": "code",
      "source": [
        "# Lee la fecha ocn formato de EUA\n",
        "pd.to_datetime('02-12-2022')"
      ],
      "metadata": {
        "colab": {
          "base_uri": "https://localhost:8080/"
        },
        "id": "jZjhZQjnQNtO",
        "outputId": "bb8c4774-0f92-41da-8e0c-cdd816b63b2a"
      },
      "execution_count": null,
      "outputs": [
        {
          "output_type": "execute_result",
          "data": {
            "text/plain": [
              "Timestamp('2022-02-12 00:00:00')"
            ]
          },
          "metadata": {},
          "execution_count": 27
        }
      ]
    },
    {
      "cell_type": "code",
      "source": [
        "# Lee el primer elemento como el dia\n",
        "pd.to_datetime('02-12-2022', dayfirst=True)"
      ],
      "metadata": {
        "colab": {
          "base_uri": "https://localhost:8080/"
        },
        "id": "y7AJojBgP2Nz",
        "outputId": "9a1be3a1-7f7b-4efc-d6e3-5425cf28481e"
      },
      "execution_count": null,
      "outputs": [
        {
          "output_type": "execute_result",
          "data": {
            "text/plain": [
              "Timestamp('2022-12-02 00:00:00')"
            ]
          },
          "metadata": {},
          "execution_count": 26
        }
      ]
    },
    {
      "cell_type": "code",
      "source": [
        "# Deltas (o diferencias) de fechas\n",
        "(pd.to_datetime('2021-12-31') - pd.to_datetime('2021-12-21'))"
      ],
      "metadata": {
        "colab": {
          "base_uri": "https://localhost:8080/"
        },
        "id": "QXKUZ-aWPLAp",
        "outputId": "8ea5874c-5130-4f76-d19a-a40efd592748"
      },
      "execution_count": null,
      "outputs": [
        {
          "output_type": "execute_result",
          "data": {
            "text/plain": [
              "Timedelta('10 days 00:00:00')"
            ]
          },
          "metadata": {},
          "execution_count": 21
        }
      ]
    },
    {
      "cell_type": "code",
      "source": [
        "(pd.to_datetime('2021-12-31') - pd.to_datetime('2021-12-21')).days"
      ],
      "metadata": {
        "colab": {
          "base_uri": "https://localhost:8080/"
        },
        "id": "PnaJ6Iv3PUfz",
        "outputId": "d81ce307-8dbc-4d15-c03e-0bcfb1b12e78"
      },
      "execution_count": null,
      "outputs": [
        {
          "output_type": "execute_result",
          "data": {
            "text/plain": [
              "10"
            ]
          },
          "metadata": {},
          "execution_count": 22
        }
      ]
    },
    {
      "cell_type": "markdown",
      "source": [
        "# Fin de paréntesis cultural"
      ],
      "metadata": {
        "id": "CxANK5t1QkYJ"
      }
    },
    {
      "cell_type": "code",
      "source": [
        "data_train = data.loc[:pd.to_datetime('2021-01-01'), :].to_numpy()\n",
        "data_test = data.loc[pd.to_datetime('2021-01-01'):,:].to_numpy()"
      ],
      "metadata": {
        "id": "0QcCdRd7FeoL"
      },
      "execution_count": null,
      "outputs": []
    },
    {
      "cell_type": "code",
      "source": [
        "print(data_train.shape)\n",
        "print(data_test.shape)"
      ],
      "metadata": {
        "id": "DaaaDGwWe00v",
        "colab": {
          "base_uri": "https://localhost:8080/"
        },
        "outputId": "38969999-b08f-4a70-b35f-3b3335d326c5"
      },
      "execution_count": null,
      "outputs": [
        {
          "output_type": "stream",
          "name": "stdout",
          "text": [
            "(1984, 1)\n",
            "(533, 1)\n"
          ]
        }
      ]
    },
    {
      "cell_type": "code",
      "source": [
        "data_train"
      ],
      "metadata": {
        "colab": {
          "base_uri": "https://localhost:8080/"
        },
        "id": "5UzgQBc_Qu0S",
        "outputId": "dde7e6e1-1840-4a24-ffcd-5fd9d328b72b"
      },
      "execution_count": null,
      "outputs": [
        {
          "output_type": "execute_result",
          "data": {
            "text/plain": [
              "array([[19.74822807],\n",
              "       [20.09592628],\n",
              "       [19.73751831],\n",
              "       ...,\n",
              "       [87.93599701],\n",
              "       [86.97599792],\n",
              "       [87.59400177]])"
            ]
          },
          "metadata": {},
          "execution_count": 30
        }
      ]
    },
    {
      "cell_type": "markdown",
      "source": [
        "# Ejercicio:\n",
        "\n",
        "Existe un modo de hacer la separación de train y test utilizando la función \"train_test_split\", prueben hacerlo utilizandola.\n",
        "\n",
        "Lo importante es que no se tomen las muestras al azar, si no que mantengan el orden temporal (las primeras fechas para train y las posteriores para test)"
      ],
      "metadata": {
        "id": "OdDJlakxFgPu"
      }
    },
    {
      "cell_type": "code",
      "source": [
        "# Utilice train_test_split()\n",
        "\n",
        "data_ejercicio = data.copy()\n"
      ],
      "metadata": {
        "id": "-4f0BP_OFgBo"
      },
      "execution_count": null,
      "outputs": []
    },
    {
      "cell_type": "code",
      "source": [
        "train_ejercicio, test_ejercicio = train_test_split(data_ejercicio, train_size=.80, shuffle=False)"
      ],
      "metadata": {
        "id": "jgWmCDKFSLb7"
      },
      "execution_count": null,
      "outputs": []
    },
    {
      "cell_type": "code",
      "source": [
        "test_ejercicio"
      ],
      "metadata": {
        "colab": {
          "base_uri": "https://localhost:8080/",
          "height": 455
        },
        "id": "CxjdPECOSXl5",
        "outputId": "505dd5f7-98da-4cd0-f2fa-44f3177d97e8"
      },
      "execution_count": null,
      "outputs": [
        {
          "output_type": "execute_result",
          "data": {
            "text/plain": [
              "                  GOOG\n",
              "Date                  \n",
              "2021-02-16  106.095001\n",
              "2021-02-17  106.415497\n",
              "2021-02-18  105.860001\n",
              "2021-02-19  105.056999\n",
              "2021-02-22  103.244003\n",
              "...                ...\n",
              "2023-02-08  100.000000\n",
              "2023-02-09   95.459999\n",
              "2023-02-10   94.860001\n",
              "2023-02-13   95.000000\n",
              "2023-02-14   94.949997\n",
              "\n",
              "[504 rows x 1 columns]"
            ],
            "text/html": [
              "\n",
              "  <div id=\"df-743d0a39-f3d8-4e60-88a9-7ca3ccafeaa6\">\n",
              "    <div class=\"colab-df-container\">\n",
              "      <div>\n",
              "<style scoped>\n",
              "    .dataframe tbody tr th:only-of-type {\n",
              "        vertical-align: middle;\n",
              "    }\n",
              "\n",
              "    .dataframe tbody tr th {\n",
              "        vertical-align: top;\n",
              "    }\n",
              "\n",
              "    .dataframe thead th {\n",
              "        text-align: right;\n",
              "    }\n",
              "</style>\n",
              "<table border=\"1\" class=\"dataframe\">\n",
              "  <thead>\n",
              "    <tr style=\"text-align: right;\">\n",
              "      <th></th>\n",
              "      <th>GOOG</th>\n",
              "    </tr>\n",
              "    <tr>\n",
              "      <th>Date</th>\n",
              "      <th></th>\n",
              "    </tr>\n",
              "  </thead>\n",
              "  <tbody>\n",
              "    <tr>\n",
              "      <th>2021-02-16</th>\n",
              "      <td>106.095001</td>\n",
              "    </tr>\n",
              "    <tr>\n",
              "      <th>2021-02-17</th>\n",
              "      <td>106.415497</td>\n",
              "    </tr>\n",
              "    <tr>\n",
              "      <th>2021-02-18</th>\n",
              "      <td>105.860001</td>\n",
              "    </tr>\n",
              "    <tr>\n",
              "      <th>2021-02-19</th>\n",
              "      <td>105.056999</td>\n",
              "    </tr>\n",
              "    <tr>\n",
              "      <th>2021-02-22</th>\n",
              "      <td>103.244003</td>\n",
              "    </tr>\n",
              "    <tr>\n",
              "      <th>...</th>\n",
              "      <td>...</td>\n",
              "    </tr>\n",
              "    <tr>\n",
              "      <th>2023-02-08</th>\n",
              "      <td>100.000000</td>\n",
              "    </tr>\n",
              "    <tr>\n",
              "      <th>2023-02-09</th>\n",
              "      <td>95.459999</td>\n",
              "    </tr>\n",
              "    <tr>\n",
              "      <th>2023-02-10</th>\n",
              "      <td>94.860001</td>\n",
              "    </tr>\n",
              "    <tr>\n",
              "      <th>2023-02-13</th>\n",
              "      <td>95.000000</td>\n",
              "    </tr>\n",
              "    <tr>\n",
              "      <th>2023-02-14</th>\n",
              "      <td>94.949997</td>\n",
              "    </tr>\n",
              "  </tbody>\n",
              "</table>\n",
              "<p>504 rows × 1 columns</p>\n",
              "</div>\n",
              "      <button class=\"colab-df-convert\" onclick=\"convertToInteractive('df-743d0a39-f3d8-4e60-88a9-7ca3ccafeaa6')\"\n",
              "              title=\"Convert this dataframe to an interactive table.\"\n",
              "              style=\"display:none;\">\n",
              "        \n",
              "  <svg xmlns=\"http://www.w3.org/2000/svg\" height=\"24px\"viewBox=\"0 0 24 24\"\n",
              "       width=\"24px\">\n",
              "    <path d=\"M0 0h24v24H0V0z\" fill=\"none\"/>\n",
              "    <path d=\"M18.56 5.44l.94 2.06.94-2.06 2.06-.94-2.06-.94-.94-2.06-.94 2.06-2.06.94zm-11 1L8.5 8.5l.94-2.06 2.06-.94-2.06-.94L8.5 2.5l-.94 2.06-2.06.94zm10 10l.94 2.06.94-2.06 2.06-.94-2.06-.94-.94-2.06-.94 2.06-2.06.94z\"/><path d=\"M17.41 7.96l-1.37-1.37c-.4-.4-.92-.59-1.43-.59-.52 0-1.04.2-1.43.59L10.3 9.45l-7.72 7.72c-.78.78-.78 2.05 0 2.83L4 21.41c.39.39.9.59 1.41.59.51 0 1.02-.2 1.41-.59l7.78-7.78 2.81-2.81c.8-.78.8-2.07 0-2.86zM5.41 20L4 18.59l7.72-7.72 1.47 1.35L5.41 20z\"/>\n",
              "  </svg>\n",
              "      </button>\n",
              "      \n",
              "  <style>\n",
              "    .colab-df-container {\n",
              "      display:flex;\n",
              "      flex-wrap:wrap;\n",
              "      gap: 12px;\n",
              "    }\n",
              "\n",
              "    .colab-df-convert {\n",
              "      background-color: #E8F0FE;\n",
              "      border: none;\n",
              "      border-radius: 50%;\n",
              "      cursor: pointer;\n",
              "      display: none;\n",
              "      fill: #1967D2;\n",
              "      height: 32px;\n",
              "      padding: 0 0 0 0;\n",
              "      width: 32px;\n",
              "    }\n",
              "\n",
              "    .colab-df-convert:hover {\n",
              "      background-color: #E2EBFA;\n",
              "      box-shadow: 0px 1px 2px rgba(60, 64, 67, 0.3), 0px 1px 3px 1px rgba(60, 64, 67, 0.15);\n",
              "      fill: #174EA6;\n",
              "    }\n",
              "\n",
              "    [theme=dark] .colab-df-convert {\n",
              "      background-color: #3B4455;\n",
              "      fill: #D2E3FC;\n",
              "    }\n",
              "\n",
              "    [theme=dark] .colab-df-convert:hover {\n",
              "      background-color: #434B5C;\n",
              "      box-shadow: 0px 1px 3px 1px rgba(0, 0, 0, 0.15);\n",
              "      filter: drop-shadow(0px 1px 2px rgba(0, 0, 0, 0.3));\n",
              "      fill: #FFFFFF;\n",
              "    }\n",
              "  </style>\n",
              "\n",
              "      <script>\n",
              "        const buttonEl =\n",
              "          document.querySelector('#df-743d0a39-f3d8-4e60-88a9-7ca3ccafeaa6 button.colab-df-convert');\n",
              "        buttonEl.style.display =\n",
              "          google.colab.kernel.accessAllowed ? 'block' : 'none';\n",
              "\n",
              "        async function convertToInteractive(key) {\n",
              "          const element = document.querySelector('#df-743d0a39-f3d8-4e60-88a9-7ca3ccafeaa6');\n",
              "          const dataTable =\n",
              "            await google.colab.kernel.invokeFunction('convertToInteractive',\n",
              "                                                     [key], {});\n",
              "          if (!dataTable) return;\n",
              "\n",
              "          const docLinkHtml = 'Like what you see? Visit the ' +\n",
              "            '<a target=\"_blank\" href=https://colab.research.google.com/notebooks/data_table.ipynb>data table notebook</a>'\n",
              "            + ' to learn more about interactive tables.';\n",
              "          element.innerHTML = '';\n",
              "          dataTable['output_type'] = 'display_data';\n",
              "          await google.colab.output.renderOutput(dataTable, element);\n",
              "          const docLink = document.createElement('div');\n",
              "          docLink.innerHTML = docLinkHtml;\n",
              "          element.appendChild(docLink);\n",
              "        }\n",
              "      </script>\n",
              "    </div>\n",
              "  </div>\n",
              "  "
            ]
          },
          "metadata": {},
          "execution_count": 38
        }
      ]
    },
    {
      "cell_type": "code",
      "source": [
        "scaler = MinMaxScaler()\n",
        "\n",
        "data_train = scaler.fit_transform(data_train.reshape(-1,1))\n",
        "data_test = scaler.transform(data_test.reshape(-1,1))"
      ],
      "metadata": {
        "id": "KTnNWah_PEZC"
      },
      "execution_count": null,
      "outputs": []
    },
    {
      "cell_type": "code",
      "source": [
        "data_train"
      ],
      "metadata": {
        "colab": {
          "base_uri": "https://localhost:8080/"
        },
        "id": "0xV-8pmql_bA",
        "outputId": "387dddf7-d7b8-492f-c25f-0bb172a617fa"
      },
      "execution_count": null,
      "outputs": [
        {
          "output_type": "execute_result",
          "data": {
            "text/plain": [
              "array([[0.00929134],\n",
              "       [0.0140989 ],\n",
              "       [0.00914326],\n",
              "       ...,\n",
              "       [0.95211082],\n",
              "       [0.93883709],\n",
              "       [0.94738212]])"
            ]
          },
          "metadata": {},
          "execution_count": 49
        }
      ]
    },
    {
      "cell_type": "code",
      "source": [
        "data_train.shape"
      ],
      "metadata": {
        "id": "4hCeeg4ffCSE",
        "colab": {
          "base_uri": "https://localhost:8080/"
        },
        "outputId": "d4730038-eee7-4748-c9d1-5b6d02e9350e"
      },
      "execution_count": null,
      "outputs": [
        {
          "output_type": "execute_result",
          "data": {
            "text/plain": [
              "(1984, 1)"
            ]
          },
          "metadata": {},
          "execution_count": 50
        }
      ]
    },
    {
      "cell_type": "code",
      "source": [
        "data_test.shape"
      ],
      "metadata": {
        "id": "hvpAYT--fD2v",
        "colab": {
          "base_uri": "https://localhost:8080/"
        },
        "outputId": "bb855dd1-9cb0-4e6a-d8bd-f10eb5871065"
      },
      "execution_count": null,
      "outputs": [
        {
          "output_type": "execute_result",
          "data": {
            "text/plain": [
              "(533, 1)"
            ]
          },
          "metadata": {},
          "execution_count": 51
        }
      ]
    },
    {
      "cell_type": "markdown",
      "source": [
        "## Uso de método shift"
      ],
      "metadata": {
        "id": "5sPvqWslnoOT"
      }
    },
    {
      "cell_type": "code",
      "source": [
        "copia = data_raw[['GOOG']].copy()"
      ],
      "metadata": {
        "id": "t2Tr-srZm2XU"
      },
      "execution_count": null,
      "outputs": []
    },
    {
      "cell_type": "code",
      "source": [
        "copia['1 espacio'] = copia.GOOG.shift(1)\n",
        "copia['2 espacio'] = copia.GOOG.shift(2)\n",
        "copia"
      ],
      "metadata": {
        "colab": {
          "base_uri": "https://localhost:8080/",
          "height": 455
        },
        "id": "XtMed1qfm9Jp",
        "outputId": "da517f6a-95f0-4ea3-903d-15a1b0bbd2d7"
      },
      "execution_count": null,
      "outputs": [
        {
          "output_type": "execute_result",
          "data": {
            "text/plain": [
              "                  GOOG   1 espacio   2 espacio\n",
              "Date                                          \n",
              "2013-02-15   19.748228         NaN         NaN\n",
              "2013-02-19   20.095926   19.748228         NaN\n",
              "2013-02-20   19.737518   20.095926   19.748228\n",
              "2013-02-21   19.813982   19.737518   20.095926\n",
              "2013-02-22   19.918093   19.813982   19.737518\n",
              "...                ...         ...         ...\n",
              "2023-02-08  100.000000  108.040001  103.470001\n",
              "2023-02-09   95.459999  100.000000  108.040001\n",
              "2023-02-10   94.860001   95.459999  100.000000\n",
              "2023-02-13   95.000000   94.860001   95.459999\n",
              "2023-02-14   94.949997   95.000000   94.860001\n",
              "\n",
              "[2517 rows x 3 columns]"
            ],
            "text/html": [
              "\n",
              "  <div id=\"df-53e59b02-97e2-4031-8f0a-76ac93866b68\">\n",
              "    <div class=\"colab-df-container\">\n",
              "      <div>\n",
              "<style scoped>\n",
              "    .dataframe tbody tr th:only-of-type {\n",
              "        vertical-align: middle;\n",
              "    }\n",
              "\n",
              "    .dataframe tbody tr th {\n",
              "        vertical-align: top;\n",
              "    }\n",
              "\n",
              "    .dataframe thead th {\n",
              "        text-align: right;\n",
              "    }\n",
              "</style>\n",
              "<table border=\"1\" class=\"dataframe\">\n",
              "  <thead>\n",
              "    <tr style=\"text-align: right;\">\n",
              "      <th></th>\n",
              "      <th>GOOG</th>\n",
              "      <th>1 espacio</th>\n",
              "      <th>2 espacio</th>\n",
              "    </tr>\n",
              "    <tr>\n",
              "      <th>Date</th>\n",
              "      <th></th>\n",
              "      <th></th>\n",
              "      <th></th>\n",
              "    </tr>\n",
              "  </thead>\n",
              "  <tbody>\n",
              "    <tr>\n",
              "      <th>2013-02-15</th>\n",
              "      <td>19.748228</td>\n",
              "      <td>NaN</td>\n",
              "      <td>NaN</td>\n",
              "    </tr>\n",
              "    <tr>\n",
              "      <th>2013-02-19</th>\n",
              "      <td>20.095926</td>\n",
              "      <td>19.748228</td>\n",
              "      <td>NaN</td>\n",
              "    </tr>\n",
              "    <tr>\n",
              "      <th>2013-02-20</th>\n",
              "      <td>19.737518</td>\n",
              "      <td>20.095926</td>\n",
              "      <td>19.748228</td>\n",
              "    </tr>\n",
              "    <tr>\n",
              "      <th>2013-02-21</th>\n",
              "      <td>19.813982</td>\n",
              "      <td>19.737518</td>\n",
              "      <td>20.095926</td>\n",
              "    </tr>\n",
              "    <tr>\n",
              "      <th>2013-02-22</th>\n",
              "      <td>19.918093</td>\n",
              "      <td>19.813982</td>\n",
              "      <td>19.737518</td>\n",
              "    </tr>\n",
              "    <tr>\n",
              "      <th>...</th>\n",
              "      <td>...</td>\n",
              "      <td>...</td>\n",
              "      <td>...</td>\n",
              "    </tr>\n",
              "    <tr>\n",
              "      <th>2023-02-08</th>\n",
              "      <td>100.000000</td>\n",
              "      <td>108.040001</td>\n",
              "      <td>103.470001</td>\n",
              "    </tr>\n",
              "    <tr>\n",
              "      <th>2023-02-09</th>\n",
              "      <td>95.459999</td>\n",
              "      <td>100.000000</td>\n",
              "      <td>108.040001</td>\n",
              "    </tr>\n",
              "    <tr>\n",
              "      <th>2023-02-10</th>\n",
              "      <td>94.860001</td>\n",
              "      <td>95.459999</td>\n",
              "      <td>100.000000</td>\n",
              "    </tr>\n",
              "    <tr>\n",
              "      <th>2023-02-13</th>\n",
              "      <td>95.000000</td>\n",
              "      <td>94.860001</td>\n",
              "      <td>95.459999</td>\n",
              "    </tr>\n",
              "    <tr>\n",
              "      <th>2023-02-14</th>\n",
              "      <td>94.949997</td>\n",
              "      <td>95.000000</td>\n",
              "      <td>94.860001</td>\n",
              "    </tr>\n",
              "  </tbody>\n",
              "</table>\n",
              "<p>2517 rows × 3 columns</p>\n",
              "</div>\n",
              "      <button class=\"colab-df-convert\" onclick=\"convertToInteractive('df-53e59b02-97e2-4031-8f0a-76ac93866b68')\"\n",
              "              title=\"Convert this dataframe to an interactive table.\"\n",
              "              style=\"display:none;\">\n",
              "        \n",
              "  <svg xmlns=\"http://www.w3.org/2000/svg\" height=\"24px\"viewBox=\"0 0 24 24\"\n",
              "       width=\"24px\">\n",
              "    <path d=\"M0 0h24v24H0V0z\" fill=\"none\"/>\n",
              "    <path d=\"M18.56 5.44l.94 2.06.94-2.06 2.06-.94-2.06-.94-.94-2.06-.94 2.06-2.06.94zm-11 1L8.5 8.5l.94-2.06 2.06-.94-2.06-.94L8.5 2.5l-.94 2.06-2.06.94zm10 10l.94 2.06.94-2.06 2.06-.94-2.06-.94-.94-2.06-.94 2.06-2.06.94z\"/><path d=\"M17.41 7.96l-1.37-1.37c-.4-.4-.92-.59-1.43-.59-.52 0-1.04.2-1.43.59L10.3 9.45l-7.72 7.72c-.78.78-.78 2.05 0 2.83L4 21.41c.39.39.9.59 1.41.59.51 0 1.02-.2 1.41-.59l7.78-7.78 2.81-2.81c.8-.78.8-2.07 0-2.86zM5.41 20L4 18.59l7.72-7.72 1.47 1.35L5.41 20z\"/>\n",
              "  </svg>\n",
              "      </button>\n",
              "      \n",
              "  <style>\n",
              "    .colab-df-container {\n",
              "      display:flex;\n",
              "      flex-wrap:wrap;\n",
              "      gap: 12px;\n",
              "    }\n",
              "\n",
              "    .colab-df-convert {\n",
              "      background-color: #E8F0FE;\n",
              "      border: none;\n",
              "      border-radius: 50%;\n",
              "      cursor: pointer;\n",
              "      display: none;\n",
              "      fill: #1967D2;\n",
              "      height: 32px;\n",
              "      padding: 0 0 0 0;\n",
              "      width: 32px;\n",
              "    }\n",
              "\n",
              "    .colab-df-convert:hover {\n",
              "      background-color: #E2EBFA;\n",
              "      box-shadow: 0px 1px 2px rgba(60, 64, 67, 0.3), 0px 1px 3px 1px rgba(60, 64, 67, 0.15);\n",
              "      fill: #174EA6;\n",
              "    }\n",
              "\n",
              "    [theme=dark] .colab-df-convert {\n",
              "      background-color: #3B4455;\n",
              "      fill: #D2E3FC;\n",
              "    }\n",
              "\n",
              "    [theme=dark] .colab-df-convert:hover {\n",
              "      background-color: #434B5C;\n",
              "      box-shadow: 0px 1px 3px 1px rgba(0, 0, 0, 0.15);\n",
              "      filter: drop-shadow(0px 1px 2px rgba(0, 0, 0, 0.3));\n",
              "      fill: #FFFFFF;\n",
              "    }\n",
              "  </style>\n",
              "\n",
              "      <script>\n",
              "        const buttonEl =\n",
              "          document.querySelector('#df-53e59b02-97e2-4031-8f0a-76ac93866b68 button.colab-df-convert');\n",
              "        buttonEl.style.display =\n",
              "          google.colab.kernel.accessAllowed ? 'block' : 'none';\n",
              "\n",
              "        async function convertToInteractive(key) {\n",
              "          const element = document.querySelector('#df-53e59b02-97e2-4031-8f0a-76ac93866b68');\n",
              "          const dataTable =\n",
              "            await google.colab.kernel.invokeFunction('convertToInteractive',\n",
              "                                                     [key], {});\n",
              "          if (!dataTable) return;\n",
              "\n",
              "          const docLinkHtml = 'Like what you see? Visit the ' +\n",
              "            '<a target=\"_blank\" href=https://colab.research.google.com/notebooks/data_table.ipynb>data table notebook</a>'\n",
              "            + ' to learn more about interactive tables.';\n",
              "          element.innerHTML = '';\n",
              "          dataTable['output_type'] = 'display_data';\n",
              "          await google.colab.output.renderOutput(dataTable, element);\n",
              "          const docLink = document.createElement('div');\n",
              "          docLink.innerHTML = docLinkHtml;\n",
              "          element.appendChild(docLink);\n",
              "        }\n",
              "      </script>\n",
              "    </div>\n",
              "  </div>\n",
              "  "
            ]
          },
          "metadata": {},
          "execution_count": 53
        }
      ]
    },
    {
      "cell_type": "markdown",
      "source": [
        "## Preprocesamiento de los datos"
      ],
      "metadata": {
        "id": "bN5ry3ymnrY2"
      }
    },
    {
      "cell_type": "code",
      "source": [
        "def data_prep(data):\n",
        "  x = []\n",
        "  y = []\n",
        "\n",
        "  for i in range(10,len(data)):\n",
        "    x.append(data[i-10:i]) # Registra todos lo data_train en bloques de 10 dias\n",
        "    y.append(data[i]) # Registra todos los data_train seguidos a partir del dia 10\n",
        "\n",
        "  x = np.array(x)\n",
        "  y = np.array(y)\n",
        "\n",
        "  x = x.reshape(x.shape[0],x.shape[1],1)\n",
        "  y = y.reshape(y.shape[0],1)\n",
        "  return x,y"
      ],
      "metadata": {
        "id": "5kpQH9W-Hx1P"
      },
      "execution_count": null,
      "outputs": []
    },
    {
      "cell_type": "code",
      "source": [
        "x_train, y_train = data_prep(data_train)"
      ],
      "metadata": {
        "id": "ocPC990vNOq_"
      },
      "execution_count": null,
      "outputs": []
    },
    {
      "cell_type": "code",
      "source": [
        "print(x_train)\n",
        "print('----------')\n",
        "print(y_train)\n",
        "x_train.shape, y_train.shape"
      ],
      "metadata": {
        "id": "CJ_9z4EwNVms",
        "colab": {
          "base_uri": "https://localhost:8080/"
        },
        "outputId": "ada32f18-ca6e-4bfb-e172-0c4503d36fc7"
      },
      "execution_count": null,
      "outputs": [
        {
          "output_type": "stream",
          "name": "stdout",
          "text": [
            "[[[0.00929134]\n",
            "  [0.0140989 ]\n",
            "  [0.00914326]\n",
            "  ...\n",
            "  [0.01166413]\n",
            "  [0.01215313]\n",
            "  [0.01387159]]\n",
            "\n",
            " [[0.0140989 ]\n",
            "  [0.00914326]\n",
            "  [0.01020051]\n",
            "  ...\n",
            "  [0.01215313]\n",
            "  [0.01387159]\n",
            "  [0.01914405]]\n",
            "\n",
            " [[0.00914326]\n",
            "  [0.01020051]\n",
            "  [0.01164003]\n",
            "  ...\n",
            "  [0.01387159]\n",
            "  [0.01914405]\n",
            "  [0.02503293]]\n",
            "\n",
            " ...\n",
            "\n",
            " [[0.95303724]\n",
            "  [0.95836745]\n",
            "  [0.95506982]\n",
            "  ...\n",
            "  [0.933901  ]\n",
            "  [0.93837389]\n",
            "  [0.96411941]]\n",
            "\n",
            " [[0.95836745]\n",
            "  [0.95506982]\n",
            "  [0.94463051]\n",
            "  ...\n",
            "  [0.93837389]\n",
            "  [0.96411941]\n",
            "  [0.95211082]]\n",
            "\n",
            " [[0.95506982]\n",
            "  [0.94463051]\n",
            "  [0.9329538 ]\n",
            "  ...\n",
            "  [0.96411941]\n",
            "  [0.95211082]\n",
            "  [0.93883709]]]\n",
            "----------\n",
            "[[0.01914405]\n",
            " [0.02503293]\n",
            " [0.02254653]\n",
            " ...\n",
            " [0.95211082]\n",
            " [0.93883709]\n",
            " [0.94738212]]\n"
          ]
        },
        {
          "output_type": "execute_result",
          "data": {
            "text/plain": [
              "((1974, 10, 1), (1974, 1))"
            ]
          },
          "metadata": {},
          "execution_count": 57
        }
      ]
    },
    {
      "cell_type": "code",
      "source": [
        "x_test, y_test = data_prep(data_test)"
      ],
      "metadata": {
        "id": "QmbyP2zQNrtf"
      },
      "execution_count": null,
      "outputs": []
    },
    {
      "cell_type": "code",
      "source": [
        "x_train[0]"
      ],
      "metadata": {
        "colab": {
          "base_uri": "https://localhost:8080/"
        },
        "id": "friht6JioPkk",
        "outputId": "4ed70596-2fdb-403d-e5fc-34c70d3df74d"
      },
      "execution_count": null,
      "outputs": [
        {
          "output_type": "execute_result",
          "data": {
            "text/plain": [
              "array([[0.00929134],\n",
              "       [0.0140989 ],\n",
              "       [0.00914326],\n",
              "       [0.01020051],\n",
              "       [0.01164003],\n",
              "       [0.00856127],\n",
              "       [0.00834085],\n",
              "       [0.01166413],\n",
              "       [0.01215313],\n",
              "       [0.01387159]])"
            ]
          },
          "metadata": {},
          "execution_count": 59
        }
      ]
    },
    {
      "cell_type": "code",
      "source": [
        "y_train[0]"
      ],
      "metadata": {
        "colab": {
          "base_uri": "https://localhost:8080/"
        },
        "id": "NVBqEBe-oRXi",
        "outputId": "3679f08e-8c40-47f8-b4c9-292bdf8e159e"
      },
      "execution_count": null,
      "outputs": [
        {
          "output_type": "execute_result",
          "data": {
            "text/plain": [
              "array([0.01914405])"
            ]
          },
          "metadata": {},
          "execution_count": 60
        }
      ]
    },
    {
      "cell_type": "code",
      "source": [
        "x_train[0].shape"
      ],
      "metadata": {
        "colab": {
          "base_uri": "https://localhost:8080/"
        },
        "id": "c7qicbGRo0zo",
        "outputId": "169c67d1-d42a-4761-e5b4-751a82c6b430"
      },
      "execution_count": null,
      "outputs": [
        {
          "output_type": "execute_result",
          "data": {
            "text/plain": [
              "(10, 1)"
            ]
          },
          "metadata": {},
          "execution_count": 63
        }
      ]
    },
    {
      "cell_type": "markdown",
      "source": [
        "## Modelo Recurrente"
      ],
      "metadata": {
        "id": "Pn-oTOiqhWuL"
      }
    },
    {
      "cell_type": "code",
      "source": [
        "model = Sequential()\n",
        "\n",
        "model.add(LSTM(units=45,return_sequences=True, input_shape=(x_train.shape[1],1)))\n",
        "model.add(LSTM(units=45,return_sequences=True))\n",
        "model.add(LSTM(units=45))\n",
        "model.add(Dense(units=1))\n",
        "\n",
        "model.summary()"
      ],
      "metadata": {
        "id": "-iFlIuM79HvX",
        "colab": {
          "base_uri": "https://localhost:8080/"
        },
        "outputId": "030bceab-a62d-4b5e-d716-89d3d20509b4"
      },
      "execution_count": null,
      "outputs": [
        {
          "output_type": "stream",
          "name": "stdout",
          "text": [
            "Model: \"sequential_4\"\n",
            "_________________________________________________________________\n",
            " Layer (type)                Output Shape              Param #   \n",
            "=================================================================\n",
            " lstm_4 (LSTM)               (None, 10, 45)            8460      \n",
            "                                                                 \n",
            " lstm_5 (LSTM)               (None, 10, 45)            16380     \n",
            "                                                                 \n",
            " lstm_6 (LSTM)               (None, 45)                16380     \n",
            "                                                                 \n",
            " dense_18 (Dense)            (None, 1)                 46        \n",
            "                                                                 \n",
            "=================================================================\n",
            "Total params: 41,266\n",
            "Trainable params: 41,266\n",
            "Non-trainable params: 0\n",
            "_________________________________________________________________\n"
          ]
        }
      ]
    },
    {
      "cell_type": "code",
      "source": [
        "tf.keras.utils.plot_model( \n",
        "    model,\n",
        "    #to_file=\"model.png\",\n",
        "    show_shapes=True,\n",
        "    show_dtype=False,\n",
        "    show_layer_names=True,\n",
        "    #rankdir=\"LR\",\n",
        "    #dpi=96,\n",
        ")"
      ],
      "metadata": {
        "id": "oVqDuwTeOWQR",
        "colab": {
          "base_uri": "https://localhost:8080/",
          "height": 533
        },
        "outputId": "0483ebf0-c390-4826-9aee-e8f89090456e"
      },
      "execution_count": null,
      "outputs": [
        {
          "output_type": "execute_result",
          "data": {
            "image/png": "[encoded data removed]",
            "text/plain": [
              "<IPython.core.display.Image object>"
            ]
          },
          "metadata": {},
          "execution_count": 92
        }
      ]
    },
    {
      "cell_type": "code",
      "source": [
        "model.compile(optimizer='adam', loss='mean_squared_error', metrics=['mae'])"
      ],
      "metadata": {
        "id": "OUYwMhplBZxY"
      },
      "execution_count": null,
      "outputs": []
    },
    {
      "cell_type": "code",
      "source": [
        "%%time\n",
        "res = model.fit(x_train, y_train, epochs=10, batch_size=320)"
      ],
      "metadata": {
        "id": "5SKJwxenBFkf",
        "colab": {
          "base_uri": "https://localhost:8080/"
        },
        "outputId": "53059cdc-a4cf-4e9d-835d-75fb0640bb2d"
      },
      "execution_count": null,
      "outputs": [
        {
          "output_type": "stream",
          "name": "stdout",
          "text": [
            "Epoch 1/10\n",
            "7/7 [==============================] - 10s 9ms/step - loss: 0.1201 - mae: 0.2742\n",
            "Epoch 2/10\n",
            "7/7 [==============================] - 0s 9ms/step - loss: 0.0242 - mae: 0.1294\n",
            "Epoch 3/10\n",
            "7/7 [==============================] - 0s 10ms/step - loss: 0.0160 - mae: 0.1104\n",
            "Epoch 4/10\n",
            "7/7 [==============================] - 0s 11ms/step - loss: 0.0120 - mae: 0.0868\n",
            "Epoch 5/10\n",
            "7/7 [==============================] - 0s 10ms/step - loss: 0.0045 - mae: 0.0590\n",
            "Epoch 6/10\n",
            "7/7 [==============================] - 0s 11ms/step - loss: 0.0017 - mae: 0.0338\n",
            "Epoch 7/10\n",
            "7/7 [==============================] - 0s 8ms/step - loss: 0.0014 - mae: 0.0283\n",
            "Epoch 8/10\n",
            "7/7 [==============================] - 0s 8ms/step - loss: 0.0012 - mae: 0.0215\n",
            "Epoch 9/10\n",
            "7/7 [==============================] - 0s 10ms/step - loss: 8.7967e-04 - mae: 0.0227\n",
            "Epoch 10/10\n",
            "7/7 [==============================] - 0s 8ms/step - loss: 6.7738e-04 - mae: 0.0181\n",
            "CPU times: user 7.24 s, sys: 697 ms, total: 7.94 s\n",
            "Wall time: 14.6 s\n"
          ]
        }
      ]
    },
    {
      "cell_type": "code",
      "source": [
        "# plot MAE and loss\n",
        "plt.figure(figsize=(10, 6))\n",
        "plt.plot(res.history['loss'], label='loss: mse')\n",
        "plt.legend()\n",
        "plt.show()"
      ],
      "metadata": {
        "id": "X_7ZmNp7pZty",
        "colab": {
          "base_uri": "https://localhost:8080/",
          "height": 374
        },
        "outputId": "0a2772dc-b6f9-4750-e73e-9a853af90d0b"
      },
      "execution_count": null,
      "outputs": [
        {
          "output_type": "display_data",
          "data": {
            "text/plain": [
              "<Figure size 720x432 with 1 Axes>"
            ],
            "image/png": "[encoded data removed]"
          },
          "metadata": {
            "needs_background": "light"
          }
        }
      ]
    },
    {
      "cell_type": "markdown",
      "source": [
        "## Haciendo predicciones"
      ],
      "metadata": {
        "id": "UzepoIyFiBwk"
      }
    },
    {
      "cell_type": "code",
      "source": [
        "x_test.shape"
      ],
      "metadata": {
        "colab": {
          "base_uri": "https://localhost:8080/"
        },
        "id": "6nFboy-2uDgN",
        "outputId": "831adc3a-0a68-4229-f4da-d3f2e0419c2d"
      },
      "execution_count": null,
      "outputs": [
        {
          "output_type": "execute_result",
          "data": {
            "text/plain": [
              "(523, 10, 1)"
            ]
          },
          "metadata": {},
          "execution_count": 96
        }
      ]
    },
    {
      "cell_type": "code",
      "source": [
        "y_pred = model.predict(x_test)"
      ],
      "metadata": {
        "id": "bKoySPx1dATE",
        "colab": {
          "base_uri": "https://localhost:8080/"
        },
        "outputId": "1ad5989e-7bd8-47cc-de05-0dbe12c31303"
      },
      "execution_count": null,
      "outputs": [
        {
          "output_type": "stream",
          "name": "stdout",
          "text": [
            "17/17 [==============================] - 1s 6ms/step\n"
          ]
        }
      ]
    },
    {
      "cell_type": "code",
      "source": [
        "y_pred.shape"
      ],
      "metadata": {
        "id": "dyEypzjidMLt",
        "colab": {
          "base_uri": "https://localhost:8080/"
        },
        "outputId": "304c2e84-6ceb-45d3-a3a0-2e24d53d0e4f"
      },
      "execution_count": null,
      "outputs": [
        {
          "output_type": "execute_result",
          "data": {
            "text/plain": [
              "(523, 1)"
            ]
          },
          "metadata": {},
          "execution_count": 98
        }
      ]
    },
    {
      "cell_type": "code",
      "source": [
        "fig, ax = plt.subplots()\n",
        "\n",
        "ax.plot(y_pred,c='r')\n",
        "ax.plot(y_test)"
      ],
      "metadata": {
        "id": "rLK2s5atdQMT",
        "colab": {
          "base_uri": "https://localhost:8080/",
          "height": 282
        },
        "outputId": "0e68bff9-b3cc-4879-9e19-5819cfc2a84b"
      },
      "execution_count": null,
      "outputs": [
        {
          "output_type": "execute_result",
          "data": {
            "text/plain": [
              "[<matplotlib.lines.Line2D at 0x7f78e66293d0>]"
            ]
          },
          "metadata": {},
          "execution_count": 99
        },
        {
          "output_type": "display_data",
          "data": {
            "text/plain": [
              "<Figure size 432x288 with 1 Axes>"
            ],
            "image/png": "[encoded data removed]"
          },
          "metadata": {
            "needs_background": "light"
          }
        }
      ]
    },
    {
      "cell_type": "code",
      "source": [
        "x_test[0]"
      ],
      "metadata": {
        "colab": {
          "base_uri": "https://localhost:8080/"
        },
        "id": "QXyCA6pUXeZ0",
        "outputId": "199dbdec-c01f-416a-8ebe-cc4fb05daee5"
      },
      "execution_count": null,
      "outputs": [
        {
          "output_type": "execute_result",
          "data": {
            "text/plain": [
              "array([[0.93103884],\n",
              "       [0.93980497],\n",
              "       [0.9359128 ],\n",
              "       [0.97183485],\n",
              "       [0.98563392],\n",
              "       [0.95764157],\n",
              "       [0.94369724],\n",
              "       [0.94912429],\n",
              "       [0.93929345],\n",
              "       [0.93653498]])"
            ]
          },
          "metadata": {},
          "execution_count": 101
        }
      ]
    },
    {
      "cell_type": "markdown",
      "source": [
        "# Reescalando los datos"
      ],
      "metadata": {
        "id": "Y2i7kGZvcvp3"
      }
    },
    {
      "cell_type": "code",
      "source": [
        "y_unscaler = scaler.inverse_transform(y_pred)"
      ],
      "metadata": {
        "id": "jhMzpSeadpmb"
      },
      "execution_count": null,
      "outputs": []
    },
    {
      "cell_type": "code",
      "source": [
        "fig, ax = plt.subplots()\n",
        "\n",
        "y_real = data.loc[pd.to_datetime('2021-01-01'):,:].to_numpy()\n",
        "\n",
        "ax.plot(y_real[10:])\n",
        "ax.plot(y_unscaler, c='r')"
      ],
      "metadata": {
        "id": "6XQJkemSdytd",
        "colab": {
          "base_uri": "https://localhost:8080/",
          "height": 282
        },
        "outputId": "4733a670-63d3-4b28-c1ce-f0dd90a640df"
      },
      "execution_count": null,
      "outputs": [
        {
          "output_type": "execute_result",
          "data": {
            "text/plain": [
              "[<matplotlib.lines.Line2D at 0x7f7862f53df0>]"
            ]
          },
          "metadata": {},
          "execution_count": 103
        },
        {
          "output_type": "display_data",
          "data": {
            "text/plain": [
              "<Figure size 432x288 with 1 Axes>"
            ],
            "image/png": "[encoded data removed]"
          },
          "metadata": {
            "needs_background": "light"
          }
        }
      ]
    },
    {
      "cell_type": "code",
      "source": [
        "mean_squared_error(y_real[10:],y_unscaler)"
      ],
      "metadata": {
        "id": "apA05IxqApw1",
        "colab": {
          "base_uri": "https://localhost:8080/"
        },
        "outputId": "1253b00e-dc8a-408e-d7ef-cd4030a95e8d"
      },
      "execution_count": null,
      "outputs": [
        {
          "output_type": "execute_result",
          "data": {
            "text/plain": [
              "44.41621688594993"
            ]
          },
          "metadata": {},
          "execution_count": 104
        }
      ]
    },
    {
      "cell_type": "markdown",
      "source": [
        "## Ahora queremos la predicción de dos variables"
      ],
      "metadata": {
        "id": "XlUMgRhvgf_J"
      }
    },
    {
      "cell_type": "code",
      "source": [
        "df2 = data_raw.copy()\n",
        "df2"
      ],
      "metadata": {
        "id": "zraF3MBuOyYR",
        "colab": {
          "base_uri": "https://localhost:8080/",
          "height": 455
        },
        "outputId": "08024af0-e46b-444e-9dec-36dc7555cba6"
      },
      "execution_count": null,
      "outputs": [
        {
          "output_type": "execute_result",
          "data": {
            "text/plain": [
              "                  AAPL        GOOG\n",
              "Date                              \n",
              "2013-02-15   14.193984   19.748228\n",
              "2013-02-19   14.188739   20.095926\n",
              "2013-02-20   13.845118   19.737518\n",
              "2013-02-21   13.759058   19.813982\n",
              "2013-02-22   13.905575   19.918093\n",
              "...                ...         ...\n",
              "2023-02-08  151.688400  100.000000\n",
              "2023-02-09  150.639999   95.459999\n",
              "2023-02-10  151.009995   94.860001\n",
              "2023-02-13  153.850006   95.000000\n",
              "2023-02-14  153.199997   94.949997\n",
              "\n",
              "[2517 rows x 2 columns]"
            ],
            "text/html": [
              "\n",
              "  <div id=\"df-cf40061b-d1f8-4579-b2d6-75272e168880\">\n",
              "    <div class=\"colab-df-container\">\n",
              "      <div>\n",
              "<style scoped>\n",
              "    .dataframe tbody tr th:only-of-type {\n",
              "        vertical-align: middle;\n",
              "    }\n",
              "\n",
              "    .dataframe tbody tr th {\n",
              "        vertical-align: top;\n",
              "    }\n",
              "\n",
              "    .dataframe thead th {\n",
              "        text-align: right;\n",
              "    }\n",
              "</style>\n",
              "<table border=\"1\" class=\"dataframe\">\n",
              "  <thead>\n",
              "    <tr style=\"text-align: right;\">\n",
              "      <th></th>\n",
              "      <th>AAPL</th>\n",
              "      <th>GOOG</th>\n",
              "    </tr>\n",
              "    <tr>\n",
              "      <th>Date</th>\n",
              "      <th></th>\n",
              "      <th></th>\n",
              "    </tr>\n",
              "  </thead>\n",
              "  <tbody>\n",
              "    <tr>\n",
              "      <th>2013-02-15</th>\n",
              "      <td>14.193984</td>\n",
              "      <td>19.748228</td>\n",
              "    </tr>\n",
              "    <tr>\n",
              "      <th>2013-02-19</th>\n",
              "      <td>14.188739</td>\n",
              "      <td>20.095926</td>\n",
              "    </tr>\n",
              "    <tr>\n",
              "      <th>2013-02-20</th>\n",
              "      <td>13.845118</td>\n",
              "      <td>19.737518</td>\n",
              "    </tr>\n",
              "    <tr>\n",
              "      <th>2013-02-21</th>\n",
              "      <td>13.759058</td>\n",
              "      <td>19.813982</td>\n",
              "    </tr>\n",
              "    <tr>\n",
              "      <th>2013-02-22</th>\n",
              "      <td>13.905575</td>\n",
              "      <td>19.918093</td>\n",
              "    </tr>\n",
              "    <tr>\n",
              "      <th>...</th>\n",
              "      <td>...</td>\n",
              "      <td>...</td>\n",
              "    </tr>\n",
              "    <tr>\n",
              "      <th>2023-02-08</th>\n",
              "      <td>151.688400</td>\n",
              "      <td>100.000000</td>\n",
              "    </tr>\n",
              "    <tr>\n",
              "      <th>2023-02-09</th>\n",
              "      <td>150.639999</td>\n",
              "      <td>95.459999</td>\n",
              "    </tr>\n",
              "    <tr>\n",
              "      <th>2023-02-10</th>\n",
              "      <td>151.009995</td>\n",
              "      <td>94.860001</td>\n",
              "    </tr>\n",
              "    <tr>\n",
              "      <th>2023-02-13</th>\n",
              "      <td>153.850006</td>\n",
              "      <td>95.000000</td>\n",
              "    </tr>\n",
              "    <tr>\n",
              "      <th>2023-02-14</th>\n",
              "      <td>153.199997</td>\n",
              "      <td>94.949997</td>\n",
              "    </tr>\n",
              "  </tbody>\n",
              "</table>\n",
              "<p>2517 rows × 2 columns</p>\n",
              "</div>\n",
              "      <button class=\"colab-df-convert\" onclick=\"convertToInteractive('df-cf40061b-d1f8-4579-b2d6-75272e168880')\"\n",
              "              title=\"Convert this dataframe to an interactive table.\"\n",
              "              style=\"display:none;\">\n",
              "        \n",
              "  <svg xmlns=\"http://www.w3.org/2000/svg\" height=\"24px\"viewBox=\"0 0 24 24\"\n",
              "       width=\"24px\">\n",
              "    <path d=\"M0 0h24v24H0V0z\" fill=\"none\"/>\n",
              "    <path d=\"M18.56 5.44l.94 2.06.94-2.06 2.06-.94-2.06-.94-.94-2.06-.94 2.06-2.06.94zm-11 1L8.5 8.5l.94-2.06 2.06-.94-2.06-.94L8.5 2.5l-.94 2.06-2.06.94zm10 10l.94 2.06.94-2.06 2.06-.94-2.06-.94-.94-2.06-.94 2.06-2.06.94z\"/><path d=\"M17.41 7.96l-1.37-1.37c-.4-.4-.92-.59-1.43-.59-.52 0-1.04.2-1.43.59L10.3 9.45l-7.72 7.72c-.78.78-.78 2.05 0 2.83L4 21.41c.39.39.9.59 1.41.59.51 0 1.02-.2 1.41-.59l7.78-7.78 2.81-2.81c.8-.78.8-2.07 0-2.86zM5.41 20L4 18.59l7.72-7.72 1.47 1.35L5.41 20z\"/>\n",
              "  </svg>\n",
              "      </button>\n",
              "      \n",
              "  <style>\n",
              "    .colab-df-container {\n",
              "      display:flex;\n",
              "      flex-wrap:wrap;\n",
              "      gap: 12px;\n",
              "    }\n",
              "\n",
              "    .colab-df-convert {\n",
              "      background-color: #E8F0FE;\n",
              "      border: none;\n",
              "      border-radius: 50%;\n",
              "      cursor: pointer;\n",
              "      display: none;\n",
              "      fill: #1967D2;\n",
              "      height: 32px;\n",
              "      padding: 0 0 0 0;\n",
              "      width: 32px;\n",
              "    }\n",
              "\n",
              "    .colab-df-convert:hover {\n",
              "      background-color: #E2EBFA;\n",
              "      box-shadow: 0px 1px 2px rgba(60, 64, 67, 0.3), 0px 1px 3px 1px rgba(60, 64, 67, 0.15);\n",
              "      fill: #174EA6;\n",
              "    }\n",
              "\n",
              "    [theme=dark] .colab-df-convert {\n",
              "      background-color: #3B4455;\n",
              "      fill: #D2E3FC;\n",
              "    }\n",
              "\n",
              "    [theme=dark] .colab-df-convert:hover {\n",
              "      background-color: #434B5C;\n",
              "      box-shadow: 0px 1px 3px 1px rgba(0, 0, 0, 0.15);\n",
              "      filter: drop-shadow(0px 1px 2px rgba(0, 0, 0, 0.3));\n",
              "      fill: #FFFFFF;\n",
              "    }\n",
              "  </style>\n",
              "\n",
              "      <script>\n",
              "        const buttonEl =\n",
              "          document.querySelector('#df-cf40061b-d1f8-4579-b2d6-75272e168880 button.colab-df-convert');\n",
              "        buttonEl.style.display =\n",
              "          google.colab.kernel.accessAllowed ? 'block' : 'none';\n",
              "\n",
              "        async function convertToInteractive(key) {\n",
              "          const element = document.querySelector('#df-cf40061b-d1f8-4579-b2d6-75272e168880');\n",
              "          const dataTable =\n",
              "            await google.colab.kernel.invokeFunction('convertToInteractive',\n",
              "                                                     [key], {});\n",
              "          if (!dataTable) return;\n",
              "\n",
              "          const docLinkHtml = 'Like what you see? Visit the ' +\n",
              "            '<a target=\"_blank\" href=https://colab.research.google.com/notebooks/data_table.ipynb>data table notebook</a>'\n",
              "            + ' to learn more about interactive tables.';\n",
              "          element.innerHTML = '';\n",
              "          dataTable['output_type'] = 'display_data';\n",
              "          await google.colab.output.renderOutput(dataTable, element);\n",
              "          const docLink = document.createElement('div');\n",
              "          docLink.innerHTML = docLinkHtml;\n",
              "          element.appendChild(docLink);\n",
              "        }\n",
              "      </script>\n",
              "    </div>\n",
              "  </div>\n",
              "  "
            ]
          },
          "metadata": {},
          "execution_count": 105
        }
      ]
    },
    {
      "cell_type": "code",
      "source": [
        "df2.info()"
      ],
      "metadata": {
        "id": "RZi3kH0pQwi5",
        "colab": {
          "base_uri": "https://localhost:8080/"
        },
        "outputId": "ef29b995-227f-43ff-8fad-db64b91bb9a8"
      },
      "execution_count": null,
      "outputs": [
        {
          "output_type": "stream",
          "name": "stdout",
          "text": [
            "<class 'pandas.core.frame.DataFrame'>\n",
            "DatetimeIndex: 2517 entries, 2013-02-15 to 2023-02-14\n",
            "Data columns (total 2 columns):\n",
            " #   Column  Non-Null Count  Dtype  \n",
            "---  ------  --------------  -----  \n",
            " 0   AAPL    2517 non-null   float64\n",
            " 1   GOOG    2517 non-null   float64\n",
            "dtypes: float64(2)\n",
            "memory usage: 123.5 KB\n"
          ]
        }
      ]
    },
    {
      "cell_type": "code",
      "source": [
        "data2 = df2.copy()\n",
        "data2"
      ],
      "metadata": {
        "id": "IZEFWaUTTj2s",
        "colab": {
          "base_uri": "https://localhost:8080/",
          "height": 455
        },
        "outputId": "e34e7a9e-26e1-484b-eb65-70ce2f71317c"
      },
      "execution_count": null,
      "outputs": [
        {
          "output_type": "execute_result",
          "data": {
            "text/plain": [
              "                  AAPL        GOOG\n",
              "Date                              \n",
              "2013-02-15   14.193984   19.748228\n",
              "2013-02-19   14.188739   20.095926\n",
              "2013-02-20   13.845118   19.737518\n",
              "2013-02-21   13.759058   19.813982\n",
              "2013-02-22   13.905575   19.918093\n",
              "...                ...         ...\n",
              "2023-02-08  151.688400  100.000000\n",
              "2023-02-09  150.639999   95.459999\n",
              "2023-02-10  151.009995   94.860001\n",
              "2023-02-13  153.850006   95.000000\n",
              "2023-02-14  153.199997   94.949997\n",
              "\n",
              "[2517 rows x 2 columns]"
            ],
            "text/html": [
              "\n",
              "  <div id=\"df-e028b96a-ac22-4093-8a40-017268fd00c7\">\n",
              "    <div class=\"colab-df-container\">\n",
              "      <div>\n",
              "<style scoped>\n",
              "    .dataframe tbody tr th:only-of-type {\n",
              "        vertical-align: middle;\n",
              "    }\n",
              "\n",
              "    .dataframe tbody tr th {\n",
              "        vertical-align: top;\n",
              "    }\n",
              "\n",
              "    .dataframe thead th {\n",
              "        text-align: right;\n",
              "    }\n",
              "</style>\n",
              "<table border=\"1\" class=\"dataframe\">\n",
              "  <thead>\n",
              "    <tr style=\"text-align: right;\">\n",
              "      <th></th>\n",
              "      <th>AAPL</th>\n",
              "      <th>GOOG</th>\n",
              "    </tr>\n",
              "    <tr>\n",
              "      <th>Date</th>\n",
              "      <th></th>\n",
              "      <th></th>\n",
              "    </tr>\n",
              "  </thead>\n",
              "  <tbody>\n",
              "    <tr>\n",
              "      <th>2013-02-15</th>\n",
              "      <td>14.193984</td>\n",
              "      <td>19.748228</td>\n",
              "    </tr>\n",
              "    <tr>\n",
              "      <th>2013-02-19</th>\n",
              "      <td>14.188739</td>\n",
              "      <td>20.095926</td>\n",
              "    </tr>\n",
              "    <tr>\n",
              "      <th>2013-02-20</th>\n",
              "      <td>13.845118</td>\n",
              "      <td>19.737518</td>\n",
              "    </tr>\n",
              "    <tr>\n",
              "      <th>2013-02-21</th>\n",
              "      <td>13.759058</td>\n",
              "      <td>19.813982</td>\n",
              "    </tr>\n",
              "    <tr>\n",
              "      <th>2013-02-22</th>\n",
              "      <td>13.905575</td>\n",
              "      <td>19.918093</td>\n",
              "    </tr>\n",
              "    <tr>\n",
              "      <th>...</th>\n",
              "      <td>...</td>\n",
              "      <td>...</td>\n",
              "    </tr>\n",
              "    <tr>\n",
              "      <th>2023-02-08</th>\n",
              "      <td>151.688400</td>\n",
              "      <td>100.000000</td>\n",
              "    </tr>\n",
              "    <tr>\n",
              "      <th>2023-02-09</th>\n",
              "      <td>150.639999</td>\n",
              "      <td>95.459999</td>\n",
              "    </tr>\n",
              "    <tr>\n",
              "      <th>2023-02-10</th>\n",
              "      <td>151.009995</td>\n",
              "      <td>94.860001</td>\n",
              "    </tr>\n",
              "    <tr>\n",
              "      <th>2023-02-13</th>\n",
              "      <td>153.850006</td>\n",
              "      <td>95.000000</td>\n",
              "    </tr>\n",
              "    <tr>\n",
              "      <th>2023-02-14</th>\n",
              "      <td>153.199997</td>\n",
              "      <td>94.949997</td>\n",
              "    </tr>\n",
              "  </tbody>\n",
              "</table>\n",
              "<p>2517 rows × 2 columns</p>\n",
              "</div>\n",
              "      <button class=\"colab-df-convert\" onclick=\"convertToInteractive('df-e028b96a-ac22-4093-8a40-017268fd00c7')\"\n",
              "              title=\"Convert this dataframe to an interactive table.\"\n",
              "              style=\"display:none;\">\n",
              "        \n",
              "  <svg xmlns=\"http://www.w3.org/2000/svg\" height=\"24px\"viewBox=\"0 0 24 24\"\n",
              "       width=\"24px\">\n",
              "    <path d=\"M0 0h24v24H0V0z\" fill=\"none\"/>\n",
              "    <path d=\"M18.56 5.44l.94 2.06.94-2.06 2.06-.94-2.06-.94-.94-2.06-.94 2.06-2.06.94zm-11 1L8.5 8.5l.94-2.06 2.06-.94-2.06-.94L8.5 2.5l-.94 2.06-2.06.94zm10 10l.94 2.06.94-2.06 2.06-.94-2.06-.94-.94-2.06-.94 2.06-2.06.94z\"/><path d=\"M17.41 7.96l-1.37-1.37c-.4-.4-.92-.59-1.43-.59-.52 0-1.04.2-1.43.59L10.3 9.45l-7.72 7.72c-.78.78-.78 2.05 0 2.83L4 21.41c.39.39.9.59 1.41.59.51 0 1.02-.2 1.41-.59l7.78-7.78 2.81-2.81c.8-.78.8-2.07 0-2.86zM5.41 20L4 18.59l7.72-7.72 1.47 1.35L5.41 20z\"/>\n",
              "  </svg>\n",
              "      </button>\n",
              "      \n",
              "  <style>\n",
              "    .colab-df-container {\n",
              "      display:flex;\n",
              "      flex-wrap:wrap;\n",
              "      gap: 12px;\n",
              "    }\n",
              "\n",
              "    .colab-df-convert {\n",
              "      background-color: #E8F0FE;\n",
              "      border: none;\n",
              "      border-radius: 50%;\n",
              "      cursor: pointer;\n",
              "      display: none;\n",
              "      fill: #1967D2;\n",
              "      height: 32px;\n",
              "      padding: 0 0 0 0;\n",
              "      width: 32px;\n",
              "    }\n",
              "\n",
              "    .colab-df-convert:hover {\n",
              "      background-color: #E2EBFA;\n",
              "      box-shadow: 0px 1px 2px rgba(60, 64, 67, 0.3), 0px 1px 3px 1px rgba(60, 64, 67, 0.15);\n",
              "      fill: #174EA6;\n",
              "    }\n",
              "\n",
              "    [theme=dark] .colab-df-convert {\n",
              "      background-color: #3B4455;\n",
              "      fill: #D2E3FC;\n",
              "    }\n",
              "\n",
              "    [theme=dark] .colab-df-convert:hover {\n",
              "      background-color: #434B5C;\n",
              "      box-shadow: 0px 1px 3px 1px rgba(0, 0, 0, 0.15);\n",
              "      filter: drop-shadow(0px 1px 2px rgba(0, 0, 0, 0.3));\n",
              "      fill: #FFFFFF;\n",
              "    }\n",
              "  </style>\n",
              "\n",
              "      <script>\n",
              "        const buttonEl =\n",
              "          document.querySelector('#df-e028b96a-ac22-4093-8a40-017268fd00c7 button.colab-df-convert');\n",
              "        buttonEl.style.display =\n",
              "          google.colab.kernel.accessAllowed ? 'block' : 'none';\n",
              "\n",
              "        async function convertToInteractive(key) {\n",
              "          const element = document.querySelector('#df-e028b96a-ac22-4093-8a40-017268fd00c7');\n",
              "          const dataTable =\n",
              "            await google.colab.kernel.invokeFunction('convertToInteractive',\n",
              "                                                     [key], {});\n",
              "          if (!dataTable) return;\n",
              "\n",
              "          const docLinkHtml = 'Like what you see? Visit the ' +\n",
              "            '<a target=\"_blank\" href=https://colab.research.google.com/notebooks/data_table.ipynb>data table notebook</a>'\n",
              "            + ' to learn more about interactive tables.';\n",
              "          element.innerHTML = '';\n",
              "          dataTable['output_type'] = 'display_data';\n",
              "          await google.colab.output.renderOutput(dataTable, element);\n",
              "          const docLink = document.createElement('div');\n",
              "          docLink.innerHTML = docLinkHtml;\n",
              "          element.appendChild(docLink);\n",
              "        }\n",
              "      </script>\n",
              "    </div>\n",
              "  </div>\n",
              "  "
            ]
          },
          "metadata": {},
          "execution_count": 107
        }
      ]
    },
    {
      "cell_type": "code",
      "source": [
        "data_train2 = data2.loc[:pd.to_datetime('2021-01-01'), :].to_numpy()\n",
        "data_test2 = data2.loc[pd.to_datetime('2021-01-01'):,:].to_numpy()\n",
        "print(data_train2.shape)\n",
        "print(data_test2.shape)"
      ],
      "metadata": {
        "id": "1ZvPNStPTxlJ",
        "colab": {
          "base_uri": "https://localhost:8080/"
        },
        "outputId": "2b4d8745-5a37-49f6-c8b6-b1e3281d8eee"
      },
      "execution_count": null,
      "outputs": [
        {
          "output_type": "stream",
          "name": "stdout",
          "text": [
            "(1984, 2)\n",
            "(533, 2)\n"
          ]
        }
      ]
    },
    {
      "cell_type": "code",
      "source": [
        "scaler2 = MinMaxScaler()\n",
        "\n",
        "data_train2 = scaler2.fit_transform(data_train2)\n",
        "data_test2 = scaler2.transform(data_test2)\n",
        "print(data_train2)\n",
        "print(data_test2)"
      ],
      "metadata": {
        "id": "nmgQJkpFUC5G",
        "colab": {
          "base_uri": "https://localhost:8080/"
        },
        "outputId": "bfbef43e-85a0-4803-f370-44e20f54594f"
      },
      "execution_count": null,
      "outputs": [
        {
          "output_type": "stream",
          "name": "stdout",
          "text": [
            "[[0.01748779 0.00929134]\n",
            " [0.01744508 0.0140989 ]\n",
            " [0.01464724 0.00914326]\n",
            " ...\n",
            " [0.985379   0.95211082]\n",
            " [0.97614097 0.93883709]\n",
            " [0.96786618 0.94738212]]\n",
            "[[0.94151669 0.93103884]\n",
            " [0.9543703  0.93980497]\n",
            " [0.91894292 0.9359128 ]\n",
            " ...\n",
            " [1.13147494 1.04784772]\n",
            " [1.15459896 1.04978347]\n",
            " [1.14930644 1.04909208]]\n"
          ]
        }
      ]
    },
    {
      "cell_type": "code",
      "source": [
        "def data_prep2(data):\n",
        "  x = []\n",
        "  y = []\n",
        "\n",
        "  for i in range(10,len(data)):\n",
        "    x.append(data[i-10:i])\n",
        "    y.append(data[i])\n",
        "\n",
        "  x = np.array(x)\n",
        "  y = np.array(y)\n",
        "\n",
        "  x = x.reshape(x.shape[0],x.shape[1],2)\n",
        "  y = y.reshape(y.shape[0],2)\n",
        "  return x,y"
      ],
      "metadata": {
        "id": "wDFopeKmX0_n"
      },
      "execution_count": null,
      "outputs": []
    },
    {
      "cell_type": "code",
      "source": [
        "x_train2, y_train2 = data_prep2(data_train2)\n",
        "x_train2"
      ],
      "metadata": {
        "id": "2V0-l_t_gkHP",
        "colab": {
          "base_uri": "https://localhost:8080/"
        },
        "outputId": "4aed22ff-bba6-4417-a2a5-50b6842f8aa0"
      },
      "execution_count": null,
      "outputs": [
        {
          "output_type": "execute_result",
          "data": {
            "text/plain": [
              "array([[[0.01748779, 0.00929134],\n",
              "        [0.01744508, 0.0140989 ],\n",
              "        [0.01464724, 0.00914326],\n",
              "        ...,\n",
              "        [0.01357231, 0.01166413],\n",
              "        [0.01277615, 0.01215313],\n",
              "        [0.01003103, 0.01387159]],\n",
              "\n",
              "       [[0.01744508, 0.0140989 ],\n",
              "        [0.01464724, 0.00914326],\n",
              "        [0.01394652, 0.01020051],\n",
              "        ...,\n",
              "        [0.01277615, 0.01215313],\n",
              "        [0.01003103, 0.01387159],\n",
              "        [0.00741403, 0.01914405]],\n",
              "\n",
              "       [[0.01464724, 0.00914326],\n",
              "        [0.01394652, 0.01020051],\n",
              "        [0.01513949, 0.01164003],\n",
              "        ...,\n",
              "        [0.01003103, 0.01387159],\n",
              "        [0.00741403, 0.01914405],\n",
              "        [0.01019929, 0.02503293]],\n",
              "\n",
              "       ...,\n",
              "\n",
              "       [[0.88022206, 0.95303724],\n",
              "        [0.92922576, 0.95836745],\n",
              "        [0.92866332, 0.95506982],\n",
              "        ...,\n",
              "        [0.95396851, 0.933901  ],\n",
              "        [0.96208216, 0.93837389],\n",
              "        [1.        , 0.96411941]],\n",
              "\n",
              "       [[0.92922576, 0.95836745],\n",
              "        [0.92866332, 0.95506982],\n",
              "        [0.93581305, 0.94463051],\n",
              "        ...,\n",
              "        [0.96208216, 0.93837389],\n",
              "        [1.        , 0.96411941],\n",
              "        [0.985379  , 0.95211082]],\n",
              "\n",
              "       [[0.92866332, 0.95506982],\n",
              "        [0.93581305, 0.94463051],\n",
              "        [0.91942498, 0.9329538 ],\n",
              "        ...,\n",
              "        [1.        , 0.96411941],\n",
              "        [0.985379  , 0.95211082],\n",
              "        [0.97614097, 0.93883709]]])"
            ]
          },
          "metadata": {},
          "execution_count": 111
        }
      ]
    },
    {
      "cell_type": "code",
      "source": [
        "x_train2.shape, y_train2.shape"
      ],
      "metadata": {
        "id": "ntFHyrIRgyi8",
        "colab": {
          "base_uri": "https://localhost:8080/"
        },
        "outputId": "57e071e4-1773-46cb-c7da-2a2e25ad4b04"
      },
      "execution_count": null,
      "outputs": [
        {
          "output_type": "execute_result",
          "data": {
            "text/plain": [
              "((1974, 10, 2), (1974, 2))"
            ]
          },
          "metadata": {},
          "execution_count": 112
        }
      ]
    },
    {
      "cell_type": "code",
      "source": [
        "x_test2, y_test2 = data_prep2(data_test2)\n",
        "x_test2.shape, y_test2.shape"
      ],
      "metadata": {
        "id": "lRHeLmdhg59u",
        "colab": {
          "base_uri": "https://localhost:8080/"
        },
        "outputId": "77651611-cf78-401a-c594-419c067dc0e6"
      },
      "execution_count": null,
      "outputs": [
        {
          "output_type": "execute_result",
          "data": {
            "text/plain": [
              "((523, 10, 2), (523, 2))"
            ]
          },
          "metadata": {},
          "execution_count": 113
        }
      ]
    },
    {
      "cell_type": "markdown",
      "source": [
        "## Modelo Recurrente 2"
      ],
      "metadata": {
        "id": "atsllkwUheb9"
      }
    },
    {
      "cell_type": "code",
      "source": [
        "model2 = Sequential()\n",
        "#We are gonna change input shape for input_dim\n",
        "model2.add(LSTM(200, input_shape=(x_train2.shape[1],2),\n",
        "                   return_sequences=True))\n",
        "#model2.add(Dropout(0.2))\n",
        "\n",
        "model2.add(LSTM(128))\n",
        "model2.add(Dropout(0.1))\n",
        "\n",
        "model2.add(Dense(32))\n",
        "#model2.add(Dropout(0.2))\n",
        "\n",
        "#We are gonna set the number of outputs to 2, to match with the\n",
        "#number of categories\n",
        "model2.add(Dense(2))"
      ],
      "metadata": {
        "id": "O2Dzw1lGqY4u"
      },
      "execution_count": null,
      "outputs": []
    },
    {
      "cell_type": "code",
      "source": [
        "tf.keras.utils.plot_model( \n",
        "    model2,\n",
        "    #to_file=\"model.png\",\n",
        "    show_shapes=True,\n",
        "    show_dtype=False,\n",
        "    show_layer_names=True,\n",
        "    #rankdir=\"LR\",\n",
        "    #dpi=96,\n",
        ")"
      ],
      "metadata": {
        "id": "w0DoY22rhilj",
        "colab": {
          "base_uri": "https://localhost:8080/",
          "height": 644
        },
        "outputId": "c6acaa61-0d5e-41ac-c984-da2f5a221998"
      },
      "execution_count": null,
      "outputs": [
        {
          "output_type": "execute_result",
          "data": {
            "image/png": "[encoded data removed]",
            "text/plain": [
              "<IPython.core.display.Image object>"
            ]
          },
          "metadata": {},
          "execution_count": 116
        }
      ]
    },
    {
      "cell_type": "code",
      "source": [
        "model2.compile(\n",
        "       loss='mean_squared_error',\n",
        "       optimizer='adam',\n",
        "       metrics=['mae'])"
      ],
      "metadata": {
        "id": "QuAVyHU42vQG"
      },
      "execution_count": null,
      "outputs": []
    },
    {
      "cell_type": "code",
      "source": [
        "res2 = model2.fit(x_train2, y_train2, epochs=10, batch_size=320)"
      ],
      "metadata": {
        "id": "lg-ml5TZqrIo",
        "colab": {
          "base_uri": "https://localhost:8080/"
        },
        "outputId": "73b093df-0bff-48d3-e4f4-be7184816e8c"
      },
      "execution_count": null,
      "outputs": [
        {
          "output_type": "stream",
          "name": "stdout",
          "text": [
            "Epoch 1/10\n",
            "7/7 [==============================] - 4s 10ms/step - loss: 0.0481 - mae: 0.1559\n",
            "Epoch 2/10\n",
            "7/7 [==============================] - 0s 10ms/step - loss: 0.0078 - mae: 0.0607\n",
            "Epoch 3/10\n",
            "7/7 [==============================] - 0s 9ms/step - loss: 0.0042 - mae: 0.0478\n",
            "Epoch 4/10\n",
            "7/7 [==============================] - 0s 9ms/step - loss: 0.0028 - mae: 0.0413\n",
            "Epoch 5/10\n",
            "7/7 [==============================] - 0s 10ms/step - loss: 0.0021 - mae: 0.0334\n",
            "Epoch 6/10\n",
            "7/7 [==============================] - 0s 8ms/step - loss: 0.0013 - mae: 0.0255\n",
            "Epoch 7/10\n",
            "7/7 [==============================] - 0s 10ms/step - loss: 0.0011 - mae: 0.0229\n",
            "Epoch 8/10\n",
            "7/7 [==============================] - 0s 9ms/step - loss: 8.6623e-04 - mae: 0.0205\n",
            "Epoch 9/10\n",
            "7/7 [==============================] - 0s 8ms/step - loss: 8.3894e-04 - mae: 0.0194\n",
            "Epoch 10/10\n",
            "7/7 [==============================] - 0s 8ms/step - loss: 7.6872e-04 - mae: 0.0181\n"
          ]
        }
      ]
    },
    {
      "cell_type": "code",
      "source": [
        "# plot MAE and loss\n",
        "plt.figure(figsize=(10, 6))\n",
        "plt.plot(res2.history['loss'], label='loss: mse')\n",
        "plt.legend()\n",
        "plt.show()"
      ],
      "metadata": {
        "id": "TzH2C6FTxDl6",
        "colab": {
          "base_uri": "https://localhost:8080/",
          "height": 375
        },
        "outputId": "b44f2daf-302e-4d55-fc1e-2a7450b5bc25"
      },
      "execution_count": null,
      "outputs": [
        {
          "output_type": "display_data",
          "data": {
            "text/plain": [
              "<Figure size 720x432 with 1 Axes>"
            ],
            "image/png": "[encoded data removed]"
          },
          "metadata": {
            "needs_background": "light"
          }
        }
      ]
    },
    {
      "cell_type": "markdown",
      "source": [
        "## Haciendo predicciones para 2 series"
      ],
      "metadata": {
        "id": "Rqfni9y1iJ3w"
      }
    },
    {
      "cell_type": "code",
      "source": [
        "y_pred2 = model2.predict(x_test2)"
      ],
      "metadata": {
        "id": "FIaPBUm4iJAA",
        "colab": {
          "base_uri": "https://localhost:8080/"
        },
        "outputId": "57a46298-059e-43e8-cdcc-e85073f0925c"
      },
      "execution_count": null,
      "outputs": [
        {
          "output_type": "stream",
          "name": "stdout",
          "text": [
            "17/17 [==============================] - 1s 3ms/step\n"
          ]
        }
      ]
    },
    {
      "cell_type": "code",
      "source": [
        "y_pred2.shape"
      ],
      "metadata": {
        "id": "6ijtu_PPiWLP",
        "colab": {
          "base_uri": "https://localhost:8080/"
        },
        "outputId": "d22ac967-9029-49b1-d4be-0179787447e2"
      },
      "execution_count": null,
      "outputs": [
        {
          "output_type": "execute_result",
          "data": {
            "text/plain": [
              "(523, 2)"
            ]
          },
          "metadata": {},
          "execution_count": 122
        }
      ]
    },
    {
      "cell_type": "code",
      "source": [
        "y_unscaler2 = scaler2.inverse_transform(y_pred2)\n",
        "y_unscaler2"
      ],
      "metadata": {
        "id": "WopycXuf47sQ",
        "colab": {
          "base_uri": "https://localhost:8080/"
        },
        "outputId": "2a1b7ba9-8165-41ac-ac1f-9f3741880905"
      },
      "execution_count": null,
      "outputs": [
        {
          "output_type": "execute_result",
          "data": {
            "text/plain": [
              "array([[131.11406 ,  89.12581 ],\n",
              "       [130.9105  ,  89.20246 ],\n",
              "       [130.911   ,  89.55947 ],\n",
              "       ...,\n",
              "       [153.39314 , 101.89037 ],\n",
              "       [153.76509 , 101.45223 ],\n",
              "       [154.3408  , 100.949104]], dtype=float32)"
            ]
          },
          "metadata": {},
          "execution_count": 123
        }
      ]
    },
    {
      "cell_type": "code",
      "source": [
        "y_real = data_raw.loc[pd.to_datetime('2021-01-01'):,:].to_numpy()\n",
        "y_real.shape"
      ],
      "metadata": {
        "id": "MazksgRB-VrP",
        "colab": {
          "base_uri": "https://localhost:8080/"
        },
        "outputId": "2c1e0984-895c-4b8a-ca8a-6748fa6564ce"
      },
      "execution_count": null,
      "outputs": [
        {
          "output_type": "execute_result",
          "data": {
            "text/plain": [
              "(533, 2)"
            ]
          },
          "metadata": {},
          "execution_count": 124
        }
      ]
    },
    {
      "cell_type": "markdown",
      "source": [
        "## Predicción para primer entrada del DataFrame"
      ],
      "metadata": {
        "id": "98V6NBVu4RYB"
      }
    },
    {
      "cell_type": "code",
      "source": [
        "fig, ax = plt.subplots()\n",
        "\n",
        "ax.plot(y_unscaler2[:,0],c='r')\n",
        "ax.plot(y_real[:,0][10:])"
      ],
      "metadata": {
        "id": "6vOZP_Mcidlo",
        "colab": {
          "base_uri": "https://localhost:8080/",
          "height": 282
        },
        "outputId": "172ef5b4-c26f-4061-cb2b-cf57133834e5"
      },
      "execution_count": null,
      "outputs": [
        {
          "output_type": "execute_result",
          "data": {
            "text/plain": [
              "[<matplotlib.lines.Line2D at 0x7f7861670250>]"
            ]
          },
          "metadata": {},
          "execution_count": 125
        },
        {
          "output_type": "display_data",
          "data": {
            "text/plain": [
              "<Figure size 432x288 with 1 Axes>"
            ],
            "image/png": "[encoded data removed]"
          },
          "metadata": {
            "needs_background": "light"
          }
        }
      ]
    },
    {
      "cell_type": "markdown",
      "source": [
        "## Prediccion para la segunda entrada del DataFrame"
      ],
      "metadata": {
        "id": "diJsJGjk4oqz"
      }
    },
    {
      "cell_type": "code",
      "source": [
        "fig, ax = plt.subplots()\n",
        "\n",
        "ax.plot(y_unscaler2[:,1],c='r')\n",
        "ax.plot(y_real[:,1][10:])"
      ],
      "metadata": {
        "id": "stV9QmrZ4_Lg",
        "colab": {
          "base_uri": "https://localhost:8080/",
          "height": 282
        },
        "outputId": "377d24b3-732d-4640-f81b-d72db83b768c"
      },
      "execution_count": null,
      "outputs": [
        {
          "output_type": "execute_result",
          "data": {
            "text/plain": [
              "[<matplotlib.lines.Line2D at 0x7f7863f89a60>]"
            ]
          },
          "metadata": {},
          "execution_count": 126
        },
        {
          "output_type": "display_data",
          "data": {
            "text/plain": [
              "<Figure size 432x288 with 1 Axes>"
            ],
            "image/png": "[encoded data removed]"
          },
          "metadata": {
            "needs_background": "light"
          }
        }
      ]
    },
    {
      "cell_type": "markdown",
      "source": [
        "# Preguntas\n",
        "\n",
        "1. ¿Cómo podrían utilizar esto?\n",
        "\n",
        "2. ¿Que puntos fuertes y que debilidades tiene?\n",
        "\n",
        "3. ¿Que ventajas y desventajas tendría agregar mas series de tiempo a esto?\n",
        "\n",
        "4. ¿Qué cambiarían a la hora de pedir los datos de Yahoo para tener mas datos en cada serie de tiempo?"
      ],
      "metadata": {
        "id": "WlNWul073S64"
      }
    }
  ]
}