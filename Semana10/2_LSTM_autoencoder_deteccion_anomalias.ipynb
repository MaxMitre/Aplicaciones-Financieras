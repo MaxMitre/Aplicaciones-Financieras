{
  "nbformat": 4,
  "nbformat_minor": 0,
  "metadata": {
    "colab": {
      "provenance": []
    },
    "kernelspec": {
      "name": "python3",
      "display_name": "Python 3"
    }
  },
  "cells": [
    {
      "cell_type": "markdown",
      "source": [
        "[![Open In Colab](https://colab.research.google.com/assets/colab-badge.svg)](https://colab.research.google.com/github/MaxMitre/Aplicaciones-Financieras/blob/main/Semana10/2_LSTM_autoencoder_deteccion_anomalias.ipynb)"
      ],
      "metadata": {
        "id": "oy1X1tq4JsGF"
      }
    },
    {
      "cell_type": "markdown",
      "source": [
        "# Pequeño ejercicio de la clase pasada: Procesar con numpy vs procesar con pandas"
      ],
      "metadata": {
        "id": "MrbWMolyLD5M"
      }
    },
    {
      "cell_type": "code",
      "source": [
        "import sys\n",
        "import numpy as np\n",
        "import pandas as pd"
      ],
      "metadata": {
        "id": "9vaS80stVs5h"
      },
      "execution_count": null,
      "outputs": []
    },
    {
      "cell_type": "code",
      "source": [
        "aaaa = np.array([[1,2,3,4,5,6,7,8], [8,7,6,5,4,3,2,1], [1,2,3,5,6,4,7,8]])\n",
        "aaaa"
      ],
      "metadata": {
        "colab": {
          "base_uri": "https://localhost:8080/"
        },
        "id": "6Mo2QTFcVv7a",
        "outputId": "ea1b8610-8b8b-4734-9829-e39c29f7a200"
      },
      "execution_count": null,
      "outputs": [
        {
          "output_type": "execute_result",
          "data": {
            "text/plain": [
              "array([[1, 2, 3, 4, 5, 6, 7, 8],\n",
              "       [8, 7, 6, 5, 4, 3, 2, 1],\n",
              "       [1, 2, 3, 5, 6, 4, 7, 8]])"
            ]
          },
          "metadata": {},
          "execution_count": 9
        }
      ]
    },
    {
      "cell_type": "code",
      "source": [
        "df_aaa = pd.DataFrame(aaaa)\n",
        "df_aaa"
      ],
      "metadata": {
        "colab": {
          "base_uri": "https://localhost:8080/",
          "height": 143
        },
        "id": "T8qSANx3VuQ2",
        "outputId": "3a0d949f-8ad3-4e2b-c416-e15346456cc8"
      },
      "execution_count": null,
      "outputs": [
        {
          "output_type": "execute_result",
          "data": {
            "text/plain": [
              "   0  1  2  3  4  5  6  7\n",
              "0  1  2  3  4  5  6  7  8\n",
              "1  8  7  6  5  4  3  2  1\n",
              "2  1  2  3  5  6  4  7  8"
            ],
            "text/html": [
              "\n",
              "  <div id=\"df-f05e248a-d41f-46e9-85a3-320b927fc859\">\n",
              "    <div class=\"colab-df-container\">\n",
              "      <div>\n",
              "<style scoped>\n",
              "    .dataframe tbody tr th:only-of-type {\n",
              "        vertical-align: middle;\n",
              "    }\n",
              "\n",
              "    .dataframe tbody tr th {\n",
              "        vertical-align: top;\n",
              "    }\n",
              "\n",
              "    .dataframe thead th {\n",
              "        text-align: right;\n",
              "    }\n",
              "</style>\n",
              "<table border=\"1\" class=\"dataframe\">\n",
              "  <thead>\n",
              "    <tr style=\"text-align: right;\">\n",
              "      <th></th>\n",
              "      <th>0</th>\n",
              "      <th>1</th>\n",
              "      <th>2</th>\n",
              "      <th>3</th>\n",
              "      <th>4</th>\n",
              "      <th>5</th>\n",
              "      <th>6</th>\n",
              "      <th>7</th>\n",
              "    </tr>\n",
              "  </thead>\n",
              "  <tbody>\n",
              "    <tr>\n",
              "      <th>0</th>\n",
              "      <td>1</td>\n",
              "      <td>2</td>\n",
              "      <td>3</td>\n",
              "      <td>4</td>\n",
              "      <td>5</td>\n",
              "      <td>6</td>\n",
              "      <td>7</td>\n",
              "      <td>8</td>\n",
              "    </tr>\n",
              "    <tr>\n",
              "      <th>1</th>\n",
              "      <td>8</td>\n",
              "      <td>7</td>\n",
              "      <td>6</td>\n",
              "      <td>5</td>\n",
              "      <td>4</td>\n",
              "      <td>3</td>\n",
              "      <td>2</td>\n",
              "      <td>1</td>\n",
              "    </tr>\n",
              "    <tr>\n",
              "      <th>2</th>\n",
              "      <td>1</td>\n",
              "      <td>2</td>\n",
              "      <td>3</td>\n",
              "      <td>5</td>\n",
              "      <td>6</td>\n",
              "      <td>4</td>\n",
              "      <td>7</td>\n",
              "      <td>8</td>\n",
              "    </tr>\n",
              "  </tbody>\n",
              "</table>\n",
              "</div>\n",
              "      <button class=\"colab-df-convert\" onclick=\"convertToInteractive('df-f05e248a-d41f-46e9-85a3-320b927fc859')\"\n",
              "              title=\"Convert this dataframe to an interactive table.\"\n",
              "              style=\"display:none;\">\n",
              "        \n",
              "  <svg xmlns=\"http://www.w3.org/2000/svg\" height=\"24px\"viewBox=\"0 0 24 24\"\n",
              "       width=\"24px\">\n",
              "    <path d=\"M0 0h24v24H0V0z\" fill=\"none\"/>\n",
              "    <path d=\"M18.56 5.44l.94 2.06.94-2.06 2.06-.94-2.06-.94-.94-2.06-.94 2.06-2.06.94zm-11 1L8.5 8.5l.94-2.06 2.06-.94-2.06-.94L8.5 2.5l-.94 2.06-2.06.94zm10 10l.94 2.06.94-2.06 2.06-.94-2.06-.94-.94-2.06-.94 2.06-2.06.94z\"/><path d=\"M17.41 7.96l-1.37-1.37c-.4-.4-.92-.59-1.43-.59-.52 0-1.04.2-1.43.59L10.3 9.45l-7.72 7.72c-.78.78-.78 2.05 0 2.83L4 21.41c.39.39.9.59 1.41.59.51 0 1.02-.2 1.41-.59l7.78-7.78 2.81-2.81c.8-.78.8-2.07 0-2.86zM5.41 20L4 18.59l7.72-7.72 1.47 1.35L5.41 20z\"/>\n",
              "  </svg>\n",
              "      </button>\n",
              "      \n",
              "  <style>\n",
              "    .colab-df-container {\n",
              "      display:flex;\n",
              "      flex-wrap:wrap;\n",
              "      gap: 12px;\n",
              "    }\n",
              "\n",
              "    .colab-df-convert {\n",
              "      background-color: #E8F0FE;\n",
              "      border: none;\n",
              "      border-radius: 50%;\n",
              "      cursor: pointer;\n",
              "      display: none;\n",
              "      fill: #1967D2;\n",
              "      height: 32px;\n",
              "      padding: 0 0 0 0;\n",
              "      width: 32px;\n",
              "    }\n",
              "\n",
              "    .colab-df-convert:hover {\n",
              "      background-color: #E2EBFA;\n",
              "      box-shadow: 0px 1px 2px rgba(60, 64, 67, 0.3), 0px 1px 3px 1px rgba(60, 64, 67, 0.15);\n",
              "      fill: #174EA6;\n",
              "    }\n",
              "\n",
              "    [theme=dark] .colab-df-convert {\n",
              "      background-color: #3B4455;\n",
              "      fill: #D2E3FC;\n",
              "    }\n",
              "\n",
              "    [theme=dark] .colab-df-convert:hover {\n",
              "      background-color: #434B5C;\n",
              "      box-shadow: 0px 1px 3px 1px rgba(0, 0, 0, 0.15);\n",
              "      filter: drop-shadow(0px 1px 2px rgba(0, 0, 0, 0.3));\n",
              "      fill: #FFFFFF;\n",
              "    }\n",
              "  </style>\n",
              "\n",
              "      <script>\n",
              "        const buttonEl =\n",
              "          document.querySelector('#df-f05e248a-d41f-46e9-85a3-320b927fc859 button.colab-df-convert');\n",
              "        buttonEl.style.display =\n",
              "          google.colab.kernel.accessAllowed ? 'block' : 'none';\n",
              "\n",
              "        async function convertToInteractive(key) {\n",
              "          const element = document.querySelector('#df-f05e248a-d41f-46e9-85a3-320b927fc859');\n",
              "          const dataTable =\n",
              "            await google.colab.kernel.invokeFunction('convertToInteractive',\n",
              "                                                     [key], {});\n",
              "          if (!dataTable) return;\n",
              "\n",
              "          const docLinkHtml = 'Like what you see? Visit the ' +\n",
              "            '<a target=\"_blank\" href=https://colab.research.google.com/notebooks/data_table.ipynb>data table notebook</a>'\n",
              "            + ' to learn more about interactive tables.';\n",
              "          element.innerHTML = '';\n",
              "          dataTable['output_type'] = 'display_data';\n",
              "          await google.colab.output.renderOutput(dataTable, element);\n",
              "          const docLink = document.createElement('div');\n",
              "          docLink.innerHTML = docLinkHtml;\n",
              "          element.appendChild(docLink);\n",
              "        }\n",
              "      </script>\n",
              "    </div>\n",
              "  </div>\n",
              "  "
            ]
          },
          "metadata": {},
          "execution_count": 10
        }
      ]
    },
    {
      "cell_type": "code",
      "source": [
        "sys.getsizeof(aaaa)"
      ],
      "metadata": {
        "colab": {
          "base_uri": "https://localhost:8080/"
        },
        "id": "ySsNUQx9WGYO",
        "outputId": "04650bfe-5a4e-4f01-e7ed-c5449a31684f"
      },
      "execution_count": null,
      "outputs": [
        {
          "output_type": "execute_result",
          "data": {
            "text/plain": [
              "312"
            ]
          },
          "metadata": {},
          "execution_count": 6
        }
      ]
    },
    {
      "cell_type": "code",
      "source": [
        "sys.getsizeof(df_aaa)"
      ],
      "metadata": {
        "colab": {
          "base_uri": "https://localhost:8080/"
        },
        "id": "icRO2j-9WJSL",
        "outputId": "2f726709-a06b-4131-fb8a-a472f682ac53"
      },
      "execution_count": null,
      "outputs": [
        {
          "output_type": "execute_result",
          "data": {
            "text/plain": [
              "336"
            ]
          },
          "metadata": {},
          "execution_count": 7
        }
      ]
    },
    {
      "cell_type": "code",
      "source": [
        "!pip install yfinance"
      ],
      "metadata": {
        "colab": {
          "base_uri": "https://localhost:8080/"
        },
        "id": "VfKopB5_HThr",
        "outputId": "2ed2cb20-8a34-42e8-aa49-7419a019f4b8"
      },
      "execution_count": null,
      "outputs": [
        {
          "output_type": "stream",
          "name": "stdout",
          "text": [
            "Looking in indexes: https://pypi.org/simple, https://us-python.pkg.dev/colab-wheels/public/simple/\n",
            "Collecting yfinance\n",
            "  Downloading yfinance-0.2.11-py2.py3-none-any.whl (59 kB)\n",
            "\u001b[2K     \u001b[90m━━━━━━━━━━━━━━━━━━━━━━━━━━━━━━━━━━━━━━━━\u001b[0m \u001b[32m59.2/59.2 KB\u001b[0m \u001b[31m6.5 MB/s\u001b[0m eta \u001b[36m0:00:00\u001b[0m\n",
            "\u001b[?25hRequirement already satisfied: pandas>=1.3.0 in /usr/local/lib/python3.8/dist-packages (from yfinance) (1.3.5)\n",
            "Collecting cryptography>=3.3.2\n",
            "  Downloading cryptography-39.0.1-cp36-abi3-manylinux_2_28_x86_64.whl (4.2 MB)\n",
            "\u001b[2K     \u001b[90m━━━━━━━━━━━━━━━━━━━━━━━━━━━━━━━━━━━━━━━━\u001b[0m \u001b[32m4.2/4.2 MB\u001b[0m \u001b[31m75.7 MB/s\u001b[0m eta \u001b[36m0:00:00\u001b[0m\n",
            "\u001b[?25hCollecting beautifulsoup4>=4.11.1\n",
            "  Downloading beautifulsoup4-4.11.2-py3-none-any.whl (129 kB)\n",
            "\u001b[2K     \u001b[90m━━━━━━━━━━━━━━━━━━━━━━━━━━━━━━━━━━━━━━\u001b[0m \u001b[32m129.4/129.4 KB\u001b[0m \u001b[31m15.0 MB/s\u001b[0m eta \u001b[36m0:00:00\u001b[0m\n",
            "\u001b[?25hRequirement already satisfied: multitasking>=0.0.7 in /usr/local/lib/python3.8/dist-packages (from yfinance) (0.0.11)\n",
            "Requirement already satisfied: appdirs>=1.4.4 in /usr/local/lib/python3.8/dist-packages (from yfinance) (1.4.4)\n",
            "Requirement already satisfied: lxml>=4.9.1 in /usr/local/lib/python3.8/dist-packages (from yfinance) (4.9.2)\n",
            "Requirement already satisfied: numpy>=1.16.5 in /usr/local/lib/python3.8/dist-packages (from yfinance) (1.21.6)\n",
            "Collecting frozendict>=2.3.4\n",
            "  Downloading frozendict-2.3.4-cp38-cp38-manylinux_2_17_x86_64.manylinux2014_x86_64.whl (110 kB)\n",
            "\u001b[2K     \u001b[90m━━━━━━━━━━━━━━━━━━━━━━━━━━━━━━━━━━━━━━\u001b[0m \u001b[32m111.0/111.0 KB\u001b[0m \u001b[31m13.6 MB/s\u001b[0m eta \u001b[36m0:00:00\u001b[0m\n",
            "\u001b[?25hRequirement already satisfied: pytz>=2022.5 in /usr/local/lib/python3.8/dist-packages (from yfinance) (2022.7.1)\n",
            "Collecting html5lib>=1.1\n",
            "  Downloading html5lib-1.1-py2.py3-none-any.whl (112 kB)\n",
            "\u001b[2K     \u001b[90m━━━━━━━━━━━━━━━━━━━━━━━━━━━━━━━━━━━━━━\u001b[0m \u001b[32m112.2/112.2 KB\u001b[0m \u001b[31m12.7 MB/s\u001b[0m eta \u001b[36m0:00:00\u001b[0m\n",
            "\u001b[?25hCollecting requests>=2.26\n",
            "  Downloading requests-2.28.2-py3-none-any.whl (62 kB)\n",
            "\u001b[2K     \u001b[90m━━━━━━━━━━━━━━━━━━━━━━━━━━━━━━━━━━━━━━━━\u001b[0m \u001b[32m62.8/62.8 KB\u001b[0m \u001b[31m8.2 MB/s\u001b[0m eta \u001b[36m0:00:00\u001b[0m\n",
            "\u001b[?25hCollecting soupsieve>1.2\n",
            "  Downloading soupsieve-2.4-py3-none-any.whl (37 kB)\n",
            "Requirement already satisfied: cffi>=1.12 in /usr/local/lib/python3.8/dist-packages (from cryptography>=3.3.2->yfinance) (1.15.1)\n",
            "Requirement already satisfied: webencodings in /usr/local/lib/python3.8/dist-packages (from html5lib>=1.1->yfinance) (0.5.1)\n",
            "Requirement already satisfied: six>=1.9 in /usr/local/lib/python3.8/dist-packages (from html5lib>=1.1->yfinance) (1.15.0)\n",
            "Requirement already satisfied: python-dateutil>=2.7.3 in /usr/local/lib/python3.8/dist-packages (from pandas>=1.3.0->yfinance) (2.8.2)\n",
            "Requirement already satisfied: certifi>=2017.4.17 in /usr/local/lib/python3.8/dist-packages (from requests>=2.26->yfinance) (2022.12.7)\n",
            "Requirement already satisfied: urllib3<1.27,>=1.21.1 in /usr/local/lib/python3.8/dist-packages (from requests>=2.26->yfinance) (1.24.3)\n",
            "Requirement already satisfied: idna<4,>=2.5 in /usr/local/lib/python3.8/dist-packages (from requests>=2.26->yfinance) (2.10)\n",
            "Requirement already satisfied: charset-normalizer<4,>=2 in /usr/local/lib/python3.8/dist-packages (from requests>=2.26->yfinance) (2.1.1)\n",
            "Requirement already satisfied: pycparser in /usr/local/lib/python3.8/dist-packages (from cffi>=1.12->cryptography>=3.3.2->yfinance) (2.21)\n",
            "Installing collected packages: soupsieve, requests, html5lib, frozendict, cryptography, beautifulsoup4, yfinance\n",
            "  Attempting uninstall: requests\n",
            "    Found existing installation: requests 2.25.1\n",
            "    Uninstalling requests-2.25.1:\n",
            "      Successfully uninstalled requests-2.25.1\n",
            "  Attempting uninstall: html5lib\n",
            "    Found existing installation: html5lib 1.0.1\n",
            "    Uninstalling html5lib-1.0.1:\n",
            "      Successfully uninstalled html5lib-1.0.1\n",
            "  Attempting uninstall: beautifulsoup4\n",
            "    Found existing installation: beautifulsoup4 4.6.3\n",
            "    Uninstalling beautifulsoup4-4.6.3:\n",
            "      Successfully uninstalled beautifulsoup4-4.6.3\n",
            "Successfully installed beautifulsoup4-4.11.2 cryptography-39.0.1 frozendict-2.3.4 html5lib-1.1 requests-2.28.2 soupsieve-2.4 yfinance-0.2.11\n"
          ]
        }
      ]
    },
    {
      "cell_type": "code",
      "source": [
        "import pandas as pd\n",
        "import numpy as np\n",
        "import yfinance as yf"
      ],
      "metadata": {
        "id": "ZZNjwE2IG8mG"
      },
      "execution_count": null,
      "outputs": []
    },
    {
      "cell_type": "code",
      "source": [
        "data_raw = yf.download(  # or pdr.get_data_yahoo(...\n",
        "        # tickers list or string as well\n",
        "        tickers = \"GOOG\",\n",
        "\n",
        "        # use \"period\" instead of start/end\n",
        "        # valid periods: 1d,5d,1mo,3mo,6mo,1y,2y,5y,10y,ytd,max\n",
        "        # (optional, default is '1mo')\n",
        "        period = \"10y\",\n",
        "\n",
        "        # fetch data by interval (including intraday if period < 60 days)\n",
        "        # valid intervals: 1m,2m,5m,15m,30m,60m,90m,1h,1d,5d,1wk,1mo,3mo\n",
        "        # (optional, default is '1d')\n",
        "        interval = \"1d\",\n",
        "\n",
        "        # group by ticker (to access via data['SPY'])\n",
        "        # (optional, default is 'column')\n",
        "        # group_by = 'ticker',\n",
        "    ).loc[:, 'Adj Close']\n",
        "data_raw"
      ],
      "metadata": {
        "colab": {
          "base_uri": "https://localhost:8080/"
        },
        "id": "0ERFHu7tHROA",
        "outputId": "3268c04f-21a5-4328-fe75-eafce30dccb4"
      },
      "execution_count": null,
      "outputs": [
        {
          "output_type": "stream",
          "name": "stdout",
          "text": [
            "\r[*********************100%***********************]  1 of 1 completed\n"
          ]
        },
        {
          "output_type": "execute_result",
          "data": {
            "text/plain": [
              "Date\n",
              "2013-02-19    20.095926\n",
              "2013-02-20    19.737518\n",
              "2013-02-21    19.813982\n",
              "2013-02-22    19.918093\n",
              "2013-02-25    19.695427\n",
              "                ...    \n",
              "2023-02-09    95.459999\n",
              "2023-02-10    94.860001\n",
              "2023-02-13    95.000000\n",
              "2023-02-14    94.949997\n",
              "2023-02-15    97.099998\n",
              "Name: Adj Close, Length: 2517, dtype: float64"
            ]
          },
          "metadata": {},
          "execution_count": 13
        }
      ]
    },
    {
      "cell_type": "code",
      "source": [
        "data_raw = pd.DataFrame(data_raw)\n",
        "data_raw"
      ],
      "metadata": {
        "colab": {
          "base_uri": "https://localhost:8080/",
          "height": 455
        },
        "id": "7bPSaHakHRJJ",
        "outputId": "871a707d-1758-4ed9-ca79-95570a387b82"
      },
      "execution_count": null,
      "outputs": [
        {
          "output_type": "execute_result",
          "data": {
            "text/plain": [
              "            Adj Close\n",
              "Date                 \n",
              "2013-02-19  20.095926\n",
              "2013-02-20  19.737518\n",
              "2013-02-21  19.813982\n",
              "2013-02-22  19.918093\n",
              "2013-02-25  19.695427\n",
              "...               ...\n",
              "2023-02-09  95.459999\n",
              "2023-02-10  94.860001\n",
              "2023-02-13  95.000000\n",
              "2023-02-14  94.949997\n",
              "2023-02-15  97.099998\n",
              "\n",
              "[2517 rows x 1 columns]"
            ],
            "text/html": [
              "\n",
              "  <div id=\"df-93754cf7-94f9-4df4-bd9e-eff63252c1c7\">\n",
              "    <div class=\"colab-df-container\">\n",
              "      <div>\n",
              "<style scoped>\n",
              "    .dataframe tbody tr th:only-of-type {\n",
              "        vertical-align: middle;\n",
              "    }\n",
              "\n",
              "    .dataframe tbody tr th {\n",
              "        vertical-align: top;\n",
              "    }\n",
              "\n",
              "    .dataframe thead th {\n",
              "        text-align: right;\n",
              "    }\n",
              "</style>\n",
              "<table border=\"1\" class=\"dataframe\">\n",
              "  <thead>\n",
              "    <tr style=\"text-align: right;\">\n",
              "      <th></th>\n",
              "      <th>Adj Close</th>\n",
              "    </tr>\n",
              "    <tr>\n",
              "      <th>Date</th>\n",
              "      <th></th>\n",
              "    </tr>\n",
              "  </thead>\n",
              "  <tbody>\n",
              "    <tr>\n",
              "      <th>2013-02-19</th>\n",
              "      <td>20.095926</td>\n",
              "    </tr>\n",
              "    <tr>\n",
              "      <th>2013-02-20</th>\n",
              "      <td>19.737518</td>\n",
              "    </tr>\n",
              "    <tr>\n",
              "      <th>2013-02-21</th>\n",
              "      <td>19.813982</td>\n",
              "    </tr>\n",
              "    <tr>\n",
              "      <th>2013-02-22</th>\n",
              "      <td>19.918093</td>\n",
              "    </tr>\n",
              "    <tr>\n",
              "      <th>2013-02-25</th>\n",
              "      <td>19.695427</td>\n",
              "    </tr>\n",
              "    <tr>\n",
              "      <th>...</th>\n",
              "      <td>...</td>\n",
              "    </tr>\n",
              "    <tr>\n",
              "      <th>2023-02-09</th>\n",
              "      <td>95.459999</td>\n",
              "    </tr>\n",
              "    <tr>\n",
              "      <th>2023-02-10</th>\n",
              "      <td>94.860001</td>\n",
              "    </tr>\n",
              "    <tr>\n",
              "      <th>2023-02-13</th>\n",
              "      <td>95.000000</td>\n",
              "    </tr>\n",
              "    <tr>\n",
              "      <th>2023-02-14</th>\n",
              "      <td>94.949997</td>\n",
              "    </tr>\n",
              "    <tr>\n",
              "      <th>2023-02-15</th>\n",
              "      <td>97.099998</td>\n",
              "    </tr>\n",
              "  </tbody>\n",
              "</table>\n",
              "<p>2517 rows × 1 columns</p>\n",
              "</div>\n",
              "      <button class=\"colab-df-convert\" onclick=\"convertToInteractive('df-93754cf7-94f9-4df4-bd9e-eff63252c1c7')\"\n",
              "              title=\"Convert this dataframe to an interactive table.\"\n",
              "              style=\"display:none;\">\n",
              "        \n",
              "  <svg xmlns=\"http://www.w3.org/2000/svg\" height=\"24px\"viewBox=\"0 0 24 24\"\n",
              "       width=\"24px\">\n",
              "    <path d=\"M0 0h24v24H0V0z\" fill=\"none\"/>\n",
              "    <path d=\"M18.56 5.44l.94 2.06.94-2.06 2.06-.94-2.06-.94-.94-2.06-.94 2.06-2.06.94zm-11 1L8.5 8.5l.94-2.06 2.06-.94-2.06-.94L8.5 2.5l-.94 2.06-2.06.94zm10 10l.94 2.06.94-2.06 2.06-.94-2.06-.94-.94-2.06-.94 2.06-2.06.94z\"/><path d=\"M17.41 7.96l-1.37-1.37c-.4-.4-.92-.59-1.43-.59-.52 0-1.04.2-1.43.59L10.3 9.45l-7.72 7.72c-.78.78-.78 2.05 0 2.83L4 21.41c.39.39.9.59 1.41.59.51 0 1.02-.2 1.41-.59l7.78-7.78 2.81-2.81c.8-.78.8-2.07 0-2.86zM5.41 20L4 18.59l7.72-7.72 1.47 1.35L5.41 20z\"/>\n",
              "  </svg>\n",
              "      </button>\n",
              "      \n",
              "  <style>\n",
              "    .colab-df-container {\n",
              "      display:flex;\n",
              "      flex-wrap:wrap;\n",
              "      gap: 12px;\n",
              "    }\n",
              "\n",
              "    .colab-df-convert {\n",
              "      background-color: #E8F0FE;\n",
              "      border: none;\n",
              "      border-radius: 50%;\n",
              "      cursor: pointer;\n",
              "      display: none;\n",
              "      fill: #1967D2;\n",
              "      height: 32px;\n",
              "      padding: 0 0 0 0;\n",
              "      width: 32px;\n",
              "    }\n",
              "\n",
              "    .colab-df-convert:hover {\n",
              "      background-color: #E2EBFA;\n",
              "      box-shadow: 0px 1px 2px rgba(60, 64, 67, 0.3), 0px 1px 3px 1px rgba(60, 64, 67, 0.15);\n",
              "      fill: #174EA6;\n",
              "    }\n",
              "\n",
              "    [theme=dark] .colab-df-convert {\n",
              "      background-color: #3B4455;\n",
              "      fill: #D2E3FC;\n",
              "    }\n",
              "\n",
              "    [theme=dark] .colab-df-convert:hover {\n",
              "      background-color: #434B5C;\n",
              "      box-shadow: 0px 1px 3px 1px rgba(0, 0, 0, 0.15);\n",
              "      filter: drop-shadow(0px 1px 2px rgba(0, 0, 0, 0.3));\n",
              "      fill: #FFFFFF;\n",
              "    }\n",
              "  </style>\n",
              "\n",
              "      <script>\n",
              "        const buttonEl =\n",
              "          document.querySelector('#df-93754cf7-94f9-4df4-bd9e-eff63252c1c7 button.colab-df-convert');\n",
              "        buttonEl.style.display =\n",
              "          google.colab.kernel.accessAllowed ? 'block' : 'none';\n",
              "\n",
              "        async function convertToInteractive(key) {\n",
              "          const element = document.querySelector('#df-93754cf7-94f9-4df4-bd9e-eff63252c1c7');\n",
              "          const dataTable =\n",
              "            await google.colab.kernel.invokeFunction('convertToInteractive',\n",
              "                                                     [key], {});\n",
              "          if (!dataTable) return;\n",
              "\n",
              "          const docLinkHtml = 'Like what you see? Visit the ' +\n",
              "            '<a target=\"_blank\" href=https://colab.research.google.com/notebooks/data_table.ipynb>data table notebook</a>'\n",
              "            + ' to learn more about interactive tables.';\n",
              "          element.innerHTML = '';\n",
              "          dataTable['output_type'] = 'display_data';\n",
              "          await google.colab.output.renderOutput(dataTable, element);\n",
              "          const docLink = document.createElement('div');\n",
              "          docLink.innerHTML = docLinkHtml;\n",
              "          element.appendChild(docLink);\n",
              "        }\n",
              "      </script>\n",
              "    </div>\n",
              "  </div>\n",
              "  "
            ]
          },
          "metadata": {},
          "execution_count": 14
        }
      ]
    },
    {
      "cell_type": "code",
      "source": [
        "data_train = data_raw.copy()"
      ],
      "metadata": {
        "id": "3fCCbX1WH53O"
      },
      "execution_count": null,
      "outputs": []
    },
    {
      "cell_type": "code",
      "source": [
        "dataa = data_raw.copy()"
      ],
      "metadata": {
        "id": "f8qBd04PH1nG"
      },
      "execution_count": null,
      "outputs": []
    },
    {
      "cell_type": "code",
      "source": [
        "%%time\n",
        "for i in range(1, 11):\n",
        "  dataa['shift_'+str(i)] = dataa['Adj Close'].shift(-i)\n",
        "\n",
        "dataa = dataa.dropna()\n",
        "\n",
        "y = dataa.shift_10\n",
        "\n",
        "dataa.drop(columns=['shift_10'], inplace=True)\n",
        "\n",
        "X = np.array(dataa).reshape(-1,10, 1)"
      ],
      "metadata": {
        "colab": {
          "base_uri": "https://localhost:8080/"
        },
        "id": "EmHLL2cuH9TJ",
        "outputId": "55edad79-7aba-45c9-9326-ed2e298f05c0"
      },
      "execution_count": null,
      "outputs": [
        {
          "output_type": "stream",
          "name": "stdout",
          "text": [
            "CPU times: user 9.98 ms, sys: 0 ns, total: 9.98 ms\n",
            "Wall time: 14.6 ms\n"
          ]
        }
      ]
    },
    {
      "cell_type": "code",
      "source": [
        "def data_prep(data):\n",
        "  x = []\n",
        "  y = []\n",
        "\n",
        "  for i in range(10,len(data)):\n",
        "    x.append(data[i-10:i]) # Registra todos lo data_train en bloques de 10 dias\n",
        "    y.append(data[i]) # Registra todos los data_train seguidos a partir del dia 10\n",
        "\n",
        "  x = np.array(x)\n",
        "  y = np.array(y)\n",
        "\n",
        "  x = x.reshape(x.shape[0],x.shape[1],1)\n",
        "  y = y.reshape(y.shape[0],1)\n",
        "  return x,y"
      ],
      "metadata": {
        "id": "RMZ6sI4nG8jg"
      },
      "execution_count": null,
      "outputs": []
    },
    {
      "cell_type": "code",
      "source": [
        "%%time\n",
        "data_train = data_train.to_numpy()\n",
        "\n",
        "x_train, y_train = data_prep(data_train)"
      ],
      "metadata": {
        "colab": {
          "base_uri": "https://localhost:8080/"
        },
        "id": "-HwHi3ziG8hD",
        "outputId": "d94ec0bc-464d-415a-9610-490d93f71c8d"
      },
      "execution_count": null,
      "outputs": [
        {
          "output_type": "stream",
          "name": "stdout",
          "text": [
            "CPU times: user 6.95 ms, sys: 0 ns, total: 6.95 ms\n",
            "Wall time: 9.42 ms\n"
          ]
        }
      ]
    },
    {
      "cell_type": "code",
      "source": [
        "X"
      ],
      "metadata": {
        "colab": {
          "base_uri": "https://localhost:8080/"
        },
        "id": "_jdfwsUPLLPb",
        "outputId": "145a6097-e717-4c99-b9cb-63019cc1648d"
      },
      "execution_count": null,
      "outputs": [
        {
          "output_type": "execute_result",
          "data": {
            "text/plain": [
              "array([[[20.09592628],\n",
              "        [19.73751831],\n",
              "        [19.81398201],\n",
              "        ...,\n",
              "        [19.9552021 ],\n",
              "        [20.07948685],\n",
              "        [20.4608078 ]],\n",
              "\n",
              "       [[19.73751831],\n",
              "        [19.81398201],\n",
              "        [19.91809273],\n",
              "        ...,\n",
              "        [20.07948685],\n",
              "        [20.4608078 ],\n",
              "        [20.88671112]],\n",
              "\n",
              "       [[19.81398201],\n",
              "        [19.91809273],\n",
              "        [19.69542694],\n",
              "        ...,\n",
              "        [20.4608078 ],\n",
              "        [20.88671112],\n",
              "        [20.70688629]],\n",
              "\n",
              "       ...,\n",
              "\n",
              "       [[90.5       ],\n",
              "        [87.06999969],\n",
              "        [83.48999786],\n",
              "        ...,\n",
              "        [94.16999817],\n",
              "        [96.73000336],\n",
              "        [96.02999878]],\n",
              "\n",
              "       [[87.06999969],\n",
              "        [83.48999786],\n",
              "        [86.69999695],\n",
              "        ...,\n",
              "        [96.73000336],\n",
              "        [96.02999878],\n",
              "        [98.72000122]],\n",
              "\n",
              "       [[83.48999786],\n",
              "        [86.69999695],\n",
              "        [88.65000153],\n",
              "        ...,\n",
              "        [96.02999878],\n",
              "        [98.72000122],\n",
              "        [98.98999786]]])"
            ]
          },
          "metadata": {},
          "execution_count": 33
        }
      ]
    },
    {
      "cell_type": "code",
      "source": [
        "x_train"
      ],
      "metadata": {
        "colab": {
          "base_uri": "https://localhost:8080/"
        },
        "id": "0REoClCtLMMq",
        "outputId": "b2a57806-fec6-4f4e-cb54-45146e78ad83"
      },
      "execution_count": null,
      "outputs": [
        {
          "output_type": "execute_result",
          "data": {
            "text/plain": [
              "array([[[ 20.09592628],\n",
              "        [ 19.73751831],\n",
              "        [ 19.81398201],\n",
              "        ...,\n",
              "        [ 19.9552021 ],\n",
              "        [ 20.07948685],\n",
              "        [ 20.4608078 ]],\n",
              "\n",
              "       [[ 19.73751831],\n",
              "        [ 19.81398201],\n",
              "        [ 19.91809273],\n",
              "        ...,\n",
              "        [ 20.07948685],\n",
              "        [ 20.4608078 ],\n",
              "        [ 20.88671112]],\n",
              "\n",
              "       [[ 19.81398201],\n",
              "        [ 19.91809273],\n",
              "        [ 19.69542694],\n",
              "        ...,\n",
              "        [ 20.4608078 ],\n",
              "        [ 20.88671112],\n",
              "        [ 20.70688629]],\n",
              "\n",
              "       ...,\n",
              "\n",
              "       [[ 97.94999695],\n",
              "        [ 99.87000275],\n",
              "        [101.43000031],\n",
              "        ...,\n",
              "        [100.        ],\n",
              "        [ 95.45999908],\n",
              "        [ 94.86000061]],\n",
              "\n",
              "       [[ 99.87000275],\n",
              "        [101.43000031],\n",
              "        [108.80000305],\n",
              "        ...,\n",
              "        [ 95.45999908],\n",
              "        [ 94.86000061],\n",
              "        [ 95.        ]],\n",
              "\n",
              "       [[101.43000031],\n",
              "        [108.80000305],\n",
              "        [105.22000122],\n",
              "        ...,\n",
              "        [ 94.86000061],\n",
              "        [ 95.        ],\n",
              "        [ 94.94999695]]])"
            ]
          },
          "metadata": {},
          "execution_count": 34
        }
      ]
    },
    {
      "cell_type": "markdown",
      "source": [
        "# Dependencias"
      ],
      "metadata": {
        "id": "FQNlMKedrFo3"
      }
    },
    {
      "cell_type": "code",
      "source": [
        "import pandas as pd\n",
        "import numpy as np\n",
        "\n",
        "import yfinance as yf\n",
        "\n",
        "from sklearn.model_selection import train_test_split\n",
        "from sklearn.preprocessing import MinMaxScaler, StandardScaler\n",
        "from sklearn.metrics import mean_squared_error, mean_absolute_error\n",
        "\n",
        "from keras import metrics\n",
        "import keras\n",
        "import tensorflow as tf\n",
        "import os\n",
        "\n",
        "import matplotlib.pyplot as plt"
      ],
      "metadata": {
        "id": "pV-OhKs3VTqj"
      },
      "execution_count": null,
      "outputs": []
    },
    {
      "cell_type": "markdown",
      "source": [
        "# Datos"
      ],
      "metadata": {
        "id": "fFzU9hNirHwT"
      }
    },
    {
      "cell_type": "markdown",
      "source": [
        "## Descarga"
      ],
      "metadata": {
        "id": "vQWm0QxXrYNT"
      }
    },
    {
      "cell_type": "code",
      "source": [
        "es = yf.download(  # or pdr.get_data_yahoo(...\n",
        "        # tickers list or string as well\n",
        "        tickers = \"GOOG AAPL XOM\",\n",
        "\n",
        "        # use \"period\" instead of start/end\n",
        "        # valid periods: 1d,5d,1mo,3mo,6mo,1y,2y,5y,10y,ytd,max\n",
        "        # (optional, default is '1mo')\n",
        "        period = \"10y\",\n",
        "\n",
        "        # fetch data by interval (including intraday if period < 60 days)\n",
        "        # valid intervals: 1m,2m,5m,15m,30m,60m,90m,1h,1d,5d,1wk,1mo,3mo\n",
        "        # (optional, default is '1d')\n",
        "        interval = \"1d\",\n",
        "\n",
        "        # group by ticker (to access via data['SPY'])\n",
        "        # (optional, default is 'column')\n",
        "        # group_by = 'ticker',\n",
        "    ).loc[:, 'Adj Close']\n",
        "es"
      ],
      "metadata": {
        "colab": {
          "base_uri": "https://localhost:8080/",
          "height": 472
        },
        "id": "h-xh_bX1VY8O",
        "outputId": "4a5bde78-84b3-4358-be37-ce1240112d87"
      },
      "execution_count": null,
      "outputs": [
        {
          "output_type": "stream",
          "name": "stdout",
          "text": [
            "[*********************100%***********************]  3 of 3 completed\n"
          ]
        },
        {
          "output_type": "execute_result",
          "data": {
            "text/plain": [
              "                  AAPL       GOOG         XOM\n",
              "Date                                         \n",
              "2013-02-19   14.188738  20.095926   58.406971\n",
              "2013-02-20   13.845119  19.737518   58.178097\n",
              "2013-02-21   13.759057  19.813982   57.929604\n",
              "2013-02-22   13.905578  19.918093   58.328495\n",
              "2013-02-25   13.658502  19.695427   57.347630\n",
              "...                ...        ...         ...\n",
              "2023-02-09  150.639999  95.459999  113.476807\n",
              "2023-02-10  151.009995  94.860001  118.260002\n",
              "2023-02-13  153.850006  95.000000  117.800003\n",
              "2023-02-14  153.199997  94.949997  116.419998\n",
              "2023-02-15  155.330002  97.099998  116.070000\n",
              "\n",
              "[2517 rows x 3 columns]"
            ],
            "text/html": [
              "\n",
              "  <div id=\"df-8c2a0a2b-2b43-4410-9d5f-d2cdc1768b4a\">\n",
              "    <div class=\"colab-df-container\">\n",
              "      <div>\n",
              "<style scoped>\n",
              "    .dataframe tbody tr th:only-of-type {\n",
              "        vertical-align: middle;\n",
              "    }\n",
              "\n",
              "    .dataframe tbody tr th {\n",
              "        vertical-align: top;\n",
              "    }\n",
              "\n",
              "    .dataframe thead th {\n",
              "        text-align: right;\n",
              "    }\n",
              "</style>\n",
              "<table border=\"1\" class=\"dataframe\">\n",
              "  <thead>\n",
              "    <tr style=\"text-align: right;\">\n",
              "      <th></th>\n",
              "      <th>AAPL</th>\n",
              "      <th>GOOG</th>\n",
              "      <th>XOM</th>\n",
              "    </tr>\n",
              "    <tr>\n",
              "      <th>Date</th>\n",
              "      <th></th>\n",
              "      <th></th>\n",
              "      <th></th>\n",
              "    </tr>\n",
              "  </thead>\n",
              "  <tbody>\n",
              "    <tr>\n",
              "      <th>2013-02-19</th>\n",
              "      <td>14.188738</td>\n",
              "      <td>20.095926</td>\n",
              "      <td>58.406971</td>\n",
              "    </tr>\n",
              "    <tr>\n",
              "      <th>2013-02-20</th>\n",
              "      <td>13.845119</td>\n",
              "      <td>19.737518</td>\n",
              "      <td>58.178097</td>\n",
              "    </tr>\n",
              "    <tr>\n",
              "      <th>2013-02-21</th>\n",
              "      <td>13.759057</td>\n",
              "      <td>19.813982</td>\n",
              "      <td>57.929604</td>\n",
              "    </tr>\n",
              "    <tr>\n",
              "      <th>2013-02-22</th>\n",
              "      <td>13.905578</td>\n",
              "      <td>19.918093</td>\n",
              "      <td>58.328495</td>\n",
              "    </tr>\n",
              "    <tr>\n",
              "      <th>2013-02-25</th>\n",
              "      <td>13.658502</td>\n",
              "      <td>19.695427</td>\n",
              "      <td>57.347630</td>\n",
              "    </tr>\n",
              "    <tr>\n",
              "      <th>...</th>\n",
              "      <td>...</td>\n",
              "      <td>...</td>\n",
              "      <td>...</td>\n",
              "    </tr>\n",
              "    <tr>\n",
              "      <th>2023-02-09</th>\n",
              "      <td>150.639999</td>\n",
              "      <td>95.459999</td>\n",
              "      <td>113.476807</td>\n",
              "    </tr>\n",
              "    <tr>\n",
              "      <th>2023-02-10</th>\n",
              "      <td>151.009995</td>\n",
              "      <td>94.860001</td>\n",
              "      <td>118.260002</td>\n",
              "    </tr>\n",
              "    <tr>\n",
              "      <th>2023-02-13</th>\n",
              "      <td>153.850006</td>\n",
              "      <td>95.000000</td>\n",
              "      <td>117.800003</td>\n",
              "    </tr>\n",
              "    <tr>\n",
              "      <th>2023-02-14</th>\n",
              "      <td>153.199997</td>\n",
              "      <td>94.949997</td>\n",
              "      <td>116.419998</td>\n",
              "    </tr>\n",
              "    <tr>\n",
              "      <th>2023-02-15</th>\n",
              "      <td>155.330002</td>\n",
              "      <td>97.099998</td>\n",
              "      <td>116.070000</td>\n",
              "    </tr>\n",
              "  </tbody>\n",
              "</table>\n",
              "<p>2517 rows × 3 columns</p>\n",
              "</div>\n",
              "      <button class=\"colab-df-convert\" onclick=\"convertToInteractive('df-8c2a0a2b-2b43-4410-9d5f-d2cdc1768b4a')\"\n",
              "              title=\"Convert this dataframe to an interactive table.\"\n",
              "              style=\"display:none;\">\n",
              "        \n",
              "  <svg xmlns=\"http://www.w3.org/2000/svg\" height=\"24px\"viewBox=\"0 0 24 24\"\n",
              "       width=\"24px\">\n",
              "    <path d=\"M0 0h24v24H0V0z\" fill=\"none\"/>\n",
              "    <path d=\"M18.56 5.44l.94 2.06.94-2.06 2.06-.94-2.06-.94-.94-2.06-.94 2.06-2.06.94zm-11 1L8.5 8.5l.94-2.06 2.06-.94-2.06-.94L8.5 2.5l-.94 2.06-2.06.94zm10 10l.94 2.06.94-2.06 2.06-.94-2.06-.94-.94-2.06-.94 2.06-2.06.94z\"/><path d=\"M17.41 7.96l-1.37-1.37c-.4-.4-.92-.59-1.43-.59-.52 0-1.04.2-1.43.59L10.3 9.45l-7.72 7.72c-.78.78-.78 2.05 0 2.83L4 21.41c.39.39.9.59 1.41.59.51 0 1.02-.2 1.41-.59l7.78-7.78 2.81-2.81c.8-.78.8-2.07 0-2.86zM5.41 20L4 18.59l7.72-7.72 1.47 1.35L5.41 20z\"/>\n",
              "  </svg>\n",
              "      </button>\n",
              "      \n",
              "  <style>\n",
              "    .colab-df-container {\n",
              "      display:flex;\n",
              "      flex-wrap:wrap;\n",
              "      gap: 12px;\n",
              "    }\n",
              "\n",
              "    .colab-df-convert {\n",
              "      background-color: #E8F0FE;\n",
              "      border: none;\n",
              "      border-radius: 50%;\n",
              "      cursor: pointer;\n",
              "      display: none;\n",
              "      fill: #1967D2;\n",
              "      height: 32px;\n",
              "      padding: 0 0 0 0;\n",
              "      width: 32px;\n",
              "    }\n",
              "\n",
              "    .colab-df-convert:hover {\n",
              "      background-color: #E2EBFA;\n",
              "      box-shadow: 0px 1px 2px rgba(60, 64, 67, 0.3), 0px 1px 3px 1px rgba(60, 64, 67, 0.15);\n",
              "      fill: #174EA6;\n",
              "    }\n",
              "\n",
              "    [theme=dark] .colab-df-convert {\n",
              "      background-color: #3B4455;\n",
              "      fill: #D2E3FC;\n",
              "    }\n",
              "\n",
              "    [theme=dark] .colab-df-convert:hover {\n",
              "      background-color: #434B5C;\n",
              "      box-shadow: 0px 1px 3px 1px rgba(0, 0, 0, 0.15);\n",
              "      filter: drop-shadow(0px 1px 2px rgba(0, 0, 0, 0.3));\n",
              "      fill: #FFFFFF;\n",
              "    }\n",
              "  </style>\n",
              "\n",
              "      <script>\n",
              "        const buttonEl =\n",
              "          document.querySelector('#df-8c2a0a2b-2b43-4410-9d5f-d2cdc1768b4a button.colab-df-convert');\n",
              "        buttonEl.style.display =\n",
              "          google.colab.kernel.accessAllowed ? 'block' : 'none';\n",
              "\n",
              "        async function convertToInteractive(key) {\n",
              "          const element = document.querySelector('#df-8c2a0a2b-2b43-4410-9d5f-d2cdc1768b4a');\n",
              "          const dataTable =\n",
              "            await google.colab.kernel.invokeFunction('convertToInteractive',\n",
              "                                                     [key], {});\n",
              "          if (!dataTable) return;\n",
              "\n",
              "          const docLinkHtml = 'Like what you see? Visit the ' +\n",
              "            '<a target=\"_blank\" href=https://colab.research.google.com/notebooks/data_table.ipynb>data table notebook</a>'\n",
              "            + ' to learn more about interactive tables.';\n",
              "          element.innerHTML = '';\n",
              "          dataTable['output_type'] = 'display_data';\n",
              "          await google.colab.output.renderOutput(dataTable, element);\n",
              "          const docLink = document.createElement('div');\n",
              "          docLink.innerHTML = docLinkHtml;\n",
              "          element.appendChild(docLink);\n",
              "        }\n",
              "      </script>\n",
              "    </div>\n",
              "  </div>\n",
              "  "
            ]
          },
          "metadata": {},
          "execution_count": 36
        }
      ]
    },
    {
      "cell_type": "code",
      "source": [
        "es.plot()"
      ],
      "metadata": {
        "colab": {
          "base_uri": "https://localhost:8080/",
          "height": 286
        },
        "id": "oorAV3qO5rZJ",
        "outputId": "f81e7bdd-5797-4e23-dd0a-733d8c015e77"
      },
      "execution_count": null,
      "outputs": [
        {
          "output_type": "execute_result",
          "data": {
            "text/plain": [
              "<matplotlib.axes._subplots.AxesSubplot at 0x7f644800fee0>"
            ]
          },
          "metadata": {},
          "execution_count": 37
        },
        {
          "output_type": "display_data",
          "data": {
            "text/plain": [
              "<Figure size 432x288 with 1 Axes>"
            ],
            "image/png": "[encoded data removed]"
          },
          "metadata": {
            "needs_background": "light"
          }
        }
      ]
    },
    {
      "cell_type": "markdown",
      "source": [
        "## Preprocesamiento"
      ],
      "metadata": {
        "id": "0851wYX_raP7"
      }
    },
    {
      "cell_type": "code",
      "metadata": {
        "id": "ypTzYmiS202o"
      },
      "source": [
        "def generate_datasets_for_training(data, window_size,scale=True, scaler_type=StandardScaler):\n",
        "  _l = len(data) \n",
        "  data2 = scaler_type().fit_transform(data)\n",
        "  Ds = []\n",
        "  Xs = []\n",
        "  Ys = []\n",
        "  for i in range(0, (_l - window_size)):\n",
        "    Ds.append(data.iloc[i:i+window_size, :].index)\n",
        "    Xs.append(data2[i:i+window_size])\n",
        "    Ys.append(data2[i:i+window_size])\n",
        "  tr_x, ts_x, tr_y, ts_y, DsTr, DsTe = [np.array(x) for x in train_test_split(Xs, Ys, Ds)]\n",
        "  assert tr_x.shape[2] == ts_x.shape[2] == (data2.shape[1] if (type(data2) == np.ndarray) else len(data2))\n",
        "  return  (tr_x.shape[2], tr_x, tr_y, ts_x, ts_y, DsTr, DsTe)"
      ],
      "execution_count": null,
      "outputs": []
    },
    {
      "cell_type": "code",
      "metadata": {
        "id": "u9jmUPlDCCrC"
      },
      "source": [
        "feats, X, Y, XX, YY, DatesTr, DatesTe = generate_datasets_for_training(es, 4)"
      ],
      "execution_count": null,
      "outputs": []
    },
    {
      "cell_type": "code",
      "source": [
        "X.shape, Y.shape, XX.shape, YY.shape"
      ],
      "metadata": {
        "colab": {
          "base_uri": "https://localhost:8080/"
        },
        "id": "xqFMSbV6haHa",
        "outputId": "14638584-9b1f-4a95-f887-d942f87e07d5"
      },
      "execution_count": null,
      "outputs": [
        {
          "output_type": "execute_result",
          "data": {
            "text/plain": [
              "((1884, 4, 3), (1884, 4, 3), (629, 4, 3), (629, 4, 3))"
            ]
          },
          "metadata": {},
          "execution_count": 40
        }
      ]
    },
    {
      "cell_type": "markdown",
      "source": [
        "### Vistazo a los datos"
      ],
      "metadata": {
        "id": "xpCmCAbvrhs5"
      }
    },
    {
      "cell_type": "code",
      "source": [
        "DatesTr[0]"
      ],
      "metadata": {
        "colab": {
          "base_uri": "https://localhost:8080/"
        },
        "id": "JtzOF5E4gMoS",
        "outputId": "69b51d2d-dea6-47b6-c18e-b2b083eb4173"
      },
      "execution_count": null,
      "outputs": [
        {
          "output_type": "execute_result",
          "data": {
            "text/plain": [
              "array(['2016-08-30T00:00:00.000000000', '2016-08-31T00:00:00.000000000',\n",
              "       '2016-09-01T00:00:00.000000000', '2016-09-02T00:00:00.000000000'],\n",
              "      dtype='datetime64[ns]')"
            ]
          },
          "metadata": {},
          "execution_count": 42
        }
      ]
    },
    {
      "cell_type": "code",
      "source": [
        "X[0]"
      ],
      "metadata": {
        "colab": {
          "base_uri": "https://localhost:8080/"
        },
        "id": "NPdyln-oV0TD",
        "outputId": "fd9ee7e0-dee4-4a9b-97ae-d55464479fa9"
      },
      "execution_count": null,
      "outputs": [
        {
          "output_type": "execute_result",
          "data": {
            "text/plain": [
              "array([[-0.75412376, -0.62199596,  0.14173482],\n",
              "       [-0.75365623, -0.62490171,  0.12230558],\n",
              "       [-0.75071049, -0.62243751,  0.10696357],\n",
              "       [-0.74603477, -0.61861998,  0.13662216]])"
            ]
          },
          "metadata": {},
          "execution_count": 41
        }
      ]
    },
    {
      "cell_type": "code",
      "source": [
        "Y[0]"
      ],
      "metadata": {
        "colab": {
          "base_uri": "https://localhost:8080/"
        },
        "id": "kscBN41KWtAX",
        "outputId": "7400cc27-0650-40fe-e4fe-9fdbf2e13055"
      },
      "execution_count": null,
      "outputs": [
        {
          "output_type": "execute_result",
          "data": {
            "text/plain": [
              "array([[-0.75412376, -0.62199596,  0.14173482],\n",
              "       [-0.75365623, -0.62490171,  0.12230558],\n",
              "       [-0.75071049, -0.62243751,  0.10696357],\n",
              "       [-0.74603477, -0.61861998,  0.13662216]])"
            ]
          },
          "metadata": {},
          "execution_count": 43
        }
      ]
    },
    {
      "cell_type": "code",
      "source": [
        "DatesTe[0]"
      ],
      "metadata": {
        "colab": {
          "base_uri": "https://localhost:8080/"
        },
        "id": "YqThBhIijKnv",
        "outputId": "036630ad-7736-4bfa-e5f4-39cb7a922d57"
      },
      "execution_count": null,
      "outputs": [
        {
          "output_type": "execute_result",
          "data": {
            "text/plain": [
              "array(['2018-01-19T00:00:00.000000000', '2018-01-22T00:00:00.000000000',\n",
              "       '2018-01-23T00:00:00.000000000', '2018-01-24T00:00:00.000000000'],\n",
              "      dtype='datetime64[ns]')"
            ]
          },
          "metadata": {},
          "execution_count": 44
        }
      ]
    },
    {
      "cell_type": "code",
      "source": [
        "XX[0]"
      ],
      "metadata": {
        "colab": {
          "base_uri": "https://localhost:8080/"
        },
        "id": "b0n52zcFWnK-",
        "outputId": "cf39aa44-40b8-4060-d394-84e22dc5edb8"
      },
      "execution_count": null,
      "outputs": [
        {
          "output_type": "execute_result",
          "data": {
            "text/plain": [
              "array([[-0.39754914, -0.09721079,  0.33342404],\n",
              "       [-0.40452103, -0.07114387,  0.39233264],\n",
              "       [-0.40433001, -0.05097406,  0.39500891],\n",
              "       [-0.41779644, -0.05913597,  0.40732471]])"
            ]
          },
          "metadata": {},
          "execution_count": 45
        }
      ]
    },
    {
      "cell_type": "code",
      "source": [
        "YY[0]"
      ],
      "metadata": {
        "colab": {
          "base_uri": "https://localhost:8080/"
        },
        "id": "LTKC0KvqWvfA",
        "outputId": "d88b005b-6e05-4447-ff99-ab383ff8fde9"
      },
      "execution_count": null,
      "outputs": [
        {
          "output_type": "execute_result",
          "data": {
            "text/plain": [
              "array([[-0.39754914, -0.09721079,  0.33342404],\n",
              "       [-0.40452103, -0.07114387,  0.39233264],\n",
              "       [-0.40433001, -0.05097406,  0.39500891],\n",
              "       [-0.41779644, -0.05913597,  0.40732471]])"
            ]
          },
          "metadata": {},
          "execution_count": 46
        }
      ]
    },
    {
      "cell_type": "markdown",
      "source": [
        "# Entrenamiento del autoencoder"
      ],
      "metadata": {
        "id": "phCx8FKkrk5s"
      }
    },
    {
      "cell_type": "code",
      "metadata": {
        "id": "R1SmPirj-hjh",
        "outputId": "0a0c25ab-baa3-40b5-e3f3-a0bf4d33d3b4",
        "colab": {
          "base_uri": "https://localhost:8080/"
        }
      },
      "source": [
        "epochs = 100\n",
        "batch_size = 32\n",
        "window_length = 4\n",
        "\n",
        "\n",
        "early_stop = tf.keras.callbacks.EarlyStopping(\n",
        "    monitor='val_loss', min_delta=1e-2, patience=5, verbose=0, mode='auto',\n",
        "    baseline=None, restore_best_weights=True)\n",
        "\n",
        "feats, X, Y, XX, YY, DatesTr, DatesTe = generate_datasets_for_training(es, 4)\n",
        "\n",
        "model = keras.Sequential()\n",
        "model.add(keras.layers.LSTM(64, kernel_initializer='he_uniform', batch_input_shape=(None, window_length, feats), return_sequences=True, name='encoder_1'))\n",
        "model.add(keras.layers.LSTM(32, kernel_initializer='he_uniform', return_sequences=True, name='encoder_2'))\n",
        "model.add(keras.layers.LSTM(16, kernel_initializer='he_uniform', return_sequences=False, name='encoder_3'))\n",
        "model.add(keras.layers.RepeatVector(window_length, name='encoder_decoder_bridge'))\n",
        "model.add(keras.layers.LSTM(16, kernel_initializer='he_uniform', return_sequences=True, name='decoder_1'))\n",
        "model.add(keras.layers.LSTM(32, kernel_initializer='he_uniform', return_sequences=True, name='decoder_2'))\n",
        "model.add(keras.layers.LSTM(64, kernel_initializer='he_uniform', return_sequences=True, name='decoder_3'))\n",
        "model.add(keras.layers.TimeDistributed(keras.layers.Dense(feats)))\n",
        "model.compile(loss=\"mse\",optimizer='adam')\n",
        "model.build()\n",
        "print(model.summary())"
      ],
      "execution_count": null,
      "outputs": [
        {
          "output_type": "stream",
          "name": "stdout",
          "text": [
            "Model: \"sequential\"\n",
            "_________________________________________________________________\n",
            " Layer (type)                Output Shape              Param #   \n",
            "=================================================================\n",
            " encoder_1 (LSTM)            (None, 4, 64)             17408     \n",
            "                                                                 \n",
            " encoder_2 (LSTM)            (None, 4, 32)             12416     \n",
            "                                                                 \n",
            " encoder_3 (LSTM)            (None, 16)                3136      \n",
            "                                                                 \n",
            " encoder_decoder_bridge (Rep  (None, 4, 16)            0         \n",
            " eatVector)                                                      \n",
            "                                                                 \n",
            " decoder_1 (LSTM)            (None, 4, 16)             2112      \n",
            "                                                                 \n",
            " decoder_2 (LSTM)            (None, 4, 32)             6272      \n",
            "                                                                 \n",
            " decoder_3 (LSTM)            (None, 4, 64)             24832     \n",
            "                                                                 \n",
            " time_distributed (TimeDistr  (None, 4, 3)             195       \n",
            " ibuted)                                                         \n",
            "                                                                 \n",
            "=================================================================\n",
            "Total params: 66,371\n",
            "Trainable params: 66,371\n",
            "Non-trainable params: 0\n",
            "_________________________________________________________________\n",
            "None\n"
          ]
        }
      ]
    },
    {
      "cell_type": "code",
      "source": [
        "model.fit(x=X, y=Y, validation_data=(XX, YY), epochs=100, batch_size=batch_size, shuffle=True, callbacks=[early_stop])"
      ],
      "metadata": {
        "colab": {
          "base_uri": "https://localhost:8080/"
        },
        "id": "kPWfBFIArxmW",
        "outputId": "839d5cea-8852-4691-ab93-85f2d81e884f"
      },
      "execution_count": null,
      "outputs": [
        {
          "output_type": "stream",
          "name": "stdout",
          "text": [
            "Epoch 1/100\n",
            "59/59 [==============================] - 18s 71ms/step - loss: 0.5940 - val_loss: 0.2910\n",
            "Epoch 2/100\n",
            "59/59 [==============================] - 1s 23ms/step - loss: 0.2118 - val_loss: 0.1173\n",
            "Epoch 3/100\n",
            "59/59 [==============================] - 3s 53ms/step - loss: 0.0839 - val_loss: 0.0482\n",
            "Epoch 4/100\n",
            "59/59 [==============================] - 2s 30ms/step - loss: 0.0373 - val_loss: 0.0239\n",
            "Epoch 5/100\n",
            "59/59 [==============================] - 2s 27ms/step - loss: 0.0204 - val_loss: 0.0166\n",
            "Epoch 6/100\n",
            "59/59 [==============================] - 1s 24ms/step - loss: 0.0144 - val_loss: 0.0122\n",
            "Epoch 7/100\n",
            "59/59 [==============================] - 2s 26ms/step - loss: 0.0111 - val_loss: 0.0109\n",
            "Epoch 8/100\n",
            "59/59 [==============================] - 2s 25ms/step - loss: 0.0102 - val_loss: 0.0095\n",
            "Epoch 9/100\n",
            "59/59 [==============================] - 1s 25ms/step - loss: 0.0085 - val_loss: 0.0083\n",
            "Epoch 10/100\n",
            "59/59 [==============================] - 1s 23ms/step - loss: 0.0077 - val_loss: 0.0078\n",
            "Epoch 11/100\n",
            "59/59 [==============================] - 2s 33ms/step - loss: 0.0073 - val_loss: 0.0072\n"
          ]
        },
        {
          "output_type": "execute_result",
          "data": {
            "text/plain": [
              "<keras.callbacks.History at 0x7f643b704190>"
            ]
          },
          "metadata": {},
          "execution_count": 48
        }
      ]
    },
    {
      "cell_type": "markdown",
      "source": [
        "# Predicciones\n",
        "\n"
      ],
      "metadata": {
        "id": "YVHu3BSOryv1"
      }
    },
    {
      "cell_type": "markdown",
      "source": [
        "Problemita incómodo: dimensiones"
      ],
      "metadata": {
        "id": "_pCdkI5fA_cp"
      }
    },
    {
      "cell_type": "code",
      "source": [
        "X.shape"
      ],
      "metadata": {
        "colab": {
          "base_uri": "https://localhost:8080/"
        },
        "id": "W6jGfSKJAsMW",
        "outputId": "d715cfa0-917c-42f9-9d3d-55381ac14ff8"
      },
      "execution_count": null,
      "outputs": [
        {
          "output_type": "execute_result",
          "data": {
            "text/plain": [
              "(1884, 4, 3)"
            ]
          },
          "metadata": {},
          "execution_count": 49
        }
      ]
    },
    {
      "cell_type": "code",
      "source": [
        "model.predict(X[0])"
      ],
      "metadata": {
        "colab": {
          "base_uri": "https://localhost:8080/",
          "height": 571
        },
        "id": "yWkmoTsbA3L0",
        "outputId": "c6bb23fa-6b0a-4ab8-aa6c-422a84a433f0"
      },
      "execution_count": null,
      "outputs": [
        {
          "output_type": "error",
          "ename": "ValueError",
          "evalue": "ignored",
          "traceback": [
            "\u001b[0;31m---------------------------------------------------------------------------\u001b[0m",
            "\u001b[0;31mValueError\u001b[0m                                Traceback (most recent call last)",
            "\u001b[0;32m<ipython-input-50-8933809fbc8a>\u001b[0m in \u001b[0;36m<module>\u001b[0;34m\u001b[0m\n\u001b[0;32m----> 1\u001b[0;31m \u001b[0mmodel\u001b[0m\u001b[0;34m.\u001b[0m\u001b[0mpredict\u001b[0m\u001b[0;34m(\u001b[0m\u001b[0mX\u001b[0m\u001b[0;34m[\u001b[0m\u001b[0;36m0\u001b[0m\u001b[0;34m]\u001b[0m\u001b[0;34m)\u001b[0m\u001b[0;34m\u001b[0m\u001b[0;34m\u001b[0m\u001b[0m\n\u001b[0m",
            "\u001b[0;32m/usr/local/lib/python3.8/dist-packages/keras/utils/traceback_utils.py\u001b[0m in \u001b[0;36merror_handler\u001b[0;34m(*args, **kwargs)\u001b[0m\n\u001b[1;32m     68\u001b[0m             \u001b[0;31m# To get the full stack trace, call:\u001b[0m\u001b[0;34m\u001b[0m\u001b[0;34m\u001b[0m\u001b[0;34m\u001b[0m\u001b[0m\n\u001b[1;32m     69\u001b[0m             \u001b[0;31m# `tf.debugging.disable_traceback_filtering()`\u001b[0m\u001b[0;34m\u001b[0m\u001b[0;34m\u001b[0m\u001b[0;34m\u001b[0m\u001b[0m\n\u001b[0;32m---> 70\u001b[0;31m             \u001b[0;32mraise\u001b[0m \u001b[0me\u001b[0m\u001b[0;34m.\u001b[0m\u001b[0mwith_traceback\u001b[0m\u001b[0;34m(\u001b[0m\u001b[0mfiltered_tb\u001b[0m\u001b[0;34m)\u001b[0m \u001b[0;32mfrom\u001b[0m \u001b[0;32mNone\u001b[0m\u001b[0;34m\u001b[0m\u001b[0;34m\u001b[0m\u001b[0m\n\u001b[0m\u001b[1;32m     71\u001b[0m         \u001b[0;32mfinally\u001b[0m\u001b[0;34m:\u001b[0m\u001b[0;34m\u001b[0m\u001b[0;34m\u001b[0m\u001b[0m\n\u001b[1;32m     72\u001b[0m             \u001b[0;32mdel\u001b[0m \u001b[0mfiltered_tb\u001b[0m\u001b[0;34m\u001b[0m\u001b[0;34m\u001b[0m\u001b[0m\n",
            "\u001b[0;32m/usr/local/lib/python3.8/dist-packages/keras/engine/training.py\u001b[0m in \u001b[0;36mtf__predict_function\u001b[0;34m(iterator)\u001b[0m\n\u001b[1;32m     13\u001b[0m                 \u001b[0;32mtry\u001b[0m\u001b[0;34m:\u001b[0m\u001b[0;34m\u001b[0m\u001b[0;34m\u001b[0m\u001b[0m\n\u001b[1;32m     14\u001b[0m                     \u001b[0mdo_return\u001b[0m \u001b[0;34m=\u001b[0m \u001b[0;32mTrue\u001b[0m\u001b[0;34m\u001b[0m\u001b[0;34m\u001b[0m\u001b[0m\n\u001b[0;32m---> 15\u001b[0;31m                     \u001b[0mretval_\u001b[0m \u001b[0;34m=\u001b[0m \u001b[0mag__\u001b[0m\u001b[0;34m.\u001b[0m\u001b[0mconverted_call\u001b[0m\u001b[0;34m(\u001b[0m\u001b[0mag__\u001b[0m\u001b[0;34m.\u001b[0m\u001b[0mld\u001b[0m\u001b[0;34m(\u001b[0m\u001b[0mstep_function\u001b[0m\u001b[0;34m)\u001b[0m\u001b[0;34m,\u001b[0m \u001b[0;34m(\u001b[0m\u001b[0mag__\u001b[0m\u001b[0;34m.\u001b[0m\u001b[0mld\u001b[0m\u001b[0;34m(\u001b[0m\u001b[0mself\u001b[0m\u001b[0;34m)\u001b[0m\u001b[0;34m,\u001b[0m \u001b[0mag__\u001b[0m\u001b[0;34m.\u001b[0m\u001b[0mld\u001b[0m\u001b[0;34m(\u001b[0m\u001b[0miterator\u001b[0m\u001b[0;34m)\u001b[0m\u001b[0;34m)\u001b[0m\u001b[0;34m,\u001b[0m \u001b[0;32mNone\u001b[0m\u001b[0;34m,\u001b[0m \u001b[0mfscope\u001b[0m\u001b[0;34m)\u001b[0m\u001b[0;34m\u001b[0m\u001b[0;34m\u001b[0m\u001b[0m\n\u001b[0m\u001b[1;32m     16\u001b[0m                 \u001b[0;32mexcept\u001b[0m\u001b[0;34m:\u001b[0m\u001b[0;34m\u001b[0m\u001b[0;34m\u001b[0m\u001b[0m\n\u001b[1;32m     17\u001b[0m                     \u001b[0mdo_return\u001b[0m \u001b[0;34m=\u001b[0m \u001b[0;32mFalse\u001b[0m\u001b[0;34m\u001b[0m\u001b[0;34m\u001b[0m\u001b[0m\n",
            "\u001b[0;31mValueError\u001b[0m: in user code:\n\n    File \"/usr/local/lib/python3.8/dist-packages/keras/engine/training.py\", line 2137, in predict_function  *\n        return step_function(self, iterator)\n    File \"/usr/local/lib/python3.8/dist-packages/keras/engine/training.py\", line 2123, in step_function  **\n        outputs = model.distribute_strategy.run(run_step, args=(data,))\n    File \"/usr/local/lib/python3.8/dist-packages/keras/engine/training.py\", line 2111, in run_step  **\n        outputs = model.predict_step(data)\n    File \"/usr/local/lib/python3.8/dist-packages/keras/engine/training.py\", line 2079, in predict_step\n        return self(x, training=False)\n    File \"/usr/local/lib/python3.8/dist-packages/keras/utils/traceback_utils.py\", line 70, in error_handler\n        raise e.with_traceback(filtered_tb) from None\n    File \"/usr/local/lib/python3.8/dist-packages/keras/engine/input_spec.py\", line 295, in assert_input_compatibility\n        raise ValueError(\n\n    ValueError: Input 0 of layer \"sequential\" is incompatible with the layer: expected shape=(None, 4, 3), found shape=(None, 3)\n"
          ]
        }
      ]
    },
    {
      "cell_type": "code",
      "source": [
        "model.predict(X[0].reshape(1,4,3))"
      ],
      "metadata": {
        "colab": {
          "base_uri": "https://localhost:8080/"
        },
        "id": "VJyphyxb_Qk3",
        "outputId": "5443ccd1-0854-44ba-809c-2d1641730bb0"
      },
      "execution_count": null,
      "outputs": [
        {
          "output_type": "stream",
          "name": "stdout",
          "text": [
            "1/1 [==============================] - 2s 2s/step\n"
          ]
        },
        {
          "output_type": "execute_result",
          "data": {
            "text/plain": [
              "array([[[ 0.17884867,  0.19441518, -0.2632545 ],\n",
              "        [ 0.2609215 ,  0.34572875, -0.6045428 ],\n",
              "        [ 0.30329457,  0.44756505, -0.8071001 ],\n",
              "        [ 0.33939585,  0.49960065, -0.84602296]]], dtype=float32)"
            ]
          },
          "metadata": {},
          "execution_count": 52
        }
      ]
    },
    {
      "cell_type": "markdown",
      "source": [
        "¿Qué será el vector latente?"
      ],
      "metadata": {
        "id": "1BlsykB-BDTB"
      }
    },
    {
      "cell_type": "code",
      "metadata": {
        "id": "x8kyJZD-9FgH",
        "outputId": "375a4779-3f48-498b-8c1a-0e7b969a3031",
        "colab": {
          "base_uri": "https://localhost:8080/"
        }
      },
      "source": [
        "yy_pred = model.predict(XX)"
      ],
      "execution_count": null,
      "outputs": [
        {
          "output_type": "stream",
          "name": "stdout",
          "text": [
            "20/20 [==============================] - 0s 7ms/step\n"
          ]
        }
      ]
    },
    {
      "cell_type": "code",
      "source": [
        "yy_pred"
      ],
      "metadata": {
        "colab": {
          "base_uri": "https://localhost:8080/"
        },
        "id": "hKdMiVcVdVxw",
        "outputId": "dd6b2756-975d-4d3c-b4c6-7d40ceddc7d3"
      },
      "execution_count": null,
      "outputs": [
        {
          "output_type": "execute_result",
          "data": {
            "text/plain": [
              "array([[[ 1.6467576 ,  1.9652843 , -0.42739943],\n",
              "        [ 1.642978  ,  2.11522   , -0.44502977],\n",
              "        [ 1.6150535 ,  2.120045  , -0.41985565],\n",
              "        [ 1.6054182 ,  2.1540885 , -0.4276473 ]],\n",
              "\n",
              "       [[-0.81769174, -0.84936213, -0.18598127],\n",
              "        [-0.7844393 , -0.8770543 , -0.28234878],\n",
              "        [-0.7669433 , -0.8472292 , -0.2674515 ],\n",
              "        [-0.79371274, -0.8676545 , -0.21947038]],\n",
              "\n",
              "       [[-0.83588284, -0.8430892 ,  0.19418824],\n",
              "        [-0.81099254, -0.8642276 ,  0.29026663],\n",
              "        [-0.7910787 , -0.83419704,  0.2529068 ],\n",
              "        [-0.81113243, -0.86169964,  0.19616732]],\n",
              "\n",
              "       ...,\n",
              "\n",
              "       [[ 1.8122942 ,  2.1438382 , -0.21541792],\n",
              "        [ 1.8281615 ,  2.339894  , -0.28684044],\n",
              "        [ 1.8623427 ,  2.419753  , -0.2947302 ],\n",
              "        [ 1.884814  ,  2.480716  , -0.30761743]],\n",
              "\n",
              "       [[ 0.30514872,  0.14437902, -1.4824777 ],\n",
              "        [ 0.23871689, -0.03175242, -1.9970927 ],\n",
              "        [ 0.13705768,  0.00699443, -1.9144192 ],\n",
              "        [ 0.06823657,  0.10723817, -1.7319407 ]],\n",
              "\n",
              "       [[-0.73112625, -0.7671297 , -0.3812959 ],\n",
              "        [-0.7384915 , -0.8179857 , -0.5622905 ],\n",
              "        [-0.7401555 , -0.8079427 , -0.5205996 ],\n",
              "        [-0.7727378 , -0.83388346, -0.42765322]]], dtype=float32)"
            ]
          },
          "metadata": {},
          "execution_count": 54
        }
      ]
    },
    {
      "cell_type": "code",
      "source": [
        "yy_pred.shape"
      ],
      "metadata": {
        "colab": {
          "base_uri": "https://localhost:8080/"
        },
        "id": "Mg9jix7prjOa",
        "outputId": "01d2d562-f9c1-418d-8443-37ba25c09e32"
      },
      "execution_count": null,
      "outputs": [
        {
          "output_type": "execute_result",
          "data": {
            "text/plain": [
              "(629, 4, 3)"
            ]
          },
          "metadata": {},
          "execution_count": 55
        }
      ]
    },
    {
      "cell_type": "code",
      "source": [
        "vacia = np.array([])"
      ],
      "metadata": {
        "id": "kYsTAyfPy5oU"
      },
      "execution_count": null,
      "outputs": []
    },
    {
      "cell_type": "code",
      "source": [
        "for i in range(len(XX)):\n",
        "  vacia = np.append(vacia, mean_absolute_error(XX[i,:,:], yy_pred[i,:,:]))"
      ],
      "metadata": {
        "id": "BfATX-R1rbuA"
      },
      "execution_count": null,
      "outputs": []
    },
    {
      "cell_type": "code",
      "source": [
        "vacia.shape"
      ],
      "metadata": {
        "colab": {
          "base_uri": "https://localhost:8080/"
        },
        "id": "MEaUBBZMInBI",
        "outputId": "86c720c3-4adb-4800-eb06-9fc172b56328"
      },
      "execution_count": null,
      "outputs": [
        {
          "output_type": "execute_result",
          "data": {
            "text/plain": [
              "(629,)"
            ]
          },
          "metadata": {},
          "execution_count": 58
        }
      ]
    },
    {
      "cell_type": "code",
      "source": [
        "vacia"
      ],
      "metadata": {
        "colab": {
          "base_uri": "https://localhost:8080/"
        },
        "id": "j5gUBzOWdhpj",
        "outputId": "fa47b247-5c56-4005-d252-23d97bc53efb"
      },
      "execution_count": null,
      "outputs": [
        {
          "output_type": "execute_result",
          "data": {
            "text/plain": [
              "array([0.21325193, 0.07382192, 0.04075055, 0.06782565, 0.03483709,\n",
              "       0.11204599, 0.02980987, 0.02938599, 0.04067902, 0.09037443,\n",
              "       0.08539086, 0.03951773, 0.04688586, 0.08823363, 0.04633526,\n",
              "       0.14015171, 0.10997775, 0.03308921, 0.04535009, 0.1750991 ,\n",
              "       0.03363477, 0.04282655, 0.16149722, 0.02228778, 0.22157384,\n",
              "       0.12759913, 0.08527927, 0.06339926, 0.05802941, 0.11894015,\n",
              "       0.06838645, 0.09036458, 0.26397436, 0.05878498, 0.04496668,\n",
              "       0.0615784 , 0.05048256, 0.02842075, 0.04878497, 0.01930008,\n",
              "       0.04425259, 0.08329671, 0.04074449, 0.05575454, 0.06136532,\n",
              "       0.04814472, 0.11074409, 0.0581563 , 0.05468766, 0.05661324,\n",
              "       0.05362122, 0.03507233, 0.05250223, 0.11473022, 0.0605121 ,\n",
              "       0.1268451 , 0.17282996, 0.05970241, 0.25786316, 0.06319884,\n",
              "       0.03048152, 0.05189898, 0.12468386, 0.03252978, 0.13307074,\n",
              "       0.13338493, 0.05274081, 0.05758452, 0.0624647 , 0.03182741,\n",
              "       0.04591031, 0.10628579, 0.0677475 , 0.06430219, 0.03927596,\n",
              "       0.02139415, 0.11770125, 0.03259225, 0.13378357, 0.05832774,\n",
              "       0.04486198, 0.10199181, 0.04187942, 0.0205954 , 0.05989358,\n",
              "       0.16847126, 0.16466162, 0.05500376, 0.05805764, 0.11747796,\n",
              "       0.16883845, 0.02842352, 0.24986482, 0.03660093, 0.15281437,\n",
              "       0.02927732, 0.17660885, 0.04713323, 0.10919185, 0.03393965,\n",
              "       0.06354483, 0.10882081, 0.0362095 , 0.01331878, 0.12601616,\n",
              "       0.24261723, 0.08317899, 0.13629418, 0.0378185 , 0.07530948,\n",
              "       0.15050258, 0.03279724, 0.08008945, 0.07400982, 0.09032814,\n",
              "       0.04580679, 0.03564095, 0.03781193, 0.02536314, 0.06176041,\n",
              "       0.04784347, 0.03742584, 0.03185515, 0.04933159, 0.16982141,\n",
              "       0.01692532, 0.09039544, 0.07347088, 0.03581631, 0.05857656,\n",
              "       0.17184052, 0.03656896, 0.05421101, 0.03535617, 0.18364176,\n",
              "       0.03331629, 0.05658874, 0.09643475, 0.10477233, 0.02776854,\n",
              "       0.04973871, 0.26932272, 0.08371573, 0.29040873, 0.064598  ,\n",
              "       0.04883144, 0.09173524, 0.09259383, 0.0850282 , 0.21878014,\n",
              "       0.03639837, 0.05070716, 0.13920228, 0.05248173, 0.04665552,\n",
              "       0.04339204, 0.15597368, 0.07097381, 0.03171537, 0.02465365,\n",
              "       0.03307873, 0.04799045, 0.03054591, 0.02475289, 0.06702128,\n",
              "       0.06056132, 0.0955202 , 0.06692989, 0.08083903, 0.04376173,\n",
              "       0.05251257, 0.07018485, 0.11362336, 0.02272021, 0.08348054,\n",
              "       0.04343843, 0.15944074, 0.07005164, 0.15019871, 0.07600037,\n",
              "       0.02715522, 0.05950837, 0.08067804, 0.0530717 , 0.12919706,\n",
              "       0.192536  , 0.04179869, 0.04848004, 0.03558341, 0.04242694,\n",
              "       0.06031753, 0.02951114, 0.05031522, 0.05131595, 0.06677404,\n",
              "       0.16007663, 0.1555268 , 0.11071319, 0.10439823, 0.01871738,\n",
              "       0.05015025, 0.08862984, 0.0868848 , 0.02585117, 0.02415867,\n",
              "       0.03935799, 0.27510394, 0.06647324, 0.02730951, 0.04729314,\n",
              "       0.16915563, 0.09703834, 0.07771501, 0.06467352, 0.10295   ,\n",
              "       0.03391594, 0.02145479, 0.03654183, 0.05759291, 0.02265973,\n",
              "       0.10648812, 0.01734985, 0.04642864, 0.12173801, 0.02553835,\n",
              "       0.03929312, 0.03746782, 0.16470689, 0.05073207, 0.03106201,\n",
              "       0.05129541, 0.03178118, 0.03972418, 0.04902327, 0.05262954,\n",
              "       0.05122505, 0.15257799, 0.08502074, 0.04900126, 0.02825424,\n",
              "       0.03488649, 0.04214057, 0.06322953, 0.08648705, 0.08502165,\n",
              "       0.04381058, 0.11953438, 0.12249657, 0.10196545, 0.04059536,\n",
              "       0.04224093, 0.0446258 , 0.04006367, 0.03542808, 0.04720696,\n",
              "       0.12562756, 0.11851179, 0.03306002, 0.14685002, 0.09833134,\n",
              "       0.21026857, 0.05290693, 0.03259499, 0.03739018, 0.13260426,\n",
              "       0.04392734, 0.08202508, 0.08004606, 0.05416112, 0.0351153 ,\n",
              "       0.04305471, 0.07664507, 0.04201965, 0.04223773, 0.10430659,\n",
              "       0.1477886 , 0.03198851, 0.08834034, 0.04690418, 0.03431375,\n",
              "       0.07983854, 0.08099902, 0.02971357, 0.04336626, 0.06259965,\n",
              "       0.12104537, 0.02047775, 0.08091549, 0.01927579, 0.03574795,\n",
              "       0.11717899, 0.06609849, 0.02975136, 0.13454767, 0.05000979,\n",
              "       0.03856736, 0.03893352, 0.10761782, 0.05797384, 0.0749347 ,\n",
              "       0.03076079, 0.05513653, 0.034053  , 0.04391294, 0.04449398,\n",
              "       0.06205221, 0.09861556, 0.05093858, 0.10080682, 0.03943628,\n",
              "       0.06256731, 0.02738444, 0.05377872, 0.02730788, 0.11996815,\n",
              "       0.04703486, 0.10916807, 0.03756048, 0.09140105, 0.08609663,\n",
              "       0.04721727, 0.02673476, 0.24807241, 0.0713172 , 0.23238145,\n",
              "       0.04443622, 0.06911535, 0.18917109, 0.11607808, 0.06526105,\n",
              "       0.10742933, 0.02677461, 0.087202  , 0.02718493, 0.04765436,\n",
              "       0.04715752, 0.04395184, 0.08098753, 0.30880108, 0.15323337,\n",
              "       0.19162853, 0.04757789, 0.04015675, 0.03249215, 0.17772838,\n",
              "       0.06075791, 0.04186789, 0.04306555, 0.07544776, 0.0769281 ,\n",
              "       0.02386875, 0.0661294 , 0.03463042, 0.04569947, 0.06467348,\n",
              "       0.04542932, 0.05137012, 0.04925324, 0.15681189, 0.03697354,\n",
              "       0.06332178, 0.02187814, 0.02761881, 0.03577604, 0.07007529,\n",
              "       0.05635015, 0.10243215, 0.0315036 , 0.08432099, 0.02653532,\n",
              "       0.12877464, 0.0536709 , 0.05805892, 0.03312708, 0.02766476,\n",
              "       0.04375745, 0.03457868, 0.02615616, 0.1180753 , 0.08699573,\n",
              "       0.21346471, 0.08580857, 0.01439022, 0.1913902 , 0.03709551,\n",
              "       0.03400553, 0.09978827, 0.06469498, 0.04967634, 0.01762062,\n",
              "       0.08230158, 0.05344115, 0.01622887, 0.10439254, 0.04862065,\n",
              "       0.06194887, 0.06990746, 0.05432894, 0.1736508 , 0.03276868,\n",
              "       0.16678989, 0.08929403, 0.04795243, 0.17039524, 0.02317314,\n",
              "       0.05068719, 0.02994095, 0.19911301, 0.0592369 , 0.04200596,\n",
              "       0.19458118, 0.09511976, 0.03954502, 0.02931317, 0.03146988,\n",
              "       0.05907358, 0.04072149, 0.0283478 , 0.04274364, 0.11184744,\n",
              "       0.04841983, 0.20641053, 0.037556  , 0.02325982, 0.02626819,\n",
              "       0.17549637, 0.11553628, 0.03931864, 0.0423108 , 0.03750293,\n",
              "       0.02165653, 0.02768936, 0.01806604, 0.03012662, 0.16361582,\n",
              "       0.05060787, 0.10667432, 0.06918111, 0.01699587, 0.24275605,\n",
              "       0.03826424, 0.16915673, 0.15538976, 0.17858058, 0.07029928,\n",
              "       0.08612472, 0.0683331 , 0.04904953, 0.21678324, 0.05501085,\n",
              "       0.03158384, 0.03255472, 0.01557516, 0.08593704, 0.0312631 ,\n",
              "       0.01590866, 0.04170114, 0.04448038, 0.15646636, 0.03687836,\n",
              "       0.03739919, 0.04831324, 0.04344404, 0.09512974, 0.05903504,\n",
              "       0.18616593, 0.08190227, 0.04575538, 0.04187141, 0.04198497,\n",
              "       0.22245728, 0.05241844, 0.02830403, 0.12443703, 0.110295  ,\n",
              "       0.1741148 , 0.09606125, 0.07386448, 0.1516592 , 0.08603795,\n",
              "       0.03759039, 0.17265186, 0.03554426, 0.04411695, 0.1063444 ,\n",
              "       0.04007494, 0.04082404, 0.04605958, 0.03857109, 0.07039586,\n",
              "       0.02703551, 0.15888277, 0.03933728, 0.03637874, 0.04753276,\n",
              "       0.07774809, 0.08510515, 0.06906399, 0.03578167, 0.07900856,\n",
              "       0.07114488, 0.05297722, 0.02185603, 0.03087773, 0.0548952 ,\n",
              "       0.03407447, 0.05995774, 0.04568255, 0.04791765, 0.04700624,\n",
              "       0.10602588, 0.07040574, 0.18829467, 0.03759107, 0.08397526,\n",
              "       0.10294967, 0.06968899, 0.19503082, 0.02107025, 0.06901966,\n",
              "       0.02924213, 0.08484311, 0.08472898, 0.05950454, 0.1323265 ,\n",
              "       0.03578083, 0.19287851, 0.02146144, 0.05142779, 0.11886138,\n",
              "       0.15939557, 0.07296666, 0.06025598, 0.04319829, 0.12229483,\n",
              "       0.10100184, 0.03773483, 0.03237383, 0.062601  , 0.03712513,\n",
              "       0.09106302, 0.04950552, 0.0738099 , 0.14214097, 0.04832849,\n",
              "       0.04253444, 0.0509994 , 0.17396299, 0.07908825, 0.07297065,\n",
              "       0.05140205, 0.06903051, 0.08288552, 0.08868471, 0.03735599,\n",
              "       0.03318624, 0.04361461, 0.05208892, 0.05028153, 0.03989358,\n",
              "       0.04697754, 0.0290988 , 0.03827089, 0.18071223, 0.01938805,\n",
              "       0.11427286, 0.05014937, 0.03112089, 0.21135506, 0.01556826,\n",
              "       0.06961575, 0.03312838, 0.05854143, 0.03142403, 0.06578791,\n",
              "       0.09929636, 0.05210856, 0.15240839, 0.05472372, 0.01980939,\n",
              "       0.14914783, 0.09132185, 0.03785839, 0.10495283, 0.0334194 ,\n",
              "       0.04145214, 0.03106943, 0.06712057, 0.14862706, 0.03850767,\n",
              "       0.10812799, 0.01871939, 0.04820385, 0.09987805, 0.12325451,\n",
              "       0.02813871, 0.11132337, 0.0348656 , 0.05994256, 0.09723622,\n",
              "       0.05351247, 0.04818024, 0.02488796, 0.07619188, 0.13990259,\n",
              "       0.01899842, 0.0552715 , 0.0242488 , 0.10204586, 0.03511274,\n",
              "       0.09410052, 0.03655468, 0.08818573, 0.07078763, 0.04849067,\n",
              "       0.12907675, 0.16249111, 0.06134068, 0.06593155, 0.03333211,\n",
              "       0.05371005, 0.07415271, 0.08713073, 0.03518155, 0.1098969 ,\n",
              "       0.07670511, 0.13958553, 0.11287477, 0.04246291])"
            ]
          },
          "metadata": {},
          "execution_count": 59
        }
      ]
    },
    {
      "cell_type": "code",
      "source": [
        "pd.Series(vacia).hist(bins=30)"
      ],
      "metadata": {
        "colab": {
          "base_uri": "https://localhost:8080/",
          "height": 282
        },
        "id": "rGcJbvxZy-G9",
        "outputId": "10fe2174-6daa-4844-90ed-c53a05d12d7a"
      },
      "execution_count": null,
      "outputs": [
        {
          "output_type": "execute_result",
          "data": {
            "text/plain": [
              "<matplotlib.axes._subplots.AxesSubplot at 0x7f643bac2a90>"
            ]
          },
          "metadata": {},
          "execution_count": 60
        },
        {
          "output_type": "display_data",
          "data": {
            "text/plain": [
              "<Figure size 432x288 with 1 Axes>"
            ],
            "image/png": "[encoded data removed]"
          },
          "metadata": {
            "needs_background": "light"
          }
        }
      ]
    },
    {
      "cell_type": "code",
      "source": [
        "aux = pd.Series(vacia)"
      ],
      "metadata": {
        "id": "RNnP8Gf6HBrH"
      },
      "execution_count": null,
      "outputs": []
    },
    {
      "cell_type": "code",
      "source": [
        "aux.describe()"
      ],
      "metadata": {
        "colab": {
          "base_uri": "https://localhost:8080/"
        },
        "id": "vzX_Md0Jh8ik",
        "outputId": "910c0277-b72f-4158-a0dc-4cf85548853d"
      },
      "execution_count": null,
      "outputs": [
        {
          "output_type": "execute_result",
          "data": {
            "text/plain": [
              "count    629.000000\n",
              "mean       0.074708\n",
              "std        0.051848\n",
              "min        0.013319\n",
              "25%        0.037858\n",
              "50%        0.055137\n",
              "75%        0.095520\n",
              "max        0.308801\n",
              "dtype: float64"
            ]
          },
          "metadata": {},
          "execution_count": 62
        }
      ]
    },
    {
      "cell_type": "markdown",
      "source": [
        "## ¿Que utilidad tienen los cuantiles?\n",
        "¿Podemos utilizarlos o no deberiamos?"
      ],
      "metadata": {
        "id": "Ah1Z9TXEkT3h"
      }
    },
    {
      "cell_type": "code",
      "source": [
        "aux.quantile(.99)"
      ],
      "metadata": {
        "colab": {
          "base_uri": "https://localhost:8080/"
        },
        "id": "WdqPwkt9il2U",
        "outputId": "423dd37b-2bbe-41ce-f97f-2ed080f966d0"
      },
      "execution_count": null,
      "outputs": [
        {
          "output_type": "execute_result",
          "data": {
            "text/plain": [
              "0.24936294689902158"
            ]
          },
          "metadata": {},
          "execution_count": 90
        }
      ]
    },
    {
      "cell_type": "code",
      "source": [
        "pd.Series(vacia).hist(bins=30)\n",
        "plt.axvline(aux.quantile(.95), color='k', linestyle='dashed', linewidth=1)"
      ],
      "metadata": {
        "colab": {
          "base_uri": "https://localhost:8080/",
          "height": 282
        },
        "id": "tkOqGma1swFE",
        "outputId": "f79368e7-0e0c-4f8b-8e11-2422ab85a48a"
      },
      "execution_count": null,
      "outputs": [
        {
          "output_type": "execute_result",
          "data": {
            "text/plain": [
              "<matplotlib.lines.Line2D at 0x7f643ba58280>"
            ]
          },
          "metadata": {},
          "execution_count": 64
        },
        {
          "output_type": "display_data",
          "data": {
            "text/plain": [
              "<Figure size 432x288 with 1 Axes>"
            ],
            "image/png": "[encoded data removed]"
          },
          "metadata": {
            "needs_background": "light"
          }
        }
      ]
    },
    {
      "cell_type": "markdown",
      "source": [
        "# Anomalías\n",
        "\n",
        "Recordemos como se ven nuestros datos"
      ],
      "metadata": {
        "id": "0YSZrpPysAjb"
      }
    },
    {
      "cell_type": "code",
      "source": [
        "es.plot()"
      ],
      "metadata": {
        "colab": {
          "base_uri": "https://localhost:8080/",
          "height": 286
        },
        "id": "-o4PhMqqCBQr",
        "outputId": "96345a48-8321-4c33-9de7-ff87c00b1079"
      },
      "execution_count": null,
      "outputs": [
        {
          "output_type": "execute_result",
          "data": {
            "text/plain": [
              "<matplotlib.axes._subplots.AxesSubplot at 0x7f643b99b100>"
            ]
          },
          "metadata": {},
          "execution_count": 65
        },
        {
          "output_type": "display_data",
          "data": {
            "text/plain": [
              "<Figure size 432x288 with 1 Axes>"
            ],
            "image/png": "[encoded data removed]"
          },
          "metadata": {
            "needs_background": "light"
          }
        }
      ]
    },
    {
      "cell_type": "code",
      "source": [
        "treshold = aux.quantile(.95)\n",
        "treshold"
      ],
      "metadata": {
        "colab": {
          "base_uri": "https://localhost:8080/"
        },
        "id": "F50ehUulEEjI",
        "outputId": "6ad00087-798b-4dd4-b66c-7a75a6caea27"
      },
      "execution_count": null,
      "outputs": [
        {
          "output_type": "execute_result",
          "data": {
            "text/plain": [
              "0.17985956985770712"
            ]
          },
          "metadata": {},
          "execution_count": 66
        }
      ]
    },
    {
      "cell_type": "code",
      "source": [
        "aux[aux > treshold][:5]"
      ],
      "metadata": {
        "colab": {
          "base_uri": "https://localhost:8080/"
        },
        "id": "FgJLPlrHkbyD",
        "outputId": "e8bc0b69-baba-47f2-ac82-f57a20200422"
      },
      "execution_count": null,
      "outputs": [
        {
          "output_type": "execute_result",
          "data": {
            "text/plain": [
              "0     0.213252\n",
              "24    0.221574\n",
              "32    0.263974\n",
              "58    0.257863\n",
              "92    0.249865\n",
              "dtype: float64"
            ]
          },
          "metadata": {},
          "execution_count": 69
        }
      ]
    },
    {
      "cell_type": "markdown",
      "source": [
        "## Vistazo a las anomalías\n",
        "Vamos a revisar los índices donde se encuentran las anomalías"
      ],
      "metadata": {
        "id": "NUOls0rDs7w9"
      }
    },
    {
      "cell_type": "code",
      "source": [
        "fechas_aux = DatesTe[[0, 24, 32, 58, 92, 338]]\n",
        "fechas_aux"
      ],
      "metadata": {
        "colab": {
          "base_uri": "https://localhost:8080/"
        },
        "id": "gp26HTxZkiVK",
        "outputId": "0211aab2-a15e-42e1-f801-652e7461bab1"
      },
      "execution_count": null,
      "outputs": [
        {
          "output_type": "execute_result",
          "data": {
            "text/plain": [
              "array([['2021-06-24T00:00:00.000000000', '2021-06-25T00:00:00.000000000',\n",
              "        '2021-06-28T00:00:00.000000000', '2021-06-29T00:00:00.000000000'],\n",
              "       ['2022-06-13T00:00:00.000000000', '2022-06-14T00:00:00.000000000',\n",
              "        '2022-06-15T00:00:00.000000000', '2022-06-16T00:00:00.000000000'],\n",
              "       ['2023-02-08T00:00:00.000000000', '2023-02-09T00:00:00.000000000',\n",
              "        '2023-02-10T00:00:00.000000000', '2023-02-13T00:00:00.000000000'],\n",
              "       ['2023-02-01T00:00:00.000000000', '2023-02-02T00:00:00.000000000',\n",
              "        '2023-02-03T00:00:00.000000000', '2023-02-06T00:00:00.000000000'],\n",
              "       ['2020-03-18T00:00:00.000000000', '2020-03-19T00:00:00.000000000',\n",
              "        '2020-03-20T00:00:00.000000000', '2020-03-23T00:00:00.000000000'],\n",
              "       ['2022-09-27T00:00:00.000000000', '2022-09-28T00:00:00.000000000',\n",
              "        '2022-09-29T00:00:00.000000000', '2022-09-30T00:00:00.000000000']],\n",
              "      dtype='datetime64[ns]')"
            ]
          },
          "metadata": {},
          "execution_count": 70
        }
      ]
    },
    {
      "cell_type": "markdown",
      "source": [
        "Una ventana de tiempo alrededor de la anomalía"
      ],
      "metadata": {
        "id": "ynRTW5SgFdc5"
      }
    },
    {
      "cell_type": "code",
      "source": [
        "es.loc[fechas_aux[4]]"
      ],
      "metadata": {
        "colab": {
          "base_uri": "https://localhost:8080/",
          "height": 206
        },
        "id": "NvdYDuAakvT-",
        "outputId": "edf051c6-dfc8-420f-8601-fede08283f64"
      },
      "execution_count": null,
      "outputs": [
        {
          "output_type": "execute_result",
          "data": {
            "text/plain": [
              "                 AAPL       GOOG        XOM\n",
              "Date                                       \n",
              "2020-03-18  60.465324  54.840000  27.975086\n",
              "2020-03-19  60.002029  55.764500  29.081581\n",
              "2020-03-20  56.192772  53.616001  27.654116\n",
              "2020-03-23  54.999001  52.831001  26.564503"
            ],
            "text/html": [
              "\n",
              "  <div id=\"df-61a7152b-2f5a-43b7-b602-b50eff46ab41\">\n",
              "    <div class=\"colab-df-container\">\n",
              "      <div>\n",
              "<style scoped>\n",
              "    .dataframe tbody tr th:only-of-type {\n",
              "        vertical-align: middle;\n",
              "    }\n",
              "\n",
              "    .dataframe tbody tr th {\n",
              "        vertical-align: top;\n",
              "    }\n",
              "\n",
              "    .dataframe thead th {\n",
              "        text-align: right;\n",
              "    }\n",
              "</style>\n",
              "<table border=\"1\" class=\"dataframe\">\n",
              "  <thead>\n",
              "    <tr style=\"text-align: right;\">\n",
              "      <th></th>\n",
              "      <th>AAPL</th>\n",
              "      <th>GOOG</th>\n",
              "      <th>XOM</th>\n",
              "    </tr>\n",
              "    <tr>\n",
              "      <th>Date</th>\n",
              "      <th></th>\n",
              "      <th></th>\n",
              "      <th></th>\n",
              "    </tr>\n",
              "  </thead>\n",
              "  <tbody>\n",
              "    <tr>\n",
              "      <th>2020-03-18</th>\n",
              "      <td>60.465324</td>\n",
              "      <td>54.840000</td>\n",
              "      <td>27.975086</td>\n",
              "    </tr>\n",
              "    <tr>\n",
              "      <th>2020-03-19</th>\n",
              "      <td>60.002029</td>\n",
              "      <td>55.764500</td>\n",
              "      <td>29.081581</td>\n",
              "    </tr>\n",
              "    <tr>\n",
              "      <th>2020-03-20</th>\n",
              "      <td>56.192772</td>\n",
              "      <td>53.616001</td>\n",
              "      <td>27.654116</td>\n",
              "    </tr>\n",
              "    <tr>\n",
              "      <th>2020-03-23</th>\n",
              "      <td>54.999001</td>\n",
              "      <td>52.831001</td>\n",
              "      <td>26.564503</td>\n",
              "    </tr>\n",
              "  </tbody>\n",
              "</table>\n",
              "</div>\n",
              "      <button class=\"colab-df-convert\" onclick=\"convertToInteractive('df-61a7152b-2f5a-43b7-b602-b50eff46ab41')\"\n",
              "              title=\"Convert this dataframe to an interactive table.\"\n",
              "              style=\"display:none;\">\n",
              "        \n",
              "  <svg xmlns=\"http://www.w3.org/2000/svg\" height=\"24px\"viewBox=\"0 0 24 24\"\n",
              "       width=\"24px\">\n",
              "    <path d=\"M0 0h24v24H0V0z\" fill=\"none\"/>\n",
              "    <path d=\"M18.56 5.44l.94 2.06.94-2.06 2.06-.94-2.06-.94-.94-2.06-.94 2.06-2.06.94zm-11 1L8.5 8.5l.94-2.06 2.06-.94-2.06-.94L8.5 2.5l-.94 2.06-2.06.94zm10 10l.94 2.06.94-2.06 2.06-.94-2.06-.94-.94-2.06-.94 2.06-2.06.94z\"/><path d=\"M17.41 7.96l-1.37-1.37c-.4-.4-.92-.59-1.43-.59-.52 0-1.04.2-1.43.59L10.3 9.45l-7.72 7.72c-.78.78-.78 2.05 0 2.83L4 21.41c.39.39.9.59 1.41.59.51 0 1.02-.2 1.41-.59l7.78-7.78 2.81-2.81c.8-.78.8-2.07 0-2.86zM5.41 20L4 18.59l7.72-7.72 1.47 1.35L5.41 20z\"/>\n",
              "  </svg>\n",
              "      </button>\n",
              "      \n",
              "  <style>\n",
              "    .colab-df-container {\n",
              "      display:flex;\n",
              "      flex-wrap:wrap;\n",
              "      gap: 12px;\n",
              "    }\n",
              "\n",
              "    .colab-df-convert {\n",
              "      background-color: #E8F0FE;\n",
              "      border: none;\n",
              "      border-radius: 50%;\n",
              "      cursor: pointer;\n",
              "      display: none;\n",
              "      fill: #1967D2;\n",
              "      height: 32px;\n",
              "      padding: 0 0 0 0;\n",
              "      width: 32px;\n",
              "    }\n",
              "\n",
              "    .colab-df-convert:hover {\n",
              "      background-color: #E2EBFA;\n",
              "      box-shadow: 0px 1px 2px rgba(60, 64, 67, 0.3), 0px 1px 3px 1px rgba(60, 64, 67, 0.15);\n",
              "      fill: #174EA6;\n",
              "    }\n",
              "\n",
              "    [theme=dark] .colab-df-convert {\n",
              "      background-color: #3B4455;\n",
              "      fill: #D2E3FC;\n",
              "    }\n",
              "\n",
              "    [theme=dark] .colab-df-convert:hover {\n",
              "      background-color: #434B5C;\n",
              "      box-shadow: 0px 1px 3px 1px rgba(0, 0, 0, 0.15);\n",
              "      filter: drop-shadow(0px 1px 2px rgba(0, 0, 0, 0.3));\n",
              "      fill: #FFFFFF;\n",
              "    }\n",
              "  </style>\n",
              "\n",
              "      <script>\n",
              "        const buttonEl =\n",
              "          document.querySelector('#df-61a7152b-2f5a-43b7-b602-b50eff46ab41 button.colab-df-convert');\n",
              "        buttonEl.style.display =\n",
              "          google.colab.kernel.accessAllowed ? 'block' : 'none';\n",
              "\n",
              "        async function convertToInteractive(key) {\n",
              "          const element = document.querySelector('#df-61a7152b-2f5a-43b7-b602-b50eff46ab41');\n",
              "          const dataTable =\n",
              "            await google.colab.kernel.invokeFunction('convertToInteractive',\n",
              "                                                     [key], {});\n",
              "          if (!dataTable) return;\n",
              "\n",
              "          const docLinkHtml = 'Like what you see? Visit the ' +\n",
              "            '<a target=\"_blank\" href=https://colab.research.google.com/notebooks/data_table.ipynb>data table notebook</a>'\n",
              "            + ' to learn more about interactive tables.';\n",
              "          element.innerHTML = '';\n",
              "          dataTable['output_type'] = 'display_data';\n",
              "          await google.colab.output.renderOutput(dataTable, element);\n",
              "          const docLink = document.createElement('div');\n",
              "          docLink.innerHTML = docLinkHtml;\n",
              "          element.appendChild(docLink);\n",
              "        }\n",
              "      </script>\n",
              "    </div>\n",
              "  </div>\n",
              "  "
            ]
          },
          "metadata": {},
          "execution_count": 85
        }
      ]
    },
    {
      "cell_type": "code",
      "source": [
        "inicio = fechas_aux[4][0] - pd.Timedelta('40 days')"
      ],
      "metadata": {
        "id": "5Y5T70l4F7Rz"
      },
      "execution_count": null,
      "outputs": []
    },
    {
      "cell_type": "code",
      "source": [
        "fin = fechas_aux[4][3] + pd.Timedelta('40 days')"
      ],
      "metadata": {
        "id": "vbj6R81WF-x1"
      },
      "execution_count": null,
      "outputs": []
    },
    {
      "cell_type": "code",
      "source": [
        "es.loc[inicio: fin].plot()"
      ],
      "metadata": {
        "colab": {
          "base_uri": "https://localhost:8080/",
          "height": 302
        },
        "id": "O5olPXFSk8oU",
        "outputId": "67f7f9d0-f243-4652-fe4c-c6e9083f0a21"
      },
      "execution_count": null,
      "outputs": [
        {
          "output_type": "execute_result",
          "data": {
            "text/plain": [
              "<matplotlib.axes._subplots.AxesSubplot at 0x7f6436232d60>"
            ]
          },
          "metadata": {},
          "execution_count": 88
        },
        {
          "output_type": "display_data",
          "data": {
            "text/plain": [
              "<Figure size 432x288 with 1 Axes>"
            ],
            "image/png": "[encoded data removed]"
          },
          "metadata": {
            "needs_background": "light"
          }
        }
      ]
    },
    {
      "cell_type": "code",
      "source": [
        "es.loc[pd.to_datetime('2022-06-08'): pd.to_datetime('2022-06-18')].plot()"
      ],
      "metadata": {
        "colab": {
          "base_uri": "https://localhost:8080/",
          "height": 322
        },
        "id": "6Gdz8Ve-F3SL",
        "outputId": "1ab436aa-f88e-4bb4-de0d-0c18919c5a12"
      },
      "execution_count": null,
      "outputs": [
        {
          "output_type": "execute_result",
          "data": {
            "text/plain": [
              "<matplotlib.axes._subplots.AxesSubplot at 0x7f643b928dc0>"
            ]
          },
          "metadata": {},
          "execution_count": 75
        },
        {
          "output_type": "display_data",
          "data": {
            "text/plain": [
              "<Figure size 432x288 with 1 Axes>"
            ],
            "image/png": "[encoded data removed]"
          },
          "metadata": {
            "needs_background": "light"
          }
        }
      ]
    },
    {
      "cell_type": "markdown",
      "source": [
        "Otra ventana de tiempo alrededor de una anomalía"
      ],
      "metadata": {
        "id": "IzM2rXqgFaVC"
      }
    },
    {
      "cell_type": "code",
      "source": [
        "es.loc[fechas_aux[4]]"
      ],
      "metadata": {
        "outputId": "ca606eb2-b773-459a-f043-234bc91aebdf",
        "colab": {
          "base_uri": "https://localhost:8080/",
          "height": 206
        },
        "id": "2T8s_ZtnlwgT"
      },
      "execution_count": null,
      "outputs": [
        {
          "output_type": "execute_result",
          "data": {
            "text/plain": [
              "                 AAPL       GOOG        XOM\n",
              "Date                                       \n",
              "2020-03-18  60.465324  54.840000  27.975086\n",
              "2020-03-19  60.002029  55.764500  29.081581\n",
              "2020-03-20  56.192772  53.616001  27.654116\n",
              "2020-03-23  54.999001  52.831001  26.564503"
            ],
            "text/html": [
              "\n",
              "  <div id=\"df-b51e829f-5d76-4dd4-8568-8e9d9f213d87\">\n",
              "    <div class=\"colab-df-container\">\n",
              "      <div>\n",
              "<style scoped>\n",
              "    .dataframe tbody tr th:only-of-type {\n",
              "        vertical-align: middle;\n",
              "    }\n",
              "\n",
              "    .dataframe tbody tr th {\n",
              "        vertical-align: top;\n",
              "    }\n",
              "\n",
              "    .dataframe thead th {\n",
              "        text-align: right;\n",
              "    }\n",
              "</style>\n",
              "<table border=\"1\" class=\"dataframe\">\n",
              "  <thead>\n",
              "    <tr style=\"text-align: right;\">\n",
              "      <th></th>\n",
              "      <th>AAPL</th>\n",
              "      <th>GOOG</th>\n",
              "      <th>XOM</th>\n",
              "    </tr>\n",
              "    <tr>\n",
              "      <th>Date</th>\n",
              "      <th></th>\n",
              "      <th></th>\n",
              "      <th></th>\n",
              "    </tr>\n",
              "  </thead>\n",
              "  <tbody>\n",
              "    <tr>\n",
              "      <th>2020-03-18</th>\n",
              "      <td>60.465324</td>\n",
              "      <td>54.840000</td>\n",
              "      <td>27.975086</td>\n",
              "    </tr>\n",
              "    <tr>\n",
              "      <th>2020-03-19</th>\n",
              "      <td>60.002029</td>\n",
              "      <td>55.764500</td>\n",
              "      <td>29.081581</td>\n",
              "    </tr>\n",
              "    <tr>\n",
              "      <th>2020-03-20</th>\n",
              "      <td>56.192772</td>\n",
              "      <td>53.616001</td>\n",
              "      <td>27.654116</td>\n",
              "    </tr>\n",
              "    <tr>\n",
              "      <th>2020-03-23</th>\n",
              "      <td>54.999001</td>\n",
              "      <td>52.831001</td>\n",
              "      <td>26.564503</td>\n",
              "    </tr>\n",
              "  </tbody>\n",
              "</table>\n",
              "</div>\n",
              "      <button class=\"colab-df-convert\" onclick=\"convertToInteractive('df-b51e829f-5d76-4dd4-8568-8e9d9f213d87')\"\n",
              "              title=\"Convert this dataframe to an interactive table.\"\n",
              "              style=\"display:none;\">\n",
              "        \n",
              "  <svg xmlns=\"http://www.w3.org/2000/svg\" height=\"24px\"viewBox=\"0 0 24 24\"\n",
              "       width=\"24px\">\n",
              "    <path d=\"M0 0h24v24H0V0z\" fill=\"none\"/>\n",
              "    <path d=\"M18.56 5.44l.94 2.06.94-2.06 2.06-.94-2.06-.94-.94-2.06-.94 2.06-2.06.94zm-11 1L8.5 8.5l.94-2.06 2.06-.94-2.06-.94L8.5 2.5l-.94 2.06-2.06.94zm10 10l.94 2.06.94-2.06 2.06-.94-2.06-.94-.94-2.06-.94 2.06-2.06.94z\"/><path d=\"M17.41 7.96l-1.37-1.37c-.4-.4-.92-.59-1.43-.59-.52 0-1.04.2-1.43.59L10.3 9.45l-7.72 7.72c-.78.78-.78 2.05 0 2.83L4 21.41c.39.39.9.59 1.41.59.51 0 1.02-.2 1.41-.59l7.78-7.78 2.81-2.81c.8-.78.8-2.07 0-2.86zM5.41 20L4 18.59l7.72-7.72 1.47 1.35L5.41 20z\"/>\n",
              "  </svg>\n",
              "      </button>\n",
              "      \n",
              "  <style>\n",
              "    .colab-df-container {\n",
              "      display:flex;\n",
              "      flex-wrap:wrap;\n",
              "      gap: 12px;\n",
              "    }\n",
              "\n",
              "    .colab-df-convert {\n",
              "      background-color: #E8F0FE;\n",
              "      border: none;\n",
              "      border-radius: 50%;\n",
              "      cursor: pointer;\n",
              "      display: none;\n",
              "      fill: #1967D2;\n",
              "      height: 32px;\n",
              "      padding: 0 0 0 0;\n",
              "      width: 32px;\n",
              "    }\n",
              "\n",
              "    .colab-df-convert:hover {\n",
              "      background-color: #E2EBFA;\n",
              "      box-shadow: 0px 1px 2px rgba(60, 64, 67, 0.3), 0px 1px 3px 1px rgba(60, 64, 67, 0.15);\n",
              "      fill: #174EA6;\n",
              "    }\n",
              "\n",
              "    [theme=dark] .colab-df-convert {\n",
              "      background-color: #3B4455;\n",
              "      fill: #D2E3FC;\n",
              "    }\n",
              "\n",
              "    [theme=dark] .colab-df-convert:hover {\n",
              "      background-color: #434B5C;\n",
              "      box-shadow: 0px 1px 3px 1px rgba(0, 0, 0, 0.15);\n",
              "      filter: drop-shadow(0px 1px 2px rgba(0, 0, 0, 0.3));\n",
              "      fill: #FFFFFF;\n",
              "    }\n",
              "  </style>\n",
              "\n",
              "      <script>\n",
              "        const buttonEl =\n",
              "          document.querySelector('#df-b51e829f-5d76-4dd4-8568-8e9d9f213d87 button.colab-df-convert');\n",
              "        buttonEl.style.display =\n",
              "          google.colab.kernel.accessAllowed ? 'block' : 'none';\n",
              "\n",
              "        async function convertToInteractive(key) {\n",
              "          const element = document.querySelector('#df-b51e829f-5d76-4dd4-8568-8e9d9f213d87');\n",
              "          const dataTable =\n",
              "            await google.colab.kernel.invokeFunction('convertToInteractive',\n",
              "                                                     [key], {});\n",
              "          if (!dataTable) return;\n",
              "\n",
              "          const docLinkHtml = 'Like what you see? Visit the ' +\n",
              "            '<a target=\"_blank\" href=https://colab.research.google.com/notebooks/data_table.ipynb>data table notebook</a>'\n",
              "            + ' to learn more about interactive tables.';\n",
              "          element.innerHTML = '';\n",
              "          dataTable['output_type'] = 'display_data';\n",
              "          await google.colab.output.renderOutput(dataTable, element);\n",
              "          const docLink = document.createElement('div');\n",
              "          docLink.innerHTML = docLinkHtml;\n",
              "          element.appendChild(docLink);\n",
              "        }\n",
              "      </script>\n",
              "    </div>\n",
              "  </div>\n",
              "  "
            ]
          },
          "metadata": {},
          "execution_count": 83
        }
      ]
    },
    {
      "cell_type": "code",
      "source": [
        "es.loc[pd.to_datetime('2020-03-08'): pd.to_datetime('2020-03-28')].plot()"
      ],
      "metadata": {
        "outputId": "378b95cf-3f8e-4a3f-d59e-790b046040c3",
        "colab": {
          "base_uri": "https://localhost:8080/",
          "height": 320
        },
        "id": "oCQwPTXKlwgU"
      },
      "execution_count": null,
      "outputs": [
        {
          "output_type": "execute_result",
          "data": {
            "text/plain": [
              "<matplotlib.axes._subplots.AxesSubplot at 0x7f643b8d7160>"
            ]
          },
          "metadata": {},
          "execution_count": 84
        },
        {
          "output_type": "display_data",
          "data": {
            "text/plain": [
              "<Figure size 432x288 with 1 Axes>"
            ],
            "image/png": "[encoded data removed]"
          },
          "metadata": {
            "needs_background": "light"
          }
        }
      ]
    }
  ]
}